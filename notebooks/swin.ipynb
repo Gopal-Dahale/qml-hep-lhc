{
 "cells": [
  {
   "cell_type": "code",
   "execution_count": 1,
   "id": "509bd436",
   "metadata": {
    "ExecuteTime": {
     "end_time": "2022-08-27T13:57:37.592506Z",
     "start_time": "2022-08-27T13:57:30.921592Z"
    }
   },
   "outputs": [],
   "source": [
    "%load_ext autoreload\n",
    "%autoreload 2\n",
    "\n",
    "%matplotlib inline\n",
    "\n",
    "from importlib.util import find_spec\n",
    "if find_spec(\"qml_hep_lhc\") is None:\n",
    "    import sys\n",
    "    sys.path.append('..')"
   ]
  },
  {
   "cell_type": "code",
   "execution_count": 31,
   "id": "71fbb76b",
   "metadata": {
    "ExecuteTime": {
     "end_time": "2022-08-27T14:18:25.259220Z",
     "start_time": "2022-08-27T14:18:24.988400Z"
    }
   },
   "outputs": [],
   "source": [
    "from jax_models.jax_models.models.swin_transformer import SwinTransformer\n",
    "from qml_hep_lhc.data import ElectronPhoton, MNIST, QuarkGluon\n",
    "import argparse\n",
    "from jax import random\n",
    "import jax.numpy as jnp\n",
    "import jax\n",
    "from flax.training import train_state\n",
    "import optax\n",
    "from tqdm import tqdm\n",
    "import time\n",
    "import numpy as np\n",
    "import tensorflow_datasets as tfds"
   ]
  },
  {
   "cell_type": "code",
   "execution_count": 42,
   "id": "573fb350",
   "metadata": {
    "ExecuteTime": {
     "end_time": "2022-08-27T14:33:25.707708Z",
     "start_time": "2022-08-27T14:33:24.603113Z"
    }
   },
   "outputs": [],
   "source": [
    "args = argparse.Namespace()\n",
    "\n",
    "# Data\n",
    "args.center_crop = 0.7\n",
    "# args.resize = [8, 8]\n",
    "args.standardize = 1\n",
    "# args.binary_data = [0,1]\n",
    "args.dataset_type = '2'\n",
    "# args.percent_samples = 0.1\n",
    "args.labels_to_categorical = 1\n",
    "args.batch_size = 128\n",
    "args.validation_split = 0.05"
   ]
  },
  {
   "cell_type": "code",
   "execution_count": 43,
   "id": "e1f34ea6",
   "metadata": {
    "ExecuteTime": {
     "end_time": "2022-08-27T14:35:08.996404Z",
     "start_time": "2022-08-27T14:33:26.852312Z"
    }
   },
   "outputs": [
    {
     "name": "stdout",
     "output_type": "stream",
     "text": [
      "Center cropping...\n"
     ]
    },
    {
     "name": "stderr",
     "output_type": "stream",
     "text": [
      "2022-08-27 20:03:34.268499: W tensorflow/core/framework/cpu_allocator_impl.cc:82] Allocation of 409600000 exceeds 10% of free system memory.\n",
      "2022-08-27 20:03:35.176277: W tensorflow/core/framework/cpu_allocator_impl.cc:82] Allocation of 230400000 exceeds 10% of free system memory.\n"
     ]
    },
    {
     "name": "stdout",
     "output_type": "stream",
     "text": [
      "Center cropping...\n",
      "Standardizing data...\n"
     ]
    },
    {
     "name": "stderr",
     "output_type": "stream",
     "text": [
      "2022-08-27 20:03:35.756961: W tensorflow/core/framework/cpu_allocator_impl.cc:82] Allocation of 81920000 exceeds 10% of free system memory.\n"
     ]
    },
    {
     "name": "stdout",
     "output_type": "stream",
     "text": [
      "Converting labels to categorical...\n",
      "Converting labels to categorical...\n"
     ]
    },
    {
     "name": "stderr",
     "output_type": "stream",
     "text": [
      "2022-08-27 20:03:43.260000: W tensorflow/core/framework/cpu_allocator_impl.cc:82] Allocation of 218880000 exceeds 10% of free system memory.\n",
      "2022-08-27 20:03:43.933762: W tensorflow/core/framework/cpu_allocator_impl.cc:82] Allocation of 218880000 exceeds 10% of free system memory.\n"
     ]
    },
    {
     "name": "stdout",
     "output_type": "stream",
     "text": [
      "\n",
      "Dataset :Electron Photon 2\n",
      "╒════════╤════════════════════╤═══════════════════╤════════════════════╤═════════════╕\n",
      "│ Data   │ Train size         │ Val size          │ Test size          │ Dims        │\n",
      "╞════════╪════════════════════╪═══════════════════╪════════════════════╪═════════════╡\n",
      "│ X      │ (95000, 24, 24, 1) │ (5000, 24, 24, 1) │ (20000, 24, 24, 1) │ (24, 24, 1) │\n",
      "├────────┼────────────────────┼───────────────────┼────────────────────┼─────────────┤\n",
      "│ y      │ (95000, 2)         │ (5000, 2)         │ (20000, 2)         │ (2,)        │\n",
      "╘════════╧════════════════════╧═══════════════════╧════════════════════╧═════════════╛\n",
      "\n",
      "╒══════════════╤═══════╤════════╤════════╤═══════╤══════════════════════════╕\n",
      "│ Type         │   Min │    Max │   Mean │   Std │ Samples for each class   │\n",
      "╞══════════════╪═══════╪════════╪════════╪═══════╪══════════════════════════╡\n",
      "│ Train Images │ -2.88 │ 267.37 │      0 │  1    │ [47500, 47500]           │\n",
      "├──────────────┼───────┼────────┼────────┼───────┼──────────────────────────┤\n",
      "│ Val Images   │ -2.88 │ 156.48 │     -0 │  0.97 │ [2500, 2500]             │\n",
      "├──────────────┼───────┼────────┼────────┼───────┼──────────────────────────┤\n",
      "│ Test Images  │ -2.88 │ 234.66 │     -0 │  1.01 │ [10000, 10000]           │\n",
      "╘══════════════╧═══════╧════════╧════════╧═══════╧══════════════════════════╛\n",
      "\n",
      "\n"
     ]
    }
   ],
   "source": [
    "data = ElectronPhoton(args)\n",
    "data.prepare_data()\n",
    "data.setup()\n",
    "print(data)"
   ]
  },
  {
   "cell_type": "code",
   "execution_count": 44,
   "id": "f5609aa7",
   "metadata": {
    "ExecuteTime": {
     "end_time": "2022-08-27T14:35:09.203958Z",
     "start_time": "2022-08-27T14:35:09.012206Z"
    }
   },
   "outputs": [],
   "source": [
    "model = SwinTransformer(\n",
    "    patch_size = 2,\n",
    "    emb_dim = 96,\n",
    "    depths = (2,),\n",
    "    num_heads = (3,),\n",
    "    window_size = 2,\n",
    "    mlp_ratio = 4,\n",
    "    use_att_bias = True,\n",
    "    dropout = 0.0,\n",
    "    att_dropout = 0.0,\n",
    "    drop_path = 0.1,\n",
    "    use_abs_pos_emb = False,\n",
    "    attach_head = True,\n",
    "    num_classes = 2,\n",
    "    deterministic = None\n",
    ")"
   ]
  },
  {
   "cell_type": "code",
   "execution_count": 45,
   "id": "5b6e90a1",
   "metadata": {
    "ExecuteTime": {
     "end_time": "2022-08-27T14:35:09.373409Z",
     "start_time": "2022-08-27T14:35:09.212903Z"
    }
   },
   "outputs": [],
   "source": [
    "rng1, rng2, rng3 = random.split(random.PRNGKey(0), 3)"
   ]
  },
  {
   "cell_type": "code",
   "execution_count": 46,
   "id": "532f68e9",
   "metadata": {
    "ExecuteTime": {
     "end_time": "2022-08-27T14:35:09.620018Z",
     "start_time": "2022-08-27T14:35:09.386355Z"
    }
   },
   "outputs": [],
   "source": [
    "@jax.jit\n",
    "def apply_model(state, images, labels):\n",
    "    \"\"\"Computes gradients, loss and accuracy for a single batch.\"\"\"\n",
    "    def loss_fn(params):\n",
    "        logits = state.apply_fn({'params': params}, \n",
    "                                images, \n",
    "                                False,\n",
    "                                rngs={\"dropout\": rng2, \"drop_path\": rng3},\n",
    "                                mutable=[\"attention_mask\", \"relative_position_index\"]\n",
    "                               )[0]\n",
    "        loss = jnp.mean(optax.softmax_cross_entropy(logits=logits, labels=labels))\n",
    "        return loss, logits\n",
    "\n",
    "    grad_fn = jax.value_and_grad(loss_fn, has_aux=True)\n",
    "    (loss, logits), grads = grad_fn(state.params)\n",
    "    accuracy = jnp.mean(jnp.argmax(logits, -1) == jnp.argmax(labels, -1))\n",
    "    return grads, loss, accuracy\n",
    "\n",
    "@jax.jit\n",
    "def update_model(state, grads):\n",
    "    return state.apply_gradients(grads=grads)\n",
    "\n",
    "def evaluate(state, ds):\n",
    "    losses = []\n",
    "    accs = []\n",
    "    \n",
    "    with tqdm(tfds.as_numpy(ds), unit=\"batch\") as tepoch:\n",
    "        for x, y in tepoch:\n",
    "            tepoch.set_description(\"Evaluation\")\n",
    "            _ , loss, accuracy = apply_model(state, x, y)\n",
    "            losses.append(loss)\n",
    "            accs.append(accuracy)\n",
    "    \n",
    "    eval_loss = np.mean(losses)\n",
    "    eval_accuracy = np.mean(accs)\n",
    "    \n",
    "    return eval_loss, eval_accuracy\n",
    "\n",
    "def train_epoch(state, train_ds, epoch):\n",
    "    epoch_loss = []\n",
    "    epoch_accuracy = []\n",
    "    \n",
    "    start_time = time.time()\n",
    "    with tqdm(tfds.as_numpy(train_ds), unit=\"batch\") as tepoch:\n",
    "        for x, y in tepoch:\n",
    "            tepoch.set_description(f\"Epoch {epoch}\")\n",
    "            grads, loss, accuracy = apply_model(state, x, y)\n",
    "            state = update_model(state, grads)\n",
    "            epoch_loss.append(loss)\n",
    "            epoch_accuracy.append(accuracy)\n",
    "    \n",
    "    epoch_time = time.time() - start_time\n",
    "    train_loss = np.mean(epoch_loss)\n",
    "    train_accuracy = np.mean(epoch_accuracy)\n",
    "    \n",
    "    return state, train_loss, train_accuracy, epoch_time\n",
    "\n",
    "def create_train_state(rng):\n",
    "    \"\"\"Creates initial `TrainState`.\"\"\"\n",
    "    x = random.normal(random.PRNGKey(0), (1,32,32,1))\n",
    "    params = model.init( {\"params\": rng1, \"dropout\": rng2, \"drop_path\": rng3}, x, False)['params']\n",
    "    tx = optax.adam(0.01)\n",
    "    return train_state.TrainState.create(apply_fn=model.apply, params=params, tx=tx)\n",
    "\n",
    "\n",
    "def train_and_evaluate(data, epochs = 10):\n",
    "    \"\"\"Execute model training and evaluation loop.\n",
    "    Args:\n",
    "    config: Hyperparameter configuration for training and evaluation.\n",
    "    workdir: Directory where the tensorboard summaries are written to.\n",
    "    Returns:\n",
    "    The train state (which includes the `.params`).\n",
    "    \"\"\"\n",
    "    rng = jax.random.PRNGKey(0)\n",
    "\n",
    "    rng, init_rng = jax.random.split(rng)\n",
    "    state = create_train_state(init_rng)\n",
    "    \n",
    "    epoch_times = []\n",
    "    for epoch in range(1, epochs + 1):\n",
    "        state, loss, acc, epoch_time = train_epoch(state, data.train_ds, epoch)\n",
    "        val_loss, val_acc = evaluate(state, data.val_ds)\n",
    "        \n",
    "        epoch_times.append(epoch_time)\n",
    "\n",
    "        print('loss: {} - acc: {}'.format(loss, acc))\n",
    "        print('val_loss: {} - val_acc: {}'.format(val_loss, val_acc))\n",
    "        print('time: {}'.format(epoch_time))\n",
    "    \n",
    "    print('Avg epoch time: {}'.format(np.mean(epoch_times)))\n",
    "    return state"
   ]
  },
  {
   "cell_type": "code",
   "execution_count": null,
   "id": "b31997ca",
   "metadata": {
    "ExecuteTime": {
     "start_time": "2022-08-27T14:35:27.912Z"
    },
    "scrolled": true
   },
   "outputs": [
    {
     "name": "stderr",
     "output_type": "stream",
     "text": [
      "Epoch 1:  65%|██████████████████████████████████████████▋                       | 480/743 [12:21<07:24,  1.69s/batch]"
     ]
    }
   ],
   "source": [
    "state = train_and_evaluate(data)"
   ]
  },
  {
   "cell_type": "code",
   "execution_count": null,
   "id": "e8a0bdef",
   "metadata": {},
   "outputs": [],
   "source": []
  }
 ],
 "metadata": {
  "kernelspec": {
   "display_name": "Python (qenv)",
   "language": "python",
   "name": "qenv"
  },
  "language_info": {
   "codemirror_mode": {
    "name": "ipython",
    "version": 3
   },
   "file_extension": ".py",
   "mimetype": "text/x-python",
   "name": "python",
   "nbconvert_exporter": "python",
   "pygments_lexer": "ipython3",
   "version": "3.7.13"
  },
  "latex_envs": {
   "LaTeX_envs_menu_present": true,
   "autoclose": false,
   "autocomplete": true,
   "bibliofile": "biblio.bib",
   "cite_by": "apalike",
   "current_citInitial": 1,
   "eqLabelWithNumbers": true,
   "eqNumInitial": 1,
   "hotkeys": {
    "equation": "Ctrl-E",
    "itemize": "Ctrl-I"
   },
   "labels_anchors": false,
   "latex_user_defs": false,
   "report_style_numbering": false,
   "user_envs_cfg": false
  },
  "toc": {
   "base_numbering": 1,
   "nav_menu": {},
   "number_sections": true,
   "sideBar": true,
   "skip_h1_title": false,
   "title_cell": "Table of Contents",
   "title_sidebar": "Contents",
   "toc_cell": false,
   "toc_position": {},
   "toc_section_display": true,
   "toc_window_display": false
  }
 },
 "nbformat": 4,
 "nbformat_minor": 5
}
