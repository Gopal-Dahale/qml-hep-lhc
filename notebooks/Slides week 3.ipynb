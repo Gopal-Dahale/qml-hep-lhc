{
 "cells": [
  {
   "cell_type": "code",
   "execution_count": 1,
   "id": "cbde2cd6",
   "metadata": {
    "ExecuteTime": {
     "end_time": "2022-07-06T10:37:26.199321Z",
     "start_time": "2022-07-06T10:37:25.045102Z"
    }
   },
   "outputs": [],
   "source": [
    "%load_ext autoreload\n",
    "%autoreload 2\n",
    "import matplotlib.pyplot as plt\n",
    "%matplotlib inline\n",
    "\n",
    "from importlib.util import find_spec\n",
    "if find_spec(\"qml_hep_lhc\") is None:\n",
    "    import sys\n",
    "    sys.path.append('..')"
   ]
  },
  {
   "cell_type": "code",
   "execution_count": 2,
   "id": "fd83262b",
   "metadata": {
    "ExecuteTime": {
     "end_time": "2022-07-06T10:37:29.723814Z",
     "start_time": "2022-07-06T10:37:26.375324Z"
    }
   },
   "outputs": [
    {
     "name": "stderr",
     "output_type": "stream",
     "text": [
      "2022-07-06 16:07:26.573588: W tensorflow/stream_executor/platform/default/dso_loader.cc:64] Could not load dynamic library 'libcudart.so.11.0'; dlerror: libcudart.so.11.0: cannot open shared object file: No such file or directory\n",
      "2022-07-06 16:07:26.573615: I tensorflow/stream_executor/cuda/cudart_stub.cc:29] Ignore above cudart dlerror if you do not have a GPU set up on your machine.\n"
     ]
    }
   ],
   "source": [
    "from qml_hep_lhc.data import ElectronPhoton, MNIST, QuarkGluon\n",
    "import argparse\n",
    "from sklearn.decomposition import PCA\n",
    "import numpy as np"
   ]
  },
  {
   "cell_type": "markdown",
   "id": "150c265c",
   "metadata": {},
   "source": [
    "## Mnist"
   ]
  },
  {
   "cell_type": "code",
   "execution_count": 201,
   "id": "c2cbde76",
   "metadata": {
    "ExecuteTime": {
     "end_time": "2022-07-06T08:54:38.807206Z",
     "start_time": "2022-07-06T08:54:38.130733Z"
    }
   },
   "outputs": [
    {
     "name": "stdout",
     "output_type": "stream",
     "text": [
      "None\n",
      "/home/gopald/Documents/qml-hep-lhc/datasets/downloaded\n",
      "Binarizing data...\n",
      "Resizing data...\n",
      "Binarizing data...\n",
      "Resizing data...\n"
     ]
    }
   ],
   "source": [
    "args = argparse.Namespace()\n",
    "args.resize = [32,32]\n",
    "args.binary_data = [0,1]\n",
    "\n",
    "data = MNIST(args)\n",
    "data.prepare_data()\n",
    "data.setup()"
   ]
  },
  {
   "cell_type": "code",
   "execution_count": 202,
   "id": "72e9bcfb",
   "metadata": {
    "ExecuteTime": {
     "end_time": "2022-07-06T08:54:38.956496Z",
     "start_time": "2022-07-06T08:54:38.812338Z"
    }
   },
   "outputs": [
    {
     "data": {
      "text/plain": [
       "Dataset :MNIST\n",
       "╒════════╤════════════════════╤═══════════════════╤═════════════╕\n",
       "│ Data   │ Train size         │ Test size         │ Dims        │\n",
       "╞════════╪════════════════════╪═══════════════════╪═════════════╡\n",
       "│ X      │ (12665, 32, 32, 1) │ (2115, 32, 32, 1) │ (32, 32, 1) │\n",
       "├────────┼────────────────────┼───────────────────┼─────────────┤\n",
       "│ y      │ (12665,)           │ (2115,)           │ (1,)        │\n",
       "╘════════╧════════════════════╧═══════════════════╧═════════════╛\n",
       "\n",
       "Train images stats\n",
       "Min: 0.00\n",
       "Max: 255.00\n",
       "Mean: 31.15\n",
       "Std: 72.64\n",
       "Train labels stats\n",
       "Min: 0.00\n",
       "Max: 1.00"
      ]
     },
     "execution_count": 202,
     "metadata": {},
     "output_type": "execute_result"
    }
   ],
   "source": [
    "data"
   ]
  },
  {
   "cell_type": "code",
   "execution_count": 204,
   "id": "defa9fdf",
   "metadata": {
    "ExecuteTime": {
     "end_time": "2022-07-06T08:54:44.879906Z",
     "start_time": "2022-07-06T08:54:44.504780Z"
    }
   },
   "outputs": [
    {
     "data": {
      "image/png": "[encoded data removed]",
      "text/plain": [
       "<Figure size 720x504 with 2 Axes>"
      ]
     },
     "metadata": {
      "needs_background": "light"
     },
     "output_type": "display_data"
    }
   ],
   "source": [
    "fig = plt.figure(figsize=(10, 7))\n",
    "rows = 2\n",
    "columns = 2\n",
    "index = [np.where(data.y_train == 0)[0], np.where(data.y_train == 1)[0]] # 0, 1\n",
    "for i in range(columns):\n",
    "    fig.add_subplot(rows, columns,i+1)\n",
    "    plt.imshow(np.mean(data.x_train[index[i],:,:,0], axis = 0))\n",
    "    plt.title('One' if i ==0 else 'Zero')"
   ]
  },
  {
   "cell_type": "markdown",
   "id": "7ae8390f",
   "metadata": {},
   "source": [
    "## Electron Photon"
   ]
  },
  {
   "cell_type": "code",
   "execution_count": 243,
   "id": "15cb07c5",
   "metadata": {
    "ExecuteTime": {
     "end_time": "2022-07-06T09:46:30.333344Z",
     "start_time": "2022-07-06T09:46:28.734833Z"
    }
   },
   "outputs": [
    {
     "name": "stdout",
     "output_type": "stream",
     "text": [
      "None\n",
      "/home/gopald/Documents/qml-hep-lhc/datasets/downloaded\n",
      "/home/gopald/Documents/qml-hep-lhc/datasets/downloaded/electron_photon_med.npz\n"
     ]
    }
   ],
   "source": [
    "args = argparse.Namespace()\n",
    "args.dataset_type = 'med'\n",
    "\n",
    "data = ElectronPhoton(args)\n",
    "data.prepare_data()\n",
    "data.setup()"
   ]
  },
  {
   "cell_type": "code",
   "execution_count": 244,
   "id": "e57175f5",
   "metadata": {
    "ExecuteTime": {
     "end_time": "2022-07-06T09:46:30.568591Z",
     "start_time": "2022-07-06T09:46:30.337764Z"
    },
    "scrolled": true
   },
   "outputs": [
    {
     "data": {
      "text/plain": [
       "Dataset :Electron Photon med\n",
       "╒════════╤═══════════════════╤═══════════════════╤═════════════╕\n",
       "│ Data   │ Train size        │ Test size         │ Dims        │\n",
       "╞════════╪═══════════════════╪═══════════════════╪═════════════╡\n",
       "│ X      │ (9000, 32, 32, 2) │ (1000, 32, 32, 2) │ (32, 32, 2) │\n",
       "├────────┼───────────────────┼───────────────────┼─────────────┤\n",
       "│ y      │ (9000,)           │ (1000,)           │ (1,)        │\n",
       "╘════════╧═══════════════════╧═══════════════════╧═════════════╛\n",
       "\n",
       "Train images stats\n",
       "Min: -2.44\n",
       "Max: 2.23\n",
       "Mean: 0.00\n",
       "Std: 0.05\n",
       "Train labels stats\n",
       "Min: 0.00\n",
       "Max: 1.00"
      ]
     },
     "execution_count": 244,
     "metadata": {},
     "output_type": "execute_result"
    }
   ],
   "source": [
    "data"
   ]
  },
  {
   "cell_type": "code",
   "execution_count": 245,
   "id": "2b8a9700",
   "metadata": {
    "ExecuteTime": {
     "end_time": "2022-07-06T09:46:31.342463Z",
     "start_time": "2022-07-06T09:46:30.572888Z"
    }
   },
   "outputs": [
    {
     "data": {
      "image/png": "[encoded data removed]",
      "text/plain": [
       "<Figure size 720x504 with 4 Axes>"
      ]
     },
     "metadata": {
      "needs_background": "light"
     },
     "output_type": "display_data"
    }
   ],
   "source": [
    "fig = plt.figure(figsize=(10, 7))\n",
    "rows = 2\n",
    "columns = 2\n",
    "index = np.where(data.y_train == 0)[0] # Photon\n",
    "for i in range(columns):\n",
    "    fig.add_subplot(rows, columns,i+1)\n",
    "    plt.imshow(np.mean(data.x_train[index][:,:,:,i], axis=0))\n",
    "    plt.title('Photon')\n",
    "\n",
    "index = np.where(data.y_train == 1)[0] # Electron\n",
    "for i in range(columns):\n",
    "    fig.add_subplot(rows, columns,2+i+1)\n",
    "    plt.imshow(np.mean(data.x_train[index][:,:,:,i], axis=0))\n",
    "    plt.title('Electron')"
   ]
  },
  {
   "cell_type": "code",
   "execution_count": 208,
   "id": "17ef9dd2",
   "metadata": {
    "ExecuteTime": {
     "end_time": "2022-07-06T08:55:05.345726Z",
     "start_time": "2022-07-06T08:55:05.276434Z"
    }
   },
   "outputs": [
    {
     "data": {
      "text/plain": [
       "(9000, 2048)"
      ]
     },
     "execution_count": 208,
     "metadata": {},
     "output_type": "execute_result"
    }
   ],
   "source": [
    "x = data.x_train\n",
    "x = x.reshape(-1,np.prod(data.config()['input_dims']))\n",
    "x.shape"
   ]
  },
  {
   "cell_type": "code",
   "execution_count": 209,
   "id": "3f93ab2d",
   "metadata": {
    "ExecuteTime": {
     "end_time": "2022-07-06T08:55:15.501053Z",
     "start_time": "2022-07-06T08:55:05.696256Z"
    },
    "scrolled": true
   },
   "outputs": [
    {
     "data": {
      "image/png": "[encoded data removed]",
      "text/plain": [
       "<Figure size 432x288 with 1 Axes>"
      ]
     },
     "metadata": {
      "needs_background": "light"
     },
     "output_type": "display_data"
    }
   ],
   "source": [
    "pca = PCA().fit(x)\n",
    "plt.plot(np.cumsum(pca.explained_variance_ratio_))\n",
    "plt.xlabel('number of components')\n",
    "plt.ylabel('cumulative explained variance');"
   ]
  },
  {
   "cell_type": "code",
   "execution_count": 210,
   "id": "643f264d",
   "metadata": {
    "ExecuteTime": {
     "end_time": "2022-07-06T08:55:17.386038Z",
     "start_time": "2022-07-06T08:55:15.510682Z"
    }
   },
   "outputs": [
    {
     "name": "stdout",
     "output_type": "stream",
     "text": [
      "None\n",
      "/home/gopald/Documents/qml-hep-lhc/datasets/downloaded\n",
      "/home/gopald/Documents/qml-hep-lhc/datasets/downloaded/electron_photon_med.npz\n",
      "Performing PCA on data...\n",
      "Cumulative sum : 32.63123\n",
      "Performing PCA on data...\n",
      "Cumulative sum : 36.327488\n"
     ]
    }
   ],
   "source": [
    "args = argparse.Namespace()\n",
    "args.dataset_type = 'med'\n",
    "args.pca = 16\n",
    "\n",
    "data = ElectronPhoton(args)\n",
    "data.prepare_data()\n",
    "data.setup()"
   ]
  },
  {
   "cell_type": "code",
   "execution_count": 211,
   "id": "d2a8666e",
   "metadata": {
    "ExecuteTime": {
     "end_time": "2022-07-06T08:55:17.508449Z",
     "start_time": "2022-07-06T08:55:17.390834Z"
    },
    "scrolled": true
   },
   "outputs": [
    {
     "data": {
      "text/plain": [
       "Dataset :Electron Photon med\n",
       "╒════════╤═════════════════╤═════════════════╤═══════════╕\n",
       "│ Data   │ Train size      │ Test size       │ Dims      │\n",
       "╞════════╪═════════════════╪═════════════════╪═══════════╡\n",
       "│ X      │ (9000, 4, 4, 1) │ (1000, 4, 4, 1) │ (4, 4, 1) │\n",
       "├────────┼─────────────────┼─────────────────┼───────────┤\n",
       "│ y      │ (9000,)         │ (1000,)         │ (1,)      │\n",
       "╘════════╧═════════════════╧═════════════════╧═══════════╛\n",
       "\n",
       "Train images stats\n",
       "Min: -1.82\n",
       "Max: 2.21\n",
       "Mean: -0.00\n",
       "Std: 0.31\n",
       "Train labels stats\n",
       "Min: 0.00\n",
       "Max: 1.00"
      ]
     },
     "execution_count": 211,
     "metadata": {},
     "output_type": "execute_result"
    }
   ],
   "source": [
    "data"
   ]
  },
  {
   "cell_type": "code",
   "execution_count": 214,
   "id": "0dc75163",
   "metadata": {
    "ExecuteTime": {
     "end_time": "2022-07-06T08:55:42.761975Z",
     "start_time": "2022-07-06T08:55:42.454531Z"
    },
    "scrolled": true
   },
   "outputs": [
    {
     "data": {
      "image/png": "[encoded data removed]",
      "text/plain": [
       "<Figure size 720x504 with 2 Axes>"
      ]
     },
     "metadata": {
      "needs_background": "light"
     },
     "output_type": "display_data"
    }
   ],
   "source": [
    "fig = plt.figure(figsize=(10, 7))\n",
    "rows = 2\n",
    "columns = 2\n",
    "index = [np.where(data.y_train == 0)[0], np.where(data.y_train == 1)[0]] # Photon, Electron\n",
    "for i in range(columns):\n",
    "    fig.add_subplot(rows, columns,i+1)\n",
    "    plt.imshow(np.mean(data.x_train[index[i],:,:,0], axis=0))\n",
    "    plt.title('Photon' if i ==0 else 'Electron')"
   ]
  },
  {
   "cell_type": "code",
   "execution_count": 215,
   "id": "b2bf61c2",
   "metadata": {
    "ExecuteTime": {
     "end_time": "2022-07-06T08:55:49.817233Z",
     "start_time": "2022-07-06T08:55:49.229398Z"
    },
    "scrolled": true
   },
   "outputs": [
    {
     "name": "stdout",
     "output_type": "stream",
     "text": [
      "None\n",
      "/home/gopald/Documents/qml-hep-lhc/datasets/downloaded\n",
      "/home/gopald/Documents/qml-hep-lhc/datasets/downloaded/electron_photon_med.npz\n",
      "Center cropping...\n",
      "Center cropping...\n"
     ]
    }
   ],
   "source": [
    "args = argparse.Namespace()\n",
    "args.dataset_type = 'med'\n",
    "args.center_crop = 0.2\n",
    "\n",
    "data = ElectronPhoton(args)\n",
    "data.prepare_data()\n",
    "data.setup()"
   ]
  },
  {
   "cell_type": "code",
   "execution_count": 216,
   "id": "eda1cf9e",
   "metadata": {
    "ExecuteTime": {
     "end_time": "2022-07-06T08:55:50.071156Z",
     "start_time": "2022-07-06T08:55:49.998284Z"
    }
   },
   "outputs": [
    {
     "data": {
      "text/plain": [
       "Dataset :Electron Photon med\n",
       "╒════════╤═════════════════╤═════════════════╤═══════════╕\n",
       "│ Data   │ Train size      │ Test size       │ Dims      │\n",
       "╞════════╪═════════════════╪═════════════════╪═══════════╡\n",
       "│ X      │ (9000, 8, 8, 2) │ (1000, 8, 8, 2) │ (8, 8, 2) │\n",
       "├────────┼─────────────────┼─────────────────┼───────────┤\n",
       "│ y      │ (9000,)         │ (1000,)         │ (1,)      │\n",
       "╘════════╧═════════════════╧═════════════════╧═══════════╛\n",
       "\n",
       "Train images stats\n",
       "Min: -2.44\n",
       "Max: 2.23\n",
       "Mean: 0.01\n",
       "Std: 0.16\n",
       "Train labels stats\n",
       "Min: 0.00\n",
       "Max: 1.00"
      ]
     },
     "execution_count": 216,
     "metadata": {},
     "output_type": "execute_result"
    }
   ],
   "source": [
    "data"
   ]
  },
  {
   "cell_type": "code",
   "execution_count": 217,
   "id": "86d861a8",
   "metadata": {
    "ExecuteTime": {
     "end_time": "2022-07-06T08:56:06.355245Z",
     "start_time": "2022-07-06T08:56:05.770041Z"
    }
   },
   "outputs": [
    {
     "data": {
      "image/png": "[encoded data removed]",
      "text/plain": [
       "<Figure size 720x504 with 4 Axes>"
      ]
     },
     "metadata": {
      "needs_background": "light"
     },
     "output_type": "display_data"
    }
   ],
   "source": [
    "fig = plt.figure(figsize=(10, 7))\n",
    "rows = 2\n",
    "columns = 2\n",
    "index = np.where(data.y_train == 0)[0] # Photon\n",
    "for i in range(columns):\n",
    "    fig.add_subplot(rows, columns,i+1)\n",
    "    plt.imshow(np.mean(data.x_train[index][:,:,:,i], axis=0))\n",
    "    plt.title('Photon')\n",
    "\n",
    "index = np.where(data.y_train == 1)[0] # Electron\n",
    "for i in range(columns):\n",
    "    fig.add_subplot(rows, columns,2+i+1)\n",
    "    plt.imshow(np.mean(data.x_train[index][:,:,:,i], axis=0))\n",
    "    plt.title('Electron')"
   ]
  },
  {
   "cell_type": "code",
   "execution_count": 218,
   "id": "082030df",
   "metadata": {
    "ExecuteTime": {
     "end_time": "2022-07-06T08:56:09.101816Z",
     "start_time": "2022-07-06T08:56:09.028658Z"
    }
   },
   "outputs": [
    {
     "data": {
      "text/plain": [
       "(9000, 128)"
      ]
     },
     "execution_count": 218,
     "metadata": {},
     "output_type": "execute_result"
    }
   ],
   "source": [
    "x = data.x_train\n",
    "x = x.reshape(-1,np.prod(data.config()['input_dims']))\n",
    "x.shape"
   ]
  },
  {
   "cell_type": "code",
   "execution_count": 219,
   "id": "519e2da8",
   "metadata": {
    "ExecuteTime": {
     "end_time": "2022-07-06T08:56:09.871425Z",
     "start_time": "2022-07-06T08:56:09.537486Z"
    }
   },
   "outputs": [
    {
     "data": {
      "image/png": "[encoded data removed]",
      "text/plain": [
       "<Figure size 432x288 with 1 Axes>"
      ]
     },
     "metadata": {
      "needs_background": "light"
     },
     "output_type": "display_data"
    }
   ],
   "source": [
    "pca = PCA().fit(x)\n",
    "plt.plot(np.cumsum(pca.explained_variance_ratio_))\n",
    "plt.xlabel('number of components')\n",
    "plt.ylabel('cumulative explained variance');"
   ]
  },
  {
   "cell_type": "code",
   "execution_count": 220,
   "id": "66500abf",
   "metadata": {
    "ExecuteTime": {
     "end_time": "2022-07-06T08:56:11.897892Z",
     "start_time": "2022-07-06T08:56:11.291416Z"
    }
   },
   "outputs": [
    {
     "name": "stdout",
     "output_type": "stream",
     "text": [
      "None\n",
      "/home/gopald/Documents/qml-hep-lhc/datasets/downloaded\n",
      "/home/gopald/Documents/qml-hep-lhc/datasets/downloaded/electron_photon_med.npz\n",
      "Center cropping...\n",
      "Performing PCA on data...\n",
      "Cumulative sum : 52.573887\n",
      "Center cropping...\n",
      "Performing PCA on data...\n",
      "Cumulative sum : 56.11699\n"
     ]
    }
   ],
   "source": [
    "args = argparse.Namespace()\n",
    "args.dataset_type = 'med'\n",
    "args.center_crop = 0.2\n",
    "args.pca = 16\n",
    "\n",
    "data = ElectronPhoton(args)\n",
    "data.prepare_data()\n",
    "data.setup()"
   ]
  },
  {
   "cell_type": "code",
   "execution_count": 221,
   "id": "e631f848",
   "metadata": {
    "ExecuteTime": {
     "end_time": "2022-07-06T08:56:13.220991Z",
     "start_time": "2022-07-06T08:56:13.136327Z"
    }
   },
   "outputs": [
    {
     "data": {
      "text/plain": [
       "Dataset :Electron Photon med\n",
       "╒════════╤═════════════════╤═════════════════╤═══════════╕\n",
       "│ Data   │ Train size      │ Test size       │ Dims      │\n",
       "╞════════╪═════════════════╪═════════════════╪═══════════╡\n",
       "│ X      │ (9000, 4, 4, 1) │ (1000, 4, 4, 1) │ (4, 4, 1) │\n",
       "├────────┼─────────────────┼─────────────────┼───────────┤\n",
       "│ y      │ (9000,)         │ (1000,)         │ (1,)      │\n",
       "╘════════╧═════════════════╧═════════════════╧═══════════╛\n",
       "\n",
       "Train images stats\n",
       "Min: -1.81\n",
       "Max: 2.18\n",
       "Mean: -0.00\n",
       "Std: 0.31\n",
       "Train labels stats\n",
       "Min: 0.00\n",
       "Max: 1.00"
      ]
     },
     "execution_count": 221,
     "metadata": {},
     "output_type": "execute_result"
    }
   ],
   "source": [
    "data"
   ]
  },
  {
   "cell_type": "code",
   "execution_count": 222,
   "id": "6d1b51ec",
   "metadata": {
    "ExecuteTime": {
     "end_time": "2022-07-06T08:56:21.770068Z",
     "start_time": "2022-07-06T08:56:21.436977Z"
    }
   },
   "outputs": [
    {
     "data": {
      "image/png": "[encoded data removed]",
      "text/plain": [
       "<Figure size 720x504 with 2 Axes>"
      ]
     },
     "metadata": {
      "needs_background": "light"
     },
     "output_type": "display_data"
    }
   ],
   "source": [
    "fig = plt.figure(figsize=(10, 7))\n",
    "rows = 2\n",
    "columns = 2\n",
    "index = [np.where(data.y_train == 0)[0], np.where(data.y_train == 1)[0]] # Photon, Electron\n",
    "for i in range(columns):\n",
    "    fig.add_subplot(rows, columns,i+1)\n",
    "    plt.imshow(np.mean(data.x_train[index[i],:,:,0], axis=0))\n",
    "    plt.title('Photon' if i ==0 else 'Electron')"
   ]
  },
  {
   "cell_type": "code",
   "execution_count": 223,
   "id": "177bf492",
   "metadata": {
    "ExecuteTime": {
     "end_time": "2022-07-06T08:56:32.657225Z",
     "start_time": "2022-07-06T08:56:31.888196Z"
    }
   },
   "outputs": [
    {
     "name": "stdout",
     "output_type": "stream",
     "text": [
      "None\n",
      "/home/gopald/Documents/qml-hep-lhc/datasets/downloaded\n",
      "/home/gopald/Documents/qml-hep-lhc/datasets/downloaded/electron_photon_med.npz\n",
      "Center cropping...\n",
      "Performing PCA on data...\n",
      "Cumulative sum : 99.42621\n",
      "Min-max scaling...\n",
      "Center cropping...\n",
      "Performing PCA on data...\n",
      "Cumulative sum : 99.49026\n",
      "Min-max scaling...\n"
     ]
    }
   ],
   "source": [
    "args = argparse.Namespace()\n",
    "args.dataset_type = 'med'\n",
    "args.center_crop = 0.2\n",
    "args.pca = 64\n",
    "args.min_max = True\n",
    "\n",
    "data = ElectronPhoton(args)\n",
    "data.prepare_data()\n",
    "data.setup()"
   ]
  },
  {
   "cell_type": "code",
   "execution_count": 227,
   "id": "4f5aab78",
   "metadata": {
    "ExecuteTime": {
     "end_time": "2022-07-06T08:57:19.295103Z",
     "start_time": "2022-07-06T08:57:19.228595Z"
    }
   },
   "outputs": [
    {
     "data": {
      "text/plain": [
       "Dataset :Electron Photon med\n",
       "╒════════╤═════════════════╤═════════════════╤═══════════╕\n",
       "│ Data   │ Train size      │ Test size       │ Dims      │\n",
       "╞════════╪═════════════════╪═════════════════╪═══════════╡\n",
       "│ X      │ (9000, 8, 8, 1) │ (1000, 8, 8, 1) │ (8, 8, 1) │\n",
       "├────────┼─────────────────┼─────────────────┼───────────┤\n",
       "│ y      │ (9000,)         │ (1000,)         │ (1,)      │\n",
       "╘════════╧═════════════════╧═════════════════╧═══════════╛\n",
       "\n",
       "Train images stats\n",
       "Min: -3.14\n",
       "Max: 3.14\n",
       "Mean: -0.27\n",
       "Std: 0.51\n",
       "Train labels stats\n",
       "Min: 0.00\n",
       "Max: 1.00"
      ]
     },
     "execution_count": 227,
     "metadata": {},
     "output_type": "execute_result"
    }
   ],
   "source": [
    "data"
   ]
  },
  {
   "cell_type": "code",
   "execution_count": 228,
   "id": "31c0cf28",
   "metadata": {
    "ExecuteTime": {
     "end_time": "2022-07-06T08:57:23.374574Z",
     "start_time": "2022-07-06T08:57:23.075377Z"
    }
   },
   "outputs": [
    {
     "data": {
      "image/png": "[encoded data removed]",
      "text/plain": [
       "<Figure size 720x504 with 2 Axes>"
      ]
     },
     "metadata": {
      "needs_background": "light"
     },
     "output_type": "display_data"
    }
   ],
   "source": [
    "fig = plt.figure(figsize=(10, 7))\n",
    "rows = 2\n",
    "columns = 2\n",
    "index = [np.where(data.y_train == 0)[0], np.where(data.y_train == 1)[0]] # Photon, Electron\n",
    "for i in range(columns):\n",
    "    fig.add_subplot(rows, columns,i+1)\n",
    "    plt.imshow(np.mean(data.x_train[index[i],:,:,0], axis=0))\n",
    "    plt.title('Photon' if i ==0 else 'Electron')"
   ]
  },
  {
   "cell_type": "code",
   "execution_count": 6,
   "id": "6e31cab6",
   "metadata": {
    "ExecuteTime": {
     "end_time": "2022-07-06T10:38:35.876534Z",
     "start_time": "2022-07-06T10:38:17.741134Z"
    }
   },
   "outputs": [
    {
     "name": "stdout",
     "output_type": "stream",
     "text": [
      "None\n",
      "/home/gopald/Documents/qml-hep-lhc/datasets/downloaded\n",
      "/home/gopald/Documents/qml-hep-lhc/datasets/downloaded/electron_photon_med.npz\n",
      "Performing graph convolution...\n",
      "(9000, 32, 32, 2)\n",
      "Performing graph convolution...\n",
      "(1000, 32, 32, 2)\n"
     ]
    }
   ],
   "source": [
    "args = argparse.Namespace()\n",
    "args.dataset_type = 'med'\n",
    "# args.center_crop = 0.2\n",
    "args.graph_conv = 1\n",
    "\n",
    "data = ElectronPhoton(args)\n",
    "data.prepare_data()\n",
    "data.setup()"
   ]
  },
  {
   "cell_type": "code",
   "execution_count": 7,
   "id": "03d34e1d",
   "metadata": {
    "ExecuteTime": {
     "end_time": "2022-07-06T10:38:39.578546Z",
     "start_time": "2022-07-06T10:38:39.411877Z"
    }
   },
   "outputs": [
    {
     "data": {
      "text/plain": [
       "Dataset :Electron Photon med\n",
       "╒════════╤═══════════════════╤═══════════════════╤═════════════╕\n",
       "│ Data   │ Train size        │ Test size         │ Dims        │\n",
       "╞════════╪═══════════════════╪═══════════════════╪═════════════╡\n",
       "│ X      │ (9000, 32, 32, 2) │ (1000, 32, 32, 2) │ (32, 32, 2) │\n",
       "├────────┼───────────────────┼───────────────────┼─────────────┤\n",
       "│ y      │ (9000,)           │ (1000,)           │ (1,)        │\n",
       "╘════════╧═══════════════════╧═══════════════════╧═════════════╛\n",
       "\n",
       "Train images stats\n",
       "Min: -6.69\n",
       "Max: 8.27\n",
       "Mean: 0.16\n",
       "Std: 0.61\n",
       "Train labels stats\n",
       "Min: 0.00\n",
       "Max: 1.00"
      ]
     },
     "execution_count": 7,
     "metadata": {},
     "output_type": "execute_result"
    }
   ],
   "source": [
    "data"
   ]
  },
  {
   "cell_type": "code",
   "execution_count": 8,
   "id": "2e02bc09",
   "metadata": {
    "ExecuteTime": {
     "end_time": "2022-07-06T10:38:41.354173Z",
     "start_time": "2022-07-06T10:38:40.394352Z"
    }
   },
   "outputs": [
    {
     "data": {
      "image/png": "[encoded data removed]",
      "text/plain": [
       "<Figure size 720x504 with 4 Axes>"
      ]
     },
     "metadata": {
      "needs_background": "light"
     },
     "output_type": "display_data"
    }
   ],
   "source": [
    "fig = plt.figure(figsize=(10, 7))\n",
    "rows = 2\n",
    "columns = 2\n",
    "index = np.where(data.y_train == 0)[0] # Photon\n",
    "for i in range(columns):\n",
    "    fig.add_subplot(rows, columns,i+1)\n",
    "    plt.imshow(np.mean(data.x_train[index][:,:,:,i], axis=0))\n",
    "    plt.title('Photon')\n",
    "\n",
    "index = np.where(data.y_train == 1)[0] # Electron\n",
    "for i in range(columns):\n",
    "    fig.add_subplot(rows, columns,2+i+1)\n",
    "    plt.imshow(np.mean(data.x_train[index][:,:,:,i], axis=0))\n",
    "    plt.title('Electron')"
   ]
  },
  {
   "cell_type": "markdown",
   "id": "52a7d0c3",
   "metadata": {},
   "source": [
    "## Quark Gluon"
   ]
  },
  {
   "cell_type": "code",
   "execution_count": 234,
   "id": "a49ff39b",
   "metadata": {
    "ExecuteTime": {
     "end_time": "2022-07-06T09:00:52.383999Z",
     "start_time": "2022-07-06T09:00:51.118148Z"
    }
   },
   "outputs": [
    {
     "name": "stdout",
     "output_type": "stream",
     "text": [
      "None\n",
      "/home/gopald/Documents/qml-hep-lhc/datasets/downloaded\n"
     ]
    }
   ],
   "source": [
    "args = argparse.Namespace()\n",
    "\n",
    "data = QuarkGluon(args)\n",
    "data.prepare_data()\n",
    "data.setup()"
   ]
  },
  {
   "cell_type": "code",
   "execution_count": 235,
   "id": "24e15772",
   "metadata": {
    "ExecuteTime": {
     "end_time": "2022-07-06T09:00:53.232471Z",
     "start_time": "2022-07-06T09:00:52.930275Z"
    }
   },
   "outputs": [
    {
     "data": {
      "text/plain": [
       "Dataset :Quark Gluon\n",
       "╒════════╤═══════════════════╤═══════════════════╤═════════════╕\n",
       "│ Data   │ Train size        │ Test size         │ Dims        │\n",
       "╞════════╪═══════════════════╪═══════════════════╪═════════════╡\n",
       "│ X      │ (9000, 39, 39, 3) │ (1000, 39, 39, 3) │ (39, 39, 3) │\n",
       "├────────┼───────────────────┼───────────────────┼─────────────┤\n",
       "│ y      │ (9000,)           │ (1000,)           │ (1,)        │\n",
       "╘════════╧═══════════════════╧═══════════════════╧═════════════╛\n",
       "\n",
       "Train images stats\n",
       "Min: 0.00\n",
       "Max: 7.09\n",
       "Mean: 0.00\n",
       "Std: 0.01\n",
       "Train labels stats\n",
       "Min: 0.00\n",
       "Max: 1.00"
      ]
     },
     "execution_count": 235,
     "metadata": {},
     "output_type": "execute_result"
    }
   ],
   "source": [
    "data"
   ]
  },
  {
   "cell_type": "code",
   "execution_count": 236,
   "id": "40421c40",
   "metadata": {
    "ExecuteTime": {
     "end_time": "2022-07-06T09:00:58.636594Z",
     "start_time": "2022-07-06T09:00:57.139807Z"
    }
   },
   "outputs": [
    {
     "data": {
      "image/png": "[encoded data removed]",
      "text/plain": [
       "<Figure size 720x504 with 6 Axes>"
      ]
     },
     "metadata": {
      "needs_background": "light"
     },
     "output_type": "display_data"
    }
   ],
   "source": [
    "fig = plt.figure(figsize=(10, 7))\n",
    "rows = 2\n",
    "columns = 3\n",
    "index = np.where(data.y_train == 0)[0] # Photon\n",
    "for i in range(columns):\n",
    "    fig.add_subplot(rows, columns,i+1)\n",
    "    plt.imshow(np.mean(data.x_train[index][:,:,:,i], axis=0))\n",
    "    plt.title('Quark')\n",
    "\n",
    "index = np.where(data.y_train == 1)[0] # Electron\n",
    "for i in range(columns):\n",
    "    fig.add_subplot(rows, columns,3+i+1)\n",
    "    plt.imshow(np.mean(data.x_train[index][:,:,:,i], axis=0))\n",
    "    plt.title('Gluon')"
   ]
  },
  {
   "cell_type": "code",
   "execution_count": 237,
   "id": "0051b4e4",
   "metadata": {
    "ExecuteTime": {
     "end_time": "2022-07-06T09:01:01.316434Z",
     "start_time": "2022-07-06T09:01:01.261399Z"
    }
   },
   "outputs": [
    {
     "data": {
      "text/plain": [
       "(9000, 4563)"
      ]
     },
     "execution_count": 237,
     "metadata": {},
     "output_type": "execute_result"
    }
   ],
   "source": [
    "x = data.x_train\n",
    "x = x.reshape(-1,np.prod(data.config()['input_dims']))\n",
    "x.shape"
   ]
  },
  {
   "cell_type": "code",
   "execution_count": 238,
   "id": "184b11e4",
   "metadata": {
    "ExecuteTime": {
     "end_time": "2022-07-06T09:01:53.473245Z",
     "start_time": "2022-07-06T09:01:02.953974Z"
    },
    "scrolled": true
   },
   "outputs": [
    {
     "data": {
      "image/png": "[encoded data removed]",
      "text/plain": [
       "<Figure size 432x288 with 1 Axes>"
      ]
     },
     "metadata": {
      "needs_background": "light"
     },
     "output_type": "display_data"
    }
   ],
   "source": [
    "pca = PCA().fit(x)\n",
    "plt.plot(np.cumsum(pca.explained_variance_ratio_))\n",
    "plt.xlabel('number of components')\n",
    "plt.ylabel('cumulative explained variance');"
   ]
  },
  {
   "cell_type": "code",
   "execution_count": 240,
   "id": "1b4981fc",
   "metadata": {
    "ExecuteTime": {
     "end_time": "2022-07-06T09:02:23.004799Z",
     "start_time": "2022-07-06T09:02:19.688771Z"
    }
   },
   "outputs": [
    {
     "name": "stdout",
     "output_type": "stream",
     "text": [
      "None\n",
      "/home/gopald/Documents/qml-hep-lhc/datasets/downloaded\n",
      "Performing PCA on data...\n",
      "Cumulative sum : 23.58596\n",
      "Performing PCA on data...\n",
      "Cumulative sum : 45.603004\n"
     ]
    }
   ],
   "source": [
    "args = argparse.Namespace()\n",
    "args.pca = 16\n",
    "\n",
    "data = QuarkGluon(args)\n",
    "data.prepare_data()\n",
    "data.setup()"
   ]
  },
  {
   "cell_type": "code",
   "execution_count": 241,
   "id": "0d734e7d",
   "metadata": {
    "ExecuteTime": {
     "end_time": "2022-07-06T09:02:24.938851Z",
     "start_time": "2022-07-06T09:02:24.860162Z"
    },
    "scrolled": true
   },
   "outputs": [
    {
     "data": {
      "text/plain": [
       "Dataset :Quark Gluon\n",
       "╒════════╤═════════════════╤═════════════════╤═══════════╕\n",
       "│ Data   │ Train size      │ Test size       │ Dims      │\n",
       "╞════════╪═════════════════╪═════════════════╪═══════════╡\n",
       "│ X      │ (9000, 4, 4, 1) │ (1000, 4, 4, 1) │ (4, 4, 1) │\n",
       "├────────┼─────────────────┼─────────────────┼───────────┤\n",
       "│ y      │ (9000,)         │ (1000,)         │ (1,)      │\n",
       "╘════════╧═════════════════╧═════════════════╧═══════════╛\n",
       "\n",
       "Train images stats\n",
       "Min: -0.78\n",
       "Max: 10.17\n",
       "Mean: -0.00\n",
       "Std: 0.06\n",
       "Train labels stats\n",
       "Min: 0.00\n",
       "Max: 1.00"
      ]
     },
     "execution_count": 241,
     "metadata": {},
     "output_type": "execute_result"
    }
   ],
   "source": [
    "data"
   ]
  },
  {
   "cell_type": "code",
   "execution_count": 242,
   "id": "36700a18",
   "metadata": {
    "ExecuteTime": {
     "end_time": "2022-07-06T09:02:38.644896Z",
     "start_time": "2022-07-06T09:02:38.300627Z"
    },
    "scrolled": false
   },
   "outputs": [
    {
     "data": {
      "image/png": "[encoded data removed]",
      "text/plain": [
       "<Figure size 720x504 with 2 Axes>"
      ]
     },
     "metadata": {
      "needs_background": "light"
     },
     "output_type": "display_data"
    }
   ],
   "source": [
    "fig = plt.figure(figsize=(10, 7))\n",
    "rows = 2\n",
    "columns = 2\n",
    "index = [np.where(data.y_train == 0)[0], np.where(data.y_train == 1)[0]] # Photon, Electron\n",
    "for i in range(columns):\n",
    "    fig.add_subplot(rows, columns,i+1)\n",
    "    plt.imshow(np.mean(data.x_train[index[i],:,:,0], axis=0))\n",
    "    plt.title('Quark' if i ==0 else 'Gluon')"
   ]
  },
  {
   "cell_type": "code",
   "execution_count": null,
   "id": "6fd146db",
   "metadata": {},
   "outputs": [],
   "source": []
  }
 ],
 "metadata": {
  "kernelspec": {
   "display_name": "Python (qenv)",
   "language": "python",
   "name": "qenv"
  },
  "language_info": {
   "codemirror_mode": {
    "name": "ipython",
    "version": 3
   },
   "file_extension": ".py",
   "mimetype": "text/x-python",
   "name": "python",
   "nbconvert_exporter": "python",
   "pygments_lexer": "ipython3",
   "version": "3.7.13"
  },
  "latex_envs": {
   "LaTeX_envs_menu_present": true,
   "autoclose": false,
   "autocomplete": true,
   "bibliofile": "biblio.bib",
   "cite_by": "apalike",
   "current_citInitial": 1,
   "eqLabelWithNumbers": true,
   "eqNumInitial": 1,
   "hotkeys": {
    "equation": "Ctrl-E",
    "itemize": "Ctrl-I"
   },
   "labels_anchors": false,
   "latex_user_defs": false,
   "report_style_numbering": false,
   "user_envs_cfg": false
  },
  "toc": {
   "base_numbering": 1,
   "nav_menu": {},
   "number_sections": true,
   "sideBar": true,
   "skip_h1_title": false,
   "title_cell": "Table of Contents",
   "title_sidebar": "Contents",
   "toc_cell": false,
   "toc_position": {},
   "toc_section_display": true,
   "toc_window_display": false
  }
 },
 "nbformat": 4,
 "nbformat_minor": 5
}
