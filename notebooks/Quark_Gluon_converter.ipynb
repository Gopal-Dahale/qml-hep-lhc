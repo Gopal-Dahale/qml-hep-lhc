{
  "nbformat": 4,
  "nbformat_minor": 0,
  "metadata": {
    "colab": {
      "name": "Quark-Gluon-converter.ipynb",
      "provenance": [],
      "collapsed_sections": []
    },
    "kernelspec": {
      "name": "python3",
      "display_name": "Python 3"
    },
    "language_info": {
      "name": "python"
    }
  },
  "cells": [
    {
      "cell_type": "code",
      "execution_count": 1,
      "metadata": {
        "colab": {
          "base_uri": "https://localhost:8080/"
        },
        "id": "BDE9kzAbW5NC",
        "outputId": "7cbeaa56-cf3f-49f6-e481-a650e88a2862"
      },
      "outputs": [
        {
          "output_type": "stream",
          "name": "stdout",
          "text": [
            "Mounted at /content/drive\n"
          ]
        }
      ],
      "source": [
        "from google.colab import drive\n",
        "drive.mount('/content/drive')"
      ]
    },
    {
      "cell_type": "code",
      "source": [
        "import h5py\n",
        "import numpy as np\n",
        "import matplotlib.pyplot as plt\n",
        "from sklearn.utils import shuffle\n",
        "from sklearn.model_selection import train_test_split\n",
        "from sklearn.utils.random import sample_without_replacement\n",
        "from tensorflow.image import central_crop"
      ],
      "metadata": {
        "id": "14qYlb8mW9sy"
      },
      "execution_count": 3,
      "outputs": []
    },
    {
      "cell_type": "code",
      "source": [
        "def load_dataset():\n",
        "    with h5py.File(\"/content/drive/MyDrive/quark-gluon-dataset/quark-gluon_test-set_n10000.hdf5\", \"r\") as f:\n",
        "        n = 10000\n",
        "        fraction = 0.3\n",
        "        keys = list(f.keys())\n",
        "        for i in keys:\n",
        "            print(i, f[i].shape)\n",
        "        data = {keys[0]: central_crop(f[keys[0]][0:n], fraction).numpy(),\n",
        "                keys[1]: f[keys[1]][0:n]}\n",
        "\n",
        "        # qg = np.asarray(f['X'][()], dtype=np.float32)\n",
        "        # py = np.asarray(f['y'][()], dtype=np.float32)\n",
        "        # print(\"Loaded photon dataset!\")\n",
        "\n",
        "    # with h5py.File(\"/content/drive/My Drive/electron-photon-dataset/electron.hdf5\", \"r\") as f:\n",
        "    #     ex = np.asarray(f['X'][()], dtype=np.float32)\n",
        "    #     ey = np.asarray(f['y'][()], dtype=np.float32)\n",
        "    #     print(\"Loaded electron dataset!\")\n",
        "\n",
        "    # print(\"Photon dataset shape:\", px.shape, py.shape)\n",
        "    # print(\"Electron dataset shape:\", ex.shape, ey.shape)\n",
        "    # return px,py,ex,ey\n",
        "    return data"
      ],
      "metadata": {
        "id": "W-JjnIHrXDRU"
      },
      "execution_count": 4,
      "outputs": []
    },
    {
      "cell_type": "code",
      "source": [
        "data = load_dataset()"
      ],
      "metadata": {
        "colab": {
          "base_uri": "https://localhost:8080/"
        },
        "id": "HkS6Rmx7f2fm",
        "outputId": "9b9b6cec-23d8-469c-912a-b23b6c388a12"
      },
      "execution_count": 5,
      "outputs": [
        {
          "output_type": "stream",
          "name": "stdout",
          "text": [
            "X (10000, 125, 125, 3)\n",
            "y (10000,)\n"
          ]
        }
      ]
    },
    {
      "cell_type": "code",
      "source": [
        "print(data['X'].shape)\n",
        "print(max(data['y']), min(data['y']))\n",
        "\n",
        "zeros = data['y'] == 0\n",
        "ones = data['y'] == 1\n",
        "print(sum(ones), sum(zeros))"
      ],
      "metadata": {
        "colab": {
          "base_uri": "https://localhost:8080/"
        },
        "id": "5MQfvT_DjBPW",
        "outputId": "3b7a1978-771a-4f96-f2ac-6cef144c725e"
      },
      "execution_count": 6,
      "outputs": [
        {
          "output_type": "stream",
          "name": "stdout",
          "text": [
            "(10000, 39, 39, 3)\n",
            "1.0 0.0\n",
            "5000 5000\n"
          ]
        }
      ]
    },
    {
      "cell_type": "code",
      "source": [
        "data0 = data['X'][zeros]\n",
        "data1 = data['X'][ones]\n",
        "del data"
      ],
      "metadata": {
        "id": "1e2mKQHbsLPg"
      },
      "execution_count": 7,
      "outputs": []
    },
    {
      "cell_type": "code",
      "source": [
        "fig = plt.figure(figsize=(10,10))\n",
        "r = 1\n",
        "c = 3\n",
        "for i in range(3):\n",
        "    fig.add_subplot(r,c,i+1)\n",
        "    plt.imshow(np.mean(data0[:, :,:, i], axis=0))"
      ],
      "metadata": {
        "colab": {
          "base_uri": "https://localhost:8080/",
          "height": 214
        },
        "id": "m6kumgnQYC_7",
        "outputId": "c84681b1-18b3-4844-d524-6ee14aac0f5b"
      },
      "execution_count": 8,
      "outputs": [
        {
          "output_type": "display_data",
          "data": {
            "text/plain": [
              "<Figure size 720x720 with 3 Axes>"
            ],
            "image/png": "[encoded data removed]"
          },
          "metadata": {
            "needs_background": "light"
          }
        }
      ]
    },
    {
      "cell_type": "code",
      "source": [
        "fig = plt.figure(figsize=(10,10))\n",
        "r = 1\n",
        "c = 3\n",
        "for i in range(3):\n",
        "    fig.add_subplot(r,c,i+1)\n",
        "    plt.imshow(np.mean(data1[:, :,:, i], axis=0))"
      ],
      "metadata": {
        "colab": {
          "base_uri": "https://localhost:8080/",
          "height": 214
        },
        "id": "8Hq1NwHqj0wV",
        "outputId": "508fbc9f-dd97-4839-f6bd-496c59620dbf"
      },
      "execution_count": 9,
      "outputs": [
        {
          "output_type": "display_data",
          "data": {
            "text/plain": [
              "<Figure size 720x720 with 3 Axes>"
            ],
            "image/png": "[encoded data removed]"
          },
          "metadata": {
            "needs_background": "light"
          }
        }
      ]
    },
    {
      "cell_type": "code",
      "source": [
        "del data0, data1\n",
        "data = load_dataset()"
      ],
      "metadata": {
        "id": "S9WyqpqFcQL7",
        "colab": {
          "base_uri": "https://localhost:8080/"
        },
        "outputId": "a9b0f5ed-9e99-4d98-8cc1-bf095a9a844f"
      },
      "execution_count": 10,
      "outputs": [
        {
          "output_type": "stream",
          "name": "stdout",
          "text": [
            "X (10000, 125, 125, 3)\n",
            "y (10000,)\n"
          ]
        }
      ]
    },
    {
      "cell_type": "code",
      "source": [
        "print(data['X'].shape, data['y'].shape)"
      ],
      "metadata": {
        "colab": {
          "base_uri": "https://localhost:8080/"
        },
        "id": "H6sJMwFEk_rW",
        "outputId": "4c4d3db0-9de5-48e0-b043-c513ffb51f84"
      },
      "execution_count": 11,
      "outputs": [
        {
          "output_type": "stream",
          "name": "stdout",
          "text": [
            "(10000, 39, 39, 3) (10000,)\n"
          ]
        }
      ]
    },
    {
      "cell_type": "code",
      "source": [
        "data['X'], data['y'] = shuffle(data['X'], data['y'])"
      ],
      "metadata": {
        "id": "-JBd8GTxlWoK"
      },
      "execution_count": 16,
      "outputs": []
    },
    {
      "cell_type": "code",
      "source": [
        "x_train, x_test, y_train, y_test = train_test_split(data['X'],data['y'], test_size = 0.1, random_state=42)\n",
        "print(x_train.shape, y_train.shape)\n",
        "print(x_test.shape, y_test.shape)\n",
        "del data"
      ],
      "metadata": {
        "colab": {
          "base_uri": "https://localhost:8080/"
        },
        "id": "gcuqXY8ela4J",
        "outputId": "b84d4f48-ef9c-4f6b-e546-6d6d05a27c51"
      },
      "execution_count": 18,
      "outputs": [
        {
          "output_type": "stream",
          "name": "stdout",
          "text": [
            "(9000, 39, 39, 3) (9000,)\n",
            "(1000, 39, 39, 3) (1000,)\n"
          ]
        }
      ]
    },
    {
      "cell_type": "code",
      "source": [
        "np.savez_compressed('/content/quark-gluon-med.npz', **{\n",
        "    'x_train': x_train,\n",
        "    'y_train':y_train,\n",
        "    'x_test':x_test,\n",
        "    'y_test':y_test\n",
        "})\n",
        "del x_train, x_test, y_train, y_test"
      ],
      "metadata": {
        "id": "pLXfq6jRlnRA"
      },
      "execution_count": 19,
      "outputs": []
    },
    {
      "cell_type": "code",
      "source": [
        "data = np.load('/content/quark-gluon-med.npz', allow_pickle=True)"
      ],
      "metadata": {
        "id": "oZ_C5MxIl1DU"
      },
      "execution_count": 20,
      "outputs": []
    },
    {
      "cell_type": "code",
      "source": [
        "data['x_train'].shape"
      ],
      "metadata": {
        "colab": {
          "base_uri": "https://localhost:8080/"
        },
        "id": "IcF8b0eUl45z",
        "outputId": "a538df91-893e-4199-f7fe-a64f65e96b2d"
      },
      "execution_count": 21,
      "outputs": [
        {
          "output_type": "execute_result",
          "data": {
            "text/plain": [
              "(9000, 39, 39, 3)"
            ]
          },
          "metadata": {},
          "execution_count": 21
        }
      ]
    },
    {
      "cell_type": "code",
      "source": [
        "fig2 = plt.figure(figsize=(10,10))\n",
        "r = 1\n",
        "c = 3\n",
        "for i in range(3):\n",
        "    fig2.add_subplot(r,c,i+1)\n",
        "    plt.imshow(np.mean(data['x_train'][:,:,:,i], axis=0))"
      ],
      "metadata": {
        "colab": {
          "base_uri": "https://localhost:8080/",
          "height": 214
        },
        "id": "2x1_eBh6l7H2",
        "outputId": "35a730cc-4bbf-4e82-fffe-c132bf451b25"
      },
      "execution_count": 35,
      "outputs": [
        {
          "output_type": "display_data",
          "data": {
            "text/plain": [
              "<Figure size 720x720 with 3 Axes>"
            ],
            "image/png": "[encoded data removed]"
          },
          "metadata": {
            "needs_background": "light"
          }
        }
      ]
    },
    {
      "cell_type": "code",
      "source": [
        ""
      ],
      "metadata": {
        "id": "1ty-DPafmP3-"
      },
      "execution_count": null,
      "outputs": []
    }
  ]
}