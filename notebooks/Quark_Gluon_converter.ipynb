{
  "nbformat": 4,
  "nbformat_minor": 0,
  "metadata": {
    "colab": {
      "name": "Quark-Gluon-converter.ipynb",
      "provenance": [],
      "collapsed_sections": []
    },
    "kernelspec": {
      "name": "python3",
      "display_name": "Python 3"
    },
    "language_info": {
      "name": "python"
    }
  },
  "cells": [
    {
      "cell_type": "code",
      "execution_count": 1,
      "metadata": {
        "colab": {
          "base_uri": "https://localhost:8080/"
        },
        "id": "BDE9kzAbW5NC",
        "outputId": "dbea669d-0dd3-4215-9511-03e10b2354eb"
      },
      "outputs": [
        {
          "output_type": "stream",
          "name": "stdout",
          "text": [
            "Mounted at /content/drive\n"
          ]
        }
      ],
      "source": [
        "from google.colab import drive\n",
        "drive.mount('/content/drive')"
      ]
    },
    {
      "cell_type": "code",
      "source": [
        "import h5py\n",
        "import numpy as np\n",
        "import matplotlib.pyplot as plt\n",
        "from sklearn.utils import shuffle\n",
        "from sklearn.model_selection import train_test_split\n",
        "from sklearn.utils.random import sample_without_replacement\n",
        "from tensorflow.image import central_crop"
      ],
      "metadata": {
        "id": "14qYlb8mW9sy"
      },
      "execution_count": 2,
      "outputs": []
    },
    {
      "cell_type": "code",
      "source": [
        "def load_dataset():\n",
        "    with h5py.File(\"/content/drive/MyDrive/quark-gluon-dataset/quark-gluon_test-set_n10000.hdf5\", \"r\") as f:\n",
        "        n = 10000\n",
        "        fraction = 0.3\n",
        "        keys = list(f.keys())\n",
        "        for i in keys:\n",
        "            print(i, f[i].shape)\n",
        "        data = {keys[0]: central_crop(f[keys[0]][0:n], fraction).numpy(),\n",
        "                keys[1]: f[keys[1]][0:n]}\n",
        "\n",
        "        # qg = np.asarray(f['X'][()], dtype=np.float32)\n",
        "        # py = np.asarray(f['y'][()], dtype=np.float32)\n",
        "        # print(\"Loaded photon dataset!\")\n",
        "\n",
        "    # with h5py.File(\"/content/drive/My Drive/electron-photon-dataset/electron.hdf5\", \"r\") as f:\n",
        "    #     ex = np.asarray(f['X'][()], dtype=np.float32)\n",
        "    #     ey = np.asarray(f['y'][()], dtype=np.float32)\n",
        "    #     print(\"Loaded electron dataset!\")\n",
        "\n",
        "    # print(\"Photon dataset shape:\", px.shape, py.shape)\n",
        "    # print(\"Electron dataset shape:\", ex.shape, ey.shape)\n",
        "    # return px,py,ex,ey\n",
        "    return data"
      ],
      "metadata": {
        "id": "W-JjnIHrXDRU"
      },
      "execution_count": 29,
      "outputs": []
    },
    {
      "cell_type": "code",
      "source": [
        "data = load_dataset()"
      ],
      "metadata": {
        "colab": {
          "base_uri": "https://localhost:8080/"
        },
        "id": "HkS6Rmx7f2fm",
        "outputId": "4521515a-2c6d-413f-a03d-961edb156395"
      },
      "execution_count": 4,
      "outputs": [
        {
          "output_type": "stream",
          "name": "stdout",
          "text": [
            "X (10000, 125, 125, 3)\n",
            "y (10000,)\n"
          ]
        }
      ]
    },
    {
      "cell_type": "code",
      "source": [
        "print(data['X'].shape)\n",
        "print(max(data['y']), min(data['y']))\n",
        "\n",
        "zeros = data['y'] == 0\n",
        "ones = data['y'] == 1\n",
        "print(sum(ones), sum(zeros))"
      ],
      "metadata": {
        "colab": {
          "base_uri": "https://localhost:8080/"
        },
        "id": "5MQfvT_DjBPW",
        "outputId": "62b2060d-42eb-456c-92a9-87140a97b24b"
      },
      "execution_count": 5,
      "outputs": [
        {
          "output_type": "stream",
          "name": "stdout",
          "text": [
            "(10000, 39, 39, 3)\n",
            "1.0 0.0\n",
            "5000 5000\n"
          ]
        }
      ]
    },
    {
      "cell_type": "code",
      "source": [
        "data0 = data['X'][zeros]\n",
        "data1 = data['X'][ones]\n",
        "del data"
      ],
      "metadata": {
        "id": "1e2mKQHbsLPg"
      },
      "execution_count": 6,
      "outputs": []
    },
    {
      "cell_type": "code",
      "source": [
        "fig = plt.figure(figsize=(10,10))\n",
        "r = 1\n",
        "c = 3\n",
        "for i in range(3):\n",
        "    fig.add_subplot(r,c,i+1)\n",
        "    plt.imshow(np.mean(data0[:, :,:, i], axis=0))"
      ],
      "metadata": {
        "colab": {
          "base_uri": "https://localhost:8080/",
          "height": 214
        },
        "id": "m6kumgnQYC_7",
        "outputId": "c2ac5d3f-81c0-47f7-8ad4-a60d99334b20"
      },
      "execution_count": 7,
      "outputs": [
        {
          "output_type": "display_data",
          "data": {
            "text/plain": [
              "<Figure size 720x720 with 3 Axes>"
            ],
            "image/png": "[encoded data removed]"
          },
          "metadata": {
            "needs_background": "light"
          }
        }
      ]
    },
    {
      "cell_type": "code",
      "source": [
        "fig = plt.figure(figsize=(10,10))\n",
        "r = 1\n",
        "c = 3\n",
        "for i in range(3):\n",
        "    fig.add_subplot(r,c,i+1)\n",
        "    pnp.where(data['y_train'] == 0)[0]lt.imshow(np.mean(data1[:, :,:, i], axis=0))"
      ],
      "metadata": {
        "colab": {
          "base_uri": "https://localhost:8080/",
          "height": 214
        },
        "id": "8Hq1NwHqj0wV",
        "outputId": "e3a4ee98-30a7-4645-b43f-952df46b3def"
      },
      "execution_count": 8,
      "outputs": [
        {
          "output_type": "display_data",
          "data": {
            "text/plain": [
              "<Figure size 720x720 with 3 Axes>"
            ],
            "image/png": "[encoded data removed]"
          },
          "metadata": {
            "needs_background": "light"
          }
        }
      ]
    },
    {
      "cell_type": "code",
      "source": [
        "del data0, data1"
      ],
      "metadata": {
        "id": "S9WyqpqFcQL7",
        "colab": {
          "base_uri": "https://localhost:8080/"
        },
        "outputId": "69c4d32c-f268-4e9c-ec73-2e54b51165c7"
      },
      "execution_count": 9,
      "outputs": [
        {
          "output_type": "stream",
          "name": "stdout",
          "text": [
            "X (10000, 125, 125, 3)\n",
            "y (10000,)\n"
          ]
        }
      ]
    },
    {
      "cell_type": "code",
      "source": [
        "data = load_dataset()"
      ],
      "metadata": {
        "colab": {
          "base_uri": "https://localhost:8080/"
        },
        "id": "Q2Seh2LLzgPt",
        "outputId": "ececa248-a331-4adc-f88b-6da32abe524f"
      },
      "execution_count": 40,
      "outputs": [
        {
          "output_type": "stream",
          "name": "stdout",
          "text": [
            "X (10000, 125, 125, 3)\n",
            "y (10000,)\n"
          ]
        }
      ]
    },
    {
      "cell_type": "code",
      "source": [
        "print(data['X'].shape, data['y'].shape)"
      ],
      "metadata": {
        "colab": {
          "base_uri": "https://localhost:8080/"
        },
        "id": "H6sJMwFEk_rW",
        "outputId": "c0260866-da87-49ec-8fa1-2bf7bf3adff1"
      },
      "execution_count": 41,
      "outputs": [
        {
          "output_type": "stream",
          "name": "stdout",
          "text": [
            "(10000, 39, 39, 3) (10000,)\n"
          ]
        }
      ]
    },
    {
      "cell_type": "code",
      "source": [
        "data['X'] = data['X'][:,:,:,0].reshape(-1,39,39,1)\n",
        "data['X'], data['y'] = shuffle(data['X'], data['y'])"
      ],
      "metadata": {
        "id": "-JBd8GTxlWoK"
      },
      "execution_count": 42,
      "outputs": []
    },
    {
      "cell_type": "code",
      "source": [
        "x_train, x_test, y_train, y_test = train_test_split(data['X'],data['y'], test_size = 0.1, random_state=42)\n",
        "print(x_train.shape, y_train.shape)\n",
        "print(x_test.shape, y_test.shape)\n",
        "del data"
      ],
      "metadata": {
        "colab": {
          "base_uri": "https://localhost:8080/"
        },
        "id": "gcuqXY8ela4J",
        "outputId": "e2fb5845-adeb-4389-f3fe-89cc381e80b2"
      },
      "execution_count": 43,
      "outputs": [
        {
          "output_type": "stream",
          "name": "stdout",
          "text": [
            "(9000, 39, 39, 1) (9000,)\n",
            "(1000, 39, 39, 1) (1000,)\n"
          ]
        }
      ]
    },
    {
      "cell_type": "code",
      "source": [
        "fig2 = plt.figure(figsize=(10,10))\n",
        "r = 1\n",
        "c = 2\n",
        "index = [np.where(y_train == 0)[0], np.where(y_train == 1)[0]]\n",
        "for i in range(2):\n",
        "    fig2.add_subplot(r,c,i+1)\n",
        "    plt.imshow(np.mean(x_train[index[i],:,:,0], axis=0))\n",
        "    plt.title('Quark' if i == 0 else 'Gluon')"
      ],
      "metadata": {
        "colab": {
          "base_uri": "https://localhost:8080/",
          "height": 318
        },
        "id": "Fgq64VrqzxpZ",
        "outputId": "dc38cc07-33f8-44f3-a1ab-301545e866f4"
      },
      "execution_count": 44,
      "outputs": [
        {
          "output_type": "display_data",
          "data": {
            "text/plain": [
              "<Figure size 720x720 with 2 Axes>"
            ],
            "image/png": "[encoded data removed]"
          },
          "metadata": {
            "needs_background": "light"
          }
        }
      ]
    },
    {
      "cell_type": "code",
      "source": [
        "np.savez_compressed('/content/quark-gluon-med.npz', **{\n",
        "    'x_train': x_train,\n",
        "    'y_train':y_train,\n",
        "    'x_test':x_test,\n",
        "    'y_test':y_test\n",
        "})\n",
        "del x_train, x_test, y_train, y_test"
      ],
      "metadata": {
        "id": "pLXfq6jRlnRA"
      },
      "execution_count": 45,
      "outputs": []
    },
    {
      "cell_type": "code",
      "source": [
        "data = np.load('/content/quark-gluon-med.npz', allow_pickle=True)"
      ],
      "metadata": {
        "id": "oZ_C5MxIl1DU"
      },
      "execution_count": 46,
      "outputs": []
    },
    {
      "cell_type": "code",
      "source": [
        "data['x_train'].shape"
      ],
      "metadata": {
        "colab": {
          "base_uri": "https://localhost:8080/"
        },
        "id": "IcF8b0eUl45z",
        "outputId": "740003a0-c5b2-4a98-9f2b-b6051be91138"
      },
      "execution_count": 47,
      "outputs": [
        {
          "output_type": "execute_result",
          "data": {
            "text/plain": [
              "(9000, 39, 39, 1)"
            ]
          },
          "metadata": {},
          "execution_count": 47
        }
      ]
    },
    {
      "cell_type": "code",
      "source": [
        "fig2 = plt.figure(figsize=(10,10))\n",
        "r = 1\n",
        "c = 2\n",
        "index = [np.where(data['y_train'] == 0)[0], np.where(data['y_train'] == 1)[0]]\n",
        "for i in range(2):\n",
        "    fig2.add_subplot(r,c,i+1)\n",
        "    plt.imshow(np.mean(data['x_train'][index[i],:,:,0], axis=0))\n",
        "    plt.title('Quark' if i == 0 else 'Gluon')"
      ],
      "metadata": {
        "colab": {
          "base_uri": "https://localhost:8080/",
          "height": 318
        },
        "id": "2x1_eBh6l7H2",
        "outputId": "075ab78c-b212-45a5-ef89-d9f054dd89e3"
      },
      "execution_count": 48,
      "outputs": [
        {
          "output_type": "display_data",
          "data": {
            "text/plain": [
              "<Figure size 720x720 with 2 Axes>"
            ],
            "image/png": "[encoded data removed]"
          },
          "metadata": {
            "needs_background": "light"
          }
        }
      ]
    },
    {
      "cell_type": "code",
      "source": [
        ""
      ],
      "metadata": {
        "id": "ZX68ESz0y5Fp"
      },
      "execution_count": null,
      "outputs": []
    }
  ]
}