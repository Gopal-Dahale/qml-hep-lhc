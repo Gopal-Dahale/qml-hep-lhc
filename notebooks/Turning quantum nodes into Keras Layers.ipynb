{
 "cells": [
  {
   "cell_type": "code",
   "execution_count": 1,
   "id": "a277b51d",
   "metadata": {
    "ExecuteTime": {
     "end_time": "2022-08-07T03:04:46.714740Z",
     "start_time": "2022-08-07T03:04:45.568426Z"
    }
   },
   "outputs": [],
   "source": [
    "%load_ext autoreload\n",
    "%autoreload 2\n",
    "\n",
    "%matplotlib inline\n",
    "\n",
    "from importlib.util import find_spec\n",
    "if find_spec(\"qml_hep_lhc\") is None:\n",
    "    import sys\n",
    "    sys.path.append('..')"
   ]
  },
  {
   "cell_type": "code",
   "execution_count": 2,
   "id": "7abd9913",
   "metadata": {
    "ExecuteTime": {
     "end_time": "2022-08-07T03:04:49.767437Z",
     "start_time": "2022-08-07T03:04:46.718146Z"
    }
   },
   "outputs": [
    {
     "name": "stderr",
     "output_type": "stream",
     "text": [
      "2022-08-07 08:34:46.925349: W tensorflow/stream_executor/platform/default/dso_loader.cc:64] Could not load dynamic library 'libcudart.so.11.0'; dlerror: libcudart.so.11.0: cannot open shared object file: No such file or directory\n",
      "2022-08-07 08:34:46.925383: I tensorflow/stream_executor/cuda/cudart_stub.cc:29] Ignore above cudart dlerror if you do not have a GPU set up on your machine.\n"
     ]
    }
   ],
   "source": [
    "from qml_hep_lhc.data import MNIST\n",
    "import argparse"
   ]
  },
  {
   "cell_type": "code",
   "execution_count": 3,
   "id": "c24b85f4",
   "metadata": {
    "ExecuteTime": {
     "end_time": "2022-08-07T03:04:50.001048Z",
     "start_time": "2022-08-07T03:04:49.770895Z"
    }
   },
   "outputs": [
    {
     "name": "stdout",
     "output_type": "stream",
     "text": [
      "Binarizing data...\n",
      "Binarizing data...\n",
      "Center cropping...\n",
      "Center cropping...\n",
      "Resizing data...\n",
      "Resizing data...\n",
      "Standardizing data...\n",
      "Converting labels to categorical...\n",
      "Converting labels to categorical...\n",
      "\n",
      "Dataset :MNIST\n",
      "╒════════╤═══════════════╤═══════════════╤═══════════════╤═══════════╕\n",
      "│ Data   │ Train size    │ Val size      │ Test size     │ Dims      │\n",
      "╞════════╪═══════════════╪═══════════════╪═══════════════╪═══════════╡\n",
      "│ X      │ (48, 8, 8, 1) │ (12, 8, 8, 1) │ (20, 8, 8, 1) │ (8, 8, 1) │\n",
      "├────────┼───────────────┼───────────────┼───────────────┼───────────┤\n",
      "│ y      │ (48, 2)       │ (12, 2)       │ (20, 2)       │ (2,)      │\n",
      "╘════════╧═══════════════╧═══════════════╧═══════════════╧═══════════╛\n",
      "\n",
      "╒══════════════╤═══════╤═══════╤════════╤═══════╤══════════════════════════╕\n",
      "│ Type         │   Min │   Max │   Mean │   Std │ Samples for each class   │\n",
      "╞══════════════╪═══════╪═══════╪════════╪═══════╪══════════════════════════╡\n",
      "│ Train Images │ -1.58 │  7.68 │  -0.01 │  1    │ [24, 24]                 │\n",
      "├──────────────┼───────┼───────┼────────┼───────┼──────────────────────────┤\n",
      "│ Val Images   │ -1.41 │  7.38 │   0.03 │  0.98 │ [6, 6]                   │\n",
      "├──────────────┼───────┼───────┼────────┼───────┼──────────────────────────┤\n",
      "│ Test Images  │ -1.56 │  6.86 │  -0.05 │  0.95 │ [10, 10]                 │\n",
      "╘══════════════╧═══════╧═══════╧════════╧═══════╧══════════════════════════╛\n",
      "\n",
      "\n"
     ]
    },
    {
     "name": "stderr",
     "output_type": "stream",
     "text": [
      "2022-08-07 08:34:49.861089: E tensorflow/stream_executor/cuda/cuda_driver.cc:271] failed call to cuInit: CUDA_ERROR_NO_DEVICE: no CUDA-capable device is detected\n",
      "2022-08-07 08:34:49.861125: I tensorflow/stream_executor/cuda/cuda_diagnostics.cc:156] kernel driver does not appear to be running on this host (bhagvada): /proc/driver/nvidia/version does not exist\n",
      "2022-08-07 08:34:49.861823: I tensorflow/core/platform/cpu_feature_guard.cc:151] This TensorFlow binary is optimized with oneAPI Deep Neural Network Library (oneDNN) to use the following CPU instructions in performance-critical operations:  AVX2 FMA\n",
      "To enable them in other operations, rebuild TensorFlow with the appropriate compiler flags.\n"
     ]
    }
   ],
   "source": [
    "args = argparse.Namespace()\n",
    "args.center_crop = 0.7\n",
    "args.resize = [8,8]\n",
    "args.standardize = 1\n",
    "args.binary_data = [0,1]\n",
    "args.optimizer = 'Ranger'\n",
    "args.labels_to_categorical = 1\n",
    "args.processed = 1\n",
    "args.percent_samples = 0.1\n",
    "args.batch_size = 4\n",
    "\n",
    "data = MNIST(args)\n",
    "data.prepare_data()\n",
    "data.setup()\n",
    "print(data)"
   ]
  },
  {
   "cell_type": "code",
   "execution_count": 4,
   "id": "67e54f57",
   "metadata": {
    "ExecuteTime": {
     "end_time": "2022-08-07T03:04:50.071949Z",
     "start_time": "2022-08-07T03:04:50.005775Z"
    }
   },
   "outputs": [],
   "source": [
    "import tensorflow as tf\n",
    "\n",
    "tf.keras.backend.set_floatx('float64')\n",
    "\n",
    "layer_1 = tf.keras.layers.Dense(2)\n",
    "layer_2 = tf.keras.layers.Dense(2, activation=\"softmax\")\n",
    "\n",
    "model = tf.keras.Sequential([layer_1, layer_2])\n",
    "model.compile(loss=\"mae\")"
   ]
  },
  {
   "cell_type": "code",
   "execution_count": 24,
   "id": "2ea1654e",
   "metadata": {
    "ExecuteTime": {
     "end_time": "2022-08-07T03:08:50.713430Z",
     "start_time": "2022-08-07T03:08:50.473483Z"
    }
   },
   "outputs": [
    {
     "data": {
      "image/png": "[encoded data removed]",
      "text/plain": [
       "<Figure size 432x288 with 1 Axes>"
      ]
     },
     "metadata": {
      "needs_background": "light"
     },
     "output_type": "display_data"
    }
   ],
   "source": [
    "import matplotlib.pyplot as plt\n",
    "import numpy as np\n",
    "from sklearn.datasets import make_moons\n",
    "\n",
    "# Set random seeds\n",
    "np.random.seed(42)\n",
    "tf.random.set_seed(42)\n",
    "\n",
    "X, y = make_moons(n_samples=200, noise=0.1)\n",
    "y_hot = tf.keras.utils.to_categorical(y, num_classes=2)  # one-hot encoded labels\n",
    "\n",
    "c = [\"#1f77b4\" if y_ == 0 else \"#ff7f0e\" for y_ in y]  # colours for each class\n",
    "plt.axis(\"off\")\n",
    "plt.scatter(X[:, 0], X[:, 1], c=c)\n",
    "plt.show()"
   ]
  },
  {
   "cell_type": "code",
   "execution_count": 25,
   "id": "3f44e83d",
   "metadata": {
    "ExecuteTime": {
     "end_time": "2022-08-07T03:08:52.391584Z",
     "start_time": "2022-08-07T03:08:52.299628Z"
    }
   },
   "outputs": [],
   "source": [
    "import pennylane as qml\n",
    "\n",
    "n_qubits = 2\n",
    "dev = qml.device(\"lightning.qubit\", wires=n_qubits)\n",
    "\n",
    "@qml.qnode(dev)\n",
    "def qnode(inputs, weights, bias):\n",
    "    inputs = inputs + bias\n",
    "    qml.AngleEmbedding(inputs, wires=range(n_qubits))\n",
    "    qml.BasicEntanglerLayers(weights, wires=range(n_qubits))\n",
    "    return [qml.expval(qml.PauliZ(wires=i)) for i in range(n_qubits)]\n"
   ]
  },
  {
   "cell_type": "code",
   "execution_count": 26,
   "id": "8991a5b9",
   "metadata": {
    "ExecuteTime": {
     "end_time": "2022-08-07T03:08:52.879220Z",
     "start_time": "2022-08-07T03:08:52.817927Z"
    }
   },
   "outputs": [],
   "source": [
    "n_layers = 6\n",
    "weight_shapes = {\"weights\": (n_layers, n_qubits),\n",
    "                \"bias\": (n_qubits,)}"
   ]
  },
  {
   "cell_type": "code",
   "execution_count": 27,
   "id": "e3b8602b",
   "metadata": {
    "ExecuteTime": {
     "end_time": "2022-08-07T03:08:53.634962Z",
     "start_time": "2022-08-07T03:08:53.573946Z"
    }
   },
   "outputs": [],
   "source": [
    "qlayer = qml.qnn.KerasLayer(qnode, weight_shapes, output_dim=n_qubits)"
   ]
  },
  {
   "cell_type": "code",
   "execution_count": 28,
   "id": "9aa58267",
   "metadata": {
    "ExecuteTime": {
     "end_time": "2022-08-07T03:08:55.075737Z",
     "start_time": "2022-08-07T03:08:55.016779Z"
    }
   },
   "outputs": [],
   "source": [
    "# rlayer = tf.keras.layers.Reshape((64,), input_shape=(8,8,1))\n",
    "clayer_1 = tf.keras.layers.Dense(2)\n",
    "clayer_2 = tf.keras.layers.Dense(2, activation=\"softmax\")\n",
    "model = tf.keras.models.Sequential([clayer_1, qlayer, clayer_2])"
   ]
  },
  {
   "cell_type": "code",
   "execution_count": 36,
   "id": "c53a9879",
   "metadata": {
    "ExecuteTime": {
     "end_time": "2022-08-07T03:11:08.410882Z",
     "start_time": "2022-08-07T03:11:08.332306Z"
    }
   },
   "outputs": [],
   "source": [
    "opt = tf.keras.optimizers.Adam(learning_rate=0.2)\n",
    "model.compile(opt, loss=\"mae\", metrics=[\"accuracy\", tf.keras.metrics.AUC()])"
   ]
  },
  {
   "cell_type": "code",
   "execution_count": 37,
   "id": "7bf9192d",
   "metadata": {
    "ExecuteTime": {
     "end_time": "2022-08-07T03:11:09.209064Z",
     "start_time": "2022-08-07T03:11:08.589642Z"
    }
   },
   "outputs": [
    {
     "ename": "InvalidArgumentError",
     "evalue": "cannot compute Mul as input #1(zero-based) was expected to be a double tensor but is a float tensor [Op:Mul]",
     "output_type": "error",
     "traceback": [
      "\u001b[0;31m---------------------------------------------------------------------------\u001b[0m",
      "\u001b[0;31mInvalidArgumentError\u001b[0m                      Traceback (most recent call last)",
      "\u001b[0;32m/tmp/ipykernel_4367/3382063724.py\u001b[0m in \u001b[0;36m<module>\u001b[0;34m\u001b[0m\n\u001b[1;32m      3\u001b[0m                    \u001b[0mepochs\u001b[0m\u001b[0;34m=\u001b[0m\u001b[0;36m1\u001b[0m\u001b[0;34m,\u001b[0m\u001b[0;34m\u001b[0m\u001b[0;34m\u001b[0m\u001b[0m\n\u001b[1;32m      4\u001b[0m                    \u001b[0mshuffle\u001b[0m\u001b[0;34m=\u001b[0m\u001b[0;32mTrue\u001b[0m\u001b[0;34m,\u001b[0m\u001b[0;34m\u001b[0m\u001b[0;34m\u001b[0m\u001b[0m\n\u001b[0;32m----> 5\u001b[0;31m                    workers=2)\n\u001b[0m",
      "\u001b[0;32m~/Documents/qml-hep-lhc/qenv/lib/python3.7/site-packages/keras/utils/traceback_utils.py\u001b[0m in \u001b[0;36merror_handler\u001b[0;34m(*args, **kwargs)\u001b[0m\n\u001b[1;32m     65\u001b[0m     \u001b[0;32mexcept\u001b[0m \u001b[0mException\u001b[0m \u001b[0;32mas\u001b[0m \u001b[0me\u001b[0m\u001b[0;34m:\u001b[0m  \u001b[0;31m# pylint: disable=broad-except\u001b[0m\u001b[0;34m\u001b[0m\u001b[0;34m\u001b[0m\u001b[0m\n\u001b[1;32m     66\u001b[0m       \u001b[0mfiltered_tb\u001b[0m \u001b[0;34m=\u001b[0m \u001b[0m_process_traceback_frames\u001b[0m\u001b[0;34m(\u001b[0m\u001b[0me\u001b[0m\u001b[0;34m.\u001b[0m\u001b[0m__traceback__\u001b[0m\u001b[0;34m)\u001b[0m\u001b[0;34m\u001b[0m\u001b[0;34m\u001b[0m\u001b[0m\n\u001b[0;32m---> 67\u001b[0;31m       \u001b[0;32mraise\u001b[0m \u001b[0me\u001b[0m\u001b[0;34m.\u001b[0m\u001b[0mwith_traceback\u001b[0m\u001b[0;34m(\u001b[0m\u001b[0mfiltered_tb\u001b[0m\u001b[0;34m)\u001b[0m \u001b[0;32mfrom\u001b[0m \u001b[0;32mNone\u001b[0m\u001b[0;34m\u001b[0m\u001b[0;34m\u001b[0m\u001b[0m\n\u001b[0m\u001b[1;32m     68\u001b[0m     \u001b[0;32mfinally\u001b[0m\u001b[0;34m:\u001b[0m\u001b[0;34m\u001b[0m\u001b[0;34m\u001b[0m\u001b[0m\n\u001b[1;32m     69\u001b[0m       \u001b[0;32mdel\u001b[0m \u001b[0mfiltered_tb\u001b[0m\u001b[0;34m\u001b[0m\u001b[0;34m\u001b[0m\u001b[0m\n",
      "\u001b[0;32m~/Documents/qml-hep-lhc/qenv/lib/python3.7/site-packages/tensorflow/python/framework/ops.py\u001b[0m in \u001b[0;36mraise_from_not_ok_status\u001b[0;34m(e, name)\u001b[0m\n\u001b[1;32m   7105\u001b[0m \u001b[0;32mdef\u001b[0m \u001b[0mraise_from_not_ok_status\u001b[0m\u001b[0;34m(\u001b[0m\u001b[0me\u001b[0m\u001b[0;34m,\u001b[0m \u001b[0mname\u001b[0m\u001b[0;34m)\u001b[0m\u001b[0;34m:\u001b[0m\u001b[0;34m\u001b[0m\u001b[0;34m\u001b[0m\u001b[0m\n\u001b[1;32m   7106\u001b[0m   \u001b[0me\u001b[0m\u001b[0;34m.\u001b[0m\u001b[0mmessage\u001b[0m \u001b[0;34m+=\u001b[0m \u001b[0;34m(\u001b[0m\u001b[0;34m\" name: \"\u001b[0m \u001b[0;34m+\u001b[0m \u001b[0mname\u001b[0m \u001b[0;32mif\u001b[0m \u001b[0mname\u001b[0m \u001b[0;32mis\u001b[0m \u001b[0;32mnot\u001b[0m \u001b[0;32mNone\u001b[0m \u001b[0;32melse\u001b[0m \u001b[0;34m\"\"\u001b[0m\u001b[0;34m)\u001b[0m\u001b[0;34m\u001b[0m\u001b[0;34m\u001b[0m\u001b[0m\n\u001b[0;32m-> 7107\u001b[0;31m   \u001b[0;32mraise\u001b[0m \u001b[0mcore\u001b[0m\u001b[0;34m.\u001b[0m\u001b[0m_status_to_exception\u001b[0m\u001b[0;34m(\u001b[0m\u001b[0me\u001b[0m\u001b[0;34m)\u001b[0m \u001b[0;32mfrom\u001b[0m \u001b[0;32mNone\u001b[0m  \u001b[0;31m# pylint: disable=protected-access\u001b[0m\u001b[0;34m\u001b[0m\u001b[0;34m\u001b[0m\u001b[0m\n\u001b[0m\u001b[1;32m   7108\u001b[0m \u001b[0;34m\u001b[0m\u001b[0m\n\u001b[1;32m   7109\u001b[0m \u001b[0;34m\u001b[0m\u001b[0m\n",
      "\u001b[0;31mInvalidArgumentError\u001b[0m: cannot compute Mul as input #1(zero-based) was expected to be a double tensor but is a float tensor [Op:Mul]"
     ]
    }
   ],
   "source": [
    "fitting = model.fit(X,y_hot,\n",
    "                    batch_size=4,\n",
    "                   epochs=1,\n",
    "                   shuffle=True,\n",
    "                   workers=2)"
   ]
  },
  {
   "cell_type": "code",
   "execution_count": null,
   "id": "6198df43",
   "metadata": {},
   "outputs": [],
   "source": []
  }
 ],
 "metadata": {
  "kernelspec": {
   "display_name": "Python (qenv)",
   "language": "python",
   "name": "qenv"
  },
  "language_info": {
   "codemirror_mode": {
    "name": "ipython",
    "version": 3
   },
   "file_extension": ".py",
   "mimetype": "text/x-python",
   "name": "python",
   "nbconvert_exporter": "python",
   "pygments_lexer": "ipython3",
   "version": "3.7.13"
  },
  "latex_envs": {
   "LaTeX_envs_menu_present": true,
   "autoclose": false,
   "autocomplete": true,
   "bibliofile": "biblio.bib",
   "cite_by": "apalike",
   "current_citInitial": 1,
   "eqLabelWithNumbers": true,
   "eqNumInitial": 1,
   "hotkeys": {
    "equation": "Ctrl-E",
    "itemize": "Ctrl-I"
   },
   "labels_anchors": false,
   "latex_user_defs": false,
   "report_style_numbering": false,
   "user_envs_cfg": false
  },
  "toc": {
   "base_numbering": 1,
   "nav_menu": {},
   "number_sections": true,
   "sideBar": true,
   "skip_h1_title": false,
   "title_cell": "Table of Contents",
   "title_sidebar": "Contents",
   "toc_cell": false,
   "toc_position": {},
   "toc_section_display": true,
   "toc_window_display": false
  }
 },
 "nbformat": 4,
 "nbformat_minor": 5
}
