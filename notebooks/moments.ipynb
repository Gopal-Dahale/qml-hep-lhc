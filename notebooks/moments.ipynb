{
 "cells": [
  {
   "cell_type": "code",
   "execution_count": 1,
   "id": "c8f3f002",
   "metadata": {
    "ExecuteTime": {
     "end_time": "2022-07-04T09:50:36.028609Z",
     "start_time": "2022-07-04T09:50:15.964992Z"
    }
   },
   "outputs": [],
   "source": [
    "import cirq\n",
    "from qiskit import *"
   ]
  },
  {
   "cell_type": "code",
   "execution_count": 2,
   "id": "65d5ddc2",
   "metadata": {
    "ExecuteTime": {
     "end_time": "2022-07-04T09:50:36.048983Z",
     "start_time": "2022-07-04T09:50:36.039256Z"
    }
   },
   "outputs": [],
   "source": [
    "qc = cirq.Circuit()\n",
    "qubits = cirq.GridQubit.rect(1,4)\n",
    "qc.append(cirq.CNOT(qubits[0], qubits[3]))\n",
    "qc.append(cirq.CNOT(qubits[0], qubits[2]))"
   ]
  },
  {
   "cell_type": "code",
   "execution_count": 3,
   "id": "d5157b97",
   "metadata": {
    "ExecuteTime": {
     "end_time": "2022-07-04T09:50:36.215332Z",
     "start_time": "2022-07-04T09:50:36.060772Z"
    }
   },
   "outputs": [
    {
     "data": {
      "text/html": [
       "<pre style=\"overflow: auto; white-space: pre;\">(0, 0): ───@───@───\n",
       "           │   │\n",
       "(0, 2): ───┼───X───\n",
       "           │\n",
       "(0, 3): ───X───────</pre>"
      ],
      "text/plain": [
       "(0, 0): ───@───@───\n",
       "           │   │\n",
       "(0, 2): ───┼───X───\n",
       "           │\n",
       "(0, 3): ───X───────"
      ]
     },
     "execution_count": 3,
     "metadata": {},
     "output_type": "execute_result"
    }
   ],
   "source": [
    "qc"
   ]
  },
  {
   "cell_type": "code",
   "execution_count": 7,
   "id": "840d55d1",
   "metadata": {
    "ExecuteTime": {
     "end_time": "2022-07-04T09:51:03.220914Z",
     "start_time": "2022-07-04T09:51:03.035759Z"
    }
   },
   "outputs": [
    {
     "data": {
      "text/plain": [
       "matplotlib.figure.Figure"
      ]
     },
     "execution_count": 7,
     "metadata": {},
     "output_type": "execute_result"
    }
   ],
   "source": [
    "type(QuantumCircuit.from_qasm_str(qc.to_qasm()).draw('mpl'))"
   ]
  },
  {
   "cell_type": "code",
   "execution_count": 3,
   "id": "21b50a89",
   "metadata": {
    "ExecuteTime": {
     "end_time": "2022-07-05T13:02:33.743085Z",
     "start_time": "2022-07-05T13:02:33.725642Z"
    }
   },
   "outputs": [
    {
     "data": {
      "text/plain": [
       "False"
      ]
     },
     "execution_count": 3,
     "metadata": {},
     "output_type": "execute_result"
    }
   ],
   "source": [
    "a = (3,3)\n",
    "isinstance(a,int)"
   ]
  },
  {
   "cell_type": "code",
   "execution_count": 5,
   "id": "9307b447",
   "metadata": {
    "ExecuteTime": {
     "end_time": "2022-07-05T13:50:24.337387Z",
     "start_time": "2022-07-05T13:50:24.166830Z"
    }
   },
   "outputs": [],
   "source": [
    "import numpy as np"
   ]
  },
  {
   "cell_type": "code",
   "execution_count": 13,
   "id": "1cad1392",
   "metadata": {
    "ExecuteTime": {
     "end_time": "2022-07-05T13:53:27.357301Z",
     "start_time": "2022-07-05T13:53:27.338152Z"
    }
   },
   "outputs": [
    {
     "data": {
      "text/plain": [
       "array([2., 2.])"
      ]
     },
     "execution_count": 13,
     "metadata": {},
     "output_type": "execute_result"
    }
   ],
   "source": [
    "i = np.array((4,4))\n",
    "k = np.array((3,3))\n",
    "np.ceil(i/k)"
   ]
  },
  {
   "cell_type": "code",
   "execution_count": 14,
   "id": "331a1532",
   "metadata": {
    "ExecuteTime": {
     "end_time": "2022-07-05T15:27:59.105181Z",
     "start_time": "2022-07-05T15:27:56.296645Z"
    }
   },
   "outputs": [
    {
     "name": "stderr",
     "output_type": "stream",
     "text": [
      "2022-07-05 20:57:56.486832: W tensorflow/stream_executor/platform/default/dso_loader.cc:64] Could not load dynamic library 'libcudart.so.11.0'; dlerror: libcudart.so.11.0: cannot open shared object file: No such file or directory\n",
      "2022-07-05 20:57:56.486869: I tensorflow/stream_executor/cuda/cudart_stub.cc:29] Ignore above cudart dlerror if you do not have a GPU set up on your machine.\n"
     ]
    }
   ],
   "source": [
    "import tensorflow as tf"
   ]
  },
  {
   "cell_type": "code",
   "execution_count": 15,
   "id": "37b77543",
   "metadata": {
    "ExecuteTime": {
     "end_time": "2022-07-05T15:28:21.439708Z",
     "start_time": "2022-07-05T15:28:21.392370Z"
    }
   },
   "outputs": [
    {
     "name": "stderr",
     "output_type": "stream",
     "text": [
      "2022-07-05 20:58:21.429041: E tensorflow/stream_executor/cuda/cuda_driver.cc:271] failed call to cuInit: CUDA_ERROR_NO_DEVICE: no CUDA-capable device is detected\n",
      "2022-07-05 20:58:21.429086: I tensorflow/stream_executor/cuda/cuda_diagnostics.cc:156] kernel driver does not appear to be running on this host (bhagvada): /proc/driver/nvidia/version does not exist\n",
      "2022-07-05 20:58:21.432303: I tensorflow/core/platform/cpu_feature_guard.cc:151] This TensorFlow binary is optimized with oneAPI Deep Neural Network Library (oneDNN) to use the following CPU instructions in performance-critical operations:  AVX2 FMA\n",
      "To enable them in other operations, rebuild TensorFlow with the appropriate compiler flags.\n"
     ]
    }
   ],
   "source": [
    "a = tf.constant([[1,2,3],[4,5,6]], tf.int32)"
   ]
  },
  {
   "cell_type": "code",
   "execution_count": 19,
   "id": "92fcd173",
   "metadata": {
    "ExecuteTime": {
     "end_time": "2022-07-05T15:29:10.396463Z",
     "start_time": "2022-07-05T15:29:10.366993Z"
    }
   },
   "outputs": [
    {
     "data": {
      "text/plain": [
       "<tf.Tensor: shape=(2, 3), dtype=bool, numpy=\n",
       "array([[ True,  True,  True],\n",
       "       [ True,  True,  True]])>"
      ]
     },
     "execution_count": 19,
     "metadata": {},
     "output_type": "execute_result"
    }
   ],
   "source": [
    "a == tf.tile(a,[1,1])"
   ]
  },
  {
   "cell_type": "code",
   "execution_count": null,
   "id": "0b608670",
   "metadata": {},
   "outputs": [],
   "source": []
  }
 ],
 "metadata": {
  "kernelspec": {
   "display_name": "Python (qenv)",
   "language": "python",
   "name": "qenv"
  },
  "language_info": {
   "codemirror_mode": {
    "name": "ipython",
    "version": 3
   },
   "file_extension": ".py",
   "mimetype": "text/x-python",
   "name": "python",
   "nbconvert_exporter": "python",
   "pygments_lexer": "ipython3",
   "version": "3.7.13"
  },
  "latex_envs": {
   "LaTeX_envs_menu_present": true,
   "autoclose": false,
   "autocomplete": true,
   "bibliofile": "biblio.bib",
   "cite_by": "apalike",
   "current_citInitial": 1,
   "eqLabelWithNumbers": true,
   "eqNumInitial": 1,
   "hotkeys": {
    "equation": "Ctrl-E",
    "itemize": "Ctrl-I"
   },
   "labels_anchors": false,
   "latex_user_defs": false,
   "report_style_numbering": false,
   "user_envs_cfg": false
  },
  "toc": {
   "base_numbering": 1,
   "nav_menu": {},
   "number_sections": true,
   "sideBar": true,
   "skip_h1_title": false,
   "title_cell": "Table of Contents",
   "title_sidebar": "Contents",
   "toc_cell": false,
   "toc_position": {},
   "toc_section_display": true,
   "toc_window_display": false
  }
 },
 "nbformat": 4,
 "nbformat_minor": 5
}
