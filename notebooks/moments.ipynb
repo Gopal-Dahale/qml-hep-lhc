{
 "cells": [
  {
   "cell_type": "code",
   "execution_count": 1,
   "id": "c8f3f002",
   "metadata": {
    "ExecuteTime": {
     "end_time": "2022-07-04T09:50:36.028609Z",
     "start_time": "2022-07-04T09:50:15.964992Z"
    }
   },
   "outputs": [],
   "source": [
    "import cirq\n",
    "from qiskit import *"
   ]
  },
  {
   "cell_type": "code",
   "execution_count": 2,
   "id": "65d5ddc2",
   "metadata": {
    "ExecuteTime": {
     "end_time": "2022-07-04T09:50:36.048983Z",
     "start_time": "2022-07-04T09:50:36.039256Z"
    }
   },
   "outputs": [],
   "source": [
    "qc = cirq.Circuit()\n",
    "qubits = cirq.GridQubit.rect(1,4)\n",
    "qc.append(cirq.CNOT(qubits[0], qubits[3]))\n",
    "qc.append(cirq.CNOT(qubits[0], qubits[2]))"
   ]
  },
  {
   "cell_type": "code",
   "execution_count": 3,
   "id": "d5157b97",
   "metadata": {
    "ExecuteTime": {
     "end_time": "2022-07-04T09:50:36.215332Z",
     "start_time": "2022-07-04T09:50:36.060772Z"
    }
   },
   "outputs": [
    {
     "data": {
      "text/html": [
       "<pre style=\"overflow: auto; white-space: pre;\">(0, 0): ───@───@───\n",
       "           │   │\n",
       "(0, 2): ───┼───X───\n",
       "           │\n",
       "(0, 3): ───X───────</pre>"
      ],
      "text/plain": [
       "(0, 0): ───@───@───\n",
       "           │   │\n",
       "(0, 2): ───┼───X───\n",
       "           │\n",
       "(0, 3): ───X───────"
      ]
     },
     "execution_count": 3,
     "metadata": {},
     "output_type": "execute_result"
    }
   ],
   "source": [
    "qc"
   ]
  },
  {
   "cell_type": "code",
   "execution_count": 7,
   "id": "840d55d1",
   "metadata": {
    "ExecuteTime": {
     "end_time": "2022-07-04T09:51:03.220914Z",
     "start_time": "2022-07-04T09:51:03.035759Z"
    }
   },
   "outputs": [
    {
     "data": {
      "text/plain": [
       "matplotlib.figure.Figure"
      ]
     },
     "execution_count": 7,
     "metadata": {},
     "output_type": "execute_result"
    }
   ],
   "source": [
    "type(QuantumCircuit.from_qasm_str(qc.to_qasm()).draw('mpl'))"
   ]
  },
  {
   "cell_type": "code",
   "execution_count": null,
   "id": "21b50a89",
   "metadata": {},
   "outputs": [],
   "source": []
  }
 ],
 "metadata": {
  "kernelspec": {
   "display_name": "Python (qenv)",
   "language": "python",
   "name": "qenv"
  },
  "language_info": {
   "codemirror_mode": {
    "name": "ipython",
    "version": 3
   },
   "file_extension": ".py",
   "mimetype": "text/x-python",
   "name": "python",
   "nbconvert_exporter": "python",
   "pygments_lexer": "ipython3",
   "version": "3.7.13"
  },
  "latex_envs": {
   "LaTeX_envs_menu_present": true,
   "autoclose": false,
   "autocomplete": true,
   "bibliofile": "biblio.bib",
   "cite_by": "apalike",
   "current_citInitial": 1,
   "eqLabelWithNumbers": true,
   "eqNumInitial": 1,
   "hotkeys": {
    "equation": "Ctrl-E",
    "itemize": "Ctrl-I"
   },
   "labels_anchors": false,
   "latex_user_defs": false,
   "report_style_numbering": false,
   "user_envs_cfg": false
  },
  "toc": {
   "base_numbering": 1,
   "nav_menu": {},
   "number_sections": true,
   "sideBar": true,
   "skip_h1_title": false,
   "title_cell": "Table of Contents",
   "title_sidebar": "Contents",
   "toc_cell": false,
   "toc_position": {},
   "toc_section_display": true,
   "toc_window_display": false
  }
 },
 "nbformat": 4,
 "nbformat_minor": 5
}
