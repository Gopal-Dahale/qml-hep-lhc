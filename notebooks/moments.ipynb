{
 "cells": [
  {
   "cell_type": "code",
   "execution_count": 8,
   "id": "c8f3f002",
   "metadata": {
    "ExecuteTime": {
     "end_time": "2022-07-02T04:51:53.361446Z",
     "start_time": "2022-07-02T04:51:52.761798Z"
    }
   },
   "outputs": [],
   "source": [
    "import cirq\n",
    "from qiskit import *"
   ]
  },
  {
   "cell_type": "code",
   "execution_count": 9,
   "id": "65d5ddc2",
   "metadata": {
    "ExecuteTime": {
     "end_time": "2022-07-02T04:51:54.256113Z",
     "start_time": "2022-07-02T04:51:54.249306Z"
    }
   },
   "outputs": [],
   "source": [
    "qc = cirq.Circuit()\n",
    "qubits = cirq.GridQubit.rect(1,4)\n",
    "qc.append(cirq.CNOT(qubits[0], qubits[3]))\n",
    "qc.append(cirq.CNOT(qubits[0], qubits[2]))"
   ]
  },
  {
   "cell_type": "code",
   "execution_count": 10,
   "id": "d5157b97",
   "metadata": {
    "ExecuteTime": {
     "end_time": "2022-07-02T04:51:54.405502Z",
     "start_time": "2022-07-02T04:51:54.391042Z"
    }
   },
   "outputs": [
    {
     "data": {
      "text/html": [
       "<pre style=\"overflow: auto; white-space: pre;\">(0, 0): ───@───@───\n",
       "           │   │\n",
       "(0, 2): ───┼───X───\n",
       "           │\n",
       "(0, 3): ───X───────</pre>"
      ],
      "text/plain": [
       "(0, 0): ───@───@───\n",
       "           │   │\n",
       "(0, 2): ───┼───X───\n",
       "           │\n",
       "(0, 3): ───X───────"
      ]
     },
     "execution_count": 10,
     "metadata": {},
     "output_type": "execute_result"
    }
   ],
   "source": [
    "qc"
   ]
  },
  {
   "cell_type": "code",
   "execution_count": 20,
   "id": "31a26a2e",
   "metadata": {
    "ExecuteTime": {
     "end_time": "2022-07-02T05:02:23.102874Z",
     "start_time": "2022-07-02T05:02:22.999682Z"
    }
   },
   "outputs": [
    {
     "ename": "TypeError",
     "evalue": "write() missing 3 required positional arguments: 'x', 'y', and 'text'",
     "output_type": "error",
     "traceback": [
      "\u001b[0;31m---------------------------------------------------------------------------\u001b[0m",
      "\u001b[0;31mTypeError\u001b[0m                                 Traceback (most recent call last)",
      "\u001b[0;32m/tmp/ipykernel_5460/1007861763.py\u001b[0m in \u001b[0;36m<module>\u001b[0;34m\u001b[0m\n\u001b[0;32m----> 1\u001b[0;31m \u001b[0mqc\u001b[0m\u001b[0;34m.\u001b[0m\u001b[0mto_text_diagram_drawer\u001b[0m\u001b[0;34m(\u001b[0m\u001b[0;34m)\u001b[0m\u001b[0;34m.\u001b[0m\u001b[0mwrite\u001b[0m\u001b[0;34m(\u001b[0m\u001b[0;34m)\u001b[0m\u001b[0;34m\u001b[0m\u001b[0;34m\u001b[0m\u001b[0m\n\u001b[0m",
      "\u001b[0;31mTypeError\u001b[0m: write() missing 3 required positional arguments: 'x', 'y', and 'text'"
     ]
    }
   ],
   "source": [
    "qc.to_text_diagram_drawer()."
   ]
  },
  {
   "cell_type": "code",
   "execution_count": null,
   "id": "840d55d1",
   "metadata": {},
   "outputs": [],
   "source": []
  }
 ],
 "metadata": {
  "kernelspec": {
   "display_name": "Python (qenv)",
   "language": "python",
   "name": "qenv"
  },
  "language_info": {
   "codemirror_mode": {
    "name": "ipython",
    "version": 3
   },
   "file_extension": ".py",
   "mimetype": "text/x-python",
   "name": "python",
   "nbconvert_exporter": "python",
   "pygments_lexer": "ipython3",
   "version": "3.7.13"
  },
  "latex_envs": {
   "LaTeX_envs_menu_present": true,
   "autoclose": false,
   "autocomplete": true,
   "bibliofile": "biblio.bib",
   "cite_by": "apalike",
   "current_citInitial": 1,
   "eqLabelWithNumbers": true,
   "eqNumInitial": 1,
   "hotkeys": {
    "equation": "Ctrl-E",
    "itemize": "Ctrl-I"
   },
   "labels_anchors": false,
   "latex_user_defs": false,
   "report_style_numbering": false,
   "user_envs_cfg": false
  },
  "toc": {
   "base_numbering": 1,
   "nav_menu": {},
   "number_sections": true,
   "sideBar": true,
   "skip_h1_title": false,
   "title_cell": "Table of Contents",
   "title_sidebar": "Contents",
   "toc_cell": false,
   "toc_position": {},
   "toc_section_display": true,
   "toc_window_display": false
  }
 },
 "nbformat": 4,
 "nbformat_minor": 5
}
