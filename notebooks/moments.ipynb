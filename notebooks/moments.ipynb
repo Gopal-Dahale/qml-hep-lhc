{
 "cells": [
  {
   "cell_type": "code",
   "execution_count": 29,
   "id": "c8f3f002",
   "metadata": {
    "ExecuteTime": {
     "end_time": "2022-07-07T15:54:00.521823Z",
     "start_time": "2022-07-07T15:54:00.510143Z"
    }
   },
   "outputs": [],
   "source": [
    "import cirq\n",
    "import sympy\n",
    "from cirq.contrib.svg import SVGCircuit"
   ]
  },
  {
   "cell_type": "code",
   "execution_count": 33,
   "id": "65d5ddc2",
   "metadata": {
    "ExecuteTime": {
     "end_time": "2022-07-07T15:54:13.012366Z",
     "start_time": "2022-07-07T15:54:12.988434Z"
    }
   },
   "outputs": [],
   "source": [
    "a, b = sympy.symbols('a b')\n",
    "qc = cirq.Circuit()\n",
    "qubits = cirq.GridQubit.rect(1,4)\n",
    "qc.append(cirq.CNOT(qubits[0], qubits[3]))\n",
    "qc.append(cirq.CNOT(qubits[0], qubits[2]))\n",
    "qc.append(cirq.rx(a)(qubits[0]))\n",
    "qc.append(cirq.rx(a)(qubits[3]),strategy=cirq.InsertStrategy.NEW)"
   ]
  },
  {
   "cell_type": "code",
   "execution_count": 34,
   "id": "d5157b97",
   "metadata": {
    "ExecuteTime": {
     "end_time": "2022-07-07T15:54:13.374911Z",
     "start_time": "2022-07-07T15:54:13.149505Z"
    }
   },
   "outputs": [
    {
     "data": {
      "image/svg+xml": [
       "<svg xmlns=\"http://www.w3.org/2000/svg\" width=\"359.39578125\" height=\"150.0\"><line x1=\"34.7588671875\" x2=\"329.39578125\" y1=\"25.0\" y2=\"25.0\" stroke=\"#1967d2\" stroke-width=\"1\" /><line x1=\"34.7588671875\" x2=\"329.39578125\" y1=\"75.0\" y2=\"75.0\" stroke=\"#1967d2\" stroke-width=\"1\" /><line x1=\"34.7588671875\" x2=\"329.39578125\" y1=\"125.0\" y2=\"125.0\" stroke=\"#1967d2\" stroke-width=\"1\" /><line x1=\"99.517734375\" x2=\"99.517734375\" y1=\"25.0\" y2=\"125.0\" stroke=\"black\" stroke-width=\"3\" /><line x1=\"159.517734375\" x2=\"159.517734375\" y1=\"25.0\" y2=\"75.0\" stroke=\"black\" stroke-width=\"3\" /><rect x=\"10.0\" y=\"5.0\" width=\"49.517734375\" height=\"40\" stroke=\"black\" fill=\"white\" stroke-width=\"0\" /><text x=\"34.7588671875\" y=\"25.0\" dominant-baseline=\"middle\" text-anchor=\"middle\" font-size=\"14px\" font-family=\"Arial\">(0, 0): </text><rect x=\"10.0\" y=\"55.0\" width=\"49.517734375\" height=\"40\" stroke=\"black\" fill=\"white\" stroke-width=\"0\" /><text x=\"34.7588671875\" y=\"75.0\" dominant-baseline=\"middle\" text-anchor=\"middle\" font-size=\"14px\" font-family=\"Arial\">(0, 2): </text><rect x=\"10.0\" y=\"105.0\" width=\"49.517734375\" height=\"40\" stroke=\"black\" fill=\"white\" stroke-width=\"0\" /><text x=\"34.7588671875\" y=\"125.0\" dominant-baseline=\"middle\" text-anchor=\"middle\" font-size=\"14px\" font-family=\"Arial\">(0, 3): </text><circle cx=\"99.517734375\" cy=\"25.0\" r=\"10.0\" /><rect x=\"79.517734375\" y=\"105.0\" width=\"40\" height=\"40\" stroke=\"black\" fill=\"white\" stroke-width=\"1\" /><text x=\"99.517734375\" y=\"125.0\" dominant-baseline=\"middle\" text-anchor=\"middle\" font-size=\"18px\" font-family=\"Arial\">X</text><circle cx=\"159.517734375\" cy=\"25.0\" r=\"10.0\" /><rect x=\"139.517734375\" y=\"55.0\" width=\"40\" height=\"40\" stroke=\"black\" fill=\"white\" stroke-width=\"1\" /><text x=\"159.517734375\" y=\"75.0\" dominant-baseline=\"middle\" text-anchor=\"middle\" font-size=\"18px\" font-family=\"Arial\">X</text><rect x=\"199.517734375\" y=\"5.0\" width=\"44.9390234375\" height=\"40\" stroke=\"black\" fill=\"white\" stroke-width=\"1\" /><text x=\"221.98724609375\" y=\"25.0\" dominant-baseline=\"middle\" text-anchor=\"middle\" font-size=\"14px\" font-family=\"Arial\">Rx(a)</text><rect x=\"264.4567578125\" y=\"105.0\" width=\"44.9390234375\" height=\"40\" stroke=\"black\" fill=\"white\" stroke-width=\"1\" /><text x=\"286.92626953125\" y=\"125.0\" dominant-baseline=\"middle\" text-anchor=\"middle\" font-size=\"14px\" font-family=\"Arial\">Rx(a)</text></svg>"
      ],
      "text/plain": [
       "<cirq.contrib.svg.svg.SVGCircuit at 0x7fe20e4ed910>"
      ]
     },
     "execution_count": 34,
     "metadata": {},
     "output_type": "execute_result"
    }
   ],
   "source": [
    "SVGCircuit(qc)"
   ]
  },
  {
   "cell_type": "code",
   "execution_count": 35,
   "id": "2301edcb",
   "metadata": {
    "ExecuteTime": {
     "end_time": "2022-07-07T15:54:33.286396Z",
     "start_time": "2022-07-07T15:54:33.269832Z"
    }
   },
   "outputs": [
    {
     "data": {
      "text/html": [
       "<pre style=\"overflow: auto; white-space: pre;\">(0, 0): ───@───@───Rx(pi*&lt;a/pi&gt;)───────────────────\n",
       "           │   │\n",
       "(0, 2): ───┼───X───────────────────────────────────\n",
       "           │\n",
       "(0, 3): ───X───────────────────────Rx(pi*&lt;a/pi&gt;)───</pre>"
      ],
      "text/plain": [
       "(0, 0): ───@───@───Rx(pi*<a/pi>)───────────────────\n",
       "           │   │\n",
       "(0, 2): ───┼───X───────────────────────────────────\n",
       "           │\n",
       "(0, 3): ───X───────────────────────Rx(pi*<a/pi>)───"
      ]
     },
     "execution_count": 35,
     "metadata": {},
     "output_type": "execute_result"
    }
   ],
   "source": [
    "qc, expr_map = cirq.flatten(qc)\n",
    "qc"
   ]
  },
  {
   "cell_type": "code",
   "execution_count": 36,
   "id": "0b608670",
   "metadata": {
    "ExecuteTime": {
     "end_time": "2022-07-07T15:54:36.401390Z",
     "start_time": "2022-07-07T15:54:36.390568Z"
    }
   },
   "outputs": [
    {
     "data": {
      "text/html": [
       "<pre style=\"overflow: auto; white-space: pre;\">(0, 0): ───@───@───────────────Rx(pi*&lt;a/pi&gt;)───\n",
       "           │   │\n",
       "(0, 2): ───┼───X───────────────────────────────\n",
       "           │\n",
       "(0, 3): ───X───Rx(pi*&lt;a/pi&gt;)───────────────────</pre>"
      ],
      "text/plain": [
       "(0, 0): ───@───@───────────────Rx(pi*<a/pi>)───\n",
       "           │   │\n",
       "(0, 2): ───┼───X───────────────────────────────\n",
       "           │\n",
       "(0, 3): ───X───Rx(pi*<a/pi>)───────────────────"
      ]
     },
     "execution_count": 36,
     "metadata": {},
     "output_type": "execute_result"
    }
   ],
   "source": [
    "cirq.align_left(qc)"
   ]
  },
  {
   "cell_type": "code",
   "execution_count": null,
   "id": "b1120330",
   "metadata": {},
   "outputs": [],
   "source": []
  }
 ],
 "metadata": {
  "kernelspec": {
   "display_name": "Python (qenv)",
   "language": "python",
   "name": "qenv"
  },
  "language_info": {
   "codemirror_mode": {
    "name": "ipython",
    "version": 3
   },
   "file_extension": ".py",
   "mimetype": "text/x-python",
   "name": "python",
   "nbconvert_exporter": "python",
   "pygments_lexer": "ipython3",
   "version": "3.7.13"
  },
  "latex_envs": {
   "LaTeX_envs_menu_present": true,
   "autoclose": false,
   "autocomplete": true,
   "bibliofile": "biblio.bib",
   "cite_by": "apalike",
   "current_citInitial": 1,
   "eqLabelWithNumbers": true,
   "eqNumInitial": 1,
   "hotkeys": {
    "equation": "Ctrl-E",
    "itemize": "Ctrl-I"
   },
   "labels_anchors": false,
   "latex_user_defs": false,
   "report_style_numbering": false,
   "user_envs_cfg": false
  },
  "toc": {
   "base_numbering": 1,
   "nav_menu": {},
   "number_sections": true,
   "sideBar": true,
   "skip_h1_title": false,
   "title_cell": "Table of Contents",
   "title_sidebar": "Contents",
   "toc_cell": false,
   "toc_position": {},
   "toc_section_display": true,
   "toc_window_display": false
  }
 },
 "nbformat": 4,
 "nbformat_minor": 5
}
