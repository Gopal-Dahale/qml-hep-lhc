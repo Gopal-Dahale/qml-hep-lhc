{
 "cells": [
  {
   "cell_type": "code",
   "execution_count": 1,
   "id": "c8f3f002",
   "metadata": {
    "ExecuteTime": {
     "end_time": "2022-07-09T08:42:17.893352Z",
     "start_time": "2022-07-09T08:42:03.078698Z"
    }
   },
   "outputs": [],
   "source": [
    "import cirq\n",
    "import sympy\n",
    "from cirq.contrib.svg import SVGCircuit"
   ]
  },
  {
   "cell_type": "code",
   "execution_count": 33,
   "id": "65d5ddc2",
   "metadata": {
    "ExecuteTime": {
     "end_time": "2022-07-07T15:54:13.012366Z",
     "start_time": "2022-07-07T15:54:12.988434Z"
    }
   },
   "outputs": [],
   "source": [
    "a, b = sympy.symbols('a b')\n",
    "qc = cirq.Circuit()\n",
    "qubits = cirq.GridQubit.rect(1,4)\n",
    "qc.append(cirq.CNOT(qubits[0], qubits[3]))\n",
    "qc.append(cirq.CNOT(qubits[0], qubits[2]))\n",
    "qc.append(cirq.rx(a)(qubits[0]))\n",
    "qc.append(cirq.rx(a)(qubits[3]),strategy=cirq.InsertStrategy.NEW)"
   ]
  },
  {
   "cell_type": "code",
   "execution_count": 34,
   "id": "d5157b97",
   "metadata": {
    "ExecuteTime": {
     "end_time": "2022-07-07T15:54:13.374911Z",
     "start_time": "2022-07-07T15:54:13.149505Z"
    }
   },
   "outputs": [
    {
     "data": {
      "image/svg+xml": [
       "<svg xmlns=\"http://www.w3.org/2000/svg\" width=\"359.39578125\" height=\"150.0\"><line x1=\"34.7588671875\" x2=\"329.39578125\" y1=\"25.0\" y2=\"25.0\" stroke=\"#1967d2\" stroke-width=\"1\" /><line x1=\"34.7588671875\" x2=\"329.39578125\" y1=\"75.0\" y2=\"75.0\" stroke=\"#1967d2\" stroke-width=\"1\" /><line x1=\"34.7588671875\" x2=\"329.39578125\" y1=\"125.0\" y2=\"125.0\" stroke=\"#1967d2\" stroke-width=\"1\" /><line x1=\"99.517734375\" x2=\"99.517734375\" y1=\"25.0\" y2=\"125.0\" stroke=\"black\" stroke-width=\"3\" /><line x1=\"159.517734375\" x2=\"159.517734375\" y1=\"25.0\" y2=\"75.0\" stroke=\"black\" stroke-width=\"3\" /><rect x=\"10.0\" y=\"5.0\" width=\"49.517734375\" height=\"40\" stroke=\"black\" fill=\"white\" stroke-width=\"0\" /><text x=\"34.7588671875\" y=\"25.0\" dominant-baseline=\"middle\" text-anchor=\"middle\" font-size=\"14px\" font-family=\"Arial\">(0, 0): </text><rect x=\"10.0\" y=\"55.0\" width=\"49.517734375\" height=\"40\" stroke=\"black\" fill=\"white\" stroke-width=\"0\" /><text x=\"34.7588671875\" y=\"75.0\" dominant-baseline=\"middle\" text-anchor=\"middle\" font-size=\"14px\" font-family=\"Arial\">(0, 2): </text><rect x=\"10.0\" y=\"105.0\" width=\"49.517734375\" height=\"40\" stroke=\"black\" fill=\"white\" stroke-width=\"0\" /><text x=\"34.7588671875\" y=\"125.0\" dominant-baseline=\"middle\" text-anchor=\"middle\" font-size=\"14px\" font-family=\"Arial\">(0, 3): </text><circle cx=\"99.517734375\" cy=\"25.0\" r=\"10.0\" /><rect x=\"79.517734375\" y=\"105.0\" width=\"40\" height=\"40\" stroke=\"black\" fill=\"white\" stroke-width=\"1\" /><text x=\"99.517734375\" y=\"125.0\" dominant-baseline=\"middle\" text-anchor=\"middle\" font-size=\"18px\" font-family=\"Arial\">X</text><circle cx=\"159.517734375\" cy=\"25.0\" r=\"10.0\" /><rect x=\"139.517734375\" y=\"55.0\" width=\"40\" height=\"40\" stroke=\"black\" fill=\"white\" stroke-width=\"1\" /><text x=\"159.517734375\" y=\"75.0\" dominant-baseline=\"middle\" text-anchor=\"middle\" font-size=\"18px\" font-family=\"Arial\">X</text><rect x=\"199.517734375\" y=\"5.0\" width=\"44.9390234375\" height=\"40\" stroke=\"black\" fill=\"white\" stroke-width=\"1\" /><text x=\"221.98724609375\" y=\"25.0\" dominant-baseline=\"middle\" text-anchor=\"middle\" font-size=\"14px\" font-family=\"Arial\">Rx(a)</text><rect x=\"264.4567578125\" y=\"105.0\" width=\"44.9390234375\" height=\"40\" stroke=\"black\" fill=\"white\" stroke-width=\"1\" /><text x=\"286.92626953125\" y=\"125.0\" dominant-baseline=\"middle\" text-anchor=\"middle\" font-size=\"14px\" font-family=\"Arial\">Rx(a)</text></svg>"
      ],
      "text/plain": [
       "<cirq.contrib.svg.svg.SVGCircuit at 0x7fe20e4ed910>"
      ]
     },
     "execution_count": 34,
     "metadata": {},
     "output_type": "execute_result"
    }
   ],
   "source": [
    "SVGCircuit(qc)"
   ]
  },
  {
   "cell_type": "code",
   "execution_count": 35,
   "id": "2301edcb",
   "metadata": {
    "ExecuteTime": {
     "end_time": "2022-07-07T15:54:33.286396Z",
     "start_time": "2022-07-07T15:54:33.269832Z"
    }
   },
   "outputs": [
    {
     "data": {
      "text/html": [
       "<pre style=\"overflow: auto; white-space: pre;\">(0, 0): ───@───@───Rx(pi*&lt;a/pi&gt;)───────────────────\n",
       "           │   │\n",
       "(0, 2): ───┼───X───────────────────────────────────\n",
       "           │\n",
       "(0, 3): ───X───────────────────────Rx(pi*&lt;a/pi&gt;)───</pre>"
      ],
      "text/plain": [
       "(0, 0): ───@───@───Rx(pi*<a/pi>)───────────────────\n",
       "           │   │\n",
       "(0, 2): ───┼───X───────────────────────────────────\n",
       "           │\n",
       "(0, 3): ───X───────────────────────Rx(pi*<a/pi>)───"
      ]
     },
     "execution_count": 35,
     "metadata": {},
     "output_type": "execute_result"
    }
   ],
   "source": [
    "qc, expr_map = cirq.flatten(qc)\n",
    "qc"
   ]
  },
  {
   "cell_type": "code",
   "execution_count": 36,
   "id": "0b608670",
   "metadata": {
    "ExecuteTime": {
     "end_time": "2022-07-07T15:54:36.401390Z",
     "start_time": "2022-07-07T15:54:36.390568Z"
    }
   },
   "outputs": [
    {
     "data": {
      "text/html": [
       "<pre style=\"overflow: auto; white-space: pre;\">(0, 0): ───@───@───────────────Rx(pi*&lt;a/pi&gt;)───\n",
       "           │   │\n",
       "(0, 2): ───┼───X───────────────────────────────\n",
       "           │\n",
       "(0, 3): ───X───Rx(pi*&lt;a/pi&gt;)───────────────────</pre>"
      ],
      "text/plain": [
       "(0, 0): ───@───@───────────────Rx(pi*<a/pi>)───\n",
       "           │   │\n",
       "(0, 2): ───┼───X───────────────────────────────\n",
       "           │\n",
       "(0, 3): ───X───Rx(pi*<a/pi>)───────────────────"
      ]
     },
     "execution_count": 36,
     "metadata": {},
     "output_type": "execute_result"
    }
   ],
   "source": [
    "cirq.align_left(qc)"
   ]
  },
  {
   "cell_type": "code",
   "execution_count": 5,
   "id": "b1120330",
   "metadata": {
    "ExecuteTime": {
     "end_time": "2022-07-09T08:42:37.719582Z",
     "start_time": "2022-07-09T08:42:37.713756Z"
    }
   },
   "outputs": [],
   "source": [
    "import sympy\n",
    "import numpy as np"
   ]
  },
  {
   "cell_type": "code",
   "execution_count": 10,
   "id": "1f86fd7c",
   "metadata": {
    "ExecuteTime": {
     "end_time": "2022-07-09T08:43:21.039078Z",
     "start_time": "2022-07-09T08:43:21.031752Z"
    }
   },
   "outputs": [],
   "source": [
    "n_layers = 2\n",
    "n_qubits = 4\n",
    "\n",
    "params = sympy.symbols(f'theta(0:{3*(n_layers+1)*n_qubits})')\n",
    "params = np.asarray(params).reshape((n_layers + 1, n_qubits, 3))\n",
    "\n",
    "inputs = sympy.symbols(f'x(0:{n_layers})'+f'_(0:{n_qubits})')\n",
    "inputs = np.asarray(inputs).reshape((n_layers, n_qubits))"
   ]
  },
  {
   "cell_type": "code",
   "execution_count": 11,
   "id": "c38c90af",
   "metadata": {
    "ExecuteTime": {
     "end_time": "2022-07-09T08:43:21.783602Z",
     "start_time": "2022-07-09T08:43:21.772890Z"
    }
   },
   "outputs": [
    {
     "data": {
      "text/plain": [
       "array([[x0_0, x0_1, x0_2, x0_3],\n",
       "       [x1_0, x1_1, x1_2, x1_3]], dtype=object)"
      ]
     },
     "execution_count": 11,
     "metadata": {},
     "output_type": "execute_result"
    }
   ],
   "source": [
    "inputs"
   ]
  },
  {
   "cell_type": "code",
   "execution_count": 12,
   "id": "8792bb22",
   "metadata": {
    "ExecuteTime": {
     "end_time": "2022-07-09T08:43:24.787285Z",
     "start_time": "2022-07-09T08:43:24.780601Z"
    }
   },
   "outputs": [
    {
     "data": {
      "text/plain": [
       "array([[[theta0, theta1, theta2],\n",
       "        [theta3, theta4, theta5],\n",
       "        [theta6, theta7, theta8],\n",
       "        [theta9, theta10, theta11]],\n",
       "\n",
       "       [[theta12, theta13, theta14],\n",
       "        [theta15, theta16, theta17],\n",
       "        [theta18, theta19, theta20],\n",
       "        [theta21, theta22, theta23]],\n",
       "\n",
       "       [[theta24, theta25, theta26],\n",
       "        [theta27, theta28, theta29],\n",
       "        [theta30, theta31, theta32],\n",
       "        [theta33, theta34, theta35]]], dtype=object)"
      ]
     },
     "execution_count": 12,
     "metadata": {},
     "output_type": "execute_result"
    }
   ],
   "source": [
    "params"
   ]
  },
  {
   "cell_type": "code",
   "execution_count": 13,
   "id": "39834c93",
   "metadata": {
    "ExecuteTime": {
     "end_time": "2022-07-09T08:45:15.311973Z",
     "start_time": "2022-07-09T08:45:15.301612Z"
    }
   },
   "outputs": [],
   "source": [
    "inputs = list(inputs.flat)\n",
    "params = list(params.flat)"
   ]
  },
  {
   "cell_type": "code",
   "execution_count": 21,
   "id": "a85cb314",
   "metadata": {
    "ExecuteTime": {
     "end_time": "2022-07-09T08:48:46.041429Z",
     "start_time": "2022-07-09T08:48:46.033425Z"
    }
   },
   "outputs": [
    {
     "data": {
      "text/plain": [
       "['x0_0',\n",
       " 'x0_1',\n",
       " 'x0_2',\n",
       " 'x0_3',\n",
       " 'x1_0',\n",
       " 'x1_1',\n",
       " 'x1_2',\n",
       " 'x1_3',\n",
       " 'theta0',\n",
       " 'theta1',\n",
       " 'theta2',\n",
       " 'theta3',\n",
       " 'theta4',\n",
       " 'theta5',\n",
       " 'theta6',\n",
       " 'theta7',\n",
       " 'theta8',\n",
       " 'theta9',\n",
       " 'theta10',\n",
       " 'theta11',\n",
       " 'theta12',\n",
       " 'theta13',\n",
       " 'theta14',\n",
       " 'theta15',\n",
       " 'theta16',\n",
       " 'theta17',\n",
       " 'theta18',\n",
       " 'theta19',\n",
       " 'theta20',\n",
       " 'theta21',\n",
       " 'theta22',\n",
       " 'theta23',\n",
       " 'theta24',\n",
       " 'theta25',\n",
       " 'theta26',\n",
       " 'theta27',\n",
       " 'theta28',\n",
       " 'theta29',\n",
       " 'theta30',\n",
       " 'theta31',\n",
       " 'theta32',\n",
       " 'theta33',\n",
       " 'theta34',\n",
       " 'theta35']"
      ]
     },
     "execution_count": 21,
     "metadata": {},
     "output_type": "execute_result"
    }
   ],
   "source": [
    "symbols = [str(symb) for symb in inputs + params]\n",
    "symbols"
   ]
  },
  {
   "cell_type": "code",
   "execution_count": 22,
   "id": "5e44552f",
   "metadata": {
    "ExecuteTime": {
     "end_time": "2022-07-09T08:48:49.274953Z",
     "start_time": "2022-07-09T08:48:49.254939Z"
    }
   },
   "outputs": [
    {
     "data": {
      "text/plain": [
       "[8,\n",
       " 9,\n",
       " 18,\n",
       " 19,\n",
       " 20,\n",
       " 21,\n",
       " 22,\n",
       " 23,\n",
       " 24,\n",
       " 25,\n",
       " 26,\n",
       " 27,\n",
       " 10,\n",
       " 28,\n",
       " 29,\n",
       " 30,\n",
       " 31,\n",
       " 32,\n",
       " 33,\n",
       " 34,\n",
       " 35,\n",
       " 36,\n",
       " 37,\n",
       " 11,\n",
       " 38,\n",
       " 39,\n",
       " 40,\n",
       " 41,\n",
       " 42,\n",
       " 43,\n",
       " 12,\n",
       " 13,\n",
       " 14,\n",
       " 15,\n",
       " 16,\n",
       " 17,\n",
       " 0,\n",
       " 1,\n",
       " 2,\n",
       " 3,\n",
       " 4,\n",
       " 5,\n",
       " 6,\n",
       " 7]"
      ]
     },
     "execution_count": 22,
     "metadata": {},
     "output_type": "execute_result"
    }
   ],
   "source": [
    "[symbols.index(a) for a in sorted(symbols)]"
   ]
  },
  {
   "cell_type": "code",
   "execution_count": null,
   "id": "15781ac3",
   "metadata": {},
   "outputs": [],
   "source": []
  }
 ],
 "metadata": {
  "kernelspec": {
   "display_name": "Python (qenv)",
   "language": "python",
   "name": "qenv"
  },
  "language_info": {
   "codemirror_mode": {
    "name": "ipython",
    "version": 3
   },
   "file_extension": ".py",
   "mimetype": "text/x-python",
   "name": "python",
   "nbconvert_exporter": "python",
   "pygments_lexer": "ipython3",
   "version": "3.7.13"
  },
  "latex_envs": {
   "LaTeX_envs_menu_present": true,
   "autoclose": false,
   "autocomplete": true,
   "bibliofile": "biblio.bib",
   "cite_by": "apalike",
   "current_citInitial": 1,
   "eqLabelWithNumbers": true,
   "eqNumInitial": 1,
   "hotkeys": {
    "equation": "Ctrl-E",
    "itemize": "Ctrl-I"
   },
   "labels_anchors": false,
   "latex_user_defs": false,
   "report_style_numbering": false,
   "user_envs_cfg": false
  },
  "toc": {
   "base_numbering": 1,
   "nav_menu": {},
   "number_sections": true,
   "sideBar": true,
   "skip_h1_title": false,
   "title_cell": "Table of Contents",
   "title_sidebar": "Contents",
   "toc_cell": false,
   "toc_position": {},
   "toc_section_display": true,
   "toc_window_display": false
  }
 },
 "nbformat": 4,
 "nbformat_minor": 5
}
