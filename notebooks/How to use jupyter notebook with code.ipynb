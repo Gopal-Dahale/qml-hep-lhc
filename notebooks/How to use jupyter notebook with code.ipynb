{
 "cells": [
  {
   "cell_type": "code",
   "execution_count": 1,
   "id": "8ce4848c",
   "metadata": {
    "ExecuteTime": {
     "end_time": "2022-06-13T10:54:03.037569Z",
     "start_time": "2022-06-13T10:53:59.246657Z"
    }
   },
   "outputs": [],
   "source": [
    "%load_ext autoreload\n",
    "%autoreload 2\n",
    "\n",
    "%matplotlib inline\n",
    "\n",
    "from importlib.util import find_spec\n",
    "if find_spec(\"qml_hep_lhc\") is None:\n",
    "    import sys\n",
    "    sys.path.append('..')"
   ]
  },
  {
   "cell_type": "code",
   "execution_count": 2,
   "id": "7bd645af",
   "metadata": {
    "ExecuteTime": {
     "end_time": "2022-06-13T10:54:57.681387Z",
     "start_time": "2022-06-13T10:54:03.041907Z"
    }
   },
   "outputs": [
    {
     "name": "stderr",
     "output_type": "stream",
     "text": [
      "2022-06-13 16:24:08.589021: W tensorflow/stream_executor/platform/default/dso_loader.cc:64] Could not load dynamic library 'libcudart.so.11.0'; dlerror: libcudart.so.11.0: cannot open shared object file: No such file or directory\n",
      "2022-06-13 16:24:08.589110: I tensorflow/stream_executor/cuda/cudart_stub.cc:29] Ignore above cudart dlerror if you do not have a GPU set up on your machine.\n",
      "2022-06-13 16:24:50.403636: E tensorflow/stream_executor/cuda/cuda_driver.cc:271] failed call to cuInit: CUDA_ERROR_NO_DEVICE: no CUDA-capable device is detected\n",
      "2022-06-13 16:24:50.403706: I tensorflow/stream_executor/cuda/cuda_diagnostics.cc:156] kernel driver does not appear to be running on this host (bhagvada): /proc/driver/nvidia/version does not exist\n",
      "2022-06-13 16:24:50.425669: I tensorflow/core/platform/cpu_feature_guard.cc:151] This TensorFlow binary is optimized with oneAPI Deep Neural Network Library (oneDNN) to use the following CPU instructions in performance-critical operations:  AVX2 FMA\n",
      "To enable them in other operations, rebuild TensorFlow with the appropriate compiler flags.\n"
     ]
    }
   ],
   "source": [
    "import tensorflow as tf\n",
    "import tensorflow_quantum as tfq\n",
    "import cirq\n",
    "\n",
    "from qml_hep_lhc.data.electron_photon import ElectronPhoton\n",
    "from qml_hep_lhc.data.mnist import MNIST\n",
    "import argparse"
   ]
  },
  {
   "cell_type": "code",
   "execution_count": 3,
   "id": "2b41bcfe",
   "metadata": {
    "ExecuteTime": {
     "end_time": "2022-06-13T10:55:08.408537Z",
     "start_time": "2022-06-13T10:55:08.273893Z"
    }
   },
   "outputs": [],
   "source": [
    "args = argparse.Namespace()\n",
    "\n",
    "# args.pca = 16\n",
    "# # args.normalize = True\n",
    "# args.threshold = 0\n",
    "# args.loss = \"Hinge\"\n",
    "# args.hinge_labels = True\n",
    "# args.angle_encoding = True"
   ]
  },
  {
   "cell_type": "code",
   "execution_count": 4,
   "id": "9b7b47b0",
   "metadata": {
    "ExecuteTime": {
     "end_time": "2022-06-13T10:55:09.767866Z",
     "start_time": "2022-06-13T10:55:09.628843Z"
    }
   },
   "outputs": [],
   "source": [
    "data = MNIST(args)"
   ]
  },
  {
   "cell_type": "code",
   "execution_count": 5,
   "id": "56eedc12",
   "metadata": {
    "ExecuteTime": {
     "end_time": "2022-06-13T10:55:11.038064Z",
     "start_time": "2022-06-13T10:55:10.323603Z"
    }
   },
   "outputs": [],
   "source": [
    "data.prepare_data()"
   ]
  },
  {
   "cell_type": "code",
   "execution_count": 6,
   "id": "9ceed302",
   "metadata": {
    "ExecuteTime": {
     "end_time": "2022-06-13T10:55:41.212307Z",
     "start_time": "2022-06-13T10:55:25.145613Z"
    }
   },
   "outputs": [],
   "source": [
    "data.setup()"
   ]
  },
  {
   "cell_type": "code",
   "execution_count": 8,
   "id": "3f5cb398",
   "metadata": {
    "ExecuteTime": {
     "end_time": "2022-06-13T10:21:23.845691Z",
     "start_time": "2022-06-13T10:21:23.729265Z"
    }
   },
   "outputs": [
    {
     "data": {
      "text/plain": [
       "{'input_dims': (28, 28, 1), 'output_dims': (1,), 'mapping': range(0, 10)}"
      ]
     },
     "execution_count": 8,
     "metadata": {},
     "output_type": "execute_result"
    }
   ],
   "source": [
    "data.config()"
   ]
  },
  {
   "cell_type": "code",
   "execution_count": 106,
   "id": "8fb0141d",
   "metadata": {
    "ExecuteTime": {
     "end_time": "2022-06-01T09:59:04.751697Z",
     "start_time": "2022-06-01T09:59:04.686167Z"
    }
   },
   "outputs": [
    {
     "data": {
      "text/html": [
       "<pre style=\"overflow: auto; white-space: pre;\">(0, 0): ────X^0.01─────\n",
       "\n",
       "(0, 1): ────X^0.057────\n",
       "\n",
       "(0, 2): ────X^-0.021───\n",
       "\n",
       "(0, 3): ────X^-0.022───\n",
       "\n",
       "(0, 4): ────X^0.007────\n",
       "\n",
       "(0, 5): ────X^0────────\n",
       "\n",
       "(0, 6): ────X^-0.002───\n",
       "\n",
       "(0, 7): ────X^0────────\n",
       "\n",
       "(0, 8): ────X^-0.002───\n",
       "\n",
       "(0, 9): ────X^0.003────\n",
       "\n",
       "(0, 10): ───X^-0.002───\n",
       "\n",
       "(0, 11): ───X^-0.001───\n",
       "\n",
       "(0, 12): ───X^-0.008───\n",
       "\n",
       "(0, 13): ───X^-0.002───\n",
       "\n",
       "(0, 14): ───X^0.005────\n",
       "\n",
       "(0, 15): ───X^0.001────</pre>"
      ],
      "text/plain": [
       "(0, 0): ────X^0.01─────\n",
       "\n",
       "(0, 1): ────X^0.057────\n",
       "\n",
       "(0, 2): ────X^-0.021───\n",
       "\n",
       "(0, 3): ────X^-0.022───\n",
       "\n",
       "(0, 4): ────X^0.007────\n",
       "\n",
       "(0, 5): ────X^0────────\n",
       "\n",
       "(0, 6): ────X^-0.002───\n",
       "\n",
       "(0, 7): ────X^0────────\n",
       "\n",
       "(0, 8): ────X^-0.002───\n",
       "\n",
       "(0, 9): ────X^0.003────\n",
       "\n",
       "(0, 10): ───X^-0.002───\n",
       "\n",
       "(0, 11): ───X^-0.001───\n",
       "\n",
       "(0, 12): ───X^-0.008───\n",
       "\n",
       "(0, 13): ───X^-0.002───\n",
       "\n",
       "(0, 14): ───X^0.005────\n",
       "\n",
       "(0, 15): ───X^0.001────"
      ]
     },
     "execution_count": 106,
     "metadata": {},
     "output_type": "execute_result"
    }
   ],
   "source": [
    "qcs[0]"
   ]
  },
  {
   "cell_type": "code",
   "execution_count": null,
   "id": "2ad70b64",
   "metadata": {},
   "outputs": [],
   "source": []
  }
 ],
 "metadata": {
  "kernelspec": {
   "display_name": "Python (qenv)",
   "language": "python",
   "name": "qenv"
  },
  "language_info": {
   "codemirror_mode": {
    "name": "ipython",
    "version": 3
   },
   "file_extension": ".py",
   "mimetype": "text/x-python",
   "name": "python",
   "nbconvert_exporter": "python",
   "pygments_lexer": "ipython3",
   "version": "3.7.13"
  },
  "latex_envs": {
   "LaTeX_envs_menu_present": true,
   "autoclose": false,
   "autocomplete": true,
   "bibliofile": "biblio.bib",
   "cite_by": "apalike",
   "current_citInitial": 1,
   "eqLabelWithNumbers": true,
   "eqNumInitial": 1,
   "hotkeys": {
    "equation": "Ctrl-E",
    "itemize": "Ctrl-I"
   },
   "labels_anchors": false,
   "latex_user_defs": false,
   "report_style_numbering": false,
   "user_envs_cfg": false
  },
  "toc": {
   "base_numbering": 1,
   "nav_menu": {},
   "number_sections": true,
   "sideBar": true,
   "skip_h1_title": false,
   "title_cell": "Table of Contents",
   "title_sidebar": "Contents",
   "toc_cell": false,
   "toc_position": {},
   "toc_section_display": true,
   "toc_window_display": false
  }
 },
 "nbformat": 4,
 "nbformat_minor": 5
}
