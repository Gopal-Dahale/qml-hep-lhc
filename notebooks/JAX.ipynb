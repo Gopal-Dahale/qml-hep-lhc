{
 "cells": [
  {
   "cell_type": "code",
   "execution_count": 1,
   "id": "4239d456",
   "metadata": {
    "ExecuteTime": {
     "end_time": "2022-08-15T05:30:24.450943Z",
     "start_time": "2022-08-15T05:30:23.326080Z"
    }
   },
   "outputs": [],
   "source": [
    "%load_ext autoreload\n",
    "%autoreload 2\n",
    "\n",
    "%matplotlib inline\n",
    "\n",
    "from importlib.util import find_spec\n",
    "if find_spec(\"qml_hep_lhc\") is None:\n",
    "    import sys\n",
    "    sys.path.append('..')"
   ]
  },
  {
   "cell_type": "code",
   "execution_count": 2,
   "id": "1da36dfc",
   "metadata": {
    "ExecuteTime": {
     "end_time": "2022-08-15T05:30:28.623167Z",
     "start_time": "2022-08-15T05:30:24.454788Z"
    }
   },
   "outputs": [
    {
     "name": "stderr",
     "output_type": "stream",
     "text": [
      "2022-08-15 11:00:24.646032: W tensorflow/stream_executor/platform/default/dso_loader.cc:64] Could not load dynamic library 'libcudart.so.11.0'; dlerror: libcudart.so.11.0: cannot open shared object file: No such file or directory\n",
      "2022-08-15 11:00:24.646066: I tensorflow/stream_executor/cuda/cudart_stub.cc:29] Ignore above cudart dlerror if you do not have a GPU set up on your machine.\n"
     ]
    }
   ],
   "source": [
    "from qml_hep_lhc.data import ElectronPhoton, MNIST\n",
    "from qml_hep_lhc.data.utils import tf_ds_to_numpy\n",
    "import argparse\n",
    "\n",
    "import pennylane as qml\n",
    "from pennylane import numpy as np\n",
    "from pennylane.optimize import AdamOptimizer, GradientDescentOptimizer\n",
    "import jax.numpy as jnp\n",
    "import jax\n",
    "from flax.training import train_state\n",
    "from flax import linen as nn\n",
    "import optax\n",
    "from absl import logging\n",
    "from jax import grad, jit, vmap\n",
    "from jax import random\n",
    "import tensorflow_datasets as tfds\n",
    "\n",
    "import matplotlib.pyplot as plt\n",
    "import time"
   ]
  },
  {
   "cell_type": "code",
   "execution_count": 35,
   "id": "1c091bfb",
   "metadata": {
    "ExecuteTime": {
     "end_time": "2022-08-15T05:32:10.237513Z",
     "start_time": "2022-08-15T05:32:10.158001Z"
    }
   },
   "outputs": [],
   "source": [
    "args = argparse.Namespace()\n",
    "\n",
    "# Data\n",
    "# args.center_crop = 0.7\n",
    "# args.resize = [4,4]\n",
    "args.standardize = 1\n",
    "# args.binary_data = [0,1]\n",
    "# args.percent_samples = 0.01\n",
    "# args.processed = 1\n",
    "args.dataset_type = 'med'\n",
    "args.labels_to_categorical = 1\n",
    "\n",
    "# Base Model\n",
    "args.wandb = False\n",
    "args.batch_size = 64\n",
    "args.epochs = 30\n",
    "args.learning_rate = 0.2\n",
    "\n",
    "# Quantum CNN Parameters\n",
    "args.n_layers = 2\n",
    "args.n_qubits = 2\n",
    "args.template = 'NQubitPQC'"
   ]
  },
  {
   "cell_type": "code",
   "execution_count": 36,
   "id": "74553462",
   "metadata": {
    "ExecuteTime": {
     "end_time": "2022-08-15T05:32:12.989874Z",
     "start_time": "2022-08-15T05:32:10.329347Z"
    }
   },
   "outputs": [
    {
     "name": "stdout",
     "output_type": "stream",
     "text": [
      "Standardizing data...\n",
      "Converting labels to categorical...\n",
      "Converting labels to categorical...\n",
      "\n",
      "Dataset :Electron Photon med\n",
      "╒════════╤═══════════════════╤═══════════════════╤═══════════════════╤═════════════╕\n",
      "│ Data   │ Train size        │ Val size          │ Test size         │ Dims        │\n",
      "╞════════╪═══════════════════╪═══════════════════╪═══════════════════╪═════════════╡\n",
      "│ X      │ (7200, 32, 32, 1) │ (1800, 32, 32, 1) │ (1000, 32, 32, 1) │ (32, 32, 1) │\n",
      "├────────┼───────────────────┼───────────────────┼───────────────────┼─────────────┤\n",
      "│ y      │ (7200, 2)         │ (1800, 2)         │ (1000, 2)         │ (2,)        │\n",
      "╘════════╧═══════════════════╧═══════════════════╧═══════════════════╧═════════════╛\n",
      "\n",
      "╒══════════════╤═══════╤════════╤════════╤═══════╤══════════════════════════╕\n",
      "│ Type         │   Min │    Max │   Mean │   Std │ Samples for each class   │\n",
      "╞══════════════╪═══════╪════════╪════════╪═══════╪══════════════════════════╡\n",
      "│ Train Images │ -2.88 │  94.86 │      0 │  0.94 │ [3600, 3600]             │\n",
      "├──────────────┼───────┼────────┼────────┼───────┼──────────────────────────┤\n",
      "│ Val Images   │ -2.88 │  94.86 │     -0 │  0.92 │ [900, 900]               │\n",
      "├──────────────┼───────┼────────┼────────┼───────┼──────────────────────────┤\n",
      "│ Test Images  │ -2.88 │ 208.01 │     -0 │  0.94 │ [500, 500]               │\n",
      "╘══════════════╧═══════╧════════╧════════╧═══════╧══════════════════════════╛\n",
      "\n",
      "\n"
     ]
    }
   ],
   "source": [
    "data = ElectronPhoton(args)\n",
    "data.prepare_data()\n",
    "data.setup()\n",
    "print(data)"
   ]
  },
  {
   "cell_type": "code",
   "execution_count": 37,
   "id": "68df9f63",
   "metadata": {
    "ExecuteTime": {
     "end_time": "2022-08-15T05:32:14.853411Z",
     "start_time": "2022-08-15T05:32:12.994723Z"
    }
   },
   "outputs": [],
   "source": [
    "num_pixels = 32*32\n",
    "x_train, y_train = tf_ds_to_numpy(data.train_ds)\n",
    "x_val, y_val = tf_ds_to_numpy(data.val_ds)\n",
    "x_train = x_train.reshape(-1, num_pixels)\n",
    "x_val = x_val.reshape(-1, num_pixels)\n",
    "# y_train = 2.0*y_train-1.0\n",
    "# y_val = 2.0*y_val-1.0"
   ]
  },
  {
   "cell_type": "code",
   "execution_count": 38,
   "id": "777cac4f",
   "metadata": {
    "ExecuteTime": {
     "end_time": "2022-08-15T05:32:14.923715Z",
     "start_time": "2022-08-15T05:32:14.856244Z"
    }
   },
   "outputs": [
    {
     "data": {
      "text/plain": [
       "((7200, 1024), (7200, 2))"
      ]
     },
     "execution_count": 38,
     "metadata": {},
     "output_type": "execute_result"
    }
   ],
   "source": [
    "x_train.shape, y_train.shape"
   ]
  },
  {
   "cell_type": "code",
   "execution_count": 39,
   "id": "a8028d9d",
   "metadata": {
    "ExecuteTime": {
     "end_time": "2022-08-15T05:32:15.078503Z",
     "start_time": "2022-08-15T05:32:14.928329Z"
    }
   },
   "outputs": [],
   "source": [
    "x_train = jnp.array(x_train)\n",
    "y_train = jnp.array(y_train)\n",
    "x_val = jnp.array(x_val)\n",
    "y_val = jnp.array(y_val)"
   ]
  },
  {
   "cell_type": "code",
   "execution_count": 40,
   "id": "9c42b123",
   "metadata": {
    "ExecuteTime": {
     "end_time": "2022-08-15T05:32:15.169125Z",
     "start_time": "2022-08-15T05:32:15.088297Z"
    }
   },
   "outputs": [],
   "source": [
    "dev = qml.device('default.qubit.jax', wires=1)\n",
    "\n",
    "@jax.jit\n",
    "@qml.qnode(dev, interface='jax')\n",
    "def circuit(inputs, w, b):\n",
    "    z = jnp.dot(w, inputs) + b\n",
    "    qml.Rot(z[0],z[1],z[2], wires=0)\n",
    "    return qml.expval(qml.PauliZ(0))"
   ]
  },
  {
   "cell_type": "code",
   "execution_count": 41,
   "id": "d91b5b78",
   "metadata": {
    "ExecuteTime": {
     "end_time": "2022-08-15T05:32:15.259071Z",
     "start_time": "2022-08-15T05:32:15.171967Z"
    }
   },
   "outputs": [],
   "source": [
    "vcircuit = jax.vmap(circuit)"
   ]
  },
  {
   "cell_type": "markdown",
   "id": "aa60e4b8",
   "metadata": {},
   "source": [
    "## Hyperparameters"
   ]
  },
  {
   "cell_type": "code",
   "execution_count": 50,
   "id": "25df4cb2",
   "metadata": {
    "ExecuteTime": {
     "end_time": "2022-08-15T05:32:30.839525Z",
     "start_time": "2022-08-15T05:32:30.743286Z"
    }
   },
   "outputs": [],
   "source": [
    "# A helper function to randomly initialize weights and biases\n",
    "# for a dense neural network layer\n",
    "def random_layer_params(m, n, key, scale=1e-1):\n",
    "    w_key, b_key = random.split(key)\n",
    "    return scale * random.normal(w_key, (n, m)), scale * random.normal(b_key, (n,))\n",
    "\n",
    "# Initialize all layers for a fully-connected neural network with sizes \"sizes\"\n",
    "def init_network_params(sizes, key):\n",
    "    keys = random.split(key, len(sizes))\n",
    "    return [random_layer_params(m, n, k) for m, n, k in zip(sizes[:-1], sizes[1:], keys)]\n",
    "\n",
    "layer_sizes = [num_pixels, 128, 64, 16, 3]\n",
    "step_size = 0.1\n",
    "num_epochs = 30\n",
    "batch_size = 128\n",
    "n_targets = 2\n",
    "params = init_network_params(layer_sizes, random.PRNGKey(0))"
   ]
  },
  {
   "cell_type": "code",
   "execution_count": 51,
   "id": "26ca5c20",
   "metadata": {
    "ExecuteTime": {
     "end_time": "2022-08-15T05:32:30.979982Z",
     "start_time": "2022-08-15T05:32:30.906679Z"
    }
   },
   "outputs": [
    {
     "name": "stdout",
     "output_type": "stream",
     "text": [
      "(128, 1024) (128,)\n",
      "(64, 128) (64,)\n",
      "(16, 64) (16,)\n",
      "(3, 16) (3,)\n"
     ]
    }
   ],
   "source": [
    "for i in params:\n",
    "    print(i[0].shape, i[1].shape)"
   ]
  },
  {
   "cell_type": "markdown",
   "id": "9ef8d736",
   "metadata": {},
   "source": [
    "## Auto-Batching Predictions"
   ]
  },
  {
   "cell_type": "code",
   "execution_count": 52,
   "id": "29c211bf",
   "metadata": {
    "ExecuteTime": {
     "end_time": "2022-08-15T05:32:31.306274Z",
     "start_time": "2022-08-15T05:32:31.224039Z"
    }
   },
   "outputs": [],
   "source": [
    "from jax.scipy.special import logsumexp\n",
    "\n",
    "def relu(x):\n",
    "    return jnp.maximum(0, x)\n",
    "\n",
    "def predict(params, image):\n",
    "  # per-example predictions\n",
    "    activations = image\n",
    "    for w, b in params[:-1]:\n",
    "        outputs = jnp.dot(w, activations) + b\n",
    "        activations = relu(outputs)\n",
    "    \n",
    "    qw, qb = params[-1]\n",
    "    logits = circuit(activations, qw, qb)\n",
    "    logits = jnp.array([nn.sigmoid(logits)])\n",
    "    return jnp.concatenate((logits, 1-logits), -1)"
   ]
  },
  {
   "cell_type": "code",
   "execution_count": 53,
   "id": "2c9d74f8",
   "metadata": {
    "ExecuteTime": {
     "end_time": "2022-08-15T05:32:31.431030Z",
     "start_time": "2022-08-15T05:32:31.362028Z"
    }
   },
   "outputs": [
    {
     "name": "stdout",
     "output_type": "stream",
     "text": [
      "[0.72555614 0.27444386]\n"
     ]
    }
   ],
   "source": [
    "# This works on single examples\n",
    "random_flattened_image = random.normal(random.PRNGKey(1), (num_pixels,))\n",
    "preds = predict(params,  random_flattened_image)\n",
    "print(preds)"
   ]
  },
  {
   "cell_type": "code",
   "execution_count": 54,
   "id": "0da7c8c8",
   "metadata": {
    "ExecuteTime": {
     "end_time": "2022-08-15T05:32:31.584968Z",
     "start_time": "2022-08-15T05:32:31.511354Z"
    }
   },
   "outputs": [
    {
     "name": "stdout",
     "output_type": "stream",
     "text": [
      "Invalid shapes!\n"
     ]
    }
   ],
   "source": [
    "# Doesn't work with a batch\n",
    "random_flattened_images = random.normal(random.PRNGKey(1), (10, num_pixels))\n",
    "try:\n",
    "    preds = predict(params, random_flattened_images)\n",
    "except TypeError:\n",
    "    print('Invalid shapes!')"
   ]
  },
  {
   "cell_type": "code",
   "execution_count": 55,
   "id": "ed989c7e",
   "metadata": {
    "ExecuteTime": {
     "end_time": "2022-08-15T05:32:31.744776Z",
     "start_time": "2022-08-15T05:32:31.656837Z"
    }
   },
   "outputs": [
    {
     "name": "stdout",
     "output_type": "stream",
     "text": [
      "[[0.72749335 0.27250665]\n",
      " [0.72137743 0.27862257]\n",
      " [0.7240357  0.27596432]\n",
      " [0.71940887 0.28059113]\n",
      " [0.728792   0.271208  ]\n",
      " [0.7293075  0.27069253]\n",
      " [0.70957965 0.29042035]\n",
      " [0.7283114  0.27168858]\n",
      " [0.71942383 0.28057617]\n",
      " [0.7309015  0.26909852]]\n"
     ]
    }
   ],
   "source": [
    "# Let's upgrade it to handle batches using `vmap`\n",
    "\n",
    "# Make a batched version of the `predict` function\n",
    "batched_predict = vmap(predict, in_axes=(None,0))\n",
    "\n",
    "# `batched_predict` has the same call signature as `predict`\n",
    "batched_preds = batched_predict(params, random_flattened_images)\n",
    "print(batched_preds)"
   ]
  },
  {
   "cell_type": "markdown",
   "id": "8d4d3eee",
   "metadata": {},
   "source": [
    "## Utility and loss functions"
   ]
  },
  {
   "cell_type": "code",
   "execution_count": 56,
   "id": "74e55537",
   "metadata": {
    "ExecuteTime": {
     "end_time": "2022-08-15T05:32:32.034685Z",
     "start_time": "2022-08-15T05:32:31.948655Z"
    }
   },
   "outputs": [],
   "source": [
    "def one_hot(x, k, dtype=jnp.float32):\n",
    "    \"\"\"Create a one-hot encoding of x of size k.\"\"\"\n",
    "    return jnp.array(x[:, None] == jnp.arange(k), dtype)\n",
    "  \n",
    "def accuracy(params, images, targets):\n",
    "    target_class = jnp.argmax(targets, axis=1)\n",
    "    predicted_class = jnp.argmax(batched_predict(params, images), axis=1)\n",
    "    return jnp.mean(predicted_class == target_class)\n",
    "\n",
    "def loss(params, images, targets):\n",
    "    preds = batched_predict(params, images)\n",
    "    return -jnp.mean(preds * targets)\n",
    "\n",
    "@jit\n",
    "def update(params, x, y):\n",
    "    grads = grad(loss)(params, x, y)\n",
    "    return [(w - step_size * dw, b - step_size * db)\n",
    "          for (w, b), (dw, db) in zip(params, grads)]"
   ]
  },
  {
   "cell_type": "markdown",
   "id": "d7ffdcfb",
   "metadata": {},
   "source": [
    "## Training loop"
   ]
  },
  {
   "cell_type": "code",
   "execution_count": 57,
   "id": "cd8a10f6",
   "metadata": {
    "ExecuteTime": {
     "end_time": "2022-08-15T05:32:42.561403Z",
     "start_time": "2022-08-15T05:32:32.453623Z"
    }
   },
   "outputs": [
    {
     "name": "stdout",
     "output_type": "stream",
     "text": [
      "Epoch 0 in 1.91 sec\n",
      "Training set accuracy 0.5015277862548828\n",
      "Test set accuracy 0.49944445490837097\n",
      "Epoch 1 in 0.19 sec\n",
      "Training set accuracy 0.5045833587646484\n",
      "Test set accuracy 0.49222221970558167\n",
      "Epoch 2 in 0.20 sec\n",
      "Training set accuracy 0.5051388740539551\n",
      "Test set accuracy 0.49722224473953247\n",
      "Epoch 3 in 0.21 sec\n",
      "Training set accuracy 0.5090277791023254\n",
      "Test set accuracy 0.5088889002799988\n",
      "Epoch 4 in 0.20 sec\n",
      "Training set accuracy 0.5179166793823242\n",
      "Test set accuracy 0.5177778005599976\n",
      "Epoch 5 in 0.25 sec\n",
      "Training set accuracy 0.53083336353302\n",
      "Test set accuracy 0.522777795791626\n",
      "Epoch 6 in 0.19 sec\n",
      "Training set accuracy 0.5400000214576721\n",
      "Test set accuracy 0.5244444608688354\n",
      "Epoch 7 in 0.24 sec\n",
      "Training set accuracy 0.5498611330986023\n",
      "Test set accuracy 0.5250000357627869\n",
      "Epoch 8 in 0.20 sec\n",
      "Training set accuracy 0.5601388812065125\n",
      "Test set accuracy 0.523888885974884\n",
      "Epoch 9 in 0.20 sec\n",
      "Training set accuracy 0.5712500214576721\n",
      "Test set accuracy 0.5261111259460449\n",
      "Epoch 10 in 0.24 sec\n",
      "Training set accuracy 0.5834722518920898\n",
      "Test set accuracy 0.5266667008399963\n",
      "Epoch 11 in 0.20 sec\n",
      "Training set accuracy 0.597361147403717\n",
      "Test set accuracy 0.5283333659172058\n",
      "Epoch 12 in 0.24 sec\n",
      "Training set accuracy 0.6100000143051147\n",
      "Test set accuracy 0.5316666960716248\n",
      "Epoch 13 in 0.21 sec\n",
      "Training set accuracy 0.6194444298744202\n",
      "Test set accuracy 0.5338888764381409\n",
      "Epoch 14 in 0.20 sec\n",
      "Training set accuracy 0.633055567741394\n",
      "Test set accuracy 0.5283333659172058\n",
      "Epoch 15 in 0.19 sec\n",
      "Training set accuracy 0.643333375453949\n",
      "Test set accuracy 0.5300000309944153\n",
      "Epoch 16 in 0.24 sec\n",
      "Training set accuracy 0.651805579662323\n",
      "Test set accuracy 0.5377777814865112\n",
      "Epoch 17 in 0.20 sec\n",
      "Training set accuracy 0.6647222638130188\n",
      "Test set accuracy 0.5350000262260437\n",
      "Epoch 18 in 0.21 sec\n",
      "Training set accuracy 0.6727777719497681\n",
      "Test set accuracy 0.5350000262260437\n",
      "Epoch 19 in 0.19 sec\n",
      "Training set accuracy 0.6816666722297668\n",
      "Test set accuracy 0.5344444513320923\n",
      "Epoch 20 in 0.20 sec\n",
      "Training set accuracy 0.6887500286102295\n",
      "Test set accuracy 0.5383333563804626\n",
      "Epoch 21 in 0.23 sec\n",
      "Training set accuracy 0.698472261428833\n",
      "Test set accuracy 0.5372222065925598\n",
      "Epoch 22 in 0.20 sec\n",
      "Training set accuracy 0.7123611569404602\n",
      "Test set accuracy 0.5427777767181396\n",
      "Epoch 23 in 0.20 sec\n",
      "Training set accuracy 0.7215278148651123\n",
      "Test set accuracy 0.54666668176651\n",
      "Epoch 24 in 0.25 sec\n",
      "Training set accuracy 0.7302777767181396\n",
      "Test set accuracy 0.5444444417953491\n",
      "Epoch 25 in 0.20 sec\n",
      "Training set accuracy 0.7401388883590698\n",
      "Test set accuracy 0.5400000214576721\n",
      "Epoch 26 in 0.23 sec\n",
      "Training set accuracy 0.7438889145851135\n",
      "Test set accuracy 0.5438889265060425\n",
      "Epoch 27 in 0.24 sec\n",
      "Training set accuracy 0.7473611235618591\n",
      "Test set accuracy 0.5483333468437195\n",
      "Epoch 28 in 0.19 sec\n",
      "Training set accuracy 0.7616666555404663\n",
      "Test set accuracy 0.550000011920929\n",
      "Epoch 29 in 0.20 sec\n",
      "Training set accuracy 0.7677778005599976\n",
      "Test set accuracy 0.5450000166893005\n"
     ]
    }
   ],
   "source": [
    "import time\n",
    "\n",
    "\n",
    "for epoch in range(num_epochs):\n",
    "    start_time = time.time()\n",
    "    for x, y in tfds.as_numpy(data.train_ds):\n",
    "        x = jnp.reshape(x, (len(x), num_pixels))\n",
    "        params = update(params, x, y)\n",
    "    epoch_time = time.time() - start_time\n",
    "\n",
    "    train_acc = accuracy(params, x_train, y_train)\n",
    "    test_acc = accuracy(params, x_val, y_val)\n",
    "    print(\"Epoch {} in {:0.2f} sec\".format(epoch, epoch_time))\n",
    "    print(\"Training set accuracy {}\".format(train_acc))\n",
    "    print(\"Test set accuracy {}\".format(test_acc))"
   ]
  },
  {
   "cell_type": "code",
   "execution_count": null,
   "id": "d97c5874",
   "metadata": {},
   "outputs": [],
   "source": []
  },
  {
   "cell_type": "code",
   "execution_count": null,
   "id": "feaec8ea",
   "metadata": {},
   "outputs": [],
   "source": []
  }
 ],
 "metadata": {
  "kernelspec": {
   "display_name": "Python (qenv)",
   "language": "python",
   "name": "qenv"
  },
  "language_info": {
   "codemirror_mode": {
    "name": "ipython",
    "version": 3
   },
   "file_extension": ".py",
   "mimetype": "text/x-python",
   "name": "python",
   "nbconvert_exporter": "python",
   "pygments_lexer": "ipython3",
   "version": "3.7.13"
  },
  "latex_envs": {
   "LaTeX_envs_menu_present": true,
   "autoclose": false,
   "autocomplete": true,
   "bibliofile": "biblio.bib",
   "cite_by": "apalike",
   "current_citInitial": 1,
   "eqLabelWithNumbers": true,
   "eqNumInitial": 1,
   "hotkeys": {
    "equation": "Ctrl-E",
    "itemize": "Ctrl-I"
   },
   "labels_anchors": false,
   "latex_user_defs": false,
   "report_style_numbering": false,
   "user_envs_cfg": false
  },
  "toc": {
   "base_numbering": 1,
   "nav_menu": {},
   "number_sections": true,
   "sideBar": true,
   "skip_h1_title": false,
   "title_cell": "Table of Contents",
   "title_sidebar": "Contents",
   "toc_cell": false,
   "toc_position": {},
   "toc_section_display": true,
   "toc_window_display": false
  }
 },
 "nbformat": 4,
 "nbformat_minor": 5
}
