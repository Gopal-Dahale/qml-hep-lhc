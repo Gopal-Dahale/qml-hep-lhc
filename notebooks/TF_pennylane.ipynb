{
 "cells": [
  {
   "cell_type": "code",
   "execution_count": 135,
   "id": "fcce4542",
   "metadata": {
    "ExecuteTime": {
     "end_time": "2022-08-06T15:23:19.341199Z",
     "start_time": "2022-08-06T15:23:19.266193Z"
    }
   },
   "outputs": [
    {
     "name": "stdout",
     "output_type": "stream",
     "text": [
      "The autoreload extension is already loaded. To reload it, use:\n",
      "  %reload_ext autoreload\n"
     ]
    }
   ],
   "source": [
    "%load_ext autoreload\n",
    "%autoreload 2\n",
    "\n",
    "%matplotlib inline\n",
    "\n",
    "from importlib.util import find_spec\n",
    "if find_spec(\"qml_hep_lhc\") is None:\n",
    "    import sys\n",
    "    sys.path.append('..')"
   ]
  },
  {
   "cell_type": "code",
   "execution_count": 271,
   "id": "cf5c911b",
   "metadata": {
    "ExecuteTime": {
     "end_time": "2022-08-06T15:56:23.665911Z",
     "start_time": "2022-08-06T15:56:23.577032Z"
    }
   },
   "outputs": [],
   "source": [
    "from tensorflow.keras.callbacks import ReduceLROnPlateau\n",
    "from tensorflow.keras.layers import Layer, Dense, Flatten, Concatenate, Reshape, Add\n",
    "from tensorflow.keras import Input, Model\n",
    "from tensorflow import pad, Variable\n",
    "from tensorflow.keras.initializers import HeUniform\n",
    "\n",
    "import argparse\n",
    "import numpy as np\n",
    "import pennylane as qml\n",
    "\n",
    "from qml_hep_lhc.data import QuarkGluon, MNIST\n",
    "from qml_hep_lhc.models.base_model import BaseModel\n",
    "from qml_hep_lhc.layers.utils import normalize_padding, normalize_tuple, convolution_iters\n",
    "\n",
    "import tensorflow as tf\n",
    "tf.keras.backend.set_floatx('float32')"
   ]
  },
  {
   "cell_type": "code",
   "execution_count": 272,
   "id": "1f4213a6",
   "metadata": {
    "ExecuteTime": {
     "end_time": "2022-08-06T15:56:23.909048Z",
     "start_time": "2022-08-06T15:56:23.792535Z"
    }
   },
   "outputs": [],
   "source": [
    "args = argparse.Namespace()\n",
    "args.center_crop = 0.7\n",
    "args.resize = [8,8]\n",
    "args.standardize = 1\n",
    "args.binary_data = [0,1]\n",
    "args.optimizer = 'Ranger'\n",
    "args.labels_to_categorical = 1\n",
    "args.processed = 1\n",
    "args.percent_samples = 0.1\n",
    "args.batch_size = 4"
   ]
  },
  {
   "cell_type": "code",
   "execution_count": 273,
   "id": "0800c164",
   "metadata": {
    "ExecuteTime": {
     "end_time": "2022-08-06T15:56:24.276777Z",
     "start_time": "2022-08-06T15:56:24.039154Z"
    }
   },
   "outputs": [
    {
     "name": "stdout",
     "output_type": "stream",
     "text": [
      "Binarizing data...\n",
      "Binarizing data...\n",
      "Center cropping...\n",
      "Center cropping...\n",
      "Resizing data...\n",
      "Resizing data...\n",
      "Standardizing data...\n",
      "Converting labels to categorical...\n",
      "Converting labels to categorical...\n",
      "\n",
      "Dataset :MNIST\n",
      "╒════════╤═══════════════╤═══════════════╤═══════════════╤═══════════╕\n",
      "│ Data   │ Train size    │ Val size      │ Test size     │ Dims      │\n",
      "╞════════╪═══════════════╪═══════════════╪═══════════════╪═══════════╡\n",
      "│ X      │ (48, 8, 8, 1) │ (12, 8, 8, 1) │ (20, 8, 8, 1) │ (8, 8, 1) │\n",
      "├────────┼───────────────┼───────────────┼───────────────┼───────────┤\n",
      "│ y      │ (48, 2)       │ (12, 2)       │ (20, 2)       │ (2,)      │\n",
      "╘════════╧═══════════════╧═══════════════╧═══════════════╧═══════════╛\n",
      "\n",
      "╒══════════════╤═══════╤═══════╤════════╤═══════╤══════════════════════════╕\n",
      "│ Type         │   Min │   Max │   Mean │   Std │ Samples for each class   │\n",
      "╞══════════════╪═══════╪═══════╪════════╪═══════╪══════════════════════════╡\n",
      "│ Train Images │ -1.58 │  7.68 │  -0.01 │  0.98 │ [24, 24]                 │\n",
      "├──────────────┼───────┼───────┼────────┼───────┼──────────────────────────┤\n",
      "│ Val Images   │ -1.58 │  7.68 │   0.03 │  1.03 │ [6, 6]                   │\n",
      "├──────────────┼───────┼───────┼────────┼───────┼──────────────────────────┤\n",
      "│ Test Images  │ -1.56 │  6.86 │  -0.05 │  0.95 │ [10, 10]                 │\n",
      "╘══════════════╧═══════╧═══════╧════════╧═══════╧══════════════════════════╛\n",
      "\n",
      "\n"
     ]
    }
   ],
   "source": [
    "data = MNIST(args)\n",
    "data.prepare_data()\n",
    "data.setup()\n",
    "print(data)"
   ]
  },
  {
   "cell_type": "code",
   "execution_count": 274,
   "id": "9543b183",
   "metadata": {
    "ExecuteTime": {
     "end_time": "2022-08-06T15:56:24.361862Z",
     "start_time": "2022-08-06T15:56:24.281291Z"
    }
   },
   "outputs": [],
   "source": [
    "# LR Scheduler callback\n",
    "lr_scheduler_callback = ReduceLROnPlateau(monitor='val_loss',\n",
    "                                          factor=0.1,\n",
    "                                          patience=5,\n",
    "                                          min_delta=0.0001,\n",
    "                                          min_lr=1e-6)\n",
    "callbacks = [lr_scheduler_callback]"
   ]
  },
  {
   "cell_type": "markdown",
   "id": "6ec00c23",
   "metadata": {},
   "source": [
    "## Defining QNode"
   ]
  },
  {
   "cell_type": "code",
   "execution_count": 275,
   "id": "4e884efe",
   "metadata": {
    "ExecuteTime": {
     "end_time": "2022-08-06T15:56:24.819117Z",
     "start_time": "2022-08-06T15:56:24.724490Z"
    }
   },
   "outputs": [],
   "source": [
    "# Hyperparameters\n",
    "\n",
    "n_qubits = 3\n",
    "n_layers = 2\n",
    "n_inputs = 9\n",
    "\n",
    "args.learning_rate = 0.1\n",
    "args.template = 'S2D'\n",
    "args.cluster_state = 1\n",
    "args.n_qubits = n_qubits\n",
    "args.n_layers = n_layers \n",
    "args.epochs = 2"
   ]
  },
  {
   "cell_type": "code",
   "execution_count": 276,
   "id": "8ae463af",
   "metadata": {
    "ExecuteTime": {
     "end_time": "2022-08-06T15:56:25.110967Z",
     "start_time": "2022-08-06T15:56:24.976313Z"
    }
   },
   "outputs": [],
   "source": [
    "import pennylane as qml\n",
    "\n",
    "\n",
    "dev = qml.device(\"default.qubit\", wires=n_qubits)\n",
    "qubits = list(range(n_qubits))\n",
    "\n",
    "\n",
    "\n",
    "@qml.qnode(dev, interface='tf')\n",
    "def qnode_sparse(inputs, w, b):\n",
    "\n",
    "    # shape of inputs is (n_inputs,)\n",
    "    # shape of w is (n_layers, n_qubits, 3, n_inputs)\n",
    "    # shape of b is (n_layers, n_qubits, 3)\n",
    "    \n",
    "    z = tf.tensordot(w, inputs, axes = 1) + b\n",
    "    \n",
    "    for l in range(n_layers):\n",
    "        for q in qubits:\n",
    "            qml.Rot(z[l,q,0], z[l,q,1], z[l,q,2], wires= q)\n",
    "        \n",
    "        if (l & 1):\n",
    "            for q0, q1 in zip(qubits[1::2], qubits[2::2] + [qubits[0]]):\n",
    "                qml.CZ((q0,q1))\n",
    "\n",
    "        else:\n",
    "            for q0, q1 in zip(qubits[0::2], qubits[1::2]):\n",
    "                qml.CZ((q0,q1))\n",
    "                \n",
    "    return [qml.expval(qml.PauliZ(q)) for q in qubits]\n",
    "\n",
    "@qml.qnode(dev, interface='tf')\n",
    "def qnode_sd(inputs,w,b):\n",
    "    z = tf.tensordot(w, inputs, axes = 1) + b\n",
    "    qml.SimplifiedTwoDesign(initial_layer_weights=tf.zeros((n_qubits,)), weights=z, wires=range(n_qubits))\n",
    "    return [qml.expval(qml.PauliZ(q)) for q in qubits]"
   ]
  },
  {
   "cell_type": "code",
   "execution_count": 277,
   "id": "24713d00",
   "metadata": {
    "ExecuteTime": {
     "end_time": "2022-08-06T15:56:25.362863Z",
     "start_time": "2022-08-06T15:56:25.198999Z"
    }
   },
   "outputs": [
    {
     "data": {
      "text/plain": [
       "TensorShape([2, 2, 2])"
      ]
     },
     "execution_count": 277,
     "metadata": {},
     "output_type": "execute_result"
    }
   ],
   "source": [
    "inputs = tf.random.uniform((n_inputs, ))\n",
    "template = args.template\n",
    "shapes = get_node(template, n_layers, n_qubits, n_inputs)\n",
    "w = tf.random.uniform(shapes['w'])\n",
    "b = tf.random.uniform(shapes['b'])\n",
    "out = tf.tensordot(w,tf.transpose(inputs),axes = 1) + b\n",
    "out.shape"
   ]
  },
  {
   "cell_type": "code",
   "execution_count": 278,
   "id": "724bd68b",
   "metadata": {
    "ExecuteTime": {
     "end_time": "2022-08-06T15:56:25.578322Z",
     "start_time": "2022-08-06T15:56:25.440920Z"
    },
    "scrolled": true
   },
   "outputs": [
    {
     "name": "stdout",
     "output_type": "stream",
     "text": [
      "0: ──RY(0.00)─╭●──RY(3.57)──────────────╭●──RY(1.75)──────────────┤  <Z>\n",
      "1: ──RY(0.00)─╰Z──RY(2.48)─╭●──RY(3.94)─╰Z──RY(2.96)─╭●──RY(2.03)─┤  <Z>\n",
      "2: ──RY(0.00)──────────────╰Z──RY(3.37)──────────────╰Z──RY(2.26)─┤  <Z>\n"
     ]
    }
   ],
   "source": [
    "drawer = qml.draw(qnode_sd, expansion_strategy=\"device\")\n",
    "print(drawer(inputs,w,b))"
   ]
  },
  {
   "cell_type": "code",
   "execution_count": 279,
   "id": "392a83e1",
   "metadata": {
    "ExecuteTime": {
     "end_time": "2022-08-06T15:56:25.814915Z",
     "start_time": "2022-08-06T15:56:25.665409Z"
    }
   },
   "outputs": [
    {
     "data": {
      "text/plain": [
       "<tf.Tensor: shape=(3,), dtype=float64, numpy=array([0.56440674, 0.68330616, 0.44777675])>"
      ]
     },
     "execution_count": 279,
     "metadata": {},
     "output_type": "execute_result"
    }
   ],
   "source": [
    "qnode_sd(inputs,w,b)"
   ]
  },
  {
   "cell_type": "code",
   "execution_count": 280,
   "id": "781f391f",
   "metadata": {
    "ExecuteTime": {
     "end_time": "2022-08-06T15:56:26.001946Z",
     "start_time": "2022-08-06T15:56:25.912399Z"
    }
   },
   "outputs": [],
   "source": [
    "def get_node(template, num_layers, num_qubits, num_inputs):\n",
    "    if template == 'NQubitPQC':\n",
    "        return {\n",
    "            \"w\": (num_layers, num_qubits, 3, num_inputs),\n",
    "            \"b\": (num_layers, num_qubits, 3)\n",
    "        }\n",
    "    elif template == 'S2D':\n",
    "        return {\n",
    "            \"w\": (num_layers, num_qubits -1, 2, num_inputs),\n",
    "            \"b\": (num_layers, num_qubits -1, 2)\n",
    "        }"
   ]
  },
  {
   "cell_type": "code",
   "execution_count": 281,
   "id": "f184bed7",
   "metadata": {
    "ExecuteTime": {
     "end_time": "2022-08-06T15:56:26.331702Z",
     "start_time": "2022-08-06T15:56:26.146972Z"
    }
   },
   "outputs": [],
   "source": [
    "class QConv2D(Layer):\n",
    "    \"\"\"\n",
    "    2D Quantum convolution layer (e.g. spatial convolution over images).\n",
    "    This layer creates a convolution kernel that is convolved \n",
    "    with the layer input to produce a tensor of outputs. Finally,\n",
    "    `activation` is applied to the outputs as well.\n",
    "    \"\"\"\n",
    "\n",
    "    def __init__(\n",
    "            self,\n",
    "            filters=1,\n",
    "            kernel_size=(3, 3),\n",
    "            strides=(1, 1),\n",
    "            n_qubits=1,\n",
    "            n_layers=1,\n",
    "            template = 'NQubitPQC',\n",
    "            padding='valid',\n",
    "            cluster_state=False,\n",
    "            observable=None,\n",
    "            name='QConv2D',\n",
    "    ):\n",
    "\n",
    "        super(QConv2D, self).__init__(name=name)\n",
    "\n",
    "        # Filters\n",
    "        if isinstance(filters, float):\n",
    "            filters = int(filters)\n",
    "        if filters is not None and filters <= 0:\n",
    "            raise ValueError('Invalid value for argument `filters`. '\n",
    "                             'Expected a strictly positive value. '\n",
    "                             f'Received filters={filters}.')\n",
    "        self.filters = filters\n",
    "\n",
    "        # Num layers\n",
    "        if isinstance(n_layers, float):\n",
    "            n_layers = int(n_layers)\n",
    "        if n_layers is not None and n_layers <= 0:\n",
    "            raise ValueError('Invalid value for argument `n_layers`. '\n",
    "                             'Expected a strictly positive value. '\n",
    "                             f'Received n_layers={n_layers}.')\n",
    "        self.n_layers = n_layers\n",
    "\n",
    "        self.observable = observable\n",
    "        self.kernel_size = normalize_tuple(kernel_size, 'kernel_size')\n",
    "        self.strides = normalize_tuple(strides, 'strides')\n",
    "        self.padding = normalize_padding(padding)\n",
    "        self.cluster_state = cluster_state\n",
    "        self.n_qubits = n_qubits\n",
    "        \n",
    "        self.n_inputs = np.prod(self.kernel_size)\n",
    "        self.weight_shapes = get_node(template, self.n_layers, self.n_qubits, self.n_inputs)\n",
    "        \n",
    "        \n",
    "    def build(self, input_shape):\n",
    "    \n",
    "        self.iters, self.padding_constant = convolution_iters(\n",
    "            input_shape[1:3], self.kernel_size, self.strides, self.padding)\n",
    "        self.n_channels = input_shape[3]\n",
    "\n",
    "        self.conv_pqcs = [[(filter, channel)\n",
    "                           for channel in range(self.n_channels)]\n",
    "                          for filter in range(self.filters)]\n",
    "\n",
    "        for filter in range(self.filters):\n",
    "            for channel in range(self.n_channels):\n",
    "                name = f\"{self.name}_{filter}_{channel}\"\n",
    "                self.conv_pqcs[filter][channel] = qml.qnn.KerasLayer(qnode = qnode_sd, \n",
    "                                                                     weight_shapes = self.weight_shapes, \n",
    "                                                                     output_dim= self.n_qubits\n",
    "                                                                     )\n",
    "\n",
    "    def _convolution(self, input_tensor, filter, channel):\n",
    "\n",
    "        s = self.strides\n",
    "        k = self.kernel_size\n",
    "\n",
    "        conv_out = []\n",
    "        for i in range(self.iters[0]):\n",
    "            for j in range(self.iters[1]):\n",
    "                x = input_tensor[:, i * s[0]:i * s[0] + k[0], j *\n",
    "                                 s[1]:j * s[1] + k[1]]\n",
    "                x = Flatten()(x)\n",
    "                conv_out += [self.conv_pqcs[filter][channel](x)]\n",
    "                \n",
    "        conv_out = Concatenate(axis=1)(conv_out)\n",
    "        conv_out = Reshape((self.iters[0], self.iters[1],self.n_qubits ))(conv_out)\n",
    "        return conv_out\n",
    "\n",
    "    def call(self, input_tensor):\n",
    "        input_tensor = pad(input_tensor, self.padding_constant)\n",
    "\n",
    "        if self.n_channels == 1:\n",
    "            conv_out = [\n",
    "                self._convolution(input_tensor[:, :, :, 0], filter, 0)\n",
    "                for filter in range(self.filters)\n",
    "            ]\n",
    "        else:\n",
    "            conv_out = [\n",
    "                Add()([\n",
    "                    self._convolution(input_tensor[:, :, :, c], filter, c)\n",
    "                    for c in range(self.n_channels)\n",
    "                ])\n",
    "                for filter in range(self.filters)\n",
    "            ]\n",
    "        conv_out = Concatenate(axis=-1)(conv_out)\n",
    "        return conv_out"
   ]
  },
  {
   "cell_type": "code",
   "execution_count": 282,
   "id": "cb1140fb",
   "metadata": {
    "ExecuteTime": {
     "end_time": "2022-08-06T15:56:26.464271Z",
     "start_time": "2022-08-06T15:56:26.376895Z"
    }
   },
   "outputs": [],
   "source": [
    "class QCNN(BaseModel):\n",
    "    \"\"\"\n",
    "\tGeneral Quantum Convolutional Neural Network\n",
    "\t\"\"\"\n",
    "\n",
    "    def __init__(self, data_config, args=None):\n",
    "        super(QCNN, self).__init__(args)\n",
    "        self.args = vars(args) if args is not None else {}\n",
    "\n",
    "        # Data config\n",
    "        self.input_dim = data_config[\"input_dims\"]\n",
    "        self.cluster_state = self.args.get(\"cluster_state\", False)\n",
    "        self.n_layers = self.args.get(\"n_layers\", 1)\n",
    "        self.n_qubits = self.args.get(\"n_qubits\", 1)\n",
    "        self.template = self.args.get(\"template\", 'NQubitPQC')\n",
    "\n",
    "        input_shape = [None] + list(self.input_dim)\n",
    "\n",
    "        self.qconv2d_1 = QConv2D(\n",
    "            filters=1,\n",
    "            kernel_size=3,\n",
    "            strides=2,\n",
    "            n_qubits=self.n_qubits,\n",
    "            n_layers=self.n_layers,\n",
    "            template = self.template,\n",
    "            padding=\"same\",\n",
    "            cluster_state=self.cluster_state,\n",
    "            name='qconv2d_1',\n",
    "        )\n",
    "        \n",
    "        self.dense1 = Dense(8, activation='relu')\n",
    "        self.dense2 = Dense(2, activation='softmax')\n",
    "    \n",
    "    def call(self, input_tensor):\n",
    "        x = self.qconv2d_1(input_tensor)\n",
    "        x = Flatten()(x)\n",
    "        x = self.dense1(x)\n",
    "        x = self.dense2(x)\n",
    "        return x\n",
    "\n",
    "    def build_graph(self):\n",
    "        x = Input(shape=self.input_dim, batch_size= 4)\n",
    "        return Model(inputs=[x],\n",
    "                     outputs=self.call(x),\n",
    "                     name=f\"QCNN-{self.fm_class}-{self.ansatz_class}\")\n",
    "\n",
    "    @staticmethod\n",
    "    def add_to_argparse(parser):\n",
    "        parser.add_argument(\"--cluster-state\",\n",
    "                            action=\"store_true\",\n",
    "                            default=False)\n",
    "        parser.add_argument(\"--n-layers\", type=int, default=1)\n",
    "        parser.add_argument(\"--n-qubits\", type=int, default=1)\n",
    "        parser.add_argument(\"--template\",type=str,  default='NQubitPQC')\n",
    "        return parser"
   ]
  },
  {
   "cell_type": "code",
   "execution_count": 283,
   "id": "049e3300",
   "metadata": {
    "ExecuteTime": {
     "end_time": "2022-08-06T15:56:26.762051Z",
     "start_time": "2022-08-06T15:56:26.595496Z"
    }
   },
   "outputs": [
    {
     "name": "stdout",
     "output_type": "stream",
     "text": [
      "Using Ranger optimizer\n"
     ]
    }
   ],
   "source": [
    "model = QCNN(data.config(),args)"
   ]
  },
  {
   "cell_type": "code",
   "execution_count": 284,
   "id": "cf1cf8e7",
   "metadata": {
    "ExecuteTime": {
     "end_time": "2022-08-06T15:56:26.907113Z",
     "start_time": "2022-08-06T15:56:26.810399Z"
    }
   },
   "outputs": [],
   "source": [
    "model.compile()"
   ]
  },
  {
   "cell_type": "code",
   "execution_count": 285,
   "id": "043e865e",
   "metadata": {
    "ExecuteTime": {
     "end_time": "2022-08-06T15:58:26.643428Z",
     "start_time": "2022-08-06T15:56:27.034601Z"
    }
   },
   "outputs": [
    {
     "name": "stdout",
     "output_type": "stream",
     "text": [
      "Epoch 1/2\n",
      "12/12 [==============================] - 57s 5s/step - loss: 0.7298 - auc_25: 0.5382 - accuracy: 0.5417 - val_loss: 0.5583 - val_auc_25: 0.8056 - val_accuracy: 0.8333 - lr: 0.1000\n",
      "Epoch 2/2\n",
      "12/12 [==============================] - 62s 5s/step - loss: 0.4653 - auc_25: 0.9701 - accuracy: 0.8750 - val_loss: 0.3957 - val_auc_25: 0.9792 - val_accuracy: 0.9167 - lr: 0.1000\n"
     ]
    },
    {
     "data": {
      "text/plain": [
       "<keras.callbacks.History at 0x7f4b9e9cf890>"
      ]
     },
     "execution_count": 285,
     "metadata": {},
     "output_type": "execute_result"
    }
   ],
   "source": [
    "model.fit(data, callbacks)"
   ]
  },
  {
   "cell_type": "code",
   "execution_count": null,
   "id": "00663aec",
   "metadata": {},
   "outputs": [],
   "source": []
  },
  {
   "cell_type": "code",
   "execution_count": null,
   "id": "ebc2b2d7",
   "metadata": {},
   "outputs": [],
   "source": []
  }
 ],
 "metadata": {
  "kernelspec": {
   "display_name": "Python (qenv)",
   "language": "python",
   "name": "qenv"
  },
  "language_info": {
   "codemirror_mode": {
    "name": "ipython",
    "version": 3
   },
   "file_extension": ".py",
   "mimetype": "text/x-python",
   "name": "python",
   "nbconvert_exporter": "python",
   "pygments_lexer": "ipython3",
   "version": "3.7.13"
  },
  "latex_envs": {
   "LaTeX_envs_menu_present": true,
   "autoclose": false,
   "autocomplete": true,
   "bibliofile": "biblio.bib",
   "cite_by": "apalike",
   "current_citInitial": 1,
   "eqLabelWithNumbers": true,
   "eqNumInitial": 1,
   "hotkeys": {
    "equation": "Ctrl-E",
    "itemize": "Ctrl-I"
   },
   "labels_anchors": false,
   "latex_user_defs": false,
   "report_style_numbering": false,
   "user_envs_cfg": false
  },
  "toc": {
   "base_numbering": 1,
   "nav_menu": {},
   "number_sections": true,
   "sideBar": true,
   "skip_h1_title": false,
   "title_cell": "Table of Contents",
   "title_sidebar": "Contents",
   "toc_cell": false,
   "toc_position": {},
   "toc_section_display": true,
   "toc_window_display": false
  }
 },
 "nbformat": 4,
 "nbformat_minor": 5
}
