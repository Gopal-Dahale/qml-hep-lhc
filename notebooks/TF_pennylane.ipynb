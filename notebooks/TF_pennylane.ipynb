{
 "cells": [
  {
   "cell_type": "code",
   "execution_count": 1,
   "id": "fcce4542",
   "metadata": {
    "ExecuteTime": {
     "end_time": "2022-08-05T16:59:03.545395Z",
     "start_time": "2022-08-05T16:59:02.385950Z"
    }
   },
   "outputs": [],
   "source": [
    "%load_ext autoreload\n",
    "%autoreload 2\n",
    "\n",
    "%matplotlib inline\n",
    "\n",
    "from importlib.util import find_spec\n",
    "if find_spec(\"qml_hep_lhc\") is None:\n",
    "    import sys\n",
    "    sys.path.append('..')"
   ]
  },
  {
   "cell_type": "code",
   "execution_count": 2,
   "id": "d86af7fd",
   "metadata": {
    "ExecuteTime": {
     "end_time": "2022-08-05T16:59:08.238860Z",
     "start_time": "2022-08-05T16:59:03.548965Z"
    }
   },
   "outputs": [
    {
     "name": "stderr",
     "output_type": "stream",
     "text": [
      "2022-08-05 22:29:04.372798: W tensorflow/stream_executor/platform/default/dso_loader.cc:64] Could not load dynamic library 'libcudart.so.11.0'; dlerror: libcudart.so.11.0: cannot open shared object file: No such file or directory\n",
      "2022-08-05 22:29:04.372835: I tensorflow/stream_executor/cuda/cudart_stub.cc:29] Ignore above cudart dlerror if you do not have a GPU set up on your machine.\n",
      "2022-08-05 22:29:08.087298: E tensorflow/stream_executor/cuda/cuda_driver.cc:271] failed call to cuInit: CUDA_ERROR_NO_DEVICE: no CUDA-capable device is detected\n",
      "2022-08-05 22:29:08.087334: I tensorflow/stream_executor/cuda/cuda_diagnostics.cc:156] kernel driver does not appear to be running on this host (bhagvada): /proc/driver/nvidia/version does not exist\n",
      "2022-08-05 22:29:08.087686: I tensorflow/core/platform/cpu_feature_guard.cc:151] This TensorFlow binary is optimized with oneAPI Deep Neural Network Library (oneDNN) to use the following CPU instructions in performance-critical operations:  AVX2 FMA\n",
      "To enable them in other operations, rebuild TensorFlow with the appropriate compiler flags.\n"
     ]
    }
   ],
   "source": [
    "import argparse\n",
    "import numpy as np\n",
    "import pennylane as qml\n",
    "\n",
    "from qml_hep_lhc.data import QuarkGluon, MNIST\n",
    "from qml_hep_lhc.models.base_model import BaseModel\n",
    "from qml_hep_lhc.layers.utils import normalize_padding, normalize_tuple, convolution_iters\n",
    "\n",
    "import tensorflow as tf\n",
    "from tensorflow.keras.callbacks import ReduceLROnPlateau\n",
    "from tensorflow.keras.layers import Layer, Dense, Flatten, Concatenate, Reshape, InputLayer\n",
    "from tensorflow.keras import Input, Model\n",
    "from tensorflow import pad, Variable\n",
    "from tensorflow.keras.initializers import HeUniform"
   ]
  },
  {
   "cell_type": "code",
   "execution_count": 3,
   "id": "0403700a",
   "metadata": {
    "ExecuteTime": {
     "end_time": "2022-08-05T16:59:08.333614Z",
     "start_time": "2022-08-05T16:59:08.244183Z"
    }
   },
   "outputs": [],
   "source": [
    "tf.keras.backend.set_floatx('float64')"
   ]
  },
  {
   "cell_type": "code",
   "execution_count": 4,
   "id": "1f4213a6",
   "metadata": {
    "ExecuteTime": {
     "end_time": "2022-08-05T16:59:09.875921Z",
     "start_time": "2022-08-05T16:59:09.740911Z"
    }
   },
   "outputs": [],
   "source": [
    "args = argparse.Namespace()\n",
    "args.center_crop = 0.7\n",
    "args.resize = [8,8]\n",
    "args.standardize = 1\n",
    "args.binary_data = [0,1]\n",
    "args.optimizer = 'Ranger'\n",
    "args.labels_to_categorical = 1\n",
    "args.processed = 1\n",
    "args.percent_samples = 0.1\n",
    "args.batch_size = 5"
   ]
  },
  {
   "cell_type": "code",
   "execution_count": 5,
   "id": "0800c164",
   "metadata": {
    "ExecuteTime": {
     "end_time": "2022-08-05T16:59:10.436978Z",
     "start_time": "2022-08-05T16:59:10.198537Z"
    }
   },
   "outputs": [
    {
     "name": "stdout",
     "output_type": "stream",
     "text": [
      "Binarizing data...\n",
      "Binarizing data...\n",
      "Center cropping...\n",
      "Center cropping...\n",
      "Resizing data...\n",
      "Resizing data...\n",
      "Standardizing data...\n",
      "Converting labels to categorical...\n",
      "Converting labels to categorical...\n",
      "\n",
      "Dataset :MNIST\n",
      "╒════════╤═══════════════╤═══════════════╤═══════════════╤═══════════╕\n",
      "│ Data   │ Train size    │ Val size      │ Test size     │ Dims      │\n",
      "╞════════╪═══════════════╪═══════════════╪═══════════════╪═══════════╡\n",
      "│ X      │ (48, 8, 8, 1) │ (12, 8, 8, 1) │ (20, 8, 8, 1) │ (8, 8, 1) │\n",
      "├────────┼───────────────┼───────────────┼───────────────┼───────────┤\n",
      "│ y      │ (48, 2)       │ (12, 2)       │ (20, 2)       │ (2,)      │\n",
      "╘════════╧═══════════════╧═══════════════╧═══════════════╧═══════════╛\n",
      "\n",
      "╒══════════════╤═══════╤═══════╤════════╤═══════╤══════════════════════════╕\n",
      "│ Type         │   Min │   Max │   Mean │   Std │ Samples for each class   │\n",
      "╞══════════════╪═══════╪═══════╪════════╪═══════╪══════════════════════════╡\n",
      "│ Train Images │ -1.58 │  7.68 │  -0    │  1.01 │ [24, 24]                 │\n",
      "├──────────────┼───────┼───────┼────────┼───────┼──────────────────────────┤\n",
      "│ Val Images   │ -1.58 │  5.29 │   0    │  0.94 │ [6, 6]                   │\n",
      "├──────────────┼───────┼───────┼────────┼───────┼──────────────────────────┤\n",
      "│ Test Images  │ -1.56 │  6.86 │  -0.05 │  0.95 │ [10, 10]                 │\n",
      "╘══════════════╧═══════╧═══════╧════════╧═══════╧══════════════════════════╛\n",
      "\n",
      "\n"
     ]
    }
   ],
   "source": [
    "data = MNIST(args)\n",
    "data.prepare_data()\n",
    "data.setup()\n",
    "print(data)"
   ]
  },
  {
   "cell_type": "code",
   "execution_count": 6,
   "id": "9543b183",
   "metadata": {
    "ExecuteTime": {
     "end_time": "2022-08-05T16:59:10.909675Z",
     "start_time": "2022-08-05T16:59:10.827998Z"
    }
   },
   "outputs": [],
   "source": [
    "# LR Scheduler callback\n",
    "lr_scheduler_callback = ReduceLROnPlateau(monitor='val_loss',\n",
    "                                          factor=0.1,\n",
    "                                          patience=5,\n",
    "                                          min_delta=0.0001,\n",
    "                                          min_lr=1e-6)\n",
    "callbacks = [lr_scheduler_callback]"
   ]
  },
  {
   "cell_type": "markdown",
   "id": "6ec00c23",
   "metadata": {},
   "source": [
    "## Defining QNode"
   ]
  },
  {
   "cell_type": "code",
   "execution_count": 7,
   "id": "4e884efe",
   "metadata": {
    "ExecuteTime": {
     "end_time": "2022-08-05T16:59:11.774077Z",
     "start_time": "2022-08-05T16:59:11.679806Z"
    }
   },
   "outputs": [],
   "source": [
    "# Hyperparameters\n",
    "\n",
    "n_qubits = 3\n",
    "n_layers = 4\n",
    "n_inputs = 9\n",
    "\n",
    "args.learning_rate = 0.1\n",
    "args.template = 'S2D'\n",
    "args.cluster_state = 1\n",
    "args.use_quantum = 1\n",
    "args.n_qubits = n_qubits\n",
    "args.n_layers = n_layers \n",
    "args.epochs = 5"
   ]
  },
  {
   "cell_type": "code",
   "execution_count": 8,
   "id": "8ae463af",
   "metadata": {
    "ExecuteTime": {
     "end_time": "2022-08-05T16:59:12.443900Z",
     "start_time": "2022-08-05T16:59:12.293972Z"
    }
   },
   "outputs": [],
   "source": [
    "import pennylane as qml\n",
    "\n",
    "\n",
    "dev = qml.device(\"lightning.qubit\", wires=n_qubits)\n",
    "qubits = list(range(n_qubits))\n",
    "\n",
    "\n",
    "@qml.qnode(dev, diff_method=\"adjoint\")\n",
    "def qnode_sparse(inputs, w, b):\n",
    "\n",
    "    # shape of inputs is (n_inputs,)\n",
    "    # shape of w is (n_layers, n_qubits, 3, n_inputs)\n",
    "    # shape of b is (n_layers, n_qubits, 3)\n",
    "    \n",
    "    z = tf.tensordot(w, inputs, axes = 1) + b\n",
    "    \n",
    "    for l in range(n_layers):\n",
    "        for q in qubits:\n",
    "            qml.Rot(z[l,q,0], z[l,q,1], z[l,q,2], wires= q)\n",
    "        \n",
    "        if (l & 1):\n",
    "            for q0, q1 in zip(qubits[1::2], qubits[2::2] + [qubits[0]]):\n",
    "                qml.CZ((q0,q1))\n",
    "\n",
    "        else:\n",
    "            for q0, q1 in zip(qubits[0::2], qubits[1::2]):\n",
    "                qml.CZ((q0,q1))\n",
    "                \n",
    "    return [qml.expval(qml.PauliZ(wires=n_qubits - 1))]\n",
    "\n",
    "@qml.qnode(dev)\n",
    "def qnode_sd(inputs,w,b):\n",
    "    z = tf.tensordot(w, inputs, axes = 1) + b\n",
    "    qml.SimplifiedTwoDesign(initial_layer_weights=[0]*n_qubits, weights=z, wires=range(n_qubits))\n",
    "    return [qml.expval(qml.PauliZ(wires=n_qubits - 1))]"
   ]
  },
  {
   "cell_type": "code",
   "execution_count": 9,
   "id": "24713d00",
   "metadata": {
    "ExecuteTime": {
     "end_time": "2022-08-05T16:59:13.024512Z",
     "start_time": "2022-08-05T16:59:12.950785Z"
    }
   },
   "outputs": [
    {
     "data": {
      "text/plain": [
       "TensorShape([4, 2, 2])"
      ]
     },
     "execution_count": 9,
     "metadata": {},
     "output_type": "execute_result"
    }
   ],
   "source": [
    "inputs = tf.random.uniform((n_inputs,))\n",
    "w = tf.random.uniform((n_layers,n_qubits-1,2, n_inputs))\n",
    "b = tf.random.uniform((n_layers,n_qubits-1,2))\n",
    "out = tf.tensordot(w,tf.transpose(inputs),axes = 1) + b\n",
    "out.shape"
   ]
  },
  {
   "cell_type": "code",
   "execution_count": 10,
   "id": "724bd68b",
   "metadata": {
    "ExecuteTime": {
     "end_time": "2022-08-05T16:59:13.437912Z",
     "start_time": "2022-08-05T16:59:13.341738Z"
    },
    "scrolled": false
   },
   "outputs": [
    {
     "name": "stdout",
     "output_type": "stream",
     "text": [
      "0: ──RY(0.00)─╭●──RY(4.47)──────────────╭●──RY(2.86)──────────────╭●──RY(3.06)──────────────╭●\n",
      "1: ──RY(0.00)─╰Z──RY(2.61)─╭●──RY(3.14)─╰Z──RY(2.69)─╭●──RY(2.24)─╰Z──RY(2.92)─╭●──RY(3.41)─╰Z\n",
      "2: ──RY(0.00)──────────────╰Z──RY(3.44)──────────────╰Z──RY(2.11)──────────────╰Z──RY(3.17)───\n",
      "\n",
      "───RY(2.15)──────────────┤     \n",
      "───RY(3.32)─╭●──RY(2.18)─┤     \n",
      "────────────╰Z──RY(2.86)─┤  <Z>\n"
     ]
    }
   ],
   "source": [
    "drawer = qml.draw(qnode_sd, expansion_strategy=\"device\")\n",
    "print(drawer(inputs,w,b))"
   ]
  },
  {
   "cell_type": "code",
   "execution_count": 11,
   "id": "781f391f",
   "metadata": {
    "ExecuteTime": {
     "end_time": "2022-08-05T16:59:13.993024Z",
     "start_time": "2022-08-05T16:59:13.863563Z"
    }
   },
   "outputs": [],
   "source": [
    "def get_node(template, n_layers, n_qubits, n_inputs):\n",
    "    if template == 'NQubitPQC':\n",
    "        return qnode_sparse, {\n",
    "            \"w\": (n_layers, n_qubits, 3, n_inputs),\n",
    "            \"b\": (n_layers, n_qubits, 3)\n",
    "        }\n",
    "    elif template == 'S2D':\n",
    "        return qnode_sd, {\n",
    "            \"w\": (n_layers, n_qubits -1, 2, n_inputs),\n",
    "            \"b\": (n_layers, n_qubits -1, 2)\n",
    "        }"
   ]
  },
  {
   "cell_type": "code",
   "execution_count": 12,
   "id": "f184bed7",
   "metadata": {
    "ExecuteTime": {
     "end_time": "2022-08-05T16:59:14.563745Z",
     "start_time": "2022-08-05T16:59:14.399804Z"
    }
   },
   "outputs": [],
   "source": [
    "class QConv2D(Layer):\n",
    "    \"\"\"\n",
    "    2D Quantum convolution layer (e.g. spatial convolution over images).\n",
    "    This layer creates a convolution kernel that is convolved \n",
    "    with the layer input to produce a tensor of outputs. Finally,\n",
    "    `activation` is applied to the outputs as well.\n",
    "    \"\"\"\n",
    "\n",
    "    def __init__(\n",
    "            self,\n",
    "            filters=1,\n",
    "            kernel_size=(3, 3),\n",
    "            strides=(1, 1),\n",
    "            n_qubits=1,\n",
    "            n_layers=1,\n",
    "            template = 'NQubitPQC',\n",
    "            padding='valid',\n",
    "            cluster_state=False,\n",
    "            observable=None,\n",
    "            name='QConv2D',\n",
    "    ):\n",
    "\n",
    "        super(QConv2D, self).__init__(name=name)\n",
    "\n",
    "        # Filters\n",
    "        if isinstance(filters, float):\n",
    "            filters = int(filters)\n",
    "        if filters is not None and filters <= 0:\n",
    "            raise ValueError('Invalid value for argument `filters`. '\n",
    "                             'Expected a strictly positive value. '\n",
    "                             f'Received filters={filters}.')\n",
    "        self.filters = filters\n",
    "\n",
    "        # Num layers\n",
    "        if isinstance(n_layers, float):\n",
    "            n_layers = int(n_layers)\n",
    "        if n_layers is not None and n_layers <= 0:\n",
    "            raise ValueError('Invalid value for argument `n_layers`. '\n",
    "                             'Expected a strictly positive value. '\n",
    "                             f'Received n_layers={n_layers}.')\n",
    "        self.n_layers = n_layers\n",
    "\n",
    "        self.observable = observable\n",
    "        self.kernel_size = normalize_tuple(kernel_size, 'kernel_size')\n",
    "        self.strides = normalize_tuple(strides, 'strides')\n",
    "        self.padding = normalize_padding(padding)\n",
    "        self.cluster_state = cluster_state\n",
    "        self.n_qubits = n_qubits\n",
    "        \n",
    "        self.n_inputs = np.prod(self.kernel_size)\n",
    "        self.qnode, self.weight_shapes = get_node(template, n_layers, n_qubits, n_inputs)\n",
    "        \n",
    "        \n",
    "    def build(self, input_shape):\n",
    "\n",
    "        self.iters, self.padding_constant = convolution_iters(\n",
    "            input_shape[1:3], self.kernel_size, self.strides, self.padding)\n",
    "        self.n_channels = input_shape[3]\n",
    "\n",
    "        self.conv_pqcs = [[(filter, channel)\n",
    "                           for channel in range(self.n_channels)]\n",
    "                          for filter in range(self.filters)]\n",
    "\n",
    "        for filter in range(self.filters):\n",
    "            for channel in range(self.n_channels):\n",
    "                name = f\"{self.name}_{filter}_{channel}\"\n",
    "                self.conv_pqcs[filter][channel] = qml.qnn.KerasLayer(qnode = self.qnode, \n",
    "                                                                     weight_shapes = self.weight_shapes, \n",
    "                                                                     output_dim=1,\n",
    "                                                                     name = name\n",
    "                                                                     )\n",
    "\n",
    "    def _convolution(self, input_tensor, filter, channel):\n",
    "\n",
    "        s = self.strides\n",
    "        k = self.kernel_size\n",
    "\n",
    "        conv_out = []\n",
    "        for i in range(self.iters[0]):\n",
    "            for j in range(self.iters[1]):\n",
    "                x = input_tensor[:, i * s[0]:i * s[0] + k[0], j *\n",
    "                                 s[1]:j * s[1] + k[1]]\n",
    "                x = Flatten()(x)\n",
    "                conv_out += [self.conv_pqcs[filter][channel](x)]\n",
    "        \n",
    "        conv_out = Concatenate(axis=1)(conv_out)\n",
    "        conv_out = Reshape((self.iters[0], self.iters[1], 1))(conv_out)\n",
    "        return conv_out\n",
    "\n",
    "    def call(self, input_tensor):\n",
    "        input_tensor = pad(input_tensor, self.padding_constant)\n",
    "\n",
    "        if self.n_channels == 1:\n",
    "            conv_out = [\n",
    "                self._convolution(input_tensor[:, :, :, 0], filter, 0)\n",
    "                for filter in range(self.filters)\n",
    "            ]\n",
    "        else:\n",
    "            conv_out = [\n",
    "                Add()([\n",
    "                    self._convolution(input_tensor[:, :, :, c], filter, c)\n",
    "                    for c in range(self.n_channels)\n",
    "                ])\n",
    "                for filter in range(self.filters)\n",
    "            ]\n",
    "        conv_out = Concatenate(axis=-1)(conv_out)\n",
    "        return conv_out"
   ]
  },
  {
   "cell_type": "code",
   "execution_count": 13,
   "id": "cb1140fb",
   "metadata": {
    "ExecuteTime": {
     "end_time": "2022-08-05T16:59:15.082431Z",
     "start_time": "2022-08-05T16:59:14.924086Z"
    }
   },
   "outputs": [],
   "source": [
    "class QCNN(BaseModel):\n",
    "    \"\"\"\n",
    "\tGeneral Quantum Convolutional Neural Network\n",
    "\t\"\"\"\n",
    "\n",
    "    def __init__(self, data_config, args=None):\n",
    "        super(QCNN, self).__init__(args)\n",
    "        self.args = vars(args) if args is not None else {}\n",
    "\n",
    "        # Data config\n",
    "        self.input_dim = data_config[\"input_dims\"]\n",
    "        self.cluster_state = self.args.get(\"cluster_state\", False)\n",
    "        self.n_layers = self.args.get(\"n_layers\", 1)\n",
    "        self.n_qubits = self.args.get(\"n_qubits\", 1)\n",
    "        self.template = self.args.get(\"template\", 'NQubitPQC')\n",
    "\n",
    "        input_shape = [None] + list(self.input_dim)\n",
    "\n",
    "        self.qconv2d_1 = QConv2D(\n",
    "            filters=1,\n",
    "            kernel_size=3,\n",
    "            strides=2,\n",
    "            n_qubits=self.n_qubits,\n",
    "            n_layers=self.n_layers,\n",
    "            template = self.template,\n",
    "            padding=\"same\",\n",
    "            cluster_state=self.cluster_state,\n",
    "            name='qconv2d_1',\n",
    "        )\n",
    "\n",
    "        self.qconv2d_2 = QConv2D(\n",
    "            filters=1,\n",
    "            kernel_size=3,\n",
    "            strides=2,\n",
    "            n_qubits=self.n_qubits,\n",
    "            n_layers=self.n_layers,\n",
    "            template = self.template,\n",
    "            padding=\"same\",\n",
    "            cluster_state=self.cluster_state,\n",
    "            name='qconv2d_2',\n",
    "        )\n",
    "        \n",
    "        self.dense1 = Dense(8, activation='relu')\n",
    "        self.dense2 = Dense(2, activation='softmax')\n",
    "    \n",
    "    def call(self, input_tensor):\n",
    "        x = self.qconv2d_1(input_tensor)\n",
    "        x = self.qconv2d_2(x)\n",
    "        x = Flatten()(x)\n",
    "        x = self.dense1(x)\n",
    "        x = self.dense2(x)\n",
    "        return x\n",
    "\n",
    "    def build_graph(self):\n",
    "        x = Input(shape=self.input_dim)\n",
    "        return Model(inputs=[x],\n",
    "                     outputs=self.call(x),\n",
    "                     name=f\"QCNN-{self.fm_class}-{self.ansatz_class}\")\n",
    "\n",
    "    @staticmethod\n",
    "    def add_to_argparse(parser):\n",
    "        parser.add_argument(\"--cluster-state\",\n",
    "                            action=\"store_true\",\n",
    "                            default=False)\n",
    "        parser.add_argument(\"--n-layers\", type=int, default=1)\n",
    "        parser.add_argument(\"--n-qubits\", type=int, default=1)\n",
    "        parser.add_argument(\"--template\",type=str,  default='NQubitPQC')\n",
    "        return parser"
   ]
  },
  {
   "cell_type": "code",
   "execution_count": 14,
   "id": "049e3300",
   "metadata": {
    "ExecuteTime": {
     "end_time": "2022-08-05T16:59:15.457578Z",
     "start_time": "2022-08-05T16:59:15.292334Z"
    }
   },
   "outputs": [
    {
     "name": "stdout",
     "output_type": "stream",
     "text": [
      "Using Ranger optimizer\n"
     ]
    }
   ],
   "source": [
    "model = QCNN(data.config(),args)"
   ]
  },
  {
   "cell_type": "code",
   "execution_count": 15,
   "id": "cf1cf8e7",
   "metadata": {
    "ExecuteTime": {
     "end_time": "2022-08-05T16:59:15.772024Z",
     "start_time": "2022-08-05T16:59:15.634150Z"
    }
   },
   "outputs": [],
   "source": [
    "model.compile()"
   ]
  },
  {
   "cell_type": "code",
   "execution_count": 16,
   "id": "043e865e",
   "metadata": {
    "ExecuteTime": {
     "end_time": "2022-08-05T16:59:24.714827Z",
     "start_time": "2022-08-05T16:59:16.166585Z"
    }
   },
   "outputs": [
    {
     "name": "stdout",
     "output_type": "stream",
     "text": [
      "Epoch 1/5\n"
     ]
    },
    {
     "ename": "InvalidArgumentError",
     "evalue": "cannot compute Mul as input #1(zero-based) was expected to be a double tensor but is a float tensor [Op:Mul]",
     "output_type": "error",
     "traceback": [
      "\u001b[0;31m---------------------------------------------------------------------------\u001b[0m",
      "\u001b[0;31mInvalidArgumentError\u001b[0m                      Traceback (most recent call last)",
      "\u001b[0;32m/tmp/ipykernel_17661/604144221.py\u001b[0m in \u001b[0;36m<module>\u001b[0;34m\u001b[0m\n\u001b[0;32m----> 1\u001b[0;31m \u001b[0mmodel\u001b[0m\u001b[0;34m.\u001b[0m\u001b[0mfit\u001b[0m\u001b[0;34m(\u001b[0m\u001b[0mdata\u001b[0m\u001b[0;34m,\u001b[0m \u001b[0mcallbacks\u001b[0m\u001b[0;34m)\u001b[0m\u001b[0;34m\u001b[0m\u001b[0;34m\u001b[0m\u001b[0m\n\u001b[0m",
      "\u001b[0;32m~/Documents/qml-hep-lhc/qml_hep_lhc/models/base_model.py\u001b[0m in \u001b[0;36mfit\u001b[0;34m(self, data, callbacks)\u001b[0m\n\u001b[1;32m     50\u001b[0m                                \u001b[0mvalidation_data\u001b[0m\u001b[0;34m=\u001b[0m\u001b[0mdata\u001b[0m\u001b[0;34m.\u001b[0m\u001b[0mval_ds\u001b[0m\u001b[0;34m,\u001b[0m\u001b[0;34m\u001b[0m\u001b[0;34m\u001b[0m\u001b[0m\n\u001b[1;32m     51\u001b[0m                                \u001b[0mshuffle\u001b[0m\u001b[0;34m=\u001b[0m\u001b[0;32mTrue\u001b[0m\u001b[0;34m,\u001b[0m\u001b[0;34m\u001b[0m\u001b[0;34m\u001b[0m\u001b[0m\n\u001b[0;32m---> 52\u001b[0;31m                                workers=self.args.get('num_workers', 4))\n\u001b[0m\u001b[1;32m     53\u001b[0m \u001b[0;34m\u001b[0m\u001b[0m\n\u001b[1;32m     54\u001b[0m     \u001b[0;32mdef\u001b[0m \u001b[0mtest\u001b[0m\u001b[0;34m(\u001b[0m\u001b[0mself\u001b[0m\u001b[0;34m,\u001b[0m \u001b[0mdata\u001b[0m\u001b[0;34m,\u001b[0m \u001b[0mcallbacks\u001b[0m\u001b[0;34m)\u001b[0m\u001b[0;34m:\u001b[0m\u001b[0;34m\u001b[0m\u001b[0;34m\u001b[0m\u001b[0m\n",
      "\u001b[0;32m~/Documents/qml-hep-lhc/qenv/lib/python3.7/site-packages/keras/utils/traceback_utils.py\u001b[0m in \u001b[0;36merror_handler\u001b[0;34m(*args, **kwargs)\u001b[0m\n\u001b[1;32m     65\u001b[0m     \u001b[0;32mexcept\u001b[0m \u001b[0mException\u001b[0m \u001b[0;32mas\u001b[0m \u001b[0me\u001b[0m\u001b[0;34m:\u001b[0m  \u001b[0;31m# pylint: disable=broad-except\u001b[0m\u001b[0;34m\u001b[0m\u001b[0;34m\u001b[0m\u001b[0m\n\u001b[1;32m     66\u001b[0m       \u001b[0mfiltered_tb\u001b[0m \u001b[0;34m=\u001b[0m \u001b[0m_process_traceback_frames\u001b[0m\u001b[0;34m(\u001b[0m\u001b[0me\u001b[0m\u001b[0;34m.\u001b[0m\u001b[0m__traceback__\u001b[0m\u001b[0;34m)\u001b[0m\u001b[0;34m\u001b[0m\u001b[0;34m\u001b[0m\u001b[0m\n\u001b[0;32m---> 67\u001b[0;31m       \u001b[0;32mraise\u001b[0m \u001b[0me\u001b[0m\u001b[0;34m.\u001b[0m\u001b[0mwith_traceback\u001b[0m\u001b[0;34m(\u001b[0m\u001b[0mfiltered_tb\u001b[0m\u001b[0;34m)\u001b[0m \u001b[0;32mfrom\u001b[0m \u001b[0;32mNone\u001b[0m\u001b[0;34m\u001b[0m\u001b[0;34m\u001b[0m\u001b[0m\n\u001b[0m\u001b[1;32m     68\u001b[0m     \u001b[0;32mfinally\u001b[0m\u001b[0;34m:\u001b[0m\u001b[0;34m\u001b[0m\u001b[0;34m\u001b[0m\u001b[0m\n\u001b[1;32m     69\u001b[0m       \u001b[0;32mdel\u001b[0m \u001b[0mfiltered_tb\u001b[0m\u001b[0;34m\u001b[0m\u001b[0;34m\u001b[0m\u001b[0m\n",
      "\u001b[0;32m~/Documents/qml-hep-lhc/qenv/lib/python3.7/site-packages/tensorflow/python/framework/ops.py\u001b[0m in \u001b[0;36mraise_from_not_ok_status\u001b[0;34m(e, name)\u001b[0m\n\u001b[1;32m   7105\u001b[0m \u001b[0;32mdef\u001b[0m \u001b[0mraise_from_not_ok_status\u001b[0m\u001b[0;34m(\u001b[0m\u001b[0me\u001b[0m\u001b[0;34m,\u001b[0m \u001b[0mname\u001b[0m\u001b[0;34m)\u001b[0m\u001b[0;34m:\u001b[0m\u001b[0;34m\u001b[0m\u001b[0;34m\u001b[0m\u001b[0m\n\u001b[1;32m   7106\u001b[0m   \u001b[0me\u001b[0m\u001b[0;34m.\u001b[0m\u001b[0mmessage\u001b[0m \u001b[0;34m+=\u001b[0m \u001b[0;34m(\u001b[0m\u001b[0;34m\" name: \"\u001b[0m \u001b[0;34m+\u001b[0m \u001b[0mname\u001b[0m \u001b[0;32mif\u001b[0m \u001b[0mname\u001b[0m \u001b[0;32mis\u001b[0m \u001b[0;32mnot\u001b[0m \u001b[0;32mNone\u001b[0m \u001b[0;32melse\u001b[0m \u001b[0;34m\"\"\u001b[0m\u001b[0;34m)\u001b[0m\u001b[0;34m\u001b[0m\u001b[0;34m\u001b[0m\u001b[0m\n\u001b[0;32m-> 7107\u001b[0;31m   \u001b[0;32mraise\u001b[0m \u001b[0mcore\u001b[0m\u001b[0;34m.\u001b[0m\u001b[0m_status_to_exception\u001b[0m\u001b[0;34m(\u001b[0m\u001b[0me\u001b[0m\u001b[0;34m)\u001b[0m \u001b[0;32mfrom\u001b[0m \u001b[0;32mNone\u001b[0m  \u001b[0;31m# pylint: disable=protected-access\u001b[0m\u001b[0;34m\u001b[0m\u001b[0;34m\u001b[0m\u001b[0m\n\u001b[0m\u001b[1;32m   7108\u001b[0m \u001b[0;34m\u001b[0m\u001b[0m\n\u001b[1;32m   7109\u001b[0m \u001b[0;34m\u001b[0m\u001b[0m\n",
      "\u001b[0;31mInvalidArgumentError\u001b[0m: cannot compute Mul as input #1(zero-based) was expected to be a double tensor but is a float tensor [Op:Mul]"
     ]
    }
   ],
   "source": [
    "model.fit(data, callbacks)"
   ]
  },
  {
   "cell_type": "code",
   "execution_count": null,
   "id": "00663aec",
   "metadata": {},
   "outputs": [],
   "source": []
  },
  {
   "cell_type": "code",
   "execution_count": null,
   "id": "ebc2b2d7",
   "metadata": {},
   "outputs": [],
   "source": []
  }
 ],
 "metadata": {
  "kernelspec": {
   "display_name": "Python (qenv)",
   "language": "python",
   "name": "qenv"
  },
  "language_info": {
   "codemirror_mode": {
    "name": "ipython",
    "version": 3
   },
   "file_extension": ".py",
   "mimetype": "text/x-python",
   "name": "python",
   "nbconvert_exporter": "python",
   "pygments_lexer": "ipython3",
   "version": "3.7.13"
  },
  "latex_envs": {
   "LaTeX_envs_menu_present": true,
   "autoclose": false,
   "autocomplete": true,
   "bibliofile": "biblio.bib",
   "cite_by": "apalike",
   "current_citInitial": 1,
   "eqLabelWithNumbers": true,
   "eqNumInitial": 1,
   "hotkeys": {
    "equation": "Ctrl-E",
    "itemize": "Ctrl-I"
   },
   "labels_anchors": false,
   "latex_user_defs": false,
   "report_style_numbering": false,
   "user_envs_cfg": false
  },
  "toc": {
   "base_numbering": 1,
   "nav_menu": {},
   "number_sections": true,
   "sideBar": true,
   "skip_h1_title": false,
   "title_cell": "Table of Contents",
   "title_sidebar": "Contents",
   "toc_cell": false,
   "toc_position": {},
   "toc_section_display": true,
   "toc_window_display": false
  }
 },
 "nbformat": 4,
 "nbformat_minor": 5
}
