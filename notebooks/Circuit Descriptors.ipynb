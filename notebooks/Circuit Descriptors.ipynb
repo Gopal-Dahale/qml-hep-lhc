{
 "cells": [
  {
   "cell_type": "code",
   "execution_count": 1,
   "id": "29c06ba2",
   "metadata": {
    "ExecuteTime": {
     "end_time": "2022-07-10T06:12:16.870600Z",
     "start_time": "2022-07-10T06:12:12.517124Z"
    }
   },
   "outputs": [],
   "source": [
    "%load_ext autoreload\n",
    "%autoreload 2\n",
    "\n",
    "%matplotlib inline\n",
    "\n",
    "from importlib.util import find_spec\n",
    "if find_spec(\"qml_hep_lhc\") is None:\n",
    "    import sys\n",
    "    sys.path.append('..')"
   ]
  },
  {
   "cell_type": "code",
   "execution_count": 5,
   "id": "33a9c98e",
   "metadata": {
    "ExecuteTime": {
     "end_time": "2022-07-10T06:19:33.008212Z",
     "start_time": "2022-07-10T06:19:32.936215Z"
    }
   },
   "outputs": [],
   "source": [
    "from qml_hep_lhc.ansatzes import Chen\n",
    "import cirq"
   ]
  },
  {
   "cell_type": "code",
   "execution_count": 32,
   "id": "98f33b37",
   "metadata": {
    "ExecuteTime": {
     "end_time": "2022-07-10T07:13:16.651633Z",
     "start_time": "2022-07-10T07:13:16.568720Z"
    }
   },
   "outputs": [],
   "source": [
    "n_qubits = [2 * i for i in range(2, 7)]  # Ranges studied in paper are between 2 and 24.\n",
    "depth = 2  # Ranges studied in paper are between 50 and 500."
   ]
  },
  {
   "cell_type": "code",
   "execution_count": 43,
   "id": "e3d8b018",
   "metadata": {
    "ExecuteTime": {
     "end_time": "2022-07-10T07:20:20.937680Z",
     "start_time": "2022-07-10T07:20:20.817867Z"
    }
   },
   "outputs": [],
   "source": [
    "n_layers = depth\n",
    "ansatz = Chen()\n",
    "circuits = []\n",
    "for i in n_qubits:\n",
    "    qc, _ , _ = ansatz.build(cirq.GridQubit.rect(1,i),_,n_layers, False)\n",
    "    circuits.append(qc)\n",
    "_,_,op = ansatz.build(cirq.GridQubit.rect(1,3),_,n_layers, False)"
   ]
  },
  {
   "cell_type": "code",
   "execution_count": 42,
   "id": "2302453c",
   "metadata": {
    "ExecuteTime": {
     "end_time": "2022-07-10T07:17:30.240368Z",
     "start_time": "2022-07-10T07:17:30.183629Z"
    }
   },
   "outputs": [
    {
     "ename": "SyntaxError",
     "evalue": "unexpected EOF while parsing (1585307074.py, line 2)",
     "output_type": "error",
     "traceback": [
      "\u001b[0;36m  File \u001b[0;32m\"/tmp/ipykernel_7587/1585307074.py\"\u001b[0;36m, line \u001b[0;32m2\u001b[0m\n\u001b[0;31m    \u001b[0m\n\u001b[0m    ^\u001b[0m\n\u001b[0;31mSyntaxError\u001b[0m\u001b[0;31m:\u001b[0m unexpected EOF while parsing\n"
     ]
    }
   ],
   "source": [
    "def gradient_variance(circuits,op,index = 0):\n",
    "    for circuit in circuits:\n",
    "        circuit, expr_map = cirq.flatten(circuit)\n",
    "        "
   ]
  },
  {
   "cell_type": "code",
   "execution_count": null,
   "id": "9ed8e40a",
   "metadata": {},
   "outputs": [],
   "source": []
  }
 ],
 "metadata": {
  "kernelspec": {
   "display_name": "Python (qenv)",
   "language": "python",
   "name": "qenv"
  },
  "language_info": {
   "codemirror_mode": {
    "name": "ipython",
    "version": 3
   },
   "file_extension": ".py",
   "mimetype": "text/x-python",
   "name": "python",
   "nbconvert_exporter": "python",
   "pygments_lexer": "ipython3",
   "version": "3.7.13"
  },
  "latex_envs": {
   "LaTeX_envs_menu_present": true,
   "autoclose": false,
   "autocomplete": true,
   "bibliofile": "biblio.bib",
   "cite_by": "apalike",
   "current_citInitial": 1,
   "eqLabelWithNumbers": true,
   "eqNumInitial": 1,
   "hotkeys": {
    "equation": "Ctrl-E",
    "itemize": "Ctrl-I"
   },
   "labels_anchors": false,
   "latex_user_defs": false,
   "report_style_numbering": false,
   "user_envs_cfg": false
  },
  "toc": {
   "base_numbering": 1,
   "nav_menu": {},
   "number_sections": true,
   "sideBar": true,
   "skip_h1_title": false,
   "title_cell": "Table of Contents",
   "title_sidebar": "Contents",
   "toc_cell": false,
   "toc_position": {},
   "toc_section_display": true,
   "toc_window_display": false
  }
 },
 "nbformat": 4,
 "nbformat_minor": 5
}
