{
 "cells": [
  {
   "cell_type": "code",
   "execution_count": 1,
   "id": "29c06ba2",
   "metadata": {
    "ExecuteTime": {
     "end_time": "2022-07-14T06:45:29.789149Z",
     "start_time": "2022-07-14T06:45:27.502272Z"
    }
   },
   "outputs": [],
   "source": [
    "%load_ext autoreload\n",
    "%autoreload 2\n",
    "\n",
    "%matplotlib inline\n",
    "\n",
    "from importlib.util import find_spec\n",
    "if find_spec(\"qml_hep_lhc\") is None:\n",
    "    import sys\n",
    "    sys.path.append('..')"
   ]
  },
  {
   "cell_type": "code",
   "execution_count": 10,
   "id": "33a9c98e",
   "metadata": {
    "ExecuteTime": {
     "end_time": "2022-07-14T06:47:42.868779Z",
     "start_time": "2022-07-14T06:47:42.798243Z"
    }
   },
   "outputs": [],
   "source": [
    "from qml_hep_lhc.ansatzes import Farhi\n",
    "import cirq\n",
    "import numpy as np\n",
    "import tensorflow_quantum as tfq\n",
    "import tensorflow as tf\n",
    "import matplotlib.pyplot as plt\n",
    "from numba import njit, prange"
   ]
  },
  {
   "cell_type": "code",
   "execution_count": 11,
   "id": "2bab1d4d",
   "metadata": {
    "ExecuteTime": {
     "end_time": "2022-07-14T06:47:43.326947Z",
     "start_time": "2022-07-14T06:47:43.191465Z"
    }
   },
   "outputs": [],
   "source": [
    "def process_batch(circuits, symbol, op):\n",
    "    \"\"\"Compute the variance of a batch of expectations w.r.t. op on each circuit that \n",
    "    contains `symbol`. Note that this method sets up a new compute graph every time it is\n",
    "    called so it isn't as performant as possible.\"\"\"\n",
    "\n",
    "    # Setup a simple layer to batch compute the expectation gradients.\n",
    "    expectation = tfq.layers.Expectation()\n",
    "\n",
    "    # Prep the inputs as tensors\n",
    "    circuit_tensor = tfq.convert_to_tensor(circuits)\n",
    "    values_tensor = tf.convert_to_tensor(\n",
    "        np.random.uniform(0, 2 * np.pi, (n_circuits, 1)).astype(np.float32))\n",
    "\n",
    "    # Use TensorFlow GradientTape to track gradients.\n",
    "    with tf.GradientTape() as g:\n",
    "        g.watch(values_tensor)\n",
    "        forward = expectation(circuit_tensor,\n",
    "                              operators=op,\n",
    "                              symbol_names=[symbol],\n",
    "                              symbol_values=values_tensor)\n",
    "\n",
    "    # Return variance of gradients across all circuits.\n",
    "    grads = g.gradient(forward, values_tensor)\n",
    "    grad_var = tf.math.reduce_std(grads, axis=0)\n",
    "    return grad_var.numpy()[0]"
   ]
  },
  {
   "cell_type": "code",
   "execution_count": 15,
   "id": "475fdac9",
   "metadata": {
    "ExecuteTime": {
     "end_time": "2022-07-14T07:23:33.508408Z",
     "start_time": "2022-07-14T07:22:29.431859Z"
    }
   },
   "outputs": [],
   "source": [
    "n_qubits = [2 * i for i in range(2, 10)]  # Ranges studied in paper are between 2 and 24.\n",
    "depth = 2  # Ranges studied in paper are between 50 and 500.\n",
    "n_circuits = 200\n",
    "theta_var = []\n",
    "ansatz = Farhi()\n",
    "\n",
    "def resolve_circuits(circuits,symbols):\n",
    "    for i in range(n_circuits):\n",
    "        resolver = cirq.ParamResolver({s:np.random.uniform() * 2.0 * np.pi for s in symbols})\n",
    "        circuits[i] = cirq.protocols.resolve_parameters(circuits[i], resolver)\n",
    "\n",
    "for n in n_qubits:\n",
    "    qc,_, symbols, op = ansatz.build(cirq.GridQubit.rect(1,n),None,depth, False)\n",
    "    if not len(symbols) > 0:\n",
    "        raise ValueError('No symbols found in circuit')\n",
    "    symbol = symbols[0]\n",
    "    symbols = symbols[1:]\n",
    "    circuits = [qc]*n_circuits\n",
    "    resolve_circuits(circuits,symbols)\n",
    "    theta_var.append(process_batch(circuits,symbol,op))"
   ]
  },
  {
   "cell_type": "code",
   "execution_count": 16,
   "id": "1df11ed1",
   "metadata": {
    "ExecuteTime": {
     "end_time": "2022-07-14T07:23:34.000528Z",
     "start_time": "2022-07-14T07:23:33.512033Z"
    }
   },
   "outputs": [
    {
     "data": {
      "image/png": "[encoded data removed]",
      "text/plain": [
       "<Figure size 432x288 with 1 Axes>"
      ]
     },
     "metadata": {
      "needs_background": "light"
     },
     "output_type": "display_data"
    }
   ],
   "source": [
    "plt.semilogy(n_qubits, theta_var)\n",
    "plt.title('Gradient Variance in QNNs')\n",
    "plt.xlabel('n_qubits')\n",
    "plt.xticks(n_qubits)\n",
    "plt.ylabel('$\\\\partial \\\\theta$ variance')\n",
    "plt.show()"
   ]
  },
  {
   "cell_type": "code",
   "execution_count": null,
   "id": "1e5ef71a",
   "metadata": {},
   "outputs": [],
   "source": []
  }
 ],
 "metadata": {
  "kernelspec": {
   "display_name": "Python (qenv)",
   "language": "python",
   "name": "qenv"
  },
  "language_info": {
   "codemirror_mode": {
    "name": "ipython",
    "version": 3
   },
   "file_extension": ".py",
   "mimetype": "text/x-python",
   "name": "python",
   "nbconvert_exporter": "python",
   "pygments_lexer": "ipython3",
   "version": "3.7.13"
  },
  "latex_envs": {
   "LaTeX_envs_menu_present": true,
   "autoclose": false,
   "autocomplete": true,
   "bibliofile": "biblio.bib",
   "cite_by": "apalike",
   "current_citInitial": 1,
   "eqLabelWithNumbers": true,
   "eqNumInitial": 1,
   "hotkeys": {
    "equation": "Ctrl-E",
    "itemize": "Ctrl-I"
   },
   "labels_anchors": false,
   "latex_user_defs": false,
   "report_style_numbering": false,
   "user_envs_cfg": false
  },
  "toc": {
   "base_numbering": 1,
   "nav_menu": {},
   "number_sections": true,
   "sideBar": true,
   "skip_h1_title": false,
   "title_cell": "Table of Contents",
   "title_sidebar": "Contents",
   "toc_cell": false,
   "toc_position": {},
   "toc_section_display": true,
   "toc_window_display": false
  }
 },
 "nbformat": 4,
 "nbformat_minor": 5
}
