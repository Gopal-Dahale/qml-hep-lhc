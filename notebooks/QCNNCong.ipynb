{
 "cells": [
  {
   "cell_type": "code",
   "execution_count": 2,
   "id": "37d72ee4",
   "metadata": {
    "ExecuteTime": {
     "end_time": "2022-07-03T10:34:47.897483Z",
     "start_time": "2022-07-03T10:34:47.857115Z"
    }
   },
   "outputs": [
    {
     "name": "stdout",
     "output_type": "stream",
     "text": [
      "The autoreload extension is already loaded. To reload it, use:\n",
      "  %reload_ext autoreload\n"
     ]
    }
   ],
   "source": [
    "%load_ext autoreload\n",
    "%autoreload 2\n",
    "import matplotlib.pyplot as plt\n",
    "%matplotlib inline\n",
    "\n",
    "from importlib.util import find_spec\n",
    "if find_spec(\"qml_hep_lhc\") is None:\n",
    "    import sys\n",
    "    sys.path.append('..')"
   ]
  },
  {
   "cell_type": "code",
   "execution_count": 3,
   "id": "75c8fd07",
   "metadata": {
    "ExecuteTime": {
     "end_time": "2022-07-03T10:34:51.969943Z",
     "start_time": "2022-07-03T10:34:48.201932Z"
    }
   },
   "outputs": [
    {
     "name": "stderr",
     "output_type": "stream",
     "text": [
      "2022-07-03 16:04:48.400467: W tensorflow/stream_executor/platform/default/dso_loader.cc:64] Could not load dynamic library 'libcudart.so.11.0'; dlerror: libcudart.so.11.0: cannot open shared object file: No such file or directory\n",
      "2022-07-03 16:04:48.400498: I tensorflow/stream_executor/cuda/cudart_stub.cc:29] Ignore above cudart dlerror if you do not have a GPU set up on your machine.\n",
      "2022-07-03 16:04:51.874388: E tensorflow/stream_executor/cuda/cuda_driver.cc:271] failed call to cuInit: CUDA_ERROR_NO_DEVICE: no CUDA-capable device is detected\n",
      "2022-07-03 16:04:51.874426: I tensorflow/stream_executor/cuda/cuda_diagnostics.cc:156] kernel driver does not appear to be running on this host (bhagvada): /proc/driver/nvidia/version does not exist\n",
      "2022-07-03 16:04:51.874786: I tensorflow/core/platform/cpu_feature_guard.cc:151] This TensorFlow binary is optimized with oneAPI Deep Neural Network Library (oneDNN) to use the following CPU instructions in performance-critical operations:  AVX2 FMA\n",
      "To enable them in other operations, rebuild TensorFlow with the appropriate compiler flags.\n"
     ]
    }
   ],
   "source": [
    "from tensorflow.keras import Model, Input\n",
    "from tensorflow.keras.layers import Flatten, Layer\n",
    "import sympy\n",
    "from tensorflow import string\n",
    "import tensorflow as tf\n",
    "import tensorflow_quantum as tfq\n",
    "import cirq\n",
    "import numpy as np\n",
    "from qml_hep_lhc.encodings import AngleMap\n",
    "from qml_hep_lhc.models.quantum.utils import one_qubit_unitary\n",
    "from tensorflow import Variable, random_uniform_initializer, constant, shape, repeat, tile, concat, gather"
   ]
  },
  {
   "cell_type": "code",
   "execution_count": 23,
   "id": "8705b64c",
   "metadata": {
    "ExecuteTime": {
     "end_time": "2022-07-03T10:40:00.796616Z",
     "start_time": "2022-07-03T10:40:00.711587Z"
    }
   },
   "outputs": [],
   "source": [
    "from qml_hep_lhc.data import ElectronPhoton, MNIST\n",
    "import argparse"
   ]
  },
  {
   "cell_type": "code",
   "execution_count": 24,
   "id": "dd0e169f",
   "metadata": {
    "ExecuteTime": {
     "end_time": "2022-07-03T10:40:00.995663Z",
     "start_time": "2022-07-03T10:40:00.881441Z"
    }
   },
   "outputs": [],
   "source": [
    "args = argparse.Namespace()\n",
    "\n",
    "# args.graph_conv = True\n",
    "# args.quantum = True\n",
    "# args.pca = 64\n",
    "args.resize = [4,4]\n",
    "args.binary_data = [3,6]\n",
    "# args.labels_to_categorical = True\n",
    "args.percent_samples = 0.01\n",
    "args.min_max = True\n",
    "args.dataset_type = 'large'\n",
    "# args.center_crop = 0.2\n",
    "# args.normalize = True\n",
    "# args.min_max = True\n",
    "# args.threshold = 0\n",
    "# args.loss = \"Hinge\"\n",
    "# args.hinge_labels = True"
   ]
  },
  {
   "cell_type": "code",
   "execution_count": null,
   "id": "3eadae76",
   "metadata": {
    "ExecuteTime": {
     "start_time": "2022-07-03T10:40:15.634Z"
    }
   },
   "outputs": [],
   "source": [
    "data = ElectronPhoton(args)\n",
    "data.prepare_data()\n",
    "data.setup()"
   ]
  },
  {
   "cell_type": "code",
   "execution_count": 7,
   "id": "5373f30f",
   "metadata": {
    "ExecuteTime": {
     "end_time": "2022-07-03T10:36:06.397717Z",
     "start_time": "2022-07-03T10:36:06.234158Z"
    }
   },
   "outputs": [
    {
     "data": {
      "text/plain": [
       "Dataset :Electron Photon\n",
       "╒════════╤══════════════╤══════════════╤═══════════╕\n",
       "│ Data   │ Train size   │ Test size    │ Dims      │\n",
       "╞════════╪══════════════╪══════════════╪═══════════╡\n",
       "│ X      │ (1, 4, 4, 1) │ (1, 4, 4, 1) │ (4, 4, 1) │\n",
       "├────────┼──────────────┼──────────────┼───────────┤\n",
       "│ y      │ (1,)         │ (1,)         │ (1,)      │\n",
       "╘════════╧══════════════╧══════════════╧═══════════╛\n",
       "\n",
       "Train images stats\n",
       "Min: -3.14\n",
       "Max: -3.14\n",
       "Mean: -3.14\n",
       "Std: 0.00\n",
       "Train labels stats\n",
       "Min: 0.00\n",
       "Max: 0.00"
      ]
     },
     "execution_count": 7,
     "metadata": {},
     "output_type": "execute_result"
    }
   ],
   "source": [
    "data"
   ]
  },
  {
   "cell_type": "code",
   "execution_count": 17,
   "id": "5cdb9863",
   "metadata": {
    "ExecuteTime": {
     "end_time": "2022-06-20T11:08:05.116357Z",
     "start_time": "2022-06-20T11:08:05.040937Z"
    }
   },
   "outputs": [],
   "source": [
    "class QCNN(Layer):\n",
    "    def __init__(self,input_dim):\n",
    "        super(QCNN, self).__init__()\n",
    "        \n",
    "        # Prepare qubits\n",
    "        self.n_qubits = np.prod(input_dim)\n",
    "        self.qubits = cirq.GridQubit.rect(1, self.n_qubits)\n",
    "        self.observables = [cirq.Z(self.qubits[-1])]\n",
    "\n",
    "        var_symbols = sympy.symbols(f'qnn0:{63}')\n",
    "        self.var_symbols = np.asarray(var_symbols).reshape((63))\n",
    "\n",
    "        in_symbols = sympy.symbols(f'x0:{self.n_qubits}')\n",
    "        self.in_symbols = np.asarray(in_symbols).reshape((self.n_qubits))\n",
    "    \n",
    "    def build(self,input_shape):\n",
    "        \n",
    "        circuit = cirq.Circuit()\n",
    "    \n",
    "        fm = AngleMap()\n",
    "        circuit += fm.build(self.qubits, self.in_symbols)\n",
    "\n",
    "        # First convolution layer with pooling layer\n",
    "        # Reduces 16 qubits to 8 qubits\n",
    "        circuit += quantum_conv_circuit(self.qubits, self.var_symbols[0:15])\n",
    "        circuit += quantum_pool_circuit(self.qubits[:8], self.qubits[8:], self.var_symbols[15:21])\n",
    "\n",
    "        # Second convolution layer with pooling layer\n",
    "        # Reduces 8 qubits to 4 qubits\n",
    "        circuit += quantum_conv_circuit(self.qubits[8:], self.var_symbols[21:36])\n",
    "        circuit += quantum_pool_circuit(self.qubits[8:12], self.qubits[12:],\n",
    "                                        self.var_symbols[36:42])\n",
    "\n",
    "        # Final convoluation layer with pooling layer\n",
    "        # Reduces 4 qubits to 1\n",
    "        circuit += quantum_conv_circuit(self.qubits[12:], self.var_symbols[42:57])\n",
    "        circuit += quantum_pool_circuit(self.qubits[12:15], [self.qubits[15]],\n",
    "                                        self.var_symbols[57:63])\n",
    "\n",
    "        self.var_symbols = list(self.var_symbols.flat)\n",
    "        self.in_symbols = list(self.in_symbols.flat)\n",
    "\n",
    "        var_init = random_uniform_initializer(minval=-np.pi / 2, maxval=np.pi / 2)\n",
    "        self.theta = Variable(initial_value=var_init(\n",
    "            shape=(1, len(self.var_symbols)), dtype=\"float32\"),\n",
    "                              trainable=True,\n",
    "                              name=\"thetas\")\n",
    "\n",
    "        # Define explicit symbol order\n",
    "        symbols = [str(symb) for symb in self.var_symbols + self.in_symbols]\n",
    "        self.indices = constant([symbols.index(a) for a in sorted(symbols)])\n",
    "        \n",
    "        self.cluster_circuit = tfq.convert_to_tensor([cluster_state_circuit(self.qubits)])\n",
    "        self.computation_layer = tfq.layers.ControlledPQC(circuit, self.observables)\n",
    "    \n",
    "    def call(self, input_tensor):\n",
    "        batch_dim = shape(input_tensor)[0]\n",
    "        \n",
    "        tiled_up_circuits = repeat(self.cluster_circuit,\n",
    "                                   repeats=batch_dim,\n",
    "                                   name=\"tiled_up_circuits\")\n",
    "        tiled_up_thetas = tile(self.theta,\n",
    "                               multiples=[batch_dim, 1],\n",
    "                               name=\"tiled_up_thetas\")\n",
    "        joined_vars = concat([tiled_up_thetas, input_tensor], axis=-1)\n",
    "        joined_vars = gather(joined_vars,\n",
    "                             self.indices,\n",
    "                             axis=-1,\n",
    "                             name='joined_vars')\n",
    "        out = self.computation_layer([tiled_up_circuits, joined_vars])\n",
    "        return out"
   ]
  },
  {
   "cell_type": "code",
   "execution_count": 22,
   "id": "6b9c7a48",
   "metadata": {
    "ExecuteTime": {
     "end_time": "2022-06-20T11:08:30.836474Z",
     "start_time": "2022-06-20T11:08:30.756510Z"
    }
   },
   "outputs": [],
   "source": [
    "class QCNNCong(Model):\n",
    "    \"\"\"\n",
    "    Quantum Convolutional Neural Network.\n",
    "    This implementation is based on https://www.tensorflow.org/quantum/tutorials/qcnn\n",
    "    \"\"\"\n",
    "\n",
    "    def __init__(self, data_config, args=None):\n",
    "        super().__init__()\n",
    "        self.args = vars(args) if args is not None else {}\n",
    "\n",
    "        # Data config\n",
    "        self.input_dim = data_config[\"input_dims\"]\n",
    "        self.qcnn = QCNN(self.input_dim)\n",
    "\n",
    "    def call(self, input_tensor):\n",
    "        \"\"\"\n",
    "        `call` takes in an input tensor, adds the cluster circuit to it, and then passes the result to\n",
    "        the expectation layer\n",
    "        \n",
    "        Args:\n",
    "          input_tensor: The input tensor to the layer.\n",
    "        \n",
    "        Returns:\n",
    "          The expectation value of the cluster state.\n",
    "        \"\"\"\n",
    "        x = Flatten()(input_tensor)\n",
    "        out = self.qcnn(x)\n",
    "        return out\n",
    "\n",
    "    def build_graph(self):\n",
    "        x = Input(shape=self.input_dim)\n",
    "        return Model(inputs=[x], outputs=self.call(x), name=\"QCNNCong\")\n",
    "\n",
    "    @staticmethod\n",
    "    def add_to_argparse(parser):\n",
    "        return parser\n"
   ]
  },
  {
   "cell_type": "code",
   "execution_count": 26,
   "id": "22998060",
   "metadata": {
    "ExecuteTime": {
     "end_time": "2022-06-20T11:08:45.141799Z",
     "start_time": "2022-06-20T11:08:44.988313Z"
    }
   },
   "outputs": [],
   "source": [
    "def cluster_state_circuit(bits):\n",
    "    \"\"\"\n",
    "    Return a cluster state on the qubits in `bits`\n",
    "    \n",
    "    Args:\n",
    "      bits: The qubits to use in the circuit.\n",
    "    \n",
    "    Returns:\n",
    "      A circuit that creates a cluster state.\n",
    "    \"\"\"\n",
    "    circuit = cirq.Circuit()\n",
    "    circuit.append(cirq.H.on_each(bits))\n",
    "    for this_bit, next_bit in zip(bits, bits[1:] + [bits[0]]):\n",
    "        circuit.append(cirq.CZ(this_bit, next_bit))\n",
    "    return circuit\n",
    "\n",
    "\n",
    "def two_qubit_unitary(bits, symbols):\n",
    "    \"\"\"Make a Cirq circuit that creates an arbitrary two qubit unitary.\"\"\"\n",
    "    circuit = cirq.Circuit()\n",
    "    circuit += one_qubit_unitary(bits[0], symbols[0:3])\n",
    "    circuit += one_qubit_unitary(bits[1], symbols[3:6])\n",
    "    circuit += [cirq.ZZ(*bits)**symbols[6]]\n",
    "    circuit += [cirq.YY(*bits)**symbols[7]]\n",
    "    circuit += [cirq.XX(*bits)**symbols[8]]\n",
    "    circuit += one_qubit_unitary(bits[0], symbols[9:12])\n",
    "    circuit += one_qubit_unitary(bits[1], symbols[12:])\n",
    "    return circuit\n",
    "\n",
    "def two_qubit_pool(source_qubit, sink_qubit, symbols):\n",
    "    \"\"\"\n",
    "    Make a Cirq circuit to do a parameterized 'pooling' operation, which\n",
    "    attempts to reduce entanglement down from two qubits to just one.\n",
    "    \n",
    "    Args:\n",
    "      source_qubit: the qubit that is being measured\n",
    "      sink_qubit: the qubit that will be measured\n",
    "      symbols: a list of 6 symbols, each of which is either 'X', 'Y', or 'Z'.\n",
    "    \n",
    "    Returns:\n",
    "      A circuit that performs a two-qubit pooling operation.\n",
    "    \"\"\"\n",
    "    pool_circuit = cirq.Circuit()\n",
    "    sink_basis_selector = one_qubit_unitary(sink_qubit, symbols[0:3])\n",
    "    source_basis_selector = one_qubit_unitary(source_qubit, symbols[3:6])\n",
    "    pool_circuit.append(sink_basis_selector)\n",
    "    pool_circuit.append(source_basis_selector)\n",
    "    pool_circuit.append(cirq.CNOT(control=source_qubit, target=sink_qubit))\n",
    "    pool_circuit.append(sink_basis_selector**-1)\n",
    "    return pool_circuit\n",
    "\n",
    "\n",
    "def quantum_conv_circuit(bits, symbols):\n",
    "    \"\"\"\n",
    "    Quantum Convolution Layer. Return a Cirq circuit with the \n",
    "    cascade of `two_qubit_unitary` applied to all pairs of \n",
    "    qubits in `bits`.\n",
    "    \n",
    "    Args:\n",
    "      bits: a list of qubits\n",
    "      symbols: a list of symbols that will be used to represent the qubits.\n",
    "    \n",
    "    Returns:\n",
    "      A circuit with the two qubit unitary applied to the first two qubits, then the second two qubits,\n",
    "    then the third two qubits, then the first and last qubits.\n",
    "    \"\"\"\n",
    "    circuit = cirq.Circuit()\n",
    "    for first, second in zip(bits[0::2], bits[1::2]):\n",
    "        circuit += two_qubit_unitary([first, second], symbols)\n",
    "    for first, second in zip(bits[1::2], bits[2::2] + [bits[0]]):\n",
    "        circuit += two_qubit_unitary([first, second], symbols)\n",
    "    return circuit\n",
    "\n",
    "\n",
    "def quantum_pool_circuit(source_bits, sink_bits, symbols):\n",
    "    \"\"\"\n",
    "    A layer that specifies a quantum pooling operation.\n",
    "    A Quantum pool tries to learn to pool the relevant information from two\n",
    "    qubits onto 1.\n",
    "    \n",
    "    Args:\n",
    "      source_bits: the qubits that will be used as the input to the pooling layer\n",
    "      sink_bits: the qubits that will be measured at the end of the circuit\n",
    "      symbols: a list of symbols that will be used to label the qubits in the circuit.\n",
    "    \n",
    "    Returns:\n",
    "      A circuit with the two qubit pool gates applied to each pair of source and sink bits.\n",
    "    \"\"\"\n",
    "    circuit = cirq.Circuit()\n",
    "    for source, sink in zip(source_bits, sink_bits):\n",
    "        circuit += two_qubit_pool(source, sink, symbols)\n",
    "    return circuit\n"
   ]
  },
  {
   "cell_type": "code",
   "execution_count": 27,
   "id": "84bafe85",
   "metadata": {
    "ExecuteTime": {
     "end_time": "2022-06-20T11:08:45.681144Z",
     "start_time": "2022-06-20T11:08:45.542579Z"
    }
   },
   "outputs": [],
   "source": [
    "model = QCNNCong({'input_dims':(4,4,1)})"
   ]
  },
  {
   "cell_type": "code",
   "execution_count": 28,
   "id": "a6f4a8f5",
   "metadata": {
    "ExecuteTime": {
     "end_time": "2022-06-20T11:08:48.112986Z",
     "start_time": "2022-06-20T11:08:45.801875Z"
    }
   },
   "outputs": [
    {
     "name": "stdout",
     "output_type": "stream",
     "text": [
      "Model: \"QCNNCong\"\n",
      "_________________________________________________________________\n",
      " Layer (type)                Output Shape              Param #   \n",
      "=================================================================\n",
      " input_3 (InputLayer)        [(None, 4, 4, 1)]         0         \n",
      "                                                                 \n",
      " flatten_2 (Flatten)         (None, 16)                0         \n",
      "                                                                 \n",
      " qcnn_3 (QCNN)               (None, 1)                 63        \n",
      "                                                                 \n",
      "=================================================================\n",
      "Total params: 63\n",
      "Trainable params: 63\n",
      "Non-trainable params: 0\n",
      "_________________________________________________________________\n"
     ]
    }
   ],
   "source": [
    "model.build_graph().summary()"
   ]
  },
  {
   "cell_type": "code",
   "execution_count": 30,
   "id": "f911f81d",
   "metadata": {
    "ExecuteTime": {
     "end_time": "2022-06-20T11:11:25.581944Z",
     "start_time": "2022-06-20T11:11:25.452606Z"
    }
   },
   "outputs": [],
   "source": [
    "loss_fn = tf.keras.losses.MeanSquaredError\n",
    "optimizer = tf.keras.optimizers.Adam"
   ]
  },
  {
   "cell_type": "code",
   "execution_count": 31,
   "id": "79e030f7",
   "metadata": {
    "ExecuteTime": {
     "end_time": "2022-06-20T11:11:29.684322Z",
     "start_time": "2022-06-20T11:11:29.553899Z"
    }
   },
   "outputs": [],
   "source": [
    "@tf.function\n",
    "def custom_accuracy(y_true, y_pred):\n",
    "    y_true = tf.squeeze(y_true)\n",
    "    y_pred = tf.map_fn(lambda x: 1.0 if x >= 0 else -1.0, y_pred)\n",
    "    return tf.keras.backend.mean(tf.keras.backend.equal(y_true, y_pred))\n"
   ]
  },
  {
   "cell_type": "code",
   "execution_count": 32,
   "id": "33ccb69c",
   "metadata": {
    "ExecuteTime": {
     "end_time": "2022-06-20T11:11:33.999028Z",
     "start_time": "2022-06-20T11:11:33.821872Z"
    }
   },
   "outputs": [],
   "source": [
    "model.compile(loss=loss_fn(), metrics=[custom_accuracy], optimizer=optimizer(learning_rate=0.001))"
   ]
  },
  {
   "cell_type": "code",
   "execution_count": 33,
   "id": "c0c24614",
   "metadata": {
    "ExecuteTime": {
     "end_time": "2022-06-20T11:12:40.416122Z",
     "start_time": "2022-06-20T11:11:38.295107Z"
    }
   },
   "outputs": [
    {
     "name": "stdout",
     "output_type": "stream",
     "text": [
      "Epoch 1/3\n",
      "3/3 [==============================] - 22s 7s/step - loss: 0.5335 - custom_accuracy: 0.0427 - val_loss: 0.5439 - val_custom_accuracy: 0.2083\n",
      "Epoch 2/3\n",
      "3/3 [==============================] - 19s 6s/step - loss: 0.5295 - custom_accuracy: 0.1096 - val_loss: 0.5409 - val_custom_accuracy: 0.3333\n",
      "Epoch 3/3\n",
      "3/3 [==============================] - 19s 6s/step - loss: 0.5254 - custom_accuracy: 0.4016 - val_loss: 0.5378 - val_custom_accuracy: 0.4583\n"
     ]
    },
    {
     "data": {
      "text/plain": [
       "<keras.callbacks.History at 0x7f202800a5d0>"
      ]
     },
     "execution_count": 33,
     "metadata": {},
     "output_type": "execute_result"
    }
   ],
   "source": [
    "model.fit(data.x_train,\n",
    "          data.y_train, \n",
    "          batch_size=32,\n",
    "          epochs=3,\n",
    "          validation_split=0.2,\n",
    "          shuffle=True,\n",
    "          workers=4)"
   ]
  },
  {
   "cell_type": "code",
   "execution_count": null,
   "id": "48fd5666",
   "metadata": {},
   "outputs": [],
   "source": []
  }
 ],
 "metadata": {
  "kernelspec": {
   "display_name": "Python (qenv)",
   "language": "python",
   "name": "qenv"
  },
  "language_info": {
   "codemirror_mode": {
    "name": "ipython",
    "version": 3
   },
   "file_extension": ".py",
   "mimetype": "text/x-python",
   "name": "python",
   "nbconvert_exporter": "python",
   "pygments_lexer": "ipython3",
   "version": "3.7.13"
  },
  "latex_envs": {
   "LaTeX_envs_menu_present": true,
   "autoclose": false,
   "autocomplete": true,
   "bibliofile": "biblio.bib",
   "cite_by": "apalike",
   "current_citInitial": 1,
   "eqLabelWithNumbers": true,
   "eqNumInitial": 1,
   "hotkeys": {
    "equation": "Ctrl-E",
    "itemize": "Ctrl-I"
   },
   "labels_anchors": false,
   "latex_user_defs": false,
   "report_style_numbering": false,
   "user_envs_cfg": false
  },
  "toc": {
   "base_numbering": 1,
   "nav_menu": {},
   "number_sections": true,
   "sideBar": true,
   "skip_h1_title": false,
   "title_cell": "Table of Contents",
   "title_sidebar": "Contents",
   "toc_cell": false,
   "toc_position": {},
   "toc_section_display": true,
   "toc_window_display": false
  }
 },
 "nbformat": 4,
 "nbformat_minor": 5
}
