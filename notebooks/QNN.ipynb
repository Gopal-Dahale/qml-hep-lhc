{
 "cells": [
  {
   "cell_type": "code",
   "execution_count": 2,
   "id": "58db2b95",
   "metadata": {
    "ExecuteTime": {
     "end_time": "2022-06-20T09:10:27.032892Z",
     "start_time": "2022-06-20T09:10:26.756184Z"
    }
   },
   "outputs": [],
   "source": [
    "%load_ext autoreload\n",
    "%autoreload 2\n",
    "import matplotlib.pyplot as plt\n",
    "%matplotlib inline\n",
    "\n",
    "from importlib.util import find_spec\n",
    "if find_spec(\"qml_hep_lhc\") is None:\n",
    "    import sys\n",
    "    sys.path.append('..')"
   ]
  },
  {
   "cell_type": "code",
   "execution_count": 55,
   "id": "4745e3e8",
   "metadata": {
    "ExecuteTime": {
     "end_time": "2022-06-20T09:34:40.166086Z",
     "start_time": "2022-06-20T09:34:40.078480Z"
    }
   },
   "outputs": [],
   "source": [
    "from tensorflow.keras import Model, Input\n",
    "from tensorflow.keras.layers import Flatten, Layer\n",
    "import sympy\n",
    "from tensorflow import string\n",
    "import tensorflow as tf\n",
    "import tensorflow_quantum as tfq\n",
    "import cirq\n",
    "import numpy as np\n",
    "from qml_hep_lhc.encodings import AngleMap\n",
    "from tensorflow import Variable, random_uniform_initializer, constant, shape, repeat, tile, concat, gather"
   ]
  },
  {
   "cell_type": "code",
   "execution_count": 56,
   "id": "06b0bf3f",
   "metadata": {
    "ExecuteTime": {
     "end_time": "2022-06-20T09:34:40.637303Z",
     "start_time": "2022-06-20T09:34:40.532270Z"
    }
   },
   "outputs": [],
   "source": [
    "from qml_hep_lhc.data import ElectronPhoton, MNIST\n",
    "import argparse"
   ]
  },
  {
   "cell_type": "code",
   "execution_count": 94,
   "id": "a60ed3dd",
   "metadata": {
    "ExecuteTime": {
     "end_time": "2022-06-20T09:39:39.541385Z",
     "start_time": "2022-06-20T09:39:39.480366Z"
    }
   },
   "outputs": [],
   "source": [
    "args = argparse.Namespace()\n",
    "\n",
    "# args.graph_conv = True\n",
    "# args.quantum = True\n",
    "# args.pca = 64\n",
    "args.resize = [4,4]\n",
    "args.binary_data = [3,6]\n",
    "# args.labels_to_categorical = True\n",
    "# args.percent_samples = 0.01\n",
    "args.min_max = True\n",
    "# args.center_crop = 0.2\n",
    "# args.normalize = True\n",
    "# args.min_max = True\n",
    "# args.threshold = 0\n",
    "# args.loss = \"Hinge\"\n",
    "# args.hinge_labels = True"
   ]
  },
  {
   "cell_type": "code",
   "execution_count": 95,
   "id": "e0490de5",
   "metadata": {
    "ExecuteTime": {
     "end_time": "2022-06-20T09:39:40.148335Z",
     "start_time": "2022-06-20T09:39:39.672407Z"
    }
   },
   "outputs": [
    {
     "name": "stdout",
     "output_type": "stream",
     "text": [
      "Binarizing data...\n",
      "Resizing data...\n",
      "Min-max scaling...\n",
      "Binarizing data...\n",
      "Resizing data...\n",
      "Min-max scaling...\n"
     ]
    }
   ],
   "source": [
    "data = MNIST(args)\n",
    "data.prepare_data()\n",
    "data.setup()"
   ]
  },
  {
   "cell_type": "code",
   "execution_count": 96,
   "id": "2ee91f1d",
   "metadata": {
    "ExecuteTime": {
     "end_time": "2022-06-20T09:39:40.610576Z",
     "start_time": "2022-06-20T09:39:40.525447Z"
    }
   },
   "outputs": [
    {
     "data": {
      "text/plain": [
       "Dataset :MNIST\n",
       "╒════════╤══════════════════╤═════════════════╤═══════════╕\n",
       "│ Data   │ Train size       │ Test size       │ Dims      │\n",
       "╞════════╪══════════════════╪═════════════════╪═══════════╡\n",
       "│ X      │ (12049, 4, 4, 1) │ (1968, 4, 4, 1) │ (4, 4, 1) │\n",
       "├────────┼──────────────────┼─────────────────┼───────────┤\n",
       "│ y      │ (12049,)         │ (1968,)         │ (1,)      │\n",
       "╘════════╧══════════════════╧═════════════════╧═══════════╛\n",
       "\n",
       "Train images stats\n",
       "Min: -3.14\n",
       "Max: 3.14\n",
       "Mean: -2.43\n",
       "Std: 1.81\n",
       "Train labels stats\n",
       "Min: 0.00\n",
       "Max: 1.00"
      ]
     },
     "execution_count": 96,
     "metadata": {},
     "output_type": "execute_result"
    }
   ],
   "source": [
    "data"
   ]
  },
  {
   "cell_type": "code",
   "execution_count": 97,
   "id": "c77ce9aa",
   "metadata": {
    "ExecuteTime": {
     "end_time": "2022-06-20T09:40:06.832678Z",
     "start_time": "2022-06-20T09:40:06.758158Z"
    }
   },
   "outputs": [],
   "source": [
    "class QLinear(Layer):\n",
    "    def __init__(self,input_dim):\n",
    "        super(QLinear, self).__init__()\n",
    "        \n",
    "        # Prepare qubits\n",
    "        self.n_qubits = np.prod(input_dim)\n",
    "        self.qubits = cirq.GridQubit.rect(1, self.n_qubits)\n",
    "        \n",
    "        self.readout = cirq.GridQubit(-1, -1)\n",
    "        self.observables = [cirq.Z(self.readout)]\n",
    "        \n",
    "        var_symbols = sympy.symbols(f'qnn0:{2*self.n_qubits}')\n",
    "        self.var_symbols = np.asarray(var_symbols).reshape((self.n_qubits, 2))\n",
    "\n",
    "        in_symbols = sympy.symbols(f'x0:{self.n_qubits}')\n",
    "        self.in_symbols = np.asarray(in_symbols).reshape((self.n_qubits))\n",
    "    \n",
    "    def build(self,input_shape):\n",
    "        circuit = cirq.Circuit()\n",
    "\n",
    "        # Prepare the readout qubit\n",
    "        circuit.append(cirq.X(self.readout))\n",
    "        circuit.append(cirq.H(self.readout))\n",
    "\n",
    "        fm = AngleMap()\n",
    "        circuit += fm.build(self.qubits, self.in_symbols)\n",
    "        \n",
    "        for i, qubit in enumerate(self.qubits):\n",
    "            circuit.append(cirq.XX(qubit, self.readout)**self.var_symbols[i, 0])\n",
    "        for i, qubit in enumerate(self.qubits):\n",
    "            circuit.append(cirq.ZZ(qubit, self.readout)**self.var_symbols[i, 1])\n",
    "\n",
    "        # Finally, prepare the readout qubit.\n",
    "        circuit.append(cirq.H(self.readout))\n",
    "\n",
    "        self.var_symbols = list(self.var_symbols.flat)\n",
    "        self.in_symbols = list(self.in_symbols.flat)\n",
    "\n",
    "        var_init = random_uniform_initializer(minval=-np.pi / 2, maxval=np.pi / 2)\n",
    "        self.theta = Variable(initial_value=var_init(\n",
    "            shape=(1, len(self.var_symbols)), dtype=\"float32\"),\n",
    "                              trainable=True,\n",
    "                              name=\"thetas\")\n",
    "\n",
    "        # Define explicit symbol order\n",
    "        symbols = [str(symb) for symb in self.var_symbols + self.in_symbols]\n",
    "        self.indices = constant([symbols.index(a) for a in sorted(symbols)])\n",
    "\n",
    "        self.empty_circuit = tfq.convert_to_tensor([cirq.Circuit()])\n",
    "        self.computation_layer = tfq.layers.ControlledPQC(circuit, self.observables)\n",
    "        \n",
    "    \n",
    "    def call(self,input_tensor):\n",
    "        batch_dim = shape(input_tensor)[0]\n",
    "        \n",
    "        tiled_up_circuits = repeat(self.empty_circuit,\n",
    "                                   repeats=batch_dim,\n",
    "                                   name=\"tiled_up_circuits\")\n",
    "        tiled_up_thetas = tile(self.theta,\n",
    "                               multiples=[batch_dim, 1],\n",
    "                               name=\"tiled_up_thetas\")\n",
    "        joined_vars = concat([tiled_up_thetas, input_tensor], axis=-1)\n",
    "        joined_vars = gather(joined_vars,\n",
    "                             self.indices,\n",
    "                             axis=-1,\n",
    "                             name='joined_vars')\n",
    "        out = self.computation_layer([tiled_up_circuits, joined_vars])\n",
    "        return out"
   ]
  },
  {
   "cell_type": "code",
   "execution_count": 98,
   "id": "6b10d8f0",
   "metadata": {
    "ExecuteTime": {
     "end_time": "2022-06-20T09:40:07.892465Z",
     "start_time": "2022-06-20T09:40:07.799915Z"
    }
   },
   "outputs": [],
   "source": [
    "class QNNNEW(Model):\n",
    "    \"\"\"\n",
    "    Quantum Neural Network.\n",
    "    This implementation is based on https://www.tensorflow.org/quantum/tutorials/mnist\n",
    "    \"\"\"\n",
    "\n",
    "    def __init__(self, data_config, args=None):\n",
    "        super().__init__()\n",
    "        self.args = vars(args) if args is not None else {}\n",
    "\n",
    "        # Data config\n",
    "        self.input_dim = data_config[\"input_dims\"]\n",
    "        self.qlinear = QLinear(self.input_dim)\n",
    "\n",
    "\n",
    "    def call(self, input_tensor):\n",
    "        \"\"\"\n",
    "        The function takes in an input tensor and returns the expectation of the input tensor\n",
    "        \n",
    "        Args:\n",
    "          input_tensor: The input tensor to the layer.\n",
    "        \n",
    "        Returns:\n",
    "          The expectation of the input tensor.\n",
    "        \"\"\"\n",
    "        x = Flatten()(input_tensor)\n",
    "        out = self.qlinear(x)\n",
    "        return out\n",
    "        \n",
    "\n",
    "    def build_graph(self):\n",
    "        # x = Input(shape=(), dtype=string)\n",
    "        x = Input(shape=self.input_dim)\n",
    "        return Model(inputs=[x], outputs=self.call(x), name=\"QNN\")\n",
    "\n",
    "    @staticmethod\n",
    "    def add_to_argparse(parser):\n",
    "        return parser"
   ]
  },
  {
   "cell_type": "code",
   "execution_count": 99,
   "id": "b7ae9d1a",
   "metadata": {
    "ExecuteTime": {
     "end_time": "2022-06-20T09:40:08.921878Z",
     "start_time": "2022-06-20T09:40:08.841115Z"
    }
   },
   "outputs": [],
   "source": [
    "# model = QCNNChen(data.config())\n",
    "model = QNNNEW({'input_dims':(4,4,1)})"
   ]
  },
  {
   "cell_type": "code",
   "execution_count": 100,
   "id": "8ad11318",
   "metadata": {
    "ExecuteTime": {
     "end_time": "2022-06-20T09:40:10.250739Z",
     "start_time": "2022-06-20T09:40:10.076440Z"
    }
   },
   "outputs": [
    {
     "name": "stdout",
     "output_type": "stream",
     "text": [
      "Model: \"QNN\"\n",
      "_________________________________________________________________\n",
      " Layer (type)                Output Shape              Param #   \n",
      "=================================================================\n",
      " input_7 (InputLayer)        [(None, 4, 4, 1)]         0         \n",
      "                                                                 \n",
      " flatten_6 (Flatten)         (None, 16)                0         \n",
      "                                                                 \n",
      " q_linear_4 (QLinear)        (None, 1)                 32        \n",
      "                                                                 \n",
      "=================================================================\n",
      "Total params: 32\n",
      "Trainable params: 32\n",
      "Non-trainable params: 0\n",
      "_________________________________________________________________\n"
     ]
    }
   ],
   "source": [
    "model.build_graph().summary()"
   ]
  },
  {
   "cell_type": "code",
   "execution_count": 101,
   "id": "8f0bdaf4",
   "metadata": {
    "ExecuteTime": {
     "end_time": "2022-06-20T09:40:10.617123Z",
     "start_time": "2022-06-20T09:40:10.539422Z"
    }
   },
   "outputs": [],
   "source": [
    "loss_fn = tf.keras.losses.MeanSquaredError\n",
    "optimizer = tf.keras.optimizers.Adam"
   ]
  },
  {
   "cell_type": "code",
   "execution_count": 102,
   "id": "6122b546",
   "metadata": {
    "ExecuteTime": {
     "end_time": "2022-06-20T09:40:12.737191Z",
     "start_time": "2022-06-20T09:40:12.675388Z"
    }
   },
   "outputs": [],
   "source": [
    "@tf.function\n",
    "def custom_accuracy(y_true, y_pred):\n",
    "    y_true = tf.squeeze(y_true)\n",
    "    y_pred = tf.map_fn(lambda x: 1.0 if x >= 0 else -1.0, y_pred)\n",
    "    return tf.keras.backend.mean(tf.keras.backend.equal(y_true, y_pred))\n"
   ]
  },
  {
   "cell_type": "code",
   "execution_count": 103,
   "id": "3fcd32a5",
   "metadata": {
    "ExecuteTime": {
     "end_time": "2022-06-20T09:40:13.861434Z",
     "start_time": "2022-06-20T09:40:13.792480Z"
    }
   },
   "outputs": [],
   "source": [
    "model.compile(loss=loss_fn(), metrics=[custom_accuracy], optimizer=optimizer(learning_rate=0.001))"
   ]
  },
  {
   "cell_type": "code",
   "execution_count": 104,
   "id": "2aece418",
   "metadata": {
    "ExecuteTime": {
     "end_time": "2022-06-20T09:52:17.588877Z",
     "start_time": "2022-06-20T09:40:19.812394Z"
    }
   },
   "outputs": [
    {
     "name": "stdout",
     "output_type": "stream",
     "text": [
      "Epoch 1/3\n",
      "302/302 [==============================] - 506s 2s/step - loss: 0.3605 - custom_accuracy: 0.4281 - val_loss: 0.2815 - val_custom_accuracy: 0.4705\n",
      "Epoch 2/3\n",
      " 73/302 [======>.......................] - ETA: 11:02 - loss: 0.2407 - custom_accuracy: 0.4765"
     ]
    },
    {
     "ename": "KeyboardInterrupt",
     "evalue": "",
     "output_type": "error",
     "traceback": [
      "\u001b[0;31m---------------------------------------------------------------------------\u001b[0m",
      "\u001b[0;31mKeyboardInterrupt\u001b[0m                         Traceback (most recent call last)",
      "\u001b[0;32m/tmp/ipykernel_21348/2680313135.py\u001b[0m in \u001b[0;36m<module>\u001b[0;34m\u001b[0m\n\u001b[1;32m      5\u001b[0m           \u001b[0mvalidation_split\u001b[0m\u001b[0;34m=\u001b[0m\u001b[0;36m0.2\u001b[0m\u001b[0;34m,\u001b[0m\u001b[0;34m\u001b[0m\u001b[0;34m\u001b[0m\u001b[0m\n\u001b[1;32m      6\u001b[0m           \u001b[0mshuffle\u001b[0m\u001b[0;34m=\u001b[0m\u001b[0;32mTrue\u001b[0m\u001b[0;34m,\u001b[0m\u001b[0;34m\u001b[0m\u001b[0;34m\u001b[0m\u001b[0m\n\u001b[0;32m----> 7\u001b[0;31m           workers=4)\n\u001b[0m",
      "\u001b[0;32m~/Documents/qml-hep-lhc/qenv/lib/python3.7/site-packages/keras/utils/traceback_utils.py\u001b[0m in \u001b[0;36merror_handler\u001b[0;34m(*args, **kwargs)\u001b[0m\n\u001b[1;32m     62\u001b[0m     \u001b[0mfiltered_tb\u001b[0m \u001b[0;34m=\u001b[0m \u001b[0;32mNone\u001b[0m\u001b[0;34m\u001b[0m\u001b[0;34m\u001b[0m\u001b[0m\n\u001b[1;32m     63\u001b[0m     \u001b[0;32mtry\u001b[0m\u001b[0;34m:\u001b[0m\u001b[0;34m\u001b[0m\u001b[0;34m\u001b[0m\u001b[0m\n\u001b[0;32m---> 64\u001b[0;31m       \u001b[0;32mreturn\u001b[0m \u001b[0mfn\u001b[0m\u001b[0;34m(\u001b[0m\u001b[0;34m*\u001b[0m\u001b[0margs\u001b[0m\u001b[0;34m,\u001b[0m \u001b[0;34m**\u001b[0m\u001b[0mkwargs\u001b[0m\u001b[0;34m)\u001b[0m\u001b[0;34m\u001b[0m\u001b[0;34m\u001b[0m\u001b[0m\n\u001b[0m\u001b[1;32m     65\u001b[0m     \u001b[0;32mexcept\u001b[0m \u001b[0mException\u001b[0m \u001b[0;32mas\u001b[0m \u001b[0me\u001b[0m\u001b[0;34m:\u001b[0m  \u001b[0;31m# pylint: disable=broad-except\u001b[0m\u001b[0;34m\u001b[0m\u001b[0;34m\u001b[0m\u001b[0m\n\u001b[1;32m     66\u001b[0m       \u001b[0mfiltered_tb\u001b[0m \u001b[0;34m=\u001b[0m \u001b[0m_process_traceback_frames\u001b[0m\u001b[0;34m(\u001b[0m\u001b[0me\u001b[0m\u001b[0;34m.\u001b[0m\u001b[0m__traceback__\u001b[0m\u001b[0;34m)\u001b[0m\u001b[0;34m\u001b[0m\u001b[0;34m\u001b[0m\u001b[0m\n",
      "\u001b[0;32m~/Documents/qml-hep-lhc/qenv/lib/python3.7/site-packages/keras/engine/training.py\u001b[0m in \u001b[0;36mfit\u001b[0;34m(self, x, y, batch_size, epochs, verbose, callbacks, validation_split, validation_data, shuffle, class_weight, sample_weight, initial_epoch, steps_per_epoch, validation_steps, validation_batch_size, validation_freq, max_queue_size, workers, use_multiprocessing)\u001b[0m\n\u001b[1;32m   1214\u001b[0m                 _r=1):\n\u001b[1;32m   1215\u001b[0m               \u001b[0mcallbacks\u001b[0m\u001b[0;34m.\u001b[0m\u001b[0mon_train_batch_begin\u001b[0m\u001b[0;34m(\u001b[0m\u001b[0mstep\u001b[0m\u001b[0;34m)\u001b[0m\u001b[0;34m\u001b[0m\u001b[0;34m\u001b[0m\u001b[0m\n\u001b[0;32m-> 1216\u001b[0;31m               \u001b[0mtmp_logs\u001b[0m \u001b[0;34m=\u001b[0m \u001b[0mself\u001b[0m\u001b[0;34m.\u001b[0m\u001b[0mtrain_function\u001b[0m\u001b[0;34m(\u001b[0m\u001b[0miterator\u001b[0m\u001b[0;34m)\u001b[0m\u001b[0;34m\u001b[0m\u001b[0;34m\u001b[0m\u001b[0m\n\u001b[0m\u001b[1;32m   1217\u001b[0m               \u001b[0;32mif\u001b[0m \u001b[0mdata_handler\u001b[0m\u001b[0;34m.\u001b[0m\u001b[0mshould_sync\u001b[0m\u001b[0;34m:\u001b[0m\u001b[0;34m\u001b[0m\u001b[0;34m\u001b[0m\u001b[0m\n\u001b[1;32m   1218\u001b[0m                 \u001b[0mcontext\u001b[0m\u001b[0;34m.\u001b[0m\u001b[0masync_wait\u001b[0m\u001b[0;34m(\u001b[0m\u001b[0;34m)\u001b[0m\u001b[0;34m\u001b[0m\u001b[0;34m\u001b[0m\u001b[0m\n",
      "\u001b[0;32m~/Documents/qml-hep-lhc/qenv/lib/python3.7/site-packages/tensorflow/python/util/traceback_utils.py\u001b[0m in \u001b[0;36merror_handler\u001b[0;34m(*args, **kwargs)\u001b[0m\n\u001b[1;32m    148\u001b[0m     \u001b[0mfiltered_tb\u001b[0m \u001b[0;34m=\u001b[0m \u001b[0;32mNone\u001b[0m\u001b[0;34m\u001b[0m\u001b[0;34m\u001b[0m\u001b[0m\n\u001b[1;32m    149\u001b[0m     \u001b[0;32mtry\u001b[0m\u001b[0;34m:\u001b[0m\u001b[0;34m\u001b[0m\u001b[0;34m\u001b[0m\u001b[0m\n\u001b[0;32m--> 150\u001b[0;31m       \u001b[0;32mreturn\u001b[0m \u001b[0mfn\u001b[0m\u001b[0;34m(\u001b[0m\u001b[0;34m*\u001b[0m\u001b[0margs\u001b[0m\u001b[0;34m,\u001b[0m \u001b[0;34m**\u001b[0m\u001b[0mkwargs\u001b[0m\u001b[0;34m)\u001b[0m\u001b[0;34m\u001b[0m\u001b[0;34m\u001b[0m\u001b[0m\n\u001b[0m\u001b[1;32m    151\u001b[0m     \u001b[0;32mexcept\u001b[0m \u001b[0mException\u001b[0m \u001b[0;32mas\u001b[0m \u001b[0me\u001b[0m\u001b[0;34m:\u001b[0m\u001b[0;34m\u001b[0m\u001b[0;34m\u001b[0m\u001b[0m\n\u001b[1;32m    152\u001b[0m       \u001b[0mfiltered_tb\u001b[0m \u001b[0;34m=\u001b[0m \u001b[0m_process_traceback_frames\u001b[0m\u001b[0;34m(\u001b[0m\u001b[0me\u001b[0m\u001b[0;34m.\u001b[0m\u001b[0m__traceback__\u001b[0m\u001b[0;34m)\u001b[0m\u001b[0;34m\u001b[0m\u001b[0;34m\u001b[0m\u001b[0m\n",
      "\u001b[0;32m~/Documents/qml-hep-lhc/qenv/lib/python3.7/site-packages/tensorflow/python/eager/def_function.py\u001b[0m in \u001b[0;36m__call__\u001b[0;34m(self, *args, **kwds)\u001b[0m\n\u001b[1;32m    908\u001b[0m \u001b[0;34m\u001b[0m\u001b[0m\n\u001b[1;32m    909\u001b[0m       \u001b[0;32mwith\u001b[0m \u001b[0mOptionalXlaContext\u001b[0m\u001b[0;34m(\u001b[0m\u001b[0mself\u001b[0m\u001b[0;34m.\u001b[0m\u001b[0m_jit_compile\u001b[0m\u001b[0;34m)\u001b[0m\u001b[0;34m:\u001b[0m\u001b[0;34m\u001b[0m\u001b[0;34m\u001b[0m\u001b[0m\n\u001b[0;32m--> 910\u001b[0;31m         \u001b[0mresult\u001b[0m \u001b[0;34m=\u001b[0m \u001b[0mself\u001b[0m\u001b[0;34m.\u001b[0m\u001b[0m_call\u001b[0m\u001b[0;34m(\u001b[0m\u001b[0;34m*\u001b[0m\u001b[0margs\u001b[0m\u001b[0;34m,\u001b[0m \u001b[0;34m**\u001b[0m\u001b[0mkwds\u001b[0m\u001b[0;34m)\u001b[0m\u001b[0;34m\u001b[0m\u001b[0;34m\u001b[0m\u001b[0m\n\u001b[0m\u001b[1;32m    911\u001b[0m \u001b[0;34m\u001b[0m\u001b[0m\n\u001b[1;32m    912\u001b[0m       \u001b[0mnew_tracing_count\u001b[0m \u001b[0;34m=\u001b[0m \u001b[0mself\u001b[0m\u001b[0;34m.\u001b[0m\u001b[0mexperimental_get_tracing_count\u001b[0m\u001b[0;34m(\u001b[0m\u001b[0;34m)\u001b[0m\u001b[0;34m\u001b[0m\u001b[0;34m\u001b[0m\u001b[0m\n",
      "\u001b[0;32m~/Documents/qml-hep-lhc/qenv/lib/python3.7/site-packages/tensorflow/python/eager/def_function.py\u001b[0m in \u001b[0;36m_call\u001b[0;34m(self, *args, **kwds)\u001b[0m\n\u001b[1;32m    940\u001b[0m       \u001b[0;31m# In this case we have created variables on the first call, so we run the\u001b[0m\u001b[0;34m\u001b[0m\u001b[0;34m\u001b[0m\u001b[0;34m\u001b[0m\u001b[0m\n\u001b[1;32m    941\u001b[0m       \u001b[0;31m# defunned version which is guaranteed to never create variables.\u001b[0m\u001b[0;34m\u001b[0m\u001b[0;34m\u001b[0m\u001b[0;34m\u001b[0m\u001b[0m\n\u001b[0;32m--> 942\u001b[0;31m       \u001b[0;32mreturn\u001b[0m \u001b[0mself\u001b[0m\u001b[0;34m.\u001b[0m\u001b[0m_stateless_fn\u001b[0m\u001b[0;34m(\u001b[0m\u001b[0;34m*\u001b[0m\u001b[0margs\u001b[0m\u001b[0;34m,\u001b[0m \u001b[0;34m**\u001b[0m\u001b[0mkwds\u001b[0m\u001b[0;34m)\u001b[0m  \u001b[0;31m# pylint: disable=not-callable\u001b[0m\u001b[0;34m\u001b[0m\u001b[0;34m\u001b[0m\u001b[0m\n\u001b[0m\u001b[1;32m    943\u001b[0m     \u001b[0;32melif\u001b[0m \u001b[0mself\u001b[0m\u001b[0;34m.\u001b[0m\u001b[0m_stateful_fn\u001b[0m \u001b[0;32mis\u001b[0m \u001b[0;32mnot\u001b[0m \u001b[0;32mNone\u001b[0m\u001b[0;34m:\u001b[0m\u001b[0;34m\u001b[0m\u001b[0;34m\u001b[0m\u001b[0m\n\u001b[1;32m    944\u001b[0m       \u001b[0;31m# Release the lock early so that multiple threads can perform the call\u001b[0m\u001b[0;34m\u001b[0m\u001b[0;34m\u001b[0m\u001b[0;34m\u001b[0m\u001b[0m\n",
      "\u001b[0;32m~/Documents/qml-hep-lhc/qenv/lib/python3.7/site-packages/tensorflow/python/eager/function.py\u001b[0m in \u001b[0;36m__call__\u001b[0;34m(self, *args, **kwargs)\u001b[0m\n\u001b[1;32m   3129\u001b[0m        filtered_flat_args) = self._maybe_define_function(args, kwargs)\n\u001b[1;32m   3130\u001b[0m     return graph_function._call_flat(\n\u001b[0;32m-> 3131\u001b[0;31m         filtered_flat_args, captured_inputs=graph_function.captured_inputs)  # pylint: disable=protected-access\n\u001b[0m\u001b[1;32m   3132\u001b[0m \u001b[0;34m\u001b[0m\u001b[0m\n\u001b[1;32m   3133\u001b[0m   \u001b[0;34m@\u001b[0m\u001b[0mproperty\u001b[0m\u001b[0;34m\u001b[0m\u001b[0;34m\u001b[0m\u001b[0m\n",
      "\u001b[0;32m~/Documents/qml-hep-lhc/qenv/lib/python3.7/site-packages/tensorflow/python/eager/function.py\u001b[0m in \u001b[0;36m_call_flat\u001b[0;34m(self, args, captured_inputs, cancellation_manager)\u001b[0m\n\u001b[1;32m   1958\u001b[0m       \u001b[0;31m# No tape is watching; skip to running the function.\u001b[0m\u001b[0;34m\u001b[0m\u001b[0;34m\u001b[0m\u001b[0;34m\u001b[0m\u001b[0m\n\u001b[1;32m   1959\u001b[0m       return self._build_call_outputs(self._inference_function.call(\n\u001b[0;32m-> 1960\u001b[0;31m           ctx, args, cancellation_manager=cancellation_manager))\n\u001b[0m\u001b[1;32m   1961\u001b[0m     forward_backward = self._select_forward_and_backward_functions(\n\u001b[1;32m   1962\u001b[0m         \u001b[0margs\u001b[0m\u001b[0;34m,\u001b[0m\u001b[0;34m\u001b[0m\u001b[0;34m\u001b[0m\u001b[0m\n",
      "\u001b[0;32m~/Documents/qml-hep-lhc/qenv/lib/python3.7/site-packages/tensorflow/python/eager/function.py\u001b[0m in \u001b[0;36mcall\u001b[0;34m(self, ctx, args, cancellation_manager)\u001b[0m\n\u001b[1;32m    601\u001b[0m               \u001b[0minputs\u001b[0m\u001b[0;34m=\u001b[0m\u001b[0margs\u001b[0m\u001b[0;34m,\u001b[0m\u001b[0;34m\u001b[0m\u001b[0;34m\u001b[0m\u001b[0m\n\u001b[1;32m    602\u001b[0m               \u001b[0mattrs\u001b[0m\u001b[0;34m=\u001b[0m\u001b[0mattrs\u001b[0m\u001b[0;34m,\u001b[0m\u001b[0;34m\u001b[0m\u001b[0;34m\u001b[0m\u001b[0m\n\u001b[0;32m--> 603\u001b[0;31m               ctx=ctx)\n\u001b[0m\u001b[1;32m    604\u001b[0m         \u001b[0;32melse\u001b[0m\u001b[0;34m:\u001b[0m\u001b[0;34m\u001b[0m\u001b[0;34m\u001b[0m\u001b[0m\n\u001b[1;32m    605\u001b[0m           outputs = execute.execute_with_cancellation(\n",
      "\u001b[0;32m~/Documents/qml-hep-lhc/qenv/lib/python3.7/site-packages/tensorflow/python/eager/execute.py\u001b[0m in \u001b[0;36mquick_execute\u001b[0;34m(op_name, num_outputs, inputs, attrs, ctx, name)\u001b[0m\n\u001b[1;32m     57\u001b[0m     \u001b[0mctx\u001b[0m\u001b[0;34m.\u001b[0m\u001b[0mensure_initialized\u001b[0m\u001b[0;34m(\u001b[0m\u001b[0;34m)\u001b[0m\u001b[0;34m\u001b[0m\u001b[0;34m\u001b[0m\u001b[0m\n\u001b[1;32m     58\u001b[0m     tensors = pywrap_tfe.TFE_Py_Execute(ctx._handle, device_name, op_name,\n\u001b[0;32m---> 59\u001b[0;31m                                         inputs, attrs, num_outputs)\n\u001b[0m\u001b[1;32m     60\u001b[0m   \u001b[0;32mexcept\u001b[0m \u001b[0mcore\u001b[0m\u001b[0;34m.\u001b[0m\u001b[0m_NotOkStatusException\u001b[0m \u001b[0;32mas\u001b[0m \u001b[0me\u001b[0m\u001b[0;34m:\u001b[0m\u001b[0;34m\u001b[0m\u001b[0;34m\u001b[0m\u001b[0m\n\u001b[1;32m     61\u001b[0m     \u001b[0;32mif\u001b[0m \u001b[0mname\u001b[0m \u001b[0;32mis\u001b[0m \u001b[0;32mnot\u001b[0m \u001b[0;32mNone\u001b[0m\u001b[0;34m:\u001b[0m\u001b[0;34m\u001b[0m\u001b[0;34m\u001b[0m\u001b[0m\n",
      "\u001b[0;31mKeyboardInterrupt\u001b[0m: "
     ]
    }
   ],
   "source": [
    "model.fit(data.x_train,\n",
    "          data.y_train, \n",
    "          batch_size=32,\n",
    "          epochs=3,\n",
    "          validation_split=0.2,\n",
    "          shuffle=True,\n",
    "          workers=4)"
   ]
  },
  {
   "cell_type": "code",
   "execution_count": null,
   "id": "b4a132e0",
   "metadata": {},
   "outputs": [],
   "source": []
  }
 ],
 "metadata": {
  "kernelspec": {
   "display_name": "Python (qenv)",
   "language": "python",
   "name": "qenv"
  },
  "language_info": {
   "codemirror_mode": {
    "name": "ipython",
    "version": 3
   },
   "file_extension": ".py",
   "mimetype": "text/x-python",
   "name": "python",
   "nbconvert_exporter": "python",
   "pygments_lexer": "ipython3",
   "version": "3.7.13"
  },
  "latex_envs": {
   "LaTeX_envs_menu_present": true,
   "autoclose": false,
   "autocomplete": true,
   "bibliofile": "biblio.bib",
   "cite_by": "apalike",
   "current_citInitial": 1,
   "eqLabelWithNumbers": true,
   "eqNumInitial": 1,
   "hotkeys": {
    "equation": "Ctrl-E",
    "itemize": "Ctrl-I"
   },
   "labels_anchors": false,
   "latex_user_defs": false,
   "report_style_numbering": false,
   "user_envs_cfg": false
  },
  "toc": {
   "base_numbering": 1,
   "nav_menu": {},
   "number_sections": true,
   "sideBar": true,
   "skip_h1_title": false,
   "title_cell": "Table of Contents",
   "title_sidebar": "Contents",
   "toc_cell": false,
   "toc_position": {},
   "toc_section_display": true,
   "toc_window_display": false
  }
 },
 "nbformat": 4,
 "nbformat_minor": 5
}
