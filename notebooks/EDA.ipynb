{
 "cells": [
  {
   "cell_type": "code",
   "execution_count": 1,
   "id": "864f18ef",
   "metadata": {
    "ExecuteTime": {
     "end_time": "2022-07-13T05:56:40.569923Z",
     "start_time": "2022-07-13T05:56:34.278791Z"
    }
   },
   "outputs": [],
   "source": [
    "%load_ext autoreload\n",
    "%autoreload 2\n",
    "import matplotlib.pyplot as plt\n",
    "%matplotlib inline\n",
    "\n",
    "from importlib.util import find_spec\n",
    "if find_spec(\"qml_hep_lhc\") is None:\n",
    "    import sys\n",
    "    sys.path.append('..')"
   ]
  },
  {
   "cell_type": "code",
   "execution_count": 2,
   "id": "bfc675f5",
   "metadata": {
    "ExecuteTime": {
     "end_time": "2022-07-13T05:57:28.399834Z",
     "start_time": "2022-07-13T05:56:40.573770Z"
    }
   },
   "outputs": [
    {
     "name": "stderr",
     "output_type": "stream",
     "text": [
      "2022-07-13 11:26:47.388342: W tensorflow/stream_executor/platform/default/dso_loader.cc:64] Could not load dynamic library 'libcudart.so.11.0'; dlerror: libcudart.so.11.0: cannot open shared object file: No such file or directory\n",
      "2022-07-13 11:26:47.388412: I tensorflow/stream_executor/cuda/cudart_stub.cc:29] Ignore above cudart dlerror if you do not have a GPU set up on your machine.\n"
     ]
    }
   ],
   "source": [
    "from qml_hep_lhc.data import ElectronPhoton, MNIST, QuarkGluon\n",
    "import argparse\n",
    "from sklearn.decomposition import PCA\n",
    "import numpy as np"
   ]
  },
  {
   "cell_type": "markdown",
   "id": "d78654d0",
   "metadata": {},
   "source": [
    "## Electron Photon"
   ]
  },
  {
   "cell_type": "code",
   "execution_count": 3,
   "id": "f6dfc939",
   "metadata": {
    "ExecuteTime": {
     "end_time": "2022-07-13T05:57:29.790867Z",
     "start_time": "2022-07-13T05:57:28.404608Z"
    }
   },
   "outputs": [
    {
     "name": "stdout",
     "output_type": "stream",
     "text": [
      "None\n",
      "/home/gopald/Documents/qml-hep-lhc/datasets/downloaded\n",
      "Center cropping...\n"
     ]
    },
    {
     "name": "stderr",
     "output_type": "stream",
     "text": [
      "2022-07-13 11:27:29.222535: E tensorflow/stream_executor/cuda/cuda_driver.cc:271] failed call to cuInit: CUDA_ERROR_NO_DEVICE: no CUDA-capable device is detected\n",
      "2022-07-13 11:27:29.222633: I tensorflow/stream_executor/cuda/cuda_diagnostics.cc:156] kernel driver does not appear to be running on this host (bhagvada): /proc/driver/nvidia/version does not exist\n",
      "2022-07-13 11:27:29.245779: I tensorflow/core/platform/cpu_feature_guard.cc:151] This TensorFlow binary is optimized with oneAPI Deep Neural Network Library (oneDNN) to use the following CPU instructions in performance-critical operations:  AVX2 FMA\n",
      "To enable them in other operations, rebuild TensorFlow with the appropriate compiler flags.\n"
     ]
    },
    {
     "name": "stdout",
     "output_type": "stream",
     "text": [
      "Center cropping...\n"
     ]
    }
   ],
   "source": [
    "args = argparse.Namespace()\n",
    "args.dataset_type = 'med'\n",
    "args.center_crop = 0.2\n",
    "\n",
    "data = ElectronPhoton(args)\n",
    "data.prepare_data()\n",
    "data.setup()"
   ]
  },
  {
   "cell_type": "code",
   "execution_count": 4,
   "id": "0d619ba2",
   "metadata": {
    "ExecuteTime": {
     "end_time": "2022-07-13T05:57:31.522525Z",
     "start_time": "2022-07-13T05:57:31.469475Z"
    }
   },
   "outputs": [
    {
     "data": {
      "text/plain": [
       "Dataset :Electron Photon med\n",
       "╒════════╤═════════════════╤═════════════════╤═══════════╕\n",
       "│ Data   │ Train size      │ Test size       │ Dims      │\n",
       "╞════════╪═════════════════╪═════════════════╪═══════════╡\n",
       "│ X      │ (9000, 8, 8, 1) │ (1000, 8, 8, 1) │ (8, 8, 1) │\n",
       "├────────┼─────────────────┼─────────────────┼───────────┤\n",
       "│ y      │ (9000,)         │ (1000,)         │ (1,)      │\n",
       "╘════════╧═════════════════╧═════════════════╧═══════════╛\n",
       "\n",
       "Train images stats\n",
       "Min: 0.00\n",
       "Max: 1.44\n",
       "Mean: 0.02\n",
       "Std: 0.09\n",
       "Train labels stats\n",
       "Min: 0.00\n",
       "Max: 1.00"
      ]
     },
     "execution_count": 4,
     "metadata": {},
     "output_type": "execute_result"
    }
   ],
   "source": [
    "data"
   ]
  },
  {
   "cell_type": "code",
   "execution_count": 5,
   "id": "8efa6571",
   "metadata": {
    "ExecuteTime": {
     "end_time": "2022-07-13T05:57:32.326222Z",
     "start_time": "2022-07-13T05:57:31.526294Z"
    }
   },
   "outputs": [
    {
     "data": {
      "image/png": "[encoded data removed]",
      "text/plain": [
       "<Figure size 720x504 with 2 Axes>"
      ]
     },
     "metadata": {
      "needs_background": "light"
     },
     "output_type": "display_data"
    }
   ],
   "source": [
    "fig = plt.figure(figsize=(10, 7))\n",
    "rows = 2\n",
    "columns = 2\n",
    "index = [np.where(data.y_train == 0)[0], np.where(data.y_train == 1)[0]] # Photon, Electron\n",
    "for i in range(columns):\n",
    "    fig.add_subplot(rows, columns,i+1)\n",
    "    plt.imshow(np.mean(data.x_train[index[i],:,:,0], axis=0))\n",
    "    plt.title('Photon' if i ==0 else 'Electron')"
   ]
  },
  {
   "cell_type": "code",
   "execution_count": null,
   "id": "43cb4f05",
   "metadata": {},
   "outputs": [],
   "source": []
  }
 ],
 "metadata": {
  "kernelspec": {
   "display_name": "Python (qenv)",
   "language": "python",
   "name": "qenv"
  },
  "language_info": {
   "codemirror_mode": {
    "name": "ipython",
    "version": 3
   },
   "file_extension": ".py",
   "mimetype": "text/x-python",
   "name": "python",
   "nbconvert_exporter": "python",
   "pygments_lexer": "ipython3",
   "version": "3.7.13"
  },
  "latex_envs": {
   "LaTeX_envs_menu_present": true,
   "autoclose": false,
   "autocomplete": true,
   "bibliofile": "biblio.bib",
   "cite_by": "apalike",
   "current_citInitial": 1,
   "eqLabelWithNumbers": true,
   "eqNumInitial": 1,
   "hotkeys": {
    "equation": "Ctrl-E",
    "itemize": "Ctrl-I"
   },
   "labels_anchors": false,
   "latex_user_defs": false,
   "report_style_numbering": false,
   "user_envs_cfg": false
  },
  "toc": {
   "base_numbering": 1,
   "nav_menu": {},
   "number_sections": true,
   "sideBar": true,
   "skip_h1_title": false,
   "title_cell": "Table of Contents",
   "title_sidebar": "Contents",
   "toc_cell": false,
   "toc_position": {},
   "toc_section_display": true,
   "toc_window_display": false
  }
 },
 "nbformat": 4,
 "nbformat_minor": 5
}
