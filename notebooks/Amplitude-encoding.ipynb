{
 "cells": [
  {
   "cell_type": "code",
   "execution_count": 287,
   "id": "d80c2edc",
   "metadata": {
    "ExecuteTime": {
     "end_time": "2022-07-08T13:22:33.026199Z",
     "start_time": "2022-07-08T13:22:32.954974Z"
    }
   },
   "outputs": [],
   "source": [
    "import cirq\n",
    "import numpy as np\n",
    "from sklearn.preprocessing import normalize\n",
    "import sympy as sp\n",
    "from cirq.contrib.svg import SVGCircuit\n",
    "import tensorflow_quantum as tfq\n",
    "from tensorflow_quantum.python import util\n",
    "import re\n",
    "import collections"
   ]
  },
  {
   "cell_type": "code",
   "execution_count": 281,
   "id": "52931a7d",
   "metadata": {
    "ExecuteTime": {
     "end_time": "2022-07-08T13:21:58.506532Z",
     "start_time": "2022-07-08T13:21:58.445060Z"
    }
   },
   "outputs": [],
   "source": [
    "def beta(s, j, x):\n",
    "    index_num = (2*j-1)*(2**(s-1))\n",
    "    index_den = (j-1)*(2**s)\n",
    "    \n",
    "    num = np.sqrt(np.sum(abs(x[index_num : index_num+2**(s-1)])**2))\n",
    "    den = np.sqrt(np.sum(abs(x[index_den : index_den+2**(s)])**2))\n",
    "    \n",
    "    if den == 0:\n",
    "        beta = 0\n",
    "    else:\n",
    "        beta = 2*np.arcsin(num/den)\n",
    "    return beta"
   ]
  },
  {
   "cell_type": "code",
   "execution_count": 282,
   "id": "8a4794ba",
   "metadata": {
    "ExecuteTime": {
     "end_time": "2022-07-08T13:21:58.823189Z",
     "start_time": "2022-07-08T13:21:58.698896Z"
    }
   },
   "outputs": [],
   "source": [
    "def locate_x(curr_j, prev_j, length):\n",
    "    curr_bin = bin(curr_j)[2:].zfill(length)\n",
    "    prev_bin = bin(prev_j)[2:].zfill(length)\n",
    "    return [i for i, (x,y) in enumerate(zip(curr_bin,prev_bin)) if x!=y]"
   ]
  },
  {
   "cell_type": "code",
   "execution_count": 283,
   "id": "56fffc16",
   "metadata": {
    "ExecuteTime": {
     "end_time": "2022-07-08T13:21:59.557441Z",
     "start_time": "2022-07-08T13:21:59.419918Z"
    }
   },
   "outputs": [],
   "source": [
    "def amplitude_embedding(x):\n",
    "    n = int(np.log2(len(x)))\n",
    "    qubits = cirq.GridQubit.rect(1, n)\n",
    "    circuit = cirq.Circuit()\n",
    "    \n",
    "    circuit += cirq.ry(beta(n, 1, x))(qubits[0])\n",
    "    \n",
    "    for i in range(1,n):\n",
    "        # We can have at most i control bits\n",
    "        # Total possibilities is therefore 2^i\n",
    "        controls = 2**i\n",
    "        \n",
    "        control_qubits = [qubits[c] for c in range(i+1)]\n",
    "        circuit += cirq.ControlledGate(sub_gate=cirq.ry(beta(n-i, controls, x)), \n",
    "                                       num_controls=len(control_qubits)-1)(*control_qubits)\n",
    "        \n",
    "        for j in range(1, controls):\n",
    "            for loc in locate_x(controls-j-1, controls-j, i):\n",
    "                circuit += cirq.X(qubits[loc])\n",
    "                \n",
    "            circuit += cirq.ControlledGate(sub_gate=cirq.ry(beta(n-i, controls-j, x)), \n",
    "                                       num_controls=len(control_qubits)-1)(*control_qubits)\n",
    "            \n",
    "        for k in range(i):\n",
    "            circuit += cirq.X(qubits[k])\n",
    "\n",
    "    return circuit"
   ]
  },
  {
   "cell_type": "code",
   "execution_count": 284,
   "id": "9e8570cf",
   "metadata": {
    "ExecuteTime": {
     "end_time": "2022-07-08T13:22:04.857747Z",
     "start_time": "2022-07-08T13:22:04.791825Z"
    }
   },
   "outputs": [
    {
     "name": "stdout",
     "output_type": "stream",
     "text": [
      "amplitudes: [0.18257419 0.36514837 0.54772256 0.73029674]\n",
      "probs: [0.03333333 0.13333333 0.3        0.53333333]\n"
     ]
    }
   ],
   "source": [
    "x = np.arange(1,5,1)\n",
    "d = np.sqrt(np.sum(np.square(x)))\n",
    "x = x/d\n",
    "print('amplitudes:',x)\n",
    "print('probs:',np.square(x))\n",
    "qubits = cirq.GridQubit.rect(1,int(np.ceil(np.log2(len(x)))))\n",
    "qc = cirq.Circuit()\n",
    "qc += amplitude_embedding(x)\n",
    "qc += cirq.measure(*qubits, key='result')"
   ]
  },
  {
   "cell_type": "code",
   "execution_count": 285,
   "id": "89cdb7cc",
   "metadata": {
    "ExecuteTime": {
     "end_time": "2022-07-08T13:22:21.219273Z",
     "start_time": "2022-07-08T13:22:21.065063Z"
    }
   },
   "outputs": [
    {
     "data": {
      "text/plain": [
       "{3: 0.5311, 2: 0.3031, 1: 0.1318, 0: 0.034}"
      ]
     },
     "execution_count": 285,
     "metadata": {},
     "output_type": "execute_result"
    }
   ],
   "source": [
    "s=cirq.Simulator()\n",
    "shots = 10000\n",
    "samples=s.run(qc, repetitions=shots)\n",
    "res = dict(samples.histogram(key=\"result\"))\n",
    "for key, value in res.items():\n",
    "    res[key] = value/shots\n",
    "res"
   ]
  },
  {
   "cell_type": "code",
   "execution_count": 288,
   "id": "b399c580",
   "metadata": {
    "ExecuteTime": {
     "end_time": "2022-07-08T13:22:47.932507Z",
     "start_time": "2022-07-08T13:22:47.867192Z"
    }
   },
   "outputs": [
    {
     "name": "stdout",
     "output_type": "stream",
     "text": [
      "0 0.034\n",
      "1 0.1318\n",
      "2 0.3031\n",
      "3 0.5311\n"
     ]
    }
   ],
   "source": [
    "od = collections.OrderedDict(sorted(res.items()))\n",
    "\n",
    "for k, v in od.items():\n",
    "    print(k,v)"
   ]
  },
  {
   "cell_type": "code",
   "execution_count": 14,
   "id": "95d3cdc2",
   "metadata": {
    "ExecuteTime": {
     "end_time": "2022-07-08T10:54:17.311655Z",
     "start_time": "2022-07-08T10:54:17.294737Z"
    }
   },
   "outputs": [
    {
     "name": "stdout",
     "output_type": "stream",
     "text": [
      "amplitudes: [0.37904902 0.45485883 0.53066863 0.60647843]\n",
      "probs: [0.14367816 0.20689655 0.2816092  0.36781609]\n"
     ]
    }
   ],
   "source": [
    "x = np.arange(5,9,1)\n",
    "d = np.sqrt(np.sum(np.square(x)))\n",
    "x = x/d\n",
    "print('amplitudes:',x)\n",
    "print('probs:',np.square(x))\n",
    "qubits = cirq.GridQubit.rect(1,int(np.ceil(np.log2(len(x)))))\n",
    "qc = cirq.Circuit()\n",
    "qc += amplitude_embedding(x)\n",
    "qc += cirq.measure(*qubits, key='result')"
   ]
  },
  {
   "cell_type": "code",
   "execution_count": 15,
   "id": "cb13a6e6",
   "metadata": {
    "ExecuteTime": {
     "end_time": "2022-07-08T10:54:17.709772Z",
     "start_time": "2022-07-08T10:54:17.680562Z"
    }
   },
   "outputs": [
    {
     "data": {
      "text/html": [
       "<pre style=\"overflow: auto; white-space: pre;\">(0, 0): ───Ry(0.597π)───@────────────X───@────────────X───M(&#x27;result&#x27;)───\n",
       "                        │                │                │\n",
       "(0, 1): ────────────────Ry(0.542π)───────Ry(0.558π)───────M─────────────</pre>"
      ],
      "text/plain": [
       "(0, 0): ───Ry(0.597π)───@────────────X───@────────────X───M('result')───\n",
       "                        │                │                │\n",
       "(0, 1): ────────────────Ry(0.542π)───────Ry(0.558π)───────M─────────────"
      ]
     },
     "execution_count": 15,
     "metadata": {},
     "output_type": "execute_result"
    }
   ],
   "source": [
    "qc"
   ]
  },
  {
   "cell_type": "code",
   "execution_count": 16,
   "id": "e980fd34",
   "metadata": {
    "ExecuteTime": {
     "end_time": "2022-07-08T10:54:19.671524Z",
     "start_time": "2022-07-08T10:54:19.597404Z"
    }
   },
   "outputs": [
    {
     "data": {
      "text/plain": [
       "{3: 0.3677, 1: 0.2071, 0: 0.1455, 2: 0.2797}"
      ]
     },
     "execution_count": 16,
     "metadata": {},
     "output_type": "execute_result"
    }
   ],
   "source": [
    "s=cirq.Simulator()\n",
    "shots = 10000\n",
    "samples=s.run(qc, repetitions=shots)\n",
    "res = dict(samples.histogram(key=\"result\"))\n",
    "for key, value in res.items():\n",
    "    res[key] = value/shots\n",
    "res"
   ]
  },
  {
   "cell_type": "markdown",
   "id": "5c528cd3",
   "metadata": {},
   "source": [
    "## Amplitude Encoding using module"
   ]
  },
  {
   "cell_type": "code",
   "execution_count": 17,
   "id": "461d4630",
   "metadata": {
    "ExecuteTime": {
     "end_time": "2022-07-08T10:55:35.165518Z",
     "start_time": "2022-07-08T10:55:34.909096Z"
    }
   },
   "outputs": [],
   "source": [
    "%load_ext autoreload\n",
    "%autoreload 2\n",
    "\n",
    "%matplotlib inline\n",
    "\n",
    "from importlib.util import find_spec\n",
    "if find_spec(\"qml_hep_lhc\") is None:\n",
    "    import sys\n",
    "    sys.path.append('..')"
   ]
  },
  {
   "cell_type": "code",
   "execution_count": 110,
   "id": "7fcb46a1",
   "metadata": {
    "ExecuteTime": {
     "end_time": "2022-07-08T11:44:26.263362Z",
     "start_time": "2022-07-08T11:44:25.700740Z"
    }
   },
   "outputs": [],
   "source": [
    "from qml_hep_lhc.encodings import AmplitudeMap\n",
    "from qml_hep_lhc.data import ElectronPhoton\n",
    "import sympy as sp\n",
    "import argparse\n",
    "from qml_hep_lhc.layers.utils import get_count_of_qubits, get_num_in_symbols\n",
    "from qml_hep_lhc.layers.utils import symbols_in_expr_map, resolve_formulas\n",
    "from tensorflow import pad, constant\n",
    "import tensorflow as tf"
   ]
  },
  {
   "cell_type": "code",
   "execution_count": 294,
   "id": "114b50f9",
   "metadata": {
    "ExecuteTime": {
     "end_time": "2022-07-08T13:23:43.205945Z",
     "start_time": "2022-07-08T13:23:43.143687Z"
    }
   },
   "outputs": [],
   "source": [
    "x = np.array([1,2,3,4], dtype=np.float32)"
   ]
  },
  {
   "cell_type": "code",
   "execution_count": 254,
   "id": "b0d3fc43",
   "metadata": {
    "ExecuteTime": {
     "end_time": "2022-07-08T13:16:05.196600Z",
     "start_time": "2022-07-08T13:16:05.086145Z"
    }
   },
   "outputs": [
    {
     "data": {
      "text/plain": [
       "(2, 4)"
      ]
     },
     "execution_count": 254,
     "metadata": {},
     "output_type": "execute_result"
    }
   ],
   "source": [
    "n_qubits = get_count_of_qubits('AmplitudeMap',4)\n",
    "n_inputs = get_num_in_symbols('AmplitudeMap', 4)\n",
    "\n",
    "n_qubits, n_inputs"
   ]
  },
  {
   "cell_type": "code",
   "execution_count": 255,
   "id": "32361e07",
   "metadata": {
    "ExecuteTime": {
     "end_time": "2022-07-08T13:16:06.192069Z",
     "start_time": "2022-07-08T13:16:06.129768Z"
    }
   },
   "outputs": [
    {
     "data": {
      "text/plain": [
       "array([[x0, x1, x2, x3]], dtype=object)"
      ]
     },
     "execution_count": 255,
     "metadata": {},
     "output_type": "execute_result"
    }
   ],
   "source": [
    "in_symbols = sp.symbols(f'x0:{n_inputs}')\n",
    "in_symbols = np.asarray(in_symbols).reshape(1,n_inputs)\n",
    "\n",
    "in_symbols"
   ]
  },
  {
   "cell_type": "code",
   "execution_count": 295,
   "id": "69c7e98e",
   "metadata": {
    "ExecuteTime": {
     "end_time": "2022-07-08T13:23:45.481143Z",
     "start_time": "2022-07-08T13:23:45.398766Z"
    }
   },
   "outputs": [
    {
     "data": {
      "text/plain": [
       "(1, 4)"
      ]
     },
     "execution_count": 295,
     "metadata": {},
     "output_type": "execute_result"
    }
   ],
   "source": [
    "x = x.reshape(1,-1)\n",
    "x.shape"
   ]
  },
  {
   "cell_type": "code",
   "execution_count": 257,
   "id": "c1366eac",
   "metadata": {
    "ExecuteTime": {
     "end_time": "2022-07-08T13:16:07.836537Z",
     "start_time": "2022-07-08T13:16:07.759385Z"
    }
   },
   "outputs": [
    {
     "data": {
      "text/plain": [
       "5.477226"
      ]
     },
     "execution_count": 257,
     "metadata": {},
     "output_type": "execute_result"
    }
   ],
   "source": [
    "np.sqrt(np.sum(x**2))"
   ]
  },
  {
   "cell_type": "code",
   "execution_count": 258,
   "id": "8136b212",
   "metadata": {
    "ExecuteTime": {
     "end_time": "2022-07-08T13:16:09.176783Z",
     "start_time": "2022-07-08T13:16:09.115691Z"
    }
   },
   "outputs": [],
   "source": [
    "qubits = cirq.GridQubit.rect(1,n_qubits)\n",
    "circuit = cirq.Circuit()\n",
    "circuit += AmplitudeMap().build(qubits,in_symbols[0])"
   ]
  },
  {
   "cell_type": "code",
   "execution_count": 259,
   "id": "56ac448b",
   "metadata": {
    "ExecuteTime": {
     "end_time": "2022-07-08T13:16:09.787474Z",
     "start_time": "2022-07-08T13:16:09.696466Z"
    }
   },
   "outputs": [
    {
     "data": {
      "text/html": [
       "<pre style=\"overflow: auto; white-space: pre;\">(0, 0): ───Ry(2*pi*asin((Abs(x2)**2 + Abs(x3)**2)**0.5*(Abs(x0)**2 + Abs(x1)**2 + Abs(x2)**2 + Abs(x3)**2)**(-0.5)))───@───────────────────────────────────────────────────────────────X───@───────────────────────────────────────────────────────────────X───\n",
       "                                                                                                                       │                                                                   │\n",
       "(0, 1): ───────────────────────────────────────────────────────────────────────────────────────────────────────────────Ry(2*pi*asin((Abs(x2)**2 + Abs(x3)**2)**(-0.5)*Abs(x3)**1.0))───────Ry(2*pi*asin((Abs(x0)**2 + Abs(x1)**2)**(-0.5)*Abs(x1)**1.0))───────</pre>"
      ],
      "text/plain": [
       "(0, 0): ───Ry(2*pi*asin((Abs(x2)**2 + Abs(x3)**2)**0.5*(Abs(x0)**2 + Abs(x1)**2 + Abs(x2)**2 + Abs(x3)**2)**(-0.5)))───@───────────────────────────────────────────────────────────────X───@───────────────────────────────────────────────────────────────X───\n",
       "                                                                                                                       │                                                                   │\n",
       "(0, 1): ───────────────────────────────────────────────────────────────────────────────────────────────────────────────Ry(2*pi*asin((Abs(x2)**2 + Abs(x3)**2)**(-0.5)*Abs(x3)**1.0))───────Ry(2*pi*asin((Abs(x0)**2 + Abs(x1)**2)**(-0.5)*Abs(x1)**1.0))───────"
      ]
     },
     "execution_count": 259,
     "metadata": {},
     "output_type": "execute_result"
    }
   ],
   "source": [
    "circuit"
   ]
  },
  {
   "cell_type": "code",
   "execution_count": 260,
   "id": "e7db6643",
   "metadata": {
    "ExecuteTime": {
     "end_time": "2022-07-08T13:16:10.541082Z",
     "start_time": "2022-07-08T13:16:10.464812Z"
    }
   },
   "outputs": [],
   "source": [
    "circuit, expr_map = cirq.flatten(circuit)\n",
    "raw_in_symbols = symbols_in_expr_map(expr_map)\n",
    "data_expr = list(expr_map)"
   ]
  },
  {
   "cell_type": "code",
   "execution_count": 261,
   "id": "01e2d34a",
   "metadata": {
    "ExecuteTime": {
     "end_time": "2022-07-08T13:16:10.944706Z",
     "start_time": "2022-07-08T13:16:10.868284Z"
    }
   },
   "outputs": [
    {
     "data": {
      "text/plain": [
       "[x0, x1, x2, x3]"
      ]
     },
     "execution_count": 261,
     "metadata": {},
     "output_type": "execute_result"
    }
   ],
   "source": [
    "raw_in_symbols"
   ]
  },
  {
   "cell_type": "code",
   "execution_count": 262,
   "id": "82ae6706",
   "metadata": {
    "ExecuteTime": {
     "end_time": "2022-07-08T13:16:11.393360Z",
     "start_time": "2022-07-08T13:16:11.328298Z"
    }
   },
   "outputs": [
    {
     "data": {
      "text/plain": [
       "[2*asin((Abs(x2)**2 + Abs(x3)**2)**0.5*(Abs(x0)**2 + Abs(x1)**2 + Abs(x2)**2 + Abs(x3)**2)**(-0.5)),\n",
       " 2*asin((Abs(x2)**2 + Abs(x3)**2)**(-0.5)*Abs(x3)**1.0),\n",
       " 2*asin((Abs(x0)**2 + Abs(x1)**2)**(-0.5)*Abs(x1)**1.0)]"
      ]
     },
     "execution_count": 262,
     "metadata": {},
     "output_type": "execute_result"
    }
   ],
   "source": [
    "data_expr"
   ]
  },
  {
   "cell_type": "code",
   "execution_count": 263,
   "id": "c145c0b7",
   "metadata": {
    "ExecuteTime": {
     "end_time": "2022-07-08T13:16:11.849514Z",
     "start_time": "2022-07-08T13:16:11.782311Z"
    }
   },
   "outputs": [
    {
     "data": {
      "text/html": [
       "<pre style=\"overflow: auto; white-space: pre;\">(0, 0): ───Ry(pi*&lt;2*asin((Abs(x2)**2 + Abs(x3)**2)**0.5*(Abs(x0)**2 + Abs(x1)**2 + Abs(x2)**2 + Abs(x3)**2)**(-0.5))&gt;)───@─────────────────────────────────────────────────────────────────X───@─────────────────────────────────────────────────────────────────X───\n",
       "                                                                                                                         │                                                                     │\n",
       "(0, 1): ─────────────────────────────────────────────────────────────────────────────────────────────────────────────────Ry(pi*&lt;2*asin((Abs(x2)**2 + Abs(x3)**2)**(-0.5)*Abs(x3)**1.0)&gt;)───────Ry(pi*&lt;2*asin((Abs(x0)**2 + Abs(x1)**2)**(-0.5)*Abs(x1)**1.0)&gt;)───────</pre>"
      ],
      "text/plain": [
       "(0, 0): ───Ry(pi*<2*asin((Abs(x2)**2 + Abs(x3)**2)**0.5*(Abs(x0)**2 + Abs(x1)**2 + Abs(x2)**2 + Abs(x3)**2)**(-0.5))>)───@─────────────────────────────────────────────────────────────────X───@─────────────────────────────────────────────────────────────────X───\n",
       "                                                                                                                         │                                                                     │\n",
       "(0, 1): ─────────────────────────────────────────────────────────────────────────────────────────────────────────────────Ry(pi*<2*asin((Abs(x2)**2 + Abs(x3)**2)**(-0.5)*Abs(x3)**1.0)>)───────Ry(pi*<2*asin((Abs(x0)**2 + Abs(x1)**2)**(-0.5)*Abs(x1)**1.0)>)───────"
      ]
     },
     "execution_count": 263,
     "metadata": {},
     "output_type": "execute_result"
    }
   ],
   "source": [
    "circuit"
   ]
  },
  {
   "cell_type": "code",
   "execution_count": 264,
   "id": "070dc18b",
   "metadata": {
    "ExecuteTime": {
     "end_time": "2022-07-08T13:16:12.420667Z",
     "start_time": "2022-07-08T13:16:12.358424Z"
    }
   },
   "outputs": [
    {
     "data": {
      "text/plain": [
       "[<2*asin((Abs(x2)**2 + Abs(x3)**2)**0.5*(Abs(x0)**2 + Abs(x1)**2 + Abs(x2)**2 + Abs(x3)**2)**(-0.5))>,\n",
       " <2*asin((Abs(x2)**2 + Abs(x3)**2)**(-0.5)*Abs(x3)**1.0)>,\n",
       " <2*asin((Abs(x0)**2 + Abs(x1)**2)**(-0.5)*Abs(x1)**1.0)>]"
      ]
     },
     "execution_count": 264,
     "metadata": {},
     "output_type": "execute_result"
    }
   ],
   "source": [
    "list(expr_map.values())"
   ]
  },
  {
   "cell_type": "code",
   "execution_count": 265,
   "id": "c5af5961",
   "metadata": {
    "ExecuteTime": {
     "end_time": "2022-07-08T13:16:12.999518Z",
     "start_time": "2022-07-08T13:16:12.917276Z"
    }
   },
   "outputs": [],
   "source": [
    "input_resolver = resolve_formulas(data_expr, raw_in_symbols)"
   ]
  },
  {
   "cell_type": "code",
   "execution_count": 297,
   "id": "d42abb13",
   "metadata": {
    "ExecuteTime": {
     "end_time": "2022-07-08T13:23:54.541531Z",
     "start_time": "2022-07-08T13:23:54.456381Z"
    }
   },
   "outputs": [],
   "source": [
    "padding = n_inputs - x.shape[1]\n",
    "if padding:\n",
    "    x = pad(x, constant([ [0,0], [0, padding]]), constant_values=1.0)\n",
    "x, _ = tf.linalg.normalize(x, axis = 1)"
   ]
  },
  {
   "cell_type": "code",
   "execution_count": 298,
   "id": "4b809d2c",
   "metadata": {
    "ExecuteTime": {
     "end_time": "2022-07-08T13:23:55.200750Z",
     "start_time": "2022-07-08T13:23:55.133825Z"
    }
   },
   "outputs": [
    {
     "data": {
      "text/plain": [
       "0.99999994"
      ]
     },
     "execution_count": 298,
     "metadata": {},
     "output_type": "execute_result"
    }
   ],
   "source": [
    "np.sqrt(np.sum(x**2))"
   ]
  },
  {
   "cell_type": "code",
   "execution_count": 299,
   "id": "df1836e6",
   "metadata": {
    "ExecuteTime": {
     "end_time": "2022-07-08T13:23:55.968592Z",
     "start_time": "2022-07-08T13:23:55.899582Z"
    }
   },
   "outputs": [
    {
     "data": {
      "text/plain": [
       "array([[0.18257418, 0.36514837, 0.5477225 , 0.73029673]], dtype=float32)"
      ]
     },
     "execution_count": 299,
     "metadata": {},
     "output_type": "execute_result"
    }
   ],
   "source": [
    "x.numpy()"
   ]
  },
  {
   "cell_type": "code",
   "execution_count": 270,
   "id": "093d57b8",
   "metadata": {
    "ExecuteTime": {
     "end_time": "2022-07-08T13:16:58.282830Z",
     "start_time": "2022-07-08T13:16:58.181641Z"
    }
   },
   "outputs": [],
   "source": [
    "resolved_x = input_resolver(x)"
   ]
  },
  {
   "cell_type": "code",
   "execution_count": 272,
   "id": "8ba4cd50",
   "metadata": {
    "ExecuteTime": {
     "end_time": "2022-07-08T13:17:06.827885Z",
     "start_time": "2022-07-08T13:17:06.717102Z"
    }
   },
   "outputs": [
    {
     "data": {
      "text/plain": [
       "array([[2.3005242, 1.8545904, 2.2142973]], dtype=float32)"
      ]
     },
     "execution_count": 272,
     "metadata": {},
     "output_type": "execute_result"
    }
   ],
   "source": [
    "resolved_x.numpy()"
   ]
  },
  {
   "cell_type": "code",
   "execution_count": 273,
   "id": "3214493c",
   "metadata": {
    "ExecuteTime": {
     "end_time": "2022-07-08T13:18:40.471503Z",
     "start_time": "2022-07-08T13:18:40.407191Z"
    }
   },
   "outputs": [
    {
     "data": {
      "text/plain": [
       "TensorShape([1, 3])"
      ]
     },
     "execution_count": 273,
     "metadata": {},
     "output_type": "execute_result"
    }
   ],
   "source": [
    "resolved_x.shape"
   ]
  },
  {
   "cell_type": "code",
   "execution_count": 274,
   "id": "5745f53a",
   "metadata": {
    "ExecuteTime": {
     "end_time": "2022-07-08T13:18:46.384180Z",
     "start_time": "2022-07-08T13:18:46.306289Z"
    }
   },
   "outputs": [],
   "source": [
    "resolver = cirq.ParamResolver()"
   ]
  },
  {
   "cell_type": "code",
   "execution_count": 276,
   "id": "7e79c280",
   "metadata": {
    "ExecuteTime": {
     "end_time": "2022-07-08T13:18:53.628337Z",
     "start_time": "2022-07-08T13:18:53.547551Z"
    }
   },
   "outputs": [
    {
     "data": {
      "text/html": [
       "<pre style=\"overflow: auto; white-space: pre;\">(0, 0): ───Ry(-1.7π)───@───────────X───@────────────X───\n",
       "                       │               │\n",
       "(0, 1): ───────────────Ry(1.85π)───────Ry(-1.79π)───────</pre>"
      ],
      "text/plain": [
       "(0, 0): ───Ry(-1.7π)───@───────────X───@────────────X───\n",
       "                       │               │\n",
       "(0, 1): ───────────────Ry(1.85π)───────Ry(-1.79π)───────"
      ]
     },
     "execution_count": 276,
     "metadata": {},
     "output_type": "execute_result"
    }
   ],
   "source": [
    "qc = cirq.resolve_parameters(circuit, { j: resolved_x[0][i].numpy()  for i,j  in enumerate(list(expr_map.values()))})\n",
    "qc"
   ]
  },
  {
   "cell_type": "code",
   "execution_count": 277,
   "id": "20a4e9d5",
   "metadata": {
    "ExecuteTime": {
     "end_time": "2022-07-08T13:19:12.497125Z",
     "start_time": "2022-07-08T13:19:12.436274Z"
    }
   },
   "outputs": [],
   "source": [
    "qc += cirq.measure(*qubits, key='result')"
   ]
  },
  {
   "cell_type": "code",
   "execution_count": 290,
   "id": "43a6b6fa",
   "metadata": {
    "ExecuteTime": {
     "end_time": "2022-07-08T13:23:22.874436Z",
     "start_time": "2022-07-08T13:23:22.722096Z"
    }
   },
   "outputs": [
    {
     "data": {
      "text/plain": [
       "{2: 0.2874, 3: 0.5453, 1: 0.1325, 0: 0.0348}"
      ]
     },
     "execution_count": 290,
     "metadata": {},
     "output_type": "execute_result"
    }
   ],
   "source": [
    "s=cirq.Simulator()\n",
    "shots = 10000\n",
    "samples=s.run(qc, repetitions=shots)\n",
    "res = dict(samples.histogram(key=\"result\"))\n",
    "for key, value in res.items():\n",
    "    res[key] = value/shots\n",
    "res"
   ]
  },
  {
   "cell_type": "code",
   "execution_count": 291,
   "id": "f4b0c337",
   "metadata": {
    "ExecuteTime": {
     "end_time": "2022-07-08T13:23:23.709624Z",
     "start_time": "2022-07-08T13:23:23.636823Z"
    }
   },
   "outputs": [
    {
     "name": "stdout",
     "output_type": "stream",
     "text": [
      "0 0.0348\n",
      "1 0.1325\n",
      "2 0.2874\n",
      "3 0.5453\n"
     ]
    }
   ],
   "source": [
    "od = collections.OrderedDict(sorted(res.items()))\n",
    "\n",
    "for k, v in od.items():\n",
    "    print(k,v)"
   ]
  },
  {
   "cell_type": "code",
   "execution_count": 300,
   "id": "59c928fa",
   "metadata": {
    "ExecuteTime": {
     "end_time": "2022-07-08T13:23:58.248093Z",
     "start_time": "2022-07-08T13:23:58.184480Z"
    }
   },
   "outputs": [
    {
     "name": "stdout",
     "output_type": "stream",
     "text": [
      "0 0.03333333\n",
      "1 0.13333333\n",
      "2 0.29999995\n",
      "3 0.5333333\n"
     ]
    }
   ],
   "source": [
    "probs = np.square(x)[0]\n",
    "for i, j in enumerate(probs):\n",
    "    print(i,j)"
   ]
  },
  {
   "cell_type": "code",
   "execution_count": 303,
   "id": "4702c02c",
   "metadata": {
    "ExecuteTime": {
     "end_time": "2022-07-08T13:24:37.175363Z",
     "start_time": "2022-07-08T13:24:37.098146Z"
    }
   },
   "outputs": [
    {
     "data": {
      "text/plain": [
       "[2*asin((Abs(x2)**2 + Abs(x3)**2)**0.5*(Abs(x0)**2 + Abs(x1)**2 + Abs(x2)**2 + Abs(x3)**2)**(-0.5)),\n",
       " 2*asin((Abs(x2)**2 + Abs(x3)**2)**(-0.5)*Abs(x3)**1.0),\n",
       " 2*asin((Abs(x0)**2 + Abs(x1)**2)**(-0.5)*Abs(x1)**1.0)]"
      ]
     },
     "execution_count": 303,
     "metadata": {},
     "output_type": "execute_result"
    }
   ],
   "source": [
    "list(expr_map.keys())"
   ]
  },
  {
   "cell_type": "code",
   "execution_count": 305,
   "id": "6b80f6ab",
   "metadata": {
    "ExecuteTime": {
     "end_time": "2022-07-08T13:24:44.625513Z",
     "start_time": "2022-07-08T13:24:44.523667Z"
    }
   },
   "outputs": [
    {
     "data": {
      "text/plain": [
       "[2*asin((Abs(x2)**2 + Abs(x3)**2)**0.5*(Abs(x0)**2 + Abs(x1)**2 + Abs(x2)**2 + Abs(x3)**2)**(-0.5)),\n",
       " 2*asin((Abs(x2)**2 + Abs(x3)**2)**(-0.5)*Abs(x3)**1.0),\n",
       " 2*asin((Abs(x0)**2 + Abs(x1)**2)**(-0.5)*Abs(x1)**1.0)]"
      ]
     },
     "execution_count": 305,
     "metadata": {},
     "output_type": "execute_result"
    }
   ],
   "source": [
    "list(expr_map)"
   ]
  },
  {
   "cell_type": "code",
   "execution_count": 306,
   "id": "dd28dbdc",
   "metadata": {
    "ExecuteTime": {
     "end_time": "2022-07-08T13:24:54.551005Z",
     "start_time": "2022-07-08T13:24:54.477535Z"
    }
   },
   "outputs": [
    {
     "data": {
      "text/plain": [
       "[<2*asin((Abs(x2)**2 + Abs(x3)**2)**0.5*(Abs(x0)**2 + Abs(x1)**2 + Abs(x2)**2 + Abs(x3)**2)**(-0.5))>,\n",
       " <2*asin((Abs(x2)**2 + Abs(x3)**2)**(-0.5)*Abs(x3)**1.0)>,\n",
       " <2*asin((Abs(x0)**2 + Abs(x1)**2)**(-0.5)*Abs(x1)**1.0)>]"
      ]
     },
     "execution_count": 306,
     "metadata": {},
     "output_type": "execute_result"
    }
   ],
   "source": [
    "list(expr_map.values())"
   ]
  },
  {
   "cell_type": "code",
   "execution_count": null,
   "id": "3938a7a1",
   "metadata": {},
   "outputs": [],
   "source": []
  }
 ],
 "metadata": {
  "kernelspec": {
   "display_name": "Python (qenv)",
   "language": "python",
   "name": "qenv"
  },
  "language_info": {
   "codemirror_mode": {
    "name": "ipython",
    "version": 3
   },
   "file_extension": ".py",
   "mimetype": "text/x-python",
   "name": "python",
   "nbconvert_exporter": "python",
   "pygments_lexer": "ipython3",
   "version": "3.7.13"
  },
  "latex_envs": {
   "LaTeX_envs_menu_present": true,
   "autoclose": false,
   "autocomplete": true,
   "bibliofile": "biblio.bib",
   "cite_by": "apalike",
   "current_citInitial": 1,
   "eqLabelWithNumbers": true,
   "eqNumInitial": 1,
   "hotkeys": {
    "equation": "Ctrl-E",
    "itemize": "Ctrl-I"
   },
   "labels_anchors": false,
   "latex_user_defs": false,
   "report_style_numbering": false,
   "user_envs_cfg": false
  },
  "toc": {
   "base_numbering": 1,
   "nav_menu": {},
   "number_sections": true,
   "sideBar": true,
   "skip_h1_title": false,
   "title_cell": "Table of Contents",
   "title_sidebar": "Contents",
   "toc_cell": false,
   "toc_position": {},
   "toc_section_display": true,
   "toc_window_display": false
  }
 },
 "nbformat": 4,
 "nbformat_minor": 5
}
