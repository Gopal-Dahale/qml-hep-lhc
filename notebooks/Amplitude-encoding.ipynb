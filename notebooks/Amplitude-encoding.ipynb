{
 "cells": [
  {
   "cell_type": "code",
   "execution_count": 4,
   "id": "d80c2edc",
   "metadata": {
    "ExecuteTime": {
     "end_time": "2022-06-20T17:21:46.556094Z",
     "start_time": "2022-06-20T17:21:46.547779Z"
    }
   },
   "outputs": [],
   "source": [
    "import cirq\n",
    "import numpy as np"
   ]
  },
  {
   "cell_type": "code",
   "execution_count": 14,
   "id": "52931a7d",
   "metadata": {
    "ExecuteTime": {
     "end_time": "2022-06-20T17:43:09.455967Z",
     "start_time": "2022-06-20T17:43:09.448972Z"
    }
   },
   "outputs": [],
   "source": [
    "def beta(s, j, x):\n",
    "    index_num = (2*j-1)*(2**(s-1))\n",
    "    index_den = (j-1)*(2**s)\n",
    "    \n",
    "    num = np.sqrt(np.sum(abs(x[index_num : index_num+2**(s-1)])**2))\n",
    "    den = np.sqrt(np.sum(abs(x[index_den : index_den+2**(s)])**2))\n",
    "    \n",
    "    if den == 0:\n",
    "        beta = 0\n",
    "    else:\n",
    "        beta = 2*np.arcsin(num/den)\n",
    "    return beta"
   ]
  },
  {
   "cell_type": "code",
   "execution_count": 42,
   "id": "8a4794ba",
   "metadata": {
    "ExecuteTime": {
     "end_time": "2022-06-20T18:05:29.224696Z",
     "start_time": "2022-06-20T18:05:29.216983Z"
    }
   },
   "outputs": [],
   "source": [
    "def locate_x(curr_j, prev_j, length):\n",
    "    curr_bin = bin(curr_j)[2:].zfill(length)\n",
    "    prev_bin = bin(prev_j)[2:].zfill(length)\n",
    "    return [i for i, (x,y) in enumerate(zip(curr_bin,prev_bin)) if x!=y]"
   ]
  },
  {
   "cell_type": "code",
   "execution_count": 75,
   "id": "56fffc16",
   "metadata": {
    "ExecuteTime": {
     "end_time": "2022-06-20T18:16:05.282480Z",
     "start_time": "2022-06-20T18:16:05.268598Z"
    }
   },
   "outputs": [],
   "source": [
    "def amplitude_embedding(x):\n",
    "    n = int(np.log2(len(x)))\n",
    "    qubits = cirq.GridQubit.rect(1, n)\n",
    "    circuit = cirq.Circuit()\n",
    "    \n",
    "    circuit += cirq.ry(beta(n, 1, x))(qubits[0])\n",
    "    \n",
    "    for i in range(1,n):\n",
    "        # We can have at most i control bits\n",
    "        # Total possibilities is therefore 2^i\n",
    "        controls = 2**i\n",
    "        \n",
    "        control_qubits = [qubits[c] for c in range(i+1)]\n",
    "        circuit += cirq.ControlledGate(sub_gate=cirq.ry(beta(n-i, controls, x)), \n",
    "                                       num_controls=len(control_qubits)-1)(*control_qubits)\n",
    "        \n",
    "        for j in range(1, controls):\n",
    "            for loc in locate_x(controls-j-1, controls-j, i):\n",
    "                circuit += cirq.X(qubits[loc])\n",
    "                \n",
    "                circuit += cirq.ControlledGate(sub_gate=cirq.ry(beta(n-i, controls-j, x)), \n",
    "                                       num_controls=len(control_qubits)-1)(*control_qubits)\n",
    "            \n",
    "        for k in range(i):\n",
    "            circuit += cirq.X(qubits[k])\n",
    "\n",
    "    return circuit"
   ]
  },
  {
   "cell_type": "code",
   "execution_count": 100,
   "id": "9e8570cf",
   "metadata": {
    "ExecuteTime": {
     "end_time": "2022-06-20T18:18:57.906907Z",
     "start_time": "2022-06-20T18:18:57.890528Z"
    }
   },
   "outputs": [
    {
     "name": "stdout",
     "output_type": "stream",
     "text": [
      "amplitudes: [0.18257419 0.36514837 0.54772256 0.73029674]\n",
      "probs: [0.03333333 0.13333333 0.3        0.53333333]\n"
     ]
    }
   ],
   "source": [
    "x = [1,2,3,4]\n",
    "d = np.sqrt(np.sum(np.square(x)))\n",
    "x = x/d\n",
    "print('amplitudes:',x)\n",
    "print('probs:',np.square(x))\n",
    "qc = amplitude_embedding(x)"
   ]
  },
  {
   "cell_type": "code",
   "execution_count": 101,
   "id": "9ae317ef",
   "metadata": {
    "ExecuteTime": {
     "end_time": "2022-06-20T18:18:58.192010Z",
     "start_time": "2022-06-20T18:18:58.165987Z"
    }
   },
   "outputs": [
    {
     "data": {
      "text/html": [
       "<pre style=\"overflow: auto; white-space: pre;\">(0, 0): ───Ry(0.732π)───@───────────X───@────────────X───M(&#x27;result&#x27;)───\n",
       "                        │               │                │\n",
       "(0, 1): ────────────────Ry(0.59π)───────Ry(0.705π)───────M─────────────</pre>"
      ],
      "text/plain": [
       "(0, 0): ───Ry(0.732π)───@───────────X───@────────────X───M('result')───\n",
       "                        │               │                │\n",
       "(0, 1): ────────────────Ry(0.59π)───────Ry(0.705π)───────M─────────────"
      ]
     },
     "execution_count": 101,
     "metadata": {},
     "output_type": "execute_result"
    }
   ],
   "source": [
    "qubits = cirq.GridQubit.rect(1, 2)\n",
    "qc += cirq.measure(*qubits, key='result')\n",
    "qc"
   ]
  },
  {
   "cell_type": "code",
   "execution_count": 102,
   "id": "e980fd34",
   "metadata": {
    "ExecuteTime": {
     "end_time": "2022-06-20T18:19:02.789919Z",
     "start_time": "2022-06-20T18:19:02.695079Z"
    }
   },
   "outputs": [
    {
     "data": {
      "text/plain": [
       "{3: 0.5364, 1: 0.1376, 2: 0.2948, 0: 0.0312}"
      ]
     },
     "execution_count": 102,
     "metadata": {},
     "output_type": "execute_result"
    }
   ],
   "source": [
    "s=cirq.Simulator()\n",
    "shots = 10000\n",
    "samples=s.run(qc, repetitions=shots)\n",
    "res = dict(samples.histogram(key=\"result\"))\n",
    "for key, value in res.items():\n",
    "    res[key] = value/shots\n",
    "res"
   ]
  }
 ],
 "metadata": {
  "kernelspec": {
   "display_name": "Python (qenv)",
   "language": "python",
   "name": "qenv"
  },
  "language_info": {
   "codemirror_mode": {
    "name": "ipython",
    "version": 3
   },
   "file_extension": ".py",
   "mimetype": "text/x-python",
   "name": "python",
   "nbconvert_exporter": "python",
   "pygments_lexer": "ipython3",
   "version": "3.7.13"
  },
  "latex_envs": {
   "LaTeX_envs_menu_present": true,
   "autoclose": false,
   "autocomplete": true,
   "bibliofile": "biblio.bib",
   "cite_by": "apalike",
   "current_citInitial": 1,
   "eqLabelWithNumbers": true,
   "eqNumInitial": 1,
   "hotkeys": {
    "equation": "Ctrl-E",
    "itemize": "Ctrl-I"
   },
   "labels_anchors": false,
   "latex_user_defs": false,
   "report_style_numbering": false,
   "user_envs_cfg": false
  },
  "toc": {
   "base_numbering": 1,
   "nav_menu": {},
   "number_sections": true,
   "sideBar": true,
   "skip_h1_title": false,
   "title_cell": "Table of Contents",
   "title_sidebar": "Contents",
   "toc_cell": false,
   "toc_position": {},
   "toc_section_display": true,
   "toc_window_display": false
  }
 },
 "nbformat": 4,
 "nbformat_minor": 5
}
