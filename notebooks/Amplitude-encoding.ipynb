{
 "cells": [
  {
   "cell_type": "code",
   "execution_count": 71,
   "id": "d80c2edc",
   "metadata": {
    "ExecuteTime": {
     "end_time": "2022-06-24T06:32:19.118071Z",
     "start_time": "2022-06-24T06:32:19.112698Z"
    }
   },
   "outputs": [],
   "source": [
    "import cirq\n",
    "import numpy as np\n",
    "from sklearn.preprocessing import normalize\n",
    "import sympy as sp\n",
    "from cirq.contrib.svg import SVGCircuit\n",
    "import tensorflow_quantum as tfq\n",
    "from tensorflow_quantum.python import util\n",
    "import re"
   ]
  },
  {
   "cell_type": "code",
   "execution_count": 2,
   "id": "52931a7d",
   "metadata": {
    "ExecuteTime": {
     "end_time": "2022-06-24T04:50:20.233708Z",
     "start_time": "2022-06-24T04:50:20.213834Z"
    }
   },
   "outputs": [],
   "source": [
    "def beta(s, j, x):\n",
    "    index_num = (2*j-1)*(2**(s-1))\n",
    "    index_den = (j-1)*(2**s)\n",
    "    \n",
    "    num = np.sqrt(np.sum(abs(x[index_num : index_num+2**(s-1)])**2))\n",
    "    den = np.sqrt(np.sum(abs(x[index_den : index_den+2**(s)])**2))\n",
    "    \n",
    "    if den == 0:\n",
    "        beta = 0\n",
    "    else:\n",
    "        beta = 2*np.arcsin(num/den)\n",
    "    print(beta)\n",
    "    return beta"
   ]
  },
  {
   "cell_type": "code",
   "execution_count": 3,
   "id": "8a4794ba",
   "metadata": {
    "ExecuteTime": {
     "end_time": "2022-06-24T04:50:20.370164Z",
     "start_time": "2022-06-24T04:50:20.241599Z"
    }
   },
   "outputs": [],
   "source": [
    "def locate_x(curr_j, prev_j, length):\n",
    "    curr_bin = bin(curr_j)[2:].zfill(length)\n",
    "    prev_bin = bin(prev_j)[2:].zfill(length)\n",
    "    return [i for i, (x,y) in enumerate(zip(curr_bin,prev_bin)) if x!=y]"
   ]
  },
  {
   "cell_type": "code",
   "execution_count": 4,
   "id": "56fffc16",
   "metadata": {
    "ExecuteTime": {
     "end_time": "2022-06-24T04:50:20.454158Z",
     "start_time": "2022-06-24T04:50:20.375740Z"
    }
   },
   "outputs": [],
   "source": [
    "def amplitude_embedding(x):\n",
    "    n = int(np.log2(len(x)))\n",
    "    qubits = cirq.GridQubit.rect(1, n)\n",
    "    circuit = cirq.Circuit()\n",
    "    \n",
    "    circuit += cirq.ry(beta(n, 1, x))(qubits[0])\n",
    "    \n",
    "    for i in range(1,n):\n",
    "        # We can have at most i control bits\n",
    "        # Total possibilities is therefore 2^i\n",
    "        controls = 2**i\n",
    "        \n",
    "        control_qubits = [qubits[c] for c in range(i+1)]\n",
    "        circuit += cirq.ControlledGate(sub_gate=cirq.ry(beta(n-i, controls, x)), \n",
    "                                       num_controls=len(control_qubits)-1)(*control_qubits)\n",
    "        \n",
    "        for j in range(1, controls):\n",
    "            for loc in locate_x(controls-j-1, controls-j, i):\n",
    "                circuit += cirq.X(qubits[loc])\n",
    "                \n",
    "            circuit += cirq.ControlledGate(sub_gate=cirq.ry(beta(n-i, controls-j, x)), \n",
    "                                       num_controls=len(control_qubits)-1)(*control_qubits)\n",
    "            \n",
    "        for k in range(i):\n",
    "            circuit += cirq.X(qubits[k])\n",
    "\n",
    "    return circuit"
   ]
  },
  {
   "cell_type": "code",
   "execution_count": 5,
   "id": "9e8570cf",
   "metadata": {
    "ExecuteTime": {
     "end_time": "2022-06-24T04:50:20.564493Z",
     "start_time": "2022-06-24T04:50:20.458029Z"
    }
   },
   "outputs": [
    {
     "name": "stdout",
     "output_type": "stream",
     "text": [
      "amplitudes: [0.18257419 0.36514837 0.54772256 0.73029674]\n",
      "probs: [0.03333333 0.13333333 0.3        0.53333333]\n",
      "2.300523983021863\n",
      "1.8545904360032246\n",
      "2.2142974355881813\n"
     ]
    }
   ],
   "source": [
    "x = np.arange(1,5,1)\n",
    "d = np.sqrt(np.sum(np.square(x)))\n",
    "x = x/d\n",
    "print('amplitudes:',x)\n",
    "print('probs:',np.square(x))\n",
    "qubits = cirq.GridQubit.rect(1,int(np.ceil(np.log2(len(x)))))\n",
    "qc = cirq.Circuit()\n",
    "qc += amplitude_embedding(x)\n",
    "qc += cirq.measure(*qubits, key='result')"
   ]
  },
  {
   "cell_type": "code",
   "execution_count": 6,
   "id": "95d3cdc2",
   "metadata": {
    "ExecuteTime": {
     "end_time": "2022-06-24T04:50:20.634718Z",
     "start_time": "2022-06-24T04:50:20.575334Z"
    }
   },
   "outputs": [
    {
     "name": "stdout",
     "output_type": "stream",
     "text": [
      "amplitudes: [0.37904902 0.45485883 0.53066863 0.60647843]\n",
      "probs: [0.14367816 0.20689655 0.2816092  0.36781609]\n",
      "1.8742842836248206\n",
      "1.7039326543465443\n",
      "1.7521161011963868\n"
     ]
    }
   ],
   "source": [
    "x = np.arange(5,9,1)\n",
    "d = np.sqrt(np.sum(np.square(x)))\n",
    "x = x/d\n",
    "print('amplitudes:',x)\n",
    "print('probs:',np.square(x))\n",
    "qubits = cirq.GridQubit.rect(1,int(np.ceil(np.log2(len(x)))))\n",
    "qc = cirq.Circuit()\n",
    "qc += amplitude_embedding(x)\n",
    "qc += cirq.measure(*qubits, key='result')"
   ]
  },
  {
   "cell_type": "code",
   "execution_count": 7,
   "id": "cb13a6e6",
   "metadata": {
    "ExecuteTime": {
     "end_time": "2022-06-24T04:50:20.715867Z",
     "start_time": "2022-06-24T04:50:20.639876Z"
    }
   },
   "outputs": [
    {
     "data": {
      "text/html": [
       "<pre style=\"overflow: auto; white-space: pre;\">(0, 0): ───Ry(0.597π)───@────────────X───@────────────X───M(&#x27;result&#x27;)───\n",
       "                        │                │                │\n",
       "(0, 1): ────────────────Ry(0.542π)───────Ry(0.558π)───────M─────────────</pre>"
      ],
      "text/plain": [
       "(0, 0): ───Ry(0.597π)───@────────────X───@────────────X───M('result')───\n",
       "                        │                │                │\n",
       "(0, 1): ────────────────Ry(0.542π)───────Ry(0.558π)───────M─────────────"
      ]
     },
     "execution_count": 7,
     "metadata": {},
     "output_type": "execute_result"
    }
   ],
   "source": [
    "qc"
   ]
  },
  {
   "cell_type": "code",
   "execution_count": 8,
   "id": "e980fd34",
   "metadata": {
    "ExecuteTime": {
     "end_time": "2022-06-24T04:50:21.011094Z",
     "start_time": "2022-06-24T04:50:20.720784Z"
    }
   },
   "outputs": [
    {
     "data": {
      "text/plain": [
       "{1: 0.2041, 2: 0.2795, 3: 0.3706, 0: 0.1458}"
      ]
     },
     "execution_count": 8,
     "metadata": {},
     "output_type": "execute_result"
    }
   ],
   "source": [
    "s=cirq.Simulator()\n",
    "shots = 10000\n",
    "samples=s.run(qc, repetitions=shots)\n",
    "res = dict(samples.histogram(key=\"result\"))\n",
    "for key, value in res.items():\n",
    "    res[key] = value/shots\n",
    "res"
   ]
  },
  {
   "cell_type": "markdown",
   "id": "5c528cd3",
   "metadata": {},
   "source": [
    "## Amplitude Encoder"
   ]
  },
  {
   "cell_type": "code",
   "execution_count": 9,
   "id": "56c6453a",
   "metadata": {
    "ExecuteTime": {
     "end_time": "2022-06-24T04:50:21.037097Z",
     "start_time": "2022-06-24T04:50:21.015540Z"
    }
   },
   "outputs": [],
   "source": [
    "def _locate_x(curr_j, prev_j, length):\n",
    "    curr_bin = bin(curr_j)[2:].zfill(length)\n",
    "    prev_bin = bin(prev_j)[2:].zfill(length)\n",
    "    return [i for i, (x, y) in enumerate(zip(curr_bin, prev_bin)) if x != y]\n",
    "\n",
    "def build(qubits, symbols):\n",
    "    n = len(qubits)\n",
    "    ae_ops = []\n",
    "    count = 0\n",
    "    ae_ops += [cirq.ry(symbols[count])(qubits[0])]\n",
    "    count += 1\n",
    "    for i in range(1, n):\n",
    "        # We can have at most i control bits\n",
    "        # Total possibilities is therefore 2^i\n",
    "        controls = 2**i\n",
    "\n",
    "        control_qubits = [qubits[c] for c in range(i + 1)]\n",
    "        ae_ops += [\n",
    "            cirq.ControlledGate(sub_gate=cirq.ry(symbols[count]),\n",
    "                                num_controls=len(control_qubits) -\n",
    "                                1)(*control_qubits)\n",
    "        ]\n",
    "        count += 1\n",
    "        for j in range(1, controls):\n",
    "            for loc in _locate_x(controls - j - 1, controls - j, i):\n",
    "                ae_ops += [cirq.X(qubits[loc])]\n",
    "\n",
    "            ae_ops += [\n",
    "                cirq.ControlledGate(sub_gate=cirq.ry(symbols[count]),\n",
    "                                    num_controls=len(control_qubits) -\n",
    "                                    1)(*control_qubits)\n",
    "            ]\n",
    "            count += 1\n",
    "\n",
    "        for k in range(i):\n",
    "            ae_ops += [cirq.X(qubits[k])]\n",
    "\n",
    "    return ae_ops"
   ]
  },
  {
   "cell_type": "code",
   "execution_count": 10,
   "id": "5252a3f0",
   "metadata": {
    "ExecuteTime": {
     "end_time": "2022-06-24T04:50:21.168486Z",
     "start_time": "2022-06-24T04:50:21.045012Z"
    }
   },
   "outputs": [],
   "source": [
    "def _beta_range(s,j):\n",
    "    index_num = (2 * j - 1) * (2**(s - 1))\n",
    "    index_den = (j - 1) * (2**s)\n",
    "\n",
    "    num_start = index_num\n",
    "    num_end = index_num + 2**(s - 1)\n",
    "\n",
    "    den_start = index_den\n",
    "    den_end = index_den + 2**(s)\n",
    "    \n",
    "    return [[num_start,num_end], [den_start,den_end]]\n",
    "\n",
    "def amplitude_encoder(x):\n",
    "    print(\"Amplitude encoder...\")\n",
    "#         img_size = self.dims\n",
    "#         x = x.reshape(-1, np.prod(img_size))\n",
    "#         len = x.shape[1]\n",
    "#         n_qubits = int(np.ceil(np.log2(len)))\n",
    "#         max_len = 2**n_qubits\n",
    "#         x = pad_sequences(x, maxlen=max_len, padding='post')\n",
    "\n",
    "#         n = n_qubits\n",
    "    n = n = int(np.log2(x.shape[1]))\n",
    "#     slices = [] # array of [s,j]\n",
    "#     slices.append([n,1])\n",
    "\n",
    "#     for i in range(1, n):\n",
    "#         controls = 2**i\n",
    "#         slices.append([n-i, controls])\n",
    "\n",
    "#         for j in range(1, controls):\n",
    "#             slices.append([n-i,controls-j])\n",
    "            \n",
    "    s = np.array([ _beta_range(n-i,2**i - j) for i in range(n) for j in range(2**i) ])\n",
    "    indices = np.arange(x.shape[1])\n",
    "    mask_num = (indices < s[:,0,:][:,0][:,None]) | (indices >= s[:,0,:][:,1][:,None])\n",
    "    mask_den = (indices < s[:,1,:][:,0][:,None]) | (indices >= s[:,1,:][:,1][:,None])\n",
    "    \n",
    "    \n",
    "    as_strided = np.lib.stride_tricks.as_strided\n",
    "    \n",
    "    strided = np.array([as_strided(x[i], shape= mask_num.shape, strides = (0, x.strides[1]))  for i in range(x.shape[0])])\n",
    "    mask_num = np.repeat(mask_num[None,...],x.shape[0],axis=0)\n",
    "    mask_den = np.repeat(mask_den[None,...],x.shape[0],axis=0)\n",
    "    \n",
    "    num_coeff = np.ma.sqrt(np.ma.sum(np.ma.power(np.ma.array(strided, mask=mask_num).__abs__(),2),axis = 2))\n",
    "    den_coeff = np.ma.sqrt(np.ma.sum(np.ma.power(np.ma.array(strided, mask=mask_den).__abs__(), 2), axis = 2))\n",
    "    \n",
    "    res = 2*np.arcsin(num_coeff/den_coeff)\n",
    "    \n",
    "    return res"
   ]
  },
  {
   "cell_type": "code",
   "execution_count": 11,
   "id": "4d80eb2c",
   "metadata": {
    "ExecuteTime": {
     "end_time": "2022-06-24T04:50:21.297412Z",
     "start_time": "2022-06-24T04:50:21.177776Z"
    }
   },
   "outputs": [
    {
     "name": "stdout",
     "output_type": "stream",
     "text": [
      "amplitudes:\n",
      " [[0.18257419 0.36514837 0.54772256 0.73029674]]\n",
      "probs:\n",
      " [[0.03333333 0.13333333 0.3        0.53333333]]\n",
      "Amplitude encoder...\n",
      "[[2.300523983021863 1.8545904360032246 2.2142974355881813]]\n"
     ]
    }
   ],
   "source": [
    "x = [[1,2,3,4]]\n",
    "d = np.sqrt(np.sum(np.square(x), axis = 1))\n",
    "x = x/d[:,None]\n",
    "print('amplitudes:\\n',x)\n",
    "print('probs:\\n',np.square(x))\n",
    "res = amplitude_encoder(x)\n",
    "print(res)\n",
    "\n",
    "qubits = cirq.GridQubit.rect(1,int(np.ceil(np.log2(x.shape[1]))))\n",
    "qc = cirq.Circuit()\n",
    "\n",
    "in_symbols = sp.symbols(f'x0:{res[0].shape[0]}')\n",
    "in_symbols = np.asarray(in_symbols).reshape((res[0].shape[0]))\n",
    "\n",
    "qc += build(qubits,in_symbols)\n",
    "qc += cirq.measure(*qubits, key='result')"
   ]
  },
  {
   "cell_type": "code",
   "execution_count": 12,
   "id": "84a340bc",
   "metadata": {
    "ExecuteTime": {
     "end_time": "2022-06-24T04:50:21.504394Z",
     "start_time": "2022-06-24T04:50:21.301365Z"
    }
   },
   "outputs": [
    {
     "data": {
      "text/html": [
       "<pre style=\"overflow: auto; white-space: pre;\">(0, 0): ───Ry(x0)───@────────X───@────────X───M(&#x27;result&#x27;)───\n",
       "                    │            │            │\n",
       "(0, 1): ────────────Ry(x1)───────Ry(x2)───────M─────────────</pre>"
      ],
      "text/plain": [
       "(0, 0): ───Ry(x0)───@────────X───@────────X───M('result')───\n",
       "                    │            │            │\n",
       "(0, 1): ────────────Ry(x1)───────Ry(x2)───────M─────────────"
      ]
     },
     "execution_count": 12,
     "metadata": {},
     "output_type": "execute_result"
    }
   ],
   "source": [
    "qc"
   ]
  },
  {
   "cell_type": "code",
   "execution_count": 13,
   "id": "a0dee56e",
   "metadata": {
    "ExecuteTime": {
     "end_time": "2022-06-24T04:50:21.526646Z",
     "start_time": "2022-06-24T04:50:21.508078Z"
    }
   },
   "outputs": [
    {
     "data": {
      "text/html": [
       "<pre style=\"overflow: auto; white-space: pre;\">(0, 0): ───Ry(0.732π)───@───────────X───@────────────X───M(&#x27;result&#x27;)───\n",
       "                        │               │                │\n",
       "(0, 1): ────────────────Ry(0.59π)───────Ry(0.705π)───────M─────────────</pre>"
      ],
      "text/plain": [
       "(0, 0): ───Ry(0.732π)───@───────────X───@────────────X───M('result')───\n",
       "                        │               │                │\n",
       "(0, 1): ────────────────Ry(0.59π)───────Ry(0.705π)───────M─────────────"
      ]
     },
     "execution_count": 13,
     "metadata": {},
     "output_type": "execute_result"
    }
   ],
   "source": [
    "rqc = cirq.resolve_parameters(qc, { j: res[0][i] for i,j in enumerate(in_symbols)})\n",
    "rqc"
   ]
  },
  {
   "cell_type": "code",
   "execution_count": 14,
   "id": "3adc30c7",
   "metadata": {
    "ExecuteTime": {
     "end_time": "2022-06-24T04:50:21.689062Z",
     "start_time": "2022-06-24T04:50:21.532993Z"
    }
   },
   "outputs": [
    {
     "data": {
      "text/plain": [
       "{3: 0.537, 2: 0.2981, 1: 0.1334, 0: 0.0315}"
      ]
     },
     "execution_count": 14,
     "metadata": {},
     "output_type": "execute_result"
    }
   ],
   "source": [
    "s=cirq.Simulator()\n",
    "shots = 10000\n",
    "samples=s.run(rqc, repetitions=shots)\n",
    "out = dict(samples.histogram(key=\"result\"))\n",
    "for key, value in out.items():\n",
    "    out[key] = value/shots\n",
    "out"
   ]
  },
  {
   "cell_type": "code",
   "execution_count": 15,
   "id": "0e701473",
   "metadata": {
    "ExecuteTime": {
     "end_time": "2022-06-24T04:50:21.921687Z",
     "start_time": "2022-06-24T04:50:21.693812Z"
    }
   },
   "outputs": [
    {
     "ename": "IndexError",
     "evalue": "index 1 is out of bounds for axis 0 with size 1",
     "output_type": "error",
     "traceback": [
      "\u001b[0;31m---------------------------------------------------------------------------\u001b[0m",
      "\u001b[0;31mIndexError\u001b[0m                                Traceback (most recent call last)",
      "\u001b[0;32m/tmp/ipykernel_10866/2087243225.py\u001b[0m in \u001b[0;36m<module>\u001b[0;34m\u001b[0m\n\u001b[1;32m      2\u001b[0m \u001b[0mqc\u001b[0m \u001b[0;34m=\u001b[0m \u001b[0mcirq\u001b[0m\u001b[0;34m.\u001b[0m\u001b[0mCircuit\u001b[0m\u001b[0;34m(\u001b[0m\u001b[0;34m)\u001b[0m\u001b[0;34m\u001b[0m\u001b[0;34m\u001b[0m\u001b[0m\n\u001b[1;32m      3\u001b[0m \u001b[0;34m\u001b[0m\u001b[0m\n\u001b[0;32m----> 4\u001b[0;31m \u001b[0min_symbols\u001b[0m \u001b[0;34m=\u001b[0m \u001b[0msp\u001b[0m\u001b[0;34m.\u001b[0m\u001b[0msymbols\u001b[0m\u001b[0;34m(\u001b[0m\u001b[0;34mf'x0:{res[1].shape[0]}'\u001b[0m\u001b[0;34m)\u001b[0m\u001b[0;34m\u001b[0m\u001b[0;34m\u001b[0m\u001b[0m\n\u001b[0m\u001b[1;32m      5\u001b[0m \u001b[0min_symbols\u001b[0m \u001b[0;34m=\u001b[0m \u001b[0mnp\u001b[0m\u001b[0;34m.\u001b[0m\u001b[0masarray\u001b[0m\u001b[0;34m(\u001b[0m\u001b[0min_symbols\u001b[0m\u001b[0;34m)\u001b[0m\u001b[0;34m.\u001b[0m\u001b[0mreshape\u001b[0m\u001b[0;34m(\u001b[0m\u001b[0;34m(\u001b[0m\u001b[0mres\u001b[0m\u001b[0;34m[\u001b[0m\u001b[0;36m1\u001b[0m\u001b[0;34m]\u001b[0m\u001b[0;34m.\u001b[0m\u001b[0mshape\u001b[0m\u001b[0;34m[\u001b[0m\u001b[0;36m0\u001b[0m\u001b[0;34m]\u001b[0m\u001b[0;34m)\u001b[0m\u001b[0;34m)\u001b[0m\u001b[0;34m\u001b[0m\u001b[0;34m\u001b[0m\u001b[0m\n\u001b[1;32m      6\u001b[0m \u001b[0;34m\u001b[0m\u001b[0m\n",
      "\u001b[0;32m~/Documents/qml-hep-lhc/qenv/lib/python3.7/site-packages/numpy/ma/core.py\u001b[0m in \u001b[0;36m__getitem__\u001b[0;34m(self, indx)\u001b[0m\n\u001b[1;32m   3222\u001b[0m         \u001b[0;31m# mask of being reshaped if it hasn't been set up properly yet\u001b[0m\u001b[0;34m\u001b[0m\u001b[0;34m\u001b[0m\u001b[0;34m\u001b[0m\u001b[0m\n\u001b[1;32m   3223\u001b[0m         \u001b[0;31m# So it's easier to stick to the current version\u001b[0m\u001b[0;34m\u001b[0m\u001b[0;34m\u001b[0m\u001b[0;34m\u001b[0m\u001b[0m\n\u001b[0;32m-> 3224\u001b[0;31m         \u001b[0mdout\u001b[0m \u001b[0;34m=\u001b[0m \u001b[0mself\u001b[0m\u001b[0;34m.\u001b[0m\u001b[0mdata\u001b[0m\u001b[0;34m[\u001b[0m\u001b[0mindx\u001b[0m\u001b[0;34m]\u001b[0m\u001b[0;34m\u001b[0m\u001b[0;34m\u001b[0m\u001b[0m\n\u001b[0m\u001b[1;32m   3225\u001b[0m         \u001b[0m_mask\u001b[0m \u001b[0;34m=\u001b[0m \u001b[0mself\u001b[0m\u001b[0;34m.\u001b[0m\u001b[0m_mask\u001b[0m\u001b[0;34m\u001b[0m\u001b[0;34m\u001b[0m\u001b[0m\n\u001b[1;32m   3226\u001b[0m \u001b[0;34m\u001b[0m\u001b[0m\n",
      "\u001b[0;31mIndexError\u001b[0m: index 1 is out of bounds for axis 0 with size 1"
     ]
    }
   ],
   "source": [
    "qubits = cirq.GridQubit.rect(1,int(np.ceil(np.log2(x.shape[1]))))\n",
    "qc = cirq.Circuit()\n",
    "\n",
    "in_symbols = sp.symbols(f'x0:{res[1].shape[0]}')\n",
    "in_symbols = np.asarray(in_symbols).reshape((res[1].shape[0]))\n",
    "\n",
    "qc += build(qubits,in_symbols)\n",
    "qc += cirq.measure(*qubits, key='result')"
   ]
  },
  {
   "cell_type": "code",
   "execution_count": 16,
   "id": "2a85bbc5",
   "metadata": {
    "ExecuteTime": {
     "end_time": "2022-06-24T04:50:22.050540Z",
     "start_time": "2022-06-24T04:50:22.032619Z"
    }
   },
   "outputs": [
    {
     "data": {
      "text/html": [
       "<pre style=\"overflow: auto; white-space: pre;\"></pre>"
      ],
      "text/plain": []
     },
     "execution_count": 16,
     "metadata": {},
     "output_type": "execute_result"
    }
   ],
   "source": [
    "qc"
   ]
  },
  {
   "cell_type": "code",
   "execution_count": 17,
   "id": "ab8c9c85",
   "metadata": {
    "ExecuteTime": {
     "end_time": "2022-06-24T04:50:33.252449Z",
     "start_time": "2022-06-24T04:50:33.163348Z"
    }
   },
   "outputs": [
    {
     "ename": "IndexError",
     "evalue": "index 1 is out of bounds for axis 0 with size 1",
     "output_type": "error",
     "traceback": [
      "\u001b[0;31m---------------------------------------------------------------------------\u001b[0m",
      "\u001b[0;31mIndexError\u001b[0m                                Traceback (most recent call last)",
      "\u001b[0;32m/tmp/ipykernel_10866/454504531.py\u001b[0m in \u001b[0;36m<module>\u001b[0;34m\u001b[0m\n\u001b[0;32m----> 1\u001b[0;31m \u001b[0mrqc\u001b[0m \u001b[0;34m=\u001b[0m \u001b[0mcirq\u001b[0m\u001b[0;34m.\u001b[0m\u001b[0mresolve_parameters\u001b[0m\u001b[0;34m(\u001b[0m\u001b[0mqc\u001b[0m\u001b[0;34m,\u001b[0m \u001b[0;34m{\u001b[0m \u001b[0mj\u001b[0m\u001b[0;34m:\u001b[0m \u001b[0mres\u001b[0m\u001b[0;34m[\u001b[0m\u001b[0;36m1\u001b[0m\u001b[0;34m]\u001b[0m\u001b[0;34m[\u001b[0m\u001b[0mi\u001b[0m\u001b[0;34m]\u001b[0m \u001b[0;32mfor\u001b[0m \u001b[0mi\u001b[0m\u001b[0;34m,\u001b[0m\u001b[0mj\u001b[0m \u001b[0;32min\u001b[0m \u001b[0menumerate\u001b[0m\u001b[0;34m(\u001b[0m\u001b[0min_symbols\u001b[0m\u001b[0;34m)\u001b[0m\u001b[0;34m}\u001b[0m\u001b[0;34m)\u001b[0m\u001b[0;34m\u001b[0m\u001b[0;34m\u001b[0m\u001b[0m\n\u001b[0m\u001b[1;32m      2\u001b[0m \u001b[0mrqc\u001b[0m\u001b[0;34m\u001b[0m\u001b[0;34m\u001b[0m\u001b[0m\n",
      "\u001b[0;32m/tmp/ipykernel_10866/454504531.py\u001b[0m in \u001b[0;36m<dictcomp>\u001b[0;34m(.0)\u001b[0m\n\u001b[0;32m----> 1\u001b[0;31m \u001b[0mrqc\u001b[0m \u001b[0;34m=\u001b[0m \u001b[0mcirq\u001b[0m\u001b[0;34m.\u001b[0m\u001b[0mresolve_parameters\u001b[0m\u001b[0;34m(\u001b[0m\u001b[0mqc\u001b[0m\u001b[0;34m,\u001b[0m \u001b[0;34m{\u001b[0m \u001b[0mj\u001b[0m\u001b[0;34m:\u001b[0m \u001b[0mres\u001b[0m\u001b[0;34m[\u001b[0m\u001b[0;36m1\u001b[0m\u001b[0;34m]\u001b[0m\u001b[0;34m[\u001b[0m\u001b[0mi\u001b[0m\u001b[0;34m]\u001b[0m \u001b[0;32mfor\u001b[0m \u001b[0mi\u001b[0m\u001b[0;34m,\u001b[0m\u001b[0mj\u001b[0m \u001b[0;32min\u001b[0m \u001b[0menumerate\u001b[0m\u001b[0;34m(\u001b[0m\u001b[0min_symbols\u001b[0m\u001b[0;34m)\u001b[0m\u001b[0;34m}\u001b[0m\u001b[0;34m)\u001b[0m\u001b[0;34m\u001b[0m\u001b[0;34m\u001b[0m\u001b[0m\n\u001b[0m\u001b[1;32m      2\u001b[0m \u001b[0mrqc\u001b[0m\u001b[0;34m\u001b[0m\u001b[0;34m\u001b[0m\u001b[0m\n",
      "\u001b[0;32m~/Documents/qml-hep-lhc/qenv/lib/python3.7/site-packages/numpy/ma/core.py\u001b[0m in \u001b[0;36m__getitem__\u001b[0;34m(self, indx)\u001b[0m\n\u001b[1;32m   3222\u001b[0m         \u001b[0;31m# mask of being reshaped if it hasn't been set up properly yet\u001b[0m\u001b[0;34m\u001b[0m\u001b[0;34m\u001b[0m\u001b[0;34m\u001b[0m\u001b[0m\n\u001b[1;32m   3223\u001b[0m         \u001b[0;31m# So it's easier to stick to the current version\u001b[0m\u001b[0;34m\u001b[0m\u001b[0;34m\u001b[0m\u001b[0;34m\u001b[0m\u001b[0m\n\u001b[0;32m-> 3224\u001b[0;31m         \u001b[0mdout\u001b[0m \u001b[0;34m=\u001b[0m \u001b[0mself\u001b[0m\u001b[0;34m.\u001b[0m\u001b[0mdata\u001b[0m\u001b[0;34m[\u001b[0m\u001b[0mindx\u001b[0m\u001b[0;34m]\u001b[0m\u001b[0;34m\u001b[0m\u001b[0;34m\u001b[0m\u001b[0m\n\u001b[0m\u001b[1;32m   3225\u001b[0m         \u001b[0m_mask\u001b[0m \u001b[0;34m=\u001b[0m \u001b[0mself\u001b[0m\u001b[0;34m.\u001b[0m\u001b[0m_mask\u001b[0m\u001b[0;34m\u001b[0m\u001b[0;34m\u001b[0m\u001b[0m\n\u001b[1;32m   3226\u001b[0m \u001b[0;34m\u001b[0m\u001b[0m\n",
      "\u001b[0;31mIndexError\u001b[0m: index 1 is out of bounds for axis 0 with size 1"
     ]
    }
   ],
   "source": [
    "rqc = cirq.resolve_parameters(qc, { j: res[1][i] for i,j in enumerate(in_symbols)})\n",
    "rqc"
   ]
  },
  {
   "cell_type": "code",
   "execution_count": 18,
   "id": "3b3961fa",
   "metadata": {
    "ExecuteTime": {
     "end_time": "2022-06-24T04:50:33.926290Z",
     "start_time": "2022-06-24T04:50:33.741809Z"
    }
   },
   "outputs": [
    {
     "data": {
      "text/plain": [
       "{3: 0.5394, 2: 0.2949, 1: 0.1321, 0: 0.0336}"
      ]
     },
     "execution_count": 18,
     "metadata": {},
     "output_type": "execute_result"
    }
   ],
   "source": [
    "s=cirq.Simulator()\n",
    "shots = 10000\n",
    "samples=s.run(rqc, repetitions=shots)\n",
    "out = dict(samples.histogram(key=\"result\"))\n",
    "for key, value in out.items():\n",
    "    out[key] = value/shots\n",
    "out"
   ]
  },
  {
   "cell_type": "code",
   "execution_count": 62,
   "id": "f61cd7ce",
   "metadata": {
    "ExecuteTime": {
     "end_time": "2022-06-24T06:29:54.717598Z",
     "start_time": "2022-06-24T06:29:54.707109Z"
    }
   },
   "outputs": [],
   "source": [
    "qubits = cirq.GridQubit.rect(1,3)\n",
    "qc = cirq.Circuit()\n",
    "x = sp.symbols('x0:3')\n",
    "qc.append(cirq.rx(x[0]*x[1])(qubits[0]))\n",
    "qc.append(cirq.rx(x[1]*x[2])(qubits[1]))\n",
    "qc.append(cirq.rx(x[2]*x[0])(qubits[2]))"
   ]
  },
  {
   "cell_type": "code",
   "execution_count": 63,
   "id": "8b462412",
   "metadata": {
    "ExecuteTime": {
     "end_time": "2022-06-24T06:29:55.119652Z",
     "start_time": "2022-06-24T06:29:55.098224Z"
    }
   },
   "outputs": [
    {
     "data": {
      "text/html": [
       "<pre style=\"overflow: auto; white-space: pre;\">(0, 0): ───Rx(x0*x1)───\n",
       "\n",
       "(0, 1): ───Rx(x1*x2)───\n",
       "\n",
       "(0, 2): ───Rx(x0*x2)───</pre>"
      ],
      "text/plain": [
       "(0, 0): ───Rx(x0*x1)───\n",
       "\n",
       "(0, 1): ───Rx(x1*x2)───\n",
       "\n",
       "(0, 2): ───Rx(x0*x2)───"
      ]
     },
     "execution_count": 63,
     "metadata": {},
     "output_type": "execute_result"
    }
   ],
   "source": [
    "qc"
   ]
  },
  {
   "cell_type": "code",
   "execution_count": 64,
   "id": "29515006",
   "metadata": {
    "ExecuteTime": {
     "end_time": "2022-06-24T06:29:56.906406Z",
     "start_time": "2022-06-24T06:29:56.859379Z"
    }
   },
   "outputs": [],
   "source": [
    "def get_circuit_qubits(circuit):\n",
    "    \"\"\"Returns a list of qubits in a circuit\n",
    "    \n",
    "    Arguments:\n",
    "        circuit: cirq.Circuit, quple.QuantumCircuit\n",
    "            The circuit to find the associated qubits\n",
    "    Returns:\n",
    "        A list of qubits in the circuit\n",
    "    \"\"\"      \n",
    "    all_qubits = set()\n",
    "    for moment in circuit:\n",
    "        for op in moment:\n",
    "            all_qubits |= set(op._qubits)\n",
    "    return sorted(list(all_qubits))\n",
    "\n",
    "\n",
    "def natural_key(symbol):\n",
    "    '''Keys for human sorting\n",
    "    Reference:\n",
    "    http://nedbatchelder.com/blog/200712/human_sorting.html\n",
    "    '''\n",
    "    return [atoi(s) for s in re.split(r'(\\d+)', symbol.name)]\n",
    "\n",
    "\n",
    "def get_circuit_symbols(circuit, to_str=True, sort_key=natural_key):\n",
    "    \"\"\"Returns a list of parameter symbols in a circuit\n",
    "    \n",
    "    Arguments:\n",
    "        circuit: cirq.Circuit, quple.QuantumCircuit\n",
    "            The circuit to find the associated parameter symbols\n",
    "        to_str: boolean, default=True\n",
    "            Whether to convert symbol to strings\n",
    "        sort_key:\n",
    "            Sort key for the list of symbols\n",
    "    Returns:\n",
    "        A list of symbols in the circuit\n",
    "    \"\"\"\n",
    "    all_symbols = set()\n",
    "    for moment in circuit:\n",
    "        for op in moment:\n",
    "            if cirq.is_parameterized(op):\n",
    "                all_symbols |= symbols_in_op(op.gate)\n",
    "    sorted_symbols = sorted(list(all_symbols), key=sort_key)\n",
    "    if to_str:\n",
    "        return [str(x) for x in sorted_symbols]\n",
    "    return sorted_symbols\n",
    "\n",
    "def symbols_in_op(op):\n",
    "    \"\"\"Returns the set of symbols associated with a parameterized gate operation.\n",
    "    \n",
    "    Arguments:\n",
    "        op: cirq.Gate\n",
    "            The parameterised gate operation to find the set of symbols associated with\n",
    "    \n",
    "    Returns:\n",
    "        Set of symbols associated with the parameterized gate operation\n",
    "    \"\"\"\n",
    "    if isinstance(op, cirq.EigenGate):\n",
    "        return op.exponent.free_symbols\n",
    "\n",
    "    if isinstance(op, cirq.FSimGate):\n",
    "        ret = set()\n",
    "        if isinstance(op.theta, sympy.Basic):\n",
    "            ret |= op.theta.free_symbols\n",
    "        if isinstance(op.phi, sympy.Basic):\n",
    "            ret |= op.phi.free_symbols\n",
    "        return ret\n",
    "\n",
    "    if isinstance(op, cirq.PhasedXPowGate):\n",
    "        ret = set()\n",
    "        if isinstance(op.exponent, sympy.Basic):\n",
    "            ret |= op.exponent.free_symbols\n",
    "        if isinstance(op.phase_exponent, sympy.Basic):\n",
    "            ret |= op.phase_exponent.free_symbols\n",
    "        return ret\n",
    "\n",
    "    raise ValueError(\"Attempted to scan for symbols in circuit with unsupported\"\n",
    "                     \" ops inside. Expected op found in tfq.get_supported_gates\"\n",
    "                     \" but found: \".format(str(op)))\n",
    "\n",
    "    \n",
    "def atoi(symbol):\n",
    "    return int(symbol) if symbol.isdigit() else symbol"
   ]
  },
  {
   "cell_type": "code",
   "execution_count": 82,
   "id": "75b05754",
   "metadata": {
    "ExecuteTime": {
     "end_time": "2022-06-24T06:40:56.861374Z",
     "start_time": "2022-06-24T06:40:56.842888Z"
    }
   },
   "outputs": [
    {
     "data": {
      "text/plain": [
       "cirq.circuits.circuit.Circuit"
      ]
     },
     "execution_count": 82,
     "metadata": {},
     "output_type": "execute_result"
    }
   ],
   "source": [
    "type(cirq.flatten(qc)[0])"
   ]
  },
  {
   "cell_type": "code",
   "execution_count": 94,
   "id": "89518134",
   "metadata": {
    "ExecuteTime": {
     "end_time": "2022-06-24T06:43:29.649049Z",
     "start_time": "2022-06-24T06:43:29.639683Z"
    }
   },
   "outputs": [],
   "source": [
    "cq , emap = cirq.flatten(qc)"
   ]
  },
  {
   "cell_type": "code",
   "execution_count": 95,
   "id": "5bdaeeab",
   "metadata": {
    "ExecuteTime": {
     "end_time": "2022-06-24T06:43:29.949280Z",
     "start_time": "2022-06-24T06:43:29.930326Z"
    }
   },
   "outputs": [
    {
     "data": {
      "text/html": [
       "<pre style=\"overflow: auto; white-space: pre;\">(0, 0): ───Rx(pi*&lt;x0*x1/pi&gt;)───\n",
       "\n",
       "(0, 1): ───Rx(pi*&lt;x1*x2/pi&gt;)───\n",
       "\n",
       "(0, 2): ───Rx(pi*&lt;x0*x2/pi&gt;)───</pre>"
      ],
      "text/plain": [
       "(0, 0): ───Rx(pi*<x0*x1/pi>)───\n",
       "\n",
       "(0, 1): ───Rx(pi*<x1*x2/pi>)───\n",
       "\n",
       "(0, 2): ───Rx(pi*<x0*x2/pi>)───"
      ]
     },
     "execution_count": 95,
     "metadata": {},
     "output_type": "execute_result"
    }
   ],
   "source": [
    "cq"
   ]
  },
  {
   "cell_type": "code",
   "execution_count": 96,
   "id": "58f959b2",
   "metadata": {
    "ExecuteTime": {
     "end_time": "2022-06-24T06:43:30.270006Z",
     "start_time": "2022-06-24T06:43:30.249325Z"
    }
   },
   "outputs": [
    {
     "data": {
      "text/plain": [
       "cirq.ExpressionMap({x0*x1/pi: <x0*x1/pi>, x1*x2/pi: <x1*x2/pi>, x0*x2/pi: <x0*x2/pi>})"
      ]
     },
     "execution_count": 96,
     "metadata": {},
     "output_type": "execute_result"
    }
   ],
   "source": [
    "emap"
   ]
  },
  {
   "cell_type": "code",
   "execution_count": 97,
   "id": "2f9f583d",
   "metadata": {
    "ExecuteTime": {
     "end_time": "2022-06-24T06:43:30.648877Z",
     "start_time": "2022-06-24T06:43:30.605913Z"
    }
   },
   "outputs": [
    {
     "data": {
      "text/plain": [
       "<tf.Tensor: shape=(1,), dtype=string, numpy=\n",
       "array([b'\\n\\x0e\\n\\x0ctfq_gate_set\\x12\\xb2\\x03\\x08\\x01\\x12\\xad\\x03\\n\\x8c\\x01\\n\\x04\\n\\x02XP\\x12\\x16\\n\\x0econtrol_values\\x12\\x04\\n\\x02\\x1a\\x00\\x12\\x16\\n\\x0econtrol_qubits\\x12\\x04\\n\\x02\\x1a\\x00\\x12\\x1a\\n\\x0fexponent_scalar\\x12\\x07\\n\\x05\\r\\x00\\x00\\x80?\\x12\\x18\\n\\x08exponent\\x12\\x0c\\x12\\n<x0*x1/pi>\\x12\\x17\\n\\x0cglobal_shift\\x12\\x07\\n\\x05\\r\\x00\\x00\\x00\\xbf\\x1a\\x05\\x12\\x030_0\\n\\x8c\\x01\\n\\x04\\n\\x02XP\\x12\\x16\\n\\x0econtrol_qubits\\x12\\x04\\n\\x02\\x1a\\x00\\x12\\x16\\n\\x0econtrol_values\\x12\\x04\\n\\x02\\x1a\\x00\\x12\\x18\\n\\x08exponent\\x12\\x0c\\x12\\n<x1*x2/pi>\\x12\\x1a\\n\\x0fexponent_scalar\\x12\\x07\\n\\x05\\r\\x00\\x00\\x80?\\x12\\x17\\n\\x0cglobal_shift\\x12\\x07\\n\\x05\\r\\x00\\x00\\x00\\xbf\\x1a\\x05\\x12\\x030_1\\n\\x8c\\x01\\n\\x04\\n\\x02XP\\x12\\x17\\n\\x0cglobal_shift\\x12\\x07\\n\\x05\\r\\x00\\x00\\x00\\xbf\\x12\\x16\\n\\x0econtrol_qubits\\x12\\x04\\n\\x02\\x1a\\x00\\x12\\x1a\\n\\x0fexponent_scalar\\x12\\x07\\n\\x05\\r\\x00\\x00\\x80?\\x12\\x18\\n\\x08exponent\\x12\\x0c\\x12\\n<x0*x2/pi>\\x12\\x16\\n\\x0econtrol_values\\x12\\x04\\n\\x02\\x1a\\x00\\x1a\\x05\\x12\\x030_2'],\n",
       "      dtype=object)>"
      ]
     },
     "execution_count": 97,
     "metadata": {},
     "output_type": "execute_result"
    }
   ],
   "source": [
    "util.convert_to_tensor([cq])"
   ]
  },
  {
   "cell_type": "code",
   "execution_count": 100,
   "id": "d02eef54",
   "metadata": {
    "ExecuteTime": {
     "end_time": "2022-06-24T06:44:06.105556Z",
     "start_time": "2022-06-24T06:44:06.080772Z"
    }
   },
   "outputs": [
    {
     "data": {
      "text/html": [
       "<pre style=\"overflow: auto; white-space: pre;\">(0, 0): ───Rx(pi*&lt;x0*x1/pi&gt;)───M(&#x27;result&#x27;)───\n",
       "                               │\n",
       "(0, 1): ───Rx(pi*&lt;x1*x2/pi&gt;)───M─────────────\n",
       "                               │\n",
       "(0, 2): ───Rx(pi*&lt;x0*x2/pi&gt;)───M─────────────</pre>"
      ],
      "text/plain": [
       "(0, 0): ───Rx(pi*<x0*x1/pi>)───M('result')───\n",
       "                               │\n",
       "(0, 1): ───Rx(pi*<x1*x2/pi>)───M─────────────\n",
       "                               │\n",
       "(0, 2): ───Rx(pi*<x0*x2/pi>)───M─────────────"
      ]
     },
     "execution_count": 100,
     "metadata": {},
     "output_type": "execute_result"
    }
   ],
   "source": [
    "rqc = cirq.resolve_parameters(cq, { j: 1 for i,j in enumerate(x)})\n",
    "rqc += cirq.measure(*qubits, key='result')\n",
    "rqc"
   ]
  },
  {
   "cell_type": "code",
   "execution_count": 101,
   "id": "5f15e993",
   "metadata": {
    "ExecuteTime": {
     "end_time": "2022-06-24T06:44:11.984199Z",
     "start_time": "2022-06-24T06:44:11.937335Z"
    }
   },
   "outputs": [
    {
     "ename": "ValueError",
     "evalue": "Circuit contains ops whose symbols were not specified in parameter sweep. Ops: [cirq.Rx(rads=sympy.Mul(sympy.pi, sympy.Symbol('<x0*x1/pi>'))).on(cirq.GridQubit(0, 0)), cirq.Rx(rads=sympy.Mul(sympy.pi, sympy.Symbol('<x1*x2/pi>'))).on(cirq.GridQubit(0, 1)), cirq.Rx(rads=sympy.Mul(sympy.pi, sympy.Symbol('<x0*x2/pi>'))).on(cirq.GridQubit(0, 2))]",
     "output_type": "error",
     "traceback": [
      "\u001b[0;31m---------------------------------------------------------------------------\u001b[0m",
      "\u001b[0;31mValueError\u001b[0m                                Traceback (most recent call last)",
      "\u001b[0;32m/tmp/ipykernel_10866/90676433.py\u001b[0m in \u001b[0;36m<module>\u001b[0;34m\u001b[0m\n\u001b[1;32m      1\u001b[0m \u001b[0ms\u001b[0m\u001b[0;34m=\u001b[0m\u001b[0mcirq\u001b[0m\u001b[0;34m.\u001b[0m\u001b[0mSimulator\u001b[0m\u001b[0;34m(\u001b[0m\u001b[0;34m)\u001b[0m\u001b[0;34m\u001b[0m\u001b[0;34m\u001b[0m\u001b[0m\n\u001b[1;32m      2\u001b[0m \u001b[0mshots\u001b[0m \u001b[0;34m=\u001b[0m \u001b[0;36m10000\u001b[0m\u001b[0;34m\u001b[0m\u001b[0;34m\u001b[0m\u001b[0m\n\u001b[0;32m----> 3\u001b[0;31m \u001b[0msamples\u001b[0m\u001b[0;34m=\u001b[0m\u001b[0ms\u001b[0m\u001b[0;34m.\u001b[0m\u001b[0mrun\u001b[0m\u001b[0;34m(\u001b[0m\u001b[0mrqc\u001b[0m\u001b[0;34m,\u001b[0m \u001b[0mrepetitions\u001b[0m\u001b[0;34m=\u001b[0m\u001b[0mshots\u001b[0m\u001b[0;34m)\u001b[0m\u001b[0;34m\u001b[0m\u001b[0;34m\u001b[0m\u001b[0m\n\u001b[0m\u001b[1;32m      4\u001b[0m \u001b[0mout\u001b[0m \u001b[0;34m=\u001b[0m \u001b[0mdict\u001b[0m\u001b[0;34m(\u001b[0m\u001b[0msamples\u001b[0m\u001b[0;34m.\u001b[0m\u001b[0mhistogram\u001b[0m\u001b[0;34m(\u001b[0m\u001b[0mkey\u001b[0m\u001b[0;34m=\u001b[0m\u001b[0;34m\"result\"\u001b[0m\u001b[0;34m)\u001b[0m\u001b[0;34m)\u001b[0m\u001b[0;34m\u001b[0m\u001b[0;34m\u001b[0m\u001b[0m\n\u001b[1;32m      5\u001b[0m \u001b[0;32mfor\u001b[0m \u001b[0mkey\u001b[0m\u001b[0;34m,\u001b[0m \u001b[0mvalue\u001b[0m \u001b[0;32min\u001b[0m \u001b[0mout\u001b[0m\u001b[0;34m.\u001b[0m\u001b[0mitems\u001b[0m\u001b[0;34m(\u001b[0m\u001b[0;34m)\u001b[0m\u001b[0;34m:\u001b[0m\u001b[0;34m\u001b[0m\u001b[0;34m\u001b[0m\u001b[0m\n",
      "\u001b[0;32m~/Documents/qml-hep-lhc/qenv/lib/python3.7/site-packages/cirq/work/sampler.py\u001b[0m in \u001b[0;36mrun\u001b[0;34m(self, program, param_resolver, repetitions)\u001b[0m\n\u001b[1;32m     51\u001b[0m             \u001b[0mResult\u001b[0m \u001b[0;32mfor\u001b[0m \u001b[0ma\u001b[0m \u001b[0mrun\u001b[0m\u001b[0;34m.\u001b[0m\u001b[0;34m\u001b[0m\u001b[0;34m\u001b[0m\u001b[0m\n\u001b[1;32m     52\u001b[0m         \"\"\"\n\u001b[0;32m---> 53\u001b[0;31m         \u001b[0;32mreturn\u001b[0m \u001b[0mself\u001b[0m\u001b[0;34m.\u001b[0m\u001b[0mrun_sweep\u001b[0m\u001b[0;34m(\u001b[0m\u001b[0mprogram\u001b[0m\u001b[0;34m,\u001b[0m \u001b[0mparam_resolver\u001b[0m\u001b[0;34m,\u001b[0m \u001b[0mrepetitions\u001b[0m\u001b[0;34m)\u001b[0m\u001b[0;34m[\u001b[0m\u001b[0;36m0\u001b[0m\u001b[0;34m]\u001b[0m\u001b[0;34m\u001b[0m\u001b[0;34m\u001b[0m\u001b[0m\n\u001b[0m\u001b[1;32m     54\u001b[0m \u001b[0;34m\u001b[0m\u001b[0m\n\u001b[1;32m     55\u001b[0m     async def run_async(\n",
      "\u001b[0;32m~/Documents/qml-hep-lhc/qenv/lib/python3.7/site-packages/cirq/sim/simulator.py\u001b[0m in \u001b[0;36mrun_sweep\u001b[0;34m(self, program, params, repetitions)\u001b[0m\n\u001b[1;32m     75\u001b[0m         \u001b[0mrepetitions\u001b[0m\u001b[0;34m:\u001b[0m \u001b[0mint\u001b[0m \u001b[0;34m=\u001b[0m \u001b[0;36m1\u001b[0m\u001b[0;34m,\u001b[0m\u001b[0;34m\u001b[0m\u001b[0;34m\u001b[0m\u001b[0m\n\u001b[1;32m     76\u001b[0m     ) -> Sequence['cirq.Result']:\n\u001b[0;32m---> 77\u001b[0;31m         \u001b[0;32mreturn\u001b[0m \u001b[0mlist\u001b[0m\u001b[0;34m(\u001b[0m\u001b[0mself\u001b[0m\u001b[0;34m.\u001b[0m\u001b[0mrun_sweep_iter\u001b[0m\u001b[0;34m(\u001b[0m\u001b[0mprogram\u001b[0m\u001b[0;34m,\u001b[0m \u001b[0mparams\u001b[0m\u001b[0;34m,\u001b[0m \u001b[0mrepetitions\u001b[0m\u001b[0;34m)\u001b[0m\u001b[0;34m)\u001b[0m\u001b[0;34m\u001b[0m\u001b[0;34m\u001b[0m\u001b[0m\n\u001b[0m\u001b[1;32m     78\u001b[0m \u001b[0;34m\u001b[0m\u001b[0m\n\u001b[1;32m     79\u001b[0m     def run_sweep_iter(\n",
      "\u001b[0;32m~/Documents/qml-hep-lhc/qenv/lib/python3.7/site-packages/cirq/sim/simulator.py\u001b[0m in \u001b[0;36mrun_sweep_iter\u001b[0;34m(self, program, params, repetitions)\u001b[0m\n\u001b[1;32m    110\u001b[0m             \u001b[0;32melse\u001b[0m\u001b[0;34m:\u001b[0m\u001b[0;34m\u001b[0m\u001b[0;34m\u001b[0m\u001b[0m\n\u001b[1;32m    111\u001b[0m                 records = self._run(\n\u001b[0;32m--> 112\u001b[0;31m                     \u001b[0mcircuit\u001b[0m\u001b[0;34m=\u001b[0m\u001b[0mprogram\u001b[0m\u001b[0;34m,\u001b[0m \u001b[0mparam_resolver\u001b[0m\u001b[0;34m=\u001b[0m\u001b[0mparam_resolver\u001b[0m\u001b[0;34m,\u001b[0m \u001b[0mrepetitions\u001b[0m\u001b[0;34m=\u001b[0m\u001b[0mrepetitions\u001b[0m\u001b[0;34m\u001b[0m\u001b[0;34m\u001b[0m\u001b[0m\n\u001b[0m\u001b[1;32m    113\u001b[0m                 )\n\u001b[1;32m    114\u001b[0m                 \u001b[0mflat_records\u001b[0m \u001b[0;34m=\u001b[0m \u001b[0;32mFalse\u001b[0m\u001b[0;34m\u001b[0m\u001b[0;34m\u001b[0m\u001b[0m\n",
      "\u001b[0;32m~/Documents/qml-hep-lhc/qenv/lib/python3.7/site-packages/cirq/sim/simulator_base.py\u001b[0m in \u001b[0;36m_run\u001b[0;34m(self, circuit, param_resolver, repetitions)\u001b[0m\n\u001b[1;32m    246\u001b[0m         \u001b[0mparam_resolver\u001b[0m \u001b[0;34m=\u001b[0m \u001b[0mparam_resolver\u001b[0m \u001b[0;32mor\u001b[0m \u001b[0mstudy\u001b[0m\u001b[0;34m.\u001b[0m\u001b[0mParamResolver\u001b[0m\u001b[0;34m(\u001b[0m\u001b[0;34m{\u001b[0m\u001b[0;34m}\u001b[0m\u001b[0;34m)\u001b[0m\u001b[0;34m\u001b[0m\u001b[0;34m\u001b[0m\u001b[0m\n\u001b[1;32m    247\u001b[0m         \u001b[0mresolved_circuit\u001b[0m \u001b[0;34m=\u001b[0m \u001b[0mprotocols\u001b[0m\u001b[0;34m.\u001b[0m\u001b[0mresolve_parameters\u001b[0m\u001b[0;34m(\u001b[0m\u001b[0mcircuit\u001b[0m\u001b[0;34m,\u001b[0m \u001b[0mparam_resolver\u001b[0m\u001b[0;34m)\u001b[0m\u001b[0;34m\u001b[0m\u001b[0;34m\u001b[0m\u001b[0m\n\u001b[0;32m--> 248\u001b[0;31m         \u001b[0mcheck_all_resolved\u001b[0m\u001b[0;34m(\u001b[0m\u001b[0mresolved_circuit\u001b[0m\u001b[0;34m)\u001b[0m\u001b[0;34m\u001b[0m\u001b[0;34m\u001b[0m\u001b[0m\n\u001b[0m\u001b[1;32m    249\u001b[0m         \u001b[0mqubits\u001b[0m \u001b[0;34m=\u001b[0m \u001b[0mtuple\u001b[0m\u001b[0;34m(\u001b[0m\u001b[0msorted\u001b[0m\u001b[0;34m(\u001b[0m\u001b[0mresolved_circuit\u001b[0m\u001b[0;34m.\u001b[0m\u001b[0mall_qubits\u001b[0m\u001b[0;34m(\u001b[0m\u001b[0;34m)\u001b[0m\u001b[0;34m)\u001b[0m\u001b[0;34m)\u001b[0m\u001b[0;34m\u001b[0m\u001b[0;34m\u001b[0m\u001b[0m\n\u001b[1;32m    250\u001b[0m         \u001b[0mact_on_args\u001b[0m \u001b[0;34m=\u001b[0m \u001b[0mself\u001b[0m\u001b[0;34m.\u001b[0m\u001b[0m_create_act_on_args\u001b[0m\u001b[0;34m(\u001b[0m\u001b[0;36m0\u001b[0m\u001b[0;34m,\u001b[0m \u001b[0mqubits\u001b[0m\u001b[0;34m)\u001b[0m\u001b[0;34m\u001b[0m\u001b[0;34m\u001b[0m\u001b[0m\n",
      "\u001b[0;32m~/Documents/qml-hep-lhc/qenv/lib/python3.7/site-packages/cirq/sim/simulator.py\u001b[0m in \u001b[0;36mcheck_all_resolved\u001b[0;34m(circuit)\u001b[0m\n\u001b[1;32m   1022\u001b[0m         raise ValueError(\n\u001b[1;32m   1023\u001b[0m             \u001b[0;34m'Circuit contains ops whose symbols were not specified in '\u001b[0m\u001b[0;34m\u001b[0m\u001b[0;34m\u001b[0m\u001b[0m\n\u001b[0;32m-> 1024\u001b[0;31m             \u001b[0;34m'parameter sweep. Ops: {}'\u001b[0m\u001b[0;34m.\u001b[0m\u001b[0mformat\u001b[0m\u001b[0;34m(\u001b[0m\u001b[0munresolved\u001b[0m\u001b[0;34m)\u001b[0m\u001b[0;34m\u001b[0m\u001b[0;34m\u001b[0m\u001b[0m\n\u001b[0m\u001b[1;32m   1025\u001b[0m         )\n\u001b[1;32m   1026\u001b[0m \u001b[0;34m\u001b[0m\u001b[0m\n",
      "\u001b[0;31mValueError\u001b[0m: Circuit contains ops whose symbols were not specified in parameter sweep. Ops: [cirq.Rx(rads=sympy.Mul(sympy.pi, sympy.Symbol('<x0*x1/pi>'))).on(cirq.GridQubit(0, 0)), cirq.Rx(rads=sympy.Mul(sympy.pi, sympy.Symbol('<x1*x2/pi>'))).on(cirq.GridQubit(0, 1)), cirq.Rx(rads=sympy.Mul(sympy.pi, sympy.Symbol('<x0*x2/pi>'))).on(cirq.GridQubit(0, 2))]"
     ]
    }
   ],
   "source": [
    "s=cirq.Simulator()\n",
    "shots = 10000\n",
    "samples=s.run(rqc, repetitions=shots)\n",
    "out = dict(samples.histogram(key=\"result\"))\n",
    "for key, value in out.items():\n",
    "    out[key] = value/shots\n",
    "out"
   ]
  },
  {
   "cell_type": "code",
   "execution_count": 102,
   "id": "b5bf9c3d",
   "metadata": {
    "ExecuteTime": {
     "end_time": "2022-06-24T06:51:05.069359Z",
     "start_time": "2022-06-24T06:51:05.043086Z"
    }
   },
   "outputs": [
    {
     "data": {
      "text/html": [
       "<pre style=\"overflow: auto; white-space: pre;\">(0, 0): ───Rx(pi*&lt;x0*x1/pi&gt;)───\n",
       "\n",
       "(0, 1): ───Rx(pi*&lt;x1*x2/pi&gt;)───\n",
       "\n",
       "(0, 2): ───Rx(pi*&lt;x0*x2/pi&gt;)───</pre>"
      ],
      "text/plain": [
       "(0, 0): ───Rx(pi*<x0*x1/pi>)───\n",
       "\n",
       "(0, 1): ───Rx(pi*<x1*x2/pi>)───\n",
       "\n",
       "(0, 2): ───Rx(pi*<x0*x2/pi>)───"
      ]
     },
     "execution_count": 102,
     "metadata": {},
     "output_type": "execute_result"
    }
   ],
   "source": [
    "cq"
   ]
  },
  {
   "cell_type": "code",
   "execution_count": 103,
   "id": "61296825",
   "metadata": {
    "ExecuteTime": {
     "end_time": "2022-06-24T06:51:09.512118Z",
     "start_time": "2022-06-24T06:51:09.488509Z"
    }
   },
   "outputs": [
    {
     "data": {
      "text/html": [
       "<pre style=\"overflow: auto; white-space: pre;\">(0, 0): ───Rx(x0*x1)───\n",
       "\n",
       "(0, 1): ───Rx(x1*x2)───\n",
       "\n",
       "(0, 2): ───Rx(x0*x2)───</pre>"
      ],
      "text/plain": [
       "(0, 0): ───Rx(x0*x1)───\n",
       "\n",
       "(0, 1): ───Rx(x1*x2)───\n",
       "\n",
       "(0, 2): ───Rx(x0*x2)───"
      ]
     },
     "execution_count": 103,
     "metadata": {},
     "output_type": "execute_result"
    }
   ],
   "source": [
    "qc"
   ]
  },
  {
   "cell_type": "code",
   "execution_count": 104,
   "id": "78756ae5",
   "metadata": {
    "ExecuteTime": {
     "end_time": "2022-06-24T06:51:15.699722Z",
     "start_time": "2022-06-24T06:51:15.672378Z"
    }
   },
   "outputs": [
    {
     "data": {
      "text/html": [
       "<pre style=\"overflow: auto; white-space: pre;\">(0, 0): ───Rx(pi*&lt;x0*x1/pi&gt;)───Rx(x0*x1)───\n",
       "\n",
       "(0, 1): ───Rx(pi*&lt;x1*x2/pi&gt;)───Rx(x1*x2)───\n",
       "\n",
       "(0, 2): ───Rx(pi*&lt;x0*x2/pi&gt;)───Rx(x0*x2)───</pre>"
      ],
      "text/plain": [
       "(0, 0): ───Rx(pi*<x0*x1/pi>)───Rx(x0*x1)───\n",
       "\n",
       "(0, 1): ───Rx(pi*<x1*x2/pi>)───Rx(x1*x2)───\n",
       "\n",
       "(0, 2): ───Rx(pi*<x0*x2/pi>)───Rx(x0*x2)───"
      ]
     },
     "execution_count": 104,
     "metadata": {},
     "output_type": "execute_result"
    }
   ],
   "source": [
    "cq + qc"
   ]
  },
  {
   "cell_type": "code",
   "execution_count": 111,
   "id": "8d94f540",
   "metadata": {
    "ExecuteTime": {
     "end_time": "2022-06-24T08:13:18.643882Z",
     "start_time": "2022-06-24T08:13:18.626405Z"
    }
   },
   "outputs": [
    {
     "data": {
      "text/latex": [
       "$\\displaystyle \\left|{x_{0}}\\right|$"
      ],
      "text/plain": [
       "Abs(x0)"
      ]
     },
     "execution_count": 111,
     "metadata": {},
     "output_type": "execute_result"
    }
   ],
   "source": [
    "sp.Abs(x[0])"
   ]
  },
  {
   "cell_type": "code",
   "execution_count": 113,
   "id": "46aff1a0",
   "metadata": {
    "ExecuteTime": {
     "end_time": "2022-06-24T10:45:09.632494Z",
     "start_time": "2022-06-24T10:45:09.612809Z"
    }
   },
   "outputs": [
    {
     "data": {
      "text/plain": [
       "[cirq.Moment(\n",
       "     cirq.Rx(rads=sympy.Mul(sympy.Symbol('x0'), sympy.Symbol('x1'))).on(cirq.GridQubit(0, 0)),\n",
       "     cirq.Rx(rads=sympy.Mul(sympy.Symbol('x1'), sympy.Symbol('x2'))).on(cirq.GridQubit(0, 1)),\n",
       "     cirq.Rx(rads=sympy.Mul(sympy.Symbol('x0'), sympy.Symbol('x2'))).on(cirq.GridQubit(0, 2)),\n",
       " )]"
      ]
     },
     "execution_count": 113,
     "metadata": {},
     "output_type": "execute_result"
    }
   ],
   "source": [
    "qc."
   ]
  },
  {
   "cell_type": "code",
   "execution_count": null,
   "id": "461d4630",
   "metadata": {},
   "outputs": [],
   "source": []
  }
 ],
 "metadata": {
  "kernelspec": {
   "display_name": "Python (qenv)",
   "language": "python",
   "name": "qenv"
  },
  "language_info": {
   "codemirror_mode": {
    "name": "ipython",
    "version": 3
   },
   "file_extension": ".py",
   "mimetype": "text/x-python",
   "name": "python",
   "nbconvert_exporter": "python",
   "pygments_lexer": "ipython3",
   "version": "3.7.13"
  },
  "latex_envs": {
   "LaTeX_envs_menu_present": true,
   "autoclose": false,
   "autocomplete": true,
   "bibliofile": "biblio.bib",
   "cite_by": "apalike",
   "current_citInitial": 1,
   "eqLabelWithNumbers": true,
   "eqNumInitial": 1,
   "hotkeys": {
    "equation": "Ctrl-E",
    "itemize": "Ctrl-I"
   },
   "labels_anchors": false,
   "latex_user_defs": false,
   "report_style_numbering": false,
   "user_envs_cfg": false
  },
  "toc": {
   "base_numbering": 1,
   "nav_menu": {},
   "number_sections": true,
   "sideBar": true,
   "skip_h1_title": false,
   "title_cell": "Table of Contents",
   "title_sidebar": "Contents",
   "toc_cell": false,
   "toc_position": {},
   "toc_section_display": true,
   "toc_window_display": false
  }
 },
 "nbformat": 4,
 "nbformat_minor": 5
}
