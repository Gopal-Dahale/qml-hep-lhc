{
 "cells": [
  {
   "cell_type": "code",
   "execution_count": 1,
   "id": "d28a72a2",
   "metadata": {
    "ExecuteTime": {
     "end_time": "2022-10-23T17:04:36.073264Z",
     "start_time": "2022-10-23T17:04:33.030270Z"
    }
   },
   "outputs": [],
   "source": [
    "%load_ext autoreload\n",
    "%autoreload 2\n",
    "\n",
    "%matplotlib inline\n",
    "\n",
    "from importlib.util import find_spec\n",
    "if find_spec(\"qml_hep_lhc\") is None:\n",
    "    import sys\n",
    "    sys.path.append('../..')"
   ]
  },
  {
   "cell_type": "code",
   "execution_count": 2,
   "id": "7a7a9c90",
   "metadata": {
    "ExecuteTime": {
     "end_time": "2022-10-23T17:04:44.564147Z",
     "start_time": "2022-10-23T17:04:37.953673Z"
    }
   },
   "outputs": [
    {
     "name": "stderr",
     "output_type": "stream",
     "text": [
      "2022-10-23 22:34:39.219048: W tensorflow/stream_executor/platform/default/dso_loader.cc:64] Could not load dynamic library 'libcudart.so.11.0'; dlerror: libcudart.so.11.0: cannot open shared object file: No such file or directory\n",
      "2022-10-23 22:34:39.219079: I tensorflow/stream_executor/cuda/cudart_stub.cc:29] Ignore above cudart dlerror if you do not have a GPU set up on your machine.\n"
     ]
    }
   ],
   "source": [
    "from qml_hep_lhc.data import ElectronPhoton, MNIST, QuarkGluon\n",
    "from qml_hep_lhc.data.utils import tf_ds_to_numpy\n",
    "import argparse\n",
    "import wandb\n",
    "\n",
    "import pennylane as qml\n",
    "import jax.numpy as jnp\n",
    "import jax\n",
    "import optax\n",
    "from jax.nn.initializers import he_uniform\n",
    "from jax import grad, jit, vmap\n",
    "from jax import random\n",
    "import flax.linen as nn\n",
    "import tensorflow_datasets as tfds\n",
    "from tqdm import tqdm\n",
    "import numpy as np\n",
    "import tensorflow as tf\n",
    "\n",
    "# Added to silence some warnings.\n",
    "# from jax.config import config\n",
    "# config.update(\"jax_enable_x64\", True)\n",
    "\n",
    "import matplotlib.pyplot as plt\n",
    "import time"
   ]
  },
  {
   "cell_type": "code",
   "execution_count": 3,
   "id": "53cce28d",
   "metadata": {
    "ExecuteTime": {
     "end_time": "2022-10-23T17:04:44.659876Z",
     "start_time": "2022-10-23T17:04:44.568789Z"
    }
   },
   "outputs": [
    {
     "name": "stderr",
     "output_type": "stream",
     "text": [
      "WARNING:absl:No GPU/TPU found, falling back to CPU. (Set TF_CPP_MIN_LOG_LEVEL=0 and rerun for more info.)\n"
     ]
    },
    {
     "data": {
      "text/plain": [
       "[CpuDevice(id=0)]"
      ]
     },
     "execution_count": 3,
     "metadata": {},
     "output_type": "execute_result"
    }
   ],
   "source": [
    "jax.devices()"
   ]
  },
  {
   "cell_type": "code",
   "execution_count": 53,
   "id": "7a7944e9",
   "metadata": {
    "ExecuteTime": {
     "end_time": "2022-10-23T17:13:21.253408Z",
     "start_time": "2022-10-23T17:13:21.164244Z"
    }
   },
   "outputs": [],
   "source": [
    "args = argparse.Namespace()\n",
    "\n",
    "# Data\n",
    "args.center_crop = 0.7\n",
    "args.resize = [8,8]\n",
    "args.standardize = 1\n",
    "# args.power_transform = 1\n",
    "args.binary_data = [0,1]\n",
    "# args.percent_samples = 0.01\n",
    "# args.processed = 1\n",
    "args.dataset_type = '3'\n",
    "args.labels_to_categorical = 1\n",
    "args.batch_size = 128\n",
    "args.validation_split = 0.2\n",
    "# args.graph_conv = 1\n",
    "args.num_classes = 5\n",
    "\n",
    "# Base Model\n",
    "args.wandb = False\n",
    "args.epochs = 10\n",
    "args.learning_rate = 0.001\n",
    "\n",
    "# Quantum CNN Parameters\n",
    "args.n_layers = 1\n",
    "args.n_qubits = 1\n",
    "args.template = 'NQubitPQC'\n",
    "args.initializer = 'he_uniform'\n",
    "\n",
    "args.num_qconv_layers = 1\n",
    "args.qconv_dims = [1, 1]\n",
    "args.kernel_sizes = [(3,3), (3,3)]\n",
    "args.strides = [(1,1), (1,1)]\n",
    "args.paddings = [\"SAME\", \"SAME\"]\n",
    "\n",
    "args.clayer_sizes = [8, 2]"
   ]
  },
  {
   "cell_type": "code",
   "execution_count": 5,
   "id": "d347947e",
   "metadata": {
    "ExecuteTime": {
     "end_time": "2022-10-23T17:05:05.505341Z",
     "start_time": "2022-10-23T17:05:05.432512Z"
    }
   },
   "outputs": [],
   "source": [
    "if args.wandb:\n",
    "     wandb.init(project='qml-hep-lhc', config = vars(args))"
   ]
  },
  {
   "cell_type": "code",
   "execution_count": 6,
   "id": "ce4dec05",
   "metadata": {
    "ExecuteTime": {
     "end_time": "2022-10-23T17:05:23.397490Z",
     "start_time": "2022-10-23T17:05:19.651464Z"
    }
   },
   "outputs": [
    {
     "name": "stdout",
     "output_type": "stream",
     "text": [
      "Binarizing data...\n",
      "Binarizing data...\n",
      "Center cropping...\n",
      "Center cropping...\n",
      "Resizing data...\n",
      "Resizing data...\n",
      "Standardizing data...\n",
      "Converting labels to categorical...\n",
      "Converting labels to categorical...\n"
     ]
    },
    {
     "name": "stderr",
     "output_type": "stream",
     "text": [
      "2022-10-23 22:35:20.258896: E tensorflow/stream_executor/cuda/cuda_driver.cc:271] failed call to cuInit: CUDA_ERROR_NO_DEVICE: no CUDA-capable device is detected\n",
      "2022-10-23 22:35:20.258938: I tensorflow/stream_executor/cuda/cuda_diagnostics.cc:156] kernel driver does not appear to be running on this host (bhagvada): /proc/driver/nvidia/version does not exist\n",
      "2022-10-23 22:35:20.259361: I tensorflow/core/platform/cpu_feature_guard.cc:151] This TensorFlow binary is optimized with oneAPI Deep Neural Network Library (oneDNN) to use the following CPU instructions in performance-critical operations:  AVX2 FMA\n",
      "To enable them in other operations, rebuild TensorFlow with the appropriate compiler flags.\n"
     ]
    },
    {
     "name": "stdout",
     "output_type": "stream",
     "text": [
      "\n",
      "Dataset :MNIST\n",
      "╒════════╤══════════════════╤═════════════════╤═════════════════╤═══════════╕\n",
      "│ Data   │ Train size       │ Val size        │ Test size       │ Dims      │\n",
      "╞════════╪══════════════════╪═════════════════╪═════════════════╪═══════════╡\n",
      "│ X      │ (10132, 8, 8, 1) │ (2533, 8, 8, 1) │ (2115, 8, 8, 1) │ (8, 8, 1) │\n",
      "├────────┼──────────────────┼─────────────────┼─────────────────┼───────────┤\n",
      "│ y      │ (10132, 2)       │ (2533, 2)       │ (2115, 2)       │ (2,)      │\n",
      "╘════════╧══════════════════╧═════════════════╧═════════════════╧═══════════╛\n",
      "\n",
      "╒══════════════╤═══════╤═══════╤════════╤═══════╤══════════════════════════╕\n",
      "│ Type         │   Min │   Max │   Mean │   Std │ Samples for each class   │\n",
      "╞══════════════╪═══════╪═══════╪════════╪═══════╪══════════════════════════╡\n",
      "│ Train Images │ -1.58 │ 66.11 │   0    │  1    │ [5394, 4738]             │\n",
      "├──────────────┼───────┼───────┼────────┼───────┼──────────────────────────┤\n",
      "│ Val Images   │ -1.58 │ 26.2  │  -0    │  1    │ [1348, 1185]             │\n",
      "├──────────────┼───────┼───────┼────────┼───────┼──────────────────────────┤\n",
      "│ Test Images  │ -1.58 │ 27.55 │  -0.01 │  0.98 │ [1135, 980]              │\n",
      "╘══════════════╧═══════╧═══════╧════════╧═══════╧══════════════════════════╛\n",
      "\n",
      "\n"
     ]
    }
   ],
   "source": [
    "data = MNIST(args)\n",
    "# data.dims = (40,40,2)\n",
    "data.prepare_data()\n",
    "data.setup()\n",
    "print(data)"
   ]
  },
  {
   "cell_type": "markdown",
   "id": "74329b45",
   "metadata": {},
   "source": [
    "## Hyperparameters"
   ]
  },
  {
   "cell_type": "code",
   "execution_count": 21,
   "id": "884dcb6e",
   "metadata": {
    "ExecuteTime": {
     "end_time": "2022-10-23T17:06:01.501889Z",
     "start_time": "2022-10-23T17:06:01.419945Z"
    }
   },
   "outputs": [],
   "source": [
    "input_dims = data.config()['input_dims']"
   ]
  },
  {
   "cell_type": "code",
   "execution_count": 22,
   "id": "a29b23eb",
   "metadata": {
    "ExecuteTime": {
     "end_time": "2022-10-23T17:06:01.762634Z",
     "start_time": "2022-10-23T17:06:01.642402Z"
    }
   },
   "outputs": [
    {
     "data": {
      "text/plain": [
       "(8, 8, 1)"
      ]
     },
     "execution_count": 22,
     "metadata": {},
     "output_type": "execute_result"
    }
   ],
   "source": [
    "input_dims"
   ]
  },
  {
   "cell_type": "code",
   "execution_count": 23,
   "id": "485ef1fa",
   "metadata": {
    "ExecuteTime": {
     "end_time": "2022-10-23T17:06:02.047402Z",
     "start_time": "2022-10-23T17:06:01.896676Z"
    }
   },
   "outputs": [],
   "source": [
    "def get_out_shape(in_shape,f, k, s, padding):\n",
    "    in_shape = (1,) + in_shape\n",
    "    a = np.random.uniform(size = (in_shape))\n",
    "    dn = jax.lax.conv_dimension_numbers(a.shape, (1,1,k[0],k[1]), ('NHWC', 'IOHW', 'NHWC'))\n",
    "    out = jax.lax.conv_general_dilated_patches(lhs = a,\n",
    "                                           filter_shape= k,\n",
    "                                           window_strides=s,\n",
    "                                           padding=padding,\n",
    "                                           dimension_numbers=dn \n",
    "                                    )\n",
    "    return out.shape[1:3]+(f,)"
   ]
  },
  {
   "cell_type": "code",
   "execution_count": 60,
   "id": "b17ff04e",
   "metadata": {
    "ExecuteTime": {
     "end_time": "2022-10-23T17:16:18.707595Z",
     "start_time": "2022-10-23T17:16:18.524013Z"
    }
   },
   "outputs": [
    {
     "name": "stderr",
     "output_type": "stream",
     "text": [
      "/home/gopald/Documents/qml-hep-lhc/qenv/lib/python3.7/site-packages/jax/_src/lax/other.py:97: UserWarning: Explicitly requested dtype float64 requested in eye is not available, and will be truncated to dtype float32. To enable more dtypes, set the jax_enable_x64 configuration option or the JAX_ENABLE_X64 shell environment variable. See https://github.com/google/jax#current-gotchas for more.\n",
      "  rhs = jnp.eye(spatial_size, dtype=lhs.dtype).reshape(filter_shape * 2)\n"
     ]
    }
   ],
   "source": [
    "initializer = he_uniform()\n",
    "\n",
    "# Get qlayer sizes\n",
    "def get_qlayer_sizes(template, n_l, n_q, k_size):\n",
    "    if template == 'NQubitPQCSparse':\n",
    "        return {\n",
    "            'w': (n_l, n_q,3,np.prod(k_size)),\n",
    "            'b': (n_l,n_q,3,1)\n",
    "        }\n",
    "    elif template == 'NQubitPQC':\n",
    "        assert np.prod(k_size)%3 == 0\n",
    "        return {\n",
    "            'w': (n_l,n_q,np.prod(k_size)),\n",
    "            'b': (n_l,n_q,np.prod(k_size))\n",
    "        }\n",
    "\n",
    "def random_qlayer_params(size, key, filters, n_channels, n_c, scale=1e-1):\n",
    "    w =  initializer(key, size)\n",
    "    tile_shape = (n_c, filters,n_channels,) + (1,)*len(size)\n",
    "    w = jnp.tile(w, tile_shape)\n",
    "    return w\n",
    "\n",
    "def init_qnetwork_params(in_shape, filters, kernel_size, strides, padding, template, n_c, n_l, n_q, key):\n",
    "    n_channels = in_shape[-1]\n",
    "    sizes = get_qlayer_sizes(template, n_l,n_q, kernel_size)\n",
    "    keys = random.split(key, len(sizes))\n",
    "    return [random_qlayer_params(size, key, filters, n_channels, n_c) for size, key in zip(sizes.values(), keys)]\n",
    "\n",
    "# A helper function to randomly initialize weights and biases\n",
    "# for a dense neural network layer\n",
    "def random_clayer_params(n_c, m, n, key, scale=1e-1):\n",
    "    w_key, b_key = random.split(key)\n",
    "    return initializer(w_key, (n_c, n,m)), random.normal(b_key, (n,))\n",
    "\n",
    "# Initialize all layers for a fully-connected neural network with sizes \"sizes\"\n",
    "def init_network_params(sizes, n_c, key):\n",
    "    keys = random.split(key, len(sizes))\n",
    "    return [random_clayer_params(n_c, m, n, k) for m, n, k in zip(sizes[:-1], sizes[1:], keys)]\n",
    "\n",
    "num_qconv_layers = args.num_qconv_layers\n",
    "qconv_dims = args.qconv_dims\n",
    "kernel_sizes = args.kernel_sizes\n",
    "strides = args.strides\n",
    "paddings = args.paddings\n",
    "clayer_sizes = args.clayer_sizes\n",
    "num_classes = args.num_classes\n",
    "\n",
    "template = args.template\n",
    "n_layers = args.n_layers\n",
    "n_qubits = args.n_qubits\n",
    "\n",
    "\n",
    "in_shape = input_dims\n",
    "params = []\n",
    "for l in range(num_qconv_layers):\n",
    "    qconv_params = init_qnetwork_params(in_shape, \n",
    "                                         qconv_dims[l], \n",
    "                                         kernel_sizes[l], \n",
    "                                         strides[l], \n",
    "                                         paddings[l],\n",
    "                                         template, \n",
    "                                         num_classes,\n",
    "                                         n_layers,\n",
    "                                         n_qubits,\n",
    "                                         random.PRNGKey(l))\n",
    "    params += [qconv_params]\n",
    "    in_shape = get_out_shape(in_shape,qconv_dims[l],kernel_sizes[l],strides[l],paddings[l]) \n",
    "\n",
    "num_pixels = np.prod(in_shape)//(2**0)\n",
    "# num_pixels = 16*4*4\n",
    "clayer_sizes = [num_pixels] + clayer_sizes\n",
    "\n",
    "\n",
    "params += init_network_params(clayer_sizes, num_classes, random.PRNGKey(2))"
   ]
  },
  {
   "cell_type": "code",
   "execution_count": 61,
   "id": "5b368d89",
   "metadata": {
    "ExecuteTime": {
     "end_time": "2022-10-23T17:16:19.501525Z",
     "start_time": "2022-10-23T17:16:19.430355Z"
    }
   },
   "outputs": [
    {
     "name": "stdout",
     "output_type": "stream",
     "text": [
      "(5, 1, 1, 1, 1, 9) (5, 1, 1, 1, 1, 9) \n",
      "(5, 8, 64) (8,) \n",
      "(5, 2, 8) (2,) \n"
     ]
    }
   ],
   "source": [
    "for i in params:\n",
    "    for j in i:\n",
    "        print(j.shape, end = ' ')\n",
    "    print()"
   ]
  },
  {
   "cell_type": "markdown",
   "id": "0cc04079",
   "metadata": {},
   "source": [
    "## QLayers"
   ]
  },
  {
   "cell_type": "code",
   "execution_count": 26,
   "id": "b5a64b72",
   "metadata": {
    "ExecuteTime": {
     "end_time": "2022-10-23T17:06:03.040133Z",
     "start_time": "2022-10-23T17:06:02.947783Z"
    }
   },
   "outputs": [],
   "source": [
    "dev = qml.device('default.qubit.jax', wires=n_qubits)\n",
    "qubits =list(range(n_qubits))\n",
    "\n",
    "@jax.jit\n",
    "@qml.qnode(dev, interface='jax')\n",
    "def NQubitPQCSparse(inputs, w, b):\n",
    "    z = jnp.dot(w, jnp.transpose(inputs))+ b\n",
    "\n",
    "    for q in qubits:\n",
    "        qml.Hadamard(wires=q)\n",
    "    \n",
    "    for l in range(n_layers):\n",
    "        for q in qubits:\n",
    "            qml.Rot(z[l,q,0], z[l,q,1], z[l,q,2], wires= q)\n",
    "        if (l & 1):\n",
    "            for q0, q1 in zip(qubits[1::2], qubits[2::2] + [qubits[0]]):\n",
    "                qml.CZ((q0,q1))\n",
    "        else:\n",
    "            for q0, q1 in zip(qubits[0::2], qubits[1::2]):\n",
    "                qml.CZ((q0,q1))\n",
    "   \n",
    "    return [qml.expval(qml.PauliX(qubits[-1])@ qml.PauliY(qubits[-1])@ qml.PauliZ(qubits[-1]))]\n",
    "#     return [qml.expval(qml.PauliZ(q)) for q in qubits]"
   ]
  },
  {
   "cell_type": "code",
   "execution_count": 33,
   "id": "caaf2386",
   "metadata": {
    "ExecuteTime": {
     "end_time": "2022-10-23T17:06:31.523927Z",
     "start_time": "2022-10-23T17:06:31.418141Z"
    }
   },
   "outputs": [],
   "source": [
    "dev = qml.device('default.qubit.jax', wires=n_qubits)\n",
    "qubits =list(range(n_qubits))\n",
    "\n",
    "@jax.jit\n",
    "@qml.qnode(dev, interface='jax')\n",
    "def NQubitPQC(inputs, w, b):\n",
    "    steps = inputs.shape[-1]//3\n",
    "    for q in qubits:\n",
    "        qml.Hadamard(wires=q)\n",
    "    \n",
    "    for l in range(n_layers):\n",
    "        for q in qubits:\n",
    "            for i in range(steps):\n",
    "                z = jnp.transpose(jnp.multiply(inputs[:,3*i:3*i+3],w[l,q,3*i:3*i+3]) + b[l,q,3*i:3*i+3])\n",
    "                qml.RZ(z[0], wires=q)\n",
    "                qml.RY(z[1], wires=q)\n",
    "                qml.RZ(z[2], wires=q)\n",
    "                \n",
    "        if (l & 1):\n",
    "            for q0, q1 in zip(qubits[1::2], qubits[2::2] + [qubits[0]]):\n",
    "                qml.CZ((q0,q1))\n",
    "        else:\n",
    "            for q0, q1 in zip(qubits[0::2], qubits[1::2]):\n",
    "                qml.CZ((q0,q1))\n",
    "\n",
    "    return qml.expval(qml.PauliZ(qubits[-1]))\n",
    "#     return [qml.expval(qml.PauliZ(q)) for q in qubits]"
   ]
  },
  {
   "cell_type": "code",
   "execution_count": 34,
   "id": "4b084fed",
   "metadata": {
    "ExecuteTime": {
     "end_time": "2022-10-23T17:06:32.011983Z",
     "start_time": "2022-10-23T17:06:31.926354Z"
    }
   },
   "outputs": [],
   "source": [
    "def get_node(template):\n",
    "    if template == 'NQubitPQC':\n",
    "        return NQubitPQC\n",
    "    elif template == 'NQubitPQCSparse':\n",
    "        return NQubitPQCSparse"
   ]
  },
  {
   "cell_type": "code",
   "execution_count": 35,
   "id": "94ff6d15",
   "metadata": {
    "ExecuteTime": {
     "end_time": "2022-10-23T17:06:32.490397Z",
     "start_time": "2022-10-23T17:06:32.411204Z"
    }
   },
   "outputs": [],
   "source": [
    "def qconv_cop(x, w,b):\n",
    "#     print('cop', x.shape, w.shape, b.shape)\n",
    "    end_dim = x.shape[-1]\n",
    "    iters = x.shape[1:3]\n",
    "    x = jnp.reshape(x , (-1,)+ (end_dim,))\n",
    "    x = get_node(template)(x, w, b)\n",
    "    x = jnp.reshape(x, (-1,) + iters)\n",
    "    return x\n",
    "\n",
    "\n",
    "batched_qconv_cop = vmap(qconv_cop, in_axes=(3, 0, 0))\n",
    "\n",
    "def qconv_fop(x, w, b):\n",
    "#     print('op', x.shape, w.shape, b.shape)\n",
    "    x = batched_qconv_cop(x,w,b)\n",
    "#     print('op',x.shape)\n",
    "    x = jnp.sum(x, axis= 0)\n",
    "#     print('op',x.shape)\n",
    "    return x\n",
    "\n",
    "\n",
    "batched_qconv_fop = vmap(qconv_fop, in_axes=(None,0,0))\n",
    "\n",
    "def qconv(x, params, filters, kernel_size, stride, padding):\n",
    "    n_channels = x.shape[-1]\n",
    "    x = jnp.expand_dims(x,axis=0)\n",
    "    dn = jax.lax.conv_dimension_numbers(x.shape, \n",
    "                                        (1,1,kernel_size[0],kernel_size[1]), \n",
    "                                        ('NHWC', 'IOHW', 'NHWC'))\n",
    "    x = jax.lax.conv_general_dilated_patches(lhs = x,\n",
    "                                               filter_shape= kernel_size,\n",
    "                                               window_strides=stride,\n",
    "                                               padding=padding,\n",
    "                                               dimension_numbers=dn \n",
    "                                              )\n",
    "    iters = x.shape[1:3]\n",
    "    x = jnp.reshape(x, ((-1,) + iters + (n_channels,) + (np.prod(kernel_size),)))\n",
    "#     print('conv',x.shape, params[0].shape, params[1].shape)\n",
    "    x = batched_qconv_fop(x, params[0], params[1])\n",
    "#     print('conv',x.shape)\n",
    "    x = jnp.reshape(x, iters + (filters,))\n",
    "#     print('conv',x.shape)\n",
    "    return x"
   ]
  },
  {
   "cell_type": "code",
   "execution_count": 36,
   "id": "6da308ec",
   "metadata": {
    "ExecuteTime": {
     "end_time": "2022-10-23T17:06:32.988164Z",
     "start_time": "2022-10-23T17:06:32.861774Z"
    }
   },
   "outputs": [
    {
     "data": {
      "text/plain": [
       "(8, 8, 1)"
      ]
     },
     "execution_count": 36,
     "metadata": {},
     "output_type": "execute_result"
    }
   ],
   "source": [
    "random_flattened_image = random.normal(random.PRNGKey(1), input_dims)\n",
    "random_flattened_image = jnp.floor(random_flattened_image*10)\n",
    "random_flattened_image.shape"
   ]
  },
  {
   "cell_type": "code",
   "execution_count": 37,
   "id": "d365470d",
   "metadata": {
    "ExecuteTime": {
     "end_time": "2022-10-23T17:06:43.027360Z",
     "start_time": "2022-10-23T17:06:33.333553Z"
    }
   },
   "outputs": [
    {
     "name": "stdout",
     "output_type": "stream",
     "text": [
      "(8, 8, 1)\n"
     ]
    }
   ],
   "source": [
    "out = random_flattened_image\n",
    "for l in range(num_qconv_layers):\n",
    "    out = qconv(out, \n",
    "                params[l],\n",
    "                qconv_dims[l], \n",
    "                kernel_sizes[l], \n",
    "                strides[l], \n",
    "                paddings[l])\n",
    "    print(out.shape)"
   ]
  },
  {
   "cell_type": "code",
   "execution_count": 38,
   "id": "d0ff8700",
   "metadata": {
    "ExecuteTime": {
     "end_time": "2022-10-23T17:06:43.159401Z",
     "start_time": "2022-10-23T17:06:43.034431Z"
    }
   },
   "outputs": [
    {
     "name": "stdout",
     "output_type": "stream",
     "text": [
      "0: ──H──RZ(M0)──RY(M1)──RZ(M2)──RZ(M3)──RY(M4)──RZ(M5)──RZ(M6)──RY(M7)──RZ(M8)─┤  <Z>\n"
     ]
    }
   ],
   "source": [
    "dev = qml.device(\"default.qubit\", wires=n_qubits)\n",
    "qnode = qml.QNode(get_node(template), dev)\n",
    "\n",
    "inputs = np.random.uniform(size = (10,np.prod(kernel_sizes[0])))\n",
    "weights = [params[0][0][0][0], params[0][1][0][0]]\n",
    "drawer = qml.draw(qnode, expansion_strategy=\"device\")\n",
    "print(drawer(inputs,*weights))"
   ]
  },
  {
   "cell_type": "markdown",
   "id": "0eb80645",
   "metadata": {},
   "source": [
    "## Auto-Batching Predictions"
   ]
  },
  {
   "cell_type": "code",
   "execution_count": 39,
   "id": "93945a8f",
   "metadata": {
    "ExecuteTime": {
     "end_time": "2022-10-23T17:06:45.010714Z",
     "start_time": "2022-10-23T17:06:44.920145Z"
    }
   },
   "outputs": [],
   "source": [
    "from jax.scipy.special import logsumexp\n",
    "\n",
    "def relu(x):\n",
    "    return jnp.maximum(0, x)\n",
    "\n",
    "def forward(params, image):\n",
    "  # per-example predictions\n",
    "    activations = image\n",
    "    for l in range(num_qconv_layers):\n",
    "        activations = qconv(activations, params[l], qconv_dims[l], kernel_sizes[l], strides[l], paddings[l])\n",
    "    activations += image\n",
    "#     activations = nn.max_pool(activations, window_shape=(2, 2), strides=(2, 2))\n",
    "    activations = relu(activations)\n",
    "        \n",
    "    activations = jnp.reshape(activations, (-1))\n",
    "    for w, b in params[num_qconv_layers:-1]:\n",
    "        outputs = jnp.dot(w, activations) + b\n",
    "        activations = relu(outputs)\n",
    "    final_w, final_b = params[-1]\n",
    "    logits = jnp.dot(final_w, activations) + final_b\n",
    "    return logits - logsumexp(logits)"
   ]
  },
  {
   "cell_type": "code",
   "execution_count": 40,
   "id": "4be0d5ef",
   "metadata": {
    "ExecuteTime": {
     "end_time": "2022-10-23T17:06:45.555810Z",
     "start_time": "2022-10-23T17:06:45.475085Z"
    }
   },
   "outputs": [],
   "source": [
    "def forwardvgg(params, image):\n",
    "  # per-example predictions\n",
    "    activations = image\n",
    "    for l in [0,1]:\n",
    "        activations = qconv(activations, params[l], qconv_dims[l], kernel_sizes[l], strides[l], paddings[l])\n",
    "    activations = nn.max_pool(activations, window_shape=(2, 2), strides=(2, 2)) \n",
    "        \n",
    "    activations = jnp.reshape(activations, (-1))\n",
    "    for w, b in params[2:-1]:\n",
    "        outputs = jnp.dot(w, activations) + b\n",
    "        activations = relu(outputs)\n",
    "    final_w, final_b = params[-1]\n",
    "    logits = jnp.dot(final_w, activations) + final_b\n",
    "    return logits - logsumexp(logits)"
   ]
  },
  {
   "cell_type": "code",
   "execution_count": 41,
   "id": "5a54f1e1",
   "metadata": {
    "ExecuteTime": {
     "end_time": "2022-10-23T17:06:46.915891Z",
     "start_time": "2022-10-23T17:06:46.830623Z"
    }
   },
   "outputs": [],
   "source": [
    "def forwardx(params, image):\n",
    "  # per-example predictions\n",
    "    activations = qconv(image, 0)\n",
    "    activations = qconv(activations, 1)\n",
    "    activations += image\n",
    "    activations = relu(activations)\n",
    "    activations = jnp.reshape(activations, (-1))\n",
    "    for w, b in params[2:-1]:\n",
    "        outputs = jnp.dot(w, activations) + b\n",
    "        activations = relu(outputs)\n",
    "    final_w, final_b = params[-1]\n",
    "    logits = jnp.dot(final_w, activations) + final_b\n",
    "    return logits - logsumexp(logits)"
   ]
  },
  {
   "cell_type": "code",
   "execution_count": 42,
   "id": "fbdb84a8",
   "metadata": {
    "ExecuteTime": {
     "end_time": "2022-10-23T17:06:55.585097Z",
     "start_time": "2022-10-23T17:06:55.027138Z"
    },
    "scrolled": true
   },
   "outputs": [
    {
     "name": "stdout",
     "output_type": "stream",
     "text": [
      "[   0.      -161.09143]\n"
     ]
    }
   ],
   "source": [
    "# This works on single examples\n",
    "preds = forward(params,  random_flattened_image)\n",
    "print(preds)"
   ]
  },
  {
   "cell_type": "code",
   "execution_count": 43,
   "id": "931e2120",
   "metadata": {
    "ExecuteTime": {
     "end_time": "2022-10-23T17:07:04.638706Z",
     "start_time": "2022-10-23T17:07:04.254543Z"
    }
   },
   "outputs": [],
   "source": [
    "# Doesn't work with a batch\n",
    "random_flattened_images = random.normal(random.PRNGKey(1), (2,)+ input_dims)\n",
    "random_flattened_images = jnp.floor(random_flattened_images*10)\n",
    "# try:\n",
    "#     preds = predict(params, random_flattened_images)\n",
    "# except TypeError:\n",
    "#     print('Invalid shapes!')"
   ]
  },
  {
   "cell_type": "code",
   "execution_count": 44,
   "id": "9fa9ea5f",
   "metadata": {
    "ExecuteTime": {
     "end_time": "2022-10-23T17:07:17.284135Z",
     "start_time": "2022-10-23T17:07:04.642209Z"
    }
   },
   "outputs": [
    {
     "name": "stdout",
     "output_type": "stream",
     "text": [
      "[[   0.      -165.50987]\n",
      " [   0.       -44.39451]]\n"
     ]
    }
   ],
   "source": [
    "# Let's upgrade it to handle batches using `vmap`\n",
    "\n",
    "# Make a batched version of the `predict` function\n",
    "batched_forward = vmap(forward, in_axes=(None,0))\n",
    "\n",
    "# `batched_predict` has the same call signature as `predict`\n",
    "batched_preds = batched_forward(params, random_flattened_images)\n",
    "print(batched_preds)"
   ]
  },
  {
   "cell_type": "markdown",
   "id": "d696d399",
   "metadata": {},
   "source": [
    "## Utility and loss functions"
   ]
  },
  {
   "cell_type": "code",
   "execution_count": 45,
   "id": "fc48796a",
   "metadata": {
    "ExecuteTime": {
     "end_time": "2022-10-23T17:08:19.281253Z",
     "start_time": "2022-10-23T17:08:19.190829Z"
    }
   },
   "outputs": [],
   "source": [
    "from sklearn.metrics import roc_auc_score\n",
    "\n",
    "def accuracy(y_true, y_pred):\n",
    "    target_class = jnp.argmax(y_true, axis=1)\n",
    "    predicted_class = jnp.argmax(y_pred, axis=1)\n",
    "    return jnp.sum(predicted_class == target_class)\n",
    " \n",
    "\n",
    "def loss_fn(params, images, targets):\n",
    "    preds = batched_forward(params, images)\n",
    "    loss_value = -jnp.mean(preds * targets)\n",
    "    return loss_value, preds\n",
    "\n",
    "@jit\n",
    "def update(opt_state, params, x, y):\n",
    "    _ , grads = jax.value_and_grad(loss_fn, has_aux=True)(params, x, y)\n",
    "    \n",
    "    updates, opt_state = optimizer.update(grads, opt_state)\n",
    "    params = optax.apply_updates(params, updates)\n",
    "    \n",
    "    return params, opt_state \n",
    "\n",
    "\n",
    "def step(params,x,y):\n",
    "    loss_value, preds = loss_fn(params, x, y)\n",
    "    acc = accuracy(y, preds)\n",
    "    return loss_value, acc\n",
    "\n",
    "def evaluate(params, ds):\n",
    "    losses = []\n",
    "    accs = []\n",
    "    with tqdm(tfds.as_numpy(ds), unit=\"batch\") as tepoch:\n",
    "        for x, y in tepoch:\n",
    "            tepoch.set_description(\"Validation\")\n",
    "            loss_value, acc = step(params, x, y)\n",
    "            losses.append(loss_value)\n",
    "            accs.append(acc)\n",
    "       \n",
    "    return jnp.mean(np.array(losses)), jnp.mean(np.array(accs))/args.batch_size\n",
    "\n",
    "def predict(params, ds):\n",
    "    preds = []\n",
    "    y_true = []\n",
    "    with tqdm(tfds.as_numpy(ds), unit=\"batch\") as tepoch:\n",
    "        for x, y in tepoch:\n",
    "            preds += list(batched_forward(params, x))\n",
    "            y_true += list(y)\n",
    "    \n",
    "    return np.array(preds), np.array(y_true)"
   ]
  },
  {
   "cell_type": "markdown",
   "id": "63afa04b",
   "metadata": {},
   "source": [
    "## Training loop"
   ]
  },
  {
   "cell_type": "code",
   "execution_count": 46,
   "id": "0c29b41d",
   "metadata": {
    "ExecuteTime": {
     "end_time": "2022-10-23T17:08:22.645079Z",
     "start_time": "2022-10-23T17:08:22.550229Z"
    }
   },
   "outputs": [],
   "source": [
    "lr = 1e-3"
   ]
  },
  {
   "cell_type": "code",
   "execution_count": 47,
   "id": "01c9e9c5",
   "metadata": {
    "ExecuteTime": {
     "end_time": "2022-10-23T17:08:23.479796Z",
     "start_time": "2022-10-23T17:08:23.318356Z"
    }
   },
   "outputs": [
    {
     "name": "stdout",
     "output_type": "stream",
     "text": [
      "0.001\n"
     ]
    }
   ],
   "source": [
    "schedule_fn = optax.linear_schedule(transition_steps=150,\n",
    "                                    init_value=0.2,\n",
    "                                    end_value=1e-7,\n",
    "                                    )\n",
    "# Defining an optimizer in Jax \n",
    "# optimizer = optax.adam(learning_rate=schedule_fn)\n",
    "\n",
    "print(lr)\n",
    "optimizer = optax.adam(learning_rate=args.learning_rate)\n",
    "# optimizer = optax.rmsprop(learning_rate=args.learning_rate)\n",
    "# optimizer = optax.adam(learning_rate=lr)\n",
    "opt_state = optimizer.init(params)\n",
    "lr = (lr*0.1)"
   ]
  },
  {
   "cell_type": "code",
   "execution_count": 48,
   "id": "fb4f365f",
   "metadata": {
    "ExecuteTime": {
     "end_time": "2022-10-23T17:12:34.586896Z",
     "start_time": "2022-10-23T17:08:29.754872Z"
    },
    "scrolled": true
   },
   "outputs": [
    {
     "name": "stderr",
     "output_type": "stream",
     "text": [
      "Epoch 0: 100%|████████████████████████████████████████████████████████████████████| 80/80 [00:35<00:00,  2.27batch/s]\n",
      "Validation: 100%|█████████████████████████████████████████████████████████████████| 80/80 [00:27<00:00,  2.91batch/s]\n",
      "Validation: 100%|█████████████████████████████████████████████████████████████████| 20/20 [00:13<00:00,  1.49batch/s]\n"
     ]
    },
    {
     "name": "stdout",
     "output_type": "stream",
     "text": [
      "loss: 0.7217147946357727 - acc: 0.6041015982627869\n",
      "val_loss: 0.7210980653762817 - val_acc: 0.612109363079071\n",
      "time: 35.227909326553345\n"
     ]
    },
    {
     "name": "stderr",
     "output_type": "stream",
     "text": [
      "Epoch 1: 100%|███████████████████████████████████████████████████████████████████| 80/80 [00:00<00:00, 165.50batch/s]\n",
      "Validation: 100%|█████████████████████████████████████████████████████████████████| 80/80 [00:02<00:00, 34.52batch/s]\n",
      "Validation: 100%|█████████████████████████████████████████████████████████████████| 20/20 [00:00<00:00, 34.09batch/s]\n"
     ]
    },
    {
     "name": "stdout",
     "output_type": "stream",
     "text": [
      "loss: 0.25923582911491394 - acc: 0.83154296875\n",
      "val_loss: 0.2721773087978363 - val_acc: 0.828906238079071\n",
      "time: 0.48981165885925293\n"
     ]
    },
    {
     "name": "stderr",
     "output_type": "stream",
     "text": [
      "Epoch 2: 100%|███████████████████████████████████████████████████████████████████| 80/80 [00:00<00:00, 176.69batch/s]\n",
      "Validation: 100%|█████████████████████████████████████████████████████████████████| 80/80 [00:02<00:00, 34.82batch/s]\n",
      "Validation: 100%|█████████████████████████████████████████████████████████████████| 20/20 [00:00<00:00, 33.50batch/s]\n"
     ]
    },
    {
     "name": "stdout",
     "output_type": "stream",
     "text": [
      "loss: 0.14106403291225433 - acc: 0.9140625\n",
      "val_loss: 0.15867607295513153 - val_acc: 0.905468761920929\n",
      "time: 0.4590590000152588\n"
     ]
    },
    {
     "name": "stderr",
     "output_type": "stream",
     "text": [
      "Epoch 3: 100%|███████████████████████████████████████████████████████████████████| 80/80 [00:00<00:00, 177.29batch/s]\n",
      "Validation: 100%|█████████████████████████████████████████████████████████████████| 80/80 [00:02<00:00, 34.35batch/s]\n",
      "Validation: 100%|█████████████████████████████████████████████████████████████████| 20/20 [00:00<00:00, 33.60batch/s]\n"
     ]
    },
    {
     "name": "stdout",
     "output_type": "stream",
     "text": [
      "loss: 0.09319072961807251 - acc: 0.9476562738418579\n",
      "val_loss: 0.10792990773916245 - val_acc: 0.934374988079071\n",
      "time: 0.4569575786590576\n"
     ]
    },
    {
     "name": "stderr",
     "output_type": "stream",
     "text": [
      "Epoch 4: 100%|███████████████████████████████████████████████████████████████████| 80/80 [00:00<00:00, 182.01batch/s]\n",
      "Validation: 100%|█████████████████████████████████████████████████████████████████| 80/80 [00:02<00:00, 34.81batch/s]\n",
      "Validation: 100%|█████████████████████████████████████████████████████████████████| 20/20 [00:00<00:00, 33.87batch/s]\n"
     ]
    },
    {
     "name": "stdout",
     "output_type": "stream",
     "text": [
      "loss: 0.06702087074518204 - acc: 0.960644543170929\n",
      "val_loss: 0.07904969900846481 - val_acc: 0.9554687738418579\n",
      "time: 0.4474358558654785\n"
     ]
    },
    {
     "name": "stderr",
     "output_type": "stream",
     "text": [
      "Epoch 5: 100%|███████████████████████████████████████████████████████████████████| 80/80 [00:00<00:00, 176.24batch/s]\n",
      "Validation: 100%|█████████████████████████████████████████████████████████████████| 80/80 [00:02<00:00, 34.35batch/s]\n",
      "Validation: 100%|█████████████████████████████████████████████████████████████████| 20/20 [00:00<00:00, 34.35batch/s]\n"
     ]
    },
    {
     "name": "stdout",
     "output_type": "stream",
     "text": [
      "loss: 0.05130145698785782 - acc: 0.96923828125\n",
      "val_loss: 0.06212056428194046 - val_acc: 0.966015636920929\n",
      "time: 0.45888352394104004\n"
     ]
    },
    {
     "name": "stderr",
     "output_type": "stream",
     "text": [
      "Epoch 6: 100%|███████████████████████████████████████████████████████████████████| 80/80 [00:00<00:00, 178.29batch/s]\n",
      "Validation: 100%|█████████████████████████████████████████████████████████████████| 80/80 [00:02<00:00, 35.00batch/s]\n",
      "Validation: 100%|█████████████████████████████████████████████████████████████████| 20/20 [00:00<00:00, 34.90batch/s]\n"
     ]
    },
    {
     "name": "stdout",
     "output_type": "stream",
     "text": [
      "loss: 0.04035947471857071 - acc: 0.974316418170929\n",
      "val_loss: 0.05219307169318199 - val_acc: 0.971484363079071\n",
      "time: 0.45479464530944824\n"
     ]
    },
    {
     "name": "stderr",
     "output_type": "stream",
     "text": [
      "Epoch 7: 100%|███████████████████████████████████████████████████████████████████| 80/80 [00:00<00:00, 177.86batch/s]\n",
      "Validation: 100%|█████████████████████████████████████████████████████████████████| 80/80 [00:02<00:00, 34.67batch/s]\n",
      "Validation: 100%|█████████████████████████████████████████████████████████████████| 20/20 [00:00<00:00, 34.83batch/s]\n"
     ]
    },
    {
     "name": "stdout",
     "output_type": "stream",
     "text": [
      "loss: 0.03265644237399101 - acc: 0.976757824420929\n",
      "val_loss: 0.04548037797212601 - val_acc: 0.975390613079071\n",
      "time: 0.45467424392700195\n"
     ]
    },
    {
     "name": "stderr",
     "output_type": "stream",
     "text": [
      "Epoch 8: 100%|███████████████████████████████████████████████████████████████████| 80/80 [00:00<00:00, 176.72batch/s]\n",
      "Validation: 100%|█████████████████████████████████████████████████████████████████| 80/80 [00:02<00:00, 35.39batch/s]\n",
      "Validation: 100%|█████████████████████████████████████████████████████████████████| 20/20 [00:00<00:00, 33.96batch/s]\n"
     ]
    },
    {
     "name": "stdout",
     "output_type": "stream",
     "text": [
      "loss: 0.026799453422427177 - acc: 0.9784179925918579\n",
      "val_loss: 0.04064598307013512 - val_acc: 0.9789062738418579\n",
      "time: 0.45793843269348145\n"
     ]
    },
    {
     "name": "stderr",
     "output_type": "stream",
     "text": [
      "Epoch 9: 100%|███████████████████████████████████████████████████████████████████| 80/80 [00:00<00:00, 180.22batch/s]\n",
      "Validation: 100%|█████████████████████████████████████████████████████████████████| 80/80 [00:02<00:00, 31.84batch/s]\n",
      "Validation: 100%|█████████████████████████████████████████████████████████████████| 20/20 [00:00<00:00, 31.73batch/s]\n"
     ]
    },
    {
     "name": "stdout",
     "output_type": "stream",
     "text": [
      "loss: 0.02212151698768139 - acc: 0.98095703125\n",
      "val_loss: 0.036972545087337494 - val_acc: 0.981640636920929\n",
      "time: 0.449068546295166\n"
     ]
    },
    {
     "name": "stderr",
     "output_type": "stream",
     "text": [
      "Epoch 10: 100%|██████████████████████████████████████████████████████████████████| 80/80 [00:00<00:00, 171.48batch/s]\n",
      "Validation: 100%|█████████████████████████████████████████████████████████████████| 80/80 [00:02<00:00, 34.68batch/s]\n",
      "Validation: 100%|█████████████████████████████████████████████████████████████████| 20/20 [00:00<00:00, 34.06batch/s]\n"
     ]
    },
    {
     "name": "stdout",
     "output_type": "stream",
     "text": [
      "loss: 0.018813103437423706 - acc: 0.9825195670127869\n",
      "val_loss: 0.034254565834999084 - val_acc: 0.982421875\n",
      "time: 0.4710423946380615\n"
     ]
    },
    {
     "name": "stderr",
     "output_type": "stream",
     "text": [
      "Epoch 11: 100%|██████████████████████████████████████████████████████████████████| 80/80 [00:00<00:00, 164.70batch/s]\n",
      "Validation: 100%|█████████████████████████████████████████████████████████████████| 80/80 [00:02<00:00, 33.08batch/s]\n",
      "Validation: 100%|█████████████████████████████████████████████████████████████████| 20/20 [00:00<00:00, 33.56batch/s]\n"
     ]
    },
    {
     "name": "stdout",
     "output_type": "stream",
     "text": [
      "loss: 0.016244877129793167 - acc: 0.9834961295127869\n",
      "val_loss: 0.03231165185570717 - val_acc: 0.982421875\n",
      "time: 0.4913661479949951\n"
     ]
    },
    {
     "name": "stderr",
     "output_type": "stream",
     "text": [
      "Epoch 12: 100%|██████████████████████████████████████████████████████████████████| 80/80 [00:00<00:00, 179.78batch/s]\n",
      "Validation: 100%|█████████████████████████████████████████████████████████████████| 80/80 [00:02<00:00, 33.44batch/s]\n",
      "Validation: 100%|█████████████████████████████████████████████████████████████████| 20/20 [00:00<00:00, 31.71batch/s]\n"
     ]
    },
    {
     "name": "stdout",
     "output_type": "stream",
     "text": [
      "loss: 0.014079460874199867 - acc: 0.9842773675918579\n",
      "val_loss: 0.031152276322245598 - val_acc: 0.9828125238418579\n",
      "time: 0.45089244842529297\n"
     ]
    },
    {
     "name": "stderr",
     "output_type": "stream",
     "text": [
      "Epoch 13: 100%|██████████████████████████████████████████████████████████████████| 80/80 [00:00<00:00, 153.47batch/s]\n",
      "Validation: 100%|█████████████████████████████████████████████████████████████████| 80/80 [00:02<00:00, 34.97batch/s]\n",
      "Validation: 100%|█████████████████████████████████████████████████████████████████| 20/20 [00:00<00:00, 31.38batch/s]\n"
     ]
    },
    {
     "name": "stdout",
     "output_type": "stream",
     "text": [
      "loss: 0.011925349943339825 - acc: 0.985156238079071\n",
      "val_loss: 0.02948809042572975 - val_acc: 0.983593761920929\n",
      "time: 0.5268194675445557\n"
     ]
    },
    {
     "name": "stderr",
     "output_type": "stream",
     "text": [
      "Epoch 14: 100%|██████████████████████████████████████████████████████████████████| 80/80 [00:00<00:00, 185.24batch/s]\n",
      "Validation: 100%|█████████████████████████████████████████████████████████████████| 80/80 [00:02<00:00, 33.30batch/s]\n",
      "Validation: 100%|█████████████████████████████████████████████████████████████████| 20/20 [00:00<00:00, 32.65batch/s]\n"
     ]
    },
    {
     "name": "stdout",
     "output_type": "stream",
     "text": [
      "loss: 0.010258846916258335 - acc: 0.985546886920929\n",
      "val_loss: 0.028388837352395058 - val_acc: 0.983593761920929\n",
      "time: 0.43707871437072754\n"
     ]
    },
    {
     "name": "stderr",
     "output_type": "stream",
     "text": [
      "Epoch 15: 100%|██████████████████████████████████████████████████████████████████| 80/80 [00:00<00:00, 165.67batch/s]\n",
      "Validation: 100%|█████████████████████████████████████████████████████████████████| 80/80 [00:02<00:00, 33.59batch/s]\n",
      "Validation: 100%|█████████████████████████████████████████████████████████████████| 20/20 [00:00<00:00, 35.04batch/s]\n"
     ]
    },
    {
     "name": "stdout",
     "output_type": "stream",
     "text": [
      "loss: 0.008893092162907124 - acc: 0.986035168170929\n",
      "val_loss: 0.027507370337843895 - val_acc: 0.9839844107627869\n",
      "time: 0.49242281913757324\n"
     ]
    },
    {
     "name": "stderr",
     "output_type": "stream",
     "text": [
      "Epoch 16: 100%|██████████████████████████████████████████████████████████████████| 80/80 [00:00<00:00, 159.29batch/s]\n",
      "Validation: 100%|█████████████████████████████████████████████████████████████████| 80/80 [00:02<00:00, 33.33batch/s]\n",
      "Validation: 100%|█████████████████████████████████████████████████████████████████| 20/20 [00:00<00:00, 32.71batch/s]\n"
     ]
    },
    {
     "name": "stdout",
     "output_type": "stream",
     "text": [
      "loss: 0.007822500541806221 - acc: 0.986621081829071\n",
      "val_loss: 0.02677825652062893 - val_acc: 0.984375\n",
      "time: 0.5080831050872803\n"
     ]
    },
    {
     "name": "stderr",
     "output_type": "stream",
     "text": [
      "Epoch 17: 100%|██████████████████████████████████████████████████████████████████| 80/80 [00:00<00:00, 163.49batch/s]\n",
      "Validation: 100%|█████████████████████████████████████████████████████████████████| 80/80 [00:02<00:00, 34.70batch/s]\n",
      "Validation: 100%|█████████████████████████████████████████████████████████████████| 20/20 [00:00<00:00, 35.11batch/s]\n"
     ]
    },
    {
     "name": "stdout",
     "output_type": "stream",
     "text": [
      "loss: 0.007043424528092146 - acc: 0.9869140982627869\n",
      "val_loss: 0.026189232245087624 - val_acc: 0.9847656488418579\n",
      "time: 0.4962611198425293\n"
     ]
    },
    {
     "name": "stderr",
     "output_type": "stream",
     "text": [
      "Epoch 18: 100%|██████████████████████████████████████████████████████████████████| 80/80 [00:00<00:00, 184.18batch/s]\n",
      "Validation: 100%|█████████████████████████████████████████████████████████████████| 80/80 [00:02<00:00, 34.11batch/s]\n",
      "Validation: 100%|█████████████████████████████████████████████████████████████████| 20/20 [00:00<00:00, 31.88batch/s]\n"
     ]
    },
    {
     "name": "stdout",
     "output_type": "stream",
     "text": [
      "loss: 0.006371821742504835 - acc: 0.987011730670929\n",
      "val_loss: 0.025647982954978943 - val_acc: 0.985156238079071\n",
      "time: 0.44130611419677734\n"
     ]
    },
    {
     "name": "stderr",
     "output_type": "stream",
     "text": [
      "Epoch 19: 100%|██████████████████████████████████████████████████████████████████| 80/80 [00:00<00:00, 158.82batch/s]\n",
      "Validation: 100%|█████████████████████████████████████████████████████████████████| 80/80 [00:02<00:00, 32.77batch/s]\n",
      "Validation: 100%|█████████████████████████████████████████████████████████████████| 20/20 [00:00<00:00, 32.14batch/s]\n"
     ]
    },
    {
     "name": "stdout",
     "output_type": "stream",
     "text": [
      "loss: 0.005759536754339933 - acc: 0.987109363079071\n",
      "val_loss: 0.025037119165062904 - val_acc: 0.985156238079071\n",
      "time: 0.5102834701538086\n"
     ]
    },
    {
     "name": "stderr",
     "output_type": "stream",
     "text": [
      "Epoch 20: 100%|██████████████████████████████████████████████████████████████████| 80/80 [00:00<00:00, 180.16batch/s]\n",
      "Validation: 100%|█████████████████████████████████████████████████████████████████| 80/80 [00:02<00:00, 33.51batch/s]\n",
      "Validation: 100%|█████████████████████████████████████████████████████████████████| 20/20 [00:00<00:00, 36.35batch/s]\n"
     ]
    },
    {
     "name": "stdout",
     "output_type": "stream",
     "text": [
      "loss: 0.005240658763796091 - acc: 0.9873046875\n",
      "val_loss: 0.024505237117409706 - val_acc: 0.9859375357627869\n",
      "time: 0.45023512840270996\n"
     ]
    },
    {
     "name": "stderr",
     "output_type": "stream",
     "text": [
      "Epoch 21: 100%|██████████████████████████████████████████████████████████████████| 80/80 [00:00<00:00, 193.29batch/s]\n",
      "Validation: 100%|█████████████████████████████████████████████████████████████████| 80/80 [00:02<00:00, 35.84batch/s]\n",
      "Validation: 100%|█████████████████████████████████████████████████████████████████| 20/20 [00:00<00:00, 36.79batch/s]\n"
     ]
    },
    {
     "name": "stdout",
     "output_type": "stream",
     "text": [
      "loss: 0.004822803195565939 - acc: 0.9873046875\n",
      "val_loss: 0.02404908649623394 - val_acc: 0.9859375357627869\n",
      "time: 0.4239640235900879\n"
     ]
    },
    {
     "name": "stderr",
     "output_type": "stream",
     "text": [
      "Epoch 22: 100%|██████████████████████████████████████████████████████████████████| 80/80 [00:00<00:00, 160.90batch/s]\n",
      "Validation: 100%|█████████████████████████████████████████████████████████████████| 80/80 [00:02<00:00, 32.72batch/s]\n",
      "Validation: 100%|█████████████████████████████████████████████████████████████████| 20/20 [00:00<00:00, 33.12batch/s]\n"
     ]
    },
    {
     "name": "stdout",
     "output_type": "stream",
     "text": [
      "loss: 0.004491680767387152 - acc: 0.9876953363418579\n",
      "val_loss: 0.02371261455118656 - val_acc: 0.9859375357627869\n",
      "time: 0.502671480178833\n"
     ]
    },
    {
     "name": "stderr",
     "output_type": "stream",
     "text": [
      "Epoch 23: 100%|██████████████████████████████████████████████████████████████████| 80/80 [00:00<00:00, 155.03batch/s]\n",
      "Validation: 100%|█████████████████████████████████████████████████████████████████| 80/80 [00:02<00:00, 34.61batch/s]\n",
      "Validation: 100%|█████████████████████████████████████████████████████████████████| 20/20 [00:00<00:00, 33.84batch/s]\n"
     ]
    },
    {
     "name": "stdout",
     "output_type": "stream",
     "text": [
      "loss: 0.004227205645292997 - acc: 0.98779296875\n",
      "val_loss: 0.023356715217232704 - val_acc: 0.986328125\n",
      "time: 0.5211882591247559\n"
     ]
    },
    {
     "name": "stderr",
     "output_type": "stream",
     "text": [
      "Epoch 24: 100%|██████████████████████████████████████████████████████████████████| 80/80 [00:00<00:00, 170.45batch/s]\n",
      "Validation: 100%|█████████████████████████████████████████████████████████████████| 80/80 [00:02<00:00, 34.67batch/s]\n",
      "Validation: 100%|█████████████████████████████████████████████████████████████████| 20/20 [00:00<00:00, 32.75batch/s]\n"
     ]
    },
    {
     "name": "stdout",
     "output_type": "stream",
     "text": [
      "loss: 0.003999621141701937 - acc: 0.987988293170929\n",
      "val_loss: 0.023039894178509712 - val_acc: 0.986328125\n",
      "time: 0.47585153579711914\n"
     ]
    },
    {
     "name": "stderr",
     "output_type": "stream",
     "text": [
      "Epoch 25: 100%|██████████████████████████████████████████████████████████████████| 80/80 [00:00<00:00, 171.85batch/s]\n",
      "Validation: 100%|█████████████████████████████████████████████████████████████████| 80/80 [00:02<00:00, 33.57batch/s]\n",
      "Validation: 100%|█████████████████████████████████████████████████████████████████| 20/20 [00:00<00:00, 34.33batch/s]\n"
     ]
    },
    {
     "name": "stdout",
     "output_type": "stream",
     "text": [
      "loss: 0.0037906200159341097 - acc: 0.987988293170929\n",
      "val_loss: 0.022790001705288887 - val_acc: 0.986328125\n",
      "time: 0.470731258392334\n"
     ]
    },
    {
     "name": "stderr",
     "output_type": "stream",
     "text": [
      "Epoch 26: 100%|██████████████████████████████████████████████████████████████████| 80/80 [00:00<00:00, 179.10batch/s]\n",
      "Validation: 100%|█████████████████████████████████████████████████████████████████| 80/80 [00:02<00:00, 34.46batch/s]\n",
      "Validation: 100%|█████████████████████████████████████████████████████████████████| 20/20 [00:00<00:00, 34.62batch/s]\n"
     ]
    },
    {
     "name": "stdout",
     "output_type": "stream",
     "text": [
      "loss: 0.0036015633959323168 - acc: 0.9881836175918579\n",
      "val_loss: 0.02258562296628952 - val_acc: 0.986328125\n",
      "time: 0.4523799419403076\n"
     ]
    },
    {
     "name": "stderr",
     "output_type": "stream",
     "text": [
      "Epoch 27: 100%|██████████████████████████████████████████████████████████████████| 80/80 [00:00<00:00, 154.42batch/s]\n",
      "Validation: 100%|█████████████████████████████████████████████████████████████████| 80/80 [00:02<00:00, 31.35batch/s]\n",
      "Validation: 100%|█████████████████████████████████████████████████████████████████| 20/20 [00:00<00:00, 32.68batch/s]\n"
     ]
    },
    {
     "name": "stdout",
     "output_type": "stream",
     "text": [
      "loss: 0.0034258130472153425 - acc: 0.9881836175918579\n",
      "val_loss: 0.022411895915865898 - val_acc: 0.986328125\n",
      "time: 0.52767014503479\n"
     ]
    },
    {
     "name": "stderr",
     "output_type": "stream",
     "text": [
      "Epoch 28: 100%|██████████████████████████████████████████████████████████████████| 80/80 [00:00<00:00, 173.46batch/s]\n",
      "Validation: 100%|█████████████████████████████████████████████████████████████████| 80/80 [00:02<00:00, 34.91batch/s]\n",
      "Validation: 100%|█████████████████████████████████████████████████████████████████| 20/20 [00:00<00:00, 33.46batch/s]\n"
     ]
    },
    {
     "name": "stdout",
     "output_type": "stream",
     "text": [
      "loss: 0.003267968073487282 - acc: 0.98828125\n",
      "val_loss: 0.022259442135691643 - val_acc: 0.986328125\n",
      "time: 0.46590471267700195\n"
     ]
    },
    {
     "name": "stderr",
     "output_type": "stream",
     "text": [
      "Epoch 29: 100%|██████████████████████████████████████████████████████████████████| 80/80 [00:00<00:00, 179.89batch/s]\n",
      "Validation: 100%|█████████████████████████████████████████████████████████████████| 80/80 [00:02<00:00, 33.77batch/s]\n",
      "Validation: 100%|█████████████████████████████████████████████████████████████████| 20/20 [00:00<00:00, 33.92batch/s]\n"
     ]
    },
    {
     "name": "stdout",
     "output_type": "stream",
     "text": [
      "loss: 0.0031213455367833376 - acc: 0.98828125\n",
      "val_loss: 0.02212711051106453 - val_acc: 0.986328125\n",
      "time: 0.4499804973602295\n"
     ]
    },
    {
     "name": "stderr",
     "output_type": "stream",
     "text": [
      "Epoch 30: 100%|██████████████████████████████████████████████████████████████████| 80/80 [00:00<00:00, 178.89batch/s]\n",
      "Validation: 100%|█████████████████████████████████████████████████████████████████| 80/80 [00:02<00:00, 34.19batch/s]\n",
      "Validation: 100%|█████████████████████████████████████████████████████████████████| 20/20 [00:00<00:00, 35.21batch/s]\n"
     ]
    },
    {
     "name": "stdout",
     "output_type": "stream",
     "text": [
      "loss: 0.0029823060613125563 - acc: 0.98828125\n",
      "val_loss: 0.021999269723892212 - val_acc: 0.986328125\n",
      "time: 0.45246005058288574\n"
     ]
    },
    {
     "name": "stderr",
     "output_type": "stream",
     "text": [
      "Epoch 31: 100%|██████████████████████████████████████████████████████████████████| 80/80 [00:00<00:00, 176.33batch/s]\n",
      "Validation: 100%|█████████████████████████████████████████████████████████████████| 80/80 [00:02<00:00, 33.70batch/s]\n",
      "Validation: 100%|█████████████████████████████████████████████████████████████████| 20/20 [00:00<00:00, 30.17batch/s]\n"
     ]
    },
    {
     "name": "stdout",
     "output_type": "stream",
     "text": [
      "loss: 0.0028516375459730625 - acc: 0.98828125\n",
      "val_loss: 0.021886808797717094 - val_acc: 0.986328125\n",
      "time: 0.4591856002807617\n"
     ]
    },
    {
     "name": "stderr",
     "output_type": "stream",
     "text": [
      "Epoch 32: 100%|██████████████████████████████████████████████████████████████████| 80/80 [00:00<00:00, 126.38batch/s]\n",
      "Validation: 100%|█████████████████████████████████████████████████████████████████| 80/80 [00:02<00:00, 31.94batch/s]\n",
      "Validation: 100%|█████████████████████████████████████████████████████████████████| 20/20 [00:00<00:00, 34.30batch/s]\n"
     ]
    },
    {
     "name": "stdout",
     "output_type": "stream",
     "text": [
      "loss: 0.002729947678744793 - acc: 0.98828125\n",
      "val_loss: 0.02178378589451313 - val_acc: 0.986328125\n",
      "time: 0.6394109725952148\n"
     ]
    },
    {
     "name": "stderr",
     "output_type": "stream",
     "text": [
      "Epoch 33: 100%|██████████████████████████████████████████████████████████████████| 80/80 [00:00<00:00, 180.15batch/s]\n",
      "Validation: 100%|█████████████████████████████████████████████████████████████████| 80/80 [00:02<00:00, 34.03batch/s]\n",
      "Validation: 100%|█████████████████████████████████████████████████████████████████| 20/20 [00:00<00:00, 34.45batch/s]\n"
     ]
    },
    {
     "name": "stdout",
     "output_type": "stream",
     "text": [
      "loss: 0.0026149542536586523 - acc: 0.9883789420127869\n",
      "val_loss: 0.021689092740416527 - val_acc: 0.986328125\n",
      "time: 0.450669527053833\n"
     ]
    },
    {
     "name": "stderr",
     "output_type": "stream",
     "text": [
      "Epoch 34: 100%|██████████████████████████████████████████████████████████████████| 80/80 [00:00<00:00, 180.96batch/s]\n",
      "Validation: 100%|█████████████████████████████████████████████████████████████████| 80/80 [00:02<00:00, 34.59batch/s]\n",
      "Validation: 100%|█████████████████████████████████████████████████████████████████| 20/20 [00:00<00:00, 35.72batch/s]\n"
     ]
    },
    {
     "name": "stdout",
     "output_type": "stream",
     "text": [
      "loss: 0.002504966454580426 - acc: 0.9883789420127869\n",
      "val_loss: 0.021536028012633324 - val_acc: 0.986328125\n",
      "time: 0.4472675323486328\n"
     ]
    },
    {
     "name": "stderr",
     "output_type": "stream",
     "text": [
      "Epoch 35: 100%|██████████████████████████████████████████████████████████████████| 80/80 [00:00<00:00, 168.35batch/s]\n",
      "Validation: 100%|█████████████████████████████████████████████████████████████████| 80/80 [00:02<00:00, 34.88batch/s]\n",
      "Validation: 100%|█████████████████████████████████████████████████████████████████| 20/20 [00:00<00:00, 35.37batch/s]\n"
     ]
    },
    {
     "name": "stdout",
     "output_type": "stream",
     "text": [
      "loss: 0.002398611744865775 - acc: 0.9883789420127869\n",
      "val_loss: 0.021426403895020485 - val_acc: 0.986328125\n",
      "time: 0.4806842803955078\n"
     ]
    },
    {
     "name": "stderr",
     "output_type": "stream",
     "text": [
      "Epoch 36: 100%|██████████████████████████████████████████████████████████████████| 80/80 [00:00<00:00, 169.34batch/s]\n",
      "Validation: 100%|█████████████████████████████████████████████████████████████████| 80/80 [00:02<00:00, 34.58batch/s]\n",
      "Validation: 100%|█████████████████████████████████████████████████████████████████| 20/20 [00:00<00:00, 35.08batch/s]\n"
     ]
    },
    {
     "name": "stdout",
     "output_type": "stream",
     "text": [
      "loss: 0.0022942933719605207 - acc: 0.9883789420127869\n",
      "val_loss: 0.021335234865546227 - val_acc: 0.986328125\n",
      "time: 0.4778783321380615\n"
     ]
    },
    {
     "name": "stderr",
     "output_type": "stream",
     "text": [
      "Epoch 37: 100%|██████████████████████████████████████████████████████████████████| 80/80 [00:00<00:00, 126.97batch/s]\n",
      "Validation: 100%|█████████████████████████████████████████████████████████████████| 80/80 [00:02<00:00, 33.30batch/s]\n",
      "Validation: 100%|█████████████████████████████████████████████████████████████████| 20/20 [00:00<00:00, 32.71batch/s]\n"
     ]
    },
    {
     "name": "stdout",
     "output_type": "stream",
     "text": [
      "loss: 0.002197166671976447 - acc: 0.9883789420127869\n",
      "val_loss: 0.02113969251513481 - val_acc: 0.986328125\n",
      "time: 0.6363639831542969\n"
     ]
    },
    {
     "name": "stderr",
     "output_type": "stream",
     "text": [
      "Epoch 38: 100%|██████████████████████████████████████████████████████████████████| 80/80 [00:00<00:00, 180.59batch/s]\n",
      "Validation: 100%|█████████████████████████████████████████████████████████████████| 80/80 [00:02<00:00, 34.89batch/s]\n",
      "Validation: 100%|█████████████████████████████████████████████████████████████████| 20/20 [00:00<00:00, 34.88batch/s]\n"
     ]
    },
    {
     "name": "stdout",
     "output_type": "stream",
     "text": [
      "loss: 0.0021001584827899933 - acc: 0.9883789420127869\n",
      "val_loss: 0.02098766900599003 - val_acc: 0.986328125\n",
      "time: 0.4486238956451416\n"
     ]
    },
    {
     "name": "stderr",
     "output_type": "stream",
     "text": [
      "Epoch 39: 100%|██████████████████████████████████████████████████████████████████| 80/80 [00:00<00:00, 179.18batch/s]\n",
      "Validation: 100%|█████████████████████████████████████████████████████████████████| 80/80 [00:02<00:00, 33.24batch/s]\n",
      "Validation: 100%|█████████████████████████████████████████████████████████████████| 20/20 [00:00<00:00, 33.42batch/s]\n"
     ]
    },
    {
     "name": "stdout",
     "output_type": "stream",
     "text": [
      "loss: 0.002005073009058833 - acc: 0.988476574420929\n",
      "val_loss: 0.02085183747112751 - val_acc: 0.986328125\n",
      "time: 0.4518463611602783\n"
     ]
    },
    {
     "name": "stderr",
     "output_type": "stream",
     "text": [
      "Epoch 40: 100%|██████████████████████████████████████████████████████████████████| 80/80 [00:00<00:00, 161.70batch/s]\n",
      "Validation: 100%|█████████████████████████████████████████████████████████████████| 80/80 [00:02<00:00, 33.31batch/s]\n",
      "Validation: 100%|█████████████████████████████████████████████████████████████████| 20/20 [00:00<00:00, 33.96batch/s]\n"
     ]
    },
    {
     "name": "stdout",
     "output_type": "stream",
     "text": [
      "loss: 0.0019050894770771265 - acc: 0.988476574420929\n",
      "val_loss: 0.020711176097393036 - val_acc: 0.986328125\n",
      "time: 0.5008876323699951\n"
     ]
    },
    {
     "name": "stderr",
     "output_type": "stream",
     "text": [
      "Epoch 41: 100%|██████████████████████████████████████████████████████████████████| 80/80 [00:00<00:00, 159.08batch/s]\n",
      "Validation: 100%|█████████████████████████████████████████████████████████████████| 80/80 [00:02<00:00, 34.23batch/s]\n",
      "Validation: 100%|█████████████████████████████████████████████████████████████████| 20/20 [00:00<00:00, 34.03batch/s]\n"
     ]
    },
    {
     "name": "stdout",
     "output_type": "stream",
     "text": [
      "loss: 0.0018119740998372436 - acc: 0.988476574420929\n",
      "val_loss: 0.02058069221675396 - val_acc: 0.986328125\n",
      "time: 0.5081832408905029\n"
     ]
    },
    {
     "name": "stderr",
     "output_type": "stream",
     "text": [
      "Epoch 42: 100%|██████████████████████████████████████████████████████████████████| 80/80 [00:00<00:00, 165.14batch/s]\n",
      "Validation: 100%|█████████████████████████████████████████████████████████████████| 80/80 [00:02<00:00, 33.72batch/s]\n",
      "Validation: 100%|█████████████████████████████████████████████████████████████████| 20/20 [00:00<00:00, 30.95batch/s]\n"
     ]
    },
    {
     "name": "stdout",
     "output_type": "stream",
     "text": [
      "loss: 0.0017182689625769854 - acc: 0.988476574420929\n",
      "val_loss: 0.020449183881282806 - val_acc: 0.986328125\n",
      "time: 0.4914875030517578\n"
     ]
    },
    {
     "name": "stderr",
     "output_type": "stream",
     "text": [
      "Epoch 43: 100%|██████████████████████████████████████████████████████████████████| 80/80 [00:00<00:00, 180.38batch/s]\n",
      "Validation: 100%|█████████████████████████████████████████████████████████████████| 80/80 [00:02<00:00, 34.03batch/s]\n",
      "Validation: 100%|█████████████████████████████████████████████████████████████████| 20/20 [00:00<00:00, 33.68batch/s]\n"
     ]
    },
    {
     "name": "stdout",
     "output_type": "stream",
     "text": [
      "loss: 0.0016214255010709167 - acc: 0.988476574420929\n",
      "val_loss: 0.020304325968027115 - val_acc: 0.986328125\n",
      "time: 0.4487488269805908\n"
     ]
    },
    {
     "name": "stderr",
     "output_type": "stream",
     "text": [
      "Epoch 44: 100%|██████████████████████████████████████████████████████████████████| 80/80 [00:00<00:00, 181.99batch/s]\n",
      "Validation: 100%|█████████████████████████████████████████████████████████████████| 80/80 [00:02<00:00, 34.85batch/s]\n",
      "Validation: 100%|█████████████████████████████████████████████████████████████████| 20/20 [00:00<00:00, 34.25batch/s]\n"
     ]
    },
    {
     "name": "stdout",
     "output_type": "stream",
     "text": [
      "loss: 0.0015310485614463687 - acc: 0.988574206829071\n",
      "val_loss: 0.02016378380358219 - val_acc: 0.9867187738418579\n",
      "time: 0.4450535774230957\n"
     ]
    },
    {
     "name": "stderr",
     "output_type": "stream",
     "text": [
      "Epoch 45: 100%|██████████████████████████████████████████████████████████████████| 80/80 [00:00<00:00, 179.73batch/s]\n",
      "Validation: 100%|█████████████████████████████████████████████████████████████████| 80/80 [00:02<00:00, 33.66batch/s]\n",
      "Validation: 100%|█████████████████████████████████████████████████████████████████| 20/20 [00:00<00:00, 34.93batch/s]\n"
     ]
    },
    {
     "name": "stdout",
     "output_type": "stream",
     "text": [
      "loss: 0.0014820658834651113 - acc: 0.9886718988418579\n",
      "val_loss: 0.020038872957229614 - val_acc: 0.9867187738418579\n",
      "time: 0.4510166645050049\n"
     ]
    },
    {
     "name": "stderr",
     "output_type": "stream",
     "text": [
      "Epoch 46: 100%|██████████████████████████████████████████████████████████████████| 80/80 [00:00<00:00, 173.21batch/s]\n",
      "Validation: 100%|█████████████████████████████████████████████████████████████████| 80/80 [00:02<00:00, 35.01batch/s]\n",
      "Validation: 100%|█████████████████████████████████████████████████████████████████| 20/20 [00:00<00:00, 35.81batch/s]\n"
     ]
    },
    {
     "name": "stdout",
     "output_type": "stream",
     "text": [
      "loss: 0.0013588372385129333 - acc: 0.9886718988418579\n",
      "val_loss: 0.01995270512998104 - val_acc: 0.9867187738418579\n",
      "time: 0.4676015377044678\n"
     ]
    },
    {
     "name": "stderr",
     "output_type": "stream",
     "text": [
      "Epoch 47: 100%|██████████████████████████████████████████████████████████████████| 80/80 [00:00<00:00, 167.50batch/s]\n",
      "Validation: 100%|█████████████████████████████████████████████████████████████████| 80/80 [00:02<00:00, 34.17batch/s]\n",
      "Validation: 100%|█████████████████████████████████████████████████████████████████| 20/20 [00:00<00:00, 32.30batch/s]\n"
     ]
    },
    {
     "name": "stdout",
     "output_type": "stream",
     "text": [
      "loss: 0.0012770427856594324 - acc: 0.9886718988418579\n",
      "val_loss: 0.019852835685014725 - val_acc: 0.9867187738418579\n",
      "time: 0.4845855236053467\n"
     ]
    },
    {
     "name": "stderr",
     "output_type": "stream",
     "text": [
      "Epoch 48: 100%|██████████████████████████████████████████████████████████████████| 80/80 [00:00<00:00, 177.69batch/s]\n",
      "Validation: 100%|█████████████████████████████████████████████████████████████████| 80/80 [00:02<00:00, 33.98batch/s]\n",
      "Validation: 100%|█████████████████████████████████████████████████████████████████| 20/20 [00:00<00:00, 32.11batch/s]\n"
     ]
    },
    {
     "name": "stdout",
     "output_type": "stream",
     "text": [
      "loss: 0.0011971686035394669 - acc: 0.98876953125\n",
      "val_loss: 0.019752489402890205 - val_acc: 0.9867187738418579\n",
      "time: 0.4574413299560547\n"
     ]
    },
    {
     "name": "stderr",
     "output_type": "stream",
     "text": [
      "Epoch 49: 100%|██████████████████████████████████████████████████████████████████| 80/80 [00:00<00:00, 157.44batch/s]\n",
      "Validation: 100%|█████████████████████████████████████████████████████████████████| 80/80 [00:02<00:00, 35.12batch/s]\n",
      "Validation: 100%|█████████████████████████████████████████████████████████████████| 20/20 [00:00<00:00, 34.52batch/s]"
     ]
    },
    {
     "name": "stdout",
     "output_type": "stream",
     "text": [
      "loss: 0.0011242855107411742 - acc: 0.98876953125\n",
      "val_loss: 0.019695069640874863 - val_acc: 0.9867187738418579\n",
      "time: 0.5152873992919922\n"
     ]
    },
    {
     "name": "stderr",
     "output_type": "stream",
     "text": [
      "\n"
     ]
    }
   ],
   "source": [
    "import time\n",
    "\n",
    "# epochs = args.epochs\n",
    "epochs = 5\n",
    "\n",
    "epoch_times = []\n",
    "for epoch in range(50):\n",
    "    start_time = time.time()\n",
    "\n",
    "    with tqdm(tfds.as_numpy(data.train_ds), unit=\"batch\") as tepoch:\n",
    "        for x, y in tepoch:\n",
    "            tepoch.set_description(f\"Epoch {epoch}\")\n",
    "            params, opt_state = update(opt_state, params, x, y)\n",
    "        \n",
    "    epoch_time = time.time() - start_time\n",
    "    epoch_times.append(epoch_time)\n",
    "    \n",
    "    loss, acc = evaluate(params, data.train_ds)\n",
    "    val_loss, val_acc = evaluate(params, data.val_ds)\n",
    "    \n",
    "    print('loss: {} - acc: {}'.format(loss, acc))\n",
    "    print('val_loss: {} - val_acc: {}'.format(val_loss, val_acc))\n",
    "    print('time: {}'.format(epoch_time))\n",
    "    \n",
    "    if args.wandb:\n",
    "        wandb.log({\"accuracy\": acc, \n",
    "                   \"val_accuracy\": val_acc, \n",
    "                   'loss':loss_value, \n",
    "                   'val_loss':val_loss})\n"
   ]
  },
  {
   "cell_type": "code",
   "execution_count": 49,
   "id": "cfafc1ab",
   "metadata": {
    "ExecuteTime": {
     "end_time": "2022-10-23T17:12:49.330547Z",
     "start_time": "2022-10-23T17:12:34.592580Z"
    },
    "scrolled": true
   },
   "outputs": [
    {
     "name": "stderr",
     "output_type": "stream",
     "text": [
      "Validation: 100%|█████████████████████████████████████████████████████████████████| 17/17 [00:14<00:00,  1.17batch/s]\n"
     ]
    },
    {
     "data": {
      "text/plain": [
       "(DeviceArray(0.02882859, dtype=float32),\n",
       " DeviceArray(0.97012866, dtype=float32))"
      ]
     },
     "execution_count": 49,
     "metadata": {},
     "output_type": "execute_result"
    }
   ],
   "source": [
    "test_loss, test_acc = evaluate(params, data.test_ds)\n",
    "test_loss, test_acc"
   ]
  },
  {
   "cell_type": "code",
   "execution_count": 50,
   "id": "c8776f86",
   "metadata": {
    "ExecuteTime": {
     "end_time": "2022-10-23T17:12:52.652966Z",
     "start_time": "2022-10-23T17:12:49.334765Z"
    }
   },
   "outputs": [
    {
     "name": "stderr",
     "output_type": "stream",
     "text": [
      "100%|█████████████████████████████████████████████████████████████████████████████| 80/80 [00:03<00:00, 25.29batch/s]\n"
     ]
    },
    {
     "data": {
      "text/plain": [
       "0.9999939741998716"
      ]
     },
     "execution_count": 50,
     "metadata": {},
     "output_type": "execute_result"
    }
   ],
   "source": [
    "from sklearn.metrics import roc_auc_score\n",
    "\n",
    "out,y_train = predict(params, data.train_ds)\n",
    "# _, y_test = tf_ds_to_numpy(data.test_ds)\n",
    "train_auc = roc_auc_score(y_train, out)\n",
    "train_auc"
   ]
  },
  {
   "cell_type": "code",
   "execution_count": 51,
   "id": "9a4571ee",
   "metadata": {
    "ExecuteTime": {
     "end_time": "2022-10-23T17:12:53.567691Z",
     "start_time": "2022-10-23T17:12:52.659246Z"
    }
   },
   "outputs": [
    {
     "name": "stderr",
     "output_type": "stream",
     "text": [
      "100%|█████████████████████████████████████████████████████████████████████████████| 17/17 [00:00<00:00, 21.23batch/s]\n"
     ]
    },
    {
     "data": {
      "text/plain": [
       "0.9990989391351254"
      ]
     },
     "execution_count": 51,
     "metadata": {},
     "output_type": "execute_result"
    }
   ],
   "source": [
    "from sklearn.metrics import roc_auc_score\n",
    "\n",
    "out,y_test = predict(params, data.test_ds)\n",
    "# _, y_test = tf_ds_to_numpy(data.test_ds)\n",
    "test_auc = roc_auc_score(y_test, out)\n",
    "test_auc"
   ]
  },
  {
   "cell_type": "code",
   "execution_count": 207,
   "id": "cd6ffd07",
   "metadata": {
    "ExecuteTime": {
     "end_time": "2022-08-18T12:31:47.449894Z",
     "start_time": "2022-08-18T12:31:45.674085Z"
    }
   },
   "outputs": [
    {
     "name": "stderr",
     "output_type": "stream",
     "text": [
      "\u001b[34m\u001b[1mwandb\u001b[0m: \u001b[33mWARNING\u001b[0m wandb uses only the first 10000 datapoints to create the plots.\n",
      "\u001b[34m\u001b[1mwandb\u001b[0m: \u001b[33mWARNING\u001b[0m wandb uses only the first 10000 datapoints to create the plots.\n"
     ]
    }
   ],
   "source": [
    "if args.wandb:\n",
    "    wandb.run.summary['test_loss'] = test_loss\n",
    "    wandb.run.summary['test_acc'] = test_acc\n",
    "    wandb.run.summary['test_auc'] = test_auc\n",
    "    wandb.run.summary['train_auc'] = train_auc\n",
    "    wandb.run.summary['avg_epoch_time'] = np.mean(np.array(epoch_times))\n",
    "    y = y_test.argmax(axis=1)\n",
    "    preds = out.argmax(axis=1)\n",
    "    probs = out\n",
    "    classes = data.mapping\n",
    "\n",
    "    roc_curve = wandb.sklearn.plot_roc(y, probs, classes)\n",
    "    confusion_matrix = wandb.sklearn.plot_confusion_matrix(y, preds, classes)\n",
    "\n",
    "    wandb.log({\"roc_curve\": roc_curve})\n",
    "    wandb.log({\"confusion_matrix\": confusion_matrix})"
   ]
  },
  {
   "cell_type": "code",
   "execution_count": 208,
   "id": "d256c76d",
   "metadata": {
    "ExecuteTime": {
     "end_time": "2022-08-18T12:32:01.828384Z",
     "start_time": "2022-08-18T12:31:48.539691Z"
    }
   },
   "outputs": [
    {
     "data": {
      "text/html": [
       "Waiting for W&B process to finish... <strong style=\"color:green\">(success).</strong>"
      ],
      "text/plain": [
       "<IPython.core.display.HTML object>"
      ]
     },
     "metadata": {},
     "output_type": "display_data"
    },
    {
     "data": {
      "application/vnd.jupyter.widget-view+json": {
       "model_id": "",
       "version_major": 2,
       "version_minor": 0
      },
      "text/plain": [
       "VBox(children=(Label(value='0.360 MB of 0.360 MB uploaded (0.000 MB deduped)\\r'), FloatProgress(value=1.0, max…"
      ]
     },
     "metadata": {},
     "output_type": "display_data"
    },
    {
     "data": {
      "text/html": [
       "<style>\n",
       "    table.wandb td:nth-child(1) { padding: 0 10px; text-align: left ; width: auto;} td:nth-child(2) {text-align: left ; width: 100%}\n",
       "    .wandb-row { display: flex; flex-direction: row; flex-wrap: wrap; justify-content: flex-start; width: 100% }\n",
       "    .wandb-col { display: flex; flex-direction: column; flex-basis: 100%; flex: 1; padding: 10px; }\n",
       "    </style>\n",
       "<div class=\"wandb-row\"><div class=\"wandb-col\"><h3>Run history:</h3><br/><table class=\"wandb\"><tr><td>accuracy</td><td>▁▆▅▄▆▆▆▄▇▅▇▆█▆▃▆▄▇▅▇▄▆▆▇▇▇▅▇▇▆▇▄▄▇▅▆▆▅▆▆</td></tr><tr><td>loss</td><td>█▅▅▇▃▄▄▆▄▅▃▃▁▃▅▄▅▂▆▃▅▄▅▄▂▃▅▂▁▃▂▆▄▃▅▄▃▄▃▂</td></tr><tr><td>val_accuracy</td><td>▁▅▆▇▇▇▇▇▇▇█▇████████████████████████████</td></tr><tr><td>val_loss</td><td>█▄▃▂▂▂▂▂▁▂▁▁▁▁▁▁▁▁▁▁▁▁▁▁▂▁▁▁▁▁▁▁▁▁▁▁▁▁▁▁</td></tr></table><br/></div><div class=\"wandb-col\"><h3>Run summary:</h3><br/><table class=\"wandb\"><tr><td>accuracy</td><td>0.66667</td></tr><tr><td>loss</td><td>0.30837</td></tr><tr><td>test_acc</td><td>0.68754</td></tr><tr><td>test_auc</td><td>0.74154</td></tr><tr><td>test_loss</td><td>0.30152</td></tr><tr><td>val_accuracy</td><td>0.68685</td></tr><tr><td>val_loss</td><td>0.3013</td></tr></table><br/></div></div>"
      ],
      "text/plain": [
       "<IPython.core.display.HTML object>"
      ]
     },
     "metadata": {},
     "output_type": "display_data"
    },
    {
     "data": {
      "text/html": [
       "Synced <strong style=\"color:#cdcd00\">true-forest-266</strong>: <a href=\"https://wandb.ai/gopald/qml-hep-lhc/runs/1claj9qv\" target=\"_blank\">https://wandb.ai/gopald/qml-hep-lhc/runs/1claj9qv</a><br/>Synced 5 W&B file(s), 2 media file(s), 2 artifact file(s) and 0 other file(s)"
      ],
      "text/plain": [
       "<IPython.core.display.HTML object>"
      ]
     },
     "metadata": {},
     "output_type": "display_data"
    },
    {
     "data": {
      "text/html": [
       "Find logs at: <code>./wandb/run-20220820_130940-1claj9qv/logs</code>"
      ],
      "text/plain": [
       "<IPython.core.display.HTML object>"
      ]
     },
     "metadata": {},
     "output_type": "display_data"
    }
   ],
   "source": [
    "if args.wandb:\n",
    "    wandb.finish()"
   ]
  },
  {
   "cell_type": "code",
   "execution_count": 32,
   "id": "0e98b225",
   "metadata": {
    "ExecuteTime": {
     "end_time": "2022-08-18T05:06:41.426383Z",
     "start_time": "2022-08-18T05:06:41.265770Z"
    }
   },
   "outputs": [
    {
     "name": "stdout",
     "output_type": "stream",
     "text": [
      "0 0.2\n",
      "1 0.19866668\n",
      "2 0.19733334\n",
      "3 0.19600001\n",
      "4 0.19466668\n",
      "5 0.19333333\n",
      "6 0.192\n",
      "7 0.19066668\n",
      "8 0.18933333\n",
      "9 0.18800001\n",
      "10 0.18666668\n",
      "11 0.18533334\n",
      "12 0.18400002\n",
      "13 0.18266669\n",
      "14 0.18133333\n",
      "15 0.18\n",
      "16 0.17866668\n",
      "17 0.17733334\n",
      "18 0.17600001\n",
      "19 0.17466669\n",
      "20 0.17333335\n",
      "21 0.17200002\n",
      "22 0.1706667\n",
      "23 0.16933335\n",
      "24 0.16800003\n",
      "25 0.16666669\n",
      "26 0.16533335\n",
      "27 0.16400002\n",
      "28 0.1626667\n",
      "29 0.16133335\n",
      "30 0.16000003\n",
      "31 0.15866669\n",
      "32 0.15733334\n",
      "33 0.15600002\n",
      "34 0.15466669\n",
      "35 0.15333335\n",
      "36 0.15200002\n",
      "37 0.1506667\n",
      "38 0.14933336\n",
      "39 0.14800003\n",
      "40 0.1466667\n",
      "41 0.14533336\n",
      "42 0.14400004\n",
      "43 0.14266671\n",
      "44 0.14133336\n",
      "45 0.14000003\n",
      "46 0.1386667\n",
      "47 0.13733336\n",
      "48 0.13600004\n",
      "49 0.1346667\n",
      "50 0.13333336\n",
      "51 0.13200003\n",
      "52 0.1306667\n",
      "53 0.12933336\n",
      "54 0.12800004\n",
      "55 0.12666671\n",
      "56 0.12533337\n",
      "57 0.124000035\n",
      "58 0.1226667\n",
      "59 0.121333376\n",
      "60 0.12000004\n",
      "61 0.11866671\n",
      "62 0.11733337\n",
      "63 0.116000034\n",
      "64 0.1146667\n",
      "65 0.113333374\n",
      "66 0.11200004\n",
      "67 0.1106667\n",
      "68 0.109333366\n",
      "69 0.10800003\n",
      "70 0.10666671\n",
      "71 0.10533337\n",
      "72 0.10400004\n",
      "73 0.102666706\n",
      "74 0.10133338\n",
      "75 0.100000046\n",
      "76 0.09866671\n",
      "77 0.09733339\n",
      "78 0.09600004\n",
      "79 0.09466671\n",
      "80 0.09333338\n",
      "81 0.092000045\n",
      "82 0.09066671\n",
      "83 0.089333385\n",
      "84 0.08800005\n",
      "85 0.08666672\n",
      "86 0.08533339\n",
      "87 0.08400004\n",
      "88 0.08266672\n",
      "89 0.081333384\n",
      "90 0.08000005\n",
      "91 0.07866672\n",
      "92 0.07733339\n",
      "93 0.07600006\n",
      "94 0.07466672\n",
      "95 0.0733334\n",
      "96 0.072000064\n",
      "97 0.07066672\n",
      "98 0.06933339\n",
      "99 0.068000056\n",
      "100 0.06666672\n",
      "101 0.065333396\n",
      "102 0.06400006\n",
      "103 0.06266673\n",
      "104 0.061333403\n",
      "105 0.060000073\n",
      "106 0.05866673\n",
      "107 0.0573334\n",
      "108 0.056000065\n",
      "109 0.054666735\n",
      "110 0.053333405\n",
      "111 0.05200007\n",
      "112 0.050666742\n",
      "113 0.04933341\n",
      "114 0.04800008\n",
      "115 0.046666734\n",
      "116 0.045333404\n",
      "117 0.04400007\n",
      "118 0.04266674\n",
      "119 0.04133341\n",
      "120 0.040000077\n",
      "121 0.038666748\n",
      "122 0.037333414\n",
      "123 0.036000084\n",
      "124 0.03466674\n",
      "125 0.03333341\n",
      "126 0.032000076\n",
      "127 0.030666746\n",
      "128 0.029333415\n",
      "129 0.028000083\n",
      "130 0.026666753\n",
      "131 0.025333421\n",
      "132 0.02400009\n",
      "133 0.022666747\n",
      "134 0.021333415\n",
      "135 0.020000083\n",
      "136 0.018666752\n",
      "137 0.01733342\n",
      "138 0.016000088\n",
      "139 0.014666757\n",
      "140 0.013333426\n",
      "141 0.012000094\n",
      "142 0.01066675\n",
      "143 0.00933342\n",
      "144 0.008000088\n",
      "145 0.006666757\n",
      "146 0.0053334255\n",
      "147 0.0040000943\n",
      "148 0.0026667626\n",
      "149 0.0013334313\n",
      "150 1e-07\n",
      "151 1e-07\n",
      "152 1e-07\n",
      "153 1e-07\n",
      "154 1e-07\n",
      "155 1e-07\n",
      "156 1e-07\n",
      "157 1e-07\n",
      "158 1e-07\n",
      "159 1e-07\n",
      "160 1e-07\n",
      "161 1e-07\n",
      "162 1e-07\n",
      "163 1e-07\n",
      "164 1e-07\n",
      "165 1e-07\n",
      "166 1e-07\n",
      "167 1e-07\n",
      "168 1e-07\n",
      "169 1e-07\n",
      "170 1e-07\n",
      "171 1e-07\n",
      "172 1e-07\n",
      "173 1e-07\n",
      "174 1e-07\n",
      "175 1e-07\n",
      "176 1e-07\n",
      "177 1e-07\n",
      "178 1e-07\n",
      "179 1e-07\n",
      "180 1e-07\n",
      "181 1e-07\n",
      "182 1e-07\n",
      "183 1e-07\n",
      "184 1e-07\n",
      "185 1e-07\n",
      "186 1e-07\n",
      "187 1e-07\n",
      "188 1e-07\n",
      "189 1e-07\n",
      "190 1e-07\n",
      "191 1e-07\n",
      "192 1e-07\n",
      "193 1e-07\n",
      "194 1e-07\n",
      "195 1e-07\n",
      "196 1e-07\n",
      "197 1e-07\n",
      "198 1e-07\n",
      "199 1e-07\n"
     ]
    }
   ],
   "source": [
    "for i in range(200):\n",
    "    print(i, schedule_fn(i))"
   ]
  },
  {
   "cell_type": "code",
   "execution_count": null,
   "id": "97bd7ef7",
   "metadata": {},
   "outputs": [],
   "source": []
  }
 ],
 "metadata": {
  "kernelspec": {
   "display_name": "Python 3 (ipykernel)",
   "language": "python",
   "name": "python3"
  },
  "language_info": {
   "codemirror_mode": {
    "name": "ipython",
    "version": 3
   },
   "file_extension": ".py",
   "mimetype": "text/x-python",
   "name": "python",
   "nbconvert_exporter": "python",
   "pygments_lexer": "ipython3",
   "version": "3.7.13"
  },
  "latex_envs": {
   "LaTeX_envs_menu_present": true,
   "autoclose": false,
   "autocomplete": true,
   "bibliofile": "biblio.bib",
   "cite_by": "apalike",
   "current_citInitial": 1,
   "eqLabelWithNumbers": true,
   "eqNumInitial": 1,
   "hotkeys": {
    "equation": "Ctrl-E",
    "itemize": "Ctrl-I"
   },
   "labels_anchors": false,
   "latex_user_defs": false,
   "report_style_numbering": false,
   "user_envs_cfg": false
  },
  "toc": {
   "base_numbering": 1,
   "nav_menu": {},
   "number_sections": true,
   "sideBar": true,
   "skip_h1_title": false,
   "title_cell": "Table of Contents",
   "title_sidebar": "Contents",
   "toc_cell": false,
   "toc_position": {},
   "toc_section_display": true,
   "toc_window_display": false
  }
 },
 "nbformat": 4,
 "nbformat_minor": 5
}
