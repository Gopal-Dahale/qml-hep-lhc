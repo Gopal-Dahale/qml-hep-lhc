{
 "cells": [
  {
   "cell_type": "code",
   "execution_count": 1,
   "id": "d28a72a2",
   "metadata": {
    "ExecuteTime": {
     "end_time": "2022-10-01T04:11:47.415785Z",
     "start_time": "2022-10-01T04:11:43.243203Z"
    }
   },
   "outputs": [],
   "source": [
    "from importlib.util import find_spec\n",
    "%load_ext autoreload\n",
    "%autoreload 2\n",
    "\n",
    "%matplotlib inline\n",
    "\n",
    "if find_spec(\"qml_hep_lhc\") is None:\n",
    "    import sys\n",
    "    sys.path.append('../..')"
   ]
  },
  {
   "cell_type": "code",
   "execution_count": 189,
   "id": "7a7a9c90",
   "metadata": {
    "ExecuteTime": {
     "end_time": "2022-10-01T07:29:57.486649Z",
     "start_time": "2022-10-01T07:29:57.384853Z"
    }
   },
   "outputs": [],
   "source": [
    "from qml_hep_lhc.data import ElectronPhoton, MNIST, QuarkGluon\n",
    "from qml_hep_lhc.data.utils import tf_ds_to_numpy, create_tf_ds\n",
    "import argparse\n",
    "import wandb\n",
    "\n",
    "import pennylane as qml\n",
    "import jax.numpy as jnp\n",
    "import jax\n",
    "import optax\n",
    "from jax.nn.initializers import he_uniform, glorot_uniform\n",
    "from jax import grad, jit, vmap\n",
    "import random\n",
    "import flax.linen as nn\n",
    "import tensorflow_datasets as tfds\n",
    "from tqdm import tqdm\n",
    "import numpy as np\n",
    "import tensorflow as tf\n",
    "\n",
    "\n",
    "import matplotlib.pyplot as plt\n",
    "import time"
   ]
  },
  {
   "cell_type": "code",
   "execution_count": 3,
   "id": "53cce28d",
   "metadata": {
    "ExecuteTime": {
     "end_time": "2022-10-01T04:12:50.193242Z",
     "start_time": "2022-10-01T04:12:49.797932Z"
    }
   },
   "outputs": [
    {
     "name": "stderr",
     "output_type": "stream",
     "text": [
      "WARNING:absl:No GPU/TPU found, falling back to CPU. (Set TF_CPP_MIN_LOG_LEVEL=0 and rerun for more info.)\n"
     ]
    },
    {
     "data": {
      "text/plain": [
       "[CpuDevice(id=0)]"
      ]
     },
     "execution_count": 3,
     "metadata": {},
     "output_type": "execute_result"
    }
   ],
   "source": [
    "jax.devices()"
   ]
  },
  {
   "cell_type": "code",
   "execution_count": 308,
   "id": "7a7944e9",
   "metadata": {
    "ExecuteTime": {
     "end_time": "2022-10-01T08:18:46.000614Z",
     "start_time": "2022-10-01T08:18:45.909637Z"
    }
   },
   "outputs": [],
   "source": [
    "args = argparse.Namespace()\n",
    "\n",
    "# Data\n",
    "args.center_crop = 0.7\n",
    "args.resize = [8,8]\n",
    "args.normalize = 1\n",
    "args.binary_data = [0,1]\n",
    "args.batch_size = 64\n",
    "args.validation_split = 0.05\n",
    "# args.labels_to_categorical = 1\n",
    "# args.processed = 1\n",
    "\n",
    "# Base Model\n",
    "args.wandb = False\n",
    "\n",
    "# Quantum CNN Parameters\n",
    "args.n_layers = 1\n",
    "args.n_qubits = 1\n",
    "args.template = 'NQubitPQC'\n",
    "args.initializer = 'he_uniform'\n",
    "args.opt = 'adam'\n",
    "args.margin = 1  # Margin for constrastive loss.\n",
    "\n",
    "args.num_qconv_layers = 1\n",
    "args.qconv_dims = [1]\n",
    "args.kernel_sizes = [(3, 3)]\n",
    "args.strides = [(1, 1)]\n",
    "args.paddings = [\"SAME\"]\n",
    "\n",
    "args.clayer_sizes = [8, 2]"
   ]
  },
  {
   "cell_type": "code",
   "execution_count": 309,
   "id": "d347947e",
   "metadata": {
    "ExecuteTime": {
     "end_time": "2022-10-01T08:18:46.733807Z",
     "start_time": "2022-10-01T08:18:46.640236Z"
    }
   },
   "outputs": [],
   "source": [
    "if args.wandb:\n",
    "     wandb.init(project='qml-hep-lhc', config = vars(args))"
   ]
  },
  {
   "cell_type": "code",
   "execution_count": 310,
   "id": "ce4dec05",
   "metadata": {
    "ExecuteTime": {
     "end_time": "2022-10-01T08:18:51.380894Z",
     "start_time": "2022-10-01T08:18:47.875866Z"
    }
   },
   "outputs": [
    {
     "name": "stdout",
     "output_type": "stream",
     "text": [
      "Binarizing data...\n",
      "Binarizing data...\n",
      "Center cropping...\n",
      "Center cropping...\n",
      "Resizing data...\n",
      "Resizing data...\n",
      "Normalizing data...\n",
      "\n",
      "Dataset :MNIST\n",
      "╒════════╤══════════════════╤════════════════╤═════════════════╤═══════════╕\n",
      "│ Data   │ Train size       │ Val size       │ Test size       │ Dims      │\n",
      "╞════════╪══════════════════╪════════════════╪═════════════════╪═══════════╡\n",
      "│ X      │ (12031, 8, 8, 1) │ (634, 8, 8, 1) │ (2115, 8, 8, 1) │ (8, 8, 1) │\n",
      "├────────┼──────────────────┼────────────────┼─────────────────┼───────────┤\n",
      "│ y      │ (12031,)         │ (634,)         │ (2115,)         │ (1,)      │\n",
      "╘════════╧══════════════════╧════════════════╧═════════════════╧═══════════╛\n",
      "\n",
      "╒══════════════╤═══════╤═══════╤════════╤═══════╤══════════════════════════╕\n",
      "│ Type         │   Min │   Max │   Mean │   Std │ Samples for each class   │\n",
      "╞══════════════╪═══════╪═══════╪════════╪═══════╪══════════════════════════╡\n",
      "│ Train Images │     0 │  0.82 │   0.07 │  0.11 │ [6405, 5626]             │\n",
      "├──────────────┼───────┼───────┼────────┼───────┼──────────────────────────┤\n",
      "│ Val Images   │     0 │  0.62 │   0.07 │  0.11 │ [337, 297]               │\n",
      "├──────────────┼───────┼───────┼────────┼───────┼──────────────────────────┤\n",
      "│ Test Images  │     0 │  0.6  │   0.07 │  0.11 │ [1135, 980]              │\n",
      "╘══════════════╧═══════╧═══════╧════════╧═══════╧══════════════════════════╛\n",
      "\n",
      "\n"
     ]
    }
   ],
   "source": [
    "data = MNIST(args)\n",
    "data.prepare_data()\n",
    "data.setup()\n",
    "print(data)"
   ]
  },
  {
   "cell_type": "code",
   "execution_count": 311,
   "id": "cb5b0881",
   "metadata": {
    "ExecuteTime": {
     "end_time": "2022-10-01T08:18:58.468155Z",
     "start_time": "2022-10-01T08:18:55.358156Z"
    }
   },
   "outputs": [
    {
     "name": "stdout",
     "output_type": "stream",
     "text": [
      "(12031, 8, 8, 1) (634, 8, 8, 1) (2115, 8, 8, 1)\n"
     ]
    }
   ],
   "source": [
    "# x_train, y_train =  tf_ds_to_numpy(data.train_ds) \n",
    "# del data.train_ds\n",
    "\n",
    "# x_val, y_val =  tf_ds_to_numpy(data.val_ds) \n",
    "# del data.val_ds\n",
    "\n",
    "# x_test, y_test =  tf_ds_to_numpy(data.test_ds) \n",
    "# del data.test_ds\n",
    "\n",
    "print(x_train.shape, x_val.shape, x_test.shape)"
   ]
  },
  {
   "cell_type": "code",
   "execution_count": 312,
   "id": "d104eaa7",
   "metadata": {
    "ExecuteTime": {
     "end_time": "2022-10-01T08:19:11.496878Z",
     "start_time": "2022-10-01T08:19:11.092894Z"
    }
   },
   "outputs": [
    {
     "name": "stderr",
     "output_type": "stream",
     "text": [
      "/home/gopald/Documents/qml-hep-lhc/qenv/lib/python3.7/site-packages/ipykernel_launcher.py:15: DeprecationWarning: In future, it will be an error for 'np.bool_' scalars to be interpreted as an index\n",
      "  from ipykernel import kernelapp as app\n"
     ]
    }
   ],
   "source": [
    "def make_pairs(x, y):\n",
    "    \"\"\"Creates a tuple containing image pairs with corresponding label.\n",
    "    \"\"\"\n",
    "    \n",
    "    num_classes = len(data.config()['mapping'])\n",
    "    digit_indices = [np.where(y == i)[0] for i in range(num_classes)]\n",
    "\n",
    "    pairs = []\n",
    "    labels = []\n",
    "\n",
    "    for idx1 in range(len(x)):\n",
    "        # add a matching example\n",
    "        x1 = x[idx1]\n",
    "        label1 = y[idx1]\n",
    "        idx2 = random.choice(digit_indices[label1])\n",
    "        x2 = x[idx2]\n",
    "\n",
    "        pairs += [[x1, x2]]\n",
    "        labels += [0]\n",
    "\n",
    "        # add a non-matching example\n",
    "        label2 = random.randint(0, num_classes - 1)\n",
    "        while label2 == label1:\n",
    "            label2 = random.randint(0, num_classes - 1)\n",
    "\n",
    "        idx2 = random.choice(digit_indices[label2])\n",
    "        x2 = x[idx2]\n",
    "\n",
    "        pairs += [[x1, x2]]\n",
    "        labels += [1]\n",
    "\n",
    "    return np.array(pairs), np.array(labels).astype(\"float32\")\n",
    "\n",
    "\n",
    "# make train pairs\n",
    "pairs_train, labels_train = make_pairs(x_train, y_train)\n",
    "\n",
    "# make validation pairs\n",
    "pairs_val, labels_val = make_pairs(x_val, y_val)\n",
    "\n",
    "# make test pairs\n",
    "pairs_test, labels_test = make_pairs(x_test, y_test)"
   ]
  },
  {
   "cell_type": "code",
   "execution_count": 225,
   "id": "13c9f85d",
   "metadata": {
    "ExecuteTime": {
     "end_time": "2022-10-01T07:53:53.092432Z",
     "start_time": "2022-10-01T07:53:52.987702Z"
    }
   },
   "outputs": [
    {
     "name": "stdout",
     "output_type": "stream",
     "text": [
      "(1140, 2, 8, 8, 1) (60, 2, 8, 8, 1) (400, 2, 8, 8, 1)\n",
      "(1140,) (60,) (400,)\n"
     ]
    }
   ],
   "source": [
    "print(pairs_train.shape, pairs_val.shape, pairs_test.shape)\n",
    "print(labels_train.shape, labels_val.shape, labels_test.shape)"
   ]
  },
  {
   "cell_type": "code",
   "execution_count": 313,
   "id": "12346133",
   "metadata": {
    "ExecuteTime": {
     "end_time": "2022-10-01T08:19:41.909791Z",
     "start_time": "2022-10-01T08:19:41.819702Z"
    }
   },
   "outputs": [],
   "source": [
    "def visualize(pairs, labels, to_show=6, num_col=3, predictions=None, test=False):\n",
    "    \"\"\"Creates a plot of pairs and labels, and prediction if it's test dataset.\n",
    "\n",
    "    Arguments:\n",
    "        pairs: Numpy Array, of pairs to visualize, having shape\n",
    "               (Number of pairs, 2, 28, 28).\n",
    "        to_show: Int, number of examples to visualize (default is 6)\n",
    "                `to_show` must be an integral multiple of `num_col`.\n",
    "                 Otherwise it will be trimmed if it is greater than num_col,\n",
    "                 and incremented if if it is less then num_col.\n",
    "        num_col: Int, number of images in one row - (default is 3)\n",
    "                 For test and train respectively, it should not exceed 3 and 7.\n",
    "        predictions: Numpy Array of predictions with shape (to_show, 1) -\n",
    "                     (default is None)\n",
    "                     Must be passed when test=True.\n",
    "        test: Boolean telling whether the dataset being visualized is\n",
    "              train dataset or test dataset - (default False).\n",
    "\n",
    "    Returns:\n",
    "        None.\n",
    "    \"\"\"\n",
    "\n",
    "    # Define num_row\n",
    "    # If to_show % num_col != 0\n",
    "    #    trim to_show,\n",
    "    #       to trim to_show limit num_row to the point where\n",
    "    #       to_show % num_col == 0\n",
    "    #\n",
    "    # If to_show//num_col == 0\n",
    "    #    then it means num_col is greater then to_show\n",
    "    #    increment to_show\n",
    "    #       to increment to_show set num_row to 1\n",
    "    num_row = to_show // num_col if to_show // num_col != 0 else 1\n",
    "\n",
    "    # `to_show` must be an integral multiple of `num_col`\n",
    "    #  we found num_row and we have num_col\n",
    "    #  to increment or decrement to_show\n",
    "    #  to make it integral multiple of `num_col`\n",
    "    #  simply set it equal to num_row * num_col\n",
    "    to_show = num_row * num_col\n",
    "\n",
    "    # Plot the images\n",
    "    fig, axes = plt.subplots(num_row, num_col, figsize=(5, 5))\n",
    "    for i in range(to_show):\n",
    "\n",
    "        # If the number of rows is 1, the axes array is one-dimensional\n",
    "        if num_row == 1:\n",
    "            ax = axes[i % num_col]\n",
    "        else:\n",
    "            ax = axes[i // num_col, i % num_col]\n",
    "\n",
    "        ax.imshow(tf.concat([pairs[i][0], pairs[i][1]], axis=1), cmap=\"gray\")\n",
    "        ax.set_axis_off()\n",
    "        if test:\n",
    "            ax.set_title(\"True: {} | Pred: {:.5f}\".format(labels[i], predictions[i][0]))\n",
    "        else:\n",
    "            ax.set_title(\"Label: {}\".format(labels[i]))\n",
    "    if test:\n",
    "        plt.tight_layout(rect=(0, 0, 1.9, 1.9), w_pad=0.0)\n",
    "    else:\n",
    "        plt.tight_layout(rect=(0, 0, 1.5, 1.5))\n",
    "    plt.show()"
   ]
  },
  {
   "cell_type": "code",
   "execution_count": 319,
   "id": "f3915b55",
   "metadata": {
    "ExecuteTime": {
     "end_time": "2022-10-01T08:20:41.954586Z",
     "start_time": "2022-10-01T08:20:41.498973Z"
    }
   },
   "outputs": [
    {
     "data": {
      "image/png": "[encoded data removed]",
      "text/plain": [
       "<Figure size 360x360 with 5 Axes>"
      ]
     },
     "metadata": {
      "needs_background": "light"
     },
     "output_type": "display_data"
    }
   ],
   "source": [
    "visualize(pairs_train[:-1], labels_train[:-1], to_show=5, num_col=5)"
   ]
  },
  {
   "cell_type": "code",
   "execution_count": 320,
   "id": "f81a41ef",
   "metadata": {
    "ExecuteTime": {
     "end_time": "2022-10-01T08:20:46.409218Z",
     "start_time": "2022-10-01T08:20:46.302092Z"
    }
   },
   "outputs": [],
   "source": [
    "data.train_ds = create_tf_ds(pairs_train, labels_train, args.batch_size)\n",
    "data.val_ds = create_tf_ds(pairs_val,labels_val,  args.batch_size)\n",
    "data.test_ds = create_tf_ds(pairs_test, labels_test, args.batch_size)"
   ]
  },
  {
   "cell_type": "markdown",
   "id": "74329b45",
   "metadata": {},
   "source": [
    "## Hyperparameters"
   ]
  },
  {
   "cell_type": "code",
   "execution_count": 321,
   "id": "884dcb6e",
   "metadata": {
    "ExecuteTime": {
     "end_time": "2022-10-01T08:20:47.300058Z",
     "start_time": "2022-10-01T08:20:47.211141Z"
    }
   },
   "outputs": [
    {
     "data": {
      "text/plain": [
       "(8, 8, 1)"
      ]
     },
     "execution_count": 321,
     "metadata": {},
     "output_type": "execute_result"
    }
   ],
   "source": [
    "input_dims = data.config()['input_dims']\n",
    "input_dims"
   ]
  },
  {
   "cell_type": "code",
   "execution_count": 322,
   "id": "485ef1fa",
   "metadata": {
    "ExecuteTime": {
     "end_time": "2022-10-01T08:20:48.036268Z",
     "start_time": "2022-10-01T08:20:47.959198Z"
    }
   },
   "outputs": [],
   "source": [
    "def get_out_shape(in_shape,f, k, s, padding):\n",
    "    in_shape = (1,) + in_shape\n",
    "    a = np.random.uniform(size = (in_shape))\n",
    "    dn = jax.lax.conv_dimension_numbers(a.shape, (1,1,k[0],k[1]), ('NHWC', 'IOHW', 'NHWC'))\n",
    "    out = jax.lax.conv_general_dilated_patches(lhs = a,\n",
    "                                           filter_shape= k,\n",
    "                                           window_strides=s,\n",
    "                                           padding=padding,\n",
    "                                           dimension_numbers=dn \n",
    "                                    )\n",
    "    return out.shape[1:3]+(f,)"
   ]
  },
  {
   "cell_type": "code",
   "execution_count": 323,
   "id": "b17ff04e",
   "metadata": {
    "ExecuteTime": {
     "end_time": "2022-10-01T08:20:48.871929Z",
     "start_time": "2022-10-01T08:20:48.784645Z"
    }
   },
   "outputs": [],
   "source": [
    "# Get qlayer sizes\n",
    "def get_qlayer_sizes(template, n_l, n_q, k_size):\n",
    "    if template == 'NQubitPQCSparse':\n",
    "        return {\n",
    "            'w': (n_l, n_q,3,np.prod(k_size)),\n",
    "            'b': (n_l,n_q,3,1)\n",
    "        }\n",
    "    elif template == 'NQubitPQC':\n",
    "        assert np.prod(k_size)%3 == 0\n",
    "        return {\n",
    "            'w': (n_l,n_q,np.prod(k_size)),\n",
    "            'b': (n_l,n_q,np.prod(k_size))\n",
    "        }\n",
    "\n",
    "initializer = he_uniform()"
   ]
  },
  {
   "cell_type": "code",
   "execution_count": 324,
   "id": "ec1a45e5",
   "metadata": {
    "ExecuteTime": {
     "end_time": "2022-10-01T08:20:50.933974Z",
     "start_time": "2022-10-01T08:20:50.852882Z"
    }
   },
   "outputs": [],
   "source": [
    "def random_qlayer_params(size, key, filters, n_channels, scale=1e-1):\n",
    "    w =  initializer(key, size)\n",
    "    tile_shape = (filters,n_channels,) + (1,)*len(size)\n",
    "    w = jnp.tile(w, tile_shape)\n",
    "    return w\n",
    "\n",
    "def init_qnetwork_params(in_shape, filters, kernel_size, strides, padding, template, n_l, n_q, key):\n",
    "    n_channels = in_shape[-1]\n",
    "    sizes = get_qlayer_sizes(template, n_l,n_q, kernel_size)\n",
    "    keys = jax.random.split(key, len(sizes))\n",
    "    return [random_qlayer_params(size, key, filters, n_channels) for size, key in zip(sizes.values(), keys)]"
   ]
  },
  {
   "cell_type": "code",
   "execution_count": 325,
   "id": "1c07a61b",
   "metadata": {
    "ExecuteTime": {
     "end_time": "2022-10-01T08:20:51.226267Z",
     "start_time": "2022-10-01T08:20:51.137655Z"
    }
   },
   "outputs": [],
   "source": [
    "# A helper function to randomly initialize weights and biases\n",
    "# for a dense neural network layer\n",
    "def random_clayer_params(m, n, key, scale=1e-1):\n",
    "    w_key, b_key = jax.random.split(key)\n",
    "    return initializer(w_key, (n,m)), jax.random.normal(b_key, (n,))\n",
    "    return scale * random.normal(w_key, (n, m)), scale * jax.random.normal(b_key, (n,))\n",
    "\n",
    "# Initialize all layers for a fully-connected neural network with sizes \"sizes\"\n",
    "def init_network_params(sizes, key):\n",
    "    keys = jax.random.split(key, len(sizes))\n",
    "    return [random_clayer_params(m, n, k) for m, n, k in zip(sizes[:-1], sizes[1:], keys)]"
   ]
  },
  {
   "cell_type": "code",
   "execution_count": 326,
   "id": "a821743c",
   "metadata": {
    "ExecuteTime": {
     "end_time": "2022-10-01T08:20:52.125781Z",
     "start_time": "2022-10-01T08:20:52.028431Z"
    }
   },
   "outputs": [],
   "source": [
    "num_qconv_layers = args.num_qconv_layers\n",
    "qconv_dims = args.qconv_dims\n",
    "kernel_sizes = args.kernel_sizes\n",
    "strides = args.strides\n",
    "paddings = args.paddings\n",
    "clayer_sizes = args.clayer_sizes\n",
    "margin = args.margin\n",
    "\n",
    "template = args.template\n",
    "n_layers = args.n_layers\n",
    "n_qubits = args.n_qubits"
   ]
  },
  {
   "cell_type": "code",
   "execution_count": 327,
   "id": "2cee9850",
   "metadata": {
    "ExecuteTime": {
     "end_time": "2022-10-01T08:20:52.747369Z",
     "start_time": "2022-10-01T08:20:52.658388Z"
    }
   },
   "outputs": [
    {
     "name": "stdout",
     "output_type": "stream",
     "text": [
      "(8, 8, 1)\n"
     ]
    },
    {
     "name": "stderr",
     "output_type": "stream",
     "text": [
      "/home/gopald/Documents/qml-hep-lhc/qenv/lib/python3.7/site-packages/jax/_src/lax/other.py:97: UserWarning: Explicitly requested dtype float64 requested in eye is not available, and will be truncated to dtype float32. To enable more dtypes, set the jax_enable_x64 configuration option or the JAX_ENABLE_X64 shell environment variable. See https://github.com/google/jax#current-gotchas for more.\n",
      "  rhs = jnp.eye(spatial_size, dtype=lhs.dtype).reshape(filter_shape * 2)\n"
     ]
    }
   ],
   "source": [
    "in_shape = input_dims\n",
    "params = []\n",
    "for l in range(num_qconv_layers):\n",
    "    qconv_params = init_qnetwork_params(in_shape, \n",
    "                                         qconv_dims[l], \n",
    "                                         kernel_sizes[l], \n",
    "                                         strides[l], \n",
    "                                         paddings[l],\n",
    "                                         template, \n",
    "                                         n_layers,\n",
    "                                         n_qubits,\n",
    "                                         jax.random.PRNGKey(l))\n",
    "    params += [qconv_params]\n",
    "    in_shape = get_out_shape(in_shape,qconv_dims[l],kernel_sizes[l],strides[l],paddings[l])\n",
    "    print(in_shape)\n",
    "    \n",
    "\n",
    "num_pixels = np.prod(in_shape)\n",
    "clayer_sizes = [num_pixels] + clayer_sizes\n",
    "\n",
    "params += init_network_params(clayer_sizes, jax.random.PRNGKey(2))\n",
    "params += init_network_params([1,1], jax.random.PRNGKey(3))"
   ]
  },
  {
   "cell_type": "code",
   "execution_count": 328,
   "id": "5b368d89",
   "metadata": {
    "ExecuteTime": {
     "end_time": "2022-10-01T08:20:53.344782Z",
     "start_time": "2022-10-01T08:20:53.271149Z"
    }
   },
   "outputs": [
    {
     "name": "stdout",
     "output_type": "stream",
     "text": [
      "(1, 1, 1, 1, 9) (1, 1, 1, 1, 9) \n",
      "(8, 64) (8,) \n",
      "(2, 8) (2,) \n",
      "(1, 1) (1,) \n"
     ]
    }
   ],
   "source": [
    "for i in params:\n",
    "    for j in i:\n",
    "        print(j.shape, end = ' ')\n",
    "    print()"
   ]
  },
  {
   "cell_type": "markdown",
   "id": "0cc04079",
   "metadata": {},
   "source": [
    "## QLayers"
   ]
  },
  {
   "cell_type": "code",
   "execution_count": 329,
   "id": "b5a64b72",
   "metadata": {
    "ExecuteTime": {
     "end_time": "2022-10-01T08:20:56.078153Z",
     "start_time": "2022-10-01T08:20:55.979825Z"
    }
   },
   "outputs": [],
   "source": [
    "dev = qml.device('default.qubit.jax', wires=n_qubits)\n",
    "qubits =list(range(n_qubits))\n",
    "\n",
    "@jax.jit\n",
    "@qml.qnode(dev, interface='jax')\n",
    "def NQubitPQCSparse(inputs, w, b):\n",
    "\n",
    "    z = jnp.dot(w, jnp.transpose(inputs))+ b\n",
    "\n",
    "    for q in qubits:\n",
    "        qml.Hadamard(wires=q)\n",
    "    \n",
    "    for l in range(n_layers):\n",
    "        for q in qubits:\n",
    "            qml.Rot(z[l,q,0], z[l,q,1], z[l,q,2], wires= q)\n",
    "        if (l & 1):\n",
    "            for q0, q1 in zip(qubits[1::2], qubits[2::2] + [qubits[0]]):\n",
    "                qml.CZ((q0,q1))\n",
    "        else:\n",
    "            for q0, q1 in zip(qubits[0::2], qubits[1::2]):\n",
    "                qml.CZ((q0,q1))\n",
    "   \n",
    "    return qml.expval(qml.PauliZ(qubits[-1]))"
   ]
  },
  {
   "cell_type": "code",
   "execution_count": 330,
   "id": "caaf2386",
   "metadata": {
    "ExecuteTime": {
     "end_time": "2022-10-01T08:20:56.494586Z",
     "start_time": "2022-10-01T08:20:56.344181Z"
    }
   },
   "outputs": [],
   "source": [
    "dev = qml.device('default.qubit.jax', wires=n_qubits)\n",
    "qubits =list(range(n_qubits))\n",
    "\n",
    "@jax.jit\n",
    "@qml.qnode(dev, interface='jax')\n",
    "def NQubitPQC(inputs, w, b):\n",
    "    steps = inputs.shape[-1]//3\n",
    "    for q in qubits:\n",
    "        qml.Hadamard(wires=q)\n",
    "    \n",
    "    for l in range(n_layers):\n",
    "        for q in qubits:\n",
    "            for i in range(steps):\n",
    "                z = jnp.transpose(jnp.multiply(inputs[:,3*i:3*i+3],w[l,q,3*i:3*i+3]) + b[l,q,3*i:3*i+3])\n",
    "                qml.RZ(z[0], wires=q)\n",
    "                qml.RY(z[1], wires=q)\n",
    "                qml.RZ(z[2], wires=q)\n",
    "                \n",
    "        if (l & 1):\n",
    "            for q0, q1 in zip(qubits[1::2], qubits[2::2] + [qubits[0]]):\n",
    "                qml.CZ((q0,q1))\n",
    "        else:\n",
    "            for q0, q1 in zip(qubits[0::2], qubits[1::2]):\n",
    "                qml.CZ((q0,q1))\n",
    "\n",
    "    return qml.expval(qml.PauliZ(qubits[-1]))"
   ]
  },
  {
   "cell_type": "code",
   "execution_count": 331,
   "id": "4b084fed",
   "metadata": {
    "ExecuteTime": {
     "end_time": "2022-10-01T08:20:56.847355Z",
     "start_time": "2022-10-01T08:20:56.706187Z"
    }
   },
   "outputs": [],
   "source": [
    "def get_node(template):\n",
    "    if template == 'NQubitPQC':\n",
    "        return NQubitPQC\n",
    "    elif template == 'NQubitPQCSparse':\n",
    "        return NQubitPQCSparse"
   ]
  },
  {
   "cell_type": "code",
   "execution_count": 332,
   "id": "94ff6d15",
   "metadata": {
    "ExecuteTime": {
     "end_time": "2022-10-01T08:20:57.405789Z",
     "start_time": "2022-10-01T08:20:57.252263Z"
    }
   },
   "outputs": [],
   "source": [
    "def qconv_cop(x, w,b):\n",
    "    end_dim = x.shape[-1]\n",
    "    iters = x.shape[1:3]\n",
    "    x = jnp.reshape(x , (-1,)+ (end_dim,))\n",
    "    x = get_node(template)(x, w, b)\n",
    "    x = jnp.reshape(x, (-1,) + iters)\n",
    "    return x\n",
    "\n",
    "batched_qconv_cop = vmap(qconv_cop, in_axes=(3, 0, 0))\n",
    "\n",
    "def qconv_fop(x, w, b):\n",
    "    x = batched_qconv_cop(x,w,b)\n",
    "    x = jnp.sum(x, axis= 0)\n",
    "    return x\n",
    "\n",
    "batched_qconv_fop = vmap(qconv_fop, in_axes=(None,0,0))\n",
    "\n",
    "def qconv(x, params, filters, kernel_size, stride, padding):\n",
    "    n_channels = x.shape[-1]\n",
    "    x = jnp.expand_dims(x,axis=0)\n",
    "    dn = jax.lax.conv_dimension_numbers(x.shape, \n",
    "                                        (1,1,kernel_size[0],kernel_size[1]), \n",
    "                                        ('NHWC', 'IOHW', 'NHWC'))\n",
    "    x = jax.lax.conv_general_dilated_patches(lhs = x,\n",
    "                                               filter_shape= kernel_size,\n",
    "                                               window_strides=stride,\n",
    "                                               padding=padding,\n",
    "                                               dimension_numbers=dn \n",
    "                                              )\n",
    "    iters = x.shape[1:3]\n",
    "    x = jnp.reshape(x, ((-1,) + iters + (n_channels,) + (np.prod(kernel_size),)))\n",
    "    x = batched_qconv_fop(x, params[0], params[1])\n",
    "    x = jnp.reshape(x, iters + (filters,))\n",
    "    return x"
   ]
  },
  {
   "cell_type": "code",
   "execution_count": 333,
   "id": "6da308ec",
   "metadata": {
    "ExecuteTime": {
     "end_time": "2022-10-01T08:20:58.102850Z",
     "start_time": "2022-10-01T08:20:58.002776Z"
    }
   },
   "outputs": [
    {
     "data": {
      "text/plain": [
       "(8, 8, 1)"
      ]
     },
     "execution_count": 333,
     "metadata": {},
     "output_type": "execute_result"
    }
   ],
   "source": [
    "random_flattened_image = jax.random.normal(jax.random.PRNGKey(1), input_dims)\n",
    "random_flattened_image = jnp.floor(random_flattened_image*10)\n",
    "random_flattened_image.shape"
   ]
  },
  {
   "cell_type": "code",
   "execution_count": 334,
   "id": "d365470d",
   "metadata": {
    "ExecuteTime": {
     "end_time": "2022-10-01T08:21:09.588130Z",
     "start_time": "2022-10-01T08:20:58.830390Z"
    }
   },
   "outputs": [
    {
     "name": "stdout",
     "output_type": "stream",
     "text": [
      "(8, 8, 1)\n"
     ]
    }
   ],
   "source": [
    "out = random_flattened_image\n",
    "for l in range(num_qconv_layers):\n",
    "    out = qconv(out, \n",
    "                params[l],\n",
    "                qconv_dims[l], \n",
    "                kernel_sizes[l], \n",
    "                strides[l], \n",
    "                paddings[l])\n",
    "    print(out.shape)"
   ]
  },
  {
   "cell_type": "code",
   "execution_count": 335,
   "id": "d0ff8700",
   "metadata": {
    "ExecuteTime": {
     "end_time": "2022-10-01T08:21:09.722484Z",
     "start_time": "2022-10-01T08:21:09.601079Z"
    }
   },
   "outputs": [
    {
     "name": "stdout",
     "output_type": "stream",
     "text": [
      "0: ──H──RZ(M0)──RY(M1)──RZ(M2)──RZ(M3)──RY(M4)──RZ(M5)──RZ(M6)──RY(M7)──RZ(M8)─┤  <Z>\n"
     ]
    }
   ],
   "source": [
    "dev = qml.device(\"default.qubit\", wires=n_qubits)\n",
    "qnode = qml.QNode(get_node(template), dev)\n",
    "\n",
    "inputs = np.random.uniform(size = (10,np.prod(kernel_sizes[0])))\n",
    "weights = [params[0][0][0][0], params[0][1][0][0]]\n",
    "drawer = qml.draw(qnode, expansion_strategy=\"device\")\n",
    "print(drawer(inputs,*weights))"
   ]
  },
  {
   "cell_type": "markdown",
   "id": "0eb80645",
   "metadata": {},
   "source": [
    "## Auto-Batching Predictions"
   ]
  },
  {
   "cell_type": "code",
   "execution_count": 336,
   "id": "93945a8f",
   "metadata": {
    "ExecuteTime": {
     "end_time": "2022-10-01T08:21:16.389396Z",
     "start_time": "2022-10-01T08:21:16.294791Z"
    }
   },
   "outputs": [],
   "source": [
    "from jax.scipy.special import logsumexp\n",
    "\n",
    "def relu(x):\n",
    "    return jnp.maximum(0, x)\n",
    "\n",
    "def sigmoid(x):\n",
    "    return 1/(1+jnp.exp(-x))\n",
    "\n",
    "def linear_forward(params, image):\n",
    "    w, b = params\n",
    "    return sigmoid(jnp.dot(w, image) + b)\n",
    "\n",
    "def forward(params, image):\n",
    "    # per-example predictions\n",
    "    activations = image\n",
    "    for l in range(num_qconv_layers):\n",
    "        activations = qconv(activations, params[l], qconv_dims[l], kernel_sizes[l], strides[l], paddings[l])\n",
    "        \n",
    "    activations += image\n",
    "    activations = relu(activations)\n",
    "        \n",
    "    activations = jnp.reshape(activations, (-1))\n",
    "    for w, b in params[num_qconv_layers:-2]:\n",
    "        outputs = jnp.dot(w, activations) + b\n",
    "        activations = jnp.tanh(outputs)\n",
    "    final_w, final_b = params[-2]\n",
    "    logits = jnp.dot(final_w, activations) + final_b\n",
    "    return jnp.tanh(logits)\n",
    "#     return logits - logsumexp(logits)"
   ]
  },
  {
   "cell_type": "code",
   "execution_count": 337,
   "id": "fbdb84a8",
   "metadata": {
    "ExecuteTime": {
     "end_time": "2022-10-01T08:21:24.079343Z",
     "start_time": "2022-10-01T08:21:23.995573Z"
    },
    "scrolled": true
   },
   "outputs": [
    {
     "name": "stdout",
     "output_type": "stream",
     "text": [
      "[ 0.9995597 -0.9906562]\n"
     ]
    }
   ],
   "source": [
    "# This works on single examples\n",
    "preds = forward(params,  random_flattened_image)\n",
    "print(preds)"
   ]
  },
  {
   "cell_type": "code",
   "execution_count": 338,
   "id": "931e2120",
   "metadata": {
    "ExecuteTime": {
     "end_time": "2022-10-01T08:21:25.166652Z",
     "start_time": "2022-10-01T08:21:25.089168Z"
    }
   },
   "outputs": [
    {
     "name": "stdout",
     "output_type": "stream",
     "text": [
      "Invalid shapes!\n"
     ]
    }
   ],
   "source": [
    "# Doesn't work with a batch\n",
    "random_flattened_images = jax.random.normal(jax.random.PRNGKey(1), (2,)+ input_dims)\n",
    "random_flattened_images = jnp.floor(random_flattened_images*10)\n",
    "try:\n",
    "    preds = forward(params, random_flattened_images)\n",
    "except TypeError:\n",
    "    print('Invalid shapes!')"
   ]
  },
  {
   "cell_type": "code",
   "execution_count": 339,
   "id": "9fa9ea5f",
   "metadata": {
    "ExecuteTime": {
     "end_time": "2022-10-01T08:21:39.233795Z",
     "start_time": "2022-10-01T08:21:25.749452Z"
    }
   },
   "outputs": [
    {
     "name": "stdout",
     "output_type": "stream",
     "text": [
      "[[ 0.9995598 -0.9906517]\n",
      " [-0.9486237  0.812591 ]]\n"
     ]
    }
   ],
   "source": [
    "# Let's upgrade it to handle batches using `vmap`\n",
    "\n",
    "# Make a batched version of the `predict` function\n",
    "batched_forward = vmap(forward, in_axes=(None,0))\n",
    "\n",
    "# `batched_predict` has the same call signature as `predict`\n",
    "batched_preds = batched_forward(params, random_flattened_images)\n",
    "print(batched_preds)"
   ]
  },
  {
   "cell_type": "code",
   "execution_count": 340,
   "id": "aae6b004",
   "metadata": {
    "ExecuteTime": {
     "end_time": "2022-10-01T08:21:41.562370Z",
     "start_time": "2022-10-01T08:21:41.472757Z"
    }
   },
   "outputs": [],
   "source": [
    "batched_sisters = vmap(batched_forward, in_axes=(None, 1))"
   ]
  },
  {
   "cell_type": "code",
   "execution_count": 341,
   "id": "9c198224",
   "metadata": {
    "ExecuteTime": {
     "end_time": "2022-10-01T08:21:42.866216Z",
     "start_time": "2022-10-01T08:21:42.792031Z"
    }
   },
   "outputs": [],
   "source": [
    "batched_linear_forward = vmap(linear_forward, in_axes=(None, 0))"
   ]
  },
  {
   "cell_type": "markdown",
   "id": "d696d399",
   "metadata": {},
   "source": [
    "## Utility and loss functions"
   ]
  },
  {
   "cell_type": "code",
   "execution_count": 343,
   "id": "fc48796a",
   "metadata": {
    "ExecuteTime": {
     "end_time": "2022-10-01T08:23:17.662952Z",
     "start_time": "2022-10-01T08:23:17.563904Z"
    }
   },
   "outputs": [],
   "source": [
    "from sklearn.metrics import roc_auc_score\n",
    "\n",
    "def accuracy(y_true, y_pred):\n",
    "    target_class = jnp.argmax(y_true, axis=1)\n",
    "    predicted_class = jnp.argmax(y_pred, axis=1)\n",
    "    return jnp.mean(predicted_class == target_class)\n",
    "\n",
    "def custom_accuracy(y_true, y_pred):\n",
    "    y_pred = (y_pred >= 0.5)\n",
    "    return jnp.mean(y_true == y_pred)\n",
    "\n",
    "# Euclidean distance\n",
    "@jit\n",
    "def euclidean_distance(x, y):\n",
    "    sum_square = jnp.sum(jnp.square(x-y), axis= 1, keepdims=True)\n",
    "    return jnp.sqrt(jnp.maximum(sum_square, 1e-7))\n",
    "\n",
    "@jit\n",
    "def contrastive_loss(y_true, y_pred):\n",
    "    square_pred = jnp.square(y_pred)\n",
    "    margin_square = jnp.square(jnp.maximum(margin - (y_pred), 0))\n",
    "    return jnp.mean((1 - y_true) * square_pred + (y_true) * margin_square)\n",
    "\n",
    "def loss_fn(params, images, targets):\n",
    "    \n",
    "    preds_1, preds_2 = batched_sisters(params, images)\n",
    "    merge = euclidean_distance(preds_1, preds_2)\n",
    "    logits = batched_linear_forward(params[-1], merge)\n",
    "    \n",
    "    return contrastive_loss(logits, targets), logits\n",
    "\n",
    "@jit\n",
    "def update(opt_state, params, x, y):\n",
    "    _ , grads = jax.value_and_grad(loss_fn, has_aux=True)(params, x, y)\n",
    "\n",
    "    updates, opt_state = optimizer.update(grads, opt_state)\n",
    "    params = optax.apply_updates(params, updates)\n",
    "\n",
    "    return params, opt_state \n",
    "\n",
    "@jit\n",
    "def step(params,x,y):\n",
    "    loss_value, preds = loss_fn(params, x, y)\n",
    "    acc = custom_accuracy(y, preds)\n",
    "    return loss_value, acc\n",
    "\n",
    "def evaluate(params, ds):\n",
    "    losses = []\n",
    "    accs = []\n",
    "    with tqdm(tfds.as_numpy(ds), unit=\"batch\") as tepoch:\n",
    "        for x, y in tepoch:\n",
    "            tepoch.set_description(\"Validation\")\n",
    "            loss_value, acc = step(params, x, y)\n",
    "            losses.append(loss_value)\n",
    "            accs.append(acc)\n",
    "       \n",
    "    return jnp.mean(np.array(losses)), jnp.mean(np.array(accs))\n",
    "\n",
    "def predict(params, ds):\n",
    "    preds = []\n",
    "    y_true = []\n",
    "    with tqdm(tfds.as_numpy(ds), unit=\"batch\") as tepoch:\n",
    "        for x, y in tepoch:\n",
    "            preds += list(batched_forward(params, x))\n",
    "            y_true += list(y)\n",
    "    \n",
    "    return np.array(preds), np.array(y_true)"
   ]
  },
  {
   "cell_type": "markdown",
   "id": "63afa04b",
   "metadata": {},
   "source": [
    "## Training loop"
   ]
  },
  {
   "cell_type": "code",
   "execution_count": 344,
   "id": "fb4f365f",
   "metadata": {
    "ExecuteTime": {
     "end_time": "2022-10-01T08:26:56.972618Z",
     "start_time": "2022-10-01T08:23:23.013432Z"
    },
    "scrolled": true
   },
   "outputs": [
    {
     "name": "stdout",
     "output_type": "stream",
     "text": [
      "Learning Rate: 0.05\n"
     ]
    },
    {
     "name": "stderr",
     "output_type": "stream",
     "text": [
      "Epoch 0: 100%|██████████████████████████████████████████████████████████████████| 376/376 [00:42<00:00,  8.93batch/s]\n",
      "Validation: 100%|███████████████████████████████████████████████████████████████| 376/376 [00:29<00:00, 12.62batch/s]\n",
      "Validation: 100%|█████████████████████████████████████████████████████████████████| 20/20 [00:14<00:00,  1.33batch/s]\n"
     ]
    },
    {
     "name": "stdout",
     "output_type": "stream",
     "text": [
      "loss: 0.5000005960464478 - acc: 0.49999865889549255\n",
      "val_loss: 0.49974462389945984 - val_acc: 0.5005409121513367\n",
      "time: 42.13478946685791\n"
     ]
    },
    {
     "name": "stderr",
     "output_type": "stream",
     "text": [
      "Epoch 1: 100%|█████████████████████████████████████████████████████████████████| 376/376 [00:02<00:00, 177.25batch/s]\n",
      "Validation: 100%|██████████████████████████████████████████████████████████████| 376/376 [00:01<00:00, 208.89batch/s]\n",
      "Validation: 100%|████████████████████████████████████████████████████████████████| 20/20 [00:00<00:00, 187.94batch/s]\n"
     ]
    },
    {
     "name": "stdout",
     "output_type": "stream",
     "text": [
      "loss: 0.5000007152557373 - acc: 0.49999865889549255\n",
      "val_loss: 0.4999059736728668 - val_acc: 0.5001803040504456\n",
      "time: 2.127978563308716\n"
     ]
    },
    {
     "name": "stderr",
     "output_type": "stream",
     "text": [
      "Epoch 2: 100%|█████████████████████████████████████████████████████████████████| 376/376 [00:02<00:00, 175.27batch/s]\n",
      "Validation: 100%|██████████████████████████████████████████████████████████████| 376/376 [00:01<00:00, 209.07batch/s]\n",
      "Validation: 100%|████████████████████████████████████████████████████████████████| 20/20 [00:00<00:00, 182.38batch/s]\n"
     ]
    },
    {
     "name": "stdout",
     "output_type": "stream",
     "text": [
      "loss: 0.5000023245811462 - acc: 0.49999597668647766\n",
      "val_loss: 0.4993751645088196 - val_acc: 0.5010817646980286\n",
      "time: 2.1547951698303223\n"
     ]
    },
    {
     "name": "stderr",
     "output_type": "stream",
     "text": [
      "Epoch 3: 100%|█████████████████████████████████████████████████████████████████| 376/376 [00:02<00:00, 163.80batch/s]\n",
      "Validation: 100%|██████████████████████████████████████████████████████████████| 376/376 [00:01<00:00, 220.82batch/s]\n",
      "Validation: 100%|████████████████████████████████████████████████████████████████| 20/20 [00:00<00:00, 202.48batch/s]\n"
     ]
    },
    {
     "name": "stdout",
     "output_type": "stream",
     "text": [
      "loss: 0.5000025629997253 - acc: 0.49999597668647766\n",
      "val_loss: 0.5 - val_acc: 0.5\n",
      "time: 2.3018438816070557\n"
     ]
    },
    {
     "name": "stderr",
     "output_type": "stream",
     "text": [
      "Epoch 4: 100%|█████████████████████████████████████████████████████████████████| 376/376 [00:02<00:00, 167.22batch/s]\n",
      "Validation: 100%|██████████████████████████████████████████████████████████████| 376/376 [00:01<00:00, 203.15batch/s]\n",
      "Validation: 100%|████████████████████████████████████████████████████████████████| 20/20 [00:00<00:00, 217.94batch/s]\n"
     ]
    },
    {
     "name": "stdout",
     "output_type": "stream",
     "text": [
      "loss: 0.4999971389770508 - acc: 0.5000039935112\n",
      "val_loss: 0.4989931285381317 - val_acc: 0.5014423131942749\n",
      "time: 2.25329852104187\n"
     ]
    },
    {
     "name": "stderr",
     "output_type": "stream",
     "text": [
      "Epoch 5: 100%|█████████████████████████████████████████████████████████████████| 376/376 [00:02<00:00, 165.67batch/s]\n",
      "Validation: 100%|██████████████████████████████████████████████████████████████| 376/376 [00:01<00:00, 199.30batch/s]\n",
      "Validation: 100%|████████████████████████████████████████████████████████████████| 20/20 [00:00<00:00, 221.24batch/s]\n"
     ]
    },
    {
     "name": "stdout",
     "output_type": "stream",
     "text": [
      "loss: 0.5000019073486328 - acc: 0.4999973177909851\n",
      "val_loss: 0.5001331567764282 - val_acc: 0.49981972575187683\n",
      "time: 2.2747581005096436\n"
     ]
    },
    {
     "name": "stderr",
     "output_type": "stream",
     "text": [
      "Epoch 6: 100%|█████████████████████████████████████████████████████████████████| 376/376 [00:02<00:00, 181.22batch/s]\n",
      "Validation: 100%|██████████████████████████████████████████████████████████████| 376/376 [00:01<00:00, 219.15batch/s]\n",
      "Validation: 100%|████████████████████████████████████████████████████████████████| 20/20 [00:00<00:00, 213.01batch/s]\n"
     ]
    },
    {
     "name": "stdout",
     "output_type": "stream",
     "text": [
      "loss: 0.4999999701976776 - acc: 0.4999999701976776\n",
      "val_loss: 0.500285804271698 - val_acc: 0.4996394217014313\n",
      "time: 2.0793840885162354\n"
     ]
    },
    {
     "name": "stderr",
     "output_type": "stream",
     "text": [
      "Epoch 7: 100%|█████████████████████████████████████████████████████████████████| 376/376 [00:02<00:00, 182.28batch/s]\n",
      "Validation: 100%|██████████████████████████████████████████████████████████████| 376/376 [00:01<00:00, 224.46batch/s]\n",
      "Validation: 100%|████████████████████████████████████████████████████████████████| 20/20 [00:00<00:00, 212.03batch/s]\n"
     ]
    },
    {
     "name": "stdout",
     "output_type": "stream",
     "text": [
      "loss: 0.49999433755874634 - acc: 0.5000066757202148\n",
      "val_loss: 0.4999999701976776 - val_acc: 0.5\n",
      "time: 2.0675408840179443\n"
     ]
    },
    {
     "name": "stderr",
     "output_type": "stream",
     "text": [
      "Epoch 8: 100%|█████████████████████████████████████████████████████████████████| 376/376 [00:02<00:00, 179.60batch/s]\n",
      "Validation: 100%|██████████████████████████████████████████████████████████████| 376/376 [00:01<00:00, 226.35batch/s]\n",
      "Validation: 100%|████████████████████████████████████████████████████████████████| 20/20 [00:00<00:00, 211.12batch/s]\n"
     ]
    },
    {
     "name": "stdout",
     "output_type": "stream",
     "text": [
      "loss: 0.4999987781047821 - acc: 0.5000013113021851\n",
      "val_loss: 0.4999999701976776 - val_acc: 0.5\n",
      "time: 2.100806474685669\n"
     ]
    },
    {
     "name": "stderr",
     "output_type": "stream",
     "text": [
      "Epoch 9: 100%|█████████████████████████████████████████████████████████████████| 376/376 [00:02<00:00, 181.07batch/s]\n",
      "Validation: 100%|██████████████████████████████████████████████████████████████| 376/376 [00:01<00:00, 222.56batch/s]\n",
      "Validation: 100%|████████████████████████████████████████████████████████████████| 20/20 [00:00<00:00, 232.08batch/s]\n"
     ]
    },
    {
     "name": "stdout",
     "output_type": "stream",
     "text": [
      "loss: 0.5000108480453491 - acc: 0.499987930059433\n",
      "val_loss: 0.49983707070350647 - val_acc: 0.5001803040504456\n",
      "time: 2.0822222232818604\n"
     ]
    },
    {
     "name": "stderr",
     "output_type": "stream",
     "text": [
      "Epoch 10: 100%|████████████████████████████████████████████████████████████████| 376/376 [00:02<00:00, 180.52batch/s]\n",
      "Validation: 100%|██████████████████████████████████████████████████████████████| 376/376 [00:01<00:00, 221.49batch/s]\n",
      "Validation: 100%|████████████████████████████████████████████████████████████████| 20/20 [00:00<00:00, 221.69batch/s]\n"
     ]
    },
    {
     "name": "stdout",
     "output_type": "stream",
     "text": [
      "loss: 0.49999499320983887 - acc: 0.5000053644180298\n",
      "val_loss: 0.5008402466773987 - val_acc: 0.499098539352417\n",
      "time: 2.0886223316192627\n"
     ]
    },
    {
     "name": "stderr",
     "output_type": "stream",
     "text": [
      "Epoch 11: 100%|████████████████████████████████████████████████████████████████| 376/376 [00:02<00:00, 180.60batch/s]\n",
      "Validation: 100%|██████████████████████████████████████████████████████████████| 376/376 [00:01<00:00, 221.32batch/s]\n",
      "Validation: 100%|████████████████████████████████████████████████████████████████| 20/20 [00:00<00:00, 213.71batch/s]\n"
     ]
    },
    {
     "name": "stdout",
     "output_type": "stream",
     "text": [
      "loss: 0.499996155500412 - acc: 0.5000039935112\n",
      "val_loss: 0.4988005757331848 - val_acc: 0.5012620091438293\n",
      "time: 2.087437152862549\n"
     ]
    },
    {
     "name": "stderr",
     "output_type": "stream",
     "text": [
      "Epoch 12: 100%|████████████████████████████████████████████████████████████████| 376/376 [00:02<00:00, 180.33batch/s]\n",
      "Validation: 100%|██████████████████████████████████████████████████████████████| 376/376 [00:01<00:00, 225.90batch/s]\n",
      "Validation: 100%|████████████████████████████████████████████████████████████████| 20/20 [00:00<00:00, 211.69batch/s]\n"
     ]
    },
    {
     "name": "stdout",
     "output_type": "stream",
     "text": [
      "loss: 0.49999868869781494 - acc: 0.5000013113021851\n",
      "val_loss: 0.4996516704559326 - val_acc: 0.5003606081008911\n",
      "time: 2.0895864963531494\n"
     ]
    },
    {
     "name": "stderr",
     "output_type": "stream",
     "text": [
      "Epoch 13: 100%|████████████████████████████████████████████████████████████████| 376/376 [00:02<00:00, 181.42batch/s]\n",
      "Validation: 100%|██████████████████████████████████████████████████████████████| 376/376 [00:01<00:00, 220.04batch/s]\n",
      "Validation: 100%|████████████████████████████████████████████████████████████████| 20/20 [00:00<00:00, 219.17batch/s]\n"
     ]
    },
    {
     "name": "stdout",
     "output_type": "stream",
     "text": [
      "loss: 0.4999973177909851 - acc: 0.5000026822090149\n",
      "val_loss: 0.499474436044693 - val_acc: 0.5005409121513367\n",
      "time: 2.077139377593994\n"
     ]
    },
    {
     "name": "stderr",
     "output_type": "stream",
     "text": [
      "Epoch 14: 100%|████████████████████████████████████████████████████████████████| 376/376 [00:02<00:00, 180.63batch/s]\n",
      "Validation: 100%|██████████████████████████████████████████████████████████████| 376/376 [00:01<00:00, 219.89batch/s]\n",
      "Validation: 100%|████████████████████████████████████████████████████████████████| 20/20 [00:00<00:00, 197.96batch/s]\n"
     ]
    },
    {
     "name": "stdout",
     "output_type": "stream",
     "text": [
      "loss: 0.49999865889549255 - acc: 0.5000013113021851\n",
      "val_loss: 0.5003535151481628 - val_acc: 0.4996394217014313\n",
      "time: 2.0870556831359863\n"
     ]
    },
    {
     "name": "stderr",
     "output_type": "stream",
     "text": [
      "Epoch 15: 100%|████████████████████████████████████████████████████████████████| 376/376 [00:02<00:00, 181.06batch/s]\n",
      "Validation: 100%|██████████████████████████████████████████████████████████████| 376/376 [00:01<00:00, 224.60batch/s]\n",
      "Validation: 100%|████████████████████████████████████████████████████████████████| 20/20 [00:00<00:00, 214.35batch/s]\n"
     ]
    },
    {
     "name": "stdout",
     "output_type": "stream",
     "text": [
      "loss: 0.5000025629997253 - acc: 0.4999973177909851\n",
      "val_loss: 0.5010658502578735 - val_acc: 0.4989182651042938\n",
      "time: 2.081134557723999\n"
     ]
    },
    {
     "name": "stderr",
     "output_type": "stream",
     "text": [
      "Epoch 16: 100%|████████████████████████████████████████████████████████████████| 376/376 [00:02<00:00, 179.82batch/s]\n",
      "Validation: 100%|██████████████████████████████████████████████████████████████| 376/376 [00:01<00:00, 223.52batch/s]\n",
      "Validation: 100%|████████████████████████████████████████████████████████████████| 20/20 [00:00<00:00, 213.29batch/s]\n"
     ]
    },
    {
     "name": "stdout",
     "output_type": "stream",
     "text": [
      "loss: 0.500005304813385 - acc: 0.4999946355819702\n",
      "val_loss: 0.49946483969688416 - val_acc: 0.5005409121513367\n",
      "time: 2.097684860229492\n"
     ]
    },
    {
     "name": "stderr",
     "output_type": "stream",
     "text": [
      "Epoch 17: 100%|████████████████████████████████████████████████████████████████| 376/376 [00:02<00:00, 181.94batch/s]\n",
      "Validation: 100%|██████████████████████████████████████████████████████████████| 376/376 [00:01<00:00, 221.82batch/s]\n",
      "Validation: 100%|████████████████████████████████████████████████████████████████| 20/20 [00:00<00:00, 200.82batch/s]\n"
     ]
    },
    {
     "name": "stdout",
     "output_type": "stream",
     "text": [
      "loss: 0.5000013113021851 - acc: 0.49999865889549255\n",
      "val_loss: 0.5000000596046448 - val_acc: 0.5\n",
      "time: 2.0707414150238037\n"
     ]
    },
    {
     "name": "stderr",
     "output_type": "stream",
     "text": [
      "Epoch 18: 100%|████████████████████████████████████████████████████████████████| 376/376 [00:02<00:00, 180.18batch/s]\n",
      "Validation: 100%|██████████████████████████████████████████████████████████████| 376/376 [00:01<00:00, 225.19batch/s]\n",
      "Validation: 100%|████████████████████████████████████████████████████████████████| 20/20 [00:00<00:00, 211.24batch/s]\n"
     ]
    },
    {
     "name": "stdout",
     "output_type": "stream",
     "text": [
      "loss: 0.5000026226043701 - acc: 0.4999973177909851\n",
      "val_loss: 0.49928292632102966 - val_acc: 0.5007211565971375\n",
      "time: 2.0920302867889404\n"
     ]
    },
    {
     "name": "stderr",
     "output_type": "stream",
     "text": [
      "Epoch 19: 100%|████████████████████████████████████████████████████████████████| 376/376 [00:02<00:00, 179.20batch/s]\n",
      "Validation: 100%|██████████████████████████████████████████████████████████████| 376/376 [00:01<00:00, 223.01batch/s]\n",
      "Validation: 100%|████████████████████████████████████████████████████████████████| 20/20 [00:00<00:00, 213.63batch/s]\n"
     ]
    },
    {
     "name": "stdout",
     "output_type": "stream",
     "text": [
      "loss: 0.49999603629112244 - acc: 0.5000039935112\n",
      "val_loss: 0.5000000596046448 - val_acc: 0.5\n",
      "time: 2.103976011276245\n"
     ]
    },
    {
     "name": "stderr",
     "output_type": "stream",
     "text": [
      "Epoch 20: 100%|████████████████████████████████████████████████████████████████| 376/376 [00:02<00:00, 181.66batch/s]\n",
      "Validation: 100%|██████████████████████████████████████████████████████████████| 376/376 [00:01<00:00, 223.36batch/s]\n",
      "Validation: 100%|████████████████████████████████████████████████████████████████| 20/20 [00:00<00:00, 209.20batch/s]\n"
     ]
    },
    {
     "name": "stdout",
     "output_type": "stream",
     "text": [
      "loss: 0.49999868869781494 - acc: 0.5000013113021851\n",
      "val_loss: 0.4991017282009125 - val_acc: 0.500901460647583\n",
      "time: 2.074338912963867\n"
     ]
    },
    {
     "name": "stderr",
     "output_type": "stream",
     "text": [
      "Epoch 21: 100%|████████████████████████████████████████████████████████████████| 376/376 [00:02<00:00, 179.19batch/s]\n",
      "Validation: 100%|██████████████████████████████████████████████████████████████| 376/376 [00:01<00:00, 224.09batch/s]\n",
      "Validation: 100%|████████████████████████████████████████████████████████████████| 20/20 [00:00<00:00, 204.89batch/s]\n"
     ]
    },
    {
     "name": "stdout",
     "output_type": "stream",
     "text": [
      "loss: 0.4999906122684479 - acc: 0.5000093579292297\n",
      "val_loss: 0.49946051836013794 - val_acc: 0.5005409121513367\n",
      "time: 2.1040310859680176\n"
     ]
    },
    {
     "name": "stderr",
     "output_type": "stream",
     "text": [
      "Epoch 22: 100%|████████████████████████████████████████████████████████████████| 376/376 [00:02<00:00, 180.46batch/s]\n",
      "Validation: 100%|██████████████████████████████████████████████████████████████| 376/376 [00:01<00:00, 222.03batch/s]\n",
      "Validation: 100%|████████████████████████████████████████████████████████████████| 20/20 [00:00<00:00, 201.43batch/s]\n"
     ]
    },
    {
     "name": "stdout",
     "output_type": "stream",
     "text": [
      "loss: 0.5000013709068298 - acc: 0.49999865889549255\n",
      "val_loss: 0.49982014298439026 - val_acc: 0.5001803040504456\n",
      "time: 2.088294506072998\n"
     ]
    },
    {
     "name": "stderr",
     "output_type": "stream",
     "text": [
      "Epoch 23: 100%|████████████████████████████████████████████████████████████████| 376/376 [00:02<00:00, 179.34batch/s]\n",
      "Validation: 100%|██████████████████████████████████████████████████████████████| 376/376 [00:01<00:00, 222.74batch/s]\n",
      "Validation: 100%|████████████████████████████████████████████████████████████████| 20/20 [00:00<00:00, 198.45batch/s]\n"
     ]
    },
    {
     "name": "stdout",
     "output_type": "stream",
     "text": [
      "loss: 0.5000040531158447 - acc: 0.49999597668647766\n",
      "val_loss: 0.5000001192092896 - val_acc: 0.5\n",
      "time: 2.1029796600341797\n"
     ]
    },
    {
     "name": "stderr",
     "output_type": "stream",
     "text": [
      "Epoch 24: 100%|████████████████████████████████████████████████████████████████| 376/376 [00:02<00:00, 179.04batch/s]\n",
      "Validation: 100%|██████████████████████████████████████████████████████████████| 376/376 [00:01<00:00, 223.76batch/s]\n",
      "Validation: 100%|████████████████████████████████████████████████████████████████| 20/20 [00:00<00:00, 202.95batch/s]\n"
     ]
    },
    {
     "name": "stdout",
     "output_type": "stream",
     "text": [
      "loss: 0.5000026822090149 - acc: 0.4999973177909851\n",
      "val_loss: 0.5001800656318665 - val_acc: 0.49981972575187683\n",
      "time: 2.106074333190918\n"
     ]
    },
    {
     "name": "stderr",
     "output_type": "stream",
     "text": [
      "Epoch 25: 100%|████████████████████████████████████████████████████████████████| 376/376 [00:02<00:00, 181.17batch/s]\n",
      "Validation: 100%|██████████████████████████████████████████████████████████████| 376/376 [00:01<00:00, 223.43batch/s]\n",
      "Validation: 100%|████████████████████████████████████████████████████████████████| 20/20 [00:00<00:00, 209.32batch/s]\n"
     ]
    },
    {
     "name": "stdout",
     "output_type": "stream",
     "text": [
      "loss: 0.49999457597732544 - acc: 0.5000053644180298\n",
      "val_loss: 0.49945980310440063 - val_acc: 0.5005409121513367\n",
      "time: 2.0812106132507324\n"
     ]
    },
    {
     "name": "stderr",
     "output_type": "stream",
     "text": [
      "Epoch 26: 100%|████████████████████████████████████████████████████████████████| 376/376 [00:02<00:00, 184.50batch/s]\n",
      "Validation: 100%|██████████████████████████████████████████████████████████████| 376/376 [00:01<00:00, 218.68batch/s]\n",
      "Validation: 100%|████████████████████████████████████████████████████████████████| 20/20 [00:00<00:00, 218.47batch/s]\n"
     ]
    },
    {
     "name": "stdout",
     "output_type": "stream",
     "text": [
      "loss: 0.5000013113021851 - acc: 0.49999865889549255\n",
      "val_loss: 0.4996398389339447 - val_acc: 0.5003606081008911\n",
      "time: 2.0440118312835693\n"
     ]
    },
    {
     "name": "stderr",
     "output_type": "stream",
     "text": [
      "Epoch 27: 100%|████████████████████████████████████████████████████████████████| 376/376 [00:02<00:00, 182.87batch/s]\n",
      "Validation: 100%|██████████████████████████████████████████████████████████████| 376/376 [00:01<00:00, 217.95batch/s]\n",
      "Validation: 100%|████████████████████████████████████████████████████████████████| 20/20 [00:00<00:00, 212.05batch/s]\n"
     ]
    },
    {
     "name": "stdout",
     "output_type": "stream",
     "text": [
      "loss: 0.5000039935112 - acc: 0.49999597668647766\n",
      "val_loss: 0.5000001788139343 - val_acc: 0.5\n",
      "time: 2.0618796348571777\n"
     ]
    },
    {
     "name": "stderr",
     "output_type": "stream",
     "text": [
      "Epoch 28: 100%|████████████████████████████████████████████████████████████████| 376/376 [00:02<00:00, 179.98batch/s]\n",
      "Validation: 100%|██████████████████████████████████████████████████████████████| 376/376 [00:01<00:00, 223.01batch/s]\n",
      "Validation: 100%|████████████████████████████████████████████████████████████████| 20/20 [00:00<00:00, 208.33batch/s]\n"
     ]
    },
    {
     "name": "stdout",
     "output_type": "stream",
     "text": [
      "loss: 0.4999959170818329 - acc: 0.5000039935112\n",
      "val_loss: 0.5003601908683777 - val_acc: 0.4996394217014313\n",
      "time: 2.0942094326019287\n"
     ]
    },
    {
     "name": "stderr",
     "output_type": "stream",
     "text": [
      "Epoch 29: 100%|████████████████████████████████████████████████████████████████| 376/376 [00:02<00:00, 178.86batch/s]\n",
      "Validation: 100%|██████████████████████████████████████████████████████████████| 376/376 [00:01<00:00, 225.24batch/s]\n",
      "Validation: 100%|████████████████████████████████████████████████████████████████| 20/20 [00:00<00:00, 202.66batch/s]\n"
     ]
    },
    {
     "name": "stdout",
     "output_type": "stream",
     "text": [
      "loss: 0.4999973177909851 - acc: 0.5000026822090149\n",
      "val_loss: 0.5 - val_acc: 0.5\n",
      "time: 2.1069252490997314\n"
     ]
    },
    {
     "name": "stderr",
     "output_type": "stream",
     "text": [
      "Epoch 30: 100%|████████████████████████████████████████████████████████████████| 376/376 [00:02<00:00, 179.20batch/s]\n",
      "Validation: 100%|██████████████████████████████████████████████████████████████| 376/376 [00:01<00:00, 222.57batch/s]\n",
      "Validation: 100%|████████████████████████████████████████████████████████████████| 20/20 [00:00<00:00, 217.88batch/s]\n"
     ]
    },
    {
     "name": "stdout",
     "output_type": "stream",
     "text": [
      "loss: 0.5000013113021851 - acc: 0.49999865889549255\n",
      "val_loss: 0.5003603100776672 - val_acc: 0.4996394217014313\n",
      "time: 2.103484869003296\n"
     ]
    },
    {
     "name": "stderr",
     "output_type": "stream",
     "text": [
      "Epoch 31: 100%|████████████████████████████████████████████████████████████████| 376/376 [00:02<00:00, 178.22batch/s]\n",
      "Validation: 100%|██████████████████████████████████████████████████████████████| 376/376 [00:01<00:00, 211.54batch/s]\n",
      "Validation: 100%|████████████████████████████████████████████████████████████████| 20/20 [00:00<00:00, 180.12batch/s]\n"
     ]
    },
    {
     "name": "stdout",
     "output_type": "stream",
     "text": [
      "loss: 0.4999973177909851 - acc: 0.5000026822090149\n",
      "val_loss: 0.4992794990539551 - val_acc: 0.5007211565971375\n",
      "time: 2.1162421703338623\n"
     ]
    },
    {
     "name": "stderr",
     "output_type": "stream",
     "text": [
      "Epoch 32: 100%|████████████████████████████████████████████████████████████████| 376/376 [00:02<00:00, 164.79batch/s]\n",
      "Validation: 100%|██████████████████████████████████████████████████████████████| 376/376 [00:01<00:00, 205.58batch/s]\n",
      "Validation: 100%|████████████████████████████████████████████████████████████████| 20/20 [00:00<00:00, 133.29batch/s]\n"
     ]
    },
    {
     "name": "stdout",
     "output_type": "stream",
     "text": [
      "loss: 0.4999973177909851 - acc: 0.5000026822090149\n",
      "val_loss: 0.500180184841156 - val_acc: 0.49981972575187683\n",
      "time: 2.2866461277008057\n"
     ]
    },
    {
     "name": "stderr",
     "output_type": "stream",
     "text": [
      "Epoch 33:  14%|█████████▎                                                       | 54/376 [00:00<00:02, 126.67batch/s]\n"
     ]
    },
    {
     "ename": "KeyboardInterrupt",
     "evalue": "",
     "output_type": "error",
     "traceback": [
      "\u001b[0;31m---------------------------------------------------------------------------\u001b[0m",
      "\u001b[0;31mKeyboardInterrupt\u001b[0m                         Traceback (most recent call last)",
      "\u001b[0;32m/tmp/ipykernel_6468/679979810.py\u001b[0m in \u001b[0;36m<module>\u001b[0;34m\u001b[0m\n\u001b[1;32m     20\u001b[0m             \u001b[0;32mfor\u001b[0m \u001b[0mx\u001b[0m\u001b[0;34m,\u001b[0m\u001b[0my\u001b[0m \u001b[0;32min\u001b[0m \u001b[0mtepoch\u001b[0m\u001b[0;34m:\u001b[0m\u001b[0;34m\u001b[0m\u001b[0;34m\u001b[0m\u001b[0m\n\u001b[1;32m     21\u001b[0m                 \u001b[0mtepoch\u001b[0m\u001b[0;34m.\u001b[0m\u001b[0mset_description\u001b[0m\u001b[0;34m(\u001b[0m\u001b[0;34mf\"Epoch {epoch}\"\u001b[0m\u001b[0;34m)\u001b[0m\u001b[0;34m\u001b[0m\u001b[0;34m\u001b[0m\u001b[0m\n\u001b[0;32m---> 22\u001b[0;31m                 \u001b[0mparams\u001b[0m\u001b[0;34m,\u001b[0m \u001b[0mopt_state\u001b[0m \u001b[0;34m=\u001b[0m \u001b[0mupdate\u001b[0m\u001b[0;34m(\u001b[0m\u001b[0mopt_state\u001b[0m\u001b[0;34m,\u001b[0m \u001b[0mparams\u001b[0m\u001b[0;34m,\u001b[0m \u001b[0mx\u001b[0m\u001b[0;34m,\u001b[0m \u001b[0my\u001b[0m\u001b[0;34m)\u001b[0m\u001b[0;34m\u001b[0m\u001b[0;34m\u001b[0m\u001b[0m\n\u001b[0m\u001b[1;32m     23\u001b[0m \u001b[0;34m\u001b[0m\u001b[0m\n\u001b[1;32m     24\u001b[0m         \u001b[0mepoch_time\u001b[0m \u001b[0;34m=\u001b[0m \u001b[0mtime\u001b[0m\u001b[0;34m.\u001b[0m\u001b[0mtime\u001b[0m\u001b[0;34m(\u001b[0m\u001b[0;34m)\u001b[0m \u001b[0;34m-\u001b[0m \u001b[0mstart_time\u001b[0m\u001b[0;34m\u001b[0m\u001b[0;34m\u001b[0m\u001b[0m\n",
      "\u001b[0;32m<string>\u001b[0m in \u001b[0;36m__new__\u001b[0;34m(_cls, nu)\u001b[0m\n",
      "\u001b[0;31mKeyboardInterrupt\u001b[0m: "
     ]
    }
   ],
   "source": [
    "import time\n",
    "\n",
    "epochs = 50\n",
    "N = 5\n",
    "lr = 5e-2\n",
    "\n",
    "epoch_times = []\n",
    "\n",
    "for i in range(N):\n",
    "    \n",
    "    print('Learning Rate:', lr)\n",
    "\n",
    "    optimizer = optax.rmsprop(learning_rate=lr)\n",
    "    opt_state = optimizer.init(params)\n",
    "    \n",
    "    for epoch in range(epochs):\n",
    "        start_time = time.time()\n",
    "\n",
    "        with tqdm(tfds.as_numpy(data.train_ds), unit=\"batch\") as tepoch:\n",
    "            for x,y in tepoch:\n",
    "                tepoch.set_description(f\"Epoch {epoch}\")\n",
    "                params, opt_state = update(opt_state, params, x, y)\n",
    "\n",
    "        epoch_time = time.time() - start_time\n",
    "        epoch_times.append(epoch_time)\n",
    "\n",
    "        loss, acc = evaluate(params, data.train_ds)\n",
    "        val_loss, val_acc = evaluate(params, data.val_ds)\n",
    "\n",
    "        print('loss: {} - acc: {}'.format(loss, acc))\n",
    "        print('val_loss: {} - val_acc: {}'.format(val_loss, val_acc))\n",
    "        print('time: {}'.format(epoch_time))\n",
    "\n",
    "        if args.wandb:\n",
    "            wandb.log({\"accuracy\": acc, \n",
    "                       \"val_accuracy\": val_acc, \n",
    "                       'loss':loss, \n",
    "                       'lr':lr,\n",
    "                       'val_loss':val_loss})\n",
    "\n",
    "    lr = lr*np.sqrt(0.1)"
   ]
  },
  {
   "cell_type": "code",
   "execution_count": 291,
   "id": "cfafc1ab",
   "metadata": {
    "ExecuteTime": {
     "end_time": "2022-10-01T08:07:25.568665Z",
     "start_time": "2022-10-01T08:07:09.166084Z"
    },
    "scrolled": true
   },
   "outputs": [
    {
     "name": "stderr",
     "output_type": "stream",
     "text": [
      "Validation: 100%|█████████████████████████████████████████████████████████████████| 13/13 [00:16<00:00,  1.25s/batch]\n"
     ]
    },
    {
     "data": {
      "text/plain": [
       "(DeviceArray(0.5014598, dtype=float32), DeviceArray(0.49759617, dtype=float32))"
      ]
     },
     "execution_count": 291,
     "metadata": {},
     "output_type": "execute_result"
    }
   ],
   "source": [
    "test_loss, test_acc = evaluate(params, data.test_ds)\n",
    "test_loss, test_acc"
   ]
  },
  {
   "cell_type": "code",
   "execution_count": 29,
   "id": "c8776f86",
   "metadata": {
    "ExecuteTime": {
     "end_time": "2022-10-01T04:17:08.107974Z",
     "start_time": "2022-10-01T04:16:33.064750Z"
    }
   },
   "outputs": [
    {
     "name": "stderr",
     "output_type": "stream",
     "text": [
      "100%|███████████████████████████████████████████████████████████████████████████| 376/376 [00:34<00:00, 10.78batch/s]\n"
     ]
    },
    {
     "data": {
      "text/plain": [
       "0.9999998889953609"
      ]
     },
     "execution_count": 29,
     "metadata": {},
     "output_type": "execute_result"
    }
   ],
   "source": [
    "from sklearn.metrics import roc_auc_score\n",
    "\n",
    "out,y_train = predict(params, data.train_ds)\n",
    "train_auc = roc_auc_score(y_train, out)\n",
    "train_auc"
   ]
  },
  {
   "cell_type": "code",
   "execution_count": 30,
   "id": "9a4571ee",
   "metadata": {
    "ExecuteTime": {
     "end_time": "2022-10-01T04:17:22.917268Z",
     "start_time": "2022-10-01T04:17:08.112845Z"
    }
   },
   "outputs": [
    {
     "name": "stderr",
     "output_type": "stream",
     "text": [
      "100%|█████████████████████████████████████████████████████████████████████████████| 67/67 [00:14<00:00,  4.56batch/s]\n"
     ]
    },
    {
     "data": {
      "text/plain": [
       "0.9996439809403939"
      ]
     },
     "execution_count": 30,
     "metadata": {},
     "output_type": "execute_result"
    }
   ],
   "source": [
    "from sklearn.metrics import roc_auc_score\n",
    "\n",
    "out,y_test = predict(params, data.test_ds)\n",
    "test_auc = roc_auc_score(y_test, out)\n",
    "test_auc"
   ]
  },
  {
   "cell_type": "code",
   "execution_count": 98,
   "id": "cd6ffd07",
   "metadata": {
    "ExecuteTime": {
     "end_time": "2022-09-25T06:48:14.269725Z",
     "start_time": "2022-09-25T06:48:14.187364Z"
    }
   },
   "outputs": [],
   "source": [
    "if args.wandb:\n",
    "    wandb.run.summary['test_loss'] = test_loss\n",
    "    wandb.run.summary['test_acc'] = test_acc\n",
    "    wandb.run.summary['test_auc'] = test_auc\n",
    "    wandb.run.summary['train_auc'] = train_auc\n",
    "    wandb.run.summary['avg_epoch_time'] = np.mean(np.array(epoch_times))\n",
    "    y = y_test.argmax(axis=1)\n",
    "    preds = out.argmax(axis=1)\n",
    "    probs = out\n",
    "    classes = data.mapping\n",
    "\n",
    "    roc_curve = wandb.sklearn.plot_roc(y, probs, classes)\n",
    "    confusion_matrix = wandb.sklearn.plot_confusion_matrix(y, preds, classes)\n",
    "\n",
    "    wandb.log({\"roc_curve\": roc_curve})\n",
    "    wandb.log({\"confusion_matrix\": confusion_matrix})\n",
    "    wandb.finish()"
   ]
  }
 ],
 "metadata": {
  "kernelspec": {
   "display_name": "Python 3 (ipykernel)",
   "language": "python",
   "name": "python3"
  },
  "language_info": {
   "codemirror_mode": {
    "name": "ipython",
    "version": 3
   },
   "file_extension": ".py",
   "mimetype": "text/x-python",
   "name": "python",
   "nbconvert_exporter": "python",
   "pygments_lexer": "ipython3",
   "version": "3.7.13"
  },
  "latex_envs": {
   "LaTeX_envs_menu_present": true,
   "autoclose": false,
   "autocomplete": true,
   "bibliofile": "biblio.bib",
   "cite_by": "apalike",
   "current_citInitial": 1,
   "eqLabelWithNumbers": true,
   "eqNumInitial": 1,
   "hotkeys": {
    "equation": "Ctrl-E",
    "itemize": "Ctrl-I"
   },
   "labels_anchors": false,
   "latex_user_defs": false,
   "report_style_numbering": false,
   "user_envs_cfg": false
  },
  "toc": {
   "base_numbering": 1,
   "nav_menu": {},
   "number_sections": true,
   "sideBar": true,
   "skip_h1_title": false,
   "title_cell": "Table of Contents",
   "title_sidebar": "Contents",
   "toc_cell": false,
   "toc_position": {},
   "toc_section_display": true,
   "toc_window_display": false
  }
 },
 "nbformat": 4,
 "nbformat_minor": 5
}
