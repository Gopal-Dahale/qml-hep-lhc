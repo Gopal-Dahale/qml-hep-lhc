{
 "cells": [
  {
   "cell_type": "code",
   "execution_count": 1,
   "id": "6193f40a",
   "metadata": {
    "ExecuteTime": {
     "end_time": "2022-08-26T16:15:37.712414Z",
     "start_time": "2022-08-26T16:15:36.446329Z"
    }
   },
   "outputs": [],
   "source": [
    "%load_ext autoreload\n",
    "%autoreload 2\n",
    "\n",
    "%matplotlib inline\n",
    "\n",
    "from importlib.util import find_spec\n",
    "if find_spec(\"qml_hep_lhc\") is None:\n",
    "    import sys\n",
    "    sys.path.append('..')"
   ]
  },
  {
   "cell_type": "code",
   "execution_count": 4,
   "id": "c6fc207d",
   "metadata": {
    "ExecuteTime": {
     "end_time": "2022-08-26T16:15:50.163764Z",
     "start_time": "2022-08-26T16:15:50.078303Z"
    }
   },
   "outputs": [],
   "source": [
    "from qml_hep_lhc.data import ElectronPhoton, MNIST, QuarkGluon\n",
    "from qml_hep_lhc.data.utils import tf_ds_to_numpy\n",
    "import argparse\n",
    "import wandb\n",
    "\n",
    "import pennylane as qml\n",
    "import jax.numpy as jnp\n",
    "import jax\n",
    "import optax\n",
    "from jax.nn.initializers import he_uniform\n",
    "from jax import grad, jit, vmap\n",
    "from jax import random\n",
    "import tensorflow_datasets as tfds\n",
    "from tqdm import tqdm\n",
    "import numpy as np\n",
    "import tensorflow as tf\n",
    "\n",
    "# Added to silence some warnings.\n",
    "# from jax.config import config\n",
    "# config.update(\"jax_enable_x64\", True)\n",
    "\n",
    "import matplotlib.pyplot as plt\n",
    "import time"
   ]
  },
  {
   "cell_type": "code",
   "execution_count": 13,
   "id": "4d50d397",
   "metadata": {
    "ExecuteTime": {
     "end_time": "2022-08-26T16:16:16.009437Z",
     "start_time": "2022-08-26T16:16:15.910833Z"
    }
   },
   "outputs": [],
   "source": [
    "args = argparse.Namespace()\n",
    "\n",
    "# Data\n",
    "# args.center_crop = 0.2\n",
    "# args.resize = [8,8]\n",
    "# args.standardize = 1\n",
    "# args.power_transform = 1\n",
    "# args.binary_data = [3,6]\n",
    "# args.percent_samples = 0.01\n",
    "# args.processed = 1\n",
    "args.dataset_type = '1'\n",
    "# args.labels_to_categorical = 1\n",
    "args.batch_size = 128\n",
    "args.validation_split = 0.05\n",
    "\n",
    "# Base Model\n",
    "args.wandb = False\n",
    "args.epochs = 20\n",
    "args.learning_rate = 0.01\n",
    "\n",
    "# Quantum CNN Parameters\n",
    "args.n_layers = 2\n",
    "args.n_qubits = 3\n",
    "args.template = 'Qernel'\n",
    "args.initializer = 'he_uniform'\n",
    "\n",
    "args.kernel_size = (3,3)\n",
    "args.strides = (1,1)\n",
    "args.padding = \"VALID\"\n",
    "\n",
    "args.clayer_sizes = [8, 2]"
   ]
  },
  {
   "cell_type": "code",
   "execution_count": 14,
   "id": "b295c837",
   "metadata": {
    "ExecuteTime": {
     "end_time": "2022-08-26T16:16:16.438088Z",
     "start_time": "2022-08-26T16:16:16.100435Z"
    }
   },
   "outputs": [],
   "source": [
    "data = QuarkGluon(args)\n",
    "data.prepare_data()\n",
    "# data.setup()\n",
    "# print(data)"
   ]
  },
  {
   "cell_type": "code",
   "execution_count": 15,
   "id": "d3ce7d3d",
   "metadata": {
    "ExecuteTime": {
     "end_time": "2022-08-26T16:16:16.519593Z",
     "start_time": "2022-08-26T16:16:16.443187Z"
    }
   },
   "outputs": [
    {
     "data": {
      "text/plain": [
       "((9000, 40, 40, 1), (9000,))"
      ]
     },
     "execution_count": 15,
     "metadata": {},
     "output_type": "execute_result"
    }
   ],
   "source": [
    "data.x_train.shape, data.y_train.shape"
   ]
  },
  {
   "cell_type": "code",
   "execution_count": 16,
   "id": "aed0e9b2",
   "metadata": {
    "ExecuteTime": {
     "end_time": "2022-08-26T16:16:17.468173Z",
     "start_time": "2022-08-26T16:16:16.826532Z"
    }
   },
   "outputs": [],
   "source": [
    "data.x_train = np.fft.fftshift(np.fft.fft2(data.x_train[:,:,:,0]))\n",
    "data.x_train = np.sqrt(data.x_train.real**2 + data.x_train.imag**2)\n",
    "data.x_train = data.x_train.reshape(-1,40,40,1)"
   ]
  },
  {
   "cell_type": "code",
   "execution_count": 17,
   "id": "d1cba6b1",
   "metadata": {
    "ExecuteTime": {
     "end_time": "2022-08-26T16:16:23.238318Z",
     "start_time": "2022-08-26T16:16:23.072422Z"
    }
   },
   "outputs": [],
   "source": [
    "data.x_test = np.fft.fftshift(np.fft.fft2(data.x_test[:,:,:,0]))\n",
    "data.x_test = np.sqrt(data.x_test.real**2 + data.x_test.imag**2)\n",
    "data.x_test = data.x_test.reshape(-1,40,40,1)"
   ]
  },
  {
   "cell_type": "code",
   "execution_count": 23,
   "id": "72e4f28d",
   "metadata": {
    "ExecuteTime": {
     "end_time": "2022-08-26T16:17:24.427012Z",
     "start_time": "2022-08-26T16:17:24.336053Z"
    }
   },
   "outputs": [
    {
     "name": "stdout",
     "output_type": "stream",
     "text": [
      "2.7.0\n"
     ]
    }
   ],
   "source": [
    "# TensorFlow and tf.keras\n",
    "import tensorflow as tf\n",
    "\n",
    "# Helper libraries\n",
    "import numpy as np\n",
    "import matplotlib.pyplot as plt\n",
    "from sklearn.utils import shuffle\n",
    "from tensorflow.keras.applications import ResNet50\n",
    "from tensorflow.keras.layers import Input, Flatten, Dense, Dropout\n",
    "from tensorflow.keras import datasets, layers, models\n",
    "\n",
    "print(tf.__version__)"
   ]
  },
  {
   "cell_type": "code",
   "execution_count": 19,
   "id": "b8b78e74",
   "metadata": {
    "ExecuteTime": {
     "end_time": "2022-08-26T16:16:26.294222Z",
     "start_time": "2022-08-26T16:16:26.196334Z"
    }
   },
   "outputs": [
    {
     "data": {
      "text/plain": [
       "((9000, 40, 40, 1), (9000,))"
      ]
     },
     "execution_count": 19,
     "metadata": {},
     "output_type": "execute_result"
    }
   ],
   "source": [
    "data.x_train.shape, data.y_train.shape"
   ]
  },
  {
   "cell_type": "code",
   "execution_count": 20,
   "id": "090d8055",
   "metadata": {
    "ExecuteTime": {
     "end_time": "2022-08-26T16:16:27.001354Z",
     "start_time": "2022-08-26T16:16:26.914320Z"
    }
   },
   "outputs": [
    {
     "data": {
      "text/plain": [
       "((1000, 40, 40, 1), (1000,))"
      ]
     },
     "execution_count": 20,
     "metadata": {},
     "output_type": "execute_result"
    }
   ],
   "source": [
    "data.x_test.shape, data.y_test.shape"
   ]
  },
  {
   "cell_type": "code",
   "execution_count": 31,
   "id": "bb00000e",
   "metadata": {
    "ExecuteTime": {
     "end_time": "2022-08-26T16:18:04.122442Z",
     "start_time": "2022-08-26T16:18:03.936999Z"
    }
   },
   "outputs": [],
   "source": [
    "model = models.Sequential()\n",
    "model.add(layers.Conv2D(32, (3, 3), activation='relu', input_shape=(40, 40, 1)))\n",
    "model.add(layers.MaxPooling2D((2, 2)))\n",
    "model.add(layers.Conv2D(64, (3, 3), activation='relu'))\n",
    "model.add(layers.MaxPooling2D((2, 2)))\n",
    "model.add(layers.Conv2D(64, (3, 3), activation='relu'))\n",
    "model.add(layers.Flatten())\n",
    "model.add(layers.Dense(64, activation='relu'))\n",
    "model.add(layers.Dense(10))\n",
    "\n",
    "\n",
    "model.compile(optimizer=tf.keras.optimizers.Adam(learning_rate=0.001),\n",
    "              loss=tf.keras.losses.SparseCategoricalCrossentropy(from_logits=True),\n",
    "              metrics=['accuracy'])"
   ]
  },
  {
   "cell_type": "code",
   "execution_count": 32,
   "id": "41d74d47",
   "metadata": {
    "ExecuteTime": {
     "end_time": "2022-08-26T16:18:04.197282Z",
     "start_time": "2022-08-26T16:18:04.126312Z"
    }
   },
   "outputs": [
    {
     "name": "stdout",
     "output_type": "stream",
     "text": [
      "Model: \"sequential_3\"\n",
      "_________________________________________________________________\n",
      " Layer (type)                Output Shape              Param #   \n",
      "=================================================================\n",
      " conv2d_7 (Conv2D)           (None, 38, 38, 32)        320       \n",
      "                                                                 \n",
      " max_pooling2d_4 (MaxPooling  (None, 19, 19, 32)       0         \n",
      " 2D)                                                             \n",
      "                                                                 \n",
      " conv2d_8 (Conv2D)           (None, 17, 17, 64)        18496     \n",
      "                                                                 \n",
      " max_pooling2d_5 (MaxPooling  (None, 8, 8, 64)         0         \n",
      " 2D)                                                             \n",
      "                                                                 \n",
      " conv2d_9 (Conv2D)           (None, 6, 6, 64)          36928     \n",
      "                                                                 \n",
      " flatten_2 (Flatten)         (None, 2304)              0         \n",
      "                                                                 \n",
      " dense_7 (Dense)             (None, 64)                147520    \n",
      "                                                                 \n",
      " dense_8 (Dense)             (None, 10)                650       \n",
      "                                                                 \n",
      "=================================================================\n",
      "Total params: 203,914\n",
      "Trainable params: 203,914\n",
      "Non-trainable params: 0\n",
      "_________________________________________________________________\n"
     ]
    }
   ],
   "source": [
    "model.summary()"
   ]
  },
  {
   "cell_type": "code",
   "execution_count": 33,
   "id": "2f0ee590",
   "metadata": {
    "ExecuteTime": {
     "end_time": "2022-08-26T16:37:00.029598Z",
     "start_time": "2022-08-26T16:18:04.563207Z"
    }
   },
   "outputs": [
    {
     "name": "stdout",
     "output_type": "stream",
     "text": [
      "Epoch 1/100\n",
      "36/36 [==============================] - 11s 298ms/step - loss: 0.9330 - accuracy: 0.4839 - val_loss: 0.6938 - val_accuracy: 0.5000\n",
      "Epoch 2/100\n",
      "36/36 [==============================] - 10s 287ms/step - loss: 0.7194 - accuracy: 0.4972 - val_loss: 0.6985 - val_accuracy: 0.5040\n",
      "Epoch 3/100\n",
      "36/36 [==============================] - 10s 288ms/step - loss: 0.6977 - accuracy: 0.5031 - val_loss: 0.6960 - val_accuracy: 0.5000\n",
      "Epoch 4/100\n",
      "36/36 [==============================] - 13s 352ms/step - loss: 0.6952 - accuracy: 0.5004 - val_loss: 0.6939 - val_accuracy: 0.4990\n",
      "Epoch 5/100\n",
      "36/36 [==============================] - 11s 294ms/step - loss: 0.6967 - accuracy: 0.5002 - val_loss: 0.6936 - val_accuracy: 0.5000\n",
      "Epoch 6/100\n",
      "36/36 [==============================] - 11s 295ms/step - loss: 0.6945 - accuracy: 0.5037 - val_loss: 0.6949 - val_accuracy: 0.5000\n",
      "Epoch 7/100\n",
      "36/36 [==============================] - 10s 287ms/step - loss: 0.6939 - accuracy: 0.5029 - val_loss: 0.6972 - val_accuracy: 0.5000\n",
      "Epoch 8/100\n",
      "36/36 [==============================] - 11s 310ms/step - loss: 0.6953 - accuracy: 0.4978 - val_loss: 0.6998 - val_accuracy: 0.5000\n",
      "Epoch 9/100\n",
      "36/36 [==============================] - 11s 292ms/step - loss: 0.6952 - accuracy: 0.5036 - val_loss: 0.6968 - val_accuracy: 0.5000\n",
      "Epoch 10/100\n",
      "36/36 [==============================] - 10s 286ms/step - loss: 0.6947 - accuracy: 0.5001 - val_loss: 0.6930 - val_accuracy: 0.5110\n",
      "Epoch 11/100\n",
      "36/36 [==============================] - 10s 288ms/step - loss: 0.6977 - accuracy: 0.4970 - val_loss: 0.7043 - val_accuracy: 0.5000\n",
      "Epoch 12/100\n",
      "36/36 [==============================] - 10s 287ms/step - loss: 0.6979 - accuracy: 0.5051 - val_loss: 0.6978 - val_accuracy: 0.5000\n",
      "Epoch 13/100\n",
      "36/36 [==============================] - 10s 287ms/step - loss: 0.6959 - accuracy: 0.4987 - val_loss: 0.6951 - val_accuracy: 0.5010\n",
      "Epoch 14/100\n",
      "36/36 [==============================] - 11s 306ms/step - loss: 0.6936 - accuracy: 0.5081 - val_loss: 0.6933 - val_accuracy: 0.4840\n",
      "Epoch 15/100\n",
      "36/36 [==============================] - 11s 313ms/step - loss: 0.6952 - accuracy: 0.5101 - val_loss: 0.7001 - val_accuracy: 0.5010\n",
      "Epoch 16/100\n",
      "36/36 [==============================] - 11s 310ms/step - loss: 0.6939 - accuracy: 0.5134 - val_loss: 0.6958 - val_accuracy: 0.5060\n",
      "Epoch 17/100\n",
      "36/36 [==============================] - 11s 296ms/step - loss: 0.6930 - accuracy: 0.5070 - val_loss: 0.6982 - val_accuracy: 0.5050\n",
      "Epoch 18/100\n",
      "36/36 [==============================] - 10s 291ms/step - loss: 0.6945 - accuracy: 0.5217 - val_loss: 0.7022 - val_accuracy: 0.5010\n",
      "Epoch 19/100\n",
      "36/36 [==============================] - 11s 295ms/step - loss: 0.6942 - accuracy: 0.5169 - val_loss: 0.6959 - val_accuracy: 0.5070\n",
      "Epoch 20/100\n",
      "36/36 [==============================] - 10s 288ms/step - loss: 0.6934 - accuracy: 0.5130 - val_loss: 0.6950 - val_accuracy: 0.5140\n",
      "Epoch 21/100\n",
      "36/36 [==============================] - 11s 299ms/step - loss: 0.6902 - accuracy: 0.5262 - val_loss: 0.6945 - val_accuracy: 0.5300\n",
      "Epoch 22/100\n",
      "36/36 [==============================] - 10s 287ms/step - loss: 0.6911 - accuracy: 0.5279 - val_loss: 0.6958 - val_accuracy: 0.5200\n",
      "Epoch 23/100\n",
      "36/36 [==============================] - 11s 302ms/step - loss: 0.6898 - accuracy: 0.5294 - val_loss: 0.6935 - val_accuracy: 0.4750\n",
      "Epoch 24/100\n",
      "36/36 [==============================] - 12s 329ms/step - loss: 0.6900 - accuracy: 0.5333 - val_loss: 0.6948 - val_accuracy: 0.4710\n",
      "Epoch 25/100\n",
      "36/36 [==============================] - 11s 299ms/step - loss: 0.6882 - accuracy: 0.5380 - val_loss: 0.6942 - val_accuracy: 0.4670\n",
      "Epoch 26/100\n",
      "36/36 [==============================] - 10s 290ms/step - loss: 0.6870 - accuracy: 0.5481 - val_loss: 0.6955 - val_accuracy: 0.4830\n",
      "Epoch 27/100\n",
      "36/36 [==============================] - 10s 288ms/step - loss: 0.6864 - accuracy: 0.5429 - val_loss: 0.6954 - val_accuracy: 0.4680\n",
      "Epoch 28/100\n",
      "36/36 [==============================] - 11s 295ms/step - loss: 0.6837 - accuracy: 0.5531 - val_loss: 0.6964 - val_accuracy: 0.4740\n",
      "Epoch 29/100\n",
      "36/36 [==============================] - 10s 291ms/step - loss: 0.6817 - accuracy: 0.5616 - val_loss: 0.6968 - val_accuracy: 0.4790\n",
      "Epoch 30/100\n",
      "36/36 [==============================] - 10s 289ms/step - loss: 0.6796 - accuracy: 0.5657 - val_loss: 0.7073 - val_accuracy: 0.5020\n",
      "Epoch 31/100\n",
      "36/36 [==============================] - 14s 391ms/step - loss: 0.6801 - accuracy: 0.5601 - val_loss: 0.7005 - val_accuracy: 0.4900\n",
      "Epoch 32/100\n",
      "36/36 [==============================] - 18s 496ms/step - loss: 0.6760 - accuracy: 0.5776 - val_loss: 0.6969 - val_accuracy: 0.5000\n",
      "Epoch 33/100\n",
      "36/36 [==============================] - 19s 539ms/step - loss: 0.6731 - accuracy: 0.5703 - val_loss: 0.7008 - val_accuracy: 0.4960\n",
      "Epoch 34/100\n",
      "36/36 [==============================] - 15s 406ms/step - loss: 0.6702 - accuracy: 0.5793 - val_loss: 0.6995 - val_accuracy: 0.5190\n",
      "Epoch 35/100\n",
      "36/36 [==============================] - 12s 332ms/step - loss: 0.6641 - accuracy: 0.5943 - val_loss: 0.7034 - val_accuracy: 0.5110\n",
      "Epoch 36/100\n",
      "36/36 [==============================] - 12s 321ms/step - loss: 0.6583 - accuracy: 0.6026 - val_loss: 0.7102 - val_accuracy: 0.5260\n",
      "Epoch 37/100\n",
      "36/36 [==============================] - 11s 307ms/step - loss: 0.6554 - accuracy: 0.6037 - val_loss: 0.7219 - val_accuracy: 0.5210\n",
      "Epoch 38/100\n",
      "36/36 [==============================] - 11s 300ms/step - loss: 0.6498 - accuracy: 0.6099 - val_loss: 0.7151 - val_accuracy: 0.5080\n",
      "Epoch 39/100\n",
      "36/36 [==============================] - 11s 294ms/step - loss: 0.6427 - accuracy: 0.6193 - val_loss: 0.7201 - val_accuracy: 0.5080\n",
      "Epoch 40/100\n",
      "36/36 [==============================] - 11s 292ms/step - loss: 0.6395 - accuracy: 0.6206 - val_loss: 0.7379 - val_accuracy: 0.5140\n",
      "Epoch 41/100\n",
      "36/36 [==============================] - 10s 291ms/step - loss: 0.6298 - accuracy: 0.6346 - val_loss: 0.7271 - val_accuracy: 0.5190\n",
      "Epoch 42/100\n",
      "36/36 [==============================] - 11s 311ms/step - loss: 0.6252 - accuracy: 0.6346 - val_loss: 0.7372 - val_accuracy: 0.5070\n",
      "Epoch 43/100\n",
      "36/36 [==============================] - 11s 320ms/step - loss: 0.6126 - accuracy: 0.6429 - val_loss: 0.7480 - val_accuracy: 0.5140\n",
      "Epoch 44/100\n",
      "36/36 [==============================] - 11s 299ms/step - loss: 0.6041 - accuracy: 0.6612 - val_loss: 0.7467 - val_accuracy: 0.5270\n",
      "Epoch 45/100\n",
      "36/36 [==============================] - 11s 294ms/step - loss: 0.6006 - accuracy: 0.6591 - val_loss: 0.7610 - val_accuracy: 0.5130\n",
      "Epoch 46/100\n",
      "36/36 [==============================] - 11s 294ms/step - loss: 0.5846 - accuracy: 0.6753 - val_loss: 0.7758 - val_accuracy: 0.5130\n",
      "Epoch 47/100\n",
      "36/36 [==============================] - 11s 295ms/step - loss: 0.5769 - accuracy: 0.6827 - val_loss: 0.7882 - val_accuracy: 0.4950\n",
      "Epoch 48/100\n",
      "36/36 [==============================] - 11s 296ms/step - loss: 0.5656 - accuracy: 0.6946 - val_loss: 0.7916 - val_accuracy: 0.5090\n",
      "Epoch 49/100\n",
      "36/36 [==============================] - 10s 291ms/step - loss: 0.5563 - accuracy: 0.7023 - val_loss: 0.8315 - val_accuracy: 0.5050\n",
      "Epoch 50/100\n",
      "36/36 [==============================] - 11s 293ms/step - loss: 0.5514 - accuracy: 0.6993 - val_loss: 0.8439 - val_accuracy: 0.4950\n",
      "Epoch 51/100\n",
      "36/36 [==============================] - 11s 296ms/step - loss: 0.5371 - accuracy: 0.7182 - val_loss: 0.8349 - val_accuracy: 0.5120\n",
      "Epoch 52/100\n",
      "36/36 [==============================] - 11s 293ms/step - loss: 0.5284 - accuracy: 0.7208 - val_loss: 0.8735 - val_accuracy: 0.5050\n",
      "Epoch 53/100\n",
      "36/36 [==============================] - 11s 293ms/step - loss: 0.5113 - accuracy: 0.7380 - val_loss: 0.8536 - val_accuracy: 0.4990\n",
      "Epoch 54/100\n",
      "36/36 [==============================] - 11s 296ms/step - loss: 0.4981 - accuracy: 0.7486 - val_loss: 0.8677 - val_accuracy: 0.5040\n",
      "Epoch 55/100\n",
      "36/36 [==============================] - 11s 295ms/step - loss: 0.4878 - accuracy: 0.7561 - val_loss: 0.8940 - val_accuracy: 0.4820\n",
      "Epoch 56/100\n",
      "36/36 [==============================] - 11s 294ms/step - loss: 0.4762 - accuracy: 0.7590 - val_loss: 0.9242 - val_accuracy: 0.4990\n",
      "Epoch 57/100\n"
     ]
    },
    {
     "name": "stdout",
     "output_type": "stream",
     "text": [
      "36/36 [==============================] - 11s 292ms/step - loss: 0.4662 - accuracy: 0.7627 - val_loss: 0.9279 - val_accuracy: 0.4920\n",
      "Epoch 58/100\n",
      "36/36 [==============================] - 10s 291ms/step - loss: 0.4579 - accuracy: 0.7686 - val_loss: 0.9718 - val_accuracy: 0.4890\n",
      "Epoch 59/100\n",
      "36/36 [==============================] - 10s 291ms/step - loss: 0.4511 - accuracy: 0.7724 - val_loss: 0.9407 - val_accuracy: 0.5030\n",
      "Epoch 60/100\n",
      "36/36 [==============================] - 11s 291ms/step - loss: 0.4390 - accuracy: 0.7803 - val_loss: 0.9888 - val_accuracy: 0.4870\n",
      "Epoch 61/100\n",
      "36/36 [==============================] - 11s 293ms/step - loss: 0.4170 - accuracy: 0.7991 - val_loss: 1.0552 - val_accuracy: 0.5020\n",
      "Epoch 62/100\n",
      "36/36 [==============================] - 10s 290ms/step - loss: 0.4093 - accuracy: 0.8051 - val_loss: 1.0539 - val_accuracy: 0.4920\n",
      "Epoch 63/100\n",
      "36/36 [==============================] - 10s 289ms/step - loss: 0.4046 - accuracy: 0.8048 - val_loss: 1.0825 - val_accuracy: 0.5020\n",
      "Epoch 64/100\n",
      "36/36 [==============================] - 11s 301ms/step - loss: 0.3917 - accuracy: 0.8139 - val_loss: 1.0936 - val_accuracy: 0.5140\n",
      "Epoch 65/100\n",
      "36/36 [==============================] - 10s 291ms/step - loss: 0.3747 - accuracy: 0.8254 - val_loss: 1.1343 - val_accuracy: 0.5000\n",
      "Epoch 66/100\n",
      "36/36 [==============================] - 10s 291ms/step - loss: 0.3627 - accuracy: 0.8290 - val_loss: 1.1433 - val_accuracy: 0.4940\n",
      "Epoch 67/100\n",
      "36/36 [==============================] - 11s 293ms/step - loss: 0.3605 - accuracy: 0.8339 - val_loss: 1.2040 - val_accuracy: 0.4980\n",
      "Epoch 68/100\n",
      "36/36 [==============================] - 10s 290ms/step - loss: 0.3554 - accuracy: 0.8352 - val_loss: 1.2398 - val_accuracy: 0.4980\n",
      "Epoch 69/100\n",
      "36/36 [==============================] - 11s 293ms/step - loss: 0.3272 - accuracy: 0.8496 - val_loss: 1.2562 - val_accuracy: 0.5000\n",
      "Epoch 70/100\n",
      "36/36 [==============================] - 11s 310ms/step - loss: 0.3158 - accuracy: 0.8570 - val_loss: 1.3261 - val_accuracy: 0.5010\n",
      "Epoch 71/100\n",
      "36/36 [==============================] - 12s 342ms/step - loss: 0.3161 - accuracy: 0.8558 - val_loss: 1.3554 - val_accuracy: 0.4910\n",
      "Epoch 72/100\n",
      "36/36 [==============================] - 12s 338ms/step - loss: 0.3124 - accuracy: 0.8586 - val_loss: 1.3649 - val_accuracy: 0.5110\n",
      "Epoch 73/100\n",
      "36/36 [==============================] - 13s 352ms/step - loss: 0.2965 - accuracy: 0.8670 - val_loss: 1.4760 - val_accuracy: 0.5120\n",
      "Epoch 74/100\n",
      "36/36 [==============================] - 11s 305ms/step - loss: 0.2851 - accuracy: 0.8729 - val_loss: 1.4620 - val_accuracy: 0.4990\n",
      "Epoch 75/100\n",
      "36/36 [==============================] - 14s 381ms/step - loss: 0.2761 - accuracy: 0.8749 - val_loss: 1.4944 - val_accuracy: 0.4860\n",
      "Epoch 76/100\n",
      "36/36 [==============================] - 12s 347ms/step - loss: 0.2786 - accuracy: 0.8763 - val_loss: 1.5482 - val_accuracy: 0.5080\n",
      "Epoch 77/100\n",
      "36/36 [==============================] - 11s 309ms/step - loss: 0.2548 - accuracy: 0.8916 - val_loss: 1.5616 - val_accuracy: 0.4900\n",
      "Epoch 78/100\n",
      "36/36 [==============================] - 11s 320ms/step - loss: 0.2649 - accuracy: 0.8821 - val_loss: 1.6161 - val_accuracy: 0.4980\n",
      "Epoch 79/100\n",
      "36/36 [==============================] - 11s 318ms/step - loss: 0.2518 - accuracy: 0.8866 - val_loss: 1.6126 - val_accuracy: 0.4920\n",
      "Epoch 80/100\n",
      "36/36 [==============================] - 15s 411ms/step - loss: 0.2431 - accuracy: 0.8922 - val_loss: 1.5977 - val_accuracy: 0.5130\n",
      "Epoch 81/100\n",
      "36/36 [==============================] - 13s 352ms/step - loss: 0.2212 - accuracy: 0.9082 - val_loss: 1.7102 - val_accuracy: 0.5050\n",
      "Epoch 82/100\n",
      "36/36 [==============================] - 11s 313ms/step - loss: 0.2178 - accuracy: 0.9086 - val_loss: 1.7723 - val_accuracy: 0.5230\n",
      "Epoch 83/100\n",
      "36/36 [==============================] - 11s 309ms/step - loss: 0.2118 - accuracy: 0.9111 - val_loss: 1.7310 - val_accuracy: 0.5140\n",
      "Epoch 84/100\n",
      "36/36 [==============================] - 11s 297ms/step - loss: 0.2048 - accuracy: 0.9163 - val_loss: 1.8242 - val_accuracy: 0.5050\n",
      "Epoch 85/100\n",
      "36/36 [==============================] - 10s 288ms/step - loss: 0.2089 - accuracy: 0.9126 - val_loss: 1.8201 - val_accuracy: 0.5010\n",
      "Epoch 86/100\n",
      "36/36 [==============================] - 10s 289ms/step - loss: 0.1942 - accuracy: 0.9204 - val_loss: 1.8038 - val_accuracy: 0.4900\n",
      "Epoch 87/100\n",
      "36/36 [==============================] - 10s 291ms/step - loss: 0.1905 - accuracy: 0.9209 - val_loss: 1.9766 - val_accuracy: 0.4920\n",
      "Epoch 88/100\n",
      "36/36 [==============================] - 11s 294ms/step - loss: 0.1811 - accuracy: 0.9239 - val_loss: 2.0245 - val_accuracy: 0.5060\n",
      "Epoch 89/100\n",
      "36/36 [==============================] - 12s 336ms/step - loss: 0.1768 - accuracy: 0.9288 - val_loss: 2.0483 - val_accuracy: 0.4980\n",
      "Epoch 90/100\n",
      "36/36 [==============================] - 12s 317ms/step - loss: 0.1766 - accuracy: 0.9266 - val_loss: 2.0825 - val_accuracy: 0.5050\n",
      "Epoch 91/100\n",
      "36/36 [==============================] - 11s 293ms/step - loss: 0.1722 - accuracy: 0.9299 - val_loss: 2.1645 - val_accuracy: 0.4930\n",
      "Epoch 92/100\n",
      "36/36 [==============================] - 11s 312ms/step - loss: 0.1506 - accuracy: 0.9404 - val_loss: 2.1909 - val_accuracy: 0.4940\n",
      "Epoch 93/100\n",
      "36/36 [==============================] - 15s 404ms/step - loss: 0.1486 - accuracy: 0.9433 - val_loss: 2.2533 - val_accuracy: 0.5100\n",
      "Epoch 94/100\n",
      "36/36 [==============================] - 16s 459ms/step - loss: 0.1525 - accuracy: 0.9388 - val_loss: 2.2555 - val_accuracy: 0.4950\n",
      "Epoch 95/100\n",
      "36/36 [==============================] - 13s 350ms/step - loss: 0.1415 - accuracy: 0.9443 - val_loss: 2.3452 - val_accuracy: 0.5130\n",
      "Epoch 96/100\n",
      "36/36 [==============================] - 13s 366ms/step - loss: 0.1390 - accuracy: 0.9460 - val_loss: 2.4209 - val_accuracy: 0.4940\n",
      "Epoch 97/100\n",
      "36/36 [==============================] - 12s 333ms/step - loss: 0.1286 - accuracy: 0.9510 - val_loss: 2.4539 - val_accuracy: 0.4980\n",
      "Epoch 98/100\n",
      "36/36 [==============================] - 14s 377ms/step - loss: 0.1243 - accuracy: 0.9520 - val_loss: 2.4302 - val_accuracy: 0.5060\n",
      "Epoch 99/100\n",
      "36/36 [==============================] - 12s 325ms/step - loss: 0.1195 - accuracy: 0.9573 - val_loss: 2.6006 - val_accuracy: 0.4940\n",
      "Epoch 100/100\n",
      "36/36 [==============================] - 11s 317ms/step - loss: 0.1085 - accuracy: 0.9632 - val_loss: 2.6813 - val_accuracy: 0.4950\n"
     ]
    },
    {
     "data": {
      "text/plain": [
       "<keras.callbacks.History at 0x7f71c3b2f490>"
      ]
     },
     "execution_count": 33,
     "metadata": {},
     "output_type": "execute_result"
    }
   ],
   "source": [
    "model.fit(data.x_train,data.y_train, epochs=100, validation_data=(data.x_test, data.y_test),batch_size = 256)"
   ]
  },
  {
   "cell_type": "code",
   "execution_count": null,
   "id": "f9440599",
   "metadata": {},
   "outputs": [],
   "source": []
  }
 ],
 "metadata": {
  "kernelspec": {
   "display_name": "Python (qenv)",
   "language": "python",
   "name": "qenv"
  },
  "language_info": {
   "codemirror_mode": {
    "name": "ipython",
    "version": 3
   },
   "file_extension": ".py",
   "mimetype": "text/x-python",
   "name": "python",
   "nbconvert_exporter": "python",
   "pygments_lexer": "ipython3",
   "version": "3.7.13"
  },
  "latex_envs": {
   "LaTeX_envs_menu_present": true,
   "autoclose": false,
   "autocomplete": true,
   "bibliofile": "biblio.bib",
   "cite_by": "apalike",
   "current_citInitial": 1,
   "eqLabelWithNumbers": true,
   "eqNumInitial": 1,
   "hotkeys": {
    "equation": "Ctrl-E",
    "itemize": "Ctrl-I"
   },
   "labels_anchors": false,
   "latex_user_defs": false,
   "report_style_numbering": false,
   "user_envs_cfg": false
  },
  "toc": {
   "base_numbering": 1,
   "nav_menu": {},
   "number_sections": true,
   "sideBar": true,
   "skip_h1_title": false,
   "title_cell": "Table of Contents",
   "title_sidebar": "Contents",
   "toc_cell": false,
   "toc_position": {},
   "toc_section_display": true,
   "toc_window_display": false
  }
 },
 "nbformat": 4,
 "nbformat_minor": 5
}
