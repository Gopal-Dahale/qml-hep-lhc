{
 "cells": [
  {
   "cell_type": "code",
   "execution_count": 3,
   "id": "d28a72a2",
   "metadata": {
    "ExecuteTime": {
     "end_time": "2022-10-23T16:32:24.407057Z",
     "start_time": "2022-10-23T16:32:24.355469Z"
    }
   },
   "outputs": [
    {
     "name": "stdout",
     "output_type": "stream",
     "text": [
      "The autoreload extension is already loaded. To reload it, use:\n",
      "  %reload_ext autoreload\n"
     ]
    }
   ],
   "source": [
    "%load_ext autoreload\n",
    "%autoreload 2\n",
    "\n",
    "%matplotlib inline\n",
    "\n",
    "from importlib.util import find_spec\n",
    "if find_spec(\"qml_hep_lhc\") is None:\n",
    "    import sys\n",
    "    sys.path.append('../..')"
   ]
  },
  {
   "cell_type": "code",
   "execution_count": 4,
   "id": "7a7a9c90",
   "metadata": {
    "ExecuteTime": {
     "end_time": "2022-10-23T16:33:33.269022Z",
     "start_time": "2022-10-23T16:32:24.410846Z"
    }
   },
   "outputs": [
    {
     "name": "stderr",
     "output_type": "stream",
     "text": [
      "2022-10-23 22:02:30.513500: W tensorflow/stream_executor/platform/default/dso_loader.cc:64] Could not load dynamic library 'libcudart.so.11.0'; dlerror: libcudart.so.11.0: cannot open shared object file: No such file or directory\n",
      "2022-10-23 22:02:30.513610: I tensorflow/stream_executor/cuda/cudart_stub.cc:29] Ignore above cudart dlerror if you do not have a GPU set up on your machine.\n"
     ]
    }
   ],
   "source": [
    "from qml_hep_lhc.data import ElectronPhoton, MNIST, QuarkGluon\n",
    "from qml_hep_lhc.data.utils import tf_ds_to_numpy\n",
    "import argparse\n",
    "import wandb\n",
    "\n",
    "import pennylane as qml\n",
    "import jax.numpy as jnp\n",
    "import jax\n",
    "import optax\n",
    "from jax.nn.initializers import he_uniform\n",
    "from jax import grad, jit, vmap\n",
    "from jax import random\n",
    "import tensorflow_datasets as tfds\n",
    "from tqdm import tqdm\n",
    "import numpy as np\n",
    "import tensorflow as tf\n",
    "\n",
    "# Added to silence some warnings.\n",
    "# from jax.config import config\n",
    "# config.update(\"jax_enable_x64\", True)\n",
    "\n",
    "import matplotlib.pyplot as plt\n",
    "import time"
   ]
  },
  {
   "cell_type": "code",
   "execution_count": 5,
   "id": "53cce28d",
   "metadata": {
    "ExecuteTime": {
     "end_time": "2022-10-23T16:33:33.680887Z",
     "start_time": "2022-10-23T16:33:33.275042Z"
    }
   },
   "outputs": [
    {
     "name": "stderr",
     "output_type": "stream",
     "text": [
      "WARNING:absl:No GPU/TPU found, falling back to CPU. (Set TF_CPP_MIN_LOG_LEVEL=0 and rerun for more info.)\n"
     ]
    },
    {
     "data": {
      "text/plain": [
       "[CpuDevice(id=0)]"
      ]
     },
     "execution_count": 5,
     "metadata": {},
     "output_type": "execute_result"
    }
   ],
   "source": [
    "jax.devices()"
   ]
  },
  {
   "cell_type": "code",
   "execution_count": 158,
   "id": "7a7944e9",
   "metadata": {
    "ExecuteTime": {
     "end_time": "2022-10-23T16:54:58.817125Z",
     "start_time": "2022-10-23T16:54:58.740093Z"
    }
   },
   "outputs": [],
   "source": [
    "args = argparse.Namespace()\n",
    "\n",
    "# Data\n",
    "args.center_crop = 0.7\n",
    "args.resize = [8,8]\n",
    "args.standardize = 1\n",
    "# args.power_transform = 1\n",
    "args.binary_data = [0,1]\n",
    "args.percent_samples = 0.01\n",
    "# args.processed = 1\n",
    "args.dataset_type = '1'\n",
    "args.labels_to_categorical = 1\n",
    "args.batch_size = 128\n",
    "args.validation_split = 0.1\n",
    "args.num_classes = 5\n",
    "\n",
    "# Base Model\n",
    "args.wandb = False\n",
    "args.epochs = 50\n",
    "args.learning_rate = 0.001\n",
    "\n",
    "# Quantum CNN Parameters\n",
    "args.n_layers = 1\n",
    "args.n_qubits = 1\n",
    "args.template = 'NQubitPQC'\n",
    "args.initializer = 'he_uniform'\n",
    "\n",
    "args.kernel_size = (3,3)\n",
    "args.strides = (1,1)\n",
    "args.padding = \"SAME\"\n",
    "\n",
    "args.clayer_sizes = [8, 2]"
   ]
  },
  {
   "cell_type": "code",
   "execution_count": 159,
   "id": "d347947e",
   "metadata": {
    "ExecuteTime": {
     "end_time": "2022-10-23T16:54:58.985862Z",
     "start_time": "2022-10-23T16:54:58.878346Z"
    }
   },
   "outputs": [],
   "source": [
    "if args.wandb:\n",
    "     wandb.init(project='qml-hep-lhc', config = vars(args))"
   ]
  },
  {
   "cell_type": "code",
   "execution_count": 160,
   "id": "ce4dec05",
   "metadata": {
    "ExecuteTime": {
     "end_time": "2022-10-23T16:54:59.686570Z",
     "start_time": "2022-10-23T16:54:59.081602Z"
    }
   },
   "outputs": [
    {
     "name": "stdout",
     "output_type": "stream",
     "text": [
      "Binarizing data...\n",
      "Binarizing data...\n",
      "Center cropping...\n",
      "Center cropping...\n",
      "Resizing data...\n",
      "Resizing data...\n",
      "Standardizing data...\n",
      "Converting labels to categorical...\n",
      "Converting labels to categorical...\n",
      "\n",
      "Dataset :MNIST\n",
      "╒════════╤════════════════╤═══════════════╤═══════════════╤═══════════╕\n",
      "│ Data   │ Train size     │ Val size      │ Test size     │ Dims      │\n",
      "╞════════╪════════════════╪═══════════════╪═══════════════╪═══════════╡\n",
      "│ X      │ (108, 8, 8, 1) │ (12, 8, 8, 1) │ (20, 8, 8, 1) │ (8, 8, 1) │\n",
      "├────────┼────────────────┼───────────────┼───────────────┼───────────┤\n",
      "│ y      │ (108, 2)       │ (12, 2)       │ (20, 2)       │ (2,)      │\n",
      "╘════════╧════════════════╧═══════════════╧═══════════════╧═══════════╛\n",
      "\n",
      "╒══════════════╤═══════╤═══════╤════════╤═══════╤══════════════════════════╕\n",
      "│ Type         │   Min │   Max │   Mean │   Std │ Samples for each class   │\n",
      "╞══════════════╪═══════╪═══════╪════════╪═══════╪══════════════════════════╡\n",
      "│ Train Images │ -1.63 │ 10.48 │  -0    │  0.99 │ [54, 54]                 │\n",
      "├──────────────┼───────┼───────┼────────┼───────┼──────────────────────────┤\n",
      "│ Val Images   │ -1.63 │  7.29 │   0.02 │  0.97 │ [6, 6]                   │\n",
      "├──────────────┼───────┼───────┼────────┼───────┼──────────────────────────┤\n",
      "│ Test Images  │ -1.61 │  6.52 │  -0.07 │  0.93 │ [10, 10]                 │\n",
      "╘══════════════╧═══════╧═══════╧════════╧═══════╧══════════════════════════╛\n",
      "\n",
      "\n"
     ]
    }
   ],
   "source": [
    "data = MNIST(args)\n",
    "data.prepare_data()\n",
    "data.setup()\n",
    "print(data)"
   ]
  },
  {
   "cell_type": "markdown",
   "id": "74329b45",
   "metadata": {},
   "source": [
    "## Hyperparameters"
   ]
  },
  {
   "cell_type": "code",
   "execution_count": 161,
   "id": "884dcb6e",
   "metadata": {
    "ExecuteTime": {
     "end_time": "2022-10-23T16:54:59.796656Z",
     "start_time": "2022-10-23T16:54:59.691629Z"
    }
   },
   "outputs": [
    {
     "data": {
      "text/plain": [
       "(8, 8, 1)"
      ]
     },
     "execution_count": 161,
     "metadata": {},
     "output_type": "execute_result"
    }
   ],
   "source": [
    "input_dims = data.config()['input_dims']\n",
    "input_dims"
   ]
  },
  {
   "cell_type": "code",
   "execution_count": 162,
   "id": "485ef1fa",
   "metadata": {
    "ExecuteTime": {
     "end_time": "2022-10-23T16:54:59.941367Z",
     "start_time": "2022-10-23T16:54:59.801147Z"
    }
   },
   "outputs": [],
   "source": [
    "def get_out_shape(in_shape, k, s, padding):\n",
    "    in_shape = (1,) + in_shape\n",
    "    a = np.random.uniform(size = (in_shape))\n",
    "    dn = jax.lax.conv_dimension_numbers(a.shape, (1,1,k[0],k[1]), ('NHWC', 'IOHW', 'NHWC'))\n",
    "    out = jax.lax.conv_general_dilated_patches(lhs = a,\n",
    "                                           filter_shape= k,\n",
    "                                           window_strides=s,\n",
    "                                           padding=padding,\n",
    "                                           dimension_numbers=dn \n",
    "                                    )\n",
    "    return out.shape"
   ]
  },
  {
   "cell_type": "code",
   "execution_count": 163,
   "id": "b17ff04e",
   "metadata": {
    "ExecuteTime": {
     "end_time": "2022-10-23T16:55:01.190109Z",
     "start_time": "2022-10-23T16:54:59.948175Z"
    }
   },
   "outputs": [
    {
     "name": "stderr",
     "output_type": "stream",
     "text": [
      "/home/gopald/Documents/qml-hep-lhc/qenv/lib/python3.7/site-packages/jax/_src/lax/other.py:97: UserWarning: Explicitly requested dtype float64 requested in eye is not available, and will be truncated to dtype float32. To enable more dtypes, set the jax_enable_x64 configuration option or the JAX_ENABLE_X64 shell environment variable. See https://github.com/google/jax#current-gotchas for more.\n",
      "  rhs = jnp.eye(spatial_size, dtype=lhs.dtype).reshape(filter_shape * 2)\n"
     ]
    }
   ],
   "source": [
    "initializer = he_uniform()\n",
    "\n",
    "# Get qlayer sizes\n",
    "def get_qlayer_sizes(template, n_c, n_l, n_q, k_size):\n",
    "    if template == 'NQubitPQCSparse':\n",
    "        return {\n",
    "            'w': (n_c,n_l, n_q,3,np.prod(k_size)),\n",
    "            'b': (n_c,n_l,n_q,3,1)\n",
    "        }\n",
    "    elif template == 'LightPQC':\n",
    "        return {\n",
    "            'w': (n_c,n_l,n_q,np.prod(k_size)),\n",
    "            'b': (n_c,n_l,n_q,1)\n",
    "        }\n",
    "    elif template == 'NQubitPQC':\n",
    "        assert np.prod(k_size)%3 == 0\n",
    "        return {\n",
    "            'w': (n_c,n_l,n_q,np.prod(k_size)),\n",
    "            'b': (n_c,n_l,n_q,np.prod(k_size))\n",
    "        }\n",
    "    elif template == 'Qernel':\n",
    "        assert n_q == 3\n",
    "        assert np.prod(k_size)%3 == 0\n",
    "        \n",
    "        return {\n",
    "            'w': (n_c,n_l, n_q, 3),\n",
    "            'b': (n_c,n_l, n_q, 1),\n",
    "        }\n",
    "\n",
    "def random_qlayer_params(size, key, scale=1e-1):\n",
    "    return initializer(key, size)\n",
    "    return scale * random.normal(key, size)\n",
    "\n",
    "def init_qnetwork_params(sizes, key):\n",
    "    keys = random.split(key, len(sizes))\n",
    "    return [[random_qlayer_params(size, key) for size, key in zip(sizes.values(), keys)]]\n",
    " \n",
    "\n",
    "# A helper function to randomly initialize weights and biases\n",
    "# for a dense neural network layer\n",
    "def random_clayer_params(m, n, n_c, key, scale=1e-1):\n",
    "    w_key, b_key = random.split(key)\n",
    "    return initializer(w_key, (n_c, n,m)), random.normal(b_key, (n_c, n,))\n",
    "\n",
    "# Initialize all layers for a fully-connected neural network with sizes \"sizes\"\n",
    "def init_network_params(sizes, n_c, key):\n",
    "    keys = random.split(key, len(sizes))\n",
    "    return [random_clayer_params(m, n, n_c, k) for m, n, k in zip(sizes[:-1], sizes[1:], keys)]\n",
    "\n",
    "kernel_size = args.kernel_size\n",
    "strides = args.strides\n",
    "padding = args.padding\n",
    "clayer_sizes = args.clayer_sizes\n",
    "num_classes = args.num_classes\n",
    "\n",
    "template = args.template\n",
    "n_layers = args.n_layers\n",
    "n_qubits = args.n_qubits\n",
    "\n",
    "\n",
    "conv_out_shape = get_out_shape(input_dims, kernel_size, strides, padding)\n",
    "num_pixels = np.prod(conv_out_shape[:-1])*n_qubits\n",
    "qlayer_sizes = get_qlayer_sizes(template, num_classes, n_layers, n_qubits, kernel_size)\n",
    "clayer_sizes = [num_pixels] + clayer_sizes\n",
    "\n",
    "params = []\n",
    "params += init_qnetwork_params(qlayer_sizes, random.PRNGKey(0))\n",
    "# params += init_qnetwork_params(qlayer_sizes, random.PRNGKey(1))\n",
    "params += init_network_params(clayer_sizes, num_classes, random.PRNGKey(2))"
   ]
  },
  {
   "cell_type": "code",
   "execution_count": 164,
   "id": "5b368d89",
   "metadata": {
    "ExecuteTime": {
     "end_time": "2022-10-23T16:55:01.271463Z",
     "start_time": "2022-10-23T16:55:01.194142Z"
    }
   },
   "outputs": [
    {
     "name": "stdout",
     "output_type": "stream",
     "text": [
      "(5, 1, 1, 9) (5, 1, 1, 9) \n",
      "(5, 8, 64) (5, 8) \n",
      "(5, 2, 8) (5, 2) \n"
     ]
    }
   ],
   "source": [
    "for i in params:\n",
    "    for j in i:\n",
    "        print(j.shape, end = ' ')\n",
    "    print()"
   ]
  },
  {
   "cell_type": "markdown",
   "id": "0cc04079",
   "metadata": {},
   "source": [
    "## QLayers"
   ]
  },
  {
   "cell_type": "code",
   "execution_count": 166,
   "id": "b5a64b72",
   "metadata": {
    "ExecuteTime": {
     "end_time": "2022-10-23T16:56:36.144658Z",
     "start_time": "2022-10-23T16:56:36.052698Z"
    }
   },
   "outputs": [],
   "source": [
    "dev = qml.device('default.qubit.jax', wires=n_qubits)\n",
    "qubits =list(range(n_qubits))\n",
    "\n",
    "@jax.jit\n",
    "@qml.qnode(dev, interface='jax')\n",
    "def NQubitPQCSparse(inputs, w, b):\n",
    "    z = jnp.dot(w, jnp.transpose(inputs))+ b\n",
    "\n",
    "    for q in qubits:\n",
    "        qml.Hadamard(wires=q)\n",
    "    \n",
    "    for l in range(n_layers):\n",
    "        for q in qubits:\n",
    "            qml.Rot(z[l,q,0], z[l,q,1], z[l,q,2], wires= q)\n",
    "        if (l & 1):\n",
    "            for q0, q1 in zip(qubits[1::2], qubits[2::2] + [qubits[0]]):\n",
    "                qml.CZ((q0,q1))\n",
    "        else:\n",
    "            for q0, q1 in zip(qubits[0::2], qubits[1::2]):\n",
    "                qml.CZ((q0,q1))\n",
    "   \n",
    "    return [qml.expval(qml.PauliZ(q)) for q in qubits]"
   ]
  },
  {
   "cell_type": "code",
   "execution_count": 167,
   "id": "caaf2386",
   "metadata": {
    "ExecuteTime": {
     "end_time": "2022-10-23T16:56:39.814890Z",
     "start_time": "2022-10-23T16:56:39.702929Z"
    }
   },
   "outputs": [],
   "source": [
    "dev = qml.device('default.qubit.jax', wires=n_qubits)\n",
    "qubits =list(range(n_qubits))\n",
    "\n",
    "@jax.jit\n",
    "@qml.qnode(dev, interface='jax')\n",
    "def NQubitPQC(inputs, w, b):\n",
    "    steps = inputs.shape[-1]//3\n",
    "    for q in qubits:\n",
    "        qml.Hadamard(wires=q)\n",
    "    \n",
    "    for l in range(n_layers):\n",
    "        for q in qubits:\n",
    "            for i in range(steps):\n",
    "                z = jnp.transpose(jnp.multiply(inputs[:,3*i:3*i+3],w[l,q,3*i:3*i+3]) + b[l,q,3*i:3*i+3])\n",
    "                qml.RZ(z[0], wires=q)\n",
    "                qml.RY(z[1], wires=q)\n",
    "                qml.RZ(z[2], wires=q)\n",
    "                \n",
    "        if (l & 1):\n",
    "            for q0, q1 in zip(qubits[1::2], qubits[2::2] + [qubits[0]]):\n",
    "                qml.CZ((q0,q1))\n",
    "        else:\n",
    "            for q0, q1 in zip(qubits[0::2], qubits[1::2]):\n",
    "                qml.CZ((q0,q1))\n",
    "\n",
    "    return [qml.expval(qml.PauliZ(q)) for q in qubits]"
   ]
  },
  {
   "cell_type": "code",
   "execution_count": 168,
   "id": "6b9b34b0",
   "metadata": {
    "ExecuteTime": {
     "end_time": "2022-10-23T16:56:44.147368Z",
     "start_time": "2022-10-23T16:56:44.064108Z"
    }
   },
   "outputs": [],
   "source": [
    "dev = qml.device('default.qubit.jax', wires=n_qubits)\n",
    "qubits =list(range(n_qubits))\n",
    "\n",
    "@jax.jit\n",
    "@qml.qnode(dev, interface='jax')\n",
    "def LightPQC(inputs, w, b):\n",
    "    steps = inputs.shape[-1]//3\n",
    "    for q in qubits:\n",
    "        qml.Hadamard(wires=q)\n",
    "    \n",
    "    for l in range(n_layers):\n",
    "        for q in qubits:\n",
    "            for i in range(steps):\n",
    "                z = jnp.transpose(jnp.multiply(inputs[:,3*i:3*i+3],w[l,q,3*i:3*i+3]))\n",
    "                qml.RZ(z[0], wires=q)\n",
    "                qml.RY(z[1], wires=q)\n",
    "                qml.RZ(z[2], wires=q)\n",
    "            qml.RX(b[l,q,0], wires = q)\n",
    "        if (l & 1):\n",
    "            for q0, q1 in zip(qubits[1::2], qubits[2::2] + [qubits[0]]):\n",
    "                qml.CZ((q0,q1))\n",
    "        else:\n",
    "            for q0, q1 in zip(qubits[0::2], qubits[1::2]):\n",
    "                qml.CZ((q0,q1))\n",
    "\n",
    "    return [qml.expval(qml.PauliZ(q)) for q in qubits]"
   ]
  },
  {
   "cell_type": "code",
   "execution_count": 169,
   "id": "4552c20e",
   "metadata": {
    "ExecuteTime": {
     "end_time": "2022-10-23T16:58:39.910928Z",
     "start_time": "2022-10-23T16:58:39.792204Z"
    }
   },
   "outputs": [],
   "source": [
    "dev = qml.device('default.qubit.jax', wires=n_qubits)\n",
    "qubits =list(range(n_qubits))\n",
    "\n",
    "@jax.jit\n",
    "@qml.qnode(dev, interface='jax')\n",
    "def Qernel(inputs, w, b):\n",
    "    inputs = jnp.transpose(inputs)\n",
    "    batch_dim = inputs.shape[-1]\n",
    "\n",
    "    for q in qubits:\n",
    "        qml.Hadamard(wires=q)\n",
    "    \n",
    "    for l in range(n_layers):\n",
    "        for q in qubits:\n",
    "            z = jnp.multiply(inputs[3*q:3*q+3, :], jnp.transpose(jnp.tile(w[l,q], (batch_dim,1))))\n",
    "            qml.Rot(z[0], z[1], z[2], wires= q)\n",
    "            qml.RX(b[l,q,0], wires = q)\n",
    "    return [qml.expval(qml.PauliZ(q)) for q in qubits]"
   ]
  },
  {
   "cell_type": "code",
   "execution_count": 171,
   "id": "4b084fed",
   "metadata": {
    "ExecuteTime": {
     "end_time": "2022-10-23T17:00:01.676335Z",
     "start_time": "2022-10-23T17:00:01.601874Z"
    }
   },
   "outputs": [],
   "source": [
    "def get_nodes(template):\n",
    "    if template == 'NQubitPQC':\n",
    "        return [qml.QNode(NQubitPQC) for _ in num_classes]\n",
    "    elif template == 'LightPQC':\n",
    "        return [qml.QNode(LightPQC) for _ in num_classes]\n",
    "    elif template == 'NQubitPQCSparse':\n",
    "        return [qml.QNode(NQubitPQCSparse) for _ in num_classes]\n",
    "    elif template == 'Qernel':\n",
    "        return [qml.QNode(Qernel) for _ in num_classes]"
   ]
  },
  {
   "cell_type": "code",
   "execution_count": 135,
   "id": "94ff6d15",
   "metadata": {
    "ExecuteTime": {
     "end_time": "2022-10-23T16:42:53.901910Z",
     "start_time": "2022-10-23T16:42:53.805064Z"
    }
   },
   "outputs": [],
   "source": [
    "def qconv(x, qweights):\n",
    "    x = jnp.expand_dims(x,axis=0)\n",
    "    dn = jax.lax.conv_dimension_numbers(x.shape, \n",
    "                                        (1,1,kernel_size[0],kernel_size[1]), \n",
    "                                        ('NHWC', 'IOHW', 'NHWC'))\n",
    "    x = jax.lax.conv_general_dilated_patches(lhs = x,\n",
    "                                               filter_shape= kernel_size,\n",
    "                                               window_strides=strides,\n",
    "                                               padding=padding,\n",
    "                                               dimension_numbers=dn \n",
    "                                              )\n",
    "    iters = x.shape[1:3]\n",
    "    x = jnp.reshape(x, (-1, np.prod(kernel_size)))\n",
    "    \n",
    "#     x = get_nodes(template)(x, *qweights)\n",
    "    nodes = get_nodes(template)\n",
    "    \n",
    "    \n",
    "    x = jnp.reshape(x, iters + (n_qubits,))\n",
    "    return x"
   ]
  },
  {
   "cell_type": "code",
   "execution_count": 136,
   "id": "d0ff8700",
   "metadata": {
    "ExecuteTime": {
     "end_time": "2022-10-23T16:42:54.339565Z",
     "start_time": "2022-10-23T16:42:54.209270Z"
    }
   },
   "outputs": [
    {
     "name": "stdout",
     "output_type": "stream",
     "text": [
      "0: ──H──RZ(M0)──RY(M1)──RZ(M2)──RZ(M3)──RY(M4)──RZ(M5)──RZ(M6)──RY(M7)──RZ(M8)─┤  <Z>\n"
     ]
    }
   ],
   "source": [
    "dev = qml.device(\"default.qubit\", wires=n_qubits)\n",
    "qnode = qml.QNode(get_node(template), dev)\n",
    "\n",
    "inputs = np.random.uniform(size = (10,np.prod(kernel_size)))\n",
    "weights = params[0]\n",
    "drawer = qml.draw(qnode, expansion_strategy=\"device\")\n",
    "print(drawer(inputs,*weights))"
   ]
  },
  {
   "cell_type": "markdown",
   "id": "0eb80645",
   "metadata": {},
   "source": [
    "## Auto-Batching Predictions"
   ]
  },
  {
   "cell_type": "code",
   "execution_count": 137,
   "id": "93945a8f",
   "metadata": {
    "ExecuteTime": {
     "end_time": "2022-10-23T16:42:55.295296Z",
     "start_time": "2022-10-23T16:42:55.209580Z"
    }
   },
   "outputs": [],
   "source": [
    "from jax.scipy.special import logsumexp\n",
    "\n",
    "def relu(x):\n",
    "    return jnp.maximum(0, x)\n",
    "\n",
    "def forward(params, image):\n",
    "  # per-example predictions\n",
    "    activations = qconv(image, params[0])\n",
    "    activations += image\n",
    "    activations = relu(activations)\n",
    "    activations = jnp.reshape(activations, (-1))\n",
    "    for w, b in params[1:-1]:\n",
    "        outputs = jnp.dot(w, activations) + b\n",
    "        activations = relu(outputs)\n",
    "    final_w, final_b = params[-1]\n",
    "    logits = jnp.dot(final_w, activations) + final_b\n",
    "    return logits - logsumexp(logits)"
   ]
  },
  {
   "cell_type": "code",
   "execution_count": 138,
   "id": "d8fa7746",
   "metadata": {
    "ExecuteTime": {
     "end_time": "2022-10-23T16:42:55.604206Z",
     "start_time": "2022-10-23T16:42:55.515726Z"
    }
   },
   "outputs": [],
   "source": [
    "def forwardx(params, image):\n",
    "  # per-example predictions\n",
    "    activations = qconv(image, params[0])\n",
    "    activations = relu(activations)\n",
    "    activations = qconv(activations, params[1])\n",
    "    activations += image\n",
    "    activations = relu(activations)\n",
    "    \n",
    "    activations = jnp.reshape(activations, (-1))\n",
    "    for w, b in params[2:-1]:\n",
    "        outputs = jnp.dot(w, activations) + b\n",
    "        activations = relu(outputs)\n",
    "    final_w, final_b = params[-1]\n",
    "    logits = jnp.dot(final_w, activations) + final_b\n",
    "    return logits - logsumexp(logits)"
   ]
  },
  {
   "cell_type": "code",
   "execution_count": 139,
   "id": "fbdb84a8",
   "metadata": {
    "ExecuteTime": {
     "end_time": "2022-10-23T16:43:03.862839Z",
     "start_time": "2022-10-23T16:42:56.235946Z"
    },
    "scrolled": true
   },
   "outputs": [
    {
     "name": "stdout",
     "output_type": "stream",
     "text": [
      "[   0.      -161.09143]\n"
     ]
    }
   ],
   "source": [
    "# This works on single examples\n",
    "random_flattened_image = random.normal(random.PRNGKey(1), input_dims)\n",
    "random_flattened_image = jnp.floor(random_flattened_image*10)\n",
    "preds = forward(params,  random_flattened_image)\n",
    "print(preds)"
   ]
  },
  {
   "cell_type": "code",
   "execution_count": 140,
   "id": "931e2120",
   "metadata": {
    "ExecuteTime": {
     "end_time": "2022-10-23T16:43:14.366652Z",
     "start_time": "2022-10-23T16:43:14.251503Z"
    }
   },
   "outputs": [],
   "source": [
    "# Doesn't work with a batch\n",
    "random_flattened_images = random.normal(random.PRNGKey(1), (2,)+ input_dims)\n",
    "random_flattened_images = jnp.floor(random_flattened_images*10)\n",
    "# try:\n",
    "#     preds = predict(params, random_flattened_images)\n",
    "# except TypeError:\n",
    "#     print('Invalid shapes!')"
   ]
  },
  {
   "cell_type": "code",
   "execution_count": 141,
   "id": "9fa9ea5f",
   "metadata": {
    "ExecuteTime": {
     "end_time": "2022-10-23T16:43:24.316249Z",
     "start_time": "2022-10-23T16:43:14.981902Z"
    }
   },
   "outputs": [
    {
     "name": "stdout",
     "output_type": "stream",
     "text": [
      "[[   0.      -165.50987]\n",
      " [   0.       -44.39451]]\n"
     ]
    }
   ],
   "source": [
    "# Let's upgrade it to handle batches using `vmap`\n",
    "\n",
    "# Make a batched version of the `predict` function\n",
    "batched_forward = vmap(forward, in_axes=(None,0))\n",
    "\n",
    "# `batched_predict` has the same call signature as `predict`\n",
    "batched_preds = batched_forward(params, random_flattened_images)\n",
    "print(batched_preds)"
   ]
  },
  {
   "cell_type": "markdown",
   "id": "d696d399",
   "metadata": {},
   "source": [
    "## Utility and loss functions"
   ]
  },
  {
   "cell_type": "code",
   "execution_count": 142,
   "id": "fc48796a",
   "metadata": {
    "ExecuteTime": {
     "end_time": "2022-10-23T16:43:24.431623Z",
     "start_time": "2022-10-23T16:43:24.321061Z"
    }
   },
   "outputs": [],
   "source": [
    "from sklearn.metrics import roc_auc_score\n",
    "\n",
    "def accuracy(y_true, y_pred):\n",
    "    target_class = jnp.argmax(y_true, axis=1)\n",
    "    predicted_class = jnp.argmax(y_pred, axis=1)\n",
    "    return jnp.sum(predicted_class == target_class)\n",
    " \n",
    "\n",
    "def loss_fn(params, images, targets):\n",
    "    preds = batched_forward(params, images)\n",
    "    loss_value = -jnp.mean(preds * targets)\n",
    "    return loss_value, preds\n",
    "\n",
    "@jit\n",
    "def update(opt_state, params, x, y):\n",
    "    _ , grads = jax.value_and_grad(loss_fn, has_aux=True)(params, x, y)\n",
    "    \n",
    "    updates, opt_state = optimizer.update(grads, opt_state)\n",
    "    params = optax.apply_updates(params, updates)\n",
    "    \n",
    "    return params, opt_state\n",
    "\n",
    "@jit\n",
    "def step(params,x,y):\n",
    "    loss_value, preds = loss_fn(params, x, y)\n",
    "    acc = accuracy(y, preds)\n",
    "    return loss_value, acc\n",
    "\n",
    "def evaluate(params, ds):\n",
    "    losses = []\n",
    "    accs = []\n",
    "    with tqdm(tfds.as_numpy(ds), unit=\"batch\") as tepoch:\n",
    "        for x, y in tepoch:\n",
    "            tepoch.set_description(\"Validation\")\n",
    "            loss_value, acc = step(params, x, y)\n",
    "            losses.append(loss_value)\n",
    "            accs.append(acc)\n",
    "       \n",
    "    return jnp.mean(np.array(losses)), jnp.mean(np.array(accs))/args.batch_size\n",
    "\n",
    "def predict(params, ds):\n",
    "    preds = []\n",
    "    y_true = []\n",
    "    with tqdm(tfds.as_numpy(ds), unit=\"batch\") as tepoch:\n",
    "        for x, y in tepoch:\n",
    "            preds += list(batched_forward(params, x))\n",
    "            y_true += list(y)\n",
    "    \n",
    "    return np.array(preds), np.array(y_true)"
   ]
  },
  {
   "cell_type": "markdown",
   "id": "63afa04b",
   "metadata": {},
   "source": [
    "## Training loop"
   ]
  },
  {
   "cell_type": "code",
   "execution_count": 143,
   "id": "0c29b41d",
   "metadata": {
    "ExecuteTime": {
     "end_time": "2022-10-23T16:43:24.686771Z",
     "start_time": "2022-10-23T16:43:24.437090Z"
    }
   },
   "outputs": [],
   "source": [
    "lr = 1e-3"
   ]
  },
  {
   "cell_type": "code",
   "execution_count": 144,
   "id": "01c9e9c5",
   "metadata": {
    "ExecuteTime": {
     "end_time": "2022-10-23T16:43:24.812639Z",
     "start_time": "2022-10-23T16:43:24.699848Z"
    }
   },
   "outputs": [
    {
     "name": "stdout",
     "output_type": "stream",
     "text": [
      "0.001\n"
     ]
    }
   ],
   "source": [
    "schedule_fn = optax.linear_schedule(transition_steps=150,\n",
    "                                    init_value=0.2,\n",
    "                                    end_value=1e-7,\n",
    "                                    )\n",
    "# Defining an optimizer in Jax \n",
    "# optimizer = optax.adam(learning_rate=schedule_fn)\n",
    "\n",
    "print(lr)\n",
    "# optimizer = optax.adam(learning_rate=args.learning_rate)\n",
    "optimizer = optax.adam(learning_rate=lr)\n",
    "opt_state = optimizer.init(params)\n",
    "# lr = (lr*np.sqrt(0.1))"
   ]
  },
  {
   "cell_type": "code",
   "execution_count": 145,
   "id": "fb4f365f",
   "metadata": {
    "ExecuteTime": {
     "end_time": "2022-10-23T16:44:52.171738Z",
     "start_time": "2022-10-23T16:43:24.817021Z"
    },
    "scrolled": true
   },
   "outputs": [
    {
     "name": "stderr",
     "output_type": "stream",
     "text": [
      "Epoch 0: 100%|████████████████████████████████████████████████████████████████████| 90/90 [00:27<00:00,  3.28batch/s]\n",
      "Validation: 100%|█████████████████████████████████████████████████████████████████| 90/90 [00:18<00:00,  4.74batch/s]\n",
      "Validation: 100%|█████████████████████████████████████████████████████████████████| 10/10 [00:09<00:00,  1.10batch/s]\n"
     ]
    },
    {
     "name": "stdout",
     "output_type": "stream",
     "text": [
      "loss: 0.6220170259475708 - acc: 0.640625\n",
      "val_loss: 0.6115326285362244 - val_acc: 0.632031261920929\n",
      "time: 27.42134952545166\n"
     ]
    },
    {
     "name": "stderr",
     "output_type": "stream",
     "text": [
      "Epoch 1: 100%|███████████████████████████████████████████████████████████████████| 90/90 [00:00<00:00, 176.25batch/s]\n",
      "Validation: 100%|████████████████████████████████████████████████████████████████| 90/90 [00:00<00:00, 200.86batch/s]\n",
      "Validation: 100%|████████████████████████████████████████████████████████████████| 10/10 [00:00<00:00, 184.75batch/s]\n"
     ]
    },
    {
     "name": "stdout",
     "output_type": "stream",
     "text": [
      "loss: 0.2198825478553772 - acc: 0.862500011920929\n",
      "val_loss: 0.19998501241207123 - val_acc: 0.8617187738418579\n",
      "time: 0.5179848670959473\n"
     ]
    },
    {
     "name": "stderr",
     "output_type": "stream",
     "text": [
      "Epoch 2: 100%|███████████████████████████████████████████████████████████████████| 90/90 [00:00<00:00, 179.03batch/s]\n",
      "Validation: 100%|████████████████████████████████████████████████████████████████| 90/90 [00:00<00:00, 226.58batch/s]\n",
      "Validation: 100%|████████████████████████████████████████████████████████████████| 10/10 [00:00<00:00, 194.67batch/s]\n"
     ]
    },
    {
     "name": "stdout",
     "output_type": "stream",
     "text": [
      "loss: 0.12094088643789291 - acc: 0.9265625476837158\n",
      "val_loss: 0.1121101975440979 - val_acc: 0.9281250238418579\n",
      "time: 0.508918046951294\n"
     ]
    },
    {
     "name": "stderr",
     "output_type": "stream",
     "text": [
      "Epoch 3: 100%|███████████████████████████████████████████████████████████████████| 90/90 [00:00<00:00, 177.44batch/s]\n",
      "Validation: 100%|████████████████████████████████████████████████████████████████| 90/90 [00:00<00:00, 217.67batch/s]\n",
      "Validation: 100%|████████████████████████████████████████████████████████████████| 10/10 [00:00<00:00, 177.89batch/s]\n"
     ]
    },
    {
     "name": "stdout",
     "output_type": "stream",
     "text": [
      "loss: 0.07760623097419739 - acc: 0.9553819894790649\n",
      "val_loss: 0.0734054446220398 - val_acc: 0.952343761920929\n",
      "time: 0.5113320350646973\n"
     ]
    },
    {
     "name": "stderr",
     "output_type": "stream",
     "text": [
      "Epoch 4: 100%|███████████████████████████████████████████████████████████████████| 90/90 [00:00<00:00, 182.64batch/s]\n",
      "Validation: 100%|████████████████████████████████████████████████████████████████| 90/90 [00:00<00:00, 204.56batch/s]\n",
      "Validation: 100%|████████████████████████████████████████████████████████████████| 10/10 [00:00<00:00, 185.18batch/s]\n"
     ]
    },
    {
     "name": "stdout",
     "output_type": "stream",
     "text": [
      "loss: 0.05574367940425873 - acc: 0.9671875238418579\n",
      "val_loss: 0.0542498342692852 - val_acc: 0.965624988079071\n",
      "time: 0.49904465675354004\n"
     ]
    },
    {
     "name": "stderr",
     "output_type": "stream",
     "text": [
      "Epoch 5: 100%|███████████████████████████████████████████████████████████████████| 90/90 [00:00<00:00, 177.78batch/s]\n",
      "Validation: 100%|████████████████████████████████████████████████████████████████| 90/90 [00:00<00:00, 214.72batch/s]\n",
      "Validation: 100%|████████████████████████████████████████████████████████████████| 10/10 [00:00<00:00, 195.73batch/s]\n"
     ]
    },
    {
     "name": "stdout",
     "output_type": "stream",
     "text": [
      "loss: 0.04259795695543289 - acc: 0.9731771349906921\n",
      "val_loss: 0.04529106989502907 - val_acc: 0.9710937738418579\n",
      "time: 0.510899543762207\n"
     ]
    },
    {
     "name": "stderr",
     "output_type": "stream",
     "text": [
      "Epoch 6: 100%|███████████████████████████████████████████████████████████████████| 90/90 [00:00<00:00, 178.51batch/s]\n",
      "Validation: 100%|████████████████████████████████████████████████████████████████| 90/90 [00:00<00:00, 217.72batch/s]\n",
      "Validation: 100%|████████████████████████████████████████████████████████████████| 10/10 [00:00<00:00, 206.05batch/s]\n"
     ]
    },
    {
     "name": "stdout",
     "output_type": "stream",
     "text": [
      "loss: 0.033732883632183075 - acc: 0.9763889312744141\n",
      "val_loss: 0.03899955376982689 - val_acc: 0.9781250357627869\n",
      "time: 0.508903980255127\n"
     ]
    },
    {
     "name": "stderr",
     "output_type": "stream",
     "text": [
      "Epoch 7: 100%|███████████████████████████████████████████████████████████████████| 90/90 [00:00<00:00, 182.89batch/s]\n",
      "Validation: 100%|████████████████████████████████████████████████████████████████| 90/90 [00:00<00:00, 202.01batch/s]\n",
      "Validation: 100%|████████████████████████████████████████████████████████████████| 10/10 [00:00<00:00, 205.84batch/s]\n"
     ]
    },
    {
     "name": "stdout",
     "output_type": "stream",
     "text": [
      "loss: 0.02736518532037735 - acc: 0.979600727558136\n",
      "val_loss: 0.03288235887885094 - val_acc: 0.9789062738418579\n",
      "time: 0.4987175464630127\n"
     ]
    },
    {
     "name": "stderr",
     "output_type": "stream",
     "text": [
      "Epoch 8: 100%|███████████████████████████████████████████████████████████████████| 90/90 [00:00<00:00, 174.90batch/s]\n",
      "Validation: 100%|████████████████████████████████████████████████████████████████| 90/90 [00:00<00:00, 182.54batch/s]\n",
      "Validation: 100%|████████████████████████████████████████████████████████████████| 10/10 [00:00<00:00, 179.57batch/s]\n"
     ]
    },
    {
     "name": "stdout",
     "output_type": "stream",
     "text": [
      "loss: 0.022491762414574623 - acc: 0.9812500476837158\n",
      "val_loss: 0.03050808422267437 - val_acc: 0.9820312857627869\n",
      "time: 0.519294261932373\n"
     ]
    },
    {
     "name": "stderr",
     "output_type": "stream",
     "text": [
      "Epoch 9: 100%|███████████████████████████████████████████████████████████████████| 90/90 [00:00<00:00, 162.21batch/s]\n",
      "Validation: 100%|████████████████████████████████████████████████████████████████| 90/90 [00:00<00:00, 202.59batch/s]\n",
      "Validation: 100%|████████████████████████████████████████████████████████████████| 10/10 [00:00<00:00, 152.62batch/s]\n"
     ]
    },
    {
     "name": "stdout",
     "output_type": "stream",
     "text": [
      "loss: 0.01890205591917038 - acc: 0.9826388955116272\n",
      "val_loss: 0.029078776016831398 - val_acc: 0.9828125238418579\n",
      "time: 0.5617785453796387\n"
     ]
    },
    {
     "name": "stderr",
     "output_type": "stream",
     "text": [
      "Epoch 10: 100%|██████████████████████████████████████████████████████████████████| 90/90 [00:00<00:00, 141.96batch/s]\n",
      "Validation: 100%|████████████████████████████████████████████████████████████████| 90/90 [00:00<00:00, 165.93batch/s]\n",
      "Validation: 100%|████████████████████████████████████████████████████████████████| 10/10 [00:00<00:00, 119.10batch/s]\n"
     ]
    },
    {
     "name": "stdout",
     "output_type": "stream",
     "text": [
      "loss: 0.015894506126642227 - acc: 0.984288215637207\n",
      "val_loss: 0.027414266020059586 - val_acc: 0.984375\n",
      "time: 0.6411342620849609\n"
     ]
    },
    {
     "name": "stderr",
     "output_type": "stream",
     "text": [
      "Epoch 11: 100%|██████████████████████████████████████████████████████████████████| 90/90 [00:00<00:00, 166.31batch/s]\n",
      "Validation: 100%|████████████████████████████████████████████████████████████████| 90/90 [00:00<00:00, 173.70batch/s]\n",
      "Validation: 100%|████████████████████████████████████████████████████████████████| 10/10 [00:00<00:00, 182.34batch/s]\n"
     ]
    },
    {
     "name": "stdout",
     "output_type": "stream",
     "text": [
      "loss: 0.013730563223361969 - acc: 0.9847222566604614\n",
      "val_loss: 0.025252550840377808 - val_acc: 0.985156238079071\n",
      "time: 0.5507025718688965\n"
     ]
    },
    {
     "name": "stderr",
     "output_type": "stream",
     "text": [
      "Epoch 12: 100%|██████████████████████████████████████████████████████████████████| 90/90 [00:00<00:00, 164.32batch/s]\n",
      "Validation: 100%|████████████████████████████████████████████████████████████████| 90/90 [00:00<00:00, 205.73batch/s]\n",
      "Validation: 100%|████████████████████████████████████████████████████████████████| 10/10 [00:00<00:00, 185.15batch/s]\n"
     ]
    },
    {
     "name": "stdout",
     "output_type": "stream",
     "text": [
      "loss: 0.011901434510946274 - acc: 0.9849826693534851\n",
      "val_loss: 0.025575727224349976 - val_acc: 0.985156238079071\n",
      "time: 0.5555939674377441\n"
     ]
    },
    {
     "name": "stderr",
     "output_type": "stream",
     "text": [
      "Epoch 13: 100%|██████████████████████████████████████████████████████████████████| 90/90 [00:00<00:00, 140.51batch/s]\n",
      "Validation: 100%|████████████████████████████████████████████████████████████████| 90/90 [00:00<00:00, 179.49batch/s]\n",
      "Validation: 100%|████████████████████████████████████████████████████████████████| 10/10 [00:00<00:00, 176.47batch/s]\n"
     ]
    },
    {
     "name": "stdout",
     "output_type": "stream",
     "text": [
      "loss: 0.010375948622822762 - acc: 0.9855034947395325\n",
      "val_loss: 0.023850280791521072 - val_acc: 0.9859375357627869\n",
      "time: 0.6469278335571289\n"
     ]
    },
    {
     "name": "stderr",
     "output_type": "stream",
     "text": [
      "Epoch 14: 100%|██████████████████████████████████████████████████████████████████| 90/90 [00:00<00:00, 142.03batch/s]\n",
      "Validation: 100%|████████████████████████████████████████████████████████████████| 90/90 [00:00<00:00, 172.46batch/s]\n",
      "Validation: 100%|████████████████████████████████████████████████████████████████| 10/10 [00:00<00:00, 168.91batch/s]\n"
     ]
    },
    {
     "name": "stdout",
     "output_type": "stream",
     "text": [
      "loss: 0.009106083773076534 - acc: 0.9858506917953491\n",
      "val_loss: 0.02335468865931034 - val_acc: 0.9859375357627869\n",
      "time: 0.6404075622558594\n"
     ]
    },
    {
     "name": "stderr",
     "output_type": "stream",
     "text": [
      "Epoch 15: 100%|██████████████████████████████████████████████████████████████████| 90/90 [00:00<00:00, 152.77batch/s]\n",
      "Validation: 100%|████████████████████████████████████████████████████████████████| 90/90 [00:00<00:00, 208.73batch/s]\n",
      "Validation: 100%|████████████████████████████████████████████████████████████████| 10/10 [00:00<00:00, 183.83batch/s]\n"
     ]
    },
    {
     "name": "stdout",
     "output_type": "stream",
     "text": [
      "loss: 0.008092625066637993 - acc: 0.9860243201255798\n",
      "val_loss: 0.022923244163393974 - val_acc: 0.9859375357627869\n",
      "time: 0.5946457386016846\n"
     ]
    },
    {
     "name": "stderr",
     "output_type": "stream",
     "text": [
      "Epoch 16: 100%|██████████████████████████████████████████████████████████████████| 90/90 [00:00<00:00, 168.07batch/s]\n",
      "Validation: 100%|████████████████████████████████████████████████████████████████| 90/90 [00:00<00:00, 211.02batch/s]\n",
      "Validation: 100%|████████████████████████████████████████████████████████████████| 10/10 [00:00<00:00, 196.64batch/s]\n"
     ]
    },
    {
     "name": "stdout",
     "output_type": "stream",
     "text": [
      "loss: 0.007242409512400627 - acc: 0.9865451455116272\n",
      "val_loss: 0.023090338334441185 - val_acc: 0.9859375357627869\n",
      "time: 0.5434188842773438\n"
     ]
    },
    {
     "name": "stderr",
     "output_type": "stream",
     "text": [
      "Epoch 17: 100%|██████████████████████████████████████████████████████████████████| 90/90 [00:00<00:00, 173.31batch/s]\n",
      "Validation: 100%|████████████████████████████████████████████████████████████████| 90/90 [00:00<00:00, 142.81batch/s]\n",
      "Validation: 100%|█████████████████████████████████████████████████████████████████| 10/10 [00:00<00:00, 69.45batch/s]\n"
     ]
    },
    {
     "name": "stdout",
     "output_type": "stream",
     "text": [
      "loss: 0.006534216459840536 - acc: 0.9867187738418579\n",
      "val_loss: 0.022192666307091713 - val_acc: 0.9859375357627869\n",
      "time: 0.527224063873291\n"
     ]
    },
    {
     "name": "stderr",
     "output_type": "stream",
     "text": [
      "Epoch 18: 100%|██████████████████████████████████████████████████████████████████| 90/90 [00:00<00:00, 171.73batch/s]\n",
      "Validation: 100%|████████████████████████████████████████████████████████████████| 90/90 [00:00<00:00, 198.99batch/s]\n",
      "Validation: 100%|████████████████████████████████████████████████████████████████| 10/10 [00:00<00:00, 198.70batch/s]\n"
     ]
    },
    {
     "name": "stdout",
     "output_type": "stream",
     "text": [
      "loss: 0.0058957431465387344 - acc: 0.9869791865348816\n",
      "val_loss: 0.022419126704335213 - val_acc: 0.9859375357627869\n",
      "time: 0.5290374755859375\n"
     ]
    },
    {
     "name": "stderr",
     "output_type": "stream",
     "text": [
      "Epoch 19: 100%|██████████████████████████████████████████████████████████████████| 90/90 [00:00<00:00, 175.11batch/s]\n",
      "Validation: 100%|████████████████████████████████████████████████████████████████| 90/90 [00:00<00:00, 185.38batch/s]\n",
      "Validation: 100%|████████████████████████████████████████████████████████████████| 10/10 [00:00<00:00, 184.56batch/s]\n"
     ]
    },
    {
     "name": "stdout",
     "output_type": "stream",
     "text": [
      "loss: 0.0053279404528439045 - acc: 0.9872395992279053\n",
      "val_loss: 0.02164122276008129 - val_acc: 0.985156238079071\n",
      "time: 0.5192840099334717\n"
     ]
    },
    {
     "name": "stderr",
     "output_type": "stream",
     "text": [
      "Epoch 20: 100%|██████████████████████████████████████████████████████████████████| 90/90 [00:00<00:00, 168.44batch/s]\n",
      "Validation: 100%|████████████████████████████████████████████████████████████████| 90/90 [00:00<00:00, 205.06batch/s]\n",
      "Validation: 100%|████████████████████████████████████████████████████████████████| 10/10 [00:00<00:00, 195.29batch/s]\n"
     ]
    },
    {
     "name": "stdout",
     "output_type": "stream",
     "text": [
      "loss: 0.004885667935013771 - acc: 0.987500011920929\n",
      "val_loss: 0.022207750007510185 - val_acc: 0.985156238079071\n",
      "time: 0.5388977527618408\n"
     ]
    },
    {
     "name": "stderr",
     "output_type": "stream",
     "text": [
      "Epoch 21: 100%|██████████████████████████████████████████████████████████████████| 90/90 [00:00<00:00, 142.18batch/s]\n",
      "Validation: 100%|████████████████████████████████████████████████████████████████| 90/90 [00:00<00:00, 186.86batch/s]\n",
      "Validation: 100%|████████████████████████████████████████████████████████████████| 10/10 [00:00<00:00, 166.76batch/s]\n"
     ]
    },
    {
     "name": "stdout",
     "output_type": "stream",
     "text": [
      "loss: 0.00452882144600153 - acc: 0.987413227558136\n",
      "val_loss: 0.022427840158343315 - val_acc: 0.985156238079071\n",
      "time: 0.6400146484375\n"
     ]
    },
    {
     "name": "stderr",
     "output_type": "stream",
     "text": [
      "Epoch 22: 100%|██████████████████████████████████████████████████████████████████| 90/90 [00:00<00:00, 166.61batch/s]\n",
      "Validation: 100%|████████████████████████████████████████████████████████████████| 90/90 [00:00<00:00, 199.18batch/s]\n",
      "Validation: 100%|████████████████████████████████████████████████████████████████| 10/10 [00:00<00:00, 166.42batch/s]\n"
     ]
    },
    {
     "name": "stdout",
     "output_type": "stream",
     "text": [
      "loss: 0.004210766404867172 - acc: 0.9876736402511597\n",
      "val_loss: 0.021416908130049706 - val_acc: 0.985156238079071\n",
      "time: 0.5496385097503662\n"
     ]
    },
    {
     "name": "stderr",
     "output_type": "stream",
     "text": [
      "Epoch 23: 100%|██████████████████████████████████████████████████████████████████| 90/90 [00:00<00:00, 172.73batch/s]\n",
      "Validation: 100%|████████████████████████████████████████████████████████████████| 90/90 [00:00<00:00, 204.16batch/s]\n",
      "Validation: 100%|████████████████████████████████████████████████████████████████| 10/10 [00:00<00:00, 170.22batch/s]\n"
     ]
    },
    {
     "name": "stdout",
     "output_type": "stream",
     "text": [
      "loss: 0.003935822285711765 - acc: 0.9877604246139526\n",
      "val_loss: 0.021198775619268417 - val_acc: 0.985156238079071\n",
      "time: 0.5265817642211914\n"
     ]
    },
    {
     "name": "stderr",
     "output_type": "stream",
     "text": [
      "Epoch 24: 100%|██████████████████████████████████████████████████████████████████| 90/90 [00:00<00:00, 167.39batch/s]\n",
      "Validation: 100%|████████████████████████████████████████████████████████████████| 90/90 [00:00<00:00, 187.88batch/s]\n",
      "Validation: 100%|████████████████████████████████████████████████████████████████| 10/10 [00:00<00:00, 150.24batch/s]\n"
     ]
    },
    {
     "name": "stdout",
     "output_type": "stream",
     "text": [
      "loss: 0.003687235526740551 - acc: 0.9878472685813904\n",
      "val_loss: 0.021047506481409073 - val_acc: 0.985156238079071\n",
      "time: 0.5432822704315186\n"
     ]
    },
    {
     "name": "stderr",
     "output_type": "stream",
     "text": [
      "Epoch 25: 100%|██████████████████████████████████████████████████████████████████| 90/90 [00:00<00:00, 168.92batch/s]\n",
      "Validation: 100%|████████████████████████████████████████████████████████████████| 90/90 [00:00<00:00, 196.36batch/s]\n",
      "Validation: 100%|████████████████████████████████████████████████████████████████| 10/10 [00:00<00:00, 156.34batch/s]\n"
     ]
    },
    {
     "name": "stdout",
     "output_type": "stream",
     "text": [
      "loss: 0.003461812622845173 - acc: 0.9879340529441833\n",
      "val_loss: 0.020473478361964226 - val_acc: 0.985156238079071\n",
      "time: 0.5373961925506592\n"
     ]
    },
    {
     "name": "stderr",
     "output_type": "stream",
     "text": [
      "Epoch 26: 100%|██████████████████████████████████████████████████████████████████| 90/90 [00:00<00:00, 164.22batch/s]\n",
      "Validation: 100%|████████████████████████████████████████████████████████████████| 90/90 [00:00<00:00, 197.61batch/s]\n",
      "Validation: 100%|████████████████████████████████████████████████████████████████| 10/10 [00:00<00:00, 177.18batch/s]\n"
     ]
    },
    {
     "name": "stdout",
     "output_type": "stream",
     "text": [
      "loss: 0.0032600052654743195 - acc: 0.9881076812744141\n",
      "val_loss: 0.020372727885842323 - val_acc: 0.985156238079071\n",
      "time: 0.5548381805419922\n"
     ]
    },
    {
     "name": "stderr",
     "output_type": "stream",
     "text": [
      "Epoch 27: 100%|██████████████████████████████████████████████████████████████████| 90/90 [00:00<00:00, 165.27batch/s]\n",
      "Validation: 100%|████████████████████████████████████████████████████████████████| 90/90 [00:00<00:00, 200.39batch/s]\n",
      "Validation: 100%|████████████████████████████████████████████████████████████████| 10/10 [00:00<00:00, 142.17batch/s]\n"
     ]
    },
    {
     "name": "stdout",
     "output_type": "stream",
     "text": [
      "loss: 0.0030817899387329817 - acc: 0.988194465637207\n",
      "val_loss: 0.0206682737916708 - val_acc: 0.984375\n",
      "time: 0.5504982471466064\n"
     ]
    },
    {
     "name": "stderr",
     "output_type": "stream",
     "text": [
      "Epoch 28: 100%|██████████████████████████████████████████████████████████████████| 90/90 [00:00<00:00, 171.29batch/s]\n",
      "Validation: 100%|████████████████████████████████████████████████████████████████| 90/90 [00:00<00:00, 195.61batch/s]\n",
      "Validation: 100%|████████████████████████████████████████████████████████████████| 10/10 [00:00<00:00, 195.03batch/s]\n"
     ]
    },
    {
     "name": "stdout",
     "output_type": "stream",
     "text": [
      "loss: 0.002918083220720291 - acc: 0.98828125\n",
      "val_loss: 0.021269798278808594 - val_acc: 0.984375\n",
      "time: 0.5307211875915527\n"
     ]
    },
    {
     "name": "stderr",
     "output_type": "stream",
     "text": [
      "Epoch 29: 100%|██████████████████████████████████████████████████████████████████| 90/90 [00:00<00:00, 165.29batch/s]\n",
      "Validation: 100%|████████████████████████████████████████████████████████████████| 90/90 [00:00<00:00, 196.68batch/s]\n",
      "Validation: 100%|████████████████████████████████████████████████████████████████| 10/10 [00:00<00:00, 171.70batch/s]"
     ]
    },
    {
     "name": "stdout",
     "output_type": "stream",
     "text": [
      "loss: 0.0027653563302010298 - acc: 0.98828125\n",
      "val_loss: 0.020011840388178825 - val_acc: 0.984375\n",
      "time: 0.5533139705657959\n"
     ]
    },
    {
     "name": "stderr",
     "output_type": "stream",
     "text": [
      "\n"
     ]
    }
   ],
   "source": [
    "import time\n",
    "\n",
    "# epochs = args.epochs\n",
    "epochs = 30\n",
    "\n",
    "epoch_times = []\n",
    "for epoch in range(epochs):\n",
    "    start_time = time.time()\n",
    "\n",
    "    with tqdm(tfds.as_numpy(data.train_ds), unit=\"batch\") as tepoch:\n",
    "        for x, y in tepoch:\n",
    "            tepoch.set_description(f\"Epoch {epoch}\")\n",
    "            params, opt_state = update(opt_state, params, x, y)\n",
    "        \n",
    "    epoch_time = time.time() - start_time\n",
    "    epoch_times.append(epoch_time)\n",
    "    \n",
    "    loss, acc = evaluate(params, data.train_ds)\n",
    "    val_loss, val_acc = evaluate(params, data.val_ds)\n",
    "    \n",
    "    print('loss: {} - acc: {}'.format(loss, acc))\n",
    "    print('val_loss: {} - val_acc: {}'.format(val_loss, val_acc))\n",
    "    print('time: {}'.format(epoch_time))\n",
    "    \n",
    "    if args.wandb:\n",
    "        wandb.log({\"accuracy\": acc, \n",
    "                   \"val_accuracy\": val_acc, \n",
    "                   'loss':loss, \n",
    "                   'val_loss':val_loss,\n",
    "                   'lr': lr})\n"
   ]
  },
  {
   "cell_type": "code",
   "execution_count": 146,
   "id": "6674b74d",
   "metadata": {
    "ExecuteTime": {
     "end_time": "2022-10-23T16:45:16.154486Z",
     "start_time": "2022-10-23T16:44:52.175968Z"
    }
   },
   "outputs": [
    {
     "name": "stderr",
     "output_type": "stream",
     "text": [
      "100%|█████████████████████████████████████████████████████████████████████████████| 90/90 [00:23<00:00,  3.78batch/s]\n"
     ]
    },
    {
     "data": {
      "text/plain": [
       "0.999955275483235"
      ]
     },
     "execution_count": 146,
     "metadata": {},
     "output_type": "execute_result"
    }
   ],
   "source": [
    "from sklearn.metrics import roc_auc_score\n",
    "\n",
    "out,y_train = predict(params, data.train_ds)\n",
    "# _, y_test = tf_ds_to_numpy(data.test_ds)\n",
    "train_auc = roc_auc_score(y_train, out)\n",
    "train_auc"
   ]
  },
  {
   "cell_type": "code",
   "execution_count": 147,
   "id": "9a4571ee",
   "metadata": {
    "ExecuteTime": {
     "end_time": "2022-10-23T16:45:26.817212Z",
     "start_time": "2022-10-23T16:45:16.159039Z"
    }
   },
   "outputs": [
    {
     "name": "stderr",
     "output_type": "stream",
     "text": [
      "100%|█████████████████████████████████████████████████████████████████████████████| 17/17 [00:10<00:00,  1.61batch/s]\n"
     ]
    },
    {
     "data": {
      "text/plain": [
       "0.9993623572777128"
      ]
     },
     "execution_count": 147,
     "metadata": {},
     "output_type": "execute_result"
    }
   ],
   "source": [
    "from sklearn.metrics import roc_auc_score\n",
    "\n",
    "out,y_test = predict(params, data.test_ds)\n",
    "# _, y_test = tf_ds_to_numpy(data.test_ds)\n",
    "test_auc = roc_auc_score(y_test, out)\n",
    "test_auc"
   ]
  },
  {
   "cell_type": "code",
   "execution_count": 149,
   "id": "cd6ffd07",
   "metadata": {
    "ExecuteTime": {
     "end_time": "2022-08-31T08:49:36.339859Z",
     "start_time": "2022-08-31T08:49:32.869466Z"
    }
   },
   "outputs": [
    {
     "name": "stderr",
     "output_type": "stream",
     "text": [
      "\u001b[34m\u001b[1mwandb\u001b[0m: \u001b[33mWARNING\u001b[0m wandb uses only the first 10000 datapoints to create the plots.\n"
     ]
    }
   ],
   "source": [
    "if args.wandb:\n",
    "    wandb.run.summary['test_loss'] = test_loss\n",
    "    wandb.run.summary['test_acc'] = test_acc\n",
    "    wandb.run.summary['test_auc'] = test_auc\n",
    "    wandb.run.summary['train_auc'] = train_auc\n",
    "    wandb.run.summary['avg_epoch_time'] = np.mean(np.array(epoch_times))\n",
    "    y = y_test.argmax(axis=1)\n",
    "    preds = out.argmax(axis=1)\n",
    "    probs = out\n",
    "    classes = data.mapping\n",
    "\n",
    "    roc_curve = wandb.sklearn.plot_roc(y, probs, classes)\n",
    "    confusion_matrix = wandb.sklearn.plot_confusion_matrix(y, preds, classes)\n",
    "\n",
    "    wandb.log({\"roc_curve\": roc_curve})\n",
    "    wandb.log({\"confusion_matrix\": confusion_matrix})"
   ]
  },
  {
   "cell_type": "code",
   "execution_count": 150,
   "id": "d256c76d",
   "metadata": {
    "ExecuteTime": {
     "end_time": "2022-08-31T08:49:51.163829Z",
     "start_time": "2022-08-31T08:49:36.344141Z"
    }
   },
   "outputs": [
    {
     "data": {
      "text/html": [
       "Waiting for W&B process to finish... <strong style=\"color:green\">(success).</strong>"
      ],
      "text/plain": [
       "<IPython.core.display.HTML object>"
      ]
     },
     "metadata": {},
     "output_type": "display_data"
    },
    {
     "data": {
      "application/vnd.jupyter.widget-view+json": {
       "model_id": "",
       "version_major": 2,
       "version_minor": 0
      },
      "text/plain": [
       "VBox(children=(Label(value='0.360 MB of 0.360 MB uploaded (0.000 MB deduped)\\r'), FloatProgress(value=0.999705…"
      ]
     },
     "metadata": {},
     "output_type": "display_data"
    },
    {
     "data": {
      "text/html": [
       "<style>\n",
       "    table.wandb td:nth-child(1) { padding: 0 10px; text-align: left ; width: auto;} td:nth-child(2) {text-align: left ; width: 100%}\n",
       "    .wandb-row { display: flex; flex-direction: row; flex-wrap: wrap; justify-content: flex-start; width: 100% }\n",
       "    .wandb-col { display: flex; flex-direction: column; flex-basis: 100%; flex: 1; padding: 10px; }\n",
       "    </style>\n",
       "<div class=\"wandb-row\"><div class=\"wandb-col\"><h3>Run history:</h3><br/><table class=\"wandb\"><tr><td>accuracy</td><td>▁▃▄▄▅▅▅▅▆▆▆▆▆▆▆▆▇▇▇▇▇▇██████████████████</td></tr><tr><td>loss</td><td>█▆▅▄▄▄▃▃▃▃▃▃▃▃▃▃▂▂▂▂▂▂▂▂▂▂▂▂▂▁▁▁▂▁▁▁▁▁▁▁</td></tr><tr><td>lr</td><td>████████▃▃▃▃▃▃▃▃▂▂▂▂▂▂▂▂▁▁▁▁▁▁▁▁▁▁▁▁▁▁▁▁</td></tr><tr><td>val_accuracy</td><td>▁▂▃▄▅▆▆▆▆▆▆▆▆▆▆▇▇▇▇▇▇███████████████████</td></tr><tr><td>val_loss</td><td>█▆▄▄▃▃▃▃▃▃▃▃▃▃▃▂▂▂▂▂▂▂▁▂▁▁▂▁▁▁▁▁▁▁▁▁▁▁▁▁</td></tr></table><br/></div><div class=\"wandb-col\"><h3>Run summary:</h3><br/><table class=\"wandb\"><tr><td>accuracy</td><td>0.68082</td></tr><tr><td>avg_epoch_time</td><td>15.47968</td></tr><tr><td>loss</td><td>0.30514</td></tr><tr><td>lr</td><td>0.0</td></tr><tr><td>test_acc</td><td>0.66864</td></tr><tr><td>test_auc</td><td>0.72296</td></tr><tr><td>test_loss</td><td>0.31326</td></tr><tr><td>train_auc</td><td>0.73392</td></tr><tr><td>val_accuracy</td><td>0.65991</td></tr><tr><td>val_loss</td><td>0.31339</td></tr></table><br/></div></div>"
      ],
      "text/plain": [
       "<IPython.core.display.HTML object>"
      ]
     },
     "metadata": {},
     "output_type": "display_data"
    },
    {
     "data": {
      "text/html": [
       "Synced <strong style=\"color:#cdcd00\">floral-smoke-310</strong>: <a href=\"https://wandb.ai/gopald/qml-hep-lhc/runs/tgsbwkk5\" target=\"_blank\">https://wandb.ai/gopald/qml-hep-lhc/runs/tgsbwkk5</a><br/>Synced 5 W&B file(s), 2 media file(s), 2 artifact file(s) and 0 other file(s)"
      ],
      "text/plain": [
       "<IPython.core.display.HTML object>"
      ]
     },
     "metadata": {},
     "output_type": "display_data"
    },
    {
     "data": {
      "text/html": [
       "Find logs at: <code>./wandb/run-20220831_125202-tgsbwkk5/logs</code>"
      ],
      "text/plain": [
       "<IPython.core.display.HTML object>"
      ]
     },
     "metadata": {},
     "output_type": "display_data"
    }
   ],
   "source": [
    "if args.wandb:\n",
    "    wandb.finish()"
   ]
  },
  {
   "cell_type": "code",
   "execution_count": null,
   "id": "0e98b225",
   "metadata": {
    "ExecuteTime": {
     "end_time": "2022-08-18T05:06:41.426383Z",
     "start_time": "2022-08-18T05:06:41.265770Z"
    }
   },
   "outputs": [],
   "source": [
    "for i in range(200):\n",
    "    print(i, schedule_fn(i))"
   ]
  },
  {
   "cell_type": "code",
   "execution_count": null,
   "id": "f47b0add",
   "metadata": {},
   "outputs": [],
   "source": []
  }
 ],
 "metadata": {
  "kernelspec": {
   "display_name": "Python 3 (ipykernel)",
   "language": "python",
   "name": "python3"
  },
  "language_info": {
   "codemirror_mode": {
    "name": "ipython",
    "version": 3
   },
   "file_extension": ".py",
   "mimetype": "text/x-python",
   "name": "python",
   "nbconvert_exporter": "python",
   "pygments_lexer": "ipython3",
   "version": "3.7.13"
  },
  "latex_envs": {
   "LaTeX_envs_menu_present": true,
   "autoclose": false,
   "autocomplete": true,
   "bibliofile": "biblio.bib",
   "cite_by": "apalike",
   "current_citInitial": 1,
   "eqLabelWithNumbers": true,
   "eqNumInitial": 1,
   "hotkeys": {
    "equation": "Ctrl-E",
    "itemize": "Ctrl-I"
   },
   "labels_anchors": false,
   "latex_user_defs": false,
   "report_style_numbering": false,
   "user_envs_cfg": false
  },
  "toc": {
   "base_numbering": 1,
   "nav_menu": {},
   "number_sections": true,
   "sideBar": true,
   "skip_h1_title": false,
   "title_cell": "Table of Contents",
   "title_sidebar": "Contents",
   "toc_cell": false,
   "toc_position": {},
   "toc_section_display": true,
   "toc_window_display": false
  }
 },
 "nbformat": 4,
 "nbformat_minor": 5
}
