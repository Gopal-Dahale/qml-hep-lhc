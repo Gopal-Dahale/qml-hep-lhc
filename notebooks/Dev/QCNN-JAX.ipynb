{
 "cells": [
  {
   "cell_type": "code",
   "execution_count": 1,
   "id": "d28a72a2",
   "metadata": {
    "ExecuteTime": {
     "end_time": "2022-09-04T15:59:01.385837Z",
     "start_time": "2022-09-04T15:58:57.158386Z"
    }
   },
   "outputs": [],
   "source": [
    "%load_ext autoreload\n",
    "%autoreload 2\n",
    "\n",
    "%matplotlib inline\n",
    "\n",
    "from importlib.util import find_spec\n",
    "if find_spec(\"qml_hep_lhc\") is None:\n",
    "    import sys\n",
    "    sys.path.append('..')"
   ]
  },
  {
   "cell_type": "code",
   "execution_count": 2,
   "id": "7a7a9c90",
   "metadata": {
    "ExecuteTime": {
     "end_time": "2022-09-04T16:00:18.714567Z",
     "start_time": "2022-09-04T15:59:11.084580Z"
    }
   },
   "outputs": [
    {
     "name": "stderr",
     "output_type": "stream",
     "text": [
      "2022-09-04 21:29:18.454994: W tensorflow/stream_executor/platform/default/dso_loader.cc:64] Could not load dynamic library 'libcudart.so.11.0'; dlerror: libcudart.so.11.0: cannot open shared object file: No such file or directory\n",
      "2022-09-04 21:29:18.455097: I tensorflow/stream_executor/cuda/cudart_stub.cc:29] Ignore above cudart dlerror if you do not have a GPU set up on your machine.\n"
     ]
    }
   ],
   "source": [
    "from qml_hep_lhc.data import ElectronPhoton, MNIST, QuarkGluon\n",
    "from qml_hep_lhc.data.utils import tf_ds_to_numpy\n",
    "import argparse\n",
    "import wandb\n",
    "\n",
    "import pennylane as qml\n",
    "import jax.numpy as jnp\n",
    "import jax\n",
    "import optax\n",
    "from jax.nn.initializers import he_uniform\n",
    "from jax import grad, jit, vmap\n",
    "from jax import random\n",
    "import tensorflow_datasets as tfds\n",
    "from tqdm import tqdm\n",
    "import numpy as np\n",
    "import tensorflow as tf\n",
    "\n",
    "# Added to silence some warnings.\n",
    "# from jax.config import config\n",
    "# config.update(\"jax_enable_x64\", True)\n",
    "\n",
    "import matplotlib.pyplot as plt\n",
    "import time"
   ]
  },
  {
   "cell_type": "code",
   "execution_count": 3,
   "id": "53cce28d",
   "metadata": {
    "ExecuteTime": {
     "end_time": "2022-09-04T16:00:19.137670Z",
     "start_time": "2022-09-04T16:00:18.719284Z"
    }
   },
   "outputs": [
    {
     "name": "stderr",
     "output_type": "stream",
     "text": [
      "WARNING:absl:No GPU/TPU found, falling back to CPU. (Set TF_CPP_MIN_LOG_LEVEL=0 and rerun for more info.)\n"
     ]
    },
    {
     "data": {
      "text/plain": [
       "[CpuDevice(id=0)]"
      ]
     },
     "execution_count": 3,
     "metadata": {},
     "output_type": "execute_result"
    }
   ],
   "source": [
    "jax.devices()"
   ]
  },
  {
   "cell_type": "code",
   "execution_count": 97,
   "id": "7a7944e9",
   "metadata": {
    "ExecuteTime": {
     "end_time": "2022-09-04T16:21:40.717906Z",
     "start_time": "2022-09-04T16:21:40.565582Z"
    }
   },
   "outputs": [],
   "source": [
    "args = argparse.Namespace()\n",
    "\n",
    "# Data\n",
    "# args.center_crop = 0.2\n",
    "# args.resize = [8,8]\n",
    "args.standardize = 1\n",
    "args.power_transform = 1\n",
    "# args.binary_data = [3,6]\n",
    "args.percent_samples = 0.01\n",
    "# args.processed = 1\n",
    "args.dataset_type = '1'\n",
    "args.labels_to_categorical = 1\n",
    "args.batch_size = 2\n",
    "args.validation_split = 0.1\n",
    "\n",
    "# Base Model\n",
    "args.wandb = False\n",
    "args.epochs = 50\n",
    "args.learning_rate = 0.001\n",
    "\n",
    "# Quantum CNN Parameters\n",
    "args.n_layers = 1\n",
    "args.n_qubits = 1\n",
    "args.template = 'NQubitPQC'\n",
    "args.initializer = 'he_uniform'\n",
    "\n",
    "args.kernel_size = (3,3)\n",
    "args.strides = (2,2)\n",
    "args.padding = \"VALID\"\n",
    "\n",
    "args.clayer_sizes = [8, 2]"
   ]
  },
  {
   "cell_type": "code",
   "execution_count": 98,
   "id": "d347947e",
   "metadata": {
    "ExecuteTime": {
     "end_time": "2022-09-04T16:21:41.125378Z",
     "start_time": "2022-09-04T16:21:41.015774Z"
    }
   },
   "outputs": [],
   "source": [
    "if args.wandb:\n",
    "     wandb.init(project='qml-hep-lhc', config = vars(args))"
   ]
  },
  {
   "cell_type": "code",
   "execution_count": 99,
   "id": "ce4dec05",
   "metadata": {
    "ExecuteTime": {
     "end_time": "2022-09-04T16:21:50.563598Z",
     "start_time": "2022-09-04T16:21:41.261131Z"
    }
   },
   "outputs": [
    {
     "name": "stdout",
     "output_type": "stream",
     "text": [
      "Performing power transform...\n"
     ]
    },
    {
     "name": "stderr",
     "output_type": "stream",
     "text": [
      "/home/gopald/Documents/qml-hep-lhc/qenv/lib/python3.7/site-packages/sklearn/preprocessing/_data.py:3237: RuntimeWarning: divide by zero encountered in log\n",
      "  loglike = -n_samples / 2 * np.log(x_trans.var())\n"
     ]
    },
    {
     "name": "stdout",
     "output_type": "stream",
     "text": [
      "Standardizing data...\n",
      "Converting labels to categorical...\n",
      "Converting labels to categorical...\n",
      "\n",
      "Dataset :Quark Gluon 1\n",
      "╒════════╤═════════════════╤════════════════╤═════════════════╤═════════════╕\n",
      "│ Data   │ Train size      │ Val size       │ Test size       │ Dims        │\n",
      "╞════════╪═════════════════╪════════════════╪═════════════════╪═════════════╡\n",
      "│ X      │ (81, 40, 40, 1) │ (9, 40, 40, 1) │ (10, 40, 40, 1) │ (40, 40, 1) │\n",
      "├────────┼─────────────────┼────────────────┼─────────────────┼─────────────┤\n",
      "│ y      │ (81, 2)         │ (9, 2)         │ (10, 2)         │ (2,)        │\n",
      "╘════════╧═════════════════╧════════════════╧═════════════════╧═════════════╛\n",
      "\n",
      "╒══════════════╤═══════╤════════╤════════╤═══════╤══════════════════════════╕\n",
      "│ Type         │   Min │    Max │   Mean │   Std │ Samples for each class   │\n",
      "╞══════════════╪═══════╪════════╪════════╪═══════╪══════════════════════════╡\n",
      "│ Train Images │  -0.7 │   9.43 │  -0    │  0.99 │ [41, 40]                 │\n",
      "├──────────────┼───────┼────────┼────────┼───────┼──────────────────────────┤\n",
      "│ Val Images   │  -0.7 │   9.43 │   0.02 │  1    │ [4, 5]                   │\n",
      "├──────────────┼───────┼────────┼────────┼───────┼──────────────────────────┤\n",
      "│ Test Images  │  -0.7 │ 351.72 │   0.04 │  2.96 │ [5, 5]                   │\n",
      "╘══════════════╧═══════╧════════╧════════╧═══════╧══════════════════════════╛\n",
      "\n",
      "\n"
     ]
    }
   ],
   "source": [
    "data = QuarkGluon(args)\n",
    "data.prepare_data()\n",
    "data.setup()\n",
    "print(data)"
   ]
  },
  {
   "cell_type": "markdown",
   "id": "74329b45",
   "metadata": {},
   "source": [
    "## Hyperparameters"
   ]
  },
  {
   "cell_type": "code",
   "execution_count": 100,
   "id": "884dcb6e",
   "metadata": {
    "ExecuteTime": {
     "end_time": "2022-09-04T16:21:50.656922Z",
     "start_time": "2022-09-04T16:21:50.571982Z"
    }
   },
   "outputs": [
    {
     "data": {
      "text/plain": [
       "(40, 40, 1)"
      ]
     },
     "execution_count": 100,
     "metadata": {},
     "output_type": "execute_result"
    }
   ],
   "source": [
    "input_dims = data.config()['input_dims']\n",
    "input_dims"
   ]
  },
  {
   "cell_type": "code",
   "execution_count": 101,
   "id": "485ef1fa",
   "metadata": {
    "ExecuteTime": {
     "end_time": "2022-09-04T16:21:50.761329Z",
     "start_time": "2022-09-04T16:21:50.661326Z"
    }
   },
   "outputs": [],
   "source": [
    "def get_out_shape(in_shape, k, s, padding):\n",
    "    in_shape = (1,) + in_shape\n",
    "    a = np.random.uniform(size = (in_shape))\n",
    "    dn = jax.lax.conv_dimension_numbers(a.shape, (1,1,k[0],k[1]), ('NHWC', 'IOHW', 'NHWC'))\n",
    "    out = jax.lax.conv_general_dilated_patches(lhs = a,\n",
    "                                           filter_shape= k,\n",
    "                                           window_strides=s,\n",
    "                                           padding=padding,\n",
    "                                           dimension_numbers=dn \n",
    "                                    )\n",
    "    return out.shape"
   ]
  },
  {
   "cell_type": "code",
   "execution_count": 102,
   "id": "b17ff04e",
   "metadata": {
    "ExecuteTime": {
     "end_time": "2022-09-04T16:21:51.180092Z",
     "start_time": "2022-09-04T16:21:50.766515Z"
    }
   },
   "outputs": [
    {
     "name": "stderr",
     "output_type": "stream",
     "text": [
      "/home/gopald/Documents/qml-hep-lhc/qenv/lib/python3.7/site-packages/jax/_src/lax/other.py:97: UserWarning: Explicitly requested dtype float64 requested in eye is not available, and will be truncated to dtype float32. To enable more dtypes, set the jax_enable_x64 configuration option or the JAX_ENABLE_X64 shell environment variable. See https://github.com/google/jax#current-gotchas for more.\n",
      "  rhs = jnp.eye(spatial_size, dtype=lhs.dtype).reshape(filter_shape * 2)\n"
     ]
    }
   ],
   "source": [
    "initializer = he_uniform()\n",
    "\n",
    "# Get qlayer sizes\n",
    "def get_qlayer_sizes(template, n_l, n_q, k_size):\n",
    "    if template == 'NQubitPQCSparse':\n",
    "        return {\n",
    "            'w': (n_l, n_q,3,np.prod(k_size)),\n",
    "            'b': (n_l,n_q,3,1)\n",
    "        }\n",
    "    elif template == 'LightPQC':\n",
    "        return {\n",
    "            'w': (n_l,n_q,np.prod(k_size)),\n",
    "            'b': (n_l,n_q,1)\n",
    "        }\n",
    "    elif template == 'NQubitPQC':\n",
    "        assert np.prod(k_size)%3 == 0\n",
    "        return {\n",
    "            'w': (n_l,n_q,np.prod(k_size)),\n",
    "            'b': (n_l,n_q,np.prod(k_size))\n",
    "        }\n",
    "    elif template == 'Qernel':\n",
    "        assert n_q == 3\n",
    "        assert np.prod(k_size)%3 == 0\n",
    "        \n",
    "        return {\n",
    "            'w': (n_l, n_q, 3),\n",
    "            'b': (n_l, n_q, 1),\n",
    "        }\n",
    "\n",
    "def random_qlayer_params(size, key, scale=1e-1):\n",
    "    return initializer(key, size)\n",
    "    return scale * random.normal(key, size)\n",
    "\n",
    "def init_qnetwork_params(sizes, key):\n",
    "    keys = random.split(key, len(sizes))\n",
    "    return [[random_qlayer_params(size, key) for size, key in zip(sizes.values(), keys)]]\n",
    " \n",
    "\n",
    "# A helper function to randomly initialize weights and biases\n",
    "# for a dense neural network layer\n",
    "def random_clayer_params(m, n, key, scale=1e-1):\n",
    "    w_key, b_key = random.split(key)\n",
    "    return initializer(w_key, (n,m)), random.normal(b_key, (n,))\n",
    "    return scale * random.normal(w_key, (n, m)), scale * random.normal(b_key, (n,))\n",
    "\n",
    "# Initialize all layers for a fully-connected neural network with sizes \"sizes\"\n",
    "def init_network_params(sizes, key):\n",
    "    keys = random.split(key, len(sizes))\n",
    "    return [random_clayer_params(m, n, k) for m, n, k in zip(sizes[:-1], sizes[1:], keys)]\n",
    "\n",
    "kernel_size = args.kernel_size\n",
    "strides = args.strides\n",
    "padding = args.padding\n",
    "clayer_sizes = args.clayer_sizes\n",
    "\n",
    "template = args.template\n",
    "n_layers = args.n_layers\n",
    "n_qubits = args.n_qubits\n",
    "\n",
    "\n",
    "conv_out_shape = get_out_shape(input_dims, kernel_size, strides, padding)\n",
    "num_pixels = np.prod(conv_out_shape[:-1])*n_qubits\n",
    "qlayer_sizes = get_qlayer_sizes(template, n_layers, n_qubits, kernel_size)\n",
    "clayer_sizes = [num_pixels] + clayer_sizes\n",
    "\n",
    "params = []\n",
    "params += init_qnetwork_params(qlayer_sizes, random.PRNGKey(0))\n",
    "# params += init_qnetwork_params(qlayer_sizes, random.PRNGKey(1))\n",
    "params += init_network_params(clayer_sizes, random.PRNGKey(2))"
   ]
  },
  {
   "cell_type": "code",
   "execution_count": 103,
   "id": "5b368d89",
   "metadata": {
    "ExecuteTime": {
     "end_time": "2022-09-04T16:21:51.252449Z",
     "start_time": "2022-09-04T16:21:51.182999Z"
    }
   },
   "outputs": [
    {
     "name": "stdout",
     "output_type": "stream",
     "text": [
      "(1, 1, 9) (1, 1, 9) \n",
      "(8, 361) (8,) \n",
      "(2, 8) (2,) \n"
     ]
    }
   ],
   "source": [
    "for i in params:\n",
    "    for j in i:\n",
    "        print(j.shape, end = ' ')\n",
    "    print()"
   ]
  },
  {
   "cell_type": "markdown",
   "id": "0cc04079",
   "metadata": {},
   "source": [
    "## QLayers"
   ]
  },
  {
   "cell_type": "code",
   "execution_count": 104,
   "id": "b5a64b72",
   "metadata": {
    "ExecuteTime": {
     "end_time": "2022-09-04T16:21:52.234405Z",
     "start_time": "2022-09-04T16:21:52.100607Z"
    }
   },
   "outputs": [],
   "source": [
    "dev = qml.device('default.qubit.jax', wires=n_qubits)\n",
    "qubits =list(range(n_qubits))\n",
    "\n",
    "@jax.jit\n",
    "@qml.qnode(dev, interface='jax')\n",
    "def NQubitPQCSparse(inputs, w, b):\n",
    "    z = jnp.dot(w, jnp.transpose(inputs))+ b\n",
    "\n",
    "    for q in qubits:\n",
    "        qml.Hadamard(wires=q)\n",
    "    \n",
    "    for l in range(n_layers):\n",
    "        for q in qubits:\n",
    "            qml.Rot(z[l,q,0], z[l,q,1], z[l,q,2], wires= q)\n",
    "        if (l & 1):\n",
    "            for q0, q1 in zip(qubits[1::2], qubits[2::2] + [qubits[0]]):\n",
    "                qml.CZ((q0,q1))\n",
    "        else:\n",
    "            for q0, q1 in zip(qubits[0::2], qubits[1::2]):\n",
    "                qml.CZ((q0,q1))\n",
    "   \n",
    "#     return qml.expval(qml.PauliZ(qubits[-1]))\n",
    "    return [qml.expval(qml.PauliZ(q)) for q in qubits]"
   ]
  },
  {
   "cell_type": "code",
   "execution_count": 105,
   "id": "caaf2386",
   "metadata": {
    "ExecuteTime": {
     "end_time": "2022-09-04T16:21:53.041763Z",
     "start_time": "2022-09-04T16:21:52.919466Z"
    }
   },
   "outputs": [],
   "source": [
    "dev = qml.device('default.qubit.jax', wires=n_qubits)\n",
    "qubits =list(range(n_qubits))\n",
    "\n",
    "@jax.jit\n",
    "@qml.qnode(dev, interface='jax')\n",
    "def NQubitPQC(inputs, w, b):\n",
    "    steps = inputs.shape[-1]//3\n",
    "    for q in qubits:\n",
    "        qml.Hadamard(wires=q)\n",
    "    \n",
    "    for l in range(n_layers):\n",
    "        for q in qubits:\n",
    "            for i in range(steps):\n",
    "                z = jnp.transpose(jnp.multiply(inputs[:,3*i:3*i+3],w[l,q,3*i:3*i+3]) + b[l,q,3*i:3*i+3])\n",
    "                qml.RZ(z[0], wires=q)\n",
    "                qml.RY(z[1], wires=q)\n",
    "                qml.RZ(z[2], wires=q)\n",
    "                \n",
    "        if (l & 1):\n",
    "            for q0, q1 in zip(qubits[1::2], qubits[2::2] + [qubits[0]]):\n",
    "                qml.CZ((q0,q1))\n",
    "        else:\n",
    "            for q0, q1 in zip(qubits[0::2], qubits[1::2]):\n",
    "                qml.CZ((q0,q1))\n",
    "\n",
    "#     return qml.expval(qml.PauliZ(qubits[-1]))\n",
    "    return [qml.expval(qml.PauliZ(q)) for q in qubits]"
   ]
  },
  {
   "cell_type": "code",
   "execution_count": 106,
   "id": "6b9b34b0",
   "metadata": {
    "ExecuteTime": {
     "end_time": "2022-09-04T16:21:53.501902Z",
     "start_time": "2022-09-04T16:21:53.382935Z"
    }
   },
   "outputs": [],
   "source": [
    "dev = qml.device('default.qubit.jax', wires=n_qubits)\n",
    "qubits =list(range(n_qubits))\n",
    "\n",
    "@jax.jit\n",
    "@qml.qnode(dev, interface='jax')\n",
    "def LightPQC(inputs, w, b):\n",
    "    steps = inputs.shape[-1]//3\n",
    "    for q in qubits:\n",
    "        qml.Hadamard(wires=q)\n",
    "    \n",
    "    for l in range(n_layers):\n",
    "        for q in qubits:\n",
    "            for i in range(steps):\n",
    "                z = jnp.transpose(jnp.multiply(inputs[:,3*i:3*i+3],w[l,q,3*i:3*i+3]))\n",
    "                qml.RZ(z[0], wires=q)\n",
    "                qml.RY(z[1], wires=q)\n",
    "                qml.RZ(z[2], wires=q)\n",
    "            qml.RX(b[l,q,0], wires = q)\n",
    "        if (l & 1):\n",
    "            for q0, q1 in zip(qubits[1::2], qubits[2::2] + [qubits[0]]):\n",
    "                qml.CZ((q0,q1))\n",
    "        else:\n",
    "            for q0, q1 in zip(qubits[0::2], qubits[1::2]):\n",
    "                qml.CZ((q0,q1))\n",
    "    return [qml.expval(qml.PauliZ(q)) for q in qubits]"
   ]
  },
  {
   "cell_type": "code",
   "execution_count": 107,
   "id": "4552c20e",
   "metadata": {
    "ExecuteTime": {
     "end_time": "2022-09-04T16:21:53.897569Z",
     "start_time": "2022-09-04T16:21:53.805103Z"
    }
   },
   "outputs": [],
   "source": [
    "dev = qml.device('default.qubit.jax', wires=n_qubits)\n",
    "qubits =list(range(n_qubits))\n",
    "\n",
    "@jax.jit\n",
    "@qml.qnode(dev, interface='jax')\n",
    "def Qernel(inputs, w, b):\n",
    "    inputs = jnp.transpose(inputs)\n",
    "    batch_dim = inputs.shape[-1]\n",
    "\n",
    "    for q in qubits:\n",
    "        qml.Hadamard(wires=q)\n",
    "    \n",
    "    for l in range(n_layers):\n",
    "        for q in qubits:\n",
    "            z = jnp.multiply(inputs[3*q:3*q+3, :], jnp.transpose(jnp.tile(w[l,q], (batch_dim,1))))\n",
    "            qml.Rot(z[0], z[1], z[2], wires= q)\n",
    "            qml.RX(b[l,q,0], wires = q)\n",
    "    return [qml.expval(qml.PauliZ(q)) for q in qubits]"
   ]
  },
  {
   "cell_type": "code",
   "execution_count": 108,
   "id": "4b084fed",
   "metadata": {
    "ExecuteTime": {
     "end_time": "2022-09-04T16:21:54.668393Z",
     "start_time": "2022-09-04T16:21:54.582339Z"
    }
   },
   "outputs": [],
   "source": [
    "def get_node(template):\n",
    "    if template == 'NQubitPQC':\n",
    "        return NQubitPQC\n",
    "    elif template == 'LightPQC':\n",
    "        return LightPQC\n",
    "    elif template == 'NQubitPQCSparse':\n",
    "        return NQubitPQCSparse\n",
    "    elif template == 'Qernel':\n",
    "        return Qernel"
   ]
  },
  {
   "cell_type": "code",
   "execution_count": 109,
   "id": "94ff6d15",
   "metadata": {
    "ExecuteTime": {
     "end_time": "2022-09-04T16:21:55.145008Z",
     "start_time": "2022-09-04T16:21:55.036833Z"
    }
   },
   "outputs": [],
   "source": [
    "def qconv(x, qweights):\n",
    "    x = jnp.expand_dims(x,axis=0)\n",
    "    dn = jax.lax.conv_dimension_numbers(x.shape, \n",
    "                                        (1,1,kernel_size[0],kernel_size[1]), \n",
    "                                        ('NHWC', 'IOHW', 'NHWC'))\n",
    "    x = jax.lax.conv_general_dilated_patches(lhs = x,\n",
    "                                               filter_shape= kernel_size,\n",
    "                                               window_strides=strides,\n",
    "                                               padding=padding,\n",
    "                                               dimension_numbers=dn \n",
    "                                              )\n",
    "    iters = x.shape[1:3]\n",
    "    x = jnp.reshape(x, (-1, np.prod(kernel_size)))\n",
    "    \n",
    "    x = get_node(template)(x, *qweights)\n",
    "    \n",
    "    x = jnp.reshape(x, iters + (n_qubits,))\n",
    "    return x"
   ]
  },
  {
   "cell_type": "code",
   "execution_count": 110,
   "id": "d0ff8700",
   "metadata": {
    "ExecuteTime": {
     "end_time": "2022-09-04T16:21:55.723437Z",
     "start_time": "2022-09-04T16:21:55.579442Z"
    }
   },
   "outputs": [
    {
     "name": "stdout",
     "output_type": "stream",
     "text": [
      "0: ──H──RZ(M0)──RY(M1)──RZ(M2)──RZ(M3)──RY(M4)──RZ(M5)──RZ(M6)──RY(M7)──RZ(M8)─┤  <Z>\n"
     ]
    }
   ],
   "source": [
    "dev = qml.device(\"default.qubit\", wires=n_qubits)\n",
    "qnode = qml.QNode(get_node(template), dev)\n",
    "\n",
    "inputs = np.random.uniform(size = (10,np.prod(kernel_size)))\n",
    "weights = params[0]\n",
    "drawer = qml.draw(qnode, expansion_strategy=\"device\")\n",
    "print(drawer(inputs,*weights))"
   ]
  },
  {
   "cell_type": "markdown",
   "id": "0eb80645",
   "metadata": {},
   "source": [
    "## Auto-Batching Predictions"
   ]
  },
  {
   "cell_type": "code",
   "execution_count": 111,
   "id": "93945a8f",
   "metadata": {
    "ExecuteTime": {
     "end_time": "2022-09-04T16:22:01.622553Z",
     "start_time": "2022-09-04T16:22:01.530835Z"
    }
   },
   "outputs": [],
   "source": [
    "from jax.scipy.special import logsumexp\n",
    "\n",
    "def relu(x):\n",
    "    return jnp.maximum(0, x)\n",
    "\n",
    "def forward(params, image):\n",
    "  # per-example predictions\n",
    "    activations = qconv(image, params[0])\n",
    "#     activations += image\n",
    "#     activations = relu(activations)\n",
    "    activations = jnp.reshape(activations, (-1))\n",
    "    for w, b in params[1:-1]:\n",
    "        outputs = jnp.dot(w, activations) + b\n",
    "        activations = relu(outputs)\n",
    "    final_w, final_b = params[-1]\n",
    "    logits = jnp.dot(final_w, activations) + final_b\n",
    "    return logits - logsumexp(logits)"
   ]
  },
  {
   "cell_type": "code",
   "execution_count": 112,
   "id": "d8fa7746",
   "metadata": {
    "ExecuteTime": {
     "end_time": "2022-09-04T16:22:02.477582Z",
     "start_time": "2022-09-04T16:22:02.386539Z"
    }
   },
   "outputs": [],
   "source": [
    "def forwardx(params, image):\n",
    "  # per-example predictions\n",
    "    activations = qconv(image, params[0])\n",
    "    activations = relu(activations)\n",
    "    activations = qconv(activations, params[1])\n",
    "    activations += image\n",
    "    activations = relu(activations)\n",
    "    \n",
    "    activations = jnp.reshape(activations, (-1))\n",
    "    for w, b in params[2:-1]:\n",
    "        outputs = jnp.dot(w, activations) + b\n",
    "        activations = relu(outputs)\n",
    "    final_w, final_b = params[-1]\n",
    "    logits = jnp.dot(final_w, activations) + final_b\n",
    "    return logits - logsumexp(logits)"
   ]
  },
  {
   "cell_type": "code",
   "execution_count": 113,
   "id": "fbdb84a8",
   "metadata": {
    "ExecuteTime": {
     "end_time": "2022-09-04T16:22:46.721508Z",
     "start_time": "2022-09-04T16:22:03.064404Z"
    },
    "scrolled": true
   },
   "outputs": [
    {
     "name": "stdout",
     "output_type": "stream",
     "text": [
      "[-48.50864   0.     ]\n"
     ]
    }
   ],
   "source": [
    "# This works on single examples\n",
    "random_flattened_image = random.normal(random.PRNGKey(1), input_dims)\n",
    "random_flattened_image = jnp.floor(random_flattened_image*10)\n",
    "preds = forward(params,  random_flattened_image)\n",
    "print(preds)"
   ]
  },
  {
   "cell_type": "code",
   "execution_count": 114,
   "id": "931e2120",
   "metadata": {
    "ExecuteTime": {
     "end_time": "2022-09-04T16:22:48.696859Z",
     "start_time": "2022-09-04T16:22:48.326412Z"
    }
   },
   "outputs": [],
   "source": [
    "# Doesn't work with a batch\n",
    "random_flattened_images = random.normal(random.PRNGKey(1), (2,)+ input_dims)\n",
    "random_flattened_images = jnp.floor(random_flattened_images*10)\n",
    "# try:\n",
    "#     preds = predict(params, random_flattened_images)\n",
    "# except TypeError:\n",
    "#     print('Invalid shapes!')"
   ]
  },
  {
   "cell_type": "code",
   "execution_count": 115,
   "id": "9fa9ea5f",
   "metadata": {
    "ExecuteTime": {
     "end_time": "2022-09-04T16:23:41.271971Z",
     "start_time": "2022-09-04T16:22:50.226488Z"
    }
   },
   "outputs": [
    {
     "name": "stdout",
     "output_type": "stream",
     "text": [
      "[[-1.4724731e-03 -6.5211868e+00]\n",
      " [-9.1552734e-05 -9.3024044e+00]]\n"
     ]
    }
   ],
   "source": [
    "# Let's upgrade it to handle batches using `vmap`\n",
    "\n",
    "# Make a batched version of the `predict` function\n",
    "batched_forward = vmap(forward, in_axes=(None,0))\n",
    "\n",
    "# `batched_predict` has the same call signature as `predict`\n",
    "batched_preds = batched_forward(params, random_flattened_images)\n",
    "print(batched_preds)"
   ]
  },
  {
   "cell_type": "markdown",
   "id": "d696d399",
   "metadata": {},
   "source": [
    "## Utility and loss functions"
   ]
  },
  {
   "cell_type": "code",
   "execution_count": 116,
   "id": "fc48796a",
   "metadata": {
    "ExecuteTime": {
     "end_time": "2022-09-04T16:23:44.089839Z",
     "start_time": "2022-09-04T16:23:43.979060Z"
    }
   },
   "outputs": [],
   "source": [
    "from sklearn.metrics import roc_auc_score\n",
    "\n",
    "def accuracy(y_true, y_pred):\n",
    "    target_class = jnp.argmax(y_true, axis=1)\n",
    "    predicted_class = jnp.argmax(y_pred, axis=1)\n",
    "    return jnp.sum(predicted_class == target_class)\n",
    " \n",
    "\n",
    "def loss_fn(params, images, targets):\n",
    "    preds = batched_forward(params, images)\n",
    "    loss_value = -jnp.mean(preds * targets)\n",
    "    return loss_value, preds\n",
    "\n",
    "@jit\n",
    "def update(opt_state, params, x, y):\n",
    "    _ , grads = jax.value_and_grad(loss_fn, has_aux=True)(params, x, y)\n",
    "    \n",
    "    updates, opt_state = optimizer.update(grads, opt_state)\n",
    "    params = optax.apply_updates(params, updates)\n",
    "    \n",
    "    return params, opt_state\n",
    "\n",
    "@jit\n",
    "def step(params,x,y):\n",
    "    loss_value, preds = loss_fn(params, x, y)\n",
    "    acc = accuracy(y, preds)\n",
    "    return loss_value, acc\n",
    "\n",
    "def evaluate(params, ds):\n",
    "    losses = []\n",
    "    accs = []\n",
    "    with tqdm(tfds.as_numpy(ds), unit=\"batch\") as tepoch:\n",
    "        for x, y in tepoch:\n",
    "            tepoch.set_description(\"Validation\")\n",
    "            loss_value, acc = step(params, x, y)\n",
    "            losses.append(loss_value)\n",
    "            accs.append(acc)\n",
    "       \n",
    "    return jnp.mean(np.array(losses)), jnp.mean(np.array(accs))/args.batch_size\n",
    "\n",
    "def predict(params, ds):\n",
    "    preds = []\n",
    "    y_true = []\n",
    "    with tqdm(tfds.as_numpy(ds), unit=\"batch\") as tepoch:\n",
    "        for x, y in tepoch:\n",
    "            preds += list(batched_forward(params, x))\n",
    "            y_true += list(y)\n",
    "    \n",
    "    return np.array(preds), np.array(y_true)"
   ]
  },
  {
   "cell_type": "markdown",
   "id": "63afa04b",
   "metadata": {},
   "source": [
    "## Training loop"
   ]
  },
  {
   "cell_type": "code",
   "execution_count": 117,
   "id": "0c29b41d",
   "metadata": {
    "ExecuteTime": {
     "end_time": "2022-09-04T16:23:45.264429Z",
     "start_time": "2022-09-04T16:23:45.178816Z"
    }
   },
   "outputs": [],
   "source": [
    "lr = 1e-3"
   ]
  },
  {
   "cell_type": "code",
   "execution_count": 118,
   "id": "01c9e9c5",
   "metadata": {
    "ExecuteTime": {
     "end_time": "2022-09-04T16:23:45.960804Z",
     "start_time": "2022-09-04T16:23:45.815234Z"
    }
   },
   "outputs": [
    {
     "name": "stdout",
     "output_type": "stream",
     "text": [
      "0.001\n"
     ]
    }
   ],
   "source": [
    "schedule_fn = optax.linear_schedule(transition_steps=150,\n",
    "                                    init_value=0.2,\n",
    "                                    end_value=1e-7,\n",
    "                                    )\n",
    "# Defining an optimizer in Jax \n",
    "# optimizer = optax.adam(learning_rate=schedule_fn)\n",
    "\n",
    "print(lr)\n",
    "# optimizer = optax.adam(learning_rate=args.learning_rate)\n",
    "optimizer = optax.adam(learning_rate=lr)\n",
    "opt_state = optimizer.init(params)\n",
    "lr = (lr*np.sqrt(0.1))"
   ]
  },
  {
   "cell_type": "code",
   "execution_count": 119,
   "id": "fb4f365f",
   "metadata": {
    "ExecuteTime": {
     "end_time": "2022-09-04T16:28:33.871464Z",
     "start_time": "2022-09-04T16:23:47.581525Z"
    },
    "scrolled": true
   },
   "outputs": [
    {
     "name": "stderr",
     "output_type": "stream",
     "text": [
      "Epoch 0: 100%|████████████████████████████████████████████████████████████████████| 41/41 [02:30<00:00,  3.68s/batch]\n",
      "Validation: 100%|█████████████████████████████████████████████████████████████████| 41/41 [01:40<00:00,  2.45s/batch]\n",
      "Validation: 100%|██████████████████████████████████████████████████████████████████| 5/5 [00:00<00:00, 172.88batch/s]\n"
     ]
    },
    {
     "name": "stdout",
     "output_type": "stream",
     "text": [
      "loss: 0.34438323974609375 - acc: 0.5121951103210449\n",
      "val_loss: 0.3683325946331024 - val_acc: 0.4000000059604645\n",
      "time: 150.7751567363739\n"
     ]
    },
    {
     "name": "stderr",
     "output_type": "stream",
     "text": [
      "Epoch 1: 100%|███████████████████████████████████████████████████████████████████| 41/41 [00:00<00:00, 279.89batch/s]\n",
      "Validation: 100%|████████████████████████████████████████████████████████████████| 41/41 [00:00<00:00, 283.48batch/s]\n",
      "Validation: 100%|██████████████████████████████████████████████████████████████████| 5/5 [00:00<00:00, 222.05batch/s]\n"
     ]
    },
    {
     "name": "stdout",
     "output_type": "stream",
     "text": [
      "loss: 0.35213714838027954 - acc: 0.5121951103210449\n",
      "val_loss: 0.3668247163295746 - val_acc: 0.4000000059604645\n",
      "time: 0.15316343307495117\n"
     ]
    },
    {
     "name": "stderr",
     "output_type": "stream",
     "text": [
      "Epoch 2: 100%|███████████████████████████████████████████████████████████████████| 41/41 [00:00<00:00, 279.65batch/s]\n",
      "Validation: 100%|████████████████████████████████████████████████████████████████| 41/41 [00:00<00:00, 255.90batch/s]\n",
      "Validation: 100%|██████████████████████████████████████████████████████████████████| 5/5 [00:00<00:00, 232.07batch/s]\n"
     ]
    },
    {
     "name": "stdout",
     "output_type": "stream",
     "text": [
      "loss: 0.34027230739593506 - acc: 0.4999999701976776\n",
      "val_loss: 0.3396076560020447 - val_acc: 0.5\n",
      "time: 0.15240216255187988\n"
     ]
    },
    {
     "name": "stderr",
     "output_type": "stream",
     "text": [
      "Epoch 3: 100%|███████████████████████████████████████████████████████████████████| 41/41 [00:00<00:00, 274.85batch/s]\n",
      "Validation: 100%|████████████████████████████████████████████████████████████████| 41/41 [00:00<00:00, 274.48batch/s]\n",
      "Validation: 100%|██████████████████████████████████████████████████████████████████| 5/5 [00:00<00:00, 177.56batch/s]\n"
     ]
    },
    {
     "name": "stdout",
     "output_type": "stream",
     "text": [
      "loss: 0.3674834966659546 - acc: 0.4999999701976776\n",
      "val_loss: 0.3287397027015686 - val_acc: 0.5\n",
      "time: 0.15614080429077148\n"
     ]
    },
    {
     "name": "stderr",
     "output_type": "stream",
     "text": [
      "Epoch 4: 100%|███████████████████████████████████████████████████████████████████| 41/41 [00:00<00:00, 296.46batch/s]\n",
      "Validation: 100%|████████████████████████████████████████████████████████████████| 41/41 [00:00<00:00, 306.57batch/s]\n",
      "Validation: 100%|██████████████████████████████████████████████████████████████████| 5/5 [00:00<00:00, 230.83batch/s]\n"
     ]
    },
    {
     "name": "stdout",
     "output_type": "stream",
     "text": [
      "loss: 0.33973437547683716 - acc: 0.5121951103210449\n",
      "val_loss: 0.3589562773704529 - val_acc: 0.4000000059604645\n",
      "time: 0.1433422565460205\n"
     ]
    },
    {
     "name": "stderr",
     "output_type": "stream",
     "text": [
      "Epoch 5: 100%|███████████████████████████████████████████████████████████████████| 41/41 [00:00<00:00, 266.68batch/s]\n",
      "Validation: 100%|████████████████████████████████████████████████████████████████| 41/41 [00:00<00:00, 286.73batch/s]\n",
      "Validation: 100%|██████████████████████████████████████████████████████████████████| 5/5 [00:00<00:00, 186.50batch/s]\n"
     ]
    },
    {
     "name": "stdout",
     "output_type": "stream",
     "text": [
      "loss: 0.3608265221118927 - acc: 0.4999999701976776\n",
      "val_loss: 0.32878464460372925 - val_acc: 0.5\n",
      "time: 0.16098952293395996\n"
     ]
    },
    {
     "name": "stderr",
     "output_type": "stream",
     "text": [
      "Epoch 6: 100%|███████████████████████████████████████████████████████████████████| 41/41 [00:00<00:00, 221.42batch/s]\n",
      "Validation: 100%|████████████████████████████████████████████████████████████████| 41/41 [00:00<00:00, 306.70batch/s]\n",
      "Validation: 100%|██████████████████████████████████████████████████████████████████| 5/5 [00:00<00:00, 192.47batch/s]\n"
     ]
    },
    {
     "name": "stdout",
     "output_type": "stream",
     "text": [
      "loss: 0.34702354669570923 - acc: 0.5121951103210449\n",
      "val_loss: 0.36334657669067383 - val_acc: 0.4000000059604645\n",
      "time: 0.18970251083374023\n"
     ]
    },
    {
     "name": "stderr",
     "output_type": "stream",
     "text": [
      "Epoch 7: 100%|███████████████████████████████████████████████████████████████████| 41/41 [00:00<00:00, 279.09batch/s]\n",
      "Validation: 100%|████████████████████████████████████████████████████████████████| 41/41 [00:00<00:00, 315.15batch/s]\n",
      "Validation: 100%|██████████████████████████████████████████████████████████████████| 5/5 [00:00<00:00, 190.71batch/s]\n"
     ]
    },
    {
     "name": "stdout",
     "output_type": "stream",
     "text": [
      "loss: 0.3540099561214447 - acc: 0.5121951103210449\n",
      "val_loss: 0.36971965432167053 - val_acc: 0.4000000059604645\n",
      "time: 0.1531057357788086\n"
     ]
    },
    {
     "name": "stderr",
     "output_type": "stream",
     "text": [
      "Epoch 8: 100%|███████████████████████████████████████████████████████████████████| 41/41 [00:00<00:00, 281.90batch/s]\n",
      "Validation: 100%|████████████████████████████████████████████████████████████████| 41/41 [00:00<00:00, 326.88batch/s]\n",
      "Validation: 100%|██████████████████████████████████████████████████████████████████| 5/5 [00:00<00:00, 229.03batch/s]\n"
     ]
    },
    {
     "name": "stdout",
     "output_type": "stream",
     "text": [
      "loss: 0.34389665722846985 - acc: 0.5121951103210449\n",
      "val_loss: 0.3686114251613617 - val_acc: 0.4000000059604645\n",
      "time: 0.150390625\n"
     ]
    },
    {
     "name": "stderr",
     "output_type": "stream",
     "text": [
      "Epoch 9: 100%|███████████████████████████████████████████████████████████████████| 41/41 [00:00<00:00, 285.49batch/s]\n",
      "Validation: 100%|████████████████████████████████████████████████████████████████| 41/41 [00:00<00:00, 308.25batch/s]\n",
      "Validation: 100%|██████████████████████████████████████████████████████████████████| 5/5 [00:00<00:00, 211.71batch/s]\n"
     ]
    },
    {
     "name": "stdout",
     "output_type": "stream",
     "text": [
      "loss: 0.3455837368965149 - acc: 0.4999999701976776\n",
      "val_loss: 0.339067667722702 - val_acc: 0.5\n",
      "time: 0.14882302284240723\n"
     ]
    },
    {
     "name": "stderr",
     "output_type": "stream",
     "text": [
      "Epoch 10: 100%|██████████████████████████████████████████████████████████████████| 41/41 [00:00<00:00, 287.71batch/s]\n",
      "Validation: 100%|████████████████████████████████████████████████████████████████| 41/41 [00:00<00:00, 298.66batch/s]\n",
      "Validation: 100%|██████████████████████████████████████████████████████████████████| 5/5 [00:00<00:00, 202.16batch/s]\n"
     ]
    },
    {
     "name": "stdout",
     "output_type": "stream",
     "text": [
      "loss: 0.3435143530368805 - acc: 0.4999999701976776\n",
      "val_loss: 0.3409956395626068 - val_acc: 0.5\n",
      "time: 0.1483926773071289\n"
     ]
    },
    {
     "name": "stderr",
     "output_type": "stream",
     "text": [
      "Epoch 11: 100%|██████████████████████████████████████████████████████████████████| 41/41 [00:00<00:00, 283.76batch/s]\n",
      "Validation: 100%|████████████████████████████████████████████████████████████████| 41/41 [00:00<00:00, 294.20batch/s]\n",
      "Validation: 100%|██████████████████████████████████████████████████████████████████| 5/5 [00:00<00:00, 218.80batch/s]\n"
     ]
    },
    {
     "name": "stdout",
     "output_type": "stream",
     "text": [
      "loss: 0.3403424918651581 - acc: 0.4999999701976776\n",
      "val_loss: 0.33983945846557617 - val_acc: 0.5\n",
      "time: 0.14953207969665527\n"
     ]
    },
    {
     "name": "stderr",
     "output_type": "stream",
     "text": [
      "Epoch 12: 100%|██████████████████████████████████████████████████████████████████| 41/41 [00:00<00:00, 286.90batch/s]\n",
      "Validation: 100%|████████████████████████████████████████████████████████████████| 41/41 [00:00<00:00, 302.85batch/s]\n",
      "Validation: 100%|██████████████████████████████████████████████████████████████████| 5/5 [00:00<00:00, 217.01batch/s]\n"
     ]
    },
    {
     "name": "stdout",
     "output_type": "stream",
     "text": [
      "loss: 0.3510996997356415 - acc: 0.5121951103210449\n",
      "val_loss: 0.3631877601146698 - val_acc: 0.4000000059604645\n",
      "time: 0.1482553482055664\n"
     ]
    },
    {
     "name": "stderr",
     "output_type": "stream",
     "text": [
      "Epoch 13: 100%|██████████████████████████████████████████████████████████████████| 41/41 [00:00<00:00, 276.31batch/s]\n",
      "Validation: 100%|████████████████████████████████████████████████████████████████| 41/41 [00:00<00:00, 277.06batch/s]\n",
      "Validation: 100%|██████████████████████████████████████████████████████████████████| 5/5 [00:00<00:00, 192.54batch/s]\n"
     ]
    },
    {
     "name": "stdout",
     "output_type": "stream",
     "text": [
      "loss: 0.3415815532207489 - acc: 0.4999999701976776\n",
      "val_loss: 0.3235785961151123 - val_acc: 0.5\n",
      "time: 0.1535954475402832\n"
     ]
    },
    {
     "name": "stderr",
     "output_type": "stream",
     "text": [
      "Epoch 14: 100%|██████████████████████████████████████████████████████████████████| 41/41 [00:00<00:00, 274.36batch/s]\n",
      "Validation: 100%|████████████████████████████████████████████████████████████████| 41/41 [00:00<00:00, 303.26batch/s]\n",
      "Validation: 100%|██████████████████████████████████████████████████████████████████| 5/5 [00:00<00:00, 204.07batch/s]\n"
     ]
    },
    {
     "name": "stdout",
     "output_type": "stream",
     "text": [
      "loss: 0.33728334307670593 - acc: 0.5121951103210449\n",
      "val_loss: 0.3648729622364044 - val_acc: 0.4000000059604645\n",
      "time: 0.15503549575805664\n"
     ]
    },
    {
     "name": "stderr",
     "output_type": "stream",
     "text": [
      "Epoch 15: 100%|██████████████████████████████████████████████████████████████████| 41/41 [00:00<00:00, 290.67batch/s]\n",
      "Validation: 100%|████████████████████████████████████████████████████████████████| 41/41 [00:00<00:00, 306.05batch/s]\n",
      "Validation: 100%|██████████████████████████████████████████████████████████████████| 5/5 [00:00<00:00, 161.75batch/s]\n"
     ]
    },
    {
     "name": "stdout",
     "output_type": "stream",
     "text": [
      "loss: 0.34772932529449463 - acc: 0.4999999701976776\n",
      "val_loss: 0.3441196084022522 - val_acc: 0.5\n",
      "time: 0.14736557006835938\n"
     ]
    },
    {
     "name": "stderr",
     "output_type": "stream",
     "text": [
      "Epoch 16: 100%|██████████████████████████████████████████████████████████████████| 41/41 [00:00<00:00, 289.78batch/s]\n",
      "Validation: 100%|████████████████████████████████████████████████████████████████| 41/41 [00:00<00:00, 314.09batch/s]\n",
      "Validation: 100%|██████████████████████████████████████████████████████████████████| 5/5 [00:00<00:00, 201.67batch/s]\n"
     ]
    },
    {
     "name": "stdout",
     "output_type": "stream",
     "text": [
      "loss: 0.35241711139678955 - acc: 0.5121951103210449\n",
      "val_loss: 0.3688082695007324 - val_acc: 0.4000000059604645\n",
      "time: 0.14705419540405273\n"
     ]
    },
    {
     "name": "stderr",
     "output_type": "stream",
     "text": [
      "Epoch 17: 100%|██████████████████████████████████████████████████████████████████| 41/41 [00:00<00:00, 267.04batch/s]\n",
      "Validation: 100%|████████████████████████████████████████████████████████████████| 41/41 [00:00<00:00, 326.28batch/s]\n",
      "Validation: 100%|██████████████████████████████████████████████████████████████████| 5/5 [00:00<00:00, 209.76batch/s]\n"
     ]
    },
    {
     "name": "stdout",
     "output_type": "stream",
     "text": [
      "loss: 0.3383020758628845 - acc: 0.4999999701976776\n",
      "val_loss: 0.34236904978752136 - val_acc: 0.5\n",
      "time: 0.1592421531677246\n"
     ]
    },
    {
     "name": "stderr",
     "output_type": "stream",
     "text": [
      "Epoch 18: 100%|██████████████████████████████████████████████████████████████████| 41/41 [00:00<00:00, 283.53batch/s]\n",
      "Validation: 100%|████████████████████████████████████████████████████████████████| 41/41 [00:00<00:00, 306.16batch/s]\n",
      "Validation: 100%|██████████████████████████████████████████████████████████████████| 5/5 [00:00<00:00, 226.56batch/s]\n"
     ]
    },
    {
     "name": "stdout",
     "output_type": "stream",
     "text": [
      "loss: 0.3469201922416687 - acc: 0.4999999701976776\n",
      "val_loss: 0.3279893100261688 - val_acc: 0.5\n",
      "time: 0.15025997161865234\n"
     ]
    },
    {
     "name": "stderr",
     "output_type": "stream",
     "text": [
      "Epoch 19: 100%|██████████████████████████████████████████████████████████████████| 41/41 [00:00<00:00, 287.17batch/s]\n",
      "Validation: 100%|████████████████████████████████████████████████████████████████| 41/41 [00:00<00:00, 301.70batch/s]\n",
      "Validation: 100%|██████████████████████████████████████████████████████████████████| 5/5 [00:00<00:00, 183.51batch/s]\n"
     ]
    },
    {
     "name": "stdout",
     "output_type": "stream",
     "text": [
      "loss: 0.3402653634548187 - acc: 0.4999999701976776\n",
      "val_loss: 0.3355949819087982 - val_acc: 0.5\n",
      "time: 0.14743399620056152\n"
     ]
    },
    {
     "name": "stderr",
     "output_type": "stream",
     "text": [
      "Epoch 20: 100%|██████████████████████████████████████████████████████████████████| 41/41 [00:00<00:00, 286.53batch/s]\n",
      "Validation: 100%|████████████████████████████████████████████████████████████████| 41/41 [00:00<00:00, 237.82batch/s]\n",
      "Validation: 100%|██████████████████████████████████████████████████████████████████| 5/5 [00:00<00:00, 213.43batch/s]\n"
     ]
    },
    {
     "name": "stdout",
     "output_type": "stream",
     "text": [
      "loss: 0.33871421217918396 - acc: 0.4999999701976776\n",
      "val_loss: 0.3405087888240814 - val_acc: 0.5\n",
      "time: 0.14886069297790527\n"
     ]
    },
    {
     "name": "stderr",
     "output_type": "stream",
     "text": [
      "Epoch 21: 100%|██████████████████████████████████████████████████████████████████| 41/41 [00:00<00:00, 281.30batch/s]\n",
      "Validation: 100%|████████████████████████████████████████████████████████████████| 41/41 [00:00<00:00, 300.07batch/s]\n",
      "Validation: 100%|██████████████████████████████████████████████████████████████████| 5/5 [00:00<00:00, 209.63batch/s]\n"
     ]
    },
    {
     "name": "stdout",
     "output_type": "stream",
     "text": [
      "loss: 0.35550394654273987 - acc: 0.4999999701976776\n",
      "val_loss: 0.32485106587409973 - val_acc: 0.5\n",
      "time: 0.15114450454711914\n"
     ]
    },
    {
     "name": "stderr",
     "output_type": "stream",
     "text": [
      "Epoch 22: 100%|██████████████████████████████████████████████████████████████████| 41/41 [00:00<00:00, 294.21batch/s]\n",
      "Validation: 100%|████████████████████████████████████████████████████████████████| 41/41 [00:00<00:00, 302.54batch/s]\n",
      "Validation: 100%|██████████████████████████████████████████████████████████████████| 5/5 [00:00<00:00, 198.80batch/s]\n"
     ]
    },
    {
     "name": "stdout",
     "output_type": "stream",
     "text": [
      "loss: 0.34235286712646484 - acc: 0.5121951103210449\n",
      "val_loss: 0.35916104912757874 - val_acc: 0.4000000059604645\n",
      "time: 0.14432334899902344\n"
     ]
    },
    {
     "name": "stderr",
     "output_type": "stream",
     "text": [
      "Epoch 23: 100%|██████████████████████████████████████████████████████████████████| 41/41 [00:00<00:00, 294.63batch/s]\n",
      "Validation: 100%|████████████████████████████████████████████████████████████████| 41/41 [00:00<00:00, 313.48batch/s]\n",
      "Validation: 100%|██████████████████████████████████████████████████████████████████| 5/5 [00:00<00:00, 229.31batch/s]\n"
     ]
    },
    {
     "name": "stdout",
     "output_type": "stream",
     "text": [
      "loss: 0.3849550783634186 - acc: 0.5243902206420898\n",
      "val_loss: 0.35907426476478577 - val_acc: 0.5\n",
      "time: 0.1446537971496582\n"
     ]
    },
    {
     "name": "stderr",
     "output_type": "stream",
     "text": [
      "Epoch 24: 100%|██████████████████████████████████████████████████████████████████| 41/41 [00:00<00:00, 287.03batch/s]\n",
      "Validation: 100%|████████████████████████████████████████████████████████████████| 41/41 [00:00<00:00, 305.28batch/s]\n",
      "Validation: 100%|██████████████████████████████████████████████████████████████████| 5/5 [00:00<00:00, 217.81batch/s]\n"
     ]
    },
    {
     "name": "stdout",
     "output_type": "stream",
     "text": [
      "loss: 0.3359795808792114 - acc: 0.5121951103210449\n",
      "val_loss: 0.34900301694869995 - val_acc: 0.4000000059604645\n",
      "time: 0.14881277084350586\n"
     ]
    },
    {
     "name": "stderr",
     "output_type": "stream",
     "text": [
      "Epoch 25: 100%|██████████████████████████████████████████████████████████████████| 41/41 [00:00<00:00, 274.44batch/s]\n",
      "Validation: 100%|████████████████████████████████████████████████████████████████| 41/41 [00:00<00:00, 308.56batch/s]\n",
      "Validation: 100%|██████████████████████████████████████████████████████████████████| 5/5 [00:00<00:00, 206.18batch/s]\n"
     ]
    },
    {
     "name": "stdout",
     "output_type": "stream",
     "text": [
      "loss: 0.33453091979026794 - acc: 0.5121951103210449\n",
      "val_loss: 0.34814903140068054 - val_acc: 0.4000000059604645\n",
      "time: 0.15471267700195312\n"
     ]
    },
    {
     "name": "stderr",
     "output_type": "stream",
     "text": [
      "Epoch 26: 100%|██████████████████████████████████████████████████████████████████| 41/41 [00:00<00:00, 281.56batch/s]\n",
      "Validation: 100%|████████████████████████████████████████████████████████████████| 41/41 [00:00<00:00, 315.31batch/s]\n",
      "Validation: 100%|██████████████████████████████████████████████████████████████████| 5/5 [00:00<00:00, 183.64batch/s]\n"
     ]
    },
    {
     "name": "stdout",
     "output_type": "stream",
     "text": [
      "loss: 0.3352022171020508 - acc: 0.5121951103210449\n",
      "val_loss: 0.3425288200378418 - val_acc: 0.5\n",
      "time: 0.1514127254486084\n"
     ]
    },
    {
     "name": "stderr",
     "output_type": "stream",
     "text": [
      "Epoch 27: 100%|██████████████████████████████████████████████████████████████████| 41/41 [00:00<00:00, 284.42batch/s]\n",
      "Validation: 100%|████████████████████████████████████████████████████████████████| 41/41 [00:00<00:00, 289.75batch/s]\n",
      "Validation: 100%|██████████████████████████████████████████████████████████████████| 5/5 [00:00<00:00, 133.61batch/s]\n"
     ]
    },
    {
     "name": "stdout",
     "output_type": "stream",
     "text": [
      "loss: 0.337653785943985 - acc: 0.5121951103210449\n",
      "val_loss: 0.35541898012161255 - val_acc: 0.4000000059604645\n",
      "time: 0.15388226509094238\n"
     ]
    },
    {
     "name": "stderr",
     "output_type": "stream",
     "text": [
      "Epoch 28: 100%|██████████████████████████████████████████████████████████████████| 41/41 [00:00<00:00, 274.62batch/s]\n",
      "Validation: 100%|████████████████████████████████████████████████████████████████| 41/41 [00:00<00:00, 305.31batch/s]\n",
      "Validation: 100%|██████████████████████████████████████████████████████████████████| 5/5 [00:00<00:00, 174.35batch/s]\n"
     ]
    },
    {
     "name": "stdout",
     "output_type": "stream",
     "text": [
      "loss: 0.3418560028076172 - acc: 0.5121951103210449\n",
      "val_loss: 0.37350067496299744 - val_acc: 0.4000000059604645\n",
      "time: 0.15512561798095703\n"
     ]
    },
    {
     "name": "stderr",
     "output_type": "stream",
     "text": [
      "Epoch 29: 100%|██████████████████████████████████████████████████████████████████| 41/41 [00:00<00:00, 272.99batch/s]\n",
      "Validation: 100%|████████████████████████████████████████████████████████████████| 41/41 [00:00<00:00, 302.47batch/s]\n",
      "Validation: 100%|██████████████████████████████████████████████████████████████████| 5/5 [00:00<00:00, 206.62batch/s]\n"
     ]
    },
    {
     "name": "stdout",
     "output_type": "stream",
     "text": [
      "loss: 0.34257084131240845 - acc: 0.5121951103210449\n",
      "val_loss: 0.3823365867137909 - val_acc: 0.4000000059604645\n",
      "time: 0.15559601783752441\n"
     ]
    },
    {
     "name": "stderr",
     "output_type": "stream",
     "text": [
      "Epoch 30: 100%|██████████████████████████████████████████████████████████████████| 41/41 [00:00<00:00, 283.30batch/s]\n",
      "Validation: 100%|████████████████████████████████████████████████████████████████| 41/41 [00:00<00:00, 306.86batch/s]\n",
      "Validation: 100%|██████████████████████████████████████████████████████████████████| 5/5 [00:00<00:00, 193.70batch/s]\n"
     ]
    },
    {
     "name": "stdout",
     "output_type": "stream",
     "text": [
      "loss: 0.3827260136604309 - acc: 0.4999999701976776\n",
      "val_loss: 0.36493775248527527 - val_acc: 0.5\n",
      "time: 0.15169262886047363\n"
     ]
    },
    {
     "name": "stderr",
     "output_type": "stream",
     "text": [
      "Epoch 31: 100%|██████████████████████████████████████████████████████████████████| 41/41 [00:00<00:00, 285.97batch/s]\n",
      "Validation: 100%|████████████████████████████████████████████████████████████████| 41/41 [00:00<00:00, 310.35batch/s]\n",
      "Validation: 100%|██████████████████████████████████████████████████████████████████| 5/5 [00:00<00:00, 201.53batch/s]\n"
     ]
    },
    {
     "name": "stdout",
     "output_type": "stream",
     "text": [
      "loss: 0.33451253175735474 - acc: 0.5121951103210449\n",
      "val_loss: 0.35258838534355164 - val_acc: 0.4000000059604645\n",
      "time: 0.1503310203552246\n"
     ]
    },
    {
     "name": "stderr",
     "output_type": "stream",
     "text": [
      "Epoch 32: 100%|██████████████████████████████████████████████████████████████████| 41/41 [00:00<00:00, 281.44batch/s]\n",
      "Validation: 100%|████████████████████████████████████████████████████████████████| 41/41 [00:00<00:00, 312.09batch/s]\n",
      "Validation: 100%|██████████████████████████████████████████████████████████████████| 5/5 [00:00<00:00, 198.25batch/s]\n"
     ]
    },
    {
     "name": "stdout",
     "output_type": "stream",
     "text": [
      "loss: 0.33559632301330566 - acc: 0.5121951103210449\n",
      "val_loss: 0.34013447165489197 - val_acc: 0.5\n",
      "time: 0.1527409553527832\n"
     ]
    },
    {
     "name": "stderr",
     "output_type": "stream",
     "text": [
      "Epoch 33: 100%|██████████████████████████████████████████████████████████████████| 41/41 [00:00<00:00, 285.03batch/s]\n",
      "Validation: 100%|████████████████████████████████████████████████████████████████| 41/41 [00:00<00:00, 285.35batch/s]\n",
      "Validation: 100%|██████████████████████████████████████████████████████████████████| 5/5 [00:00<00:00, 202.81batch/s]\n"
     ]
    },
    {
     "name": "stdout",
     "output_type": "stream",
     "text": [
      "loss: 0.33749210834503174 - acc: 0.5121951103210449\n",
      "val_loss: 0.38043126463890076 - val_acc: 0.4000000059604645\n",
      "time: 0.14966559410095215\n"
     ]
    },
    {
     "name": "stderr",
     "output_type": "stream",
     "text": [
      "Epoch 34: 100%|██████████████████████████████████████████████████████████████████| 41/41 [00:00<00:00, 282.43batch/s]\n",
      "Validation: 100%|████████████████████████████████████████████████████████████████| 41/41 [00:00<00:00, 131.54batch/s]\n",
      "Validation: 100%|███████████████████████████████████████████████████████████████████| 5/5 [00:00<00:00, 65.42batch/s]\n"
     ]
    },
    {
     "name": "stdout",
     "output_type": "stream",
     "text": [
      "loss: 0.3338221311569214 - acc: 0.5243902206420898\n",
      "val_loss: 0.3477313816547394 - val_acc: 0.4000000059604645\n",
      "time: 0.14977669715881348\n"
     ]
    },
    {
     "name": "stderr",
     "output_type": "stream",
     "text": [
      "Epoch 35: 100%|██████████████████████████████████████████████████████████████████| 41/41 [00:00<00:00, 262.17batch/s]\n",
      "Validation: 100%|████████████████████████████████████████████████████████████████| 41/41 [00:00<00:00, 271.88batch/s]\n",
      "Validation: 100%|██████████████████████████████████████████████████████████████████| 5/5 [00:00<00:00, 251.22batch/s]\n"
     ]
    },
    {
     "name": "stdout",
     "output_type": "stream",
     "text": [
      "loss: 0.33426183462142944 - acc: 0.5121951103210449\n",
      "val_loss: 0.3564837872982025 - val_acc: 0.4000000059604645\n",
      "time: 0.17377567291259766\n"
     ]
    },
    {
     "name": "stderr",
     "output_type": "stream",
     "text": [
      "Epoch 36: 100%|██████████████████████████████████████████████████████████████████| 41/41 [00:00<00:00, 280.20batch/s]\n",
      "Validation: 100%|████████████████████████████████████████████████████████████████| 41/41 [00:00<00:00, 291.53batch/s]\n",
      "Validation: 100%|██████████████████████████████████████████████████████████████████| 5/5 [00:00<00:00, 188.97batch/s]\n"
     ]
    },
    {
     "name": "stdout",
     "output_type": "stream",
     "text": [
      "loss: 0.3339771330356598 - acc: 0.5121951103210449\n",
      "val_loss: 0.35317733883857727 - val_acc: 0.4000000059604645\n",
      "time: 0.15215229988098145\n"
     ]
    },
    {
     "name": "stderr",
     "output_type": "stream",
     "text": [
      "Epoch 37: 100%|██████████████████████████████████████████████████████████████████| 41/41 [00:00<00:00, 292.05batch/s]\n",
      "Validation: 100%|████████████████████████████████████████████████████████████████| 41/41 [00:00<00:00, 305.79batch/s]\n",
      "Validation: 100%|██████████████████████████████████████████████████████████████████| 5/5 [00:00<00:00, 192.71batch/s]\n"
     ]
    },
    {
     "name": "stdout",
     "output_type": "stream",
     "text": [
      "loss: 0.33570992946624756 - acc: 0.5121951103210449\n",
      "val_loss: 0.3696909546852112 - val_acc: 0.4000000059604645\n",
      "time: 0.14554238319396973\n"
     ]
    },
    {
     "name": "stderr",
     "output_type": "stream",
     "text": [
      "Epoch 38: 100%|██████████████████████████████████████████████████████████████████| 41/41 [00:00<00:00, 279.95batch/s]\n",
      "Validation: 100%|████████████████████████████████████████████████████████████████| 41/41 [00:00<00:00, 297.93batch/s]\n",
      "Validation: 100%|██████████████████████████████████████████████████████████████████| 5/5 [00:00<00:00, 208.10batch/s]\n"
     ]
    },
    {
     "name": "stdout",
     "output_type": "stream",
     "text": [
      "loss: 0.34314581751823425 - acc: 0.5121951103210449\n",
      "val_loss: 0.34377068281173706 - val_acc: 0.5\n",
      "time: 0.15102386474609375\n"
     ]
    },
    {
     "name": "stderr",
     "output_type": "stream",
     "text": [
      "Epoch 39: 100%|██████████████████████████████████████████████████████████████████| 41/41 [00:00<00:00, 281.68batch/s]\n",
      "Validation: 100%|████████████████████████████████████████████████████████████████| 41/41 [00:00<00:00, 277.07batch/s]\n",
      "Validation: 100%|██████████████████████████████████████████████████████████████████| 5/5 [00:00<00:00, 184.07batch/s]\n"
     ]
    },
    {
     "name": "stdout",
     "output_type": "stream",
     "text": [
      "loss: 0.33150896430015564 - acc: 0.5121951103210449\n",
      "val_loss: 0.3617551922798157 - val_acc: 0.4000000059604645\n",
      "time: 0.15140104293823242\n"
     ]
    },
    {
     "name": "stderr",
     "output_type": "stream",
     "text": [
      "Epoch 40: 100%|██████████████████████████████████████████████████████████████████| 41/41 [00:00<00:00, 293.61batch/s]\n",
      "Validation: 100%|████████████████████████████████████████████████████████████████| 41/41 [00:00<00:00, 303.01batch/s]\n",
      "Validation: 100%|██████████████████████████████████████████████████████████████████| 5/5 [00:00<00:00, 192.11batch/s]\n"
     ]
    },
    {
     "name": "stdout",
     "output_type": "stream",
     "text": [
      "loss: 0.33348962664604187 - acc: 0.5243902206420898\n",
      "val_loss: 0.34977516531944275 - val_acc: 0.4000000059604645\n",
      "time: 0.1448502540588379\n"
     ]
    },
    {
     "name": "stderr",
     "output_type": "stream",
     "text": [
      "Epoch 41: 100%|██████████████████████████████████████████████████████████████████| 41/41 [00:00<00:00, 280.84batch/s]\n",
      "Validation: 100%|████████████████████████████████████████████████████████████████| 41/41 [00:00<00:00, 263.70batch/s]\n",
      "Validation: 100%|██████████████████████████████████████████████████████████████████| 5/5 [00:00<00:00, 203.04batch/s]\n"
     ]
    },
    {
     "name": "stdout",
     "output_type": "stream",
     "text": [
      "loss: 0.33617377281188965 - acc: 0.5121951103210449\n",
      "val_loss: 0.37251514196395874 - val_acc: 0.4000000059604645\n",
      "time: 0.1524813175201416\n"
     ]
    },
    {
     "name": "stderr",
     "output_type": "stream",
     "text": [
      "Epoch 42: 100%|██████████████████████████████████████████████████████████████████| 41/41 [00:00<00:00, 283.52batch/s]\n",
      "Validation: 100%|████████████████████████████████████████████████████████████████| 41/41 [00:00<00:00, 307.74batch/s]\n",
      "Validation: 100%|██████████████████████████████████████████████████████████████████| 5/5 [00:00<00:00, 240.75batch/s]\n"
     ]
    },
    {
     "name": "stdout",
     "output_type": "stream",
     "text": [
      "loss: 0.33524954319000244 - acc: 0.5121951103210449\n",
      "val_loss: 0.35749712586402893 - val_acc: 0.4000000059604645\n",
      "time: 0.15090274810791016\n"
     ]
    },
    {
     "name": "stderr",
     "output_type": "stream",
     "text": [
      "Epoch 43: 100%|██████████████████████████████████████████████████████████████████| 41/41 [00:00<00:00, 270.14batch/s]\n",
      "Validation: 100%|████████████████████████████████████████████████████████████████| 41/41 [00:00<00:00, 298.09batch/s]\n",
      "Validation: 100%|██████████████████████████████████████████████████████████████████| 5/5 [00:00<00:00, 243.33batch/s]\n"
     ]
    },
    {
     "name": "stdout",
     "output_type": "stream",
     "text": [
      "loss: 0.33531317114830017 - acc: 0.5121951103210449\n",
      "val_loss: 0.36053189635276794 - val_acc: 0.4000000059604645\n",
      "time: 0.15787506103515625\n"
     ]
    },
    {
     "name": "stderr",
     "output_type": "stream",
     "text": [
      "Epoch 44: 100%|██████████████████████████████████████████████████████████████████| 41/41 [00:00<00:00, 284.57batch/s]\n",
      "Validation: 100%|████████████████████████████████████████████████████████████████| 41/41 [00:00<00:00, 291.03batch/s]\n",
      "Validation: 100%|██████████████████████████████████████████████████████████████████| 5/5 [00:00<00:00, 186.18batch/s]\n"
     ]
    },
    {
     "name": "stdout",
     "output_type": "stream",
     "text": [
      "loss: 0.34087085723876953 - acc: 0.5121951103210449\n",
      "val_loss: 0.3472904562950134 - val_acc: 0.5\n",
      "time: 0.1495816707611084\n"
     ]
    },
    {
     "name": "stderr",
     "output_type": "stream",
     "text": [
      "Epoch 45: 100%|██████████████████████████████████████████████████████████████████| 41/41 [00:00<00:00, 281.23batch/s]\n",
      "Validation: 100%|████████████████████████████████████████████████████████████████| 41/41 [00:00<00:00, 307.33batch/s]\n",
      "Validation: 100%|██████████████████████████████████████████████████████████████████| 5/5 [00:00<00:00, 209.76batch/s]\n"
     ]
    },
    {
     "name": "stdout",
     "output_type": "stream",
     "text": [
      "loss: 0.34273988008499146 - acc: 0.5121951103210449\n",
      "val_loss: 0.37404710054397583 - val_acc: 0.4000000059604645\n",
      "time: 0.15118122100830078\n"
     ]
    },
    {
     "name": "stderr",
     "output_type": "stream",
     "text": [
      "Epoch 46: 100%|██████████████████████████████████████████████████████████████████| 41/41 [00:00<00:00, 288.98batch/s]\n",
      "Validation: 100%|████████████████████████████████████████████████████████████████| 41/41 [00:00<00:00, 303.78batch/s]\n",
      "Validation: 100%|██████████████████████████████████████████████████████████████████| 5/5 [00:00<00:00, 179.64batch/s]\n"
     ]
    },
    {
     "name": "stdout",
     "output_type": "stream",
     "text": [
      "loss: 0.3344169557094574 - acc: 0.5121951103210449\n",
      "val_loss: 0.3589833974838257 - val_acc: 0.4000000059604645\n",
      "time: 0.148146390914917\n"
     ]
    },
    {
     "name": "stderr",
     "output_type": "stream",
     "text": [
      "Epoch 47: 100%|██████████████████████████████████████████████████████████████████| 41/41 [00:00<00:00, 275.15batch/s]\n",
      "Validation: 100%|████████████████████████████████████████████████████████████████| 41/41 [00:00<00:00, 309.99batch/s]\n",
      "Validation: 100%|██████████████████████████████████████████████████████████████████| 5/5 [00:00<00:00, 251.70batch/s]\n"
     ]
    },
    {
     "name": "stdout",
     "output_type": "stream",
     "text": [
      "loss: 0.33445271849632263 - acc: 0.4999999701976776\n",
      "val_loss: 0.35609474778175354 - val_acc: 0.4000000059604645\n",
      "time: 0.15528130531311035\n"
     ]
    },
    {
     "name": "stderr",
     "output_type": "stream",
     "text": [
      "Epoch 48: 100%|██████████████████████████████████████████████████████████████████| 41/41 [00:00<00:00, 131.57batch/s]\n",
      "Validation: 100%|████████████████████████████████████████████████████████████████| 41/41 [00:00<00:00, 188.23batch/s]\n",
      "Validation: 100%|██████████████████████████████████████████████████████████████████| 5/5 [00:00<00:00, 208.55batch/s]\n"
     ]
    },
    {
     "name": "stdout",
     "output_type": "stream",
     "text": [
      "loss: 0.35436099767684937 - acc: 0.5121951103210449\n",
      "val_loss: 0.4021022915840149 - val_acc: 0.4000000059604645\n",
      "time: 0.3186478614807129\n"
     ]
    },
    {
     "name": "stderr",
     "output_type": "stream",
     "text": [
      "Epoch 49: 100%|██████████████████████████████████████████████████████████████████| 41/41 [00:00<00:00, 286.07batch/s]\n",
      "Validation: 100%|████████████████████████████████████████████████████████████████| 41/41 [00:00<00:00, 296.87batch/s]\n",
      "Validation: 100%|██████████████████████████████████████████████████████████████████| 5/5 [00:00<00:00, 209.96batch/s]\n"
     ]
    },
    {
     "name": "stdout",
     "output_type": "stream",
     "text": [
      "loss: 0.3372654318809509 - acc: 0.5121951103210449\n",
      "val_loss: 0.35479187965393066 - val_acc: 0.4000000059604645\n",
      "time: 0.1484081745147705\n"
     ]
    },
    {
     "name": "stderr",
     "output_type": "stream",
     "text": [
      "Epoch 50: 100%|██████████████████████████████████████████████████████████████████| 41/41 [00:00<00:00, 269.03batch/s]\n",
      "Validation: 100%|████████████████████████████████████████████████████████████████| 41/41 [00:00<00:00, 310.16batch/s]\n",
      "Validation: 100%|██████████████████████████████████████████████████████████████████| 5/5 [00:00<00:00, 242.17batch/s]\n"
     ]
    },
    {
     "name": "stdout",
     "output_type": "stream",
     "text": [
      "loss: 0.3507063090801239 - acc: 0.5121951103210449\n",
      "val_loss: 0.38908395171165466 - val_acc: 0.4000000059604645\n",
      "time: 0.15787649154663086\n"
     ]
    },
    {
     "name": "stderr",
     "output_type": "stream",
     "text": [
      "Epoch 51: 100%|██████████████████████████████████████████████████████████████████| 41/41 [00:00<00:00, 281.83batch/s]\n",
      "Validation: 100%|████████████████████████████████████████████████████████████████| 41/41 [00:00<00:00, 304.28batch/s]\n",
      "Validation: 100%|██████████████████████████████████████████████████████████████████| 5/5 [00:00<00:00, 188.17batch/s]\n"
     ]
    },
    {
     "name": "stdout",
     "output_type": "stream",
     "text": [
      "loss: 0.33755239844322205 - acc: 0.5121951103210449\n",
      "val_loss: 0.3366789221763611 - val_acc: 0.5\n",
      "time: 0.15060710906982422\n"
     ]
    },
    {
     "name": "stderr",
     "output_type": "stream",
     "text": [
      "Epoch 52: 100%|██████████████████████████████████████████████████████████████████| 41/41 [00:00<00:00, 280.86batch/s]\n",
      "Validation: 100%|████████████████████████████████████████████████████████████████| 41/41 [00:00<00:00, 293.37batch/s]\n",
      "Validation: 100%|██████████████████████████████████████████████████████████████████| 5/5 [00:00<00:00, 225.19batch/s]\n"
     ]
    },
    {
     "name": "stdout",
     "output_type": "stream",
     "text": [
      "loss: 0.35393020510673523 - acc: 0.5121951103210449\n",
      "val_loss: 0.3534854054450989 - val_acc: 0.5\n",
      "time: 0.15132665634155273\n"
     ]
    },
    {
     "name": "stderr",
     "output_type": "stream",
     "text": [
      "Epoch 53: 100%|██████████████████████████████████████████████████████████████████| 41/41 [00:00<00:00, 271.31batch/s]\n",
      "Validation: 100%|████████████████████████████████████████████████████████████████| 41/41 [00:00<00:00, 311.04batch/s]\n",
      "Validation: 100%|██████████████████████████████████████████████████████████████████| 5/5 [00:00<00:00, 209.60batch/s]\n"
     ]
    },
    {
     "name": "stdout",
     "output_type": "stream",
     "text": [
      "loss: 0.3395034372806549 - acc: 0.5121951103210449\n",
      "val_loss: 0.33514702320098877 - val_acc: 0.5\n",
      "time: 0.1563720703125\n"
     ]
    },
    {
     "name": "stderr",
     "output_type": "stream",
     "text": [
      "Epoch 54: 100%|██████████████████████████████████████████████████████████████████| 41/41 [00:00<00:00, 256.64batch/s]\n",
      "Validation: 100%|████████████████████████████████████████████████████████████████| 41/41 [00:00<00:00, 300.38batch/s]\n",
      "Validation: 100%|██████████████████████████████████████████████████████████████████| 5/5 [00:00<00:00, 222.19batch/s]\n"
     ]
    },
    {
     "name": "stdout",
     "output_type": "stream",
     "text": [
      "loss: 0.33465173840522766 - acc: 0.5243902206420898\n",
      "val_loss: 0.3446975648403168 - val_acc: 0.5\n",
      "time: 0.1659698486328125\n"
     ]
    },
    {
     "name": "stderr",
     "output_type": "stream",
     "text": [
      "Epoch 55: 100%|██████████████████████████████████████████████████████████████████| 41/41 [00:00<00:00, 233.70batch/s]\n",
      "Validation: 100%|████████████████████████████████████████████████████████████████| 41/41 [00:00<00:00, 306.36batch/s]\n",
      "Validation: 100%|██████████████████████████████████████████████████████████████████| 5/5 [00:00<00:00, 248.78batch/s]\n"
     ]
    },
    {
     "name": "stdout",
     "output_type": "stream",
     "text": [
      "loss: 0.3395940065383911 - acc: 0.5365853309631348\n",
      "val_loss: 0.37016454339027405 - val_acc: 0.4000000059604645\n",
      "time: 0.18070363998413086\n"
     ]
    },
    {
     "name": "stderr",
     "output_type": "stream",
     "text": [
      "Epoch 56: 100%|██████████████████████████████████████████████████████████████████| 41/41 [00:00<00:00, 259.56batch/s]\n",
      "Validation: 100%|████████████████████████████████████████████████████████████████| 41/41 [00:00<00:00, 296.22batch/s]\n",
      "Validation: 100%|██████████████████████████████████████████████████████████████████| 5/5 [00:00<00:00, 220.08batch/s]\n"
     ]
    },
    {
     "name": "stdout",
     "output_type": "stream",
     "text": [
      "loss: 0.33360645174980164 - acc: 0.5121951103210449\n",
      "val_loss: 0.36038127541542053 - val_acc: 0.4000000059604645\n",
      "time: 0.1637892723083496\n"
     ]
    },
    {
     "name": "stderr",
     "output_type": "stream",
     "text": [
      "Epoch 57: 100%|██████████████████████████████████████████████████████████████████| 41/41 [00:00<00:00, 294.64batch/s]\n",
      "Validation: 100%|████████████████████████████████████████████████████████████████| 41/41 [00:00<00:00, 296.07batch/s]\n",
      "Validation: 100%|██████████████████████████████████████████████████████████████████| 5/5 [00:00<00:00, 177.90batch/s]\n"
     ]
    },
    {
     "name": "stdout",
     "output_type": "stream",
     "text": [
      "loss: 0.33408623933792114 - acc: 0.5121951103210449\n",
      "val_loss: 0.3492887318134308 - val_acc: 0.4000000059604645\n",
      "time: 0.14559006690979004\n"
     ]
    },
    {
     "name": "stderr",
     "output_type": "stream",
     "text": [
      "Epoch 58: 100%|██████████████████████████████████████████████████████████████████| 41/41 [00:00<00:00, 286.19batch/s]\n",
      "Validation: 100%|████████████████████████████████████████████████████████████████| 41/41 [00:00<00:00, 309.03batch/s]\n",
      "Validation: 100%|██████████████████████████████████████████████████████████████████| 5/5 [00:00<00:00, 211.58batch/s]\n"
     ]
    },
    {
     "name": "stdout",
     "output_type": "stream",
     "text": [
      "loss: 0.3333759009838104 - acc: 0.5121951103210449\n",
      "val_loss: 0.3551279604434967 - val_acc: 0.4000000059604645\n",
      "time: 0.14893794059753418\n"
     ]
    },
    {
     "name": "stderr",
     "output_type": "stream",
     "text": [
      "Epoch 59: 100%|██████████████████████████████████████████████████████████████████| 41/41 [00:00<00:00, 289.52batch/s]\n",
      "Validation: 100%|████████████████████████████████████████████████████████████████| 41/41 [00:00<00:00, 306.75batch/s]\n",
      "Validation: 100%|██████████████████████████████████████████████████████████████████| 5/5 [00:00<00:00, 204.64batch/s]\n"
     ]
    },
    {
     "name": "stdout",
     "output_type": "stream",
     "text": [
      "loss: 0.33741506934165955 - acc: 0.5121951103210449\n",
      "val_loss: 0.3506346344947815 - val_acc: 0.5\n",
      "time: 0.14638376235961914\n"
     ]
    },
    {
     "name": "stderr",
     "output_type": "stream",
     "text": [
      "Epoch 60: 100%|██████████████████████████████████████████████████████████████████| 41/41 [00:00<00:00, 281.99batch/s]\n",
      "Validation: 100%|████████████████████████████████████████████████████████████████| 41/41 [00:00<00:00, 283.99batch/s]\n",
      "Validation: 100%|██████████████████████████████████████████████████████████████████| 5/5 [00:00<00:00, 217.36batch/s]\n"
     ]
    },
    {
     "name": "stdout",
     "output_type": "stream",
     "text": [
      "loss: 0.3321691155433655 - acc: 0.5121951103210449\n",
      "val_loss: 0.3510126769542694 - val_acc: 0.4000000059604645\n",
      "time: 0.1500396728515625\n"
     ]
    },
    {
     "name": "stderr",
     "output_type": "stream",
     "text": [
      "Epoch 61: 100%|██████████████████████████████████████████████████████████████████| 41/41 [00:00<00:00, 271.51batch/s]\n",
      "Validation: 100%|████████████████████████████████████████████████████████████████| 41/41 [00:00<00:00, 289.92batch/s]\n",
      "Validation: 100%|██████████████████████████████████████████████████████████████████| 5/5 [00:00<00:00, 249.41batch/s]\n"
     ]
    },
    {
     "name": "stdout",
     "output_type": "stream",
     "text": [
      "loss: 0.3359719216823578 - acc: 0.5121951103210449\n",
      "val_loss: 0.3527238070964813 - val_acc: 0.4000000059604645\n",
      "time: 0.15782999992370605\n"
     ]
    },
    {
     "name": "stderr",
     "output_type": "stream",
     "text": [
      "Epoch 62: 100%|██████████████████████████████████████████████████████████████████| 41/41 [00:00<00:00, 242.54batch/s]\n",
      "Validation: 100%|████████████████████████████████████████████████████████████████| 41/41 [00:00<00:00, 311.53batch/s]\n",
      "Validation: 100%|██████████████████████████████████████████████████████████████████| 5/5 [00:00<00:00, 218.00batch/s]\n"
     ]
    },
    {
     "name": "stdout",
     "output_type": "stream",
     "text": [
      "loss: 0.3413113057613373 - acc: 0.5121951103210449\n",
      "val_loss: 0.3492102324962616 - val_acc: 0.5\n",
      "time: 0.17481589317321777\n"
     ]
    },
    {
     "name": "stderr",
     "output_type": "stream",
     "text": [
      "Epoch 63: 100%|██████████████████████████████████████████████████████████████████| 41/41 [00:00<00:00, 287.33batch/s]\n",
      "Validation: 100%|████████████████████████████████████████████████████████████████| 41/41 [00:00<00:00, 282.07batch/s]\n",
      "Validation: 100%|██████████████████████████████████████████████████████████████████| 5/5 [00:00<00:00, 165.42batch/s]\n"
     ]
    },
    {
     "name": "stdout",
     "output_type": "stream",
     "text": [
      "loss: 0.3340526223182678 - acc: 0.5121951103210449\n",
      "val_loss: 0.36172810196876526 - val_acc: 0.4000000059604645\n",
      "time: 0.1503431797027588\n"
     ]
    },
    {
     "name": "stderr",
     "output_type": "stream",
     "text": [
      "Epoch 64: 100%|██████████████████████████████████████████████████████████████████| 41/41 [00:00<00:00, 273.74batch/s]\n",
      "Validation: 100%|████████████████████████████████████████████████████████████████| 41/41 [00:00<00:00, 274.77batch/s]\n",
      "Validation: 100%|██████████████████████████████████████████████████████████████████| 5/5 [00:00<00:00, 221.11batch/s]\n"
     ]
    },
    {
     "name": "stdout",
     "output_type": "stream",
     "text": [
      "loss: 0.3427390158176422 - acc: 0.4999999701976776\n",
      "val_loss: 0.33450400829315186 - val_acc: 0.5\n",
      "time: 0.15518617630004883\n"
     ]
    },
    {
     "name": "stderr",
     "output_type": "stream",
     "text": [
      "Epoch 65: 100%|██████████████████████████████████████████████████████████████████| 41/41 [00:00<00:00, 266.29batch/s]\n",
      "Validation: 100%|████████████████████████████████████████████████████████████████| 41/41 [00:00<00:00, 272.28batch/s]\n",
      "Validation: 100%|██████████████████████████████████████████████████████████████████| 5/5 [00:00<00:00, 191.94batch/s]\n"
     ]
    },
    {
     "name": "stdout",
     "output_type": "stream",
     "text": [
      "loss: 0.3361769914627075 - acc: 0.5121951103210449\n",
      "val_loss: 0.3418784737586975 - val_acc: 0.5\n",
      "time: 0.15924739837646484\n"
     ]
    },
    {
     "name": "stderr",
     "output_type": "stream",
     "text": [
      "Epoch 66: 100%|██████████████████████████████████████████████████████████████████| 41/41 [00:00<00:00, 276.13batch/s]\n",
      "Validation: 100%|████████████████████████████████████████████████████████████████| 41/41 [00:00<00:00, 297.42batch/s]\n",
      "Validation: 100%|██████████████████████████████████████████████████████████████████| 5/5 [00:00<00:00, 205.82batch/s]\n"
     ]
    },
    {
     "name": "stdout",
     "output_type": "stream",
     "text": [
      "loss: 0.3426729440689087 - acc: 0.5121951103210449\n",
      "val_loss: 0.375632107257843 - val_acc: 0.4000000059604645\n",
      "time: 0.155503511428833\n"
     ]
    },
    {
     "name": "stderr",
     "output_type": "stream",
     "text": [
      "Epoch 67: 100%|██████████████████████████████████████████████████████████████████| 41/41 [00:00<00:00, 294.60batch/s]\n",
      "Validation: 100%|████████████████████████████████████████████████████████████████| 41/41 [00:00<00:00, 300.67batch/s]\n",
      "Validation: 100%|██████████████████████████████████████████████████████████████████| 5/5 [00:00<00:00, 160.32batch/s]\n"
     ]
    },
    {
     "name": "stdout",
     "output_type": "stream",
     "text": [
      "loss: 0.35356956720352173 - acc: 0.5121951103210449\n",
      "val_loss: 0.405658483505249 - val_acc: 0.4000000059604645\n",
      "time: 0.14400577545166016\n"
     ]
    },
    {
     "name": "stderr",
     "output_type": "stream",
     "text": [
      "Epoch 68: 100%|██████████████████████████████████████████████████████████████████| 41/41 [00:00<00:00, 281.12batch/s]\n",
      "Validation: 100%|████████████████████████████████████████████████████████████████| 41/41 [00:00<00:00, 306.70batch/s]\n",
      "Validation: 100%|██████████████████████████████████████████████████████████████████| 5/5 [00:00<00:00, 203.02batch/s]\n"
     ]
    },
    {
     "name": "stdout",
     "output_type": "stream",
     "text": [
      "loss: 0.33736729621887207 - acc: 0.5121951103210449\n",
      "val_loss: 0.38693252205848694 - val_acc: 0.4000000059604645\n",
      "time: 0.15100979804992676\n"
     ]
    },
    {
     "name": "stderr",
     "output_type": "stream",
     "text": [
      "Epoch 69: 100%|██████████████████████████████████████████████████████████████████| 41/41 [00:00<00:00, 237.17batch/s]\n",
      "Validation: 100%|████████████████████████████████████████████████████████████████| 41/41 [00:00<00:00, 307.29batch/s]\n",
      "Validation: 100%|██████████████████████████████████████████████████████████████████| 5/5 [00:00<00:00, 193.76batch/s]\n"
     ]
    },
    {
     "name": "stdout",
     "output_type": "stream",
     "text": [
      "loss: 0.3361181616783142 - acc: 0.5121951103210449\n",
      "val_loss: 0.3447122871875763 - val_acc: 0.4000000059604645\n",
      "time: 0.17773699760437012\n"
     ]
    },
    {
     "name": "stderr",
     "output_type": "stream",
     "text": [
      "Epoch 70: 100%|██████████████████████████████████████████████████████████████████| 41/41 [00:00<00:00, 287.12batch/s]\n",
      "Validation: 100%|████████████████████████████████████████████████████████████████| 41/41 [00:00<00:00, 302.57batch/s]\n",
      "Validation: 100%|██████████████████████████████████████████████████████████████████| 5/5 [00:00<00:00, 183.58batch/s]\n"
     ]
    },
    {
     "name": "stdout",
     "output_type": "stream",
     "text": [
      "loss: 0.33375486731529236 - acc: 0.5243902206420898\n",
      "val_loss: 0.356513649225235 - val_acc: 0.4000000059604645\n",
      "time: 0.14852595329284668\n"
     ]
    },
    {
     "name": "stderr",
     "output_type": "stream",
     "text": [
      "Epoch 71: 100%|██████████████████████████████████████████████████████████████████| 41/41 [00:00<00:00, 290.60batch/s]\n",
      "Validation: 100%|████████████████████████████████████████████████████████████████| 41/41 [00:00<00:00, 291.45batch/s]\n",
      "Validation: 100%|██████████████████████████████████████████████████████████████████| 5/5 [00:00<00:00, 186.35batch/s]\n"
     ]
    },
    {
     "name": "stdout",
     "output_type": "stream",
     "text": [
      "loss: 0.337251752614975 - acc: 0.5121951103210449\n",
      "val_loss: 0.3875964879989624 - val_acc: 0.4000000059604645\n",
      "time: 0.14817357063293457\n"
     ]
    },
    {
     "name": "stderr",
     "output_type": "stream",
     "text": [
      "Epoch 72: 100%|██████████████████████████████████████████████████████████████████| 41/41 [00:00<00:00, 283.51batch/s]\n",
      "Validation: 100%|████████████████████████████████████████████████████████████████| 41/41 [00:00<00:00, 308.46batch/s]\n",
      "Validation: 100%|██████████████████████████████████████████████████████████████████| 5/5 [00:00<00:00, 211.73batch/s]\n"
     ]
    },
    {
     "name": "stdout",
     "output_type": "stream",
     "text": [
      "loss: 0.33373919129371643 - acc: 0.5243902206420898\n",
      "val_loss: 0.35750648379325867 - val_acc: 0.4000000059604645\n",
      "time: 0.1514892578125\n"
     ]
    },
    {
     "name": "stderr",
     "output_type": "stream",
     "text": [
      "Epoch 73: 100%|██████████████████████████████████████████████████████████████████| 41/41 [00:00<00:00, 278.77batch/s]\n",
      "Validation: 100%|████████████████████████████████████████████████████████████████| 41/41 [00:00<00:00, 304.15batch/s]\n",
      "Validation: 100%|██████████████████████████████████████████████████████████████████| 5/5 [00:00<00:00, 236.80batch/s]\n"
     ]
    },
    {
     "name": "stdout",
     "output_type": "stream",
     "text": [
      "loss: 0.33408674597740173 - acc: 0.5121951103210449\n",
      "val_loss: 0.3578300178050995 - val_acc: 0.4000000059604645\n",
      "time: 0.15213274955749512\n"
     ]
    },
    {
     "name": "stderr",
     "output_type": "stream",
     "text": [
      "Epoch 74: 100%|██████████████████████████████████████████████████████████████████| 41/41 [00:00<00:00, 272.88batch/s]\n",
      "Validation: 100%|████████████████████████████████████████████████████████████████| 41/41 [00:00<00:00, 277.54batch/s]\n",
      "Validation: 100%|██████████████████████████████████████████████████████████████████| 5/5 [00:00<00:00, 204.65batch/s]\n"
     ]
    },
    {
     "name": "stdout",
     "output_type": "stream",
     "text": [
      "loss: 0.3346642255783081 - acc: 0.5243902206420898\n",
      "val_loss: 0.35111236572265625 - val_acc: 0.4000000059604645\n",
      "time: 0.15521836280822754\n"
     ]
    },
    {
     "name": "stderr",
     "output_type": "stream",
     "text": [
      "Epoch 75: 100%|██████████████████████████████████████████████████████████████████| 41/41 [00:00<00:00, 293.45batch/s]\n",
      "Validation: 100%|████████████████████████████████████████████████████████████████| 41/41 [00:00<00:00, 315.37batch/s]\n",
      "Validation: 100%|██████████████████████████████████████████████████████████████████| 5/5 [00:00<00:00, 233.12batch/s]\n"
     ]
    },
    {
     "name": "stdout",
     "output_type": "stream",
     "text": [
      "loss: 0.34513917565345764 - acc: 0.5121951103210449\n",
      "val_loss: 0.35137230157852173 - val_acc: 0.5\n",
      "time: 0.14514398574829102\n"
     ]
    },
    {
     "name": "stderr",
     "output_type": "stream",
     "text": [
      "Epoch 76: 100%|██████████████████████████████████████████████████████████████████| 41/41 [00:00<00:00, 228.13batch/s]\n",
      "Validation: 100%|████████████████████████████████████████████████████████████████| 41/41 [00:00<00:00, 318.86batch/s]\n",
      "Validation: 100%|██████████████████████████████████████████████████████████████████| 5/5 [00:00<00:00, 226.08batch/s]\n"
     ]
    },
    {
     "name": "stdout",
     "output_type": "stream",
     "text": [
      "loss: 0.3444485366344452 - acc: 0.5121951103210449\n",
      "val_loss: 0.40688878297805786 - val_acc: 0.4000000059604645\n",
      "time: 0.18499422073364258\n"
     ]
    },
    {
     "name": "stderr",
     "output_type": "stream",
     "text": [
      "Epoch 77: 100%|██████████████████████████████████████████████████████████████████| 41/41 [00:00<00:00, 280.51batch/s]\n",
      "Validation: 100%|████████████████████████████████████████████████████████████████| 41/41 [00:00<00:00, 300.50batch/s]\n",
      "Validation: 100%|██████████████████████████████████████████████████████████████████| 5/5 [00:00<00:00, 237.09batch/s]\n"
     ]
    },
    {
     "name": "stdout",
     "output_type": "stream",
     "text": [
      "loss: 0.3356783092021942 - acc: 0.5121951103210449\n",
      "val_loss: 0.36498022079467773 - val_acc: 0.4000000059604645\n",
      "time: 0.15097355842590332\n"
     ]
    },
    {
     "name": "stderr",
     "output_type": "stream",
     "text": [
      "Epoch 78: 100%|██████████████████████████████████████████████████████████████████| 41/41 [00:00<00:00, 273.32batch/s]\n",
      "Validation: 100%|████████████████████████████████████████████████████████████████| 41/41 [00:00<00:00, 318.04batch/s]\n",
      "Validation: 100%|██████████████████████████████████████████████████████████████████| 5/5 [00:00<00:00, 211.89batch/s]\n"
     ]
    },
    {
     "name": "stdout",
     "output_type": "stream",
     "text": [
      "loss: 0.33301836252212524 - acc: 0.5243902206420898\n",
      "val_loss: 0.34626510739326477 - val_acc: 0.4000000059604645\n",
      "time: 0.15434551239013672\n"
     ]
    },
    {
     "name": "stderr",
     "output_type": "stream",
     "text": [
      "Epoch 79: 100%|██████████████████████████████████████████████████████████████████| 41/41 [00:00<00:00, 278.45batch/s]\n",
      "Validation: 100%|████████████████████████████████████████████████████████████████| 41/41 [00:00<00:00, 319.05batch/s]\n",
      "Validation: 100%|██████████████████████████████████████████████████████████████████| 5/5 [00:00<00:00, 216.14batch/s]\n"
     ]
    },
    {
     "name": "stdout",
     "output_type": "stream",
     "text": [
      "loss: 0.33968260884284973 - acc: 0.5121951103210449\n",
      "val_loss: 0.3370567262172699 - val_acc: 0.5\n",
      "time: 0.15754961967468262\n"
     ]
    },
    {
     "name": "stderr",
     "output_type": "stream",
     "text": [
      "Epoch 80: 100%|██████████████████████████████████████████████████████████████████| 41/41 [00:00<00:00, 280.50batch/s]\n",
      "Validation: 100%|████████████████████████████████████████████████████████████████| 41/41 [00:00<00:00, 317.13batch/s]\n",
      "Validation: 100%|██████████████████████████████████████████████████████████████████| 5/5 [00:00<00:00, 189.39batch/s]\n"
     ]
    },
    {
     "name": "stdout",
     "output_type": "stream",
     "text": [
      "loss: 0.3356572985649109 - acc: 0.5121951103210449\n",
      "val_loss: 0.3926423192024231 - val_acc: 0.4000000059604645\n",
      "time: 0.1548006534576416\n"
     ]
    },
    {
     "name": "stderr",
     "output_type": "stream",
     "text": [
      "Epoch 81: 100%|██████████████████████████████████████████████████████████████████| 41/41 [00:00<00:00, 269.42batch/s]\n",
      "Validation: 100%|████████████████████████████████████████████████████████████████| 41/41 [00:00<00:00, 283.32batch/s]\n",
      "Validation: 100%|██████████████████████████████████████████████████████████████████| 5/5 [00:00<00:00, 230.02batch/s]\n"
     ]
    },
    {
     "name": "stdout",
     "output_type": "stream",
     "text": [
      "loss: 0.3339096009731293 - acc: 0.5121951103210449\n",
      "val_loss: 0.36636003851890564 - val_acc: 0.4000000059604645\n",
      "time: 0.15707135200500488\n"
     ]
    },
    {
     "name": "stderr",
     "output_type": "stream",
     "text": [
      "Epoch 82: 100%|██████████████████████████████████████████████████████████████████| 41/41 [00:00<00:00, 275.93batch/s]\n",
      "Validation: 100%|████████████████████████████████████████████████████████████████| 41/41 [00:00<00:00, 237.09batch/s]\n",
      "Validation: 100%|██████████████████████████████████████████████████████████████████| 5/5 [00:00<00:00, 161.00batch/s]\n"
     ]
    },
    {
     "name": "stdout",
     "output_type": "stream",
     "text": [
      "loss: 0.3338382840156555 - acc: 0.5243902206420898\n",
      "val_loss: 0.3538287281990051 - val_acc: 0.4000000059604645\n",
      "time: 0.15345478057861328\n"
     ]
    },
    {
     "name": "stderr",
     "output_type": "stream",
     "text": [
      "Epoch 83: 100%|██████████████████████████████████████████████████████████████████| 41/41 [00:00<00:00, 208.55batch/s]\n",
      "Validation: 100%|████████████████████████████████████████████████████████████████| 41/41 [00:00<00:00, 275.49batch/s]\n",
      "Validation: 100%|██████████████████████████████████████████████████████████████████| 5/5 [00:00<00:00, 203.82batch/s]\n"
     ]
    },
    {
     "name": "stdout",
     "output_type": "stream",
     "text": [
      "loss: 0.33109980821609497 - acc: 0.5243902206420898\n",
      "val_loss: 0.3628791272640228 - val_acc: 0.4000000059604645\n",
      "time: 0.20504093170166016\n"
     ]
    },
    {
     "name": "stderr",
     "output_type": "stream",
     "text": [
      "Epoch 84: 100%|██████████████████████████████████████████████████████████████████| 41/41 [00:00<00:00, 129.52batch/s]\n",
      "Validation: 100%|████████████████████████████████████████████████████████████████| 41/41 [00:00<00:00, 189.95batch/s]\n",
      "Validation: 100%|██████████████████████████████████████████████████████████████████| 5/5 [00:00<00:00, 202.76batch/s]\n"
     ]
    },
    {
     "name": "stdout",
     "output_type": "stream",
     "text": [
      "loss: 0.343239426612854 - acc: 0.4999999701976776\n",
      "val_loss: 0.3506854474544525 - val_acc: 0.5\n",
      "time: 0.32355570793151855\n"
     ]
    },
    {
     "name": "stderr",
     "output_type": "stream",
     "text": [
      "Epoch 85: 100%|██████████████████████████████████████████████████████████████████| 41/41 [00:00<00:00, 261.64batch/s]\n",
      "Validation: 100%|████████████████████████████████████████████████████████████████| 41/41 [00:00<00:00, 298.28batch/s]\n",
      "Validation: 100%|██████████████████████████████████████████████████████████████████| 5/5 [00:00<00:00, 199.43batch/s]\n"
     ]
    },
    {
     "name": "stdout",
     "output_type": "stream",
     "text": [
      "loss: 0.3357448875904083 - acc: 0.4999999701976776\n",
      "val_loss: 0.35774773359298706 - val_acc: 0.4000000059604645\n",
      "time: 0.1628880500793457\n"
     ]
    },
    {
     "name": "stderr",
     "output_type": "stream",
     "text": [
      "Epoch 86: 100%|██████████████████████████████████████████████████████████████████| 41/41 [00:00<00:00, 270.13batch/s]\n",
      "Validation: 100%|████████████████████████████████████████████████████████████████| 41/41 [00:00<00:00, 281.96batch/s]\n",
      "Validation: 100%|██████████████████████████████████████████████████████████████████| 5/5 [00:00<00:00, 190.84batch/s]\n"
     ]
    },
    {
     "name": "stdout",
     "output_type": "stream",
     "text": [
      "loss: 0.33087998628616333 - acc: 0.5243902206420898\n",
      "val_loss: 0.3440992534160614 - val_acc: 0.4000000059604645\n",
      "time: 0.1577603816986084\n"
     ]
    },
    {
     "name": "stderr",
     "output_type": "stream",
     "text": [
      "Epoch 87: 100%|██████████████████████████████████████████████████████████████████| 41/41 [00:00<00:00, 132.25batch/s]\n",
      "Validation: 100%|████████████████████████████████████████████████████████████████| 41/41 [00:00<00:00, 182.57batch/s]\n",
      "Validation: 100%|██████████████████████████████████████████████████████████████████| 5/5 [00:00<00:00, 229.55batch/s]\n"
     ]
    },
    {
     "name": "stdout",
     "output_type": "stream",
     "text": [
      "loss: 0.34137454628944397 - acc: 0.5121951103210449\n",
      "val_loss: 0.3326551914215088 - val_acc: 0.5\n",
      "time: 0.31781673431396484\n"
     ]
    },
    {
     "name": "stderr",
     "output_type": "stream",
     "text": [
      "Epoch 88: 100%|██████████████████████████████████████████████████████████████████| 41/41 [00:00<00:00, 271.52batch/s]\n",
      "Validation: 100%|████████████████████████████████████████████████████████████████| 41/41 [00:00<00:00, 275.81batch/s]\n",
      "Validation: 100%|██████████████████████████████████████████████████████████████████| 5/5 [00:00<00:00, 226.81batch/s]\n"
     ]
    },
    {
     "name": "stdout",
     "output_type": "stream",
     "text": [
      "loss: 0.3333141803741455 - acc: 0.4999999701976776\n",
      "val_loss: 0.35601168870925903 - val_acc: 0.4000000059604645\n",
      "time: 0.15790438652038574\n"
     ]
    },
    {
     "name": "stderr",
     "output_type": "stream",
     "text": [
      "Epoch 89: 100%|██████████████████████████████████████████████████████████████████| 41/41 [00:00<00:00, 256.43batch/s]\n",
      "Validation: 100%|████████████████████████████████████████████████████████████████| 41/41 [00:00<00:00, 294.90batch/s]\n",
      "Validation: 100%|██████████████████████████████████████████████████████████████████| 5/5 [00:00<00:00, 223.92batch/s]\n"
     ]
    },
    {
     "name": "stdout",
     "output_type": "stream",
     "text": [
      "loss: 0.3348289132118225 - acc: 0.5243902206420898\n",
      "val_loss: 0.3519256114959717 - val_acc: 0.4000000059604645\n",
      "time: 0.16772031784057617\n"
     ]
    },
    {
     "name": "stderr",
     "output_type": "stream",
     "text": [
      "Epoch 90: 100%|██████████████████████████████████████████████████████████████████| 41/41 [00:00<00:00, 220.65batch/s]\n",
      "Validation: 100%|████████████████████████████████████████████████████████████████| 41/41 [00:00<00:00, 278.81batch/s]\n",
      "Validation: 100%|██████████████████████████████████████████████████████████████████| 5/5 [00:00<00:00, 224.18batch/s]\n"
     ]
    },
    {
     "name": "stdout",
     "output_type": "stream",
     "text": [
      "loss: 0.3334980010986328 - acc: 0.5121951103210449\n",
      "val_loss: 0.35036611557006836 - val_acc: 0.4000000059604645\n",
      "time: 0.19227123260498047\n"
     ]
    },
    {
     "name": "stderr",
     "output_type": "stream",
     "text": [
      "Epoch 91: 100%|██████████████████████████████████████████████████████████████████| 41/41 [00:00<00:00, 283.49batch/s]\n",
      "Validation: 100%|████████████████████████████████████████████████████████████████| 41/41 [00:00<00:00, 132.32batch/s]\n",
      "Validation: 100%|███████████████████████████████████████████████████████████████████| 5/5 [00:00<00:00, 64.70batch/s]\n"
     ]
    },
    {
     "name": "stdout",
     "output_type": "stream",
     "text": [
      "loss: 0.33356189727783203 - acc: 0.5121951103210449\n",
      "val_loss: 0.356102854013443 - val_acc: 0.4000000059604645\n",
      "time: 0.1495990753173828\n"
     ]
    },
    {
     "name": "stderr",
     "output_type": "stream",
     "text": [
      "Epoch 92: 100%|██████████████████████████████████████████████████████████████████| 41/41 [00:00<00:00, 276.81batch/s]\n",
      "Validation: 100%|████████████████████████████████████████████████████████████████| 41/41 [00:00<00:00, 293.88batch/s]\n",
      "Validation: 100%|██████████████████████████████████████████████████████████████████| 5/5 [00:00<00:00, 199.43batch/s]\n"
     ]
    },
    {
     "name": "stdout",
     "output_type": "stream",
     "text": [
      "loss: 0.33663761615753174 - acc: 0.4999999701976776\n",
      "val_loss: 0.3538624048233032 - val_acc: 0.4000000059604645\n",
      "time: 0.16486239433288574\n"
     ]
    },
    {
     "name": "stderr",
     "output_type": "stream",
     "text": [
      "Epoch 93: 100%|██████████████████████████████████████████████████████████████████| 41/41 [00:00<00:00, 267.83batch/s]\n",
      "Validation: 100%|████████████████████████████████████████████████████████████████| 41/41 [00:00<00:00, 287.24batch/s]\n",
      "Validation: 100%|██████████████████████████████████████████████████████████████████| 5/5 [00:00<00:00, 156.16batch/s]\n"
     ]
    },
    {
     "name": "stdout",
     "output_type": "stream",
     "text": [
      "loss: 0.39785245060920715 - acc: 0.5243902206420898\n",
      "val_loss: 0.3804583251476288 - val_acc: 0.5\n",
      "time: 0.1604166030883789\n"
     ]
    },
    {
     "name": "stderr",
     "output_type": "stream",
     "text": [
      "Epoch 94: 100%|██████████████████████████████████████████████████████████████████| 41/41 [00:00<00:00, 130.81batch/s]\n",
      "Validation: 100%|████████████████████████████████████████████████████████████████| 41/41 [00:00<00:00, 191.77batch/s]\n",
      "Validation: 100%|██████████████████████████████████████████████████████████████████| 5/5 [00:00<00:00, 152.34batch/s]\n"
     ]
    },
    {
     "name": "stdout",
     "output_type": "stream",
     "text": [
      "loss: 0.3339332938194275 - acc: 0.5121951103210449\n",
      "val_loss: 0.36358991265296936 - val_acc: 0.4000000059604645\n",
      "time: 0.3236720561981201\n"
     ]
    },
    {
     "name": "stderr",
     "output_type": "stream",
     "text": [
      "Epoch 95: 100%|██████████████████████████████████████████████████████████████████| 41/41 [00:00<00:00, 288.12batch/s]\n",
      "Validation: 100%|████████████████████████████████████████████████████████████████| 41/41 [00:00<00:00, 298.83batch/s]\n",
      "Validation: 100%|██████████████████████████████████████████████████████████████████| 5/5 [00:00<00:00, 187.12batch/s]\n"
     ]
    },
    {
     "name": "stdout",
     "output_type": "stream",
     "text": [
      "loss: 0.3372599184513092 - acc: 0.5121951103210449\n",
      "val_loss: 0.365193247795105 - val_acc: 0.4000000059604645\n",
      "time: 0.14913368225097656\n"
     ]
    },
    {
     "name": "stderr",
     "output_type": "stream",
     "text": [
      "Epoch 96: 100%|██████████████████████████████████████████████████████████████████| 41/41 [00:00<00:00, 281.92batch/s]\n",
      "Validation: 100%|████████████████████████████████████████████████████████████████| 41/41 [00:00<00:00, 236.43batch/s]\n",
      "Validation: 100%|██████████████████████████████████████████████████████████████████| 5/5 [00:00<00:00, 187.78batch/s]\n"
     ]
    },
    {
     "name": "stdout",
     "output_type": "stream",
     "text": [
      "loss: 0.33385732769966125 - acc: 0.5121951103210449\n",
      "val_loss: 0.3653653562068939 - val_acc: 0.4000000059604645\n",
      "time: 0.15161442756652832\n"
     ]
    },
    {
     "name": "stderr",
     "output_type": "stream",
     "text": [
      "Epoch 97: 100%|██████████████████████████████████████████████████████████████████| 41/41 [00:00<00:00, 285.87batch/s]\n",
      "Validation: 100%|████████████████████████████████████████████████████████████████| 41/41 [00:00<00:00, 278.31batch/s]\n",
      "Validation: 100%|██████████████████████████████████████████████████████████████████| 5/5 [00:00<00:00, 174.26batch/s]\n"
     ]
    },
    {
     "name": "stdout",
     "output_type": "stream",
     "text": [
      "loss: 0.3332379460334778 - acc: 0.5243902206420898\n",
      "val_loss: 0.3572011888027191 - val_acc: 0.4000000059604645\n",
      "time: 0.15453290939331055\n"
     ]
    },
    {
     "name": "stderr",
     "output_type": "stream",
     "text": [
      "Epoch 98: 100%|██████████████████████████████████████████████████████████████████| 41/41 [00:00<00:00, 248.75batch/s]\n",
      "Validation: 100%|████████████████████████████████████████████████████████████████| 41/41 [00:00<00:00, 273.53batch/s]\n",
      "Validation: 100%|██████████████████████████████████████████████████████████████████| 5/5 [00:00<00:00, 179.28batch/s]\n"
     ]
    },
    {
     "name": "stdout",
     "output_type": "stream",
     "text": [
      "loss: 0.3321480453014374 - acc: 0.5121951103210449\n",
      "val_loss: 0.35221442580223083 - val_acc: 0.5\n",
      "time: 0.17061781883239746\n"
     ]
    },
    {
     "name": "stderr",
     "output_type": "stream",
     "text": [
      "Epoch 99: 100%|██████████████████████████████████████████████████████████████████| 41/41 [00:00<00:00, 268.22batch/s]\n",
      "Validation: 100%|████████████████████████████████████████████████████████████████| 41/41 [00:00<00:00, 281.35batch/s]\n",
      "Validation: 100%|██████████████████████████████████████████████████████████████████| 5/5 [00:00<00:00, 179.05batch/s]"
     ]
    },
    {
     "name": "stdout",
     "output_type": "stream",
     "text": [
      "loss: 0.33357712626457214 - acc: 0.4999999701976776\n",
      "val_loss: 0.36186540126800537 - val_acc: 0.4000000059604645\n",
      "time: 0.16035890579223633\n"
     ]
    },
    {
     "name": "stderr",
     "output_type": "stream",
     "text": [
      "\n"
     ]
    }
   ],
   "source": [
    "import time\n",
    "\n",
    "# epochs = args.epochs\n",
    "epochs = 100\n",
    "\n",
    "epoch_times = []\n",
    "for epoch in range(epochs):\n",
    "    start_time = time.time()\n",
    "\n",
    "    with tqdm(tfds.as_numpy(data.train_ds), unit=\"batch\") as tepoch:\n",
    "        for x, y in tepoch:\n",
    "            tepoch.set_description(f\"Epoch {epoch}\")\n",
    "            params, opt_state = update(opt_state, params, x, y)\n",
    "        \n",
    "    epoch_time = time.time() - start_time\n",
    "    epoch_times.append(epoch_time)\n",
    "    \n",
    "    loss, acc = evaluate(params, data.train_ds)\n",
    "    val_loss, val_acc = evaluate(params, data.val_ds)\n",
    "    \n",
    "    print('loss: {} - acc: {}'.format(loss, acc))\n",
    "    print('val_loss: {} - val_acc: {}'.format(val_loss, val_acc))\n",
    "    print('time: {}'.format(epoch_time))\n",
    "    \n",
    "    if args.wandb:\n",
    "        wandb.log({\"accuracy\": acc, \n",
    "                   \"val_accuracy\": val_acc, \n",
    "                   'loss':loss, \n",
    "                   'val_loss':val_loss,\n",
    "                   'lr': lr})\n"
   ]
  },
  {
   "cell_type": "raw",
   "id": "777034e6",
   "metadata": {
    "ExecuteTime": {
     "end_time": "2022-08-31T08:43:46.413001Z",
     "start_time": "2022-08-31T08:41:56.019315Z"
    },
    "scrolled": true
   },
   "source": [
    "test_loss, test_acc = evaluate(params, data.test_ds)\n",
    "test_loss, test_acc"
   ]
  },
  {
   "cell_type": "code",
   "execution_count": 147,
   "id": "6674b74d",
   "metadata": {
    "ExecuteTime": {
     "end_time": "2022-08-31T08:47:45.485437Z",
     "start_time": "2022-08-31T08:43:46.417909Z"
    }
   },
   "outputs": [
    {
     "name": "stderr",
     "output_type": "stream",
     "text": [
      "100%|███████████████████████████████████████████████████████████████████████████| 704/704 [03:58<00:00,  2.96batch/s]\n"
     ]
    },
    {
     "data": {
      "text/plain": [
       "0.7339170374074074"
      ]
     },
     "execution_count": 147,
     "metadata": {},
     "output_type": "execute_result"
    }
   ],
   "source": [
    "from sklearn.metrics import roc_auc_score\n",
    "\n",
    "out,y_train = predict(params, data.train_ds)\n",
    "# _, y_test = tf_ds_to_numpy(data.test_ds)\n",
    "train_auc = roc_auc_score(y_train, out)\n",
    "train_auc"
   ]
  },
  {
   "cell_type": "code",
   "execution_count": 148,
   "id": "9a4571ee",
   "metadata": {
    "ExecuteTime": {
     "end_time": "2022-08-31T08:49:32.864304Z",
     "start_time": "2022-08-31T08:47:45.491610Z"
    }
   },
   "outputs": [
    {
     "name": "stderr",
     "output_type": "stream",
     "text": [
      "100%|███████████████████████████████████████████████████████████████████████████| 157/157 [01:47<00:00,  1.47batch/s]\n"
     ]
    },
    {
     "data": {
      "text/plain": [
       "0.7229613925000001"
      ]
     },
     "execution_count": 148,
     "metadata": {},
     "output_type": "execute_result"
    }
   ],
   "source": [
    "from sklearn.metrics import roc_auc_score\n",
    "\n",
    "out,y_test = predict(params, data.test_ds)\n",
    "# _, y_test = tf_ds_to_numpy(data.test_ds)\n",
    "test_auc = roc_auc_score(y_test, out)\n",
    "test_auc"
   ]
  },
  {
   "cell_type": "code",
   "execution_count": 149,
   "id": "cd6ffd07",
   "metadata": {
    "ExecuteTime": {
     "end_time": "2022-08-31T08:49:36.339859Z",
     "start_time": "2022-08-31T08:49:32.869466Z"
    }
   },
   "outputs": [
    {
     "name": "stderr",
     "output_type": "stream",
     "text": [
      "\u001b[34m\u001b[1mwandb\u001b[0m: \u001b[33mWARNING\u001b[0m wandb uses only the first 10000 datapoints to create the plots.\n"
     ]
    }
   ],
   "source": [
    "if args.wandb:\n",
    "    wandb.run.summary['test_loss'] = test_loss\n",
    "    wandb.run.summary['test_acc'] = test_acc\n",
    "    wandb.run.summary['test_auc'] = test_auc\n",
    "    wandb.run.summary['train_auc'] = train_auc\n",
    "    wandb.run.summary['avg_epoch_time'] = np.mean(np.array(epoch_times))\n",
    "    y = y_test.argmax(axis=1)\n",
    "    preds = out.argmax(axis=1)\n",
    "    probs = out\n",
    "    classes = data.mapping\n",
    "\n",
    "    roc_curve = wandb.sklearn.plot_roc(y, probs, classes)\n",
    "    confusion_matrix = wandb.sklearn.plot_confusion_matrix(y, preds, classes)\n",
    "\n",
    "    wandb.log({\"roc_curve\": roc_curve})\n",
    "    wandb.log({\"confusion_matrix\": confusion_matrix})"
   ]
  },
  {
   "cell_type": "code",
   "execution_count": 150,
   "id": "d256c76d",
   "metadata": {
    "ExecuteTime": {
     "end_time": "2022-08-31T08:49:51.163829Z",
     "start_time": "2022-08-31T08:49:36.344141Z"
    }
   },
   "outputs": [
    {
     "data": {
      "text/html": [
       "Waiting for W&B process to finish... <strong style=\"color:green\">(success).</strong>"
      ],
      "text/plain": [
       "<IPython.core.display.HTML object>"
      ]
     },
     "metadata": {},
     "output_type": "display_data"
    },
    {
     "data": {
      "application/vnd.jupyter.widget-view+json": {
       "model_id": "",
       "version_major": 2,
       "version_minor": 0
      },
      "text/plain": [
       "VBox(children=(Label(value='0.360 MB of 0.360 MB uploaded (0.000 MB deduped)\\r'), FloatProgress(value=0.999705…"
      ]
     },
     "metadata": {},
     "output_type": "display_data"
    },
    {
     "data": {
      "text/html": [
       "<style>\n",
       "    table.wandb td:nth-child(1) { padding: 0 10px; text-align: left ; width: auto;} td:nth-child(2) {text-align: left ; width: 100%}\n",
       "    .wandb-row { display: flex; flex-direction: row; flex-wrap: wrap; justify-content: flex-start; width: 100% }\n",
       "    .wandb-col { display: flex; flex-direction: column; flex-basis: 100%; flex: 1; padding: 10px; }\n",
       "    </style>\n",
       "<div class=\"wandb-row\"><div class=\"wandb-col\"><h3>Run history:</h3><br/><table class=\"wandb\"><tr><td>accuracy</td><td>▁▃▄▄▅▅▅▅▆▆▆▆▆▆▆▆▇▇▇▇▇▇██████████████████</td></tr><tr><td>loss</td><td>█▆▅▄▄▄▃▃▃▃▃▃▃▃▃▃▂▂▂▂▂▂▂▂▂▂▂▂▂▁▁▁▂▁▁▁▁▁▁▁</td></tr><tr><td>lr</td><td>████████▃▃▃▃▃▃▃▃▂▂▂▂▂▂▂▂▁▁▁▁▁▁▁▁▁▁▁▁▁▁▁▁</td></tr><tr><td>val_accuracy</td><td>▁▂▃▄▅▆▆▆▆▆▆▆▆▆▆▇▇▇▇▇▇███████████████████</td></tr><tr><td>val_loss</td><td>█▆▄▄▃▃▃▃▃▃▃▃▃▃▃▂▂▂▂▂▂▂▁▂▁▁▂▁▁▁▁▁▁▁▁▁▁▁▁▁</td></tr></table><br/></div><div class=\"wandb-col\"><h3>Run summary:</h3><br/><table class=\"wandb\"><tr><td>accuracy</td><td>0.68082</td></tr><tr><td>avg_epoch_time</td><td>15.47968</td></tr><tr><td>loss</td><td>0.30514</td></tr><tr><td>lr</td><td>0.0</td></tr><tr><td>test_acc</td><td>0.66864</td></tr><tr><td>test_auc</td><td>0.72296</td></tr><tr><td>test_loss</td><td>0.31326</td></tr><tr><td>train_auc</td><td>0.73392</td></tr><tr><td>val_accuracy</td><td>0.65991</td></tr><tr><td>val_loss</td><td>0.31339</td></tr></table><br/></div></div>"
      ],
      "text/plain": [
       "<IPython.core.display.HTML object>"
      ]
     },
     "metadata": {},
     "output_type": "display_data"
    },
    {
     "data": {
      "text/html": [
       "Synced <strong style=\"color:#cdcd00\">floral-smoke-310</strong>: <a href=\"https://wandb.ai/gopald/qml-hep-lhc/runs/tgsbwkk5\" target=\"_blank\">https://wandb.ai/gopald/qml-hep-lhc/runs/tgsbwkk5</a><br/>Synced 5 W&B file(s), 2 media file(s), 2 artifact file(s) and 0 other file(s)"
      ],
      "text/plain": [
       "<IPython.core.display.HTML object>"
      ]
     },
     "metadata": {},
     "output_type": "display_data"
    },
    {
     "data": {
      "text/html": [
       "Find logs at: <code>./wandb/run-20220831_125202-tgsbwkk5/logs</code>"
      ],
      "text/plain": [
       "<IPython.core.display.HTML object>"
      ]
     },
     "metadata": {},
     "output_type": "display_data"
    }
   ],
   "source": [
    "if args.wandb:\n",
    "    wandb.finish()"
   ]
  },
  {
   "cell_type": "code",
   "execution_count": null,
   "id": "0e98b225",
   "metadata": {
    "ExecuteTime": {
     "end_time": "2022-08-18T05:06:41.426383Z",
     "start_time": "2022-08-18T05:06:41.265770Z"
    }
   },
   "outputs": [],
   "source": [
    "for i in range(200):\n",
    "    print(i, schedule_fn(i))"
   ]
  },
  {
   "cell_type": "code",
   "execution_count": null,
   "id": "f47b0add",
   "metadata": {},
   "outputs": [],
   "source": []
  }
 ],
 "metadata": {
  "kernelspec": {
   "display_name": "Python 3 (ipykernel)",
   "language": "python",
   "name": "python3"
  },
  "language_info": {
   "codemirror_mode": {
    "name": "ipython",
    "version": 3
   },
   "file_extension": ".py",
   "mimetype": "text/x-python",
   "name": "python",
   "nbconvert_exporter": "python",
   "pygments_lexer": "ipython3",
   "version": "3.7.13"
  },
  "latex_envs": {
   "LaTeX_envs_menu_present": true,
   "autoclose": false,
   "autocomplete": true,
   "bibliofile": "biblio.bib",
   "cite_by": "apalike",
   "current_citInitial": 1,
   "eqLabelWithNumbers": true,
   "eqNumInitial": 1,
   "hotkeys": {
    "equation": "Ctrl-E",
    "itemize": "Ctrl-I"
   },
   "labels_anchors": false,
   "latex_user_defs": false,
   "report_style_numbering": false,
   "user_envs_cfg": false
  },
  "toc": {
   "base_numbering": 1,
   "nav_menu": {},
   "number_sections": true,
   "sideBar": true,
   "skip_h1_title": false,
   "title_cell": "Table of Contents",
   "title_sidebar": "Contents",
   "toc_cell": false,
   "toc_position": {},
   "toc_section_display": true,
   "toc_window_display": false
  }
 },
 "nbformat": 4,
 "nbformat_minor": 5
}
