{
 "cells": [
  {
   "cell_type": "code",
   "execution_count": 70,
   "id": "ac8aa82c",
   "metadata": {
    "ExecuteTime": {
     "end_time": "2022-09-21T18:21:15.881277Z",
     "start_time": "2022-09-21T18:21:15.866426Z"
    }
   },
   "outputs": [],
   "source": [
    "import pandas as pd\n",
    "import seaborn as sns\n",
    "import matplotlib.pyplot as plt\n",
    "import numpy as np"
   ]
  },
  {
   "cell_type": "code",
   "execution_count": 43,
   "id": "1abc51f0",
   "metadata": {
    "ExecuteTime": {
     "end_time": "2022-09-21T18:00:18.062637Z",
     "start_time": "2022-09-21T18:00:18.031885Z"
    }
   },
   "outputs": [
    {
     "data": {
      "text/html": [
       "<div>\n",
       "<style scoped>\n",
       "    .dataframe tbody tr th:only-of-type {\n",
       "        vertical-align: middle;\n",
       "    }\n",
       "\n",
       "    .dataframe tbody tr th {\n",
       "        vertical-align: top;\n",
       "    }\n",
       "\n",
       "    .dataframe thead th {\n",
       "        text-align: right;\n",
       "    }\n",
       "</style>\n",
       "<table border=\"1\" class=\"dataframe\">\n",
       "  <thead>\n",
       "    <tr style=\"text-align: right;\">\n",
       "      <th></th>\n",
       "      <th>Name</th>\n",
       "      <th>test_auc</th>\n",
       "      <th>cparams</th>\n",
       "      <th>qparams</th>\n",
       "      <th>params</th>\n",
       "    </tr>\n",
       "  </thead>\n",
       "  <tbody>\n",
       "    <tr>\n",
       "      <th>0</th>\n",
       "      <td>EP2-QCNNHybrid-Sparse-JAX-1-1</td>\n",
       "      <td>0.734020</td>\n",
       "      <td>538</td>\n",
       "      <td>30</td>\n",
       "      <td>568</td>\n",
       "    </tr>\n",
       "    <tr>\n",
       "      <th>1</th>\n",
       "      <td>EP2-QCNNHybrid-Sparse-JAX-1-2</td>\n",
       "      <td>0.728384</td>\n",
       "      <td>538</td>\n",
       "      <td>60</td>\n",
       "      <td>598</td>\n",
       "    </tr>\n",
       "    <tr>\n",
       "      <th>2</th>\n",
       "      <td>EP2-QCNNHybrid-Sparse-JAX-2-1</td>\n",
       "      <td>0.739698</td>\n",
       "      <td>1050</td>\n",
       "      <td>60</td>\n",
       "      <td>1110</td>\n",
       "    </tr>\n",
       "    <tr>\n",
       "      <th>3</th>\n",
       "      <td>EP2-QCNNHybrid-Sparse-JAX-2-2</td>\n",
       "      <td>0.746360</td>\n",
       "      <td>1050</td>\n",
       "      <td>120</td>\n",
       "      <td>1170</td>\n",
       "    </tr>\n",
       "    <tr>\n",
       "      <th>4</th>\n",
       "      <td>EP2-QCNNHybrid-Sparse-JAX-3-1</td>\n",
       "      <td>0.751805</td>\n",
       "      <td>1562</td>\n",
       "      <td>90</td>\n",
       "      <td>1652</td>\n",
       "    </tr>\n",
       "    <tr>\n",
       "      <th>5</th>\n",
       "      <td>EP2-QCNNHybrid-Sparse-JAX-3-2</td>\n",
       "      <td>0.735852</td>\n",
       "      <td>1562</td>\n",
       "      <td>180</td>\n",
       "      <td>1742</td>\n",
       "    </tr>\n",
       "    <tr>\n",
       "      <th>6</th>\n",
       "      <td>EP2-QCNNHybrid-Sparse-JAX-4-1</td>\n",
       "      <td>0.733105</td>\n",
       "      <td>2074</td>\n",
       "      <td>120</td>\n",
       "      <td>2194</td>\n",
       "    </tr>\n",
       "    <tr>\n",
       "      <th>7</th>\n",
       "      <td>EP2-QCNNHybrid-Sparse-JAX-4-2</td>\n",
       "      <td>0.740646</td>\n",
       "      <td>2074</td>\n",
       "      <td>240</td>\n",
       "      <td>2314</td>\n",
       "    </tr>\n",
       "  </tbody>\n",
       "</table>\n",
       "</div>"
      ],
      "text/plain": [
       "                            Name  test_auc  cparams  qparams  params\n",
       "0  EP2-QCNNHybrid-Sparse-JAX-1-1  0.734020      538       30     568\n",
       "1  EP2-QCNNHybrid-Sparse-JAX-1-2  0.728384      538       60     598\n",
       "2  EP2-QCNNHybrid-Sparse-JAX-2-1  0.739698     1050       60    1110\n",
       "3  EP2-QCNNHybrid-Sparse-JAX-2-2  0.746360     1050      120    1170\n",
       "4  EP2-QCNNHybrid-Sparse-JAX-3-1  0.751805     1562       90    1652\n",
       "5  EP2-QCNNHybrid-Sparse-JAX-3-2  0.735852     1562      180    1742\n",
       "6  EP2-QCNNHybrid-Sparse-JAX-4-1  0.733105     2074      120    2194\n",
       "7  EP2-QCNNHybrid-Sparse-JAX-4-2  0.740646     2074      240    2314"
      ]
     },
     "execution_count": 43,
     "metadata": {},
     "output_type": "execute_result"
    }
   ],
   "source": [
    "df1 = pd.read_csv('../comparision/EP2-QCNNHybrid-Sparse-JAX.csv')\n",
    "df1"
   ]
  },
  {
   "cell_type": "code",
   "execution_count": 44,
   "id": "de1e52ef",
   "metadata": {
    "ExecuteTime": {
     "end_time": "2022-09-21T18:00:19.347532Z",
     "start_time": "2022-09-21T18:00:19.314983Z"
    }
   },
   "outputs": [
    {
     "data": {
      "text/html": [
       "<div>\n",
       "<style scoped>\n",
       "    .dataframe tbody tr th:only-of-type {\n",
       "        vertical-align: middle;\n",
       "    }\n",
       "\n",
       "    .dataframe tbody tr th {\n",
       "        vertical-align: top;\n",
       "    }\n",
       "\n",
       "    .dataframe thead th {\n",
       "        text-align: right;\n",
       "    }\n",
       "</style>\n",
       "<table border=\"1\" class=\"dataframe\">\n",
       "  <thead>\n",
       "    <tr style=\"text-align: right;\">\n",
       "      <th></th>\n",
       "      <th>Name</th>\n",
       "      <th>val_auc</th>\n",
       "      <th>fcparams</th>\n",
       "      <th>convparams</th>\n",
       "      <th>params</th>\n",
       "    </tr>\n",
       "  </thead>\n",
       "  <tbody>\n",
       "    <tr>\n",
       "      <th>0</th>\n",
       "      <td>EP2-CNN-X-QCNNHybrid-Sparse-JAX-1-1</td>\n",
       "      <td>0.719702</td>\n",
       "      <td>538</td>\n",
       "      <td>30</td>\n",
       "      <td>568</td>\n",
       "    </tr>\n",
       "    <tr>\n",
       "      <th>1</th>\n",
       "      <td>EP2-CNN-X-QCNNHybrid-Sparse-JAX-1-2</td>\n",
       "      <td>0.740342</td>\n",
       "      <td>538</td>\n",
       "      <td>58</td>\n",
       "      <td>596</td>\n",
       "    </tr>\n",
       "    <tr>\n",
       "      <th>2</th>\n",
       "      <td>EP2-CNN-X-QCNNHybrid-Sparse-JAX-2-1</td>\n",
       "      <td>0.746935</td>\n",
       "      <td>1050</td>\n",
       "      <td>58</td>\n",
       "      <td>1108</td>\n",
       "    </tr>\n",
       "    <tr>\n",
       "      <th>3</th>\n",
       "      <td>EP2-CNN-X-QCNNHybrid-Sparse-JAX-2-2</td>\n",
       "      <td>0.740542</td>\n",
       "      <td>1050</td>\n",
       "      <td>124</td>\n",
       "      <td>1174</td>\n",
       "    </tr>\n",
       "    <tr>\n",
       "      <th>4</th>\n",
       "      <td>EP2-CNN-X-QCNNHybrid-Sparse-JAX-3-1</td>\n",
       "      <td>0.727265</td>\n",
       "      <td>1562</td>\n",
       "      <td>87</td>\n",
       "      <td>1649</td>\n",
       "    </tr>\n",
       "    <tr>\n",
       "      <th>5</th>\n",
       "      <td>EP2-CNN-X-QCNNHybrid-Sparse-JAX-3-2</td>\n",
       "      <td>0.759882</td>\n",
       "      <td>1562</td>\n",
       "      <td>188</td>\n",
       "      <td>1750</td>\n",
       "    </tr>\n",
       "    <tr>\n",
       "      <th>6</th>\n",
       "      <td>EP2-CNN-X-QCNNHybrid-Sparse-JAX-4-1</td>\n",
       "      <td>0.722187</td>\n",
       "      <td>2074</td>\n",
       "      <td>116</td>\n",
       "      <td>2190</td>\n",
       "    </tr>\n",
       "    <tr>\n",
       "      <th>7</th>\n",
       "      <td>EP2-CNN-X-QCNNHybrid-Sparse-JAX-4-2</td>\n",
       "      <td>0.737430</td>\n",
       "      <td>2074</td>\n",
       "      <td>236</td>\n",
       "      <td>2310</td>\n",
       "    </tr>\n",
       "  </tbody>\n",
       "</table>\n",
       "</div>"
      ],
      "text/plain": [
       "                                  Name   val_auc  fcparams  convparams  params\n",
       "0  EP2-CNN-X-QCNNHybrid-Sparse-JAX-1-1  0.719702       538          30     568\n",
       "1  EP2-CNN-X-QCNNHybrid-Sparse-JAX-1-2  0.740342       538          58     596\n",
       "2  EP2-CNN-X-QCNNHybrid-Sparse-JAX-2-1  0.746935      1050          58    1108\n",
       "3  EP2-CNN-X-QCNNHybrid-Sparse-JAX-2-2  0.740542      1050         124    1174\n",
       "4  EP2-CNN-X-QCNNHybrid-Sparse-JAX-3-1  0.727265      1562          87    1649\n",
       "5  EP2-CNN-X-QCNNHybrid-Sparse-JAX-3-2  0.759882      1562         188    1750\n",
       "6  EP2-CNN-X-QCNNHybrid-Sparse-JAX-4-1  0.722187      2074         116    2190\n",
       "7  EP2-CNN-X-QCNNHybrid-Sparse-JAX-4-2  0.737430      2074         236    2310"
      ]
     },
     "execution_count": 44,
     "metadata": {},
     "output_type": "execute_result"
    }
   ],
   "source": [
    "df2 = pd.read_csv('../comparision/EP2-CNN-X-QCNNHybrid-Sparse-JAX-.csv')\n",
    "df2"
   ]
  },
  {
   "cell_type": "code",
   "execution_count": 22,
   "id": "abaebbf4",
   "metadata": {
    "ExecuteTime": {
     "end_time": "2022-08-31T12:15:19.876876Z",
     "start_time": "2022-08-31T12:15:19.446637Z"
    }
   },
   "outputs": [
    {
     "data": {
      "text/plain": [
       "Text(0.5, 1.0, 'QCNNHybrid-Sparse vs CCNN ')"
      ]
     },
     "execution_count": 22,
     "metadata": {},
     "output_type": "execute_result"
    },
    {
     "data": {
      "image/png": "[encoded data removed]",
      "text/plain": [
       "<Figure size 1080x576 with 1 Axes>"
      ]
     },
     "metadata": {
      "needs_background": "light"
     },
     "output_type": "display_data"
    }
   ],
   "source": [
    "plt.ylim(0.65, 0.80)\n",
    "g1 = sns.scatterplot(x = 'params', y = 'test_auc', data = df1,s=60)\n",
    "g2 = sns.scatterplot(x = 'params', y = 'val_auc', data = df2,s=60)\n",
    "g1.figure.set_size_inches(15,8)\n",
    "g2.figure.set_size_inches(15,8)\n",
    "plt.legend(['QCNNHybrid','CCNN'])\n",
    "plt.title('QCNNHybrid-Sparse vs CCNN ')"
   ]
  },
  {
   "cell_type": "code",
   "execution_count": 60,
   "id": "ee4d115d",
   "metadata": {
    "ExecuteTime": {
     "end_time": "2022-09-21T18:09:49.722050Z",
     "start_time": "2022-09-21T18:09:49.693291Z"
    }
   },
   "outputs": [
    {
     "data": {
      "text/html": [
       "<div>\n",
       "<style scoped>\n",
       "    .dataframe tbody tr th:only-of-type {\n",
       "        vertical-align: middle;\n",
       "    }\n",
       "\n",
       "    .dataframe tbody tr th {\n",
       "        vertical-align: top;\n",
       "    }\n",
       "\n",
       "    .dataframe thead th {\n",
       "        text-align: right;\n",
       "    }\n",
       "</style>\n",
       "<table border=\"1\" class=\"dataframe\">\n",
       "  <thead>\n",
       "    <tr style=\"text-align: right;\">\n",
       "      <th></th>\n",
       "      <th>Name</th>\n",
       "      <th>test_auc</th>\n",
       "      <th>cparams</th>\n",
       "      <th>qparams</th>\n",
       "      <th>params</th>\n",
       "    </tr>\n",
       "  </thead>\n",
       "  <tbody>\n",
       "    <tr>\n",
       "      <th>0</th>\n",
       "      <td>EP2-QCNNHybrid-JAX-1-1</td>\n",
       "      <td>0.740461</td>\n",
       "      <td>538</td>\n",
       "      <td>18</td>\n",
       "      <td>556</td>\n",
       "    </tr>\n",
       "    <tr>\n",
       "      <th>1</th>\n",
       "      <td>EP2-QCNNHybrid-JAX-1-2</td>\n",
       "      <td>0.726536</td>\n",
       "      <td>538</td>\n",
       "      <td>34</td>\n",
       "      <td>572</td>\n",
       "    </tr>\n",
       "    <tr>\n",
       "      <th>2</th>\n",
       "      <td>EP2-QCNNHybrid-JAX-2-1</td>\n",
       "      <td>0.745837</td>\n",
       "      <td>1050</td>\n",
       "      <td>34</td>\n",
       "      <td>1084</td>\n",
       "    </tr>\n",
       "    <tr>\n",
       "      <th>3</th>\n",
       "      <td>EP2-QCNNHybrid-JAX-2-2</td>\n",
       "      <td>0.744251</td>\n",
       "      <td>1050</td>\n",
       "      <td>72</td>\n",
       "      <td>1122</td>\n",
       "    </tr>\n",
       "    <tr>\n",
       "      <th>4</th>\n",
       "      <td>EP2-QCNNHybrid-JAX-3-1</td>\n",
       "      <td>0.675258</td>\n",
       "      <td>1562</td>\n",
       "      <td>54</td>\n",
       "      <td>1616</td>\n",
       "    </tr>\n",
       "    <tr>\n",
       "      <th>5</th>\n",
       "      <td>EP2-QCNNHybrid-JAX-3-2</td>\n",
       "      <td>0.734190</td>\n",
       "      <td>1562</td>\n",
       "      <td>108</td>\n",
       "      <td>1670</td>\n",
       "    </tr>\n",
       "    <tr>\n",
       "      <th>6</th>\n",
       "      <td>EP2-QCNNHybrid-JAX-4-1</td>\n",
       "      <td>0.728420</td>\n",
       "      <td>2074</td>\n",
       "      <td>72</td>\n",
       "      <td>2146</td>\n",
       "    </tr>\n",
       "    <tr>\n",
       "      <th>7</th>\n",
       "      <td>EP2-QCNNHybrid-JAX-4-2</td>\n",
       "      <td>0.722961</td>\n",
       "      <td>2074</td>\n",
       "      <td>144</td>\n",
       "      <td>2218</td>\n",
       "    </tr>\n",
       "  </tbody>\n",
       "</table>\n",
       "</div>"
      ],
      "text/plain": [
       "                     Name  test_auc  cparams  qparams  params\n",
       "0  EP2-QCNNHybrid-JAX-1-1  0.740461      538       18     556\n",
       "1  EP2-QCNNHybrid-JAX-1-2  0.726536      538       34     572\n",
       "2  EP2-QCNNHybrid-JAX-2-1  0.745837     1050       34    1084\n",
       "3  EP2-QCNNHybrid-JAX-2-2  0.744251     1050       72    1122\n",
       "4  EP2-QCNNHybrid-JAX-3-1  0.675258     1562       54    1616\n",
       "5  EP2-QCNNHybrid-JAX-3-2  0.734190     1562      108    1670\n",
       "6  EP2-QCNNHybrid-JAX-4-1  0.728420     2074       72    2146\n",
       "7  EP2-QCNNHybrid-JAX-4-2  0.722961     2074      144    2218"
      ]
     },
     "execution_count": 60,
     "metadata": {},
     "output_type": "execute_result"
    }
   ],
   "source": [
    "df1 = pd.read_csv('../comparision/EP2-QCNNHybrid-JAX.csv')\n",
    "df1"
   ]
  },
  {
   "cell_type": "code",
   "execution_count": 61,
   "id": "5f716757",
   "metadata": {
    "ExecuteTime": {
     "end_time": "2022-09-21T18:09:50.713678Z",
     "start_time": "2022-09-21T18:09:50.680455Z"
    }
   },
   "outputs": [
    {
     "data": {
      "text/html": [
       "<div>\n",
       "<style scoped>\n",
       "    .dataframe tbody tr th:only-of-type {\n",
       "        vertical-align: middle;\n",
       "    }\n",
       "\n",
       "    .dataframe tbody tr th {\n",
       "        vertical-align: top;\n",
       "    }\n",
       "\n",
       "    .dataframe thead th {\n",
       "        text-align: right;\n",
       "    }\n",
       "</style>\n",
       "<table border=\"1\" class=\"dataframe\">\n",
       "  <thead>\n",
       "    <tr style=\"text-align: right;\">\n",
       "      <th></th>\n",
       "      <th>Name</th>\n",
       "      <th>val_auc</th>\n",
       "      <th>fcparams</th>\n",
       "      <th>convparams</th>\n",
       "      <th>params</th>\n",
       "    </tr>\n",
       "  </thead>\n",
       "  <tbody>\n",
       "    <tr>\n",
       "      <th>0</th>\n",
       "      <td>EP2-CNN-X-QCNNHybrid-JAX-1-1</td>\n",
       "      <td>0.726261</td>\n",
       "      <td>538</td>\n",
       "      <td>20</td>\n",
       "      <td>558</td>\n",
       "    </tr>\n",
       "    <tr>\n",
       "      <th>1</th>\n",
       "      <td>EP2-CNN-X-QCNNHybrid-JAX-1-2</td>\n",
       "      <td>0.751484</td>\n",
       "      <td>538</td>\n",
       "      <td>39</td>\n",
       "      <td>577</td>\n",
       "    </tr>\n",
       "    <tr>\n",
       "      <th>2</th>\n",
       "      <td>EP2-CNN-X-QCNNHybrid-JAX-2-1</td>\n",
       "      <td>0.740766</td>\n",
       "      <td>1050</td>\n",
       "      <td>40</td>\n",
       "      <td>1090</td>\n",
       "    </tr>\n",
       "    <tr>\n",
       "      <th>3</th>\n",
       "      <td>EP2-CNN-X-QCNNHybrid-JAX-2-2</td>\n",
       "      <td>0.706782</td>\n",
       "      <td>1050</td>\n",
       "      <td>78</td>\n",
       "      <td>1128</td>\n",
       "    </tr>\n",
       "    <tr>\n",
       "      <th>4</th>\n",
       "      <td>EP2-CNN-X-QCNNHybrid-JAX-3-1</td>\n",
       "      <td>0.724054</td>\n",
       "      <td>1562</td>\n",
       "      <td>50</td>\n",
       "      <td>1612</td>\n",
       "    </tr>\n",
       "    <tr>\n",
       "      <th>5</th>\n",
       "      <td>EP2-CNN-X-QCNNHybrid-JAX-3-2</td>\n",
       "      <td>0.725735</td>\n",
       "      <td>1562</td>\n",
       "      <td>107</td>\n",
       "      <td>1669</td>\n",
       "    </tr>\n",
       "    <tr>\n",
       "      <th>6</th>\n",
       "      <td>EP2-CNN-X-QCNNHybrid-JAX-4-1</td>\n",
       "      <td>0.725896</td>\n",
       "      <td>2074</td>\n",
       "      <td>70</td>\n",
       "      <td>2144</td>\n",
       "    </tr>\n",
       "    <tr>\n",
       "      <th>7</th>\n",
       "      <td>EP2-CNN-X-QCNNHybrid-JAX-4-2</td>\n",
       "      <td>0.742556</td>\n",
       "      <td>2074</td>\n",
       "      <td>142</td>\n",
       "      <td>2216</td>\n",
       "    </tr>\n",
       "  </tbody>\n",
       "</table>\n",
       "</div>"
      ],
      "text/plain": [
       "                            Name   val_auc  fcparams  convparams  params\n",
       "0   EP2-CNN-X-QCNNHybrid-JAX-1-1  0.726261       538          20     558\n",
       "1   EP2-CNN-X-QCNNHybrid-JAX-1-2  0.751484       538          39     577\n",
       "2   EP2-CNN-X-QCNNHybrid-JAX-2-1  0.740766      1050          40    1090\n",
       "3   EP2-CNN-X-QCNNHybrid-JAX-2-2  0.706782      1050          78    1128\n",
       "4   EP2-CNN-X-QCNNHybrid-JAX-3-1  0.724054      1562          50    1612\n",
       "5   EP2-CNN-X-QCNNHybrid-JAX-3-2  0.725735      1562         107    1669\n",
       "6   EP2-CNN-X-QCNNHybrid-JAX-4-1  0.725896      2074          70    2144\n",
       "7   EP2-CNN-X-QCNNHybrid-JAX-4-2  0.742556      2074         142    2216"
      ]
     },
     "execution_count": 61,
     "metadata": {},
     "output_type": "execute_result"
    }
   ],
   "source": [
    "df2 = pd.read_csv('../comparision/EP2-CNN-X-QCNNHybrid-JAX.csv')\n",
    "df2"
   ]
  },
  {
   "cell_type": "code",
   "execution_count": 25,
   "id": "1856c9d6",
   "metadata": {
    "ExecuteTime": {
     "end_time": "2022-08-31T12:15:21.434505Z",
     "start_time": "2022-08-31T12:15:21.080665Z"
    }
   },
   "outputs": [
    {
     "data": {
      "text/plain": [
       "Text(0.5, 1.0, 'QCNNHybrid vs CCNN ')"
      ]
     },
     "execution_count": 25,
     "metadata": {},
     "output_type": "execute_result"
    },
    {
     "data": {
      "image/png": "[encoded data removed]",
      "text/plain": [
       "<Figure size 1080x576 with 1 Axes>"
      ]
     },
     "metadata": {
      "needs_background": "light"
     },
     "output_type": "display_data"
    }
   ],
   "source": [
    "plt.ylim(0.65, 0.80)\n",
    "g1 = sns.scatterplot(x = 'params', y = 'test_auc', data = df1,s=60)\n",
    "g2 = sns.scatterplot(x = 'params', y = 'val_auc', data = df2,s=60)\n",
    "g1.figure.set_size_inches(15,8)\n",
    "g2.figure.set_size_inches(15,8)\n",
    "plt.legend(['QCNNHybrid','CCNN'])\n",
    "plt.title('QCNNHybrid vs CCNN ')"
   ]
  },
  {
   "cell_type": "code",
   "execution_count": 39,
   "id": "d68497bb",
   "metadata": {
    "ExecuteTime": {
     "end_time": "2022-09-21T17:59:15.542422Z",
     "start_time": "2022-09-21T17:59:15.525573Z"
    }
   },
   "outputs": [],
   "source": [
    "df1['qubits'] = [1,1,2,2,3,3,4,4]\n",
    "df1['layers'] = [1,2,1,2,1,2,1,2]"
   ]
  },
  {
   "cell_type": "code",
   "execution_count": 40,
   "id": "2377739e",
   "metadata": {
    "ExecuteTime": {
     "end_time": "2022-09-21T17:59:16.208247Z",
     "start_time": "2022-09-21T17:59:16.180092Z"
    },
    "scrolled": true
   },
   "outputs": [
    {
     "data": {
      "text/html": [
       "<div>\n",
       "<style scoped>\n",
       "    .dataframe tbody tr th:only-of-type {\n",
       "        vertical-align: middle;\n",
       "    }\n",
       "\n",
       "    .dataframe tbody tr th {\n",
       "        vertical-align: top;\n",
       "    }\n",
       "\n",
       "    .dataframe thead th {\n",
       "        text-align: right;\n",
       "    }\n",
       "</style>\n",
       "<table border=\"1\" class=\"dataframe\">\n",
       "  <thead>\n",
       "    <tr style=\"text-align: right;\">\n",
       "      <th></th>\n",
       "      <th>Name</th>\n",
       "      <th>test_auc</th>\n",
       "      <th>cparams</th>\n",
       "      <th>qparams</th>\n",
       "      <th>params</th>\n",
       "      <th>qubits</th>\n",
       "      <th>layers</th>\n",
       "    </tr>\n",
       "  </thead>\n",
       "  <tbody>\n",
       "    <tr>\n",
       "      <th>0</th>\n",
       "      <td>EP2-QCNNHybrid-JAX-1-1</td>\n",
       "      <td>0.74</td>\n",
       "      <td>538</td>\n",
       "      <td>18</td>\n",
       "      <td>556</td>\n",
       "      <td>1</td>\n",
       "      <td>1</td>\n",
       "    </tr>\n",
       "    <tr>\n",
       "      <th>1</th>\n",
       "      <td>EP2-QCNNHybrid-JAX-1-2</td>\n",
       "      <td>0.73</td>\n",
       "      <td>538</td>\n",
       "      <td>34</td>\n",
       "      <td>572</td>\n",
       "      <td>1</td>\n",
       "      <td>2</td>\n",
       "    </tr>\n",
       "    <tr>\n",
       "      <th>2</th>\n",
       "      <td>EP2-QCNNHybrid-JAX-2-1</td>\n",
       "      <td>0.75</td>\n",
       "      <td>1050</td>\n",
       "      <td>34</td>\n",
       "      <td>1084</td>\n",
       "      <td>2</td>\n",
       "      <td>1</td>\n",
       "    </tr>\n",
       "    <tr>\n",
       "      <th>3</th>\n",
       "      <td>EP2-QCNNHybrid-JAX-2-2</td>\n",
       "      <td>0.74</td>\n",
       "      <td>1050</td>\n",
       "      <td>72</td>\n",
       "      <td>1122</td>\n",
       "      <td>2</td>\n",
       "      <td>2</td>\n",
       "    </tr>\n",
       "    <tr>\n",
       "      <th>4</th>\n",
       "      <td>EP2-QCNNHybrid-JAX-3-1</td>\n",
       "      <td>0.68</td>\n",
       "      <td>1562</td>\n",
       "      <td>54</td>\n",
       "      <td>1616</td>\n",
       "      <td>3</td>\n",
       "      <td>1</td>\n",
       "    </tr>\n",
       "    <tr>\n",
       "      <th>5</th>\n",
       "      <td>EP2-QCNNHybrid-JAX-3-2</td>\n",
       "      <td>0.73</td>\n",
       "      <td>1562</td>\n",
       "      <td>108</td>\n",
       "      <td>1670</td>\n",
       "      <td>3</td>\n",
       "      <td>2</td>\n",
       "    </tr>\n",
       "    <tr>\n",
       "      <th>6</th>\n",
       "      <td>EP2-QCNNHybrid-JAX-4-1</td>\n",
       "      <td>0.73</td>\n",
       "      <td>2074</td>\n",
       "      <td>72</td>\n",
       "      <td>2146</td>\n",
       "      <td>4</td>\n",
       "      <td>1</td>\n",
       "    </tr>\n",
       "    <tr>\n",
       "      <th>7</th>\n",
       "      <td>EP2-QCNNHybrid-JAX-4-2</td>\n",
       "      <td>0.72</td>\n",
       "      <td>2074</td>\n",
       "      <td>144</td>\n",
       "      <td>2218</td>\n",
       "      <td>4</td>\n",
       "      <td>2</td>\n",
       "    </tr>\n",
       "  </tbody>\n",
       "</table>\n",
       "</div>"
      ],
      "text/plain": [
       "                     Name  test_auc  cparams  qparams  params  qubits  layers\n",
       "0  EP2-QCNNHybrid-JAX-1-1      0.74      538       18     556       1       1\n",
       "1  EP2-QCNNHybrid-JAX-1-2      0.73      538       34     572       1       2\n",
       "2  EP2-QCNNHybrid-JAX-2-1      0.75     1050       34    1084       2       1\n",
       "3  EP2-QCNNHybrid-JAX-2-2      0.74     1050       72    1122       2       2\n",
       "4  EP2-QCNNHybrid-JAX-3-1      0.68     1562       54    1616       3       1\n",
       "5  EP2-QCNNHybrid-JAX-3-2      0.73     1562      108    1670       3       2\n",
       "6  EP2-QCNNHybrid-JAX-4-1      0.73     2074       72    2146       4       1\n",
       "7  EP2-QCNNHybrid-JAX-4-2      0.72     2074      144    2218       4       2"
      ]
     },
     "execution_count": 40,
     "metadata": {},
     "output_type": "execute_result"
    }
   ],
   "source": [
    "df1.round({'test_auc': 2})"
   ]
  },
  {
   "cell_type": "code",
   "execution_count": 68,
   "id": "a873a101",
   "metadata": {
    "ExecuteTime": {
     "end_time": "2022-09-21T18:21:09.329136Z",
     "start_time": "2022-09-21T18:21:09.315405Z"
    }
   },
   "outputs": [],
   "source": [
    "import seaborn as sns\n",
    "import numpy as np\n",
    "\n",
    "sns.set(rc={'figure.figsize':(15,5)})"
   ]
  },
  {
   "cell_type": "code",
   "execution_count": 42,
   "id": "1048b2c9",
   "metadata": {
    "ExecuteTime": {
     "end_time": "2022-09-21T17:59:26.298085Z",
     "start_time": "2022-09-21T17:59:25.861924Z"
    }
   },
   "outputs": [
    {
     "data": {
      "image/png": "[encoded data removed]",
      "text/plain": [
       "<Figure size 1080x360 with 1 Axes>"
      ]
     },
     "metadata": {},
     "output_type": "display_data"
    }
   ],
   "source": [
    "ax = sns.barplot(x = 'qubits', y = 'test_auc', data = df1.round({'test_auc': 3}), hue='layers')\n",
    "plt.legend(loc='center right', title='Layers')\n",
    "plt.title(\"Electron Photon with Hybrid QCNN\")\n",
    "for container in ax.containers:\n",
    "    ax.bar_label(container)"
   ]
  },
  {
   "cell_type": "code",
   "execution_count": 62,
   "id": "c5c2f67b",
   "metadata": {
    "ExecuteTime": {
     "end_time": "2022-09-21T18:09:56.404684Z",
     "start_time": "2022-09-21T18:09:56.375406Z"
    }
   },
   "outputs": [
    {
     "data": {
      "text/html": [
       "<div>\n",
       "<style scoped>\n",
       "    .dataframe tbody tr th:only-of-type {\n",
       "        vertical-align: middle;\n",
       "    }\n",
       "\n",
       "    .dataframe tbody tr th {\n",
       "        vertical-align: top;\n",
       "    }\n",
       "\n",
       "    .dataframe thead th {\n",
       "        text-align: right;\n",
       "    }\n",
       "</style>\n",
       "<table border=\"1\" class=\"dataframe\">\n",
       "  <thead>\n",
       "    <tr style=\"text-align: right;\">\n",
       "      <th></th>\n",
       "      <th>Name</th>\n",
       "      <th>test_auc</th>\n",
       "      <th>cparams</th>\n",
       "      <th>qparams</th>\n",
       "      <th>params</th>\n",
       "    </tr>\n",
       "  </thead>\n",
       "  <tbody>\n",
       "    <tr>\n",
       "      <th>0</th>\n",
       "      <td>EP2-QCNNHybrid-JAX-1-1</td>\n",
       "      <td>0.740461</td>\n",
       "      <td>538</td>\n",
       "      <td>18</td>\n",
       "      <td>556</td>\n",
       "    </tr>\n",
       "    <tr>\n",
       "      <th>1</th>\n",
       "      <td>EP2-QCNNHybrid-JAX-1-2</td>\n",
       "      <td>0.726536</td>\n",
       "      <td>538</td>\n",
       "      <td>34</td>\n",
       "      <td>572</td>\n",
       "    </tr>\n",
       "    <tr>\n",
       "      <th>2</th>\n",
       "      <td>EP2-QCNNHybrid-JAX-2-1</td>\n",
       "      <td>0.745837</td>\n",
       "      <td>1050</td>\n",
       "      <td>34</td>\n",
       "      <td>1084</td>\n",
       "    </tr>\n",
       "    <tr>\n",
       "      <th>3</th>\n",
       "      <td>EP2-QCNNHybrid-JAX-2-2</td>\n",
       "      <td>0.744251</td>\n",
       "      <td>1050</td>\n",
       "      <td>72</td>\n",
       "      <td>1122</td>\n",
       "    </tr>\n",
       "    <tr>\n",
       "      <th>4</th>\n",
       "      <td>EP2-QCNNHybrid-JAX-3-1</td>\n",
       "      <td>0.675258</td>\n",
       "      <td>1562</td>\n",
       "      <td>54</td>\n",
       "      <td>1616</td>\n",
       "    </tr>\n",
       "    <tr>\n",
       "      <th>5</th>\n",
       "      <td>EP2-QCNNHybrid-JAX-3-2</td>\n",
       "      <td>0.734190</td>\n",
       "      <td>1562</td>\n",
       "      <td>108</td>\n",
       "      <td>1670</td>\n",
       "    </tr>\n",
       "    <tr>\n",
       "      <th>6</th>\n",
       "      <td>EP2-QCNNHybrid-JAX-4-1</td>\n",
       "      <td>0.728420</td>\n",
       "      <td>2074</td>\n",
       "      <td>72</td>\n",
       "      <td>2146</td>\n",
       "    </tr>\n",
       "    <tr>\n",
       "      <th>7</th>\n",
       "      <td>EP2-QCNNHybrid-JAX-4-2</td>\n",
       "      <td>0.722961</td>\n",
       "      <td>2074</td>\n",
       "      <td>144</td>\n",
       "      <td>2218</td>\n",
       "    </tr>\n",
       "  </tbody>\n",
       "</table>\n",
       "</div>"
      ],
      "text/plain": [
       "                     Name  test_auc  cparams  qparams  params\n",
       "0  EP2-QCNNHybrid-JAX-1-1  0.740461      538       18     556\n",
       "1  EP2-QCNNHybrid-JAX-1-2  0.726536      538       34     572\n",
       "2  EP2-QCNNHybrid-JAX-2-1  0.745837     1050       34    1084\n",
       "3  EP2-QCNNHybrid-JAX-2-2  0.744251     1050       72    1122\n",
       "4  EP2-QCNNHybrid-JAX-3-1  0.675258     1562       54    1616\n",
       "5  EP2-QCNNHybrid-JAX-3-2  0.734190     1562      108    1670\n",
       "6  EP2-QCNNHybrid-JAX-4-1  0.728420     2074       72    2146\n",
       "7  EP2-QCNNHybrid-JAX-4-2  0.722961     2074      144    2218"
      ]
     },
     "execution_count": 62,
     "metadata": {},
     "output_type": "execute_result"
    }
   ],
   "source": [
    "df1"
   ]
  },
  {
   "cell_type": "code",
   "execution_count": 63,
   "id": "ce968175",
   "metadata": {
    "ExecuteTime": {
     "end_time": "2022-09-21T18:09:56.604289Z",
     "start_time": "2022-09-21T18:09:56.572837Z"
    }
   },
   "outputs": [
    {
     "data": {
      "text/html": [
       "<div>\n",
       "<style scoped>\n",
       "    .dataframe tbody tr th:only-of-type {\n",
       "        vertical-align: middle;\n",
       "    }\n",
       "\n",
       "    .dataframe tbody tr th {\n",
       "        vertical-align: top;\n",
       "    }\n",
       "\n",
       "    .dataframe thead th {\n",
       "        text-align: right;\n",
       "    }\n",
       "</style>\n",
       "<table border=\"1\" class=\"dataframe\">\n",
       "  <thead>\n",
       "    <tr style=\"text-align: right;\">\n",
       "      <th></th>\n",
       "      <th>Name</th>\n",
       "      <th>val_auc</th>\n",
       "      <th>fcparams</th>\n",
       "      <th>convparams</th>\n",
       "      <th>params</th>\n",
       "    </tr>\n",
       "  </thead>\n",
       "  <tbody>\n",
       "    <tr>\n",
       "      <th>0</th>\n",
       "      <td>EP2-CNN-X-QCNNHybrid-JAX-1-1</td>\n",
       "      <td>0.726261</td>\n",
       "      <td>538</td>\n",
       "      <td>20</td>\n",
       "      <td>558</td>\n",
       "    </tr>\n",
       "    <tr>\n",
       "      <th>1</th>\n",
       "      <td>EP2-CNN-X-QCNNHybrid-JAX-1-2</td>\n",
       "      <td>0.751484</td>\n",
       "      <td>538</td>\n",
       "      <td>39</td>\n",
       "      <td>577</td>\n",
       "    </tr>\n",
       "    <tr>\n",
       "      <th>2</th>\n",
       "      <td>EP2-CNN-X-QCNNHybrid-JAX-2-1</td>\n",
       "      <td>0.740766</td>\n",
       "      <td>1050</td>\n",
       "      <td>40</td>\n",
       "      <td>1090</td>\n",
       "    </tr>\n",
       "    <tr>\n",
       "      <th>3</th>\n",
       "      <td>EP2-CNN-X-QCNNHybrid-JAX-2-2</td>\n",
       "      <td>0.706782</td>\n",
       "      <td>1050</td>\n",
       "      <td>78</td>\n",
       "      <td>1128</td>\n",
       "    </tr>\n",
       "    <tr>\n",
       "      <th>4</th>\n",
       "      <td>EP2-CNN-X-QCNNHybrid-JAX-3-1</td>\n",
       "      <td>0.724054</td>\n",
       "      <td>1562</td>\n",
       "      <td>50</td>\n",
       "      <td>1612</td>\n",
       "    </tr>\n",
       "    <tr>\n",
       "      <th>5</th>\n",
       "      <td>EP2-CNN-X-QCNNHybrid-JAX-3-2</td>\n",
       "      <td>0.725735</td>\n",
       "      <td>1562</td>\n",
       "      <td>107</td>\n",
       "      <td>1669</td>\n",
       "    </tr>\n",
       "    <tr>\n",
       "      <th>6</th>\n",
       "      <td>EP2-CNN-X-QCNNHybrid-JAX-4-1</td>\n",
       "      <td>0.725896</td>\n",
       "      <td>2074</td>\n",
       "      <td>70</td>\n",
       "      <td>2144</td>\n",
       "    </tr>\n",
       "    <tr>\n",
       "      <th>7</th>\n",
       "      <td>EP2-CNN-X-QCNNHybrid-JAX-4-2</td>\n",
       "      <td>0.742556</td>\n",
       "      <td>2074</td>\n",
       "      <td>142</td>\n",
       "      <td>2216</td>\n",
       "    </tr>\n",
       "  </tbody>\n",
       "</table>\n",
       "</div>"
      ],
      "text/plain": [
       "                            Name   val_auc  fcparams  convparams  params\n",
       "0   EP2-CNN-X-QCNNHybrid-JAX-1-1  0.726261       538          20     558\n",
       "1   EP2-CNN-X-QCNNHybrid-JAX-1-2  0.751484       538          39     577\n",
       "2   EP2-CNN-X-QCNNHybrid-JAX-2-1  0.740766      1050          40    1090\n",
       "3   EP2-CNN-X-QCNNHybrid-JAX-2-2  0.706782      1050          78    1128\n",
       "4   EP2-CNN-X-QCNNHybrid-JAX-3-1  0.724054      1562          50    1612\n",
       "5   EP2-CNN-X-QCNNHybrid-JAX-3-2  0.725735      1562         107    1669\n",
       "6   EP2-CNN-X-QCNNHybrid-JAX-4-1  0.725896      2074          70    2144\n",
       "7   EP2-CNN-X-QCNNHybrid-JAX-4-2  0.742556      2074         142    2216"
      ]
     },
     "execution_count": 63,
     "metadata": {},
     "output_type": "execute_result"
    }
   ],
   "source": [
    "df2"
   ]
  },
  {
   "cell_type": "code",
   "execution_count": 71,
   "id": "d6381787",
   "metadata": {
    "ExecuteTime": {
     "end_time": "2022-09-21T18:21:33.082112Z",
     "start_time": "2022-09-21T18:21:33.066254Z"
    }
   },
   "outputs": [],
   "source": [
    "df = pd.DataFrame(data = {\n",
    "    'qubits': [1,1,2,2,3,3,4,4],\n",
    "    'layers': [1,2,1,2,1,2,1,2],\n",
    "    'test_auc': [0.63,0.61,0.639,0.633,0.64,0.643,0.637,0.632]\n",
    "})"
   ]
  },
  {
   "cell_type": "code",
   "execution_count": 74,
   "id": "a49c3ab3",
   "metadata": {
    "ExecuteTime": {
     "end_time": "2022-09-21T18:21:46.347238Z",
     "start_time": "2022-09-21T18:21:46.056784Z"
    }
   },
   "outputs": [
    {
     "data": {
      "image/png": "[encoded data removed]",
      "text/plain": [
       "<Figure size 1080x360 with 1 Axes>"
      ]
     },
     "metadata": {},
     "output_type": "display_data"
    }
   ],
   "source": [
    "ax = sns.barplot(x = 'qubits', y = 'test_auc', data = df.round({'test_auc': 3}), hue='layers')\n",
    "plt.legend(loc='center right', title='Layers')\n",
    "# ax.legend(['QCNN 1 layer', 'QCNN 2 layers'])\n",
    "plt.title(\"Quark Gluon with Hybrid QCNN\")\n",
    "for container in ax.containers:\n",
    "    ax.bar_label(container)"
   ]
  },
  {
   "cell_type": "code",
   "execution_count": null,
   "id": "c08dfd01",
   "metadata": {},
   "outputs": [],
   "source": []
  }
 ],
 "metadata": {
  "kernelspec": {
   "display_name": "Python (qenv)",
   "language": "python",
   "name": "qenv"
  },
  "language_info": {
   "codemirror_mode": {
    "name": "ipython",
    "version": 3
   },
   "file_extension": ".py",
   "mimetype": "text/x-python",
   "name": "python",
   "nbconvert_exporter": "python",
   "pygments_lexer": "ipython3",
   "version": "3.7.13"
  },
  "latex_envs": {
   "LaTeX_envs_menu_present": true,
   "autoclose": false,
   "autocomplete": true,
   "bibliofile": "biblio.bib",
   "cite_by": "apalike",
   "current_citInitial": 1,
   "eqLabelWithNumbers": true,
   "eqNumInitial": 1,
   "hotkeys": {
    "equation": "Ctrl-E",
    "itemize": "Ctrl-I"
   },
   "labels_anchors": false,
   "latex_user_defs": false,
   "report_style_numbering": false,
   "user_envs_cfg": false
  },
  "toc": {
   "base_numbering": 1,
   "nav_menu": {},
   "number_sections": true,
   "sideBar": true,
   "skip_h1_title": false,
   "title_cell": "Table of Contents",
   "title_sidebar": "Contents",
   "toc_cell": false,
   "toc_position": {},
   "toc_section_display": true,
   "toc_window_display": false
  }
 },
 "nbformat": 4,
 "nbformat_minor": 5
}
