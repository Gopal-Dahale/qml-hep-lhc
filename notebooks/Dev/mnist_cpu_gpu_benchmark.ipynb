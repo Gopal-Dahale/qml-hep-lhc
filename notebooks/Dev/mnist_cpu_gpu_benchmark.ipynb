{
  "metadata": {
    "kernelspec": {
      "language": "python",
      "display_name": "Python 3",
      "name": "python3"
    },
    "language_info": {
      "name": "python",
      "version": "3.7.12",
      "mimetype": "text/x-python",
      "codemirror_mode": {
        "name": "ipython",
        "version": 3
      },
      "pygments_lexer": "ipython3",
      "nbconvert_exporter": "python",
      "file_extension": ".py"
    },
    "colab": {
      "name": "mnist-cpu-gpu-benchmark.ipynb",
      "provenance": [],
      "collapsed_sections": []
    },
    "gpuClass": "standard"
  },
  "nbformat_minor": 0,
  "nbformat": 4,
  "cells": [
    {
      "cell_type": "code",
      "source": [
        "from IPython.display import clear_output\n",
        "!pip install -q tensorflow-quantum==0.6.1 --use-deprecated=legacy-resolver --quiet\n",
        "!pip install -q cirq==0.14.1 \n",
        "clear_output()"
      ],
      "metadata": {
        "_uuid": "8f2839f25d086af736a60e9eeb907d3b93b6e0e5",
        "_cell_guid": "b1076dfc-b9ad-4769-8c92-a6c4dae69d19",
        "trusted": true,
        "id": "iQoAgfinlXs4"
      },
      "execution_count": null,
      "outputs": []
    },
    {
      "cell_type": "code",
      "source": [
        "import tensorflow as tf\n",
        "print('tensorflow version', tf.__version__)\n",
        "gpus = tf.config.list_physical_devices('GPU')\n",
        "print(gpus)\n",
        "\n",
        "if gpus:\n",
        "    try:\n",
        "        for gpu in gpus:\n",
        "            tf.config.experimental.set_memory_growth(gpu, True)\n",
        "        logical_gpus = tf.config.list_logical_devices('GPU')\n",
        "        print(len(gpus), \"Physical GPUs,\", len(logical_gpus), \"Logical GPUs\")\n",
        "    except RuntimeError as e:\n",
        "        print(e)"
      ],
      "metadata": {
        "trusted": true,
        "colab": {
          "base_uri": "https://localhost:8080/"
        },
        "id": "AGegUdRnlXs_",
        "outputId": "353998c7-5113-4f36-bd3e-b6fd6c00cbd3"
      },
      "execution_count": null,
      "outputs": [
        {
          "output_type": "stream",
          "name": "stdout",
          "text": [
            "tensorflow version 2.8.2\n",
            "[]\n"
          ]
        }
      ]
    },
    {
      "cell_type": "markdown",
      "source": [
        "## CuQuantum"
      ],
      "metadata": {
        "id": "VvhBsC1jlXtC"
      }
    },
    {
      "cell_type": "code",
      "source": [
        "!wget https://developer.download.nvidia.com/compute/cuquantum/redist/cuquantum/linux-x86_64/cuquantum-linux-x86_64-22.07.1.14-archive.tar.xz\n",
        "!tar -xvf cuquantum-linux-x86_64-22.07.1.14-archive.tar.xz"
      ],
      "metadata": {
        "trusted": true,
        "colab": {
          "base_uri": "https://localhost:8080/"
        },
        "id": "Qe9XADi2lXtI",
        "outputId": "f8468fb2-dbfa-4b00-9971-41551b27c445"
      },
      "execution_count": null,
      "outputs": [
        {
          "output_type": "stream",
          "name": "stdout",
          "text": [
            "--2022-08-12 03:28:41--  https://developer.download.nvidia.com/compute/cuquantum/redist/cuquantum/linux-x86_64/cuquantum-linux-x86_64-22.07.1.14-archive.tar.xz\n",
            "Resolving developer.download.nvidia.com (developer.download.nvidia.com)... 152.195.19.142\n",
            "Connecting to developer.download.nvidia.com (developer.download.nvidia.com)|152.195.19.142|:443... connected.\n",
            "HTTP request sent, awaiting response... 200 OK\n",
            "Length: 11092132 (11M) [application/octet-stream]\n",
            "Saving to: ‘cuquantum-linux-x86_64-22.07.1.14-archive.tar.xz’\n",
            "\n",
            "cuquantum-linux-x86 100%[===================>]  10.58M  --.-KB/s    in 0.1s    \n",
            "\n",
            "2022-08-12 03:28:41 (98.2 MB/s) - ‘cuquantum-linux-x86_64-22.07.1.14-archive.tar.xz’ saved [11092132/11092132]\n",
            "\n",
            "cuquantum-linux-x86_64-22.07.1.14-archive/\n",
            "cuquantum-linux-x86_64-22.07.1.14-archive/include/\n",
            "cuquantum-linux-x86_64-22.07.1.14-archive/include/cutensornet/\n",
            "cuquantum-linux-x86_64-22.07.1.14-archive/include/cutensornet/types.h\n",
            "cuquantum-linux-x86_64-22.07.1.14-archive/include/cutensornet.h\n",
            "cuquantum-linux-x86_64-22.07.1.14-archive/include/custatevec.h\n",
            "cuquantum-linux-x86_64-22.07.1.14-archive/pkg-config/\n",
            "cuquantum-linux-x86_64-22.07.1.14-archive/pkg-config/custatevec-11.4.pc\n",
            "cuquantum-linux-x86_64-22.07.1.14-archive/pkg-config/cutensornet-11.4.pc\n",
            "cuquantum-linux-x86_64-22.07.1.14-archive/LICENSE\n",
            "cuquantum-linux-x86_64-22.07.1.14-archive/docs/\n",
            "cuquantum-linux-x86_64-22.07.1.14-archive/docs/cuQuantum_license.pdf\n",
            "cuquantum-linux-x86_64-22.07.1.14-archive/lib/\n",
            "cuquantum-linux-x86_64-22.07.1.14-archive/lib/libcustatevec.so.1\n",
            "cuquantum-linux-x86_64-22.07.1.14-archive/lib/libcutensornet.so.1\n",
            "cuquantum-linux-x86_64-22.07.1.14-archive/lib/libcustatevec.so\n",
            "cuquantum-linux-x86_64-22.07.1.14-archive/lib/libcustatevec_static.a\n",
            "cuquantum-linux-x86_64-22.07.1.14-archive/lib/libcutensornet.so.1.1.1.14\n",
            "cuquantum-linux-x86_64-22.07.1.14-archive/lib/libcutensornet.so\n",
            "cuquantum-linux-x86_64-22.07.1.14-archive/lib/libcutensornet_static.a\n",
            "cuquantum-linux-x86_64-22.07.1.14-archive/lib/libcustatevec.so.1.1.0.14\n"
          ]
        }
      ]
    },
    {
      "cell_type": "code",
      "source": [
        "!mkdir /usr/local/cuquantum\n",
        "!cp -a /content/cuquantum-linux-x86_64-22.07.1.14-archive/. /usr/local/cuquantum/"
      ],
      "metadata": {
        "id": "u1-S9itIo6Qx"
      },
      "execution_count": null,
      "outputs": []
    },
    {
      "cell_type": "code",
      "source": [
        "import os\n",
        "os.environ['CUQUANTUM_ROOT']='/usr/local/cuquantum'\n",
        "os.environ['CUQUANTUM_DIR']='/usr/local/cuquantum'\n",
        "os.environ['LD_LIBRARY_PATH']=f\"/usr/local/cuquantum/lib:{os.environ['LD_LIBRARY_PATH']}\"\n",
        "os.environ['PATH']=f\"/usr/local/cuquantum/lib:{os.environ['PATH']}\""
      ],
      "metadata": {
        "execution": {
          "iopub.status.busy": "2022-08-11T06:25:32.210567Z",
          "iopub.execute_input": "2022-08-11T06:25:32.211045Z",
          "iopub.status.idle": "2022-08-11T06:25:32.217603Z",
          "shell.execute_reply.started": "2022-08-11T06:25:32.211009Z",
          "shell.execute_reply": "2022-08-11T06:25:32.216268Z"
        },
        "trusted": true,
        "id": "tYZK2g_flXtK"
      },
      "execution_count": null,
      "outputs": []
    },
    {
      "cell_type": "code",
      "source": [
        "!export | grep 'PATH'"
      ],
      "metadata": {
        "colab": {
          "base_uri": "https://localhost:8080/"
        },
        "id": "_cw686PmtWL9",
        "outputId": "71d5d093-31d3-4776-9dad-c2ff9c2a0229"
      },
      "execution_count": null,
      "outputs": [
        {
          "output_type": "stream",
          "name": "stdout",
          "text": [
            "declare -x LD_LIBRARY_PATH=\"/usr/local/cuquantum/lib:/usr/local/nvidia/lib:/usr/local/nvidia/lib64\"\n",
            "declare -x LIBRARY_PATH=\"/usr/local/cuda/lib64/stubs\"\n",
            "declare -x PATH=\"/usr/local/cuquantum/lib:/opt/bin:/usr/local/nvidia/bin:/usr/local/cuda/bin:/usr/local/sbin:/usr/local/bin:/usr/sbin:/usr/bin:/sbin:/bin:/tools/node/bin:/tools/google-cloud-sdk/bin\"\n",
            "declare -x PYTHONPATH=\"/env/python\"\n"
          ]
        }
      ]
    },
    {
      "cell_type": "markdown",
      "source": [
        "### Verify Cuquantum"
      ],
      "metadata": {
        "id": "I87X6AUorWb7"
      }
    },
    {
      "cell_type": "code",
      "source": [
        "%%writefile test.cu\n",
        "#include <cuda_runtime_api.h> // cudaMalloc, cudaMemcpy, etc.\n",
        "#include <cuComplex.h>        // cuDoubleComplex\n",
        "#include <custatevec.h>       // custatevecApplyMatrix\n",
        "#include <stdio.h>            // printf\n",
        "#include <stdlib.h>           // EXIT_FAILURE\n",
        "\n",
        "int main(void) {\n",
        "\n",
        "   const int nIndexBits = 3;\n",
        "   const int nSvSize    = (1 << nIndexBits);\n",
        "   const int nTargets   = 1;\n",
        "   const int nControls  = 2;\n",
        "   const int adjoint    = 0;\n",
        "\n",
        "   int targets[]  = {2};\n",
        "   int controls[] = {0, 1};\n",
        "\n",
        "   cuDoubleComplex h_sv[]        = {{ 0.0, 0.0}, { 0.0, 0.1}, { 0.1, 0.1},\n",
        "                                    { 0.1, 0.2}, { 0.2, 0.2}, { 0.3, 0.3},\n",
        "                                    { 0.3, 0.4}, { 0.4, 0.5}};\n",
        "   cuDoubleComplex h_sv_result[] = {{ 0.0, 0.0}, { 0.0, 0.1}, { 0.1, 0.1},\n",
        "                                    { 0.4, 0.5}, { 0.2, 0.2}, { 0.3, 0.3},\n",
        "                                    { 0.3, 0.4}, { 0.1, 0.2}};\n",
        "   cuDoubleComplex matrix[] = {{0.0, 0.0}, {1.0, 0.0},\n",
        "                               {1.0, 0.0}, {0.0, 0.0}};\n",
        "\n",
        "\n",
        "   cuDoubleComplex *d_sv;\n",
        "   cudaMalloc((void**)&d_sv, nSvSize * sizeof(cuDoubleComplex));\n",
        "\n",
        "   cudaMemcpy(d_sv, h_sv, nSvSize * sizeof(cuDoubleComplex),\n",
        "              cudaMemcpyHostToDevice);\n",
        "\n",
        "   //--------------------------------------------------------------------------\n",
        "\n",
        "   // custatevec handle initialization\n",
        "   custatevecHandle_t handle;\n",
        "\n",
        "   custatevecCreate(&handle);\n",
        "\n",
        "   void* extraWorkspace = nullptr;\n",
        "   size_t extraWorkspaceSizeInBytes = 0;\n",
        "\n",
        "   // check the size of external workspace\n",
        "   custatevecApplyMatrixGetWorkspaceSize(\n",
        "       handle, CUDA_C_64F, nIndexBits, matrix, CUDA_C_64F,\n",
        "       CUSTATEVEC_MATRIX_LAYOUT_ROW, adjoint, nTargets, nControls,\n",
        "       CUSTATEVEC_COMPUTE_64F, &extraWorkspaceSizeInBytes);\n",
        "\n",
        "   // allocate external workspace if necessary\n",
        "   if (extraWorkspaceSizeInBytes > 0)\n",
        "       cudaMalloc(&extraWorkspace, extraWorkspaceSizeInBytes);\n",
        "\n",
        "   // apply gate\n",
        "   custatevecApplyMatrix(\n",
        "       handle, d_sv, CUDA_C_64F, nIndexBits, matrix, CUDA_C_64F,\n",
        "       CUSTATEVEC_MATRIX_LAYOUT_ROW, adjoint, targets, nTargets, controls,\n",
        "       nullptr, nControls, CUSTATEVEC_COMPUTE_64F,\n",
        "       extraWorkspace, extraWorkspaceSizeInBytes);\n",
        "\n",
        "   // destroy handle\n",
        "   custatevecDestroy(handle);\n",
        "\n",
        "   //--------------------------------------------------------------------------\n",
        "\n",
        "   cudaMemcpy(h_sv, d_sv, nSvSize * sizeof(cuDoubleComplex),\n",
        "              cudaMemcpyDeviceToHost);\n",
        "\n",
        "   bool correct = true;\n",
        "   for (int i = 0; i < nSvSize; i++) {\n",
        "       if ((h_sv[i].x != h_sv_result[i].x) ||\n",
        "           (h_sv[i].y != h_sv_result[i].y)) {\n",
        "           correct = false;\n",
        "           break;\n",
        "       }\n",
        "   }\n",
        "\n",
        "   if (correct)\n",
        "       printf(\"example PASSED\\n\");\n",
        "   else\n",
        "       printf(\"example FAILED: wrong result\\n\");\n",
        "\n",
        "   cudaFree(d_sv);\n",
        "   if (extraWorkspaceSizeInBytes)\n",
        "       cudaFree(extraWorkspace);\n",
        "\n",
        "   return EXIT_SUCCESS;\n",
        "}"
      ],
      "metadata": {
        "colab": {
          "base_uri": "https://localhost:8080/"
        },
        "id": "OvtccB_grbLO",
        "outputId": "5e1bba12-b138-4452-98f8-451c7970c003"
      },
      "execution_count": null,
      "outputs": [
        {
          "output_type": "stream",
          "name": "stdout",
          "text": [
            "Writing test.cu\n"
          ]
        }
      ]
    },
    {
      "cell_type": "code",
      "source": [
        "!nvcc test.cu -I${CUQUANTUM_ROOT}/include -L${CUQUANTUM_ROOT}/lib -lcustatevec -o test\n",
        "!./test"
      ],
      "metadata": {
        "colab": {
          "base_uri": "https://localhost:8080/"
        },
        "id": "nRyA9dFnrfOJ",
        "outputId": "2fdadaa8-6893-4fdb-d9a3-03590ca25045"
      },
      "execution_count": null,
      "outputs": [
        {
          "output_type": "stream",
          "name": "stdout",
          "text": [
            "example FAILED: wrong result\n"
          ]
        }
      ]
    },
    {
      "cell_type": "markdown",
      "source": [
        "## QSimCirq"
      ],
      "metadata": {
        "id": "E4wlXW-JlXtQ"
      }
    },
    {
      "cell_type": "code",
      "source": [
        "!pip install -q pybind11"
      ],
      "metadata": {
        "id": "Wx6LAHQVqk0u",
        "colab": {
          "base_uri": "https://localhost:8080/"
        },
        "outputId": "8d0c47a8-a48d-4638-e1a7-670d8f0bba9b"
      },
      "execution_count": null,
      "outputs": [
        {
          "output_type": "stream",
          "name": "stdout",
          "text": [
            "\u001b[?25l\r\u001b[K     |█▌                              | 10 kB 31.3 MB/s eta 0:00:01\r\u001b[K     |███                             | 20 kB 39.0 MB/s eta 0:00:01\r\u001b[K     |████▋                           | 30 kB 43.3 MB/s eta 0:00:01\r\u001b[K     |██████▏                         | 40 kB 27.9 MB/s eta 0:00:01\r\u001b[K     |███████▊                        | 51 kB 21.3 MB/s eta 0:00:01\r\u001b[K     |█████████▏                      | 61 kB 24.3 MB/s eta 0:00:01\r\u001b[K     |██████████▊                     | 71 kB 24.7 MB/s eta 0:00:01\r\u001b[K     |████████████▎                   | 81 kB 25.6 MB/s eta 0:00:01\r\u001b[K     |█████████████▉                  | 92 kB 27.7 MB/s eta 0:00:01\r\u001b[K     |███████████████▍                | 102 kB 29.5 MB/s eta 0:00:01\r\u001b[K     |█████████████████               | 112 kB 29.5 MB/s eta 0:00:01\r\u001b[K     |██████████████████▍             | 122 kB 29.5 MB/s eta 0:00:01\r\u001b[K     |████████████████████            | 133 kB 29.5 MB/s eta 0:00:01\r\u001b[K     |█████████████████████▌          | 143 kB 29.5 MB/s eta 0:00:01\r\u001b[K     |███████████████████████         | 153 kB 29.5 MB/s eta 0:00:01\r\u001b[K     |████████████████████████▋       | 163 kB 29.5 MB/s eta 0:00:01\r\u001b[K     |██████████████████████████▏     | 174 kB 29.5 MB/s eta 0:00:01\r\u001b[K     |███████████████████████████▋    | 184 kB 29.5 MB/s eta 0:00:01\r\u001b[K     |█████████████████████████████▏  | 194 kB 29.5 MB/s eta 0:00:01\r\u001b[K     |██████████████████████████████▊ | 204 kB 29.5 MB/s eta 0:00:01\r\u001b[K     |████████████████████████████████| 213 kB 29.5 MB/s \n",
            "\u001b[?25h"
          ]
        }
      ]
    },
    {
      "cell_type": "code",
      "source": [
        "!git clone https://github.com/quantumlib/qsim.git\n",
        "%cd qsim\n",
        "!make -j8 \n",
        "!pip install .\n",
        "%cd .."
      ],
      "metadata": {
        "trusted": true,
        "colab": {
          "base_uri": "https://localhost:8080/",
          "height": 1000
        },
        "id": "kaPRHUu5lXtS",
        "outputId": "82c33bb7-83cd-464f-fab0-323afc71e133"
      },
      "execution_count": null,
      "outputs": [
        {
          "output_type": "stream",
          "name": "stdout",
          "text": [
            "Cloning into 'qsim'...\n",
            "remote: Enumerating objects: 7150, done.\u001b[K\n",
            "remote: Counting objects: 100% (295/295), done.\u001b[K\n",
            "remote: Compressing objects: 100% (160/160), done.\u001b[K\n",
            "remote: Total 7150 (delta 143), reused 241 (delta 119), pack-reused 6855\u001b[K\n",
            "Receiving objects: 100% (7150/7150), 5.90 MiB | 26.26 MiB/s, done.\n",
            "Resolving deltas: 100% (4746/4746), done.\n",
            "/content/qsim\n",
            "make -C apps/ qsim\n",
            "make -C pybind_interface/ pybind\n",
            "make[1]: Entering directory '/content/qsim/apps'\n",
            "make[1]: Entering directory '/content/qsim/pybind_interface'\n",
            "g++ basic/pybind_main_basic.cpp -o ../qsimcirq/qsim_basic`python3-config --extension-suffix` -O3 -fopenmp -Wall -shared -std=c++17 -fPIC `python3 -m pybind11 --includes`\n",
            "nvcc cuda/pybind_main_cuda.cpp -o ../qsimcirq/qsim_cuda`python3-config --extension-suffix` -O3 -std=c++14 -x cu -Xcompiler \"-Wall -shared -fPIC `python3 -m pybind11 --includes`\"\n",
            "nvcc custatevec/pybind_main_custatevec.cpp -o ../qsimcirq/qsim_custatevec`python3-config --extension-suffix` -O3 -I/usr/local/cuquantum/include -L/usr/local/cuquantum/lib -L/usr/local/cuquantum/lib64 -lcustatevec -lcublas -std=c++14 -x cu -Xcompiler \"-Wall -shared -fPIC `python3 -m pybind11 --includes`\"\n",
            "nvcc decide/decide.cpp -D__CUSTATEVEC__ -o ../qsimcirq/qsim_decide`python3-config --extension-suffix` -O3 -std=c++14 -x cu -Xcompiler \"-Wall -shared -fPIC `python3 -m pybind11 --includes`\"\n",
            "g++ -o ./qsimh_base.x qsimh_base.cc -O3 -fopenmp -march=native\n",
            "g++ -o ./qsim_von_neumann.x qsim_von_neumann.cc -O3 -fopenmp -march=native\n",
            "g++ -o ./qsim_amplitudes.x qsim_amplitudes.cc -O3 -fopenmp -march=native\n",
            "g++ -o ./qsimh_amplitudes.x qsimh_amplitudes.cc -O3 -fopenmp -march=native\n",
            "g++ -o ./qsim_base.x qsim_base.cc -O3 -fopenmp -march=native\n",
            "make[1]: Leaving directory '/content/qsim/apps'\n",
            "g++ sse/pybind_main_sse.cpp -o ../qsimcirq/qsim_sse`python3-config --extension-suffix` -O3 -fopenmp -msse4.1 -Wall -shared -std=c++17 -fPIC `python3 -m pybind11 --includes`\n",
            "g++ avx2/pybind_main_avx2.cpp -o ../qsimcirq/qsim_avx2`python3-config --extension-suffix` -O3 -fopenmp -mavx2 -mfma -Wall -shared -std=c++17 -fPIC `python3 -m pybind11 --includes`\n",
            "g++ avx512/pybind_main_avx512.cpp -o ../qsimcirq/qsim_avx512`python3-config --extension-suffix` -O3 -fopenmp -mavx512f -mbmi2 -Wall -shared -std=c++17 -fPIC `python3 -m pybind11 --includes`\n",
            "make[1]: Leaving directory '/content/qsim/pybind_interface'\n",
            "Looking in indexes: https://pypi.org/simple, https://us-python.pkg.dev/colab-wheels/public/simple/\n",
            "Processing /content/qsim\n",
            "\u001b[33m  DEPRECATION: A future pip version will change local packages to be built in-place without first copying to a temporary directory. We recommend you use --use-feature=in-tree-build to test your packages with this new behavior before it becomes the default.\n",
            "   pip 21.3 will remove support for this functionality. You can find discussion regarding this at https://github.com/pypa/pip/issues/7555.\u001b[0m\n",
            "Requirement already satisfied: absl-py in /usr/local/lib/python3.7/dist-packages (from qsimcirq==0.14.1.dev20220804) (1.2.0)\n",
            "Collecting cirq-core~=1.0\n",
            "  Downloading cirq_core-1.0.0-py3-none-any.whl (1.8 MB)\n",
            "\u001b[K     |████████████████████████████████| 1.8 MB 31.6 MB/s \n",
            "\u001b[?25hRequirement already satisfied: numpy~=1.16 in /usr/local/lib/python3.7/dist-packages (from qsimcirq==0.14.1.dev20220804) (1.21.6)\n",
            "Requirement already satisfied: pybind11 in /usr/local/lib/python3.7/dist-packages (from qsimcirq==0.14.1.dev20220804) (2.10.0)\n",
            "Requirement already satisfied: typing_extensions in /usr/local/lib/python3.7/dist-packages (from qsimcirq==0.14.1.dev20220804) (4.1.1)\n",
            "Requirement already satisfied: pandas in /usr/local/lib/python3.7/dist-packages (from cirq-core~=1.0->qsimcirq==0.14.1.dev20220804) (1.3.5)\n",
            "Requirement already satisfied: sortedcontainers~=2.0 in /usr/local/lib/python3.7/dist-packages (from cirq-core~=1.0->qsimcirq==0.14.1.dev20220804) (2.4.0)\n",
            "Requirement already satisfied: scipy in /usr/local/lib/python3.7/dist-packages (from cirq-core~=1.0->qsimcirq==0.14.1.dev20220804) (1.7.3)\n",
            "Collecting duet~=0.2.7\n",
            "  Downloading duet-0.2.7-py3-none-any.whl (28 kB)\n",
            "Requirement already satisfied: sympy in /usr/local/lib/python3.7/dist-packages (from cirq-core~=1.0->qsimcirq==0.14.1.dev20220804) (1.7.1)\n",
            "Requirement already satisfied: matplotlib~=3.0 in /usr/local/lib/python3.7/dist-packages (from cirq-core~=1.0->qsimcirq==0.14.1.dev20220804) (3.2.2)\n",
            "Requirement already satisfied: networkx~=2.4 in /usr/local/lib/python3.7/dist-packages (from cirq-core~=1.0->qsimcirq==0.14.1.dev20220804) (2.6.3)\n",
            "Requirement already satisfied: tqdm in /usr/local/lib/python3.7/dist-packages (from cirq-core~=1.0->qsimcirq==0.14.1.dev20220804) (4.64.0)\n",
            "Collecting backports.cached-property~=1.0.1\n",
            "  Downloading backports.cached_property-1.0.2-py3-none-any.whl (6.1 kB)\n",
            "Collecting typing_extensions\n",
            "  Downloading typing_extensions-3.10.0.0-py3-none-any.whl (26 kB)\n",
            "Requirement already satisfied: cycler>=0.10 in /usr/local/lib/python3.7/dist-packages (from matplotlib~=3.0->cirq-core~=1.0->qsimcirq==0.14.1.dev20220804) (0.11.0)\n",
            "Requirement already satisfied: python-dateutil>=2.1 in /usr/local/lib/python3.7/dist-packages (from matplotlib~=3.0->cirq-core~=1.0->qsimcirq==0.14.1.dev20220804) (2.8.2)\n",
            "Requirement already satisfied: kiwisolver>=1.0.1 in /usr/local/lib/python3.7/dist-packages (from matplotlib~=3.0->cirq-core~=1.0->qsimcirq==0.14.1.dev20220804) (1.4.4)\n",
            "Requirement already satisfied: pyparsing!=2.0.4,!=2.1.2,!=2.1.6,>=2.0.1 in /usr/local/lib/python3.7/dist-packages (from matplotlib~=3.0->cirq-core~=1.0->qsimcirq==0.14.1.dev20220804) (3.0.9)\n",
            "Requirement already satisfied: six>=1.5 in /usr/local/lib/python3.7/dist-packages (from python-dateutil>=2.1->matplotlib~=3.0->cirq-core~=1.0->qsimcirq==0.14.1.dev20220804) (1.15.0)\n",
            "Requirement already satisfied: pytz>=2017.3 in /usr/local/lib/python3.7/dist-packages (from pandas->cirq-core~=1.0->qsimcirq==0.14.1.dev20220804) (2022.1)\n",
            "Requirement already satisfied: mpmath>=0.19 in /usr/local/lib/python3.7/dist-packages (from sympy->cirq-core~=1.0->qsimcirq==0.14.1.dev20220804) (1.2.1)\n",
            "Building wheels for collected packages: qsimcirq\n",
            "  Building wheel for qsimcirq (setup.py) ... \u001b[?25l\u001b[?25hdone\n",
            "  Created wheel for qsimcirq: filename=qsimcirq-0.14.1.dev20220804-cp37-cp37m-linux_x86_64.whl size=2983708 sha256=bc2e0ca59bd7baab57a1326e02da4dba28b7c92f500725078c2b60cead8b4533\n",
            "  Stored in directory: /tmp/pip-ephem-wheel-cache-cwzpyg9f/wheels/5f/1c/87/8ea64a977673d881c9cd92954f6a6d3d415b0fb058bcdea205\n",
            "Successfully built qsimcirq\n",
            "Installing collected packages: typing-extensions, duet, backports.cached-property, cirq-core, qsimcirq\n",
            "  Attempting uninstall: typing-extensions\n",
            "    Found existing installation: typing-extensions 4.1.1\n",
            "    Uninstalling typing-extensions-4.1.1:\n",
            "      Successfully uninstalled typing-extensions-4.1.1\n",
            "Successfully installed backports.cached-property-1.0.2 cirq-core-1.0.0 duet-0.2.7 qsimcirq-0.14.1.dev20220804 typing-extensions-3.10.0.0\n"
          ]
        },
        {
          "output_type": "display_data",
          "data": {
            "application/vnd.colab-display-data+json": {
              "pip_warning": {
                "packages": [
                  "typing_extensions"
                ]
              }
            }
          },
          "metadata": {}
        },
        {
          "output_type": "stream",
          "name": "stdout",
          "text": [
            "/content\n"
          ]
        }
      ]
    },
    {
      "cell_type": "code",
      "source": [
        "import qsimcirq\n",
        "print(qsimcirq.qsim_gpu)"
      ],
      "metadata": {
        "execution": {
          "iopub.status.busy": "2022-08-11T06:25:11.502752Z",
          "iopub.execute_input": "2022-08-11T06:25:11.503231Z",
          "iopub.status.idle": "2022-08-11T06:25:11.526744Z",
          "shell.execute_reply.started": "2022-08-11T06:25:11.503194Z",
          "shell.execute_reply": "2022-08-11T06:25:11.525664Z"
        },
        "trusted": true,
        "colab": {
          "base_uri": "https://localhost:8080/"
        },
        "id": "SnHtbMTOlXtV",
        "outputId": "e2c396a0-802a-4128-9173-3b6ef62dcd13"
      },
      "execution_count": null,
      "outputs": [
        {
          "output_type": "stream",
          "name": "stdout",
          "text": [
            "<module 'qsimcirq.qsim_cuda' from '/usr/local/lib/python3.7/dist-packages/qsimcirq/qsim_cuda.cpython-37m-x86_64-linux-gnu.so'>\n"
          ]
        }
      ]
    },
    {
      "cell_type": "markdown",
      "source": [
        "### Verify Qsim with cuquantum"
      ],
      "metadata": {
        "id": "lCtww23XlXtX"
      }
    },
    {
      "cell_type": "code",
      "source": [
        "# Import Cirq and qsim\n",
        "import cirq\n",
        "import qsimcirq\n",
        "\n",
        "# Instantiate qubits and create a circuit\n",
        "q0, q1 = cirq.LineQubit.range(2)\n",
        "circuit = cirq.Circuit(cirq.H(q0), cirq.CX(q0, q1))\n",
        "\n",
        "# Instantiate a simulator that uses the GPU\n",
        "gpu_options = qsimcirq.QSimOptions(use_gpu=True, gpu_mode=1)\n",
        "qsim_simulator = qsimcirq.QSimSimulator(qsim_options=gpu_options)\n",
        "\n",
        "# Run the simulation\n",
        "print(\"Running simulation for the following circuit:\")\n",
        "print(circuit)\n",
        "\n",
        "qsim_results = qsim_simulator.compute_amplitudes(\n",
        "    circuit, bitstrings=[0b00, 0b01])\n",
        "\n",
        "print(\"qsim results:\")\n",
        "print(qsim_results)"
      ],
      "metadata": {
        "trusted": true,
        "colab": {
          "base_uri": "https://localhost:8080/"
        },
        "id": "HoZhV7t3lXti",
        "outputId": "96456914-e457-4b8f-def5-8e0f388d041e"
      },
      "execution_count": null,
      "outputs": [
        {
          "output_type": "stream",
          "name": "stdout",
          "text": [
            "Running simulation for the following circuit:\n",
            "0: ───H───@───\n",
            "          │\n",
            "1: ───────X───\n",
            "qsim results:\n",
            "[(0.7071067690849304+0j), 0j]\n"
          ]
        }
      ]
    },
    {
      "cell_type": "markdown",
      "source": [
        "## Imports"
      ],
      "metadata": {
        "id": "ym8JhuhmlXtj"
      }
    },
    {
      "cell_type": "code",
      "source": [
        "from sklearn.decomposition import PCA\n",
        "import tensorflow as tf\n",
        "import tensorflow_quantum as tfq\n",
        "\n",
        "import cirq\n",
        "import sympy\n",
        "import numpy as np\n",
        "import seaborn as sns\n",
        "import collections\n",
        "import time\n",
        "\n",
        "# visualization tools\n",
        "%matplotlib inline\n",
        "import matplotlib.pyplot as plt\n",
        "from cirq.contrib.svg import SVGCircuit"
      ],
      "metadata": {
        "execution": {
          "iopub.status.busy": "2022-08-11T06:24:14.283455Z",
          "iopub.execute_input": "2022-08-11T06:24:14.284170Z",
          "iopub.status.idle": "2022-08-11T06:24:18.346760Z",
          "shell.execute_reply.started": "2022-08-11T06:24:14.284079Z",
          "shell.execute_reply": "2022-08-11T06:24:18.344913Z"
        },
        "trusted": true,
        "id": "4e054A3HlXtk"
      },
      "execution_count": null,
      "outputs": []
    },
    {
      "cell_type": "code",
      "source": [
        "n_qubits = 20\n",
        "n_layers = 1\n",
        "n_train_samples_per_class = 1000\n",
        "n_test_samples_per_class = 200"
      ],
      "metadata": {
        "trusted": true,
        "id": "t9YyBr_1lXtk"
      },
      "execution_count": null,
      "outputs": []
    },
    {
      "cell_type": "code",
      "source": [
        "(x_train, y_train), (x_test, y_test) = tf.keras.datasets.mnist.load_data()\n",
        "\n",
        "# Rescale the images from [0,255] to the [0.0,1.0] range.\n",
        "x_train, x_test = x_train[..., np.newaxis]/255.0, x_test[..., np.newaxis]/255.0\n",
        "\n",
        "print(\"Number of original training examples:\", len(x_train))\n",
        "print(\"Number of original test examples:\", len(x_test))"
      ],
      "metadata": {
        "trusted": true,
        "colab": {
          "base_uri": "https://localhost:8080/"
        },
        "id": "_avGa4MJlXtl",
        "outputId": "c62fd9ec-d0cf-4150-bc58-6d9809ff372f"
      },
      "execution_count": null,
      "outputs": [
        {
          "output_type": "stream",
          "name": "stdout",
          "text": [
            "Number of original training examples: 60000\n",
            "Number of original test examples: 10000\n"
          ]
        }
      ]
    },
    {
      "cell_type": "code",
      "source": [
        "def filter_36(x, y):\n",
        "    keep = (y == 3) | (y == 6)\n",
        "    x, y = x[keep], y[keep]\n",
        "    y = y == 3\n",
        "    return x,y"
      ],
      "metadata": {
        "trusted": true,
        "id": "GhaQe4xSlXtm"
      },
      "execution_count": null,
      "outputs": []
    },
    {
      "cell_type": "code",
      "source": [
        "x_train, y_train = filter_36(x_train, y_train)\n",
        "x_test, y_test = filter_36(x_test, y_test)\n",
        "\n",
        "x_train = np.concatenate((x_train[y_train==0][:n_train_samples_per_class], x_train[y_train==1][:n_train_samples_per_class]))\n",
        "y_train = np.concatenate((y_train[y_train==0][:n_train_samples_per_class], y_train[y_train==1][:n_train_samples_per_class]))\n",
        "\n",
        "x_test = np.concatenate((x_test[y_test==0][:n_test_samples_per_class], x_test[y_test==1][:n_test_samples_per_class]))\n",
        "y_test = np.concatenate((y_test[y_test==0][:n_test_samples_per_class], y_test[y_test==1][:n_test_samples_per_class]))\n",
        "\n",
        "num_3 = x_train[y_train == 0].shape[0]\n",
        "num_6 = x_train[y_train == 1].shape[0]\n",
        "\n",
        "print(\"Number of filtered training examples:\", len(x_train))\n",
        "print(\"Number of unique 3s: \", num_3)\n",
        "print(\"Number of unique 6s: \", num_6)\n",
        "print(\"Number of filtered test examples:\", len(x_test))"
      ],
      "metadata": {
        "trusted": true,
        "colab": {
          "base_uri": "https://localhost:8080/"
        },
        "id": "Ee3bU1K9lXtn",
        "outputId": "42dade9e-9251-482f-94d4-0e7f0f2ce6ab"
      },
      "execution_count": null,
      "outputs": [
        {
          "output_type": "stream",
          "name": "stdout",
          "text": [
            "Number of filtered training examples: 2000\n",
            "Number of unique 3s:  1000\n",
            "Number of unique 6s:  1000\n",
            "Number of filtered test examples: 400\n"
          ]
        }
      ]
    },
    {
      "cell_type": "code",
      "source": [
        "def pca(n, x_train, x_test):\n",
        "    dims = x_train.shape[1:]\n",
        "    pca_obj = PCA(n_components=n)\n",
        "    x_train = x_train.reshape(-1, np.prod(dims))\n",
        "    x_test = x_test.reshape(-1, np.prod(dims))\n",
        "\n",
        "    x_train = pca_obj.fit_transform(x_train)\n",
        "    cumsum = np.cumsum(pca_obj.explained_variance_ratio_ * 100)[-1]\n",
        "    print(\"Cumulative sum on train :\", cumsum)\n",
        "\n",
        "    x_test = pca_obj.transform(x_test)\n",
        "    cumsum = np.cumsum(pca_obj.explained_variance_ratio_ * 100)[-1]\n",
        "    print(\"Cumulative sum on test:\", cumsum)\n",
        "    \n",
        "    return x_train, x_test"
      ],
      "metadata": {
        "trusted": true,
        "id": "LfXKEat-lXtp"
      },
      "execution_count": null,
      "outputs": []
    },
    {
      "cell_type": "code",
      "source": [
        "x_train_small, x_test_small = pca(n_qubits,x_train,x_test)"
      ],
      "metadata": {
        "trusted": true,
        "colab": {
          "base_uri": "https://localhost:8080/"
        },
        "id": "7hygRAMFlXtq",
        "outputId": "54c8b53e-f59a-439d-dfbe-4e19e56172ce"
      },
      "execution_count": null,
      "outputs": [
        {
          "output_type": "stream",
          "name": "stdout",
          "text": [
            "Cumulative sum on train : 70.06794359696323\n",
            "Cumulative sum on test: 70.06794359696323\n"
          ]
        }
      ]
    },
    {
      "cell_type": "code",
      "source": [
        "y_train = tf.keras.utils.to_categorical(y_train, num_classes=2)\n",
        "y_test = tf.keras.utils.to_categorical(y_test, num_classes=2)"
      ],
      "metadata": {
        "trusted": true,
        "id": "2z8V7IOZlXtr"
      },
      "execution_count": null,
      "outputs": []
    },
    {
      "cell_type": "code",
      "source": [
        "def one_qubit_rotation(qubit, symbols):\n",
        "    \"\"\"\n",
        "    Returns Cirq gates that apply a rotation of the bloch sphere about the X,\n",
        "    Y and Z axis, specified by the values in `symbols`.\n",
        "    \"\"\"\n",
        "    return [cirq.rx(symbols[0])(qubit),\n",
        "            cirq.ry(symbols[1])(qubit),\n",
        "            cirq.rz(symbols[2])(qubit)]\n",
        "\n",
        "def entangling_layer(qubits):\n",
        "    \"\"\"\n",
        "    Returns a layer of CZ entangling gates on `qubits` (arranged in a circular topology).\n",
        "    \"\"\"\n",
        "    if len(qubits) == 1:\n",
        "        return []\n",
        "    cz_ops = [cirq.CZ(q0, q1) for q0, q1 in zip(qubits, qubits[1:])]\n",
        "    cz_ops += ([cirq.CZ(qubits[0], qubits[-1])] if len(qubits) != 2 else [])\n",
        "    return cz_ops"
      ],
      "metadata": {
        "trusted": true,
        "id": "i5rBaY_NlXtr"
      },
      "execution_count": null,
      "outputs": []
    },
    {
      "cell_type": "code",
      "source": [
        "def generate_circuit(n_qubits, n_layers):\n",
        "    \"\"\"Create a QNN model circuit and readout operation to go along with it.\"\"\"\n",
        "    qubits = cirq.GridQubit.rect(1, n_qubits)\n",
        "    \n",
        "    # Sympy symbols for variational angles\n",
        "    params = sympy.symbols(f'θ(0:{3*(n_layers+1)*n_qubits})')\n",
        "    params = np.asarray(params).reshape((n_layers+1, n_qubits, 3))\n",
        "\n",
        "    # Sympy symbols for encoding angles\n",
        "    inputs = sympy.symbols(f'x(0:{n_layers})'+f'_(0:{n_qubits})')\n",
        "    inputs = np.asarray(inputs).reshape((n_layers, n_qubits))\n",
        "\n",
        "    # Define circuit\n",
        "    circuit = cirq.Circuit()\n",
        "    for l in range(n_layers):\n",
        "        # Variational layer\n",
        "        circuit += cirq.Circuit(one_qubit_rotation(q, params[l, i]) for i, q in enumerate(qubits))\n",
        "        circuit += entangling_layer(qubits)\n",
        "        # Encoding layer\n",
        "        circuit += cirq.Circuit(cirq.rx(inputs[l, i])(q) for i, q in enumerate(qubits))\n",
        "\n",
        "    # Last varitional layer\n",
        "    circuit += cirq.Circuit(one_qubit_rotation(q, params[n_layers, i]) for i,q in enumerate(qubits))\n",
        "    \n",
        "    observables = []\n",
        "    for i in range(n_qubits):\n",
        "        observables += [\n",
        "            cirq.X(qubits[i]),\n",
        "            cirq.Y(qubits[i]),\n",
        "            cirq.Z(qubits[i])\n",
        "        ]\n",
        "\n",
        "    return circuit, observables, list(params.flat), list(inputs.flat)"
      ],
      "metadata": {
        "trusted": true,
        "id": "-6eHCvGzlXts"
      },
      "execution_count": null,
      "outputs": []
    },
    {
      "cell_type": "code",
      "source": [
        "circuit, _,_, _ = generate_circuit(n_qubits,n_layers)\n",
        "circuit"
      ],
      "metadata": {
        "trusted": true,
        "colab": {
          "base_uri": "https://localhost:8080/",
          "height": 709
        },
        "id": "VJjbIOuulXtt",
        "outputId": "2d16c471-63b0-4c10-ccdc-a6ac55bf0e28"
      },
      "execution_count": null,
      "outputs": [
        {
          "output_type": "execute_result",
          "data": {
            "text/plain": [
              "(0, 0): ────Rx(θ0)────Ry(θ1)────Rz(θ2)────@───────────────────────────────────────────────────────────────────────────@───Rx(x0_0)────Rx(θ60)────Ry(θ61)────Rz(θ62)────\n",
              "                                          │                                                                           │\n",
              "(0, 1): ────Rx(θ3)────Ry(θ4)────Rz(θ5)────@───@───────────────────────────────────────────────────────────────────────┼───Rx(x0_1)────Rx(θ63)────Ry(θ64)────Rz(θ65)────\n",
              "                                              │                                                                       │\n",
              "(0, 2): ────Rx(θ6)────Ry(θ7)────Rz(θ8)────────@───@───────────────────────────────────────────────────────────────────┼───Rx(x0_2)────Rx(θ66)────Ry(θ67)────Rz(θ68)────\n",
              "                                                  │                                                                   │\n",
              "(0, 3): ────Rx(θ9)────Ry(θ10)───Rz(θ11)───────────@───@───────────────────────────────────────────────────────────────┼───Rx(x0_3)────Rx(θ69)────Ry(θ70)────Rz(θ71)────\n",
              "                                                      │                                                               │\n",
              "(0, 4): ────Rx(θ12)───Ry(θ13)───Rz(θ14)───────────────@───@───────────────────────────────────────────────────────────┼───Rx(x0_4)────Rx(θ72)────Ry(θ73)────Rz(θ74)────\n",
              "                                                          │                                                           │\n",
              "(0, 5): ────Rx(θ15)───Ry(θ16)───Rz(θ17)───────────────────@───@───────────────────────────────────────────────────────┼───Rx(x0_5)────Rx(θ75)────Ry(θ76)────Rz(θ77)────\n",
              "                                                              │                                                       │\n",
              "(0, 6): ────Rx(θ18)───Ry(θ19)───Rz(θ20)───────────────────────@───@───────────────────────────────────────────────────┼───Rx(x0_6)────Rx(θ78)────Ry(θ79)────Rz(θ80)────\n",
              "                                                                  │                                                   │\n",
              "(0, 7): ────Rx(θ21)───Ry(θ22)───Rz(θ23)───────────────────────────@───@───────────────────────────────────────────────┼───Rx(x0_7)────Rx(θ81)────Ry(θ82)────Rz(θ83)────\n",
              "                                                                      │                                               │\n",
              "(0, 8): ────Rx(θ24)───Ry(θ25)───Rz(θ26)───────────────────────────────@───@───────────────────────────────────────────┼───Rx(x0_8)────Rx(θ84)────Ry(θ85)────Rz(θ86)────\n",
              "                                                                          │                                           │\n",
              "(0, 9): ────Rx(θ27)───Ry(θ28)───Rz(θ29)───────────────────────────────────@───@───────────────────────────────────────┼───Rx(x0_9)────Rx(θ87)────Ry(θ88)────Rz(θ89)────\n",
              "                                                                              │                                       │\n",
              "(0, 10): ───Rx(θ30)───Ry(θ31)───Rz(θ32)───────────────────────────────────────@───@───────────────────────────────────┼───Rx(x0_10)───Rx(θ90)────Ry(θ91)────Rz(θ92)────\n",
              "                                                                                  │                                   │\n",
              "(0, 11): ───Rx(θ33)───Ry(θ34)───Rz(θ35)───────────────────────────────────────────@───@───────────────────────────────┼───Rx(x0_11)───Rx(θ93)────Ry(θ94)────Rz(θ95)────\n",
              "                                                                                      │                               │\n",
              "(0, 12): ───Rx(θ36)───Ry(θ37)───Rz(θ38)───────────────────────────────────────────────@───@───────────────────────────┼───Rx(x0_12)───Rx(θ96)────Ry(θ97)────Rz(θ98)────\n",
              "                                                                                          │                           │\n",
              "(0, 13): ───Rx(θ39)───Ry(θ40)───Rz(θ41)───────────────────────────────────────────────────@───@───────────────────────┼───Rx(x0_13)───Rx(θ99)────Ry(θ100)───Rz(θ101)───\n",
              "                                                                                              │                       │\n",
              "(0, 14): ───Rx(θ42)───Ry(θ43)───Rz(θ44)───────────────────────────────────────────────────────@───@───────────────────┼───Rx(x0_14)───Rx(θ102)───Ry(θ103)───Rz(θ104)───\n",
              "                                                                                                  │                   │\n",
              "(0, 15): ───Rx(θ45)───Ry(θ46)───Rz(θ47)───────────────────────────────────────────────────────────@───@───────────────┼───Rx(x0_15)───Rx(θ105)───Ry(θ106)───Rz(θ107)───\n",
              "                                                                                                      │               │\n",
              "(0, 16): ───Rx(θ48)───Ry(θ49)───Rz(θ50)───────────────────────────────────────────────────────────────@───@───────────┼───Rx(x0_16)───Rx(θ108)───Ry(θ109)───Rz(θ110)───\n",
              "                                                                                                          │           │\n",
              "(0, 17): ───Rx(θ51)───Ry(θ52)───Rz(θ53)───────────────────────────────────────────────────────────────────@───@───────┼───Rx(x0_17)───Rx(θ111)───Ry(θ112)───Rz(θ113)───\n",
              "                                                                                                              │       │\n",
              "(0, 18): ───Rx(θ54)───Ry(θ55)───Rz(θ56)───────────────────────────────────────────────────────────────────────@───@───┼───Rx(x0_18)───Rx(θ114)───Ry(θ115)───Rz(θ116)───\n",
              "                                                                                                                  │   │\n",
              "(0, 19): ───Rx(θ57)───Ry(θ58)───Rz(θ59)───────────────────────────────────────────────────────────────────────────@───@───Rx(x0_19)───Rx(θ117)───Ry(θ118)───Rz(θ119)───"
            ],
            "text/html": [
              "<pre style=\"overflow: auto; white-space: pre;\">(0, 0): ────Rx(θ0)────Ry(θ1)────Rz(θ2)────@───────────────────────────────────────────────────────────────────────────@───Rx(x0_0)────Rx(θ60)────Ry(θ61)────Rz(θ62)────\n",
              "                                          │                                                                           │\n",
              "(0, 1): ────Rx(θ3)────Ry(θ4)────Rz(θ5)────@───@───────────────────────────────────────────────────────────────────────┼───Rx(x0_1)────Rx(θ63)────Ry(θ64)────Rz(θ65)────\n",
              "                                              │                                                                       │\n",
              "(0, 2): ────Rx(θ6)────Ry(θ7)────Rz(θ8)────────@───@───────────────────────────────────────────────────────────────────┼───Rx(x0_2)────Rx(θ66)────Ry(θ67)────Rz(θ68)────\n",
              "                                                  │                                                                   │\n",
              "(0, 3): ────Rx(θ9)────Ry(θ10)───Rz(θ11)───────────@───@───────────────────────────────────────────────────────────────┼───Rx(x0_3)────Rx(θ69)────Ry(θ70)────Rz(θ71)────\n",
              "                                                      │                                                               │\n",
              "(0, 4): ────Rx(θ12)───Ry(θ13)───Rz(θ14)───────────────@───@───────────────────────────────────────────────────────────┼───Rx(x0_4)────Rx(θ72)────Ry(θ73)────Rz(θ74)────\n",
              "                                                          │                                                           │\n",
              "(0, 5): ────Rx(θ15)───Ry(θ16)───Rz(θ17)───────────────────@───@───────────────────────────────────────────────────────┼───Rx(x0_5)────Rx(θ75)────Ry(θ76)────Rz(θ77)────\n",
              "                                                              │                                                       │\n",
              "(0, 6): ────Rx(θ18)───Ry(θ19)───Rz(θ20)───────────────────────@───@───────────────────────────────────────────────────┼───Rx(x0_6)────Rx(θ78)────Ry(θ79)────Rz(θ80)────\n",
              "                                                                  │                                                   │\n",
              "(0, 7): ────Rx(θ21)───Ry(θ22)───Rz(θ23)───────────────────────────@───@───────────────────────────────────────────────┼───Rx(x0_7)────Rx(θ81)────Ry(θ82)────Rz(θ83)────\n",
              "                                                                      │                                               │\n",
              "(0, 8): ────Rx(θ24)───Ry(θ25)───Rz(θ26)───────────────────────────────@───@───────────────────────────────────────────┼───Rx(x0_8)────Rx(θ84)────Ry(θ85)────Rz(θ86)────\n",
              "                                                                          │                                           │\n",
              "(0, 9): ────Rx(θ27)───Ry(θ28)───Rz(θ29)───────────────────────────────────@───@───────────────────────────────────────┼───Rx(x0_9)────Rx(θ87)────Ry(θ88)────Rz(θ89)────\n",
              "                                                                              │                                       │\n",
              "(0, 10): ───Rx(θ30)───Ry(θ31)───Rz(θ32)───────────────────────────────────────@───@───────────────────────────────────┼───Rx(x0_10)───Rx(θ90)────Ry(θ91)────Rz(θ92)────\n",
              "                                                                                  │                                   │\n",
              "(0, 11): ───Rx(θ33)───Ry(θ34)───Rz(θ35)───────────────────────────────────────────@───@───────────────────────────────┼───Rx(x0_11)───Rx(θ93)────Ry(θ94)────Rz(θ95)────\n",
              "                                                                                      │                               │\n",
              "(0, 12): ───Rx(θ36)───Ry(θ37)───Rz(θ38)───────────────────────────────────────────────@───@───────────────────────────┼───Rx(x0_12)───Rx(θ96)────Ry(θ97)────Rz(θ98)────\n",
              "                                                                                          │                           │\n",
              "(0, 13): ───Rx(θ39)───Ry(θ40)───Rz(θ41)───────────────────────────────────────────────────@───@───────────────────────┼───Rx(x0_13)───Rx(θ99)────Ry(θ100)───Rz(θ101)───\n",
              "                                                                                              │                       │\n",
              "(0, 14): ───Rx(θ42)───Ry(θ43)───Rz(θ44)───────────────────────────────────────────────────────@───@───────────────────┼───Rx(x0_14)───Rx(θ102)───Ry(θ103)───Rz(θ104)───\n",
              "                                                                                                  │                   │\n",
              "(0, 15): ───Rx(θ45)───Ry(θ46)───Rz(θ47)───────────────────────────────────────────────────────────@───@───────────────┼───Rx(x0_15)───Rx(θ105)───Ry(θ106)───Rz(θ107)───\n",
              "                                                                                                      │               │\n",
              "(0, 16): ───Rx(θ48)───Ry(θ49)───Rz(θ50)───────────────────────────────────────────────────────────────@───@───────────┼───Rx(x0_16)───Rx(θ108)───Ry(θ109)───Rz(θ110)───\n",
              "                                                                                                          │           │\n",
              "(0, 17): ───Rx(θ51)───Ry(θ52)───Rz(θ53)───────────────────────────────────────────────────────────────────@───@───────┼───Rx(x0_17)───Rx(θ111)───Ry(θ112)───Rz(θ113)───\n",
              "                                                                                                              │       │\n",
              "(0, 18): ───Rx(θ54)───Ry(θ55)───Rz(θ56)───────────────────────────────────────────────────────────────────────@───@───┼───Rx(x0_18)───Rx(θ114)───Ry(θ115)───Rz(θ116)───\n",
              "                                                                                                                  │   │\n",
              "(0, 19): ───Rx(θ57)───Ry(θ58)───Rz(θ59)───────────────────────────────────────────────────────────────────────────@───@───Rx(x0_19)───Rx(θ117)───Ry(θ118)───Rz(θ119)───</pre>"
            ]
          },
          "metadata": {},
          "execution_count": 36
        }
      ]
    },
    {
      "cell_type": "code",
      "source": [
        "class ReUploadingPQC(tf.keras.layers.Layer):\n",
        "    \"\"\"\n",
        "    Performs the transformation (s_1, ..., s_d) -> (theta_1, ..., theta_N, lmbd[1][1]s_1, ..., lmbd[1][M]s_1,\n",
        "        ......., lmbd[d][1]s_d, ..., lmbd[d][M]s_d) for d=input_dim, N=theta_dim and M=n_layers.\n",
        "    An activation function from tf.keras.activations, specified by `activation` ('linear' by default) is\n",
        "        then applied to all lmbd[i][j]s_i.\n",
        "    All angles are finally permuted to follow the alphabetical order of their symbol names, as processed\n",
        "        by the ControlledPQC.\n",
        "    \"\"\"\n",
        "\n",
        "    def __init__(self, n_qubits, n_layers, activation=\"linear\", name=\"re-uploading_PQC\"):\n",
        "        super(ReUploadingPQC, self).__init__(name=name)\n",
        "        self.n_layers = n_layers\n",
        "        self.n_qubits = n_qubits\n",
        "\n",
        "        circuit, observables, theta_symbols, input_symbols = generate_circuit(n_qubits, n_layers)\n",
        "\n",
        "        theta_init = tf.random_uniform_initializer(minval=0.0, maxval=np.pi)\n",
        "        self.theta = tf.Variable(\n",
        "            initial_value=theta_init(shape=(1, len(theta_symbols)), dtype=\"float32\"),\n",
        "            trainable=True, name=\"thetas\"\n",
        "        )\n",
        "\n",
        "        lmbd_init = tf.ones(shape=(self.n_qubits * self.n_layers,))\n",
        "        self.lmbd = tf.Variable(\n",
        "            initial_value=lmbd_init, dtype=\"float32\", trainable=True, name=\"lambdas\"\n",
        "        )\n",
        "\n",
        "        # Define explicit symbol order.\n",
        "        symbols = [str(symb) for symb in theta_symbols + input_symbols]\n",
        "        self.indices = tf.constant([symbols.index(a) for a in sorted(symbols)])\n",
        "\n",
        "        self.activation = activation\n",
        "        self.empty_circuit = tfq.convert_to_tensor([cirq.Circuit()])\n",
        "        \n",
        "        # Select backend\n",
        "        backend = 'noiseless'\n",
        "        gpus = tf.config.list_physical_devices('GPU')\n",
        "        \n",
        "        if gpus:\n",
        "            # Instantiate a simulator that uses the GPU\n",
        "            gpu_options = qsimcirq.QSimOptions(use_gpu=True, gpu_mode=1,verbosity=1, cpu_threads=8)\n",
        "            backend = qsimcirq.QSimSimulator(qsim_options=gpu_options)\n",
        "            print(\"Using qsimcirq\")\n",
        "        \n",
        "        self.computation_layer = tfq.layers.ControlledPQC(circuit, \n",
        "                                                          observables,\n",
        "                                                          differentiator=tfq.differentiators.Adjoint(), \n",
        "                                                          backend=backend)        \n",
        "\n",
        "    def call(self, inputs):\n",
        "\n",
        "        batch_dim = tf.shape(inputs)[0]\n",
        "        tiled_up_circuits = tf.repeat(self.empty_circuit, repeats=batch_dim)\n",
        "        tiled_up_thetas = tf.tile(self.theta, multiples=[batch_dim, 1])\n",
        "        tiled_up_inputs = tf.tile(inputs, multiples=[1, self.n_layers])\n",
        "        scaled_inputs = tf.einsum(\"i,ji->ji\", self.lmbd, tiled_up_inputs)\n",
        "        squashed_inputs = tf.keras.layers.Activation(self.activation)(scaled_inputs)\n",
        "\n",
        "        joined_vars = tf.concat([tiled_up_thetas, squashed_inputs], axis=1)\n",
        "        joined_vars = tf.gather(joined_vars, self.indices, axis=1)\n",
        "\n",
        "        return self.computation_layer([tiled_up_circuits, joined_vars])"
      ],
      "metadata": {
        "trusted": true,
        "id": "UbPfsEazlXtt"
      },
      "execution_count": null,
      "outputs": []
    },
    {
      "cell_type": "code",
      "source": [
        "# Build the Keras model.\n",
        "model = tf.keras.Sequential([\n",
        "    tf.keras.Input(shape=(n_qubits,), dtype=tf.dtypes.float32, name='input'),\n",
        "    ReUploadingPQC(n_qubits, n_layers),\n",
        "    tf.keras.layers.Flatten(),\n",
        "    tf.keras.layers.Dense(8, activation='relu'),\n",
        "    tf.keras.layers.Dense(2, activation='softmax')\n",
        "])"
      ],
      "metadata": {
        "trusted": true,
        "id": "Lr2TTmqelXtu"
      },
      "execution_count": null,
      "outputs": []
    },
    {
      "cell_type": "code",
      "source": [
        "model.summary()"
      ],
      "metadata": {
        "trusted": true,
        "colab": {
          "base_uri": "https://localhost:8080/"
        },
        "id": "Q1XEI1m9lXtu",
        "outputId": "6ed09129-2110-4a07-c477-0bb8517b4326"
      },
      "execution_count": null,
      "outputs": [
        {
          "output_type": "stream",
          "name": "stdout",
          "text": [
            "Model: \"sequential_1\"\n",
            "_________________________________________________________________\n",
            " Layer (type)                Output Shape              Param #   \n",
            "=================================================================\n",
            " re-uploading_PQC (ReUploadi  (None, 60)               140       \n",
            " ngPQC)                                                          \n",
            "                                                                 \n",
            " flatten_1 (Flatten)         (None, 60)                0         \n",
            "                                                                 \n",
            " dense_2 (Dense)             (None, 8)                 488       \n",
            "                                                                 \n",
            " dense_3 (Dense)             (None, 2)                 18        \n",
            "                                                                 \n",
            "=================================================================\n",
            "Total params: 646\n",
            "Trainable params: 646\n",
            "Non-trainable params: 0\n",
            "_________________________________________________________________\n"
          ]
        }
      ]
    },
    {
      "cell_type": "code",
      "source": [
        "opt = tf.keras.optimizers.Adam(learning_rate=0.2)\n",
        "model.compile(opt, loss=\"categorical_crossentropy\", metrics=[\"accuracy\"])"
      ],
      "metadata": {
        "trusted": true,
        "id": "f1J9AfKglXtv"
      },
      "execution_count": null,
      "outputs": []
    },
    {
      "cell_type": "code",
      "source": [
        "batch_size = 256\n",
        "epochs = 5"
      ],
      "metadata": {
        "trusted": true,
        "id": "X0UW5A6ClXtw"
      },
      "execution_count": null,
      "outputs": []
    },
    {
      "cell_type": "code",
      "source": [
        "qnn_history = model.fit(\n",
        "      x_train_small, y_train,\n",
        "      batch_size=batch_size,\n",
        "      epochs=epochs,\n",
        "      validation_data=(x_test_small, y_test))"
      ],
      "metadata": {
        "trusted": true,
        "id": "h_ujH1tXlXtw",
        "colab": {
          "base_uri": "https://localhost:8080/"
        },
        "outputId": "9cca105d-6275-43f9-8213-77b9bb989856"
      },
      "execution_count": null,
      "outputs": [
        {
          "output_type": "stream",
          "name": "stdout",
          "text": [
            "Epoch 1/5\n",
            "8/8 [==============================] - 3489s 425s/step - loss: 0.7472 - accuracy: 0.4885 - val_loss: 0.4442 - val_accuracy: 0.7975\n",
            "Epoch 2/5\n",
            "8/8 [==============================] - 3457s 430s/step - loss: 0.1787 - accuracy: 0.9255 - val_loss: 0.1087 - val_accuracy: 0.9625\n",
            "Epoch 3/5\n",
            "8/8 [==============================] - 3344s 418s/step - loss: 0.0473 - accuracy: 0.9860 - val_loss: 0.0994 - val_accuracy: 0.9675\n",
            "Epoch 4/5\n",
            "8/8 [==============================] - 3254s 406s/step - loss: 0.0468 - accuracy: 0.9850 - val_loss: 0.0618 - val_accuracy: 0.9850\n",
            "Epoch 5/5\n",
            "8/8 [==============================] - 3221s 404s/step - loss: 0.0402 - accuracy: 0.9850 - val_loss: 0.0894 - val_accuracy: 0.9750\n"
          ]
        }
      ]
    },
    {
      "cell_type": "code",
      "source": [
        "qnn_results = model.evaluate(x_test_small, y_test)"
      ],
      "metadata": {
        "trusted": true,
        "id": "hWcX_wy6lXtw",
        "colab": {
          "base_uri": "https://localhost:8080/"
        },
        "outputId": "a8641554-af32-49f0-95a1-727a0474cc1d"
      },
      "execution_count": null,
      "outputs": [
        {
          "output_type": "stream",
          "name": "stdout",
          "text": [
            "13/13 [==============================] - 177s 14s/step - loss: 0.0894 - accuracy: 0.9750\n"
          ]
        }
      ]
    },
    {
      "cell_type": "markdown",
      "source": [
        "# Benchmarks\n",
        "\n",
        "- MNIST Dataset binary (3 and 6)\n",
        "- Number of filtered training examples: 2000\n",
        "- Number of unique 3s:  1000\n",
        "- Number of unique 6s:  1000\n",
        "- Number of filtered test examples: 400\n",
        "\n",
        "## Parameter growth\n",
        "\n",
        "Number of trainable parameters (quantum only)\n",
        "\n",
        "### Quantum\n",
        "| qubits/layers | 1 | 2 |\n",
        "| ----------- | ----------- | ----------- |\n",
        "| 10      |   70     |  110     |\n",
        "| 16   |   112      |  176       |\n",
        "| 20      |  140      |       |\n",
        "| 23   |         |        |\n",
        "| 25   |        |         |\n",
        "| 27   |         |        |\n",
        "\n",
        "\n",
        "## Time\n",
        "\n",
        "The results below shows time per epoch averaged over 5 epochs with val acc\n",
        "\n",
        "### Default C++ backend (CPU)\n",
        "| qubits/layers | 1 | acc | 2 | acc |\n",
        "| ----------- | ----------- | ----------- | ----------- | ----------- |\n",
        "| 10      |  11      |   97.5    |  20.6     |  98.25     |\n",
        "| 16   |   266.6      |   96.75      | 251.4      |  97     |\n",
        "| 20      |  3353      |     97.5  |       |       |\n",
        "| 23   |         |        |       |       |\n",
        "| 25   |        |         |       |       |\n",
        "| 27   |         |        |       |       |\n",
        "\n",
        "### QSimCirq + CuQuantum (GPU)\n",
        "\n",
        "| qubits/layers | 1 | acc | 2 | acc |\n",
        "| ----------- | ----------- | ----------- | ----------- | ----------- |\n",
        "| 10      | 246       |   82.25    |  385     | 92      |\n",
        "| 16   |     465    | 98        |   676    |  98.25     |\n",
        "| 20      |   2767.5     |  64.5     |       |       |\n",
        "| 23   |         |        |       |       |\n",
        "| 25   |        |         |       |       |\n",
        "| 27   |         |        |       |       |"
      ],
      "metadata": {
        "id": "4SYLGZxnlXtx"
      }
    },
    {
      "cell_type": "code",
      "source": [
        ""
      ],
      "metadata": {
        "id": "xLRda_Cf_yc9"
      },
      "execution_count": null,
      "outputs": []
    }
  ]
}