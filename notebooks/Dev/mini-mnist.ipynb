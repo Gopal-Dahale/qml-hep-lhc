{
 "cells": [
  {
   "cell_type": "code",
   "execution_count": 1,
   "id": "13bd6ec9",
   "metadata": {
    "ExecuteTime": {
     "end_time": "2022-07-20T05:47:04.269850Z",
     "start_time": "2022-07-20T05:47:03.105522Z"
    }
   },
   "outputs": [],
   "source": [
    "%load_ext autoreload\n",
    "%autoreload 2\n",
    "import matplotlib.pyplot as plt\n",
    "%matplotlib inline\n",
    "\n",
    "from importlib.util import find_spec\n",
    "if find_spec(\"qml_hep_lhc\") is None:\n",
    "    import sys\n",
    "    sys.path.append('..')"
   ]
  },
  {
   "cell_type": "code",
   "execution_count": 2,
   "id": "90e14d29",
   "metadata": {
    "ExecuteTime": {
     "end_time": "2022-07-20T05:47:07.783281Z",
     "start_time": "2022-07-20T05:47:04.753631Z"
    }
   },
   "outputs": [
    {
     "name": "stderr",
     "output_type": "stream",
     "text": [
      "2022-07-20 11:17:04.953703: W tensorflow/stream_executor/platform/default/dso_loader.cc:64] Could not load dynamic library 'libcudart.so.11.0'; dlerror: libcudart.so.11.0: cannot open shared object file: No such file or directory\n",
      "2022-07-20 11:17:04.953737: I tensorflow/stream_executor/cuda/cudart_stub.cc:29] Ignore above cudart dlerror if you do not have a GPU set up on your machine.\n"
     ]
    }
   ],
   "source": [
    "from qml_hep_lhc.data import MNIST\n",
    "from qml_hep_lhc.data.utils import extract_samples\n",
    "import numpy as np\n",
    "import matplotlib.pyplot as plt"
   ]
  },
  {
   "cell_type": "code",
   "execution_count": 8,
   "id": "26b871ad",
   "metadata": {
    "ExecuteTime": {
     "end_time": "2022-07-20T05:47:22.509178Z",
     "start_time": "2022-07-20T05:47:22.071744Z"
    }
   },
   "outputs": [
    {
     "name": "stdout",
     "output_type": "stream",
     "text": [
      "Processed False\n",
      "DATA DIR /home/gopald/Documents/qml-hep-lhc/datasets/downloaded\n"
     ]
    }
   ],
   "source": [
    "data = MNIST()\n",
    "data.prepare_data()"
   ]
  },
  {
   "cell_type": "code",
   "execution_count": 9,
   "id": "97dcc35d",
   "metadata": {
    "ExecuteTime": {
     "end_time": "2022-07-20T05:47:23.140906Z",
     "start_time": "2022-07-20T05:47:23.072670Z"
    }
   },
   "outputs": [],
   "source": [
    "percent_train = 0.05 \n",
    "\n",
    "# 60,000/10 = 6000 images per class (approx)\n",
    "# 6000 * 0.05 = 300 images per class\n",
    "\n",
    "# if val_split = 0.2\n",
    "# n_val = 300 * 0.2 = 60 per class\n",
    "# n_train = 300 -60 = 240 per class\n",
    "\n",
    "percent_test = 0.1\n",
    "\n",
    "# 10,000/10 = 1000 images per class (approx)\n",
    "# 1000 * 0.1 = 100 images per class\n",
    "\n",
    "data.x_train, data.y_train = extract_samples(data.x_train,data.y_train, data.mapping,percent_train)\n",
    "data.x_test, data.y_test = extract_samples(data.x_test,data.y_test, data.mapping,percent_test)"
   ]
  },
  {
   "cell_type": "code",
   "execution_count": 10,
   "id": "b482a194",
   "metadata": {
    "ExecuteTime": {
     "end_time": "2022-07-20T05:47:24.181794Z",
     "start_time": "2022-07-20T05:47:24.000357Z"
    }
   },
   "outputs": [],
   "source": [
    "path = '../datasets/processed/mnist.npz'\n",
    "\n",
    "np.savez_compressed(path, **{\n",
    "    'x_train': data.x_train,\n",
    "    'y_train': data.y_train,\n",
    "    'x_test': data.x_test,\n",
    "    'y_test': data.y_test\n",
    "})"
   ]
  },
  {
   "cell_type": "code",
   "execution_count": 11,
   "id": "5277ad30",
   "metadata": {
    "ExecuteTime": {
     "end_time": "2022-07-20T05:47:24.837279Z",
     "start_time": "2022-07-20T05:47:24.766234Z"
    }
   },
   "outputs": [],
   "source": [
    "data = np.load(path, allow_pickle=True)"
   ]
  },
  {
   "cell_type": "code",
   "execution_count": 12,
   "id": "848e9c3f",
   "metadata": {
    "ExecuteTime": {
     "end_time": "2022-07-20T05:47:25.722579Z",
     "start_time": "2022-07-20T05:47:25.636640Z"
    }
   },
   "outputs": [
    {
     "name": "stdout",
     "output_type": "stream",
     "text": [
      "(3000, 28, 28) (3000,)\n",
      "(1000, 28, 28) (1000,)\n"
     ]
    }
   ],
   "source": [
    "print(data['x_train'].shape, data['y_train'].shape)\n",
    "print(data['x_test'].shape, data['y_test'].shape)"
   ]
  },
  {
   "cell_type": "code",
   "execution_count": 13,
   "id": "33266d0a",
   "metadata": {
    "ExecuteTime": {
     "end_time": "2022-07-20T05:47:27.700388Z",
     "start_time": "2022-07-20T05:47:27.419673Z"
    }
   },
   "outputs": [
    {
     "data": {
      "text/plain": [
       "<matplotlib.image.AxesImage at 0x7f46451c92d0>"
      ]
     },
     "execution_count": 13,
     "metadata": {},
     "output_type": "execute_result"
    },
    {
     "data": {
      "image/png": "[encoded data removed]",
      "text/plain": [
       "<Figure size 432x288 with 1 Axes>"
      ]
     },
     "metadata": {
      "needs_background": "light"
     },
     "output_type": "display_data"
    }
   ],
   "source": [
    "plt.imshow(data['x_train'][0][:,:])"
   ]
  },
  {
   "cell_type": "code",
   "execution_count": null,
   "id": "2e361c50",
   "metadata": {},
   "outputs": [],
   "source": []
  }
 ],
 "metadata": {
  "kernelspec": {
   "display_name": "Python (qenv)",
   "language": "python",
   "name": "qenv"
  },
  "language_info": {
   "codemirror_mode": {
    "name": "ipython",
    "version": 3
   },
   "file_extension": ".py",
   "mimetype": "text/x-python",
   "name": "python",
   "nbconvert_exporter": "python",
   "pygments_lexer": "ipython3",
   "version": "3.7.13"
  },
  "latex_envs": {
   "LaTeX_envs_menu_present": true,
   "autoclose": false,
   "autocomplete": true,
   "bibliofile": "biblio.bib",
   "cite_by": "apalike",
   "current_citInitial": 1,
   "eqLabelWithNumbers": true,
   "eqNumInitial": 1,
   "hotkeys": {
    "equation": "Ctrl-E",
    "itemize": "Ctrl-I"
   },
   "labels_anchors": false,
   "latex_user_defs": false,
   "report_style_numbering": false,
   "user_envs_cfg": false
  },
  "toc": {
   "base_numbering": 1,
   "nav_menu": {},
   "number_sections": true,
   "sideBar": true,
   "skip_h1_title": false,
   "title_cell": "Table of Contents",
   "title_sidebar": "Contents",
   "toc_cell": false,
   "toc_position": {},
   "toc_section_display": true,
   "toc_window_display": false
  }
 },
 "nbformat": 4,
 "nbformat_minor": 5
}
