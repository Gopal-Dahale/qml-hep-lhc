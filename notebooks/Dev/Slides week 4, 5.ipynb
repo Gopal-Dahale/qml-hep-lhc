{
 "cells": [
  {
   "cell_type": "code",
   "execution_count": 1,
   "id": "93e1922c",
   "metadata": {
    "ExecuteTime": {
     "end_time": "2022-07-21T04:00:16.456790Z",
     "start_time": "2022-07-21T04:00:11.898751Z"
    }
   },
   "outputs": [],
   "source": [
    "%load_ext autoreload\n",
    "%autoreload 2\n",
    "import matplotlib.pyplot as plt\n",
    "%matplotlib inline\n",
    "\n",
    "from importlib.util import find_spec\n",
    "if find_spec(\"qml_hep_lhc\") is None:\n",
    "    import sys\n",
    "    sys.path.append('..')"
   ]
  },
  {
   "cell_type": "code",
   "execution_count": 80,
   "id": "93b408bb",
   "metadata": {
    "ExecuteTime": {
     "end_time": "2022-07-21T06:43:41.571743Z",
     "start_time": "2022-07-21T06:43:41.509536Z"
    }
   },
   "outputs": [],
   "source": [
    "from qml_hep_lhc.data import ElectronPhoton, MNIST, QuarkGluon\n",
    "import argparse\n",
    "from sklearn.decomposition import PCA\n",
    "import numpy as np\n",
    "from skimage.filters import threshold_local\n",
    "from sklearn.preprocessing import StandardScaler, MinMaxScaler, PowerTransformer, normalize\n",
    "from tensorflow import image"
   ]
  },
  {
   "cell_type": "code",
   "execution_count": 3,
   "id": "b8d0e470",
   "metadata": {
    "ExecuteTime": {
     "end_time": "2022-07-21T04:01:05.609488Z",
     "start_time": "2022-07-21T04:01:05.548202Z"
    }
   },
   "outputs": [],
   "source": [
    "def display_data(x,y,cmap = 'viridis'):\n",
    "    fig = plt.figure(figsize=(10, 7))\n",
    "    rows = 2\n",
    "    columns = 2\n",
    "    index = [np.where(y == 1)[0], np.where(y == 0)[0]] # 0, 1\n",
    "    for i in range(columns):\n",
    "        fig.add_subplot(rows, columns,i+1)\n",
    "        plt.imshow(np.mean(x[index[i],:,:,0], axis = 0), cmap=cmap)\n",
    "        plt.title(i)\n",
    "        plt.colorbar()"
   ]
  },
  {
   "cell_type": "code",
   "execution_count": 4,
   "id": "c731a73e",
   "metadata": {
    "ExecuteTime": {
     "end_time": "2022-07-21T04:01:05.770501Z",
     "start_time": "2022-07-21T04:01:05.614121Z"
    }
   },
   "outputs": [],
   "source": [
    "def to_numpy(data,split='train'):\n",
    "    if split == 'train':\n",
    "        ds = data.train_ds\n",
    "    elif split == 'val':\n",
    "        ds = data.val_ds\n",
    "    else:\n",
    "        ds = data.test_ds\n",
    "    ds = ds.unbatch()\n",
    "    ds = ds.as_numpy_iterator()\n",
    "    ds = [element for element in ds]\n",
    "    x =  np.array([ x for x,y in ds])\n",
    "    y =  np.array([ y for x,y in ds])\n",
    "    return x,y"
   ]
  },
  {
   "cell_type": "markdown",
   "id": "a6f3599d",
   "metadata": {},
   "source": [
    "## Mnist"
   ]
  },
  {
   "cell_type": "code",
   "execution_count": 6,
   "id": "cb920338",
   "metadata": {
    "ExecuteTime": {
     "end_time": "2022-07-20T06:38:32.189717Z",
     "start_time": "2022-07-20T06:38:31.081899Z"
    }
   },
   "outputs": [
    {
     "name": "stdout",
     "output_type": "stream",
     "text": [
      "Processed 1\n",
      "DATA DIR /home/gopald/Documents/qml-hep-lhc/datasets/processed\n",
      "Binarizing data...\n",
      "shape before:  (3000, 28, 28, 1)\n",
      "shape after:  (600, 28, 28, 1)\n",
      "Binarizing data...\n",
      "shape before:  (1000, 28, 28, 1)\n",
      "shape after:  (200, 28, 28, 1)\n"
     ]
    },
    {
     "name": "stderr",
     "output_type": "stream",
     "text": [
      "2022-07-20 12:08:31.236666: E tensorflow/stream_executor/cuda/cuda_driver.cc:271] failed call to cuInit: CUDA_ERROR_NO_DEVICE: no CUDA-capable device is detected\n",
      "2022-07-20 12:08:31.236713: I tensorflow/stream_executor/cuda/cuda_diagnostics.cc:156] kernel driver does not appear to be running on this host (bhagvada): /proc/driver/nvidia/version does not exist\n",
      "2022-07-20 12:08:31.237164: I tensorflow/core/platform/cpu_feature_guard.cc:151] This TensorFlow binary is optimized with oneAPI Deep Neural Network Library (oneDNN) to use the following CPU instructions in performance-critical operations:  AVX2 FMA\n",
      "To enable them in other operations, rebuild TensorFlow with the appropriate compiler flags.\n"
     ]
    },
    {
     "name": "stdout",
     "output_type": "stream",
     "text": [
      "\n",
      "Dataset :MNIST\n",
      "╒════════╤══════════════════╤══════════════════╤══════════════════╤═════════════╕\n",
      "│ Data   │ Train size       │ Val size         │ Test size        │ Dims        │\n",
      "╞════════╪══════════════════╪══════════════════╪══════════════════╪═════════════╡\n",
      "│ X      │ (480, 28, 28, 1) │ (120, 28, 28, 1) │ (200, 28, 28, 1) │ (28, 28, 1) │\n",
      "├────────┼──────────────────┼──────────────────┼──────────────────┼─────────────┤\n",
      "│ y      │ (480,)           │ (120,)           │ (200,)           │ (1,)        │\n",
      "╘════════╧══════════════════╧══════════════════╧══════════════════╧═════════════╛\n",
      "\n",
      "╒══════════════╤═══════╤═══════╤════════╤═══════╤══════════════════════════╕\n",
      "│ Type         │   Min │   Max │   Mean │   Std │ Samples for each class   │\n",
      "╞══════════════╪═══════╪═══════╪════════╪═══════╪══════════════════════════╡\n",
      "│ Train Images │     0 │   255 │  32.36 │ 78.23 │ [240, 240]               │\n",
      "├──────────────┼───────┼───────┼────────┼───────┼──────────────────────────┤\n",
      "│ Val Images   │     0 │   255 │  33.15 │ 79.19 │ [60, 60]                 │\n",
      "├──────────────┼───────┼───────┼────────┼───────┼──────────────────────────┤\n",
      "│ Test Images  │     0 │   255 │  27.86 │ 72.77 │ [100, 100]               │\n",
      "╘══════════════╧═══════╧═══════╧════════╧═══════╧══════════════════════════╛\n",
      "\n",
      "\n"
     ]
    },
    {
     "data": {
      "image/png": "[encoded data removed]",
      "text/plain": [
       "<Figure size 720x504 with 4 Axes>"
      ]
     },
     "metadata": {
      "needs_background": "light"
     },
     "output_type": "display_data"
    }
   ],
   "source": [
    "args = argparse.Namespace()\n",
    "args.binary_data = [0,1]\n",
    "args.processed = 1\n",
    "\n",
    "data = MNIST(args)\n",
    "data.prepare_data()\n",
    "data.setup()\n",
    "print(data)\n",
    "x,y = to_numpy(data)\n",
    "display_data(x,y)"
   ]
  },
  {
   "cell_type": "code",
   "execution_count": 7,
   "id": "1e5c5c0c",
   "metadata": {
    "ExecuteTime": {
     "end_time": "2022-07-20T06:38:44.888539Z",
     "start_time": "2022-07-20T06:38:43.976222Z"
    }
   },
   "outputs": [
    {
     "name": "stdout",
     "output_type": "stream",
     "text": [
      "Processed 1\n",
      "DATA DIR /home/gopald/Documents/qml-hep-lhc/datasets/processed\n",
      "Binarizing data...\n",
      "shape before:  (3000, 28, 28, 1)\n",
      "shape after:  (600, 28, 28, 1)\n",
      "Binarizing data...\n",
      "shape before:  (1000, 28, 28, 1)\n",
      "shape after:  (200, 28, 28, 1)\n",
      "Center cropping...\n",
      "Center cropping...\n",
      "\n",
      "Dataset :MNIST\n",
      "╒════════╤══════════════════╤══════════════════╤══════════════════╤═════════════╕\n",
      "│ Data   │ Train size       │ Val size         │ Test size        │ Dims        │\n",
      "╞════════╪══════════════════╪══════════════════╪══════════════════╪═════════════╡\n",
      "│ X      │ (480, 20, 20, 1) │ (120, 20, 20, 1) │ (200, 20, 20, 1) │ (20, 20, 1) │\n",
      "├────────┼──────────────────┼──────────────────┼──────────────────┼─────────────┤\n",
      "│ y      │ (480,)           │ (120,)           │ (200,)           │ (1,)        │\n",
      "╘════════╧══════════════════╧══════════════════╧══════════════════╧═════════════╛\n",
      "\n",
      "╒══════════════╤═══════╤═══════╤════════╤════════╤══════════════════════════╕\n",
      "│ Type         │   Min │   Max │   Mean │    Std │ Samples for each class   │\n",
      "╞══════════════╪═══════╪═══════╪════════╪════════╪══════════════════════════╡\n",
      "│ Train Images │     0 │   255 │  63.6  │ 100.47 │ [240, 240]               │\n",
      "├──────────────┼───────┼───────┼────────┼────────┼──────────────────────────┤\n",
      "│ Val Images   │     0 │   255 │  60.18 │  98.34 │ [60, 60]                 │\n",
      "├──────────────┼───────┼───────┼────────┼────────┼──────────────────────────┤\n",
      "│ Test Images  │     0 │   255 │  53.79 │  94.11 │ [100, 100]               │\n",
      "╘══════════════╧═══════╧═══════╧════════╧════════╧══════════════════════════╛\n",
      "\n",
      "\n"
     ]
    },
    {
     "data": {
      "image/png": "[encoded data removed]",
      "text/plain": [
       "<Figure size 720x504 with 4 Axes>"
      ]
     },
     "metadata": {
      "needs_background": "light"
     },
     "output_type": "display_data"
    }
   ],
   "source": [
    "args = argparse.Namespace()\n",
    "args.binary_data = [0,1]\n",
    "args.center_crop = 0.7\n",
    "args.processed = 1\n",
    "\n",
    "data = MNIST(args)\n",
    "data.prepare_data()\n",
    "data.setup()\n",
    "print(data)\n",
    "x,y = to_numpy(data)\n",
    "display_data(x,y)"
   ]
  },
  {
   "cell_type": "code",
   "execution_count": 8,
   "id": "0bf8e0e2",
   "metadata": {
    "ExecuteTime": {
     "end_time": "2022-07-20T06:39:33.175074Z",
     "start_time": "2022-07-20T06:39:33.098179Z"
    }
   },
   "outputs": [
    {
     "data": {
      "text/plain": [
       "(480, 400)"
      ]
     },
     "execution_count": 8,
     "metadata": {},
     "output_type": "execute_result"
    }
   ],
   "source": [
    "x = x.reshape(-1,np.prod(data.config()['input_dims']))\n",
    "x.shape"
   ]
  },
  {
   "cell_type": "code",
   "execution_count": 9,
   "id": "054f30cf",
   "metadata": {
    "ExecuteTime": {
     "end_time": "2022-07-20T06:39:39.911787Z",
     "start_time": "2022-07-20T06:39:39.011357Z"
    }
   },
   "outputs": [
    {
     "data": {
      "image/png": "[encoded data removed]",
      "text/plain": [
       "<Figure size 432x288 with 1 Axes>"
      ]
     },
     "metadata": {
      "needs_background": "light"
     },
     "output_type": "display_data"
    }
   ],
   "source": [
    "pca = PCA().fit(x)\n",
    "plt.plot(np.cumsum(pca.explained_variance_ratio_))\n",
    "plt.xlabel('number of components')\n",
    "plt.ylabel('cumulative explained variance');"
   ]
  },
  {
   "cell_type": "code",
   "execution_count": 11,
   "id": "139fab58",
   "metadata": {
    "ExecuteTime": {
     "end_time": "2022-07-20T06:40:21.738319Z",
     "start_time": "2022-07-20T06:40:20.109841Z"
    }
   },
   "outputs": [
    {
     "name": "stdout",
     "output_type": "stream",
     "text": [
      "Processed 1\n",
      "DATA DIR /home/gopald/Documents/qml-hep-lhc/datasets/processed\n",
      "Binarizing data...\n",
      "shape before:  (3000, 28, 28, 1)\n",
      "shape after:  (600, 28, 28, 1)\n",
      "Binarizing data...\n",
      "shape before:  (1000, 28, 28, 1)\n",
      "shape after:  (200, 28, 28, 1)\n",
      "Center cropping...\n",
      "Center cropping...\n",
      "Performing PCA on data...\n",
      "Cumulative sum on train : 96.87461051616518\n",
      "Cumulative sum on test: 96.87461051616518\n",
      "\n",
      "Dataset :MNIST\n",
      "╒════════╤══════════════════╤══════════════════╤══════════════════╤═════════════╕\n",
      "│ Data   │ Train size       │ Val size         │ Test size        │ Dims        │\n",
      "╞════════╪══════════════════╪══════════════════╪══════════════════╪═════════════╡\n",
      "│ X      │ (480, 10, 10, 1) │ (120, 10, 10, 1) │ (200, 10, 10, 1) │ (10, 10, 1) │\n",
      "├────────┼──────────────────┼──────────────────┼──────────────────┼─────────────┤\n",
      "│ y      │ (480,)           │ (120,)           │ (200,)           │ (1,)        │\n",
      "╘════════╧══════════════════╧══════════════════╧══════════════════╧═════════════╛\n",
      "\n",
      "╒══════════════╤══════════╤═════════╤════════╤════════╤══════════════════════════╕\n",
      "│ Type         │      Min │     Max │   Mean │    Std │ Samples for each class   │\n",
      "╞══════════════╪══════════╪═════════╪════════╪════════╪══════════════════════════╡\n",
      "│ Train Images │ -1335.39 │ 1916    │   0.2  │ 177.5  │ [240, 240]               │\n",
      "├──────────────┼──────────┼─────────┼────────┼────────┼──────────────────────────┤\n",
      "│ Val Images   │ -1149.46 │ 1679.15 │  -0.79 │ 176.6  │ [60, 60]                 │\n",
      "├──────────────┼──────────┼─────────┼────────┼────────┼──────────────────────────┤\n",
      "│ Test Images  │ -1404.36 │ 1945.79 │  -4.58 │ 170.24 │ [100, 100]               │\n",
      "╘══════════════╧══════════╧═════════╧════════╧════════╧══════════════════════════╛\n",
      "\n",
      "\n"
     ]
    },
    {
     "data": {
      "image/png": "[encoded data removed]",
      "text/plain": [
       "<Figure size 720x504 with 4 Axes>"
      ]
     },
     "metadata": {
      "needs_background": "light"
     },
     "output_type": "display_data"
    }
   ],
   "source": [
    "args = argparse.Namespace()\n",
    "args.binary_data = [0,1]\n",
    "args.center_crop = 0.7\n",
    "args.pca = 100\n",
    "args.processed = 1\n",
    "\n",
    "data = MNIST(args)\n",
    "data.prepare_data()\n",
    "data.setup()\n",
    "print(data)\n",
    "x,y = to_numpy(data)\n",
    "display_data(x,y)"
   ]
  },
  {
   "cell_type": "code",
   "execution_count": 117,
   "id": "9d276e6d",
   "metadata": {
    "ExecuteTime": {
     "end_time": "2022-07-20T17:09:45.845547Z",
     "start_time": "2022-07-20T17:09:44.780070Z"
    }
   },
   "outputs": [
    {
     "name": "stdout",
     "output_type": "stream",
     "text": [
      "Binarizing data...\n",
      "Binarizing data...\n",
      "Center cropping...\n",
      "Center cropping...\n",
      "Resizing data...\n",
      "Resizing data...\n",
      "\n",
      "Dataset :MNIST\n",
      "╒════════╤════════════════╤════════════════╤════════════════╤═══════════╕\n",
      "│ Data   │ Train size     │ Val size       │ Test size      │ Dims      │\n",
      "╞════════╪════════════════╪════════════════╪════════════════╪═══════════╡\n",
      "│ X      │ (480, 8, 8, 1) │ (120, 8, 8, 1) │ (200, 8, 8, 1) │ (8, 8, 1) │\n",
      "├────────┼────────────────┼────────────────┼────────────────┼───────────┤\n",
      "│ y      │ (480,)         │ (120,)         │ (200,)         │ (1,)      │\n",
      "╘════════╧════════════════╧════════════════╧════════════════╧═══════════╛\n",
      "\n",
      "╒══════════════╤═══════╤════════╤════════╤═══════╤══════════════════════════╕\n",
      "│ Type         │   Min │    Max │   Mean │   Std │ Samples for each class   │\n",
      "╞══════════════╪═══════╪════════╪════════╪═══════╪══════════════════════════╡\n",
      "│ Train Images │     0 │ 255    │  63.41 │ 93.18 │ [240, 240]               │\n",
      "├──────────────┼───────┼────────┼────────┼───────┼──────────────────────────┤\n",
      "│ Val Images   │     0 │ 254.75 │  64.17 │ 93.43 │ [60, 60]                 │\n",
      "├──────────────┼───────┼────────┼────────┼───────┼──────────────────────────┤\n",
      "│ Test Images  │     0 │ 255    │  54.2  │ 87.01 │ [100, 100]               │\n",
      "╘══════════════╧═══════╧════════╧════════╧═══════╧══════════════════════════╛\n",
      "\n",
      "\n"
     ]
    },
    {
     "data": {
      "image/png": "[encoded data removed]",
      "text/plain": [
       "<Figure size 720x504 with 4 Axes>"
      ]
     },
     "metadata": {
      "needs_background": "light"
     },
     "output_type": "display_data"
    }
   ],
   "source": [
    "args = argparse.Namespace()\n",
    "args.binary_data = [0,1]\n",
    "args.center_crop = 0.7\n",
    "args.resize = [8,8]\n",
    "args.processed = 1\n",
    "\n",
    "data = MNIST(args)\n",
    "data.prepare_data()\n",
    "data.setup()\n",
    "print(data)\n",
    "x,y = to_numpy(data)\n",
    "display_data(x,y,cmap='binary')"
   ]
  },
  {
   "cell_type": "markdown",
   "id": "c9ff57a9",
   "metadata": {},
   "source": [
    "## Electron Photon"
   ]
  },
  {
   "cell_type": "code",
   "execution_count": 42,
   "id": "ca0fdce0",
   "metadata": {
    "ExecuteTime": {
     "end_time": "2022-07-21T06:40:03.870600Z",
     "start_time": "2022-07-21T06:39:59.679554Z"
    }
   },
   "outputs": [
    {
     "name": "stdout",
     "output_type": "stream",
     "text": [
      "Normalizing data...\n",
      "\n",
      "Dataset :Electron Photon med\n",
      "╒════════╤═══════════════════╤═══════════════════╤═══════════════════╤═════════════╕\n",
      "│ Data   │ Train size        │ Val size          │ Test size         │ Dims        │\n",
      "╞════════╪═══════════════════╪═══════════════════╪═══════════════════╪═════════════╡\n",
      "│ X      │ (7200, 32, 32, 1) │ (1800, 32, 32, 1) │ (1000, 32, 32, 1) │ (32, 32, 1) │\n",
      "├────────┼───────────────────┼───────────────────┼───────────────────┼─────────────┤\n",
      "│ y      │ (7200,)           │ (1800,)           │ (1000,)           │ (1,)        │\n",
      "╘════════╧═══════════════════╧═══════════════════╧═══════════════════╧═════════════╛\n",
      "\n",
      "╒══════════════╤═══════╤═══════╤════════╤═══════╤══════════════════════════╕\n",
      "│ Type         │   Min │   Max │   Mean │   Std │ Samples for each class   │\n",
      "╞══════════════╪═══════╪═══════╪════════╪═══════╪══════════════════════════╡\n",
      "│ Train Images │     0 │     1 │      0 │  0.03 │ [3600, 3600]             │\n",
      "├──────────────┼───────┼───────┼────────┼───────┼──────────────────────────┤\n",
      "│ Val Images   │     0 │     1 │      0 │  0.03 │ [900, 900]               │\n",
      "├──────────────┼───────┼───────┼────────┼───────┼──────────────────────────┤\n",
      "│ Test Images  │     0 │     1 │      0 │  0.03 │ [500, 500]               │\n",
      "╘══════════════╧═══════╧═══════╧════════╧═══════╧══════════════════════════╛\n",
      "\n",
      "\n"
     ]
    },
    {
     "data": {
      "image/png": "[encoded data removed]",
      "text/plain": [
       "<Figure size 720x504 with 4 Axes>"
      ]
     },
     "metadata": {
      "needs_background": "light"
     },
     "output_type": "display_data"
    }
   ],
   "source": [
    "args = argparse.Namespace()\n",
    "args.dataset_type = 'med'\n",
    "args.normalize = 1\n",
    "# args.center_crop = 0.3\n",
    "\n",
    "data = ElectronPhoton(args)\n",
    "data.prepare_data()\n",
    "data.setup()\n",
    "print(data)\n",
    "x, y = to_numpy(data)\n",
    "display_data(x,y,cmap='binary')"
   ]
  },
  {
   "cell_type": "code",
   "execution_count": 43,
   "id": "3280513a",
   "metadata": {
    "ExecuteTime": {
     "end_time": "2022-07-21T06:40:21.703393Z",
     "start_time": "2022-07-21T06:40:03.874964Z"
    }
   },
   "outputs": [
    {
     "name": "stderr",
     "output_type": "stream",
     "text": [
      "/home/gopald/Documents/qml-hep-lhc/qenv/lib/python3.7/site-packages/sklearn/preprocessing/_data.py:3237: RuntimeWarning: divide by zero encountered in log\n",
      "  loglike = -n_samples / 2 * np.log(x_trans.var())\n"
     ]
    }
   ],
   "source": [
    "from sklearn.preprocessing import PowerTransformer\n",
    "pt = PowerTransformer()\n",
    "scaler = StandardScaler()\n",
    "\n",
    "x = x.reshape(-1,np.prod(data.config()['input_dims']))\n",
    "x_t = pt.fit_transform(x)\n",
    "x_t = scaler.fit_transform(x_t)\n",
    "\n",
    "x_t = x_t.reshape([-1] + list(data.config()['input_dims']))\n",
    "x =  x.reshape([-1] + list(data.config()['input_dims']))"
   ]
  },
  {
   "cell_type": "code",
   "execution_count": 112,
   "id": "ad279e0b",
   "metadata": {
    "ExecuteTime": {
     "end_time": "2022-07-21T06:50:52.442000Z",
     "start_time": "2022-07-21T06:50:52.062828Z"
    }
   },
   "outputs": [
    {
     "name": "stderr",
     "output_type": "stream",
     "text": [
      "/home/gopald/Documents/qml-hep-lhc/qenv/lib/python3.7/site-packages/ipykernel_launcher.py:11: RuntimeWarning: divide by zero encountered in log\n",
      "  # This is added back by InteractiveShellApp.init_path()\n"
     ]
    },
    {
     "data": {
      "image/png": "[encoded data removed]",
      "text/plain": [
       "<Figure size 720x504 with 2 Axes>"
      ]
     },
     "metadata": {
      "needs_background": "light"
     },
     "output_type": "display_data"
    }
   ],
   "source": [
    "n = np.random.randint(low = 0,high = 7200)\n",
    "from matplotlib.colors import LogNorm\n",
    "fig = plt.figure(figsize=(10, 7))\n",
    "rows = 1\n",
    "columns = 2\n",
    "for i in range(columns):\n",
    "    fig.add_subplot(rows, columns,i+1)\n",
    "    if i: \n",
    "        plt.imshow(x[n,:,:,0], norm=LogNorm())\n",
    "    else:\n",
    "        plt.imshow(np.log(x[n,:,:,0]))\n",
    "    plt.title(y[n])\n",
    "    "
   ]
  },
  {
   "cell_type": "code",
   "execution_count": 40,
   "id": "7934fa3a",
   "metadata": {
    "ExecuteTime": {
     "end_time": "2022-07-21T06:38:57.012476Z",
     "start_time": "2022-07-21T06:38:56.896041Z"
    }
   },
   "outputs": [
    {
     "name": "stdout",
     "output_type": "stream",
     "text": [
      "0.99806 0.0\n",
      "0.99806 0.0\n",
      "-0.0019418963 -inf -inf\n"
     ]
    },
    {
     "name": "stderr",
     "output_type": "stream",
     "text": [
      "/home/gopald/Documents/qml-hep-lhc/qenv/lib/python3.7/site-packages/ipykernel_launcher.py:3: RuntimeWarning: divide by zero encountered in log\n",
      "  This is separate from the ipykernel package so we can avoid doing imports until\n"
     ]
    }
   ],
   "source": [
    "print(a.max(),a.min())\n",
    "print(x.max(),x.min())\n",
    "print(np.log(a).max(), np.log(a).min(), np.log(a).mean())"
   ]
  },
  {
   "cell_type": "code",
   "execution_count": null,
   "id": "d279e60c",
   "metadata": {},
   "outputs": [],
   "source": []
  },
  {
   "cell_type": "code",
   "execution_count": null,
   "id": "e1dcdd9d",
   "metadata": {},
   "outputs": [],
   "source": []
  },
  {
   "cell_type": "code",
   "execution_count": 159,
   "id": "e43471a5",
   "metadata": {
    "ExecuteTime": {
     "end_time": "2022-07-20T17:13:38.559443Z",
     "start_time": "2022-07-20T17:13:38.505267Z"
    }
   },
   "outputs": [
    {
     "data": {
      "text/plain": [
       "(7200, 1024)"
      ]
     },
     "execution_count": 159,
     "metadata": {},
     "output_type": "execute_result"
    }
   ],
   "source": [
    "# x = data.x_train\n",
    "x = x.reshape(-1,np.prod(data.config()['input_dims']))\n",
    "x.shape"
   ]
  },
  {
   "cell_type": "code",
   "execution_count": 45,
   "id": "f7c6c9e5",
   "metadata": {
    "ExecuteTime": {
     "end_time": "2022-07-19T12:01:50.146783Z",
     "start_time": "2022-07-19T12:01:49.555911Z"
    }
   },
   "outputs": [
    {
     "data": {
      "image/png": "[encoded data removed]",
      "text/plain": [
       "<Figure size 432x288 with 1 Axes>"
      ]
     },
     "metadata": {
      "needs_background": "light"
     },
     "output_type": "display_data"
    }
   ],
   "source": [
    "pca = PCA().fit(x)\n",
    "plt.plot(np.cumsum(pca.explained_variance_ratio_))\n",
    "plt.xlabel('number of components')\n",
    "plt.ylabel('cumulative explained variance');"
   ]
  },
  {
   "cell_type": "code",
   "execution_count": 64,
   "id": "0c80c480",
   "metadata": {
    "ExecuteTime": {
     "end_time": "2022-07-14T16:59:13.996781Z",
     "start_time": "2022-07-14T16:59:13.204322Z"
    }
   },
   "outputs": [
    {
     "name": "stdout",
     "output_type": "stream",
     "text": [
      "Center cropping...\n",
      "Center cropping...\n",
      "Performing PCA on data...\n",
      "Cumulative sum on train : 99.634186\n",
      "Cumulative sum on test: 99.634186\n",
      "Dataset :Electron Photon med\n",
      "╒════════╤═════════════════╤═════════════════╤═══════════╕\n",
      "│ Data   │ Train size      │ Test size       │ Dims      │\n",
      "╞════════╪═════════════════╪═════════════════╪═══════════╡\n",
      "│ X      │ (9000, 4, 4, 1) │ (1000, 4, 4, 1) │ (4, 4, 1) │\n",
      "├────────┼─────────────────┼─────────────────┼───────────┤\n",
      "│ y      │ (9000,)         │ (1000,)         │ (1,)      │\n",
      "╘════════╧═════════════════╧═════════════════╧═══════════╛\n",
      "\n",
      "Train images stats\n",
      "Min: -0.69\n",
      "Max: 0.81\n",
      "Mean: 0.00\n",
      "Std: 0.08\n",
      "Train labels stats\n",
      "Min: 0.00\n",
      "Max: 1.00\n",
      "\n"
     ]
    },
    {
     "data": {
      "image/png": "[encoded data removed]",
      "text/plain": [
       "<Figure size 720x504 with 4 Axes>"
      ]
     },
     "metadata": {
      "needs_background": "light"
     },
     "output_type": "display_data"
    }
   ],
   "source": [
    "args = argparse.Namespace()\n",
    "args.dataset_type = 'med'\n",
    "args.center_crop = 0.2\n",
    "args.pca = 16\n",
    "\n",
    "data = ElectronPhoton(args)\n",
    "data.prepare_data()\n",
    "data.setup()\n",
    "print(data)\n",
    "display_data(data)"
   ]
  },
  {
   "cell_type": "code",
   "execution_count": 65,
   "id": "2ff6e596",
   "metadata": {
    "ExecuteTime": {
     "end_time": "2022-07-14T16:59:50.990780Z",
     "start_time": "2022-07-14T16:59:44.717803Z"
    }
   },
   "outputs": [
    {
     "name": "stdout",
     "output_type": "stream",
     "text": [
      "Center cropping...\n",
      "Center cropping...\n",
      "Performing graph convolution...\n",
      "Performing graph convolution...\n",
      "Dataset :Electron Photon med\n",
      "╒════════╤═════════════════╤═════════════════╤═══════════╕\n",
      "│ Data   │ Train size      │ Test size       │ Dims      │\n",
      "╞════════╪═════════════════╪═════════════════╪═══════════╡\n",
      "│ X      │ (9000, 8, 8, 1) │ (1000, 8, 8, 1) │ (8, 8, 1) │\n",
      "├────────┼─────────────────┼─────────────────┼───────────┤\n",
      "│ y      │ (9000,)         │ (1000,)         │ (1,)      │\n",
      "╘════════╧═════════════════╧═════════════════╧═══════════╛\n",
      "\n",
      "Train images stats\n",
      "Min: 0.00\n",
      "Max: 1.79\n",
      "Mean: 0.88\n",
      "Std: 0.20\n",
      "Train labels stats\n",
      "Min: 0.00\n",
      "Max: 1.00\n",
      "\n"
     ]
    },
    {
     "data": {
      "image/png": "[encoded data removed]",
      "text/plain": [
       "<Figure size 720x504 with 4 Axes>"
      ]
     },
     "metadata": {
      "needs_background": "light"
     },
     "output_type": "display_data"
    }
   ],
   "source": [
    "args = argparse.Namespace()\n",
    "args.dataset_type = 'med'\n",
    "args.center_crop = 0.2\n",
    "args.graph_conv = 1\n",
    "\n",
    "data = ElectronPhoton(args)\n",
    "data.prepare_data()\n",
    "data.setup()\n",
    "print(data)\n",
    "display_data(data)"
   ]
  },
  {
   "cell_type": "markdown",
   "id": "3cd4abc5",
   "metadata": {},
   "source": [
    "## Quark Gluon"
   ]
  },
  {
   "cell_type": "code",
   "execution_count": 71,
   "id": "33cecd38",
   "metadata": {
    "ExecuteTime": {
     "end_time": "2022-07-14T17:03:31.104603Z",
     "start_time": "2022-07-14T17:03:30.234711Z"
    }
   },
   "outputs": [
    {
     "name": "stdout",
     "output_type": "stream",
     "text": [
      "Dataset :Quark Gluon\n",
      "╒════════╤═══════════════════╤═══════════════════╤═════════════╕\n",
      "│ Data   │ Train size        │ Test size         │ Dims        │\n",
      "╞════════╪═══════════════════╪═══════════════════╪═════════════╡\n",
      "│ X      │ (9000, 39, 39, 1) │ (1000, 39, 39, 1) │ (39, 39, 1) │\n",
      "├────────┼───────────────────┼───────────────────┼─────────────┤\n",
      "│ y      │ (9000,)           │ (1000,)           │ (1,)        │\n",
      "╘════════╧═══════════════════╧═══════════════════╧═════════════╛\n",
      "\n",
      "Train images stats\n",
      "Min: 0.00\n",
      "Max: 7.09\n",
      "Mean: 0.00\n",
      "Std: 0.01\n",
      "Train labels stats\n",
      "Min: 0.00\n",
      "Max: 1.00\n",
      "\n"
     ]
    },
    {
     "data": {
      "image/png": "[encoded data removed]",
      "text/plain": [
       "<Figure size 720x504 with 4 Axes>"
      ]
     },
     "metadata": {
      "needs_background": "light"
     },
     "output_type": "display_data"
    }
   ],
   "source": [
    "args = argparse.Namespace()\n",
    "\n",
    "data = QuarkGluon(args)\n",
    "data.prepare_data()\n",
    "data.setup()\n",
    "print(data)\n",
    "display_data(data)"
   ]
  },
  {
   "cell_type": "code",
   "execution_count": 72,
   "id": "cd35652f",
   "metadata": {
    "ExecuteTime": {
     "end_time": "2022-07-14T17:03:32.724354Z",
     "start_time": "2022-07-14T17:03:32.660944Z"
    }
   },
   "outputs": [
    {
     "data": {
      "text/plain": [
       "(9000, 1521)"
      ]
     },
     "execution_count": 72,
     "metadata": {},
     "output_type": "execute_result"
    }
   ],
   "source": [
    "x = data.x_train\n",
    "x = x.reshape(-1,np.prod(data.config()['input_dims']))\n",
    "x.shape"
   ]
  },
  {
   "cell_type": "code",
   "execution_count": 73,
   "id": "b55f0ba7",
   "metadata": {
    "ExecuteTime": {
     "end_time": "2022-07-14T17:03:37.982505Z",
     "start_time": "2022-07-14T17:03:33.843269Z"
    }
   },
   "outputs": [
    {
     "data": {
      "image/png": "[encoded data removed]",
      "text/plain": [
       "<Figure size 432x288 with 1 Axes>"
      ]
     },
     "metadata": {
      "needs_background": "light"
     },
     "output_type": "display_data"
    }
   ],
   "source": [
    "pca = PCA().fit(x)\n",
    "plt.plot(np.cumsum(pca.explained_variance_ratio_))\n",
    "plt.xlabel('number of components')\n",
    "plt.ylabel('cumulative explained variance');"
   ]
  },
  {
   "cell_type": "code",
   "execution_count": 75,
   "id": "a884e307",
   "metadata": {
    "ExecuteTime": {
     "end_time": "2022-07-14T17:04:08.628447Z",
     "start_time": "2022-07-14T17:04:06.457359Z"
    }
   },
   "outputs": [
    {
     "name": "stdout",
     "output_type": "stream",
     "text": [
      "Performing PCA on data...\n",
      "Cumulative sum on train : 89.45578\n",
      "Cumulative sum on test: 89.45578\n",
      "Dataset :Quark Gluon\n",
      "╒════════╤═══════════════════╤═══════════════════╤═════════════╕\n",
      "│ Data   │ Train size        │ Test size         │ Dims        │\n",
      "╞════════╪═══════════════════╪═══════════════════╪═════════════╡\n",
      "│ X      │ (9000, 16, 16, 1) │ (1000, 16, 16, 1) │ (16, 16, 1) │\n",
      "├────────┼───────────────────┼───────────────────┼─────────────┤\n",
      "│ y      │ (9000,)           │ (1000,)           │ (1,)        │\n",
      "╘════════╧═══════════════════╧═══════════════════╧═════════════╛\n",
      "\n",
      "Train images stats\n",
      "Min: -0.79\n",
      "Max: 9.86\n",
      "Mean: 0.00\n",
      "Std: 0.03\n",
      "Train labels stats\n",
      "Min: 0.00\n",
      "Max: 1.00\n",
      "\n"
     ]
    },
    {
     "data": {
      "image/png": "[encoded data removed]",
      "text/plain": [
       "<Figure size 720x504 with 4 Axes>"
      ]
     },
     "metadata": {
      "needs_background": "light"
     },
     "output_type": "display_data"
    }
   ],
   "source": [
    "args = argparse.Namespace()\n",
    "args.pca = 256\n",
    "\n",
    "data = QuarkGluon(args)\n",
    "data.prepare_data()\n",
    "data.setup()\n",
    "print(data)\n",
    "display_data(data)"
   ]
  },
  {
   "cell_type": "code",
   "execution_count": 77,
   "id": "5d40b219",
   "metadata": {
    "ExecuteTime": {
     "end_time": "2022-07-14T17:07:59.828396Z",
     "start_time": "2022-07-14T17:07:58.801498Z"
    }
   },
   "outputs": [
    {
     "name": "stdout",
     "output_type": "stream",
     "text": [
      "Resizing data...\n",
      "Resizing data...\n",
      "Dataset :Quark Gluon\n",
      "╒════════╤═════════════════╤═════════════════╤═══════════╕\n",
      "│ Data   │ Train size      │ Test size       │ Dims      │\n",
      "╞════════╪═════════════════╪═════════════════╪═══════════╡\n",
      "│ X      │ (9000, 8, 8, 1) │ (1000, 8, 8, 1) │ (8, 8, 1) │\n",
      "├────────┼─────────────────┼─────────────────┼───────────┤\n",
      "│ y      │ (9000,)         │ (1000,)         │ (1,)      │\n",
      "╘════════╧═════════════════╧═════════════════╧═══════════╛\n",
      "\n",
      "Train images stats\n",
      "Min: 0.00\n",
      "Max: 1.00\n",
      "Mean: 0.00\n",
      "Std: 0.01\n",
      "Train labels stats\n",
      "Min: 0.00\n",
      "Max: 1.00\n",
      "\n"
     ]
    },
    {
     "data": {
      "image/png": "[encoded data removed]",
      "text/plain": [
       "<Figure size 720x504 with 4 Axes>"
      ]
     },
     "metadata": {
      "needs_background": "light"
     },
     "output_type": "display_data"
    }
   ],
   "source": [
    "args = argparse.Namespace()\n",
    "args.resize = [8,8]\n",
    "\n",
    "data = QuarkGluon(args)\n",
    "data.prepare_data()\n",
    "data.setup()\n",
    "print(data)\n",
    "display_data(data)"
   ]
  },
  {
   "cell_type": "code",
   "execution_count": 80,
   "id": "20e1baba",
   "metadata": {
    "ExecuteTime": {
     "end_time": "2022-07-14T17:09:30.804284Z",
     "start_time": "2022-07-14T17:09:28.441647Z"
    }
   },
   "outputs": [
    {
     "name": "stdout",
     "output_type": "stream",
     "text": [
      "Resizing data...\n",
      "Resizing data...\n",
      "Performing graph convolution...\n",
      "Performing graph convolution...\n",
      "Dataset :Quark Gluon\n",
      "╒════════╤═════════════════╤═════════════════╤═══════════╕\n",
      "│ Data   │ Train size      │ Test size       │ Dims      │\n",
      "╞════════╪═════════════════╪═════════════════╪═══════════╡\n",
      "│ X      │ (9000, 8, 8, 1) │ (1000, 8, 8, 1) │ (8, 8, 1) │\n",
      "├────────┼─────────────────┼─────────────────┼───────────┤\n",
      "│ y      │ (9000,)         │ (1000,)         │ (1,)      │\n",
      "╘════════╧═════════════════╧═════════════════╧═══════════╛\n",
      "\n",
      "Train images stats\n",
      "Min: 0.00\n",
      "Max: 1.01\n",
      "Mean: 0.02\n",
      "Std: 0.03\n",
      "Train labels stats\n",
      "Min: 0.00\n",
      "Max: 1.00\n",
      "\n"
     ]
    },
    {
     "data": {
      "image/png": "[encoded data removed]",
      "text/plain": [
       "<Figure size 720x504 with 4 Axes>"
      ]
     },
     "metadata": {
      "needs_background": "light"
     },
     "output_type": "display_data"
    }
   ],
   "source": [
    "args = argparse.Namespace()\n",
    "args.resize = [8,8]\n",
    "args.graph_conv = 1\n",
    "\n",
    "data = QuarkGluon(args)\n",
    "data.prepare_data()\n",
    "data.setup()\n",
    "print(data)\n",
    "display_data(data)"
   ]
  },
  {
   "cell_type": "code",
   "execution_count": 81,
   "id": "16fe7e16",
   "metadata": {
    "ExecuteTime": {
     "end_time": "2022-07-14T17:10:04.975157Z",
     "start_time": "2022-07-14T17:10:04.252869Z"
    }
   },
   "outputs": [
    {
     "name": "stdout",
     "output_type": "stream",
     "text": [
      "Resizing data...\n",
      "Resizing data...\n",
      "Dataset :Quark Gluon\n",
      "╒════════╤═══════════════════╤═══════════════════╤═════════════╕\n",
      "│ Data   │ Train size        │ Test size         │ Dims        │\n",
      "╞════════╪═══════════════════╪═══════════════════╪═════════════╡\n",
      "│ X      │ (9000, 10, 10, 1) │ (1000, 10, 10, 1) │ (10, 10, 1) │\n",
      "├────────┼───────────────────┼───────────────────┼─────────────┤\n",
      "│ y      │ (9000,)           │ (1000,)           │ (1,)        │\n",
      "╘════════╧═══════════════════╧═══════════════════╧═════════════╛\n",
      "\n",
      "Train images stats\n",
      "Min: 0.00\n",
      "Max: 1.37\n",
      "Mean: 0.00\n",
      "Std: 0.01\n",
      "Train labels stats\n",
      "Min: 0.00\n",
      "Max: 1.00\n",
      "\n"
     ]
    },
    {
     "data": {
      "image/png": "[encoded data removed]",
      "text/plain": [
       "<Figure size 720x504 with 4 Axes>"
      ]
     },
     "metadata": {
      "needs_background": "light"
     },
     "output_type": "display_data"
    }
   ],
   "source": [
    "args = argparse.Namespace()\n",
    "args.resize = [10,10]\n",
    "\n",
    "data = QuarkGluon(args)\n",
    "data.prepare_data()\n",
    "data.setup()\n",
    "print(data)\n",
    "display_data(data)"
   ]
  },
  {
   "cell_type": "code",
   "execution_count": 82,
   "id": "f9c3d335",
   "metadata": {
    "ExecuteTime": {
     "end_time": "2022-07-14T17:10:22.218915Z",
     "start_time": "2022-07-14T17:10:19.907986Z"
    }
   },
   "outputs": [
    {
     "name": "stdout",
     "output_type": "stream",
     "text": [
      "Resizing data...\n",
      "Resizing data...\n",
      "Performing graph convolution...\n",
      "Performing graph convolution...\n",
      "Dataset :Quark Gluon\n",
      "╒════════╤═══════════════════╤═══════════════════╤═════════════╕\n",
      "│ Data   │ Train size        │ Test size         │ Dims        │\n",
      "╞════════╪═══════════════════╪═══════════════════╪═════════════╡\n",
      "│ X      │ (9000, 10, 10, 1) │ (1000, 10, 10, 1) │ (10, 10, 1) │\n",
      "├────────┼───────────────────┼───────────────────┼─────────────┤\n",
      "│ y      │ (9000,)           │ (1000,)           │ (1,)        │\n",
      "╘════════╧═══════════════════╧═══════════════════╧═════════════╛\n",
      "\n",
      "Train images stats\n",
      "Min: 0.00\n",
      "Max: 1.38\n",
      "Mean: 0.03\n",
      "Std: 0.06\n",
      "Train labels stats\n",
      "Min: 0.00\n",
      "Max: 1.00\n",
      "\n"
     ]
    },
    {
     "data": {
      "image/png": "[encoded data removed]",
      "text/plain": [
       "<Figure size 720x504 with 4 Axes>"
      ]
     },
     "metadata": {
      "needs_background": "light"
     },
     "output_type": "display_data"
    }
   ],
   "source": [
    "args = argparse.Namespace()\n",
    "args.resize = [10,10]\n",
    "args.graph_conv = 1\n",
    "\n",
    "data = QuarkGluon(args)\n",
    "data.prepare_data()\n",
    "data.setup()\n",
    "print(data)\n",
    "display_data(data)"
   ]
  },
  {
   "cell_type": "code",
   "execution_count": null,
   "id": "a434e007",
   "metadata": {},
   "outputs": [],
   "source": [
    "ss"
   ]
  }
 ],
 "metadata": {
  "kernelspec": {
   "display_name": "Python (qenv)",
   "language": "python",
   "name": "qenv"
  },
  "language_info": {
   "codemirror_mode": {
    "name": "ipython",
    "version": 3
   },
   "file_extension": ".py",
   "mimetype": "text/x-python",
   "name": "python",
   "nbconvert_exporter": "python",
   "pygments_lexer": "ipython3",
   "version": "3.7.13"
  },
  "latex_envs": {
   "LaTeX_envs_menu_present": true,
   "autoclose": false,
   "autocomplete": true,
   "bibliofile": "biblio.bib",
   "cite_by": "apalike",
   "current_citInitial": 1,
   "eqLabelWithNumbers": true,
   "eqNumInitial": 1,
   "hotkeys": {
    "equation": "Ctrl-E",
    "itemize": "Ctrl-I"
   },
   "labels_anchors": false,
   "latex_user_defs": false,
   "report_style_numbering": false,
   "user_envs_cfg": false
  },
  "toc": {
   "base_numbering": 1,
   "nav_menu": {},
   "number_sections": true,
   "sideBar": true,
   "skip_h1_title": false,
   "title_cell": "Table of Contents",
   "title_sidebar": "Contents",
   "toc_cell": false,
   "toc_position": {},
   "toc_section_display": true,
   "toc_window_display": false
  }
 },
 "nbformat": 4,
 "nbformat_minor": 5
}
