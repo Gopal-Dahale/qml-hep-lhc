{
 "cells": [
  {
   "cell_type": "markdown",
   "metadata": {
    "id": "TYoHcTSYQ6gd"
   },
   "source": [
    "Convert electron photon dataset from h5py files to single npz file with train test splitted"
   ]
  },
  {
   "cell_type": "code",
   "execution_count": 2,
   "metadata": {
    "colab": {
     "base_uri": "https://localhost:8080/"
    },
    "id": "_mYerPu_ISDH",
    "outputId": "0ebed197-442d-4230-e352-c6c85f8900b4"
   },
   "outputs": [
    {
     "name": "stdout",
     "output_type": "stream",
     "text": [
      "Mounted at /content/drive\n"
     ]
    }
   ],
   "source": [
    "from google.colab import drive\n",
    "drive.mount('/content/drive')"
   ]
  },
  {
   "cell_type": "code",
   "execution_count": 2,
   "metadata": {
    "id": "5NVPv8FdJKjK"
   },
   "outputs": [],
   "source": [
    "import h5py\n",
    "import numpy as np\n",
    "import matplotlib.pyplot as plt\n",
    "from sklearn.utils import shuffle\n",
    "from sklearn.model_selection import train_test_split\n",
    "from sklearn.utils.random import sample_without_replacement"
   ]
  },
  {
   "cell_type": "code",
   "execution_count": 3,
   "metadata": {
    "id": "-QW-KOj_ICAY"
   },
   "outputs": [],
   "source": [
    "def load_dataset():\n",
    "    with h5py.File(\"../datasets/raw/ep/photon.hdf5\", \"r\") as f:\n",
    "        px = np.asarray(f['X'][()], dtype=np.float32)\n",
    "        py = np.asarray(f['y'][()], dtype=np.float32)\n",
    "        print(\"Loaded photon dataset!\")\n",
    "\n",
    "    with h5py.File(\"../datasets/raw/ep/electron.hdf5\", \"r\") as f:\n",
    "        ex = np.asarray(f['X'][()], dtype=np.float32)\n",
    "        ey = np.asarray(f['y'][()], dtype=np.float32)\n",
    "        print(\"Loaded electron dataset!\")\n",
    "\n",
    "    print(\"Photon dataset shape:\", px.shape, py.shape)\n",
    "    print(\"Electron dataset shape:\", ex.shape, ey.shape)\n",
    "    return px,py,ex,ey"
   ]
  },
  {
   "cell_type": "code",
   "execution_count": 10,
   "metadata": {
    "colab": {
     "base_uri": "https://localhost:8080/"
    },
    "id": "3S3luHlhI1YW",
    "outputId": "6d30547a-d78e-4474-86ef-564a5a557c64"
   },
   "outputs": [
    {
     "name": "stderr",
     "output_type": "stream",
     "text": [
      "tcmalloc: large alloc 2039808000 bytes == 0x82e14000 @  0x7f3ff4402680 0x7f3ff44222ec 0x7f3fe8ca3fae 0x7f3fe8ca488e 0x7f3fe8d02d87 0x7f3fe8d048da 0x7f3f4536bcf9 0x7f3f45367568 0x505166 0x56bbfa 0x569dba 0x4eb54f 0x7f3f47f03aac 0x7f3f47f0c6ba 0x5f74f6 0x50c358 0x5fe736 0x59eb75 0x5139cc 0x56bf28 0x5f6cd6 0x56bacd 0x569dba 0x6902a7 0x6023c4 0x5c6730 0x56bacd 0x501488 0x56d4d6 0x501488 0x56d4d6\n"
     ]
    },
    {
     "name": "stdout",
     "output_type": "stream",
     "text": [
      "Loaded photon dataset!\n"
     ]
    },
    {
     "name": "stderr",
     "output_type": "stream",
     "text": [
      "tcmalloc: large alloc 2039808000 bytes == 0x132176000 @  0x7f3ff4402680 0x7f3ff44222ec 0x7f3fe8ca3fae 0x7f3fe8ca488e 0x7f3fe8d02d87 0x7f3fe8d048da 0x7f3f4536bcf9 0x7f3f45367568 0x505166 0x56bbfa 0x569dba 0x4eb54f 0x7f3f47f03aac 0x7f3f47f0c6ba 0x5f74f6 0x50c358 0x5fe736 0x59eb75 0x5139cc 0x56bf28 0x5f6cd6 0x56bacd 0x569dba 0x6902a7 0x6023c4 0x5c6730 0x56bacd 0x501488 0x56d4d6 0x501488 0x56d4d6\n"
     ]
    },
    {
     "name": "stdout",
     "output_type": "stream",
     "text": [
      "Loaded electron dataset!\n",
      "Photon dataset shape: (249000, 32, 32, 2) (249000,)\n",
      "Electron dataset shape: (249000, 32, 32, 2) (249000,)\n",
      "(249000, 32, 32, 2) (249000,)\n",
      "(249000, 32, 32, 2) (249000,)\n"
     ]
    }
   ],
   "source": [
    "px,py,ex,ey = load_dataset()\n",
    "print(px.shape, py.shape)\n",
    "print(ex.shape, ey.shape)"
   ]
  },
  {
   "cell_type": "code",
   "execution_count": 11,
   "metadata": {
    "colab": {
     "base_uri": "https://localhost:8080/"
    },
    "id": "lLm9YFCZJVUI",
    "outputId": "c27d34f4-43a2-434b-f9cb-964e8a604e4d"
   },
   "outputs": [
    {
     "name": "stdout",
     "output_type": "stream",
     "text": [
      "0.0 0.0\n",
      "1.0 1.0\n"
     ]
    }
   ],
   "source": [
    "print(py.max(), py.min())\n",
    "print(ey.max(), ey.min())"
   ]
  },
  {
   "cell_type": "code",
   "execution_count": 12,
   "metadata": {
    "colab": {
     "base_uri": "https://localhost:8080/",
     "height": 302
    },
    "id": "RLtBvEEXJYkX",
    "outputId": "729cd520-6c5e-4adc-8fb1-86bbe18b07fb"
   },
   "outputs": [
    {
     "data": {
      "image/png": "[encoded data removed]",
      "text/plain": [
       "<Figure size 720x504 with 2 Axes>"
      ]
     },
     "metadata": {
      "needs_background": "light"
     },
     "output_type": "display_data"
    }
   ],
   "source": [
    "fig = plt.figure(figsize=(10, 7))\n",
    "rows = 1\n",
    "columns = 2\n",
    "for i in range(columns):\n",
    "    fig.add_subplot(rows, columns,i+1)\n",
    "    plt.imshow(px[0,:,:,i])"
   ]
  },
  {
   "cell_type": "code",
   "execution_count": 13,
   "metadata": {
    "colab": {
     "base_uri": "https://localhost:8080/",
     "height": 302
    },
    "id": "KkCVOcUVJZjJ",
    "outputId": "7483c3af-3ba3-4160-a268-fc37c6509e58"
   },
   "outputs": [
    {
     "data": {
      "image/png": "[encoded data removed]",
      "text/plain": [
       "<Figure size 720x504 with 2 Axes>"
      ]
     },
     "metadata": {
      "needs_background": "light"
     },
     "output_type": "display_data"
    }
   ],
   "source": [
    "fig = plt.figure(figsize=(10, 7))\n",
    "rows = 1\n",
    "columns = 2\n",
    "for i in range(columns):\n",
    "    fig.add_subplot(rows, columns,i+1)\n",
    "    plt.imshow(ex[0,:,:,i])"
   ]
  },
  {
   "cell_type": "code",
   "execution_count": null,
   "metadata": {
    "colab": {
     "base_uri": "https://localhost:8080/"
    },
    "id": "tinEoSReKaoV",
    "outputId": "215f2503-08b6-4ebd-b51a-376029bc3cea"
   },
   "outputs": [
    {
     "name": "stdout",
     "output_type": "stream",
     "text": [
      "(498000, 32, 32, 2)\n",
      "(498000,)\n"
     ]
    }
   ],
   "source": [
    "x = np.concatenate((px,ex), axis =0)\n",
    "y = np.concatenate((py,ey), axis= 0)\n",
    "del px,ex,py,ey\n",
    "print(x.shape)\n",
    "print(y.shape)"
   ]
  },
  {
   "cell_type": "code",
   "execution_count": null,
   "metadata": {
    "id": "MxRR9_yQMPMe"
   },
   "outputs": [],
   "source": [
    "x, y = shuffle(x,y)"
   ]
  },
  {
   "cell_type": "code",
   "execution_count": null,
   "metadata": {
    "colab": {
     "base_uri": "https://localhost:8080/"
    },
    "id": "TkMNhozhaj45",
    "outputId": "14965965-0913-4fa7-9345-05c6337a26bc"
   },
   "outputs": [
    {
     "name": "stdout",
     "output_type": "stream",
     "text": [
      "2.2779698 -2.512557\n",
      "1.0 0.0\n"
     ]
    }
   ],
   "source": [
    "print(x.max(),x.min())\n",
    "print(y.max(),y.min())"
   ]
  },
  {
   "cell_type": "code",
   "execution_count": null,
   "metadata": {
    "colab": {
     "base_uri": "https://localhost:8080/"
    },
    "id": "24oDNKBUbJDp",
    "outputId": "bc72633e-8a1a-46d7-e8c4-843b252ab51a"
   },
   "outputs": [
    {
     "data": {
      "text/plain": [
       "3892.5247192382812"
      ]
     },
     "execution_count": 11,
     "metadata": {},
     "output_type": "execute_result"
    }
   ],
   "source": [
    "x.nbytes/(1024**2) + y.nbytes/(1024**2)"
   ]
  },
  {
   "cell_type": "code",
   "execution_count": null,
   "metadata": {
    "id": "ktubBuBma_FK"
   },
   "outputs": [],
   "source": [
    "def reduce_memory_usage(x, verbose=True):\n",
    "    numerics = [\"int8\", \"int16\", \"int32\", \"int64\", \"float16\", \"float32\", \"float64\"]\n",
    "    start_mem = x.nbytes/(1024**2)\n",
    "\n",
    "    dtype = str(x.dtype)\n",
    "    if dtype in numerics:\n",
    "        c_min = x.min()\n",
    "        c_max = x.max()\n",
    "\n",
    "        if dtype[:3] == 'int':\n",
    "            if c_min > np.iinfo(np.int8).min and c_max < np.iinfo(np.int8).max:\n",
    "                x = x.astype(np.int8)\n",
    "            elif c_min > np.iinfo(np.int16).min and c_max < np.iinfo(np.int16).max:\n",
    "                x = x.astype(np.int16)\n",
    "            elif c_min > np.iinfo(np.int32).min and c_max < np.iinfo(np.int32).max:\n",
    "                x = x.astype(np.int32)\n",
    "            elif c_min > np.iinfo(np.int64).min and c_max < np.iinfo(np.int64).max:\n",
    "                x = x.astype(np.int64)\n",
    "        else:\n",
    "            if (\n",
    "                c_min > np.finfo(np.float16).min\n",
    "                and c_max < np.finfo(np.float16).max\n",
    "            ):\n",
    "                x = x.astype(np.float16)\n",
    "            elif (\n",
    "                c_min > np.finfo(np.float32).min\n",
    "                and c_max < np.finfo(np.float32).max\n",
    "            ):\n",
    "                x = x.astype(np.float32)\n",
    "            else:\n",
    "                x = x.astype(np.float64)\n",
    "    end_mem = x.nbytes/(1024**2)\n",
    "    if verbose:\n",
    "        print(\n",
    "            \"Mem. usage decreased to {:.2f} Mb ({:.1f}% reduction)\".format(\n",
    "                end_mem, 100 * (start_mem - end_mem) / start_mem\n",
    "            )\n",
    "        )\n",
    "    return x"
   ]
  },
  {
   "cell_type": "code",
   "execution_count": null,
   "metadata": {
    "colab": {
     "base_uri": "https://localhost:8080/"
    },
    "id": "bQW7SKTLdkpr",
    "outputId": "b29481e2-05aa-45fa-b819-bcdc1d18ca6e"
   },
   "outputs": [
    {
     "name": "stdout",
     "output_type": "stream",
     "text": [
      "Mem. usage decreased to 1945.31 Mb (50.0% reduction)\n"
     ]
    }
   ],
   "source": [
    "x = reduce_memory_usage(x)"
   ]
  },
  {
   "cell_type": "code",
   "execution_count": null,
   "metadata": {
    "colab": {
     "base_uri": "https://localhost:8080/"
    },
    "id": "dltArRzZdo9w",
    "outputId": "f805df78-dbb2-45da-9834-f2288c681a0d"
   },
   "outputs": [
    {
     "name": "stdout",
     "output_type": "stream",
     "text": [
      "Mem. usage decreased to 0.95 Mb (50.0% reduction)\n"
     ]
    }
   ],
   "source": [
    "y = reduce_memory_usage(y)"
   ]
  },
  {
   "cell_type": "code",
   "execution_count": null,
   "metadata": {
    "colab": {
     "base_uri": "https://localhost:8080/"
    },
    "id": "OVnPpdS4drck",
    "outputId": "5c926848-b48f-48c0-a072-3e0e043f6566"
   },
   "outputs": [
    {
     "name": "stdout",
     "output_type": "stream",
     "text": [
      "(498000, 32, 32, 2)\n",
      "(498000,)\n"
     ]
    },
    {
     "data": {
      "text/plain": [
       "1946.2623596191406"
      ]
     },
     "execution_count": 15,
     "metadata": {},
     "output_type": "execute_result"
    }
   ],
   "source": [
    "print(x.shape)\n",
    "print(y.shape)\n",
    "x.nbytes/(1024**2) + y.nbytes/(1024**2)"
   ]
  },
  {
   "cell_type": "code",
   "execution_count": null,
   "metadata": {
    "colab": {
     "base_uri": "https://localhost:8080/"
    },
    "id": "52fsdaBGeLPl",
    "outputId": "198dd739-b77c-46e5-f48c-5e44ce984433"
   },
   "outputs": [
    {
     "name": "stdout",
     "output_type": "stream",
     "text": [
      "2.277 -2.512\n",
      "1.0 0.0\n"
     ]
    }
   ],
   "source": [
    "print(x.max(),x.min())\n",
    "print(y.max(),y.min())"
   ]
  },
  {
   "cell_type": "code",
   "execution_count": null,
   "metadata": {
    "colab": {
     "base_uri": "https://localhost:8080/"
    },
    "id": "54CUnAA-MzgD",
    "outputId": "639300bc-fd18-498d-bf16-3097852ae245"
   },
   "outputs": [
    {
     "name": "stdout",
     "output_type": "stream",
     "text": [
      "(423300, 32, 32, 2) (423300,)\n",
      "(74700, 32, 32, 2) (74700,)\n"
     ]
    }
   ],
   "source": [
    "x_train, x_test, y_train, y_test = train_test_split(x,y, test_size = 0.15, random_state=42, stratify=y)\n",
    "print(x_train.shape, y_train.shape)\n",
    "print(x_test.shape, y_test.shape)\n",
    "del x, y"
   ]
  },
  {
   "cell_type": "code",
   "execution_count": null,
   "metadata": {
    "id": "ImpcKmJONgvj"
   },
   "outputs": [],
   "source": [
    "np.savez_compressed('/content/electron-photon-large.npz', **{\n",
    "    'x_train': x_train,\n",
    "    'y_train':y_train,\n",
    "    'x_test':x_test,\n",
    "    'y_test':y_test\n",
    "})"
   ]
  },
  {
   "cell_type": "code",
   "execution_count": null,
   "metadata": {
    "id": "iaqRZPsDO81s"
   },
   "outputs": [],
   "source": [
    "del x_train, x_test, y_train, y_test"
   ]
  },
  {
   "cell_type": "code",
   "execution_count": null,
   "metadata": {
    "id": "81Qn-4iaPeiq"
   },
   "outputs": [],
   "source": [
    "data = np.load('/content/electron-photon-large.npz', allow_pickle=True)"
   ]
  },
  {
   "cell_type": "markdown",
   "metadata": {
    "id": "su0KeG5nQ1PX"
   },
   "source": [
    "Download the dataset from sidebar"
   ]
  },
  {
   "cell_type": "code",
   "execution_count": null,
   "metadata": {
    "colab": {
     "base_uri": "https://localhost:8080/"
    },
    "id": "jNpy5e2yPlPk",
    "outputId": "b86772ef-e42c-4429-e6a2-cbfee0fee8e5"
   },
   "outputs": [
    {
     "data": {
      "text/plain": [
       "(423300, 32, 32, 2)"
      ]
     },
     "execution_count": 13,
     "metadata": {},
     "output_type": "execute_result"
    }
   ],
   "source": [
    "data['x_train'].shape"
   ]
  },
  {
   "cell_type": "markdown",
   "metadata": {
    "id": "d0F05SdvIqnk"
   },
   "source": [
    "Preprocess electron photon"
   ]
  },
  {
   "cell_type": "code",
   "execution_count": 27,
   "metadata": {
    "colab": {
     "base_uri": "https://localhost:8080/"
    },
    "id": "c-G1-8dMQkgP",
    "outputId": "cc93da2a-902e-4dd7-bddb-b5d1f529d96c"
   },
   "outputs": [
    {
     "name": "stdout",
     "output_type": "stream",
     "text": [
      "Loaded photon dataset!\n",
      "Loaded electron dataset!\n",
      "Photon dataset shape: (249000, 32, 32, 2) (249000,)\n",
      "Electron dataset shape: (249000, 32, 32, 2) (249000,)\n"
     ]
    }
   ],
   "source": [
    "px,py,ex,ey = load_dataset()"
   ]
  },
  {
   "cell_type": "code",
   "execution_count": 6,
   "metadata": {
    "id": "A_0y95s1LcII"
   },
   "outputs": [],
   "source": [
    "def check_borders(x):\n",
    "    # finding the left-most non-zero pixel coordinate \n",
    "    for i in range(x.shape[2]):\n",
    "        if (x[:, :, i, 0].max() != 1) or (x[:, :, i, 1].max() != 0):\n",
    "            border_left = i\n",
    "            break\n",
    "\n",
    "    # finding the right-most non-zero pixel coordinate \n",
    "    for i in range(x.shape[2]):\n",
    "        if (x[:, :, x.shape[2]-1-i,0].max() != 0) or (x[:, :, x.shape[2]-1-i,1].max() != 0):\n",
    "            border_right = x.shape[2]-1-i\n",
    "            break\n",
    "\n",
    "    # finding the top-most non-zero pixel coordinate \n",
    "    for i in range(x.shape[1]):\n",
    "        if (x[:, i, :,0].max() != 0) or (x[:, i, :,1].max() != 0):\n",
    "            border_top = i\n",
    "            break\n",
    "\n",
    "    # finding the bottom-most non-zero pixel coordinate \n",
    "    for i in range(x.shape[1]):\n",
    "        if (x[:, x.shape[1]-1-i, :,0].max() != 0) or (x[:, x.shape[1]-1-i, :,1].max() != 0):\n",
    "            border_bottom = x.shape[1]-1-i\n",
    "            break\n",
    "\n",
    "    print(border_left, border_right)\n",
    "    print(border_top, border_bottom)"
   ]
  },
  {
   "cell_type": "code",
   "execution_count": 7,
   "metadata": {
    "colab": {
     "base_uri": "https://localhost:8080/"
    },
    "id": "MMn5rQ0KM5ZU",
    "outputId": "c369b561-e35c-48aa-eef8-56e12e45f9f6"
   },
   "outputs": [
    {
     "name": "stdout",
     "output_type": "stream",
     "text": [
      "0 31\n",
      "0 31\n"
     ]
    }
   ],
   "source": [
    "check_borders(px)"
   ]
  },
  {
   "cell_type": "code",
   "execution_count": 8,
   "metadata": {
    "colab": {
     "base_uri": "https://localhost:8080/"
    },
    "id": "RsbXRVHYM66i",
    "outputId": "dbc3d0ff-a7ed-4d66-95be-332801af91a0"
   },
   "outputs": [
    {
     "name": "stdout",
     "output_type": "stream",
     "text": [
      "0 31\n",
      "0 31\n"
     ]
    }
   ],
   "source": [
    "check_borders(ex)"
   ]
  },
  {
   "cell_type": "markdown",
   "metadata": {
    "id": "0nB80KSBNKst"
   },
   "source": [
    "Both training and testing datasets have non-zero pixels near the image's very edges, making it impossible to crop the image without information loss."
   ]
  },
  {
   "cell_type": "code",
   "execution_count": 28,
   "metadata": {
    "id": "m_SReZ4QUSm5"
   },
   "outputs": [],
   "source": [
    "n_samples = 60000\n",
    "n_population = px.shape[0]\n",
    "\n",
    "samples = sample_without_replacement(n_population, n_samples)\n",
    "px_sampled = px[samples][:,:,:,0].reshape(-1,32,32,1)\n",
    "del px\n",
    "\n",
    "n_population = ex.shape[0]\n",
    "samples = sample_without_replacement(n_population, n_samples)\n",
    "ex_sampled = ex[samples][:,:,:,0].reshape(-1,32,32,1)\n",
    "del ex"
   ]
  },
  {
   "cell_type": "code",
   "execution_count": 29,
   "metadata": {
    "id": "N0ykIFNvVqNo"
   },
   "outputs": [],
   "source": [
    "py = [0]*n_samples\n",
    "ey = [1]*n_samples"
   ]
  },
  {
   "cell_type": "code",
   "execution_count": 30,
   "metadata": {
    "colab": {
     "base_uri": "https://localhost:8080/"
    },
    "id": "ot4azciPVJWJ",
    "outputId": "4c8fa046-73df-4104-bc04-b4759f2eeb78"
   },
   "outputs": [
    {
     "name": "stdout",
     "output_type": "stream",
     "text": [
      "(120000, 32, 32, 1)\n",
      "(120000,)\n"
     ]
    }
   ],
   "source": [
    "x = np.concatenate((px_sampled,ex_sampled), axis =0)\n",
    "y = np.concatenate((py,ey), axis= 0)\n",
    "del px_sampled,ex_sampled,py,ey\n",
    "print(x.shape)\n",
    "print(y.shape)"
   ]
  },
  {
   "cell_type": "code",
   "execution_count": 31,
   "metadata": {
    "id": "pNAFWWx_Vc0Q"
   },
   "outputs": [],
   "source": [
    "x, y = shuffle(x,y)"
   ]
  },
  {
   "cell_type": "code",
   "execution_count": 32,
   "metadata": {
    "colab": {
     "base_uri": "https://localhost:8080/"
    },
    "id": "agMVS9qSta7q",
    "outputId": "e714de99-d1db-439d-f463-aead18a99df1"
   },
   "outputs": [
    {
     "name": "stdout",
     "output_type": "stream",
     "text": [
      "1.4783498 0.0\n",
      "1 0\n"
     ]
    }
   ],
   "source": [
    "print(x.max(),x.min())\n",
    "print(y.max(),y.min())"
   ]
  },
  {
   "cell_type": "code",
   "execution_count": 37,
   "metadata": {
    "colab": {
     "base_uri": "https://localhost:8080/"
    },
    "id": "g_jsw2KwV4fY",
    "outputId": "bcae80f4-9d82-4571-e8ba-86bd5c601a62"
   },
   "outputs": [
    {
     "name": "stdout",
     "output_type": "stream",
     "text": [
      "(100000, 32, 32, 1) (100000,)\n",
      "(20000, 32, 32, 1) (20000,)\n"
     ]
    }
   ],
   "source": [
    "x_train, x_test, y_train, y_test = train_test_split(x,y, test_size = 0.16666, random_state=42,stratify=y)\n",
    "print(x_train.shape, y_train.shape)\n",
    "print(x_test.shape, y_test.shape)\n",
    "# del x, y"
   ]
  },
  {
   "cell_type": "code",
   "execution_count": 39,
   "metadata": {
    "id": "E9VixlZ5WFS_"
   },
   "outputs": [],
   "source": [
    "np.savez_compressed('../datasets/downloaded/electron_photon_2.npz', **{\n",
    "    'x_train': x_train,\n",
    "    'y_train':y_train,\n",
    "    'x_test':x_test,\n",
    "    'y_test':y_test\n",
    "})\n",
    "del x_train, x_test, y_train, y_test"
   ]
  },
  {
   "cell_type": "code",
   "execution_count": 40,
   "metadata": {
    "id": "ZIljmQThWYMf"
   },
   "outputs": [],
   "source": [
    "data = np.load('../datasets/downloaded/electron_photon_2.npz', allow_pickle=True)"
   ]
  },
  {
   "cell_type": "code",
   "execution_count": 41,
   "metadata": {
    "colab": {
     "base_uri": "https://localhost:8080/"
    },
    "id": "SukQNWYCWdMF",
    "outputId": "5ea782f6-42a5-4f24-b941-527b879e8b55"
   },
   "outputs": [
    {
     "data": {
      "text/plain": [
       "(100000, 32, 32, 1)"
      ]
     },
     "execution_count": 41,
     "metadata": {},
     "output_type": "execute_result"
    }
   ],
   "source": [
    "data['x_train'].shape"
   ]
  },
  {
   "cell_type": "code",
   "execution_count": 51,
   "metadata": {
    "colab": {
     "base_uri": "https://localhost:8080/",
     "height": 283
    },
    "id": "RDqHQb3QWd9N",
    "outputId": "acae5579-f31e-43f6-9f38-f5e1fa2778c5"
   },
   "outputs": [
    {
     "data": {
      "text/plain": [
       "<matplotlib.image.AxesImage at 0x7f3e9c2dad90>"
      ]
     },
     "execution_count": 51,
     "metadata": {},
     "output_type": "execute_result"
    },
    {
     "data": {
      "image/png": "[encoded data removed]",
      "text/plain": [
       "<Figure size 432x288 with 1 Axes>"
      ]
     },
     "metadata": {
      "needs_background": "light"
     },
     "output_type": "display_data"
    }
   ],
   "source": [
    "plt.imshow(data['x_train'][89][:,:,0])"
   ]
  },
  {
   "cell_type": "code",
   "execution_count": 43,
   "metadata": {
    "colab": {
     "base_uri": "https://localhost:8080/"
    },
    "id": "xXSj6ZhykJQW",
    "outputId": "4cd9d627-2c5a-4bb0-ff5b-07f5ced02ee0"
   },
   "outputs": [
    {
     "data": {
      "text/plain": [
       "((100000, 32, 32, 1), (20000, 32, 32, 1))"
      ]
     },
     "execution_count": 43,
     "metadata": {},
     "output_type": "execute_result"
    }
   ],
   "source": [
    "data['x_train'].shape, data['x_test'].shape"
   ]
  },
  {
   "cell_type": "code",
   "execution_count": null,
   "metadata": {
    "id": "mLj_rrfxuPPW"
   },
   "outputs": [],
   "source": [
    "p"
   ]
  }
 ],
 "metadata": {
  "colab": {
   "collapsed_sections": [],
   "name": "Electron-Photon-converter.ipynb",
   "provenance": []
  },
  "gpuClass": "standard",
  "kernelspec": {
   "display_name": "Python 3 (ipykernel)",
   "language": "python",
   "name": "python3"
  },
  "language_info": {
   "codemirror_mode": {
    "name": "ipython",
    "version": 3
   },
   "file_extension": ".py",
   "mimetype": "text/x-python",
   "name": "python",
   "nbconvert_exporter": "python",
   "pygments_lexer": "ipython3",
   "version": "3.8.10"
  }
 },
 "nbformat": 4,
 "nbformat_minor": 1
}
