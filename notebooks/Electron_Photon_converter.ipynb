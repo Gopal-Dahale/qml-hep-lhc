{
  "nbformat": 4,
  "nbformat_minor": 0,
  "metadata": {
    "colab": {
      "name": "Electron-Photon-converter.ipynb",
      "provenance": [],
      "collapsed_sections": []
    },
    "kernelspec": {
      "name": "python3",
      "display_name": "Python 3"
    },
    "language_info": {
      "name": "python"
    },
    "gpuClass": "standard"
  },
  "cells": [
    {
      "cell_type": "markdown",
      "source": [
        "Convert electron photon dataset from h5py files to single npz file with train test splitted"
      ],
      "metadata": {
        "id": "TYoHcTSYQ6gd"
      }
    },
    {
      "cell_type": "code",
      "source": [
        "from google.colab import drive\n",
        "drive.mount('/content/drive')"
      ],
      "metadata": {
        "colab": {
          "base_uri": "https://localhost:8080/"
        },
        "id": "_mYerPu_ISDH",
        "outputId": "0ebed197-442d-4230-e352-c6c85f8900b4"
      },
      "execution_count": 2,
      "outputs": [
        {
          "output_type": "stream",
          "name": "stdout",
          "text": [
            "Mounted at /content/drive\n"
          ]
        }
      ]
    },
    {
      "cell_type": "code",
      "source": [
        "import h5py\n",
        "import numpy as np\n",
        "import matplotlib.pyplot as plt\n",
        "from sklearn.utils import shuffle\n",
        "from sklearn.model_selection import train_test_split\n",
        "from sklearn.utils.random import sample_without_replacement"
      ],
      "metadata": {
        "id": "5NVPv8FdJKjK"
      },
      "execution_count": 3,
      "outputs": []
    },
    {
      "cell_type": "code",
      "execution_count": 4,
      "metadata": {
        "id": "-QW-KOj_ICAY"
      },
      "outputs": [],
      "source": [
        "def load_dataset():\n",
        "    with h5py.File(\"/content/drive/My Drive/electron-photon-dataset/photon.hdf5\", \"r\") as f:\n",
        "        px = np.asarray(f['X'][()], dtype=np.float32)\n",
        "        py = np.asarray(f['y'][()], dtype=np.float32)\n",
        "        print(\"Loaded photon dataset!\")\n",
        "\n",
        "    with h5py.File(\"/content/drive/My Drive/electron-photon-dataset/electron.hdf5\", \"r\") as f:\n",
        "        ex = np.asarray(f['X'][()], dtype=np.float32)\n",
        "        ey = np.asarray(f['y'][()], dtype=np.float32)\n",
        "        print(\"Loaded electron dataset!\")\n",
        "\n",
        "    print(\"Photon dataset shape:\", px.shape, py.shape)\n",
        "    print(\"Electron dataset shape:\", ex.shape, ey.shape)\n",
        "    return px,py,ex,ey"
      ]
    },
    {
      "cell_type": "code",
      "source": [
        "px,py,ex,ey = load_dataset()\n",
        "print(px.shape, py.shape)\n",
        "print(ex.shape, ey.shape)"
      ],
      "metadata": {
        "colab": {
          "base_uri": "https://localhost:8080/"
        },
        "id": "3S3luHlhI1YW",
        "outputId": "6d30547a-d78e-4474-86ef-564a5a557c64"
      },
      "execution_count": null,
      "outputs": [
        {
          "output_type": "stream",
          "name": "stdout",
          "text": [
            "Loaded photon dataset!\n",
            "Loaded electron dataset!\n",
            "Photon dataset shape: (249000, 32, 32, 2) (249000,)\n",
            "Electron dataset shape: (249000, 32, 32, 2) (249000,)\n",
            "(249000, 32, 32, 2) (249000,)\n",
            "(249000, 32, 32, 2) (249000,)\n"
          ]
        }
      ]
    },
    {
      "cell_type": "code",
      "source": [
        "print(py.max(), py.min())\n",
        "print(ey.max(), ey.min())"
      ],
      "metadata": {
        "colab": {
          "base_uri": "https://localhost:8080/"
        },
        "id": "lLm9YFCZJVUI",
        "outputId": "c27d34f4-43a2-434b-f9cb-964e8a604e4d"
      },
      "execution_count": null,
      "outputs": [
        {
          "output_type": "stream",
          "name": "stdout",
          "text": [
            "0.0 0.0\n",
            "1.0 1.0\n"
          ]
        }
      ]
    },
    {
      "cell_type": "code",
      "source": [
        "fig = plt.figure(figsize=(10, 7))\n",
        "rows = 1\n",
        "columns = 2\n",
        "for i in range(columns):\n",
        "    fig.add_subplot(rows, columns,i+1)\n",
        "    plt.imshow(px[0,:,:,i])"
      ],
      "metadata": {
        "colab": {
          "base_uri": "https://localhost:8080/",
          "height": 302
        },
        "id": "RLtBvEEXJYkX",
        "outputId": "729cd520-6c5e-4adc-8fb1-86bbe18b07fb"
      },
      "execution_count": null,
      "outputs": [
        {
          "output_type": "display_data",
          "data": {
            "text/plain": [
              "<Figure size 720x504 with 2 Axes>"
            ],
            "image/png": "[encoded data removed]"
          },
          "metadata": {
            "needs_background": "light"
          }
        }
      ]
    },
    {
      "cell_type": "code",
      "source": [
        "fig = plt.figure(figsize=(10, 7))\n",
        "rows = 1\n",
        "columns = 2\n",
        "for i in range(columns):\n",
        "    fig.add_subplot(rows, columns,i+1)\n",
        "    plt.imshow(ex[0,:,:,i])"
      ],
      "metadata": {
        "colab": {
          "base_uri": "https://localhost:8080/",
          "height": 302
        },
        "id": "KkCVOcUVJZjJ",
        "outputId": "7483c3af-3ba3-4160-a268-fc37c6509e58"
      },
      "execution_count": null,
      "outputs": [
        {
          "output_type": "display_data",
          "data": {
            "text/plain": [
              "<Figure size 720x504 with 2 Axes>"
            ],
            "image/png": "[encoded data removed]"
          },
          "metadata": {
            "needs_background": "light"
          }
        }
      ]
    },
    {
      "cell_type": "code",
      "source": [
        "x = np.concatenate((px,ex), axis =0)\n",
        "y = np.concatenate((py,ey), axis= 0)\n",
        "del px,ex,py,ey\n",
        "print(x.shape)\n",
        "print(y.shape)"
      ],
      "metadata": {
        "colab": {
          "base_uri": "https://localhost:8080/"
        },
        "id": "tinEoSReKaoV",
        "outputId": "215f2503-08b6-4ebd-b51a-376029bc3cea"
      },
      "execution_count": null,
      "outputs": [
        {
          "output_type": "stream",
          "name": "stdout",
          "text": [
            "(498000, 32, 32, 2)\n",
            "(498000,)\n"
          ]
        }
      ]
    },
    {
      "cell_type": "code",
      "source": [
        "x, y = shuffle(x,y)"
      ],
      "metadata": {
        "id": "MxRR9_yQMPMe"
      },
      "execution_count": null,
      "outputs": []
    },
    {
      "cell_type": "code",
      "source": [
        "print(x.max(),x.min())\n",
        "print(y.max(),y.min())"
      ],
      "metadata": {
        "colab": {
          "base_uri": "https://localhost:8080/"
        },
        "id": "TkMNhozhaj45",
        "outputId": "14965965-0913-4fa7-9345-05c6337a26bc"
      },
      "execution_count": null,
      "outputs": [
        {
          "output_type": "stream",
          "name": "stdout",
          "text": [
            "2.2779698 -2.512557\n",
            "1.0 0.0\n"
          ]
        }
      ]
    },
    {
      "cell_type": "code",
      "source": [
        "x.nbytes/(1024**2) + y.nbytes/(1024**2)"
      ],
      "metadata": {
        "colab": {
          "base_uri": "https://localhost:8080/"
        },
        "id": "24oDNKBUbJDp",
        "outputId": "bc72633e-8a1a-46d7-e8c4-843b252ab51a"
      },
      "execution_count": null,
      "outputs": [
        {
          "output_type": "execute_result",
          "data": {
            "text/plain": [
              "3892.5247192382812"
            ]
          },
          "metadata": {},
          "execution_count": 11
        }
      ]
    },
    {
      "cell_type": "code",
      "source": [
        "def reduce_memory_usage(x, verbose=True):\n",
        "    numerics = [\"int8\", \"int16\", \"int32\", \"int64\", \"float16\", \"float32\", \"float64\"]\n",
        "    start_mem = x.nbytes/(1024**2)\n",
        "\n",
        "    dtype = str(x.dtype)\n",
        "    if dtype in numerics:\n",
        "        c_min = x.min()\n",
        "        c_max = x.max()\n",
        "\n",
        "        if dtype[:3] == 'int':\n",
        "            if c_min > np.iinfo(np.int8).min and c_max < np.iinfo(np.int8).max:\n",
        "                x = x.astype(np.int8)\n",
        "            elif c_min > np.iinfo(np.int16).min and c_max < np.iinfo(np.int16).max:\n",
        "                x = x.astype(np.int16)\n",
        "            elif c_min > np.iinfo(np.int32).min and c_max < np.iinfo(np.int32).max:\n",
        "                x = x.astype(np.int32)\n",
        "            elif c_min > np.iinfo(np.int64).min and c_max < np.iinfo(np.int64).max:\n",
        "                x = x.astype(np.int64)\n",
        "        else:\n",
        "            if (\n",
        "                c_min > np.finfo(np.float16).min\n",
        "                and c_max < np.finfo(np.float16).max\n",
        "            ):\n",
        "                x = x.astype(np.float16)\n",
        "            elif (\n",
        "                c_min > np.finfo(np.float32).min\n",
        "                and c_max < np.finfo(np.float32).max\n",
        "            ):\n",
        "                x = x.astype(np.float32)\n",
        "            else:\n",
        "                x = x.astype(np.float64)\n",
        "    end_mem = x.nbytes/(1024**2)\n",
        "    if verbose:\n",
        "        print(\n",
        "            \"Mem. usage decreased to {:.2f} Mb ({:.1f}% reduction)\".format(\n",
        "                end_mem, 100 * (start_mem - end_mem) / start_mem\n",
        "            )\n",
        "        )\n",
        "    return x"
      ],
      "metadata": {
        "id": "ktubBuBma_FK"
      },
      "execution_count": null,
      "outputs": []
    },
    {
      "cell_type": "code",
      "source": [
        "x = reduce_memory_usage(x)"
      ],
      "metadata": {
        "colab": {
          "base_uri": "https://localhost:8080/"
        },
        "id": "bQW7SKTLdkpr",
        "outputId": "b29481e2-05aa-45fa-b819-bcdc1d18ca6e"
      },
      "execution_count": null,
      "outputs": [
        {
          "output_type": "stream",
          "name": "stdout",
          "text": [
            "Mem. usage decreased to 1945.31 Mb (50.0% reduction)\n"
          ]
        }
      ]
    },
    {
      "cell_type": "code",
      "source": [
        "y = reduce_memory_usage(y)"
      ],
      "metadata": {
        "colab": {
          "base_uri": "https://localhost:8080/"
        },
        "id": "dltArRzZdo9w",
        "outputId": "f805df78-dbb2-45da-9834-f2288c681a0d"
      },
      "execution_count": null,
      "outputs": [
        {
          "output_type": "stream",
          "name": "stdout",
          "text": [
            "Mem. usage decreased to 0.95 Mb (50.0% reduction)\n"
          ]
        }
      ]
    },
    {
      "cell_type": "code",
      "source": [
        "print(x.shape)\n",
        "print(y.shape)\n",
        "x.nbytes/(1024**2) + y.nbytes/(1024**2)"
      ],
      "metadata": {
        "colab": {
          "base_uri": "https://localhost:8080/"
        },
        "id": "OVnPpdS4drck",
        "outputId": "5c926848-b48f-48c0-a072-3e0e043f6566"
      },
      "execution_count": null,
      "outputs": [
        {
          "output_type": "stream",
          "name": "stdout",
          "text": [
            "(498000, 32, 32, 2)\n",
            "(498000,)\n"
          ]
        },
        {
          "output_type": "execute_result",
          "data": {
            "text/plain": [
              "1946.2623596191406"
            ]
          },
          "metadata": {},
          "execution_count": 15
        }
      ]
    },
    {
      "cell_type": "code",
      "source": [
        "print(x.max(),x.min())\n",
        "print(y.max(),y.min())"
      ],
      "metadata": {
        "colab": {
          "base_uri": "https://localhost:8080/"
        },
        "id": "52fsdaBGeLPl",
        "outputId": "198dd739-b77c-46e5-f48c-5e44ce984433"
      },
      "execution_count": null,
      "outputs": [
        {
          "output_type": "stream",
          "name": "stdout",
          "text": [
            "2.277 -2.512\n",
            "1.0 0.0\n"
          ]
        }
      ]
    },
    {
      "cell_type": "code",
      "source": [
        "x_train, x_test, y_train, y_test = train_test_split(x,y, test_size = 0.15, random_state=42, stratify=y)\n",
        "print(x_train.shape, y_train.shape)\n",
        "print(x_test.shape, y_test.shape)\n",
        "del x, y"
      ],
      "metadata": {
        "colab": {
          "base_uri": "https://localhost:8080/"
        },
        "id": "54CUnAA-MzgD",
        "outputId": "639300bc-fd18-498d-bf16-3097852ae245"
      },
      "execution_count": null,
      "outputs": [
        {
          "output_type": "stream",
          "name": "stdout",
          "text": [
            "(423300, 32, 32, 2) (423300,)\n",
            "(74700, 32, 32, 2) (74700,)\n"
          ]
        }
      ]
    },
    {
      "cell_type": "code",
      "source": [
        "np.savez_compressed('/content/electron-photon-large.npz', **{\n",
        "    'x_train': x_train,\n",
        "    'y_train':y_train,\n",
        "    'x_test':x_test,\n",
        "    'y_test':y_test\n",
        "})"
      ],
      "metadata": {
        "id": "ImpcKmJONgvj"
      },
      "execution_count": null,
      "outputs": []
    },
    {
      "cell_type": "code",
      "source": [
        "del x_train, x_test, y_train, y_test"
      ],
      "metadata": {
        "id": "iaqRZPsDO81s"
      },
      "execution_count": null,
      "outputs": []
    },
    {
      "cell_type": "code",
      "source": [
        "data = np.load('/content/electron-photon-large.npz', allow_pickle=True)"
      ],
      "metadata": {
        "id": "81Qn-4iaPeiq"
      },
      "execution_count": null,
      "outputs": []
    },
    {
      "cell_type": "markdown",
      "source": [
        "Download the dataset from sidebar"
      ],
      "metadata": {
        "id": "su0KeG5nQ1PX"
      }
    },
    {
      "cell_type": "code",
      "source": [
        "data['x_train'].shape"
      ],
      "metadata": {
        "colab": {
          "base_uri": "https://localhost:8080/"
        },
        "id": "jNpy5e2yPlPk",
        "outputId": "b86772ef-e42c-4429-e6a2-cbfee0fee8e5"
      },
      "execution_count": null,
      "outputs": [
        {
          "output_type": "execute_result",
          "data": {
            "text/plain": [
              "(423300, 32, 32, 2)"
            ]
          },
          "metadata": {},
          "execution_count": 13
        }
      ]
    },
    {
      "cell_type": "markdown",
      "source": [
        "Preprocess electron photon"
      ],
      "metadata": {
        "id": "d0F05SdvIqnk"
      }
    },
    {
      "cell_type": "code",
      "source": [
        "px,py,ex,ey = load_dataset()"
      ],
      "metadata": {
        "id": "c-G1-8dMQkgP",
        "colab": {
          "base_uri": "https://localhost:8080/"
        },
        "outputId": "cc93da2a-902e-4dd7-bddb-b5d1f529d96c"
      },
      "execution_count": 5,
      "outputs": [
        {
          "output_type": "stream",
          "name": "stdout",
          "text": [
            "Loaded photon dataset!\n",
            "Loaded electron dataset!\n",
            "Photon dataset shape: (249000, 32, 32, 2) (249000,)\n",
            "Electron dataset shape: (249000, 32, 32, 2) (249000,)\n"
          ]
        }
      ]
    },
    {
      "cell_type": "code",
      "source": [
        "def check_borders(x):\n",
        "    # finding the left-most non-zero pixel coordinate \n",
        "    for i in range(x.shape[2]):\n",
        "        if (x[:, :, i, 0].max() != 1) or (x[:, :, i, 1].max() != 0):\n",
        "            border_left = i\n",
        "            break\n",
        "\n",
        "    # finding the right-most non-zero pixel coordinate \n",
        "    for i in range(x.shape[2]):\n",
        "        if (x[:, :, x.shape[2]-1-i,0].max() != 0) or (x[:, :, x.shape[2]-1-i,1].max() != 0):\n",
        "            border_right = x.shape[2]-1-i\n",
        "            break\n",
        "\n",
        "    # finding the top-most non-zero pixel coordinate \n",
        "    for i in range(x.shape[1]):\n",
        "        if (x[:, i, :,0].max() != 0) or (x[:, i, :,1].max() != 0):\n",
        "            border_top = i\n",
        "            break\n",
        "\n",
        "    # finding the bottom-most non-zero pixel coordinate \n",
        "    for i in range(x.shape[1]):\n",
        "        if (x[:, x.shape[1]-1-i, :,0].max() != 0) or (x[:, x.shape[1]-1-i, :,1].max() != 0):\n",
        "            border_bottom = x.shape[1]-1-i\n",
        "            break\n",
        "\n",
        "    print(border_left, border_right)\n",
        "    print(border_top, border_bottom)"
      ],
      "metadata": {
        "id": "A_0y95s1LcII"
      },
      "execution_count": 6,
      "outputs": []
    },
    {
      "cell_type": "code",
      "source": [
        "check_borders(px)"
      ],
      "metadata": {
        "colab": {
          "base_uri": "https://localhost:8080/"
        },
        "id": "MMn5rQ0KM5ZU",
        "outputId": "c369b561-e35c-48aa-eef8-56e12e45f9f6"
      },
      "execution_count": 7,
      "outputs": [
        {
          "output_type": "stream",
          "name": "stdout",
          "text": [
            "0 31\n",
            "0 31\n"
          ]
        }
      ]
    },
    {
      "cell_type": "code",
      "source": [
        "check_borders(ex)"
      ],
      "metadata": {
        "colab": {
          "base_uri": "https://localhost:8080/"
        },
        "id": "RsbXRVHYM66i",
        "outputId": "dbc3d0ff-a7ed-4d66-95be-332801af91a0"
      },
      "execution_count": 8,
      "outputs": [
        {
          "output_type": "stream",
          "name": "stdout",
          "text": [
            "0 31\n",
            "0 31\n"
          ]
        }
      ]
    },
    {
      "cell_type": "markdown",
      "source": [
        "Both training and testing datasets have non-zero pixels near the image's very edges, making it impossible to crop the image without information loss."
      ],
      "metadata": {
        "id": "0nB80KSBNKst"
      }
    },
    {
      "cell_type": "code",
      "source": [
        "n_samples = 5000\n",
        "n_population = px.shape[0]\n",
        "\n",
        "samples = sample_without_replacement(n_population, n_samples)\n",
        "px_sampled = px[samples][:,:,:,0].reshape(-1,32,32,1)\n",
        "del px\n",
        "\n",
        "n_population = ex.shape[0]\n",
        "samples = sample_without_replacement(n_population, n_samples)\n",
        "ex_sampled = ex[samples][:,:,:,0].reshape(-1,32,32,1)\n",
        "del ex"
      ],
      "metadata": {
        "id": "m_SReZ4QUSm5"
      },
      "execution_count": 9,
      "outputs": []
    },
    {
      "cell_type": "code",
      "source": [
        "py = [0]*n_samples\n",
        "ey = [1]*n_samples"
      ],
      "metadata": {
        "id": "N0ykIFNvVqNo"
      },
      "execution_count": 10,
      "outputs": []
    },
    {
      "cell_type": "code",
      "source": [
        "x = np.concatenate((px_sampled,ex_sampled), axis =0)\n",
        "y = np.concatenate((py,ey), axis= 0)\n",
        "del px_sampled,ex_sampled,py,ey\n",
        "print(x.shape)\n",
        "print(y.shape)"
      ],
      "metadata": {
        "colab": {
          "base_uri": "https://localhost:8080/"
        },
        "id": "ot4azciPVJWJ",
        "outputId": "4c8fa046-73df-4104-bc04-b4759f2eeb78"
      },
      "execution_count": 11,
      "outputs": [
        {
          "output_type": "stream",
          "name": "stdout",
          "text": [
            "(10000, 32, 32, 1)\n",
            "(10000,)\n"
          ]
        }
      ]
    },
    {
      "cell_type": "code",
      "source": [
        "x, y = shuffle(x,y)"
      ],
      "metadata": {
        "id": "pNAFWWx_Vc0Q"
      },
      "execution_count": 12,
      "outputs": []
    },
    {
      "cell_type": "code",
      "source": [
        "print(x.max(),x.min())\n",
        "print(y.max(),y.min())"
      ],
      "metadata": {
        "colab": {
          "base_uri": "https://localhost:8080/"
        },
        "id": "agMVS9qSta7q",
        "outputId": "e714de99-d1db-439d-f463-aead18a99df1"
      },
      "execution_count": 13,
      "outputs": [
        {
          "output_type": "stream",
          "name": "stdout",
          "text": [
            "1.4745364 0.0\n",
            "1 0\n"
          ]
        }
      ]
    },
    {
      "cell_type": "code",
      "source": [
        "x_train, x_test, y_train, y_test = train_test_split(x,y, test_size = 0.1, random_state=42,stratify=y)\n",
        "print(x_train.shape, y_train.shape)\n",
        "print(x_test.shape, y_test.shape)\n",
        "del x, y"
      ],
      "metadata": {
        "colab": {
          "base_uri": "https://localhost:8080/"
        },
        "id": "g_jsw2KwV4fY",
        "outputId": "bcae80f4-9d82-4571-e8ba-86bd5c601a62"
      },
      "execution_count": 14,
      "outputs": [
        {
          "output_type": "stream",
          "name": "stdout",
          "text": [
            "(9000, 32, 32, 1) (9000,)\n",
            "(1000, 32, 32, 1) (1000,)\n"
          ]
        }
      ]
    },
    {
      "cell_type": "code",
      "source": [
        "np.savez_compressed('/content/electron-photon-med.npz', **{\n",
        "    'x_train': x_train,\n",
        "    'y_train':y_train,\n",
        "    'x_test':x_test,\n",
        "    'y_test':y_test\n",
        "})\n",
        "del x_train, x_test, y_train, y_test"
      ],
      "metadata": {
        "id": "E9VixlZ5WFS_"
      },
      "execution_count": 15,
      "outputs": []
    },
    {
      "cell_type": "code",
      "source": [
        "data = np.load('/content/electron-photon-med.npz', allow_pickle=True)"
      ],
      "metadata": {
        "id": "ZIljmQThWYMf"
      },
      "execution_count": 16,
      "outputs": []
    },
    {
      "cell_type": "code",
      "source": [
        "data['x_train'].shape"
      ],
      "metadata": {
        "colab": {
          "base_uri": "https://localhost:8080/"
        },
        "id": "SukQNWYCWdMF",
        "outputId": "5ea782f6-42a5-4f24-b941-527b879e8b55"
      },
      "execution_count": 17,
      "outputs": [
        {
          "output_type": "execute_result",
          "data": {
            "text/plain": [
              "(9000, 32, 32, 1)"
            ]
          },
          "metadata": {},
          "execution_count": 17
        }
      ]
    },
    {
      "cell_type": "code",
      "source": [
        "plt.imshow(data['x_train'][0][:,:,0].astype(np.float32))"
      ],
      "metadata": {
        "id": "RDqHQb3QWd9N",
        "colab": {
          "base_uri": "https://localhost:8080/",
          "height": 283
        },
        "outputId": "acae5579-f31e-43f6-9f38-f5e1fa2778c5"
      },
      "execution_count": 18,
      "outputs": [
        {
          "output_type": "execute_result",
          "data": {
            "text/plain": [
              "<matplotlib.image.AxesImage at 0x7f33bf4c1910>"
            ]
          },
          "metadata": {},
          "execution_count": 18
        },
        {
          "output_type": "display_data",
          "data": {
            "text/plain": [
              "<Figure size 432x288 with 1 Axes>"
            ],
            "image/png": "[encoded data removed]"
          },
          "metadata": {
            "needs_background": "light"
          }
        }
      ]
    },
    {
      "cell_type": "code",
      "source": [
        "data['x_train'].dtype"
      ],
      "metadata": {
        "id": "xXSj6ZhykJQW",
        "colab": {
          "base_uri": "https://localhost:8080/"
        },
        "outputId": "4cd9d627-2c5a-4bb0-ff5b-07f5ced02ee0"
      },
      "execution_count": null,
      "outputs": [
        {
          "output_type": "execute_result",
          "data": {
            "text/plain": [
              "dtype('float16')"
            ]
          },
          "metadata": {},
          "execution_count": 35
        }
      ]
    },
    {
      "cell_type": "code",
      "source": [
        "p"
      ],
      "metadata": {
        "id": "mLj_rrfxuPPW"
      },
      "execution_count": null,
      "outputs": []
    }
  ]
}