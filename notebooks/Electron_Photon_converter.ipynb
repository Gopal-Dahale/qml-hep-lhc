{
  "nbformat": 4,
  "nbformat_minor": 0,
  "metadata": {
    "colab": {
      "name": "Electron-Photon-converter.ipynb",
      "provenance": [],
      "collapsed_sections": []
    },
    "kernelspec": {
      "name": "python3",
      "display_name": "Python 3"
    },
    "language_info": {
      "name": "python"
    }
  },
  "cells": [
    {
      "cell_type": "markdown",
      "source": [
        "Convert electron photon dataset from h5py files to single npz file with train test splitted"
      ],
      "metadata": {
        "id": "TYoHcTSYQ6gd"
      }
    },
    {
      "cell_type": "code",
      "source": [
        "from google.colab import drive\n",
        "drive.mount('/content/drive')"
      ],
      "metadata": {
        "colab": {
          "base_uri": "https://localhost:8080/"
        },
        "id": "_mYerPu_ISDH",
        "outputId": "ff6da24a-ea97-45ec-9e90-623282c6574e"
      },
      "execution_count": 1,
      "outputs": [
        {
          "output_type": "stream",
          "name": "stdout",
          "text": [
            "Drive already mounted at /content/drive; to attempt to forcibly remount, call drive.mount(\"/content/drive\", force_remount=True).\n"
          ]
        }
      ]
    },
    {
      "cell_type": "code",
      "source": [
        "import h5py\n",
        "import numpy as np\n",
        "import matplotlib.pyplot as plt\n",
        "from sklearn.utils import shuffle\n",
        "from sklearn.model_selection import train_test_split"
      ],
      "metadata": {
        "id": "5NVPv8FdJKjK"
      },
      "execution_count": 1,
      "outputs": []
    },
    {
      "cell_type": "code",
      "execution_count": 2,
      "metadata": {
        "colab": {
          "base_uri": "https://localhost:8080/"
        },
        "id": "-QW-KOj_ICAY",
        "outputId": "53d5a40f-2b35-4eeb-df65-be64bc5b1700"
      },
      "outputs": [
        {
          "output_type": "stream",
          "name": "stdout",
          "text": [
            "Loaded photon dataset!\n",
            "Loaded electron dataset!\n",
            "Photon dataset shape: (249000, 32, 32, 2) (249000,)\n",
            "Electron dataset shape: (249000, 32, 32, 2) (249000,)\n"
          ]
        }
      ],
      "source": [
        "with h5py.File(\"/content/drive/My Drive/electron-photon-dataset/photon.hdf5\", \"r\") as f:\n",
        "  px = np.asarray(f['X'][()], dtype=np.float32)\n",
        "  py = np.asarray(f['y'][()], dtype=np.float32)\n",
        "  print(\"Loaded photon dataset!\")\n",
        "\n",
        "with h5py.File(\"/content/drive/My Drive/electron-photon-dataset/electron.hdf5\", \"r\") as f:\n",
        "  ex = np.asarray(f['X'][()], dtype=np.float32)\n",
        "  ey = np.asarray(f['y'][()], dtype=np.float32)\n",
        "  print(\"Loaded electron dataset!\")\n",
        "\n",
        "print(\"Photon dataset shape:\", px.shape, py.shape)\n",
        "print(\"Electron dataset shape:\", ex.shape, ey.shape)"
      ]
    },
    {
      "cell_type": "code",
      "source": [
        "print(px.shape, py.shape)\n",
        "print(ex.shape, ey.shape)"
      ],
      "metadata": {
        "colab": {
          "base_uri": "https://localhost:8080/"
        },
        "id": "3S3luHlhI1YW",
        "outputId": "7d4f8c3e-e5f5-489f-9b7b-1bccfaa72f89"
      },
      "execution_count": 3,
      "outputs": [
        {
          "output_type": "stream",
          "name": "stdout",
          "text": [
            "(249000, 32, 32, 2) (249000,)\n",
            "(249000, 32, 32, 2) (249000,)\n"
          ]
        }
      ]
    },
    {
      "cell_type": "code",
      "source": [
        "py.max(), py.min()"
      ],
      "metadata": {
        "colab": {
          "base_uri": "https://localhost:8080/"
        },
        "id": "lLm9YFCZJVUI",
        "outputId": "23a45dfb-7695-490f-881b-92a2b7c0c25c"
      },
      "execution_count": 4,
      "outputs": [
        {
          "output_type": "execute_result",
          "data": {
            "text/plain": [
              "(0.0, 0.0)"
            ]
          },
          "metadata": {},
          "execution_count": 4
        }
      ]
    },
    {
      "cell_type": "code",
      "source": [
        "plt.imshow(px[0, :, :, 1])"
      ],
      "metadata": {
        "colab": {
          "base_uri": "https://localhost:8080/",
          "height": 283
        },
        "id": "RLtBvEEXJYkX",
        "outputId": "8f2e8117-a39b-4c4f-c1ac-4aa9c8eb721f"
      },
      "execution_count": 5,
      "outputs": [
        {
          "output_type": "execute_result",
          "data": {
            "text/plain": [
              "<matplotlib.image.AxesImage at 0x7fe97fcdc890>"
            ]
          },
          "metadata": {},
          "execution_count": 5
        },
        {
          "output_type": "display_data",
          "data": {
            "text/plain": [
              "<Figure size 432x288 with 1 Axes>"
            ],
            "image/png": "[encoded data removed]"
          },
          "metadata": {
            "needs_background": "light"
          }
        }
      ]
    },
    {
      "cell_type": "code",
      "source": [
        "x = np.concatenate((px,ex), axis =0)\n",
        "y = np.concatenate((py,ey), axis= 0)\n",
        "del px,ex,py,ey\n",
        "print(x.shape)\n",
        "print(y.shape)"
      ],
      "metadata": {
        "colab": {
          "base_uri": "https://localhost:8080/"
        },
        "id": "tinEoSReKaoV",
        "outputId": "fa76add3-262b-439c-8295-ffd756564dcb"
      },
      "execution_count": 6,
      "outputs": [
        {
          "output_type": "stream",
          "name": "stdout",
          "text": [
            "(498000, 32, 32, 2)\n",
            "(498000,)\n"
          ]
        }
      ]
    },
    {
      "cell_type": "code",
      "source": [
        "x, y = shuffle(x,y)"
      ],
      "metadata": {
        "id": "MxRR9_yQMPMe"
      },
      "execution_count": 7,
      "outputs": []
    },
    {
      "cell_type": "code",
      "source": [
        "x_train, x_test, y_train, y_test = train_test_split(x,y, test_size = 0.15, random_state=42)\n",
        "print(x_train.shape, y_train.shape)\n",
        "print(x_test.shape, y_test.shape)\n",
        "del x, y"
      ],
      "metadata": {
        "colab": {
          "base_uri": "https://localhost:8080/"
        },
        "id": "54CUnAA-MzgD",
        "outputId": "fe8f1a8a-2809-48b2-93d7-a087ad3d626a"
      },
      "execution_count": 8,
      "outputs": [
        {
          "output_type": "stream",
          "name": "stdout",
          "text": [
            "(423300, 32, 32, 2) (423300,)\n",
            "(74700, 32, 32, 2) (74700,)\n"
          ]
        }
      ]
    },
    {
      "cell_type": "code",
      "source": [
        "np.savez_compressed('/content/electron-photon-large.npz', **{\n",
        "    'x_train': x_train,\n",
        "    'y_train':y_train,\n",
        "    'x_test':x_test,\n",
        "    'y_test':y_test\n",
        "})"
      ],
      "metadata": {
        "id": "ImpcKmJONgvj"
      },
      "execution_count": 9,
      "outputs": []
    },
    {
      "cell_type": "code",
      "source": [
        "del x_train, x_test, y_train, y_test"
      ],
      "metadata": {
        "id": "iaqRZPsDO81s"
      },
      "execution_count": 10,
      "outputs": []
    },
    {
      "cell_type": "code",
      "source": [
        "data = np.load('/content/electron-photon-large.npz', allow_pickle=True)"
      ],
      "metadata": {
        "id": "81Qn-4iaPeiq"
      },
      "execution_count": 11,
      "outputs": []
    },
    {
      "cell_type": "markdown",
      "source": [
        "Download the dataset from sidebar"
      ],
      "metadata": {
        "id": "su0KeG5nQ1PX"
      }
    },
    {
      "cell_type": "code",
      "source": [
        "data['x_train'].shape"
      ],
      "metadata": {
        "colab": {
          "base_uri": "https://localhost:8080/"
        },
        "id": "jNpy5e2yPlPk",
        "outputId": "b86772ef-e42c-4429-e6a2-cbfee0fee8e5"
      },
      "execution_count": 13,
      "outputs": [
        {
          "output_type": "execute_result",
          "data": {
            "text/plain": [
              "(423300, 32, 32, 2)"
            ]
          },
          "metadata": {},
          "execution_count": 13
        }
      ]
    },
    {
      "cell_type": "code",
      "source": [
        ""
      ],
      "metadata": {
        "id": "c-G1-8dMQkgP"
      },
      "execution_count": null,
      "outputs": []
    }
  ]
}