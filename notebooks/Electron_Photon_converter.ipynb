{
  "nbformat": 4,
  "nbformat_minor": 0,
  "metadata": {
    "colab": {
      "name": "Electron-Photon-converter.ipynb",
      "provenance": [],
      "collapsed_sections": []
    },
    "kernelspec": {
      "name": "python3",
      "display_name": "Python 3"
    },
    "language_info": {
      "name": "python"
    }
  },
  "cells": [
    {
      "cell_type": "markdown",
      "source": [
        "Convert electron photon dataset from h5py files to single npz file with train test splitted"
      ],
      "metadata": {
        "id": "TYoHcTSYQ6gd"
      }
    },
    {
      "cell_type": "code",
      "source": [
        "from google.colab import drive\n",
        "drive.mount('/content/drive')"
      ],
      "metadata": {
        "colab": {
          "base_uri": "https://localhost:8080/"
        },
        "id": "_mYerPu_ISDH",
        "outputId": "d6e10702-7129-42d5-8183-5dfb9345ed3c"
      },
      "execution_count": 1,
      "outputs": [
        {
          "output_type": "stream",
          "name": "stdout",
          "text": [
            "Mounted at /content/drive\n"
          ]
        }
      ]
    },
    {
      "cell_type": "code",
      "source": [
        "import h5py\n",
        "import numpy as np\n",
        "import matplotlib.pyplot as plt\n",
        "from sklearn.utils import shuffle\n",
        "from sklearn.model_selection import train_test_split\n",
        "from sklearn.utils.random import sample_without_replacement"
      ],
      "metadata": {
        "id": "5NVPv8FdJKjK"
      },
      "execution_count": 2,
      "outputs": []
    },
    {
      "cell_type": "code",
      "execution_count": 3,
      "metadata": {
        "id": "-QW-KOj_ICAY"
      },
      "outputs": [],
      "source": [
        "def load_dataset():\n",
        "    with h5py.File(\"/content/drive/My Drive/electron-photon-dataset/photon.hdf5\", \"r\") as f:\n",
        "        px = np.asarray(f['X'][()], dtype=np.float32)\n",
        "        py = np.asarray(f['y'][()], dtype=np.float32)\n",
        "        print(\"Loaded photon dataset!\")\n",
        "\n",
        "    with h5py.File(\"/content/drive/My Drive/electron-photon-dataset/electron.hdf5\", \"r\") as f:\n",
        "        ex = np.asarray(f['X'][()], dtype=np.float32)\n",
        "        ey = np.asarray(f['y'][()], dtype=np.float32)\n",
        "        print(\"Loaded electron dataset!\")\n",
        "\n",
        "    print(\"Photon dataset shape:\", px.shape, py.shape)\n",
        "    print(\"Electron dataset shape:\", ex.shape, ey.shape)\n",
        "    return px,py,ex,ey"
      ]
    },
    {
      "cell_type": "code",
      "source": [
        "px,py,ex,ey = load_dataset()\n",
        "print(px.shape, py.shape)\n",
        "print(ex.shape, ey.shape)"
      ],
      "metadata": {
        "colab": {
          "base_uri": "https://localhost:8080/"
        },
        "id": "3S3luHlhI1YW",
        "outputId": "e10a94d9-7fcd-4ac5-ffa0-3d6193db436b"
      },
      "execution_count": null,
      "outputs": [
        {
          "output_type": "stream",
          "name": "stdout",
          "text": [
            "Loaded photon dataset!\n",
            "Loaded electron dataset!\n",
            "Photon dataset shape: (249000, 32, 32, 2) (249000,)\n",
            "Electron dataset shape: (249000, 32, 32, 2) (249000,)\n",
            "(249000, 32, 32, 2) (249000,)\n",
            "(249000, 32, 32, 2) (249000,)\n"
          ]
        }
      ]
    },
    {
      "cell_type": "code",
      "source": [
        "print(py.max(), py.min())\n",
        "print(ey.max(), ey.min())"
      ],
      "metadata": {
        "colab": {
          "base_uri": "https://localhost:8080/"
        },
        "id": "lLm9YFCZJVUI",
        "outputId": "a1523b80-52a2-45fa-dcbc-f1d505232d50"
      },
      "execution_count": null,
      "outputs": [
        {
          "output_type": "stream",
          "name": "stdout",
          "text": [
            "0.0 0.0\n",
            "1.0 1.0\n"
          ]
        }
      ]
    },
    {
      "cell_type": "code",
      "source": [
        "fig = plt.figure(figsize=(10, 7))\n",
        "rows = 1\n",
        "columns = 2\n",
        "for i in range(columns):\n",
        "    fig.add_subplot(rows, columns,i+1)\n",
        "    plt.imshow(px[0,:,:,i])"
      ],
      "metadata": {
        "colab": {
          "base_uri": "https://localhost:8080/",
          "height": 302
        },
        "id": "RLtBvEEXJYkX",
        "outputId": "3a9d3ae1-bd3c-4646-9ffd-69dd7a883b4d"
      },
      "execution_count": null,
      "outputs": [
        {
          "output_type": "display_data",
          "data": {
            "text/plain": [
              "<Figure size 720x504 with 2 Axes>"
            ],
            "image/png": "[encoded data removed]"
          },
          "metadata": {
            "needs_background": "light"
          }
        }
      ]
    },
    {
      "cell_type": "code",
      "source": [
        "fig = plt.figure(figsize=(10, 7))\n",
        "rows = 1\n",
        "columns = 2\n",
        "for i in range(columns):\n",
        "    fig.add_subplot(rows, columns,i+1)\n",
        "    plt.imshow(ex[0,:,:,i])"
      ],
      "metadata": {
        "colab": {
          "base_uri": "https://localhost:8080/",
          "height": 302
        },
        "id": "KkCVOcUVJZjJ",
        "outputId": "f271b7ae-5f95-4cf7-9718-86bdd8909289"
      },
      "execution_count": null,
      "outputs": [
        {
          "output_type": "display_data",
          "data": {
            "text/plain": [
              "<Figure size 720x504 with 2 Axes>"
            ],
            "image/png": "[encoded data removed]"
          },
          "metadata": {
            "needs_background": "light"
          }
        }
      ]
    },
    {
      "cell_type": "code",
      "source": [
        "x = np.concatenate((px,ex), axis =0)\n",
        "y = np.concatenate((py,ey), axis= 0)\n",
        "del px,ex,py,ey\n",
        "print(x.shape)\n",
        "print(y.shape)"
      ],
      "metadata": {
        "colab": {
          "base_uri": "https://localhost:8080/"
        },
        "id": "tinEoSReKaoV",
        "outputId": "7765e957-1c40-4e98-f322-ce4e3bbf80ed"
      },
      "execution_count": null,
      "outputs": [
        {
          "output_type": "stream",
          "name": "stdout",
          "text": [
            "(498000, 32, 32, 2)\n",
            "(498000,)\n"
          ]
        }
      ]
    },
    {
      "cell_type": "code",
      "source": [
        "x, y = shuffle(x,y)"
      ],
      "metadata": {
        "id": "MxRR9_yQMPMe"
      },
      "execution_count": null,
      "outputs": []
    },
    {
      "cell_type": "code",
      "source": [
        "x_train, x_test, y_train, y_test = train_test_split(x,y, test_size = 0.15, random_state=42)\n",
        "print(x_train.shape, y_train.shape)\n",
        "print(x_test.shape, y_test.shape)\n",
        "del x, y"
      ],
      "metadata": {
        "colab": {
          "base_uri": "https://localhost:8080/"
        },
        "id": "54CUnAA-MzgD",
        "outputId": "639300bc-fd18-498d-bf16-3097852ae245"
      },
      "execution_count": null,
      "outputs": [
        {
          "output_type": "stream",
          "name": "stdout",
          "text": [
            "(423300, 32, 32, 2) (423300,)\n",
            "(74700, 32, 32, 2) (74700,)\n"
          ]
        }
      ]
    },
    {
      "cell_type": "code",
      "source": [
        "np.savez_compressed('/content/electron-photon-large.npz', **{\n",
        "    'x_train': x_train,\n",
        "    'y_train':y_train,\n",
        "    'x_test':x_test,\n",
        "    'y_test':y_test\n",
        "})"
      ],
      "metadata": {
        "id": "ImpcKmJONgvj"
      },
      "execution_count": null,
      "outputs": []
    },
    {
      "cell_type": "code",
      "source": [
        "del x_train, x_test, y_train, y_test"
      ],
      "metadata": {
        "id": "iaqRZPsDO81s"
      },
      "execution_count": null,
      "outputs": []
    },
    {
      "cell_type": "code",
      "source": [
        "data = np.load('/content/electron-photon-large.npz', allow_pickle=True)"
      ],
      "metadata": {
        "id": "81Qn-4iaPeiq"
      },
      "execution_count": null,
      "outputs": []
    },
    {
      "cell_type": "markdown",
      "source": [
        "Download the dataset from sidebar"
      ],
      "metadata": {
        "id": "su0KeG5nQ1PX"
      }
    },
    {
      "cell_type": "code",
      "source": [
        "data['x_train'].shape"
      ],
      "metadata": {
        "colab": {
          "base_uri": "https://localhost:8080/"
        },
        "id": "jNpy5e2yPlPk",
        "outputId": "b86772ef-e42c-4429-e6a2-cbfee0fee8e5"
      },
      "execution_count": null,
      "outputs": [
        {
          "output_type": "execute_result",
          "data": {
            "text/plain": [
              "(423300, 32, 32, 2)"
            ]
          },
          "metadata": {},
          "execution_count": 13
        }
      ]
    },
    {
      "cell_type": "markdown",
      "source": [
        "Preprocess electron photon"
      ],
      "metadata": {
        "id": "d0F05SdvIqnk"
      }
    },
    {
      "cell_type": "code",
      "source": [
        "px,py,ex,ey = load_dataset()"
      ],
      "metadata": {
        "id": "c-G1-8dMQkgP",
        "colab": {
          "base_uri": "https://localhost:8080/"
        },
        "outputId": "abe59072-4df1-4b5f-e59b-69bacc55c1d3"
      },
      "execution_count": 4,
      "outputs": [
        {
          "output_type": "stream",
          "name": "stdout",
          "text": [
            "Loaded photon dataset!\n",
            "Loaded electron dataset!\n",
            "Photon dataset shape: (249000, 32, 32, 2) (249000,)\n",
            "Electron dataset shape: (249000, 32, 32, 2) (249000,)\n"
          ]
        }
      ]
    },
    {
      "cell_type": "code",
      "source": [
        "def check_borders(x):\n",
        "    # finding the left-most non-zero pixel coordinate \n",
        "    for i in range(x.shape[2]):\n",
        "        if (x[:, :, i, 0].max() != 1) or (x[:, :, i, 1].max() != 0):\n",
        "            border_left = i\n",
        "            break\n",
        "\n",
        "    # finding the right-most non-zero pixel coordinate \n",
        "    for i in range(x.shape[2]):\n",
        "        if (x[:, :, x.shape[2]-1-i,0].max() != 0) or (x[:, :, x.shape[2]-1-i,1].max() != 0):\n",
        "            border_right = x.shape[2]-1-i\n",
        "            break\n",
        "\n",
        "    # finding the top-most non-zero pixel coordinate \n",
        "    for i in range(x.shape[1]):\n",
        "        if (x[:, i, :,0].max() != 0) or (x[:, i, :,1].max() != 0):\n",
        "            border_top = i\n",
        "            break\n",
        "\n",
        "    # finding the bottom-most non-zero pixel coordinate \n",
        "    for i in range(x.shape[1]):\n",
        "        if (x[:, x.shape[1]-1-i, :,0].max() != 0) or (x[:, x.shape[1]-1-i, :,1].max() != 0):\n",
        "            border_bottom = x.shape[1]-1-i\n",
        "            break\n",
        "\n",
        "    print(border_left, border_right)\n",
        "    print(border_top, border_bottom)"
      ],
      "metadata": {
        "id": "A_0y95s1LcII"
      },
      "execution_count": 5,
      "outputs": []
    },
    {
      "cell_type": "code",
      "source": [
        "check_borders(px)"
      ],
      "metadata": {
        "colab": {
          "base_uri": "https://localhost:8080/"
        },
        "id": "MMn5rQ0KM5ZU",
        "outputId": "a0563d75-63b5-420d-b72d-7859a5fccc37"
      },
      "execution_count": 6,
      "outputs": [
        {
          "output_type": "stream",
          "name": "stdout",
          "text": [
            "0 31\n",
            "0 31\n"
          ]
        }
      ]
    },
    {
      "cell_type": "code",
      "source": [
        "check_borders(ex)"
      ],
      "metadata": {
        "colab": {
          "base_uri": "https://localhost:8080/"
        },
        "id": "RsbXRVHYM66i",
        "outputId": "e64298af-53a5-47a7-faba-aa1005536058"
      },
      "execution_count": 7,
      "outputs": [
        {
          "output_type": "stream",
          "name": "stdout",
          "text": [
            "0 31\n",
            "0 31\n"
          ]
        }
      ]
    },
    {
      "cell_type": "markdown",
      "source": [
        "Both training and testing datasets have non-zero pixels near the image's very edges, making it impossible to crop the image without information loss."
      ],
      "metadata": {
        "id": "0nB80KSBNKst"
      }
    },
    {
      "cell_type": "code",
      "source": [
        "n_samples = 5000\n",
        "n_population = px.shape[0]\n",
        "\n",
        "samples = sample_without_replacement(n_population, n_samples)\n",
        "px_sampled = px[samples][:,:,:,0].reshape(-1,32,32,1)\n",
        "del px\n",
        "\n",
        "n_population = ex.shape[0]\n",
        "samples = sample_without_replacement(n_population, n_samples)\n",
        "ex_sampled = ex[samples][:,:,:,0].reshape(-1,32,32,1)\n",
        "del ex"
      ],
      "metadata": {
        "id": "m_SReZ4QUSm5"
      },
      "execution_count": 13,
      "outputs": []
    },
    {
      "cell_type": "code",
      "source": [
        "py = [0]*n_samples\n",
        "ey = [1]*n_samples"
      ],
      "metadata": {
        "id": "N0ykIFNvVqNo"
      },
      "execution_count": 14,
      "outputs": []
    },
    {
      "cell_type": "code",
      "source": [
        "x = np.concatenate((px_sampled,ex_sampled), axis =0)\n",
        "y = np.concatenate((py,ey), axis= 0)\n",
        "del px_sampled,ex_sampled,py,ey\n",
        "print(x.shape)\n",
        "print(y.shape)"
      ],
      "metadata": {
        "colab": {
          "base_uri": "https://localhost:8080/"
        },
        "id": "ot4azciPVJWJ",
        "outputId": "7e7ec796-18af-416c-e112-b382f784404c"
      },
      "execution_count": 15,
      "outputs": [
        {
          "output_type": "stream",
          "name": "stdout",
          "text": [
            "(10000, 32, 32, 1)\n",
            "(10000,)\n"
          ]
        }
      ]
    },
    {
      "cell_type": "code",
      "source": [
        "x, y = shuffle(x,y)"
      ],
      "metadata": {
        "id": "pNAFWWx_Vc0Q"
      },
      "execution_count": 16,
      "outputs": []
    },
    {
      "cell_type": "code",
      "source": [
        "x_train, x_test, y_train, y_test = train_test_split(x,y, test_size = 0.1, random_state=42)\n",
        "print(x_train.shape, y_train.shape)\n",
        "print(x_test.shape, y_test.shape)\n",
        "del x, y"
      ],
      "metadata": {
        "colab": {
          "base_uri": "https://localhost:8080/"
        },
        "id": "g_jsw2KwV4fY",
        "outputId": "acb2b4a2-b427-4670-b923-df8e45b8ede3"
      },
      "execution_count": 17,
      "outputs": [
        {
          "output_type": "stream",
          "name": "stdout",
          "text": [
            "(9000, 32, 32, 1) (9000,)\n",
            "(1000, 32, 32, 1) (1000,)\n"
          ]
        }
      ]
    },
    {
      "cell_type": "code",
      "source": [
        "np.savez_compressed('/content/electron-photon-med.npz', **{\n",
        "    'x_train': x_train,\n",
        "    'y_train':y_train,\n",
        "    'x_test':x_test,\n",
        "    'y_test':y_test\n",
        "})\n",
        "del x_train, x_test, y_train, y_test"
      ],
      "metadata": {
        "id": "E9VixlZ5WFS_"
      },
      "execution_count": 18,
      "outputs": []
    },
    {
      "cell_type": "code",
      "source": [
        "data = np.load('/content/electron-photon-med.npz', allow_pickle=True)"
      ],
      "metadata": {
        "id": "ZIljmQThWYMf"
      },
      "execution_count": 19,
      "outputs": []
    },
    {
      "cell_type": "code",
      "source": [
        "data['x_train'].shape"
      ],
      "metadata": {
        "colab": {
          "base_uri": "https://localhost:8080/"
        },
        "id": "SukQNWYCWdMF",
        "outputId": "32cdc678-fce4-456a-90bb-312fe886bbee"
      },
      "execution_count": 20,
      "outputs": [
        {
          "output_type": "execute_result",
          "data": {
            "text/plain": [
              "(9000, 32, 32, 1)"
            ]
          },
          "metadata": {},
          "execution_count": 20
        }
      ]
    },
    {
      "cell_type": "code",
      "source": [
        "plt.imshow(data['x_train'][0][:,:,0])"
      ],
      "metadata": {
        "id": "RDqHQb3QWd9N",
        "colab": {
          "base_uri": "https://localhost:8080/",
          "height": 283
        },
        "outputId": "b82eb9f5-583a-4b0f-aa6e-1683d2117e7d"
      },
      "execution_count": 21,
      "outputs": [
        {
          "output_type": "execute_result",
          "data": {
            "text/plain": [
              "<matplotlib.image.AxesImage at 0x7f66726c7410>"
            ]
          },
          "metadata": {},
          "execution_count": 21
        },
        {
          "output_type": "display_data",
          "data": {
            "text/plain": [
              "<Figure size 432x288 with 1 Axes>"
            ],
            "image/png": "[encoded data removed]"
          },
          "metadata": {
            "needs_background": "light"
          }
        }
      ]
    },
    {
      "cell_type": "code",
      "source": [
        ""
      ],
      "metadata": {
        "id": "xXSj6ZhykJQW"
      },
      "execution_count": null,
      "outputs": []
    }
  ]
}