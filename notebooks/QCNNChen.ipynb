{
 "cells": [
  {
   "cell_type": "code",
   "execution_count": 130,
   "id": "eee154a5",
   "metadata": {
    "ExecuteTime": {
     "end_time": "2022-06-20T13:54:12.584060Z",
     "start_time": "2022-06-20T13:54:12.345500Z"
    }
   },
   "outputs": [
    {
     "name": "stdout",
     "output_type": "stream",
     "text": [
      "The autoreload extension is already loaded. To reload it, use:\n",
      "  %reload_ext autoreload\n"
     ]
    }
   ],
   "source": [
    "%load_ext autoreload\n",
    "%autoreload 2\n",
    "import matplotlib.pyplot as plt\n",
    "%matplotlib inline\n",
    "\n",
    "from importlib.util import find_spec\n",
    "if find_spec(\"qml_hep_lhc\") is None:\n",
    "    import sys\n",
    "    sys.path.append('..')"
   ]
  },
  {
   "cell_type": "code",
   "execution_count": 168,
   "id": "0bdfb1d5",
   "metadata": {
    "ExecuteTime": {
     "end_time": "2022-06-20T14:15:38.377529Z",
     "start_time": "2022-06-20T14:15:38.311522Z"
    }
   },
   "outputs": [],
   "source": [
    "from tensorflow.keras import Model, Input\n",
    "from tensorflow.keras.layers import Layer, Flatten, Activation, Dense, Concatenate, Reshape\n",
    "import tensorflow_quantum as tfq\n",
    "import tensorflow as tf\n",
    "import sympy\n",
    "import cirq\n",
    "import numpy as np\n",
    "from qml_hep_lhc.models.quantum.utils import one_qubit_unitary\n",
    "from tensorflow.math import atan, square\n",
    "from tensorflow.keras.metrics import AUC"
   ]
  },
  {
   "cell_type": "code",
   "execution_count": 132,
   "id": "010e3fe0",
   "metadata": {
    "ExecuteTime": {
     "end_time": "2022-06-20T13:54:13.094293Z",
     "start_time": "2022-06-20T13:54:12.980169Z"
    }
   },
   "outputs": [],
   "source": [
    "from qml_hep_lhc.data import ElectronPhoton, MNIST\n",
    "import argparse"
   ]
  },
  {
   "cell_type": "code",
   "execution_count": 148,
   "id": "0c195d1f",
   "metadata": {
    "ExecuteTime": {
     "end_time": "2022-06-20T14:03:46.608791Z",
     "start_time": "2022-06-20T14:03:46.520842Z"
    }
   },
   "outputs": [],
   "source": [
    "args = argparse.Namespace()\n",
    "\n",
    "# args.graph_conv = True\n",
    "# args.quantum = True\n",
    "# args.pca = 64\n",
    "args.resize = [8,8]\n",
    "args.binary_data = [0,1]\n",
    "args.labels_to_categorical = True\n",
    "args.percent_samples = 0.01\n",
    "# args.center_crop = 0.2\n",
    "# args.normalize = True\n",
    "# args.min_max = True\n",
    "# args.threshold = 0\n",
    "# args.loss = \"Hinge\"\n",
    "# args.hinge_labels = True\n",
    "# args.angle_encoding = True"
   ]
  },
  {
   "cell_type": "code",
   "execution_count": 149,
   "id": "a7e3aaeb",
   "metadata": {
    "ExecuteTime": {
     "end_time": "2022-06-20T14:03:48.352445Z",
     "start_time": "2022-06-20T14:03:47.483669Z"
    }
   },
   "outputs": [
    {
     "name": "stdout",
     "output_type": "stream",
     "text": [
      "Binarizing data...\n",
      "Resizing data...\n",
      "Converting labels to categorical...\n",
      "Binarizing data...\n",
      "Resizing data...\n",
      "Converting labels to categorical...\n"
     ]
    }
   ],
   "source": [
    "data = MNIST(args)\n",
    "data.prepare_data()\n",
    "data.setup()"
   ]
  },
  {
   "cell_type": "code",
   "execution_count": 150,
   "id": "05f9c9dc",
   "metadata": {
    "ExecuteTime": {
     "end_time": "2022-06-20T14:03:51.018376Z",
     "start_time": "2022-06-20T14:03:50.738441Z"
    }
   },
   "outputs": [
    {
     "data": {
      "text/plain": [
       "Dataset :MNIST\n",
       "╒════════╤════════════════╤═══════════════╤═══════════╕\n",
       "│ Data   │ Train size     │ Test size     │ Dims      │\n",
       "╞════════╪════════════════╪═══════════════╪═══════════╡\n",
       "│ X      │ (130, 8, 8, 1) │ (16, 8, 8, 1) │ (8, 8, 1) │\n",
       "├────────┼────────────────┼───────────────┼───────────┤\n",
       "│ y      │ (130, 2)       │ (16, 2)       │ (2,)      │\n",
       "╘════════╧════════════════╧═══════════════╧═══════════╛\n",
       "\n",
       "Train images stats\n",
       "Min: 0.00\n",
       "Max: 254.50\n",
       "Mean: 32.02\n",
       "Std: 72.59\n",
       "Train labels stats\n",
       "Min: 0.00\n",
       "Max: 1.00"
      ]
     },
     "execution_count": 150,
     "metadata": {},
     "output_type": "execute_result"
    }
   ],
   "source": [
    "data"
   ]
  },
  {
   "cell_type": "code",
   "execution_count": 151,
   "id": "fceb4fca",
   "metadata": {
    "ExecuteTime": {
     "end_time": "2022-06-20T14:03:53.662977Z",
     "start_time": "2022-06-20T14:03:53.405613Z"
    }
   },
   "outputs": [
    {
     "data": {
      "text/plain": [
       "<matplotlib.image.AxesImage at 0x7f3a701fd190>"
      ]
     },
     "execution_count": 151,
     "metadata": {},
     "output_type": "execute_result"
    },
    {
     "data": {
      "image/png": "[encoded data removed]",
      "text/plain": [
       "<Figure size 432x288 with 1 Axes>"
      ]
     },
     "metadata": {
      "needs_background": "light"
     },
     "output_type": "display_data"
    }
   ],
   "source": [
    "plt.imshow(data.x_train[6])"
   ]
  },
  {
   "cell_type": "code",
   "execution_count": 152,
   "id": "536e3b4e",
   "metadata": {
    "ExecuteTime": {
     "end_time": "2022-06-20T14:03:55.861067Z",
     "start_time": "2022-06-20T14:03:55.768737Z"
    }
   },
   "outputs": [
    {
     "data": {
      "text/plain": [
       "(254.5, 0.0)"
      ]
     },
     "execution_count": 152,
     "metadata": {},
     "output_type": "execute_result"
    }
   ],
   "source": [
    "data.x_train.max(), data.x_train.min()"
   ]
  },
  {
   "cell_type": "code",
   "execution_count": 153,
   "id": "aaabfce7",
   "metadata": {
    "ExecuteTime": {
     "end_time": "2022-06-20T14:03:56.375986Z",
     "start_time": "2022-06-20T14:03:56.243020Z"
    }
   },
   "outputs": [
    {
     "data": {
      "text/plain": [
       "(130, 2)"
      ]
     },
     "execution_count": 153,
     "metadata": {},
     "output_type": "execute_result"
    }
   ],
   "source": [
    "data.y_train.shape"
   ]
  },
  {
   "cell_type": "code",
   "execution_count": 154,
   "id": "e6cce819",
   "metadata": {
    "ExecuteTime": {
     "end_time": "2022-06-20T14:03:57.706034Z",
     "start_time": "2022-06-20T14:03:57.626764Z"
    }
   },
   "outputs": [],
   "source": [
    "def entangling_circuit(qubits):\n",
    "    \"\"\"\n",
    "    Returns a layer of CZ entangling gates on `qubits` (arranged in a circular topology).\n",
    "    \"\"\"\n",
    "    cz_ops = [cirq.CZ(q0, q1) for q0, q1 in zip(qubits, qubits[1:])]\n",
    "    cz_ops += ([cirq.CZ(qubits[0], qubits[-1])] if len(qubits) != 2 else [])\n",
    "    return cz_ops"
   ]
  },
  {
   "cell_type": "code",
   "execution_count": 155,
   "id": "c5966be7",
   "metadata": {
    "ExecuteTime": {
     "end_time": "2022-06-20T14:03:58.648466Z",
     "start_time": "2022-06-20T14:03:58.566567Z"
    }
   },
   "outputs": [],
   "source": [
    "def encoding_circuit(qubits,symbols):\n",
    "    e_ops = [cirq.ry(symbols[index,0]).on(bit) for index, bit in enumerate(qubits)]\n",
    "    e_ops += [cirq.rz(symbols[index,1]).on(bit) for index, bit in enumerate(qubits)]\n",
    "    return e_ops"
   ]
  },
  {
   "cell_type": "code",
   "execution_count": 156,
   "id": "82c80594",
   "metadata": {
    "ExecuteTime": {
     "end_time": "2022-06-20T14:03:58.984258Z",
     "start_time": "2022-06-20T14:03:58.833874Z"
    }
   },
   "outputs": [],
   "source": [
    "class QuantumConv(Layer):\n",
    "\n",
    "    def __init__(self,name,\n",
    "                 kernel_size=3,\n",
    "                 strides=1,\n",
    "                 activation='tanh',\n",
    "                 n_layers =1):\n",
    "        \n",
    "        super(QuantumConv, self).__init__(name=name)\n",
    "        self.kernel_size = kernel_size\n",
    "        self.strides = strides\n",
    "        self.activation = Activation(activation)\n",
    "        self.n_layers = n_layers\n",
    "\n",
    "        self.n_qubits = kernel_size*kernel_size\n",
    "        self.qubits = cirq.GridQubit.rect(1, self.n_qubits)\n",
    "        self.observables = [cirq.Z(self.qubits[0])]\n",
    "\n",
    "        var_symbols = sympy.symbols(f'qconv0:{3*self.n_qubits*self.n_layers}')\n",
    "        self.var_symbols = np.asarray(var_symbols).reshape((self.n_layers, self.n_qubits,3))\n",
    "\n",
    "        in_symbols= sympy.symbols(f'x0:{2*self.n_qubits}')\n",
    "        self.in_symbols = np.asarray(in_symbols).reshape((self.n_qubits, 2))\n",
    "\n",
    "    def build(self, input_shape):\n",
    "        circuit = cirq.Circuit()\n",
    "\n",
    "        circuit += encoding_circuit(self.qubits, self.in_symbols)\n",
    "        for layer in range(self.n_layers):\n",
    "            circuit += entangling_circuit(self.qubits)\n",
    "            for bit in range(self.n_qubits):\n",
    "                circuit += one_qubit_unitary(self.qubits[bit], self.var_symbols[layer, bit])\n",
    "        \n",
    "        self.var_symbols = list(self.var_symbols.flat)\n",
    "        self.in_symbols = list(self.in_symbols.flat)\n",
    "\n",
    "        var_init = tf.random_uniform_initializer(minval=-np.pi/2, maxval=np.pi/2)\n",
    "        self.theta = tf.Variable(\n",
    "            initial_value=var_init(shape=(1, len(self.var_symbols)), dtype=\"float32\"),\n",
    "            trainable=True, name=self.name + \"_thetas\"\n",
    "        )\n",
    "        \n",
    "        # Define explicit symbol order\n",
    "        symbols = [str(symb) for symb in self.var_symbols + self.in_symbols]\n",
    "        self.indices = tf.constant([symbols.index(a) for a in sorted(symbols)])\n",
    "\n",
    "        self.empty_circuit = tfq.convert_to_tensor([cirq.Circuit()])\n",
    "        self.computation_layer = tfq.layers.ControlledPQC(circuit, self.observables)\n",
    "         \n",
    "    def call(self, input_tensor):\n",
    "\n",
    "        # inputs[0] = encoding data for the state.\n",
    "        batch_dim = tf.shape(input_tensor)[0]\n",
    "        strides = self.strides\n",
    "        kernel_size = self.kernel_size\n",
    "        \n",
    "        n = (input_tensor.shape[1] - kernel_size)//strides + 1\n",
    "        m = (input_tensor.shape[2] - kernel_size)//strides + 1\n",
    "        \n",
    "        conv_out = []\n",
    "\n",
    "        for i in range(n):\n",
    "            for j in range(m):\n",
    "                x = input_tensor[:, i*strides:i*strides+kernel_size, j*strides:j*strides+kernel_size]\n",
    "                x = Flatten()(x)\n",
    "                \n",
    "                x1 = self.activation(x)\n",
    "                x2 = self.activation(square(x))\n",
    "                tiled_up_circuits = tf.repeat(self.empty_circuit, \n",
    "                                              repeats=batch_dim, \n",
    "                                              name=self.name + \"_tiled_up_circuits\")\n",
    "                tiled_up_thetas = tf.tile(self.theta, \n",
    "                                          multiples=[batch_dim, 1], \n",
    "                                          name = self.name+\"_tiled_up_thetas\")\n",
    "                joined_vars = tf.concat([tiled_up_thetas, x1, x2], axis=-1)\n",
    "                joined_vars = tf.gather(joined_vars, self.indices, axis=-1, name=self.name +'_joined_vars')\n",
    "                out = self.computation_layer([tiled_up_circuits, joined_vars])\n",
    "                conv_out += [out]\n",
    "    \n",
    "        conv_out = Concatenate(axis=1)(conv_out)\n",
    "        conv_out = Reshape((n, m))(conv_out)\n",
    "        return conv_out"
   ]
  },
  {
   "cell_type": "code",
   "execution_count": 157,
   "id": "d7373509",
   "metadata": {
    "ExecuteTime": {
     "end_time": "2022-06-20T14:03:59.607367Z",
     "start_time": "2022-06-20T14:03:59.478236Z"
    }
   },
   "outputs": [],
   "source": [
    "class QCNNChen(Model):\n",
    "    \"\"\"\n",
    "    Quantum Convolutional Neural Network.\n",
    "    This implementation is based on https://arxiv.org/abs/2012.12177\n",
    "    \"\"\"\n",
    "    def __init__(self, data_config, args=None):\n",
    "        super().__init__()\n",
    "        self.args = vars(args) if args is not None else {}\n",
    "\n",
    "        # Data config\n",
    "        self.input_dim = data_config[\"input_dims\"]\n",
    "        self.conv2d_1 = QuantumConv(kernel_size = 3,\n",
    "                                    strides = 1,\n",
    "                                    n_layers =2,\n",
    "                                    name = 'conv2d_1')\n",
    "        self.conv2d_2 = QuantumConv(kernel_size = 2,\n",
    "                                    strides = 1,\n",
    "                                    n_layers =2,\n",
    "                                    name = 'conv2d_2')\n",
    "        self.dense1 = Dense(8,activation='relu')\n",
    "        self.dense2 = Dense(2,activation='softmax')\n",
    "        \n",
    "    def call(self, input_tensor):\n",
    "        x = self.conv2d_1(input_tensor)\n",
    "        x = self.conv2d_2(x)\n",
    "        x = Flatten()(x)\n",
    "        x = self.dense1(x)\n",
    "        x = self.dense2(x)\n",
    "        return x\n",
    "    \n",
    "    def build_graph(self):\n",
    "        x = Input(shape=self.input_dim)\n",
    "        return Model(inputs=[x], outputs=self.call(x), name=\"QCNNChen\")"
   ]
  },
  {
   "cell_type": "code",
   "execution_count": 163,
   "id": "612665f0",
   "metadata": {
    "ExecuteTime": {
     "end_time": "2022-06-20T14:08:33.744415Z",
     "start_time": "2022-06-20T14:08:33.576745Z"
    }
   },
   "outputs": [],
   "source": [
    "# model = QCNNChen(data.config())\n",
    "model = QCNNChen({'input_dims':(8,8)})"
   ]
  },
  {
   "cell_type": "code",
   "execution_count": 164,
   "id": "2924cd6b",
   "metadata": {
    "ExecuteTime": {
     "end_time": "2022-06-20T14:09:10.186678Z",
     "start_time": "2022-06-20T14:08:34.064882Z"
    },
    "scrolled": false
   },
   "outputs": [
    {
     "name": "stdout",
     "output_type": "stream",
     "text": [
      "Model: \"QCNNChen\"\n",
      "_________________________________________________________________\n",
      " Layer (type)                Output Shape              Param #   \n",
      "=================================================================\n",
      " input_7 (InputLayer)        [(None, 8, 8)]            0         \n",
      "                                                                 \n",
      " conv2d_1 (QuantumConv)      (None, 6, 6)              54        \n",
      "                                                                 \n",
      " conv2d_2 (QuantumConv)      (None, 5, 5)              24        \n",
      "                                                                 \n",
      " flatten_5 (Flatten)         (None, 25)                0         \n",
      "                                                                 \n",
      " dense_14 (Dense)            (None, 8)                 208       \n",
      "                                                                 \n",
      " dense_15 (Dense)            (None, 2)                 18        \n",
      "                                                                 \n",
      "=================================================================\n",
      "Total params: 304\n",
      "Trainable params: 304\n",
      "Non-trainable params: 0\n",
      "_________________________________________________________________\n"
     ]
    }
   ],
   "source": [
    "model.build_graph().summary()"
   ]
  },
  {
   "cell_type": "code",
   "execution_count": 165,
   "id": "aff15c02",
   "metadata": {
    "ExecuteTime": {
     "end_time": "2022-06-20T14:09:19.005125Z",
     "start_time": "2022-06-20T14:09:18.916965Z"
    }
   },
   "outputs": [],
   "source": [
    "loss_fn = tf.keras.losses.CategoricalCrossentropy\n",
    "optimizer = tf.keras.optimizers.Adam"
   ]
  },
  {
   "cell_type": "code",
   "execution_count": 169,
   "id": "475f70ab",
   "metadata": {
    "ExecuteTime": {
     "end_time": "2022-06-20T14:15:55.152130Z",
     "start_time": "2022-06-20T14:15:54.920917Z"
    }
   },
   "outputs": [],
   "source": [
    "model.compile(loss=loss_fn(), metrics=['accuracy', AUC()], optimizer=optimizer(learning_rate=0.001))"
   ]
  },
  {
   "cell_type": "code",
   "execution_count": 170,
   "id": "b66e7d9d",
   "metadata": {
    "ExecuteTime": {
     "end_time": "2022-06-20T14:16:43.282546Z",
     "start_time": "2022-06-20T14:15:55.764753Z"
    }
   },
   "outputs": [
    {
     "name": "stdout",
     "output_type": "stream",
     "text": [
      "26/26 [==============================] - 47s 508ms/step - loss: 0.6907 - accuracy: 0.5096 - auc: 0.5987 - val_loss: 0.6892 - val_accuracy: 0.4231 - val_auc: 0.6376\n"
     ]
    },
    {
     "data": {
      "text/plain": [
       "<keras.callbacks.History at 0x7f3a78729850>"
      ]
     },
     "execution_count": 170,
     "metadata": {},
     "output_type": "execute_result"
    }
   ],
   "source": [
    "model.fit(data.x_train,\n",
    "          data.y_train, \n",
    "          batch_size=4,\n",
    "          epochs=1,\n",
    "          validation_split=0.2,\n",
    "          shuffle=True,\n",
    "          workers=4)"
   ]
  },
  {
   "cell_type": "code",
   "execution_count": null,
   "id": "2c7c7d02",
   "metadata": {},
   "outputs": [],
   "source": []
  }
 ],
 "metadata": {
  "kernelspec": {
   "display_name": "Python (qenv)",
   "language": "python",
   "name": "qenv"
  },
  "language_info": {
   "codemirror_mode": {
    "name": "ipython",
    "version": 3
   },
   "file_extension": ".py",
   "mimetype": "text/x-python",
   "name": "python",
   "nbconvert_exporter": "python",
   "pygments_lexer": "ipython3",
   "version": "3.7.13"
  },
  "latex_envs": {
   "LaTeX_envs_menu_present": true,
   "autoclose": false,
   "autocomplete": true,
   "bibliofile": "biblio.bib",
   "cite_by": "apalike",
   "current_citInitial": 1,
   "eqLabelWithNumbers": true,
   "eqNumInitial": 1,
   "hotkeys": {
    "equation": "Ctrl-E",
    "itemize": "Ctrl-I"
   },
   "labels_anchors": false,
   "latex_user_defs": false,
   "report_style_numbering": false,
   "user_envs_cfg": false
  },
  "toc": {
   "base_numbering": 1,
   "nav_menu": {},
   "number_sections": true,
   "sideBar": true,
   "skip_h1_title": false,
   "title_cell": "Table of Contents",
   "title_sidebar": "Contents",
   "toc_cell": false,
   "toc_position": {},
   "toc_section_display": true,
   "toc_window_display": false
  }
 },
 "nbformat": 4,
 "nbformat_minor": 5
}
