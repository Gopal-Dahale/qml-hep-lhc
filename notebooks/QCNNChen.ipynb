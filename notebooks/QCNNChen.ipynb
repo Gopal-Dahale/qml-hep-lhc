{
 "cells": [
  {
   "cell_type": "code",
   "execution_count": 223,
   "id": "eee154a5",
   "metadata": {
    "ExecuteTime": {
     "end_time": "2022-06-09T14:27:33.122883Z",
     "start_time": "2022-06-09T14:27:32.846618Z"
    }
   },
   "outputs": [
    {
     "name": "stdout",
     "output_type": "stream",
     "text": [
      "The autoreload extension is already loaded. To reload it, use:\n",
      "  %reload_ext autoreload\n"
     ]
    }
   ],
   "source": [
    "%load_ext autoreload\n",
    "%autoreload 2\n",
    "import matplotlib.pyplot as plt\n",
    "%matplotlib inline\n",
    "\n",
    "from importlib.util import find_spec\n",
    "if find_spec(\"qml_hep_lhc\") is None:\n",
    "    import sys\n",
    "    sys.path.append('..')"
   ]
  },
  {
   "cell_type": "code",
   "execution_count": 224,
   "id": "0bdfb1d5",
   "metadata": {
    "ExecuteTime": {
     "end_time": "2022-06-09T14:27:33.495048Z",
     "start_time": "2022-06-09T14:27:33.320502Z"
    }
   },
   "outputs": [],
   "source": [
    "from tensorflow.keras import Model, Input\n",
    "from tensorflow.keras.layers import Layer, Flatten, Activation, Dense, Concatenate, Reshape\n",
    "import tensorflow_quantum as tfq\n",
    "import tensorflow as tf\n",
    "import sympy\n",
    "import cirq\n",
    "import numpy as np\n",
    "from qml_hep_lhc.models.quantum.utils import one_qubit_unitary\n",
    "from tensorflow.math import atan, square"
   ]
  },
  {
   "cell_type": "code",
   "execution_count": 225,
   "id": "010e3fe0",
   "metadata": {
    "ExecuteTime": {
     "end_time": "2022-06-09T14:27:33.844416Z",
     "start_time": "2022-06-09T14:27:33.679190Z"
    }
   },
   "outputs": [],
   "source": [
    "from qml_hep_lhc.data.electron_photon import ElectronPhoton\n",
    "import argparse"
   ]
  },
  {
   "cell_type": "code",
   "execution_count": 226,
   "id": "0c195d1f",
   "metadata": {
    "ExecuteTime": {
     "end_time": "2022-06-09T14:27:34.182578Z",
     "start_time": "2022-06-09T14:27:34.013546Z"
    }
   },
   "outputs": [],
   "source": [
    "args = argparse.Namespace()\n",
    "\n",
    "# args.graph_conv = True\n",
    "# args.quantum = True\n",
    "# args.pca = 64\n",
    "args.center_crop = 0.2\n",
    "# args.normalize = True\n",
    "# args.threshold = 0\n",
    "# args.loss = \"Hinge\"\n",
    "# args.hinge_labels = True\n",
    "# args.angle_encoding = True"
   ]
  },
  {
   "cell_type": "code",
   "execution_count": 227,
   "id": "a7e3aaeb",
   "metadata": {
    "ExecuteTime": {
     "end_time": "2022-06-09T14:27:34.702610Z",
     "start_time": "2022-06-09T14:27:34.342853Z"
    }
   },
   "outputs": [
    {
     "name": "stdout",
     "output_type": "stream",
     "text": [
      "Center cropping...\n"
     ]
    }
   ],
   "source": [
    "data = ElectronPhoton(args)\n",
    "data.prepare_data()\n",
    "data.setup()"
   ]
  },
  {
   "cell_type": "code",
   "execution_count": 228,
   "id": "05f9c9dc",
   "metadata": {
    "ExecuteTime": {
     "end_time": "2022-06-09T14:27:34.945241Z",
     "start_time": "2022-06-09T14:27:34.768249Z"
    }
   },
   "outputs": [
    {
     "data": {
      "text/plain": [
       "TensorShape([100, 8, 8, 1])"
      ]
     },
     "execution_count": 228,
     "metadata": {},
     "output_type": "execute_result"
    }
   ],
   "source": [
    "data.x_train.shape"
   ]
  },
  {
   "cell_type": "code",
   "execution_count": 229,
   "id": "fceb4fca",
   "metadata": {
    "ExecuteTime": {
     "end_time": "2022-06-09T14:27:36.056687Z",
     "start_time": "2022-06-09T14:27:35.298413Z"
    }
   },
   "outputs": [
    {
     "data": {
      "text/plain": [
       "<matplotlib.image.AxesImage at 0x7f720d94e210>"
      ]
     },
     "execution_count": 229,
     "metadata": {},
     "output_type": "execute_result"
    },
    {
     "data": {
      "image/png": "[encoded data removed]",
      "text/plain": [
       "<Figure size 432x288 with 1 Axes>"
      ]
     },
     "metadata": {
      "needs_background": "light"
     },
     "output_type": "display_data"
    }
   ],
   "source": [
    "plt.imshow(data.x_train[0])"
   ]
  },
  {
   "cell_type": "code",
   "execution_count": 230,
   "id": "e6cce819",
   "metadata": {
    "ExecuteTime": {
     "end_time": "2022-06-09T14:27:36.271344Z",
     "start_time": "2022-06-09T14:27:36.070258Z"
    }
   },
   "outputs": [],
   "source": [
    "def entangling_circuit(qubits):\n",
    "    \"\"\"\n",
    "    Returns a layer of CZ entangling gates on `qubits` (arranged in a circular topology).\n",
    "    \"\"\"\n",
    "    cz_ops = [cirq.CZ(q0, q1) for q0, q1 in zip(qubits, qubits[1:])]\n",
    "    cz_ops += ([cirq.CZ(qubits[0], qubits[-1])] if len(qubits) != 2 else [])\n",
    "    return cz_ops"
   ]
  },
  {
   "cell_type": "code",
   "execution_count": 231,
   "id": "c5966be7",
   "metadata": {
    "ExecuteTime": {
     "end_time": "2022-06-09T14:27:38.255207Z",
     "start_time": "2022-06-09T14:27:38.036668Z"
    }
   },
   "outputs": [],
   "source": [
    "def encoding_circuit(qubits,symbols):\n",
    "    e_ops = [cirq.ry(symbols[index,0]).on(bit) for index, bit in enumerate(qubits)]\n",
    "    e_ops += [cirq.rz(symbols[index,1]).on(bit) for index, bit in enumerate(qubits)]\n",
    "    return e_ops"
   ]
  },
  {
   "cell_type": "code",
   "execution_count": 295,
   "id": "82c80594",
   "metadata": {
    "ExecuteTime": {
     "end_time": "2022-06-09T14:46:46.793107Z",
     "start_time": "2022-06-09T14:46:46.531460Z"
    }
   },
   "outputs": [],
   "source": [
    "class QuantumConv(Layer):\n",
    "\n",
    "    def __init__(self,name,\n",
    "                 kernel_size=3,\n",
    "                 strides=1,\n",
    "                 activation='tanh',\n",
    "                 n_layers =1):\n",
    "        \n",
    "        super(QuantumConv, self).__init__(name=name)\n",
    "        self.kernel_size = kernel_size\n",
    "        self.strides = strides\n",
    "        self.activation = Activation(activation)\n",
    "        self.n_layers = n_layers\n",
    "\n",
    "        self.n_qubits = kernel_size*kernel_size\n",
    "        self.qubits = cirq.GridQubit.rect(1, self.n_qubits)\n",
    "        self.observables = [cirq.Z(self.qubits[0])]\n",
    "\n",
    "        var_symbols = sympy.symbols(f'qconv0:{3*self.n_qubits*self.n_layers}')\n",
    "        self.var_symbols = np.asarray(var_symbols).reshape((self.n_layers, self.n_qubits,3))\n",
    "\n",
    "        in_symbols= sympy.symbols(f'x0:{2*self.n_qubits}')\n",
    "        self.in_symbols = np.asarray(in_symbols).reshape((self.n_qubits, 2))\n",
    "\n",
    "    def build(self, input_shape):\n",
    "        circuit = cirq.Circuit()\n",
    "\n",
    "        circuit += encoding_circuit(self.qubits, self.in_symbols)\n",
    "        for layer in range(self.n_layers):\n",
    "            circuit += entangling_circuit(self.qubits)\n",
    "            for bit in range(self.n_qubits):\n",
    "                circuit += one_qubit_unitary(self.qubits[bit], self.var_symbols[layer, bit])\n",
    "        \n",
    "        self.var_symbols = list(self.var_symbols.flat)\n",
    "        self.in_symbols = list(self.in_symbols.flat)\n",
    "\n",
    "        var_init = tf.random_uniform_initializer(minval=-np.pi/2, maxval=np.pi/2)\n",
    "        self.theta = tf.Variable(\n",
    "            initial_value=var_init(shape=(1, len(self.var_symbols)), dtype=\"float32\"),\n",
    "            trainable=True, name=self.name + \"_thetas\"\n",
    "        )\n",
    "\n",
    "        # Define explicit symbol order\n",
    "        symbols = [str(symb) for symb in self.var_symbols + self.in_symbols]\n",
    "        self.indices = tf.constant([symbols.index(a) for a in sorted(symbols)])\n",
    "\n",
    "        self.empty_circuit = tfq.convert_to_tensor([cirq.Circuit()])\n",
    "        self.computation_layer = tfq.layers.ControlledPQC(circuit, self.observables)\n",
    "         \n",
    "    def call(self, input_tensor):\n",
    "\n",
    "        # inputs[0] = encoding data for the state.\n",
    "        batch_dim = tf.shape(input_tensor)[0]\n",
    "        strides = self.strides\n",
    "        kernel_size = self.kernel_size\n",
    "        \n",
    "        n = (input_tensor.shape[1] - kernel_size)//strides + 1\n",
    "        m = (input_tensor.shape[2] - kernel_size)//strides + 1\n",
    "        \n",
    "        conv_out = []\n",
    "\n",
    "        for i in range(n):\n",
    "            for j in range(m):\n",
    "                x = input_tensor[:, i*strides:i*strides+kernel_size, j*strides:j*strides+kernel_size]\n",
    "                x = Flatten()(x)\n",
    "                \n",
    "                x1 = self.activation(x)\n",
    "                x2 = self.activation(square(x))\n",
    "                tiled_up_circuits = tf.repeat(self.empty_circuit, \n",
    "                                              repeats=batch_dim, \n",
    "                                              name=self.name + \"_tiled_up_circuits\")\n",
    "                tiled_up_thetas = tf.tile(self.theta, \n",
    "                                          multiples=[batch_dim, 1], \n",
    "                                          name = self.name+\"_tiled_up_thetas\")\n",
    "                joined_vars = tf.concat([tiled_up_thetas, x1, x2], axis=-1)\n",
    "                joined_vars = tf.gather(joined_vars, self.indices, axis=-1, name=self.name +'_joined_vars')\n",
    "                out = self.computation_layer([tiled_up_circuits, joined_vars])\n",
    "                conv_out += [out]\n",
    "\n",
    "        conv_out = Concatenate(axis=1)(conv_out)\n",
    "        conv_out = Reshape((n, m))(conv_out)\n",
    "        return conv_out"
   ]
  },
  {
   "cell_type": "code",
   "execution_count": 296,
   "id": "d7373509",
   "metadata": {
    "ExecuteTime": {
     "end_time": "2022-06-09T14:46:47.675580Z",
     "start_time": "2022-06-09T14:46:47.488299Z"
    }
   },
   "outputs": [],
   "source": [
    "class QCNNChen(Model):\n",
    "    \"\"\"\n",
    "    Quantum Convolutional Neural Network.\n",
    "    This implementation is based on https://arxiv.org/abs/2012.12177\n",
    "    \"\"\"\n",
    "    def __init__(self, data_config, args=None):\n",
    "        super().__init__()\n",
    "        self.args = vars(args) if args is not None else {}\n",
    "\n",
    "        # Data config\n",
    "        self.input_dim = data_config[\"input_dims\"]\n",
    "        self.conv2d_1 = QuantumConv(kernel_size = 3,\n",
    "                                    strides = 1,\n",
    "                                    n_layers =2,\n",
    "                                    name = 'conv2d_1')\n",
    "        self.conv2d_2 = QuantumConv(kernel_size = 2,\n",
    "                                    strides = 1,\n",
    "                                    n_layers =2,\n",
    "                                    name = 'conv2d_2')\n",
    "        self.dense1 = Dense(8,activation='relu')\n",
    "        self.dense2 = Dense(2,activation='softmax')\n",
    "        \n",
    "    def call(self, input_tensor):\n",
    "        x = self.conv2d_1(input_tensor)\n",
    "        x = self.conv2d_2(x)\n",
    "        x = Flatten()(x)\n",
    "        x = self.dense1(x)\n",
    "        x = self.dense2(x)\n",
    "        return x\n",
    "    \n",
    "    def build_graph(self):\n",
    "        x = Input(shape=self.input_dim)\n",
    "        return Model(inputs=[x], outputs=self.call(x), name=\"QCNNChen\")"
   ]
  },
  {
   "cell_type": "code",
   "execution_count": 297,
   "id": "612665f0",
   "metadata": {
    "ExecuteTime": {
     "end_time": "2022-06-09T14:46:50.208915Z",
     "start_time": "2022-06-09T14:46:49.938379Z"
    }
   },
   "outputs": [],
   "source": [
    "model = QCNNChen(data.config())"
   ]
  },
  {
   "cell_type": "code",
   "execution_count": 298,
   "id": "2924cd6b",
   "metadata": {
    "ExecuteTime": {
     "end_time": "2022-06-09T14:47:03.819808Z",
     "start_time": "2022-06-09T14:46:50.426875Z"
    },
    "scrolled": false
   },
   "outputs": [
    {
     "name": "stdout",
     "output_type": "stream",
     "text": [
      "Model: \"QCNNChen\"\n",
      "_________________________________________________________________\n",
      " Layer (type)                Output Shape              Param #   \n",
      "=================================================================\n",
      " input_41 (InputLayer)       [(None, 8, 8, 1)]         0         \n",
      "                                                                 \n",
      " conv2d_1 (QuantumConv)      (None, 6, 6)              54        \n",
      "                                                                 \n",
      " conv2d_2 (QuantumConv)      (None, 5, 5)              24        \n",
      "                                                                 \n",
      " flatten_2 (Flatten)         (None, 25)                0         \n",
      "                                                                 \n",
      " dense_78 (Dense)            (None, 8)                 208       \n",
      "                                                                 \n",
      " dense_79 (Dense)            (None, 2)                 18        \n",
      "                                                                 \n",
      "=================================================================\n",
      "Total params: 304\n",
      "Trainable params: 304\n",
      "Non-trainable params: 0\n",
      "_________________________________________________________________\n"
     ]
    }
   ],
   "source": [
    "model.build_graph().summary()"
   ]
  },
  {
   "cell_type": "code",
   "execution_count": 301,
   "id": "96a5c234",
   "metadata": {
    "ExecuteTime": {
     "end_time": "2022-06-09T15:36:23.900924Z",
     "start_time": "2022-06-09T15:36:23.338312Z"
    }
   },
   "outputs": [],
   "source": [
    "from cirq.contrib.svg import SVGCircuit"
   ]
  },
  {
   "cell_type": "code",
   "execution_count": 309,
   "id": "4c493a07",
   "metadata": {
    "ExecuteTime": {
     "end_time": "2022-06-09T15:47:11.306798Z",
     "start_time": "2022-06-09T15:47:11.076951Z"
    }
   },
   "outputs": [
    {
     "data": {
      "text/plain": [
       "<tf.Tensor: shape=(2, 1), dtype=float32, numpy=\n",
       "array([[ 0.       ],\n",
       "       [-0.7071067]], dtype=float32)>"
      ]
     },
     "execution_count": 309,
     "metadata": {},
     "output_type": "execute_result"
    }
   ],
   "source": [
    "bit = cirq.GridQubit(0, 0)\n",
    "model = cirq.Circuit(\n",
    "    cirq.X(bit) ** sympy.Symbol('alpha'),\n",
    "    cirq.Z(bit) ** sympy.Symbol('beta')\n",
    ")\n",
    "outputs = tfq.layers.ControlledPQC(model, cirq.Z(bit))\n",
    "quantum_data = tfq.convert_to_tensor([\n",
    "    cirq.Circuit(),\n",
    "    cirq.Circuit(cirq.X(bit))\n",
    "])\n",
    "model_params = tf.convert_to_tensor([[0.5, 0.5], [0.25, 0.75]])\n",
    "res = outputs([quantum_data, model_params])\n",
    "res"
   ]
  },
  {
   "cell_type": "code",
   "execution_count": 304,
   "id": "7b9355ce",
   "metadata": {
    "ExecuteTime": {
     "end_time": "2022-06-09T15:36:40.123320Z",
     "start_time": "2022-06-09T15:36:39.306764Z"
    }
   },
   "outputs": [
    {
     "name": "stderr",
     "output_type": "stream",
     "text": [
      "findfont: Font family ['Arial'] not found. Falling back to DejaVu Sans.\n"
     ]
    },
    {
     "data": {
      "image/svg+xml": [
       "<svg xmlns=\"http://www.w3.org/2000/svg\" width=\"278.9471484375\" height=\"50.0\"><line x1=\"34.7588671875\" x2=\"248.9471484375\" y1=\"25.0\" y2=\"25.0\" stroke=\"#1967d2\" stroke-width=\"1\" /><rect x=\"10.0\" y=\"5.0\" width=\"49.517734375\" height=\"40\" stroke=\"black\" fill=\"white\" stroke-width=\"0\" /><text x=\"34.7588671875\" y=\"25.0\" dominant-baseline=\"middle\" text-anchor=\"middle\" font-size=\"14px\" font-family=\"Arial\">(0, 0): </text><rect x=\"79.517734375\" y=\"5.0\" width=\"68.4404296875\" height=\"40\" stroke=\"black\" fill=\"white\" stroke-width=\"1\" /><text x=\"113.73794921875\" y=\"25.0\" dominant-baseline=\"middle\" text-anchor=\"middle\" font-size=\"14px\" font-family=\"Arial\">X^alpha</text><rect x=\"167.95816406250003\" y=\"5.0\" width=\"60.988984375\" height=\"40\" stroke=\"black\" fill=\"white\" stroke-width=\"1\" /><text x=\"198.45265625000002\" y=\"25.0\" dominant-baseline=\"middle\" text-anchor=\"middle\" font-size=\"14px\" font-family=\"Arial\">Z^beta</text></svg>"
      ],
      "text/plain": [
       "<cirq.contrib.svg.svg.SVGCircuit at 0x7f7209cb5610>"
      ]
     },
     "execution_count": 304,
     "metadata": {},
     "output_type": "execute_result"
    }
   ],
   "source": [
    "SVGCircuit(model)"
   ]
  },
  {
   "cell_type": "code",
   "execution_count": null,
   "id": "84e5516a",
   "metadata": {},
   "outputs": [],
   "source": []
  }
 ],
 "metadata": {
  "kernelspec": {
   "display_name": "Python (qenv)",
   "language": "python",
   "name": "qenv"
  },
  "language_info": {
   "codemirror_mode": {
    "name": "ipython",
    "version": 3
   },
   "file_extension": ".py",
   "mimetype": "text/x-python",
   "name": "python",
   "nbconvert_exporter": "python",
   "pygments_lexer": "ipython3",
   "version": "3.7.13"
  },
  "latex_envs": {
   "LaTeX_envs_menu_present": true,
   "autoclose": false,
   "autocomplete": true,
   "bibliofile": "biblio.bib",
   "cite_by": "apalike",
   "current_citInitial": 1,
   "eqLabelWithNumbers": true,
   "eqNumInitial": 1,
   "hotkeys": {
    "equation": "Ctrl-E",
    "itemize": "Ctrl-I"
   },
   "labels_anchors": false,
   "latex_user_defs": false,
   "report_style_numbering": false,
   "user_envs_cfg": false
  },
  "toc": {
   "base_numbering": 1,
   "nav_menu": {},
   "number_sections": true,
   "sideBar": true,
   "skip_h1_title": false,
   "title_cell": "Table of Contents",
   "title_sidebar": "Contents",
   "toc_cell": false,
   "toc_position": {},
   "toc_section_display": true,
   "toc_window_display": false
  }
 },
 "nbformat": 4,
 "nbformat_minor": 5
}
