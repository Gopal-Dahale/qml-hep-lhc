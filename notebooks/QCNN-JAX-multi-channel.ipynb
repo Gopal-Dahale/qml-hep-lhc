{
 "cells": [
  {
   "cell_type": "code",
   "execution_count": 1,
   "id": "d28a72a2",
   "metadata": {
    "ExecuteTime": {
     "end_time": "2022-08-22T02:47:48.790445Z",
     "start_time": "2022-08-22T02:47:43.107434Z"
    }
   },
   "outputs": [],
   "source": [
    "%load_ext autoreload\n",
    "%autoreload 2\n",
    "\n",
    "%matplotlib inline\n",
    "\n",
    "from importlib.util import find_spec\n",
    "if find_spec(\"qml_hep_lhc\") is None:\n",
    "    import sys\n",
    "    sys.path.append('..')"
   ]
  },
  {
   "cell_type": "code",
   "execution_count": 2,
   "id": "7a7a9c90",
   "metadata": {
    "ExecuteTime": {
     "end_time": "2022-08-22T02:48:59.463157Z",
     "start_time": "2022-08-22T02:47:48.794516Z"
    }
   },
   "outputs": [],
   "source": [
    "from qml_hep_lhc.data import ElectronPhoton, MNIST, QuarkGluon\n",
    "from qml_hep_lhc.data.utils import tf_ds_to_numpy\n",
    "import argparse\n",
    "import wandb\n",
    "\n",
    "import pennylane as qml\n",
    "import jax.numpy as jnp\n",
    "import jax\n",
    "import optax\n",
    "from jax.nn.initializers import he_uniform\n",
    "from jax import grad, jit, vmap\n",
    "from jax import random\n",
    "import flax.linen as nn\n",
    "import tensorflow_datasets as tfds\n",
    "from tqdm import tqdm\n",
    "import numpy as np\n",
    "import tensorflow as tf\n",
    "\n",
    "# Added to silence some warnings.\n",
    "# from jax.config import config\n",
    "# config.update(\"jax_enable_x64\", True)\n",
    "\n",
    "import matplotlib.pyplot as plt\n",
    "import time"
   ]
  },
  {
   "cell_type": "code",
   "execution_count": 3,
   "id": "53cce28d",
   "metadata": {
    "ExecuteTime": {
     "end_time": "2022-08-22T02:55:29.650954Z",
     "start_time": "2022-08-22T02:55:29.290265Z"
    }
   },
   "outputs": [
    {
     "data": {
      "text/plain": [
       "[TpuDevice(id=0, process_index=0, coords=(0,0,0), core_on_chip=0),\n",
       " TpuDevice(id=1, process_index=0, coords=(0,0,0), core_on_chip=1),\n",
       " TpuDevice(id=2, process_index=0, coords=(1,0,0), core_on_chip=0),\n",
       " TpuDevice(id=3, process_index=0, coords=(1,0,0), core_on_chip=1),\n",
       " TpuDevice(id=4, process_index=0, coords=(0,1,0), core_on_chip=0),\n",
       " TpuDevice(id=5, process_index=0, coords=(0,1,0), core_on_chip=1),\n",
       " TpuDevice(id=6, process_index=0, coords=(1,1,0), core_on_chip=0),\n",
       " TpuDevice(id=7, process_index=0, coords=(1,1,0), core_on_chip=1)]"
      ]
     },
     "execution_count": 3,
     "metadata": {},
     "output_type": "execute_result"
    }
   ],
   "source": [
    "jax.devices()"
   ]
  },
  {
   "cell_type": "code",
   "execution_count": 10,
   "id": "7a7944e9",
   "metadata": {
    "ExecuteTime": {
     "end_time": "2022-08-22T08:44:09.589017Z",
     "start_time": "2022-08-22T08:44:09.478420Z"
    }
   },
   "outputs": [],
   "source": [
    "args = argparse.Namespace()\n",
    "\n",
    "# Data\n",
    "args.center_crop = 0.2\n",
    "# args.resize = [8,8]\n",
    "args.standardize = 1\n",
    "# args.power_transform = 1\n",
    "# args.binary_data = [3,6]\n",
    "# args.percent_samples = 0.01\n",
    "# args.processed = 1\n",
    "args.dataset_type = '3'\n",
    "args.labels_to_categorical = 1\n",
    "args.batch_size = 128\n",
    "args.validation_split = 0.2\n",
    "# args.graph_conv = 1\n",
    "\n",
    "# Base Model\n",
    "args.wandb = False\n",
    "args.epochs = 10\n",
    "args.learning_rate = 0.001\n",
    "\n",
    "# Quantum CNN Parameters\n",
    "args.n_layers = 1\n",
    "args.n_qubits = 1\n",
    "args.template = 'NQubitPQCSparse'\n",
    "args.initializer = 'he_uniform'\n",
    "\n",
    "args.num_qconv_layers = 1\n",
    "args.qconv_dims = [1, 1]\n",
    "args.kernel_sizes = [(3,3), (3,3)]\n",
    "args.strides = [(1,1), (1,1)]\n",
    "args.paddings = [\"SAME\", \"SAME\"]\n",
    "\n",
    "args.clayer_sizes = [8, 2]"
   ]
  },
  {
   "cell_type": "code",
   "execution_count": 11,
   "id": "d347947e",
   "metadata": {
    "ExecuteTime": {
     "end_time": "2022-08-22T07:49:12.720988Z",
     "start_time": "2022-08-22T07:49:12.640386Z"
    }
   },
   "outputs": [],
   "source": [
    "if args.wandb:\n",
    "     wandb.init(project='qml-hep-lhc', config = vars(args))"
   ]
  },
  {
   "cell_type": "code",
   "execution_count": 12,
   "id": "ce4dec05",
   "metadata": {
    "ExecuteTime": {
     "end_time": "2022-08-22T07:49:52.176864Z",
     "start_time": "2022-08-22T07:49:12.937766Z"
    }
   },
   "outputs": [
    {
     "name": "stdout",
     "output_type": "stream",
     "text": [
      "Center cropping...\n",
      "Center cropping...\n",
      "Standardizing data...\n",
      "Converting labels to categorical...\n",
      "Converting labels to categorical...\n",
      "\n",
      "Dataset :Electron Photon 3\n",
      "╒════════╤═══════════════════╤══════════════════╤══════════════════╤═══════════╕\n",
      "│ Data   │ Train size        │ Val size         │ Test size        │ Dims      │\n",
      "╞════════╪═══════════════════╪══════════════════╪══════════════════╪═══════════╡\n",
      "│ X      │ (320000, 8, 8, 1) │ (80000, 8, 8, 1) │ (98000, 8, 8, 1) │ (8, 8, 1) │\n",
      "├────────┼───────────────────┼──────────────────┼──────────────────┼───────────┤\n",
      "│ y      │ (320000, 2)       │ (80000, 2)       │ (98000, 2)       │ (2,)      │\n",
      "╘════════╧═══════════════════╧══════════════════╧══════════════════╧═══════════╛\n",
      "\n",
      "╒══════════════╤═══════╤════════╤════════╤═══════╤══════════════════════════╕\n",
      "│ Type         │   Min │    Max │   Mean │   Std │ Samples for each class   │\n",
      "╞══════════════╪═══════╪════════╪════════╪═══════╪══════════════════════════╡\n",
      "│ Train Images │ -2.88 │ 107.37 │     -0 │  1    │ [160000, 160000]         │\n",
      "├──────────────┼───────┼────────┼────────┼───────┼──────────────────────────┤\n",
      "│ Val Images   │ -2.88 │  75.01 │      0 │  1.01 │ [40000, 40000]           │\n",
      "├──────────────┼───────┼────────┼────────┼───────┼──────────────────────────┤\n",
      "│ Test Images  │ -2.88 │  70.56 │     -0 │  0.98 │ [49000, 49000]           │\n",
      "╘══════════════╧═══════╧════════╧════════╧═══════╧══════════════════════════╛\n",
      "\n",
      "\n"
     ]
    }
   ],
   "source": [
    "data = ElectronPhoton(args)\n",
    "# data.dims = (40,40,2)\n",
    "data.prepare_data()\n",
    "data.setup()\n",
    "print(data)"
   ]
  },
  {
   "cell_type": "markdown",
   "id": "74329b45",
   "metadata": {},
   "source": [
    "## Hyperparameters"
   ]
  },
  {
   "cell_type": "code",
   "execution_count": 13,
   "id": "884dcb6e",
   "metadata": {
    "ExecuteTime": {
     "end_time": "2022-08-22T08:00:02.496843Z",
     "start_time": "2022-08-22T08:00:02.419692Z"
    }
   },
   "outputs": [],
   "source": [
    "input_dims = data.config()['input_dims']"
   ]
  },
  {
   "cell_type": "code",
   "execution_count": 14,
   "id": "a29b23eb",
   "metadata": {},
   "outputs": [
    {
     "data": {
      "text/plain": [
       "(8, 8, 1)"
      ]
     },
     "execution_count": 14,
     "metadata": {},
     "output_type": "execute_result"
    }
   ],
   "source": [
    "input_dims"
   ]
  },
  {
   "cell_type": "code",
   "execution_count": 15,
   "id": "485ef1fa",
   "metadata": {
    "ExecuteTime": {
     "end_time": "2022-08-22T08:44:11.917794Z",
     "start_time": "2022-08-22T08:44:11.797901Z"
    }
   },
   "outputs": [],
   "source": [
    "def get_out_shape(in_shape,f, k, s, padding):\n",
    "    in_shape = (1,) + in_shape\n",
    "    a = np.random.uniform(size = (in_shape))\n",
    "    dn = jax.lax.conv_dimension_numbers(a.shape, (1,1,k[0],k[1]), ('NHWC', 'IOHW', 'NHWC'))\n",
    "    out = jax.lax.conv_general_dilated_patches(lhs = a,\n",
    "                                           filter_shape= k,\n",
    "                                           window_strides=s,\n",
    "                                           padding=padding,\n",
    "                                           dimension_numbers=dn \n",
    "                                    )\n",
    "    return out.shape[1:3]+(f,)"
   ]
  },
  {
   "cell_type": "code",
   "execution_count": 16,
   "id": "b17ff04e",
   "metadata": {
    "ExecuteTime": {
     "end_time": "2022-08-22T08:44:12.205521Z",
     "start_time": "2022-08-22T08:44:12.068375Z"
    }
   },
   "outputs": [
    {
     "name": "stderr",
     "output_type": "stream",
     "text": [
      "/home/gopald/qenv/lib/python3.8/site-packages/jax/_src/lax/other.py:97: UserWarning: Explicitly requested dtype float64 requested in eye is not available, and will be truncated to dtype float32. To enable more dtypes, set the jax_enable_x64 configuration option or the JAX_ENABLE_X64 shell environment variable. See https://github.com/google/jax#current-gotchas for more.\n",
      "  rhs = jnp.eye(spatial_size, dtype=lhs.dtype).reshape(filter_shape * 2)\n"
     ]
    }
   ],
   "source": [
    "initializer = he_uniform()\n",
    "\n",
    "# Get qlayer sizes\n",
    "def get_qlayer_sizes(template, n_l, n_q, k_size):\n",
    "    if template == 'NQubitPQCSparse':\n",
    "        return {\n",
    "            'w': (n_l, n_q,3,np.prod(k_size)),\n",
    "            'b': (n_l,n_q,3,1)\n",
    "        }\n",
    "    elif template == 'NQubitPQC':\n",
    "        assert np.prod(k_size)%3 == 0\n",
    "        return {\n",
    "            'w': (n_l,n_q,np.prod(k_size)),\n",
    "            'b': (n_l,n_q,np.prod(k_size))\n",
    "        }\n",
    "\n",
    "def random_qlayer_params(size, key, filters, n_channels, scale=1e-1):\n",
    "    w =  initializer(key, size)\n",
    "    tile_shape = (filters,n_channels,) + (1,)*len(size)\n",
    "    w = jnp.tile(w, tile_shape)\n",
    "    return w\n",
    "\n",
    "def init_qnetwork_params(in_shape, filters, kernel_size, strides, padding, template, n_l, n_q, key):\n",
    "    n_channels = in_shape[-1]\n",
    "    sizes = get_qlayer_sizes(template, n_l,n_q, kernel_size)\n",
    "    keys = random.split(key, len(sizes))\n",
    "    return [random_qlayer_params(size, key, filters, n_channels) for size, key in zip(sizes.values(), keys)]\n",
    "\n",
    "# A helper function to randomly initialize weights and biases\n",
    "# for a dense neural network layer\n",
    "def random_clayer_params(m, n, key, scale=1e-1):\n",
    "    w_key, b_key = random.split(key)\n",
    "    return initializer(w_key, (n,m)), random.normal(b_key, (n,))\n",
    "    return scale * random.normal(w_key, (n, m)), scale * random.normal(b_key, (n,))\n",
    "\n",
    "# Initialize all layers for a fully-connected neural network with sizes \"sizes\"\n",
    "def init_network_params(sizes, key):\n",
    "    keys = random.split(key, len(sizes))\n",
    "    return [random_clayer_params(m, n, k) for m, n, k in zip(sizes[:-1], sizes[1:], keys)]\n",
    "\n",
    "num_qconv_layers = args.num_qconv_layers\n",
    "qconv_dims = args.qconv_dims\n",
    "kernel_sizes = args.kernel_sizes\n",
    "strides = args.strides\n",
    "paddings = args.paddings\n",
    "clayer_sizes = args.clayer_sizes\n",
    "\n",
    "template = args.template\n",
    "n_layers = args.n_layers\n",
    "n_qubits = args.n_qubits\n",
    "\n",
    "\n",
    "in_shape = input_dims\n",
    "params = []\n",
    "for l in range(num_qconv_layers):\n",
    "    qconv_params = init_qnetwork_params(in_shape, \n",
    "                                         qconv_dims[l], \n",
    "                                         kernel_sizes[l], \n",
    "                                         strides[l], \n",
    "                                         paddings[l],\n",
    "                                         template, \n",
    "                                         n_layers,\n",
    "                                         n_qubits,\n",
    "                                         random.PRNGKey(l))\n",
    "    params += [qconv_params]\n",
    "    in_shape = get_out_shape(in_shape,qconv_dims[l],kernel_sizes[l],strides[l],paddings[l]) \n",
    "\n",
    "num_pixels = np.prod(in_shape)//(2**0)\n",
    "# num_pixels = 16*4*4\n",
    "clayer_sizes = [num_pixels] + clayer_sizes\n",
    "\n",
    "\n",
    "params += init_network_params(clayer_sizes, random.PRNGKey(2))"
   ]
  },
  {
   "cell_type": "code",
   "execution_count": 17,
   "id": "5b368d89",
   "metadata": {
    "ExecuteTime": {
     "end_time": "2022-08-22T08:44:13.404270Z",
     "start_time": "2022-08-22T08:44:13.299042Z"
    }
   },
   "outputs": [
    {
     "name": "stdout",
     "output_type": "stream",
     "text": [
      "(1, 1, 1, 1, 3, 9) (1, 1, 1, 1, 3, 1) \n",
      "(8, 64) (8,) \n",
      "(2, 8) (2,) \n"
     ]
    }
   ],
   "source": [
    "for i in params:\n",
    "    for j in i:\n",
    "        print(j.shape, end = ' ')\n",
    "    print()"
   ]
  },
  {
   "cell_type": "markdown",
   "id": "0cc04079",
   "metadata": {},
   "source": [
    "## QLayers"
   ]
  },
  {
   "cell_type": "code",
   "execution_count": 18,
   "id": "b5a64b72",
   "metadata": {
    "ExecuteTime": {
     "end_time": "2022-08-22T08:44:14.669908Z",
     "start_time": "2022-08-22T08:44:14.572693Z"
    }
   },
   "outputs": [],
   "source": [
    "dev = qml.device('default.qubit.jax', wires=n_qubits)\n",
    "qubits =list(range(n_qubits))\n",
    "\n",
    "@jax.jit\n",
    "@qml.qnode(dev, interface='jax')\n",
    "def NQubitPQCSparse(inputs, w, b):\n",
    "    z = jnp.dot(w, jnp.transpose(inputs))+ b\n",
    "\n",
    "    for q in qubits:\n",
    "        qml.Hadamard(wires=q)\n",
    "    \n",
    "    for l in range(n_layers):\n",
    "        for q in qubits:\n",
    "            qml.Rot(z[l,q,0], z[l,q,1], z[l,q,2], wires= q)\n",
    "        if (l & 1):\n",
    "            for q0, q1 in zip(qubits[1::2], qubits[2::2] + [qubits[0]]):\n",
    "                qml.CZ((q0,q1))\n",
    "        else:\n",
    "            for q0, q1 in zip(qubits[0::2], qubits[1::2]):\n",
    "                qml.CZ((q0,q1))\n",
    "   \n",
    "    return [qml.expval(qml.PauliX(qubits[-1])@ qml.PauliY(qubits[-1])@ qml.PauliZ(qubits[-1]))]\n",
    "#     return [qml.expval(qml.PauliZ(q)) for q in qubits]"
   ]
  },
  {
   "cell_type": "code",
   "execution_count": 19,
   "id": "caaf2386",
   "metadata": {
    "ExecuteTime": {
     "end_time": "2022-08-22T08:44:15.377500Z",
     "start_time": "2022-08-22T08:44:15.284381Z"
    }
   },
   "outputs": [],
   "source": [
    "dev = qml.device('default.qubit.jax', wires=n_qubits)\n",
    "qubits =list(range(n_qubits))\n",
    "\n",
    "@jax.jit\n",
    "@qml.qnode(dev, interface='jax')\n",
    "def NQubitPQC(inputs, w, b):\n",
    "    steps = inputs.shape[-1]//3\n",
    "    for q in qubits:\n",
    "        qml.Hadamard(wires=q)\n",
    "    \n",
    "    for l in range(n_layers):\n",
    "        for q in qubits:\n",
    "            for i in range(steps):\n",
    "                z = jnp.transpose(jnp.multiply(inputs[:,3*i:3*i+3],w[l,q,3*i:3*i+3]) + b[l,q,3*i:3*i+3])\n",
    "                qml.RX(z[0], wires=q)\n",
    "                qml.RY(z[1], wires=q)\n",
    "                qml.RZ(z[2], wires=q)\n",
    "                \n",
    "        if (l & 1):\n",
    "            for q0, q1 in zip(qubits[1::2], qubits[2::2] + [qubits[0]]):\n",
    "                qml.CZ((q0,q1))\n",
    "        else:\n",
    "            for q0, q1 in zip(qubits[0::2], qubits[1::2]):\n",
    "                qml.CZ((q0,q1))\n",
    "\n",
    "    return qml.expval(qml.PauliZ(qubits[-1]))\n",
    "#     return [qml.expval(qml.PauliZ(q)) for q in qubits]"
   ]
  },
  {
   "cell_type": "code",
   "execution_count": 20,
   "id": "4b084fed",
   "metadata": {
    "ExecuteTime": {
     "end_time": "2022-08-22T08:44:15.725799Z",
     "start_time": "2022-08-22T08:44:15.498163Z"
    }
   },
   "outputs": [],
   "source": [
    "def get_node(template):\n",
    "    if template == 'NQubitPQC':\n",
    "        return NQubitPQC\n",
    "    elif template == 'NQubitPQCSparse':\n",
    "        return NQubitPQCSparse"
   ]
  },
  {
   "cell_type": "code",
   "execution_count": 21,
   "id": "94ff6d15",
   "metadata": {
    "ExecuteTime": {
     "end_time": "2022-08-22T08:44:16.017161Z",
     "start_time": "2022-08-22T08:44:15.862302Z"
    }
   },
   "outputs": [],
   "source": [
    "def qconv_cop(x, w,b):\n",
    "#     print('cop', x.shape, w.shape, b.shape)\n",
    "    end_dim = x.shape[-1]\n",
    "    iters = x.shape[1:3]\n",
    "    x = jnp.reshape(x , (-1,)+ (end_dim,))\n",
    "    x = get_node(template)(x, w, b)\n",
    "    x = jnp.reshape(x, (-1,) + iters)\n",
    "    return x\n",
    "\n",
    "\n",
    "batched_qconv_cop = vmap(qconv_cop, in_axes=(3, 0, 0))\n",
    "\n",
    "def qconv_fop(x, w, b):\n",
    "#     print('op', x.shape, w.shape, b.shape)\n",
    "    x = batched_qconv_cop(x,w,b)\n",
    "#     print('op',x.shape)\n",
    "    x = jnp.sum(x, axis= 0)\n",
    "#     print('op',x.shape)\n",
    "    return x\n",
    "\n",
    "\n",
    "batched_qconv_fop = vmap(qconv_fop, in_axes=(None,0,0))\n",
    "\n",
    "def qconv(x, params, filters, kernel_size, stride, padding):\n",
    "    n_channels = x.shape[-1]\n",
    "    x = jnp.expand_dims(x,axis=0)\n",
    "    dn = jax.lax.conv_dimension_numbers(x.shape, \n",
    "                                        (1,1,kernel_size[0],kernel_size[1]), \n",
    "                                        ('NHWC', 'IOHW', 'NHWC'))\n",
    "    x = jax.lax.conv_general_dilated_patches(lhs = x,\n",
    "                                               filter_shape= kernel_size,\n",
    "                                               window_strides=stride,\n",
    "                                               padding=padding,\n",
    "                                               dimension_numbers=dn \n",
    "                                              )\n",
    "    iters = x.shape[1:3]\n",
    "    x = jnp.reshape(x, ((-1,) + iters + (n_channels,) + (np.prod(kernel_size),)))\n",
    "#     print('conv',x.shape, params[0].shape, params[1].shape)\n",
    "    x = batched_qconv_fop(x, params[0], params[1])\n",
    "#     print('conv',x.shape)\n",
    "    x = jnp.reshape(x, iters + (filters,))\n",
    "#     print('conv',x.shape)\n",
    "    return x"
   ]
  },
  {
   "cell_type": "code",
   "execution_count": 22,
   "id": "6da308ec",
   "metadata": {
    "ExecuteTime": {
     "end_time": "2022-08-22T08:44:17.267831Z",
     "start_time": "2022-08-22T08:44:17.178458Z"
    }
   },
   "outputs": [
    {
     "data": {
      "text/plain": [
       "(8, 8, 1)"
      ]
     },
     "execution_count": 22,
     "metadata": {},
     "output_type": "execute_result"
    }
   ],
   "source": [
    "random_flattened_image = random.normal(random.PRNGKey(1), input_dims)\n",
    "random_flattened_image = jnp.floor(random_flattened_image*10)\n",
    "random_flattened_image.shape"
   ]
  },
  {
   "cell_type": "code",
   "execution_count": 23,
   "id": "d365470d",
   "metadata": {
    "ExecuteTime": {
     "end_time": "2022-08-22T08:44:21.144974Z",
     "start_time": "2022-08-22T08:44:17.347766Z"
    }
   },
   "outputs": [
    {
     "name": "stdout",
     "output_type": "stream",
     "text": [
      "(8, 8, 1)\n"
     ]
    }
   ],
   "source": [
    "out = random_flattened_image\n",
    "for l in range(num_qconv_layers):\n",
    "    out = qconv(out, \n",
    "                params[l],\n",
    "                qconv_dims[l], \n",
    "                kernel_sizes[l], \n",
    "                strides[l], \n",
    "                paddings[l])\n",
    "    print(out.shape)"
   ]
  },
  {
   "cell_type": "code",
   "execution_count": 24,
   "id": "d0ff8700",
   "metadata": {
    "ExecuteTime": {
     "end_time": "2022-08-22T08:44:26.614510Z",
     "start_time": "2022-08-22T08:44:26.498564Z"
    }
   },
   "outputs": [
    {
     "name": "stdout",
     "output_type": "stream",
     "text": [
      "0: ──H──Rot─┤  <X@Y@Z>\n"
     ]
    }
   ],
   "source": [
    "dev = qml.device(\"default.qubit\", wires=n_qubits)\n",
    "qnode = qml.QNode(get_node(template), dev)\n",
    "\n",
    "inputs = np.random.uniform(size = (10,np.prod(kernel_sizes[0])))\n",
    "weights = [params[0][0][0][0], params[0][1][0][0]]\n",
    "drawer = qml.draw(qnode, expansion_strategy=\"device\")\n",
    "print(drawer(inputs,*weights))"
   ]
  },
  {
   "cell_type": "markdown",
   "id": "0eb80645",
   "metadata": {},
   "source": [
    "## Auto-Batching Predictions"
   ]
  },
  {
   "cell_type": "code",
   "execution_count": 25,
   "id": "93945a8f",
   "metadata": {
    "ExecuteTime": {
     "end_time": "2022-08-22T08:44:46.773491Z",
     "start_time": "2022-08-22T08:44:46.690281Z"
    }
   },
   "outputs": [],
   "source": [
    "from jax.scipy.special import logsumexp\n",
    "\n",
    "def relu(x):\n",
    "    return jnp.maximum(0, x)\n",
    "\n",
    "def forward(params, image):\n",
    "  # per-example predictions\n",
    "    activations = image\n",
    "    for l in range(num_qconv_layers):\n",
    "        activations = qconv(activations, params[l], qconv_dims[l], kernel_sizes[l], strides[l], paddings[l])\n",
    "    activations += image\n",
    "#     activations = nn.max_pool(activations, window_shape=(2, 2), strides=(2, 2))\n",
    "    activations = relu(activations)\n",
    "        \n",
    "    activations = jnp.reshape(activations, (-1))\n",
    "    for w, b in params[num_qconv_layers:-1]:\n",
    "        outputs = jnp.dot(w, activations) + b\n",
    "        activations = relu(outputs)\n",
    "    final_w, final_b = params[-1]\n",
    "    logits = jnp.dot(final_w, activations) + final_b\n",
    "    return logits - logsumexp(logits)"
   ]
  },
  {
   "cell_type": "code",
   "execution_count": 26,
   "id": "4be0d5ef",
   "metadata": {},
   "outputs": [],
   "source": [
    "def forwardvgg(params, image):\n",
    "  # per-example predictions\n",
    "    activations = image\n",
    "    for l in [0,1]:\n",
    "        activations = qconv(activations, params[l], qconv_dims[l], kernel_sizes[l], strides[l], paddings[l])\n",
    "    activations = nn.max_pool(activations, window_shape=(2, 2), strides=(2, 2)) \n",
    "        \n",
    "    activations = jnp.reshape(activations, (-1))\n",
    "    for w, b in params[2:-1]:\n",
    "        outputs = jnp.dot(w, activations) + b\n",
    "        activations = relu(outputs)\n",
    "    final_w, final_b = params[-1]\n",
    "    logits = jnp.dot(final_w, activations) + final_b\n",
    "    return logits - logsumexp(logits)"
   ]
  },
  {
   "cell_type": "code",
   "execution_count": 27,
   "id": "5a54f1e1",
   "metadata": {
    "ExecuteTime": {
     "end_time": "2022-08-22T08:44:47.641477Z",
     "start_time": "2022-08-22T08:44:47.548926Z"
    }
   },
   "outputs": [],
   "source": [
    "def forwardx(params, image):\n",
    "  # per-example predictions\n",
    "    activations = qconv(image, 0)\n",
    "    activations = qconv(activations, 1)\n",
    "    activations += image\n",
    "    activations = relu(activations)\n",
    "    activations = jnp.reshape(activations, (-1))\n",
    "    for w, b in params[2:-1]:\n",
    "        outputs = jnp.dot(w, activations) + b\n",
    "        activations = relu(outputs)\n",
    "    final_w, final_b = params[-1]\n",
    "    logits = jnp.dot(final_w, activations) + final_b\n",
    "    return logits - logsumexp(logits)"
   ]
  },
  {
   "cell_type": "code",
   "execution_count": 28,
   "id": "fbdb84a8",
   "metadata": {
    "ExecuteTime": {
     "end_time": "2022-08-22T08:44:54.962615Z",
     "start_time": "2022-08-22T08:44:54.865884Z"
    },
    "scrolled": true
   },
   "outputs": [
    {
     "name": "stdout",
     "output_type": "stream",
     "text": [
      "[   0.     -157.4177]\n"
     ]
    }
   ],
   "source": [
    "# This works on single examples\n",
    "preds = forward(params,  random_flattened_image)\n",
    "print(preds)"
   ]
  },
  {
   "cell_type": "code",
   "execution_count": 29,
   "id": "931e2120",
   "metadata": {
    "ExecuteTime": {
     "end_time": "2022-08-22T08:44:56.129716Z",
     "start_time": "2022-08-22T08:44:56.031018Z"
    }
   },
   "outputs": [],
   "source": [
    "# Doesn't work with a batch\n",
    "random_flattened_images = random.normal(random.PRNGKey(1), (2,)+ input_dims)\n",
    "random_flattened_images = jnp.floor(random_flattened_images*10)\n",
    "# try:\n",
    "#     preds = predict(params, random_flattened_images)\n",
    "# except TypeError:\n",
    "#     print('Invalid shapes!')"
   ]
  },
  {
   "cell_type": "code",
   "execution_count": 30,
   "id": "9fa9ea5f",
   "metadata": {
    "ExecuteTime": {
     "end_time": "2022-08-22T08:45:05.985413Z",
     "start_time": "2022-08-22T08:44:56.259357Z"
    }
   },
   "outputs": [
    {
     "name": "stdout",
     "output_type": "stream",
     "text": [
      "[[   0.      -168.53624]\n",
      " [   0.       -33.28782]]\n"
     ]
    }
   ],
   "source": [
    "# Let's upgrade it to handle batches using `vmap`\n",
    "\n",
    "# Make a batched version of the `predict` function\n",
    "batched_forward = vmap(forward, in_axes=(None,0))\n",
    "\n",
    "# `batched_predict` has the same call signature as `predict`\n",
    "batched_preds = batched_forward(params, random_flattened_images)\n",
    "print(batched_preds)"
   ]
  },
  {
   "cell_type": "markdown",
   "id": "d696d399",
   "metadata": {},
   "source": [
    "## Utility and loss functions"
   ]
  },
  {
   "cell_type": "code",
   "execution_count": 31,
   "id": "fc48796a",
   "metadata": {
    "ExecuteTime": {
     "end_time": "2022-08-22T08:45:06.109531Z",
     "start_time": "2022-08-22T08:45:05.989996Z"
    }
   },
   "outputs": [],
   "source": [
    "from sklearn.metrics import roc_auc_score\n",
    "\n",
    "def accuracy(y_true, y_pred):\n",
    "    target_class = jnp.argmax(y_true, axis=1)\n",
    "    predicted_class = jnp.argmax(y_pred, axis=1)\n",
    "    return jnp.mean(predicted_class == target_class)\n",
    " \n",
    "\n",
    "def loss_fn(params, images, targets):\n",
    "    preds = batched_forward(params, images)\n",
    "    loss_value = -jnp.mean(preds * targets)\n",
    "    return loss_value, preds\n",
    "\n",
    "@jit\n",
    "def update(opt_state, params, x, y):\n",
    "    _ , grads = jax.value_and_grad(loss_fn, has_aux=True)(params, x, y)\n",
    "    \n",
    "    updates, opt_state = optimizer.update(grads, opt_state)\n",
    "    params = optax.apply_updates(params, updates)\n",
    "    \n",
    "    return params, opt_state \n",
    "\n",
    "\n",
    "def step(params,x,y):\n",
    "    loss_value, preds = loss_fn(params, x, y)\n",
    "    acc = accuracy(y, preds)\n",
    "    return loss_value, acc\n",
    "\n",
    "def evaluate(params, ds):\n",
    "    losses = []\n",
    "    accs = []\n",
    "    with tqdm(tfds.as_numpy(ds), unit=\"batch\") as tepoch:\n",
    "        for x, y in tepoch:\n",
    "            tepoch.set_description(\"Validation\")\n",
    "            loss_value, acc = step(params, x, y)\n",
    "            losses.append(loss_value)\n",
    "            accs.append(acc)\n",
    "       \n",
    "    return jnp.mean(np.array(losses)), jnp.mean(np.array(accs))\n",
    "\n",
    "def predict(params, ds):\n",
    "    preds = []\n",
    "    y_true = []\n",
    "    with tqdm(tfds.as_numpy(ds), unit=\"batch\") as tepoch:\n",
    "        for x, y in tepoch:\n",
    "            preds += list(batched_forward(params, x))\n",
    "            y_true += list(y)\n",
    "    \n",
    "    return np.array(preds), np.array(y_true)"
   ]
  },
  {
   "cell_type": "markdown",
   "id": "63afa04b",
   "metadata": {},
   "source": [
    "## Training loop"
   ]
  },
  {
   "cell_type": "code",
   "execution_count": 32,
   "id": "0c29b41d",
   "metadata": {
    "ExecuteTime": {
     "end_time": "2022-08-22T08:45:06.343366Z",
     "start_time": "2022-08-22T08:45:06.113231Z"
    }
   },
   "outputs": [],
   "source": [
    "lr = 1e-4"
   ]
  },
  {
   "cell_type": "code",
   "execution_count": 33,
   "id": "01c9e9c5",
   "metadata": {
    "ExecuteTime": {
     "end_time": "2022-08-22T08:45:10.319448Z",
     "start_time": "2022-08-22T08:45:10.221090Z"
    }
   },
   "outputs": [
    {
     "name": "stdout",
     "output_type": "stream",
     "text": [
      "0.0001\n"
     ]
    }
   ],
   "source": [
    "schedule_fn = optax.linear_schedule(transition_steps=150,\n",
    "                                    init_value=0.2,\n",
    "                                    end_value=1e-7,\n",
    "                                    )\n",
    "# Defining an optimizer in Jax \n",
    "# optimizer = optax.adam(learning_rate=schedule_fn)\n",
    "\n",
    "print(lr)\n",
    "optimizer = optax.adam(learning_rate=args.learning_rate)\n",
    "# optimizer = optax.rmsprop(learning_rate=args.learning_rate)\n",
    "# optimizer = optax.adam(learning_rate=lr)\n",
    "opt_state = optimizer.init(params)\n",
    "lr = (lr*0.1)"
   ]
  },
  {
   "cell_type": "code",
   "execution_count": 35,
   "id": "fb4f365f",
   "metadata": {
    "ExecuteTime": {
     "end_time": "2022-08-22T08:49:05.868159Z",
     "start_time": "2022-08-22T08:45:11.583192Z"
    },
    "scrolled": true
   },
   "outputs": [
    {
     "name": "stderr",
     "output_type": "stream",
     "text": [
      "Epoch 0: 100%|████████████████████████████████| 2500/2500 [00:11<00:00, 220.24batch/s, acc=0.6328125, loss=0.3371101]\n",
      "100%|████████████████████████████████████████████| 625/625 [00:14<00:00, 44.48batch/s, acc=0.484375, loss=0.34968135]\n"
     ]
    },
    {
     "name": "stdout",
     "output_type": "stream",
     "text": [
      "val_loss: 0.34386634826660156 - val_acc: 0.5708624720573425-  time: 11.354404211044312\n"
     ]
    },
    {
     "name": "stderr",
     "output_type": "stream",
     "text": [
      "Epoch 1: 100%|███████████████████████████████| 2500/2500 [00:11<00:00, 226.35batch/s, acc=0.6484375, loss=0.32705674]\n",
      "100%|██████████████████████████████████████████████| 625/625 [00:12<00:00, 48.15batch/s, acc=0.53125, loss=0.3478833]\n"
     ]
    },
    {
     "name": "stdout",
     "output_type": "stream",
     "text": [
      "val_loss: 0.3368573784828186 - val_acc: 0.5868749618530273-  time: 11.047217845916748\n"
     ]
    },
    {
     "name": "stderr",
     "output_type": "stream",
     "text": [
      "Epoch 2: 100%|████████████████████████████████| 2500/2500 [00:12<00:00, 207.55batch/s, acc=0.6171875, loss=0.3282447]\n",
      "100%|████████████████████████████████████████████| 625/625 [00:12<00:00, 49.78batch/s, acc=0.609375, loss=0.32696617]\n"
     ]
    },
    {
     "name": "stdout",
     "output_type": "stream",
     "text": [
      "val_loss: 0.33415260910987854 - val_acc: 0.5941500067710876-  time: 12.047548294067383\n"
     ]
    },
    {
     "name": "stderr",
     "output_type": "stream",
     "text": [
      "Epoch 3: 100%|████████████████████████████████| 2500/2500 [00:11<00:00, 210.01batch/s, acc=0.6015625, loss=0.3258879]\n",
      "100%|███████████████████████████████████████████| 625/625 [00:12<00:00, 49.74batch/s, acc=0.5859375, loss=0.33604515]\n"
     ]
    },
    {
     "name": "stdout",
     "output_type": "stream",
     "text": [
      "val_loss: 0.3310730457305908 - val_acc: 0.6026874780654907-  time: 11.906599760055542\n"
     ]
    },
    {
     "name": "stderr",
     "output_type": "stream",
     "text": [
      "Epoch 4: 100%|███████████████████████████████████| 2500/2500 [00:11<00:00, 215.38batch/s, acc=0.625, loss=0.32229242]\n",
      "100%|███████████████████████████████████████████| 625/625 [00:12<00:00, 51.24batch/s, acc=0.5546875, loss=0.35427362]\n"
     ]
    },
    {
     "name": "stdout",
     "output_type": "stream",
     "text": [
      "val_loss: 0.32911941409111023 - val_acc: 0.6096000075340271-  time: 11.609376668930054\n"
     ]
    },
    {
     "name": "stderr",
     "output_type": "stream",
     "text": [
      "Epoch 5: 100%|███████████████████████████████| 2500/2500 [00:10<00:00, 235.30batch/s, acc=0.6484375, loss=0.31647885]\n",
      "100%|████████████████████████████████████████████████| 625/625 [00:12<00:00, 49.60batch/s, acc=0.625, loss=0.3349622]\n"
     ]
    },
    {
     "name": "stdout",
     "output_type": "stream",
     "text": [
      "val_loss: 0.32762229442596436 - val_acc: 0.6133750081062317-  time: 10.627156734466553\n"
     ]
    },
    {
     "name": "stderr",
     "output_type": "stream",
     "text": [
      "Epoch 6: 100%|███████████████████████████████| 2500/2500 [00:11<00:00, 215.43batch/s, acc=0.6484375, loss=0.31670392]\n",
      "100%|████████████████████████████████████████████| 625/625 [00:12<00:00, 50.30batch/s, acc=0.578125, loss=0.33989546]\n"
     ]
    },
    {
     "name": "stdout",
     "output_type": "stream",
     "text": [
      "val_loss: 0.3266506493091583 - val_acc: 0.618399977684021-  time: 11.60685396194458\n"
     ]
    },
    {
     "name": "stderr",
     "output_type": "stream",
     "text": [
      "Epoch 7: 100%|███████████████████████████████| 2500/2500 [00:11<00:00, 214.61batch/s, acc=0.6953125, loss=0.31151143]\n",
      "100%|███████████████████████████████████████████| 625/625 [00:12<00:00, 50.09batch/s, acc=0.6328125, loss=0.33671007]\n"
     ]
    },
    {
     "name": "stdout",
     "output_type": "stream",
     "text": [
      "val_loss: 0.32570984959602356 - val_acc: 0.6222875118255615-  time: 11.651486873626709\n"
     ]
    },
    {
     "name": "stderr",
     "output_type": "stream",
     "text": [
      "Epoch 8: 100%|███████████████████████████████| 2500/2500 [00:10<00:00, 231.85batch/s, acc=0.7265625, loss=0.30377764]\n",
      "100%|███████████████████████████████████████████| 625/625 [00:12<00:00, 49.57batch/s, acc=0.6796875, loss=0.32563698]\n"
     ]
    },
    {
     "name": "stdout",
     "output_type": "stream",
     "text": [
      "val_loss: 0.3246891498565674 - val_acc: 0.6261749863624573-  time: 10.784868001937866\n"
     ]
    },
    {
     "name": "stderr",
     "output_type": "stream",
     "text": [
      "Epoch 9: 100%|███████████████████████████████| 2500/2500 [00:10<00:00, 233.16batch/s, acc=0.6953125, loss=0.30296236]\n",
      "100%|████████████████████████████████████████████████| 625/625 [00:12<00:00, 49.41batch/s, acc=0.625, loss=0.3367525]\n"
     ]
    },
    {
     "name": "stdout",
     "output_type": "stream",
     "text": [
      "val_loss: 0.32400721311569214 - val_acc: 0.6287499666213989-  time: 10.724617958068848\n"
     ]
    },
    {
     "name": "stderr",
     "output_type": "stream",
     "text": [
      "Epoch 10: 100%|████████████████████████████████| 2500/2500 [00:11<00:00, 225.83batch/s, acc=0.65625, loss=0.32074615]\n",
      "100%|███████████████████████████████████████████| 625/625 [00:12<00:00, 50.37batch/s, acc=0.6484375, loss=0.32610428]\n"
     ]
    },
    {
     "name": "stdout",
     "output_type": "stream",
     "text": [
      "val_loss: 0.3233955502510071 - val_acc: 0.6295499801635742-  time: 11.072545766830444\n"
     ]
    },
    {
     "name": "stderr",
     "output_type": "stream",
     "text": [
      "Epoch 11: 100%|█████████████████████████████████| 2500/2500 [00:11<00:00, 222.83batch/s, acc=0.6875, loss=0.31594548]\n",
      "100%|████████████████████████████████████████████████| 625/625 [00:12<00:00, 50.18batch/s, acc=0.625, loss=0.3287763]\n"
     ]
    },
    {
     "name": "stdout",
     "output_type": "stream",
     "text": [
      "val_loss: 0.3227951228618622 - val_acc: 0.6317625045776367-  time: 11.221354007720947\n"
     ]
    },
    {
     "name": "stderr",
     "output_type": "stream",
     "text": [
      "Epoch 12: 100%|███████████████████████████████| 2500/2500 [00:12<00:00, 206.22batch/s, acc=0.671875, loss=0.32565477]\n",
      "100%|████████████████████████████████████████████| 625/625 [00:12<00:00, 49.06batch/s, acc=0.671875, loss=0.31423014]\n"
     ]
    },
    {
     "name": "stdout",
     "output_type": "stream",
     "text": [
      "val_loss: 0.32260051369667053 - val_acc: 0.6324124932289124-  time: 12.125293016433716\n"
     ]
    },
    {
     "name": "stderr",
     "output_type": "stream",
     "text": [
      "Epoch 13: 100%|█████████████████████████████████| 2500/2500 [00:10<00:00, 228.31batch/s, acc=0.6875, loss=0.31167102]\n",
      "100%|████████████████████████████████████████████| 625/625 [00:12<00:00, 49.59batch/s, acc=0.7109375, loss=0.3005457]\n"
     ]
    },
    {
     "name": "stdout",
     "output_type": "stream",
     "text": [
      "val_loss: 0.3219517469406128 - val_acc: 0.6343500018119812-  time: 10.952067852020264\n"
     ]
    },
    {
     "name": "stderr",
     "output_type": "stream",
     "text": [
      "Epoch 14: 100%|████████████████████████████████| 2500/2500 [00:12<00:00, 201.17batch/s, acc=0.7265625, loss=0.301268]\n",
      "100%|████████████████████████████████████████████| 625/625 [00:12<00:00, 49.20batch/s, acc=0.6640625, loss=0.3135856]\n"
     ]
    },
    {
     "name": "stdout",
     "output_type": "stream",
     "text": [
      "val_loss: 0.3212108910083771 - val_acc: 0.6368749737739563-  time: 12.429492235183716\n"
     ]
    },
    {
     "name": "stderr",
     "output_type": "stream",
     "text": [
      "Epoch 15: 100%|███████████████████████████████| 2500/2500 [00:11<00:00, 219.29batch/s, acc=0.6796875, loss=0.3233631]\n",
      "100%|████████████████████████████████████████████| 625/625 [00:12<00:00, 49.41batch/s, acc=0.578125, loss=0.33342785]\n"
     ]
    },
    {
     "name": "stdout",
     "output_type": "stream",
     "text": [
      "val_loss: 0.32009920477867126 - val_acc: 0.6407999992370605-  time: 11.403373003005981\n"
     ]
    },
    {
     "name": "stderr",
     "output_type": "stream",
     "text": [
      "Epoch 16: 100%|███████████████████████████████| 2500/2500 [00:12<00:00, 206.08batch/s, acc=0.7109375, loss=0.3123554]\n",
      "100%|███████████████████████████████████████████████| 625/625 [00:12<00:00, 50.10batch/s, acc=0.625, loss=0.32881182]\n"
     ]
    },
    {
     "name": "stdout",
     "output_type": "stream",
     "text": [
      "val_loss: 0.3192066252231598 - val_acc: 0.6428874731063843-  time: 12.133248567581177\n"
     ]
    },
    {
     "name": "stderr",
     "output_type": "stream",
     "text": [
      "Epoch 17: 100%|██████████████████████████████| 2500/2500 [00:11<00:00, 225.24batch/s, acc=0.6484375, loss=0.32645345]\n",
      "100%|████████████████████████████████████████████| 625/625 [00:12<00:00, 48.49batch/s, acc=0.546875, loss=0.32869756]\n"
     ]
    },
    {
     "name": "stdout",
     "output_type": "stream",
     "text": [
      "val_loss: 0.3181924521923065 - val_acc: 0.6444374918937683-  time: 11.101480484008789\n"
     ]
    },
    {
     "name": "stderr",
     "output_type": "stream",
     "text": [
      "Epoch 18: 100%|██████████████████████████████| 2500/2500 [00:12<00:00, 207.35batch/s, acc=0.6796875, loss=0.31404164]\n",
      "100%|████████████████████████████████████████████| 625/625 [00:12<00:00, 49.76batch/s, acc=0.609375, loss=0.32327658]\n"
     ]
    },
    {
     "name": "stdout",
     "output_type": "stream",
     "text": [
      "val_loss: 0.31773829460144043 - val_acc: 0.645562469959259-  time: 12.059669494628906\n"
     ]
    },
    {
     "name": "stderr",
     "output_type": "stream",
     "text": [
      "Epoch 19: 100%|████████████████████████████████| 2500/2500 [00:11<00:00, 208.75batch/s, acc=0.703125, loss=0.3123882]\n",
      "100%|████████████████████████████████████████████| 625/625 [00:12<00:00, 49.80batch/s, acc=0.6015625, loss=0.3178433]\n"
     ]
    },
    {
     "name": "stdout",
     "output_type": "stream",
     "text": [
      "val_loss: 0.3170745372772217 - val_acc: 0.6488249897956848-  time: 11.978140354156494\n"
     ]
    },
    {
     "name": "stderr",
     "output_type": "stream",
     "text": [
      "Epoch 20: 100%|████████████████████████████████| 2500/2500 [00:11<00:00, 227.18batch/s, acc=0.65625, loss=0.32491842]\n",
      "100%|█████████████████████████████████████████████| 625/625 [00:12<00:00, 49.29batch/s, acc=0.640625, loss=0.3153455]\n"
     ]
    },
    {
     "name": "stdout",
     "output_type": "stream",
     "text": [
      "val_loss: 0.3164973258972168 - val_acc: 0.6494874954223633-  time: 11.006595849990845\n"
     ]
    },
    {
     "name": "stderr",
     "output_type": "stream",
     "text": [
      "Epoch 21: 100%|██████████████████████████████| 2500/2500 [00:11<00:00, 209.26batch/s, acc=0.6640625, loss=0.31085375]\n",
      "100%|███████████████████████████████████████████████| 625/625 [00:12<00:00, 50.25batch/s, acc=0.625, loss=0.31242284]\n"
     ]
    },
    {
     "name": "stdout",
     "output_type": "stream",
     "text": [
      "val_loss: 0.3159262239933014 - val_acc: 0.650362491607666-  time: 11.949259042739868\n"
     ]
    },
    {
     "name": "stderr",
     "output_type": "stream",
     "text": [
      "Epoch 22: 100%|██████████████████████████████| 2500/2500 [00:12<00:00, 206.05batch/s, acc=0.6171875, loss=0.32784417]\n",
      "100%|████████████████████████████████████████████| 625/625 [00:12<00:00, 49.51batch/s, acc=0.609375, loss=0.31729382]\n"
     ]
    },
    {
     "name": "stdout",
     "output_type": "stream",
     "text": [
      "val_loss: 0.31534653902053833 - val_acc: 0.6519374847412109-  time: 12.13486647605896\n"
     ]
    },
    {
     "name": "stderr",
     "output_type": "stream",
     "text": [
      "Epoch 23: 100%|██████████████████████████████| 2500/2500 [00:12<00:00, 200.61batch/s, acc=0.6796875, loss=0.31675914]\n",
      "100%|███████████████████████████████████████████| 625/625 [00:12<00:00, 48.95batch/s, acc=0.6328125, loss=0.32474944]\n"
     ]
    },
    {
     "name": "stdout",
     "output_type": "stream",
     "text": [
      "val_loss: 0.31508633494377136 - val_acc: 0.6520000100135803-  time: 12.46433401107788\n"
     ]
    },
    {
     "name": "stderr",
     "output_type": "stream",
     "text": [
      "Epoch 24: 100%|██████████████████████████████| 2500/2500 [00:11<00:00, 218.66batch/s, acc=0.6640625, loss=0.31730282]\n",
      "100%|█████████████████████████████████████████████| 625/625 [00:12<00:00, 49.47batch/s, acc=0.65625, loss=0.31044957]\n"
     ]
    },
    {
     "name": "stdout",
     "output_type": "stream",
     "text": [
      "val_loss: 0.31448492407798767 - val_acc: 0.6540125012397766-  time: 11.435445785522461\n"
     ]
    },
    {
     "name": "stderr",
     "output_type": "stream",
     "text": [
      "Epoch 25: 100%|███████████████████████████████| 2500/2500 [00:12<00:00, 207.93batch/s, acc=0.640625, loss=0.33016458]\n",
      "100%|███████████████████████████████████████████| 625/625 [00:12<00:00, 49.59batch/s, acc=0.6640625, loss=0.31019282]\n"
     ]
    },
    {
     "name": "stdout",
     "output_type": "stream",
     "text": [
      "val_loss: 0.314273476600647 - val_acc: 0.6540499925613403-  time: 12.025696754455566\n"
     ]
    },
    {
     "name": "stderr",
     "output_type": "stream",
     "text": [
      "Epoch 26: 100%|██████████████████████████████████| 2500/2500 [00:11<00:00, 213.33batch/s, acc=0.625, loss=0.32331103]\n",
      "100%|█████████████████████████████████████████████| 625/625 [00:12<00:00, 49.25batch/s, acc=0.65625, loss=0.32201824]\n"
     ]
    },
    {
     "name": "stdout",
     "output_type": "stream",
     "text": [
      "val_loss: 0.31402650475502014 - val_acc: 0.654449999332428-  time: 11.721124649047852\n"
     ]
    },
    {
     "name": "stderr",
     "output_type": "stream",
     "text": [
      "Epoch 27: 100%|█████████████████████████████████| 2500/2500 [00:11<00:00, 211.75batch/s, acc=0.65625, loss=0.3068384]\n",
      "100%|███████████████████████████████████████████| 625/625 [00:12<00:00, 48.25batch/s, acc=0.6640625, loss=0.32086313]\n"
     ]
    },
    {
     "name": "stdout",
     "output_type": "stream",
     "text": [
      "val_loss: 0.31355875730514526 - val_acc: 0.6550999879837036-  time: 11.808548927307129\n"
     ]
    },
    {
     "name": "stderr",
     "output_type": "stream",
     "text": [
      "Epoch 28: 100%|██████████████████████████████| 2500/2500 [00:11<00:00, 219.12batch/s, acc=0.5859375, loss=0.34343916]\n",
      "100%|███████████████████████████████████████████| 625/625 [00:12<00:00, 51.10batch/s, acc=0.6484375, loss=0.31584525]\n"
     ]
    },
    {
     "name": "stdout",
     "output_type": "stream",
     "text": [
      "val_loss: 0.31314244866371155 - val_acc: 0.655662477016449-  time: 11.41171669960022\n"
     ]
    },
    {
     "name": "stderr",
     "output_type": "stream",
     "text": [
      "Epoch 29: 100%|████████████████████████████████| 2500/2500 [00:11<00:00, 219.36batch/s, acc=0.578125, loss=0.3258404]\n",
      "100%|███████████████████████████████████████████████| 625/625 [00:12<00:00, 50.14batch/s, acc=0.625, loss=0.32827088]\n"
     ]
    },
    {
     "name": "stdout",
     "output_type": "stream",
     "text": [
      "val_loss: 0.313271701335907 - val_acc: 0.6557624936103821-  time: 11.398970365524292\n"
     ]
    },
    {
     "name": "stderr",
     "output_type": "stream",
     "text": [
      "Epoch 30: 100%|██████████████████████████████| 2500/2500 [00:12<00:00, 206.94batch/s, acc=0.6015625, loss=0.31267154]\n",
      "100%|████████████████████████████████████████████| 625/625 [00:12<00:00, 48.70batch/s, acc=0.6484375, loss=0.3128515]\n"
     ]
    },
    {
     "name": "stdout",
     "output_type": "stream",
     "text": [
      "val_loss: 0.3127617835998535 - val_acc: 0.6560249924659729-  time: 12.082613706588745\n"
     ]
    },
    {
     "name": "stderr",
     "output_type": "stream",
     "text": [
      "Epoch 31: 100%|███████████████████████████████████| 2500/2500 [00:11<00:00, 213.33batch/s, acc=0.625, loss=0.3098627]\n",
      "100%|███████████████████████████████████████████| 625/625 [00:12<00:00, 49.42batch/s, acc=0.6640625, loss=0.32770076]\n"
     ]
    },
    {
     "name": "stdout",
     "output_type": "stream",
     "text": [
      "val_loss: 0.3126322627067566 - val_acc: 0.6554374694824219-  time: 11.721356391906738\n"
     ]
    },
    {
     "name": "stderr",
     "output_type": "stream",
     "text": [
      "Epoch 32: 100%|███████████████████████████████| 2500/2500 [00:11<00:00, 221.12batch/s, acc=0.640625, loss=0.31413162]\n",
      "100%|████████████████████████████████████████████| 625/625 [00:12<00:00, 48.22batch/s, acc=0.671875, loss=0.31919086]\n"
     ]
    },
    {
     "name": "stdout",
     "output_type": "stream",
     "text": [
      "val_loss: 0.31252726912498474 - val_acc: 0.6563875079154968-  time: 11.308299779891968\n"
     ]
    },
    {
     "name": "stderr",
     "output_type": "stream",
     "text": [
      "Epoch 33: 100%|███████████████████████████████| 2500/2500 [00:10<00:00, 227.58batch/s, acc=0.6328125, loss=0.3241584]\n",
      "100%|███████████████████████████████████████████| 625/625 [00:12<00:00, 49.69batch/s, acc=0.6484375, loss=0.31599292]\n"
     ]
    },
    {
     "name": "stdout",
     "output_type": "stream",
     "text": [
      "val_loss: 0.3127530515193939 - val_acc: 0.6562874913215637-  time: 10.987435102462769\n"
     ]
    },
    {
     "name": "stderr",
     "output_type": "stream",
     "text": [
      "Epoch 34: 100%|██████████████████████████████| 2500/2500 [00:12<00:00, 199.06batch/s, acc=0.6484375, loss=0.31176794]\n",
      "100%|███████████████████████████████████████████████| 625/625 [00:12<00:00, 48.67batch/s, acc=0.6875, loss=0.3144514]\n"
     ]
    },
    {
     "name": "stdout",
     "output_type": "stream",
     "text": [
      "val_loss: 0.31249314546585083 - val_acc: 0.6559749841690063-  time: 12.561524391174316\n"
     ]
    },
    {
     "name": "stderr",
     "output_type": "stream",
     "text": [
      "Epoch 35: 100%|██████████████████████████████| 2500/2500 [00:12<00:00, 205.52batch/s, acc=0.6015625, loss=0.33167154]\n",
      "100%|████████████████████████████████████████████| 625/625 [00:12<00:00, 48.54batch/s, acc=0.671875, loss=0.33575442]\n"
     ]
    },
    {
     "name": "stdout",
     "output_type": "stream",
     "text": [
      "val_loss: 0.31255316734313965 - val_acc: 0.6561374664306641-  time: 12.166916608810425\n"
     ]
    },
    {
     "name": "stderr",
     "output_type": "stream",
     "text": [
      "Epoch 36: 100%|██████████████████████████████| 2500/2500 [00:12<00:00, 204.89batch/s, acc=0.6015625, loss=0.31038058]\n",
      "100%|█████████████████████████████████████████████| 625/625 [00:12<00:00, 49.16batch/s, acc=0.59375, loss=0.32829404]\n"
     ]
    },
    {
     "name": "stdout",
     "output_type": "stream",
     "text": [
      "val_loss: 0.3125649392604828 - val_acc: 0.656125009059906-  time: 12.2040274143219\n"
     ]
    },
    {
     "name": "stderr",
     "output_type": "stream",
     "text": [
      "Epoch 37: 100%|██████████████████████████████| 2500/2500 [00:12<00:00, 207.18batch/s, acc=0.6484375, loss=0.31203285]\n",
      "100%|██████████████████████████████████████████████| 625/625 [00:12<00:00, 48.50batch/s, acc=0.65625, loss=0.3187669]\n"
     ]
    },
    {
     "name": "stdout",
     "output_type": "stream",
     "text": [
      "val_loss: 0.3125206232070923 - val_acc: 0.6562624573707581-  time: 12.06918716430664\n"
     ]
    },
    {
     "name": "stderr",
     "output_type": "stream",
     "text": [
      "Epoch 38: 100%|████████████████████████████████| 2500/2500 [00:11<00:00, 213.65batch/s, acc=0.65625, loss=0.31638584]\n",
      "100%|█████████████████████████████████████████████| 625/625 [00:12<00:00, 50.41batch/s, acc=0.65625, loss=0.31725177]\n"
     ]
    },
    {
     "name": "stdout",
     "output_type": "stream",
     "text": [
      "val_loss: 0.31258925795555115 - val_acc: 0.6561625003814697-  time: 11.70347809791565\n"
     ]
    },
    {
     "name": "stderr",
     "output_type": "stream",
     "text": [
      "Epoch 39: 100%|██████████████████████████████| 2500/2500 [00:11<00:00, 225.51batch/s, acc=0.6015625, loss=0.32134098]\n",
      "100%|█████████████████████████████████████████████| 625/625 [00:12<00:00, 50.16batch/s, acc=0.640625, loss=0.3202834]\n"
     ]
    },
    {
     "name": "stdout",
     "output_type": "stream",
     "text": [
      "val_loss: 0.3123466372489929 - val_acc: 0.6562125086784363-  time: 11.088484764099121\n"
     ]
    },
    {
     "name": "stderr",
     "output_type": "stream",
     "text": [
      "Epoch 40: 100%|██████████████████████████████| 2500/2500 [00:11<00:00, 210.42batch/s, acc=0.6015625, loss=0.32454735]\n",
      "100%|██████████████████████████████████████████████| 625/625 [00:12<00:00, 49.63batch/s, acc=0.6875, loss=0.29677352]\n"
     ]
    },
    {
     "name": "stdout",
     "output_type": "stream",
     "text": [
      "val_loss: 0.3122037351131439 - val_acc: 0.6567249894142151-  time: 11.883696556091309\n"
     ]
    },
    {
     "name": "stderr",
     "output_type": "stream",
     "text": [
      "Epoch 41: 100%|█████████████████████████████████| 2500/2500 [00:12<00:00, 203.86batch/s, acc=0.65625, loss=0.3019056]\n",
      "100%|███████████████████████████████████████████| 625/625 [00:12<00:00, 49.41batch/s, acc=0.6328125, loss=0.31366307]\n"
     ]
    },
    {
     "name": "stdout",
     "output_type": "stream",
     "text": [
      "val_loss: 0.3119577467441559 - val_acc: 0.6568124890327454-  time: 12.265138864517212\n"
     ]
    },
    {
     "name": "stderr",
     "output_type": "stream",
     "text": [
      "Epoch 42: 100%|██████████████████████████████| 2500/2500 [00:11<00:00, 217.38batch/s, acc=0.6796875, loss=0.30310538]\n",
      "100%|████████████████████████████████████████████| 625/625 [00:12<00:00, 49.89batch/s, acc=0.671875, loss=0.31501904]\n"
     ]
    },
    {
     "name": "stdout",
     "output_type": "stream",
     "text": [
      "val_loss: 0.31222042441368103 - val_acc: 0.6568250060081482-  time: 11.503151178359985\n"
     ]
    },
    {
     "name": "stderr",
     "output_type": "stream",
     "text": [
      "Epoch 43: 100%|███████████████████████████████| 2500/2500 [00:12<00:00, 203.39batch/s, acc=0.6484375, loss=0.3065328]\n",
      "100%|███████████████████████████████████████████████| 625/625 [00:12<00:00, 48.33batch/s, acc=0.6875, loss=0.3112695]\n"
     ]
    },
    {
     "name": "stdout",
     "output_type": "stream",
     "text": [
      "val_loss: 0.3119654953479767 - val_acc: 0.6572374701499939-  time: 12.293892860412598\n"
     ]
    },
    {
     "name": "stderr",
     "output_type": "stream",
     "text": [
      "Epoch 44: 100%|██████████████████████████████████| 2500/2500 [00:11<00:00, 216.13batch/s, acc=0.59375, loss=0.328904]\n",
      "100%|████████████████████████████████████████████| 625/625 [00:12<00:00, 50.93batch/s, acc=0.6640625, loss=0.3121731]\n"
     ]
    },
    {
     "name": "stdout",
     "output_type": "stream",
     "text": [
      "val_loss: 0.31202465295791626 - val_acc: 0.6567999720573425-  time: 11.569178581237793\n"
     ]
    },
    {
     "name": "stderr",
     "output_type": "stream",
     "text": [
      "Epoch 45: 100%|██████████████████████████████| 2500/2500 [00:11<00:00, 222.06batch/s, acc=0.6640625, loss=0.30028874]\n",
      "100%|████████████████████████████████████████████| 625/625 [00:12<00:00, 49.24batch/s, acc=0.671875, loss=0.30906916]\n"
     ]
    },
    {
     "name": "stdout",
     "output_type": "stream",
     "text": [
      "val_loss: 0.3118770718574524 - val_acc: 0.6574249863624573-  time: 11.260501861572266\n"
     ]
    },
    {
     "name": "stderr",
     "output_type": "stream",
     "text": [
      "Epoch 46: 100%|████████████████████████████████| 2500/2500 [00:10<00:00, 230.35batch/s, acc=0.65625, loss=0.30441967]\n",
      "100%|███████████████████████████████████████████| 625/625 [00:12<00:00, 49.60batch/s, acc=0.7109375, loss=0.30255795]\n"
     ]
    },
    {
     "name": "stdout",
     "output_type": "stream",
     "text": [
      "val_loss: 0.3117813766002655 - val_acc: 0.6573874950408936-  time: 10.855542182922363\n"
     ]
    },
    {
     "name": "stderr",
     "output_type": "stream",
     "text": [
      "Epoch 47: 100%|██████████████████████████████████| 2500/2500 [00:12<00:00, 208.15batch/s, acc=0.625, loss=0.31163877]\n",
      "100%|████████████████████████████████████████████| 625/625 [00:12<00:00, 50.01batch/s, acc=0.703125, loss=0.30824646]\n"
     ]
    },
    {
     "name": "stdout",
     "output_type": "stream",
     "text": [
      "val_loss: 0.3116956651210785 - val_acc: 0.6580249667167664-  time: 12.013102293014526\n"
     ]
    },
    {
     "name": "stderr",
     "output_type": "stream",
     "text": [
      "Epoch 48: 100%|███████████████████████████████| 2500/2500 [00:11<00:00, 212.23batch/s, acc=0.671875, loss=0.31091428]\n",
      "100%|███████████████████████████████████████████| 625/625 [00:12<00:00, 49.55batch/s, acc=0.7109375, loss=0.39424405]\n"
     ]
    },
    {
     "name": "stdout",
     "output_type": "stream",
     "text": [
      "val_loss: 0.3117566704750061 - val_acc: 0.6581999659538269-  time: 11.78219223022461\n"
     ]
    },
    {
     "name": "stderr",
     "output_type": "stream",
     "text": [
      "Epoch 49: 100%|███████████████████████████████| 2500/2500 [00:12<00:00, 198.15batch/s, acc=0.640625, loss=0.30931842]\n",
      "100%|███████████████████████████████████████████| 625/625 [00:12<00:00, 49.07batch/s, acc=0.6796875, loss=0.30606097]\n"
     ]
    },
    {
     "name": "stdout",
     "output_type": "stream",
     "text": [
      "val_loss: 0.31214311718940735 - val_acc: 0.6580125093460083-  time: 12.61914587020874\n"
     ]
    }
   ],
   "source": [
    "import time\n",
    "\n",
    "# epochs = args.epochs\n",
    "epochs = 5\n",
    "\n",
    "epoch_times = []\n",
    "for epoch in range(50):\n",
    "    start_time = time.time()\n",
    "\n",
    "    with tqdm(tfds.as_numpy(data.train_ds), unit=\"batch\") as tepoch:\n",
    "        for x, y in tepoch:\n",
    "            tepoch.set_description(f\"Epoch {epoch}\")\n",
    "            params, opt_state = update(opt_state, params, x, y)\n",
    "        \n",
    "    epoch_time = time.time() - start_time\n",
    "    epoch_times.append(epoch_time)\n",
    "    \n",
    "    loss, acc = evaluate(params, data.train_ds)\n",
    "    val_loss, val_acc = evaluate(params, data.val_ds)\n",
    "    \n",
    "    print('loss: {} - acc: {}'.format(loss, acc))\n",
    "    print('val_loss: {} - val_acc: {}'.format(val_loss, val_acc))\n",
    "    print('time: {}'.format(epoch_time))\n",
    "    \n",
    "    if args.wandb:\n",
    "        wandb.log({\"accuracy\": acc, \n",
    "                   \"val_accuracy\": val_acc, \n",
    "                   'loss':loss_value, \n",
    "                   'val_loss':val_loss})\n"
   ]
  },
  {
   "cell_type": "code",
   "execution_count": 89,
   "id": "cfafc1ab",
   "metadata": {
    "ExecuteTime": {
     "end_time": "2022-08-18T12:31:18.234069Z",
     "start_time": "2022-08-18T12:31:13.797326Z"
    },
    "scrolled": true
   },
   "outputs": [
    {
     "name": "stderr",
     "output_type": "stream",
     "text": [
      "100%|█████████████████████████████████████████████████████████████████████████████████████████████████| 383/383 [00:13<00:00, 28.59batch/s, acc=0.7163462, loss=0.289188]\n"
     ]
    },
    {
     "data": {
      "text/plain": [
       "(DeviceArray(0.29829407, dtype=float32), DeviceArray(0.6901353, dtype=float32))"
      ]
     },
     "execution_count": 89,
     "metadata": {},
     "output_type": "execute_result"
    }
   ],
   "source": [
    "test_loss, test_acc = evaluate(params, data.test_ds)\n",
    "test_loss, test_acc"
   ]
  },
  {
   "cell_type": "code",
   "execution_count": null,
   "id": "c8776f86",
   "metadata": {},
   "outputs": [],
   "source": [
    "from sklearn.metrics import roc_auc_score\n",
    "\n",
    "out,y_train = predict(params, data.train_ds)\n",
    "# _, y_test = tf_ds_to_numpy(data.test_ds)\n",
    "train_auc = roc_auc_score(y_train, out)\n",
    "train_auc"
   ]
  },
  {
   "cell_type": "code",
   "execution_count": 90,
   "id": "9a4571ee",
   "metadata": {},
   "outputs": [
    {
     "name": "stderr",
     "output_type": "stream",
     "text": [
      "100%|███████████████████████████████████████████████████████████████████████████████████████████████████████████████████████████████| 383/383 [00:15<00:00, 24.20batch/s]\n"
     ]
    },
    {
     "data": {
      "text/plain": [
       "0.7444356754477301"
      ]
     },
     "execution_count": 90,
     "metadata": {},
     "output_type": "execute_result"
    }
   ],
   "source": [
    "from sklearn.metrics import roc_auc_score\n",
    "\n",
    "out,y_test = predict(params, data.test_ds)\n",
    "# _, y_test = tf_ds_to_numpy(data.test_ds)\n",
    "test_auc = roc_auc_score(y_test, out)\n",
    "test_auc"
   ]
  },
  {
   "cell_type": "code",
   "execution_count": 207,
   "id": "cd6ffd07",
   "metadata": {
    "ExecuteTime": {
     "end_time": "2022-08-18T12:31:47.449894Z",
     "start_time": "2022-08-18T12:31:45.674085Z"
    }
   },
   "outputs": [
    {
     "name": "stderr",
     "output_type": "stream",
     "text": [
      "\u001b[34m\u001b[1mwandb\u001b[0m: \u001b[33mWARNING\u001b[0m wandb uses only the first 10000 datapoints to create the plots.\n",
      "\u001b[34m\u001b[1mwandb\u001b[0m: \u001b[33mWARNING\u001b[0m wandb uses only the first 10000 datapoints to create the plots.\n"
     ]
    }
   ],
   "source": [
    "if args.wandb:\n",
    "    wandb.run.summary['test_loss'] = test_loss\n",
    "    wandb.run.summary['test_acc'] = test_acc\n",
    "    wandb.run.summary['test_auc'] = test_auc\n",
    "    wandb.run.summary['train_auc'] = train_auc\n",
    "    wandb.run.summary['avg_epoch_time'] = np.mean(np.array(epoch_times))\n",
    "    y = y_test.argmax(axis=1)\n",
    "    preds = out.argmax(axis=1)\n",
    "    probs = out\n",
    "    classes = data.mapping\n",
    "\n",
    "    roc_curve = wandb.sklearn.plot_roc(y, probs, classes)\n",
    "    confusion_matrix = wandb.sklearn.plot_confusion_matrix(y, preds, classes)\n",
    "\n",
    "    wandb.log({\"roc_curve\": roc_curve})\n",
    "    wandb.log({\"confusion_matrix\": confusion_matrix})"
   ]
  },
  {
   "cell_type": "code",
   "execution_count": 208,
   "id": "d256c76d",
   "metadata": {
    "ExecuteTime": {
     "end_time": "2022-08-18T12:32:01.828384Z",
     "start_time": "2022-08-18T12:31:48.539691Z"
    }
   },
   "outputs": [
    {
     "data": {
      "text/html": [
       "Waiting for W&B process to finish... <strong style=\"color:green\">(success).</strong>"
      ],
      "text/plain": [
       "<IPython.core.display.HTML object>"
      ]
     },
     "metadata": {},
     "output_type": "display_data"
    },
    {
     "data": {
      "application/vnd.jupyter.widget-view+json": {
       "model_id": "",
       "version_major": 2,
       "version_minor": 0
      },
      "text/plain": [
       "VBox(children=(Label(value='0.360 MB of 0.360 MB uploaded (0.000 MB deduped)\\r'), FloatProgress(value=1.0, max…"
      ]
     },
     "metadata": {},
     "output_type": "display_data"
    },
    {
     "data": {
      "text/html": [
       "<style>\n",
       "    table.wandb td:nth-child(1) { padding: 0 10px; text-align: left ; width: auto;} td:nth-child(2) {text-align: left ; width: 100%}\n",
       "    .wandb-row { display: flex; flex-direction: row; flex-wrap: wrap; justify-content: flex-start; width: 100% }\n",
       "    .wandb-col { display: flex; flex-direction: column; flex-basis: 100%; flex: 1; padding: 10px; }\n",
       "    </style>\n",
       "<div class=\"wandb-row\"><div class=\"wandb-col\"><h3>Run history:</h3><br/><table class=\"wandb\"><tr><td>accuracy</td><td>▁▆▅▄▆▆▆▄▇▅▇▆█▆▃▆▄▇▅▇▄▆▆▇▇▇▅▇▇▆▇▄▄▇▅▆▆▅▆▆</td></tr><tr><td>loss</td><td>█▅▅▇▃▄▄▆▄▅▃▃▁▃▅▄▅▂▆▃▅▄▅▄▂▃▅▂▁▃▂▆▄▃▅▄▃▄▃▂</td></tr><tr><td>val_accuracy</td><td>▁▅▆▇▇▇▇▇▇▇█▇████████████████████████████</td></tr><tr><td>val_loss</td><td>█▄▃▂▂▂▂▂▁▂▁▁▁▁▁▁▁▁▁▁▁▁▁▁▂▁▁▁▁▁▁▁▁▁▁▁▁▁▁▁</td></tr></table><br/></div><div class=\"wandb-col\"><h3>Run summary:</h3><br/><table class=\"wandb\"><tr><td>accuracy</td><td>0.66667</td></tr><tr><td>loss</td><td>0.30837</td></tr><tr><td>test_acc</td><td>0.68754</td></tr><tr><td>test_auc</td><td>0.74154</td></tr><tr><td>test_loss</td><td>0.30152</td></tr><tr><td>val_accuracy</td><td>0.68685</td></tr><tr><td>val_loss</td><td>0.3013</td></tr></table><br/></div></div>"
      ],
      "text/plain": [
       "<IPython.core.display.HTML object>"
      ]
     },
     "metadata": {},
     "output_type": "display_data"
    },
    {
     "data": {
      "text/html": [
       "Synced <strong style=\"color:#cdcd00\">true-forest-266</strong>: <a href=\"https://wandb.ai/gopald/qml-hep-lhc/runs/1claj9qv\" target=\"_blank\">https://wandb.ai/gopald/qml-hep-lhc/runs/1claj9qv</a><br/>Synced 5 W&B file(s), 2 media file(s), 2 artifact file(s) and 0 other file(s)"
      ],
      "text/plain": [
       "<IPython.core.display.HTML object>"
      ]
     },
     "metadata": {},
     "output_type": "display_data"
    },
    {
     "data": {
      "text/html": [
       "Find logs at: <code>./wandb/run-20220820_130940-1claj9qv/logs</code>"
      ],
      "text/plain": [
       "<IPython.core.display.HTML object>"
      ]
     },
     "metadata": {},
     "output_type": "display_data"
    }
   ],
   "source": [
    "if args.wandb:\n",
    "    wandb.finish()"
   ]
  },
  {
   "cell_type": "code",
   "execution_count": 32,
   "id": "0e98b225",
   "metadata": {
    "ExecuteTime": {
     "end_time": "2022-08-18T05:06:41.426383Z",
     "start_time": "2022-08-18T05:06:41.265770Z"
    }
   },
   "outputs": [
    {
     "name": "stdout",
     "output_type": "stream",
     "text": [
      "0 0.2\n",
      "1 0.19866668\n",
      "2 0.19733334\n",
      "3 0.19600001\n",
      "4 0.19466668\n",
      "5 0.19333333\n",
      "6 0.192\n",
      "7 0.19066668\n",
      "8 0.18933333\n",
      "9 0.18800001\n",
      "10 0.18666668\n",
      "11 0.18533334\n",
      "12 0.18400002\n",
      "13 0.18266669\n",
      "14 0.18133333\n",
      "15 0.18\n",
      "16 0.17866668\n",
      "17 0.17733334\n",
      "18 0.17600001\n",
      "19 0.17466669\n",
      "20 0.17333335\n",
      "21 0.17200002\n",
      "22 0.1706667\n",
      "23 0.16933335\n",
      "24 0.16800003\n",
      "25 0.16666669\n",
      "26 0.16533335\n",
      "27 0.16400002\n",
      "28 0.1626667\n",
      "29 0.16133335\n",
      "30 0.16000003\n",
      "31 0.15866669\n",
      "32 0.15733334\n",
      "33 0.15600002\n",
      "34 0.15466669\n",
      "35 0.15333335\n",
      "36 0.15200002\n",
      "37 0.1506667\n",
      "38 0.14933336\n",
      "39 0.14800003\n",
      "40 0.1466667\n",
      "41 0.14533336\n",
      "42 0.14400004\n",
      "43 0.14266671\n",
      "44 0.14133336\n",
      "45 0.14000003\n",
      "46 0.1386667\n",
      "47 0.13733336\n",
      "48 0.13600004\n",
      "49 0.1346667\n",
      "50 0.13333336\n",
      "51 0.13200003\n",
      "52 0.1306667\n",
      "53 0.12933336\n",
      "54 0.12800004\n",
      "55 0.12666671\n",
      "56 0.12533337\n",
      "57 0.124000035\n",
      "58 0.1226667\n",
      "59 0.121333376\n",
      "60 0.12000004\n",
      "61 0.11866671\n",
      "62 0.11733337\n",
      "63 0.116000034\n",
      "64 0.1146667\n",
      "65 0.113333374\n",
      "66 0.11200004\n",
      "67 0.1106667\n",
      "68 0.109333366\n",
      "69 0.10800003\n",
      "70 0.10666671\n",
      "71 0.10533337\n",
      "72 0.10400004\n",
      "73 0.102666706\n",
      "74 0.10133338\n",
      "75 0.100000046\n",
      "76 0.09866671\n",
      "77 0.09733339\n",
      "78 0.09600004\n",
      "79 0.09466671\n",
      "80 0.09333338\n",
      "81 0.092000045\n",
      "82 0.09066671\n",
      "83 0.089333385\n",
      "84 0.08800005\n",
      "85 0.08666672\n",
      "86 0.08533339\n",
      "87 0.08400004\n",
      "88 0.08266672\n",
      "89 0.081333384\n",
      "90 0.08000005\n",
      "91 0.07866672\n",
      "92 0.07733339\n",
      "93 0.07600006\n",
      "94 0.07466672\n",
      "95 0.0733334\n",
      "96 0.072000064\n",
      "97 0.07066672\n",
      "98 0.06933339\n",
      "99 0.068000056\n",
      "100 0.06666672\n",
      "101 0.065333396\n",
      "102 0.06400006\n",
      "103 0.06266673\n",
      "104 0.061333403\n",
      "105 0.060000073\n",
      "106 0.05866673\n",
      "107 0.0573334\n",
      "108 0.056000065\n",
      "109 0.054666735\n",
      "110 0.053333405\n",
      "111 0.05200007\n",
      "112 0.050666742\n",
      "113 0.04933341\n",
      "114 0.04800008\n",
      "115 0.046666734\n",
      "116 0.045333404\n",
      "117 0.04400007\n",
      "118 0.04266674\n",
      "119 0.04133341\n",
      "120 0.040000077\n",
      "121 0.038666748\n",
      "122 0.037333414\n",
      "123 0.036000084\n",
      "124 0.03466674\n",
      "125 0.03333341\n",
      "126 0.032000076\n",
      "127 0.030666746\n",
      "128 0.029333415\n",
      "129 0.028000083\n",
      "130 0.026666753\n",
      "131 0.025333421\n",
      "132 0.02400009\n",
      "133 0.022666747\n",
      "134 0.021333415\n",
      "135 0.020000083\n",
      "136 0.018666752\n",
      "137 0.01733342\n",
      "138 0.016000088\n",
      "139 0.014666757\n",
      "140 0.013333426\n",
      "141 0.012000094\n",
      "142 0.01066675\n",
      "143 0.00933342\n",
      "144 0.008000088\n",
      "145 0.006666757\n",
      "146 0.0053334255\n",
      "147 0.0040000943\n",
      "148 0.0026667626\n",
      "149 0.0013334313\n",
      "150 1e-07\n",
      "151 1e-07\n",
      "152 1e-07\n",
      "153 1e-07\n",
      "154 1e-07\n",
      "155 1e-07\n",
      "156 1e-07\n",
      "157 1e-07\n",
      "158 1e-07\n",
      "159 1e-07\n",
      "160 1e-07\n",
      "161 1e-07\n",
      "162 1e-07\n",
      "163 1e-07\n",
      "164 1e-07\n",
      "165 1e-07\n",
      "166 1e-07\n",
      "167 1e-07\n",
      "168 1e-07\n",
      "169 1e-07\n",
      "170 1e-07\n",
      "171 1e-07\n",
      "172 1e-07\n",
      "173 1e-07\n",
      "174 1e-07\n",
      "175 1e-07\n",
      "176 1e-07\n",
      "177 1e-07\n",
      "178 1e-07\n",
      "179 1e-07\n",
      "180 1e-07\n",
      "181 1e-07\n",
      "182 1e-07\n",
      "183 1e-07\n",
      "184 1e-07\n",
      "185 1e-07\n",
      "186 1e-07\n",
      "187 1e-07\n",
      "188 1e-07\n",
      "189 1e-07\n",
      "190 1e-07\n",
      "191 1e-07\n",
      "192 1e-07\n",
      "193 1e-07\n",
      "194 1e-07\n",
      "195 1e-07\n",
      "196 1e-07\n",
      "197 1e-07\n",
      "198 1e-07\n",
      "199 1e-07\n"
     ]
    }
   ],
   "source": [
    "for i in range(200):\n",
    "    print(i, schedule_fn(i))"
   ]
  },
  {
   "cell_type": "code",
   "execution_count": null,
   "id": "97bd7ef7",
   "metadata": {},
   "outputs": [],
   "source": []
  }
 ],
 "metadata": {
  "kernelspec": {
   "display_name": "Python 3 (ipykernel)",
   "language": "python",
   "name": "python3"
  },
  "language_info": {
   "codemirror_mode": {
    "name": "ipython",
    "version": 3
   },
   "file_extension": ".py",
   "mimetype": "text/x-python",
   "name": "python",
   "nbconvert_exporter": "python",
   "pygments_lexer": "ipython3",
   "version": "3.8.10"
  },
  "latex_envs": {
   "LaTeX_envs_menu_present": true,
   "autoclose": false,
   "autocomplete": true,
   "bibliofile": "biblio.bib",
   "cite_by": "apalike",
   "current_citInitial": 1,
   "eqLabelWithNumbers": true,
   "eqNumInitial": 1,
   "hotkeys": {
    "equation": "Ctrl-E",
    "itemize": "Ctrl-I"
   },
   "labels_anchors": false,
   "latex_user_defs": false,
   "report_style_numbering": false,
   "user_envs_cfg": false
  },
  "toc": {
   "base_numbering": 1,
   "nav_menu": {},
   "number_sections": true,
   "sideBar": true,
   "skip_h1_title": false,
   "title_cell": "Table of Contents",
   "title_sidebar": "Contents",
   "toc_cell": false,
   "toc_position": {},
   "toc_section_display": true,
   "toc_window_display": false
  }
 },
 "nbformat": 4,
 "nbformat_minor": 5
}
