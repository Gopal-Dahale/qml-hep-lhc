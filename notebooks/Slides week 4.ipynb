{
 "cells": [
  {
   "cell_type": "code",
   "execution_count": 1,
   "id": "93e1922c",
   "metadata": {
    "ExecuteTime": {
     "end_time": "2022-07-10T07:24:53.347832Z",
     "start_time": "2022-07-10T07:24:52.192397Z"
    }
   },
   "outputs": [],
   "source": [
    "%load_ext autoreload\n",
    "%autoreload 2\n",
    "import matplotlib.pyplot as plt\n",
    "%matplotlib inline\n",
    "\n",
    "from importlib.util import find_spec\n",
    "if find_spec(\"qml_hep_lhc\") is None:\n",
    "    import sys\n",
    "    sys.path.append('..')"
   ]
  },
  {
   "cell_type": "code",
   "execution_count": 2,
   "id": "93b408bb",
   "metadata": {
    "ExecuteTime": {
     "end_time": "2022-07-10T07:25:36.209580Z",
     "start_time": "2022-07-10T07:24:58.612318Z"
    }
   },
   "outputs": [
    {
     "name": "stderr",
     "output_type": "stream",
     "text": [
      "2022-07-10 12:55:00.701905: W tensorflow/stream_executor/platform/default/dso_loader.cc:64] Could not load dynamic library 'libcudart.so.11.0'; dlerror: libcudart.so.11.0: cannot open shared object file: No such file or directory\n",
      "2022-07-10 12:55:00.701983: I tensorflow/stream_executor/cuda/cudart_stub.cc:29] Ignore above cudart dlerror if you do not have a GPU set up on your machine.\n"
     ]
    }
   ],
   "source": [
    "from qml_hep_lhc.data import ElectronPhoton, MNIST, QuarkGluon\n",
    "import argparse\n",
    "from sklearn.decomposition import PCA\n",
    "import numpy as np"
   ]
  },
  {
   "cell_type": "markdown",
   "id": "a6f3599d",
   "metadata": {},
   "source": [
    "## Mnist"
   ]
  },
  {
   "cell_type": "code",
   "execution_count": 21,
   "id": "cb920338",
   "metadata": {
    "ExecuteTime": {
     "end_time": "2022-07-10T07:29:51.718258Z",
     "start_time": "2022-07-10T07:29:51.243629Z"
    }
   },
   "outputs": [
    {
     "name": "stdout",
     "output_type": "stream",
     "text": [
      "None\n",
      "/home/gopald/Documents/qml-hep-lhc/datasets/downloaded\n",
      "Binarizing data...\n",
      "Binarizing data...\n"
     ]
    }
   ],
   "source": [
    "args = argparse.Namespace()\n",
    "args.binary_data = [0,1]\n",
    "\n",
    "data = MNIST(args)\n",
    "data.prepare_data()\n",
    "data.setup()"
   ]
  },
  {
   "cell_type": "code",
   "execution_count": 22,
   "id": "d1eb88aa",
   "metadata": {
    "ExecuteTime": {
     "end_time": "2022-07-10T07:29:55.332026Z",
     "start_time": "2022-07-10T07:29:55.188982Z"
    }
   },
   "outputs": [
    {
     "data": {
      "text/plain": [
       "Dataset :MNIST\n",
       "╒════════╤════════════════════╤═══════════════════╤═════════════╕\n",
       "│ Data   │ Train size         │ Test size         │ Dims        │\n",
       "╞════════╪════════════════════╪═══════════════════╪═════════════╡\n",
       "│ X      │ (12665, 28, 28, 1) │ (2115, 28, 28, 1) │ (28, 28, 1) │\n",
       "├────────┼────────────────────┼───────────────────┼─────────────┤\n",
       "│ y      │ (12665,)           │ (2115,)           │ (1,)        │\n",
       "╘════════╧════════════════════╧═══════════════════╧═════════════╛\n",
       "\n",
       "Train images stats\n",
       "Min: 0.00\n",
       "Max: 255.00\n",
       "Mean: 31.00\n",
       "Std: 76.79\n",
       "Train labels stats\n",
       "Min: 0.00\n",
       "Max: 1.00"
      ]
     },
     "execution_count": 22,
     "metadata": {},
     "output_type": "execute_result"
    }
   ],
   "source": [
    "data"
   ]
  },
  {
   "cell_type": "code",
   "execution_count": 23,
   "id": "3339b67e",
   "metadata": {
    "ExecuteTime": {
     "end_time": "2022-07-10T07:29:58.197183Z",
     "start_time": "2022-07-10T07:29:57.836861Z"
    }
   },
   "outputs": [
    {
     "data": {
      "image/png": "[encoded data removed]",
      "text/plain": [
       "<Figure size 720x504 with 2 Axes>"
      ]
     },
     "metadata": {
      "needs_background": "light"
     },
     "output_type": "display_data"
    }
   ],
   "source": [
    "fig = plt.figure(figsize=(10, 7))\n",
    "rows = 2\n",
    "columns = 2\n",
    "index = [np.where(data.y_train == 0)[0], np.where(data.y_train == 1)[0]] # 0, 1\n",
    "for i in range(columns):\n",
    "    fig.add_subplot(rows, columns,i+1)\n",
    "    plt.imshow(np.mean(data.x_train[index[i],:,:,0], axis = 0))\n",
    "    plt.title('One' if i ==0 else 'Zero')"
   ]
  },
  {
   "cell_type": "code",
   "execution_count": 24,
   "id": "0bf8e0e2",
   "metadata": {
    "ExecuteTime": {
     "end_time": "2022-07-10T07:30:13.069239Z",
     "start_time": "2022-07-10T07:30:13.007152Z"
    }
   },
   "outputs": [
    {
     "data": {
      "text/plain": [
       "(12665, 784)"
      ]
     },
     "execution_count": 24,
     "metadata": {},
     "output_type": "execute_result"
    }
   ],
   "source": [
    "x = data.x_train\n",
    "x = x.reshape(-1,np.prod(data.config()['input_dims']))\n",
    "x.shape"
   ]
  },
  {
   "cell_type": "code",
   "execution_count": 25,
   "id": "054f30cf",
   "metadata": {
    "ExecuteTime": {
     "end_time": "2022-07-10T07:30:22.309878Z",
     "start_time": "2022-07-10T07:30:19.354156Z"
    }
   },
   "outputs": [
    {
     "data": {
      "image/png": "[encoded data removed]",
      "text/plain": [
       "<Figure size 432x288 with 1 Axes>"
      ]
     },
     "metadata": {
      "needs_background": "light"
     },
     "output_type": "display_data"
    }
   ],
   "source": [
    "pca = PCA().fit(x)\n",
    "plt.plot(np.cumsum(pca.explained_variance_ratio_))\n",
    "plt.xlabel('number of components')\n",
    "plt.ylabel('cumulative explained variance');"
   ]
  },
  {
   "cell_type": "code",
   "execution_count": 32,
   "id": "2b6a0523",
   "metadata": {
    "ExecuteTime": {
     "end_time": "2022-07-10T07:30:58.614570Z",
     "start_time": "2022-07-10T07:30:58.164638Z"
    }
   },
   "outputs": [
    {
     "name": "stdout",
     "output_type": "stream",
     "text": [
      "None\n",
      "/home/gopald/Documents/qml-hep-lhc/datasets/downloaded\n",
      "Binarizing data...\n",
      "Center cropping...\n",
      "Binarizing data...\n",
      "Center cropping...\n"
     ]
    }
   ],
   "source": [
    "args = argparse.Namespace()\n",
    "args.binary_data = [0,1]\n",
    "args.center_crop = 0.7\n",
    "\n",
    "data = MNIST(args)\n",
    "data.prepare_data()\n",
    "data.setup()"
   ]
  },
  {
   "cell_type": "code",
   "execution_count": 33,
   "id": "687afeb1",
   "metadata": {
    "ExecuteTime": {
     "end_time": "2022-07-10T07:30:59.094655Z",
     "start_time": "2022-07-10T07:30:58.991547Z"
    }
   },
   "outputs": [
    {
     "data": {
      "text/plain": [
       "Dataset :MNIST\n",
       "╒════════╤════════════════════╤═══════════════════╤═════════════╕\n",
       "│ Data   │ Train size         │ Test size         │ Dims        │\n",
       "╞════════╪════════════════════╪═══════════════════╪═════════════╡\n",
       "│ X      │ (12665, 20, 20, 1) │ (2115, 20, 20, 1) │ (20, 20, 1) │\n",
       "├────────┼────────────────────┼───────────────────┼─────────────┤\n",
       "│ y      │ (12665,)           │ (2115,)           │ (1,)        │\n",
       "╘════════╧════════════════════╧═══════════════════╧═════════════╛\n",
       "\n",
       "Train images stats\n",
       "Min: 0.00\n",
       "Max: 255.00\n",
       "Mean: 59.91\n",
       "Std: 98.43\n",
       "Train labels stats\n",
       "Min: 0.00\n",
       "Max: 1.00"
      ]
     },
     "execution_count": 33,
     "metadata": {},
     "output_type": "execute_result"
    }
   ],
   "source": [
    "data"
   ]
  },
  {
   "cell_type": "code",
   "execution_count": 34,
   "id": "c5ba3406",
   "metadata": {
    "ExecuteTime": {
     "end_time": "2022-07-10T07:31:05.221859Z",
     "start_time": "2022-07-10T07:31:04.842072Z"
    }
   },
   "outputs": [
    {
     "data": {
      "image/png": "[encoded data removed]",
      "text/plain": [
       "<Figure size 720x504 with 2 Axes>"
      ]
     },
     "metadata": {
      "needs_background": "light"
     },
     "output_type": "display_data"
    }
   ],
   "source": [
    "fig = plt.figure(figsize=(10, 7))\n",
    "rows = 2\n",
    "columns = 2\n",
    "index = [np.where(data.y_train == 0)[0], np.where(data.y_train == 1)[0]] # 0, 1\n",
    "for i in range(columns):\n",
    "    fig.add_subplot(rows, columns,i+1)\n",
    "    plt.imshow(np.mean(data.x_train[index[i],:,:,0], axis = 0))\n",
    "    plt.title('One' if i ==0 else 'Zero')"
   ]
  },
  {
   "cell_type": "code",
   "execution_count": 35,
   "id": "3d8c2427",
   "metadata": {
    "ExecuteTime": {
     "end_time": "2022-07-10T07:31:12.380585Z",
     "start_time": "2022-07-10T07:31:12.313023Z"
    }
   },
   "outputs": [
    {
     "data": {
      "text/plain": [
       "(12665, 400)"
      ]
     },
     "execution_count": 35,
     "metadata": {},
     "output_type": "execute_result"
    }
   ],
   "source": [
    "x = data.x_train\n",
    "x = x.reshape(-1,np.prod(data.config()['input_dims']))\n",
    "x.shape"
   ]
  },
  {
   "cell_type": "code",
   "execution_count": 36,
   "id": "2aac6f9f",
   "metadata": {
    "ExecuteTime": {
     "end_time": "2022-07-10T07:31:14.339190Z",
     "start_time": "2022-07-10T07:31:13.103557Z"
    }
   },
   "outputs": [
    {
     "data": {
      "image/png": "[encoded data removed]",
      "text/plain": [
       "<Figure size 432x288 with 1 Axes>"
      ]
     },
     "metadata": {
      "needs_background": "light"
     },
     "output_type": "display_data"
    }
   ],
   "source": [
    "pca = PCA().fit(x)\n",
    "plt.plot(np.cumsum(pca.explained_variance_ratio_))\n",
    "plt.xlabel('number of components')\n",
    "plt.ylabel('cumulative explained variance');"
   ]
  },
  {
   "cell_type": "code",
   "execution_count": 40,
   "id": "9d276e6d",
   "metadata": {
    "ExecuteTime": {
     "end_time": "2022-07-10T07:32:19.342589Z",
     "start_time": "2022-07-10T07:32:17.355185Z"
    }
   },
   "outputs": [
    {
     "name": "stdout",
     "output_type": "stream",
     "text": [
      "None\n",
      "/home/gopald/Documents/qml-hep-lhc/datasets/downloaded\n",
      "Binarizing data...\n",
      "Performing PCA on data...\n",
      "Cumulative sum : 92.31408857200489\n",
      "Binarizing data...\n",
      "Performing PCA on data...\n",
      "Cumulative sum : 92.83701852494632\n"
     ]
    }
   ],
   "source": [
    "args = argparse.Namespace()\n",
    "args.binary_data = [0,1]\n",
    "args.pca = 64\n",
    "\n",
    "data = MNIST(args)\n",
    "data.prepare_data()\n",
    "data.setup()"
   ]
  },
  {
   "cell_type": "code",
   "execution_count": 41,
   "id": "93a85b0b",
   "metadata": {
    "ExecuteTime": {
     "end_time": "2022-07-10T07:32:23.894662Z",
     "start_time": "2022-07-10T07:32:23.813907Z"
    }
   },
   "outputs": [
    {
     "data": {
      "text/plain": [
       "Dataset :MNIST\n",
       "╒════════╤══════════════════╤═════════════════╤═══════════╕\n",
       "│ Data   │ Train size       │ Test size       │ Dims      │\n",
       "╞════════╪══════════════════╪═════════════════╪═══════════╡\n",
       "│ X      │ (12665, 8, 8, 1) │ (2115, 8, 8, 1) │ (8, 8, 1) │\n",
       "├────────┼──────────────────┼─────────────────┼───────────┤\n",
       "│ y      │ (12665,)         │ (2115,)         │ (1,)      │\n",
       "╘════════╧══════════════════╧═════════════════╧═══════════╛\n",
       "\n",
       "Train images stats\n",
       "Min: -1312.29\n",
       "Max: 2314.41\n",
       "Mean: 0.00\n",
       "Std: 215.57\n",
       "Train labels stats\n",
       "Min: 0.00\n",
       "Max: 1.00"
      ]
     },
     "execution_count": 41,
     "metadata": {},
     "output_type": "execute_result"
    }
   ],
   "source": [
    "data"
   ]
  },
  {
   "cell_type": "code",
   "execution_count": 42,
   "id": "7f0513ba",
   "metadata": {
    "ExecuteTime": {
     "end_time": "2022-07-10T07:32:29.283286Z",
     "start_time": "2022-07-10T07:32:28.909928Z"
    }
   },
   "outputs": [
    {
     "data": {
      "image/png": "[encoded data removed]",
      "text/plain": [
       "<Figure size 720x504 with 2 Axes>"
      ]
     },
     "metadata": {
      "needs_background": "light"
     },
     "output_type": "display_data"
    }
   ],
   "source": [
    "fig = plt.figure(figsize=(10, 7))\n",
    "rows = 2\n",
    "columns = 2\n",
    "index = [np.where(data.y_train == 0)[0], np.where(data.y_train == 1)[0]] # 0, 1\n",
    "for i in range(columns):\n",
    "    fig.add_subplot(rows, columns,i+1)\n",
    "    plt.imshow(np.mean(data.x_train[index[i],:,:,0], axis = 0))\n",
    "    plt.title('One' if i ==0 else 'Zero')"
   ]
  },
  {
   "cell_type": "markdown",
   "id": "c9ff57a9",
   "metadata": {},
   "source": [
    "## Electron Photon"
   ]
  },
  {
   "cell_type": "code",
   "execution_count": 49,
   "id": "ca0fdce0",
   "metadata": {
    "ExecuteTime": {
     "end_time": "2022-07-10T07:36:06.732454Z",
     "start_time": "2022-07-10T07:36:06.491948Z"
    }
   },
   "outputs": [
    {
     "name": "stdout",
     "output_type": "stream",
     "text": [
      "None\n",
      "/home/gopald/Documents/qml-hep-lhc/datasets/downloaded\n",
      "Center cropping...\n",
      "Center cropping...\n"
     ]
    }
   ],
   "source": [
    "args = argparse.Namespace()\n",
    "args.dataset_type = 'med'\n",
    "args.center_crop = 0.2\n",
    "\n",
    "data = ElectronPhoton(args)\n",
    "data.prepare_data()\n",
    "data.setup()"
   ]
  },
  {
   "cell_type": "code",
   "execution_count": 50,
   "id": "3034a5dd",
   "metadata": {
    "ExecuteTime": {
     "end_time": "2022-07-10T07:36:07.856942Z",
     "start_time": "2022-07-10T07:36:07.770017Z"
    }
   },
   "outputs": [
    {
     "data": {
      "text/plain": [
       "Dataset :Electron Photon med\n",
       "╒════════╤═════════════════╤═════════════════╤═══════════╕\n",
       "│ Data   │ Train size      │ Test size       │ Dims      │\n",
       "╞════════╪═════════════════╪═════════════════╪═══════════╡\n",
       "│ X      │ (9000, 8, 8, 1) │ (1000, 8, 8, 1) │ (8, 8, 1) │\n",
       "├────────┼─────────────────┼─────────────────┼───────────┤\n",
       "│ y      │ (9000,)         │ (1000,)         │ (1,)      │\n",
       "╘════════╧═════════════════╧═════════════════╧═══════════╛\n",
       "\n",
       "Train images stats\n",
       "Min: 0.00\n",
       "Max: 1.44\n",
       "Mean: 0.02\n",
       "Std: 0.09\n",
       "Train labels stats\n",
       "Min: 0.00\n",
       "Max: 1.00"
      ]
     },
     "execution_count": 50,
     "metadata": {},
     "output_type": "execute_result"
    }
   ],
   "source": [
    "data"
   ]
  },
  {
   "cell_type": "code",
   "execution_count": 51,
   "id": "a050d97c",
   "metadata": {
    "ExecuteTime": {
     "end_time": "2022-07-10T07:36:10.131620Z",
     "start_time": "2022-07-10T07:36:09.754364Z"
    }
   },
   "outputs": [
    {
     "data": {
      "image/png": "[encoded data removed]",
      "text/plain": [
       "<Figure size 720x504 with 2 Axes>"
      ]
     },
     "metadata": {
      "needs_background": "light"
     },
     "output_type": "display_data"
    }
   ],
   "source": [
    "fig = plt.figure(figsize=(10, 7))\n",
    "rows = 2\n",
    "columns = 2\n",
    "index = [np.where(data.y_train == 0)[0], np.where(data.y_train == 1)[0]] # Photon, Electron\n",
    "for i in range(columns):\n",
    "    fig.add_subplot(rows, columns,i+1)\n",
    "    plt.imshow(np.mean(data.x_train[index[i],:,:,0], axis=0))\n",
    "    plt.title('Photon' if i ==0 else 'Electron')"
   ]
  },
  {
   "cell_type": "code",
   "execution_count": 52,
   "id": "e43471a5",
   "metadata": {
    "ExecuteTime": {
     "end_time": "2022-07-10T07:36:30.010131Z",
     "start_time": "2022-07-10T07:36:29.947940Z"
    }
   },
   "outputs": [
    {
     "data": {
      "text/plain": [
       "(9000, 64)"
      ]
     },
     "execution_count": 52,
     "metadata": {},
     "output_type": "execute_result"
    }
   ],
   "source": [
    "x = data.x_train\n",
    "x = x.reshape(-1,np.prod(data.config()['input_dims']))\n",
    "x.shape"
   ]
  },
  {
   "cell_type": "code",
   "execution_count": 53,
   "id": "f7c6c9e5",
   "metadata": {
    "ExecuteTime": {
     "end_time": "2022-07-10T07:36:31.183089Z",
     "start_time": "2022-07-10T07:36:30.918124Z"
    }
   },
   "outputs": [
    {
     "data": {
      "image/png": "[encoded data removed]",
      "text/plain": [
       "<Figure size 432x288 with 1 Axes>"
      ]
     },
     "metadata": {
      "needs_background": "light"
     },
     "output_type": "display_data"
    }
   ],
   "source": [
    "pca = PCA().fit(x)\n",
    "plt.plot(np.cumsum(pca.explained_variance_ratio_))\n",
    "plt.xlabel('number of components')\n",
    "plt.ylabel('cumulative explained variance');"
   ]
  },
  {
   "cell_type": "code",
   "execution_count": 54,
   "id": "0c80c480",
   "metadata": {
    "ExecuteTime": {
     "end_time": "2022-07-10T07:36:57.651807Z",
     "start_time": "2022-07-10T07:36:57.364057Z"
    }
   },
   "outputs": [
    {
     "name": "stdout",
     "output_type": "stream",
     "text": [
      "None\n",
      "/home/gopald/Documents/qml-hep-lhc/datasets/downloaded\n",
      "Center cropping...\n",
      "Performing PCA on data...\n",
      "Cumulative sum : 99.66972\n",
      "Center cropping...\n",
      "Performing PCA on data...\n",
      "Cumulative sum : 99.71469\n"
     ]
    }
   ],
   "source": [
    "args = argparse.Namespace()\n",
    "args.dataset_type = 'med'\n",
    "args.center_crop = 0.2\n",
    "args.pca = 16\n",
    "\n",
    "data = ElectronPhoton(args)\n",
    "data.prepare_data()\n",
    "data.setup()"
   ]
  },
  {
   "cell_type": "code",
   "execution_count": 55,
   "id": "ea7b6e3c",
   "metadata": {
    "ExecuteTime": {
     "end_time": "2022-07-10T07:37:05.941512Z",
     "start_time": "2022-07-10T07:37:05.559055Z"
    }
   },
   "outputs": [
    {
     "data": {
      "image/png": "[encoded data removed]",
      "text/plain": [
       "<Figure size 720x504 with 2 Axes>"
      ]
     },
     "metadata": {
      "needs_background": "light"
     },
     "output_type": "display_data"
    }
   ],
   "source": [
    "fig = plt.figure(figsize=(10, 7))\n",
    "rows = 2\n",
    "columns = 2\n",
    "index = [np.where(data.y_train == 0)[0], np.where(data.y_train == 1)[0]] # Photon, Electron\n",
    "for i in range(columns):\n",
    "    fig.add_subplot(rows, columns,i+1)\n",
    "    plt.imshow(np.mean(data.x_train[index[i],:,:,0], axis=0))\n",
    "    plt.title('Photon' if i ==0 else 'Electron')"
   ]
  },
  {
   "cell_type": "code",
   "execution_count": 59,
   "id": "2ff6e596",
   "metadata": {
    "ExecuteTime": {
     "end_time": "2022-07-10T07:39:13.231499Z",
     "start_time": "2022-07-10T07:39:03.678675Z"
    }
   },
   "outputs": [
    {
     "name": "stdout",
     "output_type": "stream",
     "text": [
      "None\n",
      "/home/gopald/Documents/qml-hep-lhc/datasets/downloaded\n",
      "Performing graph convolution...\n",
      "Performing graph convolution...\n"
     ]
    }
   ],
   "source": [
    "args = argparse.Namespace()\n",
    "args.dataset_type = 'med'\n",
    "args.graph_conv = 1\n",
    "\n",
    "data = ElectronPhoton(args)\n",
    "data.prepare_data()\n",
    "data.setup()"
   ]
  },
  {
   "cell_type": "code",
   "execution_count": 60,
   "id": "f4460c3e",
   "metadata": {
    "ExecuteTime": {
     "end_time": "2022-07-10T07:39:13.681127Z",
     "start_time": "2022-07-10T07:39:13.236481Z"
    }
   },
   "outputs": [
    {
     "data": {
      "image/png": "[encoded data removed]",
      "text/plain": [
       "<Figure size 720x504 with 2 Axes>"
      ]
     },
     "metadata": {
      "needs_background": "light"
     },
     "output_type": "display_data"
    }
   ],
   "source": [
    "fig = plt.figure(figsize=(10, 7))\n",
    "rows = 2\n",
    "columns = 2\n",
    "index = [np.where(data.y_train == 0)[0], np.where(data.y_train == 1)[0]] # Photon, Electron\n",
    "for i in range(columns):\n",
    "    fig.add_subplot(rows, columns,i+1)\n",
    "    plt.imshow(np.mean(data.x_train[index[i],:,:,0], axis=0))\n",
    "    plt.title('Photon' if i ==0 else 'Electron')"
   ]
  },
  {
   "cell_type": "code",
   "execution_count": 63,
   "id": "a4e56a01",
   "metadata": {
    "ExecuteTime": {
     "end_time": "2022-07-10T07:39:57.696165Z",
     "start_time": "2022-07-10T07:39:55.769424Z"
    }
   },
   "outputs": [
    {
     "name": "stdout",
     "output_type": "stream",
     "text": [
      "None\n",
      "/home/gopald/Documents/qml-hep-lhc/datasets/downloaded\n",
      "Center cropping...\n",
      "Performing graph convolution...\n",
      "Center cropping...\n",
      "Performing graph convolution...\n"
     ]
    }
   ],
   "source": [
    "args = argparse.Namespace()\n",
    "args.dataset_type = 'med'\n",
    "args.center_crop = 0.2\n",
    "args.graph_conv = 1\n",
    "\n",
    "data = ElectronPhoton(args)\n",
    "data.prepare_data()\n",
    "data.setup()"
   ]
  },
  {
   "cell_type": "code",
   "execution_count": 64,
   "id": "c166314d",
   "metadata": {
    "ExecuteTime": {
     "end_time": "2022-07-10T07:39:58.064147Z",
     "start_time": "2022-07-10T07:39:57.700212Z"
    }
   },
   "outputs": [
    {
     "data": {
      "image/png": "[encoded data removed]",
      "text/plain": [
       "<Figure size 720x504 with 2 Axes>"
      ]
     },
     "metadata": {
      "needs_background": "light"
     },
     "output_type": "display_data"
    }
   ],
   "source": [
    "fig = plt.figure(figsize=(10, 7))\n",
    "rows = 2\n",
    "columns = 2\n",
    "index = [np.where(data.y_train == 0)[0], np.where(data.y_train == 1)[0]] # Photon, Electron\n",
    "for i in range(columns):\n",
    "    fig.add_subplot(rows, columns,i+1)\n",
    "    plt.imshow(np.mean(data.x_train[index[i],:,:,0], axis=0))\n",
    "    plt.title('Photon' if i ==0 else 'Electron')"
   ]
  },
  {
   "cell_type": "markdown",
   "id": "3cd4abc5",
   "metadata": {},
   "source": [
    "## Quark Gluon"
   ]
  },
  {
   "cell_type": "code",
   "execution_count": 65,
   "id": "33cecd38",
   "metadata": {
    "ExecuteTime": {
     "end_time": "2022-07-10T07:40:41.442518Z",
     "start_time": "2022-07-10T07:40:40.962236Z"
    }
   },
   "outputs": [
    {
     "name": "stdout",
     "output_type": "stream",
     "text": [
      "None\n",
      "/home/gopald/Documents/qml-hep-lhc/datasets/downloaded\n"
     ]
    }
   ],
   "source": [
    "args = argparse.Namespace()\n",
    "\n",
    "data = QuarkGluon(args)\n",
    "data.prepare_data()\n",
    "data.setup()"
   ]
  },
  {
   "cell_type": "code",
   "execution_count": 66,
   "id": "6654628e",
   "metadata": {
    "ExecuteTime": {
     "end_time": "2022-07-10T07:40:48.516095Z",
     "start_time": "2022-07-10T07:40:48.380110Z"
    }
   },
   "outputs": [
    {
     "data": {
      "text/plain": [
       "Dataset :Quark Gluon\n",
       "╒════════╤═══════════════════╤═══════════════════╤═════════════╕\n",
       "│ Data   │ Train size        │ Test size         │ Dims        │\n",
       "╞════════╪═══════════════════╪═══════════════════╪═════════════╡\n",
       "│ X      │ (9000, 39, 39, 1) │ (1000, 39, 39, 1) │ (39, 39, 1) │\n",
       "├────────┼───────────────────┼───────────────────┼─────────────┤\n",
       "│ y      │ (9000,)           │ (1000,)           │ (1,)        │\n",
       "╘════════╧═══════════════════╧═══════════════════╧═════════════╛\n",
       "\n",
       "Train images stats\n",
       "Min: 0.00\n",
       "Max: 7.09\n",
       "Mean: 0.00\n",
       "Std: 0.01\n",
       "Train labels stats\n",
       "Min: 0.00\n",
       "Max: 1.00"
      ]
     },
     "execution_count": 66,
     "metadata": {},
     "output_type": "execute_result"
    }
   ],
   "source": [
    "data"
   ]
  },
  {
   "cell_type": "code",
   "execution_count": 68,
   "id": "7c5673fe",
   "metadata": {
    "ExecuteTime": {
     "end_time": "2022-07-10T07:41:07.285668Z",
     "start_time": "2022-07-10T07:41:06.895578Z"
    }
   },
   "outputs": [
    {
     "data": {
      "image/png": "[encoded data removed]",
      "text/plain": [
       "<Figure size 720x504 with 2 Axes>"
      ]
     },
     "metadata": {
      "needs_background": "light"
     },
     "output_type": "display_data"
    }
   ],
   "source": [
    "fig = plt.figure(figsize=(10, 7))\n",
    "rows = 1\n",
    "columns = 2\n",
    "index = [np.where(data.y_train == 0)[0], np.where(data.y_train == 1)[0]] # Photon, Electron\n",
    "for i in range(columns):\n",
    "    fig.add_subplot(rows, columns,i+1)\n",
    "    plt.imshow(np.mean(data.x_train[index[i],:,:,0], axis=0))\n",
    "    plt.title('Quark' if i ==0 else 'Gluon')"
   ]
  },
  {
   "cell_type": "code",
   "execution_count": 69,
   "id": "cd35652f",
   "metadata": {
    "ExecuteTime": {
     "end_time": "2022-07-10T07:41:36.496120Z",
     "start_time": "2022-07-10T07:41:36.436468Z"
    }
   },
   "outputs": [
    {
     "data": {
      "text/plain": [
       "(9000, 1521)"
      ]
     },
     "execution_count": 69,
     "metadata": {},
     "output_type": "execute_result"
    }
   ],
   "source": [
    "x = data.x_train\n",
    "x = x.reshape(-1,np.prod(data.config()['input_dims']))\n",
    "x.shape"
   ]
  },
  {
   "cell_type": "code",
   "execution_count": 70,
   "id": "b55f0ba7",
   "metadata": {
    "ExecuteTime": {
     "end_time": "2022-07-10T07:41:44.674490Z",
     "start_time": "2022-07-10T07:41:40.787790Z"
    }
   },
   "outputs": [
    {
     "data": {
      "image/png": "[encoded data removed]",
      "text/plain": [
       "<Figure size 432x288 with 1 Axes>"
      ]
     },
     "metadata": {
      "needs_background": "light"
     },
     "output_type": "display_data"
    }
   ],
   "source": [
    "pca = PCA().fit(x)\n",
    "plt.plot(np.cumsum(pca.explained_variance_ratio_))\n",
    "plt.xlabel('number of components')\n",
    "plt.ylabel('cumulative explained variance');"
   ]
  },
  {
   "cell_type": "code",
   "execution_count": 71,
   "id": "a884e307",
   "metadata": {
    "ExecuteTime": {
     "end_time": "2022-07-10T07:42:15.231196Z",
     "start_time": "2022-07-10T07:42:12.253895Z"
    }
   },
   "outputs": [
    {
     "name": "stdout",
     "output_type": "stream",
     "text": [
      "None\n",
      "/home/gopald/Documents/qml-hep-lhc/datasets/downloaded\n",
      "Performing PCA on data...\n",
      "Cumulative sum : 93.51652\n",
      "Performing PCA on data...\n",
      "Cumulative sum : 98.50751\n"
     ]
    }
   ],
   "source": [
    "args = argparse.Namespace()\n",
    "args.pca = 400\n",
    "\n",
    "data = QuarkGluon(args)\n",
    "data.prepare_data()\n",
    "data.setup()"
   ]
  },
  {
   "cell_type": "code",
   "execution_count": 72,
   "id": "c6071a0e",
   "metadata": {
    "ExecuteTime": {
     "end_time": "2022-07-10T07:42:22.968470Z",
     "start_time": "2022-07-10T07:42:22.892497Z"
    }
   },
   "outputs": [
    {
     "data": {
      "text/plain": [
       "Dataset :Quark Gluon\n",
       "╒════════╤═══════════════════╤═══════════════════╤═════════════╕\n",
       "│ Data   │ Train size        │ Test size         │ Dims        │\n",
       "╞════════╪═══════════════════╪═══════════════════╪═════════════╡\n",
       "│ X      │ (9000, 20, 20, 1) │ (1000, 20, 20, 1) │ (20, 20, 1) │\n",
       "├────────┼───────────────────┼───────────────────┼─────────────┤\n",
       "│ y      │ (9000,)           │ (1000,)           │ (1,)        │\n",
       "╘════════╧═══════════════════╧═══════════════════╧═════════════╛\n",
       "\n",
       "Train images stats\n",
       "Min: -0.82\n",
       "Max: 9.86\n",
       "Mean: -0.00\n",
       "Std: 0.02\n",
       "Train labels stats\n",
       "Min: 0.00\n",
       "Max: 1.00"
      ]
     },
     "execution_count": 72,
     "metadata": {},
     "output_type": "execute_result"
    }
   ],
   "source": [
    "data"
   ]
  },
  {
   "cell_type": "code",
   "execution_count": 73,
   "id": "20648752",
   "metadata": {
    "ExecuteTime": {
     "end_time": "2022-07-10T07:42:29.927653Z",
     "start_time": "2022-07-10T07:42:29.507238Z"
    }
   },
   "outputs": [
    {
     "data": {
      "image/png": "[encoded data removed]",
      "text/plain": [
       "<Figure size 720x504 with 2 Axes>"
      ]
     },
     "metadata": {
      "needs_background": "light"
     },
     "output_type": "display_data"
    }
   ],
   "source": [
    "fig = plt.figure(figsize=(10, 7))\n",
    "rows = 1\n",
    "columns = 2\n",
    "index = [np.where(data.y_train == 0)[0], np.where(data.y_train == 1)[0]] # Photon, Electron\n",
    "for i in range(columns):\n",
    "    fig.add_subplot(rows, columns,i+1)\n",
    "    plt.imshow(np.mean(data.x_train[index[i],:,:,0], axis=0))\n",
    "    plt.title('Quark' if i ==0 else 'Gluon')"
   ]
  },
  {
   "cell_type": "code",
   "execution_count": null,
   "id": "5d40b219",
   "metadata": {},
   "outputs": [],
   "source": []
  }
 ],
 "metadata": {
  "kernelspec": {
   "display_name": "Python (qenv)",
   "language": "python",
   "name": "qenv"
  },
  "language_info": {
   "codemirror_mode": {
    "name": "ipython",
    "version": 3
   },
   "file_extension": ".py",
   "mimetype": "text/x-python",
   "name": "python",
   "nbconvert_exporter": "python",
   "pygments_lexer": "ipython3",
   "version": "3.7.13"
  },
  "latex_envs": {
   "LaTeX_envs_menu_present": true,
   "autoclose": false,
   "autocomplete": true,
   "bibliofile": "biblio.bib",
   "cite_by": "apalike",
   "current_citInitial": 1,
   "eqLabelWithNumbers": true,
   "eqNumInitial": 1,
   "hotkeys": {
    "equation": "Ctrl-E",
    "itemize": "Ctrl-I"
   },
   "labels_anchors": false,
   "latex_user_defs": false,
   "report_style_numbering": false,
   "user_envs_cfg": false
  },
  "toc": {
   "base_numbering": 1,
   "nav_menu": {},
   "number_sections": true,
   "sideBar": true,
   "skip_h1_title": false,
   "title_cell": "Table of Contents",
   "title_sidebar": "Contents",
   "toc_cell": false,
   "toc_position": {},
   "toc_section_display": true,
   "toc_window_display": false
  }
 },
 "nbformat": 4,
 "nbformat_minor": 5
}
