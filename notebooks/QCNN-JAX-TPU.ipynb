{
 "cells": [
  {
   "cell_type": "code",
   "execution_count": 1,
   "id": "d28a72a2",
   "metadata": {
    "ExecuteTime": {
     "end_time": "2022-08-18T04:29:14.807543Z",
     "start_time": "2022-08-18T04:29:10.402969Z"
    }
   },
   "outputs": [],
   "source": [
    "%load_ext autoreload\n",
    "%autoreload 2\n",
    "\n",
    "%matplotlib inline\n",
    "\n",
    "from importlib.util import find_spec\n",
    "if find_spec(\"qml_hep_lhc\") is None:\n",
    "    import sys\n",
    "    sys.path.append('..')"
   ]
  },
  {
   "cell_type": "code",
   "execution_count": 2,
   "id": "7a7a9c90",
   "metadata": {
    "ExecuteTime": {
     "end_time": "2022-08-18T08:09:08.619045Z",
     "start_time": "2022-08-18T08:09:08.535530Z"
    }
   },
   "outputs": [],
   "source": [
    "from qml_hep_lhc.data import ElectronPhoton, MNIST, QuarkGluon\n",
    "from qml_hep_lhc.data.utils import tf_ds_to_numpy\n",
    "import argparse\n",
    "import wandb\n",
    "\n",
    "import pennylane as qml\n",
    "import jax.numpy as jnp\n",
    "import jax\n",
    "import optax\n",
    "from jax.nn.initializers import he_uniform\n",
    "from jax import grad, jit, vmap\n",
    "from jax import random\n",
    "import tensorflow_datasets as tfds\n",
    "from tqdm import tqdm\n",
    "import numpy as np\n",
    "import tensorflow as tf\n",
    "import functools\n",
    "\n",
    "# Added to silence some warnings.\n",
    "# from jax.config import config\n",
    "# config.update(\"jax_enable_x64\", True)\n",
    "\n",
    "import matplotlib.pyplot as plt\n",
    "import time"
   ]
  },
  {
   "cell_type": "code",
   "execution_count": 3,
   "id": "53cce28d",
   "metadata": {
    "ExecuteTime": {
     "end_time": "2022-08-18T04:30:25.676568Z",
     "start_time": "2022-08-18T04:30:25.256206Z"
    }
   },
   "outputs": [
    {
     "data": {
      "text/plain": [
       "[TpuDevice(id=0, process_index=0, coords=(0,0,0), core_on_chip=0),\n",
       " TpuDevice(id=1, process_index=0, coords=(0,0,0), core_on_chip=1),\n",
       " TpuDevice(id=2, process_index=0, coords=(1,0,0), core_on_chip=0),\n",
       " TpuDevice(id=3, process_index=0, coords=(1,0,0), core_on_chip=1),\n",
       " TpuDevice(id=4, process_index=0, coords=(0,1,0), core_on_chip=0),\n",
       " TpuDevice(id=5, process_index=0, coords=(0,1,0), core_on_chip=1),\n",
       " TpuDevice(id=6, process_index=0, coords=(1,1,0), core_on_chip=0),\n",
       " TpuDevice(id=7, process_index=0, coords=(1,1,0), core_on_chip=1)]"
      ]
     },
     "execution_count": 3,
     "metadata": {},
     "output_type": "execute_result"
    }
   ],
   "source": [
    "jax.devices()"
   ]
  },
  {
   "cell_type": "code",
   "execution_count": 4,
   "id": "2b4b2d3f",
   "metadata": {},
   "outputs": [
    {
     "data": {
      "text/plain": [
       "8"
      ]
     },
     "execution_count": 4,
     "metadata": {},
     "output_type": "execute_result"
    }
   ],
   "source": [
    "n_devices = jax.local_device_count()\n",
    "n_devices"
   ]
  },
  {
   "cell_type": "code",
   "execution_count": 90,
   "id": "7a7944e9",
   "metadata": {
    "ExecuteTime": {
     "end_time": "2022-08-18T12:29:57.499669Z",
     "start_time": "2022-08-18T12:29:57.409023Z"
    }
   },
   "outputs": [],
   "source": [
    "args = argparse.Namespace()\n",
    "\n",
    "# Data\n",
    "args.center_crop = 0.2\n",
    "# args.resize = [8,8]\n",
    "args.standardize = 1\n",
    "# args.power_transform = 1\n",
    "# args.binary_data = [3,6]\n",
    "# args.percent_samples = 0.01\n",
    "# args.processed = 1\n",
    "args.dataset_type = '3'\n",
    "args.labels_to_categorical = 1\n",
    "args.batch_size = 128\n",
    "args.validation_split = 0.1\n",
    "\n",
    "# Base Model\n",
    "args.wandb = False\n",
    "args.epochs = 10\n",
    "args.learning_rate = 0.001\n",
    "\n",
    "# Quantum CNN Parameters\n",
    "args.n_layers = 1\n",
    "args.n_qubits = 1\n",
    "args.template = 'NQubitPQCSparse'\n",
    "args.initializer = 'he_uniform'\n",
    "\n",
    "args.kernel_size = (3,3)\n",
    "args.strides = (1,1)\n",
    "args.padding = \"SAME\"\n",
    "\n",
    "args.clayer_sizes = [8, 2]"
   ]
  },
  {
   "cell_type": "code",
   "execution_count": 91,
   "id": "d347947e",
   "metadata": {
    "ExecuteTime": {
     "end_time": "2022-08-18T12:30:05.825415Z",
     "start_time": "2022-08-18T12:29:58.360985Z"
    }
   },
   "outputs": [],
   "source": [
    "if args.wandb:\n",
    "     wandb.init(project='qml-hep-lhc', config = vars(args))"
   ]
  },
  {
   "cell_type": "code",
   "execution_count": 92,
   "id": "ce4dec05",
   "metadata": {
    "ExecuteTime": {
     "end_time": "2022-08-18T12:30:09.713880Z",
     "start_time": "2022-08-18T12:30:05.831757Z"
    }
   },
   "outputs": [
    {
     "name": "stderr",
     "output_type": "stream",
     "text": [
      "tcmalloc: large alloc 1638400000 bytes == 0x10779a000 @  0x7f58ea343680 0x7f58ea364824 0x7f58dfa7d064 0x7f58dfa7d7ff 0x7f58dfadbfc5 0x7f58dfa80d08 0x5f73e3 0x57164c 0x569dba 0x5f6eb3 0x56cc1f 0x5f6cd6 0x59e95f 0x5139cc 0x56bf28 0x5f6cd6 0x56bbfa 0x569dba 0x6902a7 0x6023c4 0x5c6730 0x56bacd 0x501488 0x56d4d6 0x501488 0x56d4d6 0x501488 0x505166 0x56bbfa 0x5f6cd6 0x56bacd\n",
      "tcmalloc: large alloc 1638400000 bytes == 0x18ca18000 @  0x7f58ea343680 0x7f58ea364824 0x7f58dfa7d064 0x7f58dfa7d7ff 0x7f58dfadbfc5 0x7f58dfadc126 0x7f58dfb6e7ea 0x7f58dfb6f24b 0x5139cc 0x56bf28 0x569dba 0x5f6eb3 0x56cc1f 0x569dba 0x5f6eb3 0x56bacd 0x569dba 0x5f6eb3 0x56bacd 0x569dba 0x5f6eb3 0x5f6082 0x56d2d5 0x569dba 0x5f6eb3 0x56bacd 0x5f6cd6 0x56bbfa 0x569dba 0x6902a7 0x6023c4\n"
     ]
    },
    {
     "name": "stdout",
     "output_type": "stream",
     "text": [
      "Center cropping...\n",
      "Center cropping...\n",
      "Standardizing data...\n",
      "Converting labels to categorical...\n",
      "Converting labels to categorical...\n",
      "\n",
      "Dataset :Electron Photon 3\n",
      "╒════════╤═══════════════════╤══════════════════╤══════════════════╤═══════════╕\n",
      "│ Data   │ Train size        │ Val size         │ Test size        │ Dims      │\n",
      "╞════════╪═══════════════════╪══════════════════╪══════════════════╪═══════════╡\n",
      "│ X      │ (360000, 8, 8, 1) │ (40000, 8, 8, 1) │ (98000, 8, 8, 1) │ (8, 8, 1) │\n",
      "├────────┼───────────────────┼──────────────────┼──────────────────┼───────────┤\n",
      "│ y      │ (360000, 2)       │ (40000, 2)       │ (98000, 2)       │ (2,)      │\n",
      "╘════════╧═══════════════════╧══════════════════╧══════════════════╧═══════════╛\n",
      "\n",
      "╒══════════════╤═══════╤════════╤════════╤═══════╤══════════════════════════╕\n",
      "│ Type         │   Min │    Max │   Mean │   Std │ Samples for each class   │\n",
      "╞══════════════╪═══════╪════════╪════════╪═══════╪══════════════════════════╡\n",
      "│ Train Images │ -2.88 │ 107.37 │     -0 │  1    │ [180000, 180000]         │\n",
      "├──────────────┼───────┼────────┼────────┼───────┼──────────────────────────┤\n",
      "│ Val Images   │ -2.88 │  55.96 │      0 │  1.03 │ [20000, 20000]           │\n",
      "├──────────────┼───────┼────────┼────────┼───────┼──────────────────────────┤\n",
      "│ Test Images  │ -2.88 │  70.56 │     -0 │  0.98 │ [49000, 49000]           │\n",
      "╘══════════════╧═══════╧════════╧════════╧═══════╧══════════════════════════╛\n",
      "\n",
      "\n"
     ]
    }
   ],
   "source": [
    "data = ElectronPhoton(args)\n",
    "data.prepare_data()\n",
    "data.setup()\n",
    "print(data)"
   ]
  },
  {
   "cell_type": "code",
   "execution_count": 93,
   "id": "02aabbd5",
   "metadata": {},
   "outputs": [],
   "source": [
    "input_dims = data.config()['input_dims']"
   ]
  },
  {
   "cell_type": "code",
   "execution_count": 94,
   "id": "b540e612",
   "metadata": {},
   "outputs": [],
   "source": [
    "x_train, y_train = tf_ds_to_numpy(data.train_ds)\n",
    "del data.train_ds\n",
    "x_val, y_val = tf_ds_to_numpy(data.val_ds)\n",
    "del data.val_ds\n",
    "x_test, y_test = tf_ds_to_numpy(data.test_ds)\n",
    "del data.test_ds\n",
    "del data"
   ]
  },
  {
   "cell_type": "code",
   "execution_count": 95,
   "id": "f57c488b",
   "metadata": {},
   "outputs": [],
   "source": [
    "# make samples multiple of n_devices\n",
    "size = x_train.shape[0]\n",
    "size = (size//n_devices)*n_devices\n",
    "x_train = x_train[:size]\n",
    "y_train = y_train[:size]\n",
    "\n",
    "size = x_val.shape[0]\n",
    "size = (size//n_devices)*n_devices\n",
    "x_val = x_val[:size]\n",
    "y_val = y_val[:size]\n",
    "\n",
    "size = x_test.shape[0]\n",
    "size = (size//n_devices)*n_devices\n",
    "x_test = x_test[:size]\n",
    "y_test = y_test[:size]"
   ]
  },
  {
   "cell_type": "code",
   "execution_count": 96,
   "id": "f99a22cc",
   "metadata": {},
   "outputs": [
    {
     "name": "stdout",
     "output_type": "stream",
     "text": [
      "(360000, 8, 8, 1) (360000, 2)\n",
      "(40000, 8, 8, 1) (40000, 2)\n",
      "(98000, 8, 8, 1) (98000, 2)\n"
     ]
    }
   ],
   "source": [
    "print(x_train.shape,y_train.shape)\n",
    "print(x_val.shape,y_val.shape)\n",
    "print(x_test.shape,y_test.shape)"
   ]
  },
  {
   "cell_type": "code",
   "execution_count": 97,
   "id": "dbfb0518",
   "metadata": {},
   "outputs": [],
   "source": [
    "def split(arr):\n",
    "    \"\"\"Splits the first axis of `arr` evenly across the number of devices.\"\"\"\n",
    "    return arr.reshape(n_devices, arr.shape[0] // n_devices, *arr.shape[1:])"
   ]
  },
  {
   "cell_type": "code",
   "execution_count": 98,
   "id": "6fab62df",
   "metadata": {},
   "outputs": [],
   "source": [
    "# Reshape xs and ys for the pmapped `update()`.\n",
    "x_train = split(x_train)\n",
    "y_train = split(y_train)\n",
    "\n",
    "x_val = split(x_val)\n",
    "y_val = split(y_val)\n",
    "\n",
    "x_test = split(x_test)\n",
    "y_test = split(y_test)"
   ]
  },
  {
   "cell_type": "code",
   "execution_count": 99,
   "id": "18048f08",
   "metadata": {},
   "outputs": [
    {
     "name": "stdout",
     "output_type": "stream",
     "text": [
      "(8, 45000, 8, 8, 1) (8, 45000, 2)\n",
      "(8, 5000, 8, 8, 1) (8, 5000, 2)\n",
      "(8, 12250, 8, 8, 1) (8, 12250, 2)\n"
     ]
    }
   ],
   "source": [
    "print(x_train.shape,y_train.shape)\n",
    "print(x_val.shape,y_val.shape)\n",
    "print(x_test.shape,y_test.shape)"
   ]
  },
  {
   "cell_type": "markdown",
   "id": "74329b45",
   "metadata": {},
   "source": [
    "## Hyperparameters"
   ]
  },
  {
   "cell_type": "code",
   "execution_count": 118,
   "id": "485ef1fa",
   "metadata": {
    "ExecuteTime": {
     "end_time": "2022-08-18T12:30:12.534253Z",
     "start_time": "2022-08-18T12:30:12.416828Z"
    }
   },
   "outputs": [],
   "source": [
    "def get_out_shape(in_shape, k, s, padding):\n",
    "    in_shape = (1,) + in_shape\n",
    "    a = np.random.uniform(size = (in_shape))\n",
    "    dn = jax.lax.conv_dimension_numbers(a.shape, (1,1,k[0],k[1]), ('NHWC', 'IOHW', 'NHWC'))\n",
    "    out = jax.lax.conv_general_dilated_patches(lhs = a,\n",
    "                                           filter_shape= k,\n",
    "                                           window_strides=s,\n",
    "                                           padding=padding,\n",
    "                                           dimension_numbers=dn \n",
    "                                    )\n",
    "    return out.shape"
   ]
  },
  {
   "cell_type": "code",
   "execution_count": 119,
   "id": "b17ff04e",
   "metadata": {
    "ExecuteTime": {
     "end_time": "2022-08-18T12:30:13.114968Z",
     "start_time": "2022-08-18T12:30:13.018676Z"
    }
   },
   "outputs": [],
   "source": [
    "initializer = he_uniform()\n",
    "\n",
    "# Get qlayer sizes\n",
    "def get_qlayer_sizes(template, n_l, n_q, k_size):\n",
    "    if template == 'NQubitPQCSparse':\n",
    "        return {\n",
    "            'w': (n_l, n_q,3,np.prod(k_size)),\n",
    "            'b': (n_l,n_q,3,1)\n",
    "        }\n",
    "    elif template == 'SimpleDRC':\n",
    "        return {\n",
    "            'w': (n_l+1,n_q,3),\n",
    "            's': (n_l,n_q),\n",
    "            'b': (n_l,n_q)\n",
    "        }\n",
    "    elif template == 'NQubitPQC':\n",
    "        assert np.prod(k_size)%3 == 0\n",
    "        return {\n",
    "            'w': (n_l,n_q,np.prod(k_size)),\n",
    "            'b': (n_l,n_q,np.prod(k_size))\n",
    "        }\n",
    "\n",
    "def random_qlayer_params(size, key, scale=1e-1):\n",
    "    return initializer(key, size)\n",
    "    return scale * random.normal(key, size)\n",
    "\n",
    "def init_qnetwork_params(sizes, key):\n",
    "    keys = random.split(key, len(sizes))\n",
    "    return [[random_qlayer_params(size, key) for size, key in zip(sizes.values(), keys)]]\n",
    " \n",
    "\n",
    "# A helper function to randomly initialize weights and biases\n",
    "# for a dense neural network layer\n",
    "def random_clayer_params(m, n, key, scale=1e-1):\n",
    "    w_key, b_key = random.split(key)\n",
    "    return initializer(w_key, (n,m)), random.normal(b_key, (n,))\n",
    "    return scale * random.normal(w_key, (n, m)), scale * random.normal(b_key, (n,))\n",
    "\n",
    "# Initialize all layers for a fully-connected neural network with sizes \"sizes\"\n",
    "def init_network_params(sizes, key):\n",
    "    keys = random.split(key, len(sizes))\n",
    "    return [random_clayer_params(m, n, k) for m, n, k in zip(sizes[:-1], sizes[1:], keys)]\n",
    "\n",
    "kernel_size = args.kernel_size\n",
    "strides = args.strides\n",
    "padding = args.padding\n",
    "clayer_sizes = args.clayer_sizes\n",
    "\n",
    "template = args.template\n",
    "n_layers = args.n_layers\n",
    "n_qubits = args.n_qubits\n",
    "\n",
    "\n",
    "conv_out_shape = get_out_shape(input_dims, kernel_size, strides, padding)\n",
    "num_pixels = np.prod(conv_out_shape[:-1])*1\n",
    "qlayer_sizes = get_qlayer_sizes(template, n_layers, n_qubits, kernel_size)\n",
    "clayer_sizes = [num_pixels] + clayer_sizes\n",
    "\n",
    "params = []\n",
    "params += init_qnetwork_params(qlayer_sizes, random.PRNGKey(0))\n",
    "# params += init_qnetwork_params(qlayer_sizes, random.PRNGKey(1))\n",
    "params += init_network_params(clayer_sizes, random.PRNGKey(2))"
   ]
  },
  {
   "cell_type": "code",
   "execution_count": 120,
   "id": "7cd7a59c",
   "metadata": {},
   "outputs": [],
   "source": [
    "# Replicate params across devices\n",
    "replicated_params = jax.tree_map(lambda x: jnp.array([x] * n_devices), params)"
   ]
  },
  {
   "cell_type": "code",
   "execution_count": 121,
   "id": "5b368d89",
   "metadata": {
    "ExecuteTime": {
     "end_time": "2022-08-18T12:30:14.573933Z",
     "start_time": "2022-08-18T12:30:14.497315Z"
    }
   },
   "outputs": [
    {
     "name": "stdout",
     "output_type": "stream",
     "text": [
      "(1, 1, 3, 9) (1, 1, 3, 1) \n",
      "(8, 64) (8,) \n",
      "(2, 8) (2,) \n"
     ]
    }
   ],
   "source": [
    "for i in params:\n",
    "    for j in i:\n",
    "        print(j.shape, end = ' ')\n",
    "    print()"
   ]
  },
  {
   "cell_type": "code",
   "execution_count": 122,
   "id": "67c6c828",
   "metadata": {},
   "outputs": [
    {
     "name": "stdout",
     "output_type": "stream",
     "text": [
      "(8, 1, 1, 3, 9) (8, 1, 1, 3, 1) \n",
      "(8, 8, 64) (8, 8) \n",
      "(8, 2, 8) (8, 2) \n"
     ]
    }
   ],
   "source": [
    "for i in replicated_params:\n",
    "    for j in i:\n",
    "        print(j.shape, end = ' ')\n",
    "    print()"
   ]
  },
  {
   "cell_type": "markdown",
   "id": "0cc04079",
   "metadata": {},
   "source": [
    "## QLayers"
   ]
  },
  {
   "cell_type": "code",
   "execution_count": 123,
   "id": "b5a64b72",
   "metadata": {
    "ExecuteTime": {
     "end_time": "2022-08-18T12:30:16.695492Z",
     "start_time": "2022-08-18T12:30:16.591237Z"
    }
   },
   "outputs": [],
   "source": [
    "dev = qml.device('default.qubit.jax', wires=n_qubits)\n",
    "qubits =list(range(n_qubits))\n",
    "\n",
    "@jax.jit\n",
    "@qml.qnode(dev, interface='jax')\n",
    "def NQubitPQCSparse(inputs, w, b):\n",
    "    z = jnp.dot(w, jnp.transpose(inputs))+ b\n",
    "\n",
    "    for q in qubits:\n",
    "        qml.Hadamard(wires=q)\n",
    "    \n",
    "    for l in range(n_layers):\n",
    "        for q in qubits:\n",
    "            qml.Rot(z[l,q,0], z[l,q,1], z[l,q,2], wires= q)\n",
    "        if (l & 1):\n",
    "            for q0, q1 in zip(qubits[1::2], qubits[2::2] + [qubits[0]]):\n",
    "                qml.CZ((q0,q1))\n",
    "        else:\n",
    "            for q0, q1 in zip(qubits[0::2], qubits[1::2]):\n",
    "                qml.CZ((q0,q1))\n",
    "   \n",
    "    return qml.expval(qml.PauliZ(qubits[-1]))\n",
    "    return [qml.expval(qml.PauliZ(q)) for q in qubits]"
   ]
  },
  {
   "cell_type": "code",
   "execution_count": 124,
   "id": "caaf2386",
   "metadata": {
    "ExecuteTime": {
     "end_time": "2022-08-18T12:30:18.863013Z",
     "start_time": "2022-08-18T12:30:18.775760Z"
    }
   },
   "outputs": [],
   "source": [
    "dev = qml.device('default.qubit.jax', wires=n_qubits)\n",
    "qubits =list(range(n_qubits))\n",
    "\n",
    "@jax.jit\n",
    "@qml.qnode(dev, interface='jax')\n",
    "def NQubitPQC(inputs, w, b):\n",
    "    steps = inputs.shape[-1]//3\n",
    "    for q in qubits:\n",
    "        qml.Hadamard(wires=q)\n",
    "    \n",
    "    for l in range(n_layers):\n",
    "        for q in qubits:\n",
    "            for i in range(steps):\n",
    "                z = jnp.transpose(jnp.multiply(inputs[:,3*i:3*i+3],w[l,q,3*i:3*i+3]) + b[l,q,3*i:3*i+3])\n",
    "                qml.RX(z[0], wires=q)\n",
    "                qml.RY(z[1], wires=q)\n",
    "                qml.RZ(z[2], wires=q)\n",
    "                \n",
    "        if (l & 1):\n",
    "            for q0, q1 in zip(qubits[1::2], qubits[2::2] + [qubits[0]]):\n",
    "                qml.CZ((q0,q1))\n",
    "        else:\n",
    "            for q0, q1 in zip(qubits[0::2], qubits[1::2]):\n",
    "                qml.CZ((q0,q1))\n",
    "\n",
    "    return qml.expval(qml.PauliZ(qubits[-1]))\n",
    "    return [qml.expval(qml.PauliZ(q)) for q in qubits]"
   ]
  },
  {
   "cell_type": "code",
   "execution_count": 125,
   "id": "6b9b34b0",
   "metadata": {
    "ExecuteTime": {
     "end_time": "2022-08-18T12:30:19.590263Z",
     "start_time": "2022-08-18T12:30:19.497583Z"
    }
   },
   "outputs": [],
   "source": [
    "dev = qml.device('default.qubit.jax', wires=n_qubits)\n",
    "qubits =list(range(n_qubits))\n",
    "\n",
    "@jax.jit\n",
    "@qml.qnode(dev, interface='jax')\n",
    "def SimpleDRC(inputs, w, s, b):\n",
    "    for l in range(n_layers):\n",
    "        x = jnp.transpose(jnp.multiply(s[l],inputs) + b[l]) \n",
    "        for q in qubits:\n",
    "            qml.Rot(*w[l,q], wires = q)\n",
    "        for q0, q1 in zip(qubits, qubits[1:]):\n",
    "            qml.CZ((q0, q1))\n",
    "        if len(qubits) != 2:\n",
    "            qml.CZ((qubits[0], qubits[-1]))\n",
    "        for q in qubits:\n",
    "            qml.RX(x[q], wires=q)\n",
    "    for q in qubits:\n",
    "            qml.Rot(*w[n_layers,q], wires = q)\n",
    "   \n",
    "    return [qml.expval(qml.PauliZ(q)) for q in qubits]"
   ]
  },
  {
   "cell_type": "code",
   "execution_count": 126,
   "id": "4b084fed",
   "metadata": {
    "ExecuteTime": {
     "end_time": "2022-08-18T12:30:19.987223Z",
     "start_time": "2022-08-18T12:30:19.883915Z"
    }
   },
   "outputs": [],
   "source": [
    "def get_node(template):\n",
    "    if template == 'NQubitPQC':\n",
    "        return NQubitPQC\n",
    "    elif template == 'SimpleDRC':\n",
    "        return SimpleDRC\n",
    "    elif template == 'NQubitPQCSparse':\n",
    "        return NQubitPQCSparse"
   ]
  },
  {
   "cell_type": "code",
   "execution_count": 127,
   "id": "94ff6d15",
   "metadata": {
    "ExecuteTime": {
     "end_time": "2022-08-18T12:30:20.477017Z",
     "start_time": "2022-08-18T12:30:20.389789Z"
    }
   },
   "outputs": [],
   "source": [
    "def qconv(x, *qweights):\n",
    "    \n",
    "    x = jnp.expand_dims(x,axis=0)\n",
    "    dn = jax.lax.conv_dimension_numbers(x.shape, \n",
    "                                        (1,1,kernel_size[0],kernel_size[1]), \n",
    "                                        ('NHWC', 'IOHW', 'NHWC'))\n",
    "    x = jax.lax.conv_general_dilated_patches(lhs = x,\n",
    "                                               filter_shape= kernel_size,\n",
    "                                               window_strides=strides,\n",
    "                                               padding=padding,\n",
    "                                               dimension_numbers=dn \n",
    "                                              )\n",
    "    iters = x.shape[1:3]\n",
    "    x = jnp.reshape(x, (-1, np.prod(kernel_size)))\n",
    "    \n",
    "    x = get_node(template)(x, *qweights)\n",
    "    x = jnp.reshape(x, iters + (1,))\n",
    "    return x"
   ]
  },
  {
   "cell_type": "code",
   "execution_count": 128,
   "id": "d0ff8700",
   "metadata": {
    "ExecuteTime": {
     "end_time": "2022-08-18T12:30:21.103675Z",
     "start_time": "2022-08-18T12:30:20.941594Z"
    }
   },
   "outputs": [
    {
     "name": "stdout",
     "output_type": "stream",
     "text": [
      "0: ──H──Rot─┤  <Z>\n"
     ]
    }
   ],
   "source": [
    "dev = qml.device(\"default.qubit\", wires=n_qubits)\n",
    "qnode = qml.QNode(get_node(template), dev)\n",
    "\n",
    "inputs = np.random.uniform(size = (10,np.prod(kernel_size)))\n",
    "weights = params[0]\n",
    "drawer = qml.draw(qnode, expansion_strategy=\"device\")\n",
    "print(drawer(inputs,*weights))"
   ]
  },
  {
   "cell_type": "markdown",
   "id": "0eb80645",
   "metadata": {},
   "source": [
    "## Auto-Batching Predictions"
   ]
  },
  {
   "cell_type": "code",
   "execution_count": 129,
   "id": "93945a8f",
   "metadata": {
    "ExecuteTime": {
     "end_time": "2022-08-18T12:30:21.942507Z",
     "start_time": "2022-08-18T12:30:21.849352Z"
    }
   },
   "outputs": [],
   "source": [
    "from jax.scipy.special import logsumexp\n",
    "\n",
    "def relu(x):\n",
    "    return jnp.maximum(0, x)\n",
    "\n",
    "def forward(params, image):\n",
    "  # per-example predictions\n",
    "    activations = qconv(image, *params[0])\n",
    "    activations += image\n",
    "    res2 = activations.copy()\n",
    "    activations = relu(activations)\n",
    "    activations = jnp.reshape(activations, (-1))\n",
    "    for w, b in params[1:-1]:\n",
    "        outputs = jnp.dot(w, activations) + b\n",
    "        activations = relu(outputs)\n",
    "    final_w, final_b = params[-1]\n",
    "    logits = jnp.dot(final_w, activations) + final_b\n",
    "    return logits - logsumexp(logits)"
   ]
  },
  {
   "cell_type": "code",
   "execution_count": 130,
   "id": "fbdb84a8",
   "metadata": {
    "ExecuteTime": {
     "end_time": "2022-08-18T12:30:25.272029Z",
     "start_time": "2022-08-18T12:30:22.473112Z"
    },
    "scrolled": true
   },
   "outputs": [
    {
     "name": "stdout",
     "output_type": "stream",
     "text": [
      "[   0.      -162.26166]\n"
     ]
    }
   ],
   "source": [
    "# This works on single examples\n",
    "random_flattened_image = random.normal(random.PRNGKey(1), input_dims)\n",
    "random_flattened_image = jnp.floor(random_flattened_image*10)\n",
    "preds = forward(params,  random_flattened_image)\n",
    "print(preds)"
   ]
  },
  {
   "cell_type": "code",
   "execution_count": 131,
   "id": "931e2120",
   "metadata": {
    "ExecuteTime": {
     "end_time": "2022-08-18T12:30:25.363372Z",
     "start_time": "2022-08-18T12:30:25.277464Z"
    }
   },
   "outputs": [],
   "source": [
    "# Doesn't work with a batch\n",
    "random_flattened_images = random.normal(random.PRNGKey(1), (2,)+ input_dims)\n",
    "random_flattened_images = jnp.floor(random_flattened_images*10)\n",
    "# try:\n",
    "#     preds = predict(params, random_flattened_images)\n",
    "# except TypeError:\n",
    "#     print('Invalid shapes!')"
   ]
  },
  {
   "cell_type": "code",
   "execution_count": 132,
   "id": "9fa9ea5f",
   "metadata": {
    "ExecuteTime": {
     "end_time": "2022-08-18T12:30:28.950189Z",
     "start_time": "2022-08-18T12:30:25.366517Z"
    }
   },
   "outputs": [
    {
     "name": "stdout",
     "output_type": "stream",
     "text": [
      "[[   0.       -167.37828 ]\n",
      " [   0.        -33.438576]]\n"
     ]
    }
   ],
   "source": [
    "# Let's upgrade it to handle batches using `vmap`\n",
    "\n",
    "# Make a batched version of the `predict` function\n",
    "batched_forward = vmap(forward, in_axes=(None,0))\n",
    "\n",
    "# `batched_predict` has the same call signature as `predict`\n",
    "batched_preds = batched_forward(params, random_flattened_images)\n",
    "print(batched_preds)"
   ]
  },
  {
   "cell_type": "markdown",
   "id": "d696d399",
   "metadata": {},
   "source": [
    "## Utility and loss functions"
   ]
  },
  {
   "cell_type": "code",
   "execution_count": 133,
   "id": "fc48796a",
   "metadata": {
    "ExecuteTime": {
     "end_time": "2022-08-18T12:30:29.057547Z",
     "start_time": "2022-08-18T12:30:28.957309Z"
    }
   },
   "outputs": [],
   "source": [
    "def acc(y_true, y_pred):\n",
    "    target_class = jnp.argmax(y_true, axis=1)\n",
    "    predicted_class = jnp.argmax(y_pred, axis=1)\n",
    "    return jnp.mean(predicted_class == target_class)\n",
    " \n",
    "\n",
    "def loss_fn(params, images, targets):\n",
    "    preds = batched_forward(params, images)\n",
    "    loss_value = -jnp.mean(preds * targets)\n",
    "    return loss_value, preds\n",
    "\n",
    "@jit\n",
    "def update(params, x, y):\n",
    "    (loss_value, preds), grads = jax.value_and_grad(loss_fn, has_aux=True)(params, x, y)\n",
    "    return grads\n",
    "    \n",
    "\n",
    "@functools.partial(jax.pmap, axis_name='num_devices')\n",
    "def train_epoch(params, x, y):\n",
    "    train_ds_size = x.shape[0]\n",
    "    steps_per_epoch = train_ds_size // args.batch_size\n",
    "\n",
    "    perms = jax.random.permutation(jax.random.PRNGKey(0), train_ds_size)\n",
    "    perms = perms[:steps_per_epoch * args.batch_size]  # skip incomplete batch\n",
    "    perms = perms.reshape((steps_per_epoch, args.batch_size))\n",
    "    \n",
    "    with tqdm(perms, unit=\"batch\") as tepoch:\n",
    "        for perm in tepoch:\n",
    "            tepoch.set_description(f\"Epoch\")\n",
    "            \n",
    "            grads = update(params, x[perm, ...], y[perm, ...])\n",
    "\n",
    "            # Combine the gradient across all devices (by taking their mean).\n",
    "            grads = jax.lax.pmean(grads, axis_name='num_devices')\n",
    "\n",
    "            # Each device performs its own update, but since we start with the same params\n",
    "            # and synchronise gradients, the params stay in sync.\n",
    "            params = jax.tree_map(lambda param, g: param - g * args.learning_rate, params, grads)\n",
    "\n",
    "    return params\n",
    "\n",
    "\n",
    "def step(params,x,y):\n",
    "    loss_value, preds = loss_fn(params, x, y)\n",
    "    a = acc(y, preds)\n",
    "    return loss_value, a\n",
    "\n",
    "@functools.partial(jax.pmap, axis_name='nd')\n",
    "def evaluate(params, x,y):\n",
    "    loss_value, a = step(params,x,y)\n",
    "    avg_loss = jax.lax.pmean(loss_value, axis_name = 'nd')\n",
    "    avg_acc = jax.lax.pmean(a, axis_name = 'nd')\n",
    "    return avg_loss, avg_acc\n",
    "\n",
    "@functools.partial(jax.pmap, axis_name='nd')\n",
    "def predict(params, x):\n",
    "    preds = batched_forward(params, x)\n",
    "    avg_preds = jax.lax.pmean(preds, axis_name = 'nd')\n",
    "    return avg_preds"
   ]
  },
  {
   "cell_type": "markdown",
   "id": "63afa04b",
   "metadata": {},
   "source": [
    "## Training loop"
   ]
  },
  {
   "cell_type": "code",
   "execution_count": 134,
   "id": "01c9e9c5",
   "metadata": {
    "ExecuteTime": {
     "end_time": "2022-08-18T12:30:29.181675Z",
     "start_time": "2022-08-18T12:30:29.065879Z"
    }
   },
   "outputs": [],
   "source": [
    "schedule_fn = optax.linear_schedule(transition_steps=150,\n",
    "                                    init_value=0.2,\n",
    "                                    end_value=1e-7,\n",
    "                                    )\n",
    "# Defining an optimizer in Jax\n",
    "# optimizer = optax.adam(learning_rate=schedule_fn)\n",
    "optimizer = optax.adam(learning_rate=args.learning_rate)\n",
    "opt_state = optimizer.init(replicated_params)"
   ]
  },
  {
   "cell_type": "code",
   "execution_count": null,
   "id": "7021946b",
   "metadata": {},
   "outputs": [
    {
     "name": "stderr",
     "output_type": "stream",
     "text": [
      "Epoch: 100%|████████████████████████████████████████████████████████████████████| 351/351 [01:03<00:00,  5.53batch/s]\n"
     ]
    }
   ],
   "source": [
    "# Run for the first time to move data and params from CPU to TPU\n",
    "\n",
    "start_time = time.time()\n",
    "replicated_params = train_epoch(replicated_params, x_train, y_train) \n",
    "\n",
    "epoch_time = time.time() - start_time\n",
    "print(epoch_time)"
   ]
  },
  {
   "cell_type": "code",
   "execution_count": 89,
   "id": "fb4f365f",
   "metadata": {
    "ExecuteTime": {
     "end_time": "2022-08-18T12:31:13.791757Z",
     "start_time": "2022-08-18T12:30:32.206391Z"
    },
    "scrolled": true
   },
   "outputs": [
    {
     "name": "stdout",
     "output_type": "stream",
     "text": [
      "0.002457141876220703\n",
      "0.0023679733276367188\n",
      "0.001874685287475586\n",
      "0.0016205310821533203\n",
      "0.0016393661499023438\n",
      "0.0014712810516357422\n",
      "0.0015168190002441406\n",
      "0.0015435218811035156\n",
      "0.0014514923095703125\n",
      "0.0017185211181640625\n"
     ]
    }
   ],
   "source": [
    "import time\n",
    "\n",
    "for epoch in range(args.epochs):\n",
    "    start_time = time.time()\n",
    "    replicated_params = train_epoch(replicated_params, x_train, y_train)\n",
    "    \n",
    "    epoch_time = time.time() - start_time\n",
    "    print(epoch_time)\n",
    "\n",
    "#     train_loss, train_acc = evaluate(replicated_params, x_train, y_train)\n",
    "#     val_loss, val_acc = evaluate(replicated_params, x_val, y_val)\n",
    "#     print('epoch: {} - loss: {} - acc: {} - val_loss: {} - val_acc: {} - time: {}\\n'.format(epoch, train_loss[0],\n",
    "#                                                                               train_acc[0],\n",
    "#                                                                               val_loss[0], \n",
    "#                                                                               val_acc[0],\n",
    "#                                                                               epoch_time))\n",
    "    \n",
    "    if args.wandb:\n",
    "        wandb.log({\"accuracy\": train_acc[0], \n",
    "                   \"val_accuracy\": val_acc[0], \n",
    "                   'loss':train_loss[0], \n",
    "                   'val_loss':val_loss[0]})\n"
   ]
  },
  {
   "cell_type": "code",
   "execution_count": 39,
   "id": "cfafc1ab",
   "metadata": {
    "ExecuteTime": {
     "end_time": "2022-08-18T12:31:18.234069Z",
     "start_time": "2022-08-18T12:31:13.797326Z"
    },
    "scrolled": true
   },
   "outputs": [
    {
     "data": {
      "text/plain": [
       "(DeviceArray(1.6530111, dtype=float32), DeviceArray(0.51600003, dtype=float32))"
      ]
     },
     "execution_count": 39,
     "metadata": {},
     "output_type": "execute_result"
    }
   ],
   "source": [
    "test_loss, test_acc = evaluate(replicated_params, x_test, y_test)\n",
    "test_loss[0], test_acc[0]"
   ]
  },
  {
   "cell_type": "code",
   "execution_count": 50,
   "id": "d928e853",
   "metadata": {},
   "outputs": [
    {
     "data": {
      "text/plain": [
       "0.48265600000000003"
      ]
     },
     "execution_count": 50,
     "metadata": {},
     "output_type": "execute_result"
    }
   ],
   "source": [
    "from sklearn.metrics import roc_auc_score\n",
    "\n",
    "preds = predict(replicated_params, x_test)\n",
    "roc_auc_score(y_test.reshape(-1,2), preds.reshape(-1,2))"
   ]
  },
  {
   "cell_type": "code",
   "execution_count": 768,
   "id": "cd6ffd07",
   "metadata": {
    "ExecuteTime": {
     "end_time": "2022-08-18T12:31:47.449894Z",
     "start_time": "2022-08-18T12:31:45.674085Z"
    }
   },
   "outputs": [],
   "source": [
    "if args.wandb:\n",
    "    x, y = tf_ds_to_numpy(data.test_ds)\n",
    "    y = y.argmax(axis=1)\n",
    "    out = batched_forward(params,x)\n",
    "    preds = out.argmax(axis=1)\n",
    "    probs = out\n",
    "    classes = data.mapping\n",
    "\n",
    "    roc_curve = wandb.sklearn.plot_roc(y, probs, classes)\n",
    "    confusion_matrix = wandb.sklearn.plot_confusion_matrix(y, preds, classes)\n",
    "\n",
    "    wandb.log({\"roc_curve\": roc_curve})\n",
    "    wandb.log({\"confusion_matrix\": confusion_matrix})"
   ]
  },
  {
   "cell_type": "code",
   "execution_count": 769,
   "id": "d256c76d",
   "metadata": {
    "ExecuteTime": {
     "end_time": "2022-08-18T12:32:01.828384Z",
     "start_time": "2022-08-18T12:31:48.539691Z"
    }
   },
   "outputs": [
    {
     "data": {
      "text/html": [
       "Waiting for W&B process to finish... <strong style=\"color:green\">(success).</strong>"
      ],
      "text/plain": [
       "<IPython.core.display.HTML object>"
      ]
     },
     "metadata": {},
     "output_type": "display_data"
    },
    {
     "data": {
      "application/vnd.jupyter.widget-view+json": {
       "model_id": "",
       "version_major": 2,
       "version_minor": 0
      },
      "text/plain": [
       "VBox(children=(Label(value='0.008 MB of 0.008 MB uploaded (0.000 MB deduped)\\r'), FloatProgress(value=0.987772…"
      ]
     },
     "metadata": {},
     "output_type": "display_data"
    },
    {
     "data": {
      "text/html": [
       "<style>\n",
       "    table.wandb td:nth-child(1) { padding: 0 10px; text-align: left ; width: auto;} td:nth-child(2) {text-align: left ; width: 100%}\n",
       "    .wandb-row { display: flex; flex-direction: row; flex-wrap: wrap; justify-content: flex-start; width: 100% }\n",
       "    .wandb-col { display: flex; flex-direction: column; flex-basis: 100%; flex: 1; padding: 10px; }\n",
       "    </style>\n",
       "<div class=\"wandb-row\"><div class=\"wandb-col\"><h3>Run history:</h3><br/><table class=\"wandb\"><tr><td>accuracy</td><td>▁▅▇██</td></tr><tr><td>auc</td><td>▁▃▅▇█</td></tr><tr><td>loss</td><td>█▄▂▁▁</td></tr><tr><td>val_accuracy</td><td>▁▄▇██</td></tr><tr><td>val_auc</td><td>▁▄▆▇█</td></tr><tr><td>val_loss</td><td>█▄▂▁▁</td></tr></table><br/></div><div class=\"wandb-col\"><h3>Run summary:</h3><br/><table class=\"wandb\"><tr><td>accuracy</td><td>0.99568</td></tr><tr><td>auc</td><td>0.98522</td></tr><tr><td>loss</td><td>0.00646</td></tr><tr><td>val_accuracy</td><td>0.98561</td></tr><tr><td>val_auc</td><td>0.98622</td></tr><tr><td>val_loss</td><td>0.03375</td></tr></table><br/></div></div>"
      ],
      "text/plain": [
       "<IPython.core.display.HTML object>"
      ]
     },
     "metadata": {},
     "output_type": "display_data"
    },
    {
     "data": {
      "text/html": [
       "Synced <strong style=\"color:#cdcd00\">ruby-terrain-254</strong>: <a href=\"https://wandb.ai/gopald/qml-hep-lhc/runs/1c25sr0t\" target=\"_blank\">https://wandb.ai/gopald/qml-hep-lhc/runs/1c25sr0t</a><br/>Synced 5 W&B file(s), 3 media file(s), 3 artifact file(s) and 0 other file(s)"
      ],
      "text/plain": [
       "<IPython.core.display.HTML object>"
      ]
     },
     "metadata": {},
     "output_type": "display_data"
    },
    {
     "data": {
      "text/html": [
       "Find logs at: <code>./wandb/run-20220818_175958-1c25sr0t/logs</code>"
      ],
      "text/plain": [
       "<IPython.core.display.HTML object>"
      ]
     },
     "metadata": {},
     "output_type": "display_data"
    }
   ],
   "source": [
    "if args.wandb:\n",
    "    wandb.finish()"
   ]
  },
  {
   "cell_type": "code",
   "execution_count": null,
   "id": "0e98b225",
   "metadata": {
    "ExecuteTime": {
     "end_time": "2022-08-18T05:06:41.426383Z",
     "start_time": "2022-08-18T05:06:41.265770Z"
    }
   },
   "outputs": [],
   "source": [
    "for i in range(200):\n",
    "    print(i, schedule_fn(i))"
   ]
  },
  {
   "cell_type": "code",
   "execution_count": null,
   "id": "3570ff73",
   "metadata": {},
   "outputs": [],
   "source": []
  }
 ],
 "metadata": {
  "kernelspec": {
   "display_name": "Python 3 (ipykernel)",
   "language": "python",
   "name": "python3"
  },
  "language_info": {
   "codemirror_mode": {
    "name": "ipython",
    "version": 3
   },
   "file_extension": ".py",
   "mimetype": "text/x-python",
   "name": "python",
   "nbconvert_exporter": "python",
   "pygments_lexer": "ipython3",
   "version": "3.8.10"
  },
  "latex_envs": {
   "LaTeX_envs_menu_present": true,
   "autoclose": false,
   "autocomplete": true,
   "bibliofile": "biblio.bib",
   "cite_by": "apalike",
   "current_citInitial": 1,
   "eqLabelWithNumbers": true,
   "eqNumInitial": 1,
   "hotkeys": {
    "equation": "Ctrl-E",
    "itemize": "Ctrl-I"
   },
   "labels_anchors": false,
   "latex_user_defs": false,
   "report_style_numbering": false,
   "user_envs_cfg": false
  },
  "toc": {
   "base_numbering": 1,
   "nav_menu": {},
   "number_sections": true,
   "sideBar": true,
   "skip_h1_title": false,
   "title_cell": "Table of Contents",
   "title_sidebar": "Contents",
   "toc_cell": false,
   "toc_position": {},
   "toc_section_display": true,
   "toc_window_display": false
  }
 },
 "nbformat": 4,
 "nbformat_minor": 5
}
