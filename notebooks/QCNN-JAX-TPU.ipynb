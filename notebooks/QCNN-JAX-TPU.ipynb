{
 "cells": [
  {
   "cell_type": "code",
   "execution_count": 1,
   "id": "d28a72a2",
   "metadata": {
    "ExecuteTime": {
     "end_time": "2022-08-18T04:29:14.807543Z",
     "start_time": "2022-08-18T04:29:10.402969Z"
    }
   },
   "outputs": [],
   "source": [
    "%load_ext autoreload\n",
    "%autoreload 2\n",
    "\n",
    "%matplotlib inline\n",
    "\n",
    "from importlib.util import find_spec\n",
    "if find_spec(\"qml_hep_lhc\") is None:\n",
    "    import sys\n",
    "    sys.path.append('..')"
   ]
  },
  {
   "cell_type": "code",
   "execution_count": 2,
   "id": "7a7a9c90",
   "metadata": {
    "ExecuteTime": {
     "end_time": "2022-08-18T08:09:08.619045Z",
     "start_time": "2022-08-18T08:09:08.535530Z"
    }
   },
   "outputs": [],
   "source": [
    "from qml_hep_lhc.data import ElectronPhoton, MNIST, QuarkGluon\n",
    "from qml_hep_lhc.data.utils import tf_ds_to_numpy\n",
    "import argparse\n",
    "import wandb\n",
    "\n",
    "import pennylane as qml\n",
    "import jax.numpy as jnp\n",
    "import jax\n",
    "import optax\n",
    "from jax.nn.initializers import he_uniform\n",
    "from jax import grad, jit, vmap\n",
    "from jax import random\n",
    "import tensorflow_datasets as tfds\n",
    "from tqdm import tqdm\n",
    "import numpy as np\n",
    "import tensorflow as tf\n",
    "import functools\n",
    "\n",
    "# Added to silence some warnings.\n",
    "# from jax.config import config\n",
    "# config.update(\"jax_enable_x64\", True)\n",
    "\n",
    "import matplotlib.pyplot as plt\n",
    "import time"
   ]
  },
  {
   "cell_type": "code",
   "execution_count": 3,
   "id": "53cce28d",
   "metadata": {
    "ExecuteTime": {
     "end_time": "2022-08-18T04:30:25.676568Z",
     "start_time": "2022-08-18T04:30:25.256206Z"
    }
   },
   "outputs": [
    {
     "data": {
      "text/plain": [
       "[TpuDevice(id=0, process_index=0, coords=(0,0,0), core_on_chip=0),\n",
       " TpuDevice(id=1, process_index=0, coords=(0,0,0), core_on_chip=1),\n",
       " TpuDevice(id=2, process_index=0, coords=(1,0,0), core_on_chip=0),\n",
       " TpuDevice(id=3, process_index=0, coords=(1,0,0), core_on_chip=1),\n",
       " TpuDevice(id=4, process_index=0, coords=(0,1,0), core_on_chip=0),\n",
       " TpuDevice(id=5, process_index=0, coords=(0,1,0), core_on_chip=1),\n",
       " TpuDevice(id=6, process_index=0, coords=(1,1,0), core_on_chip=0),\n",
       " TpuDevice(id=7, process_index=0, coords=(1,1,0), core_on_chip=1)]"
      ]
     },
     "execution_count": 3,
     "metadata": {},
     "output_type": "execute_result"
    }
   ],
   "source": [
    "jax.devices()"
   ]
  },
  {
   "cell_type": "code",
   "execution_count": 4,
   "id": "2b4b2d3f",
   "metadata": {},
   "outputs": [
    {
     "data": {
      "text/plain": [
       "8"
      ]
     },
     "execution_count": 4,
     "metadata": {},
     "output_type": "execute_result"
    }
   ],
   "source": [
    "n_devices = jax.local_device_count()\n",
    "n_devices"
   ]
  },
  {
   "cell_type": "code",
   "execution_count": 94,
   "id": "7a7944e9",
   "metadata": {
    "ExecuteTime": {
     "end_time": "2022-08-18T12:29:57.499669Z",
     "start_time": "2022-08-18T12:29:57.409023Z"
    }
   },
   "outputs": [],
   "source": [
    "args = argparse.Namespace()\n",
    "\n",
    "# Data\n",
    "args.center_crop = 0.2\n",
    "# args.resize = [8,8]\n",
    "args.standardize = 1\n",
    "# args.power_transform = 1\n",
    "# args.binary_data = [3,6]\n",
    "# args.percent_samples = 0.01\n",
    "# args.processed = 1\n",
    "args.dataset_type = '1'\n",
    "args.labels_to_categorical = 1\n",
    "args.batch_size = 128\n",
    "args.validation_split = 0.1\n",
    "\n",
    "# Base Model\n",
    "args.wandb = False\n",
    "args.epochs = 10\n",
    "args.learning_rate = 0.008\n",
    "\n",
    "# Quantum CNN Parameters\n",
    "args.n_layers = 1\n",
    "args.n_qubits = 1\n",
    "args.template = 'NQubitPQCSparse'\n",
    "args.initializer = 'he_uniform'\n",
    "\n",
    "args.kernel_size = (3,3)\n",
    "args.strides = (1,1)\n",
    "args.padding = \"SAME\"\n",
    "\n",
    "args.clayer_sizes = [8, 2]"
   ]
  },
  {
   "cell_type": "code",
   "execution_count": 6,
   "id": "d347947e",
   "metadata": {
    "ExecuteTime": {
     "end_time": "2022-08-18T12:30:05.825415Z",
     "start_time": "2022-08-18T12:29:58.360985Z"
    }
   },
   "outputs": [],
   "source": [
    "if args.wandb:\n",
    "     wandb.init(project='qml-hep-lhc', config = vars(args))"
   ]
  },
  {
   "cell_type": "code",
   "execution_count": 7,
   "id": "ce4dec05",
   "metadata": {
    "ExecuteTime": {
     "end_time": "2022-08-18T12:30:09.713880Z",
     "start_time": "2022-08-18T12:30:05.831757Z"
    }
   },
   "outputs": [
    {
     "name": "stdout",
     "output_type": "stream",
     "text": [
      "Center cropping...\n",
      "Center cropping...\n",
      "Standardizing data...\n",
      "Converting labels to categorical...\n",
      "Converting labels to categorical...\n",
      "\n",
      "Dataset :Electron Photon 1\n",
      "╒════════╤═════════════════╤════════════════╤═════════════════╤═══════════╕\n",
      "│ Data   │ Train size      │ Val size       │ Test size       │ Dims      │\n",
      "╞════════╪═════════════════╪════════════════╪═════════════════╪═══════════╡\n",
      "│ X      │ (8100, 8, 8, 1) │ (900, 8, 8, 1) │ (1000, 8, 8, 1) │ (8, 8, 1) │\n",
      "├────────┼─────────────────┼────────────────┼─────────────────┼───────────┤\n",
      "│ y      │ (8100, 2)       │ (900, 2)       │ (1000, 2)       │ (2,)      │\n",
      "╘════════╧═════════════════╧════════════════╧═════════════════╧═══════════╛\n",
      "\n",
      "╒══════════════╤═══════╤═══════╤════════╤═══════╤══════════════════════════╕\n",
      "│ Type         │   Min │   Max │   Mean │   Std │ Samples for each class   │\n",
      "╞══════════════╪═══════╪═══════╪════════╪═══════╪══════════════════════════╡\n",
      "│ Train Images │ -2.88 │ 43.39 │  -0    │  0.98 │ [4050, 4050]             │\n",
      "├──────────────┼───────┼───────┼────────┼───────┼──────────────────────────┤\n",
      "│ Val Images   │ -2.88 │ 59.59 │   0.01 │  1.14 │ [450, 450]               │\n",
      "├──────────────┼───────┼───────┼────────┼───────┼──────────────────────────┤\n",
      "│ Test Images  │ -2.88 │ 33.47 │  -0.01 │  0.84 │ [500, 500]               │\n",
      "╘══════════════╧═══════╧═══════╧════════╧═══════╧══════════════════════════╛\n",
      "\n",
      "\n"
     ]
    }
   ],
   "source": [
    "data = ElectronPhoton(args)\n",
    "data.prepare_data()\n",
    "data.setup()\n",
    "print(data)"
   ]
  },
  {
   "cell_type": "code",
   "execution_count": 8,
   "id": "a4820a7d",
   "metadata": {},
   "outputs": [],
   "source": [
    "input_dims = data.config()['input_dims']"
   ]
  },
  {
   "cell_type": "code",
   "execution_count": 9,
   "id": "e912b882",
   "metadata": {},
   "outputs": [],
   "source": [
    "x_train, y_train = tf_ds_to_numpy(data.train_ds)\n",
    "x_val, y_val = tf_ds_to_numpy(data.val_ds)\n",
    "x_test, y_test = tf_ds_to_numpy(data.val_ds)\n",
    "del data"
   ]
  },
  {
   "cell_type": "code",
   "execution_count": 10,
   "id": "f57c488b",
   "metadata": {},
   "outputs": [],
   "source": [
    "# make samples multiple of n_devices\n",
    "size = x_train.shape[0]\n",
    "size = (size//n_devices)*n_devices\n",
    "x_train = x_train[:size]\n",
    "y_train = y_train[:size]\n",
    "\n",
    "size = x_val.shape[0]\n",
    "size = (size//n_devices)*n_devices\n",
    "x_val = x_val[:size]\n",
    "y_val = y_val[:size]\n",
    "\n",
    "size = x_test.shape[0]\n",
    "size = (size//n_devices)*n_devices\n",
    "x_test = x_test[:size]\n",
    "y_test = y_test[:size]"
   ]
  },
  {
   "cell_type": "code",
   "execution_count": 11,
   "id": "f99a22cc",
   "metadata": {},
   "outputs": [
    {
     "name": "stdout",
     "output_type": "stream",
     "text": [
      "(8096, 8, 8, 1) (8096, 2)\n",
      "(896, 8, 8, 1) (896, 2)\n",
      "(896, 8, 8, 1) (896, 2)\n"
     ]
    }
   ],
   "source": [
    "print(x_train.shape,y_train.shape)\n",
    "print(x_val.shape,y_val.shape)\n",
    "print(x_test.shape,y_test.shape)"
   ]
  },
  {
   "cell_type": "code",
   "execution_count": 12,
   "id": "dbfb0518",
   "metadata": {},
   "outputs": [],
   "source": [
    "def split(arr):\n",
    "    \"\"\"Splits the first axis of `arr` evenly across the number of devices.\"\"\"\n",
    "    return arr.reshape(n_devices, arr.shape[0] // n_devices, *arr.shape[1:])"
   ]
  },
  {
   "cell_type": "code",
   "execution_count": 13,
   "id": "6fab62df",
   "metadata": {},
   "outputs": [],
   "source": [
    "# Reshape xs and ys for the pmapped `update()`.\n",
    "x_train_split = split(x_train)\n",
    "y_train_split = split(y_train)\n",
    "\n",
    "x_val_split = split(x_val)\n",
    "y_val_split = split(y_val)\n",
    "\n",
    "x_test_split = split(x_test)\n",
    "y_test_split = split(y_test)"
   ]
  },
  {
   "cell_type": "code",
   "execution_count": 14,
   "id": "18048f08",
   "metadata": {},
   "outputs": [
    {
     "name": "stdout",
     "output_type": "stream",
     "text": [
      "(8, 1012, 8, 8, 1) (8, 1012, 2)\n",
      "(8, 112, 8, 8, 1) (8, 112, 2)\n",
      "(8, 112, 8, 8, 1) (8, 112, 2)\n"
     ]
    }
   ],
   "source": [
    "print(x_train_split.shape,y_train_split.shape)\n",
    "print(x_val_split.shape,y_val_split.shape)\n",
    "print(x_test_split.shape,y_test_split.shape)"
   ]
  },
  {
   "cell_type": "markdown",
   "id": "74329b45",
   "metadata": {},
   "source": [
    "## Hyperparameters"
   ]
  },
  {
   "cell_type": "code",
   "execution_count": 15,
   "id": "485ef1fa",
   "metadata": {
    "ExecuteTime": {
     "end_time": "2022-08-18T12:30:12.534253Z",
     "start_time": "2022-08-18T12:30:12.416828Z"
    }
   },
   "outputs": [],
   "source": [
    "def get_out_shape(in_shape, k, s, padding):\n",
    "    in_shape = (1,) + in_shape\n",
    "    a = np.random.uniform(size = (in_shape))\n",
    "    dn = jax.lax.conv_dimension_numbers(a.shape, (1,1,k[0],k[1]), ('NHWC', 'IOHW', 'NHWC'))\n",
    "    out = jax.lax.conv_general_dilated_patches(lhs = a,\n",
    "                                           filter_shape= k,\n",
    "                                           window_strides=s,\n",
    "                                           padding=padding,\n",
    "                                           dimension_numbers=dn \n",
    "                                    )\n",
    "    return out.shape"
   ]
  },
  {
   "cell_type": "code",
   "execution_count": 16,
   "id": "b17ff04e",
   "metadata": {
    "ExecuteTime": {
     "end_time": "2022-08-18T12:30:13.114968Z",
     "start_time": "2022-08-18T12:30:13.018676Z"
    }
   },
   "outputs": [
    {
     "name": "stderr",
     "output_type": "stream",
     "text": [
      "/home/dahalegopal27/qenv/lib/python3.8/site-packages/jax/_src/lax/other.py:97: UserWarning: Explicitly requested dtype float64 requested in eye is not available, and will be truncated to dtype float32. To enable more dtypes, set the jax_enable_x64 configuration option or the JAX_ENABLE_X64 shell environment variable. See https://github.com/google/jax#current-gotchas for more.\n",
      "  rhs = jnp.eye(spatial_size, dtype=lhs.dtype).reshape(filter_shape * 2)\n"
     ]
    }
   ],
   "source": [
    "initializer = he_uniform()\n",
    "\n",
    "# Get qlayer sizes\n",
    "def get_qlayer_sizes(template, n_l, n_q, k_size):\n",
    "    if template == 'NQubitPQCSparse':\n",
    "        return {\n",
    "            'w': (n_l, n_q,3,np.prod(k_size)),\n",
    "            'b': (n_l,n_q,3,1)\n",
    "        }\n",
    "    elif template == 'SimpleDRC':\n",
    "        return {\n",
    "            'w': (n_l+1,n_q,3),\n",
    "            's': (n_l,n_q),\n",
    "            'b': (n_l,n_q)\n",
    "        }\n",
    "    elif template == 'NQubitPQC':\n",
    "        assert np.prod(k_size)%3 == 0\n",
    "        return {\n",
    "            'w': (n_l,n_q,np.prod(k_size)),\n",
    "            'b': (n_l,n_q,np.prod(k_size))\n",
    "        }\n",
    "\n",
    "def random_qlayer_params(size, key, scale=1e-1):\n",
    "    return initializer(key, size)\n",
    "    return scale * random.normal(key, size)\n",
    "\n",
    "def init_qnetwork_params(sizes, key):\n",
    "    keys = random.split(key, len(sizes))\n",
    "    return [[random_qlayer_params(size, key) for size, key in zip(sizes.values(), keys)]]\n",
    " \n",
    "\n",
    "# A helper function to randomly initialize weights and biases\n",
    "# for a dense neural network layer\n",
    "def random_clayer_params(m, n, key, scale=1e-1):\n",
    "    w_key, b_key = random.split(key)\n",
    "    return initializer(w_key, (n,m)), random.normal(b_key, (n,))\n",
    "    return scale * random.normal(w_key, (n, m)), scale * random.normal(b_key, (n,))\n",
    "\n",
    "# Initialize all layers for a fully-connected neural network with sizes \"sizes\"\n",
    "def init_network_params(sizes, key):\n",
    "    keys = random.split(key, len(sizes))\n",
    "    return [random_clayer_params(m, n, k) for m, n, k in zip(sizes[:-1], sizes[1:], keys)]\n",
    "\n",
    "kernel_size = args.kernel_size\n",
    "strides = args.strides\n",
    "padding = args.padding\n",
    "clayer_sizes = args.clayer_sizes\n",
    "\n",
    "template = args.template\n",
    "n_layers = args.n_layers\n",
    "n_qubits = args.n_qubits\n",
    "\n",
    "\n",
    "conv_out_shape = get_out_shape(input_dims, kernel_size, strides, padding)\n",
    "num_pixels = np.prod(conv_out_shape[:-1])*1\n",
    "qlayer_sizes = get_qlayer_sizes(template, n_layers, n_qubits, kernel_size)\n",
    "clayer_sizes = [num_pixels] + clayer_sizes\n",
    "\n",
    "params = []\n",
    "params += init_qnetwork_params(qlayer_sizes, random.PRNGKey(0))\n",
    "# params += init_qnetwork_params(qlayer_sizes, random.PRNGKey(1))\n",
    "params += init_network_params(clayer_sizes, random.PRNGKey(2))"
   ]
  },
  {
   "cell_type": "code",
   "execution_count": 17,
   "id": "7cd7a59c",
   "metadata": {},
   "outputs": [],
   "source": [
    "# Replicate params across devices\n",
    "replicated_params = jax.tree_map(lambda x: jnp.array([x] * n_devices), params)"
   ]
  },
  {
   "cell_type": "code",
   "execution_count": 18,
   "id": "5b368d89",
   "metadata": {
    "ExecuteTime": {
     "end_time": "2022-08-18T12:30:14.573933Z",
     "start_time": "2022-08-18T12:30:14.497315Z"
    }
   },
   "outputs": [
    {
     "name": "stdout",
     "output_type": "stream",
     "text": [
      "(1, 1, 3, 9) (1, 1, 3, 1) \n",
      "(8, 64) (8,) \n",
      "(2, 8) (2,) \n"
     ]
    }
   ],
   "source": [
    "for i in params:\n",
    "    for j in i:\n",
    "        print(j.shape, end = ' ')\n",
    "    print()"
   ]
  },
  {
   "cell_type": "code",
   "execution_count": 19,
   "id": "67c6c828",
   "metadata": {},
   "outputs": [
    {
     "name": "stdout",
     "output_type": "stream",
     "text": [
      "(8, 1, 1, 3, 9) (8, 1, 1, 3, 1) \n",
      "(8, 8, 64) (8, 8) \n",
      "(8, 2, 8) (8, 2) \n"
     ]
    }
   ],
   "source": [
    "for i in replicated_params:\n",
    "    for j in i:\n",
    "        print(j.shape, end = ' ')\n",
    "    print()"
   ]
  },
  {
   "cell_type": "markdown",
   "id": "0cc04079",
   "metadata": {},
   "source": [
    "## QLayers"
   ]
  },
  {
   "cell_type": "code",
   "execution_count": 20,
   "id": "b5a64b72",
   "metadata": {
    "ExecuteTime": {
     "end_time": "2022-08-18T12:30:16.695492Z",
     "start_time": "2022-08-18T12:30:16.591237Z"
    }
   },
   "outputs": [],
   "source": [
    "dev = qml.device('default.qubit.jax', wires=n_qubits)\n",
    "qubits =list(range(n_qubits))\n",
    "\n",
    "@jax.jit\n",
    "@qml.qnode(dev, interface='jax')\n",
    "def NQubitPQCSparse(inputs, w, b):\n",
    "    z = jnp.dot(w, jnp.transpose(inputs))+ b\n",
    "\n",
    "    for q in qubits:\n",
    "        qml.Hadamard(wires=q)\n",
    "    \n",
    "    for l in range(n_layers):\n",
    "        for q in qubits:\n",
    "            qml.Rot(z[l,q,0], z[l,q,1], z[l,q,2], wires= q)\n",
    "        if (l & 1):\n",
    "            for q0, q1 in zip(qubits[1::2], qubits[2::2] + [qubits[0]]):\n",
    "                qml.CZ((q0,q1))\n",
    "        else:\n",
    "            for q0, q1 in zip(qubits[0::2], qubits[1::2]):\n",
    "                qml.CZ((q0,q1))\n",
    "   \n",
    "    return qml.expval(qml.PauliZ(qubits[-1]))\n",
    "    return [qml.expval(qml.PauliZ(q)) for q in qubits]"
   ]
  },
  {
   "cell_type": "code",
   "execution_count": 21,
   "id": "caaf2386",
   "metadata": {
    "ExecuteTime": {
     "end_time": "2022-08-18T12:30:18.863013Z",
     "start_time": "2022-08-18T12:30:18.775760Z"
    }
   },
   "outputs": [],
   "source": [
    "dev = qml.device('default.qubit.jax', wires=n_qubits)\n",
    "qubits =list(range(n_qubits))\n",
    "\n",
    "@jax.jit\n",
    "@qml.qnode(dev, interface='jax')\n",
    "def NQubitPQC(inputs, w, b):\n",
    "    steps = inputs.shape[-1]//3\n",
    "    for q in qubits:\n",
    "        qml.Hadamard(wires=q)\n",
    "    \n",
    "    for l in range(n_layers):\n",
    "        for q in qubits:\n",
    "            for i in range(steps):\n",
    "                z = jnp.transpose(jnp.multiply(inputs[:,3*i:3*i+3],w[l,q,3*i:3*i+3]) + b[l,q,3*i:3*i+3])\n",
    "                qml.RX(z[0], wires=q)\n",
    "                qml.RY(z[1], wires=q)\n",
    "                qml.RZ(z[2], wires=q)\n",
    "                \n",
    "        if (l & 1):\n",
    "            for q0, q1 in zip(qubits[1::2], qubits[2::2] + [qubits[0]]):\n",
    "                qml.CZ((q0,q1))\n",
    "        else:\n",
    "            for q0, q1 in zip(qubits[0::2], qubits[1::2]):\n",
    "                qml.CZ((q0,q1))\n",
    "\n",
    "    return qml.expval(qml.PauliZ(qubits[-1]))\n",
    "    return [qml.expval(qml.PauliZ(q)) for q in qubits]"
   ]
  },
  {
   "cell_type": "code",
   "execution_count": 22,
   "id": "6b9b34b0",
   "metadata": {
    "ExecuteTime": {
     "end_time": "2022-08-18T12:30:19.590263Z",
     "start_time": "2022-08-18T12:30:19.497583Z"
    }
   },
   "outputs": [],
   "source": [
    "dev = qml.device('default.qubit.jax', wires=n_qubits)\n",
    "qubits =list(range(n_qubits))\n",
    "\n",
    "@jax.jit\n",
    "@qml.qnode(dev, interface='jax')\n",
    "def SimpleDRC(inputs, w, s, b):\n",
    "    for l in range(n_layers):\n",
    "        x = jnp.transpose(jnp.multiply(s[l],inputs) + b[l]) \n",
    "        for q in qubits:\n",
    "            qml.Rot(*w[l,q], wires = q)\n",
    "        for q0, q1 in zip(qubits, qubits[1:]):\n",
    "            qml.CZ((q0, q1))\n",
    "        if len(qubits) != 2:\n",
    "            qml.CZ((qubits[0], qubits[-1]))\n",
    "        for q in qubits:\n",
    "            qml.RX(x[q], wires=q)\n",
    "    for q in qubits:\n",
    "            qml.Rot(*w[n_layers,q], wires = q)\n",
    "   \n",
    "    return [qml.expval(qml.PauliZ(q)) for q in qubits]"
   ]
  },
  {
   "cell_type": "code",
   "execution_count": 23,
   "id": "4b084fed",
   "metadata": {
    "ExecuteTime": {
     "end_time": "2022-08-18T12:30:19.987223Z",
     "start_time": "2022-08-18T12:30:19.883915Z"
    }
   },
   "outputs": [],
   "source": [
    "def get_node(template):\n",
    "    if template == 'NQubitPQC':\n",
    "        return NQubitPQC\n",
    "    elif template == 'SimpleDRC':\n",
    "        return SimpleDRC\n",
    "    elif template == 'NQubitPQCSparse':\n",
    "        return NQubitPQCSparse"
   ]
  },
  {
   "cell_type": "code",
   "execution_count": 24,
   "id": "94ff6d15",
   "metadata": {
    "ExecuteTime": {
     "end_time": "2022-08-18T12:30:20.477017Z",
     "start_time": "2022-08-18T12:30:20.389789Z"
    }
   },
   "outputs": [],
   "source": [
    "def qconv(x, *qweights):\n",
    "    \n",
    "    x = jnp.expand_dims(x,axis=0)\n",
    "    dn = jax.lax.conv_dimension_numbers(x.shape, \n",
    "                                        (1,1,kernel_size[0],kernel_size[1]), \n",
    "                                        ('NHWC', 'IOHW', 'NHWC'))\n",
    "    x = jax.lax.conv_general_dilated_patches(lhs = x,\n",
    "                                               filter_shape= kernel_size,\n",
    "                                               window_strides=strides,\n",
    "                                               padding=padding,\n",
    "                                               dimension_numbers=dn \n",
    "                                              )\n",
    "    iters = x.shape[1:3]\n",
    "    x = jnp.reshape(x, (-1, np.prod(kernel_size)))\n",
    "    \n",
    "    x = get_node(template)(x, *qweights)\n",
    "    x = jnp.reshape(x, iters + (1,))\n",
    "    return x"
   ]
  },
  {
   "cell_type": "code",
   "execution_count": 25,
   "id": "d0ff8700",
   "metadata": {
    "ExecuteTime": {
     "end_time": "2022-08-18T12:30:21.103675Z",
     "start_time": "2022-08-18T12:30:20.941594Z"
    }
   },
   "outputs": [
    {
     "name": "stdout",
     "output_type": "stream",
     "text": [
      "0: ──H──Rot─┤  <Z>\n"
     ]
    }
   ],
   "source": [
    "dev = qml.device(\"default.qubit\", wires=n_qubits)\n",
    "qnode = qml.QNode(get_node(template), dev)\n",
    "\n",
    "inputs = np.random.uniform(size = (10,np.prod(kernel_size)))\n",
    "weights = params[0]\n",
    "drawer = qml.draw(qnode, expansion_strategy=\"device\")\n",
    "print(drawer(inputs,*weights))"
   ]
  },
  {
   "cell_type": "markdown",
   "id": "0eb80645",
   "metadata": {},
   "source": [
    "## Auto-Batching Predictions"
   ]
  },
  {
   "cell_type": "code",
   "execution_count": 26,
   "id": "93945a8f",
   "metadata": {
    "ExecuteTime": {
     "end_time": "2022-08-18T12:30:21.942507Z",
     "start_time": "2022-08-18T12:30:21.849352Z"
    }
   },
   "outputs": [],
   "source": [
    "from jax.scipy.special import logsumexp\n",
    "\n",
    "def relu(x):\n",
    "    return jnp.maximum(0, x)\n",
    "\n",
    "def forward(params, image):\n",
    "  # per-example predictions\n",
    "    activations = qconv(image, *params[0])\n",
    "    activations += image\n",
    "    res2 = activations.copy()\n",
    "    activations = relu(activations)\n",
    "    activations = jnp.reshape(activations, (-1))\n",
    "    for w, b in params[1:-1]:\n",
    "        outputs = jnp.dot(w, activations) + b\n",
    "        activations = relu(outputs)\n",
    "    final_w, final_b = params[-1]\n",
    "    logits = jnp.dot(final_w, activations) + final_b\n",
    "    return logits - logsumexp(logits)"
   ]
  },
  {
   "cell_type": "code",
   "execution_count": 27,
   "id": "fbdb84a8",
   "metadata": {
    "ExecuteTime": {
     "end_time": "2022-08-18T12:30:25.272029Z",
     "start_time": "2022-08-18T12:30:22.473112Z"
    },
    "scrolled": true
   },
   "outputs": [
    {
     "name": "stdout",
     "output_type": "stream",
     "text": [
      "[   0.     -154.1885]\n"
     ]
    }
   ],
   "source": [
    "# This works on single examples\n",
    "random_flattened_image = random.normal(random.PRNGKey(1), input_dims)\n",
    "random_flattened_image = jnp.floor(random_flattened_image*10)\n",
    "preds = forward(params,  random_flattened_image)\n",
    "print(preds)"
   ]
  },
  {
   "cell_type": "code",
   "execution_count": 28,
   "id": "931e2120",
   "metadata": {
    "ExecuteTime": {
     "end_time": "2022-08-18T12:30:25.363372Z",
     "start_time": "2022-08-18T12:30:25.277464Z"
    }
   },
   "outputs": [],
   "source": [
    "# Doesn't work with a batch\n",
    "random_flattened_images = random.normal(random.PRNGKey(1), (2,)+ input_dims)\n",
    "random_flattened_images = jnp.floor(random_flattened_images*10)\n",
    "# try:\n",
    "#     preds = predict(params, random_flattened_images)\n",
    "# except TypeError:\n",
    "#     print('Invalid shapes!')"
   ]
  },
  {
   "cell_type": "code",
   "execution_count": 29,
   "id": "9fa9ea5f",
   "metadata": {
    "ExecuteTime": {
     "end_time": "2022-08-18T12:30:28.950189Z",
     "start_time": "2022-08-18T12:30:25.366517Z"
    }
   },
   "outputs": [
    {
     "name": "stdout",
     "output_type": "stream",
     "text": [
      "[[   0.       -163.02367 ]\n",
      " [   0.        -45.519386]]\n"
     ]
    }
   ],
   "source": [
    "# Let's upgrade it to handle batches using `vmap`\n",
    "\n",
    "# Make a batched version of the `predict` function\n",
    "batched_forward = vmap(forward, in_axes=(None,0))\n",
    "\n",
    "# `batched_predict` has the same call signature as `predict`\n",
    "batched_preds = batched_forward(params, random_flattened_images)\n",
    "print(batched_preds)"
   ]
  },
  {
   "cell_type": "markdown",
   "id": "d696d399",
   "metadata": {},
   "source": [
    "## Utility and loss functions"
   ]
  },
  {
   "cell_type": "code",
   "execution_count": 111,
   "id": "fc48796a",
   "metadata": {
    "ExecuteTime": {
     "end_time": "2022-08-18T12:30:29.057547Z",
     "start_time": "2022-08-18T12:30:28.957309Z"
    }
   },
   "outputs": [],
   "source": [
    "auc = tf.keras.metrics.AUC()\n",
    "\n",
    "def acc(y_true, y_pred):\n",
    "    target_class = jnp.argmax(y_true, axis=1)\n",
    "    predicted_class = jnp.argmax(y_pred, axis=1)\n",
    "    return jnp.mean(predicted_class == target_class)\n",
    " \n",
    "\n",
    "def loss_fn(params, images, targets):\n",
    "    preds = batched_forward(params, images)\n",
    "    loss_value = -jnp.mean(preds * targets)\n",
    "    return loss_value, preds\n",
    "\n",
    "@jit\n",
    "def update(params, x, y):\n",
    "    (loss_value, preds), grads = jax.value_and_grad(loss_fn, has_aux=True)(params, x, y)\n",
    "    return grads\n",
    "    \n",
    "\n",
    "@functools.partial(jax.pmap, axis_name='num_devices')\n",
    "def train_epoch(params, x, y):\n",
    "    train_ds_size = x.shape[0]\n",
    "    steps_per_epoch = train_ds_size // args.batch_size\n",
    "\n",
    "    perms = jax.random.permutation(jax.random.PRNGKey(0), train_ds_size)\n",
    "    perms = perms[:steps_per_epoch * args.batch_size]  # skip incomplete batch\n",
    "    perms = perms.reshape((steps_per_epoch, args.batch_size))\n",
    "\n",
    "    for perm in perms:\n",
    "        batch_images = x[perm, ...]\n",
    "        batch_labels = y[perm, ...]\n",
    "        grads = update(params, batch_images, batch_labels)\n",
    "        \n",
    "        # Combine the gradient across all devices (by taking their mean).\n",
    "        grads = jax.lax.pmean(grads, axis_name='num_devices')\n",
    "\n",
    "        # Each device performs its own update, but since we start with the same params\n",
    "        # and synchronise gradients, the params stay in sync.\n",
    "        params = jax.tree_map(lambda param, g: param - g * args.learning_rate, params, grads)\n",
    "\n",
    "    return params\n",
    "\n",
    "\n",
    "def step(params,x,y):\n",
    "    loss_value, preds = loss_fn(params, x, y)\n",
    "    a = acc(y, preds)\n",
    "    return loss_value, a\n",
    "\n",
    "@functools.partial(jax.pmap, axis_name='nd')\n",
    "def evaluate(params, x,y):\n",
    "    loss_value, a = step(params,x,y)\n",
    "    avg_loss = jax.lax.pmean(loss_value, axis_name = 'nd')\n",
    "    avg_acc = jax.lax.pmean(a, axis_name = 'nd')\n",
    "    return avg_loss, avg_acc"
   ]
  },
  {
   "cell_type": "markdown",
   "id": "63afa04b",
   "metadata": {},
   "source": [
    "## Training loop"
   ]
  },
  {
   "cell_type": "code",
   "execution_count": 112,
   "id": "01c9e9c5",
   "metadata": {
    "ExecuteTime": {
     "end_time": "2022-08-18T12:30:29.181675Z",
     "start_time": "2022-08-18T12:30:29.065879Z"
    }
   },
   "outputs": [],
   "source": [
    "schedule_fn = optax.linear_schedule(transition_steps=150,\n",
    "                                    init_value=0.2,\n",
    "                                    end_value=1e-7,\n",
    "                                    )\n",
    "# Defining an optimizer in Jax\n",
    "# optimizer = optax.adam(learning_rate=schedule_fn)\n",
    "optimizer = optax.adam(learning_rate=args.learning_rate)\n",
    "opt_state = optimizer.init(replicated_params)"
   ]
  },
  {
   "cell_type": "code",
   "execution_count": 113,
   "id": "fb4f365f",
   "metadata": {
    "ExecuteTime": {
     "end_time": "2022-08-18T12:31:13.791757Z",
     "start_time": "2022-08-18T12:30:32.206391Z"
    },
    "scrolled": true
   },
   "outputs": [
    {
     "name": "stdout",
     "output_type": "stream",
     "text": [
      "epoch: 0 - loss: 1.026045799255371 - acc: 0.5281621217727661 - val_loss: 1.0353219509124756 - val_acc: 0.5223214626312256 - time: 26.27303194999695\n",
      "\n",
      "epoch: 1 - loss: 0.9971594214439392 - acc: 0.5274209976196289 - val_loss: 1.005469799041748 - val_acc: 0.5189732313156128 - time: 0.002466440200805664\n",
      "\n",
      "epoch: 2 - loss: 0.962954044342041 - acc: 0.5293972492218018 - val_loss: 0.9682097434997559 - val_acc: 0.5178571939468384 - time: 0.0014810562133789062\n",
      "\n",
      "epoch: 3 - loss: 0.9388502240180969 - acc: 0.5277915000915527 - val_loss: 0.941805362701416 - val_acc: 0.5178571939468384 - time: 0.0014755725860595703\n",
      "\n",
      "epoch: 4 - loss: 0.914470374584198 - acc: 0.5281620621681213 - val_loss: 0.9157799482345581 - val_acc: 0.5189732313156128 - time: 0.001399993896484375\n",
      "\n",
      "epoch: 5 - loss: 0.8957167863845825 - acc: 0.5290266871452332 - val_loss: 0.895794689655304 - val_acc: 0.5167410969734192 - time: 0.0014042854309082031\n",
      "\n",
      "epoch: 6 - loss: 0.8753881454467773 - acc: 0.5287796258926392 - val_loss: 0.8730186223983765 - val_acc: 0.5133928656578064 - time: 0.0013592243194580078\n",
      "\n",
      "epoch: 7 - loss: 0.8562406301498413 - acc: 0.5295207500457764 - val_loss: 0.8542634844779968 - val_acc: 0.5133928656578064 - time: 0.0018393993377685547\n",
      "\n",
      "epoch: 8 - loss: 0.8393039703369141 - acc: 0.5297678112983704 - val_loss: 0.8356436491012573 - val_acc: 0.5133929252624512 - time: 0.001371145248413086\n",
      "\n",
      "epoch: 9 - loss: 0.8261172771453857 - acc: 0.5303853750228882 - val_loss: 0.8218613862991333 - val_acc: 0.5133929252624512 - time: 0.0013644695281982422\n",
      "\n"
     ]
    }
   ],
   "source": [
    "import time\n",
    "\n",
    "for epoch in range(10):\n",
    "    start_time = time.time()\n",
    "    replicated_params = train_epoch(replicated_params, x_train_split, y_train_split)\n",
    "    \n",
    "    epoch_time = time.time() - start_time\n",
    "\n",
    "    train_loss, train_acc = evaluate(replicated_params, x_train_split, y_train_split)\n",
    "    val_loss, val_acc = evaluate(replicated_params, x_val_split, y_val_split)\n",
    "    print('epoch: {} - loss: {} - acc: {} - val_loss: {} - val_acc: {} - time: {}\\n'.format(epoch, train_loss[0],\n",
    "                                                                              train_acc[0],\n",
    "                                                                              val_loss[0], \n",
    "                                                                              val_acc[0],\n",
    "                                                                              epoch_time))\n",
    "    \n",
    "    if args.wandb:\n",
    "        wandb.log({\"accuracy\": train_acc, \n",
    "                   \"val_accuracy\": val_acc, \n",
    "                   'loss':train_loss, \n",
    "                   'val_loss':val_loss})\n"
   ]
  },
  {
   "cell_type": "code",
   "execution_count": 24,
   "id": "cfafc1ab",
   "metadata": {
    "ExecuteTime": {
     "end_time": "2022-08-18T12:31:18.234069Z",
     "start_time": "2022-08-18T12:31:13.797326Z"
    },
    "scrolled": true
   },
   "outputs": [
    {
     "data": {
      "text/plain": [
       "(DeviceArray(0.34598082, dtype=float32),\n",
       " DeviceArray(0.5691106, dtype=float32),\n",
       " DeviceArray(0.5751912, dtype=float32))"
      ]
     },
     "execution_count": 24,
     "metadata": {},
     "output_type": "execute_result"
    }
   ],
   "source": [
    "evaluate(params, data.test_ds)"
   ]
  },
  {
   "cell_type": "code",
   "execution_count": 768,
   "id": "cd6ffd07",
   "metadata": {
    "ExecuteTime": {
     "end_time": "2022-08-18T12:31:47.449894Z",
     "start_time": "2022-08-18T12:31:45.674085Z"
    }
   },
   "outputs": [],
   "source": [
    "if args.wandb:\n",
    "    x, y = tf_ds_to_numpy(data.test_ds)\n",
    "    y = y.argmax(axis=1)\n",
    "    out = batched_forward(params,x)\n",
    "    preds = out.argmax(axis=1)\n",
    "    probs = out\n",
    "    classes = data.mapping\n",
    "\n",
    "    roc_curve = wandb.sklearn.plot_roc(y, probs, classes)\n",
    "    confusion_matrix = wandb.sklearn.plot_confusion_matrix(y, preds, classes)\n",
    "\n",
    "    wandb.log({\"roc_curve\": roc_curve})\n",
    "    wandb.log({\"confusion_matrix\": confusion_matrix})"
   ]
  },
  {
   "cell_type": "code",
   "execution_count": 769,
   "id": "d256c76d",
   "metadata": {
    "ExecuteTime": {
     "end_time": "2022-08-18T12:32:01.828384Z",
     "start_time": "2022-08-18T12:31:48.539691Z"
    }
   },
   "outputs": [
    {
     "data": {
      "text/html": [
       "Waiting for W&B process to finish... <strong style=\"color:green\">(success).</strong>"
      ],
      "text/plain": [
       "<IPython.core.display.HTML object>"
      ]
     },
     "metadata": {},
     "output_type": "display_data"
    },
    {
     "data": {
      "application/vnd.jupyter.widget-view+json": {
       "model_id": "",
       "version_major": 2,
       "version_minor": 0
      },
      "text/plain": [
       "VBox(children=(Label(value='0.008 MB of 0.008 MB uploaded (0.000 MB deduped)\\r'), FloatProgress(value=0.987772…"
      ]
     },
     "metadata": {},
     "output_type": "display_data"
    },
    {
     "data": {
      "text/html": [
       "<style>\n",
       "    table.wandb td:nth-child(1) { padding: 0 10px; text-align: left ; width: auto;} td:nth-child(2) {text-align: left ; width: 100%}\n",
       "    .wandb-row { display: flex; flex-direction: row; flex-wrap: wrap; justify-content: flex-start; width: 100% }\n",
       "    .wandb-col { display: flex; flex-direction: column; flex-basis: 100%; flex: 1; padding: 10px; }\n",
       "    </style>\n",
       "<div class=\"wandb-row\"><div class=\"wandb-col\"><h3>Run history:</h3><br/><table class=\"wandb\"><tr><td>accuracy</td><td>▁▅▇██</td></tr><tr><td>auc</td><td>▁▃▅▇█</td></tr><tr><td>loss</td><td>█▄▂▁▁</td></tr><tr><td>val_accuracy</td><td>▁▄▇██</td></tr><tr><td>val_auc</td><td>▁▄▆▇█</td></tr><tr><td>val_loss</td><td>█▄▂▁▁</td></tr></table><br/></div><div class=\"wandb-col\"><h3>Run summary:</h3><br/><table class=\"wandb\"><tr><td>accuracy</td><td>0.99568</td></tr><tr><td>auc</td><td>0.98522</td></tr><tr><td>loss</td><td>0.00646</td></tr><tr><td>val_accuracy</td><td>0.98561</td></tr><tr><td>val_auc</td><td>0.98622</td></tr><tr><td>val_loss</td><td>0.03375</td></tr></table><br/></div></div>"
      ],
      "text/plain": [
       "<IPython.core.display.HTML object>"
      ]
     },
     "metadata": {},
     "output_type": "display_data"
    },
    {
     "data": {
      "text/html": [
       "Synced <strong style=\"color:#cdcd00\">ruby-terrain-254</strong>: <a href=\"https://wandb.ai/gopald/qml-hep-lhc/runs/1c25sr0t\" target=\"_blank\">https://wandb.ai/gopald/qml-hep-lhc/runs/1c25sr0t</a><br/>Synced 5 W&B file(s), 3 media file(s), 3 artifact file(s) and 0 other file(s)"
      ],
      "text/plain": [
       "<IPython.core.display.HTML object>"
      ]
     },
     "metadata": {},
     "output_type": "display_data"
    },
    {
     "data": {
      "text/html": [
       "Find logs at: <code>./wandb/run-20220818_175958-1c25sr0t/logs</code>"
      ],
      "text/plain": [
       "<IPython.core.display.HTML object>"
      ]
     },
     "metadata": {},
     "output_type": "display_data"
    }
   ],
   "source": [
    "if args.wandb:\n",
    "    wandb.finish()"
   ]
  },
  {
   "cell_type": "code",
   "execution_count": null,
   "id": "0e98b225",
   "metadata": {
    "ExecuteTime": {
     "end_time": "2022-08-18T05:06:41.426383Z",
     "start_time": "2022-08-18T05:06:41.265770Z"
    }
   },
   "outputs": [],
   "source": [
    "for i in range(200):\n",
    "    print(i, schedule_fn(i))"
   ]
  },
  {
   "cell_type": "code",
   "execution_count": null,
   "id": "3570ff73",
   "metadata": {},
   "outputs": [],
   "source": []
  }
 ],
 "metadata": {
  "kernelspec": {
   "display_name": "Python 3 (ipykernel)",
   "language": "python",
   "name": "python3"
  },
  "language_info": {
   "codemirror_mode": {
    "name": "ipython",
    "version": 3
   },
   "file_extension": ".py",
   "mimetype": "text/x-python",
   "name": "python",
   "nbconvert_exporter": "python",
   "pygments_lexer": "ipython3",
   "version": "3.8.10"
  },
  "latex_envs": {
   "LaTeX_envs_menu_present": true,
   "autoclose": false,
   "autocomplete": true,
   "bibliofile": "biblio.bib",
   "cite_by": "apalike",
   "current_citInitial": 1,
   "eqLabelWithNumbers": true,
   "eqNumInitial": 1,
   "hotkeys": {
    "equation": "Ctrl-E",
    "itemize": "Ctrl-I"
   },
   "labels_anchors": false,
   "latex_user_defs": false,
   "report_style_numbering": false,
   "user_envs_cfg": false
  },
  "toc": {
   "base_numbering": 1,
   "nav_menu": {},
   "number_sections": true,
   "sideBar": true,
   "skip_h1_title": false,
   "title_cell": "Table of Contents",
   "title_sidebar": "Contents",
   "toc_cell": false,
   "toc_position": {},
   "toc_section_display": true,
   "toc_window_display": false
  }
 },
 "nbformat": 4,
 "nbformat_minor": 5
}
