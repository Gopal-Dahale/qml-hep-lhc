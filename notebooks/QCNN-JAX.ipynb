{
 "cells": [
  {
   "cell_type": "code",
   "execution_count": 1,
   "id": "d28a72a2",
   "metadata": {
    "ExecuteTime": {
     "end_time": "2022-08-15T13:15:12.071865Z",
     "start_time": "2022-08-15T13:15:08.346657Z"
    }
   },
   "outputs": [],
   "source": [
    "%load_ext autoreload\n",
    "%autoreload 2\n",
    "\n",
    "%matplotlib inline\n",
    "\n",
    "from importlib.util import find_spec\n",
    "if find_spec(\"qml_hep_lhc\") is None:\n",
    "    import sys\n",
    "    sys.path.append('..')"
   ]
  },
  {
   "cell_type": "code",
   "execution_count": 24,
   "id": "7a7a9c90",
   "metadata": {
    "ExecuteTime": {
     "end_time": "2022-08-15T13:31:49.632488Z",
     "start_time": "2022-08-15T13:31:49.134025Z"
    }
   },
   "outputs": [],
   "source": [
    "from qml_hep_lhc.data import ElectronPhoton, MNIST\n",
    "from qml_hep_lhc.data.utils import tf_ds_to_numpy\n",
    "from qml_hep_lhc.data.preprocessor import DataPreprocessor\n",
    "from sklearn.utils import shuffle\n",
    "import argparse\n",
    "import wandb\n",
    "\n",
    "import pennylane as qml\n",
    "from pennylane import numpy as np\n",
    "from pennylane.optimize import AdamOptimizer, GradientDescentOptimizer\n",
    "import jax.numpy as jnp\n",
    "import jax\n",
    "from flax.training import train_state\n",
    "from flax import linen as nn\n",
    "import optax\n",
    "from absl import logging\n",
    "from jax import grad, jit, vmap\n",
    "from jax import random\n",
    "import tensorflow_datasets as tfds\n",
    "from tqdm import tqdm\n",
    "from sklearn.model_selection import train_test_split\n",
    "\n",
    "import matplotlib.pyplot as plt\n",
    "import time"
   ]
  },
  {
   "cell_type": "code",
   "execution_count": 34,
   "id": "7a7944e9",
   "metadata": {
    "ExecuteTime": {
     "end_time": "2022-08-15T13:34:56.390863Z",
     "start_time": "2022-08-15T13:34:56.290946Z"
    }
   },
   "outputs": [],
   "source": [
    "args = argparse.Namespace()\n",
    "\n",
    "# Data\n",
    "args.center_crop = 0.7\n",
    "args.resize = [8,8]\n",
    "args.standardize = 1\n",
    "# args.power_transform = 1\n",
    "args.binary_data = [0,1]\n",
    "# args.percent_samples = 0.01\n",
    "# args.processed = 1\n",
    "args.dataset_type = 'med'\n",
    "args.labels_to_categorical = 1\n",
    "args.batch_size = 128\n",
    "\n",
    "# Base Model\n",
    "args.wandb = True\n",
    "# args.epochs = 30\n",
    "# args.learning_rate = 0.2\n",
    "\n",
    "# Quantum CNN Parameters\n",
    "# args.n_layers = 2\n",
    "# args.n_qubits = 2\n",
    "# args.template = 'NQubitPQC'"
   ]
  },
  {
   "cell_type": "code",
   "execution_count": 35,
   "id": "ce4dec05",
   "metadata": {
    "ExecuteTime": {
     "end_time": "2022-08-15T13:35:01.061637Z",
     "start_time": "2022-08-15T13:34:56.766459Z"
    }
   },
   "outputs": [
    {
     "name": "stdout",
     "output_type": "stream",
     "text": [
      "Binarizing data...\n",
      "Binarizing data...\n",
      "Center cropping...\n",
      "Center cropping...\n",
      "Resizing data...\n",
      "Resizing data...\n",
      "Standardizing data...\n",
      "Converting labels to categorical...\n",
      "Converting labels to categorical...\n",
      "\n",
      "Dataset :MNIST\n",
      "╒════════╤══════════════════╤═════════════════╤═════════════════╤═══════════╕\n",
      "│ Data   │ Train size       │ Val size        │ Test size       │ Dims      │\n",
      "╞════════╪══════════════════╪═════════════════╪═════════════════╪═══════════╡\n",
      "│ X      │ (10132, 8, 8, 1) │ (2533, 8, 8, 1) │ (2115, 8, 8, 1) │ (8, 8, 1) │\n",
      "├────────┼──────────────────┼─────────────────┼─────────────────┼───────────┤\n",
      "│ y      │ (10132, 2)       │ (2533, 2)       │ (2115, 2)       │ (2,)      │\n",
      "╘════════╧══════════════════╧═════════════════╧═════════════════╧═══════════╛\n",
      "\n",
      "╒══════════════╤═══════╤═══════╤════════╤═══════╤══════════════════════════╕\n",
      "│ Type         │   Min │   Max │   Mean │   Std │ Samples for each class   │\n",
      "╞══════════════╪═══════╪═══════╪════════╪═══════╪══════════════════════════╡\n",
      "│ Train Images │ -1.58 │ 66.11 │   0    │  1    │ [5394, 4738]             │\n",
      "├──────────────┼───────┼───────┼────────┼───────┼──────────────────────────┤\n",
      "│ Val Images   │ -1.58 │ 26.29 │  -0    │  0.99 │ [1348, 1185]             │\n",
      "├──────────────┼───────┼───────┼────────┼───────┼──────────────────────────┤\n",
      "│ Test Images  │ -1.58 │ 27.55 │  -0.01 │  0.98 │ [1135, 980]              │\n",
      "╘══════════════╧═══════╧═══════╧════════╧═══════╧══════════════════════════╛\n",
      "\n",
      "\n"
     ]
    }
   ],
   "source": [
    "data = MNIST(args)\n",
    "data.prepare_data()\n",
    "data.setup()\n",
    "print(data)"
   ]
  },
  {
   "cell_type": "code",
   "execution_count": 36,
   "id": "86395b2b",
   "metadata": {
    "ExecuteTime": {
     "end_time": "2022-08-15T13:35:31.917090Z",
     "start_time": "2022-08-15T13:35:28.447297Z"
    }
   },
   "outputs": [],
   "source": [
    "x_train, y_train = tf_ds_to_numpy(data.train_ds)\n",
    "x_val, y_val = tf_ds_to_numpy(data.val_ds)\n",
    "x_test, y_test = tf_ds_to_numpy(data.test_ds)"
   ]
  },
  {
   "cell_type": "code",
   "execution_count": 38,
   "id": "b3daee72",
   "metadata": {
    "ExecuteTime": {
     "end_time": "2022-08-15T13:35:47.550436Z",
     "start_time": "2022-08-15T13:35:38.466226Z"
    }
   },
   "outputs": [
    {
     "name": "stderr",
     "output_type": "stream",
     "text": [
      "\u001b[34m\u001b[1mwandb\u001b[0m: Currently logged in as: \u001b[33mgopald\u001b[0m. Use \u001b[1m`wandb login --relogin`\u001b[0m to force relogin\n",
      "2022-08-15 19:05:44.673957: W tensorflow/stream_executor/platform/default/dso_loader.cc:64] Could not load dynamic library 'libcudart.so.11.0'; dlerror: libcudart.so.11.0: cannot open shared object file: No such file or directory\n"
     ]
    },
    {
     "data": {
      "text/html": [
       "wandb version 0.13.1 is available!  To upgrade, please run:\n",
       " $ pip install wandb --upgrade"
      ],
      "text/plain": [
       "<IPython.core.display.HTML object>"
      ]
     },
     "metadata": {},
     "output_type": "display_data"
    },
    {
     "data": {
      "text/html": [
       "Tracking run with wandb version 0.12.17"
      ],
      "text/plain": [
       "<IPython.core.display.HTML object>"
      ]
     },
     "metadata": {},
     "output_type": "display_data"
    },
    {
     "data": {
      "text/html": [
       "Run data is saved locally in <code>/home/gopald/Documents/qml-hep-lhc/notebooks/wandb/run-20220815_190542-3k5v6fdn</code>"
      ],
      "text/plain": [
       "<IPython.core.display.HTML object>"
      ]
     },
     "metadata": {},
     "output_type": "display_data"
    },
    {
     "data": {
      "text/html": [
       "Syncing run <strong><a href=\"https://wandb.ai/gopald/qml-hep-lhc/runs/3k5v6fdn\" target=\"_blank\">chocolate-breeze-247</a></strong> to <a href=\"https://wandb.ai/gopald/qml-hep-lhc\" target=\"_blank\">Weights & Biases</a> (<a href=\"https://wandb.me/run\" target=\"_blank\">docs</a>)<br/>"
      ],
      "text/plain": [
       "<IPython.core.display.HTML object>"
      ]
     },
     "metadata": {},
     "output_type": "display_data"
    }
   ],
   "source": [
    "if args.wandb:\n",
    "     wandb.init(project='qml-hep-lhc')"
   ]
  },
  {
   "cell_type": "markdown",
   "id": "74329b45",
   "metadata": {},
   "source": [
    "## Hyperparameters"
   ]
  },
  {
   "cell_type": "code",
   "execution_count": 39,
   "id": "771e002b",
   "metadata": {
    "ExecuteTime": {
     "end_time": "2022-08-15T13:35:48.617311Z",
     "start_time": "2022-08-15T13:35:48.530151Z"
    }
   },
   "outputs": [],
   "source": [
    "input_dims = data.config()['input_dims']"
   ]
  },
  {
   "cell_type": "code",
   "execution_count": 40,
   "id": "485ef1fa",
   "metadata": {
    "ExecuteTime": {
     "end_time": "2022-08-15T13:35:49.044374Z",
     "start_time": "2022-08-15T13:35:48.953172Z"
    }
   },
   "outputs": [],
   "source": [
    "def get_out_shape(in_shape, k, s, padding):\n",
    "    in_shape = (1,) + in_shape\n",
    "    a = np.random.uniform(size = (in_shape))\n",
    "    dn = jax.lax.conv_dimension_numbers(a.shape, (1,1,k[0],k[1]), ('NHWC', 'IOHW', 'NHWC'))\n",
    "    out = jax.lax.conv_general_dilated_patches(lhs = a,\n",
    "                                           filter_shape= k,\n",
    "                                           window_strides=s,\n",
    "                                           padding=padding,\n",
    "                                           dimension_numbers=dn \n",
    "                                    )\n",
    "    return out.shape"
   ]
  },
  {
   "cell_type": "code",
   "execution_count": 41,
   "id": "b17ff04e",
   "metadata": {
    "ExecuteTime": {
     "end_time": "2022-08-15T13:35:49.369917Z",
     "start_time": "2022-08-15T13:35:49.228088Z"
    }
   },
   "outputs": [
    {
     "name": "stderr",
     "output_type": "stream",
     "text": [
      "/home/gopald/Documents/qml-hep-lhc/qenv/lib/python3.7/site-packages/jax/_src/lax/other.py:97: UserWarning: Explicitly requested dtype float64 requested in eye is not available, and will be truncated to dtype float32. To enable more dtypes, set the jax_enable_x64 configuration option or the JAX_ENABLE_X64 shell environment variable. See https://github.com/google/jax#current-gotchas for more.\n",
      "  rhs = jnp.eye(spatial_size, dtype=lhs.dtype).reshape(filter_shape * 2)\n"
     ]
    }
   ],
   "source": [
    "# A helper function to randomly initialize weights and biases\n",
    "# for a dense neural network layer\n",
    "def random_layer_params(m, n, key, scale=1e-1):\n",
    "    w_key, b_key = random.split(key)\n",
    "    return scale * random.normal(w_key, (n, m)), scale * random.normal(b_key, (n,))\n",
    "\n",
    "# Initialize all layers for a fully-connected neural network with sizes \"sizes\"\n",
    "def init_network_params(sizes, key):\n",
    "    keys = random.split(key, len(sizes))\n",
    "    return [random_layer_params(m, n, k) for m, n, k in zip(sizes[:-1], sizes[1:], keys)]\n",
    " \n",
    "\n",
    "kernel_size = (3,3)\n",
    "strides = (1,1)\n",
    "padding = \"VALID\"\n",
    "clayer_sizes = [8,2]\n",
    "\n",
    "step_size = 0.2 \n",
    "num_epochs = 30\n",
    "\n",
    "n_layers = 2\n",
    "n_qubits = 4\n",
    "\n",
    "\n",
    "conv_out_shape = get_out_shape(input_dims, kernel_size, strides, padding)\n",
    "num_pixels = np.prod(conv_out_shape[:-1])*n_qubits\n",
    "qlayer_sizes = [np.prod(kernel_size), n_layers*n_qubits*3]\n",
    "clayer_sizes = [num_pixels] + clayer_sizes\n",
    "\n",
    "params = init_network_params(qlayer_sizes, random.PRNGKey(0))\n",
    "params += init_network_params(clayer_sizes, random.PRNGKey(0))"
   ]
  },
  {
   "cell_type": "code",
   "execution_count": 42,
   "id": "5b368d89",
   "metadata": {
    "ExecuteTime": {
     "end_time": "2022-08-15T13:35:49.686232Z",
     "start_time": "2022-08-15T13:35:49.557408Z"
    }
   },
   "outputs": [
    {
     "name": "stdout",
     "output_type": "stream",
     "text": [
      "(24, 9) (24,)\n",
      "(8, 144) (8,)\n",
      "(2, 8) (2,)\n"
     ]
    }
   ],
   "source": [
    "for i in params:\n",
    "    print(i[0].shape, i[1].shape)"
   ]
  },
  {
   "cell_type": "markdown",
   "id": "0cc04079",
   "metadata": {},
   "source": [
    "## QLayers"
   ]
  },
  {
   "cell_type": "code",
   "execution_count": 43,
   "id": "b5a64b72",
   "metadata": {
    "ExecuteTime": {
     "end_time": "2022-08-15T13:35:50.386023Z",
     "start_time": "2022-08-15T13:35:50.289842Z"
    }
   },
   "outputs": [],
   "source": [
    "dev = qml.device('default.qubit.jax', wires=n_qubits)\n",
    "qubits =list(range(n_qubits))\n",
    "\n",
    "@jax.jit\n",
    "@qml.qnode(dev, interface='jax')\n",
    "def circuit(inputs, w, b):\n",
    "    z = jnp.dot(inputs, jnp.transpose(w)) + b\n",
    "    z = jnp.tanh(z)*jnp.pi/2\n",
    "    z = jnp.reshape(z, (n_layers, n_qubits, 3, -1))\n",
    "    for l in range(n_layers):\n",
    "        for q in qubits:\n",
    "            qml.Rot(z[l,q,0], z[l,q,1], z[l,q,2], wires= q)\n",
    "        if (l & 1):\n",
    "            for q0, q1 in zip(qubits[1::2], qubits[2::2] + [qubits[0]]):\n",
    "                qml.CZ((q0,q1))\n",
    "        else:\n",
    "            for q0, q1 in zip(qubits[0::2], qubits[1::2]):\n",
    "                qml.CZ((q0,q1))\n",
    "   \n",
    "    return [qml.expval(qml.PauliZ(q)) for q in qubits]"
   ]
  },
  {
   "cell_type": "code",
   "execution_count": 44,
   "id": "94ff6d15",
   "metadata": {
    "ExecuteTime": {
     "end_time": "2022-08-15T13:35:50.589437Z",
     "start_time": "2022-08-15T13:35:50.490519Z"
    }
   },
   "outputs": [],
   "source": [
    "def qconv(x, w, b):\n",
    "    x = jnp.expand_dims(x,axis=0)\n",
    "        \n",
    "    dn = jax.lax.conv_dimension_numbers(x.shape, \n",
    "                                        (1,1,kernel_size[0],kernel_size[1]), \n",
    "                                        ('NHWC', 'IOHW', 'NHWC'))\n",
    "    x = jax.lax.conv_general_dilated_patches(lhs = x,\n",
    "                                               filter_shape= kernel_size,\n",
    "                                               window_strides=strides,\n",
    "                                               padding=padding,\n",
    "                                               dimension_numbers=dn \n",
    "                                              )\n",
    "    iters = x.shape[1:3]\n",
    "    x = jnp.reshape(x, (-1, np.prod(kernel_size)))\n",
    "    x = circuit(x, w, b)\n",
    "    x = jnp.reshape(x, iters + (n_qubits,))\n",
    "    return x"
   ]
  },
  {
   "cell_type": "code",
   "execution_count": 45,
   "id": "d0ff8700",
   "metadata": {
    "ExecuteTime": {
     "end_time": "2022-08-15T13:35:50.963912Z",
     "start_time": "2022-08-15T13:35:50.787607Z"
    }
   },
   "outputs": [
    {
     "name": "stdout",
     "output_type": "stream",
     "text": [
      "0: ──Rot─╭●──Rot────╭Z─┤  <Z>\n",
      "1: ──Rot─╰Z──Rot─╭●─│──┤  <Z>\n",
      "2: ──Rot─╭●──Rot─╰Z─│──┤  <Z>\n",
      "3: ──Rot─╰Z──Rot────╰●─┤  <Z>\n"
     ]
    }
   ],
   "source": [
    "dev = qml.device(\"default.qubit\", wires=n_qubits)\n",
    "qnode = qml.QNode(circuit, dev)\n",
    "\n",
    "inputs = np.random.uniform(size = (np.prod(kernel_size),))\n",
    "w,b  = params[0]\n",
    "drawer = qml.draw(qnode, expansion_strategy=\"device\")\n",
    "print(drawer(inputs,w,b))"
   ]
  },
  {
   "cell_type": "markdown",
   "id": "0eb80645",
   "metadata": {},
   "source": [
    "## Auto-Batching Predictions"
   ]
  },
  {
   "cell_type": "code",
   "execution_count": 46,
   "id": "93945a8f",
   "metadata": {
    "ExecuteTime": {
     "end_time": "2022-08-15T13:35:51.573287Z",
     "start_time": "2022-08-15T13:35:51.488780Z"
    }
   },
   "outputs": [],
   "source": [
    "from jax.scipy.special import logsumexp\n",
    "\n",
    "def relu(x):\n",
    "    return jnp.maximum(0, x)\n",
    "\n",
    "def predict(params, image):\n",
    "  # per-example predictions\n",
    "\n",
    "    qw, qb = params[0]\n",
    "    activations = qconv(image, qw, qb)\n",
    "    \n",
    "    activations = jnp.reshape(activations, (-1))\n",
    "    \n",
    "    for w, b in params[1:-1]:\n",
    "        outputs = jnp.dot(w, activations) + b\n",
    "        activations = relu(outputs)\n",
    "    final_w, final_b = params[-1]\n",
    "    logits = jnp.dot(final_w, activations) + final_b\n",
    "    return logits - logsumexp(logits)"
   ]
  },
  {
   "cell_type": "code",
   "execution_count": 47,
   "id": "fbdb84a8",
   "metadata": {
    "ExecuteTime": {
     "end_time": "2022-08-15T13:36:03.767076Z",
     "start_time": "2022-08-15T13:35:51.863912Z"
    }
   },
   "outputs": [
    {
     "name": "stdout",
     "output_type": "stream",
     "text": [
      "[-0.6991117  -0.68721807]\n"
     ]
    }
   ],
   "source": [
    "# This works on single examples\n",
    "random_flattened_image = random.normal(random.PRNGKey(1), input_dims)\n",
    "preds = predict(params,  random_flattened_image)\n",
    "print(preds)"
   ]
  },
  {
   "cell_type": "code",
   "execution_count": 48,
   "id": "931e2120",
   "metadata": {
    "ExecuteTime": {
     "end_time": "2022-08-15T13:36:03.892967Z",
     "start_time": "2022-08-15T13:36:03.773160Z"
    }
   },
   "outputs": [],
   "source": [
    "# Doesn't work with a batch\n",
    "random_flattened_images = random.normal(random.PRNGKey(1), (2,)+ input_dims)\n",
    "# try:\n",
    "#     preds = predict(params, random_flattened_images)\n",
    "# except TypeError:\n",
    "#     print('Invalid shapes!')"
   ]
  },
  {
   "cell_type": "code",
   "execution_count": 49,
   "id": "9fa9ea5f",
   "metadata": {
    "ExecuteTime": {
     "end_time": "2022-08-15T13:36:25.280579Z",
     "start_time": "2022-08-15T13:36:03.907742Z"
    }
   },
   "outputs": [
    {
     "name": "stdout",
     "output_type": "stream",
     "text": [
      "[[-0.75342685 -0.6362955 ]\n",
      " [-0.716253   -0.6705632 ]]\n"
     ]
    }
   ],
   "source": [
    "# Let's upgrade it to handle batches using `vmap`\n",
    "\n",
    "# Make a batched version of the `predict` function\n",
    "batched_predict = vmap(predict, in_axes=(None,0))\n",
    "\n",
    "# `batched_predict` has the same call signature as `predict`\n",
    "batched_preds = batched_predict(params, random_flattened_images)\n",
    "print(batched_preds)"
   ]
  },
  {
   "cell_type": "markdown",
   "id": "d696d399",
   "metadata": {},
   "source": [
    "## Utility and loss functions"
   ]
  },
  {
   "cell_type": "code",
   "execution_count": 50,
   "id": "fc48796a",
   "metadata": {
    "ExecuteTime": {
     "end_time": "2022-08-15T13:36:36.597642Z",
     "start_time": "2022-08-15T13:36:36.395808Z"
    }
   },
   "outputs": [],
   "source": [
    "def one_hot(x, k, dtype=jnp.float32):\n",
    "    \"\"\"Create a one-hot encoding of x of size k.\"\"\"\n",
    "    return jnp.array(x[:, None] == jnp.arange(k), dtype)\n",
    "  \n",
    "def accuracy(params, images, targets):\n",
    "    target_class = jnp.argmax(targets, axis=1)\n",
    "    predicted_class = jnp.argmax(batched_predict(params, images), axis=1)\n",
    "    return jnp.mean(predicted_class == target_class)\n",
    "\n",
    "def loss(params, images, targets):\n",
    "    preds = batched_predict(params, images)\n",
    "    return jnp.mean(optax.softmax_cross_entropy(logits=preds, labels=targets))\n",
    "\n",
    "@jit\n",
    "def update(params, x, y):\n",
    "    grads = grad(loss)(params, x, y)\n",
    "    return [(w - step_size * dw, b - step_size * db)\n",
    "          for (w, b), (dw, db) in zip(params, grads)]"
   ]
  },
  {
   "cell_type": "markdown",
   "id": "63afa04b",
   "metadata": {},
   "source": [
    "## Training loop"
   ]
  },
  {
   "cell_type": "code",
   "execution_count": 51,
   "id": "fb4f365f",
   "metadata": {
    "ExecuteTime": {
     "end_time": "2022-08-15T13:38:09.971655Z",
     "start_time": "2022-08-15T13:36:38.650708Z"
    },
    "scrolled": true
   },
   "outputs": [
    {
     "name": "stderr",
     "output_type": "stream",
     "text": [
      "Epoch 0: 100%|████████████████████████████████████████████████████████████████████| 80/80 [00:52<00:00,  1.51batch/s]\n",
      "Epoch 1:  18%|███████████▋                                                       | 14/80 [00:00<00:00, 133.80batch/s]"
     ]
    },
    {
     "name": "stdout",
     "output_type": "stream",
     "text": [
      "Epoch 0 in 52.87 sec\n",
      "Training set accuracy 0.8501776456832886\n",
      "Test set accuracy 0.8405053019523621\n"
     ]
    },
    {
     "name": "stderr",
     "output_type": "stream",
     "text": [
      "Epoch 1: 100%|███████████████████████████████████████████████████████████████████| 80/80 [00:00<00:00, 142.22batch/s]\n",
      "Epoch 2:  18%|███████████▋                                                       | 14/80 [00:00<00:00, 134.95batch/s]"
     ]
    },
    {
     "name": "stdout",
     "output_type": "stream",
     "text": [
      "Epoch 1 in 0.57 sec\n",
      "Training set accuracy 0.9289379715919495\n",
      "Test set accuracy 0.9336754679679871\n"
     ]
    },
    {
     "name": "stderr",
     "output_type": "stream",
     "text": [
      "Epoch 2: 100%|███████████████████████████████████████████████████████████████████| 80/80 [00:00<00:00, 136.09batch/s]\n",
      "Epoch 3:  16%|██████████▉                                                        | 13/80 [00:00<00:00, 127.35batch/s]"
     ]
    },
    {
     "name": "stdout",
     "output_type": "stream",
     "text": [
      "Epoch 2 in 0.59 sec\n",
      "Training set accuracy 0.943742573261261\n",
      "Test set accuracy 0.9455190896987915\n"
     ]
    },
    {
     "name": "stderr",
     "output_type": "stream",
     "text": [
      "Epoch 3: 100%|███████████████████████████████████████████████████████████████████| 80/80 [00:00<00:00, 137.36batch/s]\n",
      "Epoch 4:  19%|████████████▌                                                      | 15/80 [00:00<00:00, 149.33batch/s]"
     ]
    },
    {
     "name": "stdout",
     "output_type": "stream",
     "text": [
      "Epoch 3 in 0.59 sec\n",
      "Training set accuracy 0.9441373348236084\n",
      "Test set accuracy 0.9439399838447571\n"
     ]
    },
    {
     "name": "stderr",
     "output_type": "stream",
     "text": [
      "Epoch 4: 100%|███████████████████████████████████████████████████████████████████| 80/80 [00:00<00:00, 129.12batch/s]\n",
      "Epoch 5:  18%|███████████▋                                                       | 14/80 [00:00<00:00, 133.34batch/s]"
     ]
    },
    {
     "name": "stdout",
     "output_type": "stream",
     "text": [
      "Epoch 4 in 0.62 sec\n",
      "Training set accuracy 0.9490722417831421\n",
      "Test set accuracy 0.9467034935951233\n"
     ]
    },
    {
     "name": "stderr",
     "output_type": "stream",
     "text": [
      "Epoch 5: 100%|███████████████████████████████████████████████████████████████████| 80/80 [00:00<00:00, 139.38batch/s]\n",
      "Epoch 6:  18%|███████████▋                                                       | 14/80 [00:00<00:00, 137.10batch/s]"
     ]
    },
    {
     "name": "stdout",
     "output_type": "stream",
     "text": [
      "Epoch 5 in 0.58 sec\n",
      "Training set accuracy 0.9370311498641968\n",
      "Test set accuracy 0.9328858852386475\n"
     ]
    },
    {
     "name": "stderr",
     "output_type": "stream",
     "text": [
      "Epoch 6: 100%|███████████████████████████████████████████████████████████████████| 80/80 [00:00<00:00, 136.98batch/s]\n",
      "Epoch 7:  19%|████████████▌                                                      | 15/80 [00:00<00:00, 139.99batch/s]"
     ]
    },
    {
     "name": "stdout",
     "output_type": "stream",
     "text": [
      "Epoch 6 in 0.59 sec\n",
      "Training set accuracy 0.9394986033439636\n",
      "Test set accuracy 0.9392024874687195\n"
     ]
    },
    {
     "name": "stderr",
     "output_type": "stream",
     "text": [
      "Epoch 7: 100%|███████████████████████████████████████████████████████████████████| 80/80 [00:00<00:00, 132.31batch/s]\n",
      "Epoch 8:  18%|███████████▋                                                       | 14/80 [00:00<00:00, 130.96batch/s]"
     ]
    },
    {
     "name": "stdout",
     "output_type": "stream",
     "text": [
      "Epoch 7 in 0.61 sec\n",
      "Training set accuracy 0.8994275331497192\n",
      "Test set accuracy 0.8989340662956238\n"
     ]
    },
    {
     "name": "stderr",
     "output_type": "stream",
     "text": [
      "Epoch 8: 100%|███████████████████████████████████████████████████████████████████| 80/80 [00:00<00:00, 117.16batch/s]\n",
      "Epoch 9:  18%|███████████▋                                                       | 14/80 [00:00<00:00, 132.96batch/s]"
     ]
    },
    {
     "name": "stdout",
     "output_type": "stream",
     "text": [
      "Epoch 8 in 0.69 sec\n",
      "Training set accuracy 0.9470982551574707\n",
      "Test set accuracy 0.9451243281364441\n"
     ]
    },
    {
     "name": "stderr",
     "output_type": "stream",
     "text": [
      "Epoch 9: 100%|███████████████████████████████████████████████████████████████████| 80/80 [00:00<00:00, 123.98batch/s]\n"
     ]
    },
    {
     "name": "stdout",
     "output_type": "stream",
     "text": [
      "Epoch 9 in 0.65 sec\n",
      "Training set accuracy 0.9476904273033142\n",
      "Test set accuracy 0.9447295665740967\n"
     ]
    }
   ],
   "source": [
    "import time\n",
    "num_epochs = 10\n",
    "step_size = jnp.sqrt(step_size)\n",
    "\n",
    "for epoch in range(num_epochs):\n",
    "    start_time = time.time()\n",
    "    with tqdm(tfds.as_numpy(data.train_ds), unit=\"batch\") as tepoch:\n",
    "        for x, y in tepoch:\n",
    "            tepoch.set_description(f\"Epoch {epoch}\")\n",
    "            params = update(params, x, y)\n",
    "            \n",
    "    epoch_time = time.time() - start_time\n",
    "    train_acc = accuracy(params, x_train, y_train)\n",
    "    test_acc = accuracy(params, x_val, y_val)\n",
    "    \n",
    "    print(\"Epoch {} in {:0.2f} sec\".format(epoch, epoch_time))\n",
    "    print(\"Training set accuracy {}\".format(train_acc))\n",
    "    print(\"Test set accuracy {}\".format(test_acc))\n",
    "    wandb.log({\"accuracy\": train_acc, \"val_accuracy\": test_acc})"
   ]
  },
  {
   "cell_type": "code",
   "execution_count": 23,
   "id": "a552002c",
   "metadata": {
    "ExecuteTime": {
     "end_time": "2022-08-15T13:21:02.353827Z",
     "start_time": "2022-08-15T13:20:47.851383Z"
    }
   },
   "outputs": [
    {
     "data": {
      "text/plain": [
       "DeviceArray(0.9763593, dtype=float32)"
      ]
     },
     "execution_count": 23,
     "metadata": {},
     "output_type": "execute_result"
    }
   ],
   "source": [
    "accuracy(params, x_test, y_test)"
   ]
  },
  {
   "cell_type": "code",
   "execution_count": null,
   "id": "2e2e7132",
   "metadata": {},
   "outputs": [],
   "source": []
  }
 ],
 "metadata": {
  "kernelspec": {
   "display_name": "Python (qenv)",
   "language": "python",
   "name": "qenv"
  },
  "language_info": {
   "codemirror_mode": {
    "name": "ipython",
    "version": 3
   },
   "file_extension": ".py",
   "mimetype": "text/x-python",
   "name": "python",
   "nbconvert_exporter": "python",
   "pygments_lexer": "ipython3",
   "version": "3.7.13"
  },
  "latex_envs": {
   "LaTeX_envs_menu_present": true,
   "autoclose": false,
   "autocomplete": true,
   "bibliofile": "biblio.bib",
   "cite_by": "apalike",
   "current_citInitial": 1,
   "eqLabelWithNumbers": true,
   "eqNumInitial": 1,
   "hotkeys": {
    "equation": "Ctrl-E",
    "itemize": "Ctrl-I"
   },
   "labels_anchors": false,
   "latex_user_defs": false,
   "report_style_numbering": false,
   "user_envs_cfg": false
  },
  "toc": {
   "base_numbering": 1,
   "nav_menu": {},
   "number_sections": true,
   "sideBar": true,
   "skip_h1_title": false,
   "title_cell": "Table of Contents",
   "title_sidebar": "Contents",
   "toc_cell": false,
   "toc_position": {},
   "toc_section_display": true,
   "toc_window_display": false
  }
 },
 "nbformat": 4,
 "nbformat_minor": 5
}
