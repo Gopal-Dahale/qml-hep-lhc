{
 "cells": [
  {
   "cell_type": "code",
   "execution_count": 1,
   "id": "d28a72a2",
   "metadata": {
    "ExecuteTime": {
     "end_time": "2022-08-16T03:39:01.167559Z",
     "start_time": "2022-08-16T03:38:56.405126Z"
    }
   },
   "outputs": [],
   "source": [
    "%load_ext autoreload\n",
    "%autoreload 2\n",
    "\n",
    "%matplotlib inline\n",
    "\n",
    "from importlib.util import find_spec\n",
    "if find_spec(\"qml_hep_lhc\") is None:\n",
    "    import sys\n",
    "    sys.path.append('..')"
   ]
  },
  {
   "cell_type": "code",
   "execution_count": 2,
   "id": "7a7a9c90",
   "metadata": {
    "ExecuteTime": {
     "end_time": "2022-08-16T03:40:09.903692Z",
     "start_time": "2022-08-16T03:39:03.044450Z"
    }
   },
   "outputs": [
    {
     "name": "stderr",
     "output_type": "stream",
     "text": [
      "2022-08-16 09:09:09.421609: W tensorflow/stream_executor/platform/default/dso_loader.cc:64] Could not load dynamic library 'libcudart.so.11.0'; dlerror: libcudart.so.11.0: cannot open shared object file: No such file or directory\n",
      "2022-08-16 09:09:09.421696: I tensorflow/stream_executor/cuda/cudart_stub.cc:29] Ignore above cudart dlerror if you do not have a GPU set up on your machine.\n"
     ]
    }
   ],
   "source": [
    "from qml_hep_lhc.data import ElectronPhoton, MNIST, QuarkGluon\n",
    "from qml_hep_lhc.data.utils import tf_ds_to_numpy\n",
    "from qml_hep_lhc.data.preprocessor import DataPreprocessor\n",
    "from sklearn.utils import shuffle\n",
    "import argparse\n",
    "import wandb\n",
    "\n",
    "import pennylane as qml\n",
    "from pennylane import numpy as np\n",
    "from pennylane.optimize import AdamOptimizer, GradientDescentOptimizer\n",
    "import jax.numpy as jnp\n",
    "import jax\n",
    "from flax.training import train_state\n",
    "from flax import linen as nn\n",
    "import optax\n",
    "from absl import logging\n",
    "from jax import grad, jit, vmap\n",
    "from jax import random\n",
    "import tensorflow_datasets as tfds\n",
    "from tqdm import tqdm\n",
    "from sklearn.model_selection import train_test_split\n",
    "\n",
    "import matplotlib.pyplot as plt\n",
    "import time"
   ]
  },
  {
   "cell_type": "code",
   "execution_count": 398,
   "id": "7a7944e9",
   "metadata": {
    "ExecuteTime": {
     "end_time": "2022-08-16T09:13:59.400367Z",
     "start_time": "2022-08-16T09:13:59.315565Z"
    }
   },
   "outputs": [],
   "source": [
    "args = argparse.Namespace()\n",
    "\n",
    "# Data\n",
    "args.center_crop = 0.2\n",
    "# args.resize = [8,8]\n",
    "args.standardize = 1\n",
    "args.power_transform = 1\n",
    "# args.binary_data = [0,1]\n",
    "# args.percent_samples = 0.01\n",
    "# args.processed = 1\n",
    "args.dataset_type = 'med'\n",
    "args.labels_to_categorical = 1\n",
    "args.batch_size = 128\n",
    "\n",
    "# Base Model\n",
    "args.wandb = False\n",
    "# args.epochs = 30\n",
    "# args.learning_rate = 0.2\n",
    "\n",
    "# Quantum CNN Parameters\n",
    "# args.n_layers = 2\n",
    "# args.n_qubits = 2\n",
    "# args.template = 'NQubitPQC'"
   ]
  },
  {
   "cell_type": "code",
   "execution_count": 399,
   "id": "ce4dec05",
   "metadata": {
    "ExecuteTime": {
     "end_time": "2022-08-16T09:14:03.278275Z",
     "start_time": "2022-08-16T09:13:59.485166Z"
    }
   },
   "outputs": [
    {
     "name": "stdout",
     "output_type": "stream",
     "text": [
      "Center cropping...\n",
      "Center cropping...\n",
      "Performing power transform...\n",
      "Standardizing data...\n",
      "Converting labels to categorical...\n",
      "Converting labels to categorical...\n",
      "\n",
      "Dataset :Electron Photon med\n",
      "╒════════╤═════════════════╤═════════════════╤═════════════════╤═══════════╕\n",
      "│ Data   │ Train size      │ Val size        │ Test size       │ Dims      │\n",
      "╞════════╪═════════════════╪═════════════════╪═════════════════╪═══════════╡\n",
      "│ X      │ (7200, 8, 8, 1) │ (1800, 8, 8, 1) │ (1000, 8, 8, 1) │ (8, 8, 1) │\n",
      "├────────┼─────────────────┼─────────────────┼─────────────────┼───────────┤\n",
      "│ y      │ (7200, 2)       │ (1800, 2)       │ (1000, 2)       │ (2,)      │\n",
      "╘════════╧═════════════════╧═════════════════╧═════════════════╧═══════════╛\n",
      "\n",
      "╒══════════════╤═══════╤═══════╤════════╤═══════╤══════════════════════════╕\n",
      "│ Type         │   Min │   Max │   Mean │   Std │ Samples for each class   │\n",
      "╞══════════════╪═══════╪═══════╪════════╪═══════╪══════════════════════════╡\n",
      "│ Train Images │ -3.05 │  5.53 │   0    │     1 │ [3600, 3600]             │\n",
      "├──────────────┼───────┼───────┼────────┼───────┼──────────────────────────┤\n",
      "│ Val Images   │ -3.05 │  5.53 │  -0    │     1 │ [900, 900]               │\n",
      "├──────────────┼───────┼───────┼────────┼───────┼──────────────────────────┤\n",
      "│ Test Images  │ -3.05 │  5.53 │  -0.01 │     1 │ [500, 500]               │\n",
      "╘══════════════╧═══════╧═══════╧════════╧═══════╧══════════════════════════╛\n",
      "\n",
      "\n"
     ]
    }
   ],
   "source": [
    "data = ElectronPhoton(args)\n",
    "data.prepare_data()\n",
    "data.setup()\n",
    "print(data)"
   ]
  },
  {
   "cell_type": "code",
   "execution_count": 400,
   "id": "f546865a",
   "metadata": {
    "ExecuteTime": {
     "end_time": "2022-08-16T09:14:03.374316Z",
     "start_time": "2022-08-16T09:14:03.283419Z"
    }
   },
   "outputs": [],
   "source": [
    "if args.wandb:\n",
    "     wandb.init(project='qml-hep-lhc')"
   ]
  },
  {
   "cell_type": "markdown",
   "id": "74329b45",
   "metadata": {},
   "source": [
    "## Hyperparameters"
   ]
  },
  {
   "cell_type": "code",
   "execution_count": 401,
   "id": "771e002b",
   "metadata": {
    "ExecuteTime": {
     "end_time": "2022-08-16T09:14:03.483935Z",
     "start_time": "2022-08-16T09:14:03.377340Z"
    }
   },
   "outputs": [],
   "source": [
    "input_dims = data.config()['input_dims']"
   ]
  },
  {
   "cell_type": "code",
   "execution_count": 419,
   "id": "485ef1fa",
   "metadata": {
    "ExecuteTime": {
     "end_time": "2022-08-16T09:17:25.651340Z",
     "start_time": "2022-08-16T09:17:25.543869Z"
    }
   },
   "outputs": [],
   "source": [
    "def get_out_shape(in_shape, k, s, padding):\n",
    "    in_shape = (1,) + in_shape\n",
    "    a = np.random.uniform(size = (in_shape))\n",
    "    dn = jax.lax.conv_dimension_numbers(a.shape, (1,1,k[0],k[1]), ('NHWC', 'IOHW', 'NHWC'))\n",
    "    out = jax.lax.conv_general_dilated_patches(lhs = a,\n",
    "                                           filter_shape= k,\n",
    "                                           window_strides=s,\n",
    "                                           padding=padding,\n",
    "                                           dimension_numbers=dn \n",
    "                                    )\n",
    "    return out.shape"
   ]
  },
  {
   "cell_type": "code",
   "execution_count": 440,
   "id": "b17ff04e",
   "metadata": {
    "ExecuteTime": {
     "end_time": "2022-08-16T09:20:40.253054Z",
     "start_time": "2022-08-16T09:20:40.172613Z"
    }
   },
   "outputs": [
    {
     "name": "stderr",
     "output_type": "stream",
     "text": [
      "/home/gopald/Documents/qml-hep-lhc/qenv/lib/python3.7/site-packages/jax/_src/lax/other.py:97: UserWarning: Explicitly requested dtype float64 requested in eye is not available, and will be truncated to dtype float32. To enable more dtypes, set the jax_enable_x64 configuration option or the JAX_ENABLE_X64 shell environment variable. See https://github.com/google/jax#current-gotchas for more.\n",
      "  rhs = jnp.eye(spatial_size, dtype=lhs.dtype).reshape(filter_shape * 2)\n"
     ]
    }
   ],
   "source": [
    "# A helper function to randomly initialize weights and biases\n",
    "# for a dense neural network layer\n",
    "def random_layer_params(m, n, key, scale=1e-1):\n",
    "    w_key, b_key = random.split(key)\n",
    "    return scale * random.normal(w_key, (n, m)), scale * random.normal(b_key, (n,))\n",
    "\n",
    "# Initialize all layers for a fully-connected neural network with sizes \"sizes\"\n",
    "def init_network_params(sizes, key):\n",
    "    keys = random.split(key, len(sizes))\n",
    "    return [random_layer_params(m, n, k) for m, n, k in zip(sizes[:-1], sizes[1:], keys)]\n",
    " \n",
    "\n",
    "kernel_size = (3,3)\n",
    "strides = (1,1)\n",
    "padding = \"VALID\"\n",
    "clayer_sizes = [8,2]\n",
    "\n",
    "step_size = 0.2\n",
    "num_epochs = 30\n",
    "\n",
    "n_layers = 2\n",
    "n_qubits = 4\n",
    "\n",
    "\n",
    "conv_out_shape = get_out_shape(input_dims, kernel_size, strides, padding)\n",
    "num_pixels = np.prod(conv_out_shape[:-1])*n_qubits\n",
    "qlayer_sizes = [np.prod(kernel_size), n_layers*n_qubits*3]\n",
    "clayer_sizes = [num_pixels] + clayer_sizes\n",
    "\n",
    "params = init_network_params(qlayer_sizes, random.PRNGKey(0))\n",
    "params += init_network_params(clayer_sizes, random.PRNGKey(0))"
   ]
  },
  {
   "cell_type": "code",
   "execution_count": 441,
   "id": "5b368d89",
   "metadata": {
    "ExecuteTime": {
     "end_time": "2022-08-16T09:20:40.418203Z",
     "start_time": "2022-08-16T09:20:40.319953Z"
    }
   },
   "outputs": [
    {
     "name": "stdout",
     "output_type": "stream",
     "text": [
      "(24, 9) (24,)\n",
      "(8, 144) (8,)\n",
      "(2, 8) (2,)\n"
     ]
    }
   ],
   "source": [
    "for i in params:\n",
    "    print(i[0].shape, i[1].shape)"
   ]
  },
  {
   "cell_type": "markdown",
   "id": "0cc04079",
   "metadata": {},
   "source": [
    "## QLayers"
   ]
  },
  {
   "cell_type": "code",
   "execution_count": 442,
   "id": "b5a64b72",
   "metadata": {
    "ExecuteTime": {
     "end_time": "2022-08-16T09:20:40.806050Z",
     "start_time": "2022-08-16T09:20:40.686861Z"
    }
   },
   "outputs": [],
   "source": [
    "dev = qml.device('default.qubit.jax', wires=n_qubits)\n",
    "qubits =list(range(n_qubits))\n",
    "\n",
    "@jax.jit\n",
    "@qml.qnode(dev, interface='jax')\n",
    "def circuit(inputs, w, b):\n",
    "    z = jnp.dot(inputs, jnp.transpose(w)) + b\n",
    "    z = jnp.tanh(z)*jnp.pi/2\n",
    "    z = jnp.reshape(z, (n_layers, n_qubits, 3, -1))\n",
    "    \n",
    "    for q in qubits:\n",
    "        qml.Hadamard(wires=q)\n",
    "    \n",
    "    for l in range(n_layers):\n",
    "        for q in qubits:\n",
    "            qml.Rot(z[l,q,0], z[l,q,1], z[l,q,2], wires= q)\n",
    "        if (l & 1):\n",
    "            for q0, q1 in zip(qubits[1::2], qubits[2::2] + [qubits[0]]):\n",
    "                qml.CZ((q0,q1))\n",
    "        else:\n",
    "            for q0, q1 in zip(qubits[0::2], qubits[1::2]):\n",
    "                qml.CZ((q0,q1))\n",
    "   \n",
    "    return [qml.expval(qml.PauliX(q)@qml.PauliY(q)@qml.PauliZ(q)) for q in qubits]"
   ]
  },
  {
   "cell_type": "code",
   "execution_count": 443,
   "id": "94ff6d15",
   "metadata": {
    "ExecuteTime": {
     "end_time": "2022-08-16T09:20:40.928433Z",
     "start_time": "2022-08-16T09:20:40.855060Z"
    }
   },
   "outputs": [],
   "source": [
    "def qconv(x, w, b):\n",
    "    x = jnp.expand_dims(x,axis=0)\n",
    "        \n",
    "    dn = jax.lax.conv_dimension_numbers(x.shape, \n",
    "                                        (1,1,kernel_size[0],kernel_size[1]), \n",
    "                                        ('NHWC', 'IOHW', 'NHWC'))\n",
    "    x = jax.lax.conv_general_dilated_patches(lhs = x,\n",
    "                                               filter_shape= kernel_size,\n",
    "                                               window_strides=strides,\n",
    "                                               padding=padding,\n",
    "                                               dimension_numbers=dn \n",
    "                                              )\n",
    "    iters = x.shape[1:3]\n",
    "    x = jnp.reshape(x, (-1, np.prod(kernel_size)))\n",
    "    x = circuit(x, w, b)\n",
    "    x = jnp.reshape(x, iters + (n_qubits,))\n",
    "    return x"
   ]
  },
  {
   "cell_type": "code",
   "execution_count": 444,
   "id": "d0ff8700",
   "metadata": {
    "ExecuteTime": {
     "end_time": "2022-08-16T09:20:41.255828Z",
     "start_time": "2022-08-16T09:20:41.082042Z"
    }
   },
   "outputs": [
    {
     "name": "stdout",
     "output_type": "stream",
     "text": [
      "0: ──H──Rot─╭●──Rot────╭Z─┤  <X@Y@Z>\n",
      "1: ──H──Rot─╰Z──Rot─╭●─│──┤  <X@Y@Z>\n",
      "2: ──H──Rot─╭●──Rot─╰Z─│──┤  <X@Y@Z>\n",
      "3: ──H──Rot─╰Z──Rot────╰●─┤  <X@Y@Z>\n"
     ]
    }
   ],
   "source": [
    "dev = qml.device(\"default.qubit\", wires=n_qubits)\n",
    "qnode = qml.QNode(circuit, dev)\n",
    "\n",
    "inputs = np.random.uniform(size = (np.prod(kernel_size),))\n",
    "w,b  = params[0]\n",
    "drawer = qml.draw(qnode, expansion_strategy=\"device\")\n",
    "print(drawer(inputs,w,b))"
   ]
  },
  {
   "cell_type": "markdown",
   "id": "0eb80645",
   "metadata": {},
   "source": [
    "## Auto-Batching Predictions"
   ]
  },
  {
   "cell_type": "code",
   "execution_count": 445,
   "id": "93945a8f",
   "metadata": {
    "ExecuteTime": {
     "end_time": "2022-08-16T09:20:41.557349Z",
     "start_time": "2022-08-16T09:20:41.429074Z"
    }
   },
   "outputs": [],
   "source": [
    "from jax.scipy.special import logsumexp\n",
    "\n",
    "def relu(x):\n",
    "    return jnp.maximum(0, x)\n",
    "\n",
    "def forward(params, image):\n",
    "  # per-example predictions\n",
    "\n",
    "    qw, qb = params[0]\n",
    "    activations = qconv(image, qw, qb)\n",
    "    activations = jnp.reshape(activations, (-1))\n",
    "    \n",
    "    for w, b in params[1:-1]:\n",
    "        outputs = jnp.dot(w, activations) + b\n",
    "        activations = relu(outputs)\n",
    "    final_w, final_b = params[-1]\n",
    "    logits = jnp.dot(final_w, activations) + final_b\n",
    "    return logits - logsumexp(logits)"
   ]
  },
  {
   "cell_type": "code",
   "execution_count": 446,
   "id": "fbdb84a8",
   "metadata": {
    "ExecuteTime": {
     "end_time": "2022-08-16T09:20:53.964520Z",
     "start_time": "2022-08-16T09:20:41.925957Z"
    }
   },
   "outputs": [
    {
     "name": "stdout",
     "output_type": "stream",
     "text": [
      "[-0.71354556 -0.6731566 ]\n"
     ]
    }
   ],
   "source": [
    "# This works on single examples\n",
    "random_flattened_image = random.normal(random.PRNGKey(1), input_dims)\n",
    "preds = forward(params,  random_flattened_image)\n",
    "print(preds)"
   ]
  },
  {
   "cell_type": "code",
   "execution_count": 447,
   "id": "931e2120",
   "metadata": {
    "ExecuteTime": {
     "end_time": "2022-08-16T09:20:54.052769Z",
     "start_time": "2022-08-16T09:20:53.979395Z"
    }
   },
   "outputs": [],
   "source": [
    "# Doesn't work with a batch\n",
    "random_flattened_images = random.normal(random.PRNGKey(1), (2,)+ input_dims)\n",
    "# try:\n",
    "#     preds = predict(params, random_flattened_images)\n",
    "# except TypeError:\n",
    "#     print('Invalid shapes!')"
   ]
  },
  {
   "cell_type": "code",
   "execution_count": 448,
   "id": "9fa9ea5f",
   "metadata": {
    "ExecuteTime": {
     "end_time": "2022-08-16T09:21:08.317594Z",
     "start_time": "2022-08-16T09:20:54.055643Z"
    }
   },
   "outputs": [
    {
     "name": "stdout",
     "output_type": "stream",
     "text": [
      "[[-0.7196192 -0.6673578]\n",
      " [-0.7208551 -0.6661863]]\n"
     ]
    }
   ],
   "source": [
    "# Let's upgrade it to handle batches using `vmap`\n",
    "\n",
    "# Make a batched version of the `predict` function\n",
    "batched_forward = vmap(forward, in_axes=(None,0))\n",
    "\n",
    "# `batched_predict` has the same call signature as `predict`\n",
    "batched_preds = batched_forward(params, random_flattened_images)\n",
    "print(batched_preds)"
   ]
  },
  {
   "cell_type": "markdown",
   "id": "d696d399",
   "metadata": {},
   "source": [
    "## Utility and loss functions"
   ]
  },
  {
   "cell_type": "code",
   "execution_count": 449,
   "id": "fc48796a",
   "metadata": {
    "ExecuteTime": {
     "end_time": "2022-08-16T09:21:08.404005Z",
     "start_time": "2022-08-16T09:21:08.324914Z"
    }
   },
   "outputs": [],
   "source": [
    "def accuracy(y_true, y_pred):\n",
    "    target_class = jnp.argmax(y_true, axis=1)\n",
    "    predicted_class = jnp.argmax(y_pred, axis=1)\n",
    "    return jnp.mean(predicted_class == target_class)\n",
    "\n",
    "\n",
    "def loss_fn(params, images, targets):\n",
    "    preds = batched_forward(params, images)\n",
    "    loss_value = jnp.mean(optax.softmax_cross_entropy(logits=preds, labels=targets))\n",
    "    return loss_value, preds\n",
    "\n",
    "@jit\n",
    "def update(opt_state, params, x, y):\n",
    "    (loss_value, preds), grads = jax.value_and_grad(loss_fn, has_aux=True)(params, x, y)\n",
    "    updates, opt_state = optimizer.update(grads, opt_state)\n",
    "    params = optax.apply_updates(params, updates)\n",
    "    return params, opt_state\n",
    "\n",
    "\n",
    "def step(params,x,y):\n",
    "    loss_value, preds = loss_fn(params, x, y)\n",
    "    acc = accuracy(y, preds)\n",
    "    return loss, acc\n",
    "\n",
    "def evaluate(params, ds):\n",
    "    res = jnp.array([step(params, x,y)  for x,y in tfds.as_numpy(ds)])\n",
    "    avg_loss = jnp.mean(res[:,0])\n",
    "    avg_acc = jnp.mean(res[:,1])\n",
    "    return avg_loss, avg_acc"
   ]
  },
  {
   "cell_type": "markdown",
   "id": "63afa04b",
   "metadata": {},
   "source": [
    "## Training loop"
   ]
  },
  {
   "cell_type": "code",
   "execution_count": 452,
   "id": "d764895d",
   "metadata": {
    "ExecuteTime": {
     "end_time": "2022-08-16T09:23:38.274535Z",
     "start_time": "2022-08-16T09:23:38.153819Z"
    }
   },
   "outputs": [],
   "source": [
    "schedule_fn = optax.cosine_onecycle_schedule(transition_steps=100,\n",
    "                                            peak_value=step_size,\n",
    "                                            div_factor=5,\n",
    "                                            )\n",
    "# Defining an optimizer in Jax\n",
    "optimizer = optax.adam(learning_rate=0.2)\n",
    "opt_state = optimizer.init(params)"
   ]
  },
  {
   "cell_type": "code",
   "execution_count": null,
   "id": "fb4f365f",
   "metadata": {
    "ExecuteTime": {
     "start_time": "2022-08-16T09:23:39.277Z"
    },
    "scrolled": true
   },
   "outputs": [
    {
     "name": "stderr",
     "output_type": "stream",
     "text": [
      "Epoch 0: 100%|████████████████████████████████████████████████████████████████████| 57/57 [00:48<00:00,  1.18batch/s]\n",
      "Epoch 1:  23%|███████████████▎                                                   | 13/57 [00:00<00:00, 119.89batch/s]"
     ]
    },
    {
     "name": "stdout",
     "output_type": "stream",
     "text": [
      "loss: 0.669510006904602 - acc: 0.499862939119339 - val_loss: 0.6695100665092468 - val_acc: 0.5078125\n"
     ]
    },
    {
     "name": "stderr",
     "output_type": "stream",
     "text": [
      "Epoch 1: 100%|███████████████████████████████████████████████████████████████████| 57/57 [00:00<00:00, 130.40batch/s]\n",
      "Epoch 2:  23%|███████████████▎                                                   | 13/57 [00:00<00:00, 120.48batch/s]"
     ]
    },
    {
     "name": "stdout",
     "output_type": "stream",
     "text": [
      "loss: 0.669510006904602 - acc: 0.49958881735801697 - val_loss: 0.6695100665092468 - val_acc: 0.499479204416275\n"
     ]
    },
    {
     "name": "stderr",
     "output_type": "stream",
     "text": [
      "Epoch 2: 100%|███████████████████████████████████████████████████████████████████| 57/57 [00:00<00:00, 133.17batch/s]\n",
      "Epoch 3:  21%|██████████████                                                     | 12/57 [00:00<00:00, 116.83batch/s]"
     ]
    },
    {
     "name": "stdout",
     "output_type": "stream",
     "text": [
      "loss: 0.669510006904602 - acc: 0.499725878238678 - val_loss: 0.6695100665092468 - val_acc: 0.5\n"
     ]
    },
    {
     "name": "stderr",
     "output_type": "stream",
     "text": [
      "Epoch 3: 100%|███████████████████████████████████████████████████████████████████| 57/57 [00:00<00:00, 132.54batch/s]\n",
      "Epoch 4:  19%|████████████▉                                                      | 11/57 [00:00<00:00, 105.03batch/s]"
     ]
    },
    {
     "name": "stdout",
     "output_type": "stream",
     "text": [
      "loss: 0.669510006904602 - acc: 0.5004112124443054 - val_loss: 0.6695100665092468 - val_acc: 0.49270835518836975\n"
     ]
    },
    {
     "name": "stderr",
     "output_type": "stream",
     "text": [
      "Epoch 4: 100%|███████████████████████████████████████████████████████████████████| 57/57 [00:00<00:00, 119.19batch/s]\n",
      "Epoch 5:  21%|██████████████                                                     | 12/57 [00:00<00:00, 113.90batch/s]"
     ]
    },
    {
     "name": "stdout",
     "output_type": "stream",
     "text": [
      "loss: 0.669510006904602 - acc: 0.5008223652839661 - val_loss: 0.6695100665092468 - val_acc: 0.5\n"
     ]
    },
    {
     "name": "stderr",
     "output_type": "stream",
     "text": [
      "Epoch 5: 100%|███████████████████████████████████████████████████████████████████| 57/57 [00:00<00:00, 127.10batch/s]\n",
      "Epoch 6:  21%|██████████████                                                     | 12/57 [00:00<00:00, 113.87batch/s]"
     ]
    },
    {
     "name": "stdout",
     "output_type": "stream",
     "text": [
      "loss: 0.669510006904602 - acc: 0.5 - val_loss: 0.6695100665092468 - val_acc: 0.4921875298023224\n"
     ]
    },
    {
     "name": "stderr",
     "output_type": "stream",
     "text": [
      "Epoch 6: 100%|███████████████████████████████████████████████████████████████████| 57/57 [00:00<00:00, 114.90batch/s]\n",
      "Epoch 7:  23%|███████████████▎                                                   | 13/57 [00:00<00:00, 127.54batch/s]"
     ]
    },
    {
     "name": "stdout",
     "output_type": "stream",
     "text": [
      "loss: 0.669510006904602 - acc: 0.4987664520740509 - val_loss: 0.6695100665092468 - val_acc: 0.5\n"
     ]
    },
    {
     "name": "stderr",
     "output_type": "stream",
     "text": [
      "Epoch 7: 100%|███████████████████████████████████████████████████████████████████| 57/57 [00:00<00:00, 138.83batch/s]\n",
      "Epoch 8:  23%|███████████████▎                                                   | 13/57 [00:00<00:00, 127.30batch/s]"
     ]
    },
    {
     "name": "stdout",
     "output_type": "stream",
     "text": [
      "loss: 0.669510006904602 - acc: 0.49958881735801697 - val_loss: 0.6695100665092468 - val_acc: 0.5234375\n"
     ]
    },
    {
     "name": "stderr",
     "output_type": "stream",
     "text": [
      "Epoch 8: 100%|███████████████████████████████████████████████████████████████████| 57/57 [00:00<00:00, 128.14batch/s]\n",
      "Epoch 9:  23%|███████████████▎                                                   | 13/57 [00:00<00:00, 126.17batch/s]"
     ]
    },
    {
     "name": "stdout",
     "output_type": "stream",
     "text": [
      "loss: 0.669510006904602 - acc: 0.5004112124443054 - val_loss: 0.6695100665092468 - val_acc: 0.4843750298023224\n"
     ]
    },
    {
     "name": "stderr",
     "output_type": "stream",
     "text": [
      "Epoch 9: 100%|████████████████████████████████████████████████████████████████████| 57/57 [00:00<00:00, 90.18batch/s]\n",
      "Epoch 10:  23%|███████████████                                                   | 13/57 [00:00<00:00, 126.67batch/s]"
     ]
    },
    {
     "name": "stdout",
     "output_type": "stream",
     "text": [
      "loss: 0.669510006904602 - acc: 0.49958881735801697 - val_loss: 0.6695100665092468 - val_acc: 0.5078125\n"
     ]
    },
    {
     "name": "stderr",
     "output_type": "stream",
     "text": [
      "Epoch 10: 100%|██████████████████████████████████████████████████████████████████| 57/57 [00:00<00:00, 140.93batch/s]\n"
     ]
    }
   ],
   "source": [
    "import time\n",
    "num_epochs = 20\n",
    "\n",
    "for epoch in range(num_epochs):\n",
    "    start_time = time.time()\n",
    "    with tqdm(tfds.as_numpy(data.train_ds), unit=\"batch\") as tepoch:\n",
    "        for x, y in tepoch:\n",
    "            tepoch.set_description(f\"Epoch {epoch}\")\n",
    "            params, opt_state = update(opt_state, params, x, y)\n",
    "        \n",
    "        epoch_time = time.time() - start_time\n",
    "        \n",
    "        train_loss, train_acc = evaluate(params, data.train_ds)\n",
    "        val_loss, val_acc = evaluate(params, data.val_ds)\n",
    "        print('loss: {} - acc: {} - val_loss: {} - val_acc: {}'.format(train_loss,train_acc, val_loss, val_acc))\n",
    "    \n",
    "    if args.wandb:\n",
    "        wandb.log({\"accuracy\": train_acc, \"val_accuracy\": test_acc, 'loss':train_loss, 'val_loss':val_loss})\n"
   ]
  },
  {
   "cell_type": "code",
   "execution_count": 415,
   "id": "cfafc1ab",
   "metadata": {
    "ExecuteTime": {
     "end_time": "2022-08-16T09:16:53.132622Z",
     "start_time": "2022-08-16T09:16:37.509396Z"
    }
   },
   "outputs": [
    {
     "data": {
      "text/plain": [
       "(DeviceArray(0.66951007, dtype=float32),\n",
       " DeviceArray(0.48069412, dtype=float32))"
      ]
     },
     "execution_count": 415,
     "metadata": {},
     "output_type": "execute_result"
    }
   ],
   "source": [
    "evaluate(params, data.test_ds)"
   ]
  },
  {
   "cell_type": "code",
   "execution_count": 55,
   "id": "d256c76d",
   "metadata": {
    "ExecuteTime": {
     "end_time": "2022-08-15T14:04:14.232539Z",
     "start_time": "2022-08-15T14:04:00.481779Z"
    }
   },
   "outputs": [
    {
     "data": {
      "text/html": [
       "Waiting for W&B process to finish... <strong style=\"color:green\">(success).</strong>"
      ],
      "text/plain": [
       "<IPython.core.display.HTML object>"
      ]
     },
     "metadata": {},
     "output_type": "display_data"
    },
    {
     "data": {
      "application/vnd.jupyter.widget-view+json": {
       "model_id": "",
       "version_major": 2,
       "version_minor": 0
      },
      "text/plain": [
       "VBox(children=(Label(value='0.001 MB of 0.001 MB uploaded (0.000 MB deduped)\\r'), FloatProgress(value=1.0, max…"
      ]
     },
     "metadata": {},
     "output_type": "display_data"
    },
    {
     "data": {
      "text/html": [
       "<style>\n",
       "    table.wandb td:nth-child(1) { padding: 0 10px; text-align: left ; width: auto;} td:nth-child(2) {text-align: left ; width: 100%}\n",
       "    .wandb-row { display: flex; flex-direction: row; flex-wrap: wrap; justify-content: flex-start; width: 100% }\n",
       "    .wandb-col { display: flex; flex-direction: column; flex-basis: 100%; flex: 1; padding: 10px; }\n",
       "    </style>\n",
       "<div class=\"wandb-row\"><div class=\"wandb-col\"><h3>Run history:</h3><br/><table class=\"wandb\"><tr><td>accuracy</td><td>▆██████▇█████▁███▅▅█</td></tr><tr><td>val_accuracy</td><td>▆██████▇█████▁███▅▅█</td></tr></table><br/></div><div class=\"wandb-col\"><h3>Run summary:</h3><br/><table class=\"wandb\"><tr><td>accuracy</td><td>0.9544</td></tr><tr><td>val_accuracy</td><td>0.9546</td></tr></table><br/></div></div>"
      ],
      "text/plain": [
       "<IPython.core.display.HTML object>"
      ]
     },
     "metadata": {},
     "output_type": "display_data"
    },
    {
     "data": {
      "text/html": [
       "Synced <strong style=\"color:#cdcd00\">chocolate-breeze-247</strong>: <a href=\"https://wandb.ai/gopald/qml-hep-lhc/runs/3k5v6fdn\" target=\"_blank\">https://wandb.ai/gopald/qml-hep-lhc/runs/3k5v6fdn</a><br/>Synced 5 W&B file(s), 0 media file(s), 0 artifact file(s) and 0 other file(s)"
      ],
      "text/plain": [
       "<IPython.core.display.HTML object>"
      ]
     },
     "metadata": {},
     "output_type": "display_data"
    },
    {
     "data": {
      "text/html": [
       "Find logs at: <code>./wandb/run-20220815_190542-3k5v6fdn/logs</code>"
      ],
      "text/plain": [
       "<IPython.core.display.HTML object>"
      ]
     },
     "metadata": {},
     "output_type": "display_data"
    }
   ],
   "source": [
    "if args.wandb:\n",
    "    wandb.finish()"
   ]
  },
  {
   "cell_type": "code",
   "execution_count": 439,
   "id": "73266b5e",
   "metadata": {
    "ExecuteTime": {
     "end_time": "2022-08-16T09:19:45.635228Z",
     "start_time": "2022-08-16T09:19:43.781254Z"
    }
   },
   "outputs": [
    {
     "name": "stdout",
     "output_type": "stream",
     "text": [
      "0 0.03999999\n",
      "1 0.04043825\n",
      "2 0.04174818\n",
      "3 0.04391548\n",
      "4 0.046916366\n",
      "5 0.05071795\n",
      "6 0.05527863\n",
      "7 0.06054841\n",
      "8 0.06646955\n",
      "9 0.07297717\n",
      "10 0.07999999\n",
      "11 0.08746106\n",
      "12 0.095278636\n",
      "13 0.10336706\n",
      "14 0.11163772\n",
      "15 0.12\n",
      "16 0.12836227\n",
      "17 0.13663292\n",
      "18 0.14472136\n",
      "19 0.15253893\n",
      "20 0.16\n",
      "21 0.1670228\n",
      "22 0.17353044\n",
      "23 0.17945157\n",
      "24 0.18472135\n",
      "25 0.18928201\n",
      "26 0.19308363\n",
      "27 0.1960845\n",
      "28 0.1982518\n",
      "29 0.19956174\n",
      "30 0.19999999\n",
      "31 0.1998993\n",
      "32 0.19959743\n",
      "33 0.19909498\n",
      "34 0.19839299\n",
      "35 0.19749282\n",
      "36 0.19639634\n",
      "37 0.19510573\n",
      "38 0.19362362\n",
      "39 0.19195293\n",
      "40 0.19009706\n",
      "41 0.18805978\n",
      "42 0.18584515\n",
      "43 0.18345764\n",
      "44 0.18090206\n",
      "45 0.17818357\n",
      "46 0.17530763\n",
      "47 0.17228001\n",
      "48 0.16910687\n",
      "49 0.16579455\n",
      "50 0.16234972\n",
      "51 0.15877934\n",
      "52 0.15509057\n",
      "53 0.15129088\n",
      "54 0.1473879\n",
      "55 0.1433895\n",
      "56 0.13930371\n",
      "57 0.13513878\n",
      "58 0.13090307\n",
      "59 0.12660514\n",
      "60 0.122253634\n",
      "61 0.11785732\n",
      "62 0.11342505\n",
      "63 0.10896575\n",
      "64 0.10448839\n",
      "65 0.10000199\n",
      "66 0.09551559\n",
      "67 0.09103824\n",
      "68 0.08657893\n",
      "69 0.08214667\n",
      "70 0.07775034\n",
      "71 0.07339884\n",
      "72 0.0691009\n",
      "73 0.06486522\n",
      "74 0.060700275\n",
      "75 0.05661448\n",
      "76 0.052616075\n",
      "77 0.048713084\n",
      "78 0.04491339\n",
      "79 0.04122466\n",
      "80 0.03765425\n",
      "81 0.034209445\n",
      "82 0.030897118\n",
      "83 0.027723955\n",
      "84 0.024696356\n",
      "85 0.021820411\n",
      "86 0.01910191\n",
      "87 0.016546335\n",
      "88 0.01415883\n",
      "89 0.011944205\n",
      "90 0.00990691\n",
      "91 0.008051062\n",
      "92 0.0063803773\n",
      "93 0.004898254\n",
      "94 0.0036076426\n",
      "95 0.0025111595\n",
      "96 0.0016110104\n",
      "97 0.00090900686\n",
      "98 0.0004065617\n",
      "99 0.00010468811\n",
      "100 3.9999995e-06\n",
      "101 3.9999995e-06\n",
      "102 3.9999995e-06\n",
      "103 3.9999995e-06\n",
      "104 3.9999995e-06\n",
      "105 3.9999995e-06\n",
      "106 3.9999995e-06\n",
      "107 3.9999995e-06\n",
      "108 3.9999995e-06\n",
      "109 3.9999995e-06\n",
      "110 3.9999995e-06\n",
      "111 3.9999995e-06\n",
      "112 3.9999995e-06\n",
      "113 3.9999995e-06\n",
      "114 3.9999995e-06\n",
      "115 3.9999995e-06\n",
      "116 3.9999995e-06\n",
      "117 3.9999995e-06\n",
      "118 3.9999995e-06\n",
      "119 3.9999995e-06\n",
      "120 3.9999995e-06\n",
      "121 3.9999995e-06\n",
      "122 3.9999995e-06\n",
      "123 3.9999995e-06\n",
      "124 3.9999995e-06\n",
      "125 3.9999995e-06\n",
      "126 3.9999995e-06\n",
      "127 3.9999995e-06\n",
      "128 3.9999995e-06\n",
      "129 3.9999995e-06\n",
      "130 3.9999995e-06\n",
      "131 3.9999995e-06\n",
      "132 3.9999995e-06\n",
      "133 3.9999995e-06\n",
      "134 3.9999995e-06\n",
      "135 3.9999995e-06\n",
      "136 3.9999995e-06\n",
      "137 3.9999995e-06\n",
      "138 3.9999995e-06\n",
      "139 3.9999995e-06\n",
      "140 3.9999995e-06\n",
      "141 3.9999995e-06\n",
      "142 3.9999995e-06\n",
      "143 3.9999995e-06\n",
      "144 3.9999995e-06\n",
      "145 3.9999995e-06\n",
      "146 3.9999995e-06\n",
      "147 3.9999995e-06\n",
      "148 3.9999995e-06\n",
      "149 3.9999995e-06\n",
      "150 3.9999995e-06\n",
      "151 3.9999995e-06\n",
      "152 3.9999995e-06\n",
      "153 3.9999995e-06\n",
      "154 3.9999995e-06\n",
      "155 3.9999995e-06\n",
      "156 3.9999995e-06\n",
      "157 3.9999995e-06\n",
      "158 3.9999995e-06\n",
      "159 3.9999995e-06\n",
      "160 3.9999995e-06\n",
      "161 3.9999995e-06\n",
      "162 3.9999995e-06\n",
      "163 3.9999995e-06\n",
      "164 3.9999995e-06\n",
      "165 3.9999995e-06\n",
      "166 3.9999995e-06\n",
      "167 3.9999995e-06\n",
      "168 3.9999995e-06\n",
      "169 3.9999995e-06\n",
      "170 3.9999995e-06\n",
      "171 3.9999995e-06\n",
      "172 3.9999995e-06\n",
      "173 3.9999995e-06\n",
      "174 3.9999995e-06\n",
      "175 3.9999995e-06\n",
      "176 3.9999995e-06\n",
      "177 3.9999995e-06\n",
      "178 3.9999995e-06\n",
      "179 3.9999995e-06\n",
      "180 3.9999995e-06\n",
      "181 3.9999995e-06\n",
      "182 3.9999995e-06\n",
      "183 3.9999995e-06\n",
      "184 3.9999995e-06\n",
      "185 3.9999995e-06\n",
      "186 3.9999995e-06\n",
      "187 3.9999995e-06\n",
      "188 3.9999995e-06\n",
      "189 3.9999995e-06\n",
      "190 3.9999995e-06\n",
      "191 3.9999995e-06\n",
      "192 3.9999995e-06\n",
      "193 3.9999995e-06\n",
      "194 3.9999995e-06\n",
      "195 3.9999995e-06\n",
      "196 3.9999995e-06\n",
      "197 3.9999995e-06\n",
      "198 3.9999995e-06\n",
      "199 3.9999995e-06\n"
     ]
    }
   ],
   "source": [
    "for i in range(200):\n",
    "    print(i, schedule_fn(i))"
   ]
  },
  {
   "cell_type": "code",
   "execution_count": null,
   "id": "688ea743",
   "metadata": {},
   "outputs": [],
   "source": []
  }
 ],
 "metadata": {
  "kernelspec": {
   "display_name": "Python (qenv)",
   "language": "python",
   "name": "qenv"
  },
  "language_info": {
   "codemirror_mode": {
    "name": "ipython",
    "version": 3
   },
   "file_extension": ".py",
   "mimetype": "text/x-python",
   "name": "python",
   "nbconvert_exporter": "python",
   "pygments_lexer": "ipython3",
   "version": "3.7.13"
  },
  "latex_envs": {
   "LaTeX_envs_menu_present": true,
   "autoclose": false,
   "autocomplete": true,
   "bibliofile": "biblio.bib",
   "cite_by": "apalike",
   "current_citInitial": 1,
   "eqLabelWithNumbers": true,
   "eqNumInitial": 1,
   "hotkeys": {
    "equation": "Ctrl-E",
    "itemize": "Ctrl-I"
   },
   "labels_anchors": false,
   "latex_user_defs": false,
   "report_style_numbering": false,
   "user_envs_cfg": false
  },
  "toc": {
   "base_numbering": 1,
   "nav_menu": {},
   "number_sections": true,
   "sideBar": true,
   "skip_h1_title": false,
   "title_cell": "Table of Contents",
   "title_sidebar": "Contents",
   "toc_cell": false,
   "toc_position": {},
   "toc_section_display": true,
   "toc_window_display": false
  }
 },
 "nbformat": 4,
 "nbformat_minor": 5
}
