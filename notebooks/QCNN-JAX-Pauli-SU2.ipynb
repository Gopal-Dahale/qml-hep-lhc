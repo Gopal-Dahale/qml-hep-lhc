{
 "cells": [
  {
   "cell_type": "code",
   "execution_count": 1,
   "id": "d28a72a2",
   "metadata": {
    "ExecuteTime": {
     "end_time": "2022-08-21T05:18:23.885682Z",
     "start_time": "2022-08-21T05:18:22.651972Z"
    }
   },
   "outputs": [],
   "source": [
    "%load_ext autoreload\n",
    "%autoreload 2\n",
    "\n",
    "%matplotlib inline\n",
    "\n",
    "from importlib.util import find_spec\n",
    "if find_spec(\"qml_hep_lhc\") is None:\n",
    "    import sys\n",
    "    sys.path.append('..')"
   ]
  },
  {
   "cell_type": "code",
   "execution_count": 199,
   "id": "7a7a9c90",
   "metadata": {
    "ExecuteTime": {
     "end_time": "2022-08-21T07:28:47.662039Z",
     "start_time": "2022-08-21T07:28:47.560046Z"
    }
   },
   "outputs": [],
   "source": [
    "from qml_hep_lhc.data import ElectronPhoton, MNIST, QuarkGluon\n",
    "from qml_hep_lhc.data.utils import tf_ds_to_numpy\n",
    "import argparse\n",
    "import wandb\n",
    "\n",
    "import pennylane as qml\n",
    "import jax.numpy as jnp\n",
    "import jax\n",
    "import optax\n",
    "from jax.nn.initializers import he_uniform\n",
    "from jax import grad, jit, vmap\n",
    "from jax import random\n",
    "import tensorflow_datasets as tfds\n",
    "from tqdm import tqdm\n",
    "import numpy as np\n",
    "import tensorflow as tf\n",
    "\n",
    "# Added to silence some warnings.\n",
    "# from jax.config import config\n",
    "# config.update(\"jax_enable_x64\", True)\n",
    "\n",
    "from qiskit.circuit.library import EfficientSU2, PauliFeatureMap\n",
    "from qiskit import QuantumCircuit\n",
    "from qiskit.circuit import ParameterVector, Parameter\n",
    "\n",
    "import matplotlib.pyplot as plt\n",
    "import time"
   ]
  },
  {
   "cell_type": "code",
   "execution_count": 8,
   "id": "53cce28d",
   "metadata": {
    "ExecuteTime": {
     "end_time": "2022-08-21T05:37:54.996923Z",
     "start_time": "2022-08-21T05:37:54.901691Z"
    }
   },
   "outputs": [
    {
     "data": {
      "text/plain": [
       "[CpuDevice(id=0)]"
      ]
     },
     "execution_count": 8,
     "metadata": {},
     "output_type": "execute_result"
    }
   ],
   "source": [
    "jax.devices()"
   ]
  },
  {
   "cell_type": "code",
   "execution_count": 316,
   "id": "7a7944e9",
   "metadata": {
    "ExecuteTime": {
     "end_time": "2022-08-21T08:02:45.779033Z",
     "start_time": "2022-08-21T08:02:45.680042Z"
    }
   },
   "outputs": [],
   "source": [
    "args = argparse.Namespace()\n",
    "\n",
    "# Data\n",
    "args.center_crop = 0.2\n",
    "# args.resize = [8,8]\n",
    "args.standardize = 1\n",
    "# args.power_transform = 1\n",
    "# args.binary_data = [3,6]\n",
    "# args.percent_samples = 0.01\n",
    "# args.processed = 1\n",
    "args.dataset_type = '1'\n",
    "args.labels_to_categorical = 1\n",
    "args.batch_size = 128\n",
    "args.validation_split = 0.1\n",
    "\n",
    "# Base Model\n",
    "args.wandb = False\n",
    "args.epochs = 10\n",
    "args.learning_rate = 0.005\n",
    "\n",
    "# Quantum CNN Parameters\n",
    "args.n_layers = 1\n",
    "args.n_elayers = 1\n",
    "args.n_qubits = 9\n",
    "args.template = 'NQubitPQCSparse'\n",
    "args.initializer = 'he_uniform'\n",
    "\n",
    "args.kernel_size = (3,3)\n",
    "args.strides = (1,1)\n",
    "args.padding = \"SAME\"\n",
    "\n",
    "args.clayer_sizes = [8, 2]"
   ]
  },
  {
   "cell_type": "code",
   "execution_count": 317,
   "id": "d347947e",
   "metadata": {
    "ExecuteTime": {
     "end_time": "2022-08-21T08:02:46.087211Z",
     "start_time": "2022-08-21T08:02:45.990487Z"
    }
   },
   "outputs": [],
   "source": [
    "if args.wandb:\n",
    "     wandb.init(project='qml-hep-lhc', config = vars(args))"
   ]
  },
  {
   "cell_type": "code",
   "execution_count": 318,
   "id": "ce4dec05",
   "metadata": {
    "ExecuteTime": {
     "end_time": "2022-08-21T08:02:48.770643Z",
     "start_time": "2022-08-21T08:02:46.286773Z"
    }
   },
   "outputs": [
    {
     "name": "stdout",
     "output_type": "stream",
     "text": [
      "Center cropping...\n",
      "Center cropping...\n",
      "Standardizing data...\n",
      "Converting labels to categorical...\n",
      "Converting labels to categorical...\n",
      "\n",
      "Dataset :Electron Photon 1\n",
      "╒════════╤═════════════════╤════════════════╤═════════════════╤═══════════╕\n",
      "│ Data   │ Train size      │ Val size       │ Test size       │ Dims      │\n",
      "╞════════╪═════════════════╪════════════════╪═════════════════╪═══════════╡\n",
      "│ X      │ (8100, 8, 8, 1) │ (900, 8, 8, 1) │ (1000, 8, 8, 1) │ (8, 8, 1) │\n",
      "├────────┼─────────────────┼────────────────┼─────────────────┼───────────┤\n",
      "│ y      │ (8100, 2)       │ (900, 2)       │ (1000, 2)       │ (2,)      │\n",
      "╘════════╧═════════════════╧════════════════╧═════════════════╧═══════════╛\n",
      "\n",
      "╒══════════════╤═══════╤═══════╤════════╤═══════╤══════════════════════════╕\n",
      "│ Type         │   Min │   Max │   Mean │   Std │ Samples for each class   │\n",
      "╞══════════════╪═══════╪═══════╪════════╪═══════╪══════════════════════════╡\n",
      "│ Train Images │ -2.88 │ 59.59 │   0    │  1.01 │ [4050, 4050]             │\n",
      "├──────────────┼───────┼───────┼────────┼───────┼──────────────────────────┤\n",
      "│ Val Images   │ -2.82 │ 39.55 │  -0    │  0.87 │ [450, 450]               │\n",
      "├──────────────┼───────┼───────┼────────┼───────┼──────────────────────────┤\n",
      "│ Test Images  │ -2.88 │ 33.47 │  -0.01 │  0.84 │ [500, 500]               │\n",
      "╘══════════════╧═══════╧═══════╧════════╧═══════╧══════════════════════════╛\n",
      "\n",
      "\n"
     ]
    }
   ],
   "source": [
    "data = ElectronPhoton(args)\n",
    "data.prepare_data()\n",
    "data.setup()\n",
    "print(data)"
   ]
  },
  {
   "cell_type": "markdown",
   "id": "74329b45",
   "metadata": {},
   "source": [
    "## Hyperparameters"
   ]
  },
  {
   "cell_type": "code",
   "execution_count": 319,
   "id": "884dcb6e",
   "metadata": {
    "ExecuteTime": {
     "end_time": "2022-08-21T08:02:48.876698Z",
     "start_time": "2022-08-21T08:02:48.777925Z"
    }
   },
   "outputs": [],
   "source": [
    "input_dims = data.config()['input_dims']"
   ]
  },
  {
   "cell_type": "code",
   "execution_count": 320,
   "id": "485ef1fa",
   "metadata": {
    "ExecuteTime": {
     "end_time": "2022-08-21T08:02:48.986930Z",
     "start_time": "2022-08-21T08:02:48.880583Z"
    }
   },
   "outputs": [],
   "source": [
    "def get_out_shape(in_shape, k, s, padding):\n",
    "    in_shape = (1,) + in_shape\n",
    "    a = np.random.uniform(size = (in_shape))\n",
    "    dn = jax.lax.conv_dimension_numbers(a.shape, (1,1,k[0],k[1]), ('NHWC', 'IOHW', 'NHWC'))\n",
    "    out = jax.lax.conv_general_dilated_patches(lhs = a,\n",
    "                                           filter_shape= k,\n",
    "                                           window_strides=s,\n",
    "                                           padding=padding,\n",
    "                                           dimension_numbers=dn \n",
    "                                    )\n",
    "    return out.shape"
   ]
  },
  {
   "cell_type": "code",
   "execution_count": 324,
   "id": "b17ff04e",
   "metadata": {
    "ExecuteTime": {
     "end_time": "2022-08-21T08:02:59.815575Z",
     "start_time": "2022-08-21T08:02:59.702978Z"
    }
   },
   "outputs": [],
   "source": [
    "initializer = he_uniform()\n",
    "\n",
    "# Get qlayer sizes\n",
    "def get_qlayer_sizes(template, n_l, n_q, k_size):\n",
    "    if template == 'NQubitPQCSparse':\n",
    "        return {\n",
    "            'w': (n_qubits, 4),\n",
    "            'b':(n_qubits,1)\n",
    "        }\n",
    "\n",
    "def random_qlayer_params(size, key, scale=1e-1):\n",
    "    return initializer(key, size)\n",
    "    return scale * random.normal(key, size)\n",
    "\n",
    "def init_qnetwork_params(sizes, key):\n",
    "    keys = random.split(key, len(sizes))\n",
    "    return [[random_qlayer_params(size, key) for size, key in zip(sizes.values(), keys)]]\n",
    " \n",
    "\n",
    "# A helper function to randomly initialize weights and biases\n",
    "# for a dense neural network layer\n",
    "def random_clayer_params(m, n, key, scale=1e-1):\n",
    "    w_key, b_key = random.split(key)\n",
    "    return initializer(w_key, (n,m)), random.normal(b_key, (n,))\n",
    "    return scale * random.normal(w_key, (n, m)), scale * random.normal(b_key, (n,))\n",
    "\n",
    "# Initialize all layers for a fully-connected neural network with sizes \"sizes\"\n",
    "def init_network_params(sizes, key):\n",
    "    keys = random.split(key, len(sizes))\n",
    "    return [random_clayer_params(m, n, k) for m, n, k in zip(sizes[:-1], sizes[1:], keys)]\n",
    "\n",
    "kernel_size = args.kernel_size\n",
    "strides = args.strides\n",
    "padding = args.padding\n",
    "clayer_sizes = args.clayer_sizes\n",
    "\n",
    "template = args.template\n",
    "n_layers = args.n_layers\n",
    "n_qubits = args.n_qubits\n",
    "\n",
    "\n",
    "conv_out_shape = get_out_shape(input_dims, kernel_size, strides, padding)\n",
    "num_pixels = np.prod(conv_out_shape[:-1])\n",
    "qlayer_sizes = get_qlayer_sizes(template, n_layers, n_qubits, kernel_size)\n",
    "clayer_sizes = [num_pixels] + clayer_sizes\n",
    "\n",
    "params = []\n",
    "params += init_qnetwork_params(qlayer_sizes, random.PRNGKey(0))\n",
    "# params += init_qnetwork_params(qlayer_sizes, random.PRNGKey(1))\n",
    "params += init_network_params(clayer_sizes, random.PRNGKey(2))"
   ]
  },
  {
   "cell_type": "code",
   "execution_count": 325,
   "id": "5b368d89",
   "metadata": {
    "ExecuteTime": {
     "end_time": "2022-08-21T08:03:00.235846Z",
     "start_time": "2022-08-21T08:03:00.127117Z"
    }
   },
   "outputs": [
    {
     "name": "stdout",
     "output_type": "stream",
     "text": [
      "(9, 4) (9, 1) \n",
      "(8, 64) (8,) \n",
      "(2, 8) (2,) \n"
     ]
    }
   ],
   "source": [
    "for i in params:\n",
    "    for j in i:\n",
    "        print(j.shape, end = ' ')\n",
    "    print()"
   ]
  },
  {
   "cell_type": "markdown",
   "id": "0cc04079",
   "metadata": {},
   "source": [
    "## QLayers"
   ]
  },
  {
   "cell_type": "code",
   "execution_count": 362,
   "id": "b5a64b72",
   "metadata": {
    "ExecuteTime": {
     "end_time": "2022-08-21T08:11:03.165515Z",
     "start_time": "2022-08-21T08:11:03.044392Z"
    }
   },
   "outputs": [],
   "source": [
    "dev = qml.device('default.qubit.jax', wires=n_qubits+1)\n",
    "qubits =list(range(n_qubits))\n",
    "\n",
    "@jax.jit\n",
    "@qml.qnode(dev, interface='jax')\n",
    "def NQubitPQCSparse(inputs, w, b):\n",
    "    inputs = jnp.transpose(inputs)\n",
    "    \n",
    "    # Pauli feature map\n",
    "    for l in range(args.n_elayers):\n",
    "        for i in qubits:\n",
    "            qml.Hadamard(i)\n",
    "            qml.RZ(2*inputs[i,:],wires=i)\n",
    "    \n",
    "    # Efficient SU2\n",
    "    for l in range(n_layers):\n",
    "        for i in qubits:\n",
    "            qml.RY(w[i,0], wires=i)\n",
    "            qml.RZ(w[i,1], wires=i)\n",
    "        \n",
    "        # circular entanglement\n",
    "        for p, q in zip(qubits, qubits[1:]):\n",
    "            qml.CNOT((p,q))\n",
    "        if len(qubits) > 2:\n",
    "            qml.CNOT((qubits[-1], qubits[0]))\n",
    "\n",
    "        for i in qubits:\n",
    "            qml.RY(w[i,2], wires=i)\n",
    "            qml.RZ(w[i,3], wires=i)\n",
    "\n",
    "    # Readout \n",
    "    for i in qubits:\n",
    "        qml.IsingXX(phi=b[i,0], wires = (i,n_qubits))\n",
    "    \n",
    "    return [qml.expval(qml.PauliZ(n_qubits))]"
   ]
  },
  {
   "cell_type": "code",
   "execution_count": 363,
   "id": "4b084fed",
   "metadata": {
    "ExecuteTime": {
     "end_time": "2022-08-21T08:11:03.349087Z",
     "start_time": "2022-08-21T08:11:03.232984Z"
    }
   },
   "outputs": [],
   "source": [
    "def get_node(template):\n",
    "    if template == 'NQubitPQC':\n",
    "        return NQubitPQC\n",
    "    elif template == 'SimpleDRC':\n",
    "        return SimpleDRC\n",
    "    elif template == 'NQubitPQCSparse':\n",
    "        return NQubitPQCSparse"
   ]
  },
  {
   "cell_type": "code",
   "execution_count": 364,
   "id": "94ff6d15",
   "metadata": {
    "ExecuteTime": {
     "end_time": "2022-08-21T08:11:03.662331Z",
     "start_time": "2022-08-21T08:11:03.498095Z"
    }
   },
   "outputs": [],
   "source": [
    "def qconv(x, *qweights):\n",
    "    x = jnp.expand_dims(x,axis=0)\n",
    "    dn = jax.lax.conv_dimension_numbers(x.shape, \n",
    "                                        (1,1,kernel_size[0],kernel_size[1]), \n",
    "                                        ('NHWC', 'IOHW', 'NHWC'))\n",
    "    x = jax.lax.conv_general_dilated_patches(lhs = x,\n",
    "                                               filter_shape= kernel_size,\n",
    "                                               window_strides=strides,\n",
    "                                               padding=padding,\n",
    "                                               dimension_numbers=dn \n",
    "                                              )\n",
    "    iters = x.shape[1:3]\n",
    "    x = jnp.reshape(x, (-1, np.prod(kernel_size)))\n",
    "    \n",
    "    x = get_node(template)(x, *qweights)\n",
    "    x = jnp.reshape(x, iters + (1,))\n",
    "    return x"
   ]
  },
  {
   "cell_type": "code",
   "execution_count": 365,
   "id": "d0ff8700",
   "metadata": {
    "ExecuteTime": {
     "end_time": "2022-08-21T08:11:03.952899Z",
     "start_time": "2022-08-21T08:11:03.721252Z"
    }
   },
   "outputs": [
    {
     "name": "stdout",
     "output_type": "stream",
     "text": [
      "0: ──H──RZ(M7)──RY(-0.48)──RZ(0.25)──╭●──────────────────────╭X──RY(-0.26)──RZ(0.25)─\n",
      "1: ──H──RZ(M5)──RY(0.34)───RZ(-0.29)─╰X─╭●───────────────────│───RY(0.45)───RZ(0.27)─\n",
      "2: ──H──RZ(M8)──RY(-0.56)──RZ(0.45)─────╰X─╭●────────────────│───RY(0.27)───RZ(-0.47)\n",
      "3: ──H──RZ(M1)──RY(-0.61)──RZ(0.45)────────╰X─╭●─────────────│───RY(0.12)───RZ(0.74)─\n",
      "4: ──H──RZ(M3)──RY(0.56)───RZ(0.40)───────────╰X─╭●──────────│───RY(0.03)───RZ(-0.45)\n",
      "5: ──H──RZ(M0)──RY(0.37)───RZ(-0.47)─────────────╰X─╭●───────│───RY(0.41)───RZ(-0.11)\n",
      "6: ──H──RZ(M2)──RY(0.75)───RZ(0.13)─────────────────╰X─╭●────│───RY(0.80)───RZ(-0.74)\n",
      "7: ──H──RZ(M6)──RY(-0.79)──RZ(-0.46)───────────────────╰X─╭●─│───RY(-0.20)──RZ(-0.45)\n",
      "8: ──H──RZ(M4)──RY(0.46)───RZ(0.24)───────────────────────╰X─╰●──RY(0.68)───RZ(-0.01)\n",
      "9: ──────────────────────────────────────────────────────────────────────────────────\n",
      "\n",
      "──╭IsingXX(-0.25)──────────────────────────────────────────────────────────────────────────────\n",
      "──│───────────────╭IsingXX(-0.03)──────────────────────────────────────────────────────────────\n",
      "──│───────────────│───────────────╭IsingXX(-0.78)──────────────────────────────────────────────\n",
      "──│───────────────│───────────────│───────────────╭IsingXX(0.05)───────────────────────────────\n",
      "──│───────────────│───────────────│───────────────│──────────────╭IsingXX(-0.03)───────────────\n",
      "──│───────────────│───────────────│───────────────│──────────────│───────────────╭IsingXX(0.47)\n",
      "──│───────────────│───────────────│───────────────│──────────────│───────────────│─────────────\n",
      "──│───────────────│───────────────│───────────────│──────────────│───────────────│─────────────\n",
      "──│───────────────│───────────────│───────────────│──────────────│───────────────│─────────────\n",
      "──╰IsingXX(-0.25)─╰IsingXX(-0.03)─╰IsingXX(-0.78)─╰IsingXX(0.05)─╰IsingXX(-0.03)─╰IsingXX(0.47)\n",
      "\n",
      "──────────────────────────────────────────────────┤     \n",
      "──────────────────────────────────────────────────┤     \n",
      "──────────────────────────────────────────────────┤     \n",
      "──────────────────────────────────────────────────┤     \n",
      "──────────────────────────────────────────────────┤     \n",
      "──────────────────────────────────────────────────┤     \n",
      "──╭IsingXX(-0.69)─────────────────────────────────┤     \n",
      "──│───────────────╭IsingXX(-0.74)─────────────────┤     \n",
      "──│───────────────│───────────────╭IsingXX(-0.24)─┤     \n",
      "──╰IsingXX(-0.69)─╰IsingXX(-0.74)─╰IsingXX(-0.24)─┤  <Z>\n"
     ]
    }
   ],
   "source": [
    "dev = qml.device(\"default.qubit\", wires=n_qubits)\n",
    "qnode = qml.QNode(get_node(template), dev)\n",
    "\n",
    "inputs = np.random.uniform(size = (10, np.prod(kernel_size)))\n",
    "weights = params[0]\n",
    "drawer = qml.draw(qnode, expansion_strategy=\"device\")\n",
    "print(drawer(inputs,*weights))"
   ]
  },
  {
   "cell_type": "markdown",
   "id": "0eb80645",
   "metadata": {},
   "source": [
    "## Auto-Batching Predictions"
   ]
  },
  {
   "cell_type": "code",
   "execution_count": 366,
   "id": "93945a8f",
   "metadata": {
    "ExecuteTime": {
     "end_time": "2022-08-21T08:11:04.345179Z",
     "start_time": "2022-08-21T08:11:04.234102Z"
    }
   },
   "outputs": [],
   "source": [
    "from jax.scipy.special import logsumexp\n",
    "\n",
    "def relu(x):\n",
    "    return jnp.maximum(0, x)\n",
    "\n",
    "def forward(params, image):\n",
    "  # per-example predictions\n",
    "    activations = qconv(image, *params[0])\n",
    "    activations += image\n",
    "    activations = relu(activations)\n",
    "    activations = jnp.reshape(activations, (-1))\n",
    "    for w, b in params[1:-1]:\n",
    "        outputs = jnp.dot(w, activations) + b\n",
    "        activations = relu(outputs)\n",
    "    final_w, final_b = params[-1]\n",
    "    logits = jnp.dot(final_w, activations) + final_b\n",
    "    return logits - logsumexp(logits)"
   ]
  },
  {
   "cell_type": "code",
   "execution_count": 367,
   "id": "5a54f1e1",
   "metadata": {
    "ExecuteTime": {
     "end_time": "2022-08-21T08:11:04.555200Z",
     "start_time": "2022-08-21T08:11:04.453747Z"
    }
   },
   "outputs": [],
   "source": [
    "def forwardx(params, image):\n",
    "  # per-example predictions\n",
    "    activations = qconv(image, *params[0])\n",
    "    activations = qconv(activations, *params[1])\n",
    "    activations += image\n",
    "    activations = relu(activations)\n",
    "    activations = jnp.reshape(activations, (-1))\n",
    "    for w, b in params[2:-1]:\n",
    "        outputs = jnp.dot(w, activations) + b\n",
    "        activations = relu(outputs)\n",
    "    final_w, final_b = params[-1]\n",
    "    logits = jnp.dot(final_w, activations) + final_b\n",
    "    return logits - logsumexp(logits)"
   ]
  },
  {
   "cell_type": "code",
   "execution_count": 368,
   "id": "fbdb84a8",
   "metadata": {
    "ExecuteTime": {
     "end_time": "2022-08-21T08:12:00.156704Z",
     "start_time": "2022-08-21T08:11:04.710918Z"
    },
    "scrolled": true
   },
   "outputs": [
    {
     "name": "stdout",
     "output_type": "stream",
     "text": [
      "[   0.      -155.40536]\n"
     ]
    }
   ],
   "source": [
    "# This works on single examples\n",
    "random_flattened_image = random.normal(random.PRNGKey(1), input_dims)\n",
    "random_flattened_image = jnp.floor(random_flattened_image*10)\n",
    "preds = forward(params,  random_flattened_image)\n",
    "print(preds)"
   ]
  },
  {
   "cell_type": "code",
   "execution_count": 369,
   "id": "931e2120",
   "metadata": {
    "ExecuteTime": {
     "end_time": "2022-08-21T08:12:00.308043Z",
     "start_time": "2022-08-21T08:12:00.170877Z"
    }
   },
   "outputs": [],
   "source": [
    "# Doesn't work with a batch\n",
    "random_flattened_images = random.normal(random.PRNGKey(1), (2,)+ input_dims)\n",
    "random_flattened_images = jnp.floor(random_flattened_images*10)\n",
    "# try:\n",
    "#     preds = predict(params, random_flattened_images)\n",
    "# except TypeError:\n",
    "#     print('Invalid shapes!')"
   ]
  },
  {
   "cell_type": "code",
   "execution_count": 370,
   "id": "9fa9ea5f",
   "metadata": {
    "ExecuteTime": {
     "end_time": "2022-08-21T08:13:02.384294Z",
     "start_time": "2022-08-21T08:12:00.312057Z"
    }
   },
   "outputs": [
    {
     "name": "stdout",
     "output_type": "stream",
     "text": [
      "[[   0.       -165.11536 ]\n",
      " [   0.        -44.895844]]\n"
     ]
    }
   ],
   "source": [
    "# Let's upgrade it to handle batches using `vmap`\n",
    "\n",
    "# Make a batched version of the `predict` function\n",
    "batched_forward = vmap(forward, in_axes=(None,0))\n",
    "\n",
    "# `batched_predict` has the same call signature as `predict`\n",
    "batched_preds = batched_forward(params, random_flattened_images)\n",
    "print(batched_preds)"
   ]
  },
  {
   "cell_type": "markdown",
   "id": "d696d399",
   "metadata": {},
   "source": [
    "## Utility and loss functions"
   ]
  },
  {
   "cell_type": "code",
   "execution_count": 371,
   "id": "fc48796a",
   "metadata": {
    "ExecuteTime": {
     "end_time": "2022-08-21T08:17:17.577856Z",
     "start_time": "2022-08-21T08:17:17.463925Z"
    }
   },
   "outputs": [],
   "source": [
    "from sklearn.metrics import roc_auc_score\n",
    "\n",
    "def accuracy(y_true, y_pred):\n",
    "    target_class = jnp.argmax(y_true, axis=1)\n",
    "    predicted_class = jnp.argmax(y_pred, axis=1)\n",
    "    return jnp.mean(predicted_class == target_class)\n",
    " \n",
    "\n",
    "def loss_fn(params, images, targets):\n",
    "    preds = batched_forward(params, images)\n",
    "    loss_value = -jnp.mean(preds * targets)\n",
    "    return loss_value, preds\n",
    "\n",
    "@jit\n",
    "def update(opt_state, params, x, y):\n",
    "    (loss_value, preds), grads = jax.value_and_grad(loss_fn, has_aux=True)(params, x, y)\n",
    "    acc = accuracy(y,preds)\n",
    "    \n",
    "    updates, opt_state = optimizer.update(grads, opt_state)\n",
    "    params = optax.apply_updates(params, updates)\n",
    "    \n",
    "    return params, opt_state, loss_value, acc \n",
    "\n",
    "\n",
    "def step(params,x,y):\n",
    "    loss_value, preds = loss_fn(params, x, y)\n",
    "    acc = accuracy(y, preds)\n",
    "    return loss_value, acc\n",
    "\n",
    "def evaluate(params, ds):\n",
    "    losses = []\n",
    "    accs = []\n",
    "    with tqdm(tfds.as_numpy(ds), unit=\"batch\") as tepoch:\n",
    "        for x, y in tepoch:\n",
    "            loss_value, acc = step(params, x, y)\n",
    "            losses.append(loss_value)\n",
    "            accs.append(acc)\n",
    "            tepoch.set_postfix(loss=loss_value, acc=acc)\n",
    "            \n",
    "    return jnp.mean(np.array(losses)), jnp.mean(np.array(accs))\n",
    "\n",
    "def predict(params, ds):\n",
    "    preds = []\n",
    "    y_true = []\n",
    "    with tqdm(tfds.as_numpy(ds), unit=\"batch\") as tepoch:\n",
    "        for x, y in tepoch:\n",
    "            preds += list(batched_forward(params, x))\n",
    "            y_true += list(y)\n",
    "    \n",
    "    return np.array(preds), np.array(y_true)"
   ]
  },
  {
   "cell_type": "markdown",
   "id": "63afa04b",
   "metadata": {},
   "source": [
    "## Training loop"
   ]
  },
  {
   "cell_type": "code",
   "execution_count": 372,
   "id": "0c29b41d",
   "metadata": {
    "ExecuteTime": {
     "end_time": "2022-08-21T08:17:19.770637Z",
     "start_time": "2022-08-21T08:17:19.637375Z"
    }
   },
   "outputs": [],
   "source": [
    "lr = 1e-3"
   ]
  },
  {
   "cell_type": "code",
   "execution_count": 373,
   "id": "01c9e9c5",
   "metadata": {
    "ExecuteTime": {
     "end_time": "2022-08-21T08:17:20.674358Z",
     "start_time": "2022-08-21T08:17:20.330089Z"
    }
   },
   "outputs": [
    {
     "name": "stdout",
     "output_type": "stream",
     "text": [
      "0.001\n"
     ]
    }
   ],
   "source": [
    "schedule_fn = optax.linear_schedule(transition_steps=150,\n",
    "                                    init_value=0.2,\n",
    "                                    end_value=1e-7,\n",
    "                                    )\n",
    "# Defining an optimizer in Jax \n",
    "# optimizer = optax.adam(learning_rate=schedule_fn)\n",
    "\n",
    "print(lr)\n",
    "optimizer = optax.adam(learning_rate=args.learning_rate)\n",
    "# optimizer = optax.adam(learning_rate=lr)\n",
    "opt_state = optimizer.init(params)\n",
    "lr = (lr*0.1)"
   ]
  },
  {
   "cell_type": "code",
   "execution_count": 374,
   "id": "fb4f365f",
   "metadata": {
    "ExecuteTime": {
     "end_time": "2022-08-21T08:18:22.248292Z",
     "start_time": "2022-08-21T08:17:27.697684Z"
    },
    "scrolled": true
   },
   "outputs": [
    {
     "name": "stderr",
     "output_type": "stream",
     "text": [
      "Epoch 0:   0%|                                                                             | 0/64 [00:54<?, ?batch/s]\n"
     ]
    },
    {
     "ename": "KeyboardInterrupt",
     "evalue": "",
     "output_type": "error",
     "traceback": [
      "\u001b[0;31m---------------------------------------------------------------------------\u001b[0m",
      "\u001b[0;31mKeyboardInterrupt\u001b[0m                         Traceback (most recent call last)",
      "\u001b[0;32m/tmp/ipykernel_6222/4048972741.py\u001b[0m in \u001b[0;36m<module>\u001b[0;34m\u001b[0m\n\u001b[1;32m      9\u001b[0m         \u001b[0;32mfor\u001b[0m \u001b[0mx\u001b[0m\u001b[0;34m,\u001b[0m \u001b[0my\u001b[0m \u001b[0;32min\u001b[0m \u001b[0mtepoch\u001b[0m\u001b[0;34m:\u001b[0m\u001b[0;34m\u001b[0m\u001b[0;34m\u001b[0m\u001b[0m\n\u001b[1;32m     10\u001b[0m             \u001b[0mtepoch\u001b[0m\u001b[0;34m.\u001b[0m\u001b[0mset_description\u001b[0m\u001b[0;34m(\u001b[0m\u001b[0;34mf\"Epoch {epoch}\"\u001b[0m\u001b[0;34m)\u001b[0m\u001b[0;34m\u001b[0m\u001b[0;34m\u001b[0m\u001b[0m\n\u001b[0;32m---> 11\u001b[0;31m             \u001b[0mparams\u001b[0m\u001b[0;34m,\u001b[0m \u001b[0mopt_state\u001b[0m\u001b[0;34m,\u001b[0m \u001b[0mloss_value\u001b[0m\u001b[0;34m,\u001b[0m \u001b[0macc\u001b[0m \u001b[0;34m=\u001b[0m \u001b[0mupdate\u001b[0m\u001b[0;34m(\u001b[0m\u001b[0mopt_state\u001b[0m\u001b[0;34m,\u001b[0m \u001b[0mparams\u001b[0m\u001b[0;34m,\u001b[0m \u001b[0mx\u001b[0m\u001b[0;34m,\u001b[0m \u001b[0my\u001b[0m\u001b[0;34m)\u001b[0m\u001b[0;34m\u001b[0m\u001b[0;34m\u001b[0m\u001b[0m\n\u001b[0m\u001b[1;32m     12\u001b[0m             \u001b[0mtepoch\u001b[0m\u001b[0;34m.\u001b[0m\u001b[0mset_postfix\u001b[0m\u001b[0;34m(\u001b[0m\u001b[0mloss\u001b[0m\u001b[0;34m=\u001b[0m\u001b[0mloss_value\u001b[0m\u001b[0;34m,\u001b[0m \u001b[0macc\u001b[0m\u001b[0;34m=\u001b[0m\u001b[0macc\u001b[0m\u001b[0;34m)\u001b[0m\u001b[0;34m\u001b[0m\u001b[0;34m\u001b[0m\u001b[0m\n\u001b[1;32m     13\u001b[0m \u001b[0;34m\u001b[0m\u001b[0m\n",
      "    \u001b[0;31m[... skipping hidden 1 frame]\u001b[0m\n",
      "\u001b[0;32m~/Documents/qml-hep-lhc/qenv/lib/python3.7/site-packages/jax/_src/api.py\u001b[0m in \u001b[0;36mcache_miss\u001b[0;34m(*args, **kwargs)\u001b[0m\n\u001b[1;32m    528\u001b[0m         \u001b[0mflat_fun\u001b[0m\u001b[0;34m,\u001b[0m \u001b[0;34m*\u001b[0m\u001b[0margs_flat\u001b[0m\u001b[0;34m,\u001b[0m\u001b[0;34m\u001b[0m\u001b[0;34m\u001b[0m\u001b[0m\n\u001b[1;32m    529\u001b[0m         \u001b[0mdevice\u001b[0m\u001b[0;34m=\u001b[0m\u001b[0mdevice\u001b[0m\u001b[0;34m,\u001b[0m \u001b[0mbackend\u001b[0m\u001b[0;34m=\u001b[0m\u001b[0mbackend\u001b[0m\u001b[0;34m,\u001b[0m \u001b[0mname\u001b[0m\u001b[0;34m=\u001b[0m\u001b[0mflat_fun\u001b[0m\u001b[0;34m.\u001b[0m\u001b[0m__name__\u001b[0m\u001b[0;34m,\u001b[0m\u001b[0;34m\u001b[0m\u001b[0;34m\u001b[0m\u001b[0m\n\u001b[0;32m--> 530\u001b[0;31m         donated_invars=donated_invars, inline=inline, keep_unused=keep_unused)\n\u001b[0m\u001b[1;32m    531\u001b[0m     \u001b[0mout_pytree_def\u001b[0m \u001b[0;34m=\u001b[0m \u001b[0mout_tree\u001b[0m\u001b[0;34m(\u001b[0m\u001b[0;34m)\u001b[0m\u001b[0;34m\u001b[0m\u001b[0;34m\u001b[0m\u001b[0m\n\u001b[1;32m    532\u001b[0m     \u001b[0mout\u001b[0m \u001b[0;34m=\u001b[0m \u001b[0mtree_unflatten\u001b[0m\u001b[0;34m(\u001b[0m\u001b[0mout_pytree_def\u001b[0m\u001b[0;34m,\u001b[0m \u001b[0mout_flat\u001b[0m\u001b[0;34m)\u001b[0m\u001b[0;34m\u001b[0m\u001b[0;34m\u001b[0m\u001b[0m\n",
      "\u001b[0;32m~/Documents/qml-hep-lhc/qenv/lib/python3.7/site-packages/jax/core.py\u001b[0m in \u001b[0;36mbind\u001b[0;34m(self, fun, *args, **params)\u001b[0m\n\u001b[1;32m   1935\u001b[0m \u001b[0;34m\u001b[0m\u001b[0m\n\u001b[1;32m   1936\u001b[0m   \u001b[0;32mdef\u001b[0m \u001b[0mbind\u001b[0m\u001b[0;34m(\u001b[0m\u001b[0mself\u001b[0m\u001b[0;34m,\u001b[0m \u001b[0mfun\u001b[0m\u001b[0;34m,\u001b[0m \u001b[0;34m*\u001b[0m\u001b[0margs\u001b[0m\u001b[0;34m,\u001b[0m \u001b[0;34m**\u001b[0m\u001b[0mparams\u001b[0m\u001b[0;34m)\u001b[0m\u001b[0;34m:\u001b[0m\u001b[0;34m\u001b[0m\u001b[0;34m\u001b[0m\u001b[0m\n\u001b[0;32m-> 1937\u001b[0;31m     \u001b[0;32mreturn\u001b[0m \u001b[0mcall_bind\u001b[0m\u001b[0;34m(\u001b[0m\u001b[0mself\u001b[0m\u001b[0;34m,\u001b[0m \u001b[0mfun\u001b[0m\u001b[0;34m,\u001b[0m \u001b[0;34m*\u001b[0m\u001b[0margs\u001b[0m\u001b[0;34m,\u001b[0m \u001b[0;34m**\u001b[0m\u001b[0mparams\u001b[0m\u001b[0;34m)\u001b[0m\u001b[0;34m\u001b[0m\u001b[0;34m\u001b[0m\u001b[0m\n\u001b[0m\u001b[1;32m   1938\u001b[0m \u001b[0;34m\u001b[0m\u001b[0m\n\u001b[1;32m   1939\u001b[0m   \u001b[0;32mdef\u001b[0m \u001b[0mget_bind_params\u001b[0m\u001b[0;34m(\u001b[0m\u001b[0mself\u001b[0m\u001b[0;34m,\u001b[0m \u001b[0mparams\u001b[0m\u001b[0;34m)\u001b[0m\u001b[0;34m:\u001b[0m\u001b[0;34m\u001b[0m\u001b[0;34m\u001b[0m\u001b[0m\n",
      "\u001b[0;32m~/Documents/qml-hep-lhc/qenv/lib/python3.7/site-packages/jax/core.py\u001b[0m in \u001b[0;36mcall_bind\u001b[0;34m(primitive, fun, *args, **params)\u001b[0m\n\u001b[1;32m   1951\u001b[0m   \u001b[0mtracers\u001b[0m \u001b[0;34m=\u001b[0m \u001b[0mmap\u001b[0m\u001b[0;34m(\u001b[0m\u001b[0mtop_trace\u001b[0m\u001b[0;34m.\u001b[0m\u001b[0mfull_raise\u001b[0m\u001b[0;34m,\u001b[0m \u001b[0margs\u001b[0m\u001b[0;34m)\u001b[0m\u001b[0;34m\u001b[0m\u001b[0;34m\u001b[0m\u001b[0m\n\u001b[1;32m   1952\u001b[0m   \u001b[0mfun_\u001b[0m \u001b[0;34m=\u001b[0m \u001b[0mlu\u001b[0m\u001b[0;34m.\u001b[0m\u001b[0mannotate\u001b[0m\u001b[0;34m(\u001b[0m\u001b[0mfun_\u001b[0m\u001b[0;34m,\u001b[0m \u001b[0mfun\u001b[0m\u001b[0;34m.\u001b[0m\u001b[0min_type\u001b[0m\u001b[0;34m)\u001b[0m\u001b[0;34m\u001b[0m\u001b[0;34m\u001b[0m\u001b[0m\n\u001b[0;32m-> 1953\u001b[0;31m   \u001b[0mouts\u001b[0m \u001b[0;34m=\u001b[0m \u001b[0mtop_trace\u001b[0m\u001b[0;34m.\u001b[0m\u001b[0mprocess_call\u001b[0m\u001b[0;34m(\u001b[0m\u001b[0mprimitive\u001b[0m\u001b[0;34m,\u001b[0m \u001b[0mfun_\u001b[0m\u001b[0;34m,\u001b[0m \u001b[0mtracers\u001b[0m\u001b[0;34m,\u001b[0m \u001b[0mparams\u001b[0m\u001b[0;34m)\u001b[0m\u001b[0;34m\u001b[0m\u001b[0;34m\u001b[0m\u001b[0m\n\u001b[0m\u001b[1;32m   1954\u001b[0m   \u001b[0;32mreturn\u001b[0m \u001b[0mmap\u001b[0m\u001b[0;34m(\u001b[0m\u001b[0mfull_lower\u001b[0m\u001b[0;34m,\u001b[0m \u001b[0mapply_todos\u001b[0m\u001b[0;34m(\u001b[0m\u001b[0menv_trace_todo\u001b[0m\u001b[0;34m(\u001b[0m\u001b[0;34m)\u001b[0m\u001b[0;34m,\u001b[0m \u001b[0mouts\u001b[0m\u001b[0;34m)\u001b[0m\u001b[0;34m)\u001b[0m\u001b[0;34m\u001b[0m\u001b[0;34m\u001b[0m\u001b[0m\n\u001b[1;32m   1955\u001b[0m \u001b[0;34m\u001b[0m\u001b[0m\n",
      "\u001b[0;32m~/Documents/qml-hep-lhc/qenv/lib/python3.7/site-packages/jax/core.py\u001b[0m in \u001b[0;36mprocess_call\u001b[0;34m(self, primitive, f, tracers, params)\u001b[0m\n\u001b[1;32m    685\u001b[0m \u001b[0;34m\u001b[0m\u001b[0m\n\u001b[1;32m    686\u001b[0m   \u001b[0;32mdef\u001b[0m \u001b[0mprocess_call\u001b[0m\u001b[0;34m(\u001b[0m\u001b[0mself\u001b[0m\u001b[0;34m,\u001b[0m \u001b[0mprimitive\u001b[0m\u001b[0;34m,\u001b[0m \u001b[0mf\u001b[0m\u001b[0;34m,\u001b[0m \u001b[0mtracers\u001b[0m\u001b[0;34m,\u001b[0m \u001b[0mparams\u001b[0m\u001b[0;34m)\u001b[0m\u001b[0;34m:\u001b[0m\u001b[0;34m\u001b[0m\u001b[0;34m\u001b[0m\u001b[0m\n\u001b[0;32m--> 687\u001b[0;31m     \u001b[0;32mreturn\u001b[0m \u001b[0mprimitive\u001b[0m\u001b[0;34m.\u001b[0m\u001b[0mimpl\u001b[0m\u001b[0;34m(\u001b[0m\u001b[0mf\u001b[0m\u001b[0;34m,\u001b[0m \u001b[0;34m*\u001b[0m\u001b[0mtracers\u001b[0m\u001b[0;34m,\u001b[0m \u001b[0;34m**\u001b[0m\u001b[0mparams\u001b[0m\u001b[0;34m)\u001b[0m\u001b[0;34m\u001b[0m\u001b[0;34m\u001b[0m\u001b[0m\n\u001b[0m\u001b[1;32m    688\u001b[0m   \u001b[0mprocess_map\u001b[0m \u001b[0;34m=\u001b[0m \u001b[0mprocess_call\u001b[0m\u001b[0;34m\u001b[0m\u001b[0;34m\u001b[0m\u001b[0m\n\u001b[1;32m    689\u001b[0m \u001b[0;34m\u001b[0m\u001b[0m\n",
      "\u001b[0;32m~/Documents/qml-hep-lhc/qenv/lib/python3.7/site-packages/jax/_src/dispatch.py\u001b[0m in \u001b[0;36m_xla_call_impl\u001b[0;34m(***failed resolving arguments***)\u001b[0m\n\u001b[1;32m    207\u001b[0m     \u001b[0marg_specs\u001b[0m \u001b[0;34m=\u001b[0m \u001b[0;34m[\u001b[0m\u001b[0;34m(\u001b[0m\u001b[0;32mNone\u001b[0m\u001b[0;34m,\u001b[0m \u001b[0mgetattr\u001b[0m\u001b[0;34m(\u001b[0m\u001b[0mx\u001b[0m\u001b[0;34m,\u001b[0m \u001b[0;34m'_device'\u001b[0m\u001b[0;34m,\u001b[0m \u001b[0;32mNone\u001b[0m\u001b[0;34m)\u001b[0m\u001b[0;34m)\u001b[0m \u001b[0;32mfor\u001b[0m \u001b[0mx\u001b[0m \u001b[0;32min\u001b[0m \u001b[0margs\u001b[0m\u001b[0;34m]\u001b[0m\u001b[0;34m\u001b[0m\u001b[0;34m\u001b[0m\u001b[0m\n\u001b[1;32m    208\u001b[0m   compiled_fun = xla_callable(fun, device, backend, name, donated_invars,\n\u001b[0;32m--> 209\u001b[0;31m                               keep_unused, *arg_specs)\n\u001b[0m\u001b[1;32m    210\u001b[0m   \u001b[0;32mtry\u001b[0m\u001b[0;34m:\u001b[0m\u001b[0;34m\u001b[0m\u001b[0;34m\u001b[0m\u001b[0m\n\u001b[1;32m    211\u001b[0m     \u001b[0;32mreturn\u001b[0m \u001b[0mcompiled_fun\u001b[0m\u001b[0;34m(\u001b[0m\u001b[0;34m*\u001b[0m\u001b[0margs\u001b[0m\u001b[0;34m)\u001b[0m\u001b[0;34m\u001b[0m\u001b[0;34m\u001b[0m\u001b[0m\n",
      "\u001b[0;32m~/Documents/qml-hep-lhc/qenv/lib/python3.7/site-packages/jax/linear_util.py\u001b[0m in \u001b[0;36mmemoized_fun\u001b[0;34m(fun, *args)\u001b[0m\n\u001b[1;32m    293\u001b[0m       \u001b[0mfun\u001b[0m\u001b[0;34m.\u001b[0m\u001b[0mpopulate_stores\u001b[0m\u001b[0;34m(\u001b[0m\u001b[0mstores\u001b[0m\u001b[0;34m)\u001b[0m\u001b[0;34m\u001b[0m\u001b[0;34m\u001b[0m\u001b[0m\n\u001b[1;32m    294\u001b[0m     \u001b[0;32melse\u001b[0m\u001b[0;34m:\u001b[0m\u001b[0;34m\u001b[0m\u001b[0;34m\u001b[0m\u001b[0m\n\u001b[0;32m--> 295\u001b[0;31m       \u001b[0mans\u001b[0m \u001b[0;34m=\u001b[0m \u001b[0mcall\u001b[0m\u001b[0;34m(\u001b[0m\u001b[0mfun\u001b[0m\u001b[0;34m,\u001b[0m \u001b[0;34m*\u001b[0m\u001b[0margs\u001b[0m\u001b[0;34m)\u001b[0m\u001b[0;34m\u001b[0m\u001b[0;34m\u001b[0m\u001b[0m\n\u001b[0m\u001b[1;32m    296\u001b[0m       \u001b[0mcache\u001b[0m\u001b[0;34m[\u001b[0m\u001b[0mkey\u001b[0m\u001b[0;34m]\u001b[0m \u001b[0;34m=\u001b[0m \u001b[0;34m(\u001b[0m\u001b[0mans\u001b[0m\u001b[0;34m,\u001b[0m \u001b[0mfun\u001b[0m\u001b[0;34m.\u001b[0m\u001b[0mstores\u001b[0m\u001b[0;34m)\u001b[0m\u001b[0;34m\u001b[0m\u001b[0;34m\u001b[0m\u001b[0m\n\u001b[1;32m    297\u001b[0m \u001b[0;34m\u001b[0m\u001b[0m\n",
      "\u001b[0;32m~/Documents/qml-hep-lhc/qenv/lib/python3.7/site-packages/jax/_src/dispatch.py\u001b[0m in \u001b[0;36m_xla_callable_uncached\u001b[0;34m(fun, device, backend, name, donated_invars, keep_unused, *arg_specs)\u001b[0m\n\u001b[1;32m    256\u001b[0m                            donated_invars, keep_unused, *arg_specs):\n\u001b[1;32m    257\u001b[0m   return lower_xla_callable(fun, device, backend, name, donated_invars, False,\n\u001b[0;32m--> 258\u001b[0;31m                             keep_unused, *arg_specs).compile().unsafe_call\n\u001b[0m\u001b[1;32m    259\u001b[0m \u001b[0;34m\u001b[0m\u001b[0m\n\u001b[1;32m    260\u001b[0m \u001b[0mxla_callable\u001b[0m \u001b[0;34m=\u001b[0m \u001b[0mlu\u001b[0m\u001b[0;34m.\u001b[0m\u001b[0mcache\u001b[0m\u001b[0;34m(\u001b[0m\u001b[0m_xla_callable_uncached\u001b[0m\u001b[0;34m)\u001b[0m\u001b[0;34m\u001b[0m\u001b[0;34m\u001b[0m\u001b[0m\n",
      "\u001b[0;32m~/Documents/qml-hep-lhc/qenv/lib/python3.7/site-packages/jax/_src/dispatch.py\u001b[0m in \u001b[0;36mcompile\u001b[0;34m(self)\u001b[0m\n\u001b[1;32m    849\u001b[0m         self._executable = XlaCompiledComputation.from_xla_computation(\n\u001b[1;32m    850\u001b[0m             \u001b[0mself\u001b[0m\u001b[0;34m.\u001b[0m\u001b[0mname\u001b[0m\u001b[0;34m,\u001b[0m \u001b[0mself\u001b[0m\u001b[0;34m.\u001b[0m\u001b[0m_hlo\u001b[0m\u001b[0;34m,\u001b[0m \u001b[0mself\u001b[0m\u001b[0;34m.\u001b[0m\u001b[0m_in_type\u001b[0m\u001b[0;34m,\u001b[0m \u001b[0mself\u001b[0m\u001b[0;34m.\u001b[0m\u001b[0m_out_type\u001b[0m\u001b[0;34m,\u001b[0m\u001b[0;34m\u001b[0m\u001b[0;34m\u001b[0m\u001b[0m\n\u001b[0;32m--> 851\u001b[0;31m             **self.compile_args)\n\u001b[0m\u001b[1;32m    852\u001b[0m \u001b[0;34m\u001b[0m\u001b[0m\n\u001b[1;32m    853\u001b[0m     \u001b[0;32mreturn\u001b[0m \u001b[0mself\u001b[0m\u001b[0;34m.\u001b[0m\u001b[0m_executable\u001b[0m\u001b[0;34m\u001b[0m\u001b[0;34m\u001b[0m\u001b[0m\n",
      "\u001b[0;32m~/Documents/qml-hep-lhc/qenv/lib/python3.7/site-packages/jax/_src/dispatch.py\u001b[0m in \u001b[0;36mfrom_xla_computation\u001b[0;34m(name, xla_computation, in_type, out_type, nreps, device, backend, tuple_args, in_avals, out_avals, has_unordered_effects, ordered_effects, kept_var_idx, keepalive, host_callbacks)\u001b[0m\n\u001b[1;32m    955\u001b[0m                           \"in {elapsed_time} sec\"):\n\u001b[1;32m    956\u001b[0m       compiled = compile_or_get_cached(backend, xla_computation, options,\n\u001b[0;32m--> 957\u001b[0;31m                                        host_callbacks)\n\u001b[0m\u001b[1;32m    958\u001b[0m     \u001b[0mbuffer_counts\u001b[0m \u001b[0;34m=\u001b[0m \u001b[0;34m[\u001b[0m\u001b[0maval_to_num_buffers\u001b[0m\u001b[0;34m(\u001b[0m\u001b[0maval\u001b[0m\u001b[0;34m)\u001b[0m \u001b[0;32mfor\u001b[0m \u001b[0maval\u001b[0m \u001b[0;32min\u001b[0m \u001b[0mout_avals\u001b[0m\u001b[0;34m]\u001b[0m\u001b[0;34m\u001b[0m\u001b[0;34m\u001b[0m\u001b[0m\n\u001b[1;32m    959\u001b[0m     \u001b[0;32mif\u001b[0m \u001b[0mordered_effects\u001b[0m \u001b[0;32mor\u001b[0m \u001b[0mhas_unordered_effects\u001b[0m\u001b[0;34m:\u001b[0m\u001b[0;34m\u001b[0m\u001b[0;34m\u001b[0m\u001b[0m\n",
      "\u001b[0;32m~/Documents/qml-hep-lhc/qenv/lib/python3.7/site-packages/jax/_src/dispatch.py\u001b[0m in \u001b[0;36mcompile_or_get_cached\u001b[0;34m(backend, computation, compile_options, host_callbacks)\u001b[0m\n\u001b[1;32m    919\u001b[0m       \u001b[0mir_str\u001b[0m \u001b[0;34m=\u001b[0m \u001b[0mcomputation\u001b[0m\u001b[0;34m\u001b[0m\u001b[0;34m\u001b[0m\u001b[0m\n\u001b[1;32m    920\u001b[0m     \u001b[0m_dump_ir_to_file\u001b[0m\u001b[0;34m(\u001b[0m\u001b[0mmodule_name\u001b[0m\u001b[0;34m,\u001b[0m \u001b[0mir_str\u001b[0m\u001b[0;34m)\u001b[0m\u001b[0;34m\u001b[0m\u001b[0;34m\u001b[0m\u001b[0m\n\u001b[0;32m--> 921\u001b[0;31m   \u001b[0;32mreturn\u001b[0m \u001b[0mbackend_compile\u001b[0m\u001b[0;34m(\u001b[0m\u001b[0mbackend\u001b[0m\u001b[0;34m,\u001b[0m \u001b[0mcomputation\u001b[0m\u001b[0;34m,\u001b[0m \u001b[0mcompile_options\u001b[0m\u001b[0;34m,\u001b[0m \u001b[0mhost_callbacks\u001b[0m\u001b[0;34m)\u001b[0m\u001b[0;34m\u001b[0m\u001b[0;34m\u001b[0m\u001b[0m\n\u001b[0m\u001b[1;32m    922\u001b[0m \u001b[0;34m\u001b[0m\u001b[0m\n\u001b[1;32m    923\u001b[0m \u001b[0;34m\u001b[0m\u001b[0m\n",
      "\u001b[0;32m~/Documents/qml-hep-lhc/qenv/lib/python3.7/site-packages/jax/_src/profiler.py\u001b[0m in \u001b[0;36mwrapper\u001b[0;34m(*args, **kwargs)\u001b[0m\n\u001b[1;32m    292\u001b[0m   \u001b[0;32mdef\u001b[0m \u001b[0mwrapper\u001b[0m\u001b[0;34m(\u001b[0m\u001b[0;34m*\u001b[0m\u001b[0margs\u001b[0m\u001b[0;34m,\u001b[0m \u001b[0;34m**\u001b[0m\u001b[0mkwargs\u001b[0m\u001b[0;34m)\u001b[0m\u001b[0;34m:\u001b[0m\u001b[0;34m\u001b[0m\u001b[0;34m\u001b[0m\u001b[0m\n\u001b[1;32m    293\u001b[0m     \u001b[0;32mwith\u001b[0m \u001b[0mTraceAnnotation\u001b[0m\u001b[0;34m(\u001b[0m\u001b[0mname\u001b[0m\u001b[0;34m,\u001b[0m \u001b[0;34m**\u001b[0m\u001b[0mdecorator_kwargs\u001b[0m\u001b[0;34m)\u001b[0m\u001b[0;34m:\u001b[0m\u001b[0;34m\u001b[0m\u001b[0;34m\u001b[0m\u001b[0m\n\u001b[0;32m--> 294\u001b[0;31m       \u001b[0;32mreturn\u001b[0m \u001b[0mfunc\u001b[0m\u001b[0;34m(\u001b[0m\u001b[0;34m*\u001b[0m\u001b[0margs\u001b[0m\u001b[0;34m,\u001b[0m \u001b[0;34m**\u001b[0m\u001b[0mkwargs\u001b[0m\u001b[0;34m)\u001b[0m\u001b[0;34m\u001b[0m\u001b[0;34m\u001b[0m\u001b[0m\n\u001b[0m\u001b[1;32m    295\u001b[0m     \u001b[0;32mreturn\u001b[0m \u001b[0mwrapper\u001b[0m\u001b[0;34m\u001b[0m\u001b[0;34m\u001b[0m\u001b[0m\n\u001b[1;32m    296\u001b[0m   \u001b[0;32mreturn\u001b[0m \u001b[0mwrapper\u001b[0m\u001b[0;34m\u001b[0m\u001b[0;34m\u001b[0m\u001b[0m\n",
      "\u001b[0;32m~/Documents/qml-hep-lhc/qenv/lib/python3.7/site-packages/jax/_src/dispatch.py\u001b[0m in \u001b[0;36mbackend_compile\u001b[0;34m(backend, built_c, options, host_callbacks)\u001b[0m\n\u001b[1;32m    863\u001b[0m   \u001b[0;31m# TODO(sharadmv): remove this fallback when all backends allow `compile`\u001b[0m\u001b[0;34m\u001b[0m\u001b[0;34m\u001b[0m\u001b[0;34m\u001b[0m\u001b[0m\n\u001b[1;32m    864\u001b[0m   \u001b[0;31m# to take in `host_callbacks`\u001b[0m\u001b[0;34m\u001b[0m\u001b[0;34m\u001b[0m\u001b[0;34m\u001b[0m\u001b[0m\n\u001b[0;32m--> 865\u001b[0;31m   \u001b[0;32mreturn\u001b[0m \u001b[0mbackend\u001b[0m\u001b[0;34m.\u001b[0m\u001b[0mcompile\u001b[0m\u001b[0;34m(\u001b[0m\u001b[0mbuilt_c\u001b[0m\u001b[0;34m,\u001b[0m \u001b[0mcompile_options\u001b[0m\u001b[0;34m=\u001b[0m\u001b[0moptions\u001b[0m\u001b[0;34m)\u001b[0m\u001b[0;34m\u001b[0m\u001b[0;34m\u001b[0m\u001b[0m\n\u001b[0m\u001b[1;32m    866\u001b[0m \u001b[0;34m\u001b[0m\u001b[0m\n\u001b[1;32m    867\u001b[0m \u001b[0;31m# TODO(phawkins): update users.\u001b[0m\u001b[0;34m\u001b[0m\u001b[0;34m\u001b[0m\u001b[0;34m\u001b[0m\u001b[0m\n",
      "\u001b[0;31mKeyboardInterrupt\u001b[0m: "
     ]
    }
   ],
   "source": [
    "import time\n",
    "\n",
    "epochs = args.epochs\n",
    "# epochs = 5\n",
    "for epoch in range(20):\n",
    "    start_time = time.time()\n",
    "\n",
    "    with tqdm(tfds.as_numpy(data.train_ds), unit=\"batch\") as tepoch:\n",
    "        for x, y in tepoch:\n",
    "            tepoch.set_description(f\"Epoch {epoch}\")\n",
    "            params, opt_state, loss_value, acc = update(opt_state, params, x, y)\n",
    "            tepoch.set_postfix(loss=loss_value, acc=acc)\n",
    "        \n",
    "    epoch_time = time.time() - start_time\n",
    "\n",
    "    val_loss, val_acc = evaluate(params, data.val_ds)\n",
    "    print('val_loss: {} - val_acc: {}-  time: {}'.format(val_loss, val_acc, epoch_time))\n",
    "    \n",
    "    if args.wandb:\n",
    "        wandb.log({\"accuracy\": acc, \n",
    "                   \"val_accuracy\": val_acc, \n",
    "                   'loss':loss_value, \n",
    "                   'val_loss':val_loss})\n"
   ]
  },
  {
   "cell_type": "code",
   "execution_count": 205,
   "id": "cfafc1ab",
   "metadata": {
    "ExecuteTime": {
     "end_time": "2022-08-18T12:31:18.234069Z",
     "start_time": "2022-08-18T12:31:13.797326Z"
    },
    "scrolled": true
   },
   "outputs": [
    {
     "name": "stderr",
     "output_type": "stream",
     "text": [
      "100%|█████████████████████████████████████████████████| 766/766 [00:14<00:00, 53.98batch/s, acc=0.7, loss=0.29832602]\n"
     ]
    },
    {
     "data": {
      "text/plain": [
       "(DeviceArray(0.30152068, dtype=float32), DeviceArray(0.6875367, dtype=float32))"
      ]
     },
     "execution_count": 205,
     "metadata": {},
     "output_type": "execute_result"
    }
   ],
   "source": [
    "test_loss, test_acc = evaluate(params, data.test_ds)\n",
    "test_loss, test_acc"
   ]
  },
  {
   "cell_type": "code",
   "execution_count": 206,
   "id": "9a4571ee",
   "metadata": {},
   "outputs": [
    {
     "name": "stderr",
     "output_type": "stream",
     "text": [
      "100%|███████████████████████████████████████████████████████████████████████████| 766/766 [00:16<00:00, 46.29batch/s]\n"
     ]
    },
    {
     "data": {
      "text/plain": [
       "0.7415369426280717"
      ]
     },
     "execution_count": 206,
     "metadata": {},
     "output_type": "execute_result"
    }
   ],
   "source": [
    "from sklearn.metrics import roc_auc_score\n",
    "\n",
    "out,y_test = predict(params, data.test_ds)\n",
    "# _, y_test = tf_ds_to_numpy(data.test_ds)\n",
    "test_auc = roc_auc_score(y_test, out)\n",
    "test_auc"
   ]
  },
  {
   "cell_type": "code",
   "execution_count": 207,
   "id": "cd6ffd07",
   "metadata": {
    "ExecuteTime": {
     "end_time": "2022-08-18T12:31:47.449894Z",
     "start_time": "2022-08-18T12:31:45.674085Z"
    }
   },
   "outputs": [
    {
     "name": "stderr",
     "output_type": "stream",
     "text": [
      "\u001b[34m\u001b[1mwandb\u001b[0m: \u001b[33mWARNING\u001b[0m wandb uses only the first 10000 datapoints to create the plots.\n",
      "\u001b[34m\u001b[1mwandb\u001b[0m: \u001b[33mWARNING\u001b[0m wandb uses only the first 10000 datapoints to create the plots.\n"
     ]
    }
   ],
   "source": [
    "if args.wandb:\n",
    "    wandb.run.summary['test_loss'] = test_loss\n",
    "    wandb.run.summary['test_acc'] = test_acc\n",
    "    wandb.run.summary['test_auc'] = test_auc\n",
    "    y = y_test.argmax(axis=1)\n",
    "    preds = out.argmax(axis=1)\n",
    "    probs = out\n",
    "    classes = data.mapping\n",
    "\n",
    "    roc_curve = wandb.sklearn.plot_roc(y, probs, classes)\n",
    "    confusion_matrix = wandb.sklearn.plot_confusion_matrix(y, preds, classes)\n",
    "\n",
    "    wandb.log({\"roc_curve\": roc_curve})\n",
    "    wandb.log({\"confusion_matrix\": confusion_matrix})"
   ]
  },
  {
   "cell_type": "code",
   "execution_count": 208,
   "id": "d256c76d",
   "metadata": {
    "ExecuteTime": {
     "end_time": "2022-08-18T12:32:01.828384Z",
     "start_time": "2022-08-18T12:31:48.539691Z"
    }
   },
   "outputs": [
    {
     "data": {
      "text/html": [
       "Waiting for W&B process to finish... <strong style=\"color:green\">(success).</strong>"
      ],
      "text/plain": [
       "<IPython.core.display.HTML object>"
      ]
     },
     "metadata": {},
     "output_type": "display_data"
    },
    {
     "data": {
      "application/vnd.jupyter.widget-view+json": {
       "model_id": "",
       "version_major": 2,
       "version_minor": 0
      },
      "text/plain": [
       "VBox(children=(Label(value='0.360 MB of 0.360 MB uploaded (0.000 MB deduped)\\r'), FloatProgress(value=1.0, max…"
      ]
     },
     "metadata": {},
     "output_type": "display_data"
    },
    {
     "data": {
      "text/html": [
       "<style>\n",
       "    table.wandb td:nth-child(1) { padding: 0 10px; text-align: left ; width: auto;} td:nth-child(2) {text-align: left ; width: 100%}\n",
       "    .wandb-row { display: flex; flex-direction: row; flex-wrap: wrap; justify-content: flex-start; width: 100% }\n",
       "    .wandb-col { display: flex; flex-direction: column; flex-basis: 100%; flex: 1; padding: 10px; }\n",
       "    </style>\n",
       "<div class=\"wandb-row\"><div class=\"wandb-col\"><h3>Run history:</h3><br/><table class=\"wandb\"><tr><td>accuracy</td><td>▁▆▅▄▆▆▆▄▇▅▇▆█▆▃▆▄▇▅▇▄▆▆▇▇▇▅▇▇▆▇▄▄▇▅▆▆▅▆▆</td></tr><tr><td>loss</td><td>█▅▅▇▃▄▄▆▄▅▃▃▁▃▅▄▅▂▆▃▅▄▅▄▂▃▅▂▁▃▂▆▄▃▅▄▃▄▃▂</td></tr><tr><td>val_accuracy</td><td>▁▅▆▇▇▇▇▇▇▇█▇████████████████████████████</td></tr><tr><td>val_loss</td><td>█▄▃▂▂▂▂▂▁▂▁▁▁▁▁▁▁▁▁▁▁▁▁▁▂▁▁▁▁▁▁▁▁▁▁▁▁▁▁▁</td></tr></table><br/></div><div class=\"wandb-col\"><h3>Run summary:</h3><br/><table class=\"wandb\"><tr><td>accuracy</td><td>0.66667</td></tr><tr><td>loss</td><td>0.30837</td></tr><tr><td>test_acc</td><td>0.68754</td></tr><tr><td>test_auc</td><td>0.74154</td></tr><tr><td>test_loss</td><td>0.30152</td></tr><tr><td>val_accuracy</td><td>0.68685</td></tr><tr><td>val_loss</td><td>0.3013</td></tr></table><br/></div></div>"
      ],
      "text/plain": [
       "<IPython.core.display.HTML object>"
      ]
     },
     "metadata": {},
     "output_type": "display_data"
    },
    {
     "data": {
      "text/html": [
       "Synced <strong style=\"color:#cdcd00\">true-forest-266</strong>: <a href=\"https://wandb.ai/gopald/qml-hep-lhc/runs/1claj9qv\" target=\"_blank\">https://wandb.ai/gopald/qml-hep-lhc/runs/1claj9qv</a><br/>Synced 5 W&B file(s), 2 media file(s), 2 artifact file(s) and 0 other file(s)"
      ],
      "text/plain": [
       "<IPython.core.display.HTML object>"
      ]
     },
     "metadata": {},
     "output_type": "display_data"
    },
    {
     "data": {
      "text/html": [
       "Find logs at: <code>./wandb/run-20220820_130940-1claj9qv/logs</code>"
      ],
      "text/plain": [
       "<IPython.core.display.HTML object>"
      ]
     },
     "metadata": {},
     "output_type": "display_data"
    }
   ],
   "source": [
    "if args.wandb:\n",
    "    wandb.finish()"
   ]
  },
  {
   "cell_type": "code",
   "execution_count": 32,
   "id": "0e98b225",
   "metadata": {
    "ExecuteTime": {
     "end_time": "2022-08-18T05:06:41.426383Z",
     "start_time": "2022-08-18T05:06:41.265770Z"
    }
   },
   "outputs": [
    {
     "name": "stdout",
     "output_type": "stream",
     "text": [
      "0 0.2\n",
      "1 0.19866668\n",
      "2 0.19733334\n",
      "3 0.19600001\n",
      "4 0.19466668\n",
      "5 0.19333333\n",
      "6 0.192\n",
      "7 0.19066668\n",
      "8 0.18933333\n",
      "9 0.18800001\n",
      "10 0.18666668\n",
      "11 0.18533334\n",
      "12 0.18400002\n",
      "13 0.18266669\n",
      "14 0.18133333\n",
      "15 0.18\n",
      "16 0.17866668\n",
      "17 0.17733334\n",
      "18 0.17600001\n",
      "19 0.17466669\n",
      "20 0.17333335\n",
      "21 0.17200002\n",
      "22 0.1706667\n",
      "23 0.16933335\n",
      "24 0.16800003\n",
      "25 0.16666669\n",
      "26 0.16533335\n",
      "27 0.16400002\n",
      "28 0.1626667\n",
      "29 0.16133335\n",
      "30 0.16000003\n",
      "31 0.15866669\n",
      "32 0.15733334\n",
      "33 0.15600002\n",
      "34 0.15466669\n",
      "35 0.15333335\n",
      "36 0.15200002\n",
      "37 0.1506667\n",
      "38 0.14933336\n",
      "39 0.14800003\n",
      "40 0.1466667\n",
      "41 0.14533336\n",
      "42 0.14400004\n",
      "43 0.14266671\n",
      "44 0.14133336\n",
      "45 0.14000003\n",
      "46 0.1386667\n",
      "47 0.13733336\n",
      "48 0.13600004\n",
      "49 0.1346667\n",
      "50 0.13333336\n",
      "51 0.13200003\n",
      "52 0.1306667\n",
      "53 0.12933336\n",
      "54 0.12800004\n",
      "55 0.12666671\n",
      "56 0.12533337\n",
      "57 0.124000035\n",
      "58 0.1226667\n",
      "59 0.121333376\n",
      "60 0.12000004\n",
      "61 0.11866671\n",
      "62 0.11733337\n",
      "63 0.116000034\n",
      "64 0.1146667\n",
      "65 0.113333374\n",
      "66 0.11200004\n",
      "67 0.1106667\n",
      "68 0.109333366\n",
      "69 0.10800003\n",
      "70 0.10666671\n",
      "71 0.10533337\n",
      "72 0.10400004\n",
      "73 0.102666706\n",
      "74 0.10133338\n",
      "75 0.100000046\n",
      "76 0.09866671\n",
      "77 0.09733339\n",
      "78 0.09600004\n",
      "79 0.09466671\n",
      "80 0.09333338\n",
      "81 0.092000045\n",
      "82 0.09066671\n",
      "83 0.089333385\n",
      "84 0.08800005\n",
      "85 0.08666672\n",
      "86 0.08533339\n",
      "87 0.08400004\n",
      "88 0.08266672\n",
      "89 0.081333384\n",
      "90 0.08000005\n",
      "91 0.07866672\n",
      "92 0.07733339\n",
      "93 0.07600006\n",
      "94 0.07466672\n",
      "95 0.0733334\n",
      "96 0.072000064\n",
      "97 0.07066672\n",
      "98 0.06933339\n",
      "99 0.068000056\n",
      "100 0.06666672\n",
      "101 0.065333396\n",
      "102 0.06400006\n",
      "103 0.06266673\n",
      "104 0.061333403\n",
      "105 0.060000073\n",
      "106 0.05866673\n",
      "107 0.0573334\n",
      "108 0.056000065\n",
      "109 0.054666735\n",
      "110 0.053333405\n",
      "111 0.05200007\n",
      "112 0.050666742\n",
      "113 0.04933341\n",
      "114 0.04800008\n",
      "115 0.046666734\n",
      "116 0.045333404\n",
      "117 0.04400007\n",
      "118 0.04266674\n",
      "119 0.04133341\n",
      "120 0.040000077\n",
      "121 0.038666748\n",
      "122 0.037333414\n",
      "123 0.036000084\n",
      "124 0.03466674\n",
      "125 0.03333341\n",
      "126 0.032000076\n",
      "127 0.030666746\n",
      "128 0.029333415\n",
      "129 0.028000083\n",
      "130 0.026666753\n",
      "131 0.025333421\n",
      "132 0.02400009\n",
      "133 0.022666747\n",
      "134 0.021333415\n",
      "135 0.020000083\n",
      "136 0.018666752\n",
      "137 0.01733342\n",
      "138 0.016000088\n",
      "139 0.014666757\n",
      "140 0.013333426\n",
      "141 0.012000094\n",
      "142 0.01066675\n",
      "143 0.00933342\n",
      "144 0.008000088\n",
      "145 0.006666757\n",
      "146 0.0053334255\n",
      "147 0.0040000943\n",
      "148 0.0026667626\n",
      "149 0.0013334313\n",
      "150 1e-07\n",
      "151 1e-07\n",
      "152 1e-07\n",
      "153 1e-07\n",
      "154 1e-07\n",
      "155 1e-07\n",
      "156 1e-07\n",
      "157 1e-07\n",
      "158 1e-07\n",
      "159 1e-07\n",
      "160 1e-07\n",
      "161 1e-07\n",
      "162 1e-07\n",
      "163 1e-07\n",
      "164 1e-07\n",
      "165 1e-07\n",
      "166 1e-07\n",
      "167 1e-07\n",
      "168 1e-07\n",
      "169 1e-07\n",
      "170 1e-07\n",
      "171 1e-07\n",
      "172 1e-07\n",
      "173 1e-07\n",
      "174 1e-07\n",
      "175 1e-07\n",
      "176 1e-07\n",
      "177 1e-07\n",
      "178 1e-07\n",
      "179 1e-07\n",
      "180 1e-07\n",
      "181 1e-07\n",
      "182 1e-07\n",
      "183 1e-07\n",
      "184 1e-07\n",
      "185 1e-07\n",
      "186 1e-07\n",
      "187 1e-07\n",
      "188 1e-07\n",
      "189 1e-07\n",
      "190 1e-07\n",
      "191 1e-07\n",
      "192 1e-07\n",
      "193 1e-07\n",
      "194 1e-07\n",
      "195 1e-07\n",
      "196 1e-07\n",
      "197 1e-07\n",
      "198 1e-07\n",
      "199 1e-07\n"
     ]
    }
   ],
   "source": [
    "for i in range(200):\n",
    "    print(i, schedule_fn(i))"
   ]
  },
  {
   "cell_type": "code",
   "execution_count": null,
   "id": "97bd7ef7",
   "metadata": {},
   "outputs": [],
   "source": []
  }
 ],
 "metadata": {
  "kernelspec": {
   "display_name": "Python 3 (ipykernel)",
   "language": "python",
   "name": "python3"
  },
  "language_info": {
   "codemirror_mode": {
    "name": "ipython",
    "version": 3
   },
   "file_extension": ".py",
   "mimetype": "text/x-python",
   "name": "python",
   "nbconvert_exporter": "python",
   "pygments_lexer": "ipython3",
   "version": "3.7.13"
  },
  "latex_envs": {
   "LaTeX_envs_menu_present": true,
   "autoclose": false,
   "autocomplete": true,
   "bibliofile": "biblio.bib",
   "cite_by": "apalike",
   "current_citInitial": 1,
   "eqLabelWithNumbers": true,
   "eqNumInitial": 1,
   "hotkeys": {
    "equation": "Ctrl-E",
    "itemize": "Ctrl-I"
   },
   "labels_anchors": false,
   "latex_user_defs": false,
   "report_style_numbering": false,
   "user_envs_cfg": false
  },
  "toc": {
   "base_numbering": 1,
   "nav_menu": {},
   "number_sections": true,
   "sideBar": true,
   "skip_h1_title": false,
   "title_cell": "Table of Contents",
   "title_sidebar": "Contents",
   "toc_cell": false,
   "toc_position": {},
   "toc_section_display": true,
   "toc_window_display": false
  }
 },
 "nbformat": 4,
 "nbformat_minor": 5
}
