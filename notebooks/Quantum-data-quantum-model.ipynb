{
 "cells": [
  {
   "cell_type": "code",
   "execution_count": 1,
   "id": "db008b11",
   "metadata": {
    "ExecuteTime": {
     "end_time": "2022-07-13T17:36:35.643160Z",
     "start_time": "2022-07-13T17:36:34.554389Z"
    }
   },
   "outputs": [],
   "source": [
    "%load_ext autoreload\n",
    "%autoreload 2\n",
    "import matplotlib.pyplot as plt\n",
    "%matplotlib inline\n",
    "\n",
    "from importlib.util import find_spec\n",
    "if find_spec(\"qml_hep_lhc\") is None:\n",
    "    import sys\n",
    "    sys.path.append('..')"
   ]
  },
  {
   "cell_type": "code",
   "execution_count": 2,
   "id": "c2c1919f",
   "metadata": {
    "ExecuteTime": {
     "end_time": "2022-07-13T17:36:40.098552Z",
     "start_time": "2022-07-13T17:36:35.647347Z"
    }
   },
   "outputs": [
    {
     "name": "stderr",
     "output_type": "stream",
     "text": [
      "2022-07-13 23:06:35.849254: W tensorflow/stream_executor/platform/default/dso_loader.cc:64] Could not load dynamic library 'libcudart.so.11.0'; dlerror: libcudart.so.11.0: cannot open shared object file: No such file or directory\n",
      "2022-07-13 23:06:35.849287: I tensorflow/stream_executor/cuda/cudart_stub.cc:29] Ignore above cudart dlerror if you do not have a GPU set up on your machine.\n",
      "2022-07-13 23:06:39.985295: E tensorflow/stream_executor/cuda/cuda_driver.cc:271] failed call to cuInit: CUDA_ERROR_NO_DEVICE: no CUDA-capable device is detected\n",
      "2022-07-13 23:06:39.985332: I tensorflow/stream_executor/cuda/cuda_diagnostics.cc:156] kernel driver does not appear to be running on this host (bhagvada): /proc/driver/nvidia/version does not exist\n",
      "2022-07-13 23:06:39.985690: I tensorflow/core/platform/cpu_feature_guard.cc:151] This TensorFlow binary is optimized with oneAPI Deep Neural Network Library (oneDNN) to use the following CPU instructions in performance-critical operations:  AVX2 FMA\n",
      "To enable them in other operations, rebuild TensorFlow with the appropriate compiler flags.\n"
     ]
    }
   ],
   "source": [
    "from qml_hep_lhc.data import ElectronPhoton\n",
    "from qml_hep_lhc.models import VQC\n",
    "import argparse\n",
    "\n",
    "import cirq\n",
    "import sympy\n",
    "import numpy as np\n",
    "import tensorflow as tf\n",
    "import tensorflow_quantum as tfq\n",
    "\n",
    "# visualization tools\n",
    "%matplotlib inline\n",
    "import matplotlib.pyplot as plt\n",
    "from cirq.contrib.svg import SVGCircuit\n",
    "np.random.seed(1234)"
   ]
  },
  {
   "cell_type": "code",
   "execution_count": 3,
   "id": "f881045e",
   "metadata": {
    "ExecuteTime": {
     "end_time": "2022-07-13T17:36:40.189373Z",
     "start_time": "2022-07-13T17:36:40.103300Z"
    }
   },
   "outputs": [
    {
     "name": "stdout",
     "output_type": "stream",
     "text": [
      "None\n",
      "/home/gopald/Documents/qml-hep-lhc/datasets/downloaded\n",
      "Center cropping...\n",
      "Performing PCA on data...\n",
      "Cumulative sum : 97.55914\n",
      "Center cropping...\n",
      "Performing PCA on data...\n",
      "Cumulative sum : 98.51204\n"
     ]
    }
   ],
   "source": [
    "args = argparse.Namespace()\n",
    "args.center_crop = 0.2\n",
    "args.pca = 9\n",
    "\n",
    "data = ElectronPhoton(args)\n",
    "data.prepare_data()\n",
    "data.setup()"
   ]
  },
  {
   "cell_type": "code",
   "execution_count": 4,
   "id": "1f4c812e",
   "metadata": {
    "ExecuteTime": {
     "end_time": "2022-07-13T17:36:40.317076Z",
     "start_time": "2022-07-13T17:36:40.194022Z"
    }
   },
   "outputs": [
    {
     "data": {
      "text/plain": [
       "Dataset :Electron Photon small\n",
       "╒════════╤════════════════╤════════════════╤═══════════╕\n",
       "│ Data   │ Train size     │ Test size      │ Dims      │\n",
       "╞════════╪════════════════╪════════════════╪═══════════╡\n",
       "│ X      │ (100, 3, 3, 1) │ (100, 3, 3, 1) │ (3, 3, 1) │\n",
       "├────────┼────────────────┼────────────────┼───────────┤\n",
       "│ y      │ (100,)         │ (100,)         │ (1,)      │\n",
       "╘════════╧════════════════╧════════════════╧═══════════╛\n",
       "\n",
       "Train images stats\n",
       "Min: -0.38\n",
       "Max: 0.77\n",
       "Mean: -0.00\n",
       "Std: 0.10\n",
       "Train labels stats\n",
       "Min: 0.00\n",
       "Max: 1.00"
      ]
     },
     "execution_count": 4,
     "metadata": {},
     "output_type": "execute_result"
    }
   ],
   "source": [
    "data"
   ]
  },
  {
   "cell_type": "code",
   "execution_count": 5,
   "id": "519382d9",
   "metadata": {
    "ExecuteTime": {
     "end_time": "2022-07-13T17:36:40.412323Z",
     "start_time": "2022-07-13T17:36:40.326023Z"
    }
   },
   "outputs": [],
   "source": [
    "def single_qubit_wall(qubits, rotations):\n",
    "    \"\"\"Prepare a single qubit X,Y,Z rotation wall on `qubits`.\"\"\"\n",
    "    wall_circuit = cirq.Circuit()\n",
    "    for i, qubit in enumerate(qubits):\n",
    "        for j, gate in enumerate([cirq.X, cirq.Y, cirq.Z]):\n",
    "            wall_circuit.append(gate(qubit) ** rotations[i][j])\n",
    "\n",
    "    return wall_circuit"
   ]
  },
  {
   "cell_type": "code",
   "execution_count": 6,
   "id": "724f864d",
   "metadata": {
    "ExecuteTime": {
     "end_time": "2022-07-13T17:36:41.068875Z",
     "start_time": "2022-07-13T17:36:40.421567Z"
    }
   },
   "outputs": [
    {
     "name": "stderr",
     "output_type": "stream",
     "text": [
      "findfont: Font family ['Arial'] not found. Falling back to DejaVu Sans.\n"
     ]
    },
    {
     "data": {
      "image/svg+xml": [
       "<svg xmlns=\"http://www.w3.org/2000/svg\" width=\"380.75949218750003\" height=\"200.0\"><line x1=\"34.7588671875\" x2=\"350.75949218750003\" y1=\"25.0\" y2=\"25.0\" stroke=\"#1967d2\" stroke-width=\"1\" /><line x1=\"34.7588671875\" x2=\"350.75949218750003\" y1=\"75.0\" y2=\"75.0\" stroke=\"#1967d2\" stroke-width=\"1\" /><line x1=\"34.7588671875\" x2=\"350.75949218750003\" y1=\"125.0\" y2=\"125.0\" stroke=\"#1967d2\" stroke-width=\"1\" /><line x1=\"34.7588671875\" x2=\"350.75949218750003\" y1=\"175.0\" y2=\"175.0\" stroke=\"#1967d2\" stroke-width=\"1\" /><rect x=\"10.0\" y=\"5.0\" width=\"49.517734375\" height=\"40\" stroke=\"black\" fill=\"white\" stroke-width=\"0\" /><text x=\"34.7588671875\" y=\"25.0\" dominant-baseline=\"middle\" text-anchor=\"middle\" font-size=\"14px\" font-family=\"Arial\">(0, 0): </text><rect x=\"10.0\" y=\"55.0\" width=\"49.517734375\" height=\"40\" stroke=\"black\" fill=\"white\" stroke-width=\"0\" /><text x=\"34.7588671875\" y=\"75.0\" dominant-baseline=\"middle\" text-anchor=\"middle\" font-size=\"14px\" font-family=\"Arial\">(0, 1): </text><rect x=\"10.0\" y=\"105.0\" width=\"49.517734375\" height=\"40\" stroke=\"black\" fill=\"white\" stroke-width=\"0\" /><text x=\"34.7588671875\" y=\"125.0\" dominant-baseline=\"middle\" text-anchor=\"middle\" font-size=\"14px\" font-family=\"Arial\">(0, 2): </text><rect x=\"10.0\" y=\"155.0\" width=\"49.517734375\" height=\"40\" stroke=\"black\" fill=\"white\" stroke-width=\"0\" /><text x=\"34.7588671875\" y=\"175.0\" dominant-baseline=\"middle\" text-anchor=\"middle\" font-size=\"14px\" font-family=\"Arial\">(0, 3): </text><rect x=\"79.517734375\" y=\"5.0\" width=\"72.0629296875\" height=\"40\" stroke=\"black\" fill=\"white\" stroke-width=\"1\" /><text x=\"115.54919921875\" y=\"25.0\" dominant-baseline=\"middle\" text-anchor=\"middle\" font-size=\"14px\" font-family=\"Arial\">X^0.369</text><rect x=\"79.517734375\" y=\"55.0\" width=\"72.0629296875\" height=\"40\" stroke=\"black\" fill=\"white\" stroke-width=\"1\" /><text x=\"115.54919921875\" y=\"75.0\" dominant-baseline=\"middle\" text-anchor=\"middle\" font-size=\"14px\" font-family=\"Arial\">X^0.85</text><rect x=\"79.517734375\" y=\"105.0\" width=\"72.0629296875\" height=\"40\" stroke=\"black\" fill=\"white\" stroke-width=\"1\" /><text x=\"115.54919921875\" y=\"125.0\" dominant-baseline=\"middle\" text-anchor=\"middle\" font-size=\"14px\" font-family=\"Arial\">X^0.331</text><rect x=\"79.517734375\" y=\"155.0\" width=\"72.0629296875\" height=\"40\" stroke=\"black\" fill=\"white\" stroke-width=\"1\" /><text x=\"115.54919921875\" y=\"175.0\" dominant-baseline=\"middle\" text-anchor=\"middle\" font-size=\"14px\" font-family=\"Arial\">X^(2/11)</text><rect x=\"171.5806640625\" y=\"5.0\" width=\"69.19347656250001\" height=\"40\" stroke=\"black\" fill=\"white\" stroke-width=\"1\" /><text x=\"206.17740234375\" y=\"25.0\" dominant-baseline=\"middle\" text-anchor=\"middle\" font-size=\"14px\" font-family=\"Arial\">Y^0.952</text><rect x=\"171.5806640625\" y=\"55.0\" width=\"69.19347656250001\" height=\"40\" stroke=\"black\" fill=\"white\" stroke-width=\"1\" /><text x=\"206.17740234375\" y=\"75.0\" dominant-baseline=\"middle\" text-anchor=\"middle\" font-size=\"14px\" font-family=\"Arial\">Y^0.96</text><rect x=\"171.5806640625\" y=\"105.0\" width=\"69.19347656250001\" height=\"40\" stroke=\"black\" fill=\"white\" stroke-width=\"1\" /><text x=\"206.17740234375\" y=\"125.0\" dominant-baseline=\"middle\" text-anchor=\"middle\" font-size=\"14px\" font-family=\"Arial\">Y^0.261</text><rect x=\"171.5806640625\" y=\"155.0\" width=\"69.19347656250001\" height=\"40\" stroke=\"black\" fill=\"white\" stroke-width=\"1\" /><text x=\"206.17740234375\" y=\"175.0\" dominant-baseline=\"middle\" text-anchor=\"middle\" font-size=\"14px\" font-family=\"Arial\">Y^0.377</text><rect x=\"260.77414062500003\" y=\"5.0\" width=\"69.9853515625\" height=\"40\" stroke=\"black\" fill=\"white\" stroke-width=\"1\" /><text x=\"295.76681640625003\" y=\"25.0\" dominant-baseline=\"middle\" text-anchor=\"middle\" font-size=\"14px\" font-family=\"Arial\">Z^0.197</text><rect x=\"260.77414062500003\" y=\"55.0\" width=\"69.9853515625\" height=\"40\" stroke=\"black\" fill=\"white\" stroke-width=\"1\" /><text x=\"295.76681640625003\" y=\"75.0\" dominant-baseline=\"middle\" text-anchor=\"middle\" font-size=\"14px\" font-family=\"Arial\">Z^0.381</text><rect x=\"260.77414062500003\" y=\"105.0\" width=\"69.9853515625\" height=\"40\" stroke=\"black\" fill=\"white\" stroke-width=\"1\" /><text x=\"295.76681640625003\" y=\"125.0\" dominant-baseline=\"middle\" text-anchor=\"middle\" font-size=\"14px\" font-family=\"Arial\">Z^0.665</text><rect x=\"260.77414062500003\" y=\"155.0\" width=\"69.9853515625\" height=\"40\" stroke=\"black\" fill=\"white\" stroke-width=\"1\" /><text x=\"295.76681640625003\" y=\"175.0\" dominant-baseline=\"middle\" text-anchor=\"middle\" font-size=\"14px\" font-family=\"Arial\">Z^0.014</text></svg>"
      ],
      "text/plain": [
       "<cirq.contrib.svg.svg.SVGCircuit at 0x7f0a7988de10>"
      ]
     },
     "execution_count": 6,
     "metadata": {},
     "output_type": "execute_result"
    }
   ],
   "source": [
    "SVGCircuit(single_qubit_wall(\n",
    "    cirq.GridQubit.rect(1,4), np.random.uniform(size=(4, 3))))"
   ]
  },
  {
   "cell_type": "code",
   "execution_count": 7,
   "id": "084b5427",
   "metadata": {
    "ExecuteTime": {
     "end_time": "2022-07-13T17:36:41.140991Z",
     "start_time": "2022-07-13T17:36:41.074733Z"
    }
   },
   "outputs": [],
   "source": [
    "def v_theta(qubits):\n",
    "    \"\"\"Prepares a circuit that generates V(\\theta).\"\"\"\n",
    "    ref_paulis = [\n",
    "      cirq.X(q0) * cirq.X(q1) + \\\n",
    "      cirq.Y(q0) * cirq.Y(q1) + \\\n",
    "      cirq.Z(q0) * cirq.Z(q1) for q0, q1 in zip(qubits, qubits[1:])\n",
    "    ]\n",
    "    exp_symbols = list(sympy.symbols('ref_0:'+str(len(ref_paulis))))\n",
    "    return tfq.util.exponential(ref_paulis, exp_symbols), exp_symbols"
   ]
  },
  {
   "cell_type": "code",
   "execution_count": 8,
   "id": "7128d6be",
   "metadata": {
    "ExecuteTime": {
     "end_time": "2022-07-13T17:36:41.827884Z",
     "start_time": "2022-07-13T17:36:41.145598Z"
    }
   },
   "outputs": [
    {
     "name": "stdout",
     "output_type": "stream",
     "text": [
      "Symbols found in circuit:[ref_0]\n"
     ]
    },
    {
     "data": {
      "image/svg+xml": [
       "<svg xmlns=\"http://www.w3.org/2000/svg\" width=\"1127.4104296875\" height=\"100.0\"><line x1=\"34.7588671875\" x2=\"1097.4104296875\" y1=\"25.0\" y2=\"25.0\" stroke=\"#1967d2\" stroke-width=\"1\" /><line x1=\"34.7588671875\" x2=\"1097.4104296875\" y1=\"75.0\" y2=\"75.0\" stroke=\"#1967d2\" stroke-width=\"1\" /><line x1=\"159.517734375\" x2=\"159.517734375\" y1=\"25.0\" y2=\"75.0\" stroke=\"black\" stroke-width=\"3\" /><line x1=\"339.09585937500003\" x2=\"339.09585937500003\" y1=\"25.0\" y2=\"75.0\" stroke=\"black\" stroke-width=\"3\" /><line x1=\"546.149140625\" x2=\"546.149140625\" y1=\"25.0\" y2=\"75.0\" stroke=\"black\" stroke-width=\"3\" /><line x1=\"725.727265625\" x2=\"725.727265625\" y1=\"25.0\" y2=\"75.0\" stroke=\"black\" stroke-width=\"3\" /><line x1=\"877.8323046875\" x2=\"877.8323046875\" y1=\"25.0\" y2=\"75.0\" stroke=\"black\" stroke-width=\"3\" /><line x1=\"1057.4104296875\" x2=\"1057.4104296875\" y1=\"25.0\" y2=\"75.0\" stroke=\"black\" stroke-width=\"3\" /><rect x=\"10.0\" y=\"5.0\" width=\"49.517734375\" height=\"40\" stroke=\"black\" fill=\"white\" stroke-width=\"0\" /><text x=\"34.7588671875\" y=\"25.0\" dominant-baseline=\"middle\" text-anchor=\"middle\" font-size=\"14px\" font-family=\"Arial\">(0, 0): </text><rect x=\"10.0\" y=\"55.0\" width=\"49.517734375\" height=\"40\" stroke=\"black\" fill=\"white\" stroke-width=\"0\" /><text x=\"34.7588671875\" y=\"75.0\" dominant-baseline=\"middle\" text-anchor=\"middle\" font-size=\"14px\" font-family=\"Arial\">(0, 1): </text><rect x=\"79.517734375\" y=\"55.0\" width=\"40\" height=\"40\" stroke=\"black\" fill=\"white\" stroke-width=\"1\" /><text x=\"99.517734375\" y=\"75.0\" dominant-baseline=\"middle\" text-anchor=\"middle\" font-size=\"18px\" font-family=\"Arial\">H</text><rect x=\"79.517734375\" y=\"5.0\" width=\"40\" height=\"40\" stroke=\"black\" fill=\"white\" stroke-width=\"1\" /><text x=\"99.517734375\" y=\"25.0\" dominant-baseline=\"middle\" text-anchor=\"middle\" font-size=\"18px\" font-family=\"Arial\">H</text><circle cx=\"159.517734375\" cy=\"75.0\" r=\"10.0\" /><rect x=\"139.517734375\" y=\"5.0\" width=\"40\" height=\"40\" stroke=\"black\" fill=\"white\" stroke-width=\"1\" /><text x=\"159.517734375\" y=\"25.0\" dominant-baseline=\"middle\" text-anchor=\"middle\" font-size=\"18px\" font-family=\"Arial\">X</text><rect x=\"199.517734375\" y=\"5.0\" width=\"99.57812500000001\" height=\"40\" stroke=\"black\" fill=\"white\" stroke-width=\"1\" /><text x=\"249.306796875\" y=\"25.0\" dominant-baseline=\"middle\" text-anchor=\"middle\" font-size=\"14px\" font-family=\"Arial\">Rz(2.0*ref_0)</text><circle cx=\"339.09585937500003\" cy=\"75.0\" r=\"10.0\" /><rect x=\"319.09585937500003\" y=\"5.0\" width=\"40\" height=\"40\" stroke=\"black\" fill=\"white\" stroke-width=\"1\" /><text x=\"339.09585937500003\" y=\"25.0\" dominant-baseline=\"middle\" text-anchor=\"middle\" font-size=\"18px\" font-family=\"Arial\">X</text><rect x=\"379.09585937500003\" y=\"5.0\" width=\"40\" height=\"40\" stroke=\"black\" fill=\"white\" stroke-width=\"1\" /><text x=\"399.09585937500003\" y=\"25.0\" dominant-baseline=\"middle\" text-anchor=\"middle\" font-size=\"18px\" font-family=\"Arial\">H</text><rect x=\"379.09585937500003\" y=\"55.0\" width=\"40\" height=\"40\" stroke=\"black\" fill=\"white\" stroke-width=\"1\" /><text x=\"399.09585937500003\" y=\"75.0\" dominant-baseline=\"middle\" text-anchor=\"middle\" font-size=\"18px\" font-family=\"Arial\">H</text><rect x=\"439.09585937500003\" y=\"55.0\" width=\"67.05328125\" height=\"40\" stroke=\"black\" fill=\"white\" stroke-width=\"1\" /><text x=\"472.62250000000006\" y=\"75.0\" dominant-baseline=\"middle\" text-anchor=\"middle\" font-size=\"14px\" font-family=\"Arial\">Rx(0.5π)</text><rect x=\"439.09585937500003\" y=\"5.0\" width=\"67.05328125\" height=\"40\" stroke=\"black\" fill=\"white\" stroke-width=\"1\" /><text x=\"472.62250000000006\" y=\"25.0\" dominant-baseline=\"middle\" text-anchor=\"middle\" font-size=\"14px\" font-family=\"Arial\">Rx(0.5π)</text><circle cx=\"546.149140625\" cy=\"75.0\" r=\"10.0\" /><rect x=\"526.149140625\" y=\"5.0\" width=\"40\" height=\"40\" stroke=\"black\" fill=\"white\" stroke-width=\"1\" /><text x=\"546.149140625\" y=\"25.0\" dominant-baseline=\"middle\" text-anchor=\"middle\" font-size=\"18px\" font-family=\"Arial\">X</text><rect x=\"586.149140625\" y=\"5.0\" width=\"99.57812500000001\" height=\"40\" stroke=\"black\" fill=\"white\" stroke-width=\"1\" /><text x=\"635.938203125\" y=\"25.0\" dominant-baseline=\"middle\" text-anchor=\"middle\" font-size=\"14px\" font-family=\"Arial\">Rz(2.0*ref_0)</text><circle cx=\"725.727265625\" cy=\"75.0\" r=\"10.0\" /><rect x=\"705.727265625\" y=\"5.0\" width=\"40\" height=\"40\" stroke=\"black\" fill=\"white\" stroke-width=\"1\" /><text x=\"725.727265625\" y=\"25.0\" dominant-baseline=\"middle\" text-anchor=\"middle\" font-size=\"18px\" font-family=\"Arial\">X</text><rect x=\"765.727265625\" y=\"5.0\" width=\"72.1050390625\" height=\"40\" stroke=\"black\" fill=\"white\" stroke-width=\"1\" /><text x=\"801.77978515625\" y=\"25.0\" dominant-baseline=\"middle\" text-anchor=\"middle\" font-size=\"14px\" font-family=\"Arial\">Rx(-0.5π)</text><rect x=\"765.727265625\" y=\"55.0\" width=\"72.1050390625\" height=\"40\" stroke=\"black\" fill=\"white\" stroke-width=\"1\" /><text x=\"801.77978515625\" y=\"75.0\" dominant-baseline=\"middle\" text-anchor=\"middle\" font-size=\"14px\" font-family=\"Arial\">Rx(-0.5π)</text><circle cx=\"877.8323046875\" cy=\"25.0\" r=\"10.0\" /><rect x=\"857.8323046875\" y=\"55.0\" width=\"40\" height=\"40\" stroke=\"black\" fill=\"white\" stroke-width=\"1\" /><text x=\"877.8323046875\" y=\"75.0\" dominant-baseline=\"middle\" text-anchor=\"middle\" font-size=\"18px\" font-family=\"Arial\">X</text><rect x=\"917.8323046875\" y=\"55.0\" width=\"99.57812500000001\" height=\"40\" stroke=\"black\" fill=\"white\" stroke-width=\"1\" /><text x=\"967.6213671875\" y=\"75.0\" dominant-baseline=\"middle\" text-anchor=\"middle\" font-size=\"14px\" font-family=\"Arial\">Rz(2.0*ref_0)</text><circle cx=\"1057.4104296875\" cy=\"25.0\" r=\"10.0\" /><rect x=\"1037.4104296875\" y=\"55.0\" width=\"40\" height=\"40\" stroke=\"black\" fill=\"white\" stroke-width=\"1\" /><text x=\"1057.4104296875\" y=\"75.0\" dominant-baseline=\"middle\" text-anchor=\"middle\" font-size=\"18px\" font-family=\"Arial\">X</text></svg>"
      ],
      "text/plain": [
       "<cirq.contrib.svg.svg.SVGCircuit at 0x7f0a7989c990>"
      ]
     },
     "execution_count": 8,
     "metadata": {},
     "output_type": "execute_result"
    }
   ],
   "source": [
    "test_circuit, test_symbols = v_theta(cirq.GridQubit.rect(1, 2))\n",
    "print(f'Symbols found in circuit:{test_symbols}')\n",
    "SVGCircuit(test_circuit)"
   ]
  },
  {
   "cell_type": "code",
   "execution_count": 9,
   "id": "bcdcdb44",
   "metadata": {
    "ExecuteTime": {
     "end_time": "2022-07-13T17:36:41.913107Z",
     "start_time": "2022-07-13T17:36:41.832000Z"
    }
   },
   "outputs": [],
   "source": [
    "def prepare_pqk_circuits(qubits, classical_source, n_trotter=9):\n",
    "    \"\"\"Prepare the pqk feature circuits around a dataset.\"\"\"\n",
    "    n_qubits = len(qubits)\n",
    "    n_points = len(classical_source)\n",
    "\n",
    "    # Prepare random single qubit rotation wall.\n",
    "    random_rots = np.random.uniform(-2, 2, size=(n_qubits, 3))\n",
    "    initial_U = single_qubit_wall(qubits, random_rots)\n",
    "\n",
    "    # Prepare parametrized V\n",
    "    V_circuit, symbols = v_theta(qubits)\n",
    "    exp_circuit = cirq.Circuit(V_circuit for t in range(n_trotter))\n",
    "\n",
    "    # Convert to `tf.Tensor`\n",
    "    initial_U_tensor = tfq.convert_to_tensor([initial_U])\n",
    "    initial_U_splat = tf.tile(initial_U_tensor, [n_points])\n",
    "\n",
    "    full_circuits = tfq.layers.AddCircuit()(\n",
    "      initial_U_splat, append=exp_circuit)\n",
    "    # Replace placeholders in circuits with values from `classical_source`.\n",
    "    return tfq.resolve_parameters(\n",
    "      full_circuits, tf.convert_to_tensor([str(x) for x in symbols]),\n",
    "      tf.convert_to_tensor(classical_source*(n_qubits/3)/n_trotter))"
   ]
  },
  {
   "cell_type": "code",
   "execution_count": 10,
   "id": "7b166513",
   "metadata": {
    "ExecuteTime": {
     "end_time": "2022-07-13T17:36:42.078645Z",
     "start_time": "2022-07-13T17:36:41.917833Z"
    }
   },
   "outputs": [],
   "source": [
    "x_train = data.x_train.reshape(-1,9)\n",
    "x_test = data.x_test.reshape(-1,9)"
   ]
  },
  {
   "cell_type": "code",
   "execution_count": 11,
   "id": "8d30d44a",
   "metadata": {
    "ExecuteTime": {
     "end_time": "2022-07-13T17:36:50.162174Z",
     "start_time": "2022-07-13T17:36:42.091236Z"
    }
   },
   "outputs": [],
   "source": [
    "DATASET_DIM = 9\n",
    "qubits = cirq.GridQubit.rect(1, DATASET_DIM + 1)\n",
    "q_x_train_circuits = prepare_pqk_circuits(qubits, x_train)\n",
    "q_x_test_circuits = prepare_pqk_circuits(qubits, x_test)"
   ]
  },
  {
   "cell_type": "code",
   "execution_count": 12,
   "id": "430cd357",
   "metadata": {
    "ExecuteTime": {
     "end_time": "2022-07-13T17:36:50.262373Z",
     "start_time": "2022-07-13T17:36:50.165661Z"
    }
   },
   "outputs": [],
   "source": [
    "def get_pqk_features(qubits, data_batch):\n",
    "    \"\"\"Get PQK features based on above construction.\"\"\"\n",
    "    ops = [[cirq.X(q), cirq.Y(q), cirq.Z(q)] for q in qubits]\n",
    "    ops_tensor = tf.expand_dims(tf.reshape(tfq.convert_to_tensor(ops), -1), 0)\n",
    "    batch_dim = tf.gather(tf.shape(data_batch), 0)\n",
    "    ops_splat = tf.tile(ops_tensor, [batch_dim, 1])\n",
    "    exp_vals = tfq.layers.Expectation()(data_batch, operators=ops_splat)\n",
    "    rdm = tf.reshape(exp_vals, [batch_dim, len(qubits), -1])\n",
    "    return rdm"
   ]
  },
  {
   "cell_type": "code",
   "execution_count": 13,
   "id": "b2a971c4",
   "metadata": {
    "ExecuteTime": {
     "end_time": "2022-07-13T17:36:53.580713Z",
     "start_time": "2022-07-13T17:36:50.266499Z"
    }
   },
   "outputs": [
    {
     "name": "stdout",
     "output_type": "stream",
     "text": [
      "New PQK training dataset has shape: (100, 10, 3)\n",
      "New PQK testing dataset has shape: (100, 10, 3)\n"
     ]
    }
   ],
   "source": [
    "x_train_pqk = get_pqk_features(qubits, q_x_train_circuits)\n",
    "x_test_pqk = get_pqk_features(qubits, q_x_test_circuits)\n",
    "print('New PQK training dataset has shape:', x_train_pqk.shape)\n",
    "print('New PQK testing dataset has shape:', x_test_pqk.shape)"
   ]
  },
  {
   "cell_type": "code",
   "execution_count": 14,
   "id": "782d233e",
   "metadata": {
    "ExecuteTime": {
     "end_time": "2022-07-13T17:36:53.664445Z",
     "start_time": "2022-07-13T17:36:53.586032Z"
    }
   },
   "outputs": [],
   "source": [
    "def compute_kernel_matrix(vecs, gamma):\n",
    "    \"\"\"Computes d[i][j] = e^ -gamma * (vecs[i] - vecs[j]) ** 2 \"\"\"\n",
    "    scaled_gamma = gamma / (tf.cast(tf.gather(tf.shape(vecs), 1), tf.float32) * tf.math.reduce_std(vecs))\n",
    "    return scaled_gamma * tf.einsum('ijk->ij',(vecs[:,None,:] - vecs) ** 2)\n",
    "\n",
    "def get_spectrum(datapoints, gamma=1.0):\n",
    "    \"\"\"Compute the eigenvalues and eigenvectors of the kernel of datapoints.\"\"\"\n",
    "    KC_qs = compute_kernel_matrix(datapoints, gamma)\n",
    "    S, V = tf.linalg.eigh(KC_qs)\n",
    "    S = tf.math.abs(S)\n",
    "    return S, V"
   ]
  },
  {
   "cell_type": "code",
   "execution_count": 15,
   "id": "05c03165",
   "metadata": {
    "ExecuteTime": {
     "end_time": "2022-07-13T17:36:53.871107Z",
     "start_time": "2022-07-13T17:36:53.667194Z"
    }
   },
   "outputs": [
    {
     "name": "stdout",
     "output_type": "stream",
     "text": [
      "Eigenvectors of pqk kernel matrix: tf.Tensor(\n",
      "[[-0.05861564  0.06606742 -0.01445209 ... -0.12633847  0.01004228\n",
      "   0.0609736 ]\n",
      " [-0.09074094 -0.0482437   0.03341128 ... -0.00792502 -0.6178855\n",
      "   0.0728008 ]\n",
      " [-0.08010418 -0.07584776  0.04801812 ...  0.10825794 -0.03722573\n",
      "   0.10046869]\n",
      " ...\n",
      " [ 0.07716197  0.09263343  0.0207109  ...  0.06566181  0.09328894\n",
      "   0.07066144]\n",
      " [ 0.08256613  0.09746503  0.00085111 ... -0.15536202  0.04699476\n",
      "   0.06936362]\n",
      " [ 0.06995799 -0.02504404  0.07149449 ...  0.02367405  0.0149882\n",
      "   0.0685478 ]], shape=(200, 200), dtype=float32)\n",
      "Eigenvectors of original kernel matrix: tf.Tensor(\n",
      "[[-0.01485219 -0.08349728  0.01797059 ... -0.05996002  0.04708398\n",
      "   0.04488817]\n",
      " [-0.18340698  0.15891331  0.01466258 ... -0.01404849  0.48948944\n",
      "   0.1414669 ]\n",
      " [ 0.05182741  0.0459606   0.06905736 ... -0.12773456  0.01159237\n",
      "   0.098722  ]\n",
      " ...\n",
      " [ 0.01854927 -0.08124254  0.10922255 ... -0.00791932 -0.00700202\n",
      "   0.0564884 ]\n",
      " [-0.00790814 -0.09038292 -0.00645613 ...  0.0184797   0.04394528\n",
      "   0.04196005]\n",
      " [ 0.04256161  0.06591293 -0.12608658 ... -0.03635188  0.01605169\n",
      "   0.08197723]], shape=(200, 200), dtype=float32)\n"
     ]
    }
   ],
   "source": [
    "S_pqk, V_pqk = get_spectrum(\n",
    "    tf.reshape(tf.concat([x_train_pqk, x_test_pqk], 0), [-1, len(qubits) * 3]))\n",
    "\n",
    "S_original, V_original = get_spectrum(\n",
    "    tf.cast(tf.concat([x_train, x_test], 0), tf.float32), gamma=0.005)\n",
    "\n",
    "print('Eigenvectors of pqk kernel matrix:', V_pqk)\n",
    "print('Eigenvectors of original kernel matrix:', V_original)"
   ]
  },
  {
   "cell_type": "code",
   "execution_count": 16,
   "id": "cea658ef",
   "metadata": {
    "ExecuteTime": {
     "end_time": "2022-07-13T17:36:53.941046Z",
     "start_time": "2022-07-13T17:36:53.876042Z"
    }
   },
   "outputs": [],
   "source": [
    "def get_stilted_dataset(S, V, S_2, V_2, lambdav=1.1):\n",
    "    \"\"\"Prepare new labels that maximize geometric distance between kernels.\"\"\"\n",
    "    S_diag = tf.linalg.diag(S ** 0.5)\n",
    "    S_2_diag = tf.linalg.diag(S_2 / (S_2 + lambdav) ** 2)\n",
    "    scaling = S_diag @ tf.transpose(V) @ \\\n",
    "            V_2 @ S_2_diag @ tf.transpose(V_2) @ \\\n",
    "            V @ S_diag\n",
    "\n",
    "    # Generate new lables using the largest eigenvector.\n",
    "    _, vecs = tf.linalg.eig(scaling)\n",
    "    new_labels = tf.math.real(\n",
    "      tf.einsum('ij,j->i', tf.cast(V @ S_diag, tf.complex64), vecs[-1])).numpy()\n",
    "    # Create new labels and add some small amount of noise.\n",
    "    final_y = new_labels > np.median(new_labels)\n",
    "    noisy_y = (final_y ^ (np.random.uniform(size=final_y.shape) > 0.95))\n",
    "    return noisy_y"
   ]
  },
  {
   "cell_type": "code",
   "execution_count": 17,
   "id": "650f377a",
   "metadata": {
    "ExecuteTime": {
     "end_time": "2022-07-13T17:36:54.630540Z",
     "start_time": "2022-07-13T17:36:53.944133Z"
    }
   },
   "outputs": [],
   "source": [
    "y_relabel = get_stilted_dataset(S_pqk, V_pqk, S_original, V_original)\n",
    "y_train_new, y_test_new = y_relabel[:100], y_relabel[100:]"
   ]
  },
  {
   "cell_type": "code",
   "execution_count": 18,
   "id": "034365aa",
   "metadata": {
    "ExecuteTime": {
     "end_time": "2022-07-13T17:36:54.742300Z",
     "start_time": "2022-07-13T17:36:54.633321Z"
    }
   },
   "outputs": [
    {
     "name": "stdout",
     "output_type": "stream",
     "text": [
      "Model: \"sequential\"\n",
      "_________________________________________________________________\n",
      " Layer (type)                Output Shape              Param #   \n",
      "=================================================================\n",
      " dense (Dense)               (None, 32)                992       \n",
      "                                                                 \n",
      " dense_1 (Dense)             (None, 16)                528       \n",
      "                                                                 \n",
      " dense_2 (Dense)             (None, 1)                 17        \n",
      "                                                                 \n",
      "=================================================================\n",
      "Total params: 1,537\n",
      "Trainable params: 1,537\n",
      "Non-trainable params: 0\n",
      "_________________________________________________________________\n"
     ]
    }
   ],
   "source": [
    "#docs_infra: no_execute\n",
    "def create_pqk_model():\n",
    "    model = tf.keras.Sequential()\n",
    "    model.add(tf.keras.layers.Dense(32, activation='sigmoid', input_shape=[len(qubits) * 3,]))\n",
    "    model.add(tf.keras.layers.Dense(16, activation='sigmoid'))\n",
    "    model.add(tf.keras.layers.Dense(1))\n",
    "    return model\n",
    "\n",
    "pqk_model = create_pqk_model()\n",
    "pqk_model.compile(loss=tf.keras.losses.BinaryCrossentropy(from_logits=True),\n",
    "              optimizer=tf.keras.optimizers.Adam(learning_rate=0.003),\n",
    "              metrics=['accuracy'])\n",
    "\n",
    "pqk_model.summary()"
   ]
  },
  {
   "cell_type": "code",
   "execution_count": 19,
   "id": "5011167a",
   "metadata": {
    "ExecuteTime": {
     "end_time": "2022-07-13T17:37:27.565187Z",
     "start_time": "2022-07-13T17:36:54.745655Z"
    }
   },
   "outputs": [],
   "source": [
    "#docs_infra: no_execute\n",
    "pqk_history = pqk_model.fit(tf.reshape(x_train_pqk, [100, -1]),\n",
    "          y_train_new,\n",
    "          batch_size=32,\n",
    "          epochs=1000,\n",
    "          verbose=0,\n",
    "          validation_data=(tf.reshape(x_test_pqk, [100, -1]), y_test_new))"
   ]
  },
  {
   "cell_type": "code",
   "execution_count": 20,
   "id": "a5607b59",
   "metadata": {
    "ExecuteTime": {
     "end_time": "2022-07-13T17:37:27.678209Z",
     "start_time": "2022-07-13T17:37:27.569209Z"
    }
   },
   "outputs": [
    {
     "name": "stdout",
     "output_type": "stream",
     "text": [
      "Model: \"sequential_1\"\n",
      "_________________________________________________________________\n",
      " Layer (type)                Output Shape              Param #   \n",
      "=================================================================\n",
      " dense_3 (Dense)             (None, 32)                320       \n",
      "                                                                 \n",
      " dense_4 (Dense)             (None, 16)                528       \n",
      "                                                                 \n",
      " dense_5 (Dense)             (None, 1)                 17        \n",
      "                                                                 \n",
      "=================================================================\n",
      "Total params: 865\n",
      "Trainable params: 865\n",
      "Non-trainable params: 0\n",
      "_________________________________________________________________\n"
     ]
    }
   ],
   "source": [
    "#docs_infra: no_execute\n",
    "def create_fair_classical_model():\n",
    "    model = tf.keras.Sequential()\n",
    "    model.add(tf.keras.layers.Dense(32, activation='sigmoid', input_shape=[DATASET_DIM,]))\n",
    "    model.add(tf.keras.layers.Dense(16, activation='sigmoid'))\n",
    "    model.add(tf.keras.layers.Dense(1))\n",
    "    return model\n",
    "\n",
    "model = create_fair_classical_model()\n",
    "model.compile(loss=tf.keras.losses.BinaryCrossentropy(from_logits=True),\n",
    "              optimizer=tf.keras.optimizers.Adam(learning_rate=0.03),\n",
    "              metrics=['accuracy'])\n",
    "\n",
    "model.summary()"
   ]
  },
  {
   "cell_type": "code",
   "execution_count": 21,
   "id": "57bb8775",
   "metadata": {
    "ExecuteTime": {
     "end_time": "2022-07-13T17:37:28.778800Z",
     "start_time": "2022-07-13T17:37:27.683995Z"
    }
   },
   "outputs": [],
   "source": [
    "#docs_infra: no_execute\n",
    "classical_history = model.fit(x_train,\n",
    "          y_train_new,\n",
    "          batch_size=32,\n",
    "          epochs=10,\n",
    "          verbose=0,\n",
    "          validation_data=(x_test, y_test_new))"
   ]
  },
  {
   "cell_type": "code",
   "execution_count": 27,
   "id": "bd73593e",
   "metadata": {
    "ExecuteTime": {
     "end_time": "2022-07-13T17:38:26.037171Z",
     "start_time": "2022-07-13T17:38:25.958734Z"
    }
   },
   "outputs": [
    {
     "name": "stdout",
     "output_type": "stream",
     "text": [
      "N Layers:  1\n",
      "N Qubits:  5\n",
      "Cluster State:  None\n",
      "DRC:  None\n",
      "Feature Map:  <qml_hep_lhc.encodings.amplitude.AmplitudeMap object at 0x7f0a729bd510>\n",
      "Ansatz:  <qml_hep_lhc.ansatzes.cong.Cong object at 0x7f0a7295d3d0>\n",
      "Num data symbols:  32\n",
      "In symbols:  [[x0 x1 x2 x3 x4 x5 x6 x7 x8 x9 x10 x11 x12 x13 x14 x15 x16 x17 x18 x19\n",
      "  x20 x21 x22 x23 x24 x25 x26 x27 x28 x29 x30 x31]]\n",
      "In symbols shape:  (1, 32)\n"
     ]
    }
   ],
   "source": [
    "args = argparse.Namespace()\n",
    "args.feature_map = \"AmplitudeMap\"\n",
    "args.ansatz = \"Cong\"\n",
    "args.n_layers = 1\n",
    "args.num_workers = 4\n",
    "\n",
    "data_config = {\n",
    "    'input_dims': x_train_pqk.shape[1:]\n",
    "}\n",
    "\n",
    "vqc = VQC(data_config, args)"
   ]
  },
  {
   "cell_type": "code",
   "execution_count": 28,
   "id": "ee71f682",
   "metadata": {
    "ExecuteTime": {
     "end_time": "2022-07-13T17:38:28.132910Z",
     "start_time": "2022-07-13T17:38:28.054029Z"
    }
   },
   "outputs": [],
   "source": [
    "vqc.compile()"
   ]
  },
  {
   "cell_type": "code",
   "execution_count": 29,
   "id": "8f9985d5",
   "metadata": {
    "ExecuteTime": {
     "end_time": "2022-07-13T17:38:31.500358Z",
     "start_time": "2022-07-13T17:38:29.011462Z"
    }
   },
   "outputs": [
    {
     "name": "stdout",
     "output_type": "stream",
     "text": [
      "n_qubits: 5\n",
      "num_layers: 2\n",
      "n_layers: 1\n",
      "var_symbols: [[θ0 θ1 θ2 θ3 θ4 θ5 θ6 θ7 θ8 θ9 θ10 θ11 θ12 θ13 θ14 θ15 θ16 θ17 θ18 θ19\n",
      "  θ20]]\n",
      "observable: [cirq.PauliSum(cirq.LinearDict({frozenset({(cirq.GridQubit(0, 4), cirq.Z)}): (-0.5+0j), frozenset(): (0.5+0j)}))]\n",
      "self.observable:  ListWrapper([cirq.PauliSum(cirq.LinearDict({frozenset({(cirq.GridQubit(0, 4), cirq.Z)}): (-0.5+0j), frozenset(): (0.5+0j)}))])\n",
      "Theta shape:  (1, 21)\n",
      "Expr map:  cirq.ExpressionMap({2*asin((Abs(x16)**2 + Abs(x17)**2 + Abs(x18)**2 + Abs(x19)**2 + Abs(x20)**2 + Abs(x21)**2 + Abs(x22)**2 + Abs(x23)**2 + Abs(x24)**2 + Abs(x25)**2 + Abs(x26)**2 + Abs(x27)**2 + Abs(x28)**2 + Abs(x29)**2 + Abs(x30)**2 + Abs(x31)**2)**0.5*(Abs(x0)**2 + Abs(x1)**2 + Abs(x10)**2 + Abs(x11)**2 + Abs(x12)**2 + Abs(x13)**2 + Abs(x14)**2 + Abs(x15)**2 + Abs(x16)**2 + Abs(x17)**2 + Abs(x18)**2 + Abs(x19)**2 + Abs(x2)**2 + Abs(x20)**2 + Abs(x21)**2 + Abs(x22)**2 + Abs(x23)**2 + Abs(x24)**2 + Abs(x25)**2 + Abs(x26)**2 + Abs(x27)**2 + Abs(x28)**2 + Abs(x29)**2 + Abs(x3)**2 + Abs(x30)**2 + Abs(x31)**2 + Abs(x4)**2 + Abs(x5)**2 + Abs(x6)**2 + Abs(x7)**2 + Abs(x8)**2 + Abs(x9)**2)**(-0.5)): <2*asin((Abs(x16)**2 + Abs(x17)**2 + Abs(x18)**2 + Abs(x19)**2 + Abs(x20)**2 + Abs(x21)**2 + Abs(x22)**2 + Abs(x23)**2 + Abs(x24)**2 + Abs(x25)**2 + Abs(x26)**2 + Abs(x27)**2 + Abs(x28)**2 + Abs(x29)**2 + Abs(x30)**2 + Abs(x31)**2)**0.5*(Abs(x0)**2 + Abs(x1)**2 + Abs(x10)**2 + Abs(x11)**2 + Abs(x12)**2 + Abs(x13)**2 + Abs(x14)**2 + Abs(x15)**2 + Abs(x16)**2 + Abs(x17)**2 + Abs(x18)**2 + Abs(x19)**2 + Abs(x2)**2 + Abs(x20)**2 + Abs(x21)**2 + Abs(x22)**2 + Abs(x23)**2 + Abs(x24)**2 + Abs(x25)**2 + Abs(x26)**2 + Abs(x27)**2 + Abs(x28)**2 + Abs(x29)**2 + Abs(x3)**2 + Abs(x30)**2 + Abs(x31)**2 + Abs(x4)**2 + Abs(x5)**2 + Abs(x6)**2 + Abs(x7)**2 + Abs(x8)**2 + Abs(x9)**2)**(-0.5))>, 2*asin((Abs(x24)**2 + Abs(x25)**2 + Abs(x26)**2 + Abs(x27)**2 + Abs(x28)**2 + Abs(x29)**2 + Abs(x30)**2 + Abs(x31)**2)**0.5*(Abs(x16)**2 + Abs(x17)**2 + Abs(x18)**2 + Abs(x19)**2 + Abs(x20)**2 + Abs(x21)**2 + Abs(x22)**2 + Abs(x23)**2 + Abs(x24)**2 + Abs(x25)**2 + Abs(x26)**2 + Abs(x27)**2 + Abs(x28)**2 + Abs(x29)**2 + Abs(x30)**2 + Abs(x31)**2)**(-0.5)): <2*asin((Abs(x24)**2 + Abs(x25)**2 + Abs(x26)**2 + Abs(x27)**2 + Abs(x28)**2 + Abs(x29)**2 + Abs(x30)**2 + Abs(x31)**2)**0.5*(Abs(x16)**2 + Abs(x17)**2 + Abs(x18)**2 + Abs(x19)**2 + Abs(x20)**2 + Abs(x21)**2 + Abs(x22)**2 + Abs(x23)**2 + Abs(x24)**2 + Abs(x25)**2 + Abs(x26)**2 + Abs(x27)**2 + Abs(x28)**2 + Abs(x29)**2 + Abs(x30)**2 + Abs(x31)**2)**(-0.5))>, 2*asin((Abs(x10)**2 + Abs(x11)**2 + Abs(x12)**2 + Abs(x13)**2 + Abs(x14)**2 + Abs(x15)**2 + Abs(x8)**2 + Abs(x9)**2)**0.5*(Abs(x0)**2 + Abs(x1)**2 + Abs(x10)**2 + Abs(x11)**2 + Abs(x12)**2 + Abs(x13)**2 + Abs(x14)**2 + Abs(x15)**2 + Abs(x2)**2 + Abs(x3)**2 + Abs(x4)**2 + Abs(x5)**2 + Abs(x6)**2 + Abs(x7)**2 + Abs(x8)**2 + Abs(x9)**2)**(-0.5)): <2*asin((Abs(x10)**2 + Abs(x11)**2 + Abs(x12)**2 + Abs(x13)**2 + Abs(x14)**2 + Abs(x15)**2 + Abs(x8)**2 + Abs(x9)**2)**0.5*(Abs(x0)**2 + Abs(x1)**2 + Abs(x10)**2 + Abs(x11)**2 + Abs(x12)**2 + Abs(x13)**2 + Abs(x14)**2 + Abs(x15)**2 + Abs(x2)**2 + Abs(x3)**2 + Abs(x4)**2 + Abs(x5)**2 + Abs(x6)**2 + Abs(x7)**2 + Abs(x8)**2 + Abs(x9)**2)**(-0.5))>, 2*asin((Abs(x28)**2 + Abs(x29)**2 + Abs(x30)**2 + Abs(x31)**2)**0.5*(Abs(x24)**2 + Abs(x25)**2 + Abs(x26)**2 + Abs(x27)**2 + Abs(x28)**2 + Abs(x29)**2 + Abs(x30)**2 + Abs(x31)**2)**(-0.5)): <2*asin((Abs(x28)**2 + Abs(x29)**2 + Abs(x30)**2 + Abs(x31)**2)**0.5*(Abs(x24)**2 + Abs(x25)**2 + Abs(x26)**2 + Abs(x27)**2 + Abs(x28)**2 + Abs(x29)**2 + Abs(x30)**2 + Abs(x31)**2)**(-0.5))>, 2*asin((Abs(x20)**2 + Abs(x21)**2 + Abs(x22)**2 + Abs(x23)**2)**0.5*(Abs(x16)**2 + Abs(x17)**2 + Abs(x18)**2 + Abs(x19)**2 + Abs(x20)**2 + Abs(x21)**2 + Abs(x22)**2 + Abs(x23)**2)**(-0.5)): <2*asin((Abs(x20)**2 + Abs(x21)**2 + Abs(x22)**2 + Abs(x23)**2)**0.5*(Abs(x16)**2 + Abs(x17)**2 + Abs(x18)**2 + Abs(x19)**2 + Abs(x20)**2 + Abs(x21)**2 + Abs(x22)**2 + Abs(x23)**2)**(-0.5))>, 2*asin((Abs(x12)**2 + Abs(x13)**2 + Abs(x14)**2 + Abs(x15)**2)**0.5*(Abs(x10)**2 + Abs(x11)**2 + Abs(x12)**2 + Abs(x13)**2 + Abs(x14)**2 + Abs(x15)**2 + Abs(x8)**2 + Abs(x9)**2)**(-0.5)): <2*asin((Abs(x12)**2 + Abs(x13)**2 + Abs(x14)**2 + Abs(x15)**2)**0.5*(Abs(x10)**2 + Abs(x11)**2 + Abs(x12)**2 + Abs(x13)**2 + Abs(x14)**2 + Abs(x15)**2 + Abs(x8)**2 + Abs(x9)**2)**(-0.5))>, 2*asin((Abs(x4)**2 + Abs(x5)**2 + Abs(x6)**2 + Abs(x7)**2)**0.5*(Abs(x0)**2 + Abs(x1)**2 + Abs(x2)**2 + Abs(x3)**2 + Abs(x4)**2 + Abs(x5)**2 + Abs(x6)**2 + Abs(x7)**2)**(-0.5)): <2*asin((Abs(x4)**2 + Abs(x5)**2 + Abs(x6)**2 + Abs(x7)**2)**0.5*(Abs(x0)**2 + Abs(x1)**2 + Abs(x2)**2 + Abs(x3)**2 + Abs(x4)**2 + Abs(x5)**2 + Abs(x6)**2 + Abs(x7)**2)**(-0.5))>, 2*asin((Abs(x30)**2 + Abs(x31)**2)**0.5*(Abs(x28)**2 + Abs(x29)**2 + Abs(x30)**2 + Abs(x31)**2)**(-0.5)): <2*asin((Abs(x30)**2 + Abs(x31)**2)**0.5*(Abs(x28)**2 + Abs(x29)**2 + Abs(x30)**2 + Abs(x31)**2)**(-0.5))>, 2*asin((Abs(x26)**2 + Abs(x27)**2)**0.5*(Abs(x24)**2 + Abs(x25)**2 + Abs(x26)**2 + Abs(x27)**2)**(-0.5)): <2*asin((Abs(x26)**2 + Abs(x27)**2)**0.5*(Abs(x24)**2 + Abs(x25)**2 + Abs(x26)**2 + Abs(x27)**2)**(-0.5))>, 2*asin((Abs(x22)**2 + Abs(x23)**2)**0.5*(Abs(x20)**2 + Abs(x21)**2 + Abs(x22)**2 + Abs(x23)**2)**(-0.5)): <2*asin((Abs(x22)**2 + Abs(x23)**2)**0.5*(Abs(x20)**2 + Abs(x21)**2 + Abs(x22)**2 + Abs(x23)**2)**(-0.5))>, 2*asin((Abs(x18)**2 + Abs(x19)**2)**0.5*(Abs(x16)**2 + Abs(x17)**2 + Abs(x18)**2 + Abs(x19)**2)**(-0.5)): <2*asin((Abs(x18)**2 + Abs(x19)**2)**0.5*(Abs(x16)**2 + Abs(x17)**2 + Abs(x18)**2 + Abs(x19)**2)**(-0.5))>, 2*asin((Abs(x14)**2 + Abs(x15)**2)**0.5*(Abs(x12)**2 + Abs(x13)**2 + Abs(x14)**2 + Abs(x15)**2)**(-0.5)): <2*asin((Abs(x14)**2 + Abs(x15)**2)**0.5*(Abs(x12)**2 + Abs(x13)**2 + Abs(x14)**2 + Abs(x15)**2)**(-0.5))>, 2*asin((Abs(x10)**2 + Abs(x11)**2)**0.5*(Abs(x10)**2 + Abs(x11)**2 + Abs(x8)**2 + Abs(x9)**2)**(-0.5)): <2*asin((Abs(x10)**2 + Abs(x11)**2)**0.5*(Abs(x10)**2 + Abs(x11)**2 + Abs(x8)**2 + Abs(x9)**2)**(-0.5))>, 2*asin((Abs(x6)**2 + Abs(x7)**2)**0.5*(Abs(x4)**2 + Abs(x5)**2 + Abs(x6)**2 + Abs(x7)**2)**(-0.5)): <2*asin((Abs(x6)**2 + Abs(x7)**2)**0.5*(Abs(x4)**2 + Abs(x5)**2 + Abs(x6)**2 + Abs(x7)**2)**(-0.5))>, 2*asin((Abs(x2)**2 + Abs(x3)**2)**0.5*(Abs(x0)**2 + Abs(x1)**2 + Abs(x2)**2 + Abs(x3)**2)**(-0.5)): <2*asin((Abs(x2)**2 + Abs(x3)**2)**0.5*(Abs(x0)**2 + Abs(x1)**2 + Abs(x2)**2 + Abs(x3)**2)**(-0.5))>, 2*asin((Abs(x30)**2 + Abs(x31)**2)**(-0.5)*Abs(x31)**1.0): <2*asin((Abs(x30)**2 + Abs(x31)**2)**(-0.5)*Abs(x31)**1.0)>, 2*asin((Abs(x28)**2 + Abs(x29)**2)**(-0.5)*Abs(x29)**1.0): <2*asin((Abs(x28)**2 + Abs(x29)**2)**(-0.5)*Abs(x29)**1.0)>, 2*asin((Abs(x26)**2 + Abs(x27)**2)**(-0.5)*Abs(x27)**1.0): <2*asin((Abs(x26)**2 + Abs(x27)**2)**(-0.5)*Abs(x27)**1.0)>, 2*asin((Abs(x24)**2 + Abs(x25)**2)**(-0.5)*Abs(x25)**1.0): <2*asin((Abs(x24)**2 + Abs(x25)**2)**(-0.5)*Abs(x25)**1.0)>, 2*asin((Abs(x22)**2 + Abs(x23)**2)**(-0.5)*Abs(x23)**1.0): <2*asin((Abs(x22)**2 + Abs(x23)**2)**(-0.5)*Abs(x23)**1.0)>, 2*asin((Abs(x20)**2 + Abs(x21)**2)**(-0.5)*Abs(x21)**1.0): <2*asin((Abs(x20)**2 + Abs(x21)**2)**(-0.5)*Abs(x21)**1.0)>, 2*asin((Abs(x18)**2 + Abs(x19)**2)**(-0.5)*Abs(x19)**1.0): <2*asin((Abs(x18)**2 + Abs(x19)**2)**(-0.5)*Abs(x19)**1.0)>, 2*asin((Abs(x16)**2 + Abs(x17)**2)**(-0.5)*Abs(x17)**1.0): <2*asin((Abs(x16)**2 + Abs(x17)**2)**(-0.5)*Abs(x17)**1.0)>, 2*asin((Abs(x14)**2 + Abs(x15)**2)**(-0.5)*Abs(x15)**1.0): <2*asin((Abs(x14)**2 + Abs(x15)**2)**(-0.5)*Abs(x15)**1.0)>, 2*asin((Abs(x12)**2 + Abs(x13)**2)**(-0.5)*Abs(x13)**1.0): <2*asin((Abs(x12)**2 + Abs(x13)**2)**(-0.5)*Abs(x13)**1.0)>, 2*asin((Abs(x10)**2 + Abs(x11)**2)**(-0.5)*Abs(x11)**1.0): <2*asin((Abs(x10)**2 + Abs(x11)**2)**(-0.5)*Abs(x11)**1.0)>, 2*asin((Abs(x8)**2 + Abs(x9)**2)**(-0.5)*Abs(x9)**1.0): <2*asin((Abs(x8)**2 + Abs(x9)**2)**(-0.5)*Abs(x9)**1.0)>, 2*asin((Abs(x6)**2 + Abs(x7)**2)**(-0.5)*Abs(x7)**1.0): <2*asin((Abs(x6)**2 + Abs(x7)**2)**(-0.5)*Abs(x7)**1.0)>, 2*asin((Abs(x4)**2 + Abs(x5)**2)**(-0.5)*Abs(x5)**1.0): <2*asin((Abs(x4)**2 + Abs(x5)**2)**(-0.5)*Abs(x5)**1.0)>, 2*asin((Abs(x2)**2 + Abs(x3)**2)**(-0.5)*Abs(x3)**1.0): <2*asin((Abs(x2)**2 + Abs(x3)**2)**(-0.5)*Abs(x3)**1.0)>, 2*asin((Abs(x0)**2 + Abs(x1)**2)**(-0.5)*Abs(x1)**1.0): <2*asin((Abs(x0)**2 + Abs(x1)**2)**(-0.5)*Abs(x1)**1.0)>})\n",
      "Raw in symbols:  [x0, x1, x2, x3, x4, x5, x6, x7, x8, x9, x10, x11, x12, x13, x14, x15, x16, x17, x18, x19, x20, x21, x22, x23, x24, x25, x26, x27, x28, x29, x30, x31] <class 'sympy.core.symbol.Symbol'>\n",
      "Data expr:  [2*asin((Abs(x16)**2 + Abs(x17)**2 + Abs(x18)**2 + Abs(x19)**2 + Abs(x20)**2 + Abs(x21)**2 + Abs(x22)**2 + Abs(x23)**2 + Abs(x24)**2 + Abs(x25)**2 + Abs(x26)**2 + Abs(x27)**2 + Abs(x28)**2 + Abs(x29)**2 + Abs(x30)**2 + Abs(x31)**2)**0.5*(Abs(x0)**2 + Abs(x1)**2 + Abs(x10)**2 + Abs(x11)**2 + Abs(x12)**2 + Abs(x13)**2 + Abs(x14)**2 + Abs(x15)**2 + Abs(x16)**2 + Abs(x17)**2 + Abs(x18)**2 + Abs(x19)**2 + Abs(x2)**2 + Abs(x20)**2 + Abs(x21)**2 + Abs(x22)**2 + Abs(x23)**2 + Abs(x24)**2 + Abs(x25)**2 + Abs(x26)**2 + Abs(x27)**2 + Abs(x28)**2 + Abs(x29)**2 + Abs(x3)**2 + Abs(x30)**2 + Abs(x31)**2 + Abs(x4)**2 + Abs(x5)**2 + Abs(x6)**2 + Abs(x7)**2 + Abs(x8)**2 + Abs(x9)**2)**(-0.5)), 2*asin((Abs(x24)**2 + Abs(x25)**2 + Abs(x26)**2 + Abs(x27)**2 + Abs(x28)**2 + Abs(x29)**2 + Abs(x30)**2 + Abs(x31)**2)**0.5*(Abs(x16)**2 + Abs(x17)**2 + Abs(x18)**2 + Abs(x19)**2 + Abs(x20)**2 + Abs(x21)**2 + Abs(x22)**2 + Abs(x23)**2 + Abs(x24)**2 + Abs(x25)**2 + Abs(x26)**2 + Abs(x27)**2 + Abs(x28)**2 + Abs(x29)**2 + Abs(x30)**2 + Abs(x31)**2)**(-0.5)), 2*asin((Abs(x10)**2 + Abs(x11)**2 + Abs(x12)**2 + Abs(x13)**2 + Abs(x14)**2 + Abs(x15)**2 + Abs(x8)**2 + Abs(x9)**2)**0.5*(Abs(x0)**2 + Abs(x1)**2 + Abs(x10)**2 + Abs(x11)**2 + Abs(x12)**2 + Abs(x13)**2 + Abs(x14)**2 + Abs(x15)**2 + Abs(x2)**2 + Abs(x3)**2 + Abs(x4)**2 + Abs(x5)**2 + Abs(x6)**2 + Abs(x7)**2 + Abs(x8)**2 + Abs(x9)**2)**(-0.5)), 2*asin((Abs(x28)**2 + Abs(x29)**2 + Abs(x30)**2 + Abs(x31)**2)**0.5*(Abs(x24)**2 + Abs(x25)**2 + Abs(x26)**2 + Abs(x27)**2 + Abs(x28)**2 + Abs(x29)**2 + Abs(x30)**2 + Abs(x31)**2)**(-0.5)), 2*asin((Abs(x20)**2 + Abs(x21)**2 + Abs(x22)**2 + Abs(x23)**2)**0.5*(Abs(x16)**2 + Abs(x17)**2 + Abs(x18)**2 + Abs(x19)**2 + Abs(x20)**2 + Abs(x21)**2 + Abs(x22)**2 + Abs(x23)**2)**(-0.5)), 2*asin((Abs(x12)**2 + Abs(x13)**2 + Abs(x14)**2 + Abs(x15)**2)**0.5*(Abs(x10)**2 + Abs(x11)**2 + Abs(x12)**2 + Abs(x13)**2 + Abs(x14)**2 + Abs(x15)**2 + Abs(x8)**2 + Abs(x9)**2)**(-0.5)), 2*asin((Abs(x4)**2 + Abs(x5)**2 + Abs(x6)**2 + Abs(x7)**2)**0.5*(Abs(x0)**2 + Abs(x1)**2 + Abs(x2)**2 + Abs(x3)**2 + Abs(x4)**2 + Abs(x5)**2 + Abs(x6)**2 + Abs(x7)**2)**(-0.5)), 2*asin((Abs(x30)**2 + Abs(x31)**2)**0.5*(Abs(x28)**2 + Abs(x29)**2 + Abs(x30)**2 + Abs(x31)**2)**(-0.5)), 2*asin((Abs(x26)**2 + Abs(x27)**2)**0.5*(Abs(x24)**2 + Abs(x25)**2 + Abs(x26)**2 + Abs(x27)**2)**(-0.5)), 2*asin((Abs(x22)**2 + Abs(x23)**2)**0.5*(Abs(x20)**2 + Abs(x21)**2 + Abs(x22)**2 + Abs(x23)**2)**(-0.5)), 2*asin((Abs(x18)**2 + Abs(x19)**2)**0.5*(Abs(x16)**2 + Abs(x17)**2 + Abs(x18)**2 + Abs(x19)**2)**(-0.5)), 2*asin((Abs(x14)**2 + Abs(x15)**2)**0.5*(Abs(x12)**2 + Abs(x13)**2 + Abs(x14)**2 + Abs(x15)**2)**(-0.5)), 2*asin((Abs(x10)**2 + Abs(x11)**2)**0.5*(Abs(x10)**2 + Abs(x11)**2 + Abs(x8)**2 + Abs(x9)**2)**(-0.5)), 2*asin((Abs(x6)**2 + Abs(x7)**2)**0.5*(Abs(x4)**2 + Abs(x5)**2 + Abs(x6)**2 + Abs(x7)**2)**(-0.5)), 2*asin((Abs(x2)**2 + Abs(x3)**2)**0.5*(Abs(x0)**2 + Abs(x1)**2 + Abs(x2)**2 + Abs(x3)**2)**(-0.5)), 2*asin((Abs(x30)**2 + Abs(x31)**2)**(-0.5)*Abs(x31)**1.0), 2*asin((Abs(x28)**2 + Abs(x29)**2)**(-0.5)*Abs(x29)**1.0), 2*asin((Abs(x26)**2 + Abs(x27)**2)**(-0.5)*Abs(x27)**1.0), 2*asin((Abs(x24)**2 + Abs(x25)**2)**(-0.5)*Abs(x25)**1.0), 2*asin((Abs(x22)**2 + Abs(x23)**2)**(-0.5)*Abs(x23)**1.0), 2*asin((Abs(x20)**2 + Abs(x21)**2)**(-0.5)*Abs(x21)**1.0), 2*asin((Abs(x18)**2 + Abs(x19)**2)**(-0.5)*Abs(x19)**1.0), 2*asin((Abs(x16)**2 + Abs(x17)**2)**(-0.5)*Abs(x17)**1.0), 2*asin((Abs(x14)**2 + Abs(x15)**2)**(-0.5)*Abs(x15)**1.0), 2*asin((Abs(x12)**2 + Abs(x13)**2)**(-0.5)*Abs(x13)**1.0), 2*asin((Abs(x10)**2 + Abs(x11)**2)**(-0.5)*Abs(x11)**1.0), 2*asin((Abs(x8)**2 + Abs(x9)**2)**(-0.5)*Abs(x9)**1.0), 2*asin((Abs(x6)**2 + Abs(x7)**2)**(-0.5)*Abs(x7)**1.0), 2*asin((Abs(x4)**2 + Abs(x5)**2)**(-0.5)*Abs(x5)**1.0), 2*asin((Abs(x2)**2 + Abs(x3)**2)**(-0.5)*Abs(x3)**1.0), 2*asin((Abs(x0)**2 + Abs(x1)**2)**(-0.5)*Abs(x1)**1.0)] <class 'sympy.core.mul.Mul'>\n",
      "Data expr symbols:  [<2*asin((Abs(x16)**2 + Abs(x17)**2 + Abs(x18)**2 + Abs(x19)**2 + Abs(x20)**2 + Abs(x21)**2 + Abs(x22)**2 + Abs(x23)**2 + Abs(x24)**2 + Abs(x25)**2 + Abs(x26)**2 + Abs(x27)**2 + Abs(x28)**2 + Abs(x29)**2 + Abs(x30)**2 + Abs(x31)**2)**0.5*(Abs(x0)**2 + Abs(x1)**2 + Abs(x10)**2 + Abs(x11)**2 + Abs(x12)**2 + Abs(x13)**2 + Abs(x14)**2 + Abs(x15)**2 + Abs(x16)**2 + Abs(x17)**2 + Abs(x18)**2 + Abs(x19)**2 + Abs(x2)**2 + Abs(x20)**2 + Abs(x21)**2 + Abs(x22)**2 + Abs(x23)**2 + Abs(x24)**2 + Abs(x25)**2 + Abs(x26)**2 + Abs(x27)**2 + Abs(x28)**2 + Abs(x29)**2 + Abs(x3)**2 + Abs(x30)**2 + Abs(x31)**2 + Abs(x4)**2 + Abs(x5)**2 + Abs(x6)**2 + Abs(x7)**2 + Abs(x8)**2 + Abs(x9)**2)**(-0.5))>, <2*asin((Abs(x24)**2 + Abs(x25)**2 + Abs(x26)**2 + Abs(x27)**2 + Abs(x28)**2 + Abs(x29)**2 + Abs(x30)**2 + Abs(x31)**2)**0.5*(Abs(x16)**2 + Abs(x17)**2 + Abs(x18)**2 + Abs(x19)**2 + Abs(x20)**2 + Abs(x21)**2 + Abs(x22)**2 + Abs(x23)**2 + Abs(x24)**2 + Abs(x25)**2 + Abs(x26)**2 + Abs(x27)**2 + Abs(x28)**2 + Abs(x29)**2 + Abs(x30)**2 + Abs(x31)**2)**(-0.5))>, <2*asin((Abs(x10)**2 + Abs(x11)**2 + Abs(x12)**2 + Abs(x13)**2 + Abs(x14)**2 + Abs(x15)**2 + Abs(x8)**2 + Abs(x9)**2)**0.5*(Abs(x0)**2 + Abs(x1)**2 + Abs(x10)**2 + Abs(x11)**2 + Abs(x12)**2 + Abs(x13)**2 + Abs(x14)**2 + Abs(x15)**2 + Abs(x2)**2 + Abs(x3)**2 + Abs(x4)**2 + Abs(x5)**2 + Abs(x6)**2 + Abs(x7)**2 + Abs(x8)**2 + Abs(x9)**2)**(-0.5))>, <2*asin((Abs(x28)**2 + Abs(x29)**2 + Abs(x30)**2 + Abs(x31)**2)**0.5*(Abs(x24)**2 + Abs(x25)**2 + Abs(x26)**2 + Abs(x27)**2 + Abs(x28)**2 + Abs(x29)**2 + Abs(x30)**2 + Abs(x31)**2)**(-0.5))>, <2*asin((Abs(x20)**2 + Abs(x21)**2 + Abs(x22)**2 + Abs(x23)**2)**0.5*(Abs(x16)**2 + Abs(x17)**2 + Abs(x18)**2 + Abs(x19)**2 + Abs(x20)**2 + Abs(x21)**2 + Abs(x22)**2 + Abs(x23)**2)**(-0.5))>, <2*asin((Abs(x12)**2 + Abs(x13)**2 + Abs(x14)**2 + Abs(x15)**2)**0.5*(Abs(x10)**2 + Abs(x11)**2 + Abs(x12)**2 + Abs(x13)**2 + Abs(x14)**2 + Abs(x15)**2 + Abs(x8)**2 + Abs(x9)**2)**(-0.5))>, <2*asin((Abs(x4)**2 + Abs(x5)**2 + Abs(x6)**2 + Abs(x7)**2)**0.5*(Abs(x0)**2 + Abs(x1)**2 + Abs(x2)**2 + Abs(x3)**2 + Abs(x4)**2 + Abs(x5)**2 + Abs(x6)**2 + Abs(x7)**2)**(-0.5))>, <2*asin((Abs(x30)**2 + Abs(x31)**2)**0.5*(Abs(x28)**2 + Abs(x29)**2 + Abs(x30)**2 + Abs(x31)**2)**(-0.5))>, <2*asin((Abs(x26)**2 + Abs(x27)**2)**0.5*(Abs(x24)**2 + Abs(x25)**2 + Abs(x26)**2 + Abs(x27)**2)**(-0.5))>, <2*asin((Abs(x22)**2 + Abs(x23)**2)**0.5*(Abs(x20)**2 + Abs(x21)**2 + Abs(x22)**2 + Abs(x23)**2)**(-0.5))>, <2*asin((Abs(x18)**2 + Abs(x19)**2)**0.5*(Abs(x16)**2 + Abs(x17)**2 + Abs(x18)**2 + Abs(x19)**2)**(-0.5))>, <2*asin((Abs(x14)**2 + Abs(x15)**2)**0.5*(Abs(x12)**2 + Abs(x13)**2 + Abs(x14)**2 + Abs(x15)**2)**(-0.5))>, <2*asin((Abs(x10)**2 + Abs(x11)**2)**0.5*(Abs(x10)**2 + Abs(x11)**2 + Abs(x8)**2 + Abs(x9)**2)**(-0.5))>, <2*asin((Abs(x6)**2 + Abs(x7)**2)**0.5*(Abs(x4)**2 + Abs(x5)**2 + Abs(x6)**2 + Abs(x7)**2)**(-0.5))>, <2*asin((Abs(x2)**2 + Abs(x3)**2)**0.5*(Abs(x0)**2 + Abs(x1)**2 + Abs(x2)**2 + Abs(x3)**2)**(-0.5))>, <2*asin((Abs(x30)**2 + Abs(x31)**2)**(-0.5)*Abs(x31)**1.0)>, <2*asin((Abs(x28)**2 + Abs(x29)**2)**(-0.5)*Abs(x29)**1.0)>, <2*asin((Abs(x26)**2 + Abs(x27)**2)**(-0.5)*Abs(x27)**1.0)>, <2*asin((Abs(x24)**2 + Abs(x25)**2)**(-0.5)*Abs(x25)**1.0)>, <2*asin((Abs(x22)**2 + Abs(x23)**2)**(-0.5)*Abs(x23)**1.0)>, <2*asin((Abs(x20)**2 + Abs(x21)**2)**(-0.5)*Abs(x21)**1.0)>, <2*asin((Abs(x18)**2 + Abs(x19)**2)**(-0.5)*Abs(x19)**1.0)>, <2*asin((Abs(x16)**2 + Abs(x17)**2)**(-0.5)*Abs(x17)**1.0)>, <2*asin((Abs(x14)**2 + Abs(x15)**2)**(-0.5)*Abs(x15)**1.0)>, <2*asin((Abs(x12)**2 + Abs(x13)**2)**(-0.5)*Abs(x13)**1.0)>, <2*asin((Abs(x10)**2 + Abs(x11)**2)**(-0.5)*Abs(x11)**1.0)>, <2*asin((Abs(x8)**2 + Abs(x9)**2)**(-0.5)*Abs(x9)**1.0)>, <2*asin((Abs(x6)**2 + Abs(x7)**2)**(-0.5)*Abs(x7)**1.0)>, <2*asin((Abs(x4)**2 + Abs(x5)**2)**(-0.5)*Abs(x5)**1.0)>, <2*asin((Abs(x2)**2 + Abs(x3)**2)**(-0.5)*Abs(x3)**1.0)>, <2*asin((Abs(x0)**2 + Abs(x1)**2)**(-0.5)*Abs(x1)**1.0)>] <class 'sympy.core.symbol.Symbol'>\n",
      "Var expr symbols:  [θ0, θ1, θ2, θ3, θ4, θ5, θ6, θ7, θ8, θ9, θ10, θ11, θ12, θ13, θ14, θ15, θ16, θ17, θ18, θ19, θ20] <class 'sympy.core.symbol.Symbol'>\n",
      "Data expr symbols:  [<2*asin((Abs(x16)**2 + Abs(x17)**2 + Abs(x18)**2 + Abs(x19)**2 + Abs(x20)**2 + Abs(x21)**2 + Abs(x22)**2 + Abs(x23)**2 + Abs(x24)**2 + Abs(x25)**2 + Abs(x26)**2 + Abs(x27)**2 + Abs(x28)**2 + Abs(x29)**2 + Abs(x30)**2 + Abs(x31)**2)**0.5*(Abs(x0)**2 + Abs(x1)**2 + Abs(x10)**2 + Abs(x11)**2 + Abs(x12)**2 + Abs(x13)**2 + Abs(x14)**2 + Abs(x15)**2 + Abs(x16)**2 + Abs(x17)**2 + Abs(x18)**2 + Abs(x19)**2 + Abs(x2)**2 + Abs(x20)**2 + Abs(x21)**2 + Abs(x22)**2 + Abs(x23)**2 + Abs(x24)**2 + Abs(x25)**2 + Abs(x26)**2 + Abs(x27)**2 + Abs(x28)**2 + Abs(x29)**2 + Abs(x3)**2 + Abs(x30)**2 + Abs(x31)**2 + Abs(x4)**2 + Abs(x5)**2 + Abs(x6)**2 + Abs(x7)**2 + Abs(x8)**2 + Abs(x9)**2)**(-0.5))>, <2*asin((Abs(x24)**2 + Abs(x25)**2 + Abs(x26)**2 + Abs(x27)**2 + Abs(x28)**2 + Abs(x29)**2 + Abs(x30)**2 + Abs(x31)**2)**0.5*(Abs(x16)**2 + Abs(x17)**2 + Abs(x18)**2 + Abs(x19)**2 + Abs(x20)**2 + Abs(x21)**2 + Abs(x22)**2 + Abs(x23)**2 + Abs(x24)**2 + Abs(x25)**2 + Abs(x26)**2 + Abs(x27)**2 + Abs(x28)**2 + Abs(x29)**2 + Abs(x30)**2 + Abs(x31)**2)**(-0.5))>, <2*asin((Abs(x10)**2 + Abs(x11)**2 + Abs(x12)**2 + Abs(x13)**2 + Abs(x14)**2 + Abs(x15)**2 + Abs(x8)**2 + Abs(x9)**2)**0.5*(Abs(x0)**2 + Abs(x1)**2 + Abs(x10)**2 + Abs(x11)**2 + Abs(x12)**2 + Abs(x13)**2 + Abs(x14)**2 + Abs(x15)**2 + Abs(x2)**2 + Abs(x3)**2 + Abs(x4)**2 + Abs(x5)**2 + Abs(x6)**2 + Abs(x7)**2 + Abs(x8)**2 + Abs(x9)**2)**(-0.5))>, <2*asin((Abs(x28)**2 + Abs(x29)**2 + Abs(x30)**2 + Abs(x31)**2)**0.5*(Abs(x24)**2 + Abs(x25)**2 + Abs(x26)**2 + Abs(x27)**2 + Abs(x28)**2 + Abs(x29)**2 + Abs(x30)**2 + Abs(x31)**2)**(-0.5))>, <2*asin((Abs(x20)**2 + Abs(x21)**2 + Abs(x22)**2 + Abs(x23)**2)**0.5*(Abs(x16)**2 + Abs(x17)**2 + Abs(x18)**2 + Abs(x19)**2 + Abs(x20)**2 + Abs(x21)**2 + Abs(x22)**2 + Abs(x23)**2)**(-0.5))>, <2*asin((Abs(x12)**2 + Abs(x13)**2 + Abs(x14)**2 + Abs(x15)**2)**0.5*(Abs(x10)**2 + Abs(x11)**2 + Abs(x12)**2 + Abs(x13)**2 + Abs(x14)**2 + Abs(x15)**2 + Abs(x8)**2 + Abs(x9)**2)**(-0.5))>, <2*asin((Abs(x4)**2 + Abs(x5)**2 + Abs(x6)**2 + Abs(x7)**2)**0.5*(Abs(x0)**2 + Abs(x1)**2 + Abs(x2)**2 + Abs(x3)**2 + Abs(x4)**2 + Abs(x5)**2 + Abs(x6)**2 + Abs(x7)**2)**(-0.5))>, <2*asin((Abs(x30)**2 + Abs(x31)**2)**0.5*(Abs(x28)**2 + Abs(x29)**2 + Abs(x30)**2 + Abs(x31)**2)**(-0.5))>, <2*asin((Abs(x26)**2 + Abs(x27)**2)**0.5*(Abs(x24)**2 + Abs(x25)**2 + Abs(x26)**2 + Abs(x27)**2)**(-0.5))>, <2*asin((Abs(x22)**2 + Abs(x23)**2)**0.5*(Abs(x20)**2 + Abs(x21)**2 + Abs(x22)**2 + Abs(x23)**2)**(-0.5))>, <2*asin((Abs(x18)**2 + Abs(x19)**2)**0.5*(Abs(x16)**2 + Abs(x17)**2 + Abs(x18)**2 + Abs(x19)**2)**(-0.5))>, <2*asin((Abs(x14)**2 + Abs(x15)**2)**0.5*(Abs(x12)**2 + Abs(x13)**2 + Abs(x14)**2 + Abs(x15)**2)**(-0.5))>, <2*asin((Abs(x10)**2 + Abs(x11)**2)**0.5*(Abs(x10)**2 + Abs(x11)**2 + Abs(x8)**2 + Abs(x9)**2)**(-0.5))>, <2*asin((Abs(x6)**2 + Abs(x7)**2)**0.5*(Abs(x4)**2 + Abs(x5)**2 + Abs(x6)**2 + Abs(x7)**2)**(-0.5))>, <2*asin((Abs(x2)**2 + Abs(x3)**2)**0.5*(Abs(x0)**2 + Abs(x1)**2 + Abs(x2)**2 + Abs(x3)**2)**(-0.5))>, <2*asin((Abs(x30)**2 + Abs(x31)**2)**(-0.5)*Abs(x31)**1.0)>, <2*asin((Abs(x28)**2 + Abs(x29)**2)**(-0.5)*Abs(x29)**1.0)>, <2*asin((Abs(x26)**2 + Abs(x27)**2)**(-0.5)*Abs(x27)**1.0)>, <2*asin((Abs(x24)**2 + Abs(x25)**2)**(-0.5)*Abs(x25)**1.0)>, <2*asin((Abs(x22)**2 + Abs(x23)**2)**(-0.5)*Abs(x23)**1.0)>, <2*asin((Abs(x20)**2 + Abs(x21)**2)**(-0.5)*Abs(x21)**1.0)>, <2*asin((Abs(x18)**2 + Abs(x19)**2)**(-0.5)*Abs(x19)**1.0)>, <2*asin((Abs(x16)**2 + Abs(x17)**2)**(-0.5)*Abs(x17)**1.0)>, <2*asin((Abs(x14)**2 + Abs(x15)**2)**(-0.5)*Abs(x15)**1.0)>, <2*asin((Abs(x12)**2 + Abs(x13)**2)**(-0.5)*Abs(x13)**1.0)>, <2*asin((Abs(x10)**2 + Abs(x11)**2)**(-0.5)*Abs(x11)**1.0)>, <2*asin((Abs(x8)**2 + Abs(x9)**2)**(-0.5)*Abs(x9)**1.0)>, <2*asin((Abs(x6)**2 + Abs(x7)**2)**(-0.5)*Abs(x7)**1.0)>, <2*asin((Abs(x4)**2 + Abs(x5)**2)**(-0.5)*Abs(x5)**1.0)>, <2*asin((Abs(x2)**2 + Abs(x3)**2)**(-0.5)*Abs(x3)**1.0)>, <2*asin((Abs(x0)**2 + Abs(x1)**2)**(-0.5)*Abs(x1)**1.0)>] <class 'sympy.core.symbol.Symbol'>\n"
     ]
    },
    {
     "name": "stdout",
     "output_type": "stream",
     "text": [
      "Model: \"VQC-AmplitudeMap-Cong\"\n",
      "_________________________________________________________________\n",
      " Layer (type)                Output Shape              Param #   \n",
      "=================================================================\n",
      " input_2 (InputLayer)        [(None, 10, 3)]           0         \n",
      "                                                                 \n",
      " TwoLayerPQC (TwoLayerPQC)   (None, 1)                 21        \n",
      "                                                                 \n",
      "=================================================================\n",
      "Total params: 21\n",
      "Trainable params: 21\n",
      "Non-trainable params: 0\n",
      "_________________________________________________________________\n"
     ]
    }
   ],
   "source": [
    "vqc.build_graph().summary()"
   ]
  },
  {
   "cell_type": "code",
   "execution_count": 30,
   "id": "8b760b3b",
   "metadata": {
    "ExecuteTime": {
     "end_time": "2022-07-13T17:38:34.805441Z",
     "start_time": "2022-07-13T17:38:34.741365Z"
    }
   },
   "outputs": [],
   "source": [
    "data.x_train = tf.reshape(x_train_pqk, [100, -1])\n",
    "data.y_train = y_train_new\n",
    "data.x_test = tf.reshape(x_test_pqk, [100, -1])\n",
    "data.y_test = y_test_new"
   ]
  },
  {
   "cell_type": "code",
   "execution_count": null,
   "id": "0e992609",
   "metadata": {
    "ExecuteTime": {
     "start_time": "2022-07-13T17:38:36.389Z"
    },
    "scrolled": true
   },
   "outputs": [
    {
     "name": "stdout",
     "output_type": "stream",
     "text": [
      "Epoch 1/1000\n",
      "1/1 [==============================] - 1s 774ms/step - loss: 6.7055e-08 - auc_1: 0.3908 - accuracy: 0.3750 - val_loss: 7.1526e-08 - val_auc_1: 0.8125 - val_accuracy: 0.7500\n",
      "Epoch 2/1000\n",
      "1/1 [==============================] - 1s 738ms/step - loss: 6.7055e-08 - auc_1: 0.3908 - accuracy: 0.3750 - val_loss: 7.1526e-08 - val_auc_1: 0.8125 - val_accuracy: 0.7500\n",
      "Epoch 3/1000\n",
      "1/1 [==============================] - 1s 734ms/step - loss: 6.7055e-08 - auc_1: 0.3908 - accuracy: 0.3750 - val_loss: 7.1526e-08 - val_auc_1: 0.8125 - val_accuracy: 0.7500\n",
      "Epoch 4/1000\n",
      "1/1 [==============================] - 1s 724ms/step - loss: 6.7055e-08 - auc_1: 0.3908 - accuracy: 0.3750 - val_loss: 7.1526e-08 - val_auc_1: 0.8125 - val_accuracy: 0.7500\n",
      "Epoch 5/1000\n",
      "1/1 [==============================] - 1s 707ms/step - loss: 6.7055e-08 - auc_1: 0.3908 - accuracy: 0.3750 - val_loss: 7.1526e-08 - val_auc_1: 0.8125 - val_accuracy: 0.7500\n",
      "Epoch 6/1000\n",
      "1/1 [==============================] - 1s 726ms/step - loss: 6.7055e-08 - auc_1: 0.3908 - accuracy: 0.3750 - val_loss: 7.1526e-08 - val_auc_1: 0.8125 - val_accuracy: 0.7500\n",
      "Epoch 7/1000\n",
      "1/1 [==============================] - 1s 755ms/step - loss: 6.7055e-08 - auc_1: 0.3908 - accuracy: 0.3750 - val_loss: 7.1526e-08 - val_auc_1: 0.8125 - val_accuracy: 0.7500\n",
      "Epoch 8/1000\n",
      "1/1 [==============================] - 1s 698ms/step - loss: 6.7055e-08 - auc_1: 0.3908 - accuracy: 0.3750 - val_loss: 7.1526e-08 - val_auc_1: 0.8125 - val_accuracy: 0.7500\n",
      "Epoch 9/1000\n",
      "1/1 [==============================] - 1s 741ms/step - loss: 6.7055e-08 - auc_1: 0.3908 - accuracy: 0.3750 - val_loss: 7.1526e-08 - val_auc_1: 0.8125 - val_accuracy: 0.7500\n",
      "Epoch 10/1000\n",
      "1/1 [==============================] - 1s 735ms/step - loss: 6.7055e-08 - auc_1: 0.3908 - accuracy: 0.3750 - val_loss: 7.1526e-08 - val_auc_1: 0.8125 - val_accuracy: 0.7500\n",
      "Epoch 11/1000\n",
      "1/1 [==============================] - 1s 732ms/step - loss: 6.7055e-08 - auc_1: 0.3908 - accuracy: 0.3750 - val_loss: 7.1526e-08 - val_auc_1: 0.8125 - val_accuracy: 0.7500\n",
      "Epoch 12/1000\n",
      "1/1 [==============================] - 1s 811ms/step - loss: 6.7055e-08 - auc_1: 0.3908 - accuracy: 0.3750 - val_loss: 7.1526e-08 - val_auc_1: 0.8125 - val_accuracy: 0.7500\n",
      "Epoch 13/1000\n",
      "1/1 [==============================] - 1s 708ms/step - loss: 6.7055e-08 - auc_1: 0.3908 - accuracy: 0.3750 - val_loss: 7.1526e-08 - val_auc_1: 0.8125 - val_accuracy: 0.7500\n",
      "Epoch 14/1000\n",
      "1/1 [==============================] - 1s 801ms/step - loss: 6.7055e-08 - auc_1: 0.3908 - accuracy: 0.3750 - val_loss: 7.1526e-08 - val_auc_1: 0.8125 - val_accuracy: 0.7500\n",
      "Epoch 15/1000\n",
      "1/1 [==============================] - 1s 733ms/step - loss: 6.7055e-08 - auc_1: 0.3908 - accuracy: 0.3750 - val_loss: 7.1526e-08 - val_auc_1: 0.8125 - val_accuracy: 0.7500\n",
      "Epoch 16/1000\n",
      "1/1 [==============================] - 1s 763ms/step - loss: 6.7055e-08 - auc_1: 0.3908 - accuracy: 0.3750 - val_loss: 7.1526e-08 - val_auc_1: 0.8125 - val_accuracy: 0.7500\n",
      "Epoch 17/1000\n",
      "1/1 [==============================] - 1s 735ms/step - loss: 6.7055e-08 - auc_1: 0.3908 - accuracy: 0.3750 - val_loss: 7.1526e-08 - val_auc_1: 0.8125 - val_accuracy: 0.7500\n",
      "Epoch 18/1000\n",
      "1/1 [==============================] - 1s 725ms/step - loss: 6.7055e-08 - auc_1: 0.3908 - accuracy: 0.3750 - val_loss: 7.1526e-08 - val_auc_1: 0.8125 - val_accuracy: 0.7500\n",
      "Epoch 19/1000\n",
      "1/1 [==============================] - 1s 705ms/step - loss: 6.7055e-08 - auc_1: 0.3908 - accuracy: 0.3750 - val_loss: 7.1526e-08 - val_auc_1: 0.8125 - val_accuracy: 0.7500\n",
      "Epoch 20/1000\n",
      "1/1 [==============================] - 1s 729ms/step - loss: 6.7055e-08 - auc_1: 0.3908 - accuracy: 0.3750 - val_loss: 7.1526e-08 - val_auc_1: 0.8125 - val_accuracy: 0.7500\n",
      "Epoch 21/1000\n",
      "1/1 [==============================] - 1s 728ms/step - loss: 6.7055e-08 - auc_1: 0.3908 - accuracy: 0.3750 - val_loss: 7.1526e-08 - val_auc_1: 0.8125 - val_accuracy: 0.7500\n",
      "Epoch 22/1000\n",
      "1/1 [==============================] - 1s 700ms/step - loss: 6.7055e-08 - auc_1: 0.3908 - accuracy: 0.3750 - val_loss: 7.1526e-08 - val_auc_1: 0.8125 - val_accuracy: 0.7500\n",
      "Epoch 23/1000\n",
      "1/1 [==============================] - 1s 723ms/step - loss: 6.7055e-08 - auc_1: 0.3908 - accuracy: 0.3750 - val_loss: 7.1526e-08 - val_auc_1: 0.8125 - val_accuracy: 0.7500\n",
      "Epoch 24/1000\n",
      "1/1 [==============================] - 1s 702ms/step - loss: 6.7055e-08 - auc_1: 0.3908 - accuracy: 0.3750 - val_loss: 7.1526e-08 - val_auc_1: 0.8125 - val_accuracy: 0.7500\n",
      "Epoch 25/1000\n",
      "1/1 [==============================] - 1s 752ms/step - loss: 6.7055e-08 - auc_1: 0.3908 - accuracy: 0.3750 - val_loss: 7.1526e-08 - val_auc_1: 0.8125 - val_accuracy: 0.7500\n",
      "Epoch 26/1000\n",
      "1/1 [==============================] - 1s 740ms/step - loss: 6.7055e-08 - auc_1: 0.3908 - accuracy: 0.3750 - val_loss: 7.1526e-08 - val_auc_1: 0.8125 - val_accuracy: 0.7500\n",
      "Epoch 27/1000\n",
      "1/1 [==============================] - 1s 697ms/step - loss: 6.7055e-08 - auc_1: 0.3908 - accuracy: 0.3750 - val_loss: 7.1526e-08 - val_auc_1: 0.8125 - val_accuracy: 0.7500\n",
      "Epoch 28/1000\n",
      "1/1 [==============================] - 1s 756ms/step - loss: 6.7055e-08 - auc_1: 0.3908 - accuracy: 0.3750 - val_loss: 7.1526e-08 - val_auc_1: 0.8125 - val_accuracy: 0.7500\n",
      "Epoch 29/1000\n",
      "1/1 [==============================] - 1s 715ms/step - loss: 6.7055e-08 - auc_1: 0.3908 - accuracy: 0.3750 - val_loss: 7.1526e-08 - val_auc_1: 0.8125 - val_accuracy: 0.7500\n",
      "Epoch 30/1000\n",
      "1/1 [==============================] - 1s 808ms/step - loss: 6.7055e-08 - auc_1: 0.3908 - accuracy: 0.3750 - val_loss: 7.1526e-08 - val_auc_1: 0.8125 - val_accuracy: 0.7500\n",
      "Epoch 31/1000\n",
      "1/1 [==============================] - 1s 722ms/step - loss: 6.7055e-08 - auc_1: 0.3908 - accuracy: 0.3750 - val_loss: 7.1526e-08 - val_auc_1: 0.8125 - val_accuracy: 0.7500\n",
      "Epoch 32/1000\n",
      "1/1 [==============================] - 1s 745ms/step - loss: 6.7055e-08 - auc_1: 0.3908 - accuracy: 0.3750 - val_loss: 7.1526e-08 - val_auc_1: 0.8125 - val_accuracy: 0.7500\n",
      "Epoch 33/1000\n",
      "1/1 [==============================] - 1s 710ms/step - loss: 6.7055e-08 - auc_1: 0.3908 - accuracy: 0.3750 - val_loss: 7.1526e-08 - val_auc_1: 0.8125 - val_accuracy: 0.7500\n",
      "Epoch 34/1000\n",
      "1/1 [==============================] - 1s 742ms/step - loss: 6.7055e-08 - auc_1: 0.3908 - accuracy: 0.3750 - val_loss: 7.1526e-08 - val_auc_1: 0.8125 - val_accuracy: 0.7500\n",
      "Epoch 35/1000\n",
      "1/1 [==============================] - 1s 749ms/step - loss: 6.7055e-08 - auc_1: 0.3908 - accuracy: 0.3750 - val_loss: 7.1526e-08 - val_auc_1: 0.8125 - val_accuracy: 0.7500\n",
      "Epoch 36/1000\n",
      "1/1 [==============================] - 1s 706ms/step - loss: 6.7055e-08 - auc_1: 0.3908 - accuracy: 0.3750 - val_loss: 7.1526e-08 - val_auc_1: 0.8125 - val_accuracy: 0.7500\n",
      "Epoch 37/1000\n",
      "1/1 [==============================] - 1s 715ms/step - loss: 6.7055e-08 - auc_1: 0.3908 - accuracy: 0.3750 - val_loss: 7.1526e-08 - val_auc_1: 0.8125 - val_accuracy: 0.7500\n",
      "Epoch 38/1000\n",
      "1/1 [==============================] - 1s 734ms/step - loss: 6.7055e-08 - auc_1: 0.3908 - accuracy: 0.3750 - val_loss: 7.1526e-08 - val_auc_1: 0.8125 - val_accuracy: 0.7500\n",
      "Epoch 39/1000\n",
      "1/1 [==============================] - 1s 786ms/step - loss: 6.7055e-08 - auc_1: 0.3908 - accuracy: 0.3750 - val_loss: 7.1526e-08 - val_auc_1: 0.8125 - val_accuracy: 0.7500\n",
      "Epoch 40/1000\n",
      "1/1 [==============================] - 1s 712ms/step - loss: 6.7055e-08 - auc_1: 0.3908 - accuracy: 0.3750 - val_loss: 7.1526e-08 - val_auc_1: 0.8125 - val_accuracy: 0.7500\n",
      "Epoch 41/1000\n",
      "1/1 [==============================] - 1s 750ms/step - loss: 6.7055e-08 - auc_1: 0.3908 - accuracy: 0.3750 - val_loss: 7.1526e-08 - val_auc_1: 0.8125 - val_accuracy: 0.7500\n",
      "Epoch 42/1000\n",
      "1/1 [==============================] - 1s 738ms/step - loss: 6.7055e-08 - auc_1: 0.3908 - accuracy: 0.3750 - val_loss: 7.1526e-08 - val_auc_1: 0.8125 - val_accuracy: 0.7500\n",
      "Epoch 43/1000\n",
      "1/1 [==============================] - 1s 741ms/step - loss: 6.7055e-08 - auc_1: 0.3908 - accuracy: 0.3750 - val_loss: 7.1526e-08 - val_auc_1: 0.8125 - val_accuracy: 0.7500\n",
      "Epoch 44/1000\n",
      "1/1 [==============================] - 1s 748ms/step - loss: 6.7055e-08 - auc_1: 0.3908 - accuracy: 0.3750 - val_loss: 7.1526e-08 - val_auc_1: 0.8125 - val_accuracy: 0.7500\n"
     ]
    },
    {
     "name": "stdout",
     "output_type": "stream",
     "text": [
      "Epoch 45/1000\n",
      "1/1 [==============================] - 1s 713ms/step - loss: 6.7055e-08 - auc_1: 0.3908 - accuracy: 0.3750 - val_loss: 7.1526e-08 - val_auc_1: 0.8125 - val_accuracy: 0.7500\n",
      "Epoch 46/1000\n",
      "1/1 [==============================] - 1s 708ms/step - loss: 6.7055e-08 - auc_1: 0.3908 - accuracy: 0.3750 - val_loss: 7.1526e-08 - val_auc_1: 0.8125 - val_accuracy: 0.7500\n",
      "Epoch 47/1000\n",
      "1/1 [==============================] - 1s 732ms/step - loss: 6.7055e-08 - auc_1: 0.3908 - accuracy: 0.3750 - val_loss: 7.1526e-08 - val_auc_1: 0.8125 - val_accuracy: 0.7500\n",
      "Epoch 48/1000\n",
      "1/1 [==============================] - 1s 771ms/step - loss: 6.7055e-08 - auc_1: 0.3908 - accuracy: 0.3750 - val_loss: 7.1526e-08 - val_auc_1: 0.8125 - val_accuracy: 0.7500\n",
      "Epoch 49/1000\n",
      "1/1 [==============================] - 1s 732ms/step - loss: 6.7055e-08 - auc_1: 0.3908 - accuracy: 0.3750 - val_loss: 7.1526e-08 - val_auc_1: 0.8125 - val_accuracy: 0.7500\n",
      "Epoch 50/1000\n",
      "1/1 [==============================] - 1s 705ms/step - loss: 6.7055e-08 - auc_1: 0.3908 - accuracy: 0.3750 - val_loss: 7.1526e-08 - val_auc_1: 0.8125 - val_accuracy: 0.7500\n",
      "Epoch 51/1000\n",
      "1/1 [==============================] - 1s 716ms/step - loss: 6.7055e-08 - auc_1: 0.3908 - accuracy: 0.3750 - val_loss: 7.1526e-08 - val_auc_1: 0.8125 - val_accuracy: 0.7500\n",
      "Epoch 52/1000\n",
      "1/1 [==============================] - 1s 736ms/step - loss: 6.7055e-08 - auc_1: 0.3908 - accuracy: 0.3750 - val_loss: 7.1526e-08 - val_auc_1: 0.8125 - val_accuracy: 0.7500\n",
      "Epoch 53/1000\n",
      "1/1 [==============================] - 1s 775ms/step - loss: 6.7055e-08 - auc_1: 0.3908 - accuracy: 0.3750 - val_loss: 7.1526e-08 - val_auc_1: 0.8125 - val_accuracy: 0.7500\n",
      "Epoch 54/1000\n",
      "1/1 [==============================] - 1s 703ms/step - loss: 6.7055e-08 - auc_1: 0.3908 - accuracy: 0.3750 - val_loss: 7.1526e-08 - val_auc_1: 0.8125 - val_accuracy: 0.7500\n",
      "Epoch 55/1000\n",
      "1/1 [==============================] - 1s 709ms/step - loss: 6.7055e-08 - auc_1: 0.3908 - accuracy: 0.3750 - val_loss: 7.1526e-08 - val_auc_1: 0.8125 - val_accuracy: 0.7500\n",
      "Epoch 56/1000\n",
      "1/1 [==============================] - 1s 733ms/step - loss: 6.7055e-08 - auc_1: 0.3908 - accuracy: 0.3750 - val_loss: 7.1526e-08 - val_auc_1: 0.8125 - val_accuracy: 0.7500\n",
      "Epoch 57/1000\n",
      "1/1 [==============================] - 1s 742ms/step - loss: 6.7055e-08 - auc_1: 0.3908 - accuracy: 0.3750 - val_loss: 7.1526e-08 - val_auc_1: 0.8125 - val_accuracy: 0.7500\n",
      "Epoch 58/1000\n",
      "1/1 [==============================] - 1s 762ms/step - loss: 6.7055e-08 - auc_1: 0.3908 - accuracy: 0.3750 - val_loss: 7.1526e-08 - val_auc_1: 0.8125 - val_accuracy: 0.7500\n",
      "Epoch 59/1000\n",
      "1/1 [==============================] - 1s 708ms/step - loss: 6.7055e-08 - auc_1: 0.3908 - accuracy: 0.3750 - val_loss: 7.1526e-08 - val_auc_1: 0.8125 - val_accuracy: 0.7500\n",
      "Epoch 60/1000\n",
      "1/1 [==============================] - 1s 734ms/step - loss: 6.7055e-08 - auc_1: 0.3908 - accuracy: 0.3750 - val_loss: 7.1526e-08 - val_auc_1: 0.8125 - val_accuracy: 0.7500\n",
      "Epoch 61/1000\n",
      "1/1 [==============================] - 1s 727ms/step - loss: 6.7055e-08 - auc_1: 0.3908 - accuracy: 0.3750 - val_loss: 7.1526e-08 - val_auc_1: 0.8125 - val_accuracy: 0.7500\n",
      "Epoch 62/1000\n",
      "1/1 [==============================] - 1s 748ms/step - loss: 6.7055e-08 - auc_1: 0.3908 - accuracy: 0.3750 - val_loss: 7.1526e-08 - val_auc_1: 0.8125 - val_accuracy: 0.7500\n",
      "Epoch 63/1000\n",
      "1/1 [==============================] - 1s 707ms/step - loss: 6.7055e-08 - auc_1: 0.3908 - accuracy: 0.3750 - val_loss: 7.1526e-08 - val_auc_1: 0.8125 - val_accuracy: 0.7500\n",
      "Epoch 64/1000\n",
      "1/1 [==============================] - 1s 715ms/step - loss: 6.7055e-08 - auc_1: 0.3908 - accuracy: 0.3750 - val_loss: 7.1526e-08 - val_auc_1: 0.8125 - val_accuracy: 0.7500\n",
      "Epoch 65/1000\n",
      "1/1 [==============================] - 1s 736ms/step - loss: 6.7055e-08 - auc_1: 0.3908 - accuracy: 0.3750 - val_loss: 7.1526e-08 - val_auc_1: 0.8125 - val_accuracy: 0.7500\n",
      "Epoch 66/1000\n",
      "1/1 [==============================] - 1s 732ms/step - loss: 6.7055e-08 - auc_1: 0.3908 - accuracy: 0.3750 - val_loss: 7.1526e-08 - val_auc_1: 0.8125 - val_accuracy: 0.7500\n",
      "Epoch 67/1000\n",
      "1/1 [==============================] - 1s 750ms/step - loss: 6.7055e-08 - auc_1: 0.3908 - accuracy: 0.3750 - val_loss: 7.1526e-08 - val_auc_1: 0.8125 - val_accuracy: 0.7500\n",
      "Epoch 68/1000\n",
      "1/1 [==============================] - 1s 710ms/step - loss: 6.7055e-08 - auc_1: 0.3908 - accuracy: 0.3750 - val_loss: 7.1526e-08 - val_auc_1: 0.8125 - val_accuracy: 0.7500\n",
      "Epoch 69/1000\n",
      "1/1 [==============================] - 1s 748ms/step - loss: 6.7055e-08 - auc_1: 0.3908 - accuracy: 0.3750 - val_loss: 7.1526e-08 - val_auc_1: 0.8125 - val_accuracy: 0.7500\n",
      "Epoch 70/1000\n",
      "1/1 [==============================] - 1s 736ms/step - loss: 6.7055e-08 - auc_1: 0.3908 - accuracy: 0.3750 - val_loss: 7.1526e-08 - val_auc_1: 0.8125 - val_accuracy: 0.7500\n",
      "Epoch 71/1000\n",
      "1/1 [==============================] - 1s 770ms/step - loss: 6.7055e-08 - auc_1: 0.3908 - accuracy: 0.3750 - val_loss: 7.1526e-08 - val_auc_1: 0.8125 - val_accuracy: 0.7500\n",
      "Epoch 72/1000\n",
      "1/1 [==============================] - 1s 866ms/step - loss: 6.7055e-08 - auc_1: 0.3908 - accuracy: 0.3750 - val_loss: 7.1526e-08 - val_auc_1: 0.8125 - val_accuracy: 0.7500\n",
      "Epoch 73/1000\n",
      "1/1 [==============================] - 1s 723ms/step - loss: 6.7055e-08 - auc_1: 0.3908 - accuracy: 0.3750 - val_loss: 7.1526e-08 - val_auc_1: 0.8125 - val_accuracy: 0.7500\n",
      "Epoch 74/1000\n",
      "1/1 [==============================] - 1s 811ms/step - loss: 6.7055e-08 - auc_1: 0.3908 - accuracy: 0.3750 - val_loss: 7.1526e-08 - val_auc_1: 0.8125 - val_accuracy: 0.7500\n",
      "Epoch 75/1000\n",
      "1/1 [==============================] - 1s 1s/step - loss: 6.7055e-08 - auc_1: 0.3908 - accuracy: 0.3750 - val_loss: 7.1526e-08 - val_auc_1: 0.8125 - val_accuracy: 0.7500\n",
      "Epoch 76/1000\n",
      "1/1 [==============================] - 1s 1s/step - loss: 6.7055e-08 - auc_1: 0.3908 - accuracy: 0.3750 - val_loss: 7.1526e-08 - val_auc_1: 0.8125 - val_accuracy: 0.7500\n",
      "Epoch 77/1000\n",
      "1/1 [==============================] - 1s 1s/step - loss: 6.7055e-08 - auc_1: 0.3908 - accuracy: 0.3750 - val_loss: 7.1526e-08 - val_auc_1: 0.8125 - val_accuracy: 0.7500\n",
      "Epoch 78/1000\n",
      "1/1 [==============================] - 1s 942ms/step - loss: 6.7055e-08 - auc_1: 0.3908 - accuracy: 0.3750 - val_loss: 7.1526e-08 - val_auc_1: 0.8125 - val_accuracy: 0.7500\n",
      "Epoch 79/1000\n",
      "1/1 [==============================] - 1s 743ms/step - loss: 6.7055e-08 - auc_1: 0.3908 - accuracy: 0.3750 - val_loss: 7.1526e-08 - val_auc_1: 0.8125 - val_accuracy: 0.7500\n",
      "Epoch 80/1000\n",
      "1/1 [==============================] - 1s 763ms/step - loss: 6.7055e-08 - auc_1: 0.3908 - accuracy: 0.3750 - val_loss: 7.1526e-08 - val_auc_1: 0.8125 - val_accuracy: 0.7500\n"
     ]
    }
   ],
   "source": [
    "qhistory = vqc.fit(data, [])"
   ]
  },
  {
   "cell_type": "code",
   "execution_count": null,
   "id": "17e90358",
   "metadata": {},
   "outputs": [],
   "source": [
    "#docs_infra: no_execute\n",
    "plt.figure(figsize=(10,5))\n",
    "plt.plot(classical_history.history['accuracy'], label='accuracy_classical')\n",
    "plt.plot(classical_history.history['val_accuracy'], label='val_accuracy_classical')\n",
    "plt.plot(pqk_history.history['accuracy'], label='accuracy_quantum')\n",
    "plt.plot(pqk_history.history['val_accuracy'], label='val_accuracy_quantum')\n",
    "plt.plot(qhistory.history['accuracy'], label='accuracy_quantum_model')\n",
    "plt.plot(qhistory.history['val_accuracy'], label='val_accuracy_quantum_model')\n",
    "plt.xlabel('Epoch')\n",
    "plt.ylabel('Accuracy')\n",
    "plt.legend()"
   ]
  }
 ],
 "metadata": {
  "kernelspec": {
   "display_name": "Python (qenv)",
   "language": "python",
   "name": "qenv"
  },
  "language_info": {
   "codemirror_mode": {
    "name": "ipython",
    "version": 3
   },
   "file_extension": ".py",
   "mimetype": "text/x-python",
   "name": "python",
   "nbconvert_exporter": "python",
   "pygments_lexer": "ipython3",
   "version": "3.7.13"
  },
  "latex_envs": {
   "LaTeX_envs_menu_present": true,
   "autoclose": false,
   "autocomplete": true,
   "bibliofile": "biblio.bib",
   "cite_by": "apalike",
   "current_citInitial": 1,
   "eqLabelWithNumbers": true,
   "eqNumInitial": 1,
   "hotkeys": {
    "equation": "Ctrl-E",
    "itemize": "Ctrl-I"
   },
   "labels_anchors": false,
   "latex_user_defs": false,
   "report_style_numbering": false,
   "user_envs_cfg": false
  },
  "toc": {
   "base_numbering": 1,
   "nav_menu": {},
   "number_sections": true,
   "sideBar": true,
   "skip_h1_title": false,
   "title_cell": "Table of Contents",
   "title_sidebar": "Contents",
   "toc_cell": false,
   "toc_position": {},
   "toc_section_display": true,
   "toc_window_display": false
  }
 },
 "nbformat": 4,
 "nbformat_minor": 5
}
