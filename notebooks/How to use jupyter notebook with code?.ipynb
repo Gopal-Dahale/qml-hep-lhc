{
 "cells": [
  {
   "cell_type": "code",
   "execution_count": 1,
   "id": "8ce4848c",
   "metadata": {
    "ExecuteTime": {
     "end_time": "2022-06-01T08:32:02.271089Z",
     "start_time": "2022-06-01T08:31:54.663335Z"
    }
   },
   "outputs": [],
   "source": [
    "%load_ext autoreload\n",
    "%autoreload 2\n",
    "\n",
    "%matplotlib inline\n",
    "\n",
    "from importlib.util import find_spec\n",
    "if find_spec(\"qml_hep_lhc\") is None:\n",
    "    import sys\n",
    "    sys.path.append('..')"
   ]
  },
  {
   "cell_type": "code",
   "execution_count": 36,
   "id": "7bd645af",
   "metadata": {
    "ExecuteTime": {
     "end_time": "2022-06-01T08:49:51.162520Z",
     "start_time": "2022-06-01T08:49:51.106588Z"
    }
   },
   "outputs": [],
   "source": [
    "import tensorflow as tf\n",
    "import tensorflow_quantum as tfq\n",
    "import cirq\n",
    "\n",
    "from qml_hep_lhc.data.electron_photon import ElectronPhoton\n",
    "import argparse"
   ]
  },
  {
   "cell_type": "code",
   "execution_count": 88,
   "id": "2b41bcfe",
   "metadata": {
    "ExecuteTime": {
     "end_time": "2022-06-01T09:52:00.248040Z",
     "start_time": "2022-06-01T09:52:00.187184Z"
    }
   },
   "outputs": [],
   "source": [
    "args = argparse.Namespace()\n",
    "\n",
    "args.quantum = True\n",
    "args.pca = 16\n",
    "# args.normalize = True\n",
    "args.threshold = 0\n",
    "args.loss = \"Hinge\"\n",
    "args.hinge_labels = True\n",
    "args.angle_encoding = True"
   ]
  },
  {
   "cell_type": "code",
   "execution_count": 104,
   "id": "9b7b47b0",
   "metadata": {
    "ExecuteTime": {
     "end_time": "2022-06-01T09:59:04.376520Z",
     "start_time": "2022-06-01T09:59:02.750813Z"
    }
   },
   "outputs": [
    {
     "name": "stdout",
     "output_type": "stream",
     "text": [
      "Performing PCA on data...\n",
      "Cumulative sum for train: 99.63435\n",
      "Cumulative sum for test: 99.56188\n",
      "Converting labels to hinge labels...\n",
      "q_dims (1, 16)\n"
     ]
    }
   ],
   "source": [
    "data = ElectronPhoton(args)\n",
    "data.prepare_data()\n",
    "data.setup()"
   ]
  },
  {
   "cell_type": "code",
   "execution_count": 105,
   "id": "3f5cb398",
   "metadata": {
    "ExecuteTime": {
     "end_time": "2022-06-01T09:59:04.683227Z",
     "start_time": "2022-06-01T09:59:04.381737Z"
    }
   },
   "outputs": [],
   "source": [
    "qcs = tfq.from_tensor(data.qx_train)"
   ]
  },
  {
   "cell_type": "code",
   "execution_count": 106,
   "id": "8fb0141d",
   "metadata": {
    "ExecuteTime": {
     "end_time": "2022-06-01T09:59:04.751697Z",
     "start_time": "2022-06-01T09:59:04.686167Z"
    }
   },
   "outputs": [
    {
     "data": {
      "text/html": [
       "<pre style=\"overflow: auto; white-space: pre;\">(0, 0): ────X^0.01─────\n",
       "\n",
       "(0, 1): ────X^0.057────\n",
       "\n",
       "(0, 2): ────X^-0.021───\n",
       "\n",
       "(0, 3): ────X^-0.022───\n",
       "\n",
       "(0, 4): ────X^0.007────\n",
       "\n",
       "(0, 5): ────X^0────────\n",
       "\n",
       "(0, 6): ────X^-0.002───\n",
       "\n",
       "(0, 7): ────X^0────────\n",
       "\n",
       "(0, 8): ────X^-0.002───\n",
       "\n",
       "(0, 9): ────X^0.003────\n",
       "\n",
       "(0, 10): ───X^-0.002───\n",
       "\n",
       "(0, 11): ───X^-0.001───\n",
       "\n",
       "(0, 12): ───X^-0.008───\n",
       "\n",
       "(0, 13): ───X^-0.002───\n",
       "\n",
       "(0, 14): ───X^0.005────\n",
       "\n",
       "(0, 15): ───X^0.001────</pre>"
      ],
      "text/plain": [
       "(0, 0): ────X^0.01─────\n",
       "\n",
       "(0, 1): ────X^0.057────\n",
       "\n",
       "(0, 2): ────X^-0.021───\n",
       "\n",
       "(0, 3): ────X^-0.022───\n",
       "\n",
       "(0, 4): ────X^0.007────\n",
       "\n",
       "(0, 5): ────X^0────────\n",
       "\n",
       "(0, 6): ────X^-0.002───\n",
       "\n",
       "(0, 7): ────X^0────────\n",
       "\n",
       "(0, 8): ────X^-0.002───\n",
       "\n",
       "(0, 9): ────X^0.003────\n",
       "\n",
       "(0, 10): ───X^-0.002───\n",
       "\n",
       "(0, 11): ───X^-0.001───\n",
       "\n",
       "(0, 12): ───X^-0.008───\n",
       "\n",
       "(0, 13): ───X^-0.002───\n",
       "\n",
       "(0, 14): ───X^0.005────\n",
       "\n",
       "(0, 15): ───X^0.001────"
      ]
     },
     "execution_count": 106,
     "metadata": {},
     "output_type": "execute_result"
    }
   ],
   "source": [
    "qcs[0]"
   ]
  },
  {
   "cell_type": "code",
   "execution_count": null,
   "id": "2ad70b64",
   "metadata": {},
   "outputs": [],
   "source": []
  }
 ],
 "metadata": {
  "kernelspec": {
   "display_name": "Python (qenv)",
   "language": "python",
   "name": "qenv"
  },
  "language_info": {
   "codemirror_mode": {
    "name": "ipython",
    "version": 3
   },
   "file_extension": ".py",
   "mimetype": "text/x-python",
   "name": "python",
   "nbconvert_exporter": "python",
   "pygments_lexer": "ipython3",
   "version": "3.7.13"
  },
  "latex_envs": {
   "LaTeX_envs_menu_present": true,
   "autoclose": false,
   "autocomplete": true,
   "bibliofile": "biblio.bib",
   "cite_by": "apalike",
   "current_citInitial": 1,
   "eqLabelWithNumbers": true,
   "eqNumInitial": 1,
   "hotkeys": {
    "equation": "Ctrl-E",
    "itemize": "Ctrl-I"
   },
   "labels_anchors": false,
   "latex_user_defs": false,
   "report_style_numbering": false,
   "user_envs_cfg": false
  },
  "toc": {
   "base_numbering": 1,
   "nav_menu": {},
   "number_sections": true,
   "sideBar": true,
   "skip_h1_title": false,
   "title_cell": "Table of Contents",
   "title_sidebar": "Contents",
   "toc_cell": false,
   "toc_position": {},
   "toc_section_display": true,
   "toc_window_display": false
  }
 },
 "nbformat": 4,
 "nbformat_minor": 5
}
