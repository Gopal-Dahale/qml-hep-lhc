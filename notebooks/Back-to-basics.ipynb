{
 "cells": [
  {
   "cell_type": "code",
   "execution_count": 1,
   "id": "a3091b4f",
   "metadata": {
    "ExecuteTime": {
     "end_time": "2022-08-07T02:55:10.091072Z",
     "start_time": "2022-08-07T02:55:05.912510Z"
    }
   },
   "outputs": [],
   "source": [
    "%load_ext autoreload\n",
    "%autoreload 2\n",
    "\n",
    "%matplotlib inline\n",
    "\n",
    "from importlib.util import find_spec\n",
    "if find_spec(\"qml_hep_lhc\") is None:\n",
    "    import sys\n",
    "    sys.path.append('..')"
   ]
  },
  {
   "cell_type": "code",
   "execution_count": 2,
   "id": "fe99704b",
   "metadata": {
    "ExecuteTime": {
     "end_time": "2022-08-07T02:56:33.396907Z",
     "start_time": "2022-08-07T02:55:10.094588Z"
    }
   },
   "outputs": [
    {
     "name": "stderr",
     "output_type": "stream",
     "text": [
      "2022-08-07 08:25:16.631382: W tensorflow/stream_executor/platform/default/dso_loader.cc:64] Could not load dynamic library 'libcudart.so.11.0'; dlerror: libcudart.so.11.0: cannot open shared object file: No such file or directory\n",
      "2022-08-07 08:25:16.631481: I tensorflow/stream_executor/cuda/cudart_stub.cc:29] Ignore above cudart dlerror if you do not have a GPU set up on your machine.\n",
      "2022-08-07 08:26:32.417535: E tensorflow/stream_executor/cuda/cuda_driver.cc:271] failed call to cuInit: CUDA_ERROR_NO_DEVICE: no CUDA-capable device is detected\n",
      "2022-08-07 08:26:32.417598: I tensorflow/stream_executor/cuda/cuda_diagnostics.cc:156] kernel driver does not appear to be running on this host (bhagvada): /proc/driver/nvidia/version does not exist\n",
      "2022-08-07 08:26:32.438770: I tensorflow/core/platform/cpu_feature_guard.cc:151] This TensorFlow binary is optimized with oneAPI Deep Neural Network Library (oneDNN) to use the following CPU instructions in performance-critical operations:  AVX2 FMA\n",
      "To enable them in other operations, rebuild TensorFlow with the appropriate compiler flags.\n"
     ]
    }
   ],
   "source": [
    "from qml_hep_lhc.data import MNIST\n",
    "from qml_hep_lhc.layers.utils import convolution_iters\n",
    "import argparse"
   ]
  },
  {
   "cell_type": "code",
   "execution_count": 296,
   "id": "9fd896f7",
   "metadata": {
    "ExecuteTime": {
     "end_time": "2022-08-07T06:24:27.879156Z",
     "start_time": "2022-08-07T06:24:27.798734Z"
    }
   },
   "outputs": [],
   "source": [
    "args = argparse.Namespace()\n",
    "\n",
    "# Data\n",
    "args.center_crop = 0.7\n",
    "args.resize = [8,8]\n",
    "args.standardize = 1\n",
    "args.binary_data = [0,1]\n",
    "args.labels_to_categorical = 1\n",
    "args.processed = 1\n",
    "args.percent_samples = 0.1\n",
    "\n",
    "# Base Model\n",
    "args.optimizer = 'Ranger'\n",
    "args.batch_size = 4\n",
    "args.epochs = 3\n",
    "\n",
    "# Quantum CNN Parameters\n",
    "n_layers = 1\n",
    "n_qubits = 9\n",
    "template = 'S2D'"
   ]
  },
  {
   "cell_type": "code",
   "execution_count": 297,
   "id": "291bb1e4",
   "metadata": {
    "ExecuteTime": {
     "end_time": "2022-08-07T06:24:28.191217Z",
     "start_time": "2022-08-07T06:24:28.000527Z"
    }
   },
   "outputs": [
    {
     "name": "stdout",
     "output_type": "stream",
     "text": [
      "Binarizing data...\n",
      "Binarizing data...\n",
      "Center cropping...\n",
      "Center cropping...\n",
      "Resizing data...\n",
      "Resizing data...\n",
      "Standardizing data...\n",
      "Converting labels to categorical...\n",
      "Converting labels to categorical...\n",
      "\n",
      "Dataset :MNIST\n",
      "╒════════╤═══════════════╤═══════════════╤═══════════════╤═══════════╕\n",
      "│ Data   │ Train size    │ Val size      │ Test size     │ Dims      │\n",
      "╞════════╪═══════════════╪═══════════════╪═══════════════╪═══════════╡\n",
      "│ X      │ (48, 8, 8, 1) │ (12, 8, 8, 1) │ (20, 8, 8, 1) │ (8, 8, 1) │\n",
      "├────────┼───────────────┼───────────────┼───────────────┼───────────┤\n",
      "│ y      │ (48, 2)       │ (12, 2)       │ (20, 2)       │ (2,)      │\n",
      "╘════════╧═══════════════╧═══════════════╧═══════════════╧═══════════╛\n",
      "\n",
      "╒══════════════╤═══════╤═══════╤════════╤═══════╤══════════════════════════╕\n",
      "│ Type         │   Min │   Max │   Mean │   Std │ Samples for each class   │\n",
      "╞══════════════╪═══════╪═══════╪════════╪═══════╪══════════════════════════╡\n",
      "│ Train Images │ -1.58 │  7.68 │  -0.01 │  0.98 │ [24, 24]                 │\n",
      "├──────────────┼───────┼───────┼────────┼───────┼──────────────────────────┤\n",
      "│ Val Images   │ -1.58 │  7.67 │   0.06 │  1.04 │ [6, 6]                   │\n",
      "├──────────────┼───────┼───────┼────────┼───────┼──────────────────────────┤\n",
      "│ Test Images  │ -1.56 │  6.86 │  -0.05 │  0.95 │ [10, 10]                 │\n",
      "╘══════════════╧═══════╧═══════╧════════╧═══════╧══════════════════════════╛\n",
      "\n",
      "\n"
     ]
    }
   ],
   "source": [
    "data = MNIST(args)\n",
    "data.prepare_data()\n",
    "data.setup()\n",
    "print(data)"
   ]
  },
  {
   "cell_type": "code",
   "execution_count": 298,
   "id": "f18422bf",
   "metadata": {
    "ExecuteTime": {
     "end_time": "2022-08-07T06:24:28.265361Z",
     "start_time": "2022-08-07T06:24:28.196083Z"
    }
   },
   "outputs": [],
   "source": [
    "import tensorflow as tf\n",
    "import numpy as np\n",
    "\n",
    "tf.keras.backend.set_floatx('float64')"
   ]
  },
  {
   "cell_type": "code",
   "execution_count": 299,
   "id": "d873f652",
   "metadata": {
    "ExecuteTime": {
     "end_time": "2022-08-07T06:24:28.473524Z",
     "start_time": "2022-08-07T06:24:28.354980Z"
    }
   },
   "outputs": [],
   "source": [
    "import pennylane as qml\n",
    "\n",
    "\n",
    "dev = qml.device(\"lightning.qubit\", wires=n_qubits)\n",
    "qubits = list(range(n_qubits))\n",
    "n_inputs = 9"
   ]
  },
  {
   "cell_type": "code",
   "execution_count": 300,
   "id": "fd0128f6",
   "metadata": {
    "ExecuteTime": {
     "end_time": "2022-08-07T06:24:28.654092Z",
     "start_time": "2022-08-07T06:24:28.517971Z"
    }
   },
   "outputs": [],
   "source": [
    "@qml.qnode(dev, diff_method=\"adjoint\")\n",
    "def qnode_sparse(inputs, weights, bias):\n",
    "    z = tf.tensordot(weights, inputs, axes = 1) + bias\n",
    "    for l in range(n_layers):\n",
    "        for q in qubits:\n",
    "            qml.Rot(z[l,q,0], z[l,q,1], z[l,q,2], wires= q)\n",
    "        if (l & 1):\n",
    "            for q0, q1 in zip(qubits[1::2], qubits[2::2] + [qubits[0]]):\n",
    "                qml.CZ((q0,q1))\n",
    "        else:\n",
    "            for q0, q1 in zip(qubits[0::2], qubits[1::2]):\n",
    "                qml.CZ((q0,q1))         \n",
    "    return [qml.expval(qml.PauliZ(i)) for i in range(n_qubits)]"
   ]
  },
  {
   "cell_type": "code",
   "execution_count": 301,
   "id": "b0f1d6ab",
   "metadata": {
    "ExecuteTime": {
     "end_time": "2022-08-07T06:24:28.752844Z",
     "start_time": "2022-08-07T06:24:28.680511Z"
    }
   },
   "outputs": [],
   "source": [
    "@qml.qnode(dev, diff_method=\"adjoint\")\n",
    "def qnode_basic(inputs, weights, bias):\n",
    "    inputs = inputs + bias\n",
    "    qml.AngleEmbedding(inputs, wires=range(n_qubits))\n",
    "    qml.BasicEntanglerLayers(weights, wires=range(n_qubits))\n",
    "    return [qml.expval(qml.PauliZ(wires=i)) for i in range(n_qubits)]"
   ]
  },
  {
   "cell_type": "code",
   "execution_count": 302,
   "id": "101f2524",
   "metadata": {
    "ExecuteTime": {
     "end_time": "2022-08-07T06:24:29.110919Z",
     "start_time": "2022-08-07T06:24:28.973194Z"
    }
   },
   "outputs": [],
   "source": [
    "@qml.qnode(dev, diff_method=\"adjoint\")\n",
    "def qnode_s2d(inputs, weights, bias):\n",
    "    z = tf.tensordot(weights, inputs, axes = 1) + bias\n",
    "    qml.SimplifiedTwoDesign(initial_layer_weights=tf.zeros((n_qubits,)), weights=z, wires=range(n_qubits))\n",
    "    return [qml.expval(qml.PauliZ(wires=i)) for i in range(n_qubits)]"
   ]
  },
  {
   "cell_type": "code",
   "execution_count": 303,
   "id": "9a256c4f",
   "metadata": {
    "ExecuteTime": {
     "end_time": "2022-08-07T06:24:29.508653Z",
     "start_time": "2022-08-07T06:24:29.402987Z"
    }
   },
   "outputs": [],
   "source": [
    "def get_node(template, num_layers, num_qubits, num_inputs):\n",
    "    if template == 'NQubitPQC':\n",
    "        return qnode_sparse, {\n",
    "            \"weights\": (num_layers, num_qubits, 3, num_inputs),\n",
    "            \"bias\": (num_layers, num_qubits, 3)\n",
    "        }\n",
    "    elif template == 'Basic':\n",
    "        assert num_inputs == n_qubits\n",
    "        return qnode_basic, {\n",
    "            \"weights\": (num_layers, num_qubits),\n",
    "            \"bias\": (num_qubits,)\n",
    "        }\n",
    "    elif template == 'S2D':\n",
    "        return qnode_s2d, {\n",
    "            \"weights\": (num_layers, num_qubits -1, 2, num_inputs),\n",
    "            \"bias\": (num_layers, num_qubits -1, 2)\n",
    "        }"
   ]
  },
  {
   "cell_type": "code",
   "execution_count": 304,
   "id": "a339c84c",
   "metadata": {
    "ExecuteTime": {
     "end_time": "2022-08-07T06:24:30.014074Z",
     "start_time": "2022-08-07T06:24:29.922542Z"
    }
   },
   "outputs": [
    {
     "name": "stdout",
     "output_type": "stream",
     "text": [
      "0: ──RY(0.00)─╭●──RY(1.56)──────────────┤  <Z>\n",
      "1: ──RY(0.00)─╰Z──RY(1.88)─╭●──RY(1.96)─┤  <Z>\n",
      "2: ──RY(0.00)─╭●──RY(2.06)─╰Z──RY(2.00)─┤  <Z>\n",
      "3: ──RY(0.00)─╰Z──RY(1.97)─╭●──RY(1.39)─┤  <Z>\n",
      "4: ──RY(0.00)─╭●──RY(1.26)─╰Z──RY(2.93)─┤  <Z>\n",
      "5: ──RY(0.00)─╰Z──RY(1.93)─╭●──RY(2.21)─┤  <Z>\n",
      "6: ──RY(0.00)─╭●──RY(1.36)─╰Z──RY(2.61)─┤  <Z>\n",
      "7: ──RY(0.00)─╰Z──RY(1.88)─╭●──RY(2.02)─┤  <Z>\n",
      "8: ──RY(0.00)──────────────╰Z──RY(2.13)─┤  <Z>\n"
     ]
    }
   ],
   "source": [
    "inputs = tf.random.uniform((n_qubits, ))\n",
    "node, shapes = get_node(template, n_layers, n_qubits, n_inputs)\n",
    "w = tf.random.uniform(shapes['weights'])\n",
    "b = tf.random.uniform(shapes['bias'])\n",
    "drawer = qml.draw(node, expansion_strategy=\"device\")\n",
    "print(drawer(inputs,w,b))"
   ]
  },
  {
   "cell_type": "code",
   "execution_count": 305,
   "id": "d16c3783",
   "metadata": {
    "ExecuteTime": {
     "end_time": "2022-08-07T06:24:33.905464Z",
     "start_time": "2022-08-07T06:24:33.803879Z"
    }
   },
   "outputs": [],
   "source": [
    "class QConv2D(tf.keras.layers.Layer):\n",
    "    \"\"\"\n",
    "    2D Quantum convolution layer (e.g. spatial convolution over images).\n",
    "    This layer creates a convolution kernel that is convolved \n",
    "    with the layer input to produce a tensor of outputs. Finally,\n",
    "    `activation` is applied to the outputs as well.\n",
    "    \"\"\"\n",
    "\n",
    "    def __init__(\n",
    "            self,\n",
    "            template = 'Basic',\n",
    "            name='QConv2D',\n",
    "    ):\n",
    "\n",
    "        super(QConv2D, self).__init__(name=name)\n",
    "\n",
    "        self.kernel_size = (3,3)\n",
    "        self.strides = (2,2)\n",
    "        \n",
    "        node, shapes = get_node(template, n_layers, n_qubits, np.prod(self.kernel_size))\n",
    "        self.conv_pqc = qml.qnn.KerasLayer(node, shapes, output_dim= n_qubits)\n",
    "        \n",
    "    def build(self, input_shape):\n",
    "    \n",
    "        self.iters, _ = convolution_iters(\n",
    "            input_shape[1:3], self.kernel_size, self.strides, 'valid')\n",
    "        \n",
    "\n",
    "    def _convolution(self, input_tensor):\n",
    "\n",
    "        s = self.strides\n",
    "        k = self.kernel_size\n",
    "\n",
    "        conv_out = []\n",
    "        for i in range(self.iters[0]):\n",
    "            for j in range(self.iters[1]):\n",
    "                x = input_tensor[:, i * s[0]:i * s[0] + k[0], j *\n",
    "                                 s[1]:j * s[1] + k[1]]\n",
    "                x = tf.keras.layers.Flatten()(x)\n",
    "                conv_out += [self.conv_pqc(x)]\n",
    "              \n",
    "        conv_out = tf.keras.layers.Concatenate(axis=1)(conv_out)\n",
    "        conv_out = tf.keras.layers.Reshape((self.iters[0], self.iters[1], n_qubits))(conv_out)\n",
    "        return conv_out\n",
    "\n",
    "    def call(self, input_tensor):\n",
    "  \n",
    "        conv_out = [self._convolution(input_tensor[:, :, :, 0])]\n",
    "        conv_out = tf.keras.layers.Concatenate(axis=-1)(conv_out)\n",
    "        return conv_out"
   ]
  },
  {
   "cell_type": "code",
   "execution_count": 306,
   "id": "b3ed31dd",
   "metadata": {
    "ExecuteTime": {
     "end_time": "2022-08-07T06:24:34.182022Z",
     "start_time": "2022-08-07T06:24:34.094701Z"
    }
   },
   "outputs": [],
   "source": [
    "rlayer = QConv2D(template = 'Basic')\n",
    "flayer = tf.keras.layers.Flatten()\n",
    "clayer_2 = tf.keras.layers.Dense(2, activation=\"softmax\")\n",
    "model = tf.keras.models.Sequential([rlayer, flayer, clayer_2])"
   ]
  },
  {
   "cell_type": "code",
   "execution_count": 307,
   "id": "a56bbf6c",
   "metadata": {
    "ExecuteTime": {
     "end_time": "2022-08-07T06:24:34.732287Z",
     "start_time": "2022-08-07T06:24:34.650890Z"
    }
   },
   "outputs": [],
   "source": [
    "opt = tf.keras.optimizers.Adam(learning_rate=0.2)\n",
    "model.compile(opt, loss=\"categorical_crossentropy\", metrics=[\"accuracy\"])"
   ]
  },
  {
   "cell_type": "code",
   "execution_count": 308,
   "id": "754d18b1",
   "metadata": {
    "ExecuteTime": {
     "end_time": "2022-08-07T06:24:35.644103Z",
     "start_time": "2022-08-07T06:24:35.035574Z"
    }
   },
   "outputs": [
    {
     "name": "stdout",
     "output_type": "stream",
     "text": [
      "Model: \"sequential_21\"\n",
      "_________________________________________________________________\n",
      " Layer (type)                Output Shape              Param #   \n",
      "=================================================================\n",
      " QConv2D (QConv2D)           multiple                  18        \n",
      "                                                                 \n",
      " flatten_4872 (Flatten)      multiple                  0         \n",
      "                                                                 \n",
      " dense_21 (Dense)            multiple                  164       \n",
      "                                                                 \n",
      "=================================================================\n",
      "Total params: 182\n",
      "Trainable params: 182\n",
      "Non-trainable params: 0\n",
      "_________________________________________________________________\n"
     ]
    }
   ],
   "source": [
    "dim = data.config()['input_dims']\n",
    "in_shape = [args.batch_size] + list(dim)\n",
    "\n",
    "x = tf.random.uniform((in_shape))\n",
    "y = model(x)\n",
    "model.summary()"
   ]
  },
  {
   "cell_type": "code",
   "execution_count": null,
   "id": "06bb4289",
   "metadata": {
    "ExecuteTime": {
     "start_time": "2022-08-07T06:24:36.153Z"
    }
   },
   "outputs": [
    {
     "name": "stdout",
     "output_type": "stream",
     "text": [
      "Epoch 1/3\n",
      "12/12 [==============================] - 14s 1s/step - loss: 0.5509 - accuracy: 0.7083 - val_loss: 0.2112 - val_accuracy: 0.9167\n",
      "Epoch 2/3\n",
      "12/12 [==============================] - ETA: 0s - loss: 0.1995 - accuracy: 0.9167"
     ]
    }
   ],
   "source": [
    "fitting = model.fit(data.train_ds,\n",
    "                    batch_size= args.batch_size,\n",
    "                   epochs= args.epochs,\n",
    "                   validation_data=data.val_ds,\n",
    "                   shuffle=True,\n",
    "                   workers=4)"
   ]
  },
  {
   "cell_type": "code",
   "execution_count": null,
   "id": "9a4ff645",
   "metadata": {},
   "outputs": [],
   "source": []
  }
 ],
 "metadata": {
  "kernelspec": {
   "display_name": "Python (qenv)",
   "language": "python",
   "name": "qenv"
  },
  "language_info": {
   "codemirror_mode": {
    "name": "ipython",
    "version": 3
   },
   "file_extension": ".py",
   "mimetype": "text/x-python",
   "name": "python",
   "nbconvert_exporter": "python",
   "pygments_lexer": "ipython3",
   "version": "3.7.13"
  },
  "latex_envs": {
   "LaTeX_envs_menu_present": true,
   "autoclose": false,
   "autocomplete": true,
   "bibliofile": "biblio.bib",
   "cite_by": "apalike",
   "current_citInitial": 1,
   "eqLabelWithNumbers": true,
   "eqNumInitial": 1,
   "hotkeys": {
    "equation": "Ctrl-E",
    "itemize": "Ctrl-I"
   },
   "labels_anchors": false,
   "latex_user_defs": false,
   "report_style_numbering": false,
   "user_envs_cfg": false
  },
  "toc": {
   "base_numbering": 1,
   "nav_menu": {},
   "number_sections": true,
   "sideBar": true,
   "skip_h1_title": false,
   "title_cell": "Table of Contents",
   "title_sidebar": "Contents",
   "toc_cell": false,
   "toc_position": {},
   "toc_section_display": true,
   "toc_window_display": false
  }
 },
 "nbformat": 4,
 "nbformat_minor": 5
}
