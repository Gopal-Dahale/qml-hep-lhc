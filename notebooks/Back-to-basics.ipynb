{
 "cells": [
  {
   "cell_type": "code",
   "execution_count": 1,
   "id": "a3091b4f",
   "metadata": {
    "ExecuteTime": {
     "end_time": "2022-08-07T06:42:35.830442Z",
     "start_time": "2022-08-07T06:42:34.745420Z"
    }
   },
   "outputs": [],
   "source": [
    "%load_ext autoreload\n",
    "%autoreload 2\n",
    "\n",
    "%matplotlib inline\n",
    "\n",
    "from importlib.util import find_spec\n",
    "if find_spec(\"qml_hep_lhc\") is None:\n",
    "    import sys\n",
    "    sys.path.append('..')"
   ]
  },
  {
   "cell_type": "code",
   "execution_count": 2,
   "id": "fe99704b",
   "metadata": {
    "ExecuteTime": {
     "end_time": "2022-08-07T06:42:40.129470Z",
     "start_time": "2022-08-07T06:42:35.834256Z"
    }
   },
   "outputs": [
    {
     "name": "stderr",
     "output_type": "stream",
     "text": [
      "2022-08-07 12:12:36.035475: W tensorflow/stream_executor/platform/default/dso_loader.cc:64] Could not load dynamic library 'libcudart.so.11.0'; dlerror: libcudart.so.11.0: cannot open shared object file: No such file or directory\n",
      "2022-08-07 12:12:36.035508: I tensorflow/stream_executor/cuda/cudart_stub.cc:29] Ignore above cudart dlerror if you do not have a GPU set up on your machine.\n",
      "2022-08-07 12:12:40.036815: E tensorflow/stream_executor/cuda/cuda_driver.cc:271] failed call to cuInit: CUDA_ERROR_NO_DEVICE: no CUDA-capable device is detected\n",
      "2022-08-07 12:12:40.036856: I tensorflow/stream_executor/cuda/cuda_diagnostics.cc:156] kernel driver does not appear to be running on this host (bhagvada): /proc/driver/nvidia/version does not exist\n",
      "2022-08-07 12:12:40.037218: I tensorflow/core/platform/cpu_feature_guard.cc:151] This TensorFlow binary is optimized with oneAPI Deep Neural Network Library (oneDNN) to use the following CPU instructions in performance-critical operations:  AVX2 FMA\n",
      "To enable them in other operations, rebuild TensorFlow with the appropriate compiler flags.\n"
     ]
    }
   ],
   "source": [
    "from qml_hep_lhc.data import MNIST\n",
    "from qml_hep_lhc.layers.utils import convolution_iters\n",
    "import argparse"
   ]
  },
  {
   "cell_type": "code",
   "execution_count": 3,
   "id": "b22e731f",
   "metadata": {
    "ExecuteTime": {
     "end_time": "2022-08-07T06:42:40.202843Z",
     "start_time": "2022-08-07T06:42:40.135340Z"
    }
   },
   "outputs": [],
   "source": [
    "args = argparse.Namespace()\n",
    "\n",
    "# Data\n",
    "args.center_crop = 0.7\n",
    "args.resize = [8,8]\n",
    "args.standardize = 1\n",
    "args.binary_data = [0,1]\n",
    "args.labels_to_categorical = 1\n",
    "args.processed = 1\n",
    "# args.percent_samples = 0.1\n",
    "\n",
    "# Base Model\n",
    "args.wandb = False\n",
    "args.batch_size = 64\n",
    "args.epochs = 8\n",
    "args.learning_rate = 0.2\n",
    "\n",
    "\n",
    "# Quantum CNN Parameters\n",
    "args.n_layers = 2\n",
    "args.n_qubits = 9\n",
    "args.template = 'S2D'"
   ]
  },
  {
   "cell_type": "code",
   "execution_count": 4,
   "id": "cde54483",
   "metadata": {
    "ExecuteTime": {
     "end_time": "2022-08-07T06:42:40.628790Z",
     "start_time": "2022-08-07T06:42:40.206627Z"
    }
   },
   "outputs": [
    {
     "name": "stdout",
     "output_type": "stream",
     "text": [
      "Binarizing data...\n",
      "Binarizing data...\n",
      "Center cropping...\n",
      "Center cropping...\n",
      "Resizing data...\n",
      "Resizing data...\n",
      "Standardizing data...\n",
      "Converting labels to categorical...\n",
      "Converting labels to categorical...\n",
      "\n",
      "Dataset :MNIST\n",
      "╒════════╤════════════════╤════════════════╤════════════════╤═══════════╕\n",
      "│ Data   │ Train size     │ Val size       │ Test size      │ Dims      │\n",
      "╞════════╪════════════════╪════════════════╪════════════════╪═══════════╡\n",
      "│ X      │ (480, 8, 8, 1) │ (120, 8, 8, 1) │ (200, 8, 8, 1) │ (8, 8, 1) │\n",
      "├────────┼────────────────┼────────────────┼────────────────┼───────────┤\n",
      "│ y      │ (480, 2)       │ (120, 2)       │ (200, 2)       │ (2,)      │\n",
      "╘════════╧════════════════╧════════════════╧════════════════╧═══════════╛\n",
      "\n",
      "╒══════════════╤═══════╤═══════╤════════╤═══════╤══════════════════════════╕\n",
      "│ Type         │   Min │   Max │   Mean │   Std │ Samples for each class   │\n",
      "╞══════════════╪═══════╪═══════╪════════╪═══════╪══════════════════════════╡\n",
      "│ Train Images │ -1.57 │ 23.52 │   0.01 │  1.01 │ [240, 240]               │\n",
      "├──────────────┼───────┼───────┼────────┼───────┼──────────────────────────┤\n",
      "│ Val Images   │ -1.57 │ 24.47 │  -0.03 │  0.96 │ [60, 60]                 │\n",
      "├──────────────┼───────┼───────┼────────┼───────┼──────────────────────────┤\n",
      "│ Test Images  │ -1.57 │ 16.84 │  -0.1  │  0.98 │ [100, 100]               │\n",
      "╘══════════════╧═══════╧═══════╧════════╧═══════╧══════════════════════════╛\n",
      "\n",
      "\n"
     ]
    }
   ],
   "source": [
    "data = MNIST(args)\n",
    "data.prepare_data()\n",
    "data.setup()\n",
    "print(data)"
   ]
  },
  {
   "cell_type": "code",
   "execution_count": 5,
   "id": "f18422bf",
   "metadata": {
    "ExecuteTime": {
     "end_time": "2022-08-07T06:42:40.985787Z",
     "start_time": "2022-08-07T06:42:40.632083Z"
    }
   },
   "outputs": [],
   "source": [
    "import tensorflow as tf\n",
    "import numpy as np\n",
    "import wandb\n",
    "\n",
    "tf.keras.backend.set_floatx('float64')\n"
   ]
  },
  {
   "cell_type": "code",
   "execution_count": 6,
   "id": "42fec8be",
   "metadata": {
    "ExecuteTime": {
     "end_time": "2022-08-07T06:42:46.944929Z",
     "start_time": "2022-08-07T06:42:40.989479Z"
    }
   },
   "outputs": [
    {
     "name": "stderr",
     "output_type": "stream",
     "text": [
      "\u001b[34m\u001b[1mwandb\u001b[0m: Currently logged in as: \u001b[33mgopald\u001b[0m. Use \u001b[1m`wandb login --relogin`\u001b[0m to force relogin\n",
      "2022-08-07 12:12:44.868290: W tensorflow/stream_executor/platform/default/dso_loader.cc:64] Could not load dynamic library 'libcudart.so.11.0'; dlerror: libcudart.so.11.0: cannot open shared object file: No such file or directory\n",
      "2022-08-07 12:12:44.868333: I tensorflow/stream_executor/cuda/cudart_stub.cc:29] Ignore above cudart dlerror if you do not have a GPU set up on your machine.\n"
     ]
    },
    {
     "data": {
      "text/html": [
       "wandb version 0.13.1 is available!  To upgrade, please run:\n",
       " $ pip install wandb --upgrade"
      ],
      "text/plain": [
       "<IPython.core.display.HTML object>"
      ]
     },
     "metadata": {},
     "output_type": "display_data"
    },
    {
     "data": {
      "text/html": [
       "Tracking run with wandb version 0.12.17"
      ],
      "text/plain": [
       "<IPython.core.display.HTML object>"
      ]
     },
     "metadata": {},
     "output_type": "display_data"
    },
    {
     "data": {
      "text/html": [
       "Run data is saved locally in <code>/home/gopald/Documents/qml-hep-lhc/notebooks/wandb/run-20220807_121242-go7c9c72</code>"
      ],
      "text/plain": [
       "<IPython.core.display.HTML object>"
      ]
     },
     "metadata": {},
     "output_type": "display_data"
    },
    {
     "data": {
      "text/html": [
       "Syncing run <strong><a href=\"https://wandb.ai/gopald/qml-hep-lhc/runs/go7c9c72\" target=\"_blank\">fancy-sea-220</a></strong> to <a href=\"https://wandb.ai/gopald/qml-hep-lhc\" target=\"_blank\">Weights & Biases</a> (<a href=\"https://wandb.me/run\" target=\"_blank\">docs</a>)<br/>"
      ],
      "text/plain": [
       "<IPython.core.display.HTML object>"
      ]
     },
     "metadata": {},
     "output_type": "display_data"
    },
    {
     "name": "stderr",
     "output_type": "stream",
     "text": [
      "\u001b[34m\u001b[1mwandb\u001b[0m: \u001b[33mWARNING\u001b[0m The save_model argument by default saves the model in the HDF5 format that cannot save custom objects like subclassed models and custom layers. This behavior will be deprecated in a future release in favor of the SavedModel format. Meanwhile, the HDF5 model is saved as W&B files and the SavedModel as W&B Artifacts.\n"
     ]
    }
   ],
   "source": [
    "callbacks = []\n",
    "\n",
    "# LR Scheduler callback\n",
    "lr_scheduler_callback = ReduceLROnPlateau(monitor='val_loss',\n",
    "                                          factor=0.1,\n",
    "                                          patience=5,\n",
    "                                          min_delta=0.0001,\n",
    "                                          min_lr=1e-6)\n",
    "callbacks.append(lr_scheduler_callback)\n",
    "\n",
    "if args.wandb:\n",
    "    run_id = wandb.util.generate_id()\n",
    "    wandb.init(project='qml-hep-lhc',\n",
    "                       config=vars(args),\n",
    "                       id=run_id,\n",
    "                       resume='allow')\n",
    "    callbacks.append(wandb.keras.WandbCallback(save_weights_only=True, save_graph=False))"
   ]
  },
  {
   "cell_type": "code",
   "execution_count": 7,
   "id": "d873f652",
   "metadata": {
    "ExecuteTime": {
     "end_time": "2022-08-07T06:42:49.165448Z",
     "start_time": "2022-08-07T06:42:48.880058Z"
    }
   },
   "outputs": [],
   "source": [
    "import pennylane as qml\n",
    "\n",
    "\n",
    "dev = qml.device(\"lightning.qubit\", wires=args.n_qubits)\n",
    "qubits = list(range(args.n_qubits))\n",
    "n_inputs = 9"
   ]
  },
  {
   "cell_type": "code",
   "execution_count": 19,
   "id": "abc05077",
   "metadata": {
    "ExecuteTime": {
     "end_time": "2022-08-07T06:45:10.229570Z",
     "start_time": "2022-08-07T06:45:10.147128Z"
    }
   },
   "outputs": [],
   "source": [
    "@qml.qnode(dev, diff_method=\"adjoint\")\n",
    "def qnode_sparse(inputs, weights, bias):\n",
    "    z = tf.tensordot(weights, inputs, axes = 1) + bias\n",
    "    for l in range(args.n_layers):\n",
    "        for q in qubits:\n",
    "            qml.Rot(z[l,q,0], z[l,q,1], z[l,q,2], wires= q)\n",
    "        if (l & 1):\n",
    "            for q0, q1 in zip(qubits[1::2], qubits[2::2] + [qubits[0]]):\n",
    "                qml.CZ((q0,q1))\n",
    "        else:\n",
    "            for q0, q1 in zip(qubits[0::2], qubits[1::2]):\n",
    "                qml.CZ((q0,q1))         \n",
    "    return [qml.expval(qml.PauliZ(i)) for i in range(args.n_qubits)]"
   ]
  },
  {
   "cell_type": "code",
   "execution_count": 20,
   "id": "183b730f",
   "metadata": {
    "ExecuteTime": {
     "end_time": "2022-08-07T06:45:10.460083Z",
     "start_time": "2022-08-07T06:45:10.345216Z"
    }
   },
   "outputs": [],
   "source": [
    "@qml.qnode(dev, diff_method=\"adjoint\")\n",
    "def qnode_basic(inputs, weights, bias):\n",
    "    inputs = inputs + bias\n",
    "    qml.AngleEmbedding(inputs, wires=range(args.n_qubits))\n",
    "    qml.BasicEntanglerLayers(weights, wires=range(args.n_qubits))\n",
    "    return [qml.expval(qml.PauliZ(wires=i)) for i in range(args.n_qubits)]"
   ]
  },
  {
   "cell_type": "code",
   "execution_count": 21,
   "id": "ecbd65ca",
   "metadata": {
    "ExecuteTime": {
     "end_time": "2022-08-07T06:45:11.089242Z",
     "start_time": "2022-08-07T06:45:10.939533Z"
    }
   },
   "outputs": [],
   "source": [
    "@qml.qnode(dev, diff_method=\"adjoint\")\n",
    "def qnode_s2d(inputs, weights, bias):\n",
    "    z = tf.tensordot(weights, inputs, axes = 1) + bias\n",
    "    qml.SimplifiedTwoDesign(initial_layer_weights=tf.zeros((args.n_qubits,)), \n",
    "                            weights=z, \n",
    "                            wires=range(args.n_qubits))\n",
    "    return [qml.expval(qml.PauliZ(wires=i)) for i in range(args.n_qubits)]"
   ]
  },
  {
   "cell_type": "code",
   "execution_count": 22,
   "id": "3c63ab76",
   "metadata": {
    "ExecuteTime": {
     "end_time": "2022-08-07T06:45:12.278264Z",
     "start_time": "2022-08-07T06:45:12.187413Z"
    }
   },
   "outputs": [],
   "source": [
    "def get_node(template, num_layers, num_qubits, num_inputs):\n",
    "    if template == 'NQubitPQC':\n",
    "        return qnode_sparse, {\n",
    "            \"weights\": (num_layers, num_qubits, 3, num_inputs),\n",
    "            \"bias\": (num_layers, num_qubits, 3)\n",
    "        }\n",
    "    elif template == 'Basic':\n",
    "        assert num_inputs == args.n_qubits\n",
    "        return qnode_basic, {\n",
    "            \"weights\": (num_layers, num_qubits),\n",
    "            \"bias\": (num_qubits,)\n",
    "        }\n",
    "    elif template == 'S2D':\n",
    "        return qnode_s2d, {\n",
    "            \"weights\": (num_layers, num_qubits -1, 2, num_inputs),\n",
    "            \"bias\": (num_layers, num_qubits -1, 2)\n",
    "        }"
   ]
  },
  {
   "cell_type": "code",
   "execution_count": 23,
   "id": "a339c84c",
   "metadata": {
    "ExecuteTime": {
     "end_time": "2022-08-07T06:45:12.769605Z",
     "start_time": "2022-08-07T06:45:12.661888Z"
    }
   },
   "outputs": [
    {
     "name": "stdout",
     "output_type": "stream",
     "text": [
      "0: ──RY(0.00)─╭●──RY(2.73)──────────────╭●──RY(2.90)──────────────┤  <Z>\n",
      "1: ──RY(0.00)─╰Z──RY(2.81)─╭●──RY(2.59)─╰Z──RY(2.92)─╭●──RY(3.29)─┤  <Z>\n",
      "2: ──RY(0.00)─╭●──RY(3.15)─╰Z──RY(3.31)─╭●──RY(2.13)─╰Z──RY(2.59)─┤  <Z>\n",
      "3: ──RY(0.00)─╰Z──RY(1.93)─╭●──RY(2.91)─╰Z──RY(3.43)─╭●──RY(4.10)─┤  <Z>\n",
      "4: ──RY(0.00)─╭●──RY(3.26)─╰Z──RY(3.15)─╭●──RY(2.09)─╰Z──RY(4.01)─┤  <Z>\n",
      "5: ──RY(0.00)─╰Z──RY(1.64)─╭●──RY(2.47)─╰Z──RY(3.55)─╭●──RY(3.51)─┤  <Z>\n",
      "6: ──RY(0.00)─╭●──RY(3.11)─╰Z──RY(2.00)─╭●──RY(3.05)─╰Z──RY(2.38)─┤  <Z>\n",
      "7: ──RY(0.00)─╰Z──RY(2.79)─╭●──RY(2.82)─╰Z──RY(2.06)─╭●──RY(2.78)─┤  <Z>\n",
      "8: ──RY(0.00)──────────────╰Z──RY(2.96)──────────────╰Z──RY(3.60)─┤  <Z>\n"
     ]
    }
   ],
   "source": [
    "inputs = tf.random.uniform((args.n_qubits, ))\n",
    "node, shapes = get_node(args.template, args.n_layers, args.n_qubits, n_inputs)\n",
    "w = tf.random.uniform(shapes['weights'])\n",
    "b = tf.random.uniform(shapes['bias'])\n",
    "drawer = qml.draw(node, expansion_strategy=\"device\")\n",
    "print(drawer(inputs,w,b))"
   ]
  },
  {
   "cell_type": "code",
   "execution_count": 24,
   "id": "edb6c656",
   "metadata": {
    "ExecuteTime": {
     "end_time": "2022-08-07T06:45:13.548583Z",
     "start_time": "2022-08-07T06:45:13.452550Z"
    }
   },
   "outputs": [
    {
     "data": {
      "text/plain": [
       "tensor([0.80015126, 0.9828517 , 0.92534344, 0.55664437, 0.08115117,\n",
       "        0.41864232, 0.41427645, 0.41553038, 0.87240161], requires_grad=True)"
      ]
     },
     "execution_count": 24,
     "metadata": {},
     "output_type": "execute_result"
    }
   ],
   "source": [
    "node(inputs,w,b)"
   ]
  },
  {
   "cell_type": "code",
   "execution_count": 25,
   "id": "d16c3783",
   "metadata": {
    "ExecuteTime": {
     "end_time": "2022-08-07T06:45:15.326448Z",
     "start_time": "2022-08-07T06:45:15.227026Z"
    }
   },
   "outputs": [],
   "source": [
    "class QConv2D(tf.keras.layers.Layer):\n",
    "    \"\"\"\n",
    "    2D Quantum convolution layer (e.g. spatial convolution over images).\n",
    "    This layer creates a convolution kernel that is convolved \n",
    "    with the layer input to produce a tensor of outputs. Finally,\n",
    "    `activation` is applied to the outputs as well.\n",
    "    \"\"\"\n",
    "\n",
    "    def __init__(\n",
    "            self,\n",
    "            template = 'Basic',\n",
    "            name='QConv2D',\n",
    "    ):\n",
    "\n",
    "        super(QConv2D, self).__init__(name=name)\n",
    "\n",
    "        self.kernel_size = (3,3)\n",
    "        self.strides = (2,2)\n",
    "        \n",
    "        node, shapes = get_node(template, args.n_layers, args.n_qubits, np.prod(self.kernel_size))\n",
    "        self.conv_pqc = qml.qnn.KerasLayer(node, shapes, output_dim= args.n_qubits)\n",
    "        \n",
    "    def build(self, input_shape):\n",
    "    \n",
    "        self.iters, _ = convolution_iters(\n",
    "            input_shape[1:3], self.kernel_size, self.strides, 'valid')\n",
    "        \n",
    "\n",
    "    def _convolution(self, input_tensor):\n",
    "\n",
    "        s = self.strides\n",
    "        k = self.kernel_size\n",
    "\n",
    "        conv_out = []\n",
    "        for i in range(self.iters[0]):\n",
    "            for j in range(self.iters[1]):\n",
    "                x = input_tensor[:, i * s[0]:i * s[0] + k[0], j *\n",
    "                                 s[1]:j * s[1] + k[1]]\n",
    "                x = tf.keras.layers.Flatten()(x)\n",
    "                conv_out += [self.conv_pqc(x)]\n",
    "              \n",
    "        conv_out = tf.keras.layers.Concatenate(axis=1)(conv_out)\n",
    "        conv_out = tf.keras.layers.Reshape((self.iters[0], self.iters[1], args.n_qubits))(conv_out)\n",
    "        return conv_out\n",
    "\n",
    "    def call(self, input_tensor):\n",
    "  \n",
    "        conv_out = [self._convolution(input_tensor[:, :, :, 0])]\n",
    "        conv_out = tf.keras.layers.Concatenate(axis=-1)(conv_out)\n",
    "        return conv_out"
   ]
  },
  {
   "cell_type": "code",
   "execution_count": 26,
   "id": "b3ed31dd",
   "metadata": {
    "ExecuteTime": {
     "end_time": "2022-08-07T06:45:15.645881Z",
     "start_time": "2022-08-07T06:45:15.530503Z"
    }
   },
   "outputs": [],
   "source": [
    "rlayer = QConv2D(template = args.template)\n",
    "flayer = tf.keras.layers.Flatten()\n",
    "clayer_2 = tf.keras.layers.Dense(2, activation=\"softmax\")\n",
    "model = tf.keras.models.Sequential([rlayer, flayer, clayer_2])"
   ]
  },
  {
   "cell_type": "code",
   "execution_count": 27,
   "id": "a56bbf6c",
   "metadata": {
    "ExecuteTime": {
     "end_time": "2022-08-07T06:45:15.959868Z",
     "start_time": "2022-08-07T06:45:15.852517Z"
    }
   },
   "outputs": [],
   "source": [
    "opt = tf.keras.optimizers.Adam(learning_rate=args.learning_rate)\n",
    "model.compile(opt, loss=\"categorical_crossentropy\", metrics=[\"accuracy\"])"
   ]
  },
  {
   "cell_type": "code",
   "execution_count": 28,
   "id": "03b53c71",
   "metadata": {
    "ExecuteTime": {
     "end_time": "2022-08-07T06:45:29.064526Z",
     "start_time": "2022-08-07T06:45:16.342302Z"
    }
   },
   "outputs": [
    {
     "name": "stdout",
     "output_type": "stream",
     "text": [
      "Model: \"sequential\"\n",
      "_________________________________________________________________\n",
      " Layer (type)                Output Shape              Param #   \n",
      "=================================================================\n",
      " QConv2D (QConv2D)           multiple                  320       \n",
      "                                                                 \n",
      " flatten (Flatten)           multiple                  0         \n",
      "                                                                 \n",
      " dense (Dense)               multiple                  164       \n",
      "                                                                 \n",
      "=================================================================\n",
      "Total params: 484\n",
      "Trainable params: 484\n",
      "Non-trainable params: 0\n",
      "_________________________________________________________________\n"
     ]
    }
   ],
   "source": [
    "dim = data.config()['input_dims']\n",
    "in_shape = [args.batch_size] + list(dim)\n",
    "\n",
    "x = tf.random.uniform((in_shape))\n",
    "y = model(x)\n",
    "model.summary()"
   ]
  },
  {
   "cell_type": "code",
   "execution_count": 29,
   "id": "06bb4289",
   "metadata": {
    "ExecuteTime": {
     "end_time": "2022-08-07T07:27:23.205185Z",
     "start_time": "2022-08-07T06:45:29.071844Z"
    }
   },
   "outputs": [
    {
     "name": "stdout",
     "output_type": "stream",
     "text": [
      "Epoch 1/8\n",
      "8/8 [==============================] - 218s 27s/step - loss: 1.5626 - accuracy: 0.6146 - val_loss: 0.6502 - val_accuracy: 0.7833 - _timestamp: 1659854947.0000 - _runtime: 385.0000\n",
      "Epoch 2/8\n",
      "8/8 [==============================] - 228s 29s/step - loss: 0.6072 - accuracy: 0.8313 - val_loss: 0.7634 - val_accuracy: 0.8250 - _timestamp: 1659855175.0000 - _runtime: 613.0000\n",
      "Epoch 3/8\n",
      "8/8 [==============================] - 244s 31s/step - loss: 0.3982 - accuracy: 0.8917 - val_loss: 0.3680 - val_accuracy: 0.9000 - _timestamp: 1659855419.0000 - _runtime: 857.0000\n",
      "Epoch 4/8\n",
      "8/8 [==============================] - 469s 63s/step - loss: 0.2774 - accuracy: 0.9187 - val_loss: 0.3469 - val_accuracy: 0.9083 - _timestamp: 1659855887.0000 - _runtime: 1325.0000\n",
      "Epoch 5/8\n",
      "8/8 [==============================] - 226s 28s/step - loss: 0.1292 - accuracy: 0.9458 - val_loss: 0.2643 - val_accuracy: 0.9167 - _timestamp: 1659856114.0000 - _runtime: 1552.0000\n",
      "Epoch 6/8\n",
      "8/8 [==============================] - 517s 65s/step - loss: 0.1404 - accuracy: 0.9583 - val_loss: 0.2807 - val_accuracy: 0.9167 - _timestamp: 1659856631.0000 - _runtime: 2069.0000\n",
      "Epoch 7/8\n",
      "8/8 [==============================] - 349s 41s/step - loss: 0.0939 - accuracy: 0.9688 - val_loss: 0.1969 - val_accuracy: 0.9333 - _timestamp: 1659856980.0000 - _runtime: 2418.0000\n",
      "Epoch 8/8\n",
      "8/8 [==============================] - 263s 33s/step - loss: 0.0392 - accuracy: 0.9833 - val_loss: 0.1963 - val_accuracy: 0.9750 - _timestamp: 1659857243.0000 - _runtime: 2681.0000\n"
     ]
    }
   ],
   "source": [
    "fitting = model.fit(data.train_ds,\n",
    "                    batch_size= args.batch_size,\n",
    "                   epochs= args.epochs,\n",
    "                   validation_data=data.val_ds,\n",
    "                   shuffle=True,\n",
    "                    callbacks = callbacks,\n",
    "                   workers=4)"
   ]
  },
  {
   "cell_type": "code",
   "execution_count": null,
   "id": "46075691",
   "metadata": {},
   "outputs": [],
   "source": []
  }
 ],
 "metadata": {
  "kernelspec": {
   "display_name": "Python (qenv)",
   "language": "python",
   "name": "qenv"
  },
  "language_info": {
   "codemirror_mode": {
    "name": "ipython",
    "version": 3
   },
   "file_extension": ".py",
   "mimetype": "text/x-python",
   "name": "python",
   "nbconvert_exporter": "python",
   "pygments_lexer": "ipython3",
   "version": "3.7.13"
  },
  "latex_envs": {
   "LaTeX_envs_menu_present": true,
   "autoclose": false,
   "autocomplete": true,
   "bibliofile": "biblio.bib",
   "cite_by": "apalike",
   "current_citInitial": 1,
   "eqLabelWithNumbers": true,
   "eqNumInitial": 1,
   "hotkeys": {
    "equation": "Ctrl-E",
    "itemize": "Ctrl-I"
   },
   "labels_anchors": false,
   "latex_user_defs": false,
   "report_style_numbering": false,
   "user_envs_cfg": false
  },
  "toc": {
   "base_numbering": 1,
   "nav_menu": {},
   "number_sections": true,
   "sideBar": true,
   "skip_h1_title": false,
   "title_cell": "Table of Contents",
   "title_sidebar": "Contents",
   "toc_cell": false,
   "toc_position": {},
   "toc_section_display": true,
   "toc_window_display": false
  }
 },
 "nbformat": 4,
 "nbformat_minor": 5
}
