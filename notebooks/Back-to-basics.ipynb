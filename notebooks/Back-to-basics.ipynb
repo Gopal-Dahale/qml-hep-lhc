{
 "cells": [
  {
   "cell_type": "code",
   "execution_count": 1,
   "id": "a3091b4f",
   "metadata": {
    "ExecuteTime": {
     "end_time": "2022-08-08T10:05:56.430336Z",
     "start_time": "2022-08-08T10:05:51.683831Z"
    }
   },
   "outputs": [],
   "source": [
    "%load_ext autoreload\n",
    "%autoreload 2\n",
    "\n",
    "%matplotlib inline\n",
    "\n",
    "from importlib.util import find_spec\n",
    "if find_spec(\"qml_hep_lhc\") is None:\n",
    "    import sys\n",
    "    sys.path.append('..')"
   ]
  },
  {
   "cell_type": "code",
   "execution_count": 2,
   "id": "fe99704b",
   "metadata": {
    "ExecuteTime": {
     "end_time": "2022-08-08T10:06:59.255369Z",
     "start_time": "2022-08-08T10:05:56.434518Z"
    }
   },
   "outputs": [
    {
     "name": "stderr",
     "output_type": "stream",
     "text": [
      "2022-08-08 15:36:02.738488: W tensorflow/stream_executor/platform/default/dso_loader.cc:64] Could not load dynamic library 'libcudart.so.11.0'; dlerror: libcudart.so.11.0: cannot open shared object file: No such file or directory\n",
      "2022-08-08 15:36:02.738586: I tensorflow/stream_executor/cuda/cudart_stub.cc:29] Ignore above cudart dlerror if you do not have a GPU set up on your machine.\n",
      "2022-08-08 15:36:56.876235: E tensorflow/stream_executor/cuda/cuda_driver.cc:271] failed call to cuInit: CUDA_ERROR_NO_DEVICE: no CUDA-capable device is detected\n",
      "2022-08-08 15:36:56.876295: I tensorflow/stream_executor/cuda/cuda_diagnostics.cc:156] kernel driver does not appear to be running on this host (bhagvada): /proc/driver/nvidia/version does not exist\n",
      "2022-08-08 15:36:56.906272: I tensorflow/core/platform/cpu_feature_guard.cc:151] This TensorFlow binary is optimized with oneAPI Deep Neural Network Library (oneDNN) to use the following CPU instructions in performance-critical operations:  AVX2 FMA\n",
      "To enable them in other operations, rebuild TensorFlow with the appropriate compiler flags.\n"
     ]
    }
   ],
   "source": [
    "from qml_hep_lhc.data import MNIST\n",
    "from qml_hep_lhc.layers.utils import convolution_iters\n",
    "import argparse"
   ]
  },
  {
   "cell_type": "code",
   "execution_count": 4,
   "id": "b22e731f",
   "metadata": {
    "ExecuteTime": {
     "end_time": "2022-08-08T10:07:25.223674Z",
     "start_time": "2022-08-08T10:07:25.148184Z"
    }
   },
   "outputs": [],
   "source": [
    "args = argparse.Namespace()\n",
    "\n",
    "# Data\n",
    "args.center_crop = 0.7\n",
    "args.resize = [8,8]\n",
    "args.standardize = 1\n",
    "args.binary_data = [0,1]\n",
    "args.labels_to_categorical = 1\n",
    "args.processed = 1\n",
    "args.percent_samples = 0.05\n",
    "\n",
    "# Base Model\n",
    "args.wandb = False\n",
    "args.batch_size = 8\n",
    "args.epochs = 2\n",
    "args.learning_rate = 0.2\n",
    "\n",
    "\n",
    "# Quantum CNN Parameters\n",
    "args.n_layers = 1\n",
    "args.n_qubits = 1\n",
    "args.template = 'NQubitPQC'"
   ]
  },
  {
   "cell_type": "code",
   "execution_count": 5,
   "id": "cde54483",
   "metadata": {
    "ExecuteTime": {
     "end_time": "2022-08-08T10:07:27.015973Z",
     "start_time": "2022-08-08T10:07:25.691220Z"
    }
   },
   "outputs": [
    {
     "name": "stdout",
     "output_type": "stream",
     "text": [
      "Binarizing data...\n",
      "Binarizing data...\n",
      "Center cropping...\n",
      "Center cropping...\n",
      "Resizing data...\n",
      "Resizing data...\n",
      "Standardizing data...\n",
      "Converting labels to categorical...\n",
      "Converting labels to categorical...\n",
      "\n",
      "Dataset :MNIST\n",
      "╒════════╤═══════════════╤══════════════╤═══════════════╤═══════════╕\n",
      "│ Data   │ Train size    │ Val size     │ Test size     │ Dims      │\n",
      "╞════════╪═══════════════╪══════════════╪═══════════════╪═══════════╡\n",
      "│ X      │ (24, 8, 8, 1) │ (6, 8, 8, 1) │ (10, 8, 8, 1) │ (8, 8, 1) │\n",
      "├────────┼───────────────┼──────────────┼───────────────┼───────────┤\n",
      "│ y      │ (24, 2)       │ (6, 2)       │ (10, 2)       │ (2,)      │\n",
      "╘════════╧═══════════════╧══════════════╧═══════════════╧═══════════╛\n",
      "\n",
      "╒══════════════╤═══════╤═══════╤════════╤═══════╤══════════════════════════╕\n",
      "│ Type         │   Min │   Max │   Mean │   Std │ Samples for each class   │\n",
      "╞══════════════╪═══════╪═══════╪════════╪═══════╪══════════════════════════╡\n",
      "│ Train Images │ -2.01 │  5.39 │  -0.01 │  0.98 │ [12, 12]                 │\n",
      "├──────────────┼───────┼───────┼────────┼───────┼──────────────────────────┤\n",
      "│ Val Images   │ -1.69 │  5.39 │   0.04 │  1.02 │ [3, 3]                   │\n",
      "├──────────────┼───────┼───────┼────────┼───────┼──────────────────────────┤\n",
      "│ Test Images  │ -2.01 │  4.32 │  -0.06 │  0.96 │ [5, 5]                   │\n",
      "╘══════════════╧═══════╧═══════╧════════╧═══════╧══════════════════════════╛\n",
      "\n",
      "\n"
     ]
    }
   ],
   "source": [
    "data = MNIST(args)\n",
    "data.prepare_data()\n",
    "data.setup()\n",
    "print(data)"
   ]
  },
  {
   "cell_type": "code",
   "execution_count": 8,
   "id": "f18422bf",
   "metadata": {
    "ExecuteTime": {
     "end_time": "2022-08-08T10:07:47.680658Z",
     "start_time": "2022-08-08T10:07:47.488346Z"
    }
   },
   "outputs": [],
   "source": [
    "import tensorflow as tf\n",
    "import numpy as np\n",
    "import wandb\n",
    "from tensorflow.keras.callbacks import ReduceLROnPlateau\n",
    "\n",
    "\n",
    "tf.keras.backend.set_floatx('float64')\n"
   ]
  },
  {
   "cell_type": "code",
   "execution_count": 9,
   "id": "42fec8be",
   "metadata": {
    "ExecuteTime": {
     "end_time": "2022-08-08T10:07:48.126017Z",
     "start_time": "2022-08-08T10:07:48.002004Z"
    }
   },
   "outputs": [],
   "source": [
    "callbacks = []\n",
    "\n",
    "# LR Scheduler callback\n",
    "lr_scheduler_callback = ReduceLROnPlateau(monitor='val_loss',\n",
    "                                          factor=0.1,\n",
    "                                          patience=5,\n",
    "                                          min_delta=0.0001,\n",
    "                                          min_lr=1e-6)\n",
    "callbacks.append(lr_scheduler_callback)\n",
    "\n",
    "if args.wandb:\n",
    "    run_id = wandb.util.generate_id()\n",
    "    wandb.init(project='qml-hep-lhc',\n",
    "                       config=vars(args),\n",
    "                       id=run_id,\n",
    "                       resume='allow')\n",
    "    callbacks.append(wandb.keras.WandbCallback(save_weights_only=True, save_graph=False))"
   ]
  },
  {
   "cell_type": "code",
   "execution_count": 10,
   "id": "d873f652",
   "metadata": {
    "ExecuteTime": {
     "end_time": "2022-08-08T10:07:53.075804Z",
     "start_time": "2022-08-08T10:07:50.080704Z"
    }
   },
   "outputs": [],
   "source": [
    "import pennylane as qml\n",
    "\n",
    "\n",
    "dev = qml.device(\"lightning.qubit\", wires=args.n_qubits)\n",
    "qubits = list(range(args.n_qubits))\n",
    "n_inputs = 9"
   ]
  },
  {
   "cell_type": "code",
   "execution_count": 11,
   "id": "abc05077",
   "metadata": {
    "ExecuteTime": {
     "end_time": "2022-08-08T10:07:54.824349Z",
     "start_time": "2022-08-08T10:07:54.756210Z"
    }
   },
   "outputs": [],
   "source": [
    "@qml.qnode(dev, diff_method=\"adjoint\")\n",
    "def qnode_sparse(inputs, weights, bias):\n",
    "    z = tf.tensordot(weights, inputs, axes = 1) + bias\n",
    "    for l in range(args.n_layers):\n",
    "        for q in qubits:\n",
    "            qml.Rot(z[l,q,0], z[l,q,1], z[l,q,2], wires= q)\n",
    "        if (l & 1):\n",
    "            for q0, q1 in zip(qubits[1::2], qubits[2::2] + [qubits[0]]):\n",
    "                qml.CZ((q0,q1))\n",
    "        else:\n",
    "            for q0, q1 in zip(qubits[0::2], qubits[1::2]):\n",
    "                qml.CZ((q0,q1))         \n",
    "    return [qml.expval(qml.PauliZ(i)) for i in range(args.n_qubits)]"
   ]
  },
  {
   "cell_type": "code",
   "execution_count": 12,
   "id": "183b730f",
   "metadata": {
    "ExecuteTime": {
     "end_time": "2022-08-08T10:07:55.047563Z",
     "start_time": "2022-08-08T10:07:54.947249Z"
    }
   },
   "outputs": [],
   "source": [
    "@qml.qnode(dev, diff_method=\"adjoint\")\n",
    "def qnode_basic(inputs, weights, bias):\n",
    "    inputs = inputs + bias\n",
    "    qml.AngleEmbedding(inputs, wires=range(args.n_qubits))\n",
    "    qml.BasicEntanglerLayers(weights, wires=range(args.n_qubits))\n",
    "    return [qml.expval(qml.PauliZ(wires=i)) for i in range(args.n_qubits)]"
   ]
  },
  {
   "cell_type": "code",
   "execution_count": 13,
   "id": "ecbd65ca",
   "metadata": {
    "ExecuteTime": {
     "end_time": "2022-08-08T10:07:55.552182Z",
     "start_time": "2022-08-08T10:07:55.451393Z"
    }
   },
   "outputs": [],
   "source": [
    "@qml.qnode(dev, diff_method=\"adjoint\")\n",
    "def qnode_s2d(inputs, weights, bias):\n",
    "    z = tf.tensordot(weights, inputs, axes = 1) + bias\n",
    "    qml.SimplifiedTwoDesign(initial_layer_weights=tf.zeros((args.n_qubits,)), \n",
    "                            weights=z, \n",
    "                            wires=range(args.n_qubits))\n",
    "    return [qml.expval(qml.PauliZ(wires=i)) for i in range(args.n_qubits)]"
   ]
  },
  {
   "cell_type": "code",
   "execution_count": 14,
   "id": "3c63ab76",
   "metadata": {
    "ExecuteTime": {
     "end_time": "2022-08-08T10:07:55.828890Z",
     "start_time": "2022-08-08T10:07:55.745230Z"
    }
   },
   "outputs": [],
   "source": [
    "def get_node(template, num_layers, num_qubits, num_inputs):\n",
    "    if template == 'NQubitPQC':\n",
    "        return qnode_sparse, {\n",
    "            \"weights\": (num_layers, num_qubits, 3, num_inputs),\n",
    "            \"bias\": (num_layers, num_qubits, 3)\n",
    "        }\n",
    "    elif template == 'Basic':\n",
    "        assert num_inputs == args.n_qubits\n",
    "        return qnode_basic, {\n",
    "            \"weights\": (num_layers, num_qubits),\n",
    "            \"bias\": (num_qubits,)\n",
    "        }\n",
    "    elif template == 'S2D':\n",
    "        return qnode_s2d, {\n",
    "            \"weights\": (num_layers, num_qubits -1, 2, num_inputs),\n",
    "            \"bias\": (num_layers, num_qubits -1, 2)\n",
    "        }"
   ]
  },
  {
   "cell_type": "code",
   "execution_count": 16,
   "id": "a339c84c",
   "metadata": {
    "ExecuteTime": {
     "end_time": "2022-08-08T10:08:02.944208Z",
     "start_time": "2022-08-08T10:08:02.581311Z"
    }
   },
   "outputs": [
    {
     "name": "stdout",
     "output_type": "stream",
     "text": [
      "0: ──Rot(2.92,1.70,1.87)─┤  <Z>\n"
     ]
    }
   ],
   "source": [
    "inputs = tf.random.uniform((n_inputs, ))\n",
    "node, shapes = get_node(args.template, args.n_layers, args.n_qubits, n_inputs)\n",
    "w = tf.random.uniform(shapes['weights'])\n",
    "b = tf.random.uniform(shapes['bias'])\n",
    "drawer = qml.draw(node, expansion_strategy=\"device\")\n",
    "print(drawer(inputs,w,b))"
   ]
  },
  {
   "cell_type": "code",
   "execution_count": 17,
   "id": "edb6c656",
   "metadata": {
    "ExecuteTime": {
     "end_time": "2022-08-08T10:08:04.931336Z",
     "start_time": "2022-08-08T10:08:04.756734Z"
    }
   },
   "outputs": [
    {
     "data": {
      "text/plain": [
       "tensor([-0.12819527], requires_grad=True)"
      ]
     },
     "execution_count": 17,
     "metadata": {},
     "output_type": "execute_result"
    }
   ],
   "source": [
    "node(inputs,w,b)"
   ]
  },
  {
   "cell_type": "code",
   "execution_count": 176,
   "id": "d16c3783",
   "metadata": {
    "ExecuteTime": {
     "end_time": "2022-08-08T12:16:14.344203Z",
     "start_time": "2022-08-08T12:16:14.262182Z"
    }
   },
   "outputs": [],
   "source": [
    "class QConv2D(tf.keras.layers.Layer):\n",
    "    \"\"\"\n",
    "    2D Quantum convolution layer (e.g. spatial convolution over images).\n",
    "    This layer creates a convolution kernel that is convolved \n",
    "    with the layer input to produce a tensor of outputs. Finally,\n",
    "    `activation` is applied to the outputs as well.\n",
    "    \"\"\"\n",
    "\n",
    "    def __init__(\n",
    "            self,\n",
    "            template = 'Basic',\n",
    "            name='QConv2D',\n",
    "    ):\n",
    "\n",
    "        super(QConv2D, self).__init__(name=name)\n",
    "\n",
    "        self.kernel_size = (3,3)\n",
    "        self.strides = (2,2)\n",
    "        \n",
    "        node, shapes = get_node(template, args.n_layers, args.n_qubits, np.prod(self.kernel_size))\n",
    "        self.conv_pqc = qml.qnn.KerasLayer(node, shapes, output_dim= args.n_qubits)\n",
    "        \n",
    "    def build(self, input_shape):\n",
    "        \n",
    "        assert input_shape[3] == 1\n",
    "    \n",
    "        self.iters, _ = convolution_iters(\n",
    "            input_shape[1:3], self.kernel_size, self.strides, 'valid')\n",
    "\n",
    "    def call(self, x):\n",
    "        x = tf.image.extract_patches(images=x,\n",
    "                                       sizes=[1, self.kernel_size[0], self.kernel_size[1], 1],\n",
    "                                       strides=[1, self.strides[0], self.strides[1], 1],\n",
    "                                       rates=[1, 1, 1, 1],\n",
    "                                       padding='VALID')\n",
    "        x = tf.reshape(x, [-1, np.prod(self.kernel_size)])\n",
    "        x = tf.map_fn(self.conv_pqc, x)\n",
    "        x = tf.reshape(x,[-1, self.iters[0],self.iters[1],1])\n",
    "        return x"
   ]
  },
  {
   "cell_type": "code",
   "execution_count": 177,
   "id": "b3ed31dd",
   "metadata": {
    "ExecuteTime": {
     "end_time": "2022-08-08T12:16:14.625205Z",
     "start_time": "2022-08-08T12:16:14.509937Z"
    }
   },
   "outputs": [],
   "source": [
    "rlayer = QConv2D(template = args.template)\n",
    "flayer = tf.keras.layers.Flatten()\n",
    "clayer_2 = tf.keras.layers.Dense(2, activation=\"softmax\")\n",
    "model = tf.keras.models.Sequential([rlayer, flayer, clayer_2])"
   ]
  },
  {
   "cell_type": "code",
   "execution_count": 178,
   "id": "a56bbf6c",
   "metadata": {
    "ExecuteTime": {
     "end_time": "2022-08-08T12:16:14.943341Z",
     "start_time": "2022-08-08T12:16:14.798818Z"
    }
   },
   "outputs": [],
   "source": [
    "opt = tf.keras.optimizers.Adam(learning_rate=args.learning_rate)\n",
    "model.compile(opt, loss=\"categorical_crossentropy\", metrics=[\"accuracy\"])"
   ]
  },
  {
   "cell_type": "code",
   "execution_count": 179,
   "id": "03b53c71",
   "metadata": {
    "ExecuteTime": {
     "end_time": "2022-08-08T12:16:15.962777Z",
     "start_time": "2022-08-08T12:16:15.490616Z"
    }
   },
   "outputs": [
    {
     "name": "stdout",
     "output_type": "stream",
     "text": [
      "Model: \"sequential_18\"\n",
      "_________________________________________________________________\n",
      " Layer (type)                Output Shape              Param #   \n",
      "=================================================================\n",
      " QConv2D (QConv2D)           multiple                  30        \n",
      "                                                                 \n",
      " flatten_294 (Flatten)       multiple                  0         \n",
      "                                                                 \n",
      " dense_18 (Dense)            multiple                  20        \n",
      "                                                                 \n",
      "=================================================================\n",
      "Total params: 50\n",
      "Trainable params: 50\n",
      "Non-trainable params: 0\n",
      "_________________________________________________________________\n"
     ]
    }
   ],
   "source": [
    "dim = data.config()['input_dims']\n",
    "in_shape = [args.batch_size] + list(dim)\n",
    "\n",
    "x = tf.random.uniform((in_shape))\n",
    "y = model(x)\n",
    "model.summary()"
   ]
  },
  {
   "cell_type": "code",
   "execution_count": 175,
   "id": "06bb4289",
   "metadata": {
    "ExecuteTime": {
     "end_time": "2022-08-08T12:15:57.719658Z",
     "start_time": "2022-08-08T12:15:52.482447Z"
    }
   },
   "outputs": [
    {
     "name": "stdout",
     "output_type": "stream",
     "text": [
      "Epoch 1/2\n",
      "3/3 [==============================] - 3s 899ms/step - loss: 0.4280 - accuracy: 0.8333 - val_loss: 0.7295 - val_accuracy: 0.6667 - lr: 0.2000\n",
      "Epoch 2/2\n",
      "3/3 [==============================] - 3s 956ms/step - loss: 0.6013 - accuracy: 0.7917 - val_loss: 0.6465 - val_accuracy: 0.8333 - lr: 0.2000\n"
     ]
    }
   ],
   "source": [
    "fitting = model.fit(data.train_ds,\n",
    "                    batch_size= args.batch_size,\n",
    "                   epochs= args.epochs,\n",
    "                   validation_data=data.val_ds,\n",
    "                   shuffle=True,\n",
    "                    callbacks = callbacks,\n",
    "                   workers=4)"
   ]
  },
  {
   "cell_type": "code",
   "execution_count": null,
   "id": "33d9664d",
   "metadata": {},
   "outputs": [],
   "source": []
  }
 ],
 "metadata": {
  "kernelspec": {
   "display_name": "Python (qenv)",
   "language": "python",
   "name": "qenv"
  },
  "language_info": {
   "codemirror_mode": {
    "name": "ipython",
    "version": 3
   },
   "file_extension": ".py",
   "mimetype": "text/x-python",
   "name": "python",
   "nbconvert_exporter": "python",
   "pygments_lexer": "ipython3",
   "version": "3.7.13"
  },
  "latex_envs": {
   "LaTeX_envs_menu_present": true,
   "autoclose": false,
   "autocomplete": true,
   "bibliofile": "biblio.bib",
   "cite_by": "apalike",
   "current_citInitial": 1,
   "eqLabelWithNumbers": true,
   "eqNumInitial": 1,
   "hotkeys": {
    "equation": "Ctrl-E",
    "itemize": "Ctrl-I"
   },
   "labels_anchors": false,
   "latex_user_defs": false,
   "report_style_numbering": false,
   "user_envs_cfg": false
  },
  "toc": {
   "base_numbering": 1,
   "nav_menu": {},
   "number_sections": true,
   "sideBar": true,
   "skip_h1_title": false,
   "title_cell": "Table of Contents",
   "title_sidebar": "Contents",
   "toc_cell": false,
   "toc_position": {},
   "toc_section_display": true,
   "toc_window_display": false
  }
 },
 "nbformat": 4,
 "nbformat_minor": 5
}
