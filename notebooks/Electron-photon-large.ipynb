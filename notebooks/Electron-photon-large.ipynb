{
 "cells": [
  {
   "cell_type": "code",
   "execution_count": null,
   "id": "e71d1d11",
   "metadata": {},
   "outputs": [],
   "source": [
    "with h5py.File(\"../datasets/downloaded/electron-photon-dataset/electron.hdf5\", \"r\") as f:\n",
    "    px = np.asarray(f['X'][()], dtype=np.float32)\n",
    "    py = np.asarray(f['y'][()], dtype=np.float32\n",
    "    print(\"Loaded electron dataset!\")\n",
    "\n",
    "with h5py.File(\"../datasets/downloaded/electron-photon-dataset/photon.hdf5\", \"r\") as f:\n",
    "    ex = np.asarray(f['X'][()], dtype=np.float32)\n",
    "    ey = np.asarray(f['y'][()], dtype=np.float32)\n",
    "    print(\"Loaded photon dataset!\")\n"
   ]
  }
 ],
 "metadata": {
  "kernelspec": {
   "display_name": "Python 3 (ipykernel)",
   "language": "python",
   "name": "python3"
  },
  "language_info": {
   "codemirror_mode": {
    "name": "ipython",
    "version": 3
   },
   "file_extension": ".py",
   "mimetype": "text/x-python",
   "name": "python",
   "nbconvert_exporter": "python",
   "pygments_lexer": "ipython3",
   "version": "3.7.13"
  },
  "latex_envs": {
   "LaTeX_envs_menu_present": true,
   "autoclose": false,
   "autocomplete": true,
   "bibliofile": "biblio.bib",
   "cite_by": "apalike",
   "current_citInitial": 1,
   "eqLabelWithNumbers": true,
   "eqNumInitial": 1,
   "hotkeys": {
    "equation": "Ctrl-E",
    "itemize": "Ctrl-I"
   },
   "labels_anchors": false,
   "latex_user_defs": false,
   "report_style_numbering": false,
   "user_envs_cfg": false
  },
  "toc": {
   "base_numbering": 1,
   "nav_menu": {},
   "number_sections": true,
   "sideBar": true,
   "skip_h1_title": false,
   "title_cell": "Table of Contents",
   "title_sidebar": "Contents",
   "toc_cell": false,
   "toc_position": {},
   "toc_section_display": true,
   "toc_window_display": false
  }
 },
 "nbformat": 4,
 "nbformat_minor": 5
}
