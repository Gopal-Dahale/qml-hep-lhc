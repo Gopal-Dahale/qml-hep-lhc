{
 "cells": [
  {
   "cell_type": "code",
   "execution_count": 1,
   "id": "d28a72a2",
   "metadata": {
    "ExecuteTime": {
     "end_time": "2022-09-25T06:28:05.285460Z",
     "start_time": "2022-09-25T06:28:00.371305Z"
    }
   },
   "outputs": [],
   "source": [
    "from importlib.util import find_spec\n",
    "%load_ext autoreload\n",
    "%autoreload 2\n",
    "\n",
    "%matplotlib inline\n",
    "\n",
    "if find_spec(\"qml_hep_lhc\") is None:\n",
    "    import sys\n",
    "    sys.path.append('../..')"
   ]
  },
  {
   "cell_type": "code",
   "execution_count": 2,
   "id": "7a7a9c90",
   "metadata": {
    "ExecuteTime": {
     "end_time": "2022-09-25T06:29:33.949464Z",
     "start_time": "2022-09-25T06:28:28.024981Z"
    }
   },
   "outputs": [
    {
     "name": "stderr",
     "output_type": "stream",
     "text": [
      "2022-09-25 11:58:34.283774: W tensorflow/stream_executor/platform/default/dso_loader.cc:64] Could not load dynamic library 'libcudart.so.11.0'; dlerror: libcudart.so.11.0: cannot open shared object file: No such file or directory\n",
      "2022-09-25 11:58:34.283856: I tensorflow/stream_executor/cuda/cudart_stub.cc:29] Ignore above cudart dlerror if you do not have a GPU set up on your machine.\n"
     ]
    }
   ],
   "source": [
    "from qml_hep_lhc.data import ElectronPhoton, MNIST, QuarkGluon\n",
    "from qml_hep_lhc.data.utils import tf_ds_to_numpy\n",
    "import argparse\n",
    "import wandb\n",
    "\n",
    "import pennylane as qml\n",
    "import jax.numpy as jnp\n",
    "import jax\n",
    "import optax\n",
    "from jax.nn.initializers import he_uniform, glorot_uniform\n",
    "from jax import grad, jit, vmap\n",
    "from jax import random\n",
    "import flax.linen as nn\n",
    "import tensorflow_datasets as tfds\n",
    "from tqdm import tqdm\n",
    "import numpy as np\n",
    "import tensorflow as tf\n",
    "\n",
    "\n",
    "import matplotlib.pyplot as plt\n",
    "import time"
   ]
  },
  {
   "cell_type": "code",
   "execution_count": 3,
   "id": "53cce28d",
   "metadata": {
    "ExecuteTime": {
     "end_time": "2022-09-25T06:29:34.590276Z",
     "start_time": "2022-09-25T06:29:34.063769Z"
    }
   },
   "outputs": [
    {
     "name": "stderr",
     "output_type": "stream",
     "text": [
      "WARNING:absl:No GPU/TPU found, falling back to CPU. (Set TF_CPP_MIN_LOG_LEVEL=0 and rerun for more info.)\n"
     ]
    },
    {
     "data": {
      "text/plain": [
       "[CpuDevice(id=0)]"
      ]
     },
     "execution_count": 3,
     "metadata": {},
     "output_type": "execute_result"
    }
   ],
   "source": [
    "jax.devices()"
   ]
  },
  {
   "cell_type": "code",
   "execution_count": 70,
   "id": "7a7944e9",
   "metadata": {
    "ExecuteTime": {
     "end_time": "2022-09-25T06:45:12.451314Z",
     "start_time": "2022-09-25T06:45:12.357502Z"
    }
   },
   "outputs": [],
   "source": [
    "args = argparse.Namespace()\n",
    "\n",
    "# Data\n",
    "args.center_crop = 0.7\n",
    "args.resize = [8,8]\n",
    "args.standardize = 1\n",
    "args.binary_data = [0,1]\n",
    "args.batch_size = 1024\n",
    "args.validation_split = 0.05\n",
    "args.labels_to_categorical = 1\n",
    "\n",
    "# Base Model\n",
    "args.wandb = False\n",
    "\n",
    "# Quantum CNN Parameters\n",
    "args.n_layers = 1\n",
    "args.n_qubits = 1\n",
    "args.template = 'NQubitPQCSparse'\n",
    "args.initializer = 'he_uniform'\n",
    "args.opt = 'adam'\n",
    "\n",
    "args.num_qconv_layers = 2\n",
    "args.qconv_dims = [2, 2]\n",
    "args.kernel_sizes = [(3, 3), (3, 3)]\n",
    "args.strides = [(1, 1), (1, 1)]\n",
    "args.paddings = [\"SAME\", \"SAME\"]\n",
    "\n",
    "args.clayer_sizes = [8, 2]"
   ]
  },
  {
   "cell_type": "code",
   "execution_count": 71,
   "id": "d347947e",
   "metadata": {
    "ExecuteTime": {
     "end_time": "2022-09-25T06:45:12.832061Z",
     "start_time": "2022-09-25T06:45:12.726655Z"
    }
   },
   "outputs": [],
   "source": [
    "if args.wandb:\n",
    "     wandb.init(project='qml-hep-lhc', config = vars(args))"
   ]
  },
  {
   "cell_type": "code",
   "execution_count": 72,
   "id": "ce4dec05",
   "metadata": {
    "ExecuteTime": {
     "end_time": "2022-09-25T06:45:16.637739Z",
     "start_time": "2022-09-25T06:45:13.013955Z"
    }
   },
   "outputs": [
    {
     "name": "stdout",
     "output_type": "stream",
     "text": [
      "Binarizing data...\n",
      "Binarizing data...\n",
      "Center cropping...\n",
      "Center cropping...\n",
      "Resizing data...\n",
      "Resizing data...\n",
      "Standardizing data...\n",
      "Converting labels to categorical...\n",
      "Converting labels to categorical...\n",
      "\n",
      "Dataset :MNIST\n",
      "╒════════╤══════════════════╤════════════════╤═════════════════╤═══════════╕\n",
      "│ Data   │ Train size       │ Val size       │ Test size       │ Dims      │\n",
      "╞════════╪══════════════════╪════════════════╪═════════════════╪═══════════╡\n",
      "│ X      │ (12031, 8, 8, 1) │ (634, 8, 8, 1) │ (2115, 8, 8, 1) │ (8, 8, 1) │\n",
      "├────────┼──────────────────┼────────────────┼─────────────────┼───────────┤\n",
      "│ y      │ (12031, 2)       │ (634, 2)       │ (2115, 2)       │ (2,)      │\n",
      "╘════════╧══════════════════╧════════════════╧═════════════════╧═══════════╛\n",
      "\n",
      "╒══════════════╤═══════╤═══════╤════════╤═══════╤══════════════════════════╕\n",
      "│ Type         │   Min │   Max │   Mean │   Std │ Samples for each class   │\n",
      "╞══════════════╪═══════╪═══════╪════════╪═══════╪══════════════════════════╡\n",
      "│ Train Images │ -1.58 │ 66.11 │  -0    │  1    │ [6405, 5626]             │\n",
      "├──────────────┼───────┼───────┼────────┼───────┼──────────────────────────┤\n",
      "│ Val Images   │ -1.58 │ 26.2  │   0.02 │  1.05 │ [337, 297]               │\n",
      "├──────────────┼───────┼───────┼────────┼───────┼──────────────────────────┤\n",
      "│ Test Images  │ -1.58 │ 27.55 │  -0.01 │  0.98 │ [1135, 980]              │\n",
      "╘══════════════╧═══════╧═══════╧════════╧═══════╧══════════════════════════╛\n",
      "\n",
      "\n"
     ]
    }
   ],
   "source": [
    "data = MNIST(args)\n",
    "data.prepare_data()\n",
    "data.setup()\n",
    "print(data)"
   ]
  },
  {
   "cell_type": "markdown",
   "id": "74329b45",
   "metadata": {},
   "source": [
    "## Hyperparameters"
   ]
  },
  {
   "cell_type": "code",
   "execution_count": 73,
   "id": "884dcb6e",
   "metadata": {
    "ExecuteTime": {
     "end_time": "2022-09-25T06:45:16.731069Z",
     "start_time": "2022-09-25T06:45:16.642579Z"
    }
   },
   "outputs": [
    {
     "data": {
      "text/plain": [
       "(8, 8, 1)"
      ]
     },
     "execution_count": 73,
     "metadata": {},
     "output_type": "execute_result"
    }
   ],
   "source": [
    "input_dims = data.config()['input_dims']\n",
    "input_dims"
   ]
  },
  {
   "cell_type": "code",
   "execution_count": 74,
   "id": "485ef1fa",
   "metadata": {
    "ExecuteTime": {
     "end_time": "2022-09-25T06:45:16.864065Z",
     "start_time": "2022-09-25T06:45:16.734981Z"
    }
   },
   "outputs": [],
   "source": [
    "def get_out_shape(in_shape,f, k, s, padding):\n",
    "    in_shape = (1,) + in_shape\n",
    "    a = np.random.uniform(size = (in_shape))\n",
    "    dn = jax.lax.conv_dimension_numbers(a.shape, (1,1,k[0],k[1]), ('NHWC', 'IOHW', 'NHWC'))\n",
    "    out = jax.lax.conv_general_dilated_patches(lhs = a,\n",
    "                                           filter_shape= k,\n",
    "                                           window_strides=s,\n",
    "                                           padding=padding,\n",
    "                                           dimension_numbers=dn \n",
    "                                    )\n",
    "    return out.shape[1:3]+(f,)"
   ]
  },
  {
   "cell_type": "code",
   "execution_count": 75,
   "id": "b17ff04e",
   "metadata": {
    "ExecuteTime": {
     "end_time": "2022-09-25T06:45:16.977356Z",
     "start_time": "2022-09-25T06:45:16.875248Z"
    }
   },
   "outputs": [],
   "source": [
    "# Get qlayer sizes\n",
    "def get_qlayer_sizes(template, n_l, n_q, k_size):\n",
    "    if template == 'NQubitPQCSparse':\n",
    "        return {\n",
    "            'w': (n_l, n_q,3,np.prod(k_size)),\n",
    "            'b': (n_l,n_q,3,1)\n",
    "        }\n",
    "    elif template == 'NQubitPQC':\n",
    "        assert np.prod(k_size)%3 == 0\n",
    "        return {\n",
    "            'w': (n_l,n_q,np.prod(k_size)),\n",
    "            'b': (n_l,n_q,np.prod(k_size))\n",
    "        }\n",
    "\n",
    "initializer = he_uniform()"
   ]
  },
  {
   "cell_type": "code",
   "execution_count": 76,
   "id": "ec1a45e5",
   "metadata": {
    "ExecuteTime": {
     "end_time": "2022-09-25T06:45:17.072024Z",
     "start_time": "2022-09-25T06:45:16.980576Z"
    }
   },
   "outputs": [],
   "source": [
    "def random_qlayer_params(size, key, filters, n_channels, scale=1e-1):\n",
    "    w =  initializer(key, size)\n",
    "    tile_shape = (filters,n_channels,) + (1,)*len(size)\n",
    "    w = jnp.tile(w, tile_shape)\n",
    "    return w\n",
    "\n",
    "def init_qnetwork_params(in_shape, filters, kernel_size, strides, padding, template, n_l, n_q, key):\n",
    "    n_channels = in_shape[-1]\n",
    "    sizes = get_qlayer_sizes(template, n_l,n_q, kernel_size)\n",
    "    keys = random.split(key, len(sizes))\n",
    "    return [random_qlayer_params(size, key, filters, n_channels) for size, key in zip(sizes.values(), keys)]"
   ]
  },
  {
   "cell_type": "code",
   "execution_count": 77,
   "id": "1c07a61b",
   "metadata": {
    "ExecuteTime": {
     "end_time": "2022-09-25T06:45:17.209949Z",
     "start_time": "2022-09-25T06:45:17.076091Z"
    }
   },
   "outputs": [],
   "source": [
    "# A helper function to randomly initialize weights and biases\n",
    "# for a dense neural network layer\n",
    "def random_clayer_params(m, n, key, scale=1e-1):\n",
    "    w_key, b_key = random.split(key)\n",
    "    return initializer(w_key, (n,m)), random.normal(b_key, (n,))\n",
    "    return scale * random.normal(w_key, (n, m)), scale * random.normal(b_key, (n,))\n",
    "\n",
    "# Initialize all layers for a fully-connected neural network with sizes \"sizes\"\n",
    "def init_network_params(sizes, key):\n",
    "    keys = random.split(key, len(sizes))\n",
    "    return [random_clayer_params(m, n, k) for m, n, k in zip(sizes[:-1], sizes[1:], keys)]"
   ]
  },
  {
   "cell_type": "code",
   "execution_count": 78,
   "id": "a821743c",
   "metadata": {
    "ExecuteTime": {
     "end_time": "2022-09-25T06:45:17.312677Z",
     "start_time": "2022-09-25T06:45:17.219735Z"
    }
   },
   "outputs": [],
   "source": [
    "num_qconv_layers = args.num_qconv_layers\n",
    "qconv_dims = args.qconv_dims\n",
    "kernel_sizes = args.kernel_sizes\n",
    "strides = args.strides\n",
    "paddings = args.paddings\n",
    "clayer_sizes = args.clayer_sizes\n",
    "\n",
    "template = args.template\n",
    "n_layers = args.n_layers\n",
    "n_qubits = args.n_qubits"
   ]
  },
  {
   "cell_type": "code",
   "execution_count": 79,
   "id": "2cee9850",
   "metadata": {
    "ExecuteTime": {
     "end_time": "2022-09-25T06:45:18.028826Z",
     "start_time": "2022-09-25T06:45:17.316145Z"
    }
   },
   "outputs": [
    {
     "name": "stderr",
     "output_type": "stream",
     "text": [
      "/home/gopald/Documents/qml-hep-lhc/qenv/lib/python3.7/site-packages/jax/_src/lax/other.py:97: UserWarning: Explicitly requested dtype float64 requested in eye is not available, and will be truncated to dtype float32. To enable more dtypes, set the jax_enable_x64 configuration option or the JAX_ENABLE_X64 shell environment variable. See https://github.com/google/jax#current-gotchas for more.\n",
      "  rhs = jnp.eye(spatial_size, dtype=lhs.dtype).reshape(filter_shape * 2)\n"
     ]
    },
    {
     "name": "stdout",
     "output_type": "stream",
     "text": [
      "(8, 8, 2)\n",
      "(8, 8, 2)\n"
     ]
    }
   ],
   "source": [
    "in_shape = input_dims\n",
    "params = []\n",
    "for l in range(num_qconv_layers):\n",
    "    qconv_params = init_qnetwork_params(in_shape, \n",
    "                                         qconv_dims[l], \n",
    "                                         kernel_sizes[l], \n",
    "                                         strides[l], \n",
    "                                         paddings[l],\n",
    "                                         template, \n",
    "                                         n_layers,\n",
    "                                         n_qubits,\n",
    "                                         random.PRNGKey(l))\n",
    "    params += [qconv_params]\n",
    "    in_shape = get_out_shape(in_shape,qconv_dims[l],kernel_sizes[l],strides[l],paddings[l])\n",
    "    print(in_shape)\n",
    "    \n",
    "\n",
    "num_pixels = np.prod(in_shape)\n",
    "clayer_sizes = [num_pixels] + clayer_sizes\n",
    "\n",
    "params += init_network_params(clayer_sizes, random.PRNGKey(2))"
   ]
  },
  {
   "cell_type": "code",
   "execution_count": 80,
   "id": "5b368d89",
   "metadata": {
    "ExecuteTime": {
     "end_time": "2022-09-25T06:45:18.106732Z",
     "start_time": "2022-09-25T06:45:18.032363Z"
    }
   },
   "outputs": [
    {
     "name": "stdout",
     "output_type": "stream",
     "text": [
      "(2, 1, 1, 1, 3, 9) (2, 1, 1, 1, 3, 1) \n",
      "(2, 2, 1, 1, 3, 9) (2, 2, 1, 1, 3, 1) \n",
      "(8, 128) (8,) \n",
      "(2, 8) (2,) \n"
     ]
    }
   ],
   "source": [
    "for i in params:\n",
    "    for j in i:\n",
    "        print(j.shape, end = ' ')\n",
    "    print()"
   ]
  },
  {
   "cell_type": "markdown",
   "id": "0cc04079",
   "metadata": {},
   "source": [
    "## QLayers"
   ]
  },
  {
   "cell_type": "code",
   "execution_count": 81,
   "id": "b5a64b72",
   "metadata": {
    "ExecuteTime": {
     "end_time": "2022-09-25T06:45:18.225676Z",
     "start_time": "2022-09-25T06:45:18.114948Z"
    }
   },
   "outputs": [],
   "source": [
    "dev = qml.device('default.qubit.jax', wires=n_qubits)\n",
    "qubits =list(range(n_qubits))\n",
    "\n",
    "@jax.jit\n",
    "@qml.qnode(dev, interface='jax')\n",
    "def NQubitPQCSparse(inputs, w, b):\n",
    "\n",
    "    z = jnp.dot(w, jnp.transpose(inputs))+ b\n",
    "\n",
    "    for q in qubits:\n",
    "        qml.Hadamard(wires=q)\n",
    "    \n",
    "    for l in range(n_layers):\n",
    "        for q in qubits:\n",
    "            qml.Rot(z[l,q,0], z[l,q,1], z[l,q,2], wires= q)\n",
    "        if (l & 1):\n",
    "            for q0, q1 in zip(qubits[1::2], qubits[2::2] + [qubits[0]]):\n",
    "                qml.CZ((q0,q1))\n",
    "        else:\n",
    "            for q0, q1 in zip(qubits[0::2], qubits[1::2]):\n",
    "                qml.CZ((q0,q1))\n",
    "   \n",
    "    return qml.expval(qml.PauliZ(qubits[-1]))"
   ]
  },
  {
   "cell_type": "code",
   "execution_count": 82,
   "id": "caaf2386",
   "metadata": {
    "ExecuteTime": {
     "end_time": "2022-09-25T06:45:18.348572Z",
     "start_time": "2022-09-25T06:45:18.229739Z"
    }
   },
   "outputs": [],
   "source": [
    "dev = qml.device('default.qubit.jax', wires=n_qubits)\n",
    "qubits =list(range(n_qubits))\n",
    "\n",
    "@jax.jit\n",
    "@qml.qnode(dev, interface='jax')\n",
    "def NQubitPQC(inputs, w, b):\n",
    "    steps = inputs.shape[-1]//3\n",
    "    for q in qubits:\n",
    "        qml.Hadamard(wires=q)\n",
    "    \n",
    "    for l in range(n_layers):\n",
    "        for q in qubits:\n",
    "            for i in range(steps):\n",
    "                z = jnp.transpose(jnp.multiply(inputs[:,3*i:3*i+3],w[l,q,3*i:3*i+3]) + b[l,q,3*i:3*i+3])\n",
    "                qml.RZ(z[0], wires=q)\n",
    "                qml.RY(z[1], wires=q)\n",
    "                qml.RZ(z[2], wires=q)\n",
    "                \n",
    "        if (l & 1):\n",
    "            for q0, q1 in zip(qubits[1::2], qubits[2::2] + [qubits[0]]):\n",
    "                qml.CZ((q0,q1))\n",
    "        else:\n",
    "            for q0, q1 in zip(qubits[0::2], qubits[1::2]):\n",
    "                qml.CZ((q0,q1))\n",
    "\n",
    "    return qml.expval(qml.PauliZ(qubits[-1]))"
   ]
  },
  {
   "cell_type": "code",
   "execution_count": 83,
   "id": "4b084fed",
   "metadata": {
    "ExecuteTime": {
     "end_time": "2022-09-25T06:45:18.433772Z",
     "start_time": "2022-09-25T06:45:18.353012Z"
    }
   },
   "outputs": [],
   "source": [
    "def get_node(template):\n",
    "    if template == 'NQubitPQC':\n",
    "        return NQubitPQC\n",
    "    elif template == 'NQubitPQCSparse':\n",
    "        return NQubitPQCSparse"
   ]
  },
  {
   "cell_type": "code",
   "execution_count": 84,
   "id": "94ff6d15",
   "metadata": {
    "ExecuteTime": {
     "end_time": "2022-09-25T06:45:18.523820Z",
     "start_time": "2022-09-25T06:45:18.436817Z"
    }
   },
   "outputs": [],
   "source": [
    "def qconv_cop(x, w,b):\n",
    "    end_dim = x.shape[-1]\n",
    "    iters = x.shape[1:3]\n",
    "    x = jnp.reshape(x , (-1,)+ (end_dim,))\n",
    "    x = get_node(template)(x, w, b)\n",
    "    x = jnp.reshape(x, (-1,) + iters)\n",
    "    return x\n",
    "\n",
    "batched_qconv_cop = vmap(qconv_cop, in_axes=(3, 0, 0))\n",
    "\n",
    "def qconv_fop(x, w, b):\n",
    "    x = batched_qconv_cop(x,w,b)\n",
    "    x = jnp.sum(x, axis= 0)\n",
    "    return x\n",
    "\n",
    "batched_qconv_fop = vmap(qconv_fop, in_axes=(None,0,0))\n",
    "\n",
    "def qconv(x, params, filters, kernel_size, stride, padding):\n",
    "    n_channels = x.shape[-1]\n",
    "    x = jnp.expand_dims(x,axis=0)\n",
    "    dn = jax.lax.conv_dimension_numbers(x.shape, \n",
    "                                        (1,1,kernel_size[0],kernel_size[1]), \n",
    "                                        ('NHWC', 'IOHW', 'NHWC'))\n",
    "    x = jax.lax.conv_general_dilated_patches(lhs = x,\n",
    "                                               filter_shape= kernel_size,\n",
    "                                               window_strides=stride,\n",
    "                                               padding=padding,\n",
    "                                               dimension_numbers=dn \n",
    "                                              )\n",
    "    iters = x.shape[1:3]\n",
    "    x = jnp.reshape(x, ((-1,) + iters + (n_channels,) + (np.prod(kernel_size),)))\n",
    "    x = batched_qconv_fop(x, params[0], params[1])\n",
    "    x = jnp.reshape(x, iters + (filters,))\n",
    "    return x"
   ]
  },
  {
   "cell_type": "code",
   "execution_count": 85,
   "id": "6da308ec",
   "metadata": {
    "ExecuteTime": {
     "end_time": "2022-09-25T06:45:18.637550Z",
     "start_time": "2022-09-25T06:45:18.527697Z"
    }
   },
   "outputs": [
    {
     "data": {
      "text/plain": [
       "(8, 8, 1)"
      ]
     },
     "execution_count": 85,
     "metadata": {},
     "output_type": "execute_result"
    }
   ],
   "source": [
    "random_flattened_image = random.normal(random.PRNGKey(1), input_dims)\n",
    "random_flattened_image = jnp.floor(random_flattened_image*10)\n",
    "random_flattened_image.shape"
   ]
  },
  {
   "cell_type": "code",
   "execution_count": 86,
   "id": "d365470d",
   "metadata": {
    "ExecuteTime": {
     "end_time": "2022-09-25T06:45:25.853737Z",
     "start_time": "2022-09-25T06:45:18.643099Z"
    }
   },
   "outputs": [
    {
     "name": "stdout",
     "output_type": "stream",
     "text": [
      "(8, 8, 2)\n",
      "(8, 8, 2)\n"
     ]
    }
   ],
   "source": [
    "out = random_flattened_image\n",
    "for l in range(num_qconv_layers):\n",
    "    out = qconv(out, \n",
    "                params[l],\n",
    "                qconv_dims[l], \n",
    "                kernel_sizes[l], \n",
    "                strides[l], \n",
    "                paddings[l])\n",
    "    print(out.shape)"
   ]
  },
  {
   "cell_type": "code",
   "execution_count": 87,
   "id": "d0ff8700",
   "metadata": {
    "ExecuteTime": {
     "end_time": "2022-09-25T06:45:25.961964Z",
     "start_time": "2022-09-25T06:45:25.858368Z"
    }
   },
   "outputs": [
    {
     "name": "stdout",
     "output_type": "stream",
     "text": [
      "0: ──H──Rot─┤  <Z>\n"
     ]
    }
   ],
   "source": [
    "dev = qml.device(\"default.qubit\", wires=n_qubits)\n",
    "qnode = qml.QNode(get_node(template), dev)\n",
    "\n",
    "inputs = np.random.uniform(size = (10,np.prod(kernel_sizes[0])))\n",
    "weights = [params[0][0][0][0], params[0][1][0][0]]\n",
    "drawer = qml.draw(qnode, expansion_strategy=\"device\")\n",
    "print(drawer(inputs,*weights))"
   ]
  },
  {
   "cell_type": "markdown",
   "id": "0eb80645",
   "metadata": {},
   "source": [
    "## Auto-Batching Predictions"
   ]
  },
  {
   "cell_type": "code",
   "execution_count": 88,
   "id": "93945a8f",
   "metadata": {
    "ExecuteTime": {
     "end_time": "2022-09-25T06:45:26.126500Z",
     "start_time": "2022-09-25T06:45:25.966581Z"
    }
   },
   "outputs": [],
   "source": [
    "from jax.scipy.special import logsumexp\n",
    "\n",
    "def relu(x):\n",
    "    return jnp.maximum(0, x)\n",
    "\n",
    "def forward(params, image):\n",
    "    # per-example predictions\n",
    "    \n",
    "    activations = image\n",
    "    for l in range(num_qconv_layers):\n",
    "        activations = qconv(activations, params[l], qconv_dims[l], kernel_sizes[l], strides[l], paddings[l])\n",
    "        \n",
    "    activations += image\n",
    "    activations = relu(activations)\n",
    "        \n",
    "    activations = jnp.reshape(activations, (-1))\n",
    "    \n",
    "    for w, b in params[num_qconv_layers:-1]:\n",
    "        outputs = jnp.dot(w, activations) + b\n",
    "        activations = relu(outputs)\n",
    "    final_w, final_b = params[-1]\n",
    "    logits = jnp.dot(final_w, activations) + final_b\n",
    "    \n",
    "    return logits - logsumexp(logits)"
   ]
  },
  {
   "cell_type": "code",
   "execution_count": 89,
   "id": "fbdb84a8",
   "metadata": {
    "ExecuteTime": {
     "end_time": "2022-09-25T06:45:26.332244Z",
     "start_time": "2022-09-25T06:45:26.133818Z"
    },
    "scrolled": true
   },
   "outputs": [
    {
     "name": "stdout",
     "output_type": "stream",
     "text": [
      "[-50.780647   0.      ]\n"
     ]
    }
   ],
   "source": [
    "# This works on single examples\n",
    "preds = forward(params,  random_flattened_image)\n",
    "print(preds)"
   ]
  },
  {
   "cell_type": "code",
   "execution_count": 90,
   "id": "931e2120",
   "metadata": {
    "ExecuteTime": {
     "end_time": "2022-09-25T06:45:26.415426Z",
     "start_time": "2022-09-25T06:45:26.336770Z"
    }
   },
   "outputs": [
    {
     "name": "stdout",
     "output_type": "stream",
     "text": [
      "Invalid shapes!\n"
     ]
    }
   ],
   "source": [
    "# Doesn't work with a batch\n",
    "random_flattened_images = random.normal(random.PRNGKey(1), (2,)+ input_dims)\n",
    "random_flattened_images = jnp.floor(random_flattened_images*10)\n",
    "try:\n",
    "    preds = forward(params, random_flattened_images)\n",
    "except TypeError:\n",
    "    print('Invalid shapes!')"
   ]
  },
  {
   "cell_type": "code",
   "execution_count": 91,
   "id": "9fa9ea5f",
   "metadata": {
    "ExecuteTime": {
     "end_time": "2022-09-25T06:45:35.718206Z",
     "start_time": "2022-09-25T06:45:26.419052Z"
    }
   },
   "outputs": [
    {
     "name": "stdout",
     "output_type": "stream",
     "text": [
      "[[   0.      -130.99347]\n",
      " [   0.       -80.78039]]\n"
     ]
    }
   ],
   "source": [
    "# Let's upgrade it to handle batches using `vmap`\n",
    "\n",
    "# Make a batched version of the `predict` function\n",
    "batched_forward = vmap(forward, in_axes=(None,0))\n",
    "\n",
    "# `batched_predict` has the same call signature as `predict`\n",
    "batched_preds = batched_forward(params, random_flattened_images)\n",
    "print(batched_preds)"
   ]
  },
  {
   "cell_type": "markdown",
   "id": "d696d399",
   "metadata": {},
   "source": [
    "## Utility and loss functions"
   ]
  },
  {
   "cell_type": "code",
   "execution_count": 92,
   "id": "fc48796a",
   "metadata": {
    "ExecuteTime": {
     "end_time": "2022-09-25T06:45:35.822592Z",
     "start_time": "2022-09-25T06:45:35.726751Z"
    }
   },
   "outputs": [],
   "source": [
    "from sklearn.metrics import roc_auc_score\n",
    "\n",
    "def accuracy(y_true, y_pred):\n",
    "    target_class = jnp.argmax(y_true, axis=1)\n",
    "    predicted_class = jnp.argmax(y_pred, axis=1)\n",
    "    return jnp.mean(predicted_class == target_class)\n",
    "\n",
    "def loss_fn(params, images, targets):\n",
    "    preds = batched_forward(params, images)\n",
    "    loss_value = -jnp.mean(preds * targets)\n",
    "    return loss_value, preds\n",
    "\n",
    "@jit\n",
    "def update(opt_state, params, x, y):\n",
    "    _ , grads = jax.value_and_grad(loss_fn, has_aux=True)(params, x, y)\n",
    "\n",
    "    updates, opt_state = optimizer.update(grads, opt_state)\n",
    "    params = optax.apply_updates(params, updates)\n",
    "\n",
    "    return params, opt_state \n",
    "\n",
    "@jit\n",
    "def step(params,x,y):\n",
    "    loss_value, preds = loss_fn(params, x, y)\n",
    "    acc = accuracy(y, preds)\n",
    "    return loss_value, acc\n",
    "\n",
    "def evaluate(params, ds):\n",
    "    losses = []\n",
    "    accs = []\n",
    "    with tqdm(tfds.as_numpy(ds), unit=\"batch\") as tepoch:\n",
    "        for x, y in tepoch:\n",
    "            tepoch.set_description(\"Validation\")\n",
    "            loss_value, acc = step(params, x, y)\n",
    "            losses.append(loss_value)\n",
    "            accs.append(acc)\n",
    "       \n",
    "    return jnp.mean(np.array(losses)), jnp.mean(np.array(accs))\n",
    "\n",
    "def predict(params, ds):\n",
    "    preds = []\n",
    "    y_true = []\n",
    "    with tqdm(tfds.as_numpy(ds), unit=\"batch\") as tepoch:\n",
    "        for x, y in tepoch:\n",
    "            preds += list(batched_forward(params, x))\n",
    "            y_true += list(y)\n",
    "    \n",
    "    return np.array(preds), np.array(y_true)"
   ]
  },
  {
   "cell_type": "markdown",
   "id": "63afa04b",
   "metadata": {},
   "source": [
    "## Training loop"
   ]
  },
  {
   "cell_type": "code",
   "execution_count": 93,
   "id": "fb4f365f",
   "metadata": {
    "ExecuteTime": {
     "end_time": "2022-09-25T06:47:13.653983Z",
     "start_time": "2022-09-25T06:45:35.826917Z"
    },
    "scrolled": true
   },
   "outputs": [
    {
     "name": "stdout",
     "output_type": "stream",
     "text": [
      "Learning Rate: 0.005\n"
     ]
    },
    {
     "name": "stderr",
     "output_type": "stream",
     "text": [
      "Epoch 0: 100%|████████████████████████████████████████████████████████████████████| 12/12 [00:40<00:00,  3.41s/batch]\n",
      "Validation: 100%|█████████████████████████████████████████████████████████████████| 12/12 [00:24<00:00,  2.01s/batch]\n",
      "Validation: 100%|███████████████████████████████████████████████████████████████████| 1/1 [00:11<00:00, 11.18s/batch]\n"
     ]
    },
    {
     "name": "stdout",
     "output_type": "stream",
     "text": [
      "loss: 0.29725784063339233 - acc: 0.8465805053710938\n",
      "val_loss: 0.2740291953086853 - val_acc: 0.8943217992782593\n",
      "time: 40.946343421936035\n"
     ]
    },
    {
     "name": "stderr",
     "output_type": "stream",
     "text": [
      "Epoch 1: 100%|████████████████████████████████████████████████████████████████████| 12/12 [00:01<00:00,  6.65batch/s]\n",
      "Validation: 100%|█████████████████████████████████████████████████████████████████| 12/12 [00:00<00:00, 20.31batch/s]\n",
      "Validation: 100%|███████████████████████████████████████████████████████████████████| 1/1 [00:00<00:00, 22.01batch/s]\n"
     ]
    },
    {
     "name": "stdout",
     "output_type": "stream",
     "text": [
      "loss: 0.1250562071800232 - acc: 0.942348837852478\n",
      "val_loss: 0.149129718542099 - val_acc: 0.9511041045188904\n",
      "time: 1.8112201690673828\n"
     ]
    },
    {
     "name": "stderr",
     "output_type": "stream",
     "text": [
      "Epoch 2: 100%|████████████████████████████████████████████████████████████████████| 12/12 [00:01<00:00,  7.04batch/s]\n",
      "Validation: 100%|█████████████████████████████████████████████████████████████████| 12/12 [00:00<00:00, 13.05batch/s]\n",
      "Validation: 100%|███████████████████████████████████████████████████████████████████| 1/1 [00:00<00:00, 19.59batch/s]\n"
     ]
    },
    {
     "name": "stdout",
     "output_type": "stream",
     "text": [
      "loss: 0.046767085790634155 - acc: 0.9776724576950073\n",
      "val_loss: 0.0577176995575428 - val_acc: 0.9858044385910034\n",
      "time: 1.718628168106079\n"
     ]
    },
    {
     "name": "stderr",
     "output_type": "stream",
     "text": [
      "Epoch 3: 100%|████████████████████████████████████████████████████████████████████| 12/12 [00:02<00:00,  4.69batch/s]\n",
      "Validation: 100%|█████████████████████████████████████████████████████████████████| 12/12 [00:00<00:00, 17.84batch/s]\n",
      "Validation: 100%|███████████████████████████████████████████████████████████████████| 1/1 [00:00<00:00, 22.98batch/s]\n"
     ]
    },
    {
     "name": "stdout",
     "output_type": "stream",
     "text": [
      "loss: 0.022341733798384666 - acc: 0.9884427785873413\n",
      "val_loss: 0.04186905920505524 - val_acc: 0.9858044385910034\n",
      "time: 2.5704989433288574\n"
     ]
    },
    {
     "name": "stderr",
     "output_type": "stream",
     "text": [
      "Epoch 4: 100%|████████████████████████████████████████████████████████████████████| 12/12 [00:01<00:00,  6.62batch/s]\n",
      "Validation: 100%|█████████████████████████████████████████████████████████████████| 12/12 [00:00<00:00, 15.47batch/s]\n",
      "Validation: 100%|███████████████████████████████████████████████████████████████████| 1/1 [00:00<00:00, 14.07batch/s]\n"
     ]
    },
    {
     "name": "stdout",
     "output_type": "stream",
     "text": [
      "loss: 0.012991329655051231 - acc: 0.9934887290000916\n",
      "val_loss: 0.03464209660887718 - val_acc: 0.9952681660652161\n",
      "time: 1.8176608085632324\n"
     ]
    },
    {
     "name": "stderr",
     "output_type": "stream",
     "text": [
      "Epoch 5: 100%|████████████████████████████████████████████████████████████████████| 12/12 [00:02<00:00,  5.90batch/s]\n",
      "Validation: 100%|█████████████████████████████████████████████████████████████████| 12/12 [00:00<00:00, 22.48batch/s]\n",
      "Validation: 100%|███████████████████████████████████████████████████████████████████| 1/1 [00:00<00:00, 28.87batch/s]\n"
     ]
    },
    {
     "name": "stdout",
     "output_type": "stream",
     "text": [
      "loss: 0.009302498772740364 - acc: 0.9952249526977539\n",
      "val_loss: 0.036226365715265274 - val_acc: 0.9952681660652161\n",
      "time: 2.0422921180725098\n"
     ]
    },
    {
     "name": "stderr",
     "output_type": "stream",
     "text": [
      "Epoch 6: 100%|████████████████████████████████████████████████████████████████████| 12/12 [00:01<00:00, 10.15batch/s]\n",
      "Validation: 100%|█████████████████████████████████████████████████████████████████| 12/12 [00:00<00:00, 24.29batch/s]\n",
      "Validation: 100%|███████████████████████████████████████████████████████████████████| 1/1 [00:00<00:00, 30.86batch/s]\n"
     ]
    },
    {
     "name": "stdout",
     "output_type": "stream",
     "text": [
      "loss: 0.007727194577455521 - acc: 0.9961475133895874\n",
      "val_loss: 0.03410317003726959 - val_acc: 0.9952681660652161\n",
      "time: 1.1867685317993164\n"
     ]
    },
    {
     "name": "stderr",
     "output_type": "stream",
     "text": [
      "Epoch 7: 100%|████████████████████████████████████████████████████████████████████| 12/12 [00:01<00:00,  9.03batch/s]\n",
      "Validation: 100%|█████████████████████████████████████████████████████████████████| 12/12 [00:00<00:00, 23.55batch/s]\n",
      "Validation: 100%|███████████████████████████████████████████████████████████████████| 1/1 [00:00<00:00, 26.99batch/s]\n"
     ]
    },
    {
     "name": "stdout",
     "output_type": "stream",
     "text": [
      "loss: 0.006787057500332594 - acc: 0.9965001940727234\n",
      "val_loss: 0.031796667724847794 - val_acc: 0.9952681660652161\n",
      "time: 1.3335788249969482\n"
     ]
    },
    {
     "name": "stderr",
     "output_type": "stream",
     "text": [
      "Epoch 8: 100%|████████████████████████████████████████████████████████████████████| 12/12 [00:01<00:00,  9.60batch/s]\n",
      "Validation: 100%|█████████████████████████████████████████████████████████████████| 12/12 [00:00<00:00, 25.23batch/s]\n",
      "Validation: 100%|███████████████████████████████████████████████████████████████████| 1/1 [00:00<00:00, 25.70batch/s]\n"
     ]
    },
    {
     "name": "stdout",
     "output_type": "stream",
     "text": [
      "loss: 0.006115609314292669 - acc: 0.9965815544128418\n",
      "val_loss: 0.030482735484838486 - val_acc: 0.9952681660652161\n",
      "time: 1.2561817169189453\n"
     ]
    },
    {
     "name": "stderr",
     "output_type": "stream",
     "text": [
      "Epoch 9: 100%|████████████████████████████████████████████████████████████████████| 12/12 [00:01<00:00,  8.74batch/s]\n",
      "Validation: 100%|█████████████████████████████████████████████████████████████████| 12/12 [00:00<00:00, 25.61batch/s]\n",
      "Validation: 100%|███████████████████████████████████████████████████████████████████| 1/1 [00:00<00:00, 27.52batch/s]"
     ]
    },
    {
     "name": "stdout",
     "output_type": "stream",
     "text": [
      "loss: 0.005556419491767883 - acc: 0.9966902732849121\n",
      "val_loss: 0.029745331034064293 - val_acc: 0.9968454241752625\n",
      "time: 1.377626657485962\n"
     ]
    },
    {
     "name": "stderr",
     "output_type": "stream",
     "text": [
      "\n"
     ]
    }
   ],
   "source": [
    "import time\n",
    "\n",
    "epochs = 10\n",
    "N = 1\n",
    "lr = 5e-3\n",
    "\n",
    "epoch_times = []\n",
    "\n",
    "for i in range(N):\n",
    "    \n",
    "    print('Learning Rate:', lr)\n",
    "\n",
    "    optimizer = optax.adam(learning_rate=lr)\n",
    "    opt_state = optimizer.init(params)\n",
    "    \n",
    "    for epoch in range(epochs):\n",
    "        start_time = time.time()\n",
    "\n",
    "        with tqdm(tfds.as_numpy(data.train_ds), unit=\"batch\") as tepoch:\n",
    "            for x, y in tepoch:\n",
    "                tepoch.set_description(f\"Epoch {epoch}\")\n",
    "                params, opt_state = update(opt_state, params, x, y)\n",
    "\n",
    "        epoch_time = time.time() - start_time\n",
    "        epoch_times.append(epoch_time)\n",
    "\n",
    "        loss, acc = evaluate(params, data.train_ds)\n",
    "        val_loss, val_acc = evaluate(params, data.val_ds)\n",
    "\n",
    "        print('loss: {} - acc: {}'.format(loss, acc))\n",
    "        print('val_loss: {} - val_acc: {}'.format(val_loss, val_acc))\n",
    "        print('time: {}'.format(epoch_time))\n",
    "\n",
    "        if args.wandb:\n",
    "            wandb.log({\"accuracy\": acc, \n",
    "                       \"val_accuracy\": val_acc, \n",
    "                       'loss':loss, \n",
    "                       'lr':lr,\n",
    "                       'val_loss':val_loss})\n",
    "\n",
    "    lr = lr*np.sqrt(0.1)"
   ]
  },
  {
   "cell_type": "code",
   "execution_count": 95,
   "id": "cfafc1ab",
   "metadata": {
    "ExecuteTime": {
     "end_time": "2022-09-25T06:47:39.750422Z",
     "start_time": "2022-09-25T06:47:39.548464Z"
    },
    "scrolled": true
   },
   "outputs": [
    {
     "name": "stderr",
     "output_type": "stream",
     "text": [
      "Validation: 100%|███████████████████████████████████████████████████████████████████| 3/3 [00:00<00:00, 31.70batch/s]\n"
     ]
    },
    {
     "data": {
      "text/plain": [
       "(DeviceArray(0.00501728, dtype=float32),\n",
       " DeviceArray(0.99837244, dtype=float32))"
      ]
     },
     "execution_count": 95,
     "metadata": {},
     "output_type": "execute_result"
    }
   ],
   "source": [
    "test_loss, test_acc = evaluate(params, data.test_ds)\n",
    "test_loss, test_acc"
   ]
  },
  {
   "cell_type": "code",
   "execution_count": 96,
   "id": "c8776f86",
   "metadata": {
    "ExecuteTime": {
     "end_time": "2022-09-25T06:48:03.869628Z",
     "start_time": "2022-09-25T06:47:41.333507Z"
    }
   },
   "outputs": [
    {
     "name": "stderr",
     "output_type": "stream",
     "text": [
      "100%|█████████████████████████████████████████████████████████████████████████████| 12/12 [00:22<00:00,  1.87s/batch]\n"
     ]
    },
    {
     "data": {
      "text/plain": [
       "0.99989940204576"
      ]
     },
     "execution_count": 96,
     "metadata": {},
     "output_type": "execute_result"
    }
   ],
   "source": [
    "from sklearn.metrics import roc_auc_score\n",
    "\n",
    "out,y_train = predict(params, data.train_ds)\n",
    "train_auc = roc_auc_score(y_train, out)\n",
    "train_auc"
   ]
  },
  {
   "cell_type": "code",
   "execution_count": 97,
   "id": "9a4571ee",
   "metadata": {
    "ExecuteTime": {
     "end_time": "2022-09-25T06:48:14.182947Z",
     "start_time": "2022-09-25T06:48:03.874870Z"
    }
   },
   "outputs": [
    {
     "name": "stderr",
     "output_type": "stream",
     "text": [
      "100%|███████████████████████████████████████████████████████████████████████████████| 3/3 [00:10<00:00,  3.40s/batch]\n"
     ]
    },
    {
     "data": {
      "text/plain": [
       "0.9998678414096915"
      ]
     },
     "execution_count": 97,
     "metadata": {},
     "output_type": "execute_result"
    }
   ],
   "source": [
    "from sklearn.metrics import roc_auc_score\n",
    "\n",
    "out,y_test = predict(params, data.test_ds)\n",
    "test_auc = roc_auc_score(y_test, out)\n",
    "test_auc"
   ]
  },
  {
   "cell_type": "code",
   "execution_count": 98,
   "id": "cd6ffd07",
   "metadata": {
    "ExecuteTime": {
     "end_time": "2022-09-25T06:48:14.269725Z",
     "start_time": "2022-09-25T06:48:14.187364Z"
    }
   },
   "outputs": [],
   "source": [
    "if args.wandb:\n",
    "    wandb.run.summary['test_loss'] = test_loss\n",
    "    wandb.run.summary['test_acc'] = test_acc\n",
    "    wandb.run.summary['test_auc'] = test_auc\n",
    "    wandb.run.summary['train_auc'] = train_auc\n",
    "    wandb.run.summary['avg_epoch_time'] = np.mean(np.array(epoch_times))\n",
    "    y = y_test.argmax(axis=1)\n",
    "    preds = out.argmax(axis=1)\n",
    "    probs = out\n",
    "    classes = data.mapping\n",
    "\n",
    "    roc_curve = wandb.sklearn.plot_roc(y, probs, classes)\n",
    "    confusion_matrix = wandb.sklearn.plot_confusion_matrix(y, preds, classes)\n",
    "\n",
    "    wandb.log({\"roc_curve\": roc_curve})\n",
    "    wandb.log({\"confusion_matrix\": confusion_matrix})\n",
    "    wandb.finish()"
   ]
  }
 ],
 "metadata": {
  "kernelspec": {
   "display_name": "Python 3 (ipykernel)",
   "language": "python",
   "name": "python3"
  },
  "language_info": {
   "codemirror_mode": {
    "name": "ipython",
    "version": 3
   },
   "file_extension": ".py",
   "mimetype": "text/x-python",
   "name": "python",
   "nbconvert_exporter": "python",
   "pygments_lexer": "ipython3",
   "version": "3.7.13"
  },
  "latex_envs": {
   "LaTeX_envs_menu_present": true,
   "autoclose": false,
   "autocomplete": true,
   "bibliofile": "biblio.bib",
   "cite_by": "apalike",
   "current_citInitial": 1,
   "eqLabelWithNumbers": true,
   "eqNumInitial": 1,
   "hotkeys": {
    "equation": "Ctrl-E",
    "itemize": "Ctrl-I"
   },
   "labels_anchors": false,
   "latex_user_defs": false,
   "report_style_numbering": false,
   "user_envs_cfg": false
  },
  "toc": {
   "base_numbering": 1,
   "nav_menu": {},
   "number_sections": true,
   "sideBar": true,
   "skip_h1_title": false,
   "title_cell": "Table of Contents",
   "title_sidebar": "Contents",
   "toc_cell": false,
   "toc_position": {},
   "toc_section_display": true,
   "toc_window_display": false
  }
 },
 "nbformat": 4,
 "nbformat_minor": 5
}
