{
 "cells": [
  {
   "cell_type": "code",
   "execution_count": 2,
   "id": "9c0de86d",
   "metadata": {
    "ExecuteTime": {
     "end_time": "2022-09-25T12:37:23.812664Z",
     "start_time": "2022-09-25T12:37:23.768271Z"
    }
   },
   "outputs": [
    {
     "name": "stdout",
     "output_type": "stream",
     "text": [
      "The autoreload extension is already loaded. To reload it, use:\n",
      "  %reload_ext autoreload\n"
     ]
    }
   ],
   "source": [
    "from importlib.util import find_spec\n",
    "%load_ext autoreload\n",
    "%autoreload 2\n",
    "\n",
    "%matplotlib inline\n",
    "\n",
    "if find_spec(\"qml_hep_lhc\") is None:\n",
    "    import sys\n",
    "    sys.path.append('../..')"
   ]
  },
  {
   "cell_type": "code",
   "execution_count": 3,
   "id": "a7677016",
   "metadata": {
    "ExecuteTime": {
     "end_time": "2022-09-25T12:37:31.071628Z",
     "start_time": "2022-09-25T12:37:25.085839Z"
    }
   },
   "outputs": [
    {
     "name": "stderr",
     "output_type": "stream",
     "text": [
      "2022-09-25 18:07:25.311213: W tensorflow/stream_executor/platform/default/dso_loader.cc:64] Could not load dynamic library 'libcudart.so.11.0'; dlerror: libcudart.so.11.0: cannot open shared object file: No such file or directory\n",
      "2022-09-25 18:07:25.311249: I tensorflow/stream_executor/cuda/cudart_stub.cc:29] Ignore above cudart dlerror if you do not have a GPU set up on your machine.\n",
      "2022-09-25 18:07:30.933361: E tensorflow/stream_executor/cuda/cuda_driver.cc:271] failed call to cuInit: CUDA_ERROR_NO_DEVICE: no CUDA-capable device is detected\n",
      "2022-09-25 18:07:30.933454: I tensorflow/stream_executor/cuda/cuda_diagnostics.cc:156] kernel driver does not appear to be running on this host (bhagvada): /proc/driver/nvidia/version does not exist\n",
      "2022-09-25 18:07:30.934025: I tensorflow/core/platform/cpu_feature_guard.cc:151] This TensorFlow binary is optimized with oneAPI Deep Neural Network Library (oneDNN) to use the following CPU instructions in performance-critical operations:  AVX2 FMA\n",
      "To enable them in other operations, rebuild TensorFlow with the appropriate compiler flags.\n"
     ]
    }
   ],
   "source": [
    "from qml_hep_lhc.data import ElectronPhoton, MNIST, QuarkGluon\n",
    "from qml_hep_lhc.models import QCNNHybrid\n",
    "from tensorflow.keras.callbacks import ReduceLROnPlateau\n",
    "import argparse\n",
    "import numpy as np\n",
    "\n",
    "import matplotlib.pyplot as plt\n",
    "import time"
   ]
  },
  {
   "cell_type": "code",
   "execution_count": 4,
   "id": "6e29f238",
   "metadata": {
    "ExecuteTime": {
     "end_time": "2022-09-25T12:37:35.575047Z",
     "start_time": "2022-09-25T12:37:35.456979Z"
    }
   },
   "outputs": [],
   "source": [
    "args = argparse.Namespace()\n",
    "\n",
    "# Data\n",
    "args.resize = [8,8]\n",
    "args.standardize = 1\n",
    "args.binary_data = [0,1]\n",
    "args.batch_size = 32\n",
    "args.validation_split = 0.05\n",
    "args.labels_to_categorical = 1\n",
    "args.opt = 'Ranger'\n",
    "\n",
    "# Base Model\n",
    "args.learning_rate = 1e-3\n",
    "args.epochs = 10\n",
    "\n",
    "# Quantum CNN Parameters\n",
    "args.n_layers = 1\n",
    "args.ansatz = \"NQubit\"\n",
    "args.sparse = 1"
   ]
  },
  {
   "cell_type": "code",
   "execution_count": 5,
   "id": "78ecf022",
   "metadata": {
    "ExecuteTime": {
     "end_time": "2022-09-25T12:37:42.456016Z",
     "start_time": "2022-09-25T12:37:37.978414Z"
    }
   },
   "outputs": [
    {
     "name": "stdout",
     "output_type": "stream",
     "text": [
      "Binarizing data...\n",
      "Binarizing data...\n",
      "Resizing data...\n",
      "Resizing data...\n",
      "Standardizing data...\n",
      "Converting labels to categorical...\n",
      "Converting labels to categorical...\n",
      "\n",
      "Dataset :MNIST\n",
      "╒════════╤══════════════════╤════════════════╤═════════════════╤═══════════╕\n",
      "│ Data   │ Train size       │ Val size       │ Test size       │ Dims      │\n",
      "╞════════╪══════════════════╪════════════════╪═════════════════╪═══════════╡\n",
      "│ X      │ (12031, 8, 8, 1) │ (634, 8, 8, 1) │ (2115, 8, 8, 1) │ (8, 8, 1) │\n",
      "├────────┼──────────────────┼────────────────┼─────────────────┼───────────┤\n",
      "│ y      │ (12031, 2)       │ (634, 2)       │ (2115, 2)       │ (2,)      │\n",
      "╘════════╧══════════════════╧════════════════╧═════════════════╧═══════════╛\n",
      "\n",
      "╒══════════════╤═══════╤════════╤════════╤═══════╤══════════════════════════╕\n",
      "│ Type         │   Min │    Max │   Mean │   Std │ Samples for each class   │\n",
      "╞══════════════╪═══════╪════════╪════════╪═══════╪══════════════════════════╡\n",
      "│ Train Images │ -1.58 │ 112.53 │      0 │  0.95 │ [6405, 5626]             │\n",
      "├──────────────┼───────┼────────┼────────┼───────┼──────────────────────────┤\n",
      "│ Val Images   │ -1.58 │  68.48 │     -0 │  0.91 │ [337, 297]               │\n",
      "├──────────────┼───────┼────────┼────────┼───────┼──────────────────────────┤\n",
      "│ Test Images  │ -1.58 │  80.1  │     -0 │  0.93 │ [1135, 980]              │\n",
      "╘══════════════╧═══════╧════════╧════════╧═══════╧══════════════════════════╛\n",
      "\n",
      "\n"
     ]
    }
   ],
   "source": [
    "data = MNIST(args)\n",
    "data.prepare_data()\n",
    "data.setup()\n",
    "print(data)"
   ]
  },
  {
   "cell_type": "code",
   "execution_count": 6,
   "id": "185c55c5",
   "metadata": {
    "ExecuteTime": {
     "end_time": "2022-09-25T12:37:42.567062Z",
     "start_time": "2022-09-25T12:37:42.462260Z"
    }
   },
   "outputs": [
    {
     "data": {
      "text/plain": [
       "{'input_dims': (8, 8, 1), 'output_dims': (2,), 'mapping': [0, 1]}"
      ]
     },
     "execution_count": 6,
     "metadata": {},
     "output_type": "execute_result"
    }
   ],
   "source": [
    "data.config()"
   ]
  },
  {
   "cell_type": "code",
   "execution_count": 7,
   "id": "cb49ad9f",
   "metadata": {
    "ExecuteTime": {
     "end_time": "2022-09-25T12:37:46.271080Z",
     "start_time": "2022-09-25T12:37:46.150573Z"
    }
   },
   "outputs": [
    {
     "name": "stderr",
     "output_type": "stream",
     "text": [
      "../../qml_hep_lhc/layers/qconv2d.py:66: UserWarning: fm_class is only used for TwoLayerPQC.\n",
      "  warnings.warn('fm_class is only used for TwoLayerPQC.')\n",
      "../../qml_hep_lhc/layers/qconv2d.py:70: UserWarning: ansatz_class is only used for TwoLayerPQC.\n",
      "  warnings.warn('ansatz_class is only used for TwoLayerPQC.')\n"
     ]
    }
   ],
   "source": [
    "model = QCNNHybrid(data.config(), args)"
   ]
  },
  {
   "cell_type": "code",
   "execution_count": 8,
   "id": "15adc712",
   "metadata": {
    "ExecuteTime": {
     "end_time": "2022-09-25T12:37:53.328471Z",
     "start_time": "2022-09-25T12:37:49.991399Z"
    }
   },
   "outputs": [
    {
     "name": "stdout",
     "output_type": "stream",
     "text": [
      "Model: \"QCNNHybrid-AngleMap-NQubit\"\n",
      "_________________________________________________________________\n",
      " Layer (type)                Output Shape              Param #   \n",
      "=================================================================\n",
      " input_1 (InputLayer)        [(None, 8, 8, 1)]         0         \n",
      "                                                                 \n",
      " qconv2d_1 (QConv2D)         (None, 8, 8, 1, 1)        30        \n",
      "                                                                 \n",
      " qconv2d_2 (QConv2D)         (None, 8, 8, 1, 1)        15        \n",
      "                                                                 \n",
      " flatten (Flatten)           (None, 64)                0         \n",
      "                                                                 \n",
      " dense (Dense)               (None, 8)                 520       \n",
      "                                                                 \n",
      " dropout (Dropout)           (None, 8)                 0         \n",
      "                                                                 \n",
      " dense_1 (Dense)             (None, 2)                 18        \n",
      "                                                                 \n",
      "=================================================================\n",
      "Total params: 583\n",
      "Trainable params: 583\n",
      "Non-trainable params: 0\n",
      "_________________________________________________________________\n"
     ]
    }
   ],
   "source": [
    "model.compile()\n",
    "model.build_graph().summary()"
   ]
  },
  {
   "cell_type": "code",
   "execution_count": 9,
   "id": "d17a4f0c",
   "metadata": {
    "ExecuteTime": {
     "end_time": "2022-09-25T13:26:45.039019Z",
     "start_time": "2022-09-25T12:38:05.893122Z"
    }
   },
   "outputs": [
    {
     "name": "stdout",
     "output_type": "stream",
     "text": [
      "Epoch 1/10\n",
      "376/376 [==============================] - 276s 732ms/step - loss: 0.3201 - auc: 0.9393 - accuracy: 0.8634 - val_loss: 0.1237 - val_auc: 0.9903 - val_accuracy: 0.9574 - lr: 0.0010\n",
      "Epoch 2/10\n",
      "376/376 [==============================] - 275s 732ms/step - loss: 0.1036 - auc: 0.9930 - accuracy: 0.9655 - val_loss: 0.1179 - val_auc: 0.9913 - val_accuracy: 0.9558 - lr: 0.0010\n",
      "Epoch 3/10\n",
      "376/376 [==============================] - 266s 708ms/step - loss: 0.0834 - auc: 0.9949 - accuracy: 0.9723 - val_loss: 0.1039 - val_auc: 0.9925 - val_accuracy: 0.9637 - lr: 0.0010\n",
      "Epoch 4/10\n",
      "376/376 [==============================] - 267s 711ms/step - loss: 0.0741 - auc: 0.9956 - accuracy: 0.9755 - val_loss: 0.0956 - val_auc: 0.9948 - val_accuracy: 0.9606 - lr: 0.0010\n",
      "Epoch 5/10\n",
      "376/376 [==============================] - 282s 750ms/step - loss: 0.0702 - auc: 0.9960 - accuracy: 0.9775 - val_loss: 0.0929 - val_auc: 0.9955 - val_accuracy: 0.9637 - lr: 0.0010\n",
      "Epoch 6/10\n",
      "376/376 [==============================] - 309s 821ms/step - loss: 0.0650 - auc: 0.9965 - accuracy: 0.9781 - val_loss: 0.0927 - val_auc: 0.9944 - val_accuracy: 0.9653 - lr: 0.0010\n",
      "Epoch 7/10\n",
      "376/376 [==============================] - 301s 801ms/step - loss: 0.0633 - auc: 0.9966 - accuracy: 0.9788 - val_loss: 0.0874 - val_auc: 0.9949 - val_accuracy: 0.9685 - lr: 0.0010\n",
      "Epoch 8/10\n",
      "376/376 [==============================] - 299s 794ms/step - loss: 0.0646 - auc: 0.9961 - accuracy: 0.9791 - val_loss: 0.0864 - val_auc: 0.9961 - val_accuracy: 0.9637 - lr: 0.0010\n",
      "Epoch 9/10\n",
      "376/376 [==============================] - 292s 777ms/step - loss: 0.0587 - auc: 0.9972 - accuracy: 0.9798 - val_loss: 0.0798 - val_auc: 0.9956 - val_accuracy: 0.9716 - lr: 0.0010\n",
      "Epoch 10/10\n",
      "376/376 [==============================] - 241s 642ms/step - loss: 0.0578 - auc: 0.9969 - accuracy: 0.9810 - val_loss: 0.0843 - val_auc: 0.9952 - val_accuracy: 0.9685 - lr: 0.0010\n"
     ]
    },
    {
     "data": {
      "text/plain": [
       "<keras.callbacks.History at 0x7f7074584210>"
      ]
     },
     "execution_count": 9,
     "metadata": {},
     "output_type": "execute_result"
    }
   ],
   "source": [
    "lr_scheduler_callback = ReduceLROnPlateau(monitor='val_loss',\n",
    "                                              factor=np.sqrt(0.1),\n",
    "                                              patience=5,\n",
    "                                              min_delta=0.0001,\n",
    "                                              min_lr=1e-8)\n",
    "callbacks = [lr_scheduler_callback]\n",
    "model.fit(data, callbacks)"
   ]
  },
  {
   "cell_type": "code",
   "execution_count": 10,
   "id": "0e14318d",
   "metadata": {
    "ExecuteTime": {
     "end_time": "2022-09-25T13:27:12.338668Z",
     "start_time": "2022-09-25T13:26:45.053975Z"
    }
   },
   "outputs": [
    {
     "name": "stdout",
     "output_type": "stream",
     "text": [
      "67/67 [==============================] - 27s 403ms/step - loss: 0.0462 - auc: 0.9983 - accuracy: 0.9820\n"
     ]
    },
    {
     "data": {
      "text/plain": [
       "[0.046235933899879456,\n",
       " 0.998317301273346,\n",
       " 0.9820330739021301,\n",
       " 0.998317301273346]"
      ]
     },
     "execution_count": 10,
     "metadata": {},
     "output_type": "execute_result"
    }
   ],
   "source": [
    "model.test(data, callbacks=callbacks)"
   ]
  }
 ],
 "metadata": {
  "kernelspec": {
   "display_name": "Python (qenv)",
   "language": "python",
   "name": "qenv"
  },
  "language_info": {
   "codemirror_mode": {
    "name": "ipython",
    "version": 3
   },
   "file_extension": ".py",
   "mimetype": "text/x-python",
   "name": "python",
   "nbconvert_exporter": "python",
   "pygments_lexer": "ipython3",
   "version": "3.7.13"
  },
  "latex_envs": {
   "LaTeX_envs_menu_present": true,
   "autoclose": false,
   "autocomplete": true,
   "bibliofile": "biblio.bib",
   "cite_by": "apalike",
   "current_citInitial": 1,
   "eqLabelWithNumbers": true,
   "eqNumInitial": 1,
   "hotkeys": {
    "equation": "Ctrl-E",
    "itemize": "Ctrl-I"
   },
   "labels_anchors": false,
   "latex_user_defs": false,
   "report_style_numbering": false,
   "user_envs_cfg": false
  },
  "toc": {
   "base_numbering": 1,
   "nav_menu": {},
   "number_sections": true,
   "sideBar": true,
   "skip_h1_title": false,
   "title_cell": "Table of Contents",
   "title_sidebar": "Contents",
   "toc_cell": false,
   "toc_position": {},
   "toc_section_display": true,
   "toc_window_display": false
  }
 },
 "nbformat": 4,
 "nbformat_minor": 5
}
