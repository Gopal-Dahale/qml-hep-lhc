{
 "cells": [
  {
   "cell_type": "code",
   "execution_count": 1,
   "id": "d20e51ee",
   "metadata": {
    "ExecuteTime": {
     "end_time": "2022-09-25T13:42:15.233239Z",
     "start_time": "2022-09-25T13:42:14.049037Z"
    }
   },
   "outputs": [],
   "source": [
    "from importlib.util import find_spec\n",
    "%load_ext autoreload\n",
    "%autoreload 2\n",
    "\n",
    "%matplotlib inline\n",
    "\n",
    "if find_spec(\"qml_hep_lhc\") is None:\n",
    "    import sys\n",
    "    sys.path.append('../..')"
   ]
  },
  {
   "cell_type": "code",
   "execution_count": 2,
   "id": "ff0ea34e",
   "metadata": {
    "ExecuteTime": {
     "end_time": "2022-09-25T13:42:20.746544Z",
     "start_time": "2022-09-25T13:42:15.237844Z"
    }
   },
   "outputs": [
    {
     "name": "stderr",
     "output_type": "stream",
     "text": [
      "2022-09-25 19:12:15.493751: W tensorflow/stream_executor/platform/default/dso_loader.cc:64] Could not load dynamic library 'libcudart.so.11.0'; dlerror: libcudart.so.11.0: cannot open shared object file: No such file or directory\n",
      "2022-09-25 19:12:15.493797: I tensorflow/stream_executor/cuda/cudart_stub.cc:29] Ignore above cudart dlerror if you do not have a GPU set up on your machine.\n",
      "2022-09-25 19:12:20.260832: E tensorflow/stream_executor/cuda/cuda_driver.cc:271] failed call to cuInit: CUDA_ERROR_NO_DEVICE: no CUDA-capable device is detected\n",
      "2022-09-25 19:12:20.260872: I tensorflow/stream_executor/cuda/cuda_diagnostics.cc:156] kernel driver does not appear to be running on this host (bhagvada): /proc/driver/nvidia/version does not exist\n",
      "2022-09-25 19:12:20.261229: I tensorflow/core/platform/cpu_feature_guard.cc:151] This TensorFlow binary is optimized with oneAPI Deep Neural Network Library (oneDNN) to use the following CPU instructions in performance-critical operations:  AVX2 FMA\n",
      "To enable them in other operations, rebuild TensorFlow with the appropriate compiler flags.\n"
     ]
    }
   ],
   "source": [
    "from qml_hep_lhc.data import ElectronPhoton, MNIST, QuarkGluon\n",
    "from qml_hep_lhc.models import VQC\n",
    "from tensorflow.keras.callbacks import ReduceLROnPlateau\n",
    "import argparse\n",
    "import wandb\n",
    "import numpy as np\n",
    "\n",
    "import matplotlib.pyplot as plt\n",
    "import time"
   ]
  },
  {
   "cell_type": "code",
   "execution_count": 3,
   "id": "de91d94a",
   "metadata": {
    "ExecuteTime": {
     "end_time": "2022-09-25T13:42:20.846032Z",
     "start_time": "2022-09-25T13:42:20.751800Z"
    }
   },
   "outputs": [],
   "source": [
    "args = argparse.Namespace()\n",
    "\n",
    "# Data\n",
    "args.center_crop = 0.7\n",
    "args.pca = 4\n",
    "args.standardize = 1\n",
    "args.binary_data = [0,1]\n",
    "args.batch_size = 64\n",
    "args.validation_split = 0.05\n",
    "args.hinge_labels = 1\n",
    "args.use_quantum = 1\n",
    "\n",
    "# Base Model\n",
    "args.learning_rate = 1e-2\n",
    "args.epochs = 10\n",
    "\n",
    "# Quantum CNN Parameters\n",
    "args.n_layers = 1\n",
    "args.feature_map = 'DoubleAngleMap'\n",
    "args.ansatz = 'TTN'"
   ]
  },
  {
   "cell_type": "code",
   "execution_count": 4,
   "id": "c428625e",
   "metadata": {
    "ExecuteTime": {
     "end_time": "2022-09-25T13:42:25.081994Z",
     "start_time": "2022-09-25T13:42:20.854026Z"
    }
   },
   "outputs": [
    {
     "name": "stdout",
     "output_type": "stream",
     "text": [
      "Binarizing data...\n",
      "Binarizing data...\n",
      "Center cropping...\n",
      "Center cropping...\n",
      "Performing PCA on data...\n",
      "Cumulative sum on train : 55.622551253000125\n",
      "Cumulative sum on test: 55.622551253000125\n",
      "Standardizing data...\n",
      "Hinge labels...\n",
      "Hinge labels...\n",
      "\n",
      "Dataset :MNIST\n",
      "╒════════╤══════════════════╤════════════════╤═════════════════╤═══════════╕\n",
      "│ Data   │ Train size       │ Val size       │ Test size       │ Dims      │\n",
      "╞════════╪══════════════════╪════════════════╪═════════════════╪═══════════╡\n",
      "│ X      │ (12031, 2, 2, 1) │ (634, 2, 2, 1) │ (2115, 2, 2, 1) │ (2, 2, 1) │\n",
      "├────────┼──────────────────┼────────────────┼─────────────────┼───────────┤\n",
      "│ y      │ (12031,)         │ (634,)         │ (2115,)         │ (1,)      │\n",
      "╘════════╧══════════════════╧════════════════╧═════════════════╧═══════════╛\n",
      "\n",
      "╒══════════════╤═══════╤═══════╤════════╤═══════╤══════════════════════════╕\n",
      "│ Type         │   Min │   Max │   Mean │   Std │ Samples for each class   │\n",
      "╞══════════════╪═══════╪═══════╪════════╪═══════╪══════════════════════════╡\n",
      "│ Train Images │ -3.13 │  3.22 │   0    │     1 │ [0, 5626]                │\n",
      "├──────────────┼───────┼───────┼────────┼───────┼──────────────────────────┤\n",
      "│ Val Images   │ -2.83 │  3.08 │  -0.02 │     1 │ [0, 297]                 │\n",
      "├──────────────┼───────┼───────┼────────┼───────┼──────────────────────────┤\n",
      "│ Test Images  │ -2.92 │  3.32 │  -0.02 │     1 │ [0, 980]                 │\n",
      "╘══════════════╧═══════╧═══════╧════════╧═══════╧══════════════════════════╛\n",
      "\n",
      "\n"
     ]
    }
   ],
   "source": [
    "data = MNIST(args)\n",
    "data.prepare_data()\n",
    "data.setup()\n",
    "print(data)"
   ]
  },
  {
   "cell_type": "code",
   "execution_count": 5,
   "id": "90ae6be7",
   "metadata": {
    "ExecuteTime": {
     "end_time": "2022-09-25T13:42:25.166938Z",
     "start_time": "2022-09-25T13:42:25.087042Z"
    }
   },
   "outputs": [
    {
     "data": {
      "text/plain": [
       "{'input_dims': (2, 2, 1), 'output_dims': (1,), 'mapping': [0, 1]}"
      ]
     },
     "execution_count": 5,
     "metadata": {},
     "output_type": "execute_result"
    }
   ],
   "source": [
    "data.config()"
   ]
  },
  {
   "cell_type": "code",
   "execution_count": 6,
   "id": "3d762ff1",
   "metadata": {
    "ExecuteTime": {
     "end_time": "2022-09-25T13:42:25.943005Z",
     "start_time": "2022-09-25T13:42:25.822898Z"
    }
   },
   "outputs": [],
   "source": [
    "model = VQC(data.config(), args)"
   ]
  },
  {
   "cell_type": "code",
   "execution_count": 7,
   "id": "2919b0f4",
   "metadata": {
    "ExecuteTime": {
     "end_time": "2022-09-25T13:42:31.114367Z",
     "start_time": "2022-09-25T13:42:28.201884Z"
    }
   },
   "outputs": [
    {
     "name": "stdout",
     "output_type": "stream",
     "text": [
      "Model: \"VQC-DoubleAngleMap-TTN\"\n",
      "_________________________________________________________________\n",
      " Layer (type)                Output Shape              Param #   \n",
      "=================================================================\n",
      " input_1 (InputLayer)        [(None, 2, 2, 1)]         0         \n",
      "                                                                 \n",
      " TwoLayerPQC (TwoLayerPQC)   (None, 1)                 22        \n",
      "                                                                 \n",
      "=================================================================\n",
      "Total params: 22\n",
      "Trainable params: 14\n",
      "Non-trainable params: 8\n",
      "_________________________________________________________________\n"
     ]
    }
   ],
   "source": [
    "model.compile()\n",
    "model.build_graph().summary()"
   ]
  },
  {
   "cell_type": "code",
   "execution_count": 8,
   "id": "e5e092a2",
   "metadata": {
    "ExecuteTime": {
     "end_time": "2022-09-25T13:45:18.587626Z",
     "start_time": "2022-09-25T13:42:33.546416Z"
    }
   },
   "outputs": [
    {
     "name": "stdout",
     "output_type": "stream",
     "text": [
      "Epoch 1/10\n",
      "188/188 [==============================] - 17s 89ms/step - loss: 0.7250 - q_auc: 0.8155 - custom_accuracy: 0.7295 - val_loss: 0.6158 - val_q_auc: 0.8734 - val_custom_accuracy: 0.7795 - lr: 0.0100\n",
      "Epoch 2/10\n",
      "188/188 [==============================] - 16s 87ms/step - loss: 0.5654 - q_auc: 0.8852 - custom_accuracy: 0.8007 - val_loss: 0.5080 - val_q_auc: 0.9140 - val_custom_accuracy: 0.8303 - lr: 0.0100\n",
      "Epoch 3/10\n",
      "188/188 [==============================] - 16s 86ms/step - loss: 0.5096 - q_auc: 0.9049 - custom_accuracy: 0.8289 - val_loss: 0.4755 - val_q_auc: 0.9228 - val_custom_accuracy: 0.8489 - lr: 0.0100\n",
      "Epoch 4/10\n",
      "188/188 [==============================] - 16s 86ms/step - loss: 0.4835 - q_auc: 0.9111 - custom_accuracy: 0.8407 - val_loss: 0.4545 - val_q_auc: 0.9276 - val_custom_accuracy: 0.8523 - lr: 0.0100\n",
      "Epoch 5/10\n",
      "188/188 [==============================] - 16s 87ms/step - loss: 0.4665 - q_auc: 0.9143 - custom_accuracy: 0.8478 - val_loss: 0.4436 - val_q_auc: 0.9287 - val_custom_accuracy: 0.8573 - lr: 0.0100\n",
      "Epoch 6/10\n",
      "188/188 [==============================] - 16s 87ms/step - loss: 0.4545 - q_auc: 0.9163 - custom_accuracy: 0.8540 - val_loss: 0.4342 - val_q_auc: 0.9291 - val_custom_accuracy: 0.8619 - lr: 0.0100\n",
      "Epoch 7/10\n",
      "188/188 [==============================] - 17s 89ms/step - loss: 0.4448 - q_auc: 0.9177 - custom_accuracy: 0.8587 - val_loss: 0.4266 - val_q_auc: 0.9303 - val_custom_accuracy: 0.8662 - lr: 0.0100\n",
      "Epoch 8/10\n",
      "188/188 [==============================] - 16s 88ms/step - loss: 0.4374 - q_auc: 0.9191 - custom_accuracy: 0.8616 - val_loss: 0.4214 - val_q_auc: 0.9320 - val_custom_accuracy: 0.8656 - lr: 0.0100\n",
      "Epoch 9/10\n",
      "188/188 [==============================] - 16s 88ms/step - loss: 0.4308 - q_auc: 0.9201 - custom_accuracy: 0.8643 - val_loss: 0.4147 - val_q_auc: 0.9338 - val_custom_accuracy: 0.8714 - lr: 0.0100\n",
      "Epoch 10/10\n",
      "188/188 [==============================] - 17s 89ms/step - loss: 0.4258 - q_auc: 0.9207 - custom_accuracy: 0.8664 - val_loss: 0.4099 - val_q_auc: 0.9347 - val_custom_accuracy: 0.8725 - lr: 0.0100\n"
     ]
    },
    {
     "data": {
      "text/plain": [
       "<keras.callbacks.History at 0x7f85d8f97690>"
      ]
     },
     "execution_count": 8,
     "metadata": {},
     "output_type": "execute_result"
    }
   ],
   "source": [
    "lr_scheduler_callback = ReduceLROnPlateau(monitor='val_loss',\n",
    "                                              factor=np.sqrt(0.1),\n",
    "                                              patience=5,\n",
    "                                              min_delta=0.0001,\n",
    "                                              min_lr=1e-8)\n",
    "callbacks = [lr_scheduler_callback]\n",
    "model.fit(data, callbacks)"
   ]
  },
  {
   "cell_type": "code",
   "execution_count": 9,
   "id": "703babe5",
   "metadata": {
    "ExecuteTime": {
     "end_time": "2022-09-25T13:45:20.882913Z",
     "start_time": "2022-09-25T13:45:18.596464Z"
    }
   },
   "outputs": [
    {
     "name": "stdout",
     "output_type": "stream",
     "text": [
      "34/34 [==============================] - 2s 64ms/step - loss: 0.4215 - q_auc: 0.9221 - custom_accuracy: 0.8801\n"
     ]
    },
    {
     "data": {
      "text/plain": [
       "[0.421548455953598, 0.9220749735832214, 0.8800551295280457, 0.9220749735832214]"
      ]
     },
     "execution_count": 9,
     "metadata": {},
     "output_type": "execute_result"
    }
   ],
   "source": [
    "model.test(data, callbacks)"
   ]
  },
  {
   "cell_type": "code",
   "execution_count": 10,
   "id": "34ba16b5",
   "metadata": {
    "ExecuteTime": {
     "end_time": "2022-09-25T13:45:20.973978Z",
     "start_time": "2022-09-25T13:45:20.887080Z"
    }
   },
   "outputs": [],
   "source": [
    "args = argparse.Namespace()\n",
    "\n",
    "# Data\n",
    "args.center_crop = 0.7\n",
    "args.pca = 16\n",
    "args.normalize = 1\n",
    "args.binary_data = [0,1]\n",
    "args.batch_size = 64\n",
    "args.validation_split = 0.05\n",
    "args.hinge_labels = 1\n",
    "args.use_quantum = 1\n",
    "\n",
    "# Base Model\n",
    "args.learning_rate = 1e-2\n",
    "args.epochs = 10\n",
    "\n",
    "# Quantum CNN Parameters\n",
    "args.n_layers = 1\n",
    "args.feature_map = 'AmplitudeMap'\n",
    "args.ansatz = 'TTN'"
   ]
  },
  {
   "cell_type": "code",
   "execution_count": 11,
   "id": "880a5475",
   "metadata": {
    "ExecuteTime": {
     "end_time": "2022-09-25T13:45:25.265065Z",
     "start_time": "2022-09-25T13:45:20.979871Z"
    }
   },
   "outputs": [
    {
     "name": "stdout",
     "output_type": "stream",
     "text": [
      "Binarizing data...\n",
      "Binarizing data...\n",
      "Center cropping...\n",
      "Center cropping...\n",
      "Performing PCA on data...\n",
      "Cumulative sum on train : 77.73337564866492\n",
      "Cumulative sum on test: 77.73337564866492\n",
      "Normalizing data...\n",
      "Hinge labels...\n",
      "Hinge labels...\n",
      "\n",
      "Dataset :MNIST\n",
      "╒════════╤══════════════════╤════════════════╤═════════════════╤═══════════╕\n",
      "│ Data   │ Train size       │ Val size       │ Test size       │ Dims      │\n",
      "╞════════╪══════════════════╪════════════════╪═════════════════╪═══════════╡\n",
      "│ X      │ (12031, 4, 4, 1) │ (634, 4, 4, 1) │ (2115, 4, 4, 1) │ (4, 4, 1) │\n",
      "├────────┼──────────────────┼────────────────┼─────────────────┼───────────┤\n",
      "│ y      │ (12031,)         │ (634,)         │ (2115,)         │ (1,)      │\n",
      "╘════════╧══════════════════╧════════════════╧═════════════════╧═══════════╛\n",
      "\n",
      "╒══════════════╤═══════╤═══════╤════════╤═══════╤══════════════════════════╕\n",
      "│ Type         │   Min │   Max │   Mean │   Std │ Samples for each class   │\n",
      "╞══════════════╪═══════╪═══════╪════════╪═══════╪══════════════════════════╡\n",
      "│ Train Images │ -0.91 │  0.95 │  -0.01 │  0.25 │ [0, 5626]                │\n",
      "├──────────────┼───────┼───────┼────────┼───────┼──────────────────────────┤\n",
      "│ Val Images   │ -0.88 │  0.95 │  -0.01 │  0.25 │ [0, 297]                 │\n",
      "├──────────────┼───────┼───────┼────────┼───────┼──────────────────────────┤\n",
      "│ Test Images  │ -0.92 │  0.94 │  -0.01 │  0.25 │ [0, 980]                 │\n",
      "╘══════════════╧═══════╧═══════╧════════╧═══════╧══════════════════════════╛\n",
      "\n",
      "\n"
     ]
    }
   ],
   "source": [
    "data = MNIST(args)\n",
    "data.prepare_data()\n",
    "data.setup()\n",
    "print(data)"
   ]
  },
  {
   "cell_type": "code",
   "execution_count": 12,
   "id": "4048a9f5",
   "metadata": {
    "ExecuteTime": {
     "end_time": "2022-09-25T13:45:25.352363Z",
     "start_time": "2022-09-25T13:45:25.269264Z"
    }
   },
   "outputs": [
    {
     "data": {
      "text/plain": [
       "{'input_dims': (4, 4, 1), 'output_dims': (1,), 'mapping': [0, 1]}"
      ]
     },
     "execution_count": 12,
     "metadata": {},
     "output_type": "execute_result"
    }
   ],
   "source": [
    "data.config()"
   ]
  },
  {
   "cell_type": "code",
   "execution_count": 13,
   "id": "54f4743e",
   "metadata": {
    "ExecuteTime": {
     "end_time": "2022-09-25T13:45:26.940133Z",
     "start_time": "2022-09-25T13:45:25.356919Z"
    }
   },
   "outputs": [
    {
     "name": "stderr",
     "output_type": "stream",
     "text": [
      "../../qml_hep_lhc/encodings/amplitude.py:13: UserWarning: AmplitudeMap currently does not normalize the input unless padding is needed.\n",
      "User must manually normalize the input.\n",
      "  \"AmplitudeMap currently does not normalize the input unless padding is needed.\\nUser must manually normalize the input.\"\n"
     ]
    },
    {
     "name": "stdout",
     "output_type": "stream",
     "text": [
      "Model: \"VQC-AmplitudeMap-TTN\"\n",
      "_________________________________________________________________\n",
      " Layer (type)                Output Shape              Param #   \n",
      "=================================================================\n",
      " input_2 (InputLayer)        [(None, 4, 4, 1)]         0         \n",
      "                                                                 \n",
      " TwoLayerPQC (TwoLayerPQC)   (None, 1)                 21        \n",
      "                                                                 \n",
      "=================================================================\n",
      "Total params: 21\n",
      "Trainable params: 6\n",
      "Non-trainable params: 15\n",
      "_________________________________________________________________\n"
     ]
    }
   ],
   "source": [
    "model = VQC(data.config(), args)\n",
    "model.compile()\n",
    "model.build_graph().summary()"
   ]
  },
  {
   "cell_type": "code",
   "execution_count": 14,
   "id": "1b2b62d4",
   "metadata": {
    "ExecuteTime": {
     "end_time": "2022-09-25T13:51:54.014209Z",
     "start_time": "2022-09-25T13:45:26.944350Z"
    }
   },
   "outputs": [
    {
     "name": "stdout",
     "output_type": "stream",
     "text": [
      "Epoch 1/10\n",
      "188/188 [==============================] - 39s 206ms/step - loss: 0.5728 - q_auc_1: 0.9580 - custom_accuracy: 0.8572 - val_loss: 0.5482 - val_q_auc_1: 0.9648 - val_custom_accuracy: 0.8612 - lr: 0.0100\n",
      "Epoch 2/10\n",
      "188/188 [==============================] - 39s 206ms/step - loss: 0.5394 - q_auc_1: 0.9736 - custom_accuracy: 0.8729 - val_loss: 0.5474 - val_q_auc_1: 0.9649 - val_custom_accuracy: 0.8590 - lr: 0.0100\n",
      "Epoch 3/10\n",
      "188/188 [==============================] - 38s 205ms/step - loss: 0.5390 - q_auc_1: 0.9739 - custom_accuracy: 0.8733 - val_loss: 0.5460 - val_q_auc_1: 0.9663 - val_custom_accuracy: 0.8659 - lr: 0.0100\n",
      "Epoch 4/10\n",
      "188/188 [==============================] - 39s 206ms/step - loss: 0.5391 - q_auc_1: 0.9741 - custom_accuracy: 0.8734 - val_loss: 0.5483 - val_q_auc_1: 0.9639 - val_custom_accuracy: 0.8675 - lr: 0.0100\n",
      "Epoch 5/10\n",
      "188/188 [==============================] - 37s 198ms/step - loss: 0.5391 - q_auc_1: 0.9739 - custom_accuracy: 0.8729 - val_loss: 0.5487 - val_q_auc_1: 0.9631 - val_custom_accuracy: 0.8643 - lr: 0.0100\n",
      "Epoch 6/10\n",
      "188/188 [==============================] - 39s 206ms/step - loss: 0.5395 - q_auc_1: 0.9737 - custom_accuracy: 0.8727 - val_loss: 0.5460 - val_q_auc_1: 0.9664 - val_custom_accuracy: 0.8642 - lr: 0.0100\n",
      "Epoch 7/10\n",
      "188/188 [==============================] - 39s 209ms/step - loss: 0.5395 - q_auc_1: 0.9737 - custom_accuracy: 0.8725 - val_loss: 0.5494 - val_q_auc_1: 0.9625 - val_custom_accuracy: 0.8654 - lr: 0.0100\n",
      "Epoch 8/10\n",
      "188/188 [==============================] - 39s 209ms/step - loss: 0.5393 - q_auc_1: 0.9738 - custom_accuracy: 0.8721 - val_loss: 0.5456 - val_q_auc_1: 0.9668 - val_custom_accuracy: 0.8640 - lr: 0.0100\n",
      "Epoch 9/10\n",
      "188/188 [==============================] - 40s 212ms/step - loss: 0.5397 - q_auc_1: 0.9735 - custom_accuracy: 0.8729 - val_loss: 0.5480 - val_q_auc_1: 0.9642 - val_custom_accuracy: 0.8675 - lr: 0.0100\n",
      "Epoch 10/10\n",
      "188/188 [==============================] - 38s 202ms/step - loss: 0.5394 - q_auc_1: 0.9740 - custom_accuracy: 0.8728 - val_loss: 0.5454 - val_q_auc_1: 0.9669 - val_custom_accuracy: 0.8659 - lr: 0.0100\n"
     ]
    },
    {
     "data": {
      "text/plain": [
       "<keras.callbacks.History at 0x7f85d82e4490>"
      ]
     },
     "execution_count": 14,
     "metadata": {},
     "output_type": "execute_result"
    }
   ],
   "source": [
    "model.fit(data, callbacks)"
   ]
  },
  {
   "cell_type": "code",
   "execution_count": 15,
   "id": "f3a1180b",
   "metadata": {
    "ExecuteTime": {
     "end_time": "2022-09-25T13:57:00.226451Z",
     "start_time": "2022-09-25T13:56:55.594696Z"
    }
   },
   "outputs": [
    {
     "name": "stdout",
     "output_type": "stream",
     "text": [
      "34/34 [==============================] - 5s 133ms/step - loss: 0.5325 - q_auc_1: 0.9689 - custom_accuracy: 0.8735\n"
     ]
    },
    {
     "data": {
      "text/plain": [
       "[0.5324534177780151,\n",
       " 0.9688942432403564,\n",
       " 0.8734681010246277,\n",
       " 0.9688942432403564]"
      ]
     },
     "execution_count": 15,
     "metadata": {},
     "output_type": "execute_result"
    }
   ],
   "source": [
    "model.test(data, callbacks)"
   ]
  }
 ],
 "metadata": {
  "kernelspec": {
   "display_name": "Python (qenv)",
   "language": "python",
   "name": "qenv"
  },
  "language_info": {
   "codemirror_mode": {
    "name": "ipython",
    "version": 3
   },
   "file_extension": ".py",
   "mimetype": "text/x-python",
   "name": "python",
   "nbconvert_exporter": "python",
   "pygments_lexer": "ipython3",
   "version": "3.7.13"
  },
  "latex_envs": {
   "LaTeX_envs_menu_present": true,
   "autoclose": false,
   "autocomplete": true,
   "bibliofile": "biblio.bib",
   "cite_by": "apalike",
   "current_citInitial": 1,
   "eqLabelWithNumbers": true,
   "eqNumInitial": 1,
   "hotkeys": {
    "equation": "Ctrl-E",
    "itemize": "Ctrl-I"
   },
   "labels_anchors": false,
   "latex_user_defs": false,
   "report_style_numbering": false,
   "user_envs_cfg": false
  },
  "toc": {
   "base_numbering": 1,
   "nav_menu": {},
   "number_sections": true,
   "sideBar": true,
   "skip_h1_title": false,
   "title_cell": "Table of Contents",
   "title_sidebar": "Contents",
   "toc_cell": false,
   "toc_position": {},
   "toc_section_display": true,
   "toc_window_display": false
  }
 },
 "nbformat": 4,
 "nbformat_minor": 5
}
