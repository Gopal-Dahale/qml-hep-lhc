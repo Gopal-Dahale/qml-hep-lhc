{
 "cells": [
  {
   "cell_type": "code",
   "execution_count": 1,
   "id": "acdc9844",
   "metadata": {
    "ExecuteTime": {
     "end_time": "2022-09-25T09:59:34.365232Z",
     "start_time": "2022-09-25T09:59:32.943567Z"
    }
   },
   "outputs": [],
   "source": [
    "from importlib.util import find_spec\n",
    "%load_ext autoreload\n",
    "%autoreload 2\n",
    "\n",
    "%matplotlib inline\n",
    "\n",
    "if find_spec(\"qml_hep_lhc\") is None:\n",
    "    import sys\n",
    "    sys.path.append('../..')"
   ]
  },
  {
   "cell_type": "code",
   "execution_count": 3,
   "id": "705723ea",
   "metadata": {
    "ExecuteTime": {
     "end_time": "2022-09-25T10:00:22.903196Z",
     "start_time": "2022-09-25T10:00:22.814544Z"
    }
   },
   "outputs": [],
   "source": [
    "from qml_hep_lhc.data import ElectronPhoton, MNIST, QuarkGluon\n",
    "from qml_hep_lhc.models import QCNNSandwich\n",
    "from tensorflow.keras.callbacks import ReduceLROnPlateau\n",
    "import argparse\n",
    "import numpy as np\n",
    "\n",
    "import matplotlib.pyplot as plt\n",
    "import time"
   ]
  },
  {
   "cell_type": "code",
   "execution_count": 17,
   "id": "cce47be2",
   "metadata": {
    "ExecuteTime": {
     "end_time": "2022-09-25T10:02:50.874446Z",
     "start_time": "2022-09-25T10:02:50.791980Z"
    }
   },
   "outputs": [],
   "source": [
    "args = argparse.Namespace()\n",
    "\n",
    "# Data\n",
    "args.center_crop = 0.7\n",
    "args.resize = [8,8]\n",
    "args.standardize = 1\n",
    "args.binary_data = [0,1]\n",
    "args.batch_size = 64\n",
    "args.validation_split = 0.05\n",
    "args.labels_to_categorical = 1\n",
    "\n",
    "# Base Model\n",
    "args.learning_rate = 1e-3\n",
    "args.epochs = 10\n",
    "\n",
    "# Quantum CNN Parameters\n",
    "args.n_layers = 1\n",
    "args.ansatz_class = 'NQubit'\n",
    "args.sparse = 1\n",
    "args.num_conv_layers = 2\n",
    "args.conv_dims = [1,1]\n",
    "args.num_qconv_layers = 2\n",
    "args.qconv_dims = [1,1]"
   ]
  },
  {
   "cell_type": "code",
   "execution_count": 12,
   "id": "32471d16",
   "metadata": {
    "ExecuteTime": {
     "end_time": "2022-09-25T10:02:23.043145Z",
     "start_time": "2022-09-25T10:02:18.365098Z"
    }
   },
   "outputs": [
    {
     "name": "stdout",
     "output_type": "stream",
     "text": [
      "Binarizing data...\n",
      "Binarizing data...\n",
      "Center cropping...\n",
      "Center cropping...\n",
      "Resizing data...\n",
      "Resizing data...\n",
      "Standardizing data...\n",
      "Converting labels to categorical...\n",
      "Converting labels to categorical...\n",
      "\n",
      "Dataset :MNIST\n",
      "╒════════╤══════════════════╤════════════════╤═════════════════╤═══════════╕\n",
      "│ Data   │ Train size       │ Val size       │ Test size       │ Dims      │\n",
      "╞════════╪══════════════════╪════════════════╪═════════════════╪═══════════╡\n",
      "│ X      │ (12031, 8, 8, 1) │ (634, 8, 8, 1) │ (2115, 8, 8, 1) │ (8, 8, 1) │\n",
      "├────────┼──────────────────┼────────────────┼─────────────────┼───────────┤\n",
      "│ y      │ (12031, 2)       │ (634, 2)       │ (2115, 2)       │ (2,)      │\n",
      "╘════════╧══════════════════╧════════════════╧═════════════════╧═══════════╛\n",
      "\n",
      "╒══════════════╤═══════╤═══════╤════════╤═══════╤══════════════════════════╕\n",
      "│ Type         │   Min │   Max │   Mean │   Std │ Samples for each class   │\n",
      "╞══════════════╪═══════╪═══════╪════════╪═══════╪══════════════════════════╡\n",
      "│ Train Images │ -1.58 │ 66.11 │  -0    │  1    │ [6405, 5626]             │\n",
      "├──────────────┼───────┼───────┼────────┼───────┼──────────────────────────┤\n",
      "│ Val Images   │ -1.58 │ 27.49 │   0    │  1.01 │ [337, 297]               │\n",
      "├──────────────┼───────┼───────┼────────┼───────┼──────────────────────────┤\n",
      "│ Test Images  │ -1.58 │ 27.55 │  -0.01 │  0.98 │ [1135, 980]              │\n",
      "╘══════════════╧═══════╧═══════╧════════╧═══════╧══════════════════════════╛\n",
      "\n",
      "\n"
     ]
    }
   ],
   "source": [
    "data = MNIST(args)\n",
    "data.prepare_data()\n",
    "data.setup()\n",
    "print(data)"
   ]
  },
  {
   "cell_type": "code",
   "execution_count": 18,
   "id": "c40416c6",
   "metadata": {
    "ExecuteTime": {
     "end_time": "2022-09-25T10:02:52.817314Z",
     "start_time": "2022-09-25T10:02:52.737315Z"
    }
   },
   "outputs": [
    {
     "data": {
      "text/plain": [
       "{'input_dims': (8, 8, 1), 'output_dims': (2,), 'mapping': [0, 1]}"
      ]
     },
     "execution_count": 18,
     "metadata": {},
     "output_type": "execute_result"
    }
   ],
   "source": [
    "data.config()"
   ]
  },
  {
   "cell_type": "code",
   "execution_count": 19,
   "id": "049951e1",
   "metadata": {
    "ExecuteTime": {
     "end_time": "2022-09-25T10:02:53.021531Z",
     "start_time": "2022-09-25T10:02:52.910232Z"
    }
   },
   "outputs": [
    {
     "name": "stderr",
     "output_type": "stream",
     "text": [
      "../../qml_hep_lhc/layers/qconv2d.py:62: UserWarning: n_qubits is only used for NQubit ansatz.\n",
      "  warnings.warn('n_qubits is only used for NQubit ansatz.')\n"
     ]
    }
   ],
   "source": [
    "model = QCNNSandwich(data.config(), args)"
   ]
  },
  {
   "cell_type": "code",
   "execution_count": 20,
   "id": "40c14585",
   "metadata": {
    "ExecuteTime": {
     "end_time": "2022-09-25T10:02:59.400112Z",
     "start_time": "2022-09-25T10:02:55.003723Z"
    }
   },
   "outputs": [
    {
     "name": "stdout",
     "output_type": "stream",
     "text": [
      "Model: \"QCNNSandwich-AngleMap-Chen\"\n",
      "_________________________________________________________________\n",
      " Layer (type)                Output Shape              Param #   \n",
      "=================================================================\n",
      " input_1 (InputLayer)        [(None, 8, 8, 1)]         0         \n",
      "                                                                 \n",
      " conv2d_5 (Conv2D)           (None, 8, 8, 1)           10        \n",
      "                                                                 \n",
      " conv2d_6 (Conv2D)           (None, 8, 8, 1)           10        \n",
      "                                                                 \n",
      " batch_normalization_1 (Batc  (None, 8, 8, 1)          4         \n",
      " hNormalization)                                                 \n",
      "                                                                 \n",
      " qconv2d_0 (QConv2D)         (None, 8, 8, 1, 1)        45        \n",
      "                                                                 \n",
      " qconv2d_1 (QConv2D)         (None, 8, 8, 1, 1)        45        \n",
      "                                                                 \n",
      " flatten (Flatten)           (None, 64)                0         \n",
      "                                                                 \n",
      " dense_6 (Dense)             (None, 128)               8320      \n",
      "                                                                 \n",
      " dense_7 (Dense)             (None, 2)                 258       \n",
      "                                                                 \n",
      "=================================================================\n",
      "Total params: 8,692\n",
      "Trainable params: 8,672\n",
      "Non-trainable params: 20\n",
      "_________________________________________________________________\n"
     ]
    }
   ],
   "source": [
    "model.compile()\n",
    "model.build_graph().summary()"
   ]
  },
  {
   "cell_type": "code",
   "execution_count": 21,
   "id": "6374af40",
   "metadata": {
    "ExecuteTime": {
     "end_time": "2022-09-25T10:03:03.623235Z",
     "start_time": "2022-09-25T10:03:03.505620Z"
    }
   },
   "outputs": [
    {
     "ename": "NameError",
     "evalue": "name 'callbacks' is not defined",
     "output_type": "error",
     "traceback": [
      "\u001b[0;31m---------------------------------------------------------------------------\u001b[0m",
      "\u001b[0;31mNameError\u001b[0m                                 Traceback (most recent call last)",
      "\u001b[0;32m/tmp/ipykernel_21756/604144221.py\u001b[0m in \u001b[0;36m<module>\u001b[0;34m\u001b[0m\n\u001b[0;32m----> 1\u001b[0;31m \u001b[0mmodel\u001b[0m\u001b[0;34m.\u001b[0m\u001b[0mfit\u001b[0m\u001b[0;34m(\u001b[0m\u001b[0mdata\u001b[0m\u001b[0;34m,\u001b[0m \u001b[0mcallbacks\u001b[0m\u001b[0;34m)\u001b[0m\u001b[0;34m\u001b[0m\u001b[0;34m\u001b[0m\u001b[0m\n\u001b[0m",
      "\u001b[0;31mNameError\u001b[0m: name 'callbacks' is not defined"
     ]
    }
   ],
   "source": [
    "lr_scheduler_callback = ReduceLROnPlateau(monitor='val_loss',\n",
    "                                              factor=np.sqrt(0.1),\n",
    "                                              patience=5,\n",
    "                                              min_delta=0.0001,\n",
    "                                              min_lr=1e-8)\n",
    "callbacks = [lr_scheduler_callback]\n",
    "model.fit(data, callbacks)"
   ]
  },
  {
   "cell_type": "code",
   "execution_count": null,
   "id": "f6ff2311",
   "metadata": {},
   "outputs": [],
   "source": [
    "model.test(data, callbacks=callbacks)"
   ]
  }
 ],
 "metadata": {
  "kernelspec": {
   "display_name": "Python (qenv)",
   "language": "python",
   "name": "qenv"
  },
  "language_info": {
   "codemirror_mode": {
    "name": "ipython",
    "version": 3
   },
   "file_extension": ".py",
   "mimetype": "text/x-python",
   "name": "python",
   "nbconvert_exporter": "python",
   "pygments_lexer": "ipython3",
   "version": "3.7.13"
  },
  "latex_envs": {
   "LaTeX_envs_menu_present": true,
   "autoclose": false,
   "autocomplete": true,
   "bibliofile": "biblio.bib",
   "cite_by": "apalike",
   "current_citInitial": 1,
   "eqLabelWithNumbers": true,
   "eqNumInitial": 1,
   "hotkeys": {
    "equation": "Ctrl-E",
    "itemize": "Ctrl-I"
   },
   "labels_anchors": false,
   "latex_user_defs": false,
   "report_style_numbering": false,
   "user_envs_cfg": false
  },
  "toc": {
   "base_numbering": 1,
   "nav_menu": {},
   "number_sections": true,
   "sideBar": true,
   "skip_h1_title": false,
   "title_cell": "Table of Contents",
   "title_sidebar": "Contents",
   "toc_cell": false,
   "toc_position": {},
   "toc_section_display": true,
   "toc_window_display": false
  }
 },
 "nbformat": 4,
 "nbformat_minor": 5
}
