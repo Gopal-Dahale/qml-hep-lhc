{
 "cells": [
  {
   "cell_type": "code",
   "execution_count": 1,
   "id": "1afd3daf",
   "metadata": {
    "ExecuteTime": {
     "end_time": "2022-09-25T14:20:13.944837Z",
     "start_time": "2022-09-25T14:20:09.676267Z"
    }
   },
   "outputs": [],
   "source": [
    "from importlib.util import find_spec\n",
    "%load_ext autoreload\n",
    "%autoreload 2\n",
    "\n",
    "%matplotlib inline\n",
    "\n",
    "if find_spec(\"qml_hep_lhc\") is None:\n",
    "    import sys\n",
    "    sys.path.append('../..')"
   ]
  },
  {
   "cell_type": "code",
   "execution_count": 2,
   "id": "022b1914",
   "metadata": {
    "ExecuteTime": {
     "end_time": "2022-09-25T14:21:23.586489Z",
     "start_time": "2022-09-25T14:20:15.107727Z"
    }
   },
   "outputs": [
    {
     "name": "stderr",
     "output_type": "stream",
     "text": [
      "2022-09-25 19:50:22.587054: W tensorflow/stream_executor/platform/default/dso_loader.cc:64] Could not load dynamic library 'libcudart.so.11.0'; dlerror: libcudart.so.11.0: cannot open shared object file: No such file or directory\n",
      "2022-09-25 19:50:22.587163: I tensorflow/stream_executor/cuda/cudart_stub.cc:29] Ignore above cudart dlerror if you do not have a GPU set up on your machine.\n",
      "2022-09-25 19:51:22.252800: E tensorflow/stream_executor/cuda/cuda_driver.cc:271] failed call to cuInit: CUDA_ERROR_NO_DEVICE: no CUDA-capable device is detected\n",
      "2022-09-25 19:51:22.252872: I tensorflow/stream_executor/cuda/cuda_diagnostics.cc:156] kernel driver does not appear to be running on this host (bhagvada): /proc/driver/nvidia/version does not exist\n",
      "2022-09-25 19:51:22.278151: I tensorflow/core/platform/cpu_feature_guard.cc:151] This TensorFlow binary is optimized with oneAPI Deep Neural Network Library (oneDNN) to use the following CPU instructions in performance-critical operations:  AVX2 FMA\n",
      "To enable them in other operations, rebuild TensorFlow with the appropriate compiler flags.\n"
     ]
    }
   ],
   "source": [
    "from qml_hep_lhc.data import ElectronPhoton, MNIST, QuarkGluon\n",
    "from qml_hep_lhc.models import QCNNSandwich\n",
    "from tensorflow.keras.callbacks import ReduceLROnPlateau\n",
    "import argparse\n",
    "import numpy as np\n",
    "\n",
    "import matplotlib.pyplot as plt\n",
    "import time"
   ]
  },
  {
   "cell_type": "code",
   "execution_count": 15,
   "id": "81cb36db",
   "metadata": {
    "ExecuteTime": {
     "end_time": "2022-09-25T14:23:14.815955Z",
     "start_time": "2022-09-25T14:23:14.722999Z"
    }
   },
   "outputs": [],
   "source": [
    "args = argparse.Namespace()\n",
    "\n",
    "# Data\n",
    "args.center_crop = 0.7\n",
    "args.resize = [8,8]\n",
    "args.standardize = 1\n",
    "args.binary_data = [0,1]\n",
    "args.batch_size = 256\n",
    "args.validation_split = 0.05\n",
    "args.labels_to_categorical = 1\n",
    "\n",
    "# Base Model\n",
    "args.learning_rate = 1e-3\n",
    "args.epochs = 10\n",
    "\n",
    "# Quantum CNN Parameters\n",
    "args.n_layers = 1\n",
    "args.ansatz = 'NQubit'\n",
    "args.sparse = 1\n",
    "args.num_conv_layers = 1\n",
    "args.conv_dims = [1]\n",
    "args.num_qconv_layers = 1\n",
    "args.qconv_dims = [1]"
   ]
  },
  {
   "cell_type": "code",
   "execution_count": 16,
   "id": "877ae5fd",
   "metadata": {
    "ExecuteTime": {
     "end_time": "2022-09-25T14:23:19.036694Z",
     "start_time": "2022-09-25T14:23:15.325740Z"
    }
   },
   "outputs": [
    {
     "name": "stdout",
     "output_type": "stream",
     "text": [
      "Binarizing data...\n",
      "Binarizing data...\n",
      "Center cropping...\n",
      "Center cropping...\n",
      "Resizing data...\n",
      "Resizing data...\n",
      "Standardizing data...\n",
      "Converting labels to categorical...\n",
      "Converting labels to categorical...\n",
      "\n",
      "Dataset :MNIST\n",
      "╒════════╤══════════════════╤════════════════╤═════════════════╤═══════════╕\n",
      "│ Data   │ Train size       │ Val size       │ Test size       │ Dims      │\n",
      "╞════════╪══════════════════╪════════════════╪═════════════════╪═══════════╡\n",
      "│ X      │ (12031, 8, 8, 1) │ (634, 8, 8, 1) │ (2115, 8, 8, 1) │ (8, 8, 1) │\n",
      "├────────┼──────────────────┼────────────────┼─────────────────┼───────────┤\n",
      "│ y      │ (12031, 2)       │ (634, 2)       │ (2115, 2)       │ (2,)      │\n",
      "╘════════╧══════════════════╧════════════════╧═════════════════╧═══════════╛\n",
      "\n",
      "╒══════════════╤═══════╤═══════╤════════╤═══════╤══════════════════════════╕\n",
      "│ Type         │   Min │   Max │   Mean │   Std │ Samples for each class   │\n",
      "╞══════════════╪═══════╪═══════╪════════╪═══════╪══════════════════════════╡\n",
      "│ Train Images │ -1.58 │ 66.11 │  -0    │  1    │ [6405, 5626]             │\n",
      "├──────────────┼───────┼───────┼────────┼───────┼──────────────────────────┤\n",
      "│ Val Images   │ -1.58 │ 27.03 │   0.01 │  1    │ [337, 297]               │\n",
      "├──────────────┼───────┼───────┼────────┼───────┼──────────────────────────┤\n",
      "│ Test Images  │ -1.58 │ 27.55 │  -0.01 │  0.98 │ [1135, 980]              │\n",
      "╘══════════════╧═══════╧═══════╧════════╧═══════╧══════════════════════════╛\n",
      "\n",
      "\n"
     ]
    }
   ],
   "source": [
    "data = MNIST(args)\n",
    "data.prepare_data()\n",
    "data.setup()\n",
    "print(data)"
   ]
  },
  {
   "cell_type": "code",
   "execution_count": 17,
   "id": "e4e5bb78",
   "metadata": {
    "ExecuteTime": {
     "end_time": "2022-09-25T14:23:19.122521Z",
     "start_time": "2022-09-25T14:23:19.044424Z"
    }
   },
   "outputs": [
    {
     "data": {
      "text/plain": [
       "{'input_dims': (8, 8, 1), 'output_dims': (2,), 'mapping': [0, 1]}"
      ]
     },
     "execution_count": 17,
     "metadata": {},
     "output_type": "execute_result"
    }
   ],
   "source": [
    "data.config()"
   ]
  },
  {
   "cell_type": "code",
   "execution_count": 18,
   "id": "00a3e71b",
   "metadata": {
    "ExecuteTime": {
     "end_time": "2022-09-25T14:23:19.252569Z",
     "start_time": "2022-09-25T14:23:19.131391Z"
    }
   },
   "outputs": [
    {
     "name": "stderr",
     "output_type": "stream",
     "text": [
      "../../qml_hep_lhc/layers/qconv2d.py:66: UserWarning: fm_class is only used for TwoLayerPQC.\n",
      "  warnings.warn('fm_class is only used for TwoLayerPQC.')\n",
      "../../qml_hep_lhc/layers/qconv2d.py:70: UserWarning: ansatz_class is only used for TwoLayerPQC.\n",
      "  warnings.warn('ansatz_class is only used for TwoLayerPQC.')\n"
     ]
    }
   ],
   "source": [
    "model = QCNNSandwich(data.config(), args)"
   ]
  },
  {
   "cell_type": "code",
   "execution_count": 19,
   "id": "e9cc303c",
   "metadata": {
    "ExecuteTime": {
     "end_time": "2022-09-25T14:23:19.926148Z",
     "start_time": "2022-09-25T14:23:19.690447Z"
    }
   },
   "outputs": [
    {
     "name": "stdout",
     "output_type": "stream",
     "text": [
      "Model: \"QCNNSandwich-AngleMap-NQubit\"\n",
      "_________________________________________________________________\n",
      " Layer (type)                Output Shape              Param #   \n",
      "=================================================================\n",
      " input_3 (InputLayer)        [(None, 8, 8, 1)]         0         \n",
      "                                                                 \n",
      " conv2d_4 (Conv2D)           (None, 8, 8, 1)           10        \n",
      "                                                                 \n",
      " batch_normalization_2 (Batc  (None, 8, 8, 1)          4         \n",
      " hNormalization)                                                 \n",
      "                                                                 \n",
      " qconv2d_0 (QConv2D)         (None, 8, 8, 1, 1)        18        \n",
      "                                                                 \n",
      " flatten_36 (Flatten)        (None, 64)                0         \n",
      "                                                                 \n",
      " dense_4 (Dense)             (None, 128)               8320      \n",
      "                                                                 \n",
      " dense_5 (Dense)             (None, 2)                 258       \n",
      "                                                                 \n",
      "=================================================================\n",
      "Total params: 8,610\n",
      "Trainable params: 8,608\n",
      "Non-trainable params: 2\n",
      "_________________________________________________________________\n"
     ]
    }
   ],
   "source": [
    "model.compile()\n",
    "model.build_graph().summary()"
   ]
  },
  {
   "cell_type": "code",
   "execution_count": 20,
   "id": "00318a24",
   "metadata": {
    "ExecuteTime": {
     "end_time": "2022-09-25T14:53:25.045922Z",
     "start_time": "2022-09-25T14:23:21.760355Z"
    }
   },
   "outputs": [
    {
     "name": "stdout",
     "output_type": "stream",
     "text": [
      "Epoch 1/10\n",
      "47/47 [==============================] - 177s 4s/step - loss: 0.2710 - auc_2: 0.9727 - accuracy: 0.9012 - val_loss: 0.1889 - val_auc_2: 0.9868 - val_accuracy: 0.9416 - lr: 0.0010\n",
      "Epoch 2/10\n",
      "47/47 [==============================] - 175s 4s/step - loss: 0.0741 - auc_2: 0.9972 - accuracy: 0.9798 - val_loss: 0.1797 - val_auc_2: 0.9824 - val_accuracy: 0.9353 - lr: 0.0010\n",
      "Epoch 3/10\n",
      "47/47 [==============================] - 175s 4s/step - loss: 0.0512 - auc_2: 0.9983 - accuracy: 0.9846 - val_loss: 0.0999 - val_auc_2: 0.9942 - val_accuracy: 0.9685 - lr: 0.0010\n",
      "Epoch 4/10\n",
      "47/47 [==============================] - 175s 4s/step - loss: 0.0431 - auc_2: 0.9985 - accuracy: 0.9865 - val_loss: 0.0496 - val_auc_2: 0.9975 - val_accuracy: 0.9890 - lr: 0.0010\n",
      "Epoch 5/10\n",
      "47/47 [==============================] - 175s 4s/step - loss: 0.0358 - auc_2: 0.9989 - accuracy: 0.9883 - val_loss: 0.0299 - val_auc_2: 0.9992 - val_accuracy: 0.9937 - lr: 0.0010\n",
      "Epoch 6/10\n",
      "47/47 [==============================] - 174s 4s/step - loss: 0.0305 - auc_2: 0.9993 - accuracy: 0.9898 - val_loss: 0.0206 - val_auc_2: 0.9998 - val_accuracy: 0.9953 - lr: 0.0010\n",
      "Epoch 7/10\n",
      "47/47 [==============================] - 175s 4s/step - loss: 0.0265 - auc_2: 0.9994 - accuracy: 0.9922 - val_loss: 0.0170 - val_auc_2: 0.9999 - val_accuracy: 0.9953 - lr: 0.0010\n",
      "Epoch 8/10\n",
      "47/47 [==============================] - 174s 4s/step - loss: 0.0235 - auc_2: 0.9995 - accuracy: 0.9933 - val_loss: 0.0148 - val_auc_2: 0.9999 - val_accuracy: 0.9953 - lr: 0.0010\n",
      "Epoch 9/10\n",
      "47/47 [==============================] - 174s 4s/step - loss: 0.0209 - auc_2: 0.9996 - accuracy: 0.9931 - val_loss: 0.0123 - val_auc_2: 0.9999 - val_accuracy: 0.9953 - lr: 0.0010\n",
      "Epoch 10/10\n",
      "47/47 [==============================] - 175s 4s/step - loss: 0.0200 - auc_2: 0.9995 - accuracy: 0.9938 - val_loss: 0.0111 - val_auc_2: 1.0000 - val_accuracy: 0.9953 - lr: 0.0010\n"
     ]
    },
    {
     "data": {
      "text/plain": [
       "<keras.callbacks.History at 0x7f835b904a10>"
      ]
     },
     "execution_count": 20,
     "metadata": {},
     "output_type": "execute_result"
    }
   ],
   "source": [
    "lr_scheduler_callback = ReduceLROnPlateau(monitor='val_loss',\n",
    "                                              factor=np.sqrt(0.1),\n",
    "                                              patience=5,\n",
    "                                              min_delta=0.0001,\n",
    "                                              min_lr=1e-8)\n",
    "callbacks = [lr_scheduler_callback]\n",
    "model.fit(data, callbacks)"
   ]
  },
  {
   "cell_type": "code",
   "execution_count": 21,
   "id": "d094e894",
   "metadata": {
    "ExecuteTime": {
     "end_time": "2022-09-25T14:53:44.584817Z",
     "start_time": "2022-09-25T14:53:25.054908Z"
    }
   },
   "outputs": [
    {
     "name": "stdout",
     "output_type": "stream",
     "text": [
      "9/9 [==============================] - 19s 2s/step - loss: 0.0259 - auc_2: 0.9996 - accuracy: 0.9915\n"
     ]
    },
    {
     "data": {
      "text/plain": [
       "[0.025947345420718193,\n",
       " 0.9995562434196472,\n",
       " 0.9914893507957458,\n",
       " 0.9995562434196472]"
      ]
     },
     "execution_count": 21,
     "metadata": {},
     "output_type": "execute_result"
    }
   ],
   "source": [
    "model.test(data, callbacks=callbacks)"
   ]
  }
 ],
 "metadata": {
  "kernelspec": {
   "display_name": "Python (qenv)",
   "language": "python",
   "name": "qenv"
  },
  "language_info": {
   "codemirror_mode": {
    "name": "ipython",
    "version": 3
   },
   "file_extension": ".py",
   "mimetype": "text/x-python",
   "name": "python",
   "nbconvert_exporter": "python",
   "pygments_lexer": "ipython3",
   "version": "3.7.13"
  },
  "latex_envs": {
   "LaTeX_envs_menu_present": true,
   "autoclose": false,
   "autocomplete": true,
   "bibliofile": "biblio.bib",
   "cite_by": "apalike",
   "current_citInitial": 1,
   "eqLabelWithNumbers": true,
   "eqNumInitial": 1,
   "hotkeys": {
    "equation": "Ctrl-E",
    "itemize": "Ctrl-I"
   },
   "labels_anchors": false,
   "latex_user_defs": false,
   "report_style_numbering": false,
   "user_envs_cfg": false
  },
  "toc": {
   "base_numbering": 1,
   "nav_menu": {},
   "number_sections": true,
   "sideBar": true,
   "skip_h1_title": false,
   "title_cell": "Table of Contents",
   "title_sidebar": "Contents",
   "toc_cell": false,
   "toc_position": {},
   "toc_section_display": true,
   "toc_window_display": false
  }
 },
 "nbformat": 4,
 "nbformat_minor": 5
}
