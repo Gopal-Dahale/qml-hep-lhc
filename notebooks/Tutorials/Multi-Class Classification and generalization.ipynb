{
 "cells": [
  {
   "cell_type": "markdown",
   "id": "d0f45f30",
   "metadata": {},
   "source": [
    "# Multi Class Classification and generalization\n",
    "In this tutorial, we demonstrate the power of single qubit to perform multi class classification on MNIST dataset using a hybrid model. We also show the generalization in QML with few training data."
   ]
  },
  {
   "cell_type": "code",
   "execution_count": 1,
   "id": "9c0de86d",
   "metadata": {
    "ExecuteTime": {
     "end_time": "2022-09-25T12:37:23.812664Z",
     "start_time": "2022-09-25T12:37:23.768271Z"
    }
   },
   "outputs": [],
   "source": [
    "from importlib.util import find_spec\n",
    "%load_ext autoreload\n",
    "%autoreload 2\n",
    "\n",
    "%matplotlib inline\n",
    "\n",
    "if find_spec(\"qml_hep_lhc\") is None:\n",
    "    import sys\n",
    "    sys.path.append('../..')"
   ]
  },
  {
   "cell_type": "code",
   "execution_count": 2,
   "id": "a7677016",
   "metadata": {
    "ExecuteTime": {
     "end_time": "2022-09-25T12:37:31.071628Z",
     "start_time": "2022-09-25T12:37:25.085839Z"
    }
   },
   "outputs": [],
   "source": [
    "from qml_hep_lhc.data import ElectronPhoton, MNIST, QuarkGluon\n",
    "from qml_hep_lhc.models import QCNNHybrid\n",
    "from tensorflow.keras.callbacks import ReduceLROnPlateau\n",
    "import argparse\n",
    "import numpy as np\n",
    "import tensorflow as tf\n",
    "\n",
    "import matplotlib.pyplot as plt\n",
    "import time"
   ]
  },
  {
   "cell_type": "code",
   "execution_count": 3,
   "id": "4d2215be",
   "metadata": {},
   "outputs": [
    {
     "name": "stdout",
     "output_type": "stream",
     "text": [
      "Num GPUs Available:  1\n"
     ]
    }
   ],
   "source": [
    "print(\"Num GPUs Available: \", len(tf.config.list_physical_devices('GPU')))"
   ]
  },
  {
   "cell_type": "code",
   "execution_count": 4,
   "id": "610390c2",
   "metadata": {},
   "outputs": [
    {
     "name": "stdout",
     "output_type": "stream",
     "text": [
      "1 Physical GPUs, 1 Logical GPU\n"
     ]
    }
   ],
   "source": [
    "gpus = tf.config.list_physical_devices('GPU')\n",
    "if gpus:\n",
    "    # Restrict TensorFlow to only use the first GPU\n",
    "    try:\n",
    "        tf.config.set_visible_devices(gpus[0], 'GPU')\n",
    "        logical_gpus = tf.config.list_logical_devices('GPU')\n",
    "        print(len(gpus), \"Physical GPUs,\", len(logical_gpus), \"Logical GPU\")\n",
    "    except RuntimeError as e:\n",
    "        # Visible devices must be set before GPUs have been initialized\n",
    "        print(e)"
   ]
  },
  {
   "cell_type": "markdown",
   "id": "71bf719e",
   "metadata": {},
   "source": [
    "## Single qubit Hybrid model"
   ]
  },
  {
   "cell_type": "code",
   "execution_count": null,
   "id": "38c0b8b9",
   "metadata": {
    "ExecuteTime": {
     "end_time": "2022-09-25T12:37:35.575047Z",
     "start_time": "2022-09-25T12:37:35.456979Z"
    }
   },
   "outputs": [],
   "source": [
    "args = argparse.Namespace()\n",
    "\n",
    "# Data\n",
    "args.resize = [8,8]\n",
    "args.standardize = 1\n",
    "args.batch_size = 128\n",
    "args.validation_split = 0.05\n",
    "args.labels_to_categorical = 1\n",
    "args.percent_samples = 0.5\n",
    "args.opt = 'Ranger'\n",
    "\n",
    "# Base Model\n",
    "args.learning_rate = 1e-3\n",
    "args.epochs = 10\n",
    "\n",
    "# Quantum CNN Parameters\n",
    "args.n_layers = 1\n",
    "args.ansatz = \"NQubit\"\n",
    "args.num_qconv_layers = 1\n",
    "args.qconv_dims = [1]\n",
    "args.num_fc_layers = 1\n",
    "args.fc_dims = [8]"
   ]
  },
  {
   "cell_type": "code",
   "execution_count": 54,
   "id": "78ecf022",
   "metadata": {
    "ExecuteTime": {
     "end_time": "2022-09-25T12:37:42.456016Z",
     "start_time": "2022-09-25T12:37:37.978414Z"
    }
   },
   "outputs": [
    {
     "name": "stdout",
     "output_type": "stream",
     "text": [
      "Resizing data...\n",
      "Resizing data...\n",
      "Standardizing data...\n",
      "Converting labels to categorical...\n",
      "Converting labels to categorical...\n",
      "\n",
      "Dataset :MNIST\n",
      "╒════════╤══════════════════╤═════════════════╤═════════════════╤═══════════╕\n",
      "│ Data   │ Train size       │ Val size        │ Test size       │ Dims      │\n",
      "╞════════╪══════════════════╪═════════════════╪═════════════════╪═══════════╡\n",
      "│ X      │ (28500, 8, 8, 1) │ (1500, 8, 8, 1) │ (5000, 8, 8, 1) │ (8, 8, 1) │\n",
      "├────────┼──────────────────┼─────────────────┼─────────────────┼───────────┤\n",
      "│ y      │ (28500, 10)      │ (1500, 10)      │ (5000, 10)      │ (10,)     │\n",
      "╘════════╧══════════════════╧═════════════════╧═════════════════╧═══════════╛\n",
      "\n",
      "╒══════════════╤═══════╤════════╤════════╤═══════╤══════════════════════════════════════════════════════════════╕\n",
      "│ Type         │   Min │    Max │   Mean │   Std │ Samples for each class                                       │\n",
      "╞══════════════╪═══════╪════════╪════════╪═══════╪══════════════════════════════════════════════════════════════╡\n",
      "│ Train Images │ -1.38 │ 173.2  │   0    │  0.99 │ [2850, 2850, 2850, 2850, 2850, 2850, 2850, 2850, 2850, 2850] │\n",
      "├──────────────┼───────┼────────┼────────┼───────┼──────────────────────────────────────────────────────────────┤\n",
      "│ Val Images   │ -1.38 │  68.15 │  -0    │  0.95 │ [150, 150, 150, 150, 150, 150, 150, 150, 150, 150]           │\n",
      "├──────────────┼───────┼────────┼────────┼───────┼──────────────────────────────────────────────────────────────┤\n",
      "│ Test Images  │ -1.38 │ 543.74 │  -0.03 │  1.34 │ [500, 500, 500, 500, 500, 500, 500, 500, 500, 500]           │\n",
      "╘══════════════╧═══════╧════════╧════════╧═══════╧══════════════════════════════════════════════════════════════╛\n",
      "\n",
      "\n"
     ]
    }
   ],
   "source": [
    "data = MNIST(args)\n",
    "data.prepare_data()\n",
    "data.setup()\n",
    "print(data)"
   ]
  },
  {
   "cell_type": "code",
   "execution_count": 55,
   "id": "185c55c5",
   "metadata": {
    "ExecuteTime": {
     "end_time": "2022-09-25T12:37:42.567062Z",
     "start_time": "2022-09-25T12:37:42.462260Z"
    }
   },
   "outputs": [
    {
     "data": {
      "text/plain": [
       "{'input_dims': (8, 8, 1),\n",
       " 'output_dims': (10,),\n",
       " 'mapping': [0, 1, 2, 3, 4, 5, 6, 7, 8, 9]}"
      ]
     },
     "execution_count": 55,
     "metadata": {},
     "output_type": "execute_result"
    }
   ],
   "source": [
    "data.config()"
   ]
  },
  {
   "cell_type": "code",
   "execution_count": 56,
   "id": "cb49ad9f",
   "metadata": {
    "ExecuteTime": {
     "end_time": "2022-09-25T12:37:46.271080Z",
     "start_time": "2022-09-25T12:37:46.150573Z"
    }
   },
   "outputs": [
    {
     "name": "stderr",
     "output_type": "stream",
     "text": [
      "../../qml_hep_lhc/layers/qconv2d.py:65: UserWarning: fm_class is only used for TwoLayerPQC.\n",
      "  warnings.warn('fm_class is only used for TwoLayerPQC.')\n",
      "../../qml_hep_lhc/layers/qconv2d.py:69: UserWarning: ansatz_class is only used for TwoLayerPQC.\n",
      "  warnings.warn('ansatz_class is only used for TwoLayerPQC.')\n"
     ]
    }
   ],
   "source": [
    "model = QCNNHybrid(data.config(), args)"
   ]
  },
  {
   "cell_type": "code",
   "execution_count": 57,
   "id": "15adc712",
   "metadata": {
    "ExecuteTime": {
     "end_time": "2022-09-25T12:37:53.328471Z",
     "start_time": "2022-09-25T12:37:49.991399Z"
    }
   },
   "outputs": [
    {
     "name": "stdout",
     "output_type": "stream",
     "text": [
      "Model: \"QCNNHybrid-AngleMap-NQubit\"\n",
      "_________________________________________________________________\n",
      " Layer (type)                Output Shape              Param #   \n",
      "=================================================================\n",
      " input_8 (InputLayer)        [(None, 8, 8, 1)]         0         \n",
      "                                                                 \n",
      " qconv2d_0 (QConv2D)         (None, 6, 6, 1, 1)        18        \n",
      "                                                                 \n",
      " flatten_4494 (Flatten)      (None, 36)                0         \n",
      "                                                                 \n",
      " dense_14 (Dense)            (None, 8)                 296       \n",
      "                                                                 \n",
      " dense_15 (Dense)            (None, 10)                90        \n",
      "                                                                 \n",
      "=================================================================\n",
      "Total params: 404\n",
      "Trainable params: 404\n",
      "Non-trainable params: 0\n",
      "_________________________________________________________________\n"
     ]
    }
   ],
   "source": [
    "model.compile()\n",
    "model.build_graph().summary()"
   ]
  },
  {
   "cell_type": "code",
   "execution_count": 58,
   "id": "d17a4f0c",
   "metadata": {
    "ExecuteTime": {
     "end_time": "2022-09-25T13:26:45.039019Z",
     "start_time": "2022-09-25T12:38:05.893122Z"
    }
   },
   "outputs": [],
   "source": [
    "lr_scheduler_callback = ReduceLROnPlateau(monitor='val_loss',\n",
    "                                              factor=np.sqrt(0.1),\n",
    "                                              patience=5,\n",
    "                                              min_delta=0.0001,\n",
    "                                              min_lr=1e-8)\n",
    "callbacks = [lr_scheduler_callback]"
   ]
  },
  {
   "cell_type": "code",
   "execution_count": 59,
   "id": "4a6244ef",
   "metadata": {},
   "outputs": [
    {
     "name": "stdout",
     "output_type": "stream",
     "text": [
      "Epoch 1/10\n",
      "223/223 [==============================] - 98s 441ms/step - loss: 2.2654 - auc_7: 0.5927 - accuracy: 0.1711 - val_loss: 2.1058 - val_auc_7: 0.7112 - val_accuracy: 0.2887 - lr: 0.0010\n",
      "Epoch 2/10\n",
      "223/223 [==============================] - 97s 436ms/step - loss: 1.7814 - auc_7: 0.8215 - accuracy: 0.4104 - val_loss: 1.4940 - val_auc_7: 0.8850 - val_accuracy: 0.5140 - lr: 0.0010\n",
      "Epoch 3/10\n",
      "223/223 [==============================] - 100s 447ms/step - loss: 1.2785 - auc_7: 0.9160 - accuracy: 0.5954 - val_loss: 1.1324 - val_auc_7: 0.9339 - val_accuracy: 0.6240 - lr: 0.0010\n",
      "Epoch 4/10\n",
      "223/223 [==============================] - 96s 431ms/step - loss: 1.0256 - auc_7: 0.9449 - accuracy: 0.6747 - val_loss: 0.9733 - val_auc_7: 0.9500 - val_accuracy: 0.6780 - lr: 0.0010\n",
      "Epoch 5/10\n",
      "223/223 [==============================] - 96s 430ms/step - loss: 0.9076 - auc_7: 0.9555 - accuracy: 0.7097 - val_loss: 0.8902 - val_auc_7: 0.9568 - val_accuracy: 0.7113 - lr: 0.0010\n",
      "Epoch 6/10\n",
      "223/223 [==============================] - 97s 433ms/step - loss: 0.8395 - auc_7: 0.9611 - accuracy: 0.7307 - val_loss: 0.8392 - val_auc_7: 0.9611 - val_accuracy: 0.7313 - lr: 0.0010\n",
      "Epoch 7/10\n",
      "223/223 [==============================] - 96s 431ms/step - loss: 0.7948 - auc_7: 0.9645 - accuracy: 0.7419 - val_loss: 0.8027 - val_auc_7: 0.9636 - val_accuracy: 0.7420 - lr: 0.0010\n",
      "Epoch 8/10\n",
      "223/223 [==============================] - 96s 432ms/step - loss: 0.7632 - auc_7: 0.9668 - accuracy: 0.7516 - val_loss: 0.7758 - val_auc_7: 0.9659 - val_accuracy: 0.7480 - lr: 0.0010\n",
      "Epoch 9/10\n",
      "223/223 [==============================] - 96s 431ms/step - loss: 0.7398 - auc_7: 0.9684 - accuracy: 0.7603 - val_loss: 0.7544 - val_auc_7: 0.9674 - val_accuracy: 0.7580 - lr: 0.0010\n",
      "Epoch 10/10\n",
      "223/223 [==============================] - 96s 432ms/step - loss: 0.7207 - auc_7: 0.9698 - accuracy: 0.7674 - val_loss: 0.7362 - val_auc_7: 0.9688 - val_accuracy: 0.7707 - lr: 0.0010\n"
     ]
    },
    {
     "data": {
      "text/plain": [
       "<keras.callbacks.History at 0x7f5af85dc940>"
      ]
     },
     "execution_count": 59,
     "metadata": {},
     "output_type": "execute_result"
    }
   ],
   "source": [
    "model.fit(data, callbacks)"
   ]
  },
  {
   "cell_type": "code",
   "execution_count": 60,
   "id": "0e14318d",
   "metadata": {
    "ExecuteTime": {
     "end_time": "2022-09-25T13:27:12.338668Z",
     "start_time": "2022-09-25T13:26:45.053975Z"
    }
   },
   "outputs": [
    {
     "name": "stdout",
     "output_type": "stream",
     "text": [
      "40/40 [==============================] - 11s 269ms/step - loss: 0.8021 - auc_7: 0.9623 - accuracy: 0.7370\n"
     ]
    },
    {
     "data": {
      "text/plain": [
       "[0.8021469712257385, 0.9622802734375, 0.7369999885559082, 0.9622802734375]"
      ]
     },
     "execution_count": 60,
     "metadata": {},
     "output_type": "execute_result"
    }
   ],
   "source": [
    "model.test(data, callbacks=callbacks)"
   ]
  },
  {
   "cell_type": "markdown",
   "id": "7d71bacd",
   "metadata": {},
   "source": [
    "## Training with few data points\n",
    "From the above training results we see that the model generalizes well on test set. Here we train the model with few 100 points per class. "
   ]
  },
  {
   "cell_type": "code",
   "execution_count": 91,
   "id": "2efcb21d",
   "metadata": {},
   "outputs": [],
   "source": [
    "args = argparse.Namespace()\n",
    "\n",
    "# Data\n",
    "args.center_crop = 0.7\n",
    "args.resize = [8,8]\n",
    "args.normalize = 1\n",
    "args.batch_size = 16\n",
    "args.validation_split = 0.05\n",
    "args.labels_to_categorical = 1\n",
    "args.percent_samples = 0.02\n",
    "args.opt = 'Ranger'\n",
    "\n",
    "# Base Model\n",
    "args.learning_rate = 1e-2\n",
    "args.epochs = 10\n",
    "\n",
    "# Quantum CNN Parameters\n",
    "args.n_layers = 2\n",
    "args.ansatz = \"NQubit\"\n",
    "args.num_qconv_layers = 1\n",
    "args.qconv_dims = [1]\n",
    "args.num_fc_layers = 1\n",
    "args.fc_dims = [8]"
   ]
  },
  {
   "cell_type": "code",
   "execution_count": 92,
   "id": "6640ff0f",
   "metadata": {},
   "outputs": [
    {
     "name": "stdout",
     "output_type": "stream",
     "text": [
      "Center cropping...\n",
      "Center cropping...\n",
      "Resizing data...\n",
      "Resizing data...\n",
      "Normalizing data...\n",
      "Converting labels to categorical...\n",
      "Converting labels to categorical...\n",
      "\n",
      "Dataset :MNIST\n",
      "╒════════╤═════════════════╤═══════════════╤════════════════╤═══════════╕\n",
      "│ Data   │ Train size      │ Val size      │ Test size      │ Dims      │\n",
      "╞════════╪═════════════════╪═══════════════╪════════════════╪═══════════╡\n",
      "│ X      │ (1140, 8, 8, 1) │ (60, 8, 8, 1) │ (200, 8, 8, 1) │ (8, 8, 1) │\n",
      "├────────┼─────────────────┼───────────────┼────────────────┼───────────┤\n",
      "│ y      │ (1140, 10)      │ (60, 10)      │ (200, 10)      │ (10,)     │\n",
      "╘════════╧═════════════════╧═══════════════╧════════════════╧═══════════╛\n",
      "\n",
      "╒══════════════╤═══════╤═══════╤════════╤═══════╤════════════════════════════════════════════════════╕\n",
      "│ Type         │   Min │   Max │   Mean │   Std │ Samples for each class                             │\n",
      "╞══════════════╪═══════╪═══════╪════════╪═══════╪════════════════════════════════════════════════════╡\n",
      "│ Train Images │     0 │  0.53 │   0.07 │   0.1 │ [114, 114, 114, 114, 114, 114, 114, 114, 114, 114] │\n",
      "├──────────────┼───────┼───────┼────────┼───────┼────────────────────────────────────────────────────┤\n",
      "│ Val Images   │     0 │  0.46 │   0.07 │   0.1 │ [6, 6, 6, 6, 6, 6, 6, 6, 6, 6]                     │\n",
      "├──────────────┼───────┼───────┼────────┼───────┼────────────────────────────────────────────────────┤\n",
      "│ Test Images  │     0 │  0.5  │   0.07 │   0.1 │ [20, 20, 20, 20, 20, 20, 20, 20, 20, 20]           │\n",
      "╘══════════════╧═══════╧═══════╧════════╧═══════╧════════════════════════════════════════════════════╛\n",
      "\n",
      "\n"
     ]
    }
   ],
   "source": [
    "data = MNIST(args)\n",
    "data.prepare_data()\n",
    "data.setup()\n",
    "print(data)"
   ]
  },
  {
   "cell_type": "code",
   "execution_count": 93,
   "id": "92119bf6",
   "metadata": {
    "scrolled": false
   },
   "outputs": [
    {
     "name": "stdout",
     "output_type": "stream",
     "text": [
      "Model: \"QCNNHybrid-AngleMap-NQubit\"\n",
      "_________________________________________________________________\n",
      " Layer (type)                Output Shape              Param #   \n",
      "=================================================================\n",
      " input_17 (InputLayer)       [(None, 8, 8, 1)]         0         \n",
      "                                                                 \n",
      " qconv2d_0 (QConv2D)         (None, 6, 6, 1, 1)        36        \n",
      "                                                                 \n",
      " flatten_18180 (Flatten)     (None, 36)                0         \n",
      "                                                                 \n",
      " dense_32 (Dense)            (None, 8)                 296       \n",
      "                                                                 \n",
      " dense_33 (Dense)            (None, 10)                90        \n",
      "                                                                 \n",
      "=================================================================\n",
      "Total params: 422\n",
      "Trainable params: 422\n",
      "Non-trainable params: 0\n",
      "_________________________________________________________________\n"
     ]
    },
    {
     "name": "stderr",
     "output_type": "stream",
     "text": [
      "../../qml_hep_lhc/layers/qconv2d.py:65: UserWarning: fm_class is only used for TwoLayerPQC.\n",
      "  warnings.warn('fm_class is only used for TwoLayerPQC.')\n",
      "../../qml_hep_lhc/layers/qconv2d.py:69: UserWarning: ansatz_class is only used for TwoLayerPQC.\n",
      "  warnings.warn('ansatz_class is only used for TwoLayerPQC.')\n"
     ]
    }
   ],
   "source": [
    "lr_scheduler_callback = ReduceLROnPlateau(monitor='val_loss',\n",
    "                                              factor=np.sqrt(0.1),\n",
    "                                              patience=5,\n",
    "                                              min_delta=0.001,\n",
    "                                              min_lr=1e-8)\n",
    "callbacks = [lr_scheduler_callback]\n",
    "model = QCNNHybrid(data.config(), args)\n",
    "model.compile()\n",
    "model.build_graph().summary()"
   ]
  },
  {
   "cell_type": "code",
   "execution_count": 94,
   "id": "82618036",
   "metadata": {
    "scrolled": false
   },
   "outputs": [
    {
     "name": "stdout",
     "output_type": "stream",
     "text": [
      "Epoch 1/10\n",
      "72/72 [==============================] - 8s 111ms/step - loss: 1.8194 - auc_16: 0.8014 - accuracy: 0.3816 - val_loss: 1.3594 - val_auc_16: 0.9023 - val_accuracy: 0.6167 - lr: 0.0100\n",
      "Epoch 2/10\n",
      "72/72 [==============================] - 8s 110ms/step - loss: 0.9353 - auc_16: 0.9528 - accuracy: 0.6877 - val_loss: 1.1194 - val_auc_16: 0.9289 - val_accuracy: 0.6333 - lr: 0.0100\n",
      "Epoch 3/10\n",
      "72/72 [==============================] - 8s 110ms/step - loss: 0.7100 - auc_16: 0.9701 - accuracy: 0.7719 - val_loss: 1.0006 - val_auc_16: 0.9437 - val_accuracy: 0.6000 - lr: 0.0100\n",
      "Epoch 4/10\n",
      "72/72 [==============================] - 8s 111ms/step - loss: 0.5966 - auc_16: 0.9778 - accuracy: 0.8184 - val_loss: 1.0114 - val_auc_16: 0.9412 - val_accuracy: 0.6333 - lr: 0.0100\n",
      "Epoch 5/10\n",
      "72/72 [==============================] - 8s 111ms/step - loss: 0.5814 - auc_16: 0.9781 - accuracy: 0.8202 - val_loss: 0.9918 - val_auc_16: 0.9429 - val_accuracy: 0.6667 - lr: 0.0100\n",
      "Epoch 6/10\n",
      "72/72 [==============================] - 8s 115ms/step - loss: 0.5155 - auc_16: 0.9823 - accuracy: 0.8491 - val_loss: 0.9118 - val_auc_16: 0.9506 - val_accuracy: 0.6833 - lr: 0.0100\n",
      "Epoch 7/10\n",
      "72/72 [==============================] - 8s 114ms/step - loss: 0.4714 - auc_16: 0.9836 - accuracy: 0.8570 - val_loss: 0.8702 - val_auc_16: 0.9542 - val_accuracy: 0.7333 - lr: 0.0100\n",
      "Epoch 8/10\n",
      "72/72 [==============================] - 8s 113ms/step - loss: 0.4631 - auc_16: 0.9849 - accuracy: 0.8632 - val_loss: 0.9685 - val_auc_16: 0.9483 - val_accuracy: 0.6667 - lr: 0.0100\n",
      "Epoch 9/10\n",
      "72/72 [==============================] - 8s 113ms/step - loss: 0.4505 - auc_16: 0.9853 - accuracy: 0.8728 - val_loss: 0.9337 - val_auc_16: 0.9460 - val_accuracy: 0.6667 - lr: 0.0100\n",
      "Epoch 10/10\n",
      "72/72 [==============================] - 8s 112ms/step - loss: 0.4301 - auc_16: 0.9873 - accuracy: 0.8719 - val_loss: 0.8399 - val_auc_16: 0.9633 - val_accuracy: 0.7500 - lr: 0.0100\n"
     ]
    },
    {
     "data": {
      "text/plain": [
       "<keras.callbacks.History at 0x7f5a4008cd00>"
      ]
     },
     "execution_count": 94,
     "metadata": {},
     "output_type": "execute_result"
    }
   ],
   "source": [
    "model.fit(data, callbacks)"
   ]
  },
  {
   "cell_type": "code",
   "execution_count": 95,
   "id": "c0ed4402",
   "metadata": {},
   "outputs": [
    {
     "name": "stdout",
     "output_type": "stream",
     "text": [
      "13/13 [==============================] - 1s 72ms/step - loss: 0.5601 - auc_16: 0.9790 - accuracy: 0.8100\n"
     ]
    },
    {
     "data": {
      "text/plain": [
       "[0.5600734949111938,\n",
       " 0.9790485501289368,\n",
       " 0.8100000023841858,\n",
       " 0.9790485501289368]"
      ]
     },
     "execution_count": 95,
     "metadata": {},
     "output_type": "execute_result"
    }
   ],
   "source": [
    "model.test(data, callbacks=callbacks)"
   ]
  },
  {
   "cell_type": "markdown",
   "id": "6ef3abcc",
   "metadata": {},
   "source": [
    "### Testing with more data points\n",
    "The model generalizes on 200 test data points. We now test it with 10,000 followed by 57,000 test data points."
   ]
  },
  {
   "cell_type": "code",
   "execution_count": 98,
   "id": "9482c28a",
   "metadata": {},
   "outputs": [
    {
     "name": "stdout",
     "output_type": "stream",
     "text": [
      "Center cropping...\n",
      "Center cropping...\n",
      "Resizing data...\n",
      "Resizing data...\n",
      "Normalizing data...\n",
      "Converting labels to categorical...\n",
      "Converting labels to categorical...\n",
      "\n",
      "Dataset :MNIST\n",
      "╒════════╤══════════════════╤═════════════════╤══════════════════╤═══════════╕\n",
      "│ Data   │ Train size       │ Val size        │ Test size        │ Dims      │\n",
      "╞════════╪══════════════════╪═════════════════╪══════════════════╪═══════════╡\n",
      "│ X      │ (57000, 8, 8, 1) │ (3000, 8, 8, 1) │ (10000, 8, 8, 1) │ (8, 8, 1) │\n",
      "├────────┼──────────────────┼─────────────────┼──────────────────┼───────────┤\n",
      "│ y      │ (57000, 10)      │ (3000, 10)      │ (10000, 10)      │ (10,)     │\n",
      "╘════════╧══════════════════╧═════════════════╧══════════════════╧═══════════╛\n",
      "\n",
      "╒══════════════╤═══════╤═══════╤════════╤═══════╤══════════════════════════════════════════════════════════════╕\n",
      "│ Type         │   Min │   Max │   Mean │   Std │ Samples for each class                                       │\n",
      "╞══════════════╪═══════╪═══════╪════════╪═══════╪══════════════════════════════════════════════════════════════╡\n",
      "│ Train Images │     0 │  0.82 │   0.07 │   0.1 │ [5627, 6405, 5660, 5824, 5550, 5150, 5622, 5952, 5558, 5652] │\n",
      "├──────────────┼───────┼───────┼────────┼───────┼──────────────────────────────────────────────────────────────┤\n",
      "│ Val Images   │     0 │  0.56 │   0.07 │   0.1 │ [296, 337, 298, 307, 292, 271, 296, 313, 293, 297]           │\n",
      "├──────────────┼───────┼───────┼────────┼───────┼──────────────────────────────────────────────────────────────┤\n",
      "│ Test Images  │     0 │  0.61 │   0.07 │   0.1 │ [980, 1135, 1032, 1010, 982, 892, 958, 1028, 974, 1009]      │\n",
      "╘══════════════╧═══════╧═══════╧════════╧═══════╧══════════════════════════════════════════════════════════════╛\n",
      "\n",
      "\n"
     ]
    }
   ],
   "source": [
    "args = argparse.Namespace()\n",
    "\n",
    "# Data\n",
    "args.center_crop = 0.7\n",
    "args.resize = [8,8]\n",
    "args.normalize = 1\n",
    "args.batch_size = 256\n",
    "args.validation_split = 0.05\n",
    "args.labels_to_categorical = 1\n",
    "args.opt = 'Ranger'\n",
    "\n",
    "data = MNIST(args)\n",
    "data.prepare_data()\n",
    "data.setup()\n",
    "print(data)"
   ]
  },
  {
   "cell_type": "code",
   "execution_count": 99,
   "id": "6d8e6157",
   "metadata": {},
   "outputs": [
    {
     "name": "stdout",
     "output_type": "stream",
     "text": [
      "40/40 [==============================] - 38s 936ms/step - loss: 0.5731 - auc_16: 0.9774 - accuracy: 0.8227\n"
     ]
    },
    {
     "data": {
      "text/plain": [
       "[0.5730593800544739, 0.9774295687675476, 0.822700023651123, 0.9774295687675476]"
      ]
     },
     "execution_count": 99,
     "metadata": {},
     "output_type": "execute_result"
    }
   ],
   "source": [
    "model.test(data, callbacks=callbacks)"
   ]
  },
  {
   "cell_type": "code",
   "execution_count": 100,
   "id": "f64519a6",
   "metadata": {},
   "outputs": [],
   "source": [
    "data.test_ds = data.train_ds"
   ]
  },
  {
   "cell_type": "code",
   "execution_count": 101,
   "id": "dcc922c0",
   "metadata": {},
   "outputs": [
    {
     "name": "stdout",
     "output_type": "stream",
     "text": [
      "223/223 [==============================] - 213s 954ms/step - loss: 0.5776 - auc_16: 0.9773 - accuracy: 0.8222\n"
     ]
    },
    {
     "data": {
      "text/plain": [
       "[0.5776097178459167,\n",
       " 0.9773194193840027,\n",
       " 0.8222105503082275,\n",
       " 0.9773194193840027]"
      ]
     },
     "execution_count": 101,
     "metadata": {},
     "output_type": "execute_result"
    }
   ],
   "source": [
    "model.test(data, callbacks=callbacks)"
   ]
  },
  {
   "cell_type": "markdown",
   "id": "625f6fbb",
   "metadata": {},
   "source": [
    "We can conclude that the model generalizes well on the high test data points. The takeaway is that the QCNN has learn with few training data."
   ]
  }
 ],
 "metadata": {
  "kernelspec": {
   "display_name": "Python (qenv)",
   "language": "python",
   "name": "qenv"
  },
  "language_info": {
   "codemirror_mode": {
    "name": "ipython",
    "version": 3
   },
   "file_extension": ".py",
   "mimetype": "text/x-python",
   "name": "python",
   "nbconvert_exporter": "python",
   "pygments_lexer": "ipython3",
   "version": "3.8.1"
  },
  "latex_envs": {
   "LaTeX_envs_menu_present": true,
   "autoclose": false,
   "autocomplete": true,
   "bibliofile": "biblio.bib",
   "cite_by": "apalike",
   "current_citInitial": 1,
   "eqLabelWithNumbers": true,
   "eqNumInitial": 1,
   "hotkeys": {
    "equation": "Ctrl-E",
    "itemize": "Ctrl-I"
   },
   "labels_anchors": false,
   "latex_user_defs": false,
   "report_style_numbering": false,
   "user_envs_cfg": false
  },
  "toc": {
   "base_numbering": 1,
   "nav_menu": {},
   "number_sections": true,
   "sideBar": true,
   "skip_h1_title": false,
   "title_cell": "Table of Contents",
   "title_sidebar": "Contents",
   "toc_cell": false,
   "toc_position": {},
   "toc_section_display": true,
   "toc_window_display": false
  }
 },
 "nbformat": 4,
 "nbformat_minor": 5
}
