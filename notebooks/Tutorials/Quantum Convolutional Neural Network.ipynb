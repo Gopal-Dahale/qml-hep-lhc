{
 "cells": [
  {
   "cell_type": "code",
   "execution_count": 1,
   "id": "26db8bac",
   "metadata": {
    "ExecuteTime": {
     "end_time": "2022-09-25T11:50:44.349816Z",
     "start_time": "2022-09-25T11:50:43.163672Z"
    }
   },
   "outputs": [],
   "source": [
    "from importlib.util import find_spec\n",
    "%load_ext autoreload\n",
    "%autoreload 2\n",
    "\n",
    "%matplotlib inline\n",
    "\n",
    "if find_spec(\"qml_hep_lhc\") is None:\n",
    "    import sys\n",
    "    sys.path.append('../..')"
   ]
  },
  {
   "cell_type": "code",
   "execution_count": 2,
   "id": "6e0d9d1a",
   "metadata": {
    "ExecuteTime": {
     "end_time": "2022-09-25T11:50:56.100549Z",
     "start_time": "2022-09-25T11:50:56.018088Z"
    }
   },
   "outputs": [],
   "source": [
    "from qml_hep_lhc.data import ElectronPhoton, MNIST, QuarkGluon\n",
    "from qml_hep_lhc.models import QCNNCong\n",
    "from tensorflow.keras.callbacks import ReduceLROnPlateau\n",
    "import argparse\n",
    "import numpy as np\n",
    "\n",
    "import matplotlib.pyplot as plt\n",
    "import time"
   ]
  },
  {
   "cell_type": "code",
   "execution_count": 20,
   "id": "d58cdc17",
   "metadata": {
    "ExecuteTime": {
     "end_time": "2022-09-25T11:51:08.201705Z",
     "start_time": "2022-09-25T11:51:08.094171Z"
    }
   },
   "outputs": [],
   "source": [
    "args = argparse.Namespace()\n",
    "\n",
    "# Data\n",
    "args.pca = 9\n",
    "args.normalize = 1\n",
    "args.binary_data = [0,1]\n",
    "args.batch_size = 256\n",
    "args.validation_split = 0.05\n",
    "args.hinge_labels = 1\n",
    "args.use_quantum = 1\n",
    "\n",
    "# Base Model\n",
    "args.learning_rate = 1e-3\n",
    "args.epochs = 5\n",
    "\n",
    "# Quantum CNN Parameters\n",
    "args.n_layers = 3"
   ]
  },
  {
   "cell_type": "code",
   "execution_count": 21,
   "id": "96f3d0b7",
   "metadata": {
    "ExecuteTime": {
     "end_time": "2022-09-25T10:06:43.891358Z",
     "start_time": "2022-09-25T10:06:40.407803Z"
    }
   },
   "outputs": [
    {
     "name": "stdout",
     "output_type": "stream",
     "text": [
      "Binarizing data...\n",
      "Binarizing data...\n",
      "Performing PCA on data...\n",
      "Cumulative sum on train : 68.27599655429124\n",
      "Cumulative sum on test: 68.27599655429124\n",
      "Normalizing data...\n",
      "Hinge labels...\n",
      "Hinge labels...\n",
      "\n",
      "Dataset :MNIST\n",
      "╒════════╤══════════════════╤════════════════╤═════════════════╤═══════════╕\n",
      "│ Data   │ Train size       │ Val size       │ Test size       │ Dims      │\n",
      "╞════════╪══════════════════╪════════════════╪═════════════════╪═══════════╡\n",
      "│ X      │ (12031, 3, 3, 1) │ (634, 3, 3, 1) │ (2115, 3, 3, 1) │ (3, 3, 1) │\n",
      "├────────┼──────────────────┼────────────────┼─────────────────┼───────────┤\n",
      "│ y      │ (12031,)         │ (634,)         │ (2115,)         │ (1,)      │\n",
      "╘════════╧══════════════════╧════════════════╧═════════════════╧═══════════╛\n",
      "\n",
      "╒══════════════╤═══════╤═══════╤════════╤═══════╤══════════════════════════╕\n",
      "│ Type         │   Min │   Max │   Mean │   Std │ Samples for each class   │\n",
      "╞══════════════╪═══════╪═══════╪════════╪═══════╪══════════════════════════╡\n",
      "│ Train Images │ -0.97 │  0.97 │  -0.01 │  0.33 │ [0, 5626]                │\n",
      "├──────────────┼───────┼───────┼────────┼───────┼──────────────────────────┤\n",
      "│ Val Images   │ -0.92 │  0.93 │  -0.02 │  0.33 │ [0, 297]                 │\n",
      "├──────────────┼───────┼───────┼────────┼───────┼──────────────────────────┤\n",
      "│ Test Images  │ -0.94 │  0.96 │  -0.02 │  0.33 │ [0, 980]                 │\n",
      "╘══════════════╧═══════╧═══════╧════════╧═══════╧══════════════════════════╛\n",
      "\n",
      "\n"
     ]
    }
   ],
   "source": [
    "data = MNIST(args)\n",
    "data.prepare_data()\n",
    "data.setup()\n",
    "print(data)"
   ]
  },
  {
   "cell_type": "code",
   "execution_count": 22,
   "id": "b20a523e",
   "metadata": {
    "ExecuteTime": {
     "end_time": "2022-09-25T09:42:26.712011Z",
     "start_time": "2022-09-25T09:42:26.617031Z"
    }
   },
   "outputs": [
    {
     "data": {
      "text/plain": [
       "{'input_dims': (3, 3, 1), 'output_dims': (1,), 'mapping': [0, 1]}"
      ]
     },
     "execution_count": 22,
     "metadata": {},
     "output_type": "execute_result"
    }
   ],
   "source": [
    "data.config()"
   ]
  },
  {
   "cell_type": "code",
   "execution_count": 23,
   "id": "68a69364",
   "metadata": {
    "ExecuteTime": {
     "end_time": "2022-09-25T09:42:28.066812Z",
     "start_time": "2022-09-25T09:42:27.455760Z"
    }
   },
   "outputs": [
    {
     "name": "stderr",
     "output_type": "stream",
     "text": [
      "../../qml_hep_lhc/layers/qconv2d.py:61: UserWarning: n_qubits is only used for NQubit ansatz.\n",
      "  warnings.warn('n_qubits is only used for NQubit ansatz.')\n"
     ]
    }
   ],
   "source": [
    "model = QCNNCong(data.config(), args)"
   ]
  },
  {
   "cell_type": "code",
   "execution_count": 24,
   "id": "1f64991d",
   "metadata": {
    "ExecuteTime": {
     "end_time": "2022-09-25T09:42:30.371452Z",
     "start_time": "2022-09-25T09:42:29.986047Z"
    }
   },
   "outputs": [
    {
     "name": "stdout",
     "output_type": "stream",
     "text": [
      "Model: \"QCNNCong\"\n",
      "_________________________________________________________________\n",
      " Layer (type)                Output Shape              Param #   \n",
      "=================================================================\n",
      " input_3 (InputLayer)        [(None, 3, 3, 1)]         0         \n",
      "                                                                 \n",
      " qconv2d (QConv2D)           (None, 1, 1, 1, 1)        81        \n",
      "                                                                 \n",
      " flatten_14 (Flatten)        (None, 1)                 0         \n",
      "                                                                 \n",
      "=================================================================\n",
      "Total params: 81\n",
      "Trainable params: 72\n",
      "Non-trainable params: 9\n",
      "_________________________________________________________________\n"
     ]
    }
   ],
   "source": [
    "model.compile()\n",
    "model.build_graph().summary()"
   ]
  },
  {
   "cell_type": "code",
   "execution_count": 25,
   "id": "f4f60915",
   "metadata": {
    "ExecuteTime": {
     "end_time": "2022-09-25T10:04:54.763204Z",
     "start_time": "2022-09-25T09:42:37.712233Z"
    }
   },
   "outputs": [],
   "source": [
    "lr_scheduler_callback = ReduceLROnPlateau(monitor='val_loss',\n",
    "                                              factor=np.sqrt(0.1),\n",
    "                                              patience=5,\n",
    "                                              min_delta=0.0001,\n",
    "                                              min_lr=1e-8)\n",
    "callbacks = [lr_scheduler_callback]"
   ]
  },
  {
   "cell_type": "code",
   "execution_count": 26,
   "id": "3a43fda8",
   "metadata": {},
   "outputs": [
    {
     "name": "stdout",
     "output_type": "stream",
     "text": [
      "Epoch 1/5\n",
      "47/47 [==============================] - 36s 772ms/step - loss: 0.9051 - q_auc_2: 0.8394 - custom_accuracy: 0.6566 - val_loss: 0.8034 - val_q_auc_2: 0.9908 - val_custom_accuracy: 0.8138 - lr: 0.0010\n",
      "Epoch 2/5\n",
      "47/47 [==============================] - 36s 776ms/step - loss: 0.7045 - q_auc_2: 0.9946 - custom_accuracy: 0.8998 - val_loss: 0.6012 - val_q_auc_2: 0.9996 - val_custom_accuracy: 0.9775 - lr: 0.0010\n",
      "Epoch 3/5\n",
      "47/47 [==============================] - 38s 805ms/step - loss: 0.5408 - q_auc_2: 0.9991 - custom_accuracy: 0.9896 - val_loss: 0.4872 - val_q_auc_2: 1.0000 - val_custom_accuracy: 0.9987 - lr: 0.0010\n",
      "Epoch 4/5\n",
      "47/47 [==============================] - 38s 821ms/step - loss: 0.4597 - q_auc_2: 0.9993 - custom_accuracy: 0.9945 - val_loss: 0.4202 - val_q_auc_2: 1.0000 - val_custom_accuracy: 0.9987 - lr: 0.0010\n",
      "Epoch 5/5\n",
      "47/47 [==============================] - 37s 778ms/step - loss: 0.3886 - q_auc_2: 0.9993 - custom_accuracy: 0.9945 - val_loss: 0.3397 - val_q_auc_2: 1.0000 - val_custom_accuracy: 0.9987 - lr: 0.0010\n"
     ]
    },
    {
     "data": {
      "text/plain": [
       "<keras.callbacks.History at 0x7fdc25254640>"
      ]
     },
     "execution_count": 26,
     "metadata": {},
     "output_type": "execute_result"
    }
   ],
   "source": [
    "model.fit(data, callbacks)"
   ]
  },
  {
   "cell_type": "code",
   "execution_count": 27,
   "id": "5bf60afc",
   "metadata": {
    "ExecuteTime": {
     "end_time": "2022-09-25T10:05:10.537145Z",
     "start_time": "2022-09-25T10:04:54.768183Z"
    }
   },
   "outputs": [
    {
     "name": "stdout",
     "output_type": "stream",
     "text": [
      "9/9 [==============================] - 4s 490ms/step - loss: 0.3415 - q_auc_2: 0.9998 - custom_accuracy: 0.9965\n"
     ]
    },
    {
     "data": {
      "text/plain": [
       "[0.3415096700191498,\n",
       " 0.9998485445976257,\n",
       " 0.9965277910232544,\n",
       " 0.9998485445976257]"
      ]
     },
     "execution_count": 27,
     "metadata": {},
     "output_type": "execute_result"
    }
   ],
   "source": [
    "model.test(data, callbacks=callbacks)"
   ]
  },
  {
   "cell_type": "code",
   "execution_count": 31,
   "id": "83443d81",
   "metadata": {
    "ExecuteTime": {
     "end_time": "2022-09-25T11:51:20.880124Z",
     "start_time": "2022-09-25T11:51:20.800612Z"
    }
   },
   "outputs": [],
   "source": [
    "args = argparse.Namespace()\n",
    "\n",
    "# Data\n",
    "args.use_quantum = 1\n",
    "\n",
    "# Base Model\n",
    "args.learning_rate = 1e-3\n",
    "args.epochs = 5\n",
    "\n",
    "# Quantum CNN Parameters\n",
    "args.n_layers = 4\n",
    "args.cluster_state = 1"
   ]
  },
  {
   "cell_type": "code",
   "execution_count": 32,
   "id": "2a99b3e8",
   "metadata": {
    "ExecuteTime": {
     "end_time": "2022-09-25T10:51:33.043229Z",
     "start_time": "2022-09-25T10:51:30.440154Z"
    }
   },
   "outputs": [
    {
     "name": "stdout",
     "output_type": "stream",
     "text": [
      "Warning: n_layers > 3.There can be at most 3 layers with 9 qubits.n_layers will be set to 3.\n",
      "Model: \"QCNNCong\"\n",
      "_________________________________________________________________\n",
      " Layer (type)                Output Shape              Param #   \n",
      "=================================================================\n",
      " input_5 (InputLayer)        [(None, 3, 3, 1)]         0         \n",
      "                                                                 \n",
      " qconv2d (QConv2D)           (None, 1, 1, 1, 1)        81        \n",
      "                                                                 \n",
      " flatten_276 (Flatten)       (None, 1)                 0         \n",
      "                                                                 \n",
      "=================================================================\n",
      "Total params: 81\n",
      "Trainable params: 72\n",
      "Non-trainable params: 9\n",
      "_________________________________________________________________\n"
     ]
    },
    {
     "name": "stderr",
     "output_type": "stream",
     "text": [
      "../../qml_hep_lhc/layers/qconv2d.py:61: UserWarning: n_qubits is only used for NQubit ansatz.\n",
      "  warnings.warn('n_qubits is only used for NQubit ansatz.')\n"
     ]
    }
   ],
   "source": [
    "model = QCNNCong(data.config(), args)\n",
    "model.compile()\n",
    "model.build_graph().summary()"
   ]
  },
  {
   "cell_type": "code",
   "execution_count": 33,
   "id": "eb178076",
   "metadata": {
    "ExecuteTime": {
     "end_time": "2022-09-25T11:18:46.984715Z",
     "start_time": "2022-09-25T10:51:33.050764Z"
    }
   },
   "outputs": [
    {
     "name": "stdout",
     "output_type": "stream",
     "text": [
      "Epoch 1/5\n",
      "47/47 [==============================] - 38s 801ms/step - loss: 0.6791 - q_auc_3: 0.9866 - custom_accuracy: 0.9282 - val_loss: 0.5324 - val_q_auc_3: 0.9983 - val_custom_accuracy: 0.9761 - lr: 0.0010\n",
      "Epoch 2/5\n",
      "47/47 [==============================] - 37s 787ms/step - loss: 0.4686 - q_auc_3: 0.9995 - custom_accuracy: 0.9861 - val_loss: 0.3839 - val_q_auc_3: 0.9999 - val_custom_accuracy: 0.9961 - lr: 0.0010\n",
      "Epoch 3/5\n",
      "47/47 [==============================] - 36s 775ms/step - loss: 0.3071 - q_auc_3: 0.9995 - custom_accuracy: 0.9925 - val_loss: 0.2265 - val_q_auc_3: 1.0000 - val_custom_accuracy: 0.9987 - lr: 0.0010\n",
      "Epoch 4/5\n",
      "47/47 [==============================] - 37s 789ms/step - loss: 0.1990 - q_auc_3: 0.9995 - custom_accuracy: 0.9940 - val_loss: 0.1600 - val_q_auc_3: 1.0000 - val_custom_accuracy: 1.0000 - lr: 0.0010\n",
      "Epoch 5/5\n",
      "47/47 [==============================] - 37s 796ms/step - loss: 0.1558 - q_auc_3: 0.9996 - custom_accuracy: 0.9945 - val_loss: 0.1337 - val_q_auc_3: 1.0000 - val_custom_accuracy: 1.0000 - lr: 0.0010\n"
     ]
    },
    {
     "data": {
      "text/plain": [
       "<keras.callbacks.History at 0x7fdc2567ff70>"
      ]
     },
     "execution_count": 33,
     "metadata": {},
     "output_type": "execute_result"
    }
   ],
   "source": [
    "model.fit(data, callbacks)"
   ]
  },
  {
   "cell_type": "code",
   "execution_count": 34,
   "id": "b3e2e77f",
   "metadata": {
    "ExecuteTime": {
     "end_time": "2022-09-25T11:19:05.997062Z",
     "start_time": "2022-09-25T11:18:46.989540Z"
    }
   },
   "outputs": [
    {
     "name": "stdout",
     "output_type": "stream",
     "text": [
      "9/9 [==============================] - 4s 489ms/step - loss: 0.1383 - q_auc_3: 1.0000 - custom_accuracy: 0.9944\n"
     ]
    },
    {
     "data": {
      "text/plain": [
       "[0.13828720152378082,\n",
       " 0.9999609589576721,\n",
       " 0.9944354295730591,\n",
       " 0.9999609589576721]"
      ]
     },
     "execution_count": 34,
     "metadata": {},
     "output_type": "execute_result"
    }
   ],
   "source": [
    "model.test(data, callbacks=callbacks)"
   ]
  }
 ],
 "metadata": {
  "kernelspec": {
   "display_name": "Python (qenv)",
   "language": "python",
   "name": "qenv"
  },
  "language_info": {
   "codemirror_mode": {
    "name": "ipython",
    "version": 3
   },
   "file_extension": ".py",
   "mimetype": "text/x-python",
   "name": "python",
   "nbconvert_exporter": "python",
   "pygments_lexer": "ipython3",
   "version": "3.8.1"
  },
  "latex_envs": {
   "LaTeX_envs_menu_present": true,
   "autoclose": false,
   "autocomplete": true,
   "bibliofile": "biblio.bib",
   "cite_by": "apalike",
   "current_citInitial": 1,
   "eqLabelWithNumbers": true,
   "eqNumInitial": 1,
   "hotkeys": {
    "equation": "Ctrl-E",
    "itemize": "Ctrl-I"
   },
   "labels_anchors": false,
   "latex_user_defs": false,
   "report_style_numbering": false,
   "user_envs_cfg": false
  },
  "toc": {
   "base_numbering": 1,
   "nav_menu": {},
   "number_sections": true,
   "sideBar": true,
   "skip_h1_title": false,
   "title_cell": "Table of Contents",
   "title_sidebar": "Contents",
   "toc_cell": false,
   "toc_position": {},
   "toc_section_display": true,
   "toc_window_display": false
  }
 },
 "nbformat": 4,
 "nbformat_minor": 5
}
