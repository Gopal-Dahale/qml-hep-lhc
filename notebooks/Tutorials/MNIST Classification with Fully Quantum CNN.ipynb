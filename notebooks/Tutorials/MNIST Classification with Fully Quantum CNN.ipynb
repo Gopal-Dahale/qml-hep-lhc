{
 "cells": [
  {
   "cell_type": "code",
   "execution_count": 1,
   "id": "26db8bac",
   "metadata": {
    "ExecuteTime": {
     "end_time": "2022-09-25T11:50:44.349816Z",
     "start_time": "2022-09-25T11:50:43.163672Z"
    }
   },
   "outputs": [],
   "source": [
    "from importlib.util import find_spec\n",
    "%load_ext autoreload\n",
    "%autoreload 2\n",
    "\n",
    "%matplotlib inline\n",
    "\n",
    "if find_spec(\"qml_hep_lhc\") is None:\n",
    "    import sys\n",
    "    sys.path.append('../..')"
   ]
  },
  {
   "cell_type": "code",
   "execution_count": 4,
   "id": "6e0d9d1a",
   "metadata": {
    "ExecuteTime": {
     "end_time": "2022-09-25T11:50:56.100549Z",
     "start_time": "2022-09-25T11:50:56.018088Z"
    }
   },
   "outputs": [],
   "source": [
    "from qml_hep_lhc.data import ElectronPhoton, MNIST, QuarkGluon\n",
    "from qml_hep_lhc.models import FQCNN\n",
    "from tensorflow.keras.callbacks import ReduceLROnPlateau\n",
    "import argparse\n",
    "import numpy as np\n",
    "\n",
    "import matplotlib.pyplot as plt\n",
    "import time"
   ]
  },
  {
   "cell_type": "code",
   "execution_count": 5,
   "id": "d58cdc17",
   "metadata": {
    "ExecuteTime": {
     "end_time": "2022-09-25T11:51:08.201705Z",
     "start_time": "2022-09-25T11:51:08.094171Z"
    }
   },
   "outputs": [],
   "source": [
    "args = argparse.Namespace()\n",
    "\n",
    "# Data\n",
    "args.resize = [4,4]\n",
    "args.min_max = 1\n",
    "args.binary_data = [0,1]\n",
    "args.batch_size = 32\n",
    "args.validation_split = 0.05\n",
    "args.hinge_labels = 1\n",
    "args.use_quantum = 1\n",
    "\n",
    "# Base Model\n",
    "args.learning_rate = 1e-3\n",
    "args.epochs = 10\n",
    "\n",
    "# Quantum CNN Parameters\n",
    "args.n_layers = 1\n",
    "args.feature_map = 'AngleMap'\n",
    "args.ansatz_class = 'Chen'\n",
    "args.num_qconv_layers = 1\n",
    "args.qconv_dims = [1]"
   ]
  },
  {
   "cell_type": "code",
   "execution_count": 4,
   "id": "96f3d0b7",
   "metadata": {
    "ExecuteTime": {
     "end_time": "2022-09-25T10:06:43.891358Z",
     "start_time": "2022-09-25T10:06:40.407803Z"
    }
   },
   "outputs": [
    {
     "name": "stdout",
     "output_type": "stream",
     "text": [
      "Binarizing data...\n",
      "Binarizing data...\n",
      "Resizing data...\n",
      "Resizing data...\n",
      "Min-max scaling...\n",
      "Hinge labels...\n",
      "Hinge labels...\n",
      "\n",
      "Dataset :MNIST\n",
      "╒════════╤══════════════════╤════════════════╤═════════════════╤═══════════╕\n",
      "│ Data   │ Train size       │ Val size       │ Test size       │ Dims      │\n",
      "╞════════╪══════════════════╪════════════════╪═════════════════╪═══════════╡\n",
      "│ X      │ (12031, 4, 4, 1) │ (634, 4, 4, 1) │ (2115, 4, 4, 1) │ (4, 4, 1) │\n",
      "├────────┼──────────────────┼────────────────┼─────────────────┼───────────┤\n",
      "│ y      │ (12031,)         │ (634,)         │ (2115,)         │ (1,)      │\n",
      "╘════════╧══════════════════╧════════════════╧═════════════════╧═══════════╛\n",
      "\n",
      "╒══════════════╤═══════╤═══════╤════════╤═══════╤══════════════════════════╕\n",
      "│ Type         │   Min │   Max │   Mean │   Std │ Samples for each class   │\n",
      "╞══════════════╪═══════╪═══════╪════════╪═══════╪══════════════════════════╡\n",
      "│ Train Images │ -1.57 │  1.57 │  -1.35 │  0.72 │ [0, 5626]                │\n",
      "├──────────────┼───────┼───────┼────────┼───────┼──────────────────────────┤\n",
      "│ Val Images   │ -1.57 │  1.57 │  -1.35 │  0.72 │ [0, 297]                 │\n",
      "├──────────────┼───────┼───────┼────────┼───────┼──────────────────────────┤\n",
      "│ Test Images  │ -1.57 │  1.57 │  -1.35 │  0.72 │ [0, 980]                 │\n",
      "╘══════════════╧═══════╧═══════╧════════╧═══════╧══════════════════════════╛\n",
      "\n",
      "\n"
     ]
    }
   ],
   "source": [
    "data = MNIST(args)\n",
    "data.prepare_data()\n",
    "data.setup()\n",
    "print(data)"
   ]
  },
  {
   "cell_type": "code",
   "execution_count": 26,
   "id": "b20a523e",
   "metadata": {
    "ExecuteTime": {
     "end_time": "2022-09-25T09:42:26.712011Z",
     "start_time": "2022-09-25T09:42:26.617031Z"
    }
   },
   "outputs": [
    {
     "data": {
      "text/plain": [
       "{'input_dims': (4, 4, 1), 'output_dims': (1,), 'mapping': [0, 1]}"
      ]
     },
     "execution_count": 26,
     "metadata": {},
     "output_type": "execute_result"
    }
   ],
   "source": [
    "data.config()"
   ]
  },
  {
   "cell_type": "code",
   "execution_count": 27,
   "id": "68a69364",
   "metadata": {
    "ExecuteTime": {
     "end_time": "2022-09-25T09:42:28.066812Z",
     "start_time": "2022-09-25T09:42:27.455760Z"
    }
   },
   "outputs": [
    {
     "name": "stderr",
     "output_type": "stream",
     "text": [
      "../../qml_hep_lhc/layers/qconv2d.py:62: UserWarning: n_qubits is only used for NQubit ansatz.\n",
      "  warnings.warn('n_qubits is only used for NQubit ansatz.')\n"
     ]
    }
   ],
   "source": [
    "model = FQCNN(data.config(), args)"
   ]
  },
  {
   "cell_type": "code",
   "execution_count": 28,
   "id": "1f64991d",
   "metadata": {
    "ExecuteTime": {
     "end_time": "2022-09-25T09:42:30.371452Z",
     "start_time": "2022-09-25T09:42:29.986047Z"
    }
   },
   "outputs": [
    {
     "name": "stdout",
     "output_type": "stream",
     "text": [
      "Model: \"FQCNN-AngleMap-Chen\"\n",
      "_________________________________________________________________\n",
      " Layer (type)                Output Shape              Param #   \n",
      "=================================================================\n",
      " input_3 (InputLayer)        [(None, 4, 4, 1)]         0         \n",
      "                                                                 \n",
      " qconv2d_0 (QConv2D)         (None, 2, 2, 1, 1)        45        \n",
      "                                                                 \n",
      " flatten_2420 (Flatten)      (None, 4)                 0         \n",
      "                                                                 \n",
      " TwoLayerPQC (TwoLayerPQC)   (None, 1)                 20        \n",
      "                                                                 \n",
      "=================================================================\n",
      "Total params: 65\n",
      "Trainable params: 52\n",
      "Non-trainable params: 13\n",
      "_________________________________________________________________\n"
     ]
    }
   ],
   "source": [
    "model.compile()\n",
    "model.build_graph().summary()"
   ]
  },
  {
   "cell_type": "code",
   "execution_count": 29,
   "id": "f4f60915",
   "metadata": {
    "ExecuteTime": {
     "end_time": "2022-09-25T10:04:54.763204Z",
     "start_time": "2022-09-25T09:42:37.712233Z"
    }
   },
   "outputs": [
    {
     "name": "stdout",
     "output_type": "stream",
     "text": [
      "Epoch 1/10\n",
      "376/376 [==============================] - 128s 340ms/step - loss: 0.9881 - q_auc_2: 0.6264 - custom_accuracy: 0.5606 - val_loss: 0.9140 - val_q_auc_2: 0.7149 - val_custom_accuracy: 0.6499 - lr: 0.0010\n",
      "Epoch 2/10\n",
      "376/376 [==============================] - 129s 344ms/step - loss: 0.8857 - q_auc_2: 0.7134 - custom_accuracy: 0.6564 - val_loss: 0.8663 - val_q_auc_2: 0.7437 - val_custom_accuracy: 0.6851 - lr: 0.0010\n",
      "Epoch 3/10\n",
      "376/376 [==============================] - 125s 333ms/step - loss: 0.8570 - q_auc_2: 0.7299 - custom_accuracy: 0.6749 - val_loss: 0.8470 - val_q_auc_2: 0.7575 - val_custom_accuracy: 0.6897 - lr: 0.0010\n",
      "Epoch 4/10\n",
      "376/376 [==============================] - 131s 348ms/step - loss: 0.8420 - q_auc_2: 0.7445 - custom_accuracy: 0.6818 - val_loss: 0.8333 - val_q_auc_2: 0.7681 - val_custom_accuracy: 0.6900 - lr: 0.0010\n",
      "Epoch 5/10\n",
      "376/376 [==============================] - 134s 357ms/step - loss: 0.8292 - q_auc_2: 0.7564 - custom_accuracy: 0.6851 - val_loss: 0.8201 - val_q_auc_2: 0.7730 - val_custom_accuracy: 0.6874 - lr: 0.0010\n",
      "Epoch 6/10\n",
      "376/376 [==============================] - 141s 374ms/step - loss: 0.8012 - q_auc_2: 0.7781 - custom_accuracy: 0.6897 - val_loss: 0.7859 - val_q_auc_2: 0.7718 - val_custom_accuracy: 0.6960 - lr: 0.0010\n",
      "Epoch 7/10\n",
      "376/376 [==============================] - 130s 345ms/step - loss: 0.7589 - q_auc_2: 0.7825 - custom_accuracy: 0.7113 - val_loss: 0.7693 - val_q_auc_2: 0.7772 - val_custom_accuracy: 0.6987 - lr: 0.0010\n",
      "Epoch 8/10\n",
      "376/376 [==============================] - 137s 363ms/step - loss: 0.7467 - q_auc_2: 0.7919 - custom_accuracy: 0.7143 - val_loss: 0.7586 - val_q_auc_2: 0.7895 - val_custom_accuracy: 0.7001 - lr: 0.0010\n",
      "Epoch 9/10\n",
      "376/376 [==============================] - 144s 383ms/step - loss: 0.7384 - q_auc_2: 0.7990 - custom_accuracy: 0.7146 - val_loss: 0.7509 - val_q_auc_2: 0.7961 - val_custom_accuracy: 0.7056 - lr: 0.0010\n",
      "Epoch 10/10\n",
      "376/376 [==============================] - 138s 366ms/step - loss: 0.7325 - q_auc_2: 0.8033 - custom_accuracy: 0.7196 - val_loss: 0.7451 - val_q_auc_2: 0.7996 - val_custom_accuracy: 0.7069 - lr: 0.0010\n"
     ]
    },
    {
     "data": {
      "text/plain": [
       "<keras.callbacks.History at 0x7f5f51ad10d0>"
      ]
     },
     "execution_count": 29,
     "metadata": {},
     "output_type": "execute_result"
    }
   ],
   "source": [
    "lr_scheduler_callback = ReduceLROnPlateau(monitor='val_loss',\n",
    "                                              factor=np.sqrt(0.1),\n",
    "                                              patience=5,\n",
    "                                              min_delta=0.0001,\n",
    "                                              min_lr=1e-8)\n",
    "callbacks = [lr_scheduler_callback]\n",
    "model.fit(data, callbacks)"
   ]
  },
  {
   "cell_type": "code",
   "execution_count": 30,
   "id": "5bf60afc",
   "metadata": {
    "ExecuteTime": {
     "end_time": "2022-09-25T10:05:10.537145Z",
     "start_time": "2022-09-25T10:04:54.768183Z"
    }
   },
   "outputs": [
    {
     "name": "stdout",
     "output_type": "stream",
     "text": [
      "67/67 [==============================] - 15s 226ms/step - loss: 0.6983 - q_auc_2: 0.8269 - custom_accuracy: 0.7486\n"
     ]
    },
    {
     "data": {
      "text/plain": [
       "[0.6983203887939453,\n",
       " 0.8269104957580566,\n",
       " 0.7486007213592529,\n",
       " 0.8269104957580566]"
      ]
     },
     "execution_count": 30,
     "metadata": {},
     "output_type": "execute_result"
    }
   ],
   "source": [
    "model.test(data, callbacks=callbacks)"
   ]
  },
  {
   "cell_type": "markdown",
   "id": "e1299c81",
   "metadata": {},
   "source": [
    "Normalize the dataset for using amplitude encoding"
   ]
  },
  {
   "cell_type": "code",
   "execution_count": 8,
   "id": "83443d81",
   "metadata": {
    "ExecuteTime": {
     "end_time": "2022-09-25T11:51:20.880124Z",
     "start_time": "2022-09-25T11:51:20.800612Z"
    }
   },
   "outputs": [],
   "source": [
    "args = argparse.Namespace()\n",
    "\n",
    "# Data\n",
    "args.resize = [4,4]\n",
    "args.normalize = 1\n",
    "args.binary_data = [0,1]\n",
    "args.batch_size = 32\n",
    "args.validation_split = 0.05\n",
    "args.hinge_labels = 1\n",
    "args.use_quantum = 1\n",
    "\n",
    "# Base Model\n",
    "args.learning_rate = 1e-3\n",
    "args.epochs = 10\n",
    "\n",
    "# Quantum CNN Parameters\n",
    "args.n_layers = 1\n",
    "args.feature_map = 'AmplitudeMap'\n",
    "args.ansatz = 'Chen'\n",
    "args.num_qconv_layers = 1\n",
    "args.qconv_dims = [1]"
   ]
  },
  {
   "cell_type": "code",
   "execution_count": 9,
   "id": "af4b1fca",
   "metadata": {
    "ExecuteTime": {
     "end_time": "2022-09-25T11:51:25.228927Z",
     "start_time": "2022-09-25T11:51:21.651625Z"
    }
   },
   "outputs": [
    {
     "name": "stdout",
     "output_type": "stream",
     "text": [
      "Binarizing data...\n",
      "Binarizing data...\n",
      "Resizing data...\n",
      "Resizing data...\n",
      "Normalizing data...\n",
      "Hinge labels...\n",
      "Hinge labels...\n",
      "\n",
      "Dataset :MNIST\n",
      "╒════════╤══════════════════╤════════════════╤═════════════════╤═══════════╕\n",
      "│ Data   │ Train size       │ Val size       │ Test size       │ Dims      │\n",
      "╞════════╪══════════════════╪════════════════╪═════════════════╪═══════════╡\n",
      "│ X      │ (12031, 4, 4, 1) │ (634, 4, 4, 1) │ (2115, 4, 4, 1) │ (4, 4, 1) │\n",
      "├────────┼──────────────────┼────────────────┼─────────────────┼───────────┤\n",
      "│ y      │ (12031,)         │ (634,)         │ (2115,)         │ (1,)      │\n",
      "╘════════╧══════════════════╧════════════════╧═════════════════╧═══════════╛\n",
      "\n",
      "╒══════════════╤═══════╤═══════╤════════╤═══════╤══════════════════════════╕\n",
      "│ Type         │   Min │   Max │   Mean │   Std │ Samples for each class   │\n",
      "╞══════════════╪═══════╪═══════╪════════╪═══════╪══════════════════════════╡\n",
      "│ Train Images │     0 │     1 │   0.06 │  0.21 │ [0, 5626]                │\n",
      "├──────────────┼───────┼───────┼────────┼───────┼──────────────────────────┤\n",
      "│ Val Images   │     0 │     1 │   0.07 │  0.21 │ [0, 297]                 │\n",
      "├──────────────┼───────┼───────┼────────┼───────┼──────────────────────────┤\n",
      "│ Test Images  │     0 │     1 │   0.06 │  0.21 │ [0, 980]                 │\n",
      "╘══════════════╧═══════╧═══════╧════════╧═══════╧══════════════════════════╛\n",
      "\n",
      "\n"
     ]
    }
   ],
   "source": [
    "data = MNIST(args)\n",
    "data.prepare_data()\n",
    "data.setup()\n",
    "print(data)"
   ]
  },
  {
   "cell_type": "code",
   "execution_count": 18,
   "id": "2a99b3e8",
   "metadata": {
    "ExecuteTime": {
     "end_time": "2022-09-25T10:51:33.043229Z",
     "start_time": "2022-09-25T10:51:30.440154Z"
    }
   },
   "outputs": [
    {
     "name": "stderr",
     "output_type": "stream",
     "text": [
      "../../qml_hep_lhc/layers/qconv2d.py:62: UserWarning: n_qubits is only used for NQubit ansatz.\n",
      "  warnings.warn('n_qubits is only used for NQubit ansatz.')\n",
      "../../qml_hep_lhc/encodings/amplitude.py:13: UserWarning: AmplitudeMap currently does not normalize the input unless padding is needed.\n",
      "User must manually normalize the input.\n",
      "  \"AmplitudeMap currently does not normalize the input unless padding is needed.\\nUser must manually normalize the input.\"\n",
      "../../qml_hep_lhc/encodings/amplitude.py:13: UserWarning: AmplitudeMap currently does not normalize the input unless padding is needed.\n",
      "User must manually normalize the input.\n",
      "  \"AmplitudeMap currently does not normalize the input unless padding is needed.\\nUser must manually normalize the input.\"\n"
     ]
    },
    {
     "name": "stdout",
     "output_type": "stream",
     "text": [
      "Model: \"FQCNN-AmplitudeMap-Chen\"\n",
      "_________________________________________________________________\n",
      " Layer (type)                Output Shape              Param #   \n",
      "=================================================================\n",
      " input_5 (InputLayer)        [(None, 4, 4, 1)]         0         \n",
      "                                                                 \n",
      " qconv2d_0 (QConv2D)         (None, 2, 2, 1, 1)        27        \n",
      "                                                                 \n",
      " flatten_20000 (Flatten)     (None, 4)                 0         \n",
      "                                                                 \n",
      " TwoLayerPQC (TwoLayerPQC)   (None, 1)                 9         \n",
      "                                                                 \n",
      "=================================================================\n",
      "Total params: 36\n",
      "Trainable params: 18\n",
      "Non-trainable params: 18\n",
      "_________________________________________________________________\n"
     ]
    }
   ],
   "source": [
    "model = FQCNN(data.config(), args)\n",
    "model.compile()\n",
    "model.build_graph().summary()"
   ]
  },
  {
   "cell_type": "code",
   "execution_count": 19,
   "id": "eb178076",
   "metadata": {
    "ExecuteTime": {
     "end_time": "2022-09-25T11:18:46.984715Z",
     "start_time": "2022-09-25T10:51:33.050764Z"
    }
   },
   "outputs": [
    {
     "name": "stdout",
     "output_type": "stream",
     "text": [
      "Epoch 1/10\n",
      "376/376 [==============================] - 146s 389ms/step - loss: 1.0832 - q_auc_4: 0.4951 - custom_accuracy: 0.5273 - val_loss: 0.9960 - val_q_auc_4: 0.5000 - val_custom_accuracy: 0.5323 - lr: 0.0010\n",
      "Epoch 2/10\n",
      "376/376 [==============================] - 163s 434ms/step - loss: 0.9960 - q_auc_4: 0.4976 - custom_accuracy: 0.5324 - val_loss: 0.9960 - val_q_auc_4: 0.5000 - val_custom_accuracy: 0.5309 - lr: 0.0010\n",
      "Epoch 3/10\n",
      "376/376 [==============================] - 161s 429ms/step - loss: 0.9960 - q_auc_4: 0.4973 - custom_accuracy: 0.5324 - val_loss: 0.9960 - val_q_auc_4: 0.5000 - val_custom_accuracy: 0.5323 - lr: 0.0010\n",
      "Epoch 4/10\n",
      "376/376 [==============================] - 158s 421ms/step - loss: 0.9960 - q_auc_4: 0.4952 - custom_accuracy: 0.5324 - val_loss: 0.9960 - val_q_auc_4: 0.5000 - val_custom_accuracy: 0.5327 - lr: 0.0010\n",
      "Epoch 5/10\n",
      "376/376 [==============================] - 153s 406ms/step - loss: 0.9960 - q_auc_4: 0.4974 - custom_accuracy: 0.5324 - val_loss: 0.9960 - val_q_auc_4: 0.5000 - val_custom_accuracy: 0.5309 - lr: 0.0010\n",
      "Epoch 6/10\n",
      "376/376 [==============================] - 160s 425ms/step - loss: 0.9960 - q_auc_4: 0.4972 - custom_accuracy: 0.5324 - val_loss: 0.9960 - val_q_auc_4: 0.5000 - val_custom_accuracy: 0.5316 - lr: 0.0010\n",
      "Epoch 7/10\n",
      "376/376 [==============================] - 198s 415ms/step - loss: 0.9959 - q_auc_4: 0.4968 - custom_accuracy: 0.5324 - val_loss: 0.9960 - val_q_auc_4: 0.5000 - val_custom_accuracy: 0.5316 - lr: 3.1623e-04\n",
      "Epoch 8/10\n",
      "376/376 [==============================] - 163s 433ms/step - loss: 0.9959 - q_auc_4: 0.4970 - custom_accuracy: 0.5324 - val_loss: 0.9960 - val_q_auc_4: 0.5000 - val_custom_accuracy: 0.5316 - lr: 3.1623e-04\n",
      "Epoch 9/10\n",
      "376/376 [==============================] - 166s 441ms/step - loss: 0.9959 - q_auc_4: 0.4952 - custom_accuracy: 0.5324 - val_loss: 0.9960 - val_q_auc_4: 0.5000 - val_custom_accuracy: 0.5312 - lr: 3.1623e-04\n",
      "Epoch 10/10\n",
      "376/376 [==============================] - 166s 441ms/step - loss: 0.9959 - q_auc_4: 0.4968 - custom_accuracy: 0.5324 - val_loss: 0.9960 - val_q_auc_4: 0.5000 - val_custom_accuracy: 0.5320 - lr: 3.1623e-04\n"
     ]
    },
    {
     "data": {
      "text/plain": [
       "<keras.callbacks.History at 0x7fea997a9a50>"
      ]
     },
     "execution_count": 19,
     "metadata": {},
     "output_type": "execute_result"
    }
   ],
   "source": [
    "model.fit(data, callbacks)"
   ]
  },
  {
   "cell_type": "code",
   "execution_count": 20,
   "id": "b3e2e77f",
   "metadata": {
    "ExecuteTime": {
     "end_time": "2022-09-25T11:19:05.997062Z",
     "start_time": "2022-09-25T11:18:46.989540Z"
    }
   },
   "outputs": [
    {
     "name": "stdout",
     "output_type": "stream",
     "text": [
      "67/67 [==============================] - 19s 282ms/step - loss: 0.9947 - q_auc_4: 0.5000 - custom_accuracy: 0.5384\n"
     ]
    },
    {
     "data": {
      "text/plain": [
       "[0.9947364926338196, 0.5, 0.5384017825126648, 0.5]"
      ]
     },
     "execution_count": 20,
     "metadata": {},
     "output_type": "execute_result"
    }
   ],
   "source": [
    "model.test(data, callbacks=callbacks)"
   ]
  }
 ],
 "metadata": {
  "kernelspec": {
   "display_name": "Python (qenv)",
   "language": "python",
   "name": "qenv"
  },
  "language_info": {
   "codemirror_mode": {
    "name": "ipython",
    "version": 3
   },
   "file_extension": ".py",
   "mimetype": "text/x-python",
   "name": "python",
   "nbconvert_exporter": "python",
   "pygments_lexer": "ipython3",
   "version": "3.7.13"
  },
  "latex_envs": {
   "LaTeX_envs_menu_present": true,
   "autoclose": false,
   "autocomplete": true,
   "bibliofile": "biblio.bib",
   "cite_by": "apalike",
   "current_citInitial": 1,
   "eqLabelWithNumbers": true,
   "eqNumInitial": 1,
   "hotkeys": {
    "equation": "Ctrl-E",
    "itemize": "Ctrl-I"
   },
   "labels_anchors": false,
   "latex_user_defs": false,
   "report_style_numbering": false,
   "user_envs_cfg": false
  },
  "toc": {
   "base_numbering": 1,
   "nav_menu": {},
   "number_sections": true,
   "sideBar": true,
   "skip_h1_title": false,
   "title_cell": "Table of Contents",
   "title_sidebar": "Contents",
   "toc_cell": false,
   "toc_position": {},
   "toc_section_display": true,
   "toc_window_display": false
  }
 },
 "nbformat": 4,
 "nbformat_minor": 5
}
