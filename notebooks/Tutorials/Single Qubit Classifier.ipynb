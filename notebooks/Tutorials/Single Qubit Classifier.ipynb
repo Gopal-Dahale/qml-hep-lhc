{
 "cells": [
  {
   "cell_type": "code",
   "execution_count": 1,
   "id": "a90ca4a1",
   "metadata": {
    "ExecuteTime": {
     "end_time": "2022-09-25T09:55:10.027291Z",
     "start_time": "2022-09-25T09:55:08.410988Z"
    }
   },
   "outputs": [],
   "source": [
    "from importlib.util import find_spec\n",
    "%load_ext autoreload\n",
    "%autoreload 2\n",
    "\n",
    "%matplotlib inline\n",
    "\n",
    "if find_spec(\"qml_hep_lhc\") is None:\n",
    "    import sys\n",
    "    sys.path.append('../..')"
   ]
  },
  {
   "cell_type": "code",
   "execution_count": 2,
   "id": "deaa3940",
   "metadata": {
    "ExecuteTime": {
     "end_time": "2022-09-25T09:55:17.114227Z",
     "start_time": "2022-09-25T09:55:10.031258Z"
    }
   },
   "outputs": [
    {
     "name": "stderr",
     "output_type": "stream",
     "text": [
      "2022-09-25 15:25:10.322366: W tensorflow/stream_executor/platform/default/dso_loader.cc:64] Could not load dynamic library 'libcudart.so.11.0'; dlerror: libcudart.so.11.0: cannot open shared object file: No such file or directory\n",
      "2022-09-25 15:25:10.322410: I tensorflow/stream_executor/cuda/cudart_stub.cc:29] Ignore above cudart dlerror if you do not have a GPU set up on your machine.\n",
      "2022-09-25 15:25:16.967539: E tensorflow/stream_executor/cuda/cuda_driver.cc:271] failed call to cuInit: CUDA_ERROR_NO_DEVICE: no CUDA-capable device is detected\n",
      "2022-09-25 15:25:16.967587: I tensorflow/stream_executor/cuda/cuda_diagnostics.cc:156] kernel driver does not appear to be running on this host (bhagvada): /proc/driver/nvidia/version does not exist\n",
      "2022-09-25 15:25:16.967950: I tensorflow/core/platform/cpu_feature_guard.cc:151] This TensorFlow binary is optimized with oneAPI Deep Neural Network Library (oneDNN) to use the following CPU instructions in performance-critical operations:  AVX2 FMA\n",
      "To enable them in other operations, rebuild TensorFlow with the appropriate compiler flags.\n"
     ]
    }
   ],
   "source": [
    "from qml_hep_lhc.data import ElectronPhoton, MNIST, QuarkGluon\n",
    "from qml_hep_lhc.models import VQC\n",
    "from tensorflow.keras.callbacks import ReduceLROnPlateau\n",
    "import argparse\n",
    "import numpy as np\n",
    "\n",
    "import matplotlib.pyplot as plt\n",
    "import time"
   ]
  },
  {
   "cell_type": "code",
   "execution_count": 3,
   "id": "f1323463",
   "metadata": {
    "ExecuteTime": {
     "end_time": "2022-09-25T09:55:17.208886Z",
     "start_time": "2022-09-25T09:55:17.120517Z"
    }
   },
   "outputs": [],
   "source": [
    "args = argparse.Namespace()\n",
    "\n",
    "# Data\n",
    "args.center_crop = 0.7\n",
    "args.pca = 16\n",
    "args.standardize = 1\n",
    "args.binary_data = [0,1]\n",
    "args.batch_size = 64\n",
    "args.validation_split = 0.05\n",
    "args.hinge_labels = 1\n",
    "args.use_quantum = 1\n",
    "\n",
    "# Base Model\n",
    "args.learning_rate = 1e-3\n",
    "args.epochs = 10\n",
    "\n",
    "# Quantum CNN Parameters\n",
    "args.n_layers = 1\n",
    "args.ansatz_class = 'NQubit'"
   ]
  },
  {
   "cell_type": "code",
   "execution_count": 4,
   "id": "94ff1a77",
   "metadata": {
    "ExecuteTime": {
     "end_time": "2022-09-25T09:55:22.389074Z",
     "start_time": "2022-09-25T09:55:17.212684Z"
    }
   },
   "outputs": [
    {
     "name": "stdout",
     "output_type": "stream",
     "text": [
      "Binarizing data...\n",
      "Binarizing data...\n",
      "Center cropping...\n",
      "Center cropping...\n",
      "Performing PCA on data...\n",
      "Cumulative sum on train : 77.73332978330882\n",
      "Cumulative sum on test: 77.73332978330882\n",
      "Standardizing data...\n",
      "Hinge labels...\n",
      "Hinge labels...\n",
      "\n",
      "Dataset :MNIST\n",
      "╒════════╤══════════════════╤════════════════╤═════════════════╤═══════════╕\n",
      "│ Data   │ Train size       │ Val size       │ Test size       │ Dims      │\n",
      "╞════════╪══════════════════╪════════════════╪═════════════════╪═══════════╡\n",
      "│ X      │ (12031, 4, 4, 1) │ (634, 4, 4, 1) │ (2115, 4, 4, 1) │ (4, 4, 1) │\n",
      "├────────┼──────────────────┼────────────────┼─────────────────┼───────────┤\n",
      "│ y      │ (12031,)         │ (634,)         │ (2115,)         │ (1,)      │\n",
      "╘════════╧══════════════════╧════════════════╧═════════════════╧═══════════╛\n",
      "\n",
      "╒══════════════╤═══════╤═══════╤════════╤═══════╤══════════════════════════╕\n",
      "│ Type         │   Min │   Max │   Mean │   Std │ Samples for each class   │\n",
      "╞══════════════╪═══════╪═══════╪════════╪═══════╪══════════════════════════╡\n",
      "│ Train Images │ -4.8  │  5.56 │  -0    │     1 │ [0, 5626]                │\n",
      "├──────────────┼───────┼───────┼────────┼───────┼──────────────────────────┤\n",
      "│ Val Images   │ -3.88 │  4.13 │   0    │     1 │ [0, 297]                 │\n",
      "├──────────────┼───────┼───────┼────────┼───────┼──────────────────────────┤\n",
      "│ Test Images  │ -4.95 │  5.04 │  -0.01 │     1 │ [0, 980]                 │\n",
      "╘══════════════╧═══════╧═══════╧════════╧═══════╧══════════════════════════╛\n",
      "\n",
      "\n"
     ]
    }
   ],
   "source": [
    "data = MNIST(args)\n",
    "data.prepare_data()\n",
    "data.setup()\n",
    "print(data)"
   ]
  },
  {
   "cell_type": "code",
   "execution_count": 5,
   "id": "94494ca3",
   "metadata": {
    "ExecuteTime": {
     "end_time": "2022-09-25T09:55:22.484479Z",
     "start_time": "2022-09-25T09:55:22.394228Z"
    }
   },
   "outputs": [
    {
     "data": {
      "text/plain": [
       "{'input_dims': (4, 4, 1), 'output_dims': (1,), 'mapping': [0, 1]}"
      ]
     },
     "execution_count": 5,
     "metadata": {},
     "output_type": "execute_result"
    }
   ],
   "source": [
    "data.config()"
   ]
  },
  {
   "cell_type": "code",
   "execution_count": 6,
   "id": "99269310",
   "metadata": {
    "ExecuteTime": {
     "end_time": "2022-09-25T09:55:22.734137Z",
     "start_time": "2022-09-25T09:55:22.491304Z"
    }
   },
   "outputs": [],
   "source": [
    "model = VQC(data.config(), args)"
   ]
  },
  {
   "cell_type": "code",
   "execution_count": 7,
   "id": "21f09018",
   "metadata": {
    "ExecuteTime": {
     "end_time": "2022-09-25T09:55:25.974470Z",
     "start_time": "2022-09-25T09:55:22.738144Z"
    }
   },
   "outputs": [
    {
     "name": "stdout",
     "output_type": "stream",
     "text": [
      "Model: \"VQC-AngleMap-Chen\"\n",
      "_________________________________________________________________\n",
      " Layer (type)                Output Shape              Param #   \n",
      "=================================================================\n",
      " input_1 (InputLayer)        [(None, 4, 4, 1)]         0         \n",
      "                                                                 \n",
      " TwoLayerPQC (TwoLayerPQC)   (None, 1)                 80        \n",
      "                                                                 \n",
      "=================================================================\n",
      "Total params: 80\n",
      "Trainable params: 64\n",
      "Non-trainable params: 16\n",
      "_________________________________________________________________\n"
     ]
    }
   ],
   "source": [
    "model.compile()\n",
    "model.build_graph().summary()"
   ]
  },
  {
   "cell_type": "code",
   "execution_count": null,
   "id": "da95d4aa",
   "metadata": {},
   "outputs": [],
   "source": [
    "lr_scheduler_callback = ReduceLROnPlateau(monitor='val_loss',\n",
    "                                              factor=np.sqrt(0.1),\n",
    "                                              patience=5,\n",
    "                                              min_delta=0.0001,\n",
    "                                              min_lr=1e-8)\n",
    "callbacks = [lr_scheduler_callback]\n",
    "model.fit(data, callbacks)"
   ]
  },
  {
   "cell_type": "code",
   "execution_count": null,
   "id": "148853df",
   "metadata": {},
   "outputs": [],
   "source": [
    "model.test(data, callbacks=callbacks)"
   ]
  },
  {
   "cell_type": "code",
   "execution_count": null,
   "id": "599364c8",
   "metadata": {},
   "outputs": [],
   "source": [
    "args.ansatz_class = 'NQubit'\n",
    "args.sparse = 1\n",
    "\n",
    "model = VQC(data.config(), args)\n",
    "model.compile()\n",
    "model.build_graph().summary()"
   ]
  },
  {
   "cell_type": "code",
   "execution_count": null,
   "id": "6c66ffb2",
   "metadata": {},
   "outputs": [],
   "source": [
    "model.fit(data, callbacks)"
   ]
  },
  {
   "cell_type": "code",
   "execution_count": null,
   "id": "6d4619bc",
   "metadata": {},
   "outputs": [],
   "source": [
    "model.test(data, callbacks=callbacks)"
   ]
  }
 ],
 "metadata": {
  "kernelspec": {
   "display_name": "Python (qenv)",
   "language": "python",
   "name": "qenv"
  },
  "language_info": {
   "codemirror_mode": {
    "name": "ipython",
    "version": 3
   },
   "file_extension": ".py",
   "mimetype": "text/x-python",
   "name": "python",
   "nbconvert_exporter": "python",
   "pygments_lexer": "ipython3",
   "version": "3.7.13"
  },
  "latex_envs": {
   "LaTeX_envs_menu_present": true,
   "autoclose": false,
   "autocomplete": true,
   "bibliofile": "biblio.bib",
   "cite_by": "apalike",
   "current_citInitial": 1,
   "eqLabelWithNumbers": true,
   "eqNumInitial": 1,
   "hotkeys": {
    "equation": "Ctrl-E",
    "itemize": "Ctrl-I"
   },
   "labels_anchors": false,
   "latex_user_defs": false,
   "report_style_numbering": false,
   "user_envs_cfg": false
  },
  "toc": {
   "base_numbering": 1,
   "nav_menu": {},
   "number_sections": true,
   "sideBar": true,
   "skip_h1_title": false,
   "title_cell": "Table of Contents",
   "title_sidebar": "Contents",
   "toc_cell": false,
   "toc_position": {},
   "toc_section_display": true,
   "toc_window_display": false
  }
 },
 "nbformat": 4,
 "nbformat_minor": 5
}
