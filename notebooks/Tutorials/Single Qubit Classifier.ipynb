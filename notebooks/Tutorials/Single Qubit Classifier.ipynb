{
 "cells": [
  {
   "cell_type": "code",
   "execution_count": 1,
   "id": "543e826b",
   "metadata": {
    "ExecuteTime": {
     "end_time": "2022-09-25T12:32:27.462931Z",
     "start_time": "2022-09-25T12:32:26.268700Z"
    }
   },
   "outputs": [],
   "source": [
    "from importlib.util import find_spec\n",
    "%load_ext autoreload\n",
    "%autoreload 2\n",
    "\n",
    "%matplotlib inline\n",
    "\n",
    "if find_spec(\"qml_hep_lhc\") is None:\n",
    "    import sys\n",
    "    sys.path.append('../..')"
   ]
  },
  {
   "cell_type": "code",
   "execution_count": 2,
   "id": "e3c74729",
   "metadata": {
    "ExecuteTime": {
     "end_time": "2022-09-25T12:32:32.628824Z",
     "start_time": "2022-09-25T12:32:27.466551Z"
    }
   },
   "outputs": [
    {
     "name": "stderr",
     "output_type": "stream",
     "text": [
      "2022-09-25 18:02:27.656788: W tensorflow/stream_executor/platform/default/dso_loader.cc:64] Could not load dynamic library 'libcudart.so.11.0'; dlerror: libcudart.so.11.0: cannot open shared object file: No such file or directory\n",
      "2022-09-25 18:02:27.656836: I tensorflow/stream_executor/cuda/cudart_stub.cc:29] Ignore above cudart dlerror if you do not have a GPU set up on your machine.\n",
      "2022-09-25 18:02:32.514819: E tensorflow/stream_executor/cuda/cuda_driver.cc:271] failed call to cuInit: CUDA_ERROR_NO_DEVICE: no CUDA-capable device is detected\n",
      "2022-09-25 18:02:32.514857: I tensorflow/stream_executor/cuda/cuda_diagnostics.cc:156] kernel driver does not appear to be running on this host (bhagvada): /proc/driver/nvidia/version does not exist\n",
      "2022-09-25 18:02:32.515219: I tensorflow/core/platform/cpu_feature_guard.cc:151] This TensorFlow binary is optimized with oneAPI Deep Neural Network Library (oneDNN) to use the following CPU instructions in performance-critical operations:  AVX2 FMA\n",
      "To enable them in other operations, rebuild TensorFlow with the appropriate compiler flags.\n"
     ]
    }
   ],
   "source": [
    "from qml_hep_lhc.data import ElectronPhoton, MNIST, QuarkGluon\n",
    "from qml_hep_lhc.models import VQC\n",
    "from tensorflow.keras.callbacks import ReduceLROnPlateau\n",
    "import argparse\n",
    "import numpy as np\n",
    "\n",
    "import matplotlib.pyplot as plt\n",
    "import time"
   ]
  },
  {
   "cell_type": "code",
   "execution_count": 3,
   "id": "82498746",
   "metadata": {
    "ExecuteTime": {
     "end_time": "2022-09-25T12:32:32.713916Z",
     "start_time": "2022-09-25T12:32:32.635165Z"
    }
   },
   "outputs": [],
   "source": [
    "args = argparse.Namespace()\n",
    "\n",
    "# Data\n",
    "args.center_crop = 0.7\n",
    "args.pca = 4\n",
    "args.standardize = 1\n",
    "args.binary_data = [0,1]\n",
    "args.batch_size = 64\n",
    "args.validation_split = 0.05\n",
    "args.hinge_labels = 1\n",
    "args.use_quantum = 1\n",
    "\n",
    "# Base Model\n",
    "args.learning_rate = 1e-1\n",
    "args.epochs = 10\n",
    "\n",
    "# Quantum CNN Parameters\n",
    "args.n_layers = 1\n",
    "args.cluster_state = 1\n",
    "args.ansatz = 'NQubit'"
   ]
  },
  {
   "cell_type": "code",
   "execution_count": 4,
   "id": "5f6c2b34",
   "metadata": {
    "ExecuteTime": {
     "end_time": "2022-09-25T12:32:36.627348Z",
     "start_time": "2022-09-25T12:32:32.719828Z"
    }
   },
   "outputs": [
    {
     "name": "stdout",
     "output_type": "stream",
     "text": [
      "Binarizing data...\n",
      "Binarizing data...\n",
      "Center cropping...\n",
      "Center cropping...\n",
      "Performing PCA on data...\n",
      "Cumulative sum on train : 55.622551252777555\n",
      "Cumulative sum on test: 55.622551252777555\n",
      "Standardizing data...\n",
      "Hinge labels...\n",
      "Hinge labels...\n",
      "\n",
      "Dataset :MNIST\n",
      "╒════════╤══════════════════╤════════════════╤═════════════════╤═══════════╕\n",
      "│ Data   │ Train size       │ Val size       │ Test size       │ Dims      │\n",
      "╞════════╪══════════════════╪════════════════╪═════════════════╪═══════════╡\n",
      "│ X      │ (12031, 2, 2, 1) │ (634, 2, 2, 1) │ (2115, 2, 2, 1) │ (2, 2, 1) │\n",
      "├────────┼──────────────────┼────────────────┼─────────────────┼───────────┤\n",
      "│ y      │ (12031,)         │ (634,)         │ (2115,)         │ (1,)      │\n",
      "╘════════╧══════════════════╧════════════════╧═════════════════╧═══════════╛\n",
      "\n",
      "╒══════════════╤═══════╤═══════╤════════╤═══════╤══════════════════════════╕\n",
      "│ Type         │   Min │   Max │   Mean │   Std │ Samples for each class   │\n",
      "╞══════════════╪═══════╪═══════╪════════╪═══════╪══════════════════════════╡\n",
      "│ Train Images │ -3.13 │  3.22 │   0    │  1    │ [0, 5626]                │\n",
      "├──────────────┼───────┼───────┼────────┼───────┼──────────────────────────┤\n",
      "│ Val Images   │ -2.63 │  2.91 │  -0    │  0.99 │ [0, 297]                 │\n",
      "├──────────────┼───────┼───────┼────────┼───────┼──────────────────────────┤\n",
      "│ Test Images  │ -2.92 │  3.32 │  -0.02 │  1    │ [0, 980]                 │\n",
      "╘══════════════╧═══════╧═══════╧════════╧═══════╧══════════════════════════╛\n",
      "\n",
      "\n"
     ]
    }
   ],
   "source": [
    "data = MNIST(args)\n",
    "data.prepare_data()\n",
    "data.setup()\n",
    "print(data)"
   ]
  },
  {
   "cell_type": "code",
   "execution_count": 13,
   "id": "9a4d002e",
   "metadata": {
    "ExecuteTime": {
     "end_time": "2022-09-25T12:33:02.180245Z",
     "start_time": "2022-09-25T12:33:02.063764Z"
    }
   },
   "outputs": [
    {
     "data": {
      "text/plain": [
       "{'input_dims': (2, 2, 1), 'output_dims': (1,), 'mapping': [0, 1]}"
      ]
     },
     "execution_count": 13,
     "metadata": {},
     "output_type": "execute_result"
    }
   ],
   "source": [
    "data.config()"
   ]
  },
  {
   "cell_type": "code",
   "execution_count": 14,
   "id": "437965be",
   "metadata": {
    "ExecuteTime": {
     "end_time": "2022-09-25T12:33:02.374803Z",
     "start_time": "2022-09-25T12:33:02.222486Z"
    }
   },
   "outputs": [],
   "source": [
    "model = VQC(data.config(), args)"
   ]
  },
  {
   "cell_type": "code",
   "execution_count": 15,
   "id": "25914fd5",
   "metadata": {
    "ExecuteTime": {
     "end_time": "2022-09-25T12:33:02.852427Z",
     "start_time": "2022-09-25T12:33:02.611243Z"
    }
   },
   "outputs": [
    {
     "name": "stdout",
     "output_type": "stream",
     "text": [
      "Model: \"VQC-AngleMap-NQubit\"\n",
      "_________________________________________________________________\n",
      " Layer (type)                Output Shape              Param #   \n",
      "=================================================================\n",
      " input_3 (InputLayer)        [(None, 2, 2, 1)]         0         \n",
      "                                                                 \n",
      " NQubitPQC (NQubitPQC)       (None, 1)                 15        \n",
      "                                                                 \n",
      "=================================================================\n",
      "Total params: 15\n",
      "Trainable params: 15\n",
      "Non-trainable params: 0\n",
      "_________________________________________________________________\n"
     ]
    }
   ],
   "source": [
    "model.compile()\n",
    "model.build_graph().summary()"
   ]
  },
  {
   "cell_type": "code",
   "execution_count": 17,
   "id": "66d9e5cf",
   "metadata": {
    "ExecuteTime": {
     "end_time": "2022-09-25T12:34:55.068994Z",
     "start_time": "2022-09-25T12:33:05.435812Z"
    }
   },
   "outputs": [
    {
     "name": "stdout",
     "output_type": "stream",
     "text": [
      "Epoch 1/10\n",
      "188/188 [==============================] - 10s 50ms/step - loss: 0.3970 - q_auc_2: 0.9597 - custom_accuracy: 0.8816 - val_loss: 0.3462 - val_q_auc_2: 0.9801 - val_custom_accuracy: 0.9119 - lr: 0.1000\n",
      "Epoch 2/10\n",
      "188/188 [==============================] - 9s 50ms/step - loss: 0.3442 - q_auc_2: 0.9811 - custom_accuracy: 0.9072 - val_loss: 0.3831 - val_q_auc_2: 0.9715 - val_custom_accuracy: 0.8836 - lr: 0.1000\n",
      "Epoch 3/10\n",
      "188/188 [==============================] - 9s 50ms/step - loss: 0.3638 - q_auc_2: 0.9755 - custom_accuracy: 0.8992 - val_loss: 0.3271 - val_q_auc_2: 0.9868 - val_custom_accuracy: 0.9353 - lr: 0.1000\n",
      "Epoch 4/10\n",
      "188/188 [==============================] - 10s 53ms/step - loss: 0.3437 - q_auc_2: 0.9815 - custom_accuracy: 0.9047 - val_loss: 0.3481 - val_q_auc_2: 0.9831 - val_custom_accuracy: 0.9139 - lr: 0.1000\n",
      "Epoch 5/10\n",
      "188/188 [==============================] - 10s 51ms/step - loss: 0.3467 - q_auc_2: 0.9812 - custom_accuracy: 0.9075 - val_loss: 0.3464 - val_q_auc_2: 0.9786 - val_custom_accuracy: 0.8975 - lr: 0.1000\n",
      "Epoch 6/10\n",
      "188/188 [==============================] - 9s 48ms/step - loss: 0.3540 - q_auc_2: 0.9789 - custom_accuracy: 0.9052 - val_loss: 0.3579 - val_q_auc_2: 0.9820 - val_custom_accuracy: 0.9023 - lr: 0.1000\n",
      "Epoch 7/10\n",
      "188/188 [==============================] - 11s 60ms/step - loss: 0.3725 - q_auc_2: 0.9742 - custom_accuracy: 0.8968 - val_loss: 0.3640 - val_q_auc_2: 0.9776 - val_custom_accuracy: 0.9039 - lr: 0.1000\n",
      "Epoch 8/10\n",
      "188/188 [==============================] - 19s 53ms/step - loss: 0.4356 - q_auc_2: 0.9541 - custom_accuracy: 0.8685 - val_loss: 0.4498 - val_q_auc_2: 0.9536 - val_custom_accuracy: 0.8711 - lr: 0.1000\n",
      "Epoch 9/10\n",
      "188/188 [==============================] - 13s 67ms/step - loss: 0.4150 - q_auc_2: 0.9651 - custom_accuracy: 0.8913 - val_loss: 0.4308 - val_q_auc_2: 0.9586 - val_custom_accuracy: 0.8723 - lr: 0.0316\n",
      "Epoch 10/10\n",
      "188/188 [==============================] - 9s 49ms/step - loss: 0.4115 - q_auc_2: 0.9667 - custom_accuracy: 0.8947 - val_loss: 0.4437 - val_q_auc_2: 0.9546 - val_custom_accuracy: 0.8772 - lr: 0.0316\n"
     ]
    },
    {
     "data": {
      "text/plain": [
       "<keras.callbacks.History at 0x7fe85b888a10>"
      ]
     },
     "execution_count": 17,
     "metadata": {},
     "output_type": "execute_result"
    }
   ],
   "source": [
    "lr_scheduler_callback = ReduceLROnPlateau(monitor='val_loss',\n",
    "                                              factor=np.sqrt(0.1),\n",
    "                                              patience=5,\n",
    "                                              min_delta=0.0001,\n",
    "                                              min_lr=1e-8)\n",
    "callbacks = [lr_scheduler_callback]\n",
    "model.fit(data, callbacks)"
   ]
  },
  {
   "cell_type": "code",
   "execution_count": 18,
   "id": "8f60324d",
   "metadata": {
    "ExecuteTime": {
     "end_time": "2022-09-25T12:34:56.313376Z",
     "start_time": "2022-09-25T12:34:55.074218Z"
    }
   },
   "outputs": [
    {
     "name": "stdout",
     "output_type": "stream",
     "text": [
      "34/34 [==============================] - 1s 33ms/step - loss: 0.4212 - q_auc_2: 0.9634 - custom_accuracy: 0.8845\n"
     ]
    },
    {
     "data": {
      "text/plain": [
       "[0.42117348313331604,\n",
       " 0.9634190201759338,\n",
       " 0.8844975233078003,\n",
       " 0.9634190201759338]"
      ]
     },
     "execution_count": 18,
     "metadata": {},
     "output_type": "execute_result"
    }
   ],
   "source": [
    "model.test(data, callbacks=callbacks)"
   ]
  },
  {
   "cell_type": "code",
   "execution_count": 19,
   "id": "417431a6",
   "metadata": {
    "ExecuteTime": {
     "end_time": "2022-09-25T12:34:56.488601Z",
     "start_time": "2022-09-25T12:34:56.316750Z"
    }
   },
   "outputs": [
    {
     "name": "stdout",
     "output_type": "stream",
     "text": [
      "Model: \"VQC-AngleMap-NQubit\"\n",
      "_________________________________________________________________\n",
      " Layer (type)                Output Shape              Param #   \n",
      "=================================================================\n",
      " input_4 (InputLayer)        [(None, 2, 2, 1)]         0         \n",
      "                                                                 \n",
      " NQubitPQC (NQubitPQC)       (None, 1)                 15        \n",
      "                                                                 \n",
      "=================================================================\n",
      "Total params: 15\n",
      "Trainable params: 15\n",
      "Non-trainable params: 0\n",
      "_________________________________________________________________\n"
     ]
    }
   ],
   "source": [
    "args.sparse = True\n",
    "\n",
    "model = VQC(data.config(), args)\n",
    "model.compile()\n",
    "model.build_graph().summary()"
   ]
  },
  {
   "cell_type": "code",
   "execution_count": 20,
   "id": "0c6f00c5",
   "metadata": {
    "ExecuteTime": {
     "end_time": "2022-09-25T12:36:33.159311Z",
     "start_time": "2022-09-25T12:34:56.492866Z"
    }
   },
   "outputs": [
    {
     "name": "stdout",
     "output_type": "stream",
     "text": [
      "Epoch 1/10\n",
      "188/188 [==============================] - 9s 46ms/step - loss: 0.7416 - q_auc_3: 0.8168 - custom_accuracy: 0.7245 - val_loss: 0.7296 - val_q_auc_3: 0.8306 - val_custom_accuracy: 0.7323 - lr: 0.1000\n",
      "Epoch 2/10\n",
      "188/188 [==============================] - 9s 45ms/step - loss: 0.6883 - q_auc_3: 0.8659 - custom_accuracy: 0.7429 - val_loss: 0.6176 - val_q_auc_3: 0.9223 - val_custom_accuracy: 0.7666 - lr: 0.1000\n",
      "Epoch 3/10\n",
      "188/188 [==============================] - 10s 53ms/step - loss: 0.5968 - q_auc_3: 0.9114 - custom_accuracy: 0.7777 - val_loss: 0.3139 - val_q_auc_3: 0.9953 - val_custom_accuracy: 0.8926 - lr: 0.1000\n",
      "Epoch 4/10\n",
      "188/188 [==============================] - 10s 52ms/step - loss: 0.2916 - q_auc_3: 0.9895 - custom_accuracy: 0.9076 - val_loss: 0.2922 - val_q_auc_3: 0.9934 - val_custom_accuracy: 0.8850 - lr: 0.1000\n",
      "Epoch 5/10\n",
      "188/188 [==============================] - 10s 54ms/step - loss: 0.2813 - q_auc_3: 0.9907 - custom_accuracy: 0.9042 - val_loss: 0.2604 - val_q_auc_3: 0.9971 - val_custom_accuracy: 0.9112 - lr: 0.1000\n",
      "Epoch 6/10\n",
      "188/188 [==============================] - 9s 49ms/step - loss: 0.2764 - q_auc_3: 0.9927 - custom_accuracy: 0.9065 - val_loss: 0.2838 - val_q_auc_3: 0.9935 - val_custom_accuracy: 0.9226 - lr: 0.1000\n",
      "Epoch 7/10\n",
      "188/188 [==============================] - 11s 57ms/step - loss: 0.2892 - q_auc_3: 0.9911 - custom_accuracy: 0.9034 - val_loss: 0.2317 - val_q_auc_3: 0.9985 - val_custom_accuracy: 0.9290 - lr: 0.1000\n",
      "Epoch 8/10\n",
      "188/188 [==============================] - 10s 52ms/step - loss: 0.2607 - q_auc_3: 0.9948 - custom_accuracy: 0.9133 - val_loss: 0.2519 - val_q_auc_3: 0.9996 - val_custom_accuracy: 0.9264 - lr: 0.1000\n",
      "Epoch 9/10\n",
      "188/188 [==============================] - 10s 52ms/step - loss: 0.2381 - q_auc_3: 0.9967 - custom_accuracy: 0.9252 - val_loss: 0.2269 - val_q_auc_3: 0.9981 - val_custom_accuracy: 0.9353 - lr: 0.1000\n",
      "Epoch 10/10\n",
      "188/188 [==============================] - 10s 54ms/step - loss: 0.2509 - q_auc_3: 0.9970 - custom_accuracy: 0.9200 - val_loss: 0.2592 - val_q_auc_3: 0.9945 - val_custom_accuracy: 0.9117 - lr: 0.1000\n"
     ]
    },
    {
     "data": {
      "text/plain": [
       "<keras.callbacks.History at 0x7fe85b8eb7d0>"
      ]
     },
     "execution_count": 20,
     "metadata": {},
     "output_type": "execute_result"
    }
   ],
   "source": [
    "model.fit(data, callbacks)"
   ]
  },
  {
   "cell_type": "code",
   "execution_count": 21,
   "id": "c89ccec9",
   "metadata": {
    "ExecuteTime": {
     "end_time": "2022-09-25T12:36:34.401714Z",
     "start_time": "2022-09-25T12:36:33.165801Z"
    }
   },
   "outputs": [
    {
     "name": "stdout",
     "output_type": "stream",
     "text": [
      "34/34 [==============================] - 1s 33ms/step - loss: 0.2474 - q_auc_3: 0.9964 - custom_accuracy: 0.9236\n"
     ]
    },
    {
     "data": {
      "text/plain": [
       "[0.2474074363708496,\n",
       " 0.9964429140090942,\n",
       " 0.9235600233078003,\n",
       " 0.9964429140090942]"
      ]
     },
     "execution_count": 21,
     "metadata": {},
     "output_type": "execute_result"
    }
   ],
   "source": [
    "model.test(data, callbacks=callbacks)"
   ]
  }
 ],
 "metadata": {
  "kernelspec": {
   "display_name": "Python (qenv)",
   "language": "python",
   "name": "qenv"
  },
  "language_info": {
   "codemirror_mode": {
    "name": "ipython",
    "version": 3
   },
   "file_extension": ".py",
   "mimetype": "text/x-python",
   "name": "python",
   "nbconvert_exporter": "python",
   "pygments_lexer": "ipython3",
   "version": "3.7.13"
  },
  "latex_envs": {
   "LaTeX_envs_menu_present": true,
   "autoclose": false,
   "autocomplete": true,
   "bibliofile": "biblio.bib",
   "cite_by": "apalike",
   "current_citInitial": 1,
   "eqLabelWithNumbers": true,
   "eqNumInitial": 1,
   "hotkeys": {
    "equation": "Ctrl-E",
    "itemize": "Ctrl-I"
   },
   "labels_anchors": false,
   "latex_user_defs": false,
   "report_style_numbering": false,
   "user_envs_cfg": false
  },
  "toc": {
   "base_numbering": 1,
   "nav_menu": {},
   "number_sections": true,
   "sideBar": true,
   "skip_h1_title": false,
   "title_cell": "Table of Contents",
   "title_sidebar": "Contents",
   "toc_cell": false,
   "toc_position": {},
   "toc_section_display": true,
   "toc_window_display": false
  }
 },
 "nbformat": 4,
 "nbformat_minor": 5
}
