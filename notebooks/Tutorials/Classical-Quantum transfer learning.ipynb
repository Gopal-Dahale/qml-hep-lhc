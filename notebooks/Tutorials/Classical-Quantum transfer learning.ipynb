{
 "cells": [
  {
   "cell_type": "code",
   "execution_count": 1,
   "id": "d20e51ee",
   "metadata": {
    "ExecuteTime": {
     "end_time": "2022-09-25T13:42:15.233239Z",
     "start_time": "2022-09-25T13:42:14.049037Z"
    }
   },
   "outputs": [],
   "source": [
    "from importlib.util import find_spec\n",
    "%load_ext autoreload\n",
    "%autoreload 2\n",
    "\n",
    "%matplotlib inline\n",
    "\n",
    "if find_spec(\"qml_hep_lhc\") is None:\n",
    "    import sys\n",
    "    sys.path.append('../..')"
   ]
  },
  {
   "cell_type": "code",
   "execution_count": 166,
   "id": "ff0ea34e",
   "metadata": {
    "ExecuteTime": {
     "end_time": "2022-09-25T13:42:20.746544Z",
     "start_time": "2022-09-25T13:42:15.237844Z"
    }
   },
   "outputs": [],
   "source": [
    "from qml_hep_lhc.data import ElectronPhoton, MNIST, QuarkGluon\n",
    "from qml_hep_lhc.models import CNN\n",
    "from tensorflow.keras.callbacks import ReduceLROnPlateau\n",
    "import argparse\n",
    "import wandb\n",
    "import numpy as np\n",
    "import tensorflow as tf\n",
    "from tensorflow.keras import datasets, layers, models, optimizers\n",
    "import matplotlib.pyplot as plt\n",
    "import time\n",
    "from qml_hep_lhc.layers import TwoLayerPQC\n",
    "from qml_hep_lhc.layers.utils import get_count_of_qubits, get_num_in_symbols\n",
    "from qml_hep_lhc.utils import _import_class\n",
    "from qml_hep_lhc.models.metrics import custom_accuracy, qAUC"
   ]
  },
  {
   "cell_type": "code",
   "execution_count": 3,
   "id": "aa55fd80",
   "metadata": {},
   "outputs": [
    {
     "name": "stdout",
     "output_type": "stream",
     "text": [
      "Num GPUs Available:  1\n"
     ]
    }
   ],
   "source": [
    "print(\"Num GPUs Available: \", len(tf.config.list_physical_devices('GPU')))"
   ]
  },
  {
   "cell_type": "code",
   "execution_count": 4,
   "id": "522934f1",
   "metadata": {},
   "outputs": [
    {
     "name": "stdout",
     "output_type": "stream",
     "text": [
      "1 Physical GPUs, 1 Logical GPU\n"
     ]
    }
   ],
   "source": [
    "gpus = tf.config.list_physical_devices('GPU')\n",
    "if gpus:\n",
    "    # Restrict TensorFlow to only use the first GPU\n",
    "    try:\n",
    "        tf.config.set_visible_devices(gpus[0], 'GPU')\n",
    "        logical_gpus = tf.config.list_logical_devices('GPU')\n",
    "        print(len(gpus), \"Physical GPUs,\", len(logical_gpus), \"Logical GPU\")\n",
    "    except RuntimeError as e:\n",
    "        # Visible devices must be set before GPUs have been initialized\n",
    "        print(e)"
   ]
  },
  {
   "cell_type": "code",
   "execution_count": 167,
   "id": "de91d94a",
   "metadata": {
    "ExecuteTime": {
     "end_time": "2022-09-25T13:42:20.846032Z",
     "start_time": "2022-09-25T13:42:20.751800Z"
    }
   },
   "outputs": [],
   "source": [
    "args = argparse.Namespace()\n",
    "\n",
    "# Data\n",
    "args.standardize = 1\n",
    "args.binary_data = [0,1]\n",
    "args.batch_size = 64\n",
    "args.validation_split = 0.05\n",
    "args.labels_to_categorical = 1\n",
    "args.num_conv_layers = 2\n",
    "args.conv_dims = [4,4]\n",
    "args.num_fc_layers = 2\n",
    "args.fc_dims = [8, 8]\n",
    "\n",
    "# Base Model\n",
    "args.learning_rate = 1e-3\n",
    "args.epochs = 5"
   ]
  },
  {
   "cell_type": "code",
   "execution_count": 168,
   "id": "c428625e",
   "metadata": {
    "ExecuteTime": {
     "end_time": "2022-09-25T13:42:25.081994Z",
     "start_time": "2022-09-25T13:42:20.854026Z"
    }
   },
   "outputs": [
    {
     "name": "stdout",
     "output_type": "stream",
     "text": [
      "Binarizing data...\n",
      "Binarizing data...\n",
      "Standardizing data...\n",
      "Converting labels to categorical...\n",
      "Converting labels to categorical...\n",
      "\n",
      "Dataset :MNIST\n",
      "╒════════╤════════════════════╤══════════════════╤═══════════════════╤═════════════╕\n",
      "│ Data   │ Train size         │ Val size         │ Test size         │ Dims        │\n",
      "╞════════╪════════════════════╪══════════════════╪═══════════════════╪═════════════╡\n",
      "│ X      │ (12031, 28, 28, 1) │ (634, 28, 28, 1) │ (2115, 28, 28, 1) │ (28, 28, 1) │\n",
      "├────────┼────────────────────┼──────────────────┼───────────────────┼─────────────┤\n",
      "│ y      │ (12031, 2)         │ (634, 2)         │ (2115, 2)         │ (2,)        │\n",
      "╘════════╧════════════════════╧══════════════════╧═══════════════════╧═════════════╛\n",
      "\n",
      "╒══════════════╤═══════╤════════╤════════╤═══════╤══════════════════════════╕\n",
      "│ Type         │   Min │    Max │   Mean │   Std │ Samples for each class   │\n",
      "╞══════════════╪═══════╪════════╪════════╪═══════╪══════════════════════════╡\n",
      "│ Train Images │ -1.47 │ 112.53 │      0 │  0.89 │ [6405, 5626]             │\n",
      "├──────────────┼───────┼────────┼────────┼───────┼──────────────────────────┤\n",
      "│ Val Images   │ -1.47 │ 110.06 │     -0 │  0.82 │ [337, 297]               │\n",
      "├──────────────┼───────┼────────┼────────┼───────┼──────────────────────────┤\n",
      "│ Test Images  │ -1.47 │ 945.36 │     -0 │  1.18 │ [1135, 980]              │\n",
      "╘══════════════╧═══════╧════════╧════════╧═══════╧══════════════════════════╛\n",
      "\n",
      "\n"
     ]
    }
   ],
   "source": [
    "data = MNIST(args)\n",
    "data.prepare_data()\n",
    "data.setup()\n",
    "print(data)"
   ]
  },
  {
   "cell_type": "code",
   "execution_count": 169,
   "id": "90ae6be7",
   "metadata": {
    "ExecuteTime": {
     "end_time": "2022-09-25T13:42:25.166938Z",
     "start_time": "2022-09-25T13:42:25.087042Z"
    }
   },
   "outputs": [
    {
     "data": {
      "text/plain": [
       "{'input_dims': (28, 28, 1), 'output_dims': (2,), 'mapping': [0, 1]}"
      ]
     },
     "execution_count": 169,
     "metadata": {},
     "output_type": "execute_result"
    }
   ],
   "source": [
    "data.config()"
   ]
  },
  {
   "cell_type": "code",
   "execution_count": 170,
   "id": "3d762ff1",
   "metadata": {
    "ExecuteTime": {
     "end_time": "2022-09-25T13:42:25.943005Z",
     "start_time": "2022-09-25T13:42:25.822898Z"
    }
   },
   "outputs": [],
   "source": [
    "cnn = CNN(data.config(), args)"
   ]
  },
  {
   "cell_type": "code",
   "execution_count": 171,
   "id": "2919b0f4",
   "metadata": {
    "ExecuteTime": {
     "end_time": "2022-09-25T13:42:31.114367Z",
     "start_time": "2022-09-25T13:42:28.201884Z"
    }
   },
   "outputs": [
    {
     "name": "stdout",
     "output_type": "stream",
     "text": [
      "Model: \"CNN\"\n",
      "_________________________________________________________________\n",
      " Layer (type)                Output Shape              Param #   \n",
      "=================================================================\n",
      " input_7 (InputLayer)        [(None, 28, 28, 1)]       0         \n",
      "                                                                 \n",
      " conv2d_9 (Conv2D)           (None, 28, 28, 4)         40        \n",
      "                                                                 \n",
      " conv2d_10 (Conv2D)          (None, 28, 28, 4)         148       \n",
      "                                                                 \n",
      " flatten_5 (Flatten)         (None, 3136)              0         \n",
      "                                                                 \n",
      " dense_14 (Dense)            (None, 8)                 25096     \n",
      "                                                                 \n",
      " dense_15 (Dense)            (None, 8)                 72        \n",
      "                                                                 \n",
      " dense_16 (Dense)            (None, 2)                 18        \n",
      "                                                                 \n",
      "=================================================================\n",
      "Total params: 25,374\n",
      "Trainable params: 25,374\n",
      "Non-trainable params: 0\n",
      "_________________________________________________________________\n"
     ]
    }
   ],
   "source": [
    "cnn.compile()\n",
    "cnn.build_graph().summary()"
   ]
  },
  {
   "cell_type": "code",
   "execution_count": 172,
   "id": "e5e092a2",
   "metadata": {
    "ExecuteTime": {
     "end_time": "2022-09-25T13:45:18.587626Z",
     "start_time": "2022-09-25T13:42:33.546416Z"
    }
   },
   "outputs": [],
   "source": [
    "lr_scheduler_callback = ReduceLROnPlateau(monitor='val_loss',\n",
    "                                              factor=np.sqrt(0.1),\n",
    "                                              patience=5,\n",
    "                                              min_delta=0.0001,\n",
    "                                              min_lr=1e-8)\n",
    "callbacks = [lr_scheduler_callback]"
   ]
  },
  {
   "cell_type": "code",
   "execution_count": 173,
   "id": "de74808b",
   "metadata": {},
   "outputs": [
    {
     "name": "stdout",
     "output_type": "stream",
     "text": [
      "Epoch 1/5\n",
      "188/188 [==============================] - 3s 15ms/step - loss: 0.0448 - auc_5: 0.9987 - accuracy: 0.9861 - val_loss: 0.0017 - val_auc_5: 1.0000 - val_accuracy: 0.9984 - lr: 0.0010\n",
      "Epoch 2/5\n",
      "188/188 [==============================] - 3s 14ms/step - loss: 0.0032 - auc_5: 0.9999 - accuracy: 0.9992 - val_loss: 3.5301e-04 - val_auc_5: 1.0000 - val_accuracy: 1.0000 - lr: 0.0010\n",
      "Epoch 3/5\n",
      "188/188 [==============================] - 3s 15ms/step - loss: 0.0023 - auc_5: 1.0000 - accuracy: 0.9992 - val_loss: 3.5332e-04 - val_auc_5: 1.0000 - val_accuracy: 1.0000 - lr: 0.0010\n",
      "Epoch 4/5\n",
      "188/188 [==============================] - 3s 14ms/step - loss: 0.0012 - auc_5: 1.0000 - accuracy: 0.9996 - val_loss: 0.0014 - val_auc_5: 1.0000 - val_accuracy: 0.9984 - lr: 0.0010\n",
      "Epoch 5/5\n",
      "188/188 [==============================] - 3s 17ms/step - loss: 4.8724e-04 - auc_5: 1.0000 - accuracy: 0.9999 - val_loss: 3.3668e-04 - val_auc_5: 1.0000 - val_accuracy: 1.0000 - lr: 0.0010\n"
     ]
    },
    {
     "data": {
      "text/plain": [
       "<keras.callbacks.History at 0x7f46c5856dc0>"
      ]
     },
     "execution_count": 173,
     "metadata": {},
     "output_type": "execute_result"
    }
   ],
   "source": [
    "cnn.fit(data, callbacks)"
   ]
  },
  {
   "cell_type": "code",
   "execution_count": 174,
   "id": "703babe5",
   "metadata": {
    "ExecuteTime": {
     "end_time": "2022-09-25T13:45:20.882913Z",
     "start_time": "2022-09-25T13:45:18.596464Z"
    }
   },
   "outputs": [
    {
     "name": "stdout",
     "output_type": "stream",
     "text": [
      "34/34 [==============================] - 0s 11ms/step - loss: 0.0295 - auc_5: 0.9991 - accuracy: 0.9991\n"
     ]
    },
    {
     "data": {
      "text/plain": [
       "[0.02951101027429104,\n",
       " 0.9990521669387817,\n",
       " 0.9990543723106384,\n",
       " 0.9990521669387817]"
      ]
     },
     "execution_count": 174,
     "metadata": {},
     "output_type": "execute_result"
    }
   ],
   "source": [
    "cnn.test(data, callbacks)"
   ]
  },
  {
   "cell_type": "code",
   "execution_count": 175,
   "id": "f574eefe",
   "metadata": {},
   "outputs": [],
   "source": [
    "args = argparse.Namespace()\n",
    "\n",
    "# Data\n",
    "args.standardize = 1\n",
    "args.binary_data = [0,1]\n",
    "args.batch_size = 64\n",
    "args.validation_split = 0.05\n",
    "args.hinge_labels = 1\n",
    "\n",
    "# Base Model\n",
    "args.learning_rate = 1e-3\n",
    "args.epochs = 5\n",
    "\n",
    "# Quantum layers\n",
    "args.feature_map = 'AngleMap'\n",
    "args.ansatz = 'TTN'\n",
    "args.n_layers = 1"
   ]
  },
  {
   "cell_type": "code",
   "execution_count": 176,
   "id": "44d1785e",
   "metadata": {},
   "outputs": [
    {
     "name": "stdout",
     "output_type": "stream",
     "text": [
      "Binarizing data...\n",
      "Binarizing data...\n",
      "Standardizing data...\n",
      "Hinge labels...\n",
      "Hinge labels...\n",
      "\n",
      "Dataset :MNIST\n",
      "╒════════╤════════════════════╤══════════════════╤═══════════════════╤═════════════╕\n",
      "│ Data   │ Train size         │ Val size         │ Test size         │ Dims        │\n",
      "╞════════╪════════════════════╪══════════════════╪═══════════════════╪═════════════╡\n",
      "│ X      │ (12031, 28, 28, 1) │ (634, 28, 28, 1) │ (2115, 28, 28, 1) │ (28, 28, 1) │\n",
      "├────────┼────────────────────┼──────────────────┼───────────────────┼─────────────┤\n",
      "│ y      │ (12031,)           │ (634,)           │ (2115,)           │ (1,)        │\n",
      "╘════════╧════════════════════╧══════════════════╧═══════════════════╧═════════════╛\n",
      "\n",
      "╒══════════════╤═══════╤════════╤════════╤═══════╤══════════════════════════╕\n",
      "│ Type         │   Min │    Max │   Mean │   Std │ Samples for each class   │\n",
      "╞══════════════╪═══════╪════════╪════════╪═══════╪══════════════════════════╡\n",
      "│ Train Images │ -1.47 │ 112.53 │  -0    │  0.89 │ [0, 5626]                │\n",
      "├──────────────┼───────┼────────┼────────┼───────┼──────────────────────────┤\n",
      "│ Val Images   │ -1.47 │ 112.53 │   0.01 │  0.91 │ [0, 297]                 │\n",
      "├──────────────┼───────┼────────┼────────┼───────┼──────────────────────────┤\n",
      "│ Test Images  │ -1.47 │ 945.36 │  -0    │  1.18 │ [0, 980]                 │\n",
      "╘══════════════╧═══════╧════════╧════════╧═══════╧══════════════════════════╛\n",
      "\n",
      "\n"
     ]
    }
   ],
   "source": [
    "data = MNIST(args)\n",
    "data.prepare_data()\n",
    "data.setup()\n",
    "print(data)"
   ]
  },
  {
   "cell_type": "code",
   "execution_count": 177,
   "id": "368b22fb",
   "metadata": {},
   "outputs": [
    {
     "data": {
      "text/plain": [
       "{'input_dims': (28, 28, 1), 'output_dims': (1,), 'mapping': [0, 1]}"
      ]
     },
     "execution_count": 177,
     "metadata": {},
     "output_type": "execute_result"
    }
   ],
   "source": [
    "data.config()"
   ]
  },
  {
   "cell_type": "code",
   "execution_count": 178,
   "id": "9f40f3bb",
   "metadata": {},
   "outputs": [],
   "source": [
    "input_dims = data.config()['input_dims']"
   ]
  },
  {
   "cell_type": "code",
   "execution_count": 179,
   "id": "28966dda",
   "metadata": {},
   "outputs": [],
   "source": [
    "model = models.Sequential()\n",
    "\n",
    "for l in cnn.convs:\n",
    "    model.add(l)\n",
    "    \n",
    "model.add(cnn.flatten)\n",
    "\n",
    "for l in cnn.fcs[:-1]:\n",
    "    model.add(l)"
   ]
  },
  {
   "cell_type": "code",
   "execution_count": 180,
   "id": "7f5c7891",
   "metadata": {},
   "outputs": [],
   "source": [
    "for l in model.layers:\n",
    "    l.trainable = False"
   ]
  },
  {
   "cell_type": "code",
   "execution_count": 181,
   "id": "960240f4",
   "metadata": {},
   "outputs": [
    {
     "name": "stdout",
     "output_type": "stream",
     "text": [
      "[None, 28, 28, 1]\n",
      "8\n",
      "8 8\n"
     ]
    }
   ],
   "source": [
    "in_shape = [None] + list(input_dims)\n",
    "print(in_shape)\n",
    "\n",
    "cnn_out_shape = model.compute_output_shape(in_shape)[1:][0]\n",
    "print(cnn_out_shape)\n",
    "\n",
    "n_qubits = get_count_of_qubits(args.feature_map,cnn_out_shape)\n",
    "n_inputs = get_num_in_symbols(args.feature_map,cnn_out_shape)\n",
    "\n",
    "print(n_qubits, n_inputs)"
   ]
  },
  {
   "cell_type": "code",
   "execution_count": 182,
   "id": "c13fc978",
   "metadata": {},
   "outputs": [],
   "source": [
    "feature_map = _import_class(f\"qml_hep_lhc.encodings.{args.feature_map}\")()\n",
    "ansatz = _import_class(f\"qml_hep_lhc.ansatzes.{args.ansatz}\")()\n",
    "\n",
    "vqc = TwoLayerPQC(\n",
    "    n_qubits,\n",
    "    n_inputs,\n",
    "    feature_map,\n",
    "    ansatz,\n",
    "    args.n_layers,\n",
    ")"
   ]
  },
  {
   "cell_type": "code",
   "execution_count": 183,
   "id": "ff49e232",
   "metadata": {},
   "outputs": [],
   "source": [
    "model.add(vqc)"
   ]
  },
  {
   "cell_type": "code",
   "execution_count": 184,
   "id": "b90cc262",
   "metadata": {},
   "outputs": [],
   "source": [
    "model.compile(optimizer=optimizers.Adam(learning_rate=args.learning_rate),\n",
    "              loss=tf.keras.losses.MeanSquaredError(),\n",
    "              metrics=[qAUC(), custom_accuracy])"
   ]
  },
  {
   "cell_type": "code",
   "execution_count": 185,
   "id": "651794ed",
   "metadata": {},
   "outputs": [
    {
     "name": "stdout",
     "output_type": "stream",
     "text": [
      "Model: \"sequential_13\"\n",
      "_________________________________________________________________\n",
      " Layer (type)                Output Shape              Param #   \n",
      "=================================================================\n",
      " conv2d_9 (Conv2D)           (None, 28, 28, 4)         40        \n",
      "                                                                 \n",
      " conv2d_10 (Conv2D)          (None, 28, 28, 4)         148       \n",
      "                                                                 \n",
      " flatten_5 (Flatten)         (None, 3136)              0         \n",
      "                                                                 \n",
      " dense_14 (Dense)            (None, 8)                 25096     \n",
      "                                                                 \n",
      " dense_15 (Dense)            (None, 8)                 72        \n",
      "                                                                 \n",
      " TwoLayerPQC (TwoLayerPQC)   (None, 1)                 30        \n",
      "                                                                 \n",
      "=================================================================\n",
      "Total params: 25,386\n",
      "Trainable params: 22\n",
      "Non-trainable params: 25,364\n",
      "_________________________________________________________________\n"
     ]
    }
   ],
   "source": [
    "model.summary()"
   ]
  },
  {
   "cell_type": "code",
   "execution_count": 186,
   "id": "6fd238e9",
   "metadata": {},
   "outputs": [
    {
     "name": "stdout",
     "output_type": "stream",
     "text": [
      "Epoch 1/5\n",
      "188/188 [==============================] - ETA: 0s - loss: 0.6689 - q_auc_5: 0.9829 - custom_accuracy: 0.9865WARNING:tensorflow:Learning rate reduction is conditioned on metric `val_loss` which is not available. Available metrics are: loss,q_auc_5,custom_accuracy,lr\n",
      "188/188 [==============================] - 11s 57ms/step - loss: 0.6689 - q_auc_5: 0.9829 - custom_accuracy: 0.9865 - lr: 0.0010\n",
      "Epoch 2/5\n",
      "188/188 [==============================] - ETA: 0s - loss: 0.0723 - q_auc_5: 0.9975 - custom_accuracy: 0.9896WARNING:tensorflow:Learning rate reduction is conditioned on metric `val_loss` which is not available. Available metrics are: loss,q_auc_5,custom_accuracy,lr\n",
      "188/188 [==============================] - 11s 58ms/step - loss: 0.0723 - q_auc_5: 0.9975 - custom_accuracy: 0.9896 - lr: 0.0010\n",
      "Epoch 3/5\n",
      "188/188 [==============================] - ETA: 0s - loss: 0.0271 - q_auc_5: 0.9993 - custom_accuracy: 0.9933WARNING:tensorflow:Learning rate reduction is conditioned on metric `val_loss` which is not available. Available metrics are: loss,q_auc_5,custom_accuracy,lr\n",
      "188/188 [==============================] - 11s 57ms/step - loss: 0.0271 - q_auc_5: 0.9993 - custom_accuracy: 0.9933 - lr: 0.0010\n",
      "Epoch 4/5\n",
      "188/188 [==============================] - ETA: 0s - loss: 0.0149 - q_auc_5: 0.9995 - custom_accuracy: 0.9959WARNING:tensorflow:Learning rate reduction is conditioned on metric `val_loss` which is not available. Available metrics are: loss,q_auc_5,custom_accuracy,lr\n",
      "188/188 [==============================] - 11s 58ms/step - loss: 0.0149 - q_auc_5: 0.9995 - custom_accuracy: 0.9959 - lr: 0.0010\n",
      "Epoch 5/5\n",
      "188/188 [==============================] - ETA: 0s - loss: 0.0118 - q_auc_5: 0.9996 - custom_accuracy: 0.9969WARNING:tensorflow:Learning rate reduction is conditioned on metric `val_loss` which is not available. Available metrics are: loss,q_auc_5,custom_accuracy,lr\n",
      "188/188 [==============================] - 11s 58ms/step - loss: 0.0118 - q_auc_5: 0.9996 - custom_accuracy: 0.9969 - lr: 0.0010\n"
     ]
    },
    {
     "data": {
      "text/plain": [
       "<keras.callbacks.History at 0x7f464e347e50>"
      ]
     },
     "execution_count": 186,
     "metadata": {},
     "output_type": "execute_result"
    }
   ],
   "source": [
    "model.fit(data.train_ds, callbacks = callbacks, epochs = args.epochs)"
   ]
  },
  {
   "cell_type": "code",
   "execution_count": 187,
   "id": "e227d000",
   "metadata": {},
   "outputs": [
    {
     "name": "stdout",
     "output_type": "stream",
     "text": [
      "34/34 [==============================] - 2s 41ms/step - loss: 0.0154 - q_auc_5: 0.9981 - custom_accuracy: 0.9954\n"
     ]
    },
    {
     "data": {
      "text/plain": [
       "[0.015427658334374428, 0.9980819225311279, 0.9954044222831726]"
      ]
     },
     "execution_count": 187,
     "metadata": {},
     "output_type": "execute_result"
    }
   ],
   "source": [
    "model.evaluate(data.test_ds)"
   ]
  }
 ],
 "metadata": {
  "kernelspec": {
   "display_name": "Python (qenv)",
   "language": "python",
   "name": "qenv"
  },
  "language_info": {
   "codemirror_mode": {
    "name": "ipython",
    "version": 3
   },
   "file_extension": ".py",
   "mimetype": "text/x-python",
   "name": "python",
   "nbconvert_exporter": "python",
   "pygments_lexer": "ipython3",
   "version": "3.8.1"
  },
  "latex_envs": {
   "LaTeX_envs_menu_present": true,
   "autoclose": false,
   "autocomplete": true,
   "bibliofile": "biblio.bib",
   "cite_by": "apalike",
   "current_citInitial": 1,
   "eqLabelWithNumbers": true,
   "eqNumInitial": 1,
   "hotkeys": {
    "equation": "Ctrl-E",
    "itemize": "Ctrl-I"
   },
   "labels_anchors": false,
   "latex_user_defs": false,
   "report_style_numbering": false,
   "user_envs_cfg": false
  },
  "toc": {
   "base_numbering": 1,
   "nav_menu": {},
   "number_sections": true,
   "sideBar": true,
   "skip_h1_title": false,
   "title_cell": "Table of Contents",
   "title_sidebar": "Contents",
   "toc_cell": false,
   "toc_position": {},
   "toc_section_display": true,
   "toc_window_display": false
  }
 },
 "nbformat": 4,
 "nbformat_minor": 5
}
