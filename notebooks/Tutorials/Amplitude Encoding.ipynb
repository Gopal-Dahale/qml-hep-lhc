{
 "cells": [
  {
   "cell_type": "code",
   "execution_count": 5,
   "id": "461d4630",
   "metadata": {
    "ExecuteTime": {
     "end_time": "2022-09-24T16:45:37.569015Z",
     "start_time": "2022-09-24T16:45:37.478725Z"
    }
   },
   "outputs": [
    {
     "name": "stdout",
     "output_type": "stream",
     "text": [
      "The autoreload extension is already loaded. To reload it, use:\n",
      "  %reload_ext autoreload\n"
     ]
    }
   ],
   "source": [
    "%load_ext autoreload\n",
    "%autoreload 2\n",
    "\n",
    "%matplotlib inline\n",
    "\n",
    "from importlib.util import find_spec\n",
    "if find_spec(\"qml_hep_lhc\") is None:\n",
    "    import sys\n",
    "    sys.path.append('..')"
   ]
  },
  {
   "cell_type": "code",
   "execution_count": 6,
   "id": "7fcb46a1",
   "metadata": {
    "ExecuteTime": {
     "end_time": "2022-09-24T16:45:39.161373Z",
     "start_time": "2022-09-24T16:45:38.719309Z"
    }
   },
   "outputs": [],
   "source": [
    "from qml_hep_lhc.encodings import AmplitudeMap\n",
    "from qml_hep_lhc.data import ElectronPhoton\n",
    "import sympy as sp\n",
    "import argparse\n",
    "from qml_hep_lhc.layers.utils import get_count_of_qubits, get_num_in_symbols\n",
    "from qml_hep_lhc.layers.utils import symbols_in_expr_map, resolve_formulas\n",
    "from tensorflow import pad, constant\n",
    "import tensorflow as tf"
   ]
  },
  {
   "cell_type": "code",
   "execution_count": 9,
   "id": "b0d3fc43",
   "metadata": {
    "ExecuteTime": {
     "end_time": "2022-09-24T16:46:07.534416Z",
     "start_time": "2022-09-24T16:46:07.447895Z"
    }
   },
   "outputs": [
    {
     "data": {
      "text/plain": [
       "(2, 4)"
      ]
     },
     "execution_count": 9,
     "metadata": {},
     "output_type": "execute_result"
    }
   ],
   "source": [
    "n_qubits = get_count_of_qubits('AmplitudeMap',4)\n",
    "n_inputs = get_num_in_symbols('AmplitudeMap', 4)\n",
    "\n",
    "n_qubits, n_inputs"
   ]
  },
  {
   "cell_type": "code",
   "execution_count": 10,
   "id": "32361e07",
   "metadata": {
    "ExecuteTime": {
     "end_time": "2022-09-24T16:46:08.181737Z",
     "start_time": "2022-09-24T16:46:08.097833Z"
    }
   },
   "outputs": [
    {
     "data": {
      "text/plain": [
       "array([[x0, x1, x2, x3]], dtype=object)"
      ]
     },
     "execution_count": 10,
     "metadata": {},
     "output_type": "execute_result"
    }
   ],
   "source": [
    "in_symbols = sp.symbols(f'x0:{n_inputs}')\n",
    "in_symbols = np.asarray(in_symbols).reshape(1,n_inputs)\n",
    "\n",
    "in_symbols"
   ]
  },
  {
   "cell_type": "code",
   "execution_count": 11,
   "id": "8136b212",
   "metadata": {
    "ExecuteTime": {
     "end_time": "2022-09-24T16:46:09.855844Z",
     "start_time": "2022-09-24T16:46:09.432915Z"
    }
   },
   "outputs": [
    {
     "name": "stderr",
     "output_type": "stream",
     "text": [
      "../qml_hep_lhc/encodings/amplitude.py:13: UserWarning: AmplitudeMap currently does not normalize the input unless padding is needed.\n",
      "User must manually normalize the input.\n",
      "  \"AmplitudeMap currently does not normalize the input unless padding is needed.\\nUser must manually normalize the input.\"\n"
     ]
    }
   ],
   "source": [
    "qubits = cirq.GridQubit.rect(1,n_qubits)\n",
    "circuit = cirq.Circuit()\n",
    "circuit += AmplitudeMap().build(qubits,in_symbols[0])"
   ]
  },
  {
   "cell_type": "code",
   "execution_count": 12,
   "id": "56ac448b",
   "metadata": {
    "ExecuteTime": {
     "end_time": "2022-09-24T16:46:19.082160Z",
     "start_time": "2022-09-24T16:46:18.998436Z"
    }
   },
   "outputs": [
    {
     "data": {
      "text/html": [
       "<pre style=\"overflow: auto; white-space: pre;\">(0, 0): ───Ry(2*asin((Abs(x2)**2 + Abs(x3)**2)**0.5*(Abs(x0)**2 + Abs(x1)**2 + Abs(x2)**2 + Abs(x3)**2)**(-0.5)))───@────────────────────────────────────────────────────────────X───@────────────────────────────────────────────────────────────X───\n",
       "                                                                                                                    │                                                                │\n",
       "(0, 1): ────────────────────────────────────────────────────────────────────────────────────────────────────────────Ry(2*asin((Abs(x2)**2 + Abs(x3)**2)**(-0.5)*Abs(x3)**1.0))───────Ry(2*asin((Abs(x0)**2 + Abs(x1)**2)**(-0.5)*Abs(x1)**1.0))───────</pre>"
      ],
      "text/plain": [
       "(0, 0): ───Ry(2*asin((Abs(x2)**2 + Abs(x3)**2)**0.5*(Abs(x0)**2 + Abs(x1)**2 + Abs(x2)**2 + Abs(x3)**2)**(-0.5)))───@────────────────────────────────────────────────────────────X───@────────────────────────────────────────────────────────────X───\n",
       "                                                                                                                    │                                                                │\n",
       "(0, 1): ────────────────────────────────────────────────────────────────────────────────────────────────────────────Ry(2*asin((Abs(x2)**2 + Abs(x3)**2)**(-0.5)*Abs(x3)**1.0))───────Ry(2*asin((Abs(x0)**2 + Abs(x1)**2)**(-0.5)*Abs(x1)**1.0))───────"
      ]
     },
     "execution_count": 12,
     "metadata": {},
     "output_type": "execute_result"
    }
   ],
   "source": [
    "circuit"
   ]
  },
  {
   "cell_type": "code",
   "execution_count": 13,
   "id": "e7db6643",
   "metadata": {
    "ExecuteTime": {
     "end_time": "2022-09-24T16:46:53.850440Z",
     "start_time": "2022-09-24T16:46:53.776212Z"
    }
   },
   "outputs": [],
   "source": [
    "circuit, expr_map = cirq.flatten(circuit)\n",
    "raw_in_symbols = symbols_in_expr_map(expr_map)\n",
    "data_expr = list(expr_map)"
   ]
  },
  {
   "cell_type": "code",
   "execution_count": 14,
   "id": "c5af5961",
   "metadata": {
    "ExecuteTime": {
     "end_time": "2022-09-24T16:47:05.187645Z",
     "start_time": "2022-09-24T16:47:05.105911Z"
    }
   },
   "outputs": [],
   "source": [
    "input_resolver = resolve_formulas(data_expr, raw_in_symbols)"
   ]
  },
  {
   "cell_type": "code",
   "execution_count": 51,
   "id": "d42abb13",
   "metadata": {
    "ExecuteTime": {
     "end_time": "2022-09-24T16:53:13.918974Z",
     "start_time": "2022-09-24T16:53:13.817256Z"
    }
   },
   "outputs": [
    {
     "data": {
      "text/plain": [
       "array([[0.18257418, 0.36514837, 0.5477225 , 0.73029673]], dtype=float32)"
      ]
     },
     "execution_count": 51,
     "metadata": {},
     "output_type": "execute_result"
    }
   ],
   "source": [
    "x = np.array([[1,2,3,4]], dtype=np.float32)\n",
    "d = np.sqrt(np.sum(np.square(x)))\n",
    "x = x/d\n",
    "x"
   ]
  },
  {
   "cell_type": "code",
   "execution_count": 52,
   "id": "093d57b8",
   "metadata": {
    "ExecuteTime": {
     "end_time": "2022-09-24T16:53:14.436129Z",
     "start_time": "2022-09-24T16:53:14.358277Z"
    }
   },
   "outputs": [
    {
     "data": {
      "text/plain": [
       "<tf.Tensor: shape=(1, 3), dtype=float32, numpy=array([[0.7322796, 0.5903344, 0.7048327]], dtype=float32)>"
      ]
     },
     "execution_count": 52,
     "metadata": {},
     "output_type": "execute_result"
    }
   ],
   "source": [
    "resolved_x = input_resolver(x)\n",
    "resolved_x"
   ]
  },
  {
   "cell_type": "code",
   "execution_count": 53,
   "id": "5745f53a",
   "metadata": {
    "ExecuteTime": {
     "end_time": "2022-09-24T16:53:18.262168Z",
     "start_time": "2022-09-24T16:53:18.187741Z"
    }
   },
   "outputs": [],
   "source": [
    "resolver = cirq.ParamResolver()"
   ]
  },
  {
   "cell_type": "code",
   "execution_count": 86,
   "id": "7e79c280",
   "metadata": {
    "ExecuteTime": {
     "end_time": "2022-09-24T16:56:26.359143Z",
     "start_time": "2022-09-24T16:56:26.279503Z"
    }
   },
   "outputs": [
    {
     "data": {
      "text/html": [
       "<pre style=\"overflow: auto; white-space: pre;\">(0, 0): ───Ry(0.732π)───@───────────X───@────────────X───\n",
       "                        │               │\n",
       "(0, 1): ────────────────Ry(0.59π)───────Ry(0.705π)───────</pre>"
      ],
      "text/plain": [
       "(0, 0): ───Ry(0.732π)───@───────────X───@────────────X───\n",
       "                        │               │\n",
       "(0, 1): ────────────────Ry(0.59π)───────Ry(0.705π)───────"
      ]
     },
     "execution_count": 86,
     "metadata": {},
     "output_type": "execute_result"
    }
   ],
   "source": [
    "params = { j: resolved_x[0][i].numpy()  for i,j  in enumerate(list(expr_map.values()))}\n",
    "qc = cirq.resolve_parameters(circuit, params )\n",
    "qc"
   ]
  },
  {
   "cell_type": "code",
   "execution_count": 87,
   "id": "20a4e9d5",
   "metadata": {
    "ExecuteTime": {
     "end_time": "2022-09-24T16:56:28.116287Z",
     "start_time": "2022-09-24T16:56:28.038919Z"
    }
   },
   "outputs": [],
   "source": [
    "qc += cirq.measure(*qubits, key='result')"
   ]
  },
  {
   "cell_type": "code",
   "execution_count": 91,
   "id": "43a6b6fa",
   "metadata": {
    "ExecuteTime": {
     "end_time": "2022-09-24T16:56:36.290122Z",
     "start_time": "2022-09-24T16:56:36.131982Z"
    }
   },
   "outputs": [],
   "source": [
    "s=cirq.Simulator()\n",
    "shots = 10000\n",
    "samples=s.run(qc, repetitions=shots)\n",
    "res = dict(samples.histogram(key=\"result\"))\n",
    "for key, value in res.items():\n",
    "    res[key] = value/shots"
   ]
  },
  {
   "cell_type": "code",
   "execution_count": 92,
   "id": "f4b0c337",
   "metadata": {
    "ExecuteTime": {
     "end_time": "2022-09-24T16:56:36.403447Z",
     "start_time": "2022-09-24T16:56:36.324251Z"
    }
   },
   "outputs": [
    {
     "name": "stdout",
     "output_type": "stream",
     "text": [
      "0 0.0334\n",
      "1 0.1308\n",
      "2 0.2986\n",
      "3 0.5372\n"
     ]
    }
   ],
   "source": [
    "od = collections.OrderedDict(sorted(res.items()))\n",
    "\n",
    "for k, v in od.items():\n",
    "    print(k,v)"
   ]
  },
  {
   "cell_type": "code",
   "execution_count": 93,
   "id": "59c928fa",
   "metadata": {
    "ExecuteTime": {
     "end_time": "2022-09-24T16:56:36.622909Z",
     "start_time": "2022-09-24T16:56:36.531458Z"
    }
   },
   "outputs": [
    {
     "name": "stdout",
     "output_type": "stream",
     "text": [
      "0 0.03333333\n",
      "1 0.13333333\n",
      "2 0.29999995\n",
      "3 0.5333333\n"
     ]
    }
   ],
   "source": [
    "probs = np.square(x)[0]\n",
    "for i, j in enumerate(probs):\n",
    "    print(i,j)"
   ]
  }
 ],
 "metadata": {
  "kernelspec": {
   "display_name": "Python (qenv)",
   "language": "python",
   "name": "qenv"
  },
  "language_info": {
   "codemirror_mode": {
    "name": "ipython",
    "version": 3
   },
   "file_extension": ".py",
   "mimetype": "text/x-python",
   "name": "python",
   "nbconvert_exporter": "python",
   "pygments_lexer": "ipython3",
   "version": "3.7.13"
  },
  "latex_envs": {
   "LaTeX_envs_menu_present": true,
   "autoclose": false,
   "autocomplete": true,
   "bibliofile": "biblio.bib",
   "cite_by": "apalike",
   "current_citInitial": 1,
   "eqLabelWithNumbers": true,
   "eqNumInitial": 1,
   "hotkeys": {
    "equation": "Ctrl-E",
    "itemize": "Ctrl-I"
   },
   "labels_anchors": false,
   "latex_user_defs": false,
   "report_style_numbering": false,
   "user_envs_cfg": false
  },
  "toc": {
   "base_numbering": 1,
   "nav_menu": {},
   "number_sections": true,
   "sideBar": true,
   "skip_h1_title": false,
   "title_cell": "Table of Contents",
   "title_sidebar": "Contents",
   "toc_cell": false,
   "toc_position": {},
   "toc_section_display": true,
   "toc_window_display": false
  }
 },
 "nbformat": 4,
 "nbformat_minor": 5
}
